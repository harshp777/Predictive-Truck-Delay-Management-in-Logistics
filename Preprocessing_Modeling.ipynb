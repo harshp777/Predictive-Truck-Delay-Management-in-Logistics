{
 "cells": [
  {
   "cell_type": "code",
   "execution_count": 1,
   "metadata": {},
   "outputs": [],
   "source": [
    "import pandas as pd\n",
    "import warnings\n",
    "warnings.filterwarnings(\"ignore\")\n",
    "import hopsworks"
   ]
  },
  {
   "cell_type": "code",
   "execution_count": 2,
   "metadata": {},
   "outputs": [
    {
     "name": "stdout",
     "output_type": "stream",
     "text": [
      "Connected. Call `.close()` to terminate connection gracefully.\n"
     ]
    },
    {
     "name": "stdout",
     "output_type": "stream",
     "text": [
      "\n",
      "Logged in to project, explore it here https://c.app.hopsworks.ai:443/p/903317\n",
      "Connected. Call `.close()` to terminate connection gracefully.\n"
     ]
    }
   ],
   "source": [
    "\n",
    "# Log in to the Hopsworks project\n",
    "project = hopsworks.login()\n",
    "# Get the feature store associated with the project\n",
    "fs = project.get_feature_store()"
   ]
  },
  {
   "cell_type": "code",
   "execution_count": 3,
   "metadata": {},
   "outputs": [],
   "source": [
    "# Retrieve final\n",
    "final_data = fs.get_feature_group('final_data', version=1)"
   ]
  },
  {
   "cell_type": "code",
   "execution_count": 4,
   "metadata": {},
   "outputs": [],
   "source": [
    "# Select the query\n",
    "query = final_data.select_all()"
   ]
  },
  {
   "cell_type": "code",
   "execution_count": 5,
   "metadata": {},
   "outputs": [
    {
     "name": "stdout",
     "output_type": "stream",
     "text": [
      "2024-08-05 16:15:13,776 WARNING: DeprecationWarning: ssl.PROTOCOL_TLS is deprecated\n",
      "\n",
      "Finished: Reading data from Hopsworks, using Hive (5.42s) \n"
     ]
    }
   ],
   "source": [
    "# Read all data\n",
    "final_merge = query.read(read_options={\"use_hive\": True})"
   ]
  },
  {
   "cell_type": "code",
   "execution_count": 6,
   "metadata": {},
   "outputs": [
    {
     "data": {
      "text/html": [
       "<div>\n",
       "<style scoped>\n",
       "    .dataframe tbody tr th:only-of-type {\n",
       "        vertical-align: middle;\n",
       "    }\n",
       "\n",
       "    .dataframe tbody tr th {\n",
       "        vertical-align: top;\n",
       "    }\n",
       "\n",
       "    .dataframe thead th {\n",
       "        text-align: right;\n",
       "    }\n",
       "</style>\n",
       "<table border=\"1\" class=\"dataframe\">\n",
       "  <thead>\n",
       "    <tr style=\"text-align: right;\">\n",
       "      <th></th>\n",
       "      <th>unique_id</th>\n",
       "      <th>truck_id</th>\n",
       "      <th>route_id</th>\n",
       "      <th>departure_date</th>\n",
       "      <th>estimated_arrival</th>\n",
       "      <th>delay</th>\n",
       "      <th>route_avg_temp</th>\n",
       "      <th>route_avg_wind_speed</th>\n",
       "      <th>route_avg_precip</th>\n",
       "      <th>route_avg_humidity</th>\n",
       "      <th>...</th>\n",
       "      <th>driver_id</th>\n",
       "      <th>name</th>\n",
       "      <th>gender</th>\n",
       "      <th>age</th>\n",
       "      <th>experience</th>\n",
       "      <th>driving_style</th>\n",
       "      <th>ratings</th>\n",
       "      <th>vehicle_no</th>\n",
       "      <th>average_speed_mph</th>\n",
       "      <th>is_midnight</th>\n",
       "    </tr>\n",
       "  </thead>\n",
       "  <tbody>\n",
       "    <tr>\n",
       "      <th>0</th>\n",
       "      <td>3725</td>\n",
       "      <td>10497416</td>\n",
       "      <td>R-2c5432ed</td>\n",
       "      <td>2019-02-10 07:00:00</td>\n",
       "      <td>2019-02-12 16:54:00</td>\n",
       "      <td>1</td>\n",
       "      <td>28.818182</td>\n",
       "      <td>6.727273</td>\n",
       "      <td>0.0</td>\n",
       "      <td>51.272727</td>\n",
       "      <td>...</td>\n",
       "      <td>3fff1b6e-e</td>\n",
       "      <td>Brandon Cruz</td>\n",
       "      <td>male</td>\n",
       "      <td>53</td>\n",
       "      <td>23</td>\n",
       "      <td>proactive</td>\n",
       "      <td>6</td>\n",
       "      <td>10497416</td>\n",
       "      <td>59.77</td>\n",
       "      <td>1</td>\n",
       "    </tr>\n",
       "    <tr>\n",
       "      <th>1</th>\n",
       "      <td>4299</td>\n",
       "      <td>28978466</td>\n",
       "      <td>R-f8640cff</td>\n",
       "      <td>2019-01-19 07:00:00</td>\n",
       "      <td>2019-01-19 12:44:24</td>\n",
       "      <td>0</td>\n",
       "      <td>46.000000</td>\n",
       "      <td>9.000000</td>\n",
       "      <td>0.0</td>\n",
       "      <td>75.000000</td>\n",
       "      <td>...</td>\n",
       "      <td>c3362ffc-f</td>\n",
       "      <td>Brian Garcia</td>\n",
       "      <td>male</td>\n",
       "      <td>49</td>\n",
       "      <td>5</td>\n",
       "      <td>conservative</td>\n",
       "      <td>8</td>\n",
       "      <td>28978466</td>\n",
       "      <td>45.73</td>\n",
       "      <td>0</td>\n",
       "    </tr>\n",
       "    <tr>\n",
       "      <th>2</th>\n",
       "      <td>4448</td>\n",
       "      <td>12911518</td>\n",
       "      <td>R-18468971</td>\n",
       "      <td>2019-01-25 07:00:00</td>\n",
       "      <td>2019-01-25 23:40:12</td>\n",
       "      <td>1</td>\n",
       "      <td>54.000000</td>\n",
       "      <td>9.750000</td>\n",
       "      <td>0.0</td>\n",
       "      <td>52.250000</td>\n",
       "      <td>...</td>\n",
       "      <td>0ce6d439-4</td>\n",
       "      <td>Jeremy Hurst PhD</td>\n",
       "      <td>male</td>\n",
       "      <td>57</td>\n",
       "      <td>19</td>\n",
       "      <td>proactive</td>\n",
       "      <td>7</td>\n",
       "      <td>12911518</td>\n",
       "      <td>60.84</td>\n",
       "      <td>0</td>\n",
       "    </tr>\n",
       "    <tr>\n",
       "      <th>3</th>\n",
       "      <td>9783</td>\n",
       "      <td>61984883</td>\n",
       "      <td>R-d87e53cd</td>\n",
       "      <td>2019-02-09 07:00:00</td>\n",
       "      <td>2019-02-09 20:38:24</td>\n",
       "      <td>0</td>\n",
       "      <td>80.500000</td>\n",
       "      <td>10.000000</td>\n",
       "      <td>0.0</td>\n",
       "      <td>63.500000</td>\n",
       "      <td>...</td>\n",
       "      <td>42aa7479-5</td>\n",
       "      <td>Jerry Powers</td>\n",
       "      <td>male</td>\n",
       "      <td>41</td>\n",
       "      <td>7</td>\n",
       "      <td>conservative</td>\n",
       "      <td>2</td>\n",
       "      <td>61984883</td>\n",
       "      <td>56.94</td>\n",
       "      <td>0</td>\n",
       "    </tr>\n",
       "    <tr>\n",
       "      <th>4</th>\n",
       "      <td>12209</td>\n",
       "      <td>30312694</td>\n",
       "      <td>R-483bf9db</td>\n",
       "      <td>2019-01-16 07:00:00</td>\n",
       "      <td>2019-01-16 09:03:36</td>\n",
       "      <td>0</td>\n",
       "      <td>67.500000</td>\n",
       "      <td>7.500000</td>\n",
       "      <td>0.0</td>\n",
       "      <td>88.500000</td>\n",
       "      <td>...</td>\n",
       "      <td>94ed3e6d-f</td>\n",
       "      <td>Manuel Wise</td>\n",
       "      <td>male</td>\n",
       "      <td>48</td>\n",
       "      <td>9</td>\n",
       "      <td>proactive</td>\n",
       "      <td>7</td>\n",
       "      <td>30312694</td>\n",
       "      <td>57.36</td>\n",
       "      <td>0</td>\n",
       "    </tr>\n",
       "  </tbody>\n",
       "</table>\n",
       "<p>5 rows × 49 columns</p>\n",
       "</div>"
      ],
      "text/plain": [
       "   unique_id  truck_id    route_id      departure_date   estimated_arrival  \\\n",
       "0       3725  10497416  R-2c5432ed 2019-02-10 07:00:00 2019-02-12 16:54:00   \n",
       "1       4299  28978466  R-f8640cff 2019-01-19 07:00:00 2019-01-19 12:44:24   \n",
       "2       4448  12911518  R-18468971 2019-01-25 07:00:00 2019-01-25 23:40:12   \n",
       "3       9783  61984883  R-d87e53cd 2019-02-09 07:00:00 2019-02-09 20:38:24   \n",
       "4      12209  30312694  R-483bf9db 2019-01-16 07:00:00 2019-01-16 09:03:36   \n",
       "\n",
       "   delay  route_avg_temp  route_avg_wind_speed  route_avg_precip  \\\n",
       "0      1       28.818182              6.727273               0.0   \n",
       "1      0       46.000000              9.000000               0.0   \n",
       "2      1       54.000000              9.750000               0.0   \n",
       "3      0       80.500000             10.000000               0.0   \n",
       "4      0       67.500000              7.500000               0.0   \n",
       "\n",
       "   route_avg_humidity  ...   driver_id              name gender age  \\\n",
       "0           51.272727  ...  3fff1b6e-e      Brandon Cruz   male  53   \n",
       "1           75.000000  ...  c3362ffc-f      Brian Garcia   male  49   \n",
       "2           52.250000  ...  0ce6d439-4  Jeremy Hurst PhD   male  57   \n",
       "3           63.500000  ...  42aa7479-5      Jerry Powers   male  41   \n",
       "4           88.500000  ...  94ed3e6d-f       Manuel Wise   male  48   \n",
       "\n",
       "  experience driving_style ratings  vehicle_no  average_speed_mph  is_midnight  \n",
       "0         23     proactive       6    10497416              59.77            1  \n",
       "1          5  conservative       8    28978466              45.73            0  \n",
       "2         19     proactive       7    12911518              60.84            0  \n",
       "3          7  conservative       2    61984883              56.94            0  \n",
       "4          9     proactive       7    30312694              57.36            0  \n",
       "\n",
       "[5 rows x 49 columns]"
      ]
     },
     "execution_count": 6,
     "metadata": {},
     "output_type": "execute_result"
    }
   ],
   "source": [
    "# First five rows\n",
    "final_merge.head()"
   ]
  },
  {
   "cell_type": "markdown",
   "metadata": {},
   "source": [
    "### Data Processing"
   ]
  },
  {
   "cell_type": "code",
   "execution_count": 7,
   "metadata": {},
   "outputs": [
    {
     "name": "stdout",
     "output_type": "stream",
     "text": [
      "<class 'pandas.core.frame.DataFrame'>\n",
      "RangeIndex: 12308 entries, 0 to 12307\n",
      "Data columns (total 49 columns):\n",
      " #   Column                          Non-Null Count  Dtype         \n",
      "---  ------                          --------------  -----         \n",
      " 0   unique_id                       12308 non-null  int64         \n",
      " 1   truck_id                        12308 non-null  int64         \n",
      " 2   route_id                        12308 non-null  object        \n",
      " 3   departure_date                  12308 non-null  datetime64[ns]\n",
      " 4   estimated_arrival               12308 non-null  datetime64[ns]\n",
      " 5   delay                           12308 non-null  int64         \n",
      " 6   route_avg_temp                  12308 non-null  float64       \n",
      " 7   route_avg_wind_speed            12308 non-null  float64       \n",
      " 8   route_avg_precip                12308 non-null  float64       \n",
      " 9   route_avg_humidity              12308 non-null  float64       \n",
      " 10  route_avg_visibility            12308 non-null  float64       \n",
      " 11  route_avg_pressure              12308 non-null  float64       \n",
      " 12  route_description               12308 non-null  object        \n",
      " 13  estimated_arrival_nearest_hour  12308 non-null  datetime64[ns]\n",
      " 14  departure_date_nearest_hour     12308 non-null  datetime64[ns]\n",
      " 15  origin_id                       12308 non-null  object        \n",
      " 16  destination_id                  12308 non-null  object        \n",
      " 17  distance                        12308 non-null  float64       \n",
      " 18  average_hours                   12308 non-null  float64       \n",
      " 19  origin_temp                     12304 non-null  float64       \n",
      " 20  origin_wind_speed               12304 non-null  float64       \n",
      " 21  origin_description              12308 non-null  object        \n",
      " 22  origin_precip                   12304 non-null  float64       \n",
      " 23  origin_humidity                 12304 non-null  float64       \n",
      " 24  origin_visibility               12304 non-null  float64       \n",
      " 25  origin_pressure                 12304 non-null  float64       \n",
      " 26  destination_temp                12308 non-null  float64       \n",
      " 27  destination_wind_speed          12308 non-null  float64       \n",
      " 28  destination_description         12308 non-null  object        \n",
      " 29  destination_precip              12308 non-null  float64       \n",
      " 30  destination_humidity            12308 non-null  int64         \n",
      " 31  destination_visibility          12308 non-null  float64       \n",
      " 32  destination_pressure            12308 non-null  float64       \n",
      " 33  avg_no_of_vehicles              12308 non-null  float64       \n",
      " 34  accident                        12308 non-null  int64         \n",
      " 35  truck_age                       12308 non-null  int64         \n",
      " 36  load_capacity_pounds            11704 non-null  float64       \n",
      " 37  mileage_mpg                     12308 non-null  int64         \n",
      " 38  fuel_type                       12308 non-null  object        \n",
      " 39  driver_id                       12308 non-null  object        \n",
      " 40  name                            12308 non-null  object        \n",
      " 41  gender                          12308 non-null  object        \n",
      " 42  age                             12308 non-null  int64         \n",
      " 43  experience                      12308 non-null  int64         \n",
      " 44  driving_style                   12308 non-null  object        \n",
      " 45  ratings                         12308 non-null  int64         \n",
      " 46  vehicle_no                      12308 non-null  int64         \n",
      " 47  average_speed_mph               12308 non-null  float64       \n",
      " 48  is_midnight                     12308 non-null  int64         \n",
      "dtypes: datetime64[ns](4), float64(22), int64(12), object(11)\n",
      "memory usage: 4.6+ MB\n"
     ]
    }
   ],
   "source": [
    "# Basic Information on the dataframe\n",
    "final_merge.info()"
   ]
  },
  {
   "cell_type": "code",
   "execution_count": 8,
   "metadata": {},
   "outputs": [
    {
     "data": {
      "text/plain": [
       "unique_id                           0\n",
       "truck_id                            0\n",
       "route_id                            0\n",
       "departure_date                      0\n",
       "estimated_arrival                   0\n",
       "delay                               0\n",
       "route_avg_temp                      0\n",
       "route_avg_wind_speed                0\n",
       "route_avg_precip                    0\n",
       "route_avg_humidity                  0\n",
       "route_avg_visibility                0\n",
       "route_avg_pressure                  0\n",
       "route_description                   0\n",
       "estimated_arrival_nearest_hour      0\n",
       "departure_date_nearest_hour         0\n",
       "origin_id                           0\n",
       "destination_id                      0\n",
       "distance                            0\n",
       "average_hours                       0\n",
       "origin_temp                         4\n",
       "origin_wind_speed                   4\n",
       "origin_description                  0\n",
       "origin_precip                       4\n",
       "origin_humidity                     4\n",
       "origin_visibility                   4\n",
       "origin_pressure                     4\n",
       "destination_temp                    0\n",
       "destination_wind_speed              0\n",
       "destination_description             0\n",
       "destination_precip                  0\n",
       "destination_humidity                0\n",
       "destination_visibility              0\n",
       "destination_pressure                0\n",
       "avg_no_of_vehicles                  0\n",
       "accident                            0\n",
       "truck_age                           0\n",
       "load_capacity_pounds              604\n",
       "mileage_mpg                         0\n",
       "fuel_type                           0\n",
       "driver_id                           0\n",
       "name                                0\n",
       "gender                              0\n",
       "age                                 0\n",
       "experience                          0\n",
       "driving_style                       0\n",
       "ratings                             0\n",
       "vehicle_no                          0\n",
       "average_speed_mph                   0\n",
       "is_midnight                         0\n",
       "dtype: int64"
      ]
     },
     "execution_count": 8,
     "metadata": {},
     "output_type": "execute_result"
    }
   ],
   "source": [
    "# Number of null values\n",
    "final_merge.isna().sum()"
   ]
  },
  {
   "cell_type": "code",
   "execution_count": 9,
   "metadata": {},
   "outputs": [
    {
     "data": {
      "text/html": [
       "<div>\n",
       "<style scoped>\n",
       "    .dataframe tbody tr th:only-of-type {\n",
       "        vertical-align: middle;\n",
       "    }\n",
       "\n",
       "    .dataframe tbody tr th {\n",
       "        vertical-align: top;\n",
       "    }\n",
       "\n",
       "    .dataframe thead th {\n",
       "        text-align: right;\n",
       "    }\n",
       "</style>\n",
       "<table border=\"1\" class=\"dataframe\">\n",
       "  <thead>\n",
       "    <tr style=\"text-align: right;\">\n",
       "      <th></th>\n",
       "      <th>unique_id</th>\n",
       "      <th>truck_id</th>\n",
       "      <th>route_id</th>\n",
       "      <th>departure_date</th>\n",
       "      <th>estimated_arrival</th>\n",
       "      <th>delay</th>\n",
       "      <th>route_avg_temp</th>\n",
       "      <th>route_avg_wind_speed</th>\n",
       "      <th>route_avg_precip</th>\n",
       "      <th>route_avg_humidity</th>\n",
       "      <th>...</th>\n",
       "      <th>driver_id</th>\n",
       "      <th>name</th>\n",
       "      <th>gender</th>\n",
       "      <th>age</th>\n",
       "      <th>experience</th>\n",
       "      <th>driving_style</th>\n",
       "      <th>ratings</th>\n",
       "      <th>vehicle_no</th>\n",
       "      <th>average_speed_mph</th>\n",
       "      <th>is_midnight</th>\n",
       "    </tr>\n",
       "  </thead>\n",
       "  <tbody>\n",
       "    <tr>\n",
       "      <th>566</th>\n",
       "      <td>7661</td>\n",
       "      <td>18091756</td>\n",
       "      <td>R-112b790b</td>\n",
       "      <td>2019-01-25 07:00:00</td>\n",
       "      <td>2019-01-27 02:40:48</td>\n",
       "      <td>1</td>\n",
       "      <td>66.555556</td>\n",
       "      <td>6.888889</td>\n",
       "      <td>0.000000</td>\n",
       "      <td>90.888889</td>\n",
       "      <td>...</td>\n",
       "      <td>e975a383-c</td>\n",
       "      <td>Neil Herring</td>\n",
       "      <td>male</td>\n",
       "      <td>45</td>\n",
       "      <td>7</td>\n",
       "      <td>proactive</td>\n",
       "      <td>3</td>\n",
       "      <td>18091756</td>\n",
       "      <td>58.02</td>\n",
       "      <td>1</td>\n",
       "    </tr>\n",
       "    <tr>\n",
       "      <th>3766</th>\n",
       "      <td>8163</td>\n",
       "      <td>24746768</td>\n",
       "      <td>R-b5f9418a</td>\n",
       "      <td>2019-01-25 07:00:00</td>\n",
       "      <td>2019-01-27 14:35:24</td>\n",
       "      <td>0</td>\n",
       "      <td>47.454545</td>\n",
       "      <td>9.090909</td>\n",
       "      <td>0.000000</td>\n",
       "      <td>70.636364</td>\n",
       "      <td>...</td>\n",
       "      <td>3d91387f-2</td>\n",
       "      <td>William Anderson III</td>\n",
       "      <td>male</td>\n",
       "      <td>50</td>\n",
       "      <td>0</td>\n",
       "      <td>conservative</td>\n",
       "      <td>4</td>\n",
       "      <td>24746768</td>\n",
       "      <td>40.69</td>\n",
       "      <td>1</td>\n",
       "    </tr>\n",
       "    <tr>\n",
       "      <th>9720</th>\n",
       "      <td>11359</td>\n",
       "      <td>22916520</td>\n",
       "      <td>R-78ee1f97</td>\n",
       "      <td>2019-01-25 07:00:00</td>\n",
       "      <td>2019-01-28 10:08:24</td>\n",
       "      <td>0</td>\n",
       "      <td>57.500000</td>\n",
       "      <td>10.142857</td>\n",
       "      <td>0.000000</td>\n",
       "      <td>78.214286</td>\n",
       "      <td>...</td>\n",
       "      <td>ffedbf74-a</td>\n",
       "      <td>Thomas Ochoa</td>\n",
       "      <td>male</td>\n",
       "      <td>57</td>\n",
       "      <td>19</td>\n",
       "      <td>proactive</td>\n",
       "      <td>6</td>\n",
       "      <td>22916520</td>\n",
       "      <td>63.64</td>\n",
       "      <td>1</td>\n",
       "    </tr>\n",
       "    <tr>\n",
       "      <th>12077</th>\n",
       "      <td>7721</td>\n",
       "      <td>24654257</td>\n",
       "      <td>R-21472caf</td>\n",
       "      <td>2019-01-25 07:00:00</td>\n",
       "      <td>2019-01-27 16:50:24</td>\n",
       "      <td>0</td>\n",
       "      <td>69.000000</td>\n",
       "      <td>12.363636</td>\n",
       "      <td>0.018182</td>\n",
       "      <td>79.181818</td>\n",
       "      <td>...</td>\n",
       "      <td>f110642c-1</td>\n",
       "      <td>Marc Walters</td>\n",
       "      <td>male</td>\n",
       "      <td>47</td>\n",
       "      <td>5</td>\n",
       "      <td>proactive</td>\n",
       "      <td>3</td>\n",
       "      <td>24654257</td>\n",
       "      <td>61.93</td>\n",
       "      <td>1</td>\n",
       "    </tr>\n",
       "  </tbody>\n",
       "</table>\n",
       "<p>4 rows × 49 columns</p>\n",
       "</div>"
      ],
      "text/plain": [
       "       unique_id  truck_id    route_id      departure_date  \\\n",
       "566         7661  18091756  R-112b790b 2019-01-25 07:00:00   \n",
       "3766        8163  24746768  R-b5f9418a 2019-01-25 07:00:00   \n",
       "9720       11359  22916520  R-78ee1f97 2019-01-25 07:00:00   \n",
       "12077       7721  24654257  R-21472caf 2019-01-25 07:00:00   \n",
       "\n",
       "        estimated_arrival  delay  route_avg_temp  route_avg_wind_speed  \\\n",
       "566   2019-01-27 02:40:48      1       66.555556              6.888889   \n",
       "3766  2019-01-27 14:35:24      0       47.454545              9.090909   \n",
       "9720  2019-01-28 10:08:24      0       57.500000             10.142857   \n",
       "12077 2019-01-27 16:50:24      0       69.000000             12.363636   \n",
       "\n",
       "       route_avg_precip  route_avg_humidity  ...   driver_id  \\\n",
       "566            0.000000           90.888889  ...  e975a383-c   \n",
       "3766           0.000000           70.636364  ...  3d91387f-2   \n",
       "9720           0.000000           78.214286  ...  ffedbf74-a   \n",
       "12077          0.018182           79.181818  ...  f110642c-1   \n",
       "\n",
       "                       name gender age experience driving_style ratings  \\\n",
       "566            Neil Herring   male  45          7     proactive       3   \n",
       "3766   William Anderson III   male  50          0  conservative       4   \n",
       "9720           Thomas Ochoa   male  57         19     proactive       6   \n",
       "12077          Marc Walters   male  47          5     proactive       3   \n",
       "\n",
       "       vehicle_no  average_speed_mph  is_midnight  \n",
       "566      18091756              58.02            1  \n",
       "3766     24746768              40.69            1  \n",
       "9720     22916520              63.64            1  \n",
       "12077    24654257              61.93            1  \n",
       "\n",
       "[4 rows x 49 columns]"
      ]
     },
     "execution_count": 9,
     "metadata": {},
     "output_type": "execute_result"
    }
   ],
   "source": [
    "# Let's check the rows where origin temp is null\n",
    "final_merge[final_merge['origin_temp'].isnull()]"
   ]
  },
  {
   "cell_type": "code",
   "execution_count": 10,
   "metadata": {},
   "outputs": [
    {
     "data": {
      "text/html": [
       "<div>\n",
       "<style scoped>\n",
       "    .dataframe tbody tr th:only-of-type {\n",
       "        vertical-align: middle;\n",
       "    }\n",
       "\n",
       "    .dataframe tbody tr th {\n",
       "        vertical-align: top;\n",
       "    }\n",
       "\n",
       "    .dataframe thead th {\n",
       "        text-align: right;\n",
       "    }\n",
       "</style>\n",
       "<table border=\"1\" class=\"dataframe\">\n",
       "  <thead>\n",
       "    <tr style=\"text-align: right;\">\n",
       "      <th></th>\n",
       "      <th>unique_id</th>\n",
       "      <th>truck_id</th>\n",
       "      <th>route_id</th>\n",
       "      <th>departure_date</th>\n",
       "      <th>estimated_arrival</th>\n",
       "      <th>delay</th>\n",
       "      <th>route_avg_temp</th>\n",
       "      <th>route_avg_wind_speed</th>\n",
       "      <th>route_avg_precip</th>\n",
       "      <th>route_avg_humidity</th>\n",
       "      <th>...</th>\n",
       "      <th>driver_id</th>\n",
       "      <th>name</th>\n",
       "      <th>gender</th>\n",
       "      <th>age</th>\n",
       "      <th>experience</th>\n",
       "      <th>driving_style</th>\n",
       "      <th>ratings</th>\n",
       "      <th>vehicle_no</th>\n",
       "      <th>average_speed_mph</th>\n",
       "      <th>is_midnight</th>\n",
       "    </tr>\n",
       "  </thead>\n",
       "  <tbody>\n",
       "    <tr>\n",
       "      <th>566</th>\n",
       "      <td>7661</td>\n",
       "      <td>18091756</td>\n",
       "      <td>R-112b790b</td>\n",
       "      <td>2019-01-25 07:00:00</td>\n",
       "      <td>2019-01-27 02:40:48</td>\n",
       "      <td>1</td>\n",
       "      <td>66.555556</td>\n",
       "      <td>6.888889</td>\n",
       "      <td>0.000000</td>\n",
       "      <td>90.888889</td>\n",
       "      <td>...</td>\n",
       "      <td>e975a383-c</td>\n",
       "      <td>Neil Herring</td>\n",
       "      <td>male</td>\n",
       "      <td>45</td>\n",
       "      <td>7</td>\n",
       "      <td>proactive</td>\n",
       "      <td>3</td>\n",
       "      <td>18091756</td>\n",
       "      <td>58.02</td>\n",
       "      <td>1</td>\n",
       "    </tr>\n",
       "    <tr>\n",
       "      <th>3766</th>\n",
       "      <td>8163</td>\n",
       "      <td>24746768</td>\n",
       "      <td>R-b5f9418a</td>\n",
       "      <td>2019-01-25 07:00:00</td>\n",
       "      <td>2019-01-27 14:35:24</td>\n",
       "      <td>0</td>\n",
       "      <td>47.454545</td>\n",
       "      <td>9.090909</td>\n",
       "      <td>0.000000</td>\n",
       "      <td>70.636364</td>\n",
       "      <td>...</td>\n",
       "      <td>3d91387f-2</td>\n",
       "      <td>William Anderson III</td>\n",
       "      <td>male</td>\n",
       "      <td>50</td>\n",
       "      <td>0</td>\n",
       "      <td>conservative</td>\n",
       "      <td>4</td>\n",
       "      <td>24746768</td>\n",
       "      <td>40.69</td>\n",
       "      <td>1</td>\n",
       "    </tr>\n",
       "    <tr>\n",
       "      <th>9720</th>\n",
       "      <td>11359</td>\n",
       "      <td>22916520</td>\n",
       "      <td>R-78ee1f97</td>\n",
       "      <td>2019-01-25 07:00:00</td>\n",
       "      <td>2019-01-28 10:08:24</td>\n",
       "      <td>0</td>\n",
       "      <td>57.500000</td>\n",
       "      <td>10.142857</td>\n",
       "      <td>0.000000</td>\n",
       "      <td>78.214286</td>\n",
       "      <td>...</td>\n",
       "      <td>ffedbf74-a</td>\n",
       "      <td>Thomas Ochoa</td>\n",
       "      <td>male</td>\n",
       "      <td>57</td>\n",
       "      <td>19</td>\n",
       "      <td>proactive</td>\n",
       "      <td>6</td>\n",
       "      <td>22916520</td>\n",
       "      <td>63.64</td>\n",
       "      <td>1</td>\n",
       "    </tr>\n",
       "    <tr>\n",
       "      <th>12077</th>\n",
       "      <td>7721</td>\n",
       "      <td>24654257</td>\n",
       "      <td>R-21472caf</td>\n",
       "      <td>2019-01-25 07:00:00</td>\n",
       "      <td>2019-01-27 16:50:24</td>\n",
       "      <td>0</td>\n",
       "      <td>69.000000</td>\n",
       "      <td>12.363636</td>\n",
       "      <td>0.018182</td>\n",
       "      <td>79.181818</td>\n",
       "      <td>...</td>\n",
       "      <td>f110642c-1</td>\n",
       "      <td>Marc Walters</td>\n",
       "      <td>male</td>\n",
       "      <td>47</td>\n",
       "      <td>5</td>\n",
       "      <td>proactive</td>\n",
       "      <td>3</td>\n",
       "      <td>24654257</td>\n",
       "      <td>61.93</td>\n",
       "      <td>1</td>\n",
       "    </tr>\n",
       "  </tbody>\n",
       "</table>\n",
       "<p>4 rows × 49 columns</p>\n",
       "</div>"
      ],
      "text/plain": [
       "       unique_id  truck_id    route_id      departure_date  \\\n",
       "566         7661  18091756  R-112b790b 2019-01-25 07:00:00   \n",
       "3766        8163  24746768  R-b5f9418a 2019-01-25 07:00:00   \n",
       "9720       11359  22916520  R-78ee1f97 2019-01-25 07:00:00   \n",
       "12077       7721  24654257  R-21472caf 2019-01-25 07:00:00   \n",
       "\n",
       "        estimated_arrival  delay  route_avg_temp  route_avg_wind_speed  \\\n",
       "566   2019-01-27 02:40:48      1       66.555556              6.888889   \n",
       "3766  2019-01-27 14:35:24      0       47.454545              9.090909   \n",
       "9720  2019-01-28 10:08:24      0       57.500000             10.142857   \n",
       "12077 2019-01-27 16:50:24      0       69.000000             12.363636   \n",
       "\n",
       "       route_avg_precip  route_avg_humidity  ...   driver_id  \\\n",
       "566            0.000000           90.888889  ...  e975a383-c   \n",
       "3766           0.000000           70.636364  ...  3d91387f-2   \n",
       "9720           0.000000           78.214286  ...  ffedbf74-a   \n",
       "12077          0.018182           79.181818  ...  f110642c-1   \n",
       "\n",
       "                       name gender age experience driving_style ratings  \\\n",
       "566            Neil Herring   male  45          7     proactive       3   \n",
       "3766   William Anderson III   male  50          0  conservative       4   \n",
       "9720           Thomas Ochoa   male  57         19     proactive       6   \n",
       "12077          Marc Walters   male  47          5     proactive       3   \n",
       "\n",
       "       vehicle_no  average_speed_mph  is_midnight  \n",
       "566      18091756              58.02            1  \n",
       "3766     24746768              40.69            1  \n",
       "9720     22916520              63.64            1  \n",
       "12077    24654257              61.93            1  \n",
       "\n",
       "[4 rows x 49 columns]"
      ]
     },
     "execution_count": 10,
     "metadata": {},
     "output_type": "execute_result"
    }
   ],
   "source": [
    "# Let's check the rows where origin humidity is null\n",
    "# Looks like we have null values in the same rows, let's find out which origin city is this\n",
    "final_merge[final_merge['origin_humidity'].isnull()]"
   ]
  },
  {
   "cell_type": "code",
   "execution_count": 11,
   "metadata": {},
   "outputs": [
    {
     "name": "stdout",
     "output_type": "stream",
     "text": [
      "2024-08-05 16:15:21,380 WARNING: DeprecationWarning: ssl.PROTOCOL_TLS is deprecated\n",
      "\n",
      "Finished: Reading data from Hopsworks, using Hive (1.66s) \n"
     ]
    }
   ],
   "source": [
    "# Fetch the routes data\n",
    "routes_data = fs.get_feature_group('routes_details_fg', version=1)\n",
    "\n",
    "routes_data_query = routes_data.select_all()\n",
    "\n",
    "routes_df = routes_data_query.read(read_options={\"use_hive\": True})"
   ]
  },
  {
   "cell_type": "code",
   "execution_count": 12,
   "metadata": {},
   "outputs": [
    {
     "data": {
      "text/html": [
       "<div>\n",
       "<style scoped>\n",
       "    .dataframe tbody tr th:only-of-type {\n",
       "        vertical-align: middle;\n",
       "    }\n",
       "\n",
       "    .dataframe tbody tr th {\n",
       "        vertical-align: top;\n",
       "    }\n",
       "\n",
       "    .dataframe thead th {\n",
       "        text-align: right;\n",
       "    }\n",
       "</style>\n",
       "<table border=\"1\" class=\"dataframe\">\n",
       "  <thead>\n",
       "    <tr style=\"text-align: right;\">\n",
       "      <th></th>\n",
       "      <th>route_id</th>\n",
       "      <th>origin_id</th>\n",
       "      <th>destination_id</th>\n",
       "      <th>distance</th>\n",
       "      <th>average_hours</th>\n",
       "      <th>event_time</th>\n",
       "    </tr>\n",
       "  </thead>\n",
       "  <tbody>\n",
       "    <tr>\n",
       "      <th>6</th>\n",
       "      <td>R-b5f9418a</td>\n",
       "      <td>C-f8f01604</td>\n",
       "      <td>C-4fe0fa24</td>\n",
       "      <td>2779.33</td>\n",
       "      <td>55.59</td>\n",
       "      <td>2023-08-23</td>\n",
       "    </tr>\n",
       "    <tr>\n",
       "      <th>438</th>\n",
       "      <td>R-21472caf</td>\n",
       "      <td>C-f8f01604</td>\n",
       "      <td>C-2e349ccd</td>\n",
       "      <td>2892.14</td>\n",
       "      <td>57.84</td>\n",
       "      <td>2023-08-23</td>\n",
       "    </tr>\n",
       "    <tr>\n",
       "      <th>702</th>\n",
       "      <td>R-112b790b</td>\n",
       "      <td>C-f8f01604</td>\n",
       "      <td>C-d3bb431c</td>\n",
       "      <td>2183.94</td>\n",
       "      <td>43.68</td>\n",
       "      <td>2023-08-23</td>\n",
       "    </tr>\n",
       "    <tr>\n",
       "      <th>1289</th>\n",
       "      <td>R-78ee1f97</td>\n",
       "      <td>C-f8f01604</td>\n",
       "      <td>C-f5ed4c15</td>\n",
       "      <td>3757.02</td>\n",
       "      <td>75.14</td>\n",
       "      <td>2023-08-23</td>\n",
       "    </tr>\n",
       "  </tbody>\n",
       "</table>\n",
       "</div>"
      ],
      "text/plain": [
       "        route_id   origin_id destination_id  distance  average_hours  \\\n",
       "6     R-b5f9418a  C-f8f01604     C-4fe0fa24   2779.33          55.59   \n",
       "438   R-21472caf  C-f8f01604     C-2e349ccd   2892.14          57.84   \n",
       "702   R-112b790b  C-f8f01604     C-d3bb431c   2183.94          43.68   \n",
       "1289  R-78ee1f97  C-f8f01604     C-f5ed4c15   3757.02          75.14   \n",
       "\n",
       "     event_time  \n",
       "6    2023-08-23  \n",
       "438  2023-08-23  \n",
       "702  2023-08-23  \n",
       "1289 2023-08-23  "
      ]
     },
     "execution_count": 12,
     "metadata": {},
     "output_type": "execute_result"
    }
   ],
   "source": [
    "# Find the rows with the routes ids which has no info on origin city's weather on 25th jan\n",
    "# Only 1 city is there in all these rows\n",
    "routes_df[routes_df.route_id.isin(['R-112b790b', 'R-78ee1f97','R-b5f9418a', 'R-21472caf'])]"
   ]
  },
  {
   "cell_type": "code",
   "execution_count": 13,
   "metadata": {},
   "outputs": [
    {
     "name": "stdout",
     "output_type": "stream",
     "text": [
      "2024-08-05 16:15:25,070 WARNING: DeprecationWarning: ssl.PROTOCOL_TLS is deprecated\n",
      "\n",
      "Finished: Reading data from Hopsworks, using Hive (109.76s) \n"
     ]
    }
   ],
   "source": [
    "# Let's check if we have any information on this city\n",
    "# Fetching the weather data\n",
    "weather_data = fs.get_feature_group('city_weather_details_fg', version=1)\n",
    "\n",
    "weather_query = weather_data.select_all()\n",
    "\n",
    "weather_df = weather_query.read(read_options={\"use_hive\": True})"
   ]
  },
  {
   "cell_type": "code",
   "execution_count": 14,
   "metadata": {},
   "outputs": [
    {
     "data": {
      "text/html": [
       "<div>\n",
       "<style scoped>\n",
       "    .dataframe tbody tr th:only-of-type {\n",
       "        vertical-align: middle;\n",
       "    }\n",
       "\n",
       "    .dataframe tbody tr th {\n",
       "        vertical-align: top;\n",
       "    }\n",
       "\n",
       "    .dataframe thead th {\n",
       "        text-align: right;\n",
       "    }\n",
       "</style>\n",
       "<table border=\"1\" class=\"dataframe\">\n",
       "  <thead>\n",
       "    <tr style=\"text-align: right;\">\n",
       "      <th></th>\n",
       "      <th>city_id</th>\n",
       "      <th>date</th>\n",
       "      <th>hour</th>\n",
       "      <th>temp</th>\n",
       "      <th>wind_speed</th>\n",
       "      <th>description</th>\n",
       "      <th>precip</th>\n",
       "      <th>humidity</th>\n",
       "      <th>visibility</th>\n",
       "      <th>pressure</th>\n",
       "      <th>chanceofrain</th>\n",
       "      <th>chanceoffog</th>\n",
       "      <th>chanceofsnow</th>\n",
       "      <th>chanceofthunder</th>\n",
       "    </tr>\n",
       "  </thead>\n",
       "  <tbody>\n",
       "  </tbody>\n",
       "</table>\n",
       "</div>"
      ],
      "text/plain": [
       "Empty DataFrame\n",
       "Columns: [city_id, date, hour, temp, wind_speed, description, precip, humidity, visibility, pressure, chanceofrain, chanceoffog, chanceofsnow, chanceofthunder]\n",
       "Index: []"
      ]
     },
     "execution_count": 14,
     "metadata": {},
     "output_type": "execute_result"
    }
   ],
   "source": [
    "# Filter the weather data with city and date\n",
    "# We don't have any information on this, we will remove these rows\n",
    "# It is important to check with the business regarding the information though \n",
    "weather_df[(weather_df.city_id=='C-f8f01604')&(weather_df.date==pd.to_datetime('2019-01-25'))]"
   ]
  },
  {
   "cell_type": "code",
   "execution_count": 15,
   "metadata": {},
   "outputs": [],
   "source": [
    "# Drop the rows\n",
    "\n",
    "final_merge=final_merge.dropna(subset =  ['origin_temp', 'origin_wind_speed', 'origin_precip',\n",
    "                                'origin_humidity', 'origin_visibility', 'origin_pressure' ] ).reset_index(drop=True)"
   ]
  },
  {
   "cell_type": "code",
   "execution_count": 16,
   "metadata": {},
   "outputs": [
    {
     "data": {
      "text/plain": [
       "unique_id                           0\n",
       "truck_id                            0\n",
       "route_id                            0\n",
       "departure_date                      0\n",
       "estimated_arrival                   0\n",
       "delay                               0\n",
       "route_avg_temp                      0\n",
       "route_avg_wind_speed                0\n",
       "route_avg_precip                    0\n",
       "route_avg_humidity                  0\n",
       "route_avg_visibility                0\n",
       "route_avg_pressure                  0\n",
       "route_description                   0\n",
       "estimated_arrival_nearest_hour      0\n",
       "departure_date_nearest_hour         0\n",
       "origin_id                           0\n",
       "destination_id                      0\n",
       "distance                            0\n",
       "average_hours                       0\n",
       "origin_temp                         0\n",
       "origin_wind_speed                   0\n",
       "origin_description                  0\n",
       "origin_precip                       0\n",
       "origin_humidity                     0\n",
       "origin_visibility                   0\n",
       "origin_pressure                     0\n",
       "destination_temp                    0\n",
       "destination_wind_speed              0\n",
       "destination_description             0\n",
       "destination_precip                  0\n",
       "destination_humidity                0\n",
       "destination_visibility              0\n",
       "destination_pressure                0\n",
       "avg_no_of_vehicles                  0\n",
       "accident                            0\n",
       "truck_age                           0\n",
       "load_capacity_pounds              604\n",
       "mileage_mpg                         0\n",
       "fuel_type                           0\n",
       "driver_id                           0\n",
       "name                                0\n",
       "gender                              0\n",
       "age                                 0\n",
       "experience                          0\n",
       "driving_style                       0\n",
       "ratings                             0\n",
       "vehicle_no                          0\n",
       "average_speed_mph                   0\n",
       "is_midnight                         0\n",
       "dtype: int64"
      ]
     },
     "execution_count": 16,
     "metadata": {},
     "output_type": "execute_result"
    }
   ],
   "source": [
    "# Let's verify the dropped null values\n",
    "final_merge.isna().sum()"
   ]
  },
  {
   "cell_type": "code",
   "execution_count": 17,
   "metadata": {},
   "outputs": [
    {
     "data": {
      "text/html": [
       "<div>\n",
       "<style scoped>\n",
       "    .dataframe tbody tr th:only-of-type {\n",
       "        vertical-align: middle;\n",
       "    }\n",
       "\n",
       "    .dataframe tbody tr th {\n",
       "        vertical-align: top;\n",
       "    }\n",
       "\n",
       "    .dataframe thead th {\n",
       "        text-align: right;\n",
       "    }\n",
       "</style>\n",
       "<table border=\"1\" class=\"dataframe\">\n",
       "  <thead>\n",
       "    <tr style=\"text-align: right;\">\n",
       "      <th></th>\n",
       "      <th>unique_id</th>\n",
       "      <th>truck_id</th>\n",
       "      <th>route_id</th>\n",
       "      <th>departure_date</th>\n",
       "      <th>estimated_arrival</th>\n",
       "      <th>delay</th>\n",
       "      <th>route_avg_temp</th>\n",
       "      <th>route_avg_wind_speed</th>\n",
       "      <th>route_avg_precip</th>\n",
       "      <th>route_avg_humidity</th>\n",
       "      <th>...</th>\n",
       "      <th>driver_id</th>\n",
       "      <th>name</th>\n",
       "      <th>gender</th>\n",
       "      <th>age</th>\n",
       "      <th>experience</th>\n",
       "      <th>driving_style</th>\n",
       "      <th>ratings</th>\n",
       "      <th>vehicle_no</th>\n",
       "      <th>average_speed_mph</th>\n",
       "      <th>is_midnight</th>\n",
       "    </tr>\n",
       "  </thead>\n",
       "  <tbody>\n",
       "    <tr>\n",
       "      <th>0</th>\n",
       "      <td>3725</td>\n",
       "      <td>10497416</td>\n",
       "      <td>R-2c5432ed</td>\n",
       "      <td>2019-02-10 07:00:00</td>\n",
       "      <td>2019-02-12 16:54:00</td>\n",
       "      <td>1</td>\n",
       "      <td>28.818182</td>\n",
       "      <td>6.727273</td>\n",
       "      <td>0.000000</td>\n",
       "      <td>51.272727</td>\n",
       "      <td>...</td>\n",
       "      <td>3fff1b6e-e</td>\n",
       "      <td>Brandon Cruz</td>\n",
       "      <td>male</td>\n",
       "      <td>53</td>\n",
       "      <td>23</td>\n",
       "      <td>proactive</td>\n",
       "      <td>6</td>\n",
       "      <td>10497416</td>\n",
       "      <td>59.77</td>\n",
       "      <td>1</td>\n",
       "    </tr>\n",
       "    <tr>\n",
       "      <th>1</th>\n",
       "      <td>4299</td>\n",
       "      <td>28978466</td>\n",
       "      <td>R-f8640cff</td>\n",
       "      <td>2019-01-19 07:00:00</td>\n",
       "      <td>2019-01-19 12:44:24</td>\n",
       "      <td>0</td>\n",
       "      <td>46.000000</td>\n",
       "      <td>9.000000</td>\n",
       "      <td>0.000000</td>\n",
       "      <td>75.000000</td>\n",
       "      <td>...</td>\n",
       "      <td>c3362ffc-f</td>\n",
       "      <td>Brian Garcia</td>\n",
       "      <td>male</td>\n",
       "      <td>49</td>\n",
       "      <td>5</td>\n",
       "      <td>conservative</td>\n",
       "      <td>8</td>\n",
       "      <td>28978466</td>\n",
       "      <td>45.73</td>\n",
       "      <td>0</td>\n",
       "    </tr>\n",
       "    <tr>\n",
       "      <th>2</th>\n",
       "      <td>4448</td>\n",
       "      <td>12911518</td>\n",
       "      <td>R-18468971</td>\n",
       "      <td>2019-01-25 07:00:00</td>\n",
       "      <td>2019-01-25 23:40:12</td>\n",
       "      <td>1</td>\n",
       "      <td>54.000000</td>\n",
       "      <td>9.750000</td>\n",
       "      <td>0.000000</td>\n",
       "      <td>52.250000</td>\n",
       "      <td>...</td>\n",
       "      <td>0ce6d439-4</td>\n",
       "      <td>Jeremy Hurst PhD</td>\n",
       "      <td>male</td>\n",
       "      <td>57</td>\n",
       "      <td>19</td>\n",
       "      <td>proactive</td>\n",
       "      <td>7</td>\n",
       "      <td>12911518</td>\n",
       "      <td>60.84</td>\n",
       "      <td>0</td>\n",
       "    </tr>\n",
       "    <tr>\n",
       "      <th>3</th>\n",
       "      <td>9783</td>\n",
       "      <td>61984883</td>\n",
       "      <td>R-d87e53cd</td>\n",
       "      <td>2019-02-09 07:00:00</td>\n",
       "      <td>2019-02-09 20:38:24</td>\n",
       "      <td>0</td>\n",
       "      <td>80.500000</td>\n",
       "      <td>10.000000</td>\n",
       "      <td>0.000000</td>\n",
       "      <td>63.500000</td>\n",
       "      <td>...</td>\n",
       "      <td>42aa7479-5</td>\n",
       "      <td>Jerry Powers</td>\n",
       "      <td>male</td>\n",
       "      <td>41</td>\n",
       "      <td>7</td>\n",
       "      <td>conservative</td>\n",
       "      <td>2</td>\n",
       "      <td>61984883</td>\n",
       "      <td>56.94</td>\n",
       "      <td>0</td>\n",
       "    </tr>\n",
       "    <tr>\n",
       "      <th>4</th>\n",
       "      <td>12209</td>\n",
       "      <td>30312694</td>\n",
       "      <td>R-483bf9db</td>\n",
       "      <td>2019-01-16 07:00:00</td>\n",
       "      <td>2019-01-16 09:03:36</td>\n",
       "      <td>0</td>\n",
       "      <td>67.500000</td>\n",
       "      <td>7.500000</td>\n",
       "      <td>0.000000</td>\n",
       "      <td>88.500000</td>\n",
       "      <td>...</td>\n",
       "      <td>94ed3e6d-f</td>\n",
       "      <td>Manuel Wise</td>\n",
       "      <td>male</td>\n",
       "      <td>48</td>\n",
       "      <td>9</td>\n",
       "      <td>proactive</td>\n",
       "      <td>7</td>\n",
       "      <td>30312694</td>\n",
       "      <td>57.36</td>\n",
       "      <td>0</td>\n",
       "    </tr>\n",
       "    <tr>\n",
       "      <th>...</th>\n",
       "      <td>...</td>\n",
       "      <td>...</td>\n",
       "      <td>...</td>\n",
       "      <td>...</td>\n",
       "      <td>...</td>\n",
       "      <td>...</td>\n",
       "      <td>...</td>\n",
       "      <td>...</td>\n",
       "      <td>...</td>\n",
       "      <td>...</td>\n",
       "      <td>...</td>\n",
       "      <td>...</td>\n",
       "      <td>...</td>\n",
       "      <td>...</td>\n",
       "      <td>...</td>\n",
       "      <td>...</td>\n",
       "      <td>...</td>\n",
       "      <td>...</td>\n",
       "      <td>...</td>\n",
       "      <td>...</td>\n",
       "      <td>...</td>\n",
       "    </tr>\n",
       "    <tr>\n",
       "      <th>12299</th>\n",
       "      <td>5411</td>\n",
       "      <td>31312028</td>\n",
       "      <td>R-20f95619</td>\n",
       "      <td>2019-01-13 07:00:00</td>\n",
       "      <td>2019-01-13 14:50:24</td>\n",
       "      <td>0</td>\n",
       "      <td>60.666667</td>\n",
       "      <td>16.333333</td>\n",
       "      <td>0.000000</td>\n",
       "      <td>60.000000</td>\n",
       "      <td>...</td>\n",
       "      <td>a17d5cbf-7</td>\n",
       "      <td>Kenneth Johnson</td>\n",
       "      <td>male</td>\n",
       "      <td>50</td>\n",
       "      <td>7</td>\n",
       "      <td>proactive</td>\n",
       "      <td>8</td>\n",
       "      <td>31312028</td>\n",
       "      <td>62.11</td>\n",
       "      <td>0</td>\n",
       "    </tr>\n",
       "    <tr>\n",
       "      <th>12300</th>\n",
       "      <td>621</td>\n",
       "      <td>22913195</td>\n",
       "      <td>R-00b69c21</td>\n",
       "      <td>2019-01-19 07:00:00</td>\n",
       "      <td>2019-01-19 10:13:12</td>\n",
       "      <td>0</td>\n",
       "      <td>56.500000</td>\n",
       "      <td>9.500000</td>\n",
       "      <td>0.050000</td>\n",
       "      <td>79.000000</td>\n",
       "      <td>...</td>\n",
       "      <td>4b6a3c38-a</td>\n",
       "      <td>Roy Banks</td>\n",
       "      <td>male</td>\n",
       "      <td>54</td>\n",
       "      <td>25</td>\n",
       "      <td>conservative</td>\n",
       "      <td>7</td>\n",
       "      <td>22913195</td>\n",
       "      <td>48.23</td>\n",
       "      <td>0</td>\n",
       "    </tr>\n",
       "    <tr>\n",
       "      <th>12301</th>\n",
       "      <td>8806</td>\n",
       "      <td>78735626</td>\n",
       "      <td>R-3c2b451d</td>\n",
       "      <td>2019-01-26 07:00:00</td>\n",
       "      <td>2019-01-27 16:05:24</td>\n",
       "      <td>0</td>\n",
       "      <td>55.000000</td>\n",
       "      <td>4.857143</td>\n",
       "      <td>0.000000</td>\n",
       "      <td>65.428571</td>\n",
       "      <td>...</td>\n",
       "      <td>3e53cc64-c</td>\n",
       "      <td>Geoffrey Barber</td>\n",
       "      <td>male</td>\n",
       "      <td>44</td>\n",
       "      <td>4</td>\n",
       "      <td>proactive</td>\n",
       "      <td>7</td>\n",
       "      <td>78735626</td>\n",
       "      <td>61.18</td>\n",
       "      <td>1</td>\n",
       "    </tr>\n",
       "    <tr>\n",
       "      <th>12302</th>\n",
       "      <td>9405</td>\n",
       "      <td>18493697</td>\n",
       "      <td>R-5c9a7270</td>\n",
       "      <td>2019-02-05 07:00:00</td>\n",
       "      <td>2019-02-06 09:24:00</td>\n",
       "      <td>1</td>\n",
       "      <td>74.833333</td>\n",
       "      <td>5.166667</td>\n",
       "      <td>0.016667</td>\n",
       "      <td>63.333333</td>\n",
       "      <td>...</td>\n",
       "      <td>2ac3deaa-5</td>\n",
       "      <td>Michael Barber</td>\n",
       "      <td>male</td>\n",
       "      <td>64</td>\n",
       "      <td>30</td>\n",
       "      <td>proactive</td>\n",
       "      <td>6</td>\n",
       "      <td>18493697</td>\n",
       "      <td>57.13</td>\n",
       "      <td>1</td>\n",
       "    </tr>\n",
       "    <tr>\n",
       "      <th>12303</th>\n",
       "      <td>5328</td>\n",
       "      <td>12492275</td>\n",
       "      <td>R-c29b1cbb</td>\n",
       "      <td>2019-01-22 07:00:00</td>\n",
       "      <td>2019-01-22 18:27:00</td>\n",
       "      <td>0</td>\n",
       "      <td>71.500000</td>\n",
       "      <td>9.250000</td>\n",
       "      <td>0.000000</td>\n",
       "      <td>58.750000</td>\n",
       "      <td>...</td>\n",
       "      <td>aa8ea26b-e</td>\n",
       "      <td>Alexander Hoover</td>\n",
       "      <td>male</td>\n",
       "      <td>49</td>\n",
       "      <td>0</td>\n",
       "      <td>proactive</td>\n",
       "      <td>7</td>\n",
       "      <td>12492275</td>\n",
       "      <td>59.49</td>\n",
       "      <td>0</td>\n",
       "    </tr>\n",
       "  </tbody>\n",
       "</table>\n",
       "<p>12304 rows × 49 columns</p>\n",
       "</div>"
      ],
      "text/plain": [
       "       unique_id  truck_id    route_id      departure_date  \\\n",
       "0           3725  10497416  R-2c5432ed 2019-02-10 07:00:00   \n",
       "1           4299  28978466  R-f8640cff 2019-01-19 07:00:00   \n",
       "2           4448  12911518  R-18468971 2019-01-25 07:00:00   \n",
       "3           9783  61984883  R-d87e53cd 2019-02-09 07:00:00   \n",
       "4          12209  30312694  R-483bf9db 2019-01-16 07:00:00   \n",
       "...          ...       ...         ...                 ...   \n",
       "12299       5411  31312028  R-20f95619 2019-01-13 07:00:00   \n",
       "12300        621  22913195  R-00b69c21 2019-01-19 07:00:00   \n",
       "12301       8806  78735626  R-3c2b451d 2019-01-26 07:00:00   \n",
       "12302       9405  18493697  R-5c9a7270 2019-02-05 07:00:00   \n",
       "12303       5328  12492275  R-c29b1cbb 2019-01-22 07:00:00   \n",
       "\n",
       "        estimated_arrival  delay  route_avg_temp  route_avg_wind_speed  \\\n",
       "0     2019-02-12 16:54:00      1       28.818182              6.727273   \n",
       "1     2019-01-19 12:44:24      0       46.000000              9.000000   \n",
       "2     2019-01-25 23:40:12      1       54.000000              9.750000   \n",
       "3     2019-02-09 20:38:24      0       80.500000             10.000000   \n",
       "4     2019-01-16 09:03:36      0       67.500000              7.500000   \n",
       "...                   ...    ...             ...                   ...   \n",
       "12299 2019-01-13 14:50:24      0       60.666667             16.333333   \n",
       "12300 2019-01-19 10:13:12      0       56.500000              9.500000   \n",
       "12301 2019-01-27 16:05:24      0       55.000000              4.857143   \n",
       "12302 2019-02-06 09:24:00      1       74.833333              5.166667   \n",
       "12303 2019-01-22 18:27:00      0       71.500000              9.250000   \n",
       "\n",
       "       route_avg_precip  route_avg_humidity  ...   driver_id  \\\n",
       "0              0.000000           51.272727  ...  3fff1b6e-e   \n",
       "1              0.000000           75.000000  ...  c3362ffc-f   \n",
       "2              0.000000           52.250000  ...  0ce6d439-4   \n",
       "3              0.000000           63.500000  ...  42aa7479-5   \n",
       "4              0.000000           88.500000  ...  94ed3e6d-f   \n",
       "...                 ...                 ...  ...         ...   \n",
       "12299          0.000000           60.000000  ...  a17d5cbf-7   \n",
       "12300          0.050000           79.000000  ...  4b6a3c38-a   \n",
       "12301          0.000000           65.428571  ...  3e53cc64-c   \n",
       "12302          0.016667           63.333333  ...  2ac3deaa-5   \n",
       "12303          0.000000           58.750000  ...  aa8ea26b-e   \n",
       "\n",
       "                   name gender age experience driving_style ratings  \\\n",
       "0          Brandon Cruz   male  53         23     proactive       6   \n",
       "1          Brian Garcia   male  49          5  conservative       8   \n",
       "2      Jeremy Hurst PhD   male  57         19     proactive       7   \n",
       "3          Jerry Powers   male  41          7  conservative       2   \n",
       "4           Manuel Wise   male  48          9     proactive       7   \n",
       "...                 ...    ...  ..        ...           ...     ...   \n",
       "12299   Kenneth Johnson   male  50          7     proactive       8   \n",
       "12300         Roy Banks   male  54         25  conservative       7   \n",
       "12301   Geoffrey Barber   male  44          4     proactive       7   \n",
       "12302    Michael Barber   male  64         30     proactive       6   \n",
       "12303  Alexander Hoover   male  49          0     proactive       7   \n",
       "\n",
       "       vehicle_no  average_speed_mph  is_midnight  \n",
       "0        10497416              59.77            1  \n",
       "1        28978466              45.73            0  \n",
       "2        12911518              60.84            0  \n",
       "3        61984883              56.94            0  \n",
       "4        30312694              57.36            0  \n",
       "...           ...                ...          ...  \n",
       "12299    31312028              62.11            0  \n",
       "12300    22913195              48.23            0  \n",
       "12301    78735626              61.18            1  \n",
       "12302    18493697              57.13            1  \n",
       "12303    12492275              59.49            0  \n",
       "\n",
       "[12304 rows x 49 columns]"
      ]
     },
     "execution_count": 17,
     "metadata": {},
     "output_type": "execute_result"
    }
   ],
   "source": [
    "final_merge"
   ]
  },
  {
   "cell_type": "code",
   "execution_count": 18,
   "metadata": {},
   "outputs": [],
   "source": [
    "#selecting necessary columns and removing id columns\n",
    "\n",
    "# final_merge.select_dtypes(include='object').columns\n",
    "# final_merge.select_dtypes(exclude='object').columns\n",
    "\n",
    "cts_cols=['route_avg_temp', 'route_avg_wind_speed',\n",
    "       'route_avg_precip', 'route_avg_humidity', 'route_avg_visibility',\n",
    "       'route_avg_pressure', 'distance', 'average_hours',\n",
    "       'origin_temp', 'origin_wind_speed', 'origin_precip', 'origin_humidity',\n",
    "       'origin_visibility', 'origin_pressure',\n",
    "       'destination_temp','destination_wind_speed','destination_precip',\n",
    "       'destination_humidity', 'destination_visibility','destination_pressure',\n",
    "        'avg_no_of_vehicles', 'truck_age','load_capacity_pounds', 'mileage_mpg',\n",
    "        'age', 'experience','average_speed_mph']\n",
    "\n",
    "\n",
    "cat_cols=['route_description',\n",
    "       'origin_description', 'destination_description',\n",
    "        'accident', 'fuel_type',\n",
    "       'gender', 'driving_style', 'ratings','is_midnight']\n",
    "\n",
    "\n",
    "target=['delay']\n",
    "\n"
   ]
  },
  {
   "cell_type": "code",
   "execution_count": 19,
   "metadata": {},
   "outputs": [
    {
     "data": {
      "text/plain": [
       "(Timestamp('2019-01-01 07:04:48'), Timestamp('2019-02-14 16:06:00'))"
      ]
     },
     "execution_count": 19,
     "metadata": {},
     "output_type": "execute_result"
    }
   ],
   "source": [
    "# Checking the date range\n",
    "final_merge['estimated_arrival'].min(), final_merge['estimated_arrival'].max()"
   ]
  },
  {
   "cell_type": "code",
   "execution_count": 20,
   "metadata": {},
   "outputs": [],
   "source": [
    "# Splitting the data into training, validation, and test sets based on date\n",
    "\n",
    "# An entire month of january for training \n",
    "train_df = final_merge[final_merge['estimated_arrival'] <= pd.to_datetime('2019-01-30')]\n",
    "\n",
    "# Next week for validating\n",
    "validation_df = final_merge[(final_merge['estimated_arrival'] > pd.to_datetime('2019-01-30')) &\n",
    "\n",
    "                            (final_merge['estimated_arrival'] <= pd.to_datetime('2019-02-07'))]\n",
    "\n",
    "# Last week for training\n",
    "test_df = final_merge[final_merge['estimated_arrival'] > pd.to_datetime('2019-02-07')]"
   ]
  },
  {
   "cell_type": "code",
   "execution_count": 21,
   "metadata": {},
   "outputs": [],
   "source": [
    "X_train=train_df[cts_cols+cat_cols]\n",
    "\n",
    "y_train=train_df['delay']\n",
    "\n"
   ]
  },
  {
   "cell_type": "code",
   "execution_count": 22,
   "metadata": {},
   "outputs": [
    {
     "data": {
      "text/html": [
       "<div>\n",
       "<style scoped>\n",
       "    .dataframe tbody tr th:only-of-type {\n",
       "        vertical-align: middle;\n",
       "    }\n",
       "\n",
       "    .dataframe tbody tr th {\n",
       "        vertical-align: top;\n",
       "    }\n",
       "\n",
       "    .dataframe thead th {\n",
       "        text-align: right;\n",
       "    }\n",
       "</style>\n",
       "<table border=\"1\" class=\"dataframe\">\n",
       "  <thead>\n",
       "    <tr style=\"text-align: right;\">\n",
       "      <th></th>\n",
       "      <th>unique_id</th>\n",
       "      <th>truck_id</th>\n",
       "      <th>route_id</th>\n",
       "      <th>departure_date</th>\n",
       "      <th>estimated_arrival</th>\n",
       "      <th>delay</th>\n",
       "      <th>route_avg_temp</th>\n",
       "      <th>route_avg_wind_speed</th>\n",
       "      <th>route_avg_precip</th>\n",
       "      <th>route_avg_humidity</th>\n",
       "      <th>...</th>\n",
       "      <th>driver_id</th>\n",
       "      <th>name</th>\n",
       "      <th>gender</th>\n",
       "      <th>age</th>\n",
       "      <th>experience</th>\n",
       "      <th>driving_style</th>\n",
       "      <th>ratings</th>\n",
       "      <th>vehicle_no</th>\n",
       "      <th>average_speed_mph</th>\n",
       "      <th>is_midnight</th>\n",
       "    </tr>\n",
       "  </thead>\n",
       "  <tbody>\n",
       "    <tr>\n",
       "      <th>6</th>\n",
       "      <td>3923</td>\n",
       "      <td>22421199</td>\n",
       "      <td>R-cfa0867d</td>\n",
       "      <td>2019-02-06 07:00:00</td>\n",
       "      <td>2019-02-06 08:22:48</td>\n",
       "      <td>1</td>\n",
       "      <td>71.500000</td>\n",
       "      <td>4.500000</td>\n",
       "      <td>0.050000</td>\n",
       "      <td>81.000000</td>\n",
       "      <td>...</td>\n",
       "      <td>cbd29c89-3</td>\n",
       "      <td>Justin Johnson</td>\n",
       "      <td>male</td>\n",
       "      <td>42</td>\n",
       "      <td>10</td>\n",
       "      <td>proactive</td>\n",
       "      <td>7</td>\n",
       "      <td>22421199</td>\n",
       "      <td>60.27</td>\n",
       "      <td>0</td>\n",
       "    </tr>\n",
       "    <tr>\n",
       "      <th>7</th>\n",
       "      <td>8</td>\n",
       "      <td>35477069</td>\n",
       "      <td>R-54510e55</td>\n",
       "      <td>2019-01-29 07:00:00</td>\n",
       "      <td>2019-02-03 13:30:00</td>\n",
       "      <td>0</td>\n",
       "      <td>66.913043</td>\n",
       "      <td>5.782609</td>\n",
       "      <td>0.000000</td>\n",
       "      <td>72.086957</td>\n",
       "      <td>...</td>\n",
       "      <td>e06e8543-b</td>\n",
       "      <td>Jeremy Thomas</td>\n",
       "      <td>male</td>\n",
       "      <td>48</td>\n",
       "      <td>7</td>\n",
       "      <td>conservative</td>\n",
       "      <td>8</td>\n",
       "      <td>35477069</td>\n",
       "      <td>38.65</td>\n",
       "      <td>1</td>\n",
       "    </tr>\n",
       "    <tr>\n",
       "      <th>10</th>\n",
       "      <td>1852</td>\n",
       "      <td>32255566</td>\n",
       "      <td>R-800e2702</td>\n",
       "      <td>2019-02-03 07:00:00</td>\n",
       "      <td>2019-02-03 15:41:24</td>\n",
       "      <td>1</td>\n",
       "      <td>76.666667</td>\n",
       "      <td>7.666667</td>\n",
       "      <td>0.000000</td>\n",
       "      <td>81.666667</td>\n",
       "      <td>...</td>\n",
       "      <td>11ecb456-e</td>\n",
       "      <td>Michael Jones</td>\n",
       "      <td>male</td>\n",
       "      <td>45</td>\n",
       "      <td>11</td>\n",
       "      <td>conservative</td>\n",
       "      <td>4</td>\n",
       "      <td>32255566</td>\n",
       "      <td>35.32</td>\n",
       "      <td>0</td>\n",
       "    </tr>\n",
       "    <tr>\n",
       "      <th>11</th>\n",
       "      <td>3342</td>\n",
       "      <td>28973978</td>\n",
       "      <td>R-899d9b94</td>\n",
       "      <td>2019-02-06 07:00:00</td>\n",
       "      <td>2019-02-06 22:31:48</td>\n",
       "      <td>0</td>\n",
       "      <td>42.000000</td>\n",
       "      <td>6.250000</td>\n",
       "      <td>0.000000</td>\n",
       "      <td>76.750000</td>\n",
       "      <td>...</td>\n",
       "      <td>2f6b4176-3</td>\n",
       "      <td>Danny Short</td>\n",
       "      <td>male</td>\n",
       "      <td>49</td>\n",
       "      <td>1</td>\n",
       "      <td>proactive</td>\n",
       "      <td>3</td>\n",
       "      <td>28973978</td>\n",
       "      <td>57.87</td>\n",
       "      <td>0</td>\n",
       "    </tr>\n",
       "    <tr>\n",
       "      <th>19</th>\n",
       "      <td>7292</td>\n",
       "      <td>27384735</td>\n",
       "      <td>R-ece28f05</td>\n",
       "      <td>2019-02-03 07:00:00</td>\n",
       "      <td>2019-02-04 05:02:24</td>\n",
       "      <td>1</td>\n",
       "      <td>68.400000</td>\n",
       "      <td>7.200000</td>\n",
       "      <td>0.000000</td>\n",
       "      <td>96.400000</td>\n",
       "      <td>...</td>\n",
       "      <td>466eb5da-5</td>\n",
       "      <td>Jeremiah Edwards</td>\n",
       "      <td>male</td>\n",
       "      <td>40</td>\n",
       "      <td>2</td>\n",
       "      <td>conservative</td>\n",
       "      <td>3</td>\n",
       "      <td>27384735</td>\n",
       "      <td>51.78</td>\n",
       "      <td>1</td>\n",
       "    </tr>\n",
       "    <tr>\n",
       "      <th>...</th>\n",
       "      <td>...</td>\n",
       "      <td>...</td>\n",
       "      <td>...</td>\n",
       "      <td>...</td>\n",
       "      <td>...</td>\n",
       "      <td>...</td>\n",
       "      <td>...</td>\n",
       "      <td>...</td>\n",
       "      <td>...</td>\n",
       "      <td>...</td>\n",
       "      <td>...</td>\n",
       "      <td>...</td>\n",
       "      <td>...</td>\n",
       "      <td>...</td>\n",
       "      <td>...</td>\n",
       "      <td>...</td>\n",
       "      <td>...</td>\n",
       "      <td>...</td>\n",
       "      <td>...</td>\n",
       "      <td>...</td>\n",
       "      <td>...</td>\n",
       "    </tr>\n",
       "    <tr>\n",
       "      <th>12292</th>\n",
       "      <td>11341</td>\n",
       "      <td>21260443</td>\n",
       "      <td>R-ef208446</td>\n",
       "      <td>2019-01-31 07:00:00</td>\n",
       "      <td>2019-01-31 20:54:00</td>\n",
       "      <td>1</td>\n",
       "      <td>49.500000</td>\n",
       "      <td>12.250000</td>\n",
       "      <td>0.000000</td>\n",
       "      <td>67.750000</td>\n",
       "      <td>...</td>\n",
       "      <td>cd0764ef-b</td>\n",
       "      <td>Chad Harper</td>\n",
       "      <td>male</td>\n",
       "      <td>54</td>\n",
       "      <td>17</td>\n",
       "      <td>proactive</td>\n",
       "      <td>8</td>\n",
       "      <td>21260443</td>\n",
       "      <td>59.56</td>\n",
       "      <td>0</td>\n",
       "    </tr>\n",
       "    <tr>\n",
       "      <th>12294</th>\n",
       "      <td>8275</td>\n",
       "      <td>12642421</td>\n",
       "      <td>R-05a6b7e1</td>\n",
       "      <td>2019-02-06 07:00:00</td>\n",
       "      <td>2019-02-06 14:28:48</td>\n",
       "      <td>0</td>\n",
       "      <td>46.000000</td>\n",
       "      <td>5.000000</td>\n",
       "      <td>0.000000</td>\n",
       "      <td>50.000000</td>\n",
       "      <td>...</td>\n",
       "      <td>bc8ebe9f-5</td>\n",
       "      <td>Jeffery Johnson</td>\n",
       "      <td>male</td>\n",
       "      <td>55</td>\n",
       "      <td>13</td>\n",
       "      <td>conservative</td>\n",
       "      <td>5</td>\n",
       "      <td>12642421</td>\n",
       "      <td>56.84</td>\n",
       "      <td>0</td>\n",
       "    </tr>\n",
       "    <tr>\n",
       "      <th>12297</th>\n",
       "      <td>5955</td>\n",
       "      <td>14730346</td>\n",
       "      <td>R-c6fece3d</td>\n",
       "      <td>2019-01-31 07:00:00</td>\n",
       "      <td>2019-01-31 16:30:36</td>\n",
       "      <td>0</td>\n",
       "      <td>42.333333</td>\n",
       "      <td>7.666667</td>\n",
       "      <td>0.033333</td>\n",
       "      <td>85.000000</td>\n",
       "      <td>...</td>\n",
       "      <td>09665f38-8</td>\n",
       "      <td>Robert Russell DDS</td>\n",
       "      <td>male</td>\n",
       "      <td>40</td>\n",
       "      <td>6</td>\n",
       "      <td>conservative</td>\n",
       "      <td>2</td>\n",
       "      <td>14730346</td>\n",
       "      <td>46.49</td>\n",
       "      <td>0</td>\n",
       "    </tr>\n",
       "    <tr>\n",
       "      <th>12298</th>\n",
       "      <td>7936</td>\n",
       "      <td>10234289</td>\n",
       "      <td>R-b05ef8c9</td>\n",
       "      <td>2019-01-31 07:00:00</td>\n",
       "      <td>2019-01-31 12:55:12</td>\n",
       "      <td>0</td>\n",
       "      <td>55.333333</td>\n",
       "      <td>4.333333</td>\n",
       "      <td>0.000000</td>\n",
       "      <td>39.000000</td>\n",
       "      <td>...</td>\n",
       "      <td>5050d6b3-b</td>\n",
       "      <td>Maurice Howe</td>\n",
       "      <td>male</td>\n",
       "      <td>53</td>\n",
       "      <td>26</td>\n",
       "      <td>proactive</td>\n",
       "      <td>6</td>\n",
       "      <td>10234289</td>\n",
       "      <td>61.97</td>\n",
       "      <td>0</td>\n",
       "    </tr>\n",
       "    <tr>\n",
       "      <th>12302</th>\n",
       "      <td>9405</td>\n",
       "      <td>18493697</td>\n",
       "      <td>R-5c9a7270</td>\n",
       "      <td>2019-02-05 07:00:00</td>\n",
       "      <td>2019-02-06 09:24:00</td>\n",
       "      <td>1</td>\n",
       "      <td>74.833333</td>\n",
       "      <td>5.166667</td>\n",
       "      <td>0.016667</td>\n",
       "      <td>63.333333</td>\n",
       "      <td>...</td>\n",
       "      <td>2ac3deaa-5</td>\n",
       "      <td>Michael Barber</td>\n",
       "      <td>male</td>\n",
       "      <td>64</td>\n",
       "      <td>30</td>\n",
       "      <td>proactive</td>\n",
       "      <td>6</td>\n",
       "      <td>18493697</td>\n",
       "      <td>57.13</td>\n",
       "      <td>1</td>\n",
       "    </tr>\n",
       "  </tbody>\n",
       "</table>\n",
       "<p>2336 rows × 49 columns</p>\n",
       "</div>"
      ],
      "text/plain": [
       "       unique_id  truck_id    route_id      departure_date  \\\n",
       "6           3923  22421199  R-cfa0867d 2019-02-06 07:00:00   \n",
       "7              8  35477069  R-54510e55 2019-01-29 07:00:00   \n",
       "10          1852  32255566  R-800e2702 2019-02-03 07:00:00   \n",
       "11          3342  28973978  R-899d9b94 2019-02-06 07:00:00   \n",
       "19          7292  27384735  R-ece28f05 2019-02-03 07:00:00   \n",
       "...          ...       ...         ...                 ...   \n",
       "12292      11341  21260443  R-ef208446 2019-01-31 07:00:00   \n",
       "12294       8275  12642421  R-05a6b7e1 2019-02-06 07:00:00   \n",
       "12297       5955  14730346  R-c6fece3d 2019-01-31 07:00:00   \n",
       "12298       7936  10234289  R-b05ef8c9 2019-01-31 07:00:00   \n",
       "12302       9405  18493697  R-5c9a7270 2019-02-05 07:00:00   \n",
       "\n",
       "        estimated_arrival  delay  route_avg_temp  route_avg_wind_speed  \\\n",
       "6     2019-02-06 08:22:48      1       71.500000              4.500000   \n",
       "7     2019-02-03 13:30:00      0       66.913043              5.782609   \n",
       "10    2019-02-03 15:41:24      1       76.666667              7.666667   \n",
       "11    2019-02-06 22:31:48      0       42.000000              6.250000   \n",
       "19    2019-02-04 05:02:24      1       68.400000              7.200000   \n",
       "...                   ...    ...             ...                   ...   \n",
       "12292 2019-01-31 20:54:00      1       49.500000             12.250000   \n",
       "12294 2019-02-06 14:28:48      0       46.000000              5.000000   \n",
       "12297 2019-01-31 16:30:36      0       42.333333              7.666667   \n",
       "12298 2019-01-31 12:55:12      0       55.333333              4.333333   \n",
       "12302 2019-02-06 09:24:00      1       74.833333              5.166667   \n",
       "\n",
       "       route_avg_precip  route_avg_humidity  ...   driver_id  \\\n",
       "6              0.050000           81.000000  ...  cbd29c89-3   \n",
       "7              0.000000           72.086957  ...  e06e8543-b   \n",
       "10             0.000000           81.666667  ...  11ecb456-e   \n",
       "11             0.000000           76.750000  ...  2f6b4176-3   \n",
       "19             0.000000           96.400000  ...  466eb5da-5   \n",
       "...                 ...                 ...  ...         ...   \n",
       "12292          0.000000           67.750000  ...  cd0764ef-b   \n",
       "12294          0.000000           50.000000  ...  bc8ebe9f-5   \n",
       "12297          0.033333           85.000000  ...  09665f38-8   \n",
       "12298          0.000000           39.000000  ...  5050d6b3-b   \n",
       "12302          0.016667           63.333333  ...  2ac3deaa-5   \n",
       "\n",
       "                     name gender age experience driving_style ratings  \\\n",
       "6          Justin Johnson   male  42         10     proactive       7   \n",
       "7           Jeremy Thomas   male  48          7  conservative       8   \n",
       "10          Michael Jones   male  45         11  conservative       4   \n",
       "11            Danny Short   male  49          1     proactive       3   \n",
       "19       Jeremiah Edwards   male  40          2  conservative       3   \n",
       "...                   ...    ...  ..        ...           ...     ...   \n",
       "12292         Chad Harper   male  54         17     proactive       8   \n",
       "12294     Jeffery Johnson   male  55         13  conservative       5   \n",
       "12297  Robert Russell DDS   male  40          6  conservative       2   \n",
       "12298        Maurice Howe   male  53         26     proactive       6   \n",
       "12302      Michael Barber   male  64         30     proactive       6   \n",
       "\n",
       "       vehicle_no  average_speed_mph  is_midnight  \n",
       "6        22421199              60.27            0  \n",
       "7        35477069              38.65            1  \n",
       "10       32255566              35.32            0  \n",
       "11       28973978              57.87            0  \n",
       "19       27384735              51.78            1  \n",
       "...           ...                ...          ...  \n",
       "12292    21260443              59.56            0  \n",
       "12294    12642421              56.84            0  \n",
       "12297    14730346              46.49            0  \n",
       "12298    10234289              61.97            0  \n",
       "12302    18493697              57.13            1  \n",
       "\n",
       "[2336 rows x 49 columns]"
      ]
     },
     "execution_count": 22,
     "metadata": {},
     "output_type": "execute_result"
    }
   ],
   "source": [
    "validation_df"
   ]
  },
  {
   "cell_type": "code",
   "execution_count": 23,
   "metadata": {},
   "outputs": [],
   "source": [
    "X_valid = validation_df[cts_cols + cat_cols]\n",
    "\n",
    "y_valid = validation_df['delay']\n",
    "\n",
    "X_test=test_df[cts_cols+cat_cols]\n",
    "\n",
    "y_test=test_df['delay']"
   ]
  },
  {
   "cell_type": "code",
   "execution_count": 24,
   "metadata": {},
   "outputs": [
    {
     "data": {
      "text/plain": [
       "0    3000.0\n",
       "Name: load_capacity_pounds, dtype: float64"
      ]
     },
     "execution_count": 24,
     "metadata": {},
     "output_type": "execute_result"
    }
   ],
   "source": [
    "load_capacity_mode = X_train['load_capacity_pounds'].mode()\n",
    "\n",
    "load_capacity_mode"
   ]
  },
  {
   "cell_type": "code",
   "execution_count": 25,
   "metadata": {},
   "outputs": [],
   "source": [
    "X_train['load_capacity_pounds']=X_train['load_capacity_pounds'].fillna(load_capacity_mode.iloc[0])\n",
    "X_valid['load_capacity_pounds']=X_valid['load_capacity_pounds'].fillna(load_capacity_mode.iloc[0])\n",
    "X_test['load_capacity_pounds']=X_test['load_capacity_pounds'].fillna(load_capacity_mode.iloc[0])"
   ]
  },
  {
   "cell_type": "code",
   "execution_count": 26,
   "metadata": {},
   "outputs": [
    {
     "data": {
      "text/plain": [
       "route_avg_temp             0\n",
       "route_avg_wind_speed       0\n",
       "route_avg_precip           0\n",
       "route_avg_humidity         0\n",
       "route_avg_visibility       0\n",
       "route_avg_pressure         0\n",
       "distance                   0\n",
       "average_hours              0\n",
       "origin_temp                0\n",
       "origin_wind_speed          0\n",
       "origin_precip              0\n",
       "origin_humidity            0\n",
       "origin_visibility          0\n",
       "origin_pressure            0\n",
       "destination_temp           0\n",
       "destination_wind_speed     0\n",
       "destination_precip         0\n",
       "destination_humidity       0\n",
       "destination_visibility     0\n",
       "destination_pressure       0\n",
       "avg_no_of_vehicles         0\n",
       "truck_age                  0\n",
       "load_capacity_pounds       0\n",
       "mileage_mpg                0\n",
       "age                        0\n",
       "experience                 0\n",
       "average_speed_mph          0\n",
       "route_description          0\n",
       "origin_description         0\n",
       "destination_description    0\n",
       "accident                   0\n",
       "fuel_type                  0\n",
       "gender                     0\n",
       "driving_style              0\n",
       "ratings                    0\n",
       "is_midnight                0\n",
       "dtype: int64"
      ]
     },
     "execution_count": 26,
     "metadata": {},
     "output_type": "execute_result"
    }
   ],
   "source": [
    "X_train.isna().sum()"
   ]
  },
  {
   "cell_type": "code",
   "execution_count": 27,
   "metadata": {},
   "outputs": [
    {
     "data": {
      "text/plain": [
       "route_avg_temp             0\n",
       "route_avg_wind_speed       0\n",
       "route_avg_precip           0\n",
       "route_avg_humidity         0\n",
       "route_avg_visibility       0\n",
       "route_avg_pressure         0\n",
       "distance                   0\n",
       "average_hours              0\n",
       "origin_temp                0\n",
       "origin_wind_speed          0\n",
       "origin_precip              0\n",
       "origin_humidity            0\n",
       "origin_visibility          0\n",
       "origin_pressure            0\n",
       "destination_temp           0\n",
       "destination_wind_speed     0\n",
       "destination_precip         0\n",
       "destination_humidity       0\n",
       "destination_visibility     0\n",
       "destination_pressure       0\n",
       "avg_no_of_vehicles         0\n",
       "truck_age                  0\n",
       "load_capacity_pounds       0\n",
       "mileage_mpg                0\n",
       "age                        0\n",
       "experience                 0\n",
       "average_speed_mph          0\n",
       "route_description          0\n",
       "origin_description         0\n",
       "destination_description    0\n",
       "accident                   0\n",
       "fuel_type                  0\n",
       "gender                     0\n",
       "driving_style              0\n",
       "ratings                    0\n",
       "is_midnight                0\n",
       "dtype: int64"
      ]
     },
     "execution_count": 27,
     "metadata": {},
     "output_type": "execute_result"
    }
   ],
   "source": [
    "X_valid.isna().sum()"
   ]
  },
  {
   "cell_type": "code",
   "execution_count": 28,
   "metadata": {},
   "outputs": [
    {
     "data": {
      "text/plain": [
       "route_avg_temp             0\n",
       "route_avg_wind_speed       0\n",
       "route_avg_precip           0\n",
       "route_avg_humidity         0\n",
       "route_avg_visibility       0\n",
       "route_avg_pressure         0\n",
       "distance                   0\n",
       "average_hours              0\n",
       "origin_temp                0\n",
       "origin_wind_speed          0\n",
       "origin_precip              0\n",
       "origin_humidity            0\n",
       "origin_visibility          0\n",
       "origin_pressure            0\n",
       "destination_temp           0\n",
       "destination_wind_speed     0\n",
       "destination_precip         0\n",
       "destination_humidity       0\n",
       "destination_visibility     0\n",
       "destination_pressure       0\n",
       "avg_no_of_vehicles         0\n",
       "truck_age                  0\n",
       "load_capacity_pounds       0\n",
       "mileage_mpg                0\n",
       "age                        0\n",
       "experience                 0\n",
       "average_speed_mph          0\n",
       "route_description          0\n",
       "origin_description         0\n",
       "destination_description    0\n",
       "accident                   0\n",
       "fuel_type                  0\n",
       "gender                     0\n",
       "driving_style              0\n",
       "ratings                    0\n",
       "is_midnight                0\n",
       "dtype: int64"
      ]
     },
     "execution_count": 28,
     "metadata": {},
     "output_type": "execute_result"
    }
   ],
   "source": [
    "X_test.isna().sum()\n"
   ]
  },
  {
   "cell_type": "code",
   "execution_count": 29,
   "metadata": {},
   "outputs": [],
   "source": [
    "# Importing Standard Scaler and One-Hot Encoder\n",
    "from sklearn.preprocessing import OneHotEncoder\n",
    "from pickle import dump\n"
   ]
  },
  {
   "cell_type": "code",
   "execution_count": 30,
   "metadata": {},
   "outputs": [],
   "source": [
    "#! pip install streamlit==1.29.0 joblib==1.3.2 wandb==0.16.1 xgboost==2.0.2 scikit_learn==1.2.2\n",
    "#! pip install pandas==1.5.3"
   ]
  },
  {
   "cell_type": "code",
   "execution_count": 31,
   "metadata": {},
   "outputs": [],
   "source": [
    "# Importing Standard Scaler and One-Hot Encoder\n",
    "from sklearn.preprocessing import OneHotEncoder\n",
    "from pickle import dump\n"
   ]
  },
  {
   "cell_type": "code",
   "execution_count": 32,
   "metadata": {},
   "outputs": [],
   "source": [
    "# Creating the One-Hot Encoder\n",
    "encoder = OneHotEncoder(sparse=False, handle_unknown='ignore')"
   ]
  },
  {
   "cell_type": "code",
   "execution_count": 33,
   "metadata": {},
   "outputs": [],
   "source": [
    "# Specifying columns to be encoded\n",
    "encode_columns = ['route_description', 'origin_description', 'destination_description', 'fuel_type', 'gender', 'driving_style']"
   ]
  },
  {
   "cell_type": "code",
   "execution_count": 34,
   "metadata": {},
   "outputs": [
    {
     "data": {
      "text/html": [
       "<style>#sk-container-id-1 {color: black;background-color: white;}#sk-container-id-1 pre{padding: 0;}#sk-container-id-1 div.sk-toggleable {background-color: white;}#sk-container-id-1 label.sk-toggleable__label {cursor: pointer;display: block;width: 100%;margin-bottom: 0;padding: 0.3em;box-sizing: border-box;text-align: center;}#sk-container-id-1 label.sk-toggleable__label-arrow:before {content: \"▸\";float: left;margin-right: 0.25em;color: #696969;}#sk-container-id-1 label.sk-toggleable__label-arrow:hover:before {color: black;}#sk-container-id-1 div.sk-estimator:hover label.sk-toggleable__label-arrow:before {color: black;}#sk-container-id-1 div.sk-toggleable__content {max-height: 0;max-width: 0;overflow: hidden;text-align: left;background-color: #f0f8ff;}#sk-container-id-1 div.sk-toggleable__content pre {margin: 0.2em;color: black;border-radius: 0.25em;background-color: #f0f8ff;}#sk-container-id-1 input.sk-toggleable__control:checked~div.sk-toggleable__content {max-height: 200px;max-width: 100%;overflow: auto;}#sk-container-id-1 input.sk-toggleable__control:checked~label.sk-toggleable__label-arrow:before {content: \"▾\";}#sk-container-id-1 div.sk-estimator input.sk-toggleable__control:checked~label.sk-toggleable__label {background-color: #d4ebff;}#sk-container-id-1 div.sk-label input.sk-toggleable__control:checked~label.sk-toggleable__label {background-color: #d4ebff;}#sk-container-id-1 input.sk-hidden--visually {border: 0;clip: rect(1px 1px 1px 1px);clip: rect(1px, 1px, 1px, 1px);height: 1px;margin: -1px;overflow: hidden;padding: 0;position: absolute;width: 1px;}#sk-container-id-1 div.sk-estimator {font-family: monospace;background-color: #f0f8ff;border: 1px dotted black;border-radius: 0.25em;box-sizing: border-box;margin-bottom: 0.5em;}#sk-container-id-1 div.sk-estimator:hover {background-color: #d4ebff;}#sk-container-id-1 div.sk-parallel-item::after {content: \"\";width: 100%;border-bottom: 1px solid gray;flex-grow: 1;}#sk-container-id-1 div.sk-label:hover label.sk-toggleable__label {background-color: #d4ebff;}#sk-container-id-1 div.sk-serial::before {content: \"\";position: absolute;border-left: 1px solid gray;box-sizing: border-box;top: 0;bottom: 0;left: 50%;z-index: 0;}#sk-container-id-1 div.sk-serial {display: flex;flex-direction: column;align-items: center;background-color: white;padding-right: 0.2em;padding-left: 0.2em;position: relative;}#sk-container-id-1 div.sk-item {position: relative;z-index: 1;}#sk-container-id-1 div.sk-parallel {display: flex;align-items: stretch;justify-content: center;background-color: white;position: relative;}#sk-container-id-1 div.sk-item::before, #sk-container-id-1 div.sk-parallel-item::before {content: \"\";position: absolute;border-left: 1px solid gray;box-sizing: border-box;top: 0;bottom: 0;left: 50%;z-index: -1;}#sk-container-id-1 div.sk-parallel-item {display: flex;flex-direction: column;z-index: 1;position: relative;background-color: white;}#sk-container-id-1 div.sk-parallel-item:first-child::after {align-self: flex-end;width: 50%;}#sk-container-id-1 div.sk-parallel-item:last-child::after {align-self: flex-start;width: 50%;}#sk-container-id-1 div.sk-parallel-item:only-child::after {width: 0;}#sk-container-id-1 div.sk-dashed-wrapped {border: 1px dashed gray;margin: 0 0.4em 0.5em 0.4em;box-sizing: border-box;padding-bottom: 0.4em;background-color: white;}#sk-container-id-1 div.sk-label label {font-family: monospace;font-weight: bold;display: inline-block;line-height: 1.2em;}#sk-container-id-1 div.sk-label-container {text-align: center;}#sk-container-id-1 div.sk-container {/* jupyter's `normalize.less` sets `[hidden] { display: none; }` but bootstrap.min.css set `[hidden] { display: none !important; }` so we also need the `!important` here to be able to override the default hidden behavior on the sphinx rendered scikit-learn.org. See: https://github.com/scikit-learn/scikit-learn/issues/21755 */display: inline-block !important;position: relative;}#sk-container-id-1 div.sk-text-repr-fallback {display: none;}</style><div id=\"sk-container-id-1\" class=\"sk-top-container\"><div class=\"sk-text-repr-fallback\"><pre>OneHotEncoder(handle_unknown=&#x27;ignore&#x27;, sparse=False, sparse_output=False)</pre><b>In a Jupyter environment, please rerun this cell to show the HTML representation or trust the notebook. <br />On GitHub, the HTML representation is unable to render, please try loading this page with nbviewer.org.</b></div><div class=\"sk-container\" hidden><div class=\"sk-item\"><div class=\"sk-estimator sk-toggleable\"><input class=\"sk-toggleable__control sk-hidden--visually\" id=\"sk-estimator-id-1\" type=\"checkbox\" checked><label for=\"sk-estimator-id-1\" class=\"sk-toggleable__label sk-toggleable__label-arrow\">OneHotEncoder</label><div class=\"sk-toggleable__content\"><pre>OneHotEncoder(handle_unknown=&#x27;ignore&#x27;, sparse=False, sparse_output=False)</pre></div></div></div></div></div>"
      ],
      "text/plain": [
       "OneHotEncoder(handle_unknown='ignore', sparse=False, sparse_output=False)"
      ]
     },
     "execution_count": 34,
     "metadata": {},
     "output_type": "execute_result"
    }
   ],
   "source": [
    "# Fitting the encoder on the training data\n",
    "encoder.fit(X_train[encode_columns])"
   ]
  },
  {
   "cell_type": "code",
   "execution_count": 35,
   "metadata": {},
   "outputs": [],
   "source": [
    "# Generating names for the new one-hot encoded features\n",
    "encoded_features = list(encoder.get_feature_names_out(encode_columns))"
   ]
  },
  {
   "cell_type": "code",
   "execution_count": 36,
   "metadata": {},
   "outputs": [
    {
     "data": {
      "text/plain": [
       "['route_description_Blizzard',\n",
       " 'route_description_Blowing snow',\n",
       " 'route_description_Clear',\n",
       " 'route_description_Cloudy',\n",
       " 'route_description_Fog',\n",
       " 'route_description_Freezing drizzle',\n",
       " 'route_description_Freezing fog',\n",
       " 'route_description_Heavy rain',\n",
       " 'route_description_Heavy rain at times',\n",
       " 'route_description_Heavy snow',\n",
       " 'route_description_Light drizzle',\n",
       " 'route_description_Light freezing rain',\n",
       " 'route_description_Light rain',\n",
       " 'route_description_Light rain shower',\n",
       " 'route_description_Light sleet',\n",
       " 'route_description_Light sleet showers',\n",
       " 'route_description_Light snow',\n",
       " 'route_description_Mist',\n",
       " 'route_description_Moderate or heavy freezing rain',\n",
       " 'route_description_Moderate or heavy rain shower',\n",
       " 'route_description_Moderate or heavy rain with thunder',\n",
       " 'route_description_Moderate or heavy sleet',\n",
       " 'route_description_Moderate or heavy sleet showers',\n",
       " 'route_description_Moderate or heavy snow showers',\n",
       " 'route_description_Moderate or heavy snow with thunder',\n",
       " 'route_description_Moderate rain',\n",
       " 'route_description_Moderate rain at times',\n",
       " 'route_description_Moderate snow',\n",
       " 'route_description_Overcast',\n",
       " 'route_description_Partly cloudy',\n",
       " 'route_description_Patchy heavy snow',\n",
       " 'route_description_Patchy light drizzle',\n",
       " 'route_description_Patchy light rain',\n",
       " 'route_description_Patchy light rain with thunder',\n",
       " 'route_description_Patchy light snow',\n",
       " 'route_description_Patchy light snow with thunder',\n",
       " 'route_description_Patchy moderate snow',\n",
       " 'route_description_Patchy rain possible',\n",
       " 'route_description_Patchy sleet possible',\n",
       " 'route_description_Patchy snow possible',\n",
       " 'route_description_Sunny',\n",
       " 'route_description_Thundery outbreaks possible',\n",
       " 'route_description_Torrential rain shower',\n",
       " 'origin_description_Blizzard',\n",
       " 'origin_description_Blowing snow',\n",
       " 'origin_description_Cloudy',\n",
       " 'origin_description_Heavy freezing drizzle',\n",
       " 'origin_description_Heavy rain',\n",
       " 'origin_description_Heavy snow',\n",
       " 'origin_description_Ice pellets',\n",
       " 'origin_description_Light drizzle',\n",
       " 'origin_description_Light freezing rain',\n",
       " 'origin_description_Light rain',\n",
       " 'origin_description_Light rain shower',\n",
       " 'origin_description_Light snow',\n",
       " 'origin_description_Mist',\n",
       " 'origin_description_Moderate or heavy freezing rain',\n",
       " 'origin_description_Moderate or heavy rain shower',\n",
       " 'origin_description_Moderate or heavy rain with thunder',\n",
       " 'origin_description_Moderate rain',\n",
       " 'origin_description_Moderate rain at times',\n",
       " 'origin_description_Moderate snow',\n",
       " 'origin_description_Overcast',\n",
       " 'origin_description_Partly cloudy',\n",
       " 'origin_description_Patchy heavy snow',\n",
       " 'origin_description_Patchy light drizzle',\n",
       " 'origin_description_Patchy light rain',\n",
       " 'origin_description_Patchy light snow',\n",
       " 'origin_description_Patchy moderate snow',\n",
       " 'origin_description_Patchy rain possible',\n",
       " 'origin_description_Patchy snow possible',\n",
       " 'origin_description_Sunny',\n",
       " 'origin_description_Torrential rain shower',\n",
       " 'destination_description_Blizzard',\n",
       " 'destination_description_Blowing snow',\n",
       " 'destination_description_Clear',\n",
       " 'destination_description_Cloudy',\n",
       " 'destination_description_Fog',\n",
       " 'destination_description_Freezing fog',\n",
       " 'destination_description_Heavy freezing drizzle',\n",
       " 'destination_description_Heavy rain',\n",
       " 'destination_description_Heavy rain at times',\n",
       " 'destination_description_Heavy snow',\n",
       " 'destination_description_Ice pellets',\n",
       " 'destination_description_Light drizzle',\n",
       " 'destination_description_Light freezing rain',\n",
       " 'destination_description_Light rain',\n",
       " 'destination_description_Light rain shower',\n",
       " 'destination_description_Light sleet',\n",
       " 'destination_description_Light snow',\n",
       " 'destination_description_Light snow showers',\n",
       " 'destination_description_Mist',\n",
       " 'destination_description_Moderate or heavy freezing rain',\n",
       " 'destination_description_Moderate or heavy rain shower',\n",
       " 'destination_description_Moderate or heavy rain with thunder',\n",
       " 'destination_description_Moderate or heavy showers of ice pellets',\n",
       " 'destination_description_Moderate or heavy sleet',\n",
       " 'destination_description_Moderate or heavy snow showers',\n",
       " 'destination_description_Moderate rain',\n",
       " 'destination_description_Moderate rain at times',\n",
       " 'destination_description_Moderate snow',\n",
       " 'destination_description_Overcast',\n",
       " 'destination_description_Partly cloudy',\n",
       " 'destination_description_Patchy heavy snow',\n",
       " 'destination_description_Patchy light drizzle',\n",
       " 'destination_description_Patchy light rain',\n",
       " 'destination_description_Patchy light snow',\n",
       " 'destination_description_Patchy moderate snow',\n",
       " 'destination_description_Patchy rain possible',\n",
       " 'destination_description_Patchy sleet possible',\n",
       " 'destination_description_Patchy snow possible',\n",
       " 'destination_description_Sunny',\n",
       " 'destination_description_Torrential rain shower',\n",
       " 'fuel_type_Unknown',\n",
       " 'fuel_type_diesel',\n",
       " 'fuel_type_gas',\n",
       " 'gender_Unknown',\n",
       " 'gender_female',\n",
       " 'gender_male',\n",
       " 'driving_style_Unknown',\n",
       " 'driving_style_conservative',\n",
       " 'driving_style_proactive']"
      ]
     },
     "execution_count": 36,
     "metadata": {},
     "output_type": "execute_result"
    }
   ],
   "source": [
    "encoded_features"
   ]
  },
  {
   "cell_type": "code",
   "execution_count": 37,
   "metadata": {},
   "outputs": [],
   "source": [
    "# Transforming the training, validation, and test sets\n",
    "\n",
    "X_train[encoded_features] = encoder.transform(X_train[encode_columns])\n",
    "\n",
    "X_valid[encoded_features] = encoder.transform(X_valid[encode_columns])\n",
    "\n",
    "X_test[encoded_features] = encoder.transform(X_test[encode_columns])"
   ]
  },
  {
   "cell_type": "code",
   "execution_count": 38,
   "metadata": {},
   "outputs": [],
   "source": [
    "# Dumping the encoder for future use\n",
    "dump(encoder, open('truck_data_encoder.pkl', 'wb'))"
   ]
  },
  {
   "cell_type": "code",
   "execution_count": 39,
   "metadata": {},
   "outputs": [],
   "source": [
    "# Dropping the original categorical features\n",
    "\n",
    "X_train = X_train.drop(encode_columns, axis=1)\n",
    "\n",
    "X_valid = X_valid.drop(encode_columns, axis=1)\n",
    "\n",
    "X_test = X_test.drop(encode_columns, axis=1)"
   ]
  },
  {
   "cell_type": "markdown",
   "metadata": {},
   "source": [
    "### Scaling"
   ]
  },
  {
   "cell_type": "code",
   "execution_count": 40,
   "metadata": {},
   "outputs": [],
   "source": [
    "# Import Scaler\n",
    "from sklearn.preprocessing import StandardScaler"
   ]
  },
  {
   "cell_type": "code",
   "execution_count": 41,
   "metadata": {},
   "outputs": [],
   "source": [
    "scaler = StandardScaler()"
   ]
  },
  {
   "cell_type": "code",
   "execution_count": 42,
   "metadata": {},
   "outputs": [],
   "source": [
    "# Scale Separate Columns\n",
    "\n",
    "# train\n",
    "\n",
    "X_train[cts_cols] = scaler.fit_transform(X_train[cts_cols])"
   ]
  },
  {
   "cell_type": "code",
   "execution_count": 43,
   "metadata": {},
   "outputs": [],
   "source": [
    "# valid\n",
    "\n",
    "X_valid[cts_cols] = scaler.transform(X_valid[cts_cols])\n",
    "\n",
    "\n",
    "# test\n",
    "\n",
    "X_test[cts_cols] = scaler.transform(X_test[cts_cols])"
   ]
  },
  {
   "cell_type": "code",
   "execution_count": 44,
   "metadata": {},
   "outputs": [],
   "source": [
    "# Dump the scaler to use in transforming test data\n",
    "\n",
    "dump(scaler, open('truck_data_scaler.pkl', 'wb'))"
   ]
  },
  {
   "cell_type": "code",
   "execution_count": null,
   "metadata": {},
   "outputs": [],
   "source": []
  },
  {
   "cell_type": "markdown",
   "metadata": {},
   "source": [
    "### Connecting to WAB"
   ]
  },
  {
   "cell_type": "code",
   "execution_count": 45,
   "metadata": {},
   "outputs": [
    {
     "name": "stdout",
     "output_type": "stream",
     "text": [
      "2024-08-05 16:17:19,355 WARNING: DeprecationWarning: pkg_resources is deprecated as an API. See https://setuptools.pypa.io/en/latest/pkg_resources.html\n",
      "\n",
      "2024-08-05 16:17:19,579 WARNING: DeprecationWarning: Deprecated call to `pkg_resources.declare_namespace('mpl_toolkits')`.\n",
      "Implementing implicit namespace packages (as specified in PEP 420) is preferred to `pkg_resources.declare_namespace`. See https://setuptools.pypa.io/en/latest/references/keywords.html#keyword-namespace-packages\n",
      "\n",
      "2024-08-05 16:17:19,613 WARNING: DeprecationWarning: Deprecated call to `pkg_resources.declare_namespace('ruamel')`.\n",
      "Implementing implicit namespace packages (as specified in PEP 420) is preferred to `pkg_resources.declare_namespace`. See https://setuptools.pypa.io/en/latest/references/keywords.html#keyword-namespace-packages\n",
      "\n",
      "2024-08-05 16:17:20,580 WARNING: SentryHubDeprecationWarning: `sentry_sdk.Hub` is deprecated and will be removed in a future major release. Please consult our 1.x to 2.x migration guide for details on how to migrate `Hub` usage to the new API: https://docs.sentry.io/platforms/python/migration/1.x-to-2.x\n",
      "\n"
     ]
    }
   ],
   "source": [
    "# Import Libraries\n",
    "import wandb\n",
    "import joblib\n",
    "import os\n",
    "import pandas as pd\n",
    "import credentials\n",
    "import wandb\n",
    "#! wandb login <>"
   ]
  },
  {
   "cell_type": "code",
   "execution_count": 46,
   "metadata": {},
   "outputs": [
    {
     "name": "stdout",
     "output_type": "stream",
     "text": [
      "2024-08-05 16:17:22,650 ERROR: Failed to detect the name of this notebook, you can set it manually with the WANDB_NOTEBOOK_NAME environment variable to enable code saving.\n"
     ]
    },
    {
     "name": "stderr",
     "output_type": "stream",
     "text": [
      "wandb: Currently logged in as: harshmpandya-00 (harshmp). Use `wandb login --relogin` to force relogin\n"
     ]
    },
    {
     "data": {
      "text/plain": [
       "True"
      ]
     },
     "execution_count": 46,
     "metadata": {},
     "output_type": "execute_result"
    }
   ],
   "source": [
    "wandb.login()"
   ]
  },
  {
   "cell_type": "code",
   "execution_count": 47,
   "metadata": {},
   "outputs": [],
   "source": [
    "# constants for interacting with W&B\n",
    "\n",
    "USER_NAME = credentials.wb_username\n",
    "PROJECT_NAME = credentials.wb_proj_name"
   ]
  },
  {
   "cell_type": "code",
   "execution_count": 61,
   "metadata": {},
   "outputs": [],
   "source": [
    "# Importing training libraries and evaluation metrics\n",
    "\n",
    "from sklearn.metrics import f1_score, recall_score, confusion_matrix, roc_auc_score\n",
    "\n",
    "from sklearn.linear_model import LogisticRegression\n",
    "\n",
    "from sklearn.model_selection import train_test_split\n",
    "\n",
    "from sklearn.ensemble import RandomForestClassifier\n",
    "\n",
    "from xgboost import XGBClassifier\n",
    "\n",
    "from sklearn.model_selection import GridSearchCV"
   ]
  },
  {
   "cell_type": "code",
   "execution_count": 49,
   "metadata": {},
   "outputs": [],
   "source": [
    "# Evaluation function\n",
    "# #Columns needed to compare metrics\n",
    "comparison_columns = ['Model_Name', 'Train_F1score', 'Train_Recall', 'Valid_F1score', 'Valid_Recall', 'Test_F1score', 'Test_Recall']\n",
    "\n",
    "comparison_df = pd.DataFrame()\n",
    "\n",
    "\n",
    "\n",
    "def evaluate_models(model_name, model_defined_var, X_train, y_train, X_valid, y_valid, X_test, y_test):\n",
    "  ''' This function predicts and evaluates various models for classification'''\n",
    "\n",
    "  # train predictions\n",
    "  y_train_pred = model_defined_var.predict(X_train)\n",
    "  # train performance\n",
    "  train_f1_score = f1_score(y_train, y_train_pred)\n",
    "  train_recall = recall_score(y_train, y_train_pred)\n",
    "\n",
    "  # validation predictions\n",
    "  y_valid_pred = model_defined_var.predict(X_valid)\n",
    "  # validation performance\n",
    "  valid_f1_score = f1_score(y_valid, y_valid_pred)\n",
    "  valid_recall = recall_score(y_valid, y_valid_pred)\n",
    "\n",
    "  # test predictions\n",
    "  y_pred = model_defined_var.predict(X_test)\n",
    "  # test performance\n",
    "  test_f1_score = f1_score(y_test, y_pred)\n",
    "  test_recall = recall_score(y_test, y_pred)\n",
    "\n",
    "  # Printing performance\n",
    "  print(\"Train Results\")\n",
    "  print(f'F1 Score: {train_f1_score}')\n",
    "  print(f'Recall Score: {train_recall}')\n",
    "  print(f'Confusion Matrix: \\n{confusion_matrix(y_train, y_train_pred)}')\n",
    "  print(f'Area Under Curve: {roc_auc_score(y_train, y_train_pred)}')\n",
    "\n",
    "  print(\" \")\n",
    "\n",
    "  print(\"Validation Results\")\n",
    "  print(f'F1 Score: {valid_f1_score}')\n",
    "  print(f'Recall Score: {valid_recall}')\n",
    "  print(f'Confusion Matrix: \\n{confusion_matrix(y_valid, y_valid_pred)}')\n",
    "  print(f'Area Under Curve: {roc_auc_score(y_valid, y_valid_pred)}')\n",
    "\n",
    "  print(\" \")\n",
    "\n",
    "  print(\"Test Results\")\n",
    "  print(f'F1 Score: {test_f1_score}')\n",
    "  print(f'Recall Score: {test_recall}')\n",
    "  print(f'Confusion Matrix: \\n{confusion_matrix(y_test, y_pred)}')\n",
    "  print(f'Area Under Curve: {roc_auc_score(y_test, y_pred)}')\n",
    "\n",
    "  # Saving our results\n",
    "  global comparison_columns\n",
    "  metric_scores = [model_name, train_f1_score, train_recall, valid_f1_score, valid_recall, test_f1_score, test_recall]\n",
    "  final_dict = dict(zip(comparison_columns, metric_scores))\n",
    "  return final_dict\n",
    "\n",
    "\n",
    "final_list = []\n",
    "def add_dic_to_final_df(final_dict):\n",
    "  global final_list\n",
    "  final_list.append(final_dict)\n",
    "  global comparison_df\n",
    "  comparison_df = pd.DataFrame(final_list, columns=comparison_columns)\n"
   ]
  },
  {
   "cell_type": "code",
   "execution_count": 50,
   "metadata": {},
   "outputs": [
    {
     "data": {
      "text/plain": [
       "{0: 5551, 1: 2651}"
      ]
     },
     "execution_count": 50,
     "metadata": {},
     "output_type": "execute_result"
    }
   ],
   "source": [
    "y_train.value_counts().to_dict()"
   ]
  },
  {
   "cell_type": "code",
   "execution_count": 51,
   "metadata": {},
   "outputs": [
    {
     "data": {
      "text/plain": [
       "(0.7387858043595749, 1.5469634100339495)"
      ]
     },
     "execution_count": 51,
     "metadata": {},
     "output_type": "execute_result"
    }
   ],
   "source": [
    "# 2 = numebr of classes \n",
    "weights = len(X_train)/(2*(y_train.value_counts().to_dict()[0])), len(X_train)/(2*(y_train.value_counts().to_dict()[1]))\n",
    "weights"
   ]
  },
  {
   "cell_type": "code",
   "execution_count": 52,
   "metadata": {},
   "outputs": [
    {
     "data": {
      "text/html": [
       "<style>#sk-container-id-2 {color: black;background-color: white;}#sk-container-id-2 pre{padding: 0;}#sk-container-id-2 div.sk-toggleable {background-color: white;}#sk-container-id-2 label.sk-toggleable__label {cursor: pointer;display: block;width: 100%;margin-bottom: 0;padding: 0.3em;box-sizing: border-box;text-align: center;}#sk-container-id-2 label.sk-toggleable__label-arrow:before {content: \"▸\";float: left;margin-right: 0.25em;color: #696969;}#sk-container-id-2 label.sk-toggleable__label-arrow:hover:before {color: black;}#sk-container-id-2 div.sk-estimator:hover label.sk-toggleable__label-arrow:before {color: black;}#sk-container-id-2 div.sk-toggleable__content {max-height: 0;max-width: 0;overflow: hidden;text-align: left;background-color: #f0f8ff;}#sk-container-id-2 div.sk-toggleable__content pre {margin: 0.2em;color: black;border-radius: 0.25em;background-color: #f0f8ff;}#sk-container-id-2 input.sk-toggleable__control:checked~div.sk-toggleable__content {max-height: 200px;max-width: 100%;overflow: auto;}#sk-container-id-2 input.sk-toggleable__control:checked~label.sk-toggleable__label-arrow:before {content: \"▾\";}#sk-container-id-2 div.sk-estimator input.sk-toggleable__control:checked~label.sk-toggleable__label {background-color: #d4ebff;}#sk-container-id-2 div.sk-label input.sk-toggleable__control:checked~label.sk-toggleable__label {background-color: #d4ebff;}#sk-container-id-2 input.sk-hidden--visually {border: 0;clip: rect(1px 1px 1px 1px);clip: rect(1px, 1px, 1px, 1px);height: 1px;margin: -1px;overflow: hidden;padding: 0;position: absolute;width: 1px;}#sk-container-id-2 div.sk-estimator {font-family: monospace;background-color: #f0f8ff;border: 1px dotted black;border-radius: 0.25em;box-sizing: border-box;margin-bottom: 0.5em;}#sk-container-id-2 div.sk-estimator:hover {background-color: #d4ebff;}#sk-container-id-2 div.sk-parallel-item::after {content: \"\";width: 100%;border-bottom: 1px solid gray;flex-grow: 1;}#sk-container-id-2 div.sk-label:hover label.sk-toggleable__label {background-color: #d4ebff;}#sk-container-id-2 div.sk-serial::before {content: \"\";position: absolute;border-left: 1px solid gray;box-sizing: border-box;top: 0;bottom: 0;left: 50%;z-index: 0;}#sk-container-id-2 div.sk-serial {display: flex;flex-direction: column;align-items: center;background-color: white;padding-right: 0.2em;padding-left: 0.2em;position: relative;}#sk-container-id-2 div.sk-item {position: relative;z-index: 1;}#sk-container-id-2 div.sk-parallel {display: flex;align-items: stretch;justify-content: center;background-color: white;position: relative;}#sk-container-id-2 div.sk-item::before, #sk-container-id-2 div.sk-parallel-item::before {content: \"\";position: absolute;border-left: 1px solid gray;box-sizing: border-box;top: 0;bottom: 0;left: 50%;z-index: -1;}#sk-container-id-2 div.sk-parallel-item {display: flex;flex-direction: column;z-index: 1;position: relative;background-color: white;}#sk-container-id-2 div.sk-parallel-item:first-child::after {align-self: flex-end;width: 50%;}#sk-container-id-2 div.sk-parallel-item:last-child::after {align-self: flex-start;width: 50%;}#sk-container-id-2 div.sk-parallel-item:only-child::after {width: 0;}#sk-container-id-2 div.sk-dashed-wrapped {border: 1px dashed gray;margin: 0 0.4em 0.5em 0.4em;box-sizing: border-box;padding-bottom: 0.4em;background-color: white;}#sk-container-id-2 div.sk-label label {font-family: monospace;font-weight: bold;display: inline-block;line-height: 1.2em;}#sk-container-id-2 div.sk-label-container {text-align: center;}#sk-container-id-2 div.sk-container {/* jupyter's `normalize.less` sets `[hidden] { display: none; }` but bootstrap.min.css set `[hidden] { display: none !important; }` so we also need the `!important` here to be able to override the default hidden behavior on the sphinx rendered scikit-learn.org. See: https://github.com/scikit-learn/scikit-learn/issues/21755 */display: inline-block !important;position: relative;}#sk-container-id-2 div.sk-text-repr-fallback {display: none;}</style><div id=\"sk-container-id-2\" class=\"sk-top-container\"><div class=\"sk-text-repr-fallback\"><pre>LogisticRegression(class_weight={0: 0.7387858043595749, 1: 1.5469634100339495},\n",
       "                   random_state=13)</pre><b>In a Jupyter environment, please rerun this cell to show the HTML representation or trust the notebook. <br />On GitHub, the HTML representation is unable to render, please try loading this page with nbviewer.org.</b></div><div class=\"sk-container\" hidden><div class=\"sk-item\"><div class=\"sk-estimator sk-toggleable\"><input class=\"sk-toggleable__control sk-hidden--visually\" id=\"sk-estimator-id-2\" type=\"checkbox\" checked><label for=\"sk-estimator-id-2\" class=\"sk-toggleable__label sk-toggleable__label-arrow\">LogisticRegression</label><div class=\"sk-toggleable__content\"><pre>LogisticRegression(class_weight={0: 0.7387858043595749, 1: 1.5469634100339495},\n",
       "                   random_state=13)</pre></div></div></div></div></div>"
      ],
      "text/plain": [
       "LogisticRegression(class_weight={0: 0.7387858043595749, 1: 1.5469634100339495},\n",
       "                   random_state=13)"
      ]
     },
     "execution_count": 52,
     "metadata": {},
     "output_type": "execute_result"
    }
   ],
   "source": [
    "# Define model\n",
    "log_reg = LogisticRegression(random_state=13, class_weight={0:weights[0], 1:weights[1]})\n",
    "# fit it\n",
    "log_reg.fit(X_train,y_train)"
   ]
  },
  {
   "cell_type": "code",
   "execution_count": 53,
   "metadata": {},
   "outputs": [
    {
     "name": "stdout",
     "output_type": "stream",
     "text": [
      "Train Results\n",
      "F1 Score: 0.5748006379585326\n",
      "Recall Score: 0.6797434930215013\n",
      "Confusion Matrix: \n",
      "[[3734 1817]\n",
      " [ 849 1802]]\n",
      "Area Under Curve: 0.6762075418629394\n",
      " \n",
      "Validation Results\n",
      "F1 Score: 0.6087408949011446\n",
      "Recall Score: 0.6956004756242569\n",
      "Confusion Matrix: \n",
      "[[999 496]\n",
      " [256 585]]\n",
      "Area Under Curve: 0.6819139501867103\n",
      " \n",
      "Test Results\n",
      "F1 Score: 0.7251675807434491\n",
      "Recall Score: 0.7428214731585518\n",
      "Confusion Matrix: \n",
      "[[720 245]\n",
      " [206 595]]\n",
      "Area Under Curve: 0.7444677313979288\n"
     ]
    }
   ],
   "source": [
    "logistic_results = evaluate_models(\"Logistic Regression\", log_reg, X_train, y_train, X_valid, y_valid, X_test, y_test)\n",
    "add_dic_to_final_df(logistic_results)"
   ]
  },
  {
   "cell_type": "code",
   "execution_count": 58,
   "metadata": {},
   "outputs": [],
   "source": [
    "import joblib\n",
    "import shutil\n",
    "\n",
    "w = {0: weights[0], 1: weights[1]}\n",
    "\n",
    "def train_logistic_model(X_train=X_train, y_train=y_train, X_valid=X_valid, y_valid=y_valid, X_test=X_test, y_test=y_test):\n",
    "    features = X_train.columns\n",
    "\n",
    "    with wandb.init(project=PROJECT_NAME) as run:\n",
    "        config = wandb.config\n",
    "        params= {\"random_state\":13,\n",
    "    \"class_weight\":w}\n",
    "\n",
    "        model = LogisticRegression(**params)\n",
    "\n",
    "        model.fit(X_train, y_train)\n",
    "        \n",
    "        # train predictions\n",
    "        y_train_pred = model.predict(X_train)\n",
    "        # train performance\n",
    "        train_f1_score = f1_score(y_train, y_train_pred)\n",
    "\n",
    "\n",
    "        # validation predictions\n",
    "        y_valid_pred = model.predict(X_valid)\n",
    "        # validation performance\n",
    "        valid_f1_score = f1_score(y_valid, y_valid_pred)\n",
    "\n",
    "        \n",
    "        # test predictions\n",
    "        y_preds = model.predict(X_test)\n",
    "        y_probas = model.predict_proba(X_test)\n",
    "\n",
    "        score = f1_score(y_test, y_preds)\n",
    "        print(f\"F1_score Train: {round(train_f1_score, 4)}\")\n",
    "        print(f\"F1_score Valid: {round(valid_f1_score, 4)}\")\n",
    "        print(f\"F1_score Test: {round(score, 4)}\")\n",
    "\n",
    "\n",
    "        wandb.log({\"f1_score_train\": train_f1_score})\n",
    "        wandb.log({\"f1_score_valid\": valid_f1_score})\n",
    "        wandb.log({\"f1_score\": score})\n",
    "\n",
    "        wandb.sklearn.plot_classifier(model, X_train, X_test, y_train, y_test,\n",
    "                                            y_preds, y_probas, labels= None, model_name='LogisticRegression', feature_names=features)\n",
    "\n",
    "        model_artifact = wandb.Artifact(\n",
    "                    \"LogisticRegression\", type=\"model\",metadata=dict(config))\n",
    "\n",
    "        joblib.dump(model, \"log-truck-model.pkl\")\n",
    "        model_artifact.add_file(\"log-truck-model.pkl\")\n",
    "        shutil.copy(\"E://Artificial Intelligence//Projects//Predictive-Truck-Delay-Management-in-Logistics//log-truck-model.pkl\", os.path.join(wandb.run.dir, \"log-truck-model.pkl\"))\n",
    "        wandb.save(\"log-truck-model.pkl\")\n",
    "        \n",
    "        \n",
    "        run.log_artifact(model_artifact)"
   ]
  },
  {
   "cell_type": "code",
   "execution_count": 59,
   "metadata": {},
   "outputs": [
    {
     "data": {
      "application/vnd.jupyter.widget-view+json": {
       "model_id": "e632dbce1a8446d192c92c84d262d8ca",
       "version_major": 2,
       "version_minor": 0
      },
      "text/plain": [
       "VBox(children=(Label(value='Waiting for wandb.init()...\\r'), FloatProgress(value=0.011111111111111112, max=1.0…"
      ]
     },
     "metadata": {},
     "output_type": "display_data"
    },
    {
     "data": {
      "text/html": [
       "wandb version 0.17.5 is available!  To upgrade, please run:\n",
       " $ pip install wandb --upgrade"
      ],
      "text/plain": [
       "<IPython.core.display.HTML object>"
      ]
     },
     "metadata": {},
     "output_type": "display_data"
    },
    {
     "data": {
      "text/html": [
       "Tracking run with wandb version 0.16.1"
      ],
      "text/plain": [
       "<IPython.core.display.HTML object>"
      ]
     },
     "metadata": {},
     "output_type": "display_data"
    },
    {
     "data": {
      "text/html": [
       "Run data is saved locally in <code>e:\\Artificial Intelligence\\Projects\\Predictive-Truck-Delay-Management-in-Logistics\\wandb\\run-20240805_162703-55tyx3f8</code>"
      ],
      "text/plain": [
       "<IPython.core.display.HTML object>"
      ]
     },
     "metadata": {},
     "output_type": "display_data"
    },
    {
     "data": {
      "text/html": [
       "Syncing run <strong><a href='https://wandb.ai/harshmp/truck-delay-classification/runs/55tyx3f8' target=\"_blank\">fancy-violet-4</a></strong> to <a href='https://wandb.ai/harshmp/truck-delay-classification' target=\"_blank\">Weights & Biases</a> (<a href='https://wandb.me/run' target=\"_blank\">docs</a>)<br/>"
      ],
      "text/plain": [
       "<IPython.core.display.HTML object>"
      ]
     },
     "metadata": {},
     "output_type": "display_data"
    },
    {
     "data": {
      "text/html": [
       " View project at <a href='https://wandb.ai/harshmp/truck-delay-classification' target=\"_blank\">https://wandb.ai/harshmp/truck-delay-classification</a>"
      ],
      "text/plain": [
       "<IPython.core.display.HTML object>"
      ]
     },
     "metadata": {},
     "output_type": "display_data"
    },
    {
     "data": {
      "text/html": [
       " View run at <a href='https://wandb.ai/harshmp/truck-delay-classification/runs/55tyx3f8' target=\"_blank\">https://wandb.ai/harshmp/truck-delay-classification/runs/55tyx3f8</a>"
      ],
      "text/plain": [
       "<IPython.core.display.HTML object>"
      ]
     },
     "metadata": {},
     "output_type": "display_data"
    },
    {
     "name": "stdout",
     "output_type": "stream",
     "text": [
      "F1_score Train: 0.5748\n",
      "F1_score Valid: 0.6087\n",
      "F1_score Test: 0.7252\n"
     ]
    },
    {
     "name": "stderr",
     "output_type": "stream",
     "text": [
      "wandb: \n",
      "wandb: Plotting LogisticRegression.\n",
      "wandb: Logged feature importances.\n",
      "wandb: Logged confusion matrix.\n"
     ]
    },
    {
     "name": "stdout",
     "output_type": "stream",
     "text": [
      "2024-08-05 16:27:08,141 WARNING: DeprecationWarning: Please import `csr_matrix` from the `scipy.sparse` namespace; the `scipy.sparse.csr` namespace is deprecated and will be removed in SciPy 2.0.0.\n",
      "\n"
     ]
    },
    {
     "name": "stderr",
     "output_type": "stream",
     "text": [
      "wandb: Logged summary metrics.\n",
      "wandb: Logged class proportions.\n"
     ]
    },
    {
     "name": "stdout",
     "output_type": "stream",
     "text": [
      "2024-08-05 16:27:09,176 WARNING: DeprecationWarning: Please import `csr_matrix` from the `scipy.sparse` namespace; the `scipy.sparse.csr` namespace is deprecated and will be removed in SciPy 2.0.0.\n",
      "\n"
     ]
    },
    {
     "name": "stderr",
     "output_type": "stream",
     "text": [
      "wandb: Logged calibration curve.\n",
      "wandb: Logged roc curve.\n",
      "wandb: Logged precision-recall curve.\n"
     ]
    },
    {
     "name": "stdout",
     "output_type": "stream",
     "text": [
      "2024-08-05 16:27:21,482 WARNING: DeprecationWarning: Importing display from IPython.core.display is deprecated since IPython 7.14, please import from IPython display\n",
      "\n"
     ]
    },
    {
     "data": {
      "application/vnd.jupyter.widget-view+json": {
       "model_id": "31d07cc465574673837d288c87f8a8fd",
       "version_major": 2,
       "version_minor": 0
      },
      "text/plain": [
       "VBox(children=(Label(value='0.086 MB of 0.086 MB uploaded\\r'), FloatProgress(value=1.0, max=1.0)))"
      ]
     },
     "metadata": {},
     "output_type": "display_data"
    },
    {
     "name": "stdout",
     "output_type": "stream",
     "text": [
      "2024-08-05 16:27:24,998 WARNING: DeprecationWarning: Importing display from IPython.core.display is deprecated since IPython 7.14, please import from IPython display\n",
      "\n"
     ]
    },
    {
     "data": {
      "text/html": [
       "<style>\n",
       "    table.wandb td:nth-child(1) { padding: 0 10px; text-align: left ; width: auto;} td:nth-child(2) {text-align: left ; width: 100%}\n",
       "    .wandb-row { display: flex; flex-direction: row; flex-wrap: wrap; justify-content: flex-start; width: 100% }\n",
       "    .wandb-col { display: flex; flex-direction: column; flex-basis: 100%; flex: 1; padding: 10px; }\n",
       "    </style>\n",
       "<div class=\"wandb-row\"><div class=\"wandb-col\"><h3>Run history:</h3><br/><table class=\"wandb\"><tr><td>f1_score</td><td>▁</td></tr><tr><td>f1_score_train</td><td>▁</td></tr><tr><td>f1_score_valid</td><td>▁</td></tr></table><br/></div><div class=\"wandb-col\"><h3>Run summary:</h3><br/><table class=\"wandb\"><tr><td>f1_score</td><td>0.72517</td></tr><tr><td>f1_score_train</td><td>0.5748</td></tr><tr><td>f1_score_valid</td><td>0.60874</td></tr></table><br/></div></div>"
      ],
      "text/plain": [
       "<IPython.core.display.HTML object>"
      ]
     },
     "metadata": {},
     "output_type": "display_data"
    },
    {
     "data": {
      "text/html": [
       " View run <strong style=\"color:#cdcd00\">fancy-violet-4</strong> at: <a href='https://wandb.ai/harshmp/truck-delay-classification/runs/55tyx3f8' target=\"_blank\">https://wandb.ai/harshmp/truck-delay-classification/runs/55tyx3f8</a><br/>Synced 5 W&B file(s), 7 media file(s), 8 artifact file(s) and 1 other file(s)"
      ],
      "text/plain": [
       "<IPython.core.display.HTML object>"
      ]
     },
     "metadata": {},
     "output_type": "display_data"
    },
    {
     "data": {
      "text/html": [
       "Find logs at: <code>.\\wandb\\run-20240805_162703-55tyx3f8\\logs</code>"
      ],
      "text/plain": [
       "<IPython.core.display.HTML object>"
      ]
     },
     "metadata": {},
     "output_type": "display_data"
    }
   ],
   "source": [
    "train_logistic_model(X_train, y_train,X_valid, y_valid, X_test, y_test)"
   ]
  },
  {
   "cell_type": "markdown",
   "metadata": {},
   "source": [
    "### Random Forest"
   ]
  },
  {
   "cell_type": "code",
   "execution_count": 62,
   "metadata": {},
   "outputs": [
    {
     "name": "stdout",
     "output_type": "stream",
     "text": [
      "Train Results\n",
      "F1 Score: 0.9893252001524971\n",
      "Recall Score: 0.978875895888344\n",
      "Confusion Matrix: \n",
      "[[5551    0]\n",
      " [  56 2595]]\n",
      "Area Under Curve: 0.989437947944172\n",
      " \n",
      "Validation Results\n",
      "F1 Score: 0.5232\n",
      "Recall Score: 0.38882282996432815\n",
      "Confusion Matrix: \n",
      "[[1413   82]\n",
      " [ 514  327]]\n",
      "Area Under Curve: 0.6669866658182845\n",
      " \n",
      "Test Results\n",
      "F1 Score: 0.6082059533386966\n",
      "Recall Score: 0.47191011235955055\n",
      "Confusion Matrix: \n",
      "[[901  64]\n",
      " [423 378]]\n",
      "Area Under Curve: 0.7027944344181173\n"
     ]
    }
   ],
   "source": [
    "# define model\n",
    "w = {0: weights[0], 1: weights[1]}\n",
    "random_f = RandomForestClassifier(n_estimators=20, class_weight=w, random_state=7)\n",
    "random_f.fit(X_train, y_train)\n",
    "\n",
    "randomf_results = evaluate_models(\"Random Forest\", random_f,X_train, y_train, X_valid, y_valid, X_test, y_test)\n",
    "add_dic_to_final_df(randomf_results)"
   ]
  },
  {
   "cell_type": "code",
   "execution_count": 63,
   "metadata": {},
   "outputs": [],
   "source": [
    "\n",
    "\n",
    "def train_random_forest(X_train=X_train, y_train=y_train, X_valid=X_valid, y_valid=y_valid, X_test=X_test, y_test=y_test):\n",
    "  features = X_train.columns\n",
    "  labels=[\"delay\"]\n",
    "\n",
    "  with wandb.init(project=PROJECT_NAME) as run:\n",
    "      config = wandb.config\n",
    "\n",
    "      model = RandomForestClassifier(n_estimators=20, class_weight=w, random_state=7)\n",
    "\n",
    "      model.fit(X_train, y_train)\n",
    "      # train predictions\n",
    "      y_train_pred = model.predict(X_train)\n",
    "      # train performance\n",
    "      train_f1_score = f1_score(y_train, y_train_pred)\n",
    "\n",
    "\n",
    "      # validation predictions\n",
    "      y_valid_pred = model.predict(X_valid)\n",
    "      # validation performance\n",
    "      valid_f1_score = f1_score(y_valid, y_valid_pred)\n",
    "\n",
    "\n",
    "      # test predictions\n",
    "      y_preds = model.predict(X_test)\n",
    "      y_probas = model.predict_proba(X_test)\n",
    "\n",
    "      score = f1_score(y_test, y_preds)\n",
    "      print(f\"F1_score Train: {round(train_f1_score, 4)}\")\n",
    "      print(f\"F1_score Valid: {round(valid_f1_score, 4)}\")\n",
    "      print(f\"F1_score Test: {round(score, 4)}\")\n",
    "\n",
    "\n",
    "      wandb.log({\"f1_score_train\": train_f1_score})\n",
    "      wandb.log({\"f1_score_valid\": valid_f1_score})\n",
    "      wandb.log({\"f1_score\": score})\n",
    "\n",
    "\n",
    "\n",
    "      wandb.sklearn.plot_classifier(model, X_train, X_test, y_train, y_test, y_preds, y_probas, labels=None,\n",
    "                                                          model_name='RandomForestClassifier', feature_names=features)\n",
    "\n",
    "      model_artifact = wandb.Artifact(\n",
    "                  \"RandomForestClassifier\", type=\"model\",metadata=dict(config))\n",
    "\n",
    "      joblib.dump(model, \"randomf-truck-model.pkl\")\n",
    "      model_artifact.add_file(\"randomf-truck-model.pkl\")\n",
    "      shutil.copy(\"E://Artificial Intelligence//Projects//Predictive-Truck-Delay-Management-in-Logistics//randomf-truck-model.pkl\", os.path.join(wandb.run.dir, \"randomf-truck-model.pkl\"))\n",
    "      wandb.save(\"randomf-truck-model.pkl\")\n",
    "      run.log_artifact(model_artifact)"
   ]
  },
  {
   "cell_type": "code",
   "execution_count": 64,
   "metadata": {},
   "outputs": [
    {
     "name": "stdout",
     "output_type": "stream",
     "text": [
      "2024-08-05 16:38:20,782 WARNING: DeprecationWarning: Importing display from IPython.core.display is deprecated since IPython 7.14, please import from IPython display\n",
      "\n"
     ]
    },
    {
     "data": {
      "text/html": [
       "wandb version 0.17.5 is available!  To upgrade, please run:\n",
       " $ pip install wandb --upgrade"
      ],
      "text/plain": [
       "<IPython.core.display.HTML object>"
      ]
     },
     "metadata": {},
     "output_type": "display_data"
    },
    {
     "data": {
      "text/html": [
       "Tracking run with wandb version 0.16.1"
      ],
      "text/plain": [
       "<IPython.core.display.HTML object>"
      ]
     },
     "metadata": {},
     "output_type": "display_data"
    },
    {
     "data": {
      "text/html": [
       "Run data is saved locally in <code>e:\\Artificial Intelligence\\Projects\\Predictive-Truck-Delay-Management-in-Logistics\\wandb\\run-20240805_163817-oa5y64ay</code>"
      ],
      "text/plain": [
       "<IPython.core.display.HTML object>"
      ]
     },
     "metadata": {},
     "output_type": "display_data"
    },
    {
     "data": {
      "text/html": [
       "Syncing run <strong><a href='https://wandb.ai/harshmp/truck-delay-classification/runs/oa5y64ay' target=\"_blank\">fancy-plasma-5</a></strong> to <a href='https://wandb.ai/harshmp/truck-delay-classification' target=\"_blank\">Weights & Biases</a> (<a href='https://wandb.me/run' target=\"_blank\">docs</a>)<br/>"
      ],
      "text/plain": [
       "<IPython.core.display.HTML object>"
      ]
     },
     "metadata": {},
     "output_type": "display_data"
    },
    {
     "data": {
      "text/html": [
       " View project at <a href='https://wandb.ai/harshmp/truck-delay-classification' target=\"_blank\">https://wandb.ai/harshmp/truck-delay-classification</a>"
      ],
      "text/plain": [
       "<IPython.core.display.HTML object>"
      ]
     },
     "metadata": {},
     "output_type": "display_data"
    },
    {
     "data": {
      "text/html": [
       " View run at <a href='https://wandb.ai/harshmp/truck-delay-classification/runs/oa5y64ay' target=\"_blank\">https://wandb.ai/harshmp/truck-delay-classification/runs/oa5y64ay</a>"
      ],
      "text/plain": [
       "<IPython.core.display.HTML object>"
      ]
     },
     "metadata": {},
     "output_type": "display_data"
    },
    {
     "name": "stdout",
     "output_type": "stream",
     "text": [
      "F1_score Train: 0.9893\n",
      "F1_score Valid: 0.5232\n",
      "F1_score Test: 0.6082\n"
     ]
    },
    {
     "name": "stderr",
     "output_type": "stream",
     "text": [
      "wandb: \n",
      "wandb: Plotting RandomForestClassifier.\n",
      "wandb: Logged feature importances.\n",
      "wandb: Logged confusion matrix.\n"
     ]
    },
    {
     "name": "stdout",
     "output_type": "stream",
     "text": [
      "2024-08-05 16:38:22,856 WARNING: DeprecationWarning: Please import `csr_matrix` from the `scipy.sparse` namespace; the `scipy.sparse.csr` namespace is deprecated and will be removed in SciPy 2.0.0.\n",
      "\n"
     ]
    },
    {
     "name": "stderr",
     "output_type": "stream",
     "text": [
      "wandb: Logged summary metrics.\n",
      "wandb: Logged class proportions.\n"
     ]
    },
    {
     "name": "stdout",
     "output_type": "stream",
     "text": [
      "2024-08-05 16:38:24,183 WARNING: DeprecationWarning: Please import `csr_matrix` from the `scipy.sparse` namespace; the `scipy.sparse.csr` namespace is deprecated and will be removed in SciPy 2.0.0.\n",
      "\n"
     ]
    },
    {
     "name": "stderr",
     "output_type": "stream",
     "text": [
      "wandb: Logged calibration curve.\n",
      "wandb: Logged roc curve.\n",
      "wandb: Logged precision-recall curve.\n"
     ]
    },
    {
     "name": "stdout",
     "output_type": "stream",
     "text": [
      "2024-08-05 16:38:42,994 WARNING: DeprecationWarning: Importing display from IPython.core.display is deprecated since IPython 7.14, please import from IPython display\n",
      "\n"
     ]
    },
    {
     "data": {
      "application/vnd.jupyter.widget-view+json": {
       "model_id": "8875724c1bd64d3e838cf00c79f9b7e0",
       "version_major": 2,
       "version_minor": 0
      },
      "text/plain": [
       "VBox(children=(Label(value='8.926 MB of 8.926 MB uploaded\\r'), FloatProgress(value=1.0, max=1.0)))"
      ]
     },
     "metadata": {},
     "output_type": "display_data"
    },
    {
     "name": "stdout",
     "output_type": "stream",
     "text": [
      "2024-08-05 16:38:47,549 WARNING: DeprecationWarning: Importing display from IPython.core.display is deprecated since IPython 7.14, please import from IPython display\n",
      "\n"
     ]
    },
    {
     "data": {
      "text/html": [
       "<style>\n",
       "    table.wandb td:nth-child(1) { padding: 0 10px; text-align: left ; width: auto;} td:nth-child(2) {text-align: left ; width: 100%}\n",
       "    .wandb-row { display: flex; flex-direction: row; flex-wrap: wrap; justify-content: flex-start; width: 100% }\n",
       "    .wandb-col { display: flex; flex-direction: column; flex-basis: 100%; flex: 1; padding: 10px; }\n",
       "    </style>\n",
       "<div class=\"wandb-row\"><div class=\"wandb-col\"><h3>Run history:</h3><br/><table class=\"wandb\"><tr><td>f1_score</td><td>▁</td></tr><tr><td>f1_score_train</td><td>▁</td></tr><tr><td>f1_score_valid</td><td>▁</td></tr></table><br/></div><div class=\"wandb-col\"><h3>Run summary:</h3><br/><table class=\"wandb\"><tr><td>f1_score</td><td>0.60821</td></tr><tr><td>f1_score_train</td><td>0.98933</td></tr><tr><td>f1_score_valid</td><td>0.5232</td></tr></table><br/></div></div>"
      ],
      "text/plain": [
       "<IPython.core.display.HTML object>"
      ]
     },
     "metadata": {},
     "output_type": "display_data"
    },
    {
     "data": {
      "text/html": [
       " View run <strong style=\"color:#cdcd00\">fancy-plasma-5</strong> at: <a href='https://wandb.ai/harshmp/truck-delay-classification/runs/oa5y64ay' target=\"_blank\">https://wandb.ai/harshmp/truck-delay-classification/runs/oa5y64ay</a><br/>Synced 5 W&B file(s), 7 media file(s), 8 artifact file(s) and 1 other file(s)"
      ],
      "text/plain": [
       "<IPython.core.display.HTML object>"
      ]
     },
     "metadata": {},
     "output_type": "display_data"
    },
    {
     "data": {
      "text/html": [
       "Find logs at: <code>.\\wandb\\run-20240805_163817-oa5y64ay\\logs</code>"
      ],
      "text/plain": [
       "<IPython.core.display.HTML object>"
      ]
     },
     "metadata": {},
     "output_type": "display_data"
    }
   ],
   "source": [
    "train_random_forest(X_train, y_train,X_valid, y_valid, X_test, y_test)"
   ]
  },
  {
   "cell_type": "markdown",
   "metadata": {},
   "source": [
    "### XGBoost"
   ]
  },
  {
   "cell_type": "code",
   "execution_count": 65,
   "metadata": {},
   "outputs": [
    {
     "name": "stdout",
     "output_type": "stream",
     "text": [
      "[0]\tvalidation-mlogloss:0.61447\n",
      "[1]\tvalidation-mlogloss:0.57315\n",
      "[2]\tvalidation-mlogloss:0.54766\n",
      "[3]\tvalidation-mlogloss:0.53639\n",
      "[4]\tvalidation-mlogloss:0.53401\n",
      "[5]\tvalidation-mlogloss:0.52809\n",
      "[6]\tvalidation-mlogloss:0.52736\n",
      "[7]\tvalidation-mlogloss:0.53177\n",
      "[8]\tvalidation-mlogloss:0.53234\n",
      "[9]\tvalidation-mlogloss:0.53368\n",
      "[10]\tvalidation-mlogloss:0.53493\n",
      "[11]\tvalidation-mlogloss:0.53324\n",
      "[12]\tvalidation-mlogloss:0.53750\n",
      "[13]\tvalidation-mlogloss:0.53614\n",
      "[14]\tvalidation-mlogloss:0.53639\n",
      "[15]\tvalidation-mlogloss:0.53703\n",
      "[16]\tvalidation-mlogloss:0.53710\n",
      "Train Results\n",
      "F1 Score: 0.7149425287356322\n",
      "Recall Score: 0.5865711052433044\n",
      "Confusion Matrix: \n",
      "[[5407  144]\n",
      " [1096 1555]]\n",
      "Area Under Curve: 0.7803149167001966\n",
      " \n",
      "Validation Results\n",
      "F1 Score: 0.5897244973938943\n",
      "Recall Score: 0.4708680142687277\n",
      "Confusion Matrix: \n",
      "[[1389  106]\n",
      " [ 445  396]]\n",
      "Area Under Curve: 0.6999825021176415\n",
      " \n",
      "Test Results\n",
      "F1 Score: 0.6539050535987748\n",
      "Recall Score: 0.533083645443196\n",
      "Confusion Matrix: \n",
      "[[887  78]\n",
      " [374 427]]\n",
      "Area Under Curve: 0.7261273149495773\n"
     ]
    }
   ],
   "source": [
    "# import xgboost\n",
    "import xgboost as xgb\n",
    "\n",
    "# Convert training and test sets to DMatrix\n",
    "dtrain = xgb.DMatrix(X_train, label=y_train)\n",
    "dvalid = xgb.DMatrix(X_valid, label=y_valid)\n",
    "dtest = xgb.DMatrix(X_test, label=y_test)\n",
    "\n",
    "# Train initial model\n",
    "params = {'objective': 'multi:softmax', 'num_class': 2, 'seed': 7}\n",
    "num_rounds = 30\n",
    "xgbmodel = xgb.train(params, dtrain, num_rounds, evals=[(dvalid, 'validation')], early_stopping_rounds=10)\n",
    "\n",
    "xgb_results = evaluate_models(\"XGB\", xgbmodel, dtrain, y_train, dvalid, y_valid, dtest, y_test)\n",
    "add_dic_to_final_df(xgb_results)"
   ]
  },
  {
   "cell_type": "code",
   "execution_count": 66,
   "metadata": {},
   "outputs": [],
   "source": [
    "import joblib\n",
    "import xgboost as xgb\n",
    "\n",
    "def train_xgb_model(X_train=X_train, y_train=y_train, X_valid=X_valid, y_valid=y_valid, X_test=X_test, y_test=y_test):\n",
    "  features = X_train.columns\n",
    "  labels=[\"delay\"]\n",
    "\n",
    "  with wandb.init(project=PROJECT_NAME) as run:\n",
    "      config = wandb.config\n",
    "\n",
    "\n",
    "      # Convert training and test sets to DMatrix\n",
    "      dtrain = xgb.DMatrix(X_train, label=y_train)\n",
    "      dvalid = xgb.DMatrix(X_valid, label=y_valid)\n",
    "      dtest = xgb.DMatrix(X_test, label=y_test)\n",
    "\n",
    "      # Train initial model\n",
    "      params = {'objective': 'multi:softmax', 'num_class': 2}\n",
    "      num_rounds = 30\n",
    "      xgbmodel = xgb.train(params, dtrain, num_rounds, evals=[(dvalid, 'validation')], early_stopping_rounds=10)\n",
    "        \n",
    "      # train predictions\n",
    "      y_train_pred = xgbmodel.predict(dtrain)\n",
    "      # train performance\n",
    "      train_f1_score = f1_score(y_train, y_train_pred)\n",
    "\n",
    "\n",
    "      # validation predictions\n",
    "      y_valid_pred = xgbmodel.predict(dvalid)\n",
    "      # validation performance\n",
    "      valid_f1_score = f1_score(y_valid, y_valid_pred)\n",
    "\n",
    "\n",
    "      # test predictions\n",
    "      y_preds = xgbmodel.predict(dtest)\n",
    "      score = f1_score(y_test, y_preds)\n",
    "      print(f\"F1_score Train: {round(train_f1_score, 4)}\")\n",
    "      print(f\"F1_score Valid: {round(valid_f1_score, 4)}\")\n",
    "      print(f\"F1_score Test: {round(score, 4)}\")\n",
    "\n",
    "\n",
    "      wandb.log({\"f1_score_train\": train_f1_score})\n",
    "      wandb.log({\"f1_score_valid\": valid_f1_score})\n",
    "      wandb.log({\"f1_score\": score})\n",
    "\n",
    "\n",
    "      model_artifact = wandb.Artifact(\n",
    "                  \"XGBoost\", type=\"model\",metadata=dict(config))\n",
    "\n",
    "      joblib.dump(xgbmodel, \"xgb-truck-model.pkl\")\n",
    "      model_artifact.add_file(\"xgb-truck-model.pkl\")\n",
    "      shutil.copy(\"E://Artificial Intelligence//Projects//Predictive-Truck-Delay-Management-in-Logistics//xgb-truck-model.pkl\", os.path.join(wandb.run.dir, \"xgb-truck-model.pkl\"))\n",
    "      wandb.save(\"xgb-truck-model.pkl\")\n",
    "      run.log_artifact(model_artifact)\n"
   ]
  },
  {
   "cell_type": "code",
   "execution_count": 67,
   "metadata": {},
   "outputs": [
    {
     "name": "stdout",
     "output_type": "stream",
     "text": [
      "2024-08-05 16:42:20,897 WARNING: DeprecationWarning: Importing display from IPython.core.display is deprecated since IPython 7.14, please import from IPython display\n",
      "\n"
     ]
    },
    {
     "data": {
      "application/vnd.jupyter.widget-view+json": {
       "model_id": "a8aa54ee5c1749a394b0fa4586fefdb1",
       "version_major": 2,
       "version_minor": 0
      },
      "text/plain": [
       "VBox(children=(Label(value='Waiting for wandb.init()...\\r'), FloatProgress(value=0.011288888888925108, max=1.0…"
      ]
     },
     "metadata": {},
     "output_type": "display_data"
    },
    {
     "name": "stdout",
     "output_type": "stream",
     "text": [
      "2024-08-05 16:42:22,515 WARNING: DeprecationWarning: Importing display from IPython.core.display is deprecated since IPython 7.14, please import from IPython display\n",
      "\n"
     ]
    },
    {
     "data": {
      "text/html": [
       "wandb version 0.17.5 is available!  To upgrade, please run:\n",
       " $ pip install wandb --upgrade"
      ],
      "text/plain": [
       "<IPython.core.display.HTML object>"
      ]
     },
     "metadata": {},
     "output_type": "display_data"
    },
    {
     "data": {
      "text/html": [
       "Tracking run with wandb version 0.16.1"
      ],
      "text/plain": [
       "<IPython.core.display.HTML object>"
      ]
     },
     "metadata": {},
     "output_type": "display_data"
    },
    {
     "data": {
      "text/html": [
       "Run data is saved locally in <code>e:\\Artificial Intelligence\\Projects\\Predictive-Truck-Delay-Management-in-Logistics\\wandb\\run-20240805_164219-nwl3wpuo</code>"
      ],
      "text/plain": [
       "<IPython.core.display.HTML object>"
      ]
     },
     "metadata": {},
     "output_type": "display_data"
    },
    {
     "data": {
      "text/html": [
       "Syncing run <strong><a href='https://wandb.ai/harshmp/truck-delay-classification/runs/nwl3wpuo' target=\"_blank\">olive-smoke-6</a></strong> to <a href='https://wandb.ai/harshmp/truck-delay-classification' target=\"_blank\">Weights & Biases</a> (<a href='https://wandb.me/run' target=\"_blank\">docs</a>)<br/>"
      ],
      "text/plain": [
       "<IPython.core.display.HTML object>"
      ]
     },
     "metadata": {},
     "output_type": "display_data"
    },
    {
     "data": {
      "text/html": [
       " View project at <a href='https://wandb.ai/harshmp/truck-delay-classification' target=\"_blank\">https://wandb.ai/harshmp/truck-delay-classification</a>"
      ],
      "text/plain": [
       "<IPython.core.display.HTML object>"
      ]
     },
     "metadata": {},
     "output_type": "display_data"
    },
    {
     "data": {
      "text/html": [
       " View run at <a href='https://wandb.ai/harshmp/truck-delay-classification/runs/nwl3wpuo' target=\"_blank\">https://wandb.ai/harshmp/truck-delay-classification/runs/nwl3wpuo</a>"
      ],
      "text/plain": [
       "<IPython.core.display.HTML object>"
      ]
     },
     "metadata": {},
     "output_type": "display_data"
    },
    {
     "name": "stdout",
     "output_type": "stream",
     "text": [
      "[0]\tvalidation-mlogloss:0.61447\n",
      "[1]\tvalidation-mlogloss:0.57315\n",
      "[2]\tvalidation-mlogloss:0.54766\n",
      "[3]\tvalidation-mlogloss:0.53639\n",
      "[4]\tvalidation-mlogloss:0.53401\n",
      "[5]\tvalidation-mlogloss:0.52809\n",
      "[6]\tvalidation-mlogloss:0.52736\n",
      "[7]\tvalidation-mlogloss:0.53177\n",
      "[8]\tvalidation-mlogloss:0.53234\n",
      "[9]\tvalidation-mlogloss:0.53368\n",
      "[10]\tvalidation-mlogloss:0.53493\n",
      "[11]\tvalidation-mlogloss:0.53324\n",
      "[12]\tvalidation-mlogloss:0.53750\n",
      "[13]\tvalidation-mlogloss:0.53614\n",
      "[14]\tvalidation-mlogloss:0.53639\n",
      "[15]\tvalidation-mlogloss:0.53703\n",
      "[16]\tvalidation-mlogloss:0.53710\n",
      "F1_score Train: 0.7149\n",
      "F1_score Valid: 0.5897\n",
      "F1_score Test: 0.6539\n",
      "2024-08-05 16:42:28,385 WARNING: DeprecationWarning: Importing display from IPython.core.display is deprecated since IPython 7.14, please import from IPython display\n",
      "\n"
     ]
    },
    {
     "data": {
      "application/vnd.jupyter.widget-view+json": {
       "model_id": "bc356a7cfed340ebb639b2808587ebea",
       "version_major": 2,
       "version_minor": 0
      },
      "text/plain": [
       "VBox(children=(Label(value='0.259 MB of 0.259 MB uploaded\\r'), FloatProgress(value=1.0, max=1.0)))"
      ]
     },
     "metadata": {},
     "output_type": "display_data"
    },
    {
     "name": "stdout",
     "output_type": "stream",
     "text": [
      "2024-08-05 16:42:32,185 WARNING: DeprecationWarning: Importing display from IPython.core.display is deprecated since IPython 7.14, please import from IPython display\n",
      "\n"
     ]
    },
    {
     "data": {
      "text/html": [
       "<style>\n",
       "    table.wandb td:nth-child(1) { padding: 0 10px; text-align: left ; width: auto;} td:nth-child(2) {text-align: left ; width: 100%}\n",
       "    .wandb-row { display: flex; flex-direction: row; flex-wrap: wrap; justify-content: flex-start; width: 100% }\n",
       "    .wandb-col { display: flex; flex-direction: column; flex-basis: 100%; flex: 1; padding: 10px; }\n",
       "    </style>\n",
       "<div class=\"wandb-row\"><div class=\"wandb-col\"><h3>Run history:</h3><br/><table class=\"wandb\"><tr><td>f1_score</td><td>▁</td></tr><tr><td>f1_score_train</td><td>▁</td></tr><tr><td>f1_score_valid</td><td>▁</td></tr></table><br/></div><div class=\"wandb-col\"><h3>Run summary:</h3><br/><table class=\"wandb\"><tr><td>f1_score</td><td>0.65391</td></tr><tr><td>f1_score_train</td><td>0.71494</td></tr><tr><td>f1_score_valid</td><td>0.58972</td></tr></table><br/></div></div>"
      ],
      "text/plain": [
       "<IPython.core.display.HTML object>"
      ]
     },
     "metadata": {},
     "output_type": "display_data"
    },
    {
     "data": {
      "text/html": [
       " View run <strong style=\"color:#cdcd00\">olive-smoke-6</strong> at: <a href='https://wandb.ai/harshmp/truck-delay-classification/runs/nwl3wpuo' target=\"_blank\">https://wandb.ai/harshmp/truck-delay-classification/runs/nwl3wpuo</a><br/>Synced 5 W&B file(s), 0 media file(s), 1 artifact file(s) and 1 other file(s)"
      ],
      "text/plain": [
       "<IPython.core.display.HTML object>"
      ]
     },
     "metadata": {},
     "output_type": "display_data"
    },
    {
     "data": {
      "text/html": [
       "Find logs at: <code>.\\wandb\\run-20240805_164219-nwl3wpuo\\logs</code>"
      ],
      "text/plain": [
       "<IPython.core.display.HTML object>"
      ]
     },
     "metadata": {},
     "output_type": "display_data"
    }
   ],
   "source": [
    "train_xgb_model(X_train, y_train,X_valid, y_valid, X_test, y_test)"
   ]
  },
  {
   "cell_type": "markdown",
   "metadata": {},
   "source": [
    "### **Model Building Summary**\n",
    "\n",
    "Logistic Regression:\n",
    "\n",
    "* The F1 score and recall on the training set are relatively low, indicating that the model might not fit the training data well.\n",
    "* The F1 score and recall on the validation and test sets are high but we'll have to look for consistency of  the model results over high scores.\n",
    "\n",
    "Random Forest:\n",
    "\n",
    "* The Random Forest model has very high F1 scores and recall on the training set, indicating a potential overfitting issue.\n",
    "* On the validation set, the F1 score is lower than on the training set, which is expected, but it's still relatively high.\n",
    "* The model performs well on the test set with a better F1 score and recall.\n",
    "* To address potential overfitting, we can experiment with reducing the complexity of the Random Forest model, by limiting the depth of the trees.\n",
    "\n",
    "XGBoost:\n",
    "\n",
    "* XGBoost shows good F1 scores and recall on the training set, indicating a reasonable fit to the training data.\n",
    "* On the validation set, the F1 score is reasonable, suggesting decent generalization.\n",
    "* The model performs well on the test set with a high F1 score and recall, indicating good generalization to unseen data.\n",
    "* XGBoost seems to be the most promising model, we can do hyperparameter tuning to see if we can improve its performance even more.\n",
    "\n",
    "F1_score Train: 0.7149\n",
    "\n",
    "F1_score Valid: 0.5897\n",
    "\n",
    "F1_score Test: 0.6539"
   ]
  },
  {
   "cell_type": "markdown",
   "metadata": {},
   "source": [
    "### Hyperparameter Tuning "
   ]
  },
  {
   "cell_type": "markdown",
   "metadata": {},
   "source": [
    "#### Hyperparameter Sweeps "
   ]
  },
  {
   "cell_type": "code",
   "execution_count": 69,
   "metadata": {},
   "outputs": [],
   "source": [
    "import joblib\n",
    "w = {0: weights[0], 1: weights[1]}\n",
    "def train_rf_model(X_train=X_train, y_train=y_train, X_valid=X_valid,y_valid=y_valid, X_test=X_test, y_test=y_test):\n",
    "    features = X_train.columns\n",
    "\n",
    "    with wandb.init(\n",
    "        project= PROJECT_NAME ) as run:\n",
    "        config = wandb.config\n",
    "\n",
    "        model = RandomForestClassifier(\n",
    "            n_estimators=config[\"n_estimators\"],\n",
    "            max_depth=config[\"max_depth\"],\n",
    "            min_samples_split=config[\"min_samples_split\"],\n",
    "            random_state=7,\n",
    "            class_weight=w\n",
    "        )\n",
    "        model.fit(X_train, y_train)\n",
    "        \n",
    "        # train predictions\n",
    "        y_train_pred = model.predict(X_train)\n",
    "        # train performance\n",
    "        train_f1_score = f1_score(y_train, y_train_pred)\n",
    "        \n",
    "\n",
    "        # validation predictions\n",
    "        y_valid_pred = model.predict(X_valid)\n",
    "        # validation performance\n",
    "        valid_f1_score = f1_score(y_valid, y_valid_pred)\n",
    "      \n",
    "\n",
    "        y_preds = model.predict(X_test)\n",
    "        y_probas = model.predict_proba(X_test)\n",
    "\n",
    "        score = f1_score(y_test, y_preds)\n",
    "        print(f\"F1_score Train: {round(train_f1_score, 4)}\")\n",
    "        print(f\"F1_score Valid: {round(valid_f1_score, 4)}\")\n",
    "        print(f\"F1_score Test: {round(score, 4)}\")\n",
    "\n",
    "\n",
    "        wandb.log({\"f1_score_train\": train_f1_score})\n",
    "        wandb.log({\"f1_score_valid\": valid_f1_score})\n",
    "        wandb.log({\"f1_score\": score})\n",
    "\n",
    "        wandb.sklearn.plot_classifier(model, X_train, X_test, y_train, y_test, y_preds, y_probas, labels=None,\n",
    "                                                          model_name='RandomForestClassifier', feature_names=features)\n",
    "\n",
    "        model_artifact = wandb.Artifact(\n",
    "            \"RandomForestClassifier\", type=\"model\",metadata=dict(config))\n",
    "        joblib.dump(model, \"random_f_tuned.pkl\")\n",
    "        model_artifact.add_file(\"random_f_tuned.pkl\")\n",
    "        shutil.copy(\"E://Artificial Intelligence//Projects//Predictive-Truck-Delay-Management-in-Logistics//random_f_tuned.pkl\", os.path.join(wandb.run.dir, \"random_f_tuned.pkl\"))\n",
    "        wandb.save(\"random_f_tuned.pkl\")\n",
    "        run.log_artifact(model_artifact)"
   ]
  },
  {
   "cell_type": "code",
   "execution_count": 70,
   "metadata": {},
   "outputs": [
    {
     "data": {
      "text/plain": [
       "{'bootstrap': True,\n",
       " 'ccp_alpha': 0.0,\n",
       " 'class_weight': {0: 0.7387858043595749, 1: 1.5469634100339495},\n",
       " 'criterion': 'gini',\n",
       " 'max_depth': None,\n",
       " 'max_features': 'sqrt',\n",
       " 'max_leaf_nodes': None,\n",
       " 'max_samples': None,\n",
       " 'min_impurity_decrease': 0.0,\n",
       " 'min_samples_leaf': 1,\n",
       " 'min_samples_split': 2,\n",
       " 'min_weight_fraction_leaf': 0.0,\n",
       " 'n_estimators': 20,\n",
       " 'n_jobs': None,\n",
       " 'oob_score': False,\n",
       " 'random_state': 7,\n",
       " 'verbose': 0,\n",
       " 'warm_start': False}"
      ]
     },
     "execution_count": 70,
     "metadata": {},
     "output_type": "execute_result"
    }
   ],
   "source": [
    "random_f.get_params()"
   ]
  },
  {
   "cell_type": "code",
   "execution_count": 71,
   "metadata": {},
   "outputs": [
    {
     "name": "stdout",
     "output_type": "stream",
     "text": [
      "Create sweep with ID: 20442i5p\n",
      "Sweep URL: https://wandb.ai/harshmp/truck-delay-classification/sweeps/20442i5p\n"
     ]
    },
    {
     "name": "stderr",
     "output_type": "stream",
     "text": [
      "wandb: Agent Starting Run: j96k0hrg with config:\n",
      "wandb: \tmax_depth: None\n",
      "wandb: \tmin_samples_split: 2\n",
      "wandb: \tn_estimators: 8\n",
      "Failed to detect the name of this notebook, you can set it manually with the WANDB_NOTEBOOK_NAME environment variable to enable code saving.\n",
      "wandb: WARNING Ignored wandb.init() arg project when running a sweep.\n"
     ]
    },
    {
     "name": "stdout",
     "output_type": "stream",
     "text": [
      "2024-08-05 17:29:27,778 WARNING: DeprecationWarning: Importing display from IPython.core.display is deprecated since IPython 7.14, please import from IPython display\n",
      "\n"
     ]
    },
    {
     "data": {
      "text/html": [
       "wandb version 0.17.5 is available!  To upgrade, please run:\n",
       " $ pip install wandb --upgrade"
      ],
      "text/plain": [
       "<IPython.core.display.HTML object>"
      ]
     },
     "metadata": {},
     "output_type": "display_data"
    },
    {
     "data": {
      "text/html": [
       "Tracking run with wandb version 0.16.1"
      ],
      "text/plain": [
       "<IPython.core.display.HTML object>"
      ]
     },
     "metadata": {},
     "output_type": "display_data"
    },
    {
     "data": {
      "text/html": [
       "Run data is saved locally in <code>e:\\Artificial Intelligence\\Projects\\Predictive-Truck-Delay-Management-in-Logistics\\wandb\\run-20240805_172924-j96k0hrg</code>"
      ],
      "text/plain": [
       "<IPython.core.display.HTML object>"
      ]
     },
     "metadata": {},
     "output_type": "display_data"
    },
    {
     "data": {
      "text/html": [
       "Syncing run <strong><a href='https://wandb.ai/harshmp/truck-delay-classification/runs/j96k0hrg' target=\"_blank\">glad-sweep-1</a></strong> to <a href='https://wandb.ai/harshmp/truck-delay-classification' target=\"_blank\">Weights & Biases</a> (<a href='https://wandb.me/run' target=\"_blank\">docs</a>)<br/>Sweep page: <a href='https://wandb.ai/harshmp/truck-delay-classification/sweeps/20442i5p' target=\"_blank\">https://wandb.ai/harshmp/truck-delay-classification/sweeps/20442i5p</a>"
      ],
      "text/plain": [
       "<IPython.core.display.HTML object>"
      ]
     },
     "metadata": {},
     "output_type": "display_data"
    },
    {
     "data": {
      "text/html": [
       " View project at <a href='https://wandb.ai/harshmp/truck-delay-classification' target=\"_blank\">https://wandb.ai/harshmp/truck-delay-classification</a>"
      ],
      "text/plain": [
       "<IPython.core.display.HTML object>"
      ]
     },
     "metadata": {},
     "output_type": "display_data"
    },
    {
     "data": {
      "text/html": [
       " View sweep at <a href='https://wandb.ai/harshmp/truck-delay-classification/sweeps/20442i5p' target=\"_blank\">https://wandb.ai/harshmp/truck-delay-classification/sweeps/20442i5p</a>"
      ],
      "text/plain": [
       "<IPython.core.display.HTML object>"
      ]
     },
     "metadata": {},
     "output_type": "display_data"
    },
    {
     "data": {
      "text/html": [
       " View run at <a href='https://wandb.ai/harshmp/truck-delay-classification/runs/j96k0hrg' target=\"_blank\">https://wandb.ai/harshmp/truck-delay-classification/runs/j96k0hrg</a>"
      ],
      "text/plain": [
       "<IPython.core.display.HTML object>"
      ]
     },
     "metadata": {},
     "output_type": "display_data"
    },
    {
     "name": "stdout",
     "output_type": "stream",
     "text": [
      "F1_score Train: 0.9535\n",
      "F1_score Valid: 0.4894\n",
      "F1_score Test: 0.562\n"
     ]
    },
    {
     "name": "stderr",
     "output_type": "stream",
     "text": [
      "wandb: \n",
      "wandb: Plotting RandomForestClassifier.\n",
      "wandb: Logged feature importances.\n",
      "wandb: Logged confusion matrix.\n"
     ]
    },
    {
     "name": "stdout",
     "output_type": "stream",
     "text": [
      "2024-08-05 17:29:29,095 WARNING: DeprecationWarning: Please import `csr_matrix` from the `scipy.sparse` namespace; the `scipy.sparse.csr` namespace is deprecated and will be removed in SciPy 2.0.0.\n",
      "\n"
     ]
    },
    {
     "name": "stderr",
     "output_type": "stream",
     "text": [
      "wandb: Logged summary metrics.\n",
      "wandb: Logged class proportions.\n"
     ]
    },
    {
     "name": "stdout",
     "output_type": "stream",
     "text": [
      "2024-08-05 17:29:30,243 WARNING: DeprecationWarning: Please import `csr_matrix` from the `scipy.sparse` namespace; the `scipy.sparse.csr` namespace is deprecated and will be removed in SciPy 2.0.0.\n",
      "\n"
     ]
    },
    {
     "name": "stderr",
     "output_type": "stream",
     "text": [
      "wandb: Logged calibration curve.\n",
      "wandb: Logged roc curve.\n",
      "wandb: Logged precision-recall curve.\n"
     ]
    },
    {
     "name": "stdout",
     "output_type": "stream",
     "text": [
      "2024-08-05 17:29:47,533 WARNING: DeprecationWarning: Importing display from IPython.core.display is deprecated since IPython 7.14, please import from IPython display\n",
      "\n"
     ]
    },
    {
     "data": {
      "application/vnd.jupyter.widget-view+json": {
       "model_id": "a1b793595ddb4d40b7bf5b3e37e863e9",
       "version_major": 2,
       "version_minor": 0
      },
      "text/plain": [
       "VBox(children=(Label(value='3.544 MB of 3.544 MB uploaded\\r'), FloatProgress(value=1.0, max=1.0)))"
      ]
     },
     "metadata": {},
     "output_type": "display_data"
    },
    {
     "name": "stdout",
     "output_type": "stream",
     "text": [
      "2024-08-05 17:29:51,378 WARNING: DeprecationWarning: Importing display from IPython.core.display is deprecated since IPython 7.14, please import from IPython display\n",
      "\n"
     ]
    },
    {
     "data": {
      "text/html": [
       "<style>\n",
       "    table.wandb td:nth-child(1) { padding: 0 10px; text-align: left ; width: auto;} td:nth-child(2) {text-align: left ; width: 100%}\n",
       "    .wandb-row { display: flex; flex-direction: row; flex-wrap: wrap; justify-content: flex-start; width: 100% }\n",
       "    .wandb-col { display: flex; flex-direction: column; flex-basis: 100%; flex: 1; padding: 10px; }\n",
       "    </style>\n",
       "<div class=\"wandb-row\"><div class=\"wandb-col\"><h3>Run history:</h3><br/><table class=\"wandb\"><tr><td>f1_score</td><td>▁</td></tr><tr><td>f1_score_train</td><td>▁</td></tr><tr><td>f1_score_valid</td><td>▁</td></tr></table><br/></div><div class=\"wandb-col\"><h3>Run summary:</h3><br/><table class=\"wandb\"><tr><td>f1_score</td><td>0.56198</td></tr><tr><td>f1_score_train</td><td>0.95354</td></tr><tr><td>f1_score_valid</td><td>0.48943</td></tr></table><br/></div></div>"
      ],
      "text/plain": [
       "<IPython.core.display.HTML object>"
      ]
     },
     "metadata": {},
     "output_type": "display_data"
    },
    {
     "data": {
      "text/html": [
       " View run <strong style=\"color:#cdcd00\">glad-sweep-1</strong> at: <a href='https://wandb.ai/harshmp/truck-delay-classification/runs/j96k0hrg' target=\"_blank\">https://wandb.ai/harshmp/truck-delay-classification/runs/j96k0hrg</a><br/>Synced 5 W&B file(s), 7 media file(s), 8 artifact file(s) and 1 other file(s)"
      ],
      "text/plain": [
       "<IPython.core.display.HTML object>"
      ]
     },
     "metadata": {},
     "output_type": "display_data"
    },
    {
     "data": {
      "text/html": [
       "Find logs at: <code>.\\wandb\\run-20240805_172924-j96k0hrg\\logs</code>"
      ],
      "text/plain": [
       "<IPython.core.display.HTML object>"
      ]
     },
     "metadata": {},
     "output_type": "display_data"
    },
    {
     "name": "stderr",
     "output_type": "stream",
     "text": [
      "wandb: Agent Starting Run: 5k2c5100 with config:\n",
      "wandb: \tmax_depth: None\n",
      "wandb: \tmin_samples_split: 2\n",
      "wandb: \tn_estimators: 12\n",
      "Failed to detect the name of this notebook, you can set it manually with the WANDB_NOTEBOOK_NAME environment variable to enable code saving.\n",
      "wandb: WARNING Ignored wandb.init() arg project when running a sweep.\n"
     ]
    },
    {
     "data": {
      "text/html": [
       "wandb version 0.17.5 is available!  To upgrade, please run:\n",
       " $ pip install wandb --upgrade"
      ],
      "text/plain": [
       "<IPython.core.display.HTML object>"
      ]
     },
     "metadata": {},
     "output_type": "display_data"
    },
    {
     "data": {
      "text/html": [
       "Tracking run with wandb version 0.16.1"
      ],
      "text/plain": [
       "<IPython.core.display.HTML object>"
      ]
     },
     "metadata": {},
     "output_type": "display_data"
    },
    {
     "data": {
      "text/html": [
       "Run data is saved locally in <code>e:\\Artificial Intelligence\\Projects\\Predictive-Truck-Delay-Management-in-Logistics\\wandb\\run-20240805_172959-5k2c5100</code>"
      ],
      "text/plain": [
       "<IPython.core.display.HTML object>"
      ]
     },
     "metadata": {},
     "output_type": "display_data"
    },
    {
     "data": {
      "text/html": [
       "Syncing run <strong><a href='https://wandb.ai/harshmp/truck-delay-classification/runs/5k2c5100' target=\"_blank\">playful-sweep-2</a></strong> to <a href='https://wandb.ai/harshmp/truck-delay-classification' target=\"_blank\">Weights & Biases</a> (<a href='https://wandb.me/run' target=\"_blank\">docs</a>)<br/>Sweep page: <a href='https://wandb.ai/harshmp/truck-delay-classification/sweeps/20442i5p' target=\"_blank\">https://wandb.ai/harshmp/truck-delay-classification/sweeps/20442i5p</a>"
      ],
      "text/plain": [
       "<IPython.core.display.HTML object>"
      ]
     },
     "metadata": {},
     "output_type": "display_data"
    },
    {
     "data": {
      "text/html": [
       " View project at <a href='https://wandb.ai/harshmp/truck-delay-classification' target=\"_blank\">https://wandb.ai/harshmp/truck-delay-classification</a>"
      ],
      "text/plain": [
       "<IPython.core.display.HTML object>"
      ]
     },
     "metadata": {},
     "output_type": "display_data"
    },
    {
     "data": {
      "text/html": [
       " View sweep at <a href='https://wandb.ai/harshmp/truck-delay-classification/sweeps/20442i5p' target=\"_blank\">https://wandb.ai/harshmp/truck-delay-classification/sweeps/20442i5p</a>"
      ],
      "text/plain": [
       "<IPython.core.display.HTML object>"
      ]
     },
     "metadata": {},
     "output_type": "display_data"
    },
    {
     "data": {
      "text/html": [
       " View run at <a href='https://wandb.ai/harshmp/truck-delay-classification/runs/5k2c5100' target=\"_blank\">https://wandb.ai/harshmp/truck-delay-classification/runs/5k2c5100</a>"
      ],
      "text/plain": [
       "<IPython.core.display.HTML object>"
      ]
     },
     "metadata": {},
     "output_type": "display_data"
    },
    {
     "name": "stdout",
     "output_type": "stream",
     "text": [
      "F1_score Train: 0.9741\n",
      "F1_score Valid: 0.5088\n",
      "F1_score Test: 0.5901\n"
     ]
    },
    {
     "name": "stderr",
     "output_type": "stream",
     "text": [
      "wandb: \n",
      "wandb: Plotting RandomForestClassifier.\n",
      "wandb: Logged feature importances.\n",
      "wandb: Logged confusion matrix.\n"
     ]
    },
    {
     "name": "stdout",
     "output_type": "stream",
     "text": [
      "2024-08-05 17:30:03,349 WARNING: DeprecationWarning: Please import `csr_matrix` from the `scipy.sparse` namespace; the `scipy.sparse.csr` namespace is deprecated and will be removed in SciPy 2.0.0.\n",
      "\n"
     ]
    },
    {
     "name": "stderr",
     "output_type": "stream",
     "text": [
      "wandb: Logged summary metrics.\n",
      "wandb: Logged class proportions.\n"
     ]
    },
    {
     "name": "stdout",
     "output_type": "stream",
     "text": [
      "2024-08-05 17:30:04,976 WARNING: DeprecationWarning: Please import `csr_matrix` from the `scipy.sparse` namespace; the `scipy.sparse.csr` namespace is deprecated and will be removed in SciPy 2.0.0.\n",
      "\n"
     ]
    },
    {
     "name": "stderr",
     "output_type": "stream",
     "text": [
      "wandb: Logged calibration curve.\n",
      "wandb: Logged roc curve.\n",
      "wandb: Logged precision-recall curve.\n"
     ]
    },
    {
     "name": "stdout",
     "output_type": "stream",
     "text": [
      "2024-08-05 17:30:20,186 WARNING: DeprecationWarning: Importing display from IPython.core.display is deprecated since IPython 7.14, please import from IPython display\n",
      "\n"
     ]
    },
    {
     "data": {
      "application/vnd.jupyter.widget-view+json": {
       "model_id": "b96e07a37f6640248ff6b19bd2b5c377",
       "version_major": 2,
       "version_minor": 0
      },
      "text/plain": [
       "VBox(children=(Label(value='5.311 MB of 5.311 MB uploaded\\r'), FloatProgress(value=1.0, max=1.0)))"
      ]
     },
     "metadata": {},
     "output_type": "display_data"
    },
    {
     "name": "stdout",
     "output_type": "stream",
     "text": [
      "2024-08-05 17:30:23,210 WARNING: DeprecationWarning: Importing display from IPython.core.display is deprecated since IPython 7.14, please import from IPython display\n",
      "\n"
     ]
    },
    {
     "data": {
      "text/html": [
       "<style>\n",
       "    table.wandb td:nth-child(1) { padding: 0 10px; text-align: left ; width: auto;} td:nth-child(2) {text-align: left ; width: 100%}\n",
       "    .wandb-row { display: flex; flex-direction: row; flex-wrap: wrap; justify-content: flex-start; width: 100% }\n",
       "    .wandb-col { display: flex; flex-direction: column; flex-basis: 100%; flex: 1; padding: 10px; }\n",
       "    </style>\n",
       "<div class=\"wandb-row\"><div class=\"wandb-col\"><h3>Run history:</h3><br/><table class=\"wandb\"><tr><td>f1_score</td><td>▁</td></tr><tr><td>f1_score_train</td><td>▁</td></tr><tr><td>f1_score_valid</td><td>▁</td></tr></table><br/></div><div class=\"wandb-col\"><h3>Run summary:</h3><br/><table class=\"wandb\"><tr><td>f1_score</td><td>0.59006</td></tr><tr><td>f1_score_train</td><td>0.97411</td></tr><tr><td>f1_score_valid</td><td>0.50883</td></tr></table><br/></div></div>"
      ],
      "text/plain": [
       "<IPython.core.display.HTML object>"
      ]
     },
     "metadata": {},
     "output_type": "display_data"
    },
    {
     "data": {
      "text/html": [
       " View run <strong style=\"color:#cdcd00\">playful-sweep-2</strong> at: <a href='https://wandb.ai/harshmp/truck-delay-classification/runs/5k2c5100' target=\"_blank\">https://wandb.ai/harshmp/truck-delay-classification/runs/5k2c5100</a><br/>Synced 5 W&B file(s), 7 media file(s), 8 artifact file(s) and 1 other file(s)"
      ],
      "text/plain": [
       "<IPython.core.display.HTML object>"
      ]
     },
     "metadata": {},
     "output_type": "display_data"
    },
    {
     "data": {
      "text/html": [
       "Find logs at: <code>.\\wandb\\run-20240805_172959-5k2c5100\\logs</code>"
      ],
      "text/plain": [
       "<IPython.core.display.HTML object>"
      ]
     },
     "metadata": {},
     "output_type": "display_data"
    },
    {
     "name": "stderr",
     "output_type": "stream",
     "text": [
      "wandb: Agent Starting Run: x9wnng9t with config:\n",
      "wandb: \tmax_depth: None\n",
      "wandb: \tmin_samples_split: 2\n",
      "wandb: \tn_estimators: 16\n",
      "Failed to detect the name of this notebook, you can set it manually with the WANDB_NOTEBOOK_NAME environment variable to enable code saving.\n",
      "wandb: WARNING Ignored wandb.init() arg project when running a sweep.\n"
     ]
    },
    {
     "data": {
      "text/html": [
       "wandb version 0.17.5 is available!  To upgrade, please run:\n",
       " $ pip install wandb --upgrade"
      ],
      "text/plain": [
       "<IPython.core.display.HTML object>"
      ]
     },
     "metadata": {},
     "output_type": "display_data"
    },
    {
     "data": {
      "text/html": [
       "Tracking run with wandb version 0.16.1"
      ],
      "text/plain": [
       "<IPython.core.display.HTML object>"
      ]
     },
     "metadata": {},
     "output_type": "display_data"
    },
    {
     "data": {
      "text/html": [
       "Run data is saved locally in <code>e:\\Artificial Intelligence\\Projects\\Predictive-Truck-Delay-Management-in-Logistics\\wandb\\run-20240805_173034-x9wnng9t</code>"
      ],
      "text/plain": [
       "<IPython.core.display.HTML object>"
      ]
     },
     "metadata": {},
     "output_type": "display_data"
    },
    {
     "data": {
      "text/html": [
       "Syncing run <strong><a href='https://wandb.ai/harshmp/truck-delay-classification/runs/x9wnng9t' target=\"_blank\">prime-sweep-3</a></strong> to <a href='https://wandb.ai/harshmp/truck-delay-classification' target=\"_blank\">Weights & Biases</a> (<a href='https://wandb.me/run' target=\"_blank\">docs</a>)<br/>Sweep page: <a href='https://wandb.ai/harshmp/truck-delay-classification/sweeps/20442i5p' target=\"_blank\">https://wandb.ai/harshmp/truck-delay-classification/sweeps/20442i5p</a>"
      ],
      "text/plain": [
       "<IPython.core.display.HTML object>"
      ]
     },
     "metadata": {},
     "output_type": "display_data"
    },
    {
     "data": {
      "text/html": [
       " View project at <a href='https://wandb.ai/harshmp/truck-delay-classification' target=\"_blank\">https://wandb.ai/harshmp/truck-delay-classification</a>"
      ],
      "text/plain": [
       "<IPython.core.display.HTML object>"
      ]
     },
     "metadata": {},
     "output_type": "display_data"
    },
    {
     "data": {
      "text/html": [
       " View sweep at <a href='https://wandb.ai/harshmp/truck-delay-classification/sweeps/20442i5p' target=\"_blank\">https://wandb.ai/harshmp/truck-delay-classification/sweeps/20442i5p</a>"
      ],
      "text/plain": [
       "<IPython.core.display.HTML object>"
      ]
     },
     "metadata": {},
     "output_type": "display_data"
    },
    {
     "data": {
      "text/html": [
       " View run at <a href='https://wandb.ai/harshmp/truck-delay-classification/runs/x9wnng9t' target=\"_blank\">https://wandb.ai/harshmp/truck-delay-classification/runs/x9wnng9t</a>"
      ],
      "text/plain": [
       "<IPython.core.display.HTML object>"
      ]
     },
     "metadata": {},
     "output_type": "display_data"
    },
    {
     "name": "stdout",
     "output_type": "stream",
     "text": [
      "F1_score Train: 0.9853\n",
      "F1_score Valid: 0.5249\n",
      "F1_score Test: 0.5958\n"
     ]
    },
    {
     "name": "stderr",
     "output_type": "stream",
     "text": [
      "wandb: \n",
      "wandb: Plotting RandomForestClassifier.\n",
      "wandb: Logged feature importances.\n",
      "wandb: Logged confusion matrix.\n"
     ]
    },
    {
     "name": "stdout",
     "output_type": "stream",
     "text": [
      "2024-08-05 17:30:37,641 WARNING: DeprecationWarning: Please import `csr_matrix` from the `scipy.sparse` namespace; the `scipy.sparse.csr` namespace is deprecated and will be removed in SciPy 2.0.0.\n",
      "\n"
     ]
    },
    {
     "name": "stderr",
     "output_type": "stream",
     "text": [
      "wandb: Logged summary metrics.\n",
      "wandb: Logged class proportions.\n"
     ]
    },
    {
     "name": "stdout",
     "output_type": "stream",
     "text": [
      "2024-08-05 17:30:39,043 WARNING: DeprecationWarning: Please import `csr_matrix` from the `scipy.sparse` namespace; the `scipy.sparse.csr` namespace is deprecated and will be removed in SciPy 2.0.0.\n",
      "\n"
     ]
    },
    {
     "name": "stderr",
     "output_type": "stream",
     "text": [
      "wandb: Logged calibration curve.\n",
      "wandb: Logged roc curve.\n",
      "wandb: Logged precision-recall curve.\n"
     ]
    },
    {
     "name": "stdout",
     "output_type": "stream",
     "text": [
      "2024-08-05 17:30:54,220 WARNING: DeprecationWarning: Importing display from IPython.core.display is deprecated since IPython 7.14, please import from IPython display\n",
      "\n"
     ]
    },
    {
     "data": {
      "application/vnd.jupyter.widget-view+json": {
       "model_id": "886927d1257140fc9bd2dddfa0c023d5",
       "version_major": 2,
       "version_minor": 0
      },
      "text/plain": [
       "VBox(children=(Label(value='7.086 MB of 7.086 MB uploaded\\r'), FloatProgress(value=1.0, max=1.0)))"
      ]
     },
     "metadata": {},
     "output_type": "display_data"
    },
    {
     "name": "stdout",
     "output_type": "stream",
     "text": [
      "2024-08-05 17:30:57,510 WARNING: DeprecationWarning: Importing display from IPython.core.display is deprecated since IPython 7.14, please import from IPython display\n",
      "\n"
     ]
    },
    {
     "data": {
      "text/html": [
       "<style>\n",
       "    table.wandb td:nth-child(1) { padding: 0 10px; text-align: left ; width: auto;} td:nth-child(2) {text-align: left ; width: 100%}\n",
       "    .wandb-row { display: flex; flex-direction: row; flex-wrap: wrap; justify-content: flex-start; width: 100% }\n",
       "    .wandb-col { display: flex; flex-direction: column; flex-basis: 100%; flex: 1; padding: 10px; }\n",
       "    </style>\n",
       "<div class=\"wandb-row\"><div class=\"wandb-col\"><h3>Run history:</h3><br/><table class=\"wandb\"><tr><td>f1_score</td><td>▁</td></tr><tr><td>f1_score_train</td><td>▁</td></tr><tr><td>f1_score_valid</td><td>▁</td></tr></table><br/></div><div class=\"wandb-col\"><h3>Run summary:</h3><br/><table class=\"wandb\"><tr><td>f1_score</td><td>0.59578</td></tr><tr><td>f1_score_train</td><td>0.98526</td></tr><tr><td>f1_score_valid</td><td>0.52488</td></tr></table><br/></div></div>"
      ],
      "text/plain": [
       "<IPython.core.display.HTML object>"
      ]
     },
     "metadata": {},
     "output_type": "display_data"
    },
    {
     "data": {
      "text/html": [
       " View run <strong style=\"color:#cdcd00\">prime-sweep-3</strong> at: <a href='https://wandb.ai/harshmp/truck-delay-classification/runs/x9wnng9t' target=\"_blank\">https://wandb.ai/harshmp/truck-delay-classification/runs/x9wnng9t</a><br/>Synced 5 W&B file(s), 7 media file(s), 8 artifact file(s) and 1 other file(s)"
      ],
      "text/plain": [
       "<IPython.core.display.HTML object>"
      ]
     },
     "metadata": {},
     "output_type": "display_data"
    },
    {
     "data": {
      "text/html": [
       "Find logs at: <code>.\\wandb\\run-20240805_173034-x9wnng9t\\logs</code>"
      ],
      "text/plain": [
       "<IPython.core.display.HTML object>"
      ]
     },
     "metadata": {},
     "output_type": "display_data"
    },
    {
     "name": "stderr",
     "output_type": "stream",
     "text": [
      "wandb: Agent Starting Run: wj2td1qc with config:\n",
      "wandb: \tmax_depth: None\n",
      "wandb: \tmin_samples_split: 2\n",
      "wandb: \tn_estimators: 20\n",
      "Failed to detect the name of this notebook, you can set it manually with the WANDB_NOTEBOOK_NAME environment variable to enable code saving.\n",
      "wandb: WARNING Ignored wandb.init() arg project when running a sweep.\n"
     ]
    },
    {
     "data": {
      "text/html": [
       "wandb version 0.17.5 is available!  To upgrade, please run:\n",
       " $ pip install wandb --upgrade"
      ],
      "text/plain": [
       "<IPython.core.display.HTML object>"
      ]
     },
     "metadata": {},
     "output_type": "display_data"
    },
    {
     "data": {
      "text/html": [
       "Tracking run with wandb version 0.16.1"
      ],
      "text/plain": [
       "<IPython.core.display.HTML object>"
      ]
     },
     "metadata": {},
     "output_type": "display_data"
    },
    {
     "data": {
      "text/html": [
       "Run data is saved locally in <code>e:\\Artificial Intelligence\\Projects\\Predictive-Truck-Delay-Management-in-Logistics\\wandb\\run-20240805_173105-wj2td1qc</code>"
      ],
      "text/plain": [
       "<IPython.core.display.HTML object>"
      ]
     },
     "metadata": {},
     "output_type": "display_data"
    },
    {
     "data": {
      "text/html": [
       "Syncing run <strong><a href='https://wandb.ai/harshmp/truck-delay-classification/runs/wj2td1qc' target=\"_blank\">hardy-sweep-4</a></strong> to <a href='https://wandb.ai/harshmp/truck-delay-classification' target=\"_blank\">Weights & Biases</a> (<a href='https://wandb.me/run' target=\"_blank\">docs</a>)<br/>Sweep page: <a href='https://wandb.ai/harshmp/truck-delay-classification/sweeps/20442i5p' target=\"_blank\">https://wandb.ai/harshmp/truck-delay-classification/sweeps/20442i5p</a>"
      ],
      "text/plain": [
       "<IPython.core.display.HTML object>"
      ]
     },
     "metadata": {},
     "output_type": "display_data"
    },
    {
     "data": {
      "text/html": [
       " View project at <a href='https://wandb.ai/harshmp/truck-delay-classification' target=\"_blank\">https://wandb.ai/harshmp/truck-delay-classification</a>"
      ],
      "text/plain": [
       "<IPython.core.display.HTML object>"
      ]
     },
     "metadata": {},
     "output_type": "display_data"
    },
    {
     "data": {
      "text/html": [
       " View sweep at <a href='https://wandb.ai/harshmp/truck-delay-classification/sweeps/20442i5p' target=\"_blank\">https://wandb.ai/harshmp/truck-delay-classification/sweeps/20442i5p</a>"
      ],
      "text/plain": [
       "<IPython.core.display.HTML object>"
      ]
     },
     "metadata": {},
     "output_type": "display_data"
    },
    {
     "data": {
      "text/html": [
       " View run at <a href='https://wandb.ai/harshmp/truck-delay-classification/runs/wj2td1qc' target=\"_blank\">https://wandb.ai/harshmp/truck-delay-classification/runs/wj2td1qc</a>"
      ],
      "text/plain": [
       "<IPython.core.display.HTML object>"
      ]
     },
     "metadata": {},
     "output_type": "display_data"
    },
    {
     "name": "stdout",
     "output_type": "stream",
     "text": [
      "F1_score Train: 0.9893\n",
      "F1_score Valid: 0.5232\n",
      "F1_score Test: 0.6082\n"
     ]
    },
    {
     "name": "stderr",
     "output_type": "stream",
     "text": [
      "wandb: \n",
      "wandb: Plotting RandomForestClassifier.\n",
      "wandb: Logged feature importances.\n",
      "wandb: Logged confusion matrix.\n"
     ]
    },
    {
     "name": "stdout",
     "output_type": "stream",
     "text": [
      "2024-08-05 17:31:09,278 WARNING: DeprecationWarning: Please import `csr_matrix` from the `scipy.sparse` namespace; the `scipy.sparse.csr` namespace is deprecated and will be removed in SciPy 2.0.0.\n",
      "\n"
     ]
    },
    {
     "name": "stderr",
     "output_type": "stream",
     "text": [
      "wandb: Logged summary metrics.\n",
      "wandb: Logged class proportions.\n"
     ]
    },
    {
     "name": "stdout",
     "output_type": "stream",
     "text": [
      "2024-08-05 17:31:10,353 WARNING: DeprecationWarning: Please import `csr_matrix` from the `scipy.sparse` namespace; the `scipy.sparse.csr` namespace is deprecated and will be removed in SciPy 2.0.0.\n",
      "\n"
     ]
    },
    {
     "name": "stderr",
     "output_type": "stream",
     "text": [
      "wandb: Logged calibration curve.\n",
      "wandb: Logged roc curve.\n",
      "wandb: Logged precision-recall curve.\n"
     ]
    },
    {
     "name": "stdout",
     "output_type": "stream",
     "text": [
      "2024-08-05 17:31:26,853 WARNING: DeprecationWarning: Importing display from IPython.core.display is deprecated since IPython 7.14, please import from IPython display\n",
      "\n"
     ]
    },
    {
     "data": {
      "application/vnd.jupyter.widget-view+json": {
       "model_id": "6675b3c7f5fb44c684b1b7afb52094f5",
       "version_major": 2,
       "version_minor": 0
      },
      "text/plain": [
       "VBox(children=(Label(value='8.926 MB of 8.926 MB uploaded\\r'), FloatProgress(value=1.0, max=1.0)))"
      ]
     },
     "metadata": {},
     "output_type": "display_data"
    },
    {
     "name": "stdout",
     "output_type": "stream",
     "text": [
      "2024-08-05 17:31:29,451 WARNING: DeprecationWarning: Importing display from IPython.core.display is deprecated since IPython 7.14, please import from IPython display\n",
      "\n"
     ]
    },
    {
     "data": {
      "text/html": [
       "<style>\n",
       "    table.wandb td:nth-child(1) { padding: 0 10px; text-align: left ; width: auto;} td:nth-child(2) {text-align: left ; width: 100%}\n",
       "    .wandb-row { display: flex; flex-direction: row; flex-wrap: wrap; justify-content: flex-start; width: 100% }\n",
       "    .wandb-col { display: flex; flex-direction: column; flex-basis: 100%; flex: 1; padding: 10px; }\n",
       "    </style>\n",
       "<div class=\"wandb-row\"><div class=\"wandb-col\"><h3>Run history:</h3><br/><table class=\"wandb\"><tr><td>f1_score</td><td>▁</td></tr><tr><td>f1_score_train</td><td>▁</td></tr><tr><td>f1_score_valid</td><td>▁</td></tr></table><br/></div><div class=\"wandb-col\"><h3>Run summary:</h3><br/><table class=\"wandb\"><tr><td>f1_score</td><td>0.60821</td></tr><tr><td>f1_score_train</td><td>0.98933</td></tr><tr><td>f1_score_valid</td><td>0.5232</td></tr></table><br/></div></div>"
      ],
      "text/plain": [
       "<IPython.core.display.HTML object>"
      ]
     },
     "metadata": {},
     "output_type": "display_data"
    },
    {
     "data": {
      "text/html": [
       " View run <strong style=\"color:#cdcd00\">hardy-sweep-4</strong> at: <a href='https://wandb.ai/harshmp/truck-delay-classification/runs/wj2td1qc' target=\"_blank\">https://wandb.ai/harshmp/truck-delay-classification/runs/wj2td1qc</a><br/>Synced 5 W&B file(s), 7 media file(s), 8 artifact file(s) and 1 other file(s)"
      ],
      "text/plain": [
       "<IPython.core.display.HTML object>"
      ]
     },
     "metadata": {},
     "output_type": "display_data"
    },
    {
     "data": {
      "text/html": [
       "Find logs at: <code>.\\wandb\\run-20240805_173105-wj2td1qc\\logs</code>"
      ],
      "text/plain": [
       "<IPython.core.display.HTML object>"
      ]
     },
     "metadata": {},
     "output_type": "display_data"
    },
    {
     "name": "stderr",
     "output_type": "stream",
     "text": [
      "wandb: Sweep Agent: Waiting for job.\n",
      "wandb: Job received.\n",
      "wandb: Agent Starting Run: 3idh8cs3 with config:\n",
      "wandb: \tmax_depth: None\n",
      "wandb: \tmin_samples_split: 4\n",
      "wandb: \tn_estimators: 8\n",
      "Failed to detect the name of this notebook, you can set it manually with the WANDB_NOTEBOOK_NAME environment variable to enable code saving.\n",
      "wandb: WARNING Ignored wandb.init() arg project when running a sweep.\n"
     ]
    },
    {
     "data": {
      "text/html": [
       "wandb version 0.17.5 is available!  To upgrade, please run:\n",
       " $ pip install wandb --upgrade"
      ],
      "text/plain": [
       "<IPython.core.display.HTML object>"
      ]
     },
     "metadata": {},
     "output_type": "display_data"
    },
    {
     "data": {
      "text/html": [
       "Tracking run with wandb version 0.16.1"
      ],
      "text/plain": [
       "<IPython.core.display.HTML object>"
      ]
     },
     "metadata": {},
     "output_type": "display_data"
    },
    {
     "data": {
      "text/html": [
       "Run data is saved locally in <code>e:\\Artificial Intelligence\\Projects\\Predictive-Truck-Delay-Management-in-Logistics\\wandb\\run-20240805_173147-3idh8cs3</code>"
      ],
      "text/plain": [
       "<IPython.core.display.HTML object>"
      ]
     },
     "metadata": {},
     "output_type": "display_data"
    },
    {
     "data": {
      "text/html": [
       "Syncing run <strong><a href='https://wandb.ai/harshmp/truck-delay-classification/runs/3idh8cs3' target=\"_blank\">cerulean-sweep-5</a></strong> to <a href='https://wandb.ai/harshmp/truck-delay-classification' target=\"_blank\">Weights & Biases</a> (<a href='https://wandb.me/run' target=\"_blank\">docs</a>)<br/>Sweep page: <a href='https://wandb.ai/harshmp/truck-delay-classification/sweeps/20442i5p' target=\"_blank\">https://wandb.ai/harshmp/truck-delay-classification/sweeps/20442i5p</a>"
      ],
      "text/plain": [
       "<IPython.core.display.HTML object>"
      ]
     },
     "metadata": {},
     "output_type": "display_data"
    },
    {
     "data": {
      "text/html": [
       " View project at <a href='https://wandb.ai/harshmp/truck-delay-classification' target=\"_blank\">https://wandb.ai/harshmp/truck-delay-classification</a>"
      ],
      "text/plain": [
       "<IPython.core.display.HTML object>"
      ]
     },
     "metadata": {},
     "output_type": "display_data"
    },
    {
     "data": {
      "text/html": [
       " View sweep at <a href='https://wandb.ai/harshmp/truck-delay-classification/sweeps/20442i5p' target=\"_blank\">https://wandb.ai/harshmp/truck-delay-classification/sweeps/20442i5p</a>"
      ],
      "text/plain": [
       "<IPython.core.display.HTML object>"
      ]
     },
     "metadata": {},
     "output_type": "display_data"
    },
    {
     "data": {
      "text/html": [
       " View run at <a href='https://wandb.ai/harshmp/truck-delay-classification/runs/3idh8cs3' target=\"_blank\">https://wandb.ai/harshmp/truck-delay-classification/runs/3idh8cs3</a>"
      ],
      "text/plain": [
       "<IPython.core.display.HTML object>"
      ]
     },
     "metadata": {},
     "output_type": "display_data"
    },
    {
     "name": "stdout",
     "output_type": "stream",
     "text": [
      "F1_score Train: 0.949\n",
      "F1_score Valid: 0.4761\n",
      "F1_score Test: 0.6095\n"
     ]
    },
    {
     "name": "stderr",
     "output_type": "stream",
     "text": [
      "wandb: \n",
      "wandb: Plotting RandomForestClassifier.\n",
      "wandb: Logged feature importances.\n",
      "wandb: Logged confusion matrix.\n"
     ]
    },
    {
     "name": "stdout",
     "output_type": "stream",
     "text": [
      "2024-08-05 17:31:51,555 WARNING: DeprecationWarning: Please import `csr_matrix` from the `scipy.sparse` namespace; the `scipy.sparse.csr` namespace is deprecated and will be removed in SciPy 2.0.0.\n",
      "\n"
     ]
    },
    {
     "name": "stderr",
     "output_type": "stream",
     "text": [
      "wandb: Logged summary metrics.\n",
      "wandb: Logged class proportions.\n"
     ]
    },
    {
     "name": "stdout",
     "output_type": "stream",
     "text": [
      "2024-08-05 17:31:53,503 WARNING: DeprecationWarning: Please import `csr_matrix` from the `scipy.sparse` namespace; the `scipy.sparse.csr` namespace is deprecated and will be removed in SciPy 2.0.0.\n",
      "\n"
     ]
    },
    {
     "name": "stderr",
     "output_type": "stream",
     "text": [
      "wandb: Logged calibration curve.\n",
      "wandb: Logged roc curve.\n",
      "wandb: Logged precision-recall curve.\n"
     ]
    },
    {
     "name": "stdout",
     "output_type": "stream",
     "text": [
      "2024-08-05 17:32:07,599 WARNING: DeprecationWarning: Importing display from IPython.core.display is deprecated since IPython 7.14, please import from IPython display\n",
      "\n"
     ]
    },
    {
     "data": {
      "application/vnd.jupyter.widget-view+json": {
       "model_id": "e37684bec6004e58ab483598fa633bc9",
       "version_major": 2,
       "version_minor": 0
      },
      "text/plain": [
       "VBox(children=(Label(value='2.930 MB of 2.930 MB uploaded\\r'), FloatProgress(value=1.0, max=1.0)))"
      ]
     },
     "metadata": {},
     "output_type": "display_data"
    },
    {
     "name": "stdout",
     "output_type": "stream",
     "text": [
      "2024-08-05 17:32:11,278 WARNING: DeprecationWarning: Importing display from IPython.core.display is deprecated since IPython 7.14, please import from IPython display\n",
      "\n"
     ]
    },
    {
     "data": {
      "text/html": [
       "<style>\n",
       "    table.wandb td:nth-child(1) { padding: 0 10px; text-align: left ; width: auto;} td:nth-child(2) {text-align: left ; width: 100%}\n",
       "    .wandb-row { display: flex; flex-direction: row; flex-wrap: wrap; justify-content: flex-start; width: 100% }\n",
       "    .wandb-col { display: flex; flex-direction: column; flex-basis: 100%; flex: 1; padding: 10px; }\n",
       "    </style>\n",
       "<div class=\"wandb-row\"><div class=\"wandb-col\"><h3>Run history:</h3><br/><table class=\"wandb\"><tr><td>f1_score</td><td>▁</td></tr><tr><td>f1_score_train</td><td>▁</td></tr><tr><td>f1_score_valid</td><td>▁</td></tr></table><br/></div><div class=\"wandb-col\"><h3>Run summary:</h3><br/><table class=\"wandb\"><tr><td>f1_score</td><td>0.60949</td></tr><tr><td>f1_score_train</td><td>0.94901</td></tr><tr><td>f1_score_valid</td><td>0.47612</td></tr></table><br/></div></div>"
      ],
      "text/plain": [
       "<IPython.core.display.HTML object>"
      ]
     },
     "metadata": {},
     "output_type": "display_data"
    },
    {
     "data": {
      "text/html": [
       " View run <strong style=\"color:#cdcd00\">cerulean-sweep-5</strong> at: <a href='https://wandb.ai/harshmp/truck-delay-classification/runs/3idh8cs3' target=\"_blank\">https://wandb.ai/harshmp/truck-delay-classification/runs/3idh8cs3</a><br/>Synced 5 W&B file(s), 7 media file(s), 8 artifact file(s) and 1 other file(s)"
      ],
      "text/plain": [
       "<IPython.core.display.HTML object>"
      ]
     },
     "metadata": {},
     "output_type": "display_data"
    },
    {
     "data": {
      "text/html": [
       "Find logs at: <code>.\\wandb\\run-20240805_173147-3idh8cs3\\logs</code>"
      ],
      "text/plain": [
       "<IPython.core.display.HTML object>"
      ]
     },
     "metadata": {},
     "output_type": "display_data"
    },
    {
     "name": "stderr",
     "output_type": "stream",
     "text": [
      "wandb: Agent Starting Run: u9yncata with config:\n",
      "wandb: \tmax_depth: None\n",
      "wandb: \tmin_samples_split: 4\n",
      "wandb: \tn_estimators: 12\n",
      "Failed to detect the name of this notebook, you can set it manually with the WANDB_NOTEBOOK_NAME environment variable to enable code saving.\n",
      "wandb: WARNING Ignored wandb.init() arg project when running a sweep.\n"
     ]
    },
    {
     "data": {
      "text/html": [
       "wandb version 0.17.5 is available!  To upgrade, please run:\n",
       " $ pip install wandb --upgrade"
      ],
      "text/plain": [
       "<IPython.core.display.HTML object>"
      ]
     },
     "metadata": {},
     "output_type": "display_data"
    },
    {
     "data": {
      "text/html": [
       "Tracking run with wandb version 0.16.1"
      ],
      "text/plain": [
       "<IPython.core.display.HTML object>"
      ]
     },
     "metadata": {},
     "output_type": "display_data"
    },
    {
     "data": {
      "text/html": [
       "Run data is saved locally in <code>e:\\Artificial Intelligence\\Projects\\Predictive-Truck-Delay-Management-in-Logistics\\wandb\\run-20240805_173222-u9yncata</code>"
      ],
      "text/plain": [
       "<IPython.core.display.HTML object>"
      ]
     },
     "metadata": {},
     "output_type": "display_data"
    },
    {
     "data": {
      "text/html": [
       "Syncing run <strong><a href='https://wandb.ai/harshmp/truck-delay-classification/runs/u9yncata' target=\"_blank\">vague-sweep-6</a></strong> to <a href='https://wandb.ai/harshmp/truck-delay-classification' target=\"_blank\">Weights & Biases</a> (<a href='https://wandb.me/run' target=\"_blank\">docs</a>)<br/>Sweep page: <a href='https://wandb.ai/harshmp/truck-delay-classification/sweeps/20442i5p' target=\"_blank\">https://wandb.ai/harshmp/truck-delay-classification/sweeps/20442i5p</a>"
      ],
      "text/plain": [
       "<IPython.core.display.HTML object>"
      ]
     },
     "metadata": {},
     "output_type": "display_data"
    },
    {
     "data": {
      "text/html": [
       " View project at <a href='https://wandb.ai/harshmp/truck-delay-classification' target=\"_blank\">https://wandb.ai/harshmp/truck-delay-classification</a>"
      ],
      "text/plain": [
       "<IPython.core.display.HTML object>"
      ]
     },
     "metadata": {},
     "output_type": "display_data"
    },
    {
     "data": {
      "text/html": [
       " View sweep at <a href='https://wandb.ai/harshmp/truck-delay-classification/sweeps/20442i5p' target=\"_blank\">https://wandb.ai/harshmp/truck-delay-classification/sweeps/20442i5p</a>"
      ],
      "text/plain": [
       "<IPython.core.display.HTML object>"
      ]
     },
     "metadata": {},
     "output_type": "display_data"
    },
    {
     "data": {
      "text/html": [
       " View run at <a href='https://wandb.ai/harshmp/truck-delay-classification/runs/u9yncata' target=\"_blank\">https://wandb.ai/harshmp/truck-delay-classification/runs/u9yncata</a>"
      ],
      "text/plain": [
       "<IPython.core.display.HTML object>"
      ]
     },
     "metadata": {},
     "output_type": "display_data"
    },
    {
     "name": "stdout",
     "output_type": "stream",
     "text": [
      "F1_score Train: 0.9654\n",
      "F1_score Valid: 0.5409\n",
      "F1_score Test: 0.6516\n"
     ]
    },
    {
     "name": "stderr",
     "output_type": "stream",
     "text": [
      "wandb: \n",
      "wandb: Plotting RandomForestClassifier.\n",
      "wandb: Logged feature importances.\n",
      "wandb: Logged confusion matrix.\n"
     ]
    },
    {
     "name": "stdout",
     "output_type": "stream",
     "text": [
      "2024-08-05 17:32:25,406 WARNING: DeprecationWarning: Please import `csr_matrix` from the `scipy.sparse` namespace; the `scipy.sparse.csr` namespace is deprecated and will be removed in SciPy 2.0.0.\n",
      "\n"
     ]
    },
    {
     "name": "stderr",
     "output_type": "stream",
     "text": [
      "wandb: Logged summary metrics.\n",
      "wandb: Logged class proportions.\n"
     ]
    },
    {
     "name": "stdout",
     "output_type": "stream",
     "text": [
      "2024-08-05 17:32:26,690 WARNING: DeprecationWarning: Please import `csr_matrix` from the `scipy.sparse` namespace; the `scipy.sparse.csr` namespace is deprecated and will be removed in SciPy 2.0.0.\n",
      "\n"
     ]
    },
    {
     "name": "stderr",
     "output_type": "stream",
     "text": [
      "wandb: Logged calibration curve.\n",
      "wandb: Logged roc curve.\n",
      "wandb: Logged precision-recall curve.\n"
     ]
    },
    {
     "name": "stdout",
     "output_type": "stream",
     "text": [
      "2024-08-05 17:32:44,223 WARNING: DeprecationWarning: Importing display from IPython.core.display is deprecated since IPython 7.14, please import from IPython display\n",
      "\n"
     ]
    },
    {
     "data": {
      "application/vnd.jupyter.widget-view+json": {
       "model_id": "63b381177d8041b08a1e8eae9f43054f",
       "version_major": 2,
       "version_minor": 0
      },
      "text/plain": [
       "VBox(children=(Label(value='4.335 MB of 4.335 MB uploaded\\r'), FloatProgress(value=1.0, max=1.0)))"
      ]
     },
     "metadata": {},
     "output_type": "display_data"
    },
    {
     "name": "stdout",
     "output_type": "stream",
     "text": [
      "2024-08-05 17:32:49,078 WARNING: DeprecationWarning: Importing display from IPython.core.display is deprecated since IPython 7.14, please import from IPython display\n",
      "\n"
     ]
    },
    {
     "data": {
      "text/html": [
       "<style>\n",
       "    table.wandb td:nth-child(1) { padding: 0 10px; text-align: left ; width: auto;} td:nth-child(2) {text-align: left ; width: 100%}\n",
       "    .wandb-row { display: flex; flex-direction: row; flex-wrap: wrap; justify-content: flex-start; width: 100% }\n",
       "    .wandb-col { display: flex; flex-direction: column; flex-basis: 100%; flex: 1; padding: 10px; }\n",
       "    </style>\n",
       "<div class=\"wandb-row\"><div class=\"wandb-col\"><h3>Run history:</h3><br/><table class=\"wandb\"><tr><td>f1_score</td><td>▁</td></tr><tr><td>f1_score_train</td><td>▁</td></tr><tr><td>f1_score_valid</td><td>▁</td></tr></table><br/></div><div class=\"wandb-col\"><h3>Run summary:</h3><br/><table class=\"wandb\"><tr><td>f1_score</td><td>0.65162</td></tr><tr><td>f1_score_train</td><td>0.96541</td></tr><tr><td>f1_score_valid</td><td>0.54091</td></tr></table><br/></div></div>"
      ],
      "text/plain": [
       "<IPython.core.display.HTML object>"
      ]
     },
     "metadata": {},
     "output_type": "display_data"
    },
    {
     "data": {
      "text/html": [
       " View run <strong style=\"color:#cdcd00\">vague-sweep-6</strong> at: <a href='https://wandb.ai/harshmp/truck-delay-classification/runs/u9yncata' target=\"_blank\">https://wandb.ai/harshmp/truck-delay-classification/runs/u9yncata</a><br/>Synced 5 W&B file(s), 7 media file(s), 8 artifact file(s) and 1 other file(s)"
      ],
      "text/plain": [
       "<IPython.core.display.HTML object>"
      ]
     },
     "metadata": {},
     "output_type": "display_data"
    },
    {
     "data": {
      "text/html": [
       "Find logs at: <code>.\\wandb\\run-20240805_173222-u9yncata\\logs</code>"
      ],
      "text/plain": [
       "<IPython.core.display.HTML object>"
      ]
     },
     "metadata": {},
     "output_type": "display_data"
    },
    {
     "name": "stderr",
     "output_type": "stream",
     "text": [
      "wandb: Agent Starting Run: 4vn75acz with config:\n",
      "wandb: \tmax_depth: None\n",
      "wandb: \tmin_samples_split: 4\n",
      "wandb: \tn_estimators: 16\n",
      "Failed to detect the name of this notebook, you can set it manually with the WANDB_NOTEBOOK_NAME environment variable to enable code saving.\n",
      "wandb: WARNING Ignored wandb.init() arg project when running a sweep.\n"
     ]
    },
    {
     "data": {
      "text/html": [
       "wandb version 0.17.5 is available!  To upgrade, please run:\n",
       " $ pip install wandb --upgrade"
      ],
      "text/plain": [
       "<IPython.core.display.HTML object>"
      ]
     },
     "metadata": {},
     "output_type": "display_data"
    },
    {
     "data": {
      "text/html": [
       "Tracking run with wandb version 0.16.1"
      ],
      "text/plain": [
       "<IPython.core.display.HTML object>"
      ]
     },
     "metadata": {},
     "output_type": "display_data"
    },
    {
     "data": {
      "text/html": [
       "Run data is saved locally in <code>e:\\Artificial Intelligence\\Projects\\Predictive-Truck-Delay-Management-in-Logistics\\wandb\\run-20240805_173258-4vn75acz</code>"
      ],
      "text/plain": [
       "<IPython.core.display.HTML object>"
      ]
     },
     "metadata": {},
     "output_type": "display_data"
    },
    {
     "data": {
      "text/html": [
       "Syncing run <strong><a href='https://wandb.ai/harshmp/truck-delay-classification/runs/4vn75acz' target=\"_blank\">ethereal-sweep-7</a></strong> to <a href='https://wandb.ai/harshmp/truck-delay-classification' target=\"_blank\">Weights & Biases</a> (<a href='https://wandb.me/run' target=\"_blank\">docs</a>)<br/>Sweep page: <a href='https://wandb.ai/harshmp/truck-delay-classification/sweeps/20442i5p' target=\"_blank\">https://wandb.ai/harshmp/truck-delay-classification/sweeps/20442i5p</a>"
      ],
      "text/plain": [
       "<IPython.core.display.HTML object>"
      ]
     },
     "metadata": {},
     "output_type": "display_data"
    },
    {
     "data": {
      "text/html": [
       " View project at <a href='https://wandb.ai/harshmp/truck-delay-classification' target=\"_blank\">https://wandb.ai/harshmp/truck-delay-classification</a>"
      ],
      "text/plain": [
       "<IPython.core.display.HTML object>"
      ]
     },
     "metadata": {},
     "output_type": "display_data"
    },
    {
     "data": {
      "text/html": [
       " View sweep at <a href='https://wandb.ai/harshmp/truck-delay-classification/sweeps/20442i5p' target=\"_blank\">https://wandb.ai/harshmp/truck-delay-classification/sweeps/20442i5p</a>"
      ],
      "text/plain": [
       "<IPython.core.display.HTML object>"
      ]
     },
     "metadata": {},
     "output_type": "display_data"
    },
    {
     "data": {
      "text/html": [
       " View run at <a href='https://wandb.ai/harshmp/truck-delay-classification/runs/4vn75acz' target=\"_blank\">https://wandb.ai/harshmp/truck-delay-classification/runs/4vn75acz</a>"
      ],
      "text/plain": [
       "<IPython.core.display.HTML object>"
      ]
     },
     "metadata": {},
     "output_type": "display_data"
    },
    {
     "name": "stdout",
     "output_type": "stream",
     "text": [
      "F1_score Train: 0.9813\n",
      "F1_score Valid: 0.5538\n",
      "F1_score Test: 0.6657\n"
     ]
    },
    {
     "name": "stderr",
     "output_type": "stream",
     "text": [
      "wandb: \n",
      "wandb: Plotting RandomForestClassifier.\n",
      "wandb: Logged feature importances.\n",
      "wandb: Logged confusion matrix.\n"
     ]
    },
    {
     "name": "stdout",
     "output_type": "stream",
     "text": [
      "2024-08-05 17:33:02,536 WARNING: DeprecationWarning: Please import `csr_matrix` from the `scipy.sparse` namespace; the `scipy.sparse.csr` namespace is deprecated and will be removed in SciPy 2.0.0.\n",
      "\n"
     ]
    },
    {
     "name": "stderr",
     "output_type": "stream",
     "text": [
      "wandb: Logged summary metrics.\n",
      "wandb: Logged class proportions.\n"
     ]
    },
    {
     "name": "stdout",
     "output_type": "stream",
     "text": [
      "2024-08-05 17:33:03,691 WARNING: DeprecationWarning: Please import `csr_matrix` from the `scipy.sparse` namespace; the `scipy.sparse.csr` namespace is deprecated and will be removed in SciPy 2.0.0.\n",
      "\n"
     ]
    },
    {
     "name": "stderr",
     "output_type": "stream",
     "text": [
      "wandb: Logged calibration curve.\n",
      "wandb: Logged roc curve.\n",
      "wandb: Logged precision-recall curve.\n"
     ]
    },
    {
     "name": "stdout",
     "output_type": "stream",
     "text": [
      "2024-08-05 17:33:19,311 WARNING: DeprecationWarning: Importing display from IPython.core.display is deprecated since IPython 7.14, please import from IPython display\n",
      "\n"
     ]
    },
    {
     "data": {
      "application/vnd.jupyter.widget-view+json": {
       "model_id": "bfacfdad95e64ad8b6dd97f8c216ae2c",
       "version_major": 2,
       "version_minor": 0
      },
      "text/plain": [
       "VBox(children=(Label(value='5.796 MB of 5.796 MB uploaded\\r'), FloatProgress(value=1.0, max=1.0)))"
      ]
     },
     "metadata": {},
     "output_type": "display_data"
    },
    {
     "name": "stdout",
     "output_type": "stream",
     "text": [
      "2024-08-05 17:33:22,434 WARNING: DeprecationWarning: Importing display from IPython.core.display is deprecated since IPython 7.14, please import from IPython display\n",
      "\n"
     ]
    },
    {
     "data": {
      "text/html": [
       "<style>\n",
       "    table.wandb td:nth-child(1) { padding: 0 10px; text-align: left ; width: auto;} td:nth-child(2) {text-align: left ; width: 100%}\n",
       "    .wandb-row { display: flex; flex-direction: row; flex-wrap: wrap; justify-content: flex-start; width: 100% }\n",
       "    .wandb-col { display: flex; flex-direction: column; flex-basis: 100%; flex: 1; padding: 10px; }\n",
       "    </style>\n",
       "<div class=\"wandb-row\"><div class=\"wandb-col\"><h3>Run history:</h3><br/><table class=\"wandb\"><tr><td>f1_score</td><td>▁</td></tr><tr><td>f1_score_train</td><td>▁</td></tr><tr><td>f1_score_valid</td><td>▁</td></tr></table><br/></div><div class=\"wandb-col\"><h3>Run summary:</h3><br/><table class=\"wandb\"><tr><td>f1_score</td><td>0.66567</td></tr><tr><td>f1_score_train</td><td>0.98129</td></tr><tr><td>f1_score_valid</td><td>0.55378</td></tr></table><br/></div></div>"
      ],
      "text/plain": [
       "<IPython.core.display.HTML object>"
      ]
     },
     "metadata": {},
     "output_type": "display_data"
    },
    {
     "data": {
      "text/html": [
       " View run <strong style=\"color:#cdcd00\">ethereal-sweep-7</strong> at: <a href='https://wandb.ai/harshmp/truck-delay-classification/runs/4vn75acz' target=\"_blank\">https://wandb.ai/harshmp/truck-delay-classification/runs/4vn75acz</a><br/>Synced 5 W&B file(s), 7 media file(s), 8 artifact file(s) and 1 other file(s)"
      ],
      "text/plain": [
       "<IPython.core.display.HTML object>"
      ]
     },
     "metadata": {},
     "output_type": "display_data"
    },
    {
     "data": {
      "text/html": [
       "Find logs at: <code>.\\wandb\\run-20240805_173258-4vn75acz\\logs</code>"
      ],
      "text/plain": [
       "<IPython.core.display.HTML object>"
      ]
     },
     "metadata": {},
     "output_type": "display_data"
    },
    {
     "name": "stderr",
     "output_type": "stream",
     "text": [
      "wandb: Agent Starting Run: rlzbwjqa with config:\n",
      "wandb: \tmax_depth: None\n",
      "wandb: \tmin_samples_split: 4\n",
      "wandb: \tn_estimators: 20\n",
      "Failed to detect the name of this notebook, you can set it manually with the WANDB_NOTEBOOK_NAME environment variable to enable code saving.\n",
      "wandb: WARNING Ignored wandb.init() arg project when running a sweep.\n"
     ]
    },
    {
     "data": {
      "text/html": [
       "wandb version 0.17.5 is available!  To upgrade, please run:\n",
       " $ pip install wandb --upgrade"
      ],
      "text/plain": [
       "<IPython.core.display.HTML object>"
      ]
     },
     "metadata": {},
     "output_type": "display_data"
    },
    {
     "data": {
      "text/html": [
       "Tracking run with wandb version 0.16.1"
      ],
      "text/plain": [
       "<IPython.core.display.HTML object>"
      ]
     },
     "metadata": {},
     "output_type": "display_data"
    },
    {
     "data": {
      "text/html": [
       "Run data is saved locally in <code>e:\\Artificial Intelligence\\Projects\\Predictive-Truck-Delay-Management-in-Logistics\\wandb\\run-20240805_173331-rlzbwjqa</code>"
      ],
      "text/plain": [
       "<IPython.core.display.HTML object>"
      ]
     },
     "metadata": {},
     "output_type": "display_data"
    },
    {
     "data": {
      "text/html": [
       "Syncing run <strong><a href='https://wandb.ai/harshmp/truck-delay-classification/runs/rlzbwjqa' target=\"_blank\">absurd-sweep-8</a></strong> to <a href='https://wandb.ai/harshmp/truck-delay-classification' target=\"_blank\">Weights & Biases</a> (<a href='https://wandb.me/run' target=\"_blank\">docs</a>)<br/>Sweep page: <a href='https://wandb.ai/harshmp/truck-delay-classification/sweeps/20442i5p' target=\"_blank\">https://wandb.ai/harshmp/truck-delay-classification/sweeps/20442i5p</a>"
      ],
      "text/plain": [
       "<IPython.core.display.HTML object>"
      ]
     },
     "metadata": {},
     "output_type": "display_data"
    },
    {
     "data": {
      "text/html": [
       " View project at <a href='https://wandb.ai/harshmp/truck-delay-classification' target=\"_blank\">https://wandb.ai/harshmp/truck-delay-classification</a>"
      ],
      "text/plain": [
       "<IPython.core.display.HTML object>"
      ]
     },
     "metadata": {},
     "output_type": "display_data"
    },
    {
     "data": {
      "text/html": [
       " View sweep at <a href='https://wandb.ai/harshmp/truck-delay-classification/sweeps/20442i5p' target=\"_blank\">https://wandb.ai/harshmp/truck-delay-classification/sweeps/20442i5p</a>"
      ],
      "text/plain": [
       "<IPython.core.display.HTML object>"
      ]
     },
     "metadata": {},
     "output_type": "display_data"
    },
    {
     "data": {
      "text/html": [
       " View run at <a href='https://wandb.ai/harshmp/truck-delay-classification/runs/rlzbwjqa' target=\"_blank\">https://wandb.ai/harshmp/truck-delay-classification/runs/rlzbwjqa</a>"
      ],
      "text/plain": [
       "<IPython.core.display.HTML object>"
      ]
     },
     "metadata": {},
     "output_type": "display_data"
    },
    {
     "name": "stdout",
     "output_type": "stream",
     "text": [
      "F1_score Train: 0.9867\n",
      "F1_score Valid: 0.5545\n",
      "F1_score Test: 0.6756\n"
     ]
    },
    {
     "name": "stderr",
     "output_type": "stream",
     "text": [
      "wandb: \n",
      "wandb: Plotting RandomForestClassifier.\n",
      "wandb: Logged feature importances.\n",
      "wandb: Logged confusion matrix.\n"
     ]
    },
    {
     "name": "stdout",
     "output_type": "stream",
     "text": [
      "2024-08-05 17:33:35,709 WARNING: DeprecationWarning: Please import `csr_matrix` from the `scipy.sparse` namespace; the `scipy.sparse.csr` namespace is deprecated and will be removed in SciPy 2.0.0.\n",
      "\n"
     ]
    },
    {
     "name": "stderr",
     "output_type": "stream",
     "text": [
      "wandb: Logged summary metrics.\n",
      "wandb: Logged class proportions.\n"
     ]
    },
    {
     "name": "stdout",
     "output_type": "stream",
     "text": [
      "2024-08-05 17:33:37,183 WARNING: DeprecationWarning: Please import `csr_matrix` from the `scipy.sparse` namespace; the `scipy.sparse.csr` namespace is deprecated and will be removed in SciPy 2.0.0.\n",
      "\n"
     ]
    },
    {
     "name": "stderr",
     "output_type": "stream",
     "text": [
      "wandb: Logged calibration curve.\n",
      "wandb: Logged roc curve.\n",
      "wandb: Logged precision-recall curve.\n"
     ]
    },
    {
     "name": "stdout",
     "output_type": "stream",
     "text": [
      "2024-08-05 17:33:56,871 WARNING: DeprecationWarning: Importing display from IPython.core.display is deprecated since IPython 7.14, please import from IPython display\n",
      "\n"
     ]
    },
    {
     "data": {
      "application/vnd.jupyter.widget-view+json": {
       "model_id": "1800f591ee414caeae666750a38bd673",
       "version_major": 2,
       "version_minor": 0
      },
      "text/plain": [
       "VBox(children=(Label(value='7.232 MB of 7.232 MB uploaded\\r'), FloatProgress(value=1.0, max=1.0)))"
      ]
     },
     "metadata": {},
     "output_type": "display_data"
    },
    {
     "name": "stdout",
     "output_type": "stream",
     "text": [
      "2024-08-05 17:34:04,460 WARNING: DeprecationWarning: Importing display from IPython.core.display is deprecated since IPython 7.14, please import from IPython display\n",
      "\n"
     ]
    },
    {
     "data": {
      "text/html": [
       "<style>\n",
       "    table.wandb td:nth-child(1) { padding: 0 10px; text-align: left ; width: auto;} td:nth-child(2) {text-align: left ; width: 100%}\n",
       "    .wandb-row { display: flex; flex-direction: row; flex-wrap: wrap; justify-content: flex-start; width: 100% }\n",
       "    .wandb-col { display: flex; flex-direction: column; flex-basis: 100%; flex: 1; padding: 10px; }\n",
       "    </style>\n",
       "<div class=\"wandb-row\"><div class=\"wandb-col\"><h3>Run history:</h3><br/><table class=\"wandb\"><tr><td>f1_score</td><td>▁</td></tr><tr><td>f1_score_train</td><td>▁</td></tr><tr><td>f1_score_valid</td><td>▁</td></tr></table><br/></div><div class=\"wandb-col\"><h3>Run summary:</h3><br/><table class=\"wandb\"><tr><td>f1_score</td><td>0.6756</td></tr><tr><td>f1_score_train</td><td>0.98668</td></tr><tr><td>f1_score_valid</td><td>0.55447</td></tr></table><br/></div></div>"
      ],
      "text/plain": [
       "<IPython.core.display.HTML object>"
      ]
     },
     "metadata": {},
     "output_type": "display_data"
    },
    {
     "data": {
      "text/html": [
       " View run <strong style=\"color:#cdcd00\">absurd-sweep-8</strong> at: <a href='https://wandb.ai/harshmp/truck-delay-classification/runs/rlzbwjqa' target=\"_blank\">https://wandb.ai/harshmp/truck-delay-classification/runs/rlzbwjqa</a><br/>Synced 5 W&B file(s), 7 media file(s), 8 artifact file(s) and 1 other file(s)"
      ],
      "text/plain": [
       "<IPython.core.display.HTML object>"
      ]
     },
     "metadata": {},
     "output_type": "display_data"
    },
    {
     "data": {
      "text/html": [
       "Find logs at: <code>.\\wandb\\run-20240805_173331-rlzbwjqa\\logs</code>"
      ],
      "text/plain": [
       "<IPython.core.display.HTML object>"
      ]
     },
     "metadata": {},
     "output_type": "display_data"
    },
    {
     "name": "stderr",
     "output_type": "stream",
     "text": [
      "wandb: Sweep Agent: Waiting for job.\n",
      "wandb: Job received.\n",
      "wandb: Agent Starting Run: 8slwf60d with config:\n",
      "wandb: \tmax_depth: None\n",
      "wandb: \tmin_samples_split: 8\n",
      "wandb: \tn_estimators: 8\n",
      "Failed to detect the name of this notebook, you can set it manually with the WANDB_NOTEBOOK_NAME environment variable to enable code saving.\n",
      "wandb: WARNING Ignored wandb.init() arg project when running a sweep.\n"
     ]
    },
    {
     "data": {
      "text/html": [
       "wandb version 0.17.5 is available!  To upgrade, please run:\n",
       " $ pip install wandb --upgrade"
      ],
      "text/plain": [
       "<IPython.core.display.HTML object>"
      ]
     },
     "metadata": {},
     "output_type": "display_data"
    },
    {
     "data": {
      "text/html": [
       "Tracking run with wandb version 0.16.1"
      ],
      "text/plain": [
       "<IPython.core.display.HTML object>"
      ]
     },
     "metadata": {},
     "output_type": "display_data"
    },
    {
     "data": {
      "text/html": [
       "Run data is saved locally in <code>e:\\Artificial Intelligence\\Projects\\Predictive-Truck-Delay-Management-in-Logistics\\wandb\\run-20240805_173420-8slwf60d</code>"
      ],
      "text/plain": [
       "<IPython.core.display.HTML object>"
      ]
     },
     "metadata": {},
     "output_type": "display_data"
    },
    {
     "data": {
      "text/html": [
       "Syncing run <strong><a href='https://wandb.ai/harshmp/truck-delay-classification/runs/8slwf60d' target=\"_blank\">distinctive-sweep-9</a></strong> to <a href='https://wandb.ai/harshmp/truck-delay-classification' target=\"_blank\">Weights & Biases</a> (<a href='https://wandb.me/run' target=\"_blank\">docs</a>)<br/>Sweep page: <a href='https://wandb.ai/harshmp/truck-delay-classification/sweeps/20442i5p' target=\"_blank\">https://wandb.ai/harshmp/truck-delay-classification/sweeps/20442i5p</a>"
      ],
      "text/plain": [
       "<IPython.core.display.HTML object>"
      ]
     },
     "metadata": {},
     "output_type": "display_data"
    },
    {
     "data": {
      "text/html": [
       " View project at <a href='https://wandb.ai/harshmp/truck-delay-classification' target=\"_blank\">https://wandb.ai/harshmp/truck-delay-classification</a>"
      ],
      "text/plain": [
       "<IPython.core.display.HTML object>"
      ]
     },
     "metadata": {},
     "output_type": "display_data"
    },
    {
     "data": {
      "text/html": [
       " View sweep at <a href='https://wandb.ai/harshmp/truck-delay-classification/sweeps/20442i5p' target=\"_blank\">https://wandb.ai/harshmp/truck-delay-classification/sweeps/20442i5p</a>"
      ],
      "text/plain": [
       "<IPython.core.display.HTML object>"
      ]
     },
     "metadata": {},
     "output_type": "display_data"
    },
    {
     "data": {
      "text/html": [
       " View run at <a href='https://wandb.ai/harshmp/truck-delay-classification/runs/8slwf60d' target=\"_blank\">https://wandb.ai/harshmp/truck-delay-classification/runs/8slwf60d</a>"
      ],
      "text/plain": [
       "<IPython.core.display.HTML object>"
      ]
     },
     "metadata": {},
     "output_type": "display_data"
    },
    {
     "name": "stdout",
     "output_type": "stream",
     "text": [
      "F1_score Train: 0.9192\n",
      "F1_score Valid: 0.5617\n",
      "F1_score Test: 0.6615\n"
     ]
    },
    {
     "name": "stderr",
     "output_type": "stream",
     "text": [
      "wandb: \n",
      "wandb: Plotting RandomForestClassifier.\n",
      "wandb: Logged feature importances.\n",
      "wandb: Logged confusion matrix.\n"
     ]
    },
    {
     "name": "stdout",
     "output_type": "stream",
     "text": [
      "2024-08-05 17:34:24,023 WARNING: DeprecationWarning: Please import `csr_matrix` from the `scipy.sparse` namespace; the `scipy.sparse.csr` namespace is deprecated and will be removed in SciPy 2.0.0.\n",
      "\n"
     ]
    },
    {
     "name": "stderr",
     "output_type": "stream",
     "text": [
      "wandb: Logged summary metrics.\n",
      "wandb: Logged class proportions.\n"
     ]
    },
    {
     "name": "stdout",
     "output_type": "stream",
     "text": [
      "2024-08-05 17:34:25,098 WARNING: DeprecationWarning: Please import `csr_matrix` from the `scipy.sparse` namespace; the `scipy.sparse.csr` namespace is deprecated and will be removed in SciPy 2.0.0.\n",
      "\n"
     ]
    },
    {
     "name": "stderr",
     "output_type": "stream",
     "text": [
      "wandb: Logged calibration curve.\n",
      "wandb: Logged roc curve.\n",
      "wandb: Logged precision-recall curve.\n"
     ]
    },
    {
     "name": "stdout",
     "output_type": "stream",
     "text": [
      "2024-08-05 17:34:40,398 WARNING: DeprecationWarning: Importing display from IPython.core.display is deprecated since IPython 7.14, please import from IPython display\n",
      "\n"
     ]
    },
    {
     "data": {
      "application/vnd.jupyter.widget-view+json": {
       "model_id": "c7cce4d062344c7e8b1c755d8ae571d0",
       "version_major": 2,
       "version_minor": 0
      },
      "text/plain": [
       "VBox(children=(Label(value='2.184 MB of 2.184 MB uploaded\\r'), FloatProgress(value=1.0, max=1.0)))"
      ]
     },
     "metadata": {},
     "output_type": "display_data"
    },
    {
     "name": "stdout",
     "output_type": "stream",
     "text": [
      "2024-08-05 17:34:44,781 WARNING: DeprecationWarning: Importing display from IPython.core.display is deprecated since IPython 7.14, please import from IPython display\n",
      "\n"
     ]
    },
    {
     "data": {
      "text/html": [
       "<style>\n",
       "    table.wandb td:nth-child(1) { padding: 0 10px; text-align: left ; width: auto;} td:nth-child(2) {text-align: left ; width: 100%}\n",
       "    .wandb-row { display: flex; flex-direction: row; flex-wrap: wrap; justify-content: flex-start; width: 100% }\n",
       "    .wandb-col { display: flex; flex-direction: column; flex-basis: 100%; flex: 1; padding: 10px; }\n",
       "    </style>\n",
       "<div class=\"wandb-row\"><div class=\"wandb-col\"><h3>Run history:</h3><br/><table class=\"wandb\"><tr><td>f1_score</td><td>▁</td></tr><tr><td>f1_score_train</td><td>▁</td></tr><tr><td>f1_score_valid</td><td>▁</td></tr></table><br/></div><div class=\"wandb-col\"><h3>Run summary:</h3><br/><table class=\"wandb\"><tr><td>f1_score</td><td>0.6615</td></tr><tr><td>f1_score_train</td><td>0.91918</td></tr><tr><td>f1_score_valid</td><td>0.56174</td></tr></table><br/></div></div>"
      ],
      "text/plain": [
       "<IPython.core.display.HTML object>"
      ]
     },
     "metadata": {},
     "output_type": "display_data"
    },
    {
     "data": {
      "text/html": [
       " View run <strong style=\"color:#cdcd00\">distinctive-sweep-9</strong> at: <a href='https://wandb.ai/harshmp/truck-delay-classification/runs/8slwf60d' target=\"_blank\">https://wandb.ai/harshmp/truck-delay-classification/runs/8slwf60d</a><br/>Synced 5 W&B file(s), 7 media file(s), 8 artifact file(s) and 1 other file(s)"
      ],
      "text/plain": [
       "<IPython.core.display.HTML object>"
      ]
     },
     "metadata": {},
     "output_type": "display_data"
    },
    {
     "data": {
      "text/html": [
       "Find logs at: <code>.\\wandb\\run-20240805_173420-8slwf60d\\logs</code>"
      ],
      "text/plain": [
       "<IPython.core.display.HTML object>"
      ]
     },
     "metadata": {},
     "output_type": "display_data"
    },
    {
     "name": "stderr",
     "output_type": "stream",
     "text": [
      "wandb: Agent Starting Run: oi3ffg78 with config:\n",
      "wandb: \tmax_depth: None\n",
      "wandb: \tmin_samples_split: 8\n",
      "wandb: \tn_estimators: 12\n",
      "Failed to detect the name of this notebook, you can set it manually with the WANDB_NOTEBOOK_NAME environment variable to enable code saving.\n",
      "wandb: WARNING Ignored wandb.init() arg project when running a sweep.\n"
     ]
    },
    {
     "data": {
      "text/html": [
       "wandb version 0.17.5 is available!  To upgrade, please run:\n",
       " $ pip install wandb --upgrade"
      ],
      "text/plain": [
       "<IPython.core.display.HTML object>"
      ]
     },
     "metadata": {},
     "output_type": "display_data"
    },
    {
     "data": {
      "text/html": [
       "Tracking run with wandb version 0.16.1"
      ],
      "text/plain": [
       "<IPython.core.display.HTML object>"
      ]
     },
     "metadata": {},
     "output_type": "display_data"
    },
    {
     "data": {
      "text/html": [
       "Run data is saved locally in <code>e:\\Artificial Intelligence\\Projects\\Predictive-Truck-Delay-Management-in-Logistics\\wandb\\run-20240805_173452-oi3ffg78</code>"
      ],
      "text/plain": [
       "<IPython.core.display.HTML object>"
      ]
     },
     "metadata": {},
     "output_type": "display_data"
    },
    {
     "data": {
      "text/html": [
       "Syncing run <strong><a href='https://wandb.ai/harshmp/truck-delay-classification/runs/oi3ffg78' target=\"_blank\">floral-sweep-10</a></strong> to <a href='https://wandb.ai/harshmp/truck-delay-classification' target=\"_blank\">Weights & Biases</a> (<a href='https://wandb.me/run' target=\"_blank\">docs</a>)<br/>Sweep page: <a href='https://wandb.ai/harshmp/truck-delay-classification/sweeps/20442i5p' target=\"_blank\">https://wandb.ai/harshmp/truck-delay-classification/sweeps/20442i5p</a>"
      ],
      "text/plain": [
       "<IPython.core.display.HTML object>"
      ]
     },
     "metadata": {},
     "output_type": "display_data"
    },
    {
     "data": {
      "text/html": [
       " View project at <a href='https://wandb.ai/harshmp/truck-delay-classification' target=\"_blank\">https://wandb.ai/harshmp/truck-delay-classification</a>"
      ],
      "text/plain": [
       "<IPython.core.display.HTML object>"
      ]
     },
     "metadata": {},
     "output_type": "display_data"
    },
    {
     "data": {
      "text/html": [
       " View sweep at <a href='https://wandb.ai/harshmp/truck-delay-classification/sweeps/20442i5p' target=\"_blank\">https://wandb.ai/harshmp/truck-delay-classification/sweeps/20442i5p</a>"
      ],
      "text/plain": [
       "<IPython.core.display.HTML object>"
      ]
     },
     "metadata": {},
     "output_type": "display_data"
    },
    {
     "data": {
      "text/html": [
       " View run at <a href='https://wandb.ai/harshmp/truck-delay-classification/runs/oi3ffg78' target=\"_blank\">https://wandb.ai/harshmp/truck-delay-classification/runs/oi3ffg78</a>"
      ],
      "text/plain": [
       "<IPython.core.display.HTML object>"
      ]
     },
     "metadata": {},
     "output_type": "display_data"
    },
    {
     "name": "stdout",
     "output_type": "stream",
     "text": [
      "F1_score Train: 0.9391\n",
      "F1_score Valid: 0.5818\n",
      "F1_score Test: 0.661\n"
     ]
    },
    {
     "name": "stderr",
     "output_type": "stream",
     "text": [
      "wandb: \n",
      "wandb: Plotting RandomForestClassifier.\n",
      "wandb: Logged feature importances.\n",
      "wandb: Logged confusion matrix.\n"
     ]
    },
    {
     "name": "stdout",
     "output_type": "stream",
     "text": [
      "2024-08-05 17:34:55,684 WARNING: DeprecationWarning: Please import `csr_matrix` from the `scipy.sparse` namespace; the `scipy.sparse.csr` namespace is deprecated and will be removed in SciPy 2.0.0.\n",
      "\n"
     ]
    },
    {
     "name": "stderr",
     "output_type": "stream",
     "text": [
      "wandb: Logged summary metrics.\n",
      "wandb: Logged class proportions.\n"
     ]
    },
    {
     "name": "stdout",
     "output_type": "stream",
     "text": [
      "2024-08-05 17:34:56,978 WARNING: DeprecationWarning: Please import `csr_matrix` from the `scipy.sparse` namespace; the `scipy.sparse.csr` namespace is deprecated and will be removed in SciPy 2.0.0.\n",
      "\n"
     ]
    },
    {
     "name": "stderr",
     "output_type": "stream",
     "text": [
      "wandb: Logged calibration curve.\n",
      "wandb: Logged roc curve.\n",
      "wandb: Logged precision-recall curve.\n"
     ]
    },
    {
     "name": "stdout",
     "output_type": "stream",
     "text": [
      "2024-08-05 17:35:16,445 WARNING: DeprecationWarning: Importing display from IPython.core.display is deprecated since IPython 7.14, please import from IPython display\n",
      "\n"
     ]
    },
    {
     "data": {
      "application/vnd.jupyter.widget-view+json": {
       "model_id": "bf595fc58907489aae00a87f1c259c7c",
       "version_major": 2,
       "version_minor": 0
      },
      "text/plain": [
       "VBox(children=(Label(value='3.229 MB of 3.229 MB uploaded\\r'), FloatProgress(value=1.0, max=1.0)))"
      ]
     },
     "metadata": {},
     "output_type": "display_data"
    },
    {
     "name": "stdout",
     "output_type": "stream",
     "text": [
      "2024-08-05 17:35:20,096 WARNING: DeprecationWarning: Importing display from IPython.core.display is deprecated since IPython 7.14, please import from IPython display\n",
      "\n"
     ]
    },
    {
     "data": {
      "text/html": [
       "<style>\n",
       "    table.wandb td:nth-child(1) { padding: 0 10px; text-align: left ; width: auto;} td:nth-child(2) {text-align: left ; width: 100%}\n",
       "    .wandb-row { display: flex; flex-direction: row; flex-wrap: wrap; justify-content: flex-start; width: 100% }\n",
       "    .wandb-col { display: flex; flex-direction: column; flex-basis: 100%; flex: 1; padding: 10px; }\n",
       "    </style>\n",
       "<div class=\"wandb-row\"><div class=\"wandb-col\"><h3>Run history:</h3><br/><table class=\"wandb\"><tr><td>f1_score</td><td>▁</td></tr><tr><td>f1_score_train</td><td>▁</td></tr><tr><td>f1_score_valid</td><td>▁</td></tr></table><br/></div><div class=\"wandb-col\"><h3>Run summary:</h3><br/><table class=\"wandb\"><tr><td>f1_score</td><td>0.66096</td></tr><tr><td>f1_score_train</td><td>0.9391</td></tr><tr><td>f1_score_valid</td><td>0.58177</td></tr></table><br/></div></div>"
      ],
      "text/plain": [
       "<IPython.core.display.HTML object>"
      ]
     },
     "metadata": {},
     "output_type": "display_data"
    },
    {
     "data": {
      "text/html": [
       " View run <strong style=\"color:#cdcd00\">floral-sweep-10</strong> at: <a href='https://wandb.ai/harshmp/truck-delay-classification/runs/oi3ffg78' target=\"_blank\">https://wandb.ai/harshmp/truck-delay-classification/runs/oi3ffg78</a><br/>Synced 5 W&B file(s), 7 media file(s), 8 artifact file(s) and 1 other file(s)"
      ],
      "text/plain": [
       "<IPython.core.display.HTML object>"
      ]
     },
     "metadata": {},
     "output_type": "display_data"
    },
    {
     "data": {
      "text/html": [
       "Find logs at: <code>.\\wandb\\run-20240805_173452-oi3ffg78\\logs</code>"
      ],
      "text/plain": [
       "<IPython.core.display.HTML object>"
      ]
     },
     "metadata": {},
     "output_type": "display_data"
    },
    {
     "name": "stderr",
     "output_type": "stream",
     "text": [
      "wandb: Agent Starting Run: syhyas4q with config:\n",
      "wandb: \tmax_depth: None\n",
      "wandb: \tmin_samples_split: 8\n",
      "wandb: \tn_estimators: 16\n",
      "Failed to detect the name of this notebook, you can set it manually with the WANDB_NOTEBOOK_NAME environment variable to enable code saving.\n",
      "wandb: WARNING Ignored wandb.init() arg project when running a sweep.\n"
     ]
    },
    {
     "data": {
      "text/html": [
       "wandb version 0.17.5 is available!  To upgrade, please run:\n",
       " $ pip install wandb --upgrade"
      ],
      "text/plain": [
       "<IPython.core.display.HTML object>"
      ]
     },
     "metadata": {},
     "output_type": "display_data"
    },
    {
     "data": {
      "text/html": [
       "Tracking run with wandb version 0.16.1"
      ],
      "text/plain": [
       "<IPython.core.display.HTML object>"
      ]
     },
     "metadata": {},
     "output_type": "display_data"
    },
    {
     "data": {
      "text/html": [
       "Run data is saved locally in <code>e:\\Artificial Intelligence\\Projects\\Predictive-Truck-Delay-Management-in-Logistics\\wandb\\run-20240805_173529-syhyas4q</code>"
      ],
      "text/plain": [
       "<IPython.core.display.HTML object>"
      ]
     },
     "metadata": {},
     "output_type": "display_data"
    },
    {
     "data": {
      "text/html": [
       "Syncing run <strong><a href='https://wandb.ai/harshmp/truck-delay-classification/runs/syhyas4q' target=\"_blank\">floral-sweep-11</a></strong> to <a href='https://wandb.ai/harshmp/truck-delay-classification' target=\"_blank\">Weights & Biases</a> (<a href='https://wandb.me/run' target=\"_blank\">docs</a>)<br/>Sweep page: <a href='https://wandb.ai/harshmp/truck-delay-classification/sweeps/20442i5p' target=\"_blank\">https://wandb.ai/harshmp/truck-delay-classification/sweeps/20442i5p</a>"
      ],
      "text/plain": [
       "<IPython.core.display.HTML object>"
      ]
     },
     "metadata": {},
     "output_type": "display_data"
    },
    {
     "data": {
      "text/html": [
       " View project at <a href='https://wandb.ai/harshmp/truck-delay-classification' target=\"_blank\">https://wandb.ai/harshmp/truck-delay-classification</a>"
      ],
      "text/plain": [
       "<IPython.core.display.HTML object>"
      ]
     },
     "metadata": {},
     "output_type": "display_data"
    },
    {
     "data": {
      "text/html": [
       " View sweep at <a href='https://wandb.ai/harshmp/truck-delay-classification/sweeps/20442i5p' target=\"_blank\">https://wandb.ai/harshmp/truck-delay-classification/sweeps/20442i5p</a>"
      ],
      "text/plain": [
       "<IPython.core.display.HTML object>"
      ]
     },
     "metadata": {},
     "output_type": "display_data"
    },
    {
     "data": {
      "text/html": [
       " View run at <a href='https://wandb.ai/harshmp/truck-delay-classification/runs/syhyas4q' target=\"_blank\">https://wandb.ai/harshmp/truck-delay-classification/runs/syhyas4q</a>"
      ],
      "text/plain": [
       "<IPython.core.display.HTML object>"
      ]
     },
     "metadata": {},
     "output_type": "display_data"
    },
    {
     "name": "stdout",
     "output_type": "stream",
     "text": [
      "F1_score Train: 0.9535\n",
      "F1_score Valid: 0.5867\n",
      "F1_score Test: 0.6796\n"
     ]
    },
    {
     "name": "stderr",
     "output_type": "stream",
     "text": [
      "wandb: \n",
      "wandb: Plotting RandomForestClassifier.\n",
      "wandb: Logged feature importances.\n",
      "wandb: Logged confusion matrix.\n"
     ]
    },
    {
     "name": "stdout",
     "output_type": "stream",
     "text": [
      "2024-08-05 17:35:33,617 WARNING: DeprecationWarning: Please import `csr_matrix` from the `scipy.sparse` namespace; the `scipy.sparse.csr` namespace is deprecated and will be removed in SciPy 2.0.0.\n",
      "\n"
     ]
    },
    {
     "name": "stderr",
     "output_type": "stream",
     "text": [
      "wandb: Logged summary metrics.\n",
      "wandb: Logged class proportions.\n"
     ]
    },
    {
     "name": "stdout",
     "output_type": "stream",
     "text": [
      "2024-08-05 17:35:34,674 WARNING: DeprecationWarning: Please import `csr_matrix` from the `scipy.sparse` namespace; the `scipy.sparse.csr` namespace is deprecated and will be removed in SciPy 2.0.0.\n",
      "\n"
     ]
    },
    {
     "name": "stderr",
     "output_type": "stream",
     "text": [
      "wandb: Logged calibration curve.\n",
      "wandb: Logged roc curve.\n",
      "wandb: Logged precision-recall curve.\n"
     ]
    },
    {
     "name": "stdout",
     "output_type": "stream",
     "text": [
      "2024-08-05 17:35:49,717 WARNING: DeprecationWarning: Importing display from IPython.core.display is deprecated since IPython 7.14, please import from IPython display\n",
      "\n"
     ]
    },
    {
     "data": {
      "application/vnd.jupyter.widget-view+json": {
       "model_id": "1644e9f0bbef40449da49a9801f1f70f",
       "version_major": 2,
       "version_minor": 0
      },
      "text/plain": [
       "VBox(children=(Label(value='4.277 MB of 4.277 MB uploaded\\r'), FloatProgress(value=1.0, max=1.0)))"
      ]
     },
     "metadata": {},
     "output_type": "display_data"
    },
    {
     "name": "stdout",
     "output_type": "stream",
     "text": [
      "2024-08-05 17:35:53,623 WARNING: DeprecationWarning: Importing display from IPython.core.display is deprecated since IPython 7.14, please import from IPython display\n",
      "\n"
     ]
    },
    {
     "data": {
      "text/html": [
       "<style>\n",
       "    table.wandb td:nth-child(1) { padding: 0 10px; text-align: left ; width: auto;} td:nth-child(2) {text-align: left ; width: 100%}\n",
       "    .wandb-row { display: flex; flex-direction: row; flex-wrap: wrap; justify-content: flex-start; width: 100% }\n",
       "    .wandb-col { display: flex; flex-direction: column; flex-basis: 100%; flex: 1; padding: 10px; }\n",
       "    </style>\n",
       "<div class=\"wandb-row\"><div class=\"wandb-col\"><h3>Run history:</h3><br/><table class=\"wandb\"><tr><td>f1_score</td><td>▁</td></tr><tr><td>f1_score_train</td><td>▁</td></tr><tr><td>f1_score_valid</td><td>▁</td></tr></table><br/></div><div class=\"wandb-col\"><h3>Run summary:</h3><br/><table class=\"wandb\"><tr><td>f1_score</td><td>0.6796</td></tr><tr><td>f1_score_train</td><td>0.95354</td></tr><tr><td>f1_score_valid</td><td>0.58667</td></tr></table><br/></div></div>"
      ],
      "text/plain": [
       "<IPython.core.display.HTML object>"
      ]
     },
     "metadata": {},
     "output_type": "display_data"
    },
    {
     "data": {
      "text/html": [
       " View run <strong style=\"color:#cdcd00\">floral-sweep-11</strong> at: <a href='https://wandb.ai/harshmp/truck-delay-classification/runs/syhyas4q' target=\"_blank\">https://wandb.ai/harshmp/truck-delay-classification/runs/syhyas4q</a><br/>Synced 5 W&B file(s), 7 media file(s), 8 artifact file(s) and 1 other file(s)"
      ],
      "text/plain": [
       "<IPython.core.display.HTML object>"
      ]
     },
     "metadata": {},
     "output_type": "display_data"
    },
    {
     "data": {
      "text/html": [
       "Find logs at: <code>.\\wandb\\run-20240805_173529-syhyas4q\\logs</code>"
      ],
      "text/plain": [
       "<IPython.core.display.HTML object>"
      ]
     },
     "metadata": {},
     "output_type": "display_data"
    },
    {
     "name": "stderr",
     "output_type": "stream",
     "text": [
      "wandb: Sweep Agent: Waiting for job.\n",
      "wandb: Job received.\n",
      "wandb: Agent Starting Run: 5pl8fjr4 with config:\n",
      "wandb: \tmax_depth: None\n",
      "wandb: \tmin_samples_split: 8\n",
      "wandb: \tn_estimators: 20\n",
      "Failed to detect the name of this notebook, you can set it manually with the WANDB_NOTEBOOK_NAME environment variable to enable code saving.\n",
      "wandb: WARNING Ignored wandb.init() arg project when running a sweep.\n"
     ]
    },
    {
     "data": {
      "text/html": [
       "wandb version 0.17.5 is available!  To upgrade, please run:\n",
       " $ pip install wandb --upgrade"
      ],
      "text/plain": [
       "<IPython.core.display.HTML object>"
      ]
     },
     "metadata": {},
     "output_type": "display_data"
    },
    {
     "data": {
      "text/html": [
       "Tracking run with wandb version 0.16.1"
      ],
      "text/plain": [
       "<IPython.core.display.HTML object>"
      ]
     },
     "metadata": {},
     "output_type": "display_data"
    },
    {
     "data": {
      "text/html": [
       "Run data is saved locally in <code>e:\\Artificial Intelligence\\Projects\\Predictive-Truck-Delay-Management-in-Logistics\\wandb\\run-20240805_173610-5pl8fjr4</code>"
      ],
      "text/plain": [
       "<IPython.core.display.HTML object>"
      ]
     },
     "metadata": {},
     "output_type": "display_data"
    },
    {
     "data": {
      "text/html": [
       "Syncing run <strong><a href='https://wandb.ai/harshmp/truck-delay-classification/runs/5pl8fjr4' target=\"_blank\">breezy-sweep-12</a></strong> to <a href='https://wandb.ai/harshmp/truck-delay-classification' target=\"_blank\">Weights & Biases</a> (<a href='https://wandb.me/run' target=\"_blank\">docs</a>)<br/>Sweep page: <a href='https://wandb.ai/harshmp/truck-delay-classification/sweeps/20442i5p' target=\"_blank\">https://wandb.ai/harshmp/truck-delay-classification/sweeps/20442i5p</a>"
      ],
      "text/plain": [
       "<IPython.core.display.HTML object>"
      ]
     },
     "metadata": {},
     "output_type": "display_data"
    },
    {
     "data": {
      "text/html": [
       " View project at <a href='https://wandb.ai/harshmp/truck-delay-classification' target=\"_blank\">https://wandb.ai/harshmp/truck-delay-classification</a>"
      ],
      "text/plain": [
       "<IPython.core.display.HTML object>"
      ]
     },
     "metadata": {},
     "output_type": "display_data"
    },
    {
     "data": {
      "text/html": [
       " View sweep at <a href='https://wandb.ai/harshmp/truck-delay-classification/sweeps/20442i5p' target=\"_blank\">https://wandb.ai/harshmp/truck-delay-classification/sweeps/20442i5p</a>"
      ],
      "text/plain": [
       "<IPython.core.display.HTML object>"
      ]
     },
     "metadata": {},
     "output_type": "display_data"
    },
    {
     "data": {
      "text/html": [
       " View run at <a href='https://wandb.ai/harshmp/truck-delay-classification/runs/5pl8fjr4' target=\"_blank\">https://wandb.ai/harshmp/truck-delay-classification/runs/5pl8fjr4</a>"
      ],
      "text/plain": [
       "<IPython.core.display.HTML object>"
      ]
     },
     "metadata": {},
     "output_type": "display_data"
    },
    {
     "name": "stdout",
     "output_type": "stream",
     "text": [
      "F1_score Train: 0.9581\n",
      "F1_score Valid: 0.6023\n",
      "F1_score Test: 0.6926\n"
     ]
    },
    {
     "name": "stderr",
     "output_type": "stream",
     "text": [
      "wandb: \n",
      "wandb: Plotting RandomForestClassifier.\n",
      "wandb: Logged feature importances.\n",
      "wandb: Logged confusion matrix.\n"
     ]
    },
    {
     "name": "stdout",
     "output_type": "stream",
     "text": [
      "2024-08-05 17:36:16,729 WARNING: DeprecationWarning: Please import `csr_matrix` from the `scipy.sparse` namespace; the `scipy.sparse.csr` namespace is deprecated and will be removed in SciPy 2.0.0.\n",
      "\n"
     ]
    },
    {
     "name": "stderr",
     "output_type": "stream",
     "text": [
      "wandb: Logged summary metrics.\n",
      "wandb: Logged class proportions.\n"
     ]
    },
    {
     "name": "stdout",
     "output_type": "stream",
     "text": [
      "2024-08-05 17:36:17,980 WARNING: DeprecationWarning: Please import `csr_matrix` from the `scipy.sparse` namespace; the `scipy.sparse.csr` namespace is deprecated and will be removed in SciPy 2.0.0.\n",
      "\n"
     ]
    },
    {
     "name": "stderr",
     "output_type": "stream",
     "text": [
      "wandb: Logged calibration curve.\n",
      "wandb: Logged roc curve.\n",
      "wandb: Logged precision-recall curve.\n"
     ]
    },
    {
     "name": "stdout",
     "output_type": "stream",
     "text": [
      "2024-08-05 17:36:32,891 WARNING: DeprecationWarning: Importing display from IPython.core.display is deprecated since IPython 7.14, please import from IPython display\n",
      "\n"
     ]
    },
    {
     "data": {
      "application/vnd.jupyter.widget-view+json": {
       "model_id": "1f33cd40709f495ebd34bec14e21f922",
       "version_major": 2,
       "version_minor": 0
      },
      "text/plain": [
       "VBox(children=(Label(value='5.319 MB of 5.319 MB uploaded\\r'), FloatProgress(value=1.0, max=1.0)))"
      ]
     },
     "metadata": {},
     "output_type": "display_data"
    },
    {
     "name": "stdout",
     "output_type": "stream",
     "text": [
      "2024-08-05 17:36:37,451 WARNING: DeprecationWarning: Importing display from IPython.core.display is deprecated since IPython 7.14, please import from IPython display\n",
      "\n"
     ]
    },
    {
     "data": {
      "text/html": [
       "<style>\n",
       "    table.wandb td:nth-child(1) { padding: 0 10px; text-align: left ; width: auto;} td:nth-child(2) {text-align: left ; width: 100%}\n",
       "    .wandb-row { display: flex; flex-direction: row; flex-wrap: wrap; justify-content: flex-start; width: 100% }\n",
       "    .wandb-col { display: flex; flex-direction: column; flex-basis: 100%; flex: 1; padding: 10px; }\n",
       "    </style>\n",
       "<div class=\"wandb-row\"><div class=\"wandb-col\"><h3>Run history:</h3><br/><table class=\"wandb\"><tr><td>f1_score</td><td>▁</td></tr><tr><td>f1_score_train</td><td>▁</td></tr><tr><td>f1_score_valid</td><td>▁</td></tr></table><br/></div><div class=\"wandb-col\"><h3>Run summary:</h3><br/><table class=\"wandb\"><tr><td>f1_score</td><td>0.69264</td></tr><tr><td>f1_score_train</td><td>0.95812</td></tr><tr><td>f1_score_valid</td><td>0.60226</td></tr></table><br/></div></div>"
      ],
      "text/plain": [
       "<IPython.core.display.HTML object>"
      ]
     },
     "metadata": {},
     "output_type": "display_data"
    },
    {
     "data": {
      "text/html": [
       " View run <strong style=\"color:#cdcd00\">breezy-sweep-12</strong> at: <a href='https://wandb.ai/harshmp/truck-delay-classification/runs/5pl8fjr4' target=\"_blank\">https://wandb.ai/harshmp/truck-delay-classification/runs/5pl8fjr4</a><br/>Synced 5 W&B file(s), 7 media file(s), 8 artifact file(s) and 1 other file(s)"
      ],
      "text/plain": [
       "<IPython.core.display.HTML object>"
      ]
     },
     "metadata": {},
     "output_type": "display_data"
    },
    {
     "data": {
      "text/html": [
       "Find logs at: <code>.\\wandb\\run-20240805_173610-5pl8fjr4\\logs</code>"
      ],
      "text/plain": [
       "<IPython.core.display.HTML object>"
      ]
     },
     "metadata": {},
     "output_type": "display_data"
    },
    {
     "name": "stderr",
     "output_type": "stream",
     "text": [
      "wandb: Agent Starting Run: jl1f3s41 with config:\n",
      "wandb: \tmax_depth: None\n",
      "wandb: \tmin_samples_split: 12\n",
      "wandb: \tn_estimators: 8\n",
      "Failed to detect the name of this notebook, you can set it manually with the WANDB_NOTEBOOK_NAME environment variable to enable code saving.\n",
      "wandb: WARNING Ignored wandb.init() arg project when running a sweep.\n"
     ]
    },
    {
     "data": {
      "text/html": [
       "wandb version 0.17.5 is available!  To upgrade, please run:\n",
       " $ pip install wandb --upgrade"
      ],
      "text/plain": [
       "<IPython.core.display.HTML object>"
      ]
     },
     "metadata": {},
     "output_type": "display_data"
    },
    {
     "data": {
      "text/html": [
       "Tracking run with wandb version 0.16.1"
      ],
      "text/plain": [
       "<IPython.core.display.HTML object>"
      ]
     },
     "metadata": {},
     "output_type": "display_data"
    },
    {
     "data": {
      "text/html": [
       "Run data is saved locally in <code>e:\\Artificial Intelligence\\Projects\\Predictive-Truck-Delay-Management-in-Logistics\\wandb\\run-20240805_173645-jl1f3s41</code>"
      ],
      "text/plain": [
       "<IPython.core.display.HTML object>"
      ]
     },
     "metadata": {},
     "output_type": "display_data"
    },
    {
     "data": {
      "text/html": [
       "Syncing run <strong><a href='https://wandb.ai/harshmp/truck-delay-classification/runs/jl1f3s41' target=\"_blank\">summer-sweep-13</a></strong> to <a href='https://wandb.ai/harshmp/truck-delay-classification' target=\"_blank\">Weights & Biases</a> (<a href='https://wandb.me/run' target=\"_blank\">docs</a>)<br/>Sweep page: <a href='https://wandb.ai/harshmp/truck-delay-classification/sweeps/20442i5p' target=\"_blank\">https://wandb.ai/harshmp/truck-delay-classification/sweeps/20442i5p</a>"
      ],
      "text/plain": [
       "<IPython.core.display.HTML object>"
      ]
     },
     "metadata": {},
     "output_type": "display_data"
    },
    {
     "data": {
      "text/html": [
       " View project at <a href='https://wandb.ai/harshmp/truck-delay-classification' target=\"_blank\">https://wandb.ai/harshmp/truck-delay-classification</a>"
      ],
      "text/plain": [
       "<IPython.core.display.HTML object>"
      ]
     },
     "metadata": {},
     "output_type": "display_data"
    },
    {
     "data": {
      "text/html": [
       " View sweep at <a href='https://wandb.ai/harshmp/truck-delay-classification/sweeps/20442i5p' target=\"_blank\">https://wandb.ai/harshmp/truck-delay-classification/sweeps/20442i5p</a>"
      ],
      "text/plain": [
       "<IPython.core.display.HTML object>"
      ]
     },
     "metadata": {},
     "output_type": "display_data"
    },
    {
     "data": {
      "text/html": [
       " View run at <a href='https://wandb.ai/harshmp/truck-delay-classification/runs/jl1f3s41' target=\"_blank\">https://wandb.ai/harshmp/truck-delay-classification/runs/jl1f3s41</a>"
      ],
      "text/plain": [
       "<IPython.core.display.HTML object>"
      ]
     },
     "metadata": {},
     "output_type": "display_data"
    },
    {
     "name": "stdout",
     "output_type": "stream",
     "text": [
      "F1_score Train: 0.882\n",
      "F1_score Valid: 0.5815\n",
      "F1_score Test: 0.6987\n"
     ]
    },
    {
     "name": "stderr",
     "output_type": "stream",
     "text": [
      "wandb: \n",
      "wandb: Plotting RandomForestClassifier.\n",
      "wandb: Logged feature importances.\n",
      "wandb: Logged confusion matrix.\n"
     ]
    },
    {
     "name": "stdout",
     "output_type": "stream",
     "text": [
      "2024-08-05 17:36:48,338 WARNING: DeprecationWarning: Please import `csr_matrix` from the `scipy.sparse` namespace; the `scipy.sparse.csr` namespace is deprecated and will be removed in SciPy 2.0.0.\n",
      "\n"
     ]
    },
    {
     "name": "stderr",
     "output_type": "stream",
     "text": [
      "wandb: Logged summary metrics.\n",
      "wandb: Logged class proportions.\n"
     ]
    },
    {
     "name": "stdout",
     "output_type": "stream",
     "text": [
      "2024-08-05 17:36:49,307 WARNING: DeprecationWarning: Please import `csr_matrix` from the `scipy.sparse` namespace; the `scipy.sparse.csr` namespace is deprecated and will be removed in SciPy 2.0.0.\n",
      "\n"
     ]
    },
    {
     "name": "stderr",
     "output_type": "stream",
     "text": [
      "wandb: Logged calibration curve.\n",
      "wandb: Logged roc curve.\n",
      "wandb: Logged precision-recall curve.\n"
     ]
    },
    {
     "name": "stdout",
     "output_type": "stream",
     "text": [
      "2024-08-05 17:37:03,858 WARNING: DeprecationWarning: Importing display from IPython.core.display is deprecated since IPython 7.14, please import from IPython display\n",
      "\n"
     ]
    },
    {
     "data": {
      "application/vnd.jupyter.widget-view+json": {
       "model_id": "f875d45478b04159adb2d66e667cdacd",
       "version_major": 2,
       "version_minor": 0
      },
      "text/plain": [
       "VBox(children=(Label(value='1.708 MB of 1.708 MB uploaded\\r'), FloatProgress(value=1.0, max=1.0)))"
      ]
     },
     "metadata": {},
     "output_type": "display_data"
    },
    {
     "name": "stdout",
     "output_type": "stream",
     "text": [
      "2024-08-05 17:37:09,121 WARNING: DeprecationWarning: Importing display from IPython.core.display is deprecated since IPython 7.14, please import from IPython display\n",
      "\n"
     ]
    },
    {
     "data": {
      "text/html": [
       "<style>\n",
       "    table.wandb td:nth-child(1) { padding: 0 10px; text-align: left ; width: auto;} td:nth-child(2) {text-align: left ; width: 100%}\n",
       "    .wandb-row { display: flex; flex-direction: row; flex-wrap: wrap; justify-content: flex-start; width: 100% }\n",
       "    .wandb-col { display: flex; flex-direction: column; flex-basis: 100%; flex: 1; padding: 10px; }\n",
       "    </style>\n",
       "<div class=\"wandb-row\"><div class=\"wandb-col\"><h3>Run history:</h3><br/><table class=\"wandb\"><tr><td>f1_score</td><td>▁</td></tr><tr><td>f1_score_train</td><td>▁</td></tr><tr><td>f1_score_valid</td><td>▁</td></tr></table><br/></div><div class=\"wandb-col\"><h3>Run summary:</h3><br/><table class=\"wandb\"><tr><td>f1_score</td><td>0.69874</td></tr><tr><td>f1_score_train</td><td>0.88203</td></tr><tr><td>f1_score_valid</td><td>0.58146</td></tr></table><br/></div></div>"
      ],
      "text/plain": [
       "<IPython.core.display.HTML object>"
      ]
     },
     "metadata": {},
     "output_type": "display_data"
    },
    {
     "data": {
      "text/html": [
       " View run <strong style=\"color:#cdcd00\">summer-sweep-13</strong> at: <a href='https://wandb.ai/harshmp/truck-delay-classification/runs/jl1f3s41' target=\"_blank\">https://wandb.ai/harshmp/truck-delay-classification/runs/jl1f3s41</a><br/>Synced 5 W&B file(s), 7 media file(s), 8 artifact file(s) and 1 other file(s)"
      ],
      "text/plain": [
       "<IPython.core.display.HTML object>"
      ]
     },
     "metadata": {},
     "output_type": "display_data"
    },
    {
     "data": {
      "text/html": [
       "Find logs at: <code>.\\wandb\\run-20240805_173645-jl1f3s41\\logs</code>"
      ],
      "text/plain": [
       "<IPython.core.display.HTML object>"
      ]
     },
     "metadata": {},
     "output_type": "display_data"
    },
    {
     "name": "stderr",
     "output_type": "stream",
     "text": [
      "wandb: Agent Starting Run: csv0wncg with config:\n",
      "wandb: \tmax_depth: None\n",
      "wandb: \tmin_samples_split: 12\n",
      "wandb: \tn_estimators: 12\n",
      "Failed to detect the name of this notebook, you can set it manually with the WANDB_NOTEBOOK_NAME environment variable to enable code saving.\n",
      "wandb: WARNING Ignored wandb.init() arg project when running a sweep.\n"
     ]
    },
    {
     "data": {
      "text/html": [
       "wandb version 0.17.5 is available!  To upgrade, please run:\n",
       " $ pip install wandb --upgrade"
      ],
      "text/plain": [
       "<IPython.core.display.HTML object>"
      ]
     },
     "metadata": {},
     "output_type": "display_data"
    },
    {
     "data": {
      "text/html": [
       "Tracking run with wandb version 0.16.1"
      ],
      "text/plain": [
       "<IPython.core.display.HTML object>"
      ]
     },
     "metadata": {},
     "output_type": "display_data"
    },
    {
     "data": {
      "text/html": [
       "Run data is saved locally in <code>e:\\Artificial Intelligence\\Projects\\Predictive-Truck-Delay-Management-in-Logistics\\wandb\\run-20240805_173716-csv0wncg</code>"
      ],
      "text/plain": [
       "<IPython.core.display.HTML object>"
      ]
     },
     "metadata": {},
     "output_type": "display_data"
    },
    {
     "data": {
      "text/html": [
       "Syncing run <strong><a href='https://wandb.ai/harshmp/truck-delay-classification/runs/csv0wncg' target=\"_blank\">youthful-sweep-14</a></strong> to <a href='https://wandb.ai/harshmp/truck-delay-classification' target=\"_blank\">Weights & Biases</a> (<a href='https://wandb.me/run' target=\"_blank\">docs</a>)<br/>Sweep page: <a href='https://wandb.ai/harshmp/truck-delay-classification/sweeps/20442i5p' target=\"_blank\">https://wandb.ai/harshmp/truck-delay-classification/sweeps/20442i5p</a>"
      ],
      "text/plain": [
       "<IPython.core.display.HTML object>"
      ]
     },
     "metadata": {},
     "output_type": "display_data"
    },
    {
     "data": {
      "text/html": [
       " View project at <a href='https://wandb.ai/harshmp/truck-delay-classification' target=\"_blank\">https://wandb.ai/harshmp/truck-delay-classification</a>"
      ],
      "text/plain": [
       "<IPython.core.display.HTML object>"
      ]
     },
     "metadata": {},
     "output_type": "display_data"
    },
    {
     "data": {
      "text/html": [
       " View sweep at <a href='https://wandb.ai/harshmp/truck-delay-classification/sweeps/20442i5p' target=\"_blank\">https://wandb.ai/harshmp/truck-delay-classification/sweeps/20442i5p</a>"
      ],
      "text/plain": [
       "<IPython.core.display.HTML object>"
      ]
     },
     "metadata": {},
     "output_type": "display_data"
    },
    {
     "data": {
      "text/html": [
       " View run at <a href='https://wandb.ai/harshmp/truck-delay-classification/runs/csv0wncg' target=\"_blank\">https://wandb.ai/harshmp/truck-delay-classification/runs/csv0wncg</a>"
      ],
      "text/plain": [
       "<IPython.core.display.HTML object>"
      ]
     },
     "metadata": {},
     "output_type": "display_data"
    },
    {
     "name": "stdout",
     "output_type": "stream",
     "text": [
      "F1_score Train: 0.9013\n",
      "F1_score Valid: 0.6\n",
      "F1_score Test: 0.7149\n"
     ]
    },
    {
     "name": "stderr",
     "output_type": "stream",
     "text": [
      "wandb: \n",
      "wandb: Plotting RandomForestClassifier.\n",
      "wandb: Logged feature importances.\n",
      "wandb: Logged confusion matrix.\n"
     ]
    },
    {
     "name": "stdout",
     "output_type": "stream",
     "text": [
      "2024-08-05 17:37:19,924 WARNING: DeprecationWarning: Please import `csr_matrix` from the `scipy.sparse` namespace; the `scipy.sparse.csr` namespace is deprecated and will be removed in SciPy 2.0.0.\n",
      "\n"
     ]
    },
    {
     "name": "stderr",
     "output_type": "stream",
     "text": [
      "wandb: Logged summary metrics.\n",
      "wandb: Logged class proportions.\n"
     ]
    },
    {
     "name": "stdout",
     "output_type": "stream",
     "text": [
      "2024-08-05 17:37:21,138 WARNING: DeprecationWarning: Please import `csr_matrix` from the `scipy.sparse` namespace; the `scipy.sparse.csr` namespace is deprecated and will be removed in SciPy 2.0.0.\n",
      "\n"
     ]
    },
    {
     "name": "stderr",
     "output_type": "stream",
     "text": [
      "wandb: Logged calibration curve.\n",
      "wandb: Logged roc curve.\n",
      "wandb: Logged precision-recall curve.\n"
     ]
    },
    {
     "name": "stdout",
     "output_type": "stream",
     "text": [
      "2024-08-05 17:37:36,837 WARNING: DeprecationWarning: Importing display from IPython.core.display is deprecated since IPython 7.14, please import from IPython display\n",
      "\n"
     ]
    },
    {
     "data": {
      "application/vnd.jupyter.widget-view+json": {
       "model_id": "fdec79eada7b4f4cb0f55d225d762c9f",
       "version_major": 2,
       "version_minor": 0
      },
      "text/plain": [
       "VBox(children=(Label(value='2.524 MB of 2.524 MB uploaded\\r'), FloatProgress(value=1.0, max=1.0)))"
      ]
     },
     "metadata": {},
     "output_type": "display_data"
    },
    {
     "name": "stdout",
     "output_type": "stream",
     "text": [
      "2024-08-05 17:37:42,215 WARNING: DeprecationWarning: Importing display from IPython.core.display is deprecated since IPython 7.14, please import from IPython display\n",
      "\n"
     ]
    },
    {
     "data": {
      "text/html": [
       "<style>\n",
       "    table.wandb td:nth-child(1) { padding: 0 10px; text-align: left ; width: auto;} td:nth-child(2) {text-align: left ; width: 100%}\n",
       "    .wandb-row { display: flex; flex-direction: row; flex-wrap: wrap; justify-content: flex-start; width: 100% }\n",
       "    .wandb-col { display: flex; flex-direction: column; flex-basis: 100%; flex: 1; padding: 10px; }\n",
       "    </style>\n",
       "<div class=\"wandb-row\"><div class=\"wandb-col\"><h3>Run history:</h3><br/><table class=\"wandb\"><tr><td>f1_score</td><td>▁</td></tr><tr><td>f1_score_train</td><td>▁</td></tr><tr><td>f1_score_valid</td><td>▁</td></tr></table><br/></div><div class=\"wandb-col\"><h3>Run summary:</h3><br/><table class=\"wandb\"><tr><td>f1_score</td><td>0.71489</td></tr><tr><td>f1_score_train</td><td>0.90127</td></tr><tr><td>f1_score_valid</td><td>0.6</td></tr></table><br/></div></div>"
      ],
      "text/plain": [
       "<IPython.core.display.HTML object>"
      ]
     },
     "metadata": {},
     "output_type": "display_data"
    },
    {
     "data": {
      "text/html": [
       " View run <strong style=\"color:#cdcd00\">youthful-sweep-14</strong> at: <a href='https://wandb.ai/harshmp/truck-delay-classification/runs/csv0wncg' target=\"_blank\">https://wandb.ai/harshmp/truck-delay-classification/runs/csv0wncg</a><br/>Synced 5 W&B file(s), 7 media file(s), 8 artifact file(s) and 1 other file(s)"
      ],
      "text/plain": [
       "<IPython.core.display.HTML object>"
      ]
     },
     "metadata": {},
     "output_type": "display_data"
    },
    {
     "data": {
      "text/html": [
       "Find logs at: <code>.\\wandb\\run-20240805_173716-csv0wncg\\logs</code>"
      ],
      "text/plain": [
       "<IPython.core.display.HTML object>"
      ]
     },
     "metadata": {},
     "output_type": "display_data"
    },
    {
     "name": "stderr",
     "output_type": "stream",
     "text": [
      "wandb: Agent Starting Run: grr80dw3 with config:\n",
      "wandb: \tmax_depth: None\n",
      "wandb: \tmin_samples_split: 12\n",
      "wandb: \tn_estimators: 16\n",
      "Failed to detect the name of this notebook, you can set it manually with the WANDB_NOTEBOOK_NAME environment variable to enable code saving.\n",
      "wandb: WARNING Ignored wandb.init() arg project when running a sweep.\n"
     ]
    },
    {
     "data": {
      "text/html": [
       "wandb version 0.17.5 is available!  To upgrade, please run:\n",
       " $ pip install wandb --upgrade"
      ],
      "text/plain": [
       "<IPython.core.display.HTML object>"
      ]
     },
     "metadata": {},
     "output_type": "display_data"
    },
    {
     "data": {
      "text/html": [
       "Tracking run with wandb version 0.16.1"
      ],
      "text/plain": [
       "<IPython.core.display.HTML object>"
      ]
     },
     "metadata": {},
     "output_type": "display_data"
    },
    {
     "data": {
      "text/html": [
       "Run data is saved locally in <code>e:\\Artificial Intelligence\\Projects\\Predictive-Truck-Delay-Management-in-Logistics\\wandb\\run-20240805_173752-grr80dw3</code>"
      ],
      "text/plain": [
       "<IPython.core.display.HTML object>"
      ]
     },
     "metadata": {},
     "output_type": "display_data"
    },
    {
     "data": {
      "text/html": [
       "Syncing run <strong><a href='https://wandb.ai/harshmp/truck-delay-classification/runs/grr80dw3' target=\"_blank\">grateful-sweep-15</a></strong> to <a href='https://wandb.ai/harshmp/truck-delay-classification' target=\"_blank\">Weights & Biases</a> (<a href='https://wandb.me/run' target=\"_blank\">docs</a>)<br/>Sweep page: <a href='https://wandb.ai/harshmp/truck-delay-classification/sweeps/20442i5p' target=\"_blank\">https://wandb.ai/harshmp/truck-delay-classification/sweeps/20442i5p</a>"
      ],
      "text/plain": [
       "<IPython.core.display.HTML object>"
      ]
     },
     "metadata": {},
     "output_type": "display_data"
    },
    {
     "data": {
      "text/html": [
       " View project at <a href='https://wandb.ai/harshmp/truck-delay-classification' target=\"_blank\">https://wandb.ai/harshmp/truck-delay-classification</a>"
      ],
      "text/plain": [
       "<IPython.core.display.HTML object>"
      ]
     },
     "metadata": {},
     "output_type": "display_data"
    },
    {
     "data": {
      "text/html": [
       " View sweep at <a href='https://wandb.ai/harshmp/truck-delay-classification/sweeps/20442i5p' target=\"_blank\">https://wandb.ai/harshmp/truck-delay-classification/sweeps/20442i5p</a>"
      ],
      "text/plain": [
       "<IPython.core.display.HTML object>"
      ]
     },
     "metadata": {},
     "output_type": "display_data"
    },
    {
     "data": {
      "text/html": [
       " View run at <a href='https://wandb.ai/harshmp/truck-delay-classification/runs/grr80dw3' target=\"_blank\">https://wandb.ai/harshmp/truck-delay-classification/runs/grr80dw3</a>"
      ],
      "text/plain": [
       "<IPython.core.display.HTML object>"
      ]
     },
     "metadata": {},
     "output_type": "display_data"
    },
    {
     "name": "stdout",
     "output_type": "stream",
     "text": [
      "F1_score Train: 0.912\n",
      "F1_score Valid: 0.6156\n",
      "F1_score Test: 0.7133\n"
     ]
    },
    {
     "name": "stderr",
     "output_type": "stream",
     "text": [
      "wandb: \n",
      "wandb: Plotting RandomForestClassifier.\n",
      "wandb: Logged feature importances.\n",
      "wandb: Logged confusion matrix.\n"
     ]
    },
    {
     "name": "stdout",
     "output_type": "stream",
     "text": [
      "2024-08-05 17:37:56,208 WARNING: DeprecationWarning: Please import `csr_matrix` from the `scipy.sparse` namespace; the `scipy.sparse.csr` namespace is deprecated and will be removed in SciPy 2.0.0.\n",
      "\n"
     ]
    },
    {
     "name": "stderr",
     "output_type": "stream",
     "text": [
      "wandb: Logged summary metrics.\n",
      "wandb: Logged class proportions.\n"
     ]
    },
    {
     "name": "stdout",
     "output_type": "stream",
     "text": [
      "2024-08-05 17:37:57,622 WARNING: DeprecationWarning: Please import `csr_matrix` from the `scipy.sparse` namespace; the `scipy.sparse.csr` namespace is deprecated and will be removed in SciPy 2.0.0.\n",
      "\n"
     ]
    },
    {
     "name": "stderr",
     "output_type": "stream",
     "text": [
      "wandb: Logged calibration curve.\n",
      "wandb: Logged roc curve.\n",
      "wandb: Logged precision-recall curve.\n"
     ]
    },
    {
     "name": "stdout",
     "output_type": "stream",
     "text": [
      "2024-08-05 17:38:14,383 WARNING: DeprecationWarning: Importing display from IPython.core.display is deprecated since IPython 7.14, please import from IPython display\n",
      "\n"
     ]
    },
    {
     "data": {
      "application/vnd.jupyter.widget-view+json": {
       "model_id": "0b17056e6cb14683ad23052ad05d1bd5",
       "version_major": 2,
       "version_minor": 0
      },
      "text/plain": [
       "VBox(children=(Label(value='3.352 MB of 3.352 MB uploaded\\r'), FloatProgress(value=1.0, max=1.0)))"
      ]
     },
     "metadata": {},
     "output_type": "display_data"
    },
    {
     "name": "stdout",
     "output_type": "stream",
     "text": [
      "2024-08-05 17:38:18,851 WARNING: DeprecationWarning: Importing display from IPython.core.display is deprecated since IPython 7.14, please import from IPython display\n",
      "\n"
     ]
    },
    {
     "data": {
      "text/html": [
       "<style>\n",
       "    table.wandb td:nth-child(1) { padding: 0 10px; text-align: left ; width: auto;} td:nth-child(2) {text-align: left ; width: 100%}\n",
       "    .wandb-row { display: flex; flex-direction: row; flex-wrap: wrap; justify-content: flex-start; width: 100% }\n",
       "    .wandb-col { display: flex; flex-direction: column; flex-basis: 100%; flex: 1; padding: 10px; }\n",
       "    </style>\n",
       "<div class=\"wandb-row\"><div class=\"wandb-col\"><h3>Run history:</h3><br/><table class=\"wandb\"><tr><td>f1_score</td><td>▁</td></tr><tr><td>f1_score_train</td><td>▁</td></tr><tr><td>f1_score_valid</td><td>▁</td></tr></table><br/></div><div class=\"wandb-col\"><h3>Run summary:</h3><br/><table class=\"wandb\"><tr><td>f1_score</td><td>0.71328</td></tr><tr><td>f1_score_train</td><td>0.91202</td></tr><tr><td>f1_score_valid</td><td>0.61559</td></tr></table><br/></div></div>"
      ],
      "text/plain": [
       "<IPython.core.display.HTML object>"
      ]
     },
     "metadata": {},
     "output_type": "display_data"
    },
    {
     "data": {
      "text/html": [
       " View run <strong style=\"color:#cdcd00\">grateful-sweep-15</strong> at: <a href='https://wandb.ai/harshmp/truck-delay-classification/runs/grr80dw3' target=\"_blank\">https://wandb.ai/harshmp/truck-delay-classification/runs/grr80dw3</a><br/>Synced 5 W&B file(s), 7 media file(s), 8 artifact file(s) and 1 other file(s)"
      ],
      "text/plain": [
       "<IPython.core.display.HTML object>"
      ]
     },
     "metadata": {},
     "output_type": "display_data"
    },
    {
     "data": {
      "text/html": [
       "Find logs at: <code>.\\wandb\\run-20240805_173752-grr80dw3\\logs</code>"
      ],
      "text/plain": [
       "<IPython.core.display.HTML object>"
      ]
     },
     "metadata": {},
     "output_type": "display_data"
    },
    {
     "name": "stderr",
     "output_type": "stream",
     "text": [
      "wandb: Agent Starting Run: pf9l25hw with config:\n",
      "wandb: \tmax_depth: None\n",
      "wandb: \tmin_samples_split: 12\n",
      "wandb: \tn_estimators: 20\n",
      "Failed to detect the name of this notebook, you can set it manually with the WANDB_NOTEBOOK_NAME environment variable to enable code saving.\n",
      "wandb: WARNING Ignored wandb.init() arg project when running a sweep.\n"
     ]
    },
    {
     "data": {
      "text/html": [
       "wandb version 0.17.5 is available!  To upgrade, please run:\n",
       " $ pip install wandb --upgrade"
      ],
      "text/plain": [
       "<IPython.core.display.HTML object>"
      ]
     },
     "metadata": {},
     "output_type": "display_data"
    },
    {
     "data": {
      "text/html": [
       "Tracking run with wandb version 0.16.1"
      ],
      "text/plain": [
       "<IPython.core.display.HTML object>"
      ]
     },
     "metadata": {},
     "output_type": "display_data"
    },
    {
     "data": {
      "text/html": [
       "Run data is saved locally in <code>e:\\Artificial Intelligence\\Projects\\Predictive-Truck-Delay-Management-in-Logistics\\wandb\\run-20240805_173830-pf9l25hw</code>"
      ],
      "text/plain": [
       "<IPython.core.display.HTML object>"
      ]
     },
     "metadata": {},
     "output_type": "display_data"
    },
    {
     "data": {
      "text/html": [
       "Syncing run <strong><a href='https://wandb.ai/harshmp/truck-delay-classification/runs/pf9l25hw' target=\"_blank\">hearty-sweep-16</a></strong> to <a href='https://wandb.ai/harshmp/truck-delay-classification' target=\"_blank\">Weights & Biases</a> (<a href='https://wandb.me/run' target=\"_blank\">docs</a>)<br/>Sweep page: <a href='https://wandb.ai/harshmp/truck-delay-classification/sweeps/20442i5p' target=\"_blank\">https://wandb.ai/harshmp/truck-delay-classification/sweeps/20442i5p</a>"
      ],
      "text/plain": [
       "<IPython.core.display.HTML object>"
      ]
     },
     "metadata": {},
     "output_type": "display_data"
    },
    {
     "data": {
      "text/html": [
       " View project at <a href='https://wandb.ai/harshmp/truck-delay-classification' target=\"_blank\">https://wandb.ai/harshmp/truck-delay-classification</a>"
      ],
      "text/plain": [
       "<IPython.core.display.HTML object>"
      ]
     },
     "metadata": {},
     "output_type": "display_data"
    },
    {
     "data": {
      "text/html": [
       " View sweep at <a href='https://wandb.ai/harshmp/truck-delay-classification/sweeps/20442i5p' target=\"_blank\">https://wandb.ai/harshmp/truck-delay-classification/sweeps/20442i5p</a>"
      ],
      "text/plain": [
       "<IPython.core.display.HTML object>"
      ]
     },
     "metadata": {},
     "output_type": "display_data"
    },
    {
     "data": {
      "text/html": [
       " View run at <a href='https://wandb.ai/harshmp/truck-delay-classification/runs/pf9l25hw' target=\"_blank\">https://wandb.ai/harshmp/truck-delay-classification/runs/pf9l25hw</a>"
      ],
      "text/plain": [
       "<IPython.core.display.HTML object>"
      ]
     },
     "metadata": {},
     "output_type": "display_data"
    },
    {
     "name": "stdout",
     "output_type": "stream",
     "text": [
      "F1_score Train: 0.92\n",
      "F1_score Valid: 0.6247\n",
      "F1_score Test: 0.7167\n"
     ]
    },
    {
     "name": "stderr",
     "output_type": "stream",
     "text": [
      "wandb: \n",
      "wandb: Plotting RandomForestClassifier.\n",
      "wandb: Logged feature importances.\n",
      "wandb: Logged confusion matrix.\n"
     ]
    },
    {
     "name": "stdout",
     "output_type": "stream",
     "text": [
      "2024-08-05 17:38:34,223 WARNING: DeprecationWarning: Please import `csr_matrix` from the `scipy.sparse` namespace; the `scipy.sparse.csr` namespace is deprecated and will be removed in SciPy 2.0.0.\n",
      "\n"
     ]
    },
    {
     "name": "stderr",
     "output_type": "stream",
     "text": [
      "wandb: Logged summary metrics.\n",
      "wandb: Logged class proportions.\n"
     ]
    },
    {
     "name": "stdout",
     "output_type": "stream",
     "text": [
      "2024-08-05 17:38:35,283 WARNING: DeprecationWarning: Please import `csr_matrix` from the `scipy.sparse` namespace; the `scipy.sparse.csr` namespace is deprecated and will be removed in SciPy 2.0.0.\n",
      "\n"
     ]
    },
    {
     "name": "stderr",
     "output_type": "stream",
     "text": [
      "wandb: Logged calibration curve.\n",
      "wandb: Logged roc curve.\n",
      "wandb: Logged precision-recall curve.\n"
     ]
    },
    {
     "name": "stdout",
     "output_type": "stream",
     "text": [
      "2024-08-05 17:38:51,084 WARNING: DeprecationWarning: Importing display from IPython.core.display is deprecated since IPython 7.14, please import from IPython display\n",
      "\n"
     ]
    },
    {
     "data": {
      "application/vnd.jupyter.widget-view+json": {
       "model_id": "643a80f69c214a3294cd3b1510b4ec07",
       "version_major": 2,
       "version_minor": 0
      },
      "text/plain": [
       "VBox(children=(Label(value='4.177 MB of 4.177 MB uploaded\\r'), FloatProgress(value=1.0, max=1.0)))"
      ]
     },
     "metadata": {},
     "output_type": "display_data"
    },
    {
     "name": "stdout",
     "output_type": "stream",
     "text": [
      "2024-08-05 17:38:54,199 WARNING: DeprecationWarning: Importing display from IPython.core.display is deprecated since IPython 7.14, please import from IPython display\n",
      "\n"
     ]
    },
    {
     "data": {
      "text/html": [
       "<style>\n",
       "    table.wandb td:nth-child(1) { padding: 0 10px; text-align: left ; width: auto;} td:nth-child(2) {text-align: left ; width: 100%}\n",
       "    .wandb-row { display: flex; flex-direction: row; flex-wrap: wrap; justify-content: flex-start; width: 100% }\n",
       "    .wandb-col { display: flex; flex-direction: column; flex-basis: 100%; flex: 1; padding: 10px; }\n",
       "    </style>\n",
       "<div class=\"wandb-row\"><div class=\"wandb-col\"><h3>Run history:</h3><br/><table class=\"wandb\"><tr><td>f1_score</td><td>▁</td></tr><tr><td>f1_score_train</td><td>▁</td></tr><tr><td>f1_score_valid</td><td>▁</td></tr></table><br/></div><div class=\"wandb-col\"><h3>Run summary:</h3><br/><table class=\"wandb\"><tr><td>f1_score</td><td>0.71671</td></tr><tr><td>f1_score_train</td><td>0.91998</td></tr><tr><td>f1_score_valid</td><td>0.62474</td></tr></table><br/></div></div>"
      ],
      "text/plain": [
       "<IPython.core.display.HTML object>"
      ]
     },
     "metadata": {},
     "output_type": "display_data"
    },
    {
     "data": {
      "text/html": [
       " View run <strong style=\"color:#cdcd00\">hearty-sweep-16</strong> at: <a href='https://wandb.ai/harshmp/truck-delay-classification/runs/pf9l25hw' target=\"_blank\">https://wandb.ai/harshmp/truck-delay-classification/runs/pf9l25hw</a><br/>Synced 5 W&B file(s), 7 media file(s), 8 artifact file(s) and 1 other file(s)"
      ],
      "text/plain": [
       "<IPython.core.display.HTML object>"
      ]
     },
     "metadata": {},
     "output_type": "display_data"
    },
    {
     "data": {
      "text/html": [
       "Find logs at: <code>.\\wandb\\run-20240805_173830-pf9l25hw\\logs</code>"
      ],
      "text/plain": [
       "<IPython.core.display.HTML object>"
      ]
     },
     "metadata": {},
     "output_type": "display_data"
    },
    {
     "name": "stderr",
     "output_type": "stream",
     "text": [
      "wandb: Agent Starting Run: u9w8e1ow with config:\n",
      "wandb: \tmax_depth: 5\n",
      "wandb: \tmin_samples_split: 2\n",
      "wandb: \tn_estimators: 8\n",
      "Failed to detect the name of this notebook, you can set it manually with the WANDB_NOTEBOOK_NAME environment variable to enable code saving.\n",
      "wandb: WARNING Ignored wandb.init() arg project when running a sweep.\n"
     ]
    },
    {
     "data": {
      "text/html": [
       "wandb version 0.17.5 is available!  To upgrade, please run:\n",
       " $ pip install wandb --upgrade"
      ],
      "text/plain": [
       "<IPython.core.display.HTML object>"
      ]
     },
     "metadata": {},
     "output_type": "display_data"
    },
    {
     "data": {
      "text/html": [
       "Tracking run with wandb version 0.16.1"
      ],
      "text/plain": [
       "<IPython.core.display.HTML object>"
      ]
     },
     "metadata": {},
     "output_type": "display_data"
    },
    {
     "data": {
      "text/html": [
       "Run data is saved locally in <code>e:\\Artificial Intelligence\\Projects\\Predictive-Truck-Delay-Management-in-Logistics\\wandb\\run-20240805_173904-u9w8e1ow</code>"
      ],
      "text/plain": [
       "<IPython.core.display.HTML object>"
      ]
     },
     "metadata": {},
     "output_type": "display_data"
    },
    {
     "data": {
      "text/html": [
       "Syncing run <strong><a href='https://wandb.ai/harshmp/truck-delay-classification/runs/u9w8e1ow' target=\"_blank\">golden-sweep-17</a></strong> to <a href='https://wandb.ai/harshmp/truck-delay-classification' target=\"_blank\">Weights & Biases</a> (<a href='https://wandb.me/run' target=\"_blank\">docs</a>)<br/>Sweep page: <a href='https://wandb.ai/harshmp/truck-delay-classification/sweeps/20442i5p' target=\"_blank\">https://wandb.ai/harshmp/truck-delay-classification/sweeps/20442i5p</a>"
      ],
      "text/plain": [
       "<IPython.core.display.HTML object>"
      ]
     },
     "metadata": {},
     "output_type": "display_data"
    },
    {
     "data": {
      "text/html": [
       " View project at <a href='https://wandb.ai/harshmp/truck-delay-classification' target=\"_blank\">https://wandb.ai/harshmp/truck-delay-classification</a>"
      ],
      "text/plain": [
       "<IPython.core.display.HTML object>"
      ]
     },
     "metadata": {},
     "output_type": "display_data"
    },
    {
     "data": {
      "text/html": [
       " View sweep at <a href='https://wandb.ai/harshmp/truck-delay-classification/sweeps/20442i5p' target=\"_blank\">https://wandb.ai/harshmp/truck-delay-classification/sweeps/20442i5p</a>"
      ],
      "text/plain": [
       "<IPython.core.display.HTML object>"
      ]
     },
     "metadata": {},
     "output_type": "display_data"
    },
    {
     "data": {
      "text/html": [
       " View run at <a href='https://wandb.ai/harshmp/truck-delay-classification/runs/u9w8e1ow' target=\"_blank\">https://wandb.ai/harshmp/truck-delay-classification/runs/u9w8e1ow</a>"
      ],
      "text/plain": [
       "<IPython.core.display.HTML object>"
      ]
     },
     "metadata": {},
     "output_type": "display_data"
    },
    {
     "name": "stdout",
     "output_type": "stream",
     "text": [
      "F1_score Train: 0.5716\n",
      "F1_score Valid: 0.6619\n",
      "F1_score Test: 0.7587\n"
     ]
    },
    {
     "name": "stderr",
     "output_type": "stream",
     "text": [
      "wandb: \n",
      "wandb: Plotting RandomForestClassifier.\n",
      "wandb: Logged feature importances.\n",
      "wandb: Logged confusion matrix.\n"
     ]
    },
    {
     "name": "stdout",
     "output_type": "stream",
     "text": [
      "2024-08-05 17:39:07,663 WARNING: DeprecationWarning: Please import `csr_matrix` from the `scipy.sparse` namespace; the `scipy.sparse.csr` namespace is deprecated and will be removed in SciPy 2.0.0.\n",
      "\n"
     ]
    },
    {
     "name": "stderr",
     "output_type": "stream",
     "text": [
      "wandb: Logged summary metrics.\n",
      "wandb: Logged class proportions.\n"
     ]
    },
    {
     "name": "stdout",
     "output_type": "stream",
     "text": [
      "2024-08-05 17:39:09,629 WARNING: DeprecationWarning: Please import `csr_matrix` from the `scipy.sparse` namespace; the `scipy.sparse.csr` namespace is deprecated and will be removed in SciPy 2.0.0.\n",
      "\n"
     ]
    },
    {
     "name": "stderr",
     "output_type": "stream",
     "text": [
      "wandb: Logged calibration curve.\n",
      "wandb: Logged roc curve.\n",
      "wandb: Logged precision-recall curve.\n"
     ]
    },
    {
     "name": "stdout",
     "output_type": "stream",
     "text": [
      "2024-08-05 17:39:20,201 WARNING: DeprecationWarning: Importing display from IPython.core.display is deprecated since IPython 7.14, please import from IPython display\n",
      "\n"
     ]
    },
    {
     "data": {
      "application/vnd.jupyter.widget-view+json": {
       "model_id": "d1c58ecf7e9640ebbee5194f363c9757",
       "version_major": 2,
       "version_minor": 0
      },
      "text/plain": [
       "VBox(children=(Label(value='0.148 MB of 0.148 MB uploaded\\r'), FloatProgress(value=1.0, max=1.0)))"
      ]
     },
     "metadata": {},
     "output_type": "display_data"
    },
    {
     "name": "stdout",
     "output_type": "stream",
     "text": [
      "2024-08-05 17:39:24,446 WARNING: DeprecationWarning: Importing display from IPython.core.display is deprecated since IPython 7.14, please import from IPython display\n",
      "\n"
     ]
    },
    {
     "data": {
      "text/html": [
       "<style>\n",
       "    table.wandb td:nth-child(1) { padding: 0 10px; text-align: left ; width: auto;} td:nth-child(2) {text-align: left ; width: 100%}\n",
       "    .wandb-row { display: flex; flex-direction: row; flex-wrap: wrap; justify-content: flex-start; width: 100% }\n",
       "    .wandb-col { display: flex; flex-direction: column; flex-basis: 100%; flex: 1; padding: 10px; }\n",
       "    </style>\n",
       "<div class=\"wandb-row\"><div class=\"wandb-col\"><h3>Run history:</h3><br/><table class=\"wandb\"><tr><td>f1_score</td><td>▁</td></tr><tr><td>f1_score_train</td><td>▁</td></tr><tr><td>f1_score_valid</td><td>▁</td></tr></table><br/></div><div class=\"wandb-col\"><h3>Run summary:</h3><br/><table class=\"wandb\"><tr><td>f1_score</td><td>0.75875</td></tr><tr><td>f1_score_train</td><td>0.57161</td></tr><tr><td>f1_score_valid</td><td>0.66191</td></tr></table><br/></div></div>"
      ],
      "text/plain": [
       "<IPython.core.display.HTML object>"
      ]
     },
     "metadata": {},
     "output_type": "display_data"
    },
    {
     "data": {
      "text/html": [
       " View run <strong style=\"color:#cdcd00\">golden-sweep-17</strong> at: <a href='https://wandb.ai/harshmp/truck-delay-classification/runs/u9w8e1ow' target=\"_blank\">https://wandb.ai/harshmp/truck-delay-classification/runs/u9w8e1ow</a><br/>Synced 5 W&B file(s), 7 media file(s), 8 artifact file(s) and 1 other file(s)"
      ],
      "text/plain": [
       "<IPython.core.display.HTML object>"
      ]
     },
     "metadata": {},
     "output_type": "display_data"
    },
    {
     "data": {
      "text/html": [
       "Find logs at: <code>.\\wandb\\run-20240805_173904-u9w8e1ow\\logs</code>"
      ],
      "text/plain": [
       "<IPython.core.display.HTML object>"
      ]
     },
     "metadata": {},
     "output_type": "display_data"
    },
    {
     "name": "stderr",
     "output_type": "stream",
     "text": [
      "wandb: Agent Starting Run: 0rc6vjl5 with config:\n",
      "wandb: \tmax_depth: 5\n",
      "wandb: \tmin_samples_split: 2\n",
      "wandb: \tn_estimators: 12\n",
      "Failed to detect the name of this notebook, you can set it manually with the WANDB_NOTEBOOK_NAME environment variable to enable code saving.\n",
      "wandb: WARNING Ignored wandb.init() arg project when running a sweep.\n"
     ]
    },
    {
     "data": {
      "text/html": [
       "wandb version 0.17.5 is available!  To upgrade, please run:\n",
       " $ pip install wandb --upgrade"
      ],
      "text/plain": [
       "<IPython.core.display.HTML object>"
      ]
     },
     "metadata": {},
     "output_type": "display_data"
    },
    {
     "data": {
      "text/html": [
       "Tracking run with wandb version 0.16.1"
      ],
      "text/plain": [
       "<IPython.core.display.HTML object>"
      ]
     },
     "metadata": {},
     "output_type": "display_data"
    },
    {
     "data": {
      "text/html": [
       "Run data is saved locally in <code>e:\\Artificial Intelligence\\Projects\\Predictive-Truck-Delay-Management-in-Logistics\\wandb\\run-20240805_173934-0rc6vjl5</code>"
      ],
      "text/plain": [
       "<IPython.core.display.HTML object>"
      ]
     },
     "metadata": {},
     "output_type": "display_data"
    },
    {
     "data": {
      "text/html": [
       "Syncing run <strong><a href='https://wandb.ai/harshmp/truck-delay-classification/runs/0rc6vjl5' target=\"_blank\">crimson-sweep-18</a></strong> to <a href='https://wandb.ai/harshmp/truck-delay-classification' target=\"_blank\">Weights & Biases</a> (<a href='https://wandb.me/run' target=\"_blank\">docs</a>)<br/>Sweep page: <a href='https://wandb.ai/harshmp/truck-delay-classification/sweeps/20442i5p' target=\"_blank\">https://wandb.ai/harshmp/truck-delay-classification/sweeps/20442i5p</a>"
      ],
      "text/plain": [
       "<IPython.core.display.HTML object>"
      ]
     },
     "metadata": {},
     "output_type": "display_data"
    },
    {
     "data": {
      "text/html": [
       " View project at <a href='https://wandb.ai/harshmp/truck-delay-classification' target=\"_blank\">https://wandb.ai/harshmp/truck-delay-classification</a>"
      ],
      "text/plain": [
       "<IPython.core.display.HTML object>"
      ]
     },
     "metadata": {},
     "output_type": "display_data"
    },
    {
     "data": {
      "text/html": [
       " View sweep at <a href='https://wandb.ai/harshmp/truck-delay-classification/sweeps/20442i5p' target=\"_blank\">https://wandb.ai/harshmp/truck-delay-classification/sweeps/20442i5p</a>"
      ],
      "text/plain": [
       "<IPython.core.display.HTML object>"
      ]
     },
     "metadata": {},
     "output_type": "display_data"
    },
    {
     "data": {
      "text/html": [
       " View run at <a href='https://wandb.ai/harshmp/truck-delay-classification/runs/0rc6vjl5' target=\"_blank\">https://wandb.ai/harshmp/truck-delay-classification/runs/0rc6vjl5</a>"
      ],
      "text/plain": [
       "<IPython.core.display.HTML object>"
      ]
     },
     "metadata": {},
     "output_type": "display_data"
    },
    {
     "name": "stdout",
     "output_type": "stream",
     "text": [
      "F1_score Train: 0.573\n",
      "F1_score Valid: 0.6656\n",
      "F1_score Test: 0.7611\n"
     ]
    },
    {
     "name": "stderr",
     "output_type": "stream",
     "text": [
      "wandb: \n",
      "wandb: Plotting RandomForestClassifier.\n",
      "wandb: Logged feature importances.\n",
      "wandb: Logged confusion matrix.\n"
     ]
    },
    {
     "name": "stdout",
     "output_type": "stream",
     "text": [
      "2024-08-05 17:39:37,367 WARNING: DeprecationWarning: Please import `csr_matrix` from the `scipy.sparse` namespace; the `scipy.sparse.csr` namespace is deprecated and will be removed in SciPy 2.0.0.\n",
      "\n"
     ]
    },
    {
     "name": "stderr",
     "output_type": "stream",
     "text": [
      "wandb: Logged summary metrics.\n",
      "wandb: Logged class proportions.\n"
     ]
    },
    {
     "name": "stdout",
     "output_type": "stream",
     "text": [
      "2024-08-05 17:39:38,373 WARNING: DeprecationWarning: Please import `csr_matrix` from the `scipy.sparse` namespace; the `scipy.sparse.csr` namespace is deprecated and will be removed in SciPy 2.0.0.\n",
      "\n"
     ]
    },
    {
     "name": "stderr",
     "output_type": "stream",
     "text": [
      "wandb: Logged calibration curve.\n",
      "wandb: Logged roc curve.\n",
      "wandb: Logged precision-recall curve.\n"
     ]
    },
    {
     "name": "stdout",
     "output_type": "stream",
     "text": [
      "2024-08-05 17:39:50,726 WARNING: DeprecationWarning: Importing display from IPython.core.display is deprecated since IPython 7.14, please import from IPython display\n",
      "\n"
     ]
    },
    {
     "data": {
      "application/vnd.jupyter.widget-view+json": {
       "model_id": "09b6d4d7b4aa4cb7bf629a831cd65e22",
       "version_major": 2,
       "version_minor": 0
      },
      "text/plain": [
       "VBox(children=(Label(value='0.178 MB of 0.178 MB uploaded\\r'), FloatProgress(value=1.0, max=1.0)))"
      ]
     },
     "metadata": {},
     "output_type": "display_data"
    },
    {
     "name": "stdout",
     "output_type": "stream",
     "text": [
      "2024-08-05 17:39:53,716 WARNING: DeprecationWarning: Importing display from IPython.core.display is deprecated since IPython 7.14, please import from IPython display\n",
      "\n"
     ]
    },
    {
     "data": {
      "text/html": [
       "<style>\n",
       "    table.wandb td:nth-child(1) { padding: 0 10px; text-align: left ; width: auto;} td:nth-child(2) {text-align: left ; width: 100%}\n",
       "    .wandb-row { display: flex; flex-direction: row; flex-wrap: wrap; justify-content: flex-start; width: 100% }\n",
       "    .wandb-col { display: flex; flex-direction: column; flex-basis: 100%; flex: 1; padding: 10px; }\n",
       "    </style>\n",
       "<div class=\"wandb-row\"><div class=\"wandb-col\"><h3>Run history:</h3><br/><table class=\"wandb\"><tr><td>f1_score</td><td>▁</td></tr><tr><td>f1_score_train</td><td>▁</td></tr><tr><td>f1_score_valid</td><td>▁</td></tr></table><br/></div><div class=\"wandb-col\"><h3>Run summary:</h3><br/><table class=\"wandb\"><tr><td>f1_score</td><td>0.76109</td></tr><tr><td>f1_score_train</td><td>0.57295</td></tr><tr><td>f1_score_valid</td><td>0.66555</td></tr></table><br/></div></div>"
      ],
      "text/plain": [
       "<IPython.core.display.HTML object>"
      ]
     },
     "metadata": {},
     "output_type": "display_data"
    },
    {
     "data": {
      "text/html": [
       " View run <strong style=\"color:#cdcd00\">crimson-sweep-18</strong> at: <a href='https://wandb.ai/harshmp/truck-delay-classification/runs/0rc6vjl5' target=\"_blank\">https://wandb.ai/harshmp/truck-delay-classification/runs/0rc6vjl5</a><br/>Synced 5 W&B file(s), 7 media file(s), 8 artifact file(s) and 1 other file(s)"
      ],
      "text/plain": [
       "<IPython.core.display.HTML object>"
      ]
     },
     "metadata": {},
     "output_type": "display_data"
    },
    {
     "data": {
      "text/html": [
       "Find logs at: <code>.\\wandb\\run-20240805_173934-0rc6vjl5\\logs</code>"
      ],
      "text/plain": [
       "<IPython.core.display.HTML object>"
      ]
     },
     "metadata": {},
     "output_type": "display_data"
    },
    {
     "name": "stderr",
     "output_type": "stream",
     "text": [
      "wandb: Agent Starting Run: g6l0gvcq with config:\n",
      "wandb: \tmax_depth: 5\n",
      "wandb: \tmin_samples_split: 2\n",
      "wandb: \tn_estimators: 16\n",
      "Failed to detect the name of this notebook, you can set it manually with the WANDB_NOTEBOOK_NAME environment variable to enable code saving.\n",
      "wandb: WARNING Ignored wandb.init() arg project when running a sweep.\n"
     ]
    },
    {
     "data": {
      "application/vnd.jupyter.widget-view+json": {
       "model_id": "e87e2f8c65954fef84592d63af941d47",
       "version_major": 2,
       "version_minor": 0
      },
      "text/plain": [
       "VBox(children=(Label(value='Waiting for wandb.init()...\\r'), FloatProgress(value=0.011288888888925108, max=1.0…"
      ]
     },
     "metadata": {},
     "output_type": "display_data"
    },
    {
     "data": {
      "text/html": [
       "wandb version 0.17.5 is available!  To upgrade, please run:\n",
       " $ pip install wandb --upgrade"
      ],
      "text/plain": [
       "<IPython.core.display.HTML object>"
      ]
     },
     "metadata": {},
     "output_type": "display_data"
    },
    {
     "data": {
      "text/html": [
       "Tracking run with wandb version 0.16.1"
      ],
      "text/plain": [
       "<IPython.core.display.HTML object>"
      ]
     },
     "metadata": {},
     "output_type": "display_data"
    },
    {
     "data": {
      "text/html": [
       "Run data is saved locally in <code>e:\\Artificial Intelligence\\Projects\\Predictive-Truck-Delay-Management-in-Logistics\\wandb\\run-20240805_174003-g6l0gvcq</code>"
      ],
      "text/plain": [
       "<IPython.core.display.HTML object>"
      ]
     },
     "metadata": {},
     "output_type": "display_data"
    },
    {
     "data": {
      "text/html": [
       "Syncing run <strong><a href='https://wandb.ai/harshmp/truck-delay-classification/runs/g6l0gvcq' target=\"_blank\">lilac-sweep-19</a></strong> to <a href='https://wandb.ai/harshmp/truck-delay-classification' target=\"_blank\">Weights & Biases</a> (<a href='https://wandb.me/run' target=\"_blank\">docs</a>)<br/>Sweep page: <a href='https://wandb.ai/harshmp/truck-delay-classification/sweeps/20442i5p' target=\"_blank\">https://wandb.ai/harshmp/truck-delay-classification/sweeps/20442i5p</a>"
      ],
      "text/plain": [
       "<IPython.core.display.HTML object>"
      ]
     },
     "metadata": {},
     "output_type": "display_data"
    },
    {
     "data": {
      "text/html": [
       " View project at <a href='https://wandb.ai/harshmp/truck-delay-classification' target=\"_blank\">https://wandb.ai/harshmp/truck-delay-classification</a>"
      ],
      "text/plain": [
       "<IPython.core.display.HTML object>"
      ]
     },
     "metadata": {},
     "output_type": "display_data"
    },
    {
     "data": {
      "text/html": [
       " View sweep at <a href='https://wandb.ai/harshmp/truck-delay-classification/sweeps/20442i5p' target=\"_blank\">https://wandb.ai/harshmp/truck-delay-classification/sweeps/20442i5p</a>"
      ],
      "text/plain": [
       "<IPython.core.display.HTML object>"
      ]
     },
     "metadata": {},
     "output_type": "display_data"
    },
    {
     "data": {
      "text/html": [
       " View run at <a href='https://wandb.ai/harshmp/truck-delay-classification/runs/g6l0gvcq' target=\"_blank\">https://wandb.ai/harshmp/truck-delay-classification/runs/g6l0gvcq</a>"
      ],
      "text/plain": [
       "<IPython.core.display.HTML object>"
      ]
     },
     "metadata": {},
     "output_type": "display_data"
    },
    {
     "name": "stdout",
     "output_type": "stream",
     "text": [
      "F1_score Train: 0.5729\n",
      "F1_score Valid: 0.6633\n",
      "F1_score Test: 0.7626\n"
     ]
    },
    {
     "name": "stderr",
     "output_type": "stream",
     "text": [
      "wandb: \n",
      "wandb: Plotting RandomForestClassifier.\n",
      "wandb: Logged feature importances.\n",
      "wandb: Logged confusion matrix.\n"
     ]
    },
    {
     "name": "stdout",
     "output_type": "stream",
     "text": [
      "2024-08-05 17:40:09,236 WARNING: DeprecationWarning: Please import `csr_matrix` from the `scipy.sparse` namespace; the `scipy.sparse.csr` namespace is deprecated and will be removed in SciPy 2.0.0.\n",
      "\n"
     ]
    },
    {
     "name": "stderr",
     "output_type": "stream",
     "text": [
      "wandb: Logged summary metrics.\n",
      "wandb: Logged class proportions.\n"
     ]
    },
    {
     "name": "stdout",
     "output_type": "stream",
     "text": [
      "2024-08-05 17:40:10,259 WARNING: DeprecationWarning: Please import `csr_matrix` from the `scipy.sparse` namespace; the `scipy.sparse.csr` namespace is deprecated and will be removed in SciPy 2.0.0.\n",
      "\n"
     ]
    },
    {
     "name": "stderr",
     "output_type": "stream",
     "text": [
      "wandb: Logged calibration curve.\n",
      "wandb: Logged roc curve.\n",
      "wandb: Logged precision-recall curve.\n"
     ]
    },
    {
     "name": "stdout",
     "output_type": "stream",
     "text": [
      "2024-08-05 17:40:23,232 WARNING: DeprecationWarning: Importing display from IPython.core.display is deprecated since IPython 7.14, please import from IPython display\n",
      "\n"
     ]
    },
    {
     "data": {
      "application/vnd.jupyter.widget-view+json": {
       "model_id": "dfcb0e49eb0e4b65b8e76492dfa11016",
       "version_major": 2,
       "version_minor": 0
      },
      "text/plain": [
       "VBox(children=(Label(value='0.210 MB of 0.210 MB uploaded\\r'), FloatProgress(value=1.0, max=1.0)))"
      ]
     },
     "metadata": {},
     "output_type": "display_data"
    },
    {
     "name": "stdout",
     "output_type": "stream",
     "text": [
      "2024-08-05 17:40:27,245 WARNING: DeprecationWarning: Importing display from IPython.core.display is deprecated since IPython 7.14, please import from IPython display\n",
      "\n"
     ]
    },
    {
     "data": {
      "text/html": [
       "<style>\n",
       "    table.wandb td:nth-child(1) { padding: 0 10px; text-align: left ; width: auto;} td:nth-child(2) {text-align: left ; width: 100%}\n",
       "    .wandb-row { display: flex; flex-direction: row; flex-wrap: wrap; justify-content: flex-start; width: 100% }\n",
       "    .wandb-col { display: flex; flex-direction: column; flex-basis: 100%; flex: 1; padding: 10px; }\n",
       "    </style>\n",
       "<div class=\"wandb-row\"><div class=\"wandb-col\"><h3>Run history:</h3><br/><table class=\"wandb\"><tr><td>f1_score</td><td>▁</td></tr><tr><td>f1_score_train</td><td>▁</td></tr><tr><td>f1_score_valid</td><td>▁</td></tr></table><br/></div><div class=\"wandb-col\"><h3>Run summary:</h3><br/><table class=\"wandb\"><tr><td>f1_score</td><td>0.7626</td></tr><tr><td>f1_score_train</td><td>0.57295</td></tr><tr><td>f1_score_valid</td><td>0.66334</td></tr></table><br/></div></div>"
      ],
      "text/plain": [
       "<IPython.core.display.HTML object>"
      ]
     },
     "metadata": {},
     "output_type": "display_data"
    },
    {
     "data": {
      "text/html": [
       " View run <strong style=\"color:#cdcd00\">lilac-sweep-19</strong> at: <a href='https://wandb.ai/harshmp/truck-delay-classification/runs/g6l0gvcq' target=\"_blank\">https://wandb.ai/harshmp/truck-delay-classification/runs/g6l0gvcq</a><br/>Synced 5 W&B file(s), 7 media file(s), 8 artifact file(s) and 1 other file(s)"
      ],
      "text/plain": [
       "<IPython.core.display.HTML object>"
      ]
     },
     "metadata": {},
     "output_type": "display_data"
    },
    {
     "data": {
      "text/html": [
       "Find logs at: <code>.\\wandb\\run-20240805_174003-g6l0gvcq\\logs</code>"
      ],
      "text/plain": [
       "<IPython.core.display.HTML object>"
      ]
     },
     "metadata": {},
     "output_type": "display_data"
    },
    {
     "name": "stderr",
     "output_type": "stream",
     "text": [
      "wandb: Sweep Agent: Waiting for job.\n",
      "wandb: Job received.\n",
      "wandb: Agent Starting Run: 0izqr7yf with config:\n",
      "wandb: \tmax_depth: 5\n",
      "wandb: \tmin_samples_split: 2\n",
      "wandb: \tn_estimators: 20\n",
      "Failed to detect the name of this notebook, you can set it manually with the WANDB_NOTEBOOK_NAME environment variable to enable code saving.\n",
      "wandb: WARNING Ignored wandb.init() arg project when running a sweep.\n"
     ]
    },
    {
     "data": {
      "text/html": [
       "wandb version 0.17.5 is available!  To upgrade, please run:\n",
       " $ pip install wandb --upgrade"
      ],
      "text/plain": [
       "<IPython.core.display.HTML object>"
      ]
     },
     "metadata": {},
     "output_type": "display_data"
    },
    {
     "data": {
      "text/html": [
       "Tracking run with wandb version 0.16.1"
      ],
      "text/plain": [
       "<IPython.core.display.HTML object>"
      ]
     },
     "metadata": {},
     "output_type": "display_data"
    },
    {
     "data": {
      "text/html": [
       "Run data is saved locally in <code>e:\\Artificial Intelligence\\Projects\\Predictive-Truck-Delay-Management-in-Logistics\\wandb\\run-20240805_174044-0izqr7yf</code>"
      ],
      "text/plain": [
       "<IPython.core.display.HTML object>"
      ]
     },
     "metadata": {},
     "output_type": "display_data"
    },
    {
     "data": {
      "text/html": [
       "Syncing run <strong><a href='https://wandb.ai/harshmp/truck-delay-classification/runs/0izqr7yf' target=\"_blank\">comfy-sweep-20</a></strong> to <a href='https://wandb.ai/harshmp/truck-delay-classification' target=\"_blank\">Weights & Biases</a> (<a href='https://wandb.me/run' target=\"_blank\">docs</a>)<br/>Sweep page: <a href='https://wandb.ai/harshmp/truck-delay-classification/sweeps/20442i5p' target=\"_blank\">https://wandb.ai/harshmp/truck-delay-classification/sweeps/20442i5p</a>"
      ],
      "text/plain": [
       "<IPython.core.display.HTML object>"
      ]
     },
     "metadata": {},
     "output_type": "display_data"
    },
    {
     "data": {
      "text/html": [
       " View project at <a href='https://wandb.ai/harshmp/truck-delay-classification' target=\"_blank\">https://wandb.ai/harshmp/truck-delay-classification</a>"
      ],
      "text/plain": [
       "<IPython.core.display.HTML object>"
      ]
     },
     "metadata": {},
     "output_type": "display_data"
    },
    {
     "data": {
      "text/html": [
       " View sweep at <a href='https://wandb.ai/harshmp/truck-delay-classification/sweeps/20442i5p' target=\"_blank\">https://wandb.ai/harshmp/truck-delay-classification/sweeps/20442i5p</a>"
      ],
      "text/plain": [
       "<IPython.core.display.HTML object>"
      ]
     },
     "metadata": {},
     "output_type": "display_data"
    },
    {
     "data": {
      "text/html": [
       " View run at <a href='https://wandb.ai/harshmp/truck-delay-classification/runs/0izqr7yf' target=\"_blank\">https://wandb.ai/harshmp/truck-delay-classification/runs/0izqr7yf</a>"
      ],
      "text/plain": [
       "<IPython.core.display.HTML object>"
      ]
     },
     "metadata": {},
     "output_type": "display_data"
    },
    {
     "name": "stdout",
     "output_type": "stream",
     "text": [
      "F1_score Train: 0.5715\n",
      "F1_score Valid: 0.6641\n",
      "F1_score Test: 0.7618\n"
     ]
    },
    {
     "name": "stderr",
     "output_type": "stream",
     "text": [
      "wandb: \n",
      "wandb: Plotting RandomForestClassifier.\n",
      "wandb: Logged feature importances.\n",
      "wandb: Logged confusion matrix.\n"
     ]
    },
    {
     "name": "stdout",
     "output_type": "stream",
     "text": [
      "2024-08-05 17:40:48,323 WARNING: DeprecationWarning: Please import `csr_matrix` from the `scipy.sparse` namespace; the `scipy.sparse.csr` namespace is deprecated and will be removed in SciPy 2.0.0.\n",
      "\n"
     ]
    },
    {
     "name": "stderr",
     "output_type": "stream",
     "text": [
      "wandb: Logged summary metrics.\n",
      "wandb: Logged class proportions.\n"
     ]
    },
    {
     "name": "stdout",
     "output_type": "stream",
     "text": [
      "2024-08-05 17:40:49,564 WARNING: DeprecationWarning: Please import `csr_matrix` from the `scipy.sparse` namespace; the `scipy.sparse.csr` namespace is deprecated and will be removed in SciPy 2.0.0.\n",
      "\n"
     ]
    },
    {
     "name": "stderr",
     "output_type": "stream",
     "text": [
      "wandb: Logged calibration curve.\n",
      "wandb: Logged roc curve.\n",
      "wandb: Logged precision-recall curve.\n"
     ]
    },
    {
     "name": "stdout",
     "output_type": "stream",
     "text": [
      "2024-08-05 17:41:11,076 WARNING: DeprecationWarning: Importing display from IPython.core.display is deprecated since IPython 7.14, please import from IPython display\n",
      "\n"
     ]
    },
    {
     "data": {
      "application/vnd.jupyter.widget-view+json": {
       "model_id": "60178f35e7b74a37a107d9a348e87cf0",
       "version_major": 2,
       "version_minor": 0
      },
      "text/plain": [
       "VBox(children=(Label(value='0.239 MB of 0.239 MB uploaded\\r'), FloatProgress(value=1.0, max=1.0)))"
      ]
     },
     "metadata": {},
     "output_type": "display_data"
    },
    {
     "name": "stdout",
     "output_type": "stream",
     "text": [
      "2024-08-05 17:41:15,914 WARNING: DeprecationWarning: Importing display from IPython.core.display is deprecated since IPython 7.14, please import from IPython display\n",
      "\n"
     ]
    },
    {
     "data": {
      "text/html": [
       "<style>\n",
       "    table.wandb td:nth-child(1) { padding: 0 10px; text-align: left ; width: auto;} td:nth-child(2) {text-align: left ; width: 100%}\n",
       "    .wandb-row { display: flex; flex-direction: row; flex-wrap: wrap; justify-content: flex-start; width: 100% }\n",
       "    .wandb-col { display: flex; flex-direction: column; flex-basis: 100%; flex: 1; padding: 10px; }\n",
       "    </style>\n",
       "<div class=\"wandb-row\"><div class=\"wandb-col\"><h3>Run history:</h3><br/><table class=\"wandb\"><tr><td>f1_score</td><td>▁</td></tr><tr><td>f1_score_train</td><td>▁</td></tr><tr><td>f1_score_valid</td><td>▁</td></tr></table><br/></div><div class=\"wandb-col\"><h3>Run summary:</h3><br/><table class=\"wandb\"><tr><td>f1_score</td><td>0.76185</td></tr><tr><td>f1_score_train</td><td>0.57152</td></tr><tr><td>f1_score_valid</td><td>0.66408</td></tr></table><br/></div></div>"
      ],
      "text/plain": [
       "<IPython.core.display.HTML object>"
      ]
     },
     "metadata": {},
     "output_type": "display_data"
    },
    {
     "data": {
      "text/html": [
       " View run <strong style=\"color:#cdcd00\">comfy-sweep-20</strong> at: <a href='https://wandb.ai/harshmp/truck-delay-classification/runs/0izqr7yf' target=\"_blank\">https://wandb.ai/harshmp/truck-delay-classification/runs/0izqr7yf</a><br/>Synced 5 W&B file(s), 7 media file(s), 8 artifact file(s) and 1 other file(s)"
      ],
      "text/plain": [
       "<IPython.core.display.HTML object>"
      ]
     },
     "metadata": {},
     "output_type": "display_data"
    },
    {
     "data": {
      "text/html": [
       "Find logs at: <code>.\\wandb\\run-20240805_174044-0izqr7yf\\logs</code>"
      ],
      "text/plain": [
       "<IPython.core.display.HTML object>"
      ]
     },
     "metadata": {},
     "output_type": "display_data"
    },
    {
     "name": "stderr",
     "output_type": "stream",
     "text": [
      "wandb: Agent Starting Run: d03kynkj with config:\n",
      "wandb: \tmax_depth: 5\n",
      "wandb: \tmin_samples_split: 4\n",
      "wandb: \tn_estimators: 8\n",
      "Failed to detect the name of this notebook, you can set it manually with the WANDB_NOTEBOOK_NAME environment variable to enable code saving.\n",
      "wandb: WARNING Ignored wandb.init() arg project when running a sweep.\n"
     ]
    },
    {
     "data": {
      "text/html": [
       "wandb version 0.17.5 is available!  To upgrade, please run:\n",
       " $ pip install wandb --upgrade"
      ],
      "text/plain": [
       "<IPython.core.display.HTML object>"
      ]
     },
     "metadata": {},
     "output_type": "display_data"
    },
    {
     "data": {
      "text/html": [
       "Tracking run with wandb version 0.16.1"
      ],
      "text/plain": [
       "<IPython.core.display.HTML object>"
      ]
     },
     "metadata": {},
     "output_type": "display_data"
    },
    {
     "data": {
      "text/html": [
       "Run data is saved locally in <code>e:\\Artificial Intelligence\\Projects\\Predictive-Truck-Delay-Management-in-Logistics\\wandb\\run-20240805_174125-d03kynkj</code>"
      ],
      "text/plain": [
       "<IPython.core.display.HTML object>"
      ]
     },
     "metadata": {},
     "output_type": "display_data"
    },
    {
     "data": {
      "text/html": [
       "Syncing run <strong><a href='https://wandb.ai/harshmp/truck-delay-classification/runs/d03kynkj' target=\"_blank\">brisk-sweep-21</a></strong> to <a href='https://wandb.ai/harshmp/truck-delay-classification' target=\"_blank\">Weights & Biases</a> (<a href='https://wandb.me/run' target=\"_blank\">docs</a>)<br/>Sweep page: <a href='https://wandb.ai/harshmp/truck-delay-classification/sweeps/20442i5p' target=\"_blank\">https://wandb.ai/harshmp/truck-delay-classification/sweeps/20442i5p</a>"
      ],
      "text/plain": [
       "<IPython.core.display.HTML object>"
      ]
     },
     "metadata": {},
     "output_type": "display_data"
    },
    {
     "data": {
      "text/html": [
       " View project at <a href='https://wandb.ai/harshmp/truck-delay-classification' target=\"_blank\">https://wandb.ai/harshmp/truck-delay-classification</a>"
      ],
      "text/plain": [
       "<IPython.core.display.HTML object>"
      ]
     },
     "metadata": {},
     "output_type": "display_data"
    },
    {
     "data": {
      "text/html": [
       " View sweep at <a href='https://wandb.ai/harshmp/truck-delay-classification/sweeps/20442i5p' target=\"_blank\">https://wandb.ai/harshmp/truck-delay-classification/sweeps/20442i5p</a>"
      ],
      "text/plain": [
       "<IPython.core.display.HTML object>"
      ]
     },
     "metadata": {},
     "output_type": "display_data"
    },
    {
     "data": {
      "text/html": [
       " View run at <a href='https://wandb.ai/harshmp/truck-delay-classification/runs/d03kynkj' target=\"_blank\">https://wandb.ai/harshmp/truck-delay-classification/runs/d03kynkj</a>"
      ],
      "text/plain": [
       "<IPython.core.display.HTML object>"
      ]
     },
     "metadata": {},
     "output_type": "display_data"
    },
    {
     "name": "stdout",
     "output_type": "stream",
     "text": [
      "F1_score Train: 0.5708\n",
      "F1_score Valid: 0.6619\n",
      "F1_score Test: 0.7587\n"
     ]
    },
    {
     "name": "stderr",
     "output_type": "stream",
     "text": [
      "wandb: \n",
      "wandb: Plotting RandomForestClassifier.\n",
      "wandb: Logged feature importances.\n",
      "wandb: Logged confusion matrix.\n"
     ]
    },
    {
     "name": "stdout",
     "output_type": "stream",
     "text": [
      "2024-08-05 17:41:27,889 WARNING: DeprecationWarning: Please import `csr_matrix` from the `scipy.sparse` namespace; the `scipy.sparse.csr` namespace is deprecated and will be removed in SciPy 2.0.0.\n",
      "\n"
     ]
    },
    {
     "name": "stderr",
     "output_type": "stream",
     "text": [
      "wandb: Logged summary metrics.\n",
      "wandb: Logged class proportions.\n"
     ]
    },
    {
     "name": "stdout",
     "output_type": "stream",
     "text": [
      "2024-08-05 17:41:28,987 WARNING: DeprecationWarning: Please import `csr_matrix` from the `scipy.sparse` namespace; the `scipy.sparse.csr` namespace is deprecated and will be removed in SciPy 2.0.0.\n",
      "\n"
     ]
    },
    {
     "name": "stderr",
     "output_type": "stream",
     "text": [
      "wandb: Logged calibration curve.\n",
      "wandb: Logged roc curve.\n",
      "wandb: Logged precision-recall curve.\n"
     ]
    },
    {
     "name": "stdout",
     "output_type": "stream",
     "text": [
      "2024-08-05 17:41:41,572 WARNING: DeprecationWarning: Importing display from IPython.core.display is deprecated since IPython 7.14, please import from IPython display\n",
      "\n"
     ]
    },
    {
     "data": {
      "application/vnd.jupyter.widget-view+json": {
       "model_id": "f5424a25480c49928c9d75df72405732",
       "version_major": 2,
       "version_minor": 0
      },
      "text/plain": [
       "VBox(children=(Label(value='0.147 MB of 0.147 MB uploaded\\r'), FloatProgress(value=1.0, max=1.0)))"
      ]
     },
     "metadata": {},
     "output_type": "display_data"
    },
    {
     "name": "stdout",
     "output_type": "stream",
     "text": [
      "2024-08-05 17:41:44,761 WARNING: DeprecationWarning: Importing display from IPython.core.display is deprecated since IPython 7.14, please import from IPython display\n",
      "\n"
     ]
    },
    {
     "data": {
      "text/html": [
       "<style>\n",
       "    table.wandb td:nth-child(1) { padding: 0 10px; text-align: left ; width: auto;} td:nth-child(2) {text-align: left ; width: 100%}\n",
       "    .wandb-row { display: flex; flex-direction: row; flex-wrap: wrap; justify-content: flex-start; width: 100% }\n",
       "    .wandb-col { display: flex; flex-direction: column; flex-basis: 100%; flex: 1; padding: 10px; }\n",
       "    </style>\n",
       "<div class=\"wandb-row\"><div class=\"wandb-col\"><h3>Run history:</h3><br/><table class=\"wandb\"><tr><td>f1_score</td><td>▁</td></tr><tr><td>f1_score_train</td><td>▁</td></tr><tr><td>f1_score_valid</td><td>▁</td></tr></table><br/></div><div class=\"wandb-col\"><h3>Run summary:</h3><br/><table class=\"wandb\"><tr><td>f1_score</td><td>0.75875</td></tr><tr><td>f1_score_train</td><td>0.57079</td></tr><tr><td>f1_score_valid</td><td>0.66191</td></tr></table><br/></div></div>"
      ],
      "text/plain": [
       "<IPython.core.display.HTML object>"
      ]
     },
     "metadata": {},
     "output_type": "display_data"
    },
    {
     "data": {
      "text/html": [
       " View run <strong style=\"color:#cdcd00\">brisk-sweep-21</strong> at: <a href='https://wandb.ai/harshmp/truck-delay-classification/runs/d03kynkj' target=\"_blank\">https://wandb.ai/harshmp/truck-delay-classification/runs/d03kynkj</a><br/>Synced 5 W&B file(s), 7 media file(s), 8 artifact file(s) and 1 other file(s)"
      ],
      "text/plain": [
       "<IPython.core.display.HTML object>"
      ]
     },
     "metadata": {},
     "output_type": "display_data"
    },
    {
     "data": {
      "text/html": [
       "Find logs at: <code>.\\wandb\\run-20240805_174125-d03kynkj\\logs</code>"
      ],
      "text/plain": [
       "<IPython.core.display.HTML object>"
      ]
     },
     "metadata": {},
     "output_type": "display_data"
    },
    {
     "name": "stderr",
     "output_type": "stream",
     "text": [
      "wandb: Agent Starting Run: vfkb31jk with config:\n",
      "wandb: \tmax_depth: 5\n",
      "wandb: \tmin_samples_split: 4\n",
      "wandb: \tn_estimators: 12\n",
      "Failed to detect the name of this notebook, you can set it manually with the WANDB_NOTEBOOK_NAME environment variable to enable code saving.\n",
      "wandb: WARNING Ignored wandb.init() arg project when running a sweep.\n"
     ]
    },
    {
     "data": {
      "text/html": [
       "wandb version 0.17.5 is available!  To upgrade, please run:\n",
       " $ pip install wandb --upgrade"
      ],
      "text/plain": [
       "<IPython.core.display.HTML object>"
      ]
     },
     "metadata": {},
     "output_type": "display_data"
    },
    {
     "data": {
      "text/html": [
       "Tracking run with wandb version 0.16.1"
      ],
      "text/plain": [
       "<IPython.core.display.HTML object>"
      ]
     },
     "metadata": {},
     "output_type": "display_data"
    },
    {
     "data": {
      "text/html": [
       "Run data is saved locally in <code>e:\\Artificial Intelligence\\Projects\\Predictive-Truck-Delay-Management-in-Logistics\\wandb\\run-20240805_174155-vfkb31jk</code>"
      ],
      "text/plain": [
       "<IPython.core.display.HTML object>"
      ]
     },
     "metadata": {},
     "output_type": "display_data"
    },
    {
     "data": {
      "text/html": [
       "Syncing run <strong><a href='https://wandb.ai/harshmp/truck-delay-classification/runs/vfkb31jk' target=\"_blank\">spring-sweep-22</a></strong> to <a href='https://wandb.ai/harshmp/truck-delay-classification' target=\"_blank\">Weights & Biases</a> (<a href='https://wandb.me/run' target=\"_blank\">docs</a>)<br/>Sweep page: <a href='https://wandb.ai/harshmp/truck-delay-classification/sweeps/20442i5p' target=\"_blank\">https://wandb.ai/harshmp/truck-delay-classification/sweeps/20442i5p</a>"
      ],
      "text/plain": [
       "<IPython.core.display.HTML object>"
      ]
     },
     "metadata": {},
     "output_type": "display_data"
    },
    {
     "data": {
      "text/html": [
       " View project at <a href='https://wandb.ai/harshmp/truck-delay-classification' target=\"_blank\">https://wandb.ai/harshmp/truck-delay-classification</a>"
      ],
      "text/plain": [
       "<IPython.core.display.HTML object>"
      ]
     },
     "metadata": {},
     "output_type": "display_data"
    },
    {
     "data": {
      "text/html": [
       " View sweep at <a href='https://wandb.ai/harshmp/truck-delay-classification/sweeps/20442i5p' target=\"_blank\">https://wandb.ai/harshmp/truck-delay-classification/sweeps/20442i5p</a>"
      ],
      "text/plain": [
       "<IPython.core.display.HTML object>"
      ]
     },
     "metadata": {},
     "output_type": "display_data"
    },
    {
     "data": {
      "text/html": [
       " View run at <a href='https://wandb.ai/harshmp/truck-delay-classification/runs/vfkb31jk' target=\"_blank\">https://wandb.ai/harshmp/truck-delay-classification/runs/vfkb31jk</a>"
      ],
      "text/plain": [
       "<IPython.core.display.HTML object>"
      ]
     },
     "metadata": {},
     "output_type": "display_data"
    },
    {
     "name": "stdout",
     "output_type": "stream",
     "text": [
      "F1_score Train: 0.5692\n",
      "F1_score Valid: 0.6674\n",
      "F1_score Test: 0.7588\n"
     ]
    },
    {
     "name": "stderr",
     "output_type": "stream",
     "text": [
      "wandb: \n",
      "wandb: Plotting RandomForestClassifier.\n",
      "wandb: Logged feature importances.\n",
      "wandb: Logged confusion matrix.\n"
     ]
    },
    {
     "name": "stdout",
     "output_type": "stream",
     "text": [
      "2024-08-05 17:41:58,865 WARNING: DeprecationWarning: Please import `csr_matrix` from the `scipy.sparse` namespace; the `scipy.sparse.csr` namespace is deprecated and will be removed in SciPy 2.0.0.\n",
      "\n"
     ]
    },
    {
     "name": "stderr",
     "output_type": "stream",
     "text": [
      "wandb: Logged summary metrics.\n",
      "wandb: Logged class proportions.\n"
     ]
    },
    {
     "name": "stdout",
     "output_type": "stream",
     "text": [
      "2024-08-05 17:42:00,165 WARNING: DeprecationWarning: Please import `csr_matrix` from the `scipy.sparse` namespace; the `scipy.sparse.csr` namespace is deprecated and will be removed in SciPy 2.0.0.\n",
      "\n"
     ]
    },
    {
     "name": "stderr",
     "output_type": "stream",
     "text": [
      "wandb: Logged calibration curve.\n",
      "wandb: Logged roc curve.\n",
      "wandb: Logged precision-recall curve.\n"
     ]
    },
    {
     "name": "stdout",
     "output_type": "stream",
     "text": [
      "2024-08-05 17:42:16,839 WARNING: DeprecationWarning: Importing display from IPython.core.display is deprecated since IPython 7.14, please import from IPython display\n",
      "\n"
     ]
    },
    {
     "data": {
      "application/vnd.jupyter.widget-view+json": {
       "model_id": "5d3e45fdf3904421aa4deb6b8dfd40da",
       "version_major": 2,
       "version_minor": 0
      },
      "text/plain": [
       "VBox(children=(Label(value='0.178 MB of 0.178 MB uploaded\\r'), FloatProgress(value=1.0, max=1.0)))"
      ]
     },
     "metadata": {},
     "output_type": "display_data"
    },
    {
     "name": "stdout",
     "output_type": "stream",
     "text": [
      "2024-08-05 17:42:24,896 WARNING: DeprecationWarning: Importing display from IPython.core.display is deprecated since IPython 7.14, please import from IPython display\n",
      "\n"
     ]
    },
    {
     "data": {
      "text/html": [
       "<style>\n",
       "    table.wandb td:nth-child(1) { padding: 0 10px; text-align: left ; width: auto;} td:nth-child(2) {text-align: left ; width: 100%}\n",
       "    .wandb-row { display: flex; flex-direction: row; flex-wrap: wrap; justify-content: flex-start; width: 100% }\n",
       "    .wandb-col { display: flex; flex-direction: column; flex-basis: 100%; flex: 1; padding: 10px; }\n",
       "    </style>\n",
       "<div class=\"wandb-row\"><div class=\"wandb-col\"><h3>Run history:</h3><br/><table class=\"wandb\"><tr><td>f1_score</td><td>▁</td></tr><tr><td>f1_score_train</td><td>▁</td></tr><tr><td>f1_score_valid</td><td>▁</td></tr></table><br/></div><div class=\"wandb-col\"><h3>Run summary:</h3><br/><table class=\"wandb\"><tr><td>f1_score</td><td>0.75883</td></tr><tr><td>f1_score_train</td><td>0.56923</td></tr><tr><td>f1_score_valid</td><td>0.66741</td></tr></table><br/></div></div>"
      ],
      "text/plain": [
       "<IPython.core.display.HTML object>"
      ]
     },
     "metadata": {},
     "output_type": "display_data"
    },
    {
     "data": {
      "text/html": [
       " View run <strong style=\"color:#cdcd00\">spring-sweep-22</strong> at: <a href='https://wandb.ai/harshmp/truck-delay-classification/runs/vfkb31jk' target=\"_blank\">https://wandb.ai/harshmp/truck-delay-classification/runs/vfkb31jk</a><br/>Synced 5 W&B file(s), 7 media file(s), 8 artifact file(s) and 1 other file(s)"
      ],
      "text/plain": [
       "<IPython.core.display.HTML object>"
      ]
     },
     "metadata": {},
     "output_type": "display_data"
    },
    {
     "data": {
      "text/html": [
       "Find logs at: <code>.\\wandb\\run-20240805_174155-vfkb31jk\\logs</code>"
      ],
      "text/plain": [
       "<IPython.core.display.HTML object>"
      ]
     },
     "metadata": {},
     "output_type": "display_data"
    },
    {
     "name": "stderr",
     "output_type": "stream",
     "text": [
      "wandb: Sweep Agent: Waiting for job.\n",
      "wandb: Job received.\n",
      "wandb: Agent Starting Run: om15c1tw with config:\n",
      "wandb: \tmax_depth: 5\n",
      "wandb: \tmin_samples_split: 4\n",
      "wandb: \tn_estimators: 16\n",
      "Failed to detect the name of this notebook, you can set it manually with the WANDB_NOTEBOOK_NAME environment variable to enable code saving.\n",
      "wandb: WARNING Ignored wandb.init() arg project when running a sweep.\n"
     ]
    },
    {
     "data": {
      "text/html": [
       "wandb version 0.17.5 is available!  To upgrade, please run:\n",
       " $ pip install wandb --upgrade"
      ],
      "text/plain": [
       "<IPython.core.display.HTML object>"
      ]
     },
     "metadata": {},
     "output_type": "display_data"
    },
    {
     "data": {
      "text/html": [
       "Tracking run with wandb version 0.16.1"
      ],
      "text/plain": [
       "<IPython.core.display.HTML object>"
      ]
     },
     "metadata": {},
     "output_type": "display_data"
    },
    {
     "data": {
      "text/html": [
       "Run data is saved locally in <code>e:\\Artificial Intelligence\\Projects\\Predictive-Truck-Delay-Management-in-Logistics\\wandb\\run-20240805_174241-om15c1tw</code>"
      ],
      "text/plain": [
       "<IPython.core.display.HTML object>"
      ]
     },
     "metadata": {},
     "output_type": "display_data"
    },
    {
     "data": {
      "text/html": [
       "Syncing run <strong><a href='https://wandb.ai/harshmp/truck-delay-classification/runs/om15c1tw' target=\"_blank\">summer-sweep-23</a></strong> to <a href='https://wandb.ai/harshmp/truck-delay-classification' target=\"_blank\">Weights & Biases</a> (<a href='https://wandb.me/run' target=\"_blank\">docs</a>)<br/>Sweep page: <a href='https://wandb.ai/harshmp/truck-delay-classification/sweeps/20442i5p' target=\"_blank\">https://wandb.ai/harshmp/truck-delay-classification/sweeps/20442i5p</a>"
      ],
      "text/plain": [
       "<IPython.core.display.HTML object>"
      ]
     },
     "metadata": {},
     "output_type": "display_data"
    },
    {
     "data": {
      "text/html": [
       " View project at <a href='https://wandb.ai/harshmp/truck-delay-classification' target=\"_blank\">https://wandb.ai/harshmp/truck-delay-classification</a>"
      ],
      "text/plain": [
       "<IPython.core.display.HTML object>"
      ]
     },
     "metadata": {},
     "output_type": "display_data"
    },
    {
     "data": {
      "text/html": [
       " View sweep at <a href='https://wandb.ai/harshmp/truck-delay-classification/sweeps/20442i5p' target=\"_blank\">https://wandb.ai/harshmp/truck-delay-classification/sweeps/20442i5p</a>"
      ],
      "text/plain": [
       "<IPython.core.display.HTML object>"
      ]
     },
     "metadata": {},
     "output_type": "display_data"
    },
    {
     "data": {
      "text/html": [
       " View run at <a href='https://wandb.ai/harshmp/truck-delay-classification/runs/om15c1tw' target=\"_blank\">https://wandb.ai/harshmp/truck-delay-classification/runs/om15c1tw</a>"
      ],
      "text/plain": [
       "<IPython.core.display.HTML object>"
      ]
     },
     "metadata": {},
     "output_type": "display_data"
    },
    {
     "name": "stdout",
     "output_type": "stream",
     "text": [
      "F1_score Train: 0.5706\n",
      "F1_score Valid: 0.6667\n",
      "F1_score Test: 0.7623\n"
     ]
    },
    {
     "name": "stderr",
     "output_type": "stream",
     "text": [
      "wandb: \n",
      "wandb: Plotting RandomForestClassifier.\n",
      "Traceback (most recent call last):\n",
      "  File \"C:\\Users\\harsh\\AppData\\Local\\Temp\\ipykernel_18532\\2640226391.py\", line 44, in train_rf_model\n",
      "    wandb.sklearn.plot_classifier(model, X_train, X_test, y_train, y_test, y_preds, y_probas, labels=None,\n",
      "  File \"c:\\Users\\harsh\\anaconda3\\envs\\truck-delay\\lib\\site-packages\\wandb\\sklearn\\plot\\classifier.py\", line 82, in classifier\n",
      "    feature_importances(model, feature_names)\n",
      "  File \"c:\\Users\\harsh\\anaconda3\\envs\\truck-delay\\lib\\site-packages\\wandb\\sklearn\\plot\\classifier.py\", line 250, in feature_importances\n",
      "    wandb.log({\"feature_importances\": feature_importance_chart})\n",
      "  File \"c:\\Users\\harsh\\anaconda3\\envs\\truck-delay\\lib\\site-packages\\wandb\\sdk\\wandb_run.py\", line 420, in wrapper\n",
      "    return func(self, *args, **kwargs)\n",
      "  File \"c:\\Users\\harsh\\anaconda3\\envs\\truck-delay\\lib\\site-packages\\wandb\\sdk\\wandb_run.py\", line 371, in wrapper_fn\n",
      "    return func(self, *args, **kwargs)\n",
      "  File \"c:\\Users\\harsh\\anaconda3\\envs\\truck-delay\\lib\\site-packages\\wandb\\sdk\\wandb_run.py\", line 361, in wrapper\n",
      "    return func(self, *args, **kwargs)\n",
      "  File \"c:\\Users\\harsh\\anaconda3\\envs\\truck-delay\\lib\\site-packages\\wandb\\sdk\\wandb_run.py\", line 1820, in log\n",
      "    self._log(data=data, step=step, commit=commit)\n",
      "  File \"c:\\Users\\harsh\\anaconda3\\envs\\truck-delay\\lib\\site-packages\\wandb\\sdk\\wandb_run.py\", line 1595, in _log\n",
      "    self._partial_history_callback(data, step, commit)\n",
      "  File \"c:\\Users\\harsh\\anaconda3\\envs\\truck-delay\\lib\\site-packages\\wandb\\sdk\\wandb_run.py\", line 1467, in _partial_history_callback\n",
      "    self._backend.interface.publish_partial_history(\n",
      "  File \"c:\\Users\\harsh\\anaconda3\\envs\\truck-delay\\lib\\site-packages\\wandb\\sdk\\interface\\interface.py\", line 549, in publish_partial_history\n",
      "    data = history_dict_to_json(run, data, step=user_step, ignore_copy_err=True)\n",
      "  File \"c:\\Users\\harsh\\anaconda3\\envs\\truck-delay\\lib\\site-packages\\wandb\\sdk\\data_types\\utils.py\", line 52, in history_dict_to_json\n",
      "    payload[key] = val_to_json(\n",
      "  File \"c:\\Users\\harsh\\anaconda3\\envs\\truck-delay\\lib\\site-packages\\wandb\\sdk\\data_types\\utils.py\", line 164, in val_to_json\n",
      "    val.bind_to_run(run, key, namespace)\n",
      "  File \"c:\\Users\\harsh\\anaconda3\\envs\\truck-delay\\lib\\site-packages\\wandb\\data_types.py\", line 541, in bind_to_run\n",
      "    with codecs.open(tmp_path, \"w\", encoding=\"utf-8\") as fp:\n",
      "  File \"c:\\Users\\harsh\\anaconda3\\envs\\truck-delay\\lib\\codecs.py\", line 905, in open\n",
      "    file = builtins.open(filename, mode, buffering)\n",
      "FileNotFoundError: [Errno 2] No such file or directory: 'C:\\\\Users\\\\harsh\\\\AppData\\\\Local\\\\Temp\\\\tmpqphwv_07wandb-media\\\\enimpjdx.table.json'\n"
     ]
    },
    {
     "name": "stdout",
     "output_type": "stream",
     "text": [
      "2024-08-05 17:42:45,944 WARNING: DeprecationWarning: Importing display from IPython.core.display is deprecated since IPython 7.14, please import from IPython display\n",
      "\n"
     ]
    },
    {
     "data": {
      "application/vnd.jupyter.widget-view+json": {
       "model_id": "4d93739ac700432da5388e93af46ec4a",
       "version_major": 2,
       "version_minor": 0
      },
      "text/plain": [
       "VBox(children=(Label(value='0.009 MB of 0.009 MB uploaded\\r'), FloatProgress(value=1.0, max=1.0)))"
      ]
     },
     "metadata": {},
     "output_type": "display_data"
    },
    {
     "name": "stdout",
     "output_type": "stream",
     "text": [
      "2024-08-05 17:42:50,599 WARNING: DeprecationWarning: Importing display from IPython.core.display is deprecated since IPython 7.14, please import from IPython display\n",
      "\n"
     ]
    },
    {
     "data": {
      "text/html": [
       "<style>\n",
       "    table.wandb td:nth-child(1) { padding: 0 10px; text-align: left ; width: auto;} td:nth-child(2) {text-align: left ; width: 100%}\n",
       "    .wandb-row { display: flex; flex-direction: row; flex-wrap: wrap; justify-content: flex-start; width: 100% }\n",
       "    .wandb-col { display: flex; flex-direction: column; flex-basis: 100%; flex: 1; padding: 10px; }\n",
       "    </style>\n",
       "<div class=\"wandb-row\"><div class=\"wandb-col\"><h3>Run history:</h3><br/><table class=\"wandb\"><tr><td>f1_score</td><td>▁</td></tr><tr><td>f1_score_train</td><td>▁</td></tr><tr><td>f1_score_valid</td><td>▁</td></tr></table><br/></div><div class=\"wandb-col\"><h3>Run summary:</h3><br/><table class=\"wandb\"><tr><td>f1_score</td><td>0.76231</td></tr><tr><td>f1_score_train</td><td>0.57061</td></tr><tr><td>f1_score_valid</td><td>0.66667</td></tr></table><br/></div></div>"
      ],
      "text/plain": [
       "<IPython.core.display.HTML object>"
      ]
     },
     "metadata": {},
     "output_type": "display_data"
    },
    {
     "data": {
      "text/html": [
       " View run <strong style=\"color:#cdcd00\">summer-sweep-23</strong> at: <a href='https://wandb.ai/harshmp/truck-delay-classification/runs/om15c1tw' target=\"_blank\">https://wandb.ai/harshmp/truck-delay-classification/runs/om15c1tw</a><br/>Synced 5 W&B file(s), 0 media file(s), 1 artifact file(s) and 0 other file(s)"
      ],
      "text/plain": [
       "<IPython.core.display.HTML object>"
      ]
     },
     "metadata": {},
     "output_type": "display_data"
    },
    {
     "data": {
      "text/html": [
       "Find logs at: <code>.\\wandb\\run-20240805_174241-om15c1tw\\logs</code>"
      ],
      "text/plain": [
       "<IPython.core.display.HTML object>"
      ]
     },
     "metadata": {},
     "output_type": "display_data"
    },
    {
     "name": "stderr",
     "output_type": "stream",
     "text": [
      "Run om15c1tw errored: FileNotFoundError(2, 'No such file or directory')\n",
      "wandb: ERROR Run om15c1tw errored: FileNotFoundError(2, 'No such file or directory')\n",
      "wandb: Sweep Agent: Waiting for job.\n",
      "wandb: Job received.\n",
      "wandb: Agent Starting Run: sy3rymnc with config:\n",
      "wandb: \tmax_depth: 5\n",
      "wandb: \tmin_samples_split: 4\n",
      "wandb: \tn_estimators: 20\n",
      "Failed to detect the name of this notebook, you can set it manually with the WANDB_NOTEBOOK_NAME environment variable to enable code saving.\n",
      "wandb: WARNING Ignored wandb.init() arg project when running a sweep.\n"
     ]
    },
    {
     "data": {
      "text/html": [
       "wandb version 0.17.5 is available!  To upgrade, please run:\n",
       " $ pip install wandb --upgrade"
      ],
      "text/plain": [
       "<IPython.core.display.HTML object>"
      ]
     },
     "metadata": {},
     "output_type": "display_data"
    },
    {
     "data": {
      "text/html": [
       "Tracking run with wandb version 0.16.1"
      ],
      "text/plain": [
       "<IPython.core.display.HTML object>"
      ]
     },
     "metadata": {},
     "output_type": "display_data"
    },
    {
     "data": {
      "text/html": [
       "Run data is saved locally in <code>e:\\Artificial Intelligence\\Projects\\Predictive-Truck-Delay-Management-in-Logistics\\wandb\\run-20240805_174307-sy3rymnc</code>"
      ],
      "text/plain": [
       "<IPython.core.display.HTML object>"
      ]
     },
     "metadata": {},
     "output_type": "display_data"
    },
    {
     "data": {
      "text/html": [
       "Syncing run <strong><a href='https://wandb.ai/harshmp/truck-delay-classification/runs/sy3rymnc' target=\"_blank\">northern-sweep-24</a></strong> to <a href='https://wandb.ai/harshmp/truck-delay-classification' target=\"_blank\">Weights & Biases</a> (<a href='https://wandb.me/run' target=\"_blank\">docs</a>)<br/>Sweep page: <a href='https://wandb.ai/harshmp/truck-delay-classification/sweeps/20442i5p' target=\"_blank\">https://wandb.ai/harshmp/truck-delay-classification/sweeps/20442i5p</a>"
      ],
      "text/plain": [
       "<IPython.core.display.HTML object>"
      ]
     },
     "metadata": {},
     "output_type": "display_data"
    },
    {
     "data": {
      "text/html": [
       " View project at <a href='https://wandb.ai/harshmp/truck-delay-classification' target=\"_blank\">https://wandb.ai/harshmp/truck-delay-classification</a>"
      ],
      "text/plain": [
       "<IPython.core.display.HTML object>"
      ]
     },
     "metadata": {},
     "output_type": "display_data"
    },
    {
     "data": {
      "text/html": [
       " View sweep at <a href='https://wandb.ai/harshmp/truck-delay-classification/sweeps/20442i5p' target=\"_blank\">https://wandb.ai/harshmp/truck-delay-classification/sweeps/20442i5p</a>"
      ],
      "text/plain": [
       "<IPython.core.display.HTML object>"
      ]
     },
     "metadata": {},
     "output_type": "display_data"
    },
    {
     "data": {
      "text/html": [
       " View run at <a href='https://wandb.ai/harshmp/truck-delay-classification/runs/sy3rymnc' target=\"_blank\">https://wandb.ai/harshmp/truck-delay-classification/runs/sy3rymnc</a>"
      ],
      "text/plain": [
       "<IPython.core.display.HTML object>"
      ]
     },
     "metadata": {},
     "output_type": "display_data"
    },
    {
     "name": "stdout",
     "output_type": "stream",
     "text": [
      "F1_score Train: 0.5707\n",
      "F1_score Valid: 0.6622\n",
      "F1_score Test: 0.7618\n"
     ]
    },
    {
     "name": "stderr",
     "output_type": "stream",
     "text": [
      "wandb: \n",
      "wandb: Plotting RandomForestClassifier.\n",
      "Traceback (most recent call last):\n",
      "  File \"C:\\Users\\harsh\\AppData\\Local\\Temp\\ipykernel_18532\\2640226391.py\", line 44, in train_rf_model\n",
      "    wandb.sklearn.plot_classifier(model, X_train, X_test, y_train, y_test, y_preds, y_probas, labels=None,\n",
      "  File \"c:\\Users\\harsh\\anaconda3\\envs\\truck-delay\\lib\\site-packages\\wandb\\sklearn\\plot\\classifier.py\", line 82, in classifier\n",
      "    feature_importances(model, feature_names)\n",
      "  File \"c:\\Users\\harsh\\anaconda3\\envs\\truck-delay\\lib\\site-packages\\wandb\\sklearn\\plot\\classifier.py\", line 250, in feature_importances\n",
      "    wandb.log({\"feature_importances\": feature_importance_chart})\n",
      "  File \"c:\\Users\\harsh\\anaconda3\\envs\\truck-delay\\lib\\site-packages\\wandb\\sdk\\wandb_run.py\", line 420, in wrapper\n",
      "    return func(self, *args, **kwargs)\n",
      "  File \"c:\\Users\\harsh\\anaconda3\\envs\\truck-delay\\lib\\site-packages\\wandb\\sdk\\wandb_run.py\", line 371, in wrapper_fn\n",
      "    return func(self, *args, **kwargs)\n",
      "  File \"c:\\Users\\harsh\\anaconda3\\envs\\truck-delay\\lib\\site-packages\\wandb\\sdk\\wandb_run.py\", line 361, in wrapper\n",
      "    return func(self, *args, **kwargs)\n",
      "  File \"c:\\Users\\harsh\\anaconda3\\envs\\truck-delay\\lib\\site-packages\\wandb\\sdk\\wandb_run.py\", line 1820, in log\n",
      "    self._log(data=data, step=step, commit=commit)\n",
      "  File \"c:\\Users\\harsh\\anaconda3\\envs\\truck-delay\\lib\\site-packages\\wandb\\sdk\\wandb_run.py\", line 1595, in _log\n",
      "    self._partial_history_callback(data, step, commit)\n",
      "  File \"c:\\Users\\harsh\\anaconda3\\envs\\truck-delay\\lib\\site-packages\\wandb\\sdk\\wandb_run.py\", line 1467, in _partial_history_callback\n",
      "    self._backend.interface.publish_partial_history(\n",
      "  File \"c:\\Users\\harsh\\anaconda3\\envs\\truck-delay\\lib\\site-packages\\wandb\\sdk\\interface\\interface.py\", line 549, in publish_partial_history\n",
      "    data = history_dict_to_json(run, data, step=user_step, ignore_copy_err=True)\n",
      "  File \"c:\\Users\\harsh\\anaconda3\\envs\\truck-delay\\lib\\site-packages\\wandb\\sdk\\data_types\\utils.py\", line 52, in history_dict_to_json\n",
      "    payload[key] = val_to_json(\n",
      "  File \"c:\\Users\\harsh\\anaconda3\\envs\\truck-delay\\lib\\site-packages\\wandb\\sdk\\data_types\\utils.py\", line 164, in val_to_json\n",
      "    val.bind_to_run(run, key, namespace)\n",
      "  File \"c:\\Users\\harsh\\anaconda3\\envs\\truck-delay\\lib\\site-packages\\wandb\\data_types.py\", line 541, in bind_to_run\n",
      "    with codecs.open(tmp_path, \"w\", encoding=\"utf-8\") as fp:\n",
      "  File \"c:\\Users\\harsh\\anaconda3\\envs\\truck-delay\\lib\\codecs.py\", line 905, in open\n",
      "    file = builtins.open(filename, mode, buffering)\n",
      "FileNotFoundError: [Errno 2] No such file or directory: 'C:\\\\Users\\\\harsh\\\\AppData\\\\Local\\\\Temp\\\\tmpqphwv_07wandb-media\\\\y9sznca7.table.json'\n"
     ]
    },
    {
     "name": "stdout",
     "output_type": "stream",
     "text": [
      "2024-08-05 17:43:14,181 WARNING: DeprecationWarning: Importing display from IPython.core.display is deprecated since IPython 7.14, please import from IPython display\n",
      "\n"
     ]
    },
    {
     "data": {
      "application/vnd.jupyter.widget-view+json": {
       "model_id": "ca9962344684421d98f6e8fd5ba5fe54",
       "version_major": 2,
       "version_minor": 0
      },
      "text/plain": [
       "VBox(children=(Label(value='0.010 MB of 0.010 MB uploaded\\r'), FloatProgress(value=1.0, max=1.0)))"
      ]
     },
     "metadata": {},
     "output_type": "display_data"
    },
    {
     "name": "stdout",
     "output_type": "stream",
     "text": [
      "2024-08-05 17:43:17,665 WARNING: DeprecationWarning: Importing display from IPython.core.display is deprecated since IPython 7.14, please import from IPython display\n",
      "\n"
     ]
    },
    {
     "data": {
      "text/html": [
       "<style>\n",
       "    table.wandb td:nth-child(1) { padding: 0 10px; text-align: left ; width: auto;} td:nth-child(2) {text-align: left ; width: 100%}\n",
       "    .wandb-row { display: flex; flex-direction: row; flex-wrap: wrap; justify-content: flex-start; width: 100% }\n",
       "    .wandb-col { display: flex; flex-direction: column; flex-basis: 100%; flex: 1; padding: 10px; }\n",
       "    </style>\n",
       "<div class=\"wandb-row\"><div class=\"wandb-col\"><h3>Run history:</h3><br/><table class=\"wandb\"><tr><td>f1_score</td><td>▁</td></tr><tr><td>f1_score_train</td><td>▁</td></tr><tr><td>f1_score_valid</td><td>▁</td></tr></table><br/></div><div class=\"wandb-col\"><h3>Run summary:</h3><br/><table class=\"wandb\"><tr><td>f1_score</td><td>0.76185</td></tr><tr><td>f1_score_train</td><td>0.57069</td></tr><tr><td>f1_score_valid</td><td>0.66224</td></tr></table><br/></div></div>"
      ],
      "text/plain": [
       "<IPython.core.display.HTML object>"
      ]
     },
     "metadata": {},
     "output_type": "display_data"
    },
    {
     "data": {
      "text/html": [
       " View run <strong style=\"color:#cdcd00\">northern-sweep-24</strong> at: <a href='https://wandb.ai/harshmp/truck-delay-classification/runs/sy3rymnc' target=\"_blank\">https://wandb.ai/harshmp/truck-delay-classification/runs/sy3rymnc</a><br/>Synced 5 W&B file(s), 0 media file(s), 1 artifact file(s) and 0 other file(s)"
      ],
      "text/plain": [
       "<IPython.core.display.HTML object>"
      ]
     },
     "metadata": {},
     "output_type": "display_data"
    },
    {
     "data": {
      "text/html": [
       "Find logs at: <code>.\\wandb\\run-20240805_174307-sy3rymnc\\logs</code>"
      ],
      "text/plain": [
       "<IPython.core.display.HTML object>"
      ]
     },
     "metadata": {},
     "output_type": "display_data"
    },
    {
     "name": "stderr",
     "output_type": "stream",
     "text": [
      "Run sy3rymnc errored: FileNotFoundError(2, 'No such file or directory')\n",
      "wandb: ERROR Run sy3rymnc errored: FileNotFoundError(2, 'No such file or directory')\n",
      "wandb: Agent Starting Run: 66nni0is with config:\n",
      "wandb: \tmax_depth: 5\n",
      "wandb: \tmin_samples_split: 8\n",
      "wandb: \tn_estimators: 8\n",
      "Failed to detect the name of this notebook, you can set it manually with the WANDB_NOTEBOOK_NAME environment variable to enable code saving.\n",
      "wandb: WARNING Ignored wandb.init() arg project when running a sweep.\n"
     ]
    },
    {
     "data": {
      "application/vnd.jupyter.widget-view+json": {
       "model_id": "8dd7877d62044cd78b937842b7b9e084",
       "version_major": 2,
       "version_minor": 0
      },
      "text/plain": [
       "VBox(children=(Label(value='Waiting for wandb.init()...\\r'), FloatProgress(value=0.01127777777777131, max=1.0)…"
      ]
     },
     "metadata": {},
     "output_type": "display_data"
    },
    {
     "data": {
      "text/html": [
       "wandb version 0.17.5 is available!  To upgrade, please run:\n",
       " $ pip install wandb --upgrade"
      ],
      "text/plain": [
       "<IPython.core.display.HTML object>"
      ]
     },
     "metadata": {},
     "output_type": "display_data"
    },
    {
     "data": {
      "text/html": [
       "Tracking run with wandb version 0.16.1"
      ],
      "text/plain": [
       "<IPython.core.display.HTML object>"
      ]
     },
     "metadata": {},
     "output_type": "display_data"
    },
    {
     "data": {
      "text/html": [
       "Run data is saved locally in <code>e:\\Artificial Intelligence\\Projects\\Predictive-Truck-Delay-Management-in-Logistics\\wandb\\run-20240805_174328-66nni0is</code>"
      ],
      "text/plain": [
       "<IPython.core.display.HTML object>"
      ]
     },
     "metadata": {},
     "output_type": "display_data"
    },
    {
     "data": {
      "text/html": [
       "Syncing run <strong><a href='https://wandb.ai/harshmp/truck-delay-classification/runs/66nni0is' target=\"_blank\">laced-sweep-25</a></strong> to <a href='https://wandb.ai/harshmp/truck-delay-classification' target=\"_blank\">Weights & Biases</a> (<a href='https://wandb.me/run' target=\"_blank\">docs</a>)<br/>Sweep page: <a href='https://wandb.ai/harshmp/truck-delay-classification/sweeps/20442i5p' target=\"_blank\">https://wandb.ai/harshmp/truck-delay-classification/sweeps/20442i5p</a>"
      ],
      "text/plain": [
       "<IPython.core.display.HTML object>"
      ]
     },
     "metadata": {},
     "output_type": "display_data"
    },
    {
     "data": {
      "text/html": [
       " View project at <a href='https://wandb.ai/harshmp/truck-delay-classification' target=\"_blank\">https://wandb.ai/harshmp/truck-delay-classification</a>"
      ],
      "text/plain": [
       "<IPython.core.display.HTML object>"
      ]
     },
     "metadata": {},
     "output_type": "display_data"
    },
    {
     "data": {
      "text/html": [
       " View sweep at <a href='https://wandb.ai/harshmp/truck-delay-classification/sweeps/20442i5p' target=\"_blank\">https://wandb.ai/harshmp/truck-delay-classification/sweeps/20442i5p</a>"
      ],
      "text/plain": [
       "<IPython.core.display.HTML object>"
      ]
     },
     "metadata": {},
     "output_type": "display_data"
    },
    {
     "data": {
      "text/html": [
       " View run at <a href='https://wandb.ai/harshmp/truck-delay-classification/runs/66nni0is' target=\"_blank\">https://wandb.ai/harshmp/truck-delay-classification/runs/66nni0is</a>"
      ],
      "text/plain": [
       "<IPython.core.display.HTML object>"
      ]
     },
     "metadata": {},
     "output_type": "display_data"
    },
    {
     "name": "stdout",
     "output_type": "stream",
     "text": [
      "F1_score Train: 0.577\n",
      "F1_score Valid: 0.657\n",
      "F1_score Test: 0.7613\n"
     ]
    },
    {
     "name": "stderr",
     "output_type": "stream",
     "text": [
      "wandb: \n",
      "wandb: Plotting RandomForestClassifier.\n",
      "Traceback (most recent call last):\n",
      "  File \"C:\\Users\\harsh\\AppData\\Local\\Temp\\ipykernel_18532\\2640226391.py\", line 44, in train_rf_model\n",
      "    wandb.sklearn.plot_classifier(model, X_train, X_test, y_train, y_test, y_preds, y_probas, labels=None,\n",
      "  File \"c:\\Users\\harsh\\anaconda3\\envs\\truck-delay\\lib\\site-packages\\wandb\\sklearn\\plot\\classifier.py\", line 82, in classifier\n",
      "    feature_importances(model, feature_names)\n",
      "  File \"c:\\Users\\harsh\\anaconda3\\envs\\truck-delay\\lib\\site-packages\\wandb\\sklearn\\plot\\classifier.py\", line 250, in feature_importances\n",
      "    wandb.log({\"feature_importances\": feature_importance_chart})\n",
      "  File \"c:\\Users\\harsh\\anaconda3\\envs\\truck-delay\\lib\\site-packages\\wandb\\sdk\\wandb_run.py\", line 420, in wrapper\n",
      "    return func(self, *args, **kwargs)\n",
      "  File \"c:\\Users\\harsh\\anaconda3\\envs\\truck-delay\\lib\\site-packages\\wandb\\sdk\\wandb_run.py\", line 371, in wrapper_fn\n",
      "    return func(self, *args, **kwargs)\n",
      "  File \"c:\\Users\\harsh\\anaconda3\\envs\\truck-delay\\lib\\site-packages\\wandb\\sdk\\wandb_run.py\", line 361, in wrapper\n",
      "    return func(self, *args, **kwargs)\n",
      "  File \"c:\\Users\\harsh\\anaconda3\\envs\\truck-delay\\lib\\site-packages\\wandb\\sdk\\wandb_run.py\", line 1820, in log\n",
      "    self._log(data=data, step=step, commit=commit)\n",
      "  File \"c:\\Users\\harsh\\anaconda3\\envs\\truck-delay\\lib\\site-packages\\wandb\\sdk\\wandb_run.py\", line 1595, in _log\n",
      "    self._partial_history_callback(data, step, commit)\n",
      "  File \"c:\\Users\\harsh\\anaconda3\\envs\\truck-delay\\lib\\site-packages\\wandb\\sdk\\wandb_run.py\", line 1467, in _partial_history_callback\n",
      "    self._backend.interface.publish_partial_history(\n",
      "  File \"c:\\Users\\harsh\\anaconda3\\envs\\truck-delay\\lib\\site-packages\\wandb\\sdk\\interface\\interface.py\", line 549, in publish_partial_history\n",
      "    data = history_dict_to_json(run, data, step=user_step, ignore_copy_err=True)\n",
      "  File \"c:\\Users\\harsh\\anaconda3\\envs\\truck-delay\\lib\\site-packages\\wandb\\sdk\\data_types\\utils.py\", line 52, in history_dict_to_json\n",
      "    payload[key] = val_to_json(\n",
      "  File \"c:\\Users\\harsh\\anaconda3\\envs\\truck-delay\\lib\\site-packages\\wandb\\sdk\\data_types\\utils.py\", line 164, in val_to_json\n",
      "    val.bind_to_run(run, key, namespace)\n",
      "  File \"c:\\Users\\harsh\\anaconda3\\envs\\truck-delay\\lib\\site-packages\\wandb\\data_types.py\", line 541, in bind_to_run\n",
      "    with codecs.open(tmp_path, \"w\", encoding=\"utf-8\") as fp:\n",
      "  File \"c:\\Users\\harsh\\anaconda3\\envs\\truck-delay\\lib\\codecs.py\", line 905, in open\n",
      "    file = builtins.open(filename, mode, buffering)\n",
      "FileNotFoundError: [Errno 2] No such file or directory: 'C:\\\\Users\\\\harsh\\\\AppData\\\\Local\\\\Temp\\\\tmpqphwv_07wandb-media\\\\gfwuli3b.table.json'\n"
     ]
    },
    {
     "name": "stdout",
     "output_type": "stream",
     "text": [
      "2024-08-05 17:43:38,838 WARNING: DeprecationWarning: Importing display from IPython.core.display is deprecated since IPython 7.14, please import from IPython display\n",
      "\n"
     ]
    },
    {
     "data": {
      "application/vnd.jupyter.widget-view+json": {
       "model_id": "170ab4d8149a476fa1cbb3464e4dbb96",
       "version_major": 2,
       "version_minor": 0
      },
      "text/plain": [
       "VBox(children=(Label(value='0.009 MB of 0.009 MB uploaded\\r'), FloatProgress(value=1.0, max=1.0)))"
      ]
     },
     "metadata": {},
     "output_type": "display_data"
    },
    {
     "name": "stdout",
     "output_type": "stream",
     "text": [
      "2024-08-05 17:43:43,574 WARNING: DeprecationWarning: Importing display from IPython.core.display is deprecated since IPython 7.14, please import from IPython display\n",
      "\n"
     ]
    },
    {
     "data": {
      "text/html": [
       "<style>\n",
       "    table.wandb td:nth-child(1) { padding: 0 10px; text-align: left ; width: auto;} td:nth-child(2) {text-align: left ; width: 100%}\n",
       "    .wandb-row { display: flex; flex-direction: row; flex-wrap: wrap; justify-content: flex-start; width: 100% }\n",
       "    .wandb-col { display: flex; flex-direction: column; flex-basis: 100%; flex: 1; padding: 10px; }\n",
       "    </style>\n",
       "<div class=\"wandb-row\"><div class=\"wandb-col\"><h3>Run history:</h3><br/><table class=\"wandb\"><tr><td>f1_score</td><td>▁</td></tr><tr><td>f1_score_train</td><td>▁</td></tr><tr><td>f1_score_valid</td><td>▁</td></tr></table><br/></div><div class=\"wandb-col\"><h3>Run summary:</h3><br/><table class=\"wandb\"><tr><td>f1_score</td><td>0.76127</td></tr><tr><td>f1_score_train</td><td>0.57704</td></tr><tr><td>f1_score_valid</td><td>0.65702</td></tr></table><br/></div></div>"
      ],
      "text/plain": [
       "<IPython.core.display.HTML object>"
      ]
     },
     "metadata": {},
     "output_type": "display_data"
    },
    {
     "data": {
      "text/html": [
       " View run <strong style=\"color:#cdcd00\">laced-sweep-25</strong> at: <a href='https://wandb.ai/harshmp/truck-delay-classification/runs/66nni0is' target=\"_blank\">https://wandb.ai/harshmp/truck-delay-classification/runs/66nni0is</a><br/>Synced 5 W&B file(s), 0 media file(s), 1 artifact file(s) and 0 other file(s)"
      ],
      "text/plain": [
       "<IPython.core.display.HTML object>"
      ]
     },
     "metadata": {},
     "output_type": "display_data"
    },
    {
     "data": {
      "text/html": [
       "Find logs at: <code>.\\wandb\\run-20240805_174328-66nni0is\\logs</code>"
      ],
      "text/plain": [
       "<IPython.core.display.HTML object>"
      ]
     },
     "metadata": {},
     "output_type": "display_data"
    },
    {
     "name": "stderr",
     "output_type": "stream",
     "text": [
      "Run 66nni0is errored: FileNotFoundError(2, 'No such file or directory')\n",
      "wandb: ERROR Run 66nni0is errored: FileNotFoundError(2, 'No such file or directory')\n",
      "wandb: Agent Starting Run: 4slcclof with config:\n",
      "wandb: \tmax_depth: 5\n",
      "wandb: \tmin_samples_split: 8\n",
      "wandb: \tn_estimators: 12\n",
      "Failed to detect the name of this notebook, you can set it manually with the WANDB_NOTEBOOK_NAME environment variable to enable code saving.\n",
      "wandb: WARNING Ignored wandb.init() arg project when running a sweep.\n"
     ]
    },
    {
     "data": {
      "text/html": [
       "wandb version 0.17.5 is available!  To upgrade, please run:\n",
       " $ pip install wandb --upgrade"
      ],
      "text/plain": [
       "<IPython.core.display.HTML object>"
      ]
     },
     "metadata": {},
     "output_type": "display_data"
    },
    {
     "data": {
      "text/html": [
       "Tracking run with wandb version 0.16.1"
      ],
      "text/plain": [
       "<IPython.core.display.HTML object>"
      ]
     },
     "metadata": {},
     "output_type": "display_data"
    },
    {
     "data": {
      "text/html": [
       "Run data is saved locally in <code>e:\\Artificial Intelligence\\Projects\\Predictive-Truck-Delay-Management-in-Logistics\\wandb\\run-20240805_174352-4slcclof</code>"
      ],
      "text/plain": [
       "<IPython.core.display.HTML object>"
      ]
     },
     "metadata": {},
     "output_type": "display_data"
    },
    {
     "data": {
      "text/html": [
       "Syncing run <strong><a href='https://wandb.ai/harshmp/truck-delay-classification/runs/4slcclof' target=\"_blank\">wandering-sweep-26</a></strong> to <a href='https://wandb.ai/harshmp/truck-delay-classification' target=\"_blank\">Weights & Biases</a> (<a href='https://wandb.me/run' target=\"_blank\">docs</a>)<br/>Sweep page: <a href='https://wandb.ai/harshmp/truck-delay-classification/sweeps/20442i5p' target=\"_blank\">https://wandb.ai/harshmp/truck-delay-classification/sweeps/20442i5p</a>"
      ],
      "text/plain": [
       "<IPython.core.display.HTML object>"
      ]
     },
     "metadata": {},
     "output_type": "display_data"
    },
    {
     "data": {
      "text/html": [
       " View project at <a href='https://wandb.ai/harshmp/truck-delay-classification' target=\"_blank\">https://wandb.ai/harshmp/truck-delay-classification</a>"
      ],
      "text/plain": [
       "<IPython.core.display.HTML object>"
      ]
     },
     "metadata": {},
     "output_type": "display_data"
    },
    {
     "data": {
      "text/html": [
       " View sweep at <a href='https://wandb.ai/harshmp/truck-delay-classification/sweeps/20442i5p' target=\"_blank\">https://wandb.ai/harshmp/truck-delay-classification/sweeps/20442i5p</a>"
      ],
      "text/plain": [
       "<IPython.core.display.HTML object>"
      ]
     },
     "metadata": {},
     "output_type": "display_data"
    },
    {
     "data": {
      "text/html": [
       " View run at <a href='https://wandb.ai/harshmp/truck-delay-classification/runs/4slcclof' target=\"_blank\">https://wandb.ai/harshmp/truck-delay-classification/runs/4slcclof</a>"
      ],
      "text/plain": [
       "<IPython.core.display.HTML object>"
      ]
     },
     "metadata": {},
     "output_type": "display_data"
    },
    {
     "name": "stdout",
     "output_type": "stream",
     "text": [
      "F1_score Train: 0.5744\n",
      "F1_score Valid: 0.6637\n",
      "F1_score Test: 0.76\n"
     ]
    },
    {
     "name": "stderr",
     "output_type": "stream",
     "text": [
      "wandb: \n",
      "wandb: Plotting RandomForestClassifier.\n",
      "Traceback (most recent call last):\n",
      "  File \"C:\\Users\\harsh\\AppData\\Local\\Temp\\ipykernel_18532\\2640226391.py\", line 44, in train_rf_model\n",
      "    wandb.sklearn.plot_classifier(model, X_train, X_test, y_train, y_test, y_preds, y_probas, labels=None,\n",
      "  File \"c:\\Users\\harsh\\anaconda3\\envs\\truck-delay\\lib\\site-packages\\wandb\\sklearn\\plot\\classifier.py\", line 82, in classifier\n",
      "    feature_importances(model, feature_names)\n",
      "  File \"c:\\Users\\harsh\\anaconda3\\envs\\truck-delay\\lib\\site-packages\\wandb\\sklearn\\plot\\classifier.py\", line 250, in feature_importances\n",
      "    wandb.log({\"feature_importances\": feature_importance_chart})\n",
      "  File \"c:\\Users\\harsh\\anaconda3\\envs\\truck-delay\\lib\\site-packages\\wandb\\sdk\\wandb_run.py\", line 420, in wrapper\n",
      "    return func(self, *args, **kwargs)\n",
      "  File \"c:\\Users\\harsh\\anaconda3\\envs\\truck-delay\\lib\\site-packages\\wandb\\sdk\\wandb_run.py\", line 371, in wrapper_fn\n",
      "    return func(self, *args, **kwargs)\n",
      "  File \"c:\\Users\\harsh\\anaconda3\\envs\\truck-delay\\lib\\site-packages\\wandb\\sdk\\wandb_run.py\", line 361, in wrapper\n",
      "    return func(self, *args, **kwargs)\n",
      "  File \"c:\\Users\\harsh\\anaconda3\\envs\\truck-delay\\lib\\site-packages\\wandb\\sdk\\wandb_run.py\", line 1820, in log\n",
      "    self._log(data=data, step=step, commit=commit)\n",
      "  File \"c:\\Users\\harsh\\anaconda3\\envs\\truck-delay\\lib\\site-packages\\wandb\\sdk\\wandb_run.py\", line 1595, in _log\n",
      "    self._partial_history_callback(data, step, commit)\n",
      "  File \"c:\\Users\\harsh\\anaconda3\\envs\\truck-delay\\lib\\site-packages\\wandb\\sdk\\wandb_run.py\", line 1467, in _partial_history_callback\n",
      "    self._backend.interface.publish_partial_history(\n",
      "  File \"c:\\Users\\harsh\\anaconda3\\envs\\truck-delay\\lib\\site-packages\\wandb\\sdk\\interface\\interface.py\", line 549, in publish_partial_history\n",
      "    data = history_dict_to_json(run, data, step=user_step, ignore_copy_err=True)\n",
      "  File \"c:\\Users\\harsh\\anaconda3\\envs\\truck-delay\\lib\\site-packages\\wandb\\sdk\\data_types\\utils.py\", line 52, in history_dict_to_json\n",
      "    payload[key] = val_to_json(\n",
      "  File \"c:\\Users\\harsh\\anaconda3\\envs\\truck-delay\\lib\\site-packages\\wandb\\sdk\\data_types\\utils.py\", line 164, in val_to_json\n",
      "    val.bind_to_run(run, key, namespace)\n",
      "  File \"c:\\Users\\harsh\\anaconda3\\envs\\truck-delay\\lib\\site-packages\\wandb\\data_types.py\", line 541, in bind_to_run\n",
      "    with codecs.open(tmp_path, \"w\", encoding=\"utf-8\") as fp:\n",
      "  File \"c:\\Users\\harsh\\anaconda3\\envs\\truck-delay\\lib\\codecs.py\", line 905, in open\n",
      "    file = builtins.open(filename, mode, buffering)\n",
      "FileNotFoundError: [Errno 2] No such file or directory: 'C:\\\\Users\\\\harsh\\\\AppData\\\\Local\\\\Temp\\\\tmpqphwv_07wandb-media\\\\zdg44ylb.table.json'\n"
     ]
    },
    {
     "name": "stdout",
     "output_type": "stream",
     "text": [
      "2024-08-05 17:43:57,900 WARNING: DeprecationWarning: Importing display from IPython.core.display is deprecated since IPython 7.14, please import from IPython display\n",
      "\n"
     ]
    },
    {
     "data": {
      "application/vnd.jupyter.widget-view+json": {
       "model_id": "aae1e076347d4f76be82d9c8d9414ff1",
       "version_major": 2,
       "version_minor": 0
      },
      "text/plain": [
       "VBox(children=(Label(value='0.009 MB of 0.009 MB uploaded\\r'), FloatProgress(value=1.0, max=1.0)))"
      ]
     },
     "metadata": {},
     "output_type": "display_data"
    },
    {
     "name": "stdout",
     "output_type": "stream",
     "text": [
      "2024-08-05 17:44:02,576 WARNING: DeprecationWarning: Importing display from IPython.core.display is deprecated since IPython 7.14, please import from IPython display\n",
      "\n"
     ]
    },
    {
     "data": {
      "text/html": [
       "<style>\n",
       "    table.wandb td:nth-child(1) { padding: 0 10px; text-align: left ; width: auto;} td:nth-child(2) {text-align: left ; width: 100%}\n",
       "    .wandb-row { display: flex; flex-direction: row; flex-wrap: wrap; justify-content: flex-start; width: 100% }\n",
       "    .wandb-col { display: flex; flex-direction: column; flex-basis: 100%; flex: 1; padding: 10px; }\n",
       "    </style>\n",
       "<div class=\"wandb-row\"><div class=\"wandb-col\"><h3>Run history:</h3><br/><table class=\"wandb\"><tr><td>f1_score</td><td>▁</td></tr><tr><td>f1_score_train</td><td>▁</td></tr><tr><td>f1_score_valid</td><td>▁</td></tr></table><br/></div><div class=\"wandb-col\"><h3>Run summary:</h3><br/><table class=\"wandb\"><tr><td>f1_score</td><td>0.76005</td></tr><tr><td>f1_score_train</td><td>0.57443</td></tr><tr><td>f1_score_valid</td><td>0.6637</td></tr></table><br/></div></div>"
      ],
      "text/plain": [
       "<IPython.core.display.HTML object>"
      ]
     },
     "metadata": {},
     "output_type": "display_data"
    },
    {
     "data": {
      "text/html": [
       " View run <strong style=\"color:#cdcd00\">wandering-sweep-26</strong> at: <a href='https://wandb.ai/harshmp/truck-delay-classification/runs/4slcclof' target=\"_blank\">https://wandb.ai/harshmp/truck-delay-classification/runs/4slcclof</a><br/>Synced 5 W&B file(s), 0 media file(s), 1 artifact file(s) and 0 other file(s)"
      ],
      "text/plain": [
       "<IPython.core.display.HTML object>"
      ]
     },
     "metadata": {},
     "output_type": "display_data"
    },
    {
     "data": {
      "text/html": [
       "Find logs at: <code>.\\wandb\\run-20240805_174352-4slcclof\\logs</code>"
      ],
      "text/plain": [
       "<IPython.core.display.HTML object>"
      ]
     },
     "metadata": {},
     "output_type": "display_data"
    },
    {
     "name": "stderr",
     "output_type": "stream",
     "text": [
      "Run 4slcclof errored: FileNotFoundError(2, 'No such file or directory')\n",
      "wandb: ERROR Run 4slcclof errored: FileNotFoundError(2, 'No such file or directory')\n",
      "wandb: Agent Starting Run: zfquyard with config:\n",
      "wandb: \tmax_depth: 5\n",
      "wandb: \tmin_samples_split: 8\n",
      "wandb: \tn_estimators: 16\n",
      "Failed to detect the name of this notebook, you can set it manually with the WANDB_NOTEBOOK_NAME environment variable to enable code saving.\n",
      "wandb: WARNING Ignored wandb.init() arg project when running a sweep.\n"
     ]
    },
    {
     "data": {
      "text/html": [
       "wandb version 0.17.5 is available!  To upgrade, please run:\n",
       " $ pip install wandb --upgrade"
      ],
      "text/plain": [
       "<IPython.core.display.HTML object>"
      ]
     },
     "metadata": {},
     "output_type": "display_data"
    },
    {
     "data": {
      "text/html": [
       "Tracking run with wandb version 0.16.1"
      ],
      "text/plain": [
       "<IPython.core.display.HTML object>"
      ]
     },
     "metadata": {},
     "output_type": "display_data"
    },
    {
     "data": {
      "text/html": [
       "Run data is saved locally in <code>e:\\Artificial Intelligence\\Projects\\Predictive-Truck-Delay-Management-in-Logistics\\wandb\\run-20240805_174411-zfquyard</code>"
      ],
      "text/plain": [
       "<IPython.core.display.HTML object>"
      ]
     },
     "metadata": {},
     "output_type": "display_data"
    },
    {
     "data": {
      "text/html": [
       "Syncing run <strong><a href='https://wandb.ai/harshmp/truck-delay-classification/runs/zfquyard' target=\"_blank\">lively-sweep-27</a></strong> to <a href='https://wandb.ai/harshmp/truck-delay-classification' target=\"_blank\">Weights & Biases</a> (<a href='https://wandb.me/run' target=\"_blank\">docs</a>)<br/>Sweep page: <a href='https://wandb.ai/harshmp/truck-delay-classification/sweeps/20442i5p' target=\"_blank\">https://wandb.ai/harshmp/truck-delay-classification/sweeps/20442i5p</a>"
      ],
      "text/plain": [
       "<IPython.core.display.HTML object>"
      ]
     },
     "metadata": {},
     "output_type": "display_data"
    },
    {
     "data": {
      "text/html": [
       " View project at <a href='https://wandb.ai/harshmp/truck-delay-classification' target=\"_blank\">https://wandb.ai/harshmp/truck-delay-classification</a>"
      ],
      "text/plain": [
       "<IPython.core.display.HTML object>"
      ]
     },
     "metadata": {},
     "output_type": "display_data"
    },
    {
     "data": {
      "text/html": [
       " View sweep at <a href='https://wandb.ai/harshmp/truck-delay-classification/sweeps/20442i5p' target=\"_blank\">https://wandb.ai/harshmp/truck-delay-classification/sweeps/20442i5p</a>"
      ],
      "text/plain": [
       "<IPython.core.display.HTML object>"
      ]
     },
     "metadata": {},
     "output_type": "display_data"
    },
    {
     "data": {
      "text/html": [
       " View run at <a href='https://wandb.ai/harshmp/truck-delay-classification/runs/zfquyard' target=\"_blank\">https://wandb.ai/harshmp/truck-delay-classification/runs/zfquyard</a>"
      ],
      "text/plain": [
       "<IPython.core.display.HTML object>"
      ]
     },
     "metadata": {},
     "output_type": "display_data"
    },
    {
     "name": "stdout",
     "output_type": "stream",
     "text": [
      "F1_score Train: 0.5726\n",
      "F1_score Valid: 0.6619\n",
      "F1_score Test: 0.7633\n"
     ]
    },
    {
     "name": "stderr",
     "output_type": "stream",
     "text": [
      "wandb: \n",
      "wandb: Plotting RandomForestClassifier.\n",
      "Traceback (most recent call last):\n",
      "  File \"C:\\Users\\harsh\\AppData\\Local\\Temp\\ipykernel_18532\\2640226391.py\", line 44, in train_rf_model\n",
      "    wandb.sklearn.plot_classifier(model, X_train, X_test, y_train, y_test, y_preds, y_probas, labels=None,\n",
      "  File \"c:\\Users\\harsh\\anaconda3\\envs\\truck-delay\\lib\\site-packages\\wandb\\sklearn\\plot\\classifier.py\", line 82, in classifier\n",
      "    feature_importances(model, feature_names)\n",
      "  File \"c:\\Users\\harsh\\anaconda3\\envs\\truck-delay\\lib\\site-packages\\wandb\\sklearn\\plot\\classifier.py\", line 250, in feature_importances\n",
      "    wandb.log({\"feature_importances\": feature_importance_chart})\n",
      "  File \"c:\\Users\\harsh\\anaconda3\\envs\\truck-delay\\lib\\site-packages\\wandb\\sdk\\wandb_run.py\", line 420, in wrapper\n",
      "    return func(self, *args, **kwargs)\n",
      "  File \"c:\\Users\\harsh\\anaconda3\\envs\\truck-delay\\lib\\site-packages\\wandb\\sdk\\wandb_run.py\", line 371, in wrapper_fn\n",
      "    return func(self, *args, **kwargs)\n",
      "  File \"c:\\Users\\harsh\\anaconda3\\envs\\truck-delay\\lib\\site-packages\\wandb\\sdk\\wandb_run.py\", line 361, in wrapper\n",
      "    return func(self, *args, **kwargs)\n",
      "  File \"c:\\Users\\harsh\\anaconda3\\envs\\truck-delay\\lib\\site-packages\\wandb\\sdk\\wandb_run.py\", line 1820, in log\n",
      "    self._log(data=data, step=step, commit=commit)\n",
      "  File \"c:\\Users\\harsh\\anaconda3\\envs\\truck-delay\\lib\\site-packages\\wandb\\sdk\\wandb_run.py\", line 1595, in _log\n",
      "    self._partial_history_callback(data, step, commit)\n",
      "  File \"c:\\Users\\harsh\\anaconda3\\envs\\truck-delay\\lib\\site-packages\\wandb\\sdk\\wandb_run.py\", line 1467, in _partial_history_callback\n",
      "    self._backend.interface.publish_partial_history(\n",
      "  File \"c:\\Users\\harsh\\anaconda3\\envs\\truck-delay\\lib\\site-packages\\wandb\\sdk\\interface\\interface.py\", line 549, in publish_partial_history\n",
      "    data = history_dict_to_json(run, data, step=user_step, ignore_copy_err=True)\n",
      "  File \"c:\\Users\\harsh\\anaconda3\\envs\\truck-delay\\lib\\site-packages\\wandb\\sdk\\data_types\\utils.py\", line 52, in history_dict_to_json\n",
      "    payload[key] = val_to_json(\n",
      "  File \"c:\\Users\\harsh\\anaconda3\\envs\\truck-delay\\lib\\site-packages\\wandb\\sdk\\data_types\\utils.py\", line 164, in val_to_json\n",
      "    val.bind_to_run(run, key, namespace)\n",
      "  File \"c:\\Users\\harsh\\anaconda3\\envs\\truck-delay\\lib\\site-packages\\wandb\\data_types.py\", line 541, in bind_to_run\n",
      "    with codecs.open(tmp_path, \"w\", encoding=\"utf-8\") as fp:\n",
      "  File \"c:\\Users\\harsh\\anaconda3\\envs\\truck-delay\\lib\\codecs.py\", line 905, in open\n",
      "    file = builtins.open(filename, mode, buffering)\n",
      "FileNotFoundError: [Errno 2] No such file or directory: 'C:\\\\Users\\\\harsh\\\\AppData\\\\Local\\\\Temp\\\\tmpqphwv_07wandb-media\\\\oo9egnri.table.json'\n"
     ]
    },
    {
     "name": "stdout",
     "output_type": "stream",
     "text": [
      "2024-08-05 17:44:17,198 WARNING: DeprecationWarning: Importing display from IPython.core.display is deprecated since IPython 7.14, please import from IPython display\n",
      "\n"
     ]
    },
    {
     "data": {
      "application/vnd.jupyter.widget-view+json": {
       "model_id": "cb7c0978b7e14996b86f78f27bd91bca",
       "version_major": 2,
       "version_minor": 0
      },
      "text/plain": [
       "VBox(children=(Label(value='0.009 MB of 0.009 MB uploaded\\r'), FloatProgress(value=1.0, max=1.0)))"
      ]
     },
     "metadata": {},
     "output_type": "display_data"
    },
    {
     "name": "stdout",
     "output_type": "stream",
     "text": [
      "2024-08-05 17:44:20,101 WARNING: DeprecationWarning: Importing display from IPython.core.display is deprecated since IPython 7.14, please import from IPython display\n",
      "\n"
     ]
    },
    {
     "data": {
      "text/html": [
       "<style>\n",
       "    table.wandb td:nth-child(1) { padding: 0 10px; text-align: left ; width: auto;} td:nth-child(2) {text-align: left ; width: 100%}\n",
       "    .wandb-row { display: flex; flex-direction: row; flex-wrap: wrap; justify-content: flex-start; width: 100% }\n",
       "    .wandb-col { display: flex; flex-direction: column; flex-basis: 100%; flex: 1; padding: 10px; }\n",
       "    </style>\n",
       "<div class=\"wandb-row\"><div class=\"wandb-col\"><h3>Run history:</h3><br/><table class=\"wandb\"><tr><td>f1_score</td><td>▁</td></tr><tr><td>f1_score_train</td><td>▁</td></tr><tr><td>f1_score_valid</td><td>▁</td></tr></table><br/></div><div class=\"wandb-col\"><h3>Run summary:</h3><br/><table class=\"wandb\"><tr><td>f1_score</td><td>0.76335</td></tr><tr><td>f1_score_train</td><td>0.57262</td></tr><tr><td>f1_score_valid</td><td>0.66186</td></tr></table><br/></div></div>"
      ],
      "text/plain": [
       "<IPython.core.display.HTML object>"
      ]
     },
     "metadata": {},
     "output_type": "display_data"
    },
    {
     "data": {
      "text/html": [
       " View run <strong style=\"color:#cdcd00\">lively-sweep-27</strong> at: <a href='https://wandb.ai/harshmp/truck-delay-classification/runs/zfquyard' target=\"_blank\">https://wandb.ai/harshmp/truck-delay-classification/runs/zfquyard</a><br/>Synced 5 W&B file(s), 0 media file(s), 1 artifact file(s) and 0 other file(s)"
      ],
      "text/plain": [
       "<IPython.core.display.HTML object>"
      ]
     },
     "metadata": {},
     "output_type": "display_data"
    },
    {
     "data": {
      "text/html": [
       "Find logs at: <code>.\\wandb\\run-20240805_174411-zfquyard\\logs</code>"
      ],
      "text/plain": [
       "<IPython.core.display.HTML object>"
      ]
     },
     "metadata": {},
     "output_type": "display_data"
    },
    {
     "name": "stderr",
     "output_type": "stream",
     "text": [
      "Run zfquyard errored: FileNotFoundError(2, 'No such file or directory')\n",
      "wandb: ERROR Run zfquyard errored: FileNotFoundError(2, 'No such file or directory')\n",
      "wandb: Agent Starting Run: lrnut71a with config:\n",
      "wandb: \tmax_depth: 5\n",
      "wandb: \tmin_samples_split: 8\n",
      "wandb: \tn_estimators: 20\n",
      "Failed to detect the name of this notebook, you can set it manually with the WANDB_NOTEBOOK_NAME environment variable to enable code saving.\n",
      "wandb: WARNING Ignored wandb.init() arg project when running a sweep.\n"
     ]
    },
    {
     "data": {
      "text/html": [
       "wandb version 0.17.5 is available!  To upgrade, please run:\n",
       " $ pip install wandb --upgrade"
      ],
      "text/plain": [
       "<IPython.core.display.HTML object>"
      ]
     },
     "metadata": {},
     "output_type": "display_data"
    },
    {
     "data": {
      "text/html": [
       "Tracking run with wandb version 0.16.1"
      ],
      "text/plain": [
       "<IPython.core.display.HTML object>"
      ]
     },
     "metadata": {},
     "output_type": "display_data"
    },
    {
     "data": {
      "text/html": [
       "Run data is saved locally in <code>e:\\Artificial Intelligence\\Projects\\Predictive-Truck-Delay-Management-in-Logistics\\wandb\\run-20240805_174428-lrnut71a</code>"
      ],
      "text/plain": [
       "<IPython.core.display.HTML object>"
      ]
     },
     "metadata": {},
     "output_type": "display_data"
    },
    {
     "data": {
      "text/html": [
       "Syncing run <strong><a href='https://wandb.ai/harshmp/truck-delay-classification/runs/lrnut71a' target=\"_blank\">hardy-sweep-28</a></strong> to <a href='https://wandb.ai/harshmp/truck-delay-classification' target=\"_blank\">Weights & Biases</a> (<a href='https://wandb.me/run' target=\"_blank\">docs</a>)<br/>Sweep page: <a href='https://wandb.ai/harshmp/truck-delay-classification/sweeps/20442i5p' target=\"_blank\">https://wandb.ai/harshmp/truck-delay-classification/sweeps/20442i5p</a>"
      ],
      "text/plain": [
       "<IPython.core.display.HTML object>"
      ]
     },
     "metadata": {},
     "output_type": "display_data"
    },
    {
     "data": {
      "text/html": [
       " View project at <a href='https://wandb.ai/harshmp/truck-delay-classification' target=\"_blank\">https://wandb.ai/harshmp/truck-delay-classification</a>"
      ],
      "text/plain": [
       "<IPython.core.display.HTML object>"
      ]
     },
     "metadata": {},
     "output_type": "display_data"
    },
    {
     "data": {
      "text/html": [
       " View sweep at <a href='https://wandb.ai/harshmp/truck-delay-classification/sweeps/20442i5p' target=\"_blank\">https://wandb.ai/harshmp/truck-delay-classification/sweeps/20442i5p</a>"
      ],
      "text/plain": [
       "<IPython.core.display.HTML object>"
      ]
     },
     "metadata": {},
     "output_type": "display_data"
    },
    {
     "data": {
      "text/html": [
       " View run at <a href='https://wandb.ai/harshmp/truck-delay-classification/runs/lrnut71a' target=\"_blank\">https://wandb.ai/harshmp/truck-delay-classification/runs/lrnut71a</a>"
      ],
      "text/plain": [
       "<IPython.core.display.HTML object>"
      ]
     },
     "metadata": {},
     "output_type": "display_data"
    },
    {
     "name": "stdout",
     "output_type": "stream",
     "text": [
      "F1_score Train: 0.5729\n",
      "F1_score Valid: 0.6626\n",
      "F1_score Test: 0.7626\n"
     ]
    },
    {
     "name": "stderr",
     "output_type": "stream",
     "text": [
      "wandb: \n",
      "wandb: Plotting RandomForestClassifier.\n",
      "Traceback (most recent call last):\n",
      "  File \"C:\\Users\\harsh\\AppData\\Local\\Temp\\ipykernel_18532\\2640226391.py\", line 44, in train_rf_model\n",
      "    wandb.sklearn.plot_classifier(model, X_train, X_test, y_train, y_test, y_preds, y_probas, labels=None,\n",
      "  File \"c:\\Users\\harsh\\anaconda3\\envs\\truck-delay\\lib\\site-packages\\wandb\\sklearn\\plot\\classifier.py\", line 82, in classifier\n",
      "    feature_importances(model, feature_names)\n",
      "  File \"c:\\Users\\harsh\\anaconda3\\envs\\truck-delay\\lib\\site-packages\\wandb\\sklearn\\plot\\classifier.py\", line 250, in feature_importances\n",
      "    wandb.log({\"feature_importances\": feature_importance_chart})\n",
      "  File \"c:\\Users\\harsh\\anaconda3\\envs\\truck-delay\\lib\\site-packages\\wandb\\sdk\\wandb_run.py\", line 420, in wrapper\n",
      "    return func(self, *args, **kwargs)\n",
      "  File \"c:\\Users\\harsh\\anaconda3\\envs\\truck-delay\\lib\\site-packages\\wandb\\sdk\\wandb_run.py\", line 371, in wrapper_fn\n",
      "    return func(self, *args, **kwargs)\n",
      "  File \"c:\\Users\\harsh\\anaconda3\\envs\\truck-delay\\lib\\site-packages\\wandb\\sdk\\wandb_run.py\", line 361, in wrapper\n",
      "    return func(self, *args, **kwargs)\n",
      "  File \"c:\\Users\\harsh\\anaconda3\\envs\\truck-delay\\lib\\site-packages\\wandb\\sdk\\wandb_run.py\", line 1820, in log\n",
      "    self._log(data=data, step=step, commit=commit)\n",
      "  File \"c:\\Users\\harsh\\anaconda3\\envs\\truck-delay\\lib\\site-packages\\wandb\\sdk\\wandb_run.py\", line 1595, in _log\n",
      "    self._partial_history_callback(data, step, commit)\n",
      "  File \"c:\\Users\\harsh\\anaconda3\\envs\\truck-delay\\lib\\site-packages\\wandb\\sdk\\wandb_run.py\", line 1467, in _partial_history_callback\n",
      "    self._backend.interface.publish_partial_history(\n",
      "  File \"c:\\Users\\harsh\\anaconda3\\envs\\truck-delay\\lib\\site-packages\\wandb\\sdk\\interface\\interface.py\", line 549, in publish_partial_history\n",
      "    data = history_dict_to_json(run, data, step=user_step, ignore_copy_err=True)\n",
      "  File \"c:\\Users\\harsh\\anaconda3\\envs\\truck-delay\\lib\\site-packages\\wandb\\sdk\\data_types\\utils.py\", line 52, in history_dict_to_json\n",
      "    payload[key] = val_to_json(\n",
      "  File \"c:\\Users\\harsh\\anaconda3\\envs\\truck-delay\\lib\\site-packages\\wandb\\sdk\\data_types\\utils.py\", line 164, in val_to_json\n",
      "    val.bind_to_run(run, key, namespace)\n",
      "  File \"c:\\Users\\harsh\\anaconda3\\envs\\truck-delay\\lib\\site-packages\\wandb\\data_types.py\", line 541, in bind_to_run\n",
      "    with codecs.open(tmp_path, \"w\", encoding=\"utf-8\") as fp:\n",
      "  File \"c:\\Users\\harsh\\anaconda3\\envs\\truck-delay\\lib\\codecs.py\", line 905, in open\n",
      "    file = builtins.open(filename, mode, buffering)\n",
      "FileNotFoundError: [Errno 2] No such file or directory: 'C:\\\\Users\\\\harsh\\\\AppData\\\\Local\\\\Temp\\\\tmpqphwv_07wandb-media\\\\39j0i38a.table.json'\n"
     ]
    },
    {
     "name": "stdout",
     "output_type": "stream",
     "text": [
      "2024-08-05 17:44:36,874 WARNING: DeprecationWarning: Importing display from IPython.core.display is deprecated since IPython 7.14, please import from IPython display\n",
      "\n"
     ]
    },
    {
     "data": {
      "application/vnd.jupyter.widget-view+json": {
       "model_id": "83af72dcdad74bb7b0833720eb121e26",
       "version_major": 2,
       "version_minor": 0
      },
      "text/plain": [
       "VBox(children=(Label(value='0.009 MB of 0.009 MB uploaded\\r'), FloatProgress(value=1.0, max=1.0)))"
      ]
     },
     "metadata": {},
     "output_type": "display_data"
    },
    {
     "name": "stdout",
     "output_type": "stream",
     "text": [
      "2024-08-05 17:44:41,371 WARNING: DeprecationWarning: Importing display from IPython.core.display is deprecated since IPython 7.14, please import from IPython display\n",
      "\n"
     ]
    },
    {
     "data": {
      "text/html": [
       "<style>\n",
       "    table.wandb td:nth-child(1) { padding: 0 10px; text-align: left ; width: auto;} td:nth-child(2) {text-align: left ; width: 100%}\n",
       "    .wandb-row { display: flex; flex-direction: row; flex-wrap: wrap; justify-content: flex-start; width: 100% }\n",
       "    .wandb-col { display: flex; flex-direction: column; flex-basis: 100%; flex: 1; padding: 10px; }\n",
       "    </style>\n",
       "<div class=\"wandb-row\"><div class=\"wandb-col\"><h3>Run history:</h3><br/><table class=\"wandb\"><tr><td>f1_score</td><td>▁</td></tr><tr><td>f1_score_train</td><td>▁</td></tr><tr><td>f1_score_valid</td><td>▁</td></tr></table><br/></div><div class=\"wandb-col\"><h3>Run summary:</h3><br/><table class=\"wandb\"><tr><td>f1_score</td><td>0.7626</td></tr><tr><td>f1_score_train</td><td>0.5729</td></tr><tr><td>f1_score_valid</td><td>0.66259</td></tr></table><br/></div></div>"
      ],
      "text/plain": [
       "<IPython.core.display.HTML object>"
      ]
     },
     "metadata": {},
     "output_type": "display_data"
    },
    {
     "data": {
      "text/html": [
       " View run <strong style=\"color:#cdcd00\">hardy-sweep-28</strong> at: <a href='https://wandb.ai/harshmp/truck-delay-classification/runs/lrnut71a' target=\"_blank\">https://wandb.ai/harshmp/truck-delay-classification/runs/lrnut71a</a><br/>Synced 5 W&B file(s), 0 media file(s), 1 artifact file(s) and 0 other file(s)"
      ],
      "text/plain": [
       "<IPython.core.display.HTML object>"
      ]
     },
     "metadata": {},
     "output_type": "display_data"
    },
    {
     "data": {
      "text/html": [
       "Find logs at: <code>.\\wandb\\run-20240805_174428-lrnut71a\\logs</code>"
      ],
      "text/plain": [
       "<IPython.core.display.HTML object>"
      ]
     },
     "metadata": {},
     "output_type": "display_data"
    },
    {
     "name": "stderr",
     "output_type": "stream",
     "text": [
      "Run lrnut71a errored: FileNotFoundError(2, 'No such file or directory')\n",
      "wandb: ERROR Run lrnut71a errored: FileNotFoundError(2, 'No such file or directory')\n",
      "wandb: Agent Starting Run: 8lhudkuc with config:\n",
      "wandb: \tmax_depth: 5\n",
      "wandb: \tmin_samples_split: 12\n",
      "wandb: \tn_estimators: 8\n",
      "Failed to detect the name of this notebook, you can set it manually with the WANDB_NOTEBOOK_NAME environment variable to enable code saving.\n",
      "wandb: WARNING Ignored wandb.init() arg project when running a sweep.\n"
     ]
    },
    {
     "data": {
      "text/html": [
       "wandb version 0.17.5 is available!  To upgrade, please run:\n",
       " $ pip install wandb --upgrade"
      ],
      "text/plain": [
       "<IPython.core.display.HTML object>"
      ]
     },
     "metadata": {},
     "output_type": "display_data"
    },
    {
     "data": {
      "text/html": [
       "Tracking run with wandb version 0.16.1"
      ],
      "text/plain": [
       "<IPython.core.display.HTML object>"
      ]
     },
     "metadata": {},
     "output_type": "display_data"
    },
    {
     "data": {
      "text/html": [
       "Run data is saved locally in <code>e:\\Artificial Intelligence\\Projects\\Predictive-Truck-Delay-Management-in-Logistics\\wandb\\run-20240805_174453-8lhudkuc</code>"
      ],
      "text/plain": [
       "<IPython.core.display.HTML object>"
      ]
     },
     "metadata": {},
     "output_type": "display_data"
    },
    {
     "data": {
      "text/html": [
       "Syncing run <strong><a href='https://wandb.ai/harshmp/truck-delay-classification/runs/8lhudkuc' target=\"_blank\">toasty-sweep-29</a></strong> to <a href='https://wandb.ai/harshmp/truck-delay-classification' target=\"_blank\">Weights & Biases</a> (<a href='https://wandb.me/run' target=\"_blank\">docs</a>)<br/>Sweep page: <a href='https://wandb.ai/harshmp/truck-delay-classification/sweeps/20442i5p' target=\"_blank\">https://wandb.ai/harshmp/truck-delay-classification/sweeps/20442i5p</a>"
      ],
      "text/plain": [
       "<IPython.core.display.HTML object>"
      ]
     },
     "metadata": {},
     "output_type": "display_data"
    },
    {
     "data": {
      "text/html": [
       " View project at <a href='https://wandb.ai/harshmp/truck-delay-classification' target=\"_blank\">https://wandb.ai/harshmp/truck-delay-classification</a>"
      ],
      "text/plain": [
       "<IPython.core.display.HTML object>"
      ]
     },
     "metadata": {},
     "output_type": "display_data"
    },
    {
     "data": {
      "text/html": [
       " View sweep at <a href='https://wandb.ai/harshmp/truck-delay-classification/sweeps/20442i5p' target=\"_blank\">https://wandb.ai/harshmp/truck-delay-classification/sweeps/20442i5p</a>"
      ],
      "text/plain": [
       "<IPython.core.display.HTML object>"
      ]
     },
     "metadata": {},
     "output_type": "display_data"
    },
    {
     "data": {
      "text/html": [
       " View run at <a href='https://wandb.ai/harshmp/truck-delay-classification/runs/8lhudkuc' target=\"_blank\">https://wandb.ai/harshmp/truck-delay-classification/runs/8lhudkuc</a>"
      ],
      "text/plain": [
       "<IPython.core.display.HTML object>"
      ]
     },
     "metadata": {},
     "output_type": "display_data"
    },
    {
     "name": "stdout",
     "output_type": "stream",
     "text": [
      "F1_score Train: 0.5706\n",
      "F1_score Valid: 0.6596\n",
      "F1_score Test: 0.7598\n"
     ]
    },
    {
     "name": "stderr",
     "output_type": "stream",
     "text": [
      "wandb: \n",
      "wandb: Plotting RandomForestClassifier.\n",
      "Traceback (most recent call last):\n",
      "  File \"C:\\Users\\harsh\\AppData\\Local\\Temp\\ipykernel_18532\\2640226391.py\", line 44, in train_rf_model\n",
      "    wandb.sklearn.plot_classifier(model, X_train, X_test, y_train, y_test, y_preds, y_probas, labels=None,\n",
      "  File \"c:\\Users\\harsh\\anaconda3\\envs\\truck-delay\\lib\\site-packages\\wandb\\sklearn\\plot\\classifier.py\", line 82, in classifier\n",
      "    feature_importances(model, feature_names)\n",
      "  File \"c:\\Users\\harsh\\anaconda3\\envs\\truck-delay\\lib\\site-packages\\wandb\\sklearn\\plot\\classifier.py\", line 250, in feature_importances\n",
      "    wandb.log({\"feature_importances\": feature_importance_chart})\n",
      "  File \"c:\\Users\\harsh\\anaconda3\\envs\\truck-delay\\lib\\site-packages\\wandb\\sdk\\wandb_run.py\", line 420, in wrapper\n",
      "    return func(self, *args, **kwargs)\n",
      "  File \"c:\\Users\\harsh\\anaconda3\\envs\\truck-delay\\lib\\site-packages\\wandb\\sdk\\wandb_run.py\", line 371, in wrapper_fn\n",
      "    return func(self, *args, **kwargs)\n",
      "  File \"c:\\Users\\harsh\\anaconda3\\envs\\truck-delay\\lib\\site-packages\\wandb\\sdk\\wandb_run.py\", line 361, in wrapper\n",
      "    return func(self, *args, **kwargs)\n",
      "  File \"c:\\Users\\harsh\\anaconda3\\envs\\truck-delay\\lib\\site-packages\\wandb\\sdk\\wandb_run.py\", line 1820, in log\n",
      "    self._log(data=data, step=step, commit=commit)\n",
      "  File \"c:\\Users\\harsh\\anaconda3\\envs\\truck-delay\\lib\\site-packages\\wandb\\sdk\\wandb_run.py\", line 1595, in _log\n",
      "    self._partial_history_callback(data, step, commit)\n",
      "  File \"c:\\Users\\harsh\\anaconda3\\envs\\truck-delay\\lib\\site-packages\\wandb\\sdk\\wandb_run.py\", line 1467, in _partial_history_callback\n",
      "    self._backend.interface.publish_partial_history(\n",
      "  File \"c:\\Users\\harsh\\anaconda3\\envs\\truck-delay\\lib\\site-packages\\wandb\\sdk\\interface\\interface.py\", line 549, in publish_partial_history\n",
      "    data = history_dict_to_json(run, data, step=user_step, ignore_copy_err=True)\n",
      "  File \"c:\\Users\\harsh\\anaconda3\\envs\\truck-delay\\lib\\site-packages\\wandb\\sdk\\data_types\\utils.py\", line 52, in history_dict_to_json\n",
      "    payload[key] = val_to_json(\n",
      "  File \"c:\\Users\\harsh\\anaconda3\\envs\\truck-delay\\lib\\site-packages\\wandb\\sdk\\data_types\\utils.py\", line 164, in val_to_json\n",
      "    val.bind_to_run(run, key, namespace)\n",
      "  File \"c:\\Users\\harsh\\anaconda3\\envs\\truck-delay\\lib\\site-packages\\wandb\\data_types.py\", line 541, in bind_to_run\n",
      "    with codecs.open(tmp_path, \"w\", encoding=\"utf-8\") as fp:\n",
      "  File \"c:\\Users\\harsh\\anaconda3\\envs\\truck-delay\\lib\\codecs.py\", line 905, in open\n",
      "    file = builtins.open(filename, mode, buffering)\n",
      "FileNotFoundError: [Errno 2] No such file or directory: 'C:\\\\Users\\\\harsh\\\\AppData\\\\Local\\\\Temp\\\\tmpqphwv_07wandb-media\\\\sh26qgui.table.json'\n"
     ]
    },
    {
     "name": "stdout",
     "output_type": "stream",
     "text": [
      "2024-08-05 17:45:00,950 WARNING: DeprecationWarning: Importing display from IPython.core.display is deprecated since IPython 7.14, please import from IPython display\n",
      "\n"
     ]
    },
    {
     "data": {
      "application/vnd.jupyter.widget-view+json": {
       "model_id": "9d8a7a01206c4b49b820ee6afd27f021",
       "version_major": 2,
       "version_minor": 0
      },
      "text/plain": [
       "VBox(children=(Label(value='0.009 MB of 0.009 MB uploaded\\r'), FloatProgress(value=1.0, max=1.0)))"
      ]
     },
     "metadata": {},
     "output_type": "display_data"
    },
    {
     "name": "stdout",
     "output_type": "stream",
     "text": [
      "2024-08-05 17:45:06,075 WARNING: DeprecationWarning: Importing display from IPython.core.display is deprecated since IPython 7.14, please import from IPython display\n",
      "\n"
     ]
    },
    {
     "data": {
      "text/html": [
       "<style>\n",
       "    table.wandb td:nth-child(1) { padding: 0 10px; text-align: left ; width: auto;} td:nth-child(2) {text-align: left ; width: 100%}\n",
       "    .wandb-row { display: flex; flex-direction: row; flex-wrap: wrap; justify-content: flex-start; width: 100% }\n",
       "    .wandb-col { display: flex; flex-direction: column; flex-basis: 100%; flex: 1; padding: 10px; }\n",
       "    </style>\n",
       "<div class=\"wandb-row\"><div class=\"wandb-col\"><h3>Run history:</h3><br/><table class=\"wandb\"><tr><td>f1_score</td><td>▁</td></tr><tr><td>f1_score_train</td><td>▁</td></tr><tr><td>f1_score_valid</td><td>▁</td></tr></table><br/></div><div class=\"wandb-col\"><h3>Run summary:</h3><br/><table class=\"wandb\"><tr><td>f1_score</td><td>0.75983</td></tr><tr><td>f1_score_train</td><td>0.57065</td></tr><tr><td>f1_score_valid</td><td>0.65965</td></tr></table><br/></div></div>"
      ],
      "text/plain": [
       "<IPython.core.display.HTML object>"
      ]
     },
     "metadata": {},
     "output_type": "display_data"
    },
    {
     "data": {
      "text/html": [
       " View run <strong style=\"color:#cdcd00\">toasty-sweep-29</strong> at: <a href='https://wandb.ai/harshmp/truck-delay-classification/runs/8lhudkuc' target=\"_blank\">https://wandb.ai/harshmp/truck-delay-classification/runs/8lhudkuc</a><br/>Synced 5 W&B file(s), 0 media file(s), 1 artifact file(s) and 0 other file(s)"
      ],
      "text/plain": [
       "<IPython.core.display.HTML object>"
      ]
     },
     "metadata": {},
     "output_type": "display_data"
    },
    {
     "data": {
      "text/html": [
       "Find logs at: <code>.\\wandb\\run-20240805_174453-8lhudkuc\\logs</code>"
      ],
      "text/plain": [
       "<IPython.core.display.HTML object>"
      ]
     },
     "metadata": {},
     "output_type": "display_data"
    },
    {
     "name": "stderr",
     "output_type": "stream",
     "text": [
      "Run 8lhudkuc errored: FileNotFoundError(2, 'No such file or directory')\n",
      "wandb: ERROR Run 8lhudkuc errored: FileNotFoundError(2, 'No such file or directory')\n",
      "wandb: Agent Starting Run: ilfnhzay with config:\n",
      "wandb: \tmax_depth: 5\n",
      "wandb: \tmin_samples_split: 12\n",
      "wandb: \tn_estimators: 12\n",
      "Failed to detect the name of this notebook, you can set it manually with the WANDB_NOTEBOOK_NAME environment variable to enable code saving.\n",
      "wandb: WARNING Ignored wandb.init() arg project when running a sweep.\n"
     ]
    },
    {
     "data": {
      "text/html": [
       "wandb version 0.17.5 is available!  To upgrade, please run:\n",
       " $ pip install wandb --upgrade"
      ],
      "text/plain": [
       "<IPython.core.display.HTML object>"
      ]
     },
     "metadata": {},
     "output_type": "display_data"
    },
    {
     "data": {
      "text/html": [
       "Tracking run with wandb version 0.16.1"
      ],
      "text/plain": [
       "<IPython.core.display.HTML object>"
      ]
     },
     "metadata": {},
     "output_type": "display_data"
    },
    {
     "data": {
      "text/html": [
       "Run data is saved locally in <code>e:\\Artificial Intelligence\\Projects\\Predictive-Truck-Delay-Management-in-Logistics\\wandb\\run-20240805_174514-ilfnhzay</code>"
      ],
      "text/plain": [
       "<IPython.core.display.HTML object>"
      ]
     },
     "metadata": {},
     "output_type": "display_data"
    },
    {
     "data": {
      "text/html": [
       "Syncing run <strong><a href='https://wandb.ai/harshmp/truck-delay-classification/runs/ilfnhzay' target=\"_blank\">ancient-sweep-30</a></strong> to <a href='https://wandb.ai/harshmp/truck-delay-classification' target=\"_blank\">Weights & Biases</a> (<a href='https://wandb.me/run' target=\"_blank\">docs</a>)<br/>Sweep page: <a href='https://wandb.ai/harshmp/truck-delay-classification/sweeps/20442i5p' target=\"_blank\">https://wandb.ai/harshmp/truck-delay-classification/sweeps/20442i5p</a>"
      ],
      "text/plain": [
       "<IPython.core.display.HTML object>"
      ]
     },
     "metadata": {},
     "output_type": "display_data"
    },
    {
     "data": {
      "text/html": [
       " View project at <a href='https://wandb.ai/harshmp/truck-delay-classification' target=\"_blank\">https://wandb.ai/harshmp/truck-delay-classification</a>"
      ],
      "text/plain": [
       "<IPython.core.display.HTML object>"
      ]
     },
     "metadata": {},
     "output_type": "display_data"
    },
    {
     "data": {
      "text/html": [
       " View sweep at <a href='https://wandb.ai/harshmp/truck-delay-classification/sweeps/20442i5p' target=\"_blank\">https://wandb.ai/harshmp/truck-delay-classification/sweeps/20442i5p</a>"
      ],
      "text/plain": [
       "<IPython.core.display.HTML object>"
      ]
     },
     "metadata": {},
     "output_type": "display_data"
    },
    {
     "data": {
      "text/html": [
       " View run at <a href='https://wandb.ai/harshmp/truck-delay-classification/runs/ilfnhzay' target=\"_blank\">https://wandb.ai/harshmp/truck-delay-classification/runs/ilfnhzay</a>"
      ],
      "text/plain": [
       "<IPython.core.display.HTML object>"
      ]
     },
     "metadata": {},
     "output_type": "display_data"
    },
    {
     "name": "stdout",
     "output_type": "stream",
     "text": [
      "F1_score Train: 0.5719\n",
      "F1_score Valid: 0.6648\n",
      "F1_score Test: 0.761\n"
     ]
    },
    {
     "name": "stderr",
     "output_type": "stream",
     "text": [
      "wandb: \n",
      "wandb: Plotting RandomForestClassifier.\n",
      "Traceback (most recent call last):\n",
      "  File \"C:\\Users\\harsh\\AppData\\Local\\Temp\\ipykernel_18532\\2640226391.py\", line 44, in train_rf_model\n",
      "    wandb.sklearn.plot_classifier(model, X_train, X_test, y_train, y_test, y_preds, y_probas, labels=None,\n",
      "  File \"c:\\Users\\harsh\\anaconda3\\envs\\truck-delay\\lib\\site-packages\\wandb\\sklearn\\plot\\classifier.py\", line 82, in classifier\n",
      "    feature_importances(model, feature_names)\n",
      "  File \"c:\\Users\\harsh\\anaconda3\\envs\\truck-delay\\lib\\site-packages\\wandb\\sklearn\\plot\\classifier.py\", line 250, in feature_importances\n",
      "    wandb.log({\"feature_importances\": feature_importance_chart})\n",
      "  File \"c:\\Users\\harsh\\anaconda3\\envs\\truck-delay\\lib\\site-packages\\wandb\\sdk\\wandb_run.py\", line 420, in wrapper\n",
      "    return func(self, *args, **kwargs)\n",
      "  File \"c:\\Users\\harsh\\anaconda3\\envs\\truck-delay\\lib\\site-packages\\wandb\\sdk\\wandb_run.py\", line 371, in wrapper_fn\n",
      "    return func(self, *args, **kwargs)\n",
      "  File \"c:\\Users\\harsh\\anaconda3\\envs\\truck-delay\\lib\\site-packages\\wandb\\sdk\\wandb_run.py\", line 361, in wrapper\n",
      "    return func(self, *args, **kwargs)\n",
      "  File \"c:\\Users\\harsh\\anaconda3\\envs\\truck-delay\\lib\\site-packages\\wandb\\sdk\\wandb_run.py\", line 1820, in log\n",
      "    self._log(data=data, step=step, commit=commit)\n",
      "  File \"c:\\Users\\harsh\\anaconda3\\envs\\truck-delay\\lib\\site-packages\\wandb\\sdk\\wandb_run.py\", line 1595, in _log\n",
      "    self._partial_history_callback(data, step, commit)\n",
      "  File \"c:\\Users\\harsh\\anaconda3\\envs\\truck-delay\\lib\\site-packages\\wandb\\sdk\\wandb_run.py\", line 1467, in _partial_history_callback\n",
      "    self._backend.interface.publish_partial_history(\n",
      "  File \"c:\\Users\\harsh\\anaconda3\\envs\\truck-delay\\lib\\site-packages\\wandb\\sdk\\interface\\interface.py\", line 549, in publish_partial_history\n",
      "    data = history_dict_to_json(run, data, step=user_step, ignore_copy_err=True)\n",
      "  File \"c:\\Users\\harsh\\anaconda3\\envs\\truck-delay\\lib\\site-packages\\wandb\\sdk\\data_types\\utils.py\", line 52, in history_dict_to_json\n",
      "    payload[key] = val_to_json(\n",
      "  File \"c:\\Users\\harsh\\anaconda3\\envs\\truck-delay\\lib\\site-packages\\wandb\\sdk\\data_types\\utils.py\", line 164, in val_to_json\n",
      "    val.bind_to_run(run, key, namespace)\n",
      "  File \"c:\\Users\\harsh\\anaconda3\\envs\\truck-delay\\lib\\site-packages\\wandb\\data_types.py\", line 541, in bind_to_run\n",
      "    with codecs.open(tmp_path, \"w\", encoding=\"utf-8\") as fp:\n",
      "  File \"c:\\Users\\harsh\\anaconda3\\envs\\truck-delay\\lib\\codecs.py\", line 905, in open\n",
      "    file = builtins.open(filename, mode, buffering)\n",
      "FileNotFoundError: [Errno 2] No such file or directory: 'C:\\\\Users\\\\harsh\\\\AppData\\\\Local\\\\Temp\\\\tmpqphwv_07wandb-media\\\\yi39qpkc.table.json'\n"
     ]
    },
    {
     "name": "stdout",
     "output_type": "stream",
     "text": [
      "2024-08-05 17:45:19,038 WARNING: DeprecationWarning: Importing display from IPython.core.display is deprecated since IPython 7.14, please import from IPython display\n",
      "\n"
     ]
    },
    {
     "data": {
      "application/vnd.jupyter.widget-view+json": {
       "model_id": "1bfa8eeab7a1490dbe2758948605400c",
       "version_major": 2,
       "version_minor": 0
      },
      "text/plain": [
       "VBox(children=(Label(value='0.009 MB of 0.009 MB uploaded\\r'), FloatProgress(value=1.0, max=1.0)))"
      ]
     },
     "metadata": {},
     "output_type": "display_data"
    },
    {
     "name": "stdout",
     "output_type": "stream",
     "text": [
      "2024-08-05 17:45:22,807 WARNING: DeprecationWarning: Importing display from IPython.core.display is deprecated since IPython 7.14, please import from IPython display\n",
      "\n"
     ]
    },
    {
     "data": {
      "text/html": [
       "<style>\n",
       "    table.wandb td:nth-child(1) { padding: 0 10px; text-align: left ; width: auto;} td:nth-child(2) {text-align: left ; width: 100%}\n",
       "    .wandb-row { display: flex; flex-direction: row; flex-wrap: wrap; justify-content: flex-start; width: 100% }\n",
       "    .wandb-col { display: flex; flex-direction: column; flex-basis: 100%; flex: 1; padding: 10px; }\n",
       "    </style>\n",
       "<div class=\"wandb-row\"><div class=\"wandb-col\"><h3>Run history:</h3><br/><table class=\"wandb\"><tr><td>f1_score</td><td>▁</td></tr><tr><td>f1_score_train</td><td>▁</td></tr><tr><td>f1_score_valid</td><td>▁</td></tr></table><br/></div><div class=\"wandb-col\"><h3>Run summary:</h3><br/><table class=\"wandb\"><tr><td>f1_score</td><td>0.76098</td></tr><tr><td>f1_score_train</td><td>0.57189</td></tr><tr><td>f1_score_valid</td><td>0.66482</td></tr></table><br/></div></div>"
      ],
      "text/plain": [
       "<IPython.core.display.HTML object>"
      ]
     },
     "metadata": {},
     "output_type": "display_data"
    },
    {
     "data": {
      "text/html": [
       " View run <strong style=\"color:#cdcd00\">ancient-sweep-30</strong> at: <a href='https://wandb.ai/harshmp/truck-delay-classification/runs/ilfnhzay' target=\"_blank\">https://wandb.ai/harshmp/truck-delay-classification/runs/ilfnhzay</a><br/>Synced 5 W&B file(s), 0 media file(s), 1 artifact file(s) and 0 other file(s)"
      ],
      "text/plain": [
       "<IPython.core.display.HTML object>"
      ]
     },
     "metadata": {},
     "output_type": "display_data"
    },
    {
     "data": {
      "text/html": [
       "Find logs at: <code>.\\wandb\\run-20240805_174514-ilfnhzay\\logs</code>"
      ],
      "text/plain": [
       "<IPython.core.display.HTML object>"
      ]
     },
     "metadata": {},
     "output_type": "display_data"
    },
    {
     "name": "stderr",
     "output_type": "stream",
     "text": [
      "Run ilfnhzay errored: FileNotFoundError(2, 'No such file or directory')\n",
      "wandb: ERROR Run ilfnhzay errored: FileNotFoundError(2, 'No such file or directory')\n",
      "wandb: Agent Starting Run: wmw534od with config:\n",
      "wandb: \tmax_depth: 5\n",
      "wandb: \tmin_samples_split: 12\n",
      "wandb: \tn_estimators: 16\n",
      "Failed to detect the name of this notebook, you can set it manually with the WANDB_NOTEBOOK_NAME environment variable to enable code saving.\n",
      "wandb: WARNING Ignored wandb.init() arg project when running a sweep.\n"
     ]
    },
    {
     "data": {
      "text/html": [
       "wandb version 0.17.5 is available!  To upgrade, please run:\n",
       " $ pip install wandb --upgrade"
      ],
      "text/plain": [
       "<IPython.core.display.HTML object>"
      ]
     },
     "metadata": {},
     "output_type": "display_data"
    },
    {
     "data": {
      "text/html": [
       "Tracking run with wandb version 0.16.1"
      ],
      "text/plain": [
       "<IPython.core.display.HTML object>"
      ]
     },
     "metadata": {},
     "output_type": "display_data"
    },
    {
     "data": {
      "text/html": [
       "Run data is saved locally in <code>e:\\Artificial Intelligence\\Projects\\Predictive-Truck-Delay-Management-in-Logistics\\wandb\\run-20240805_174534-wmw534od</code>"
      ],
      "text/plain": [
       "<IPython.core.display.HTML object>"
      ]
     },
     "metadata": {},
     "output_type": "display_data"
    },
    {
     "data": {
      "text/html": [
       "Syncing run <strong><a href='https://wandb.ai/harshmp/truck-delay-classification/runs/wmw534od' target=\"_blank\">swift-sweep-31</a></strong> to <a href='https://wandb.ai/harshmp/truck-delay-classification' target=\"_blank\">Weights & Biases</a> (<a href='https://wandb.me/run' target=\"_blank\">docs</a>)<br/>Sweep page: <a href='https://wandb.ai/harshmp/truck-delay-classification/sweeps/20442i5p' target=\"_blank\">https://wandb.ai/harshmp/truck-delay-classification/sweeps/20442i5p</a>"
      ],
      "text/plain": [
       "<IPython.core.display.HTML object>"
      ]
     },
     "metadata": {},
     "output_type": "display_data"
    },
    {
     "data": {
      "text/html": [
       " View project at <a href='https://wandb.ai/harshmp/truck-delay-classification' target=\"_blank\">https://wandb.ai/harshmp/truck-delay-classification</a>"
      ],
      "text/plain": [
       "<IPython.core.display.HTML object>"
      ]
     },
     "metadata": {},
     "output_type": "display_data"
    },
    {
     "data": {
      "text/html": [
       " View sweep at <a href='https://wandb.ai/harshmp/truck-delay-classification/sweeps/20442i5p' target=\"_blank\">https://wandb.ai/harshmp/truck-delay-classification/sweeps/20442i5p</a>"
      ],
      "text/plain": [
       "<IPython.core.display.HTML object>"
      ]
     },
     "metadata": {},
     "output_type": "display_data"
    },
    {
     "data": {
      "text/html": [
       " View run at <a href='https://wandb.ai/harshmp/truck-delay-classification/runs/wmw534od' target=\"_blank\">https://wandb.ai/harshmp/truck-delay-classification/runs/wmw534od</a>"
      ],
      "text/plain": [
       "<IPython.core.display.HTML object>"
      ]
     },
     "metadata": {},
     "output_type": "display_data"
    },
    {
     "name": "stdout",
     "output_type": "stream",
     "text": [
      "F1_score Train: 0.5726\n",
      "F1_score Valid: 0.6633\n",
      "F1_score Test: 0.762\n"
     ]
    },
    {
     "name": "stderr",
     "output_type": "stream",
     "text": [
      "wandb: \n",
      "wandb: Plotting RandomForestClassifier.\n",
      "Traceback (most recent call last):\n",
      "  File \"C:\\Users\\harsh\\AppData\\Local\\Temp\\ipykernel_18532\\2640226391.py\", line 44, in train_rf_model\n",
      "    wandb.sklearn.plot_classifier(model, X_train, X_test, y_train, y_test, y_preds, y_probas, labels=None,\n",
      "  File \"c:\\Users\\harsh\\anaconda3\\envs\\truck-delay\\lib\\site-packages\\wandb\\sklearn\\plot\\classifier.py\", line 82, in classifier\n",
      "    feature_importances(model, feature_names)\n",
      "  File \"c:\\Users\\harsh\\anaconda3\\envs\\truck-delay\\lib\\site-packages\\wandb\\sklearn\\plot\\classifier.py\", line 250, in feature_importances\n",
      "    wandb.log({\"feature_importances\": feature_importance_chart})\n",
      "  File \"c:\\Users\\harsh\\anaconda3\\envs\\truck-delay\\lib\\site-packages\\wandb\\sdk\\wandb_run.py\", line 420, in wrapper\n",
      "    return func(self, *args, **kwargs)\n",
      "  File \"c:\\Users\\harsh\\anaconda3\\envs\\truck-delay\\lib\\site-packages\\wandb\\sdk\\wandb_run.py\", line 371, in wrapper_fn\n",
      "    return func(self, *args, **kwargs)\n",
      "  File \"c:\\Users\\harsh\\anaconda3\\envs\\truck-delay\\lib\\site-packages\\wandb\\sdk\\wandb_run.py\", line 361, in wrapper\n",
      "    return func(self, *args, **kwargs)\n",
      "  File \"c:\\Users\\harsh\\anaconda3\\envs\\truck-delay\\lib\\site-packages\\wandb\\sdk\\wandb_run.py\", line 1820, in log\n",
      "    self._log(data=data, step=step, commit=commit)\n",
      "  File \"c:\\Users\\harsh\\anaconda3\\envs\\truck-delay\\lib\\site-packages\\wandb\\sdk\\wandb_run.py\", line 1595, in _log\n",
      "    self._partial_history_callback(data, step, commit)\n",
      "  File \"c:\\Users\\harsh\\anaconda3\\envs\\truck-delay\\lib\\site-packages\\wandb\\sdk\\wandb_run.py\", line 1467, in _partial_history_callback\n",
      "    self._backend.interface.publish_partial_history(\n",
      "  File \"c:\\Users\\harsh\\anaconda3\\envs\\truck-delay\\lib\\site-packages\\wandb\\sdk\\interface\\interface.py\", line 549, in publish_partial_history\n",
      "    data = history_dict_to_json(run, data, step=user_step, ignore_copy_err=True)\n",
      "  File \"c:\\Users\\harsh\\anaconda3\\envs\\truck-delay\\lib\\site-packages\\wandb\\sdk\\data_types\\utils.py\", line 52, in history_dict_to_json\n",
      "    payload[key] = val_to_json(\n",
      "  File \"c:\\Users\\harsh\\anaconda3\\envs\\truck-delay\\lib\\site-packages\\wandb\\sdk\\data_types\\utils.py\", line 164, in val_to_json\n",
      "    val.bind_to_run(run, key, namespace)\n",
      "  File \"c:\\Users\\harsh\\anaconda3\\envs\\truck-delay\\lib\\site-packages\\wandb\\data_types.py\", line 541, in bind_to_run\n",
      "    with codecs.open(tmp_path, \"w\", encoding=\"utf-8\") as fp:\n",
      "  File \"c:\\Users\\harsh\\anaconda3\\envs\\truck-delay\\lib\\codecs.py\", line 905, in open\n",
      "    file = builtins.open(filename, mode, buffering)\n",
      "FileNotFoundError: [Errno 2] No such file or directory: 'C:\\\\Users\\\\harsh\\\\AppData\\\\Local\\\\Temp\\\\tmpqphwv_07wandb-media\\\\9390djlp.table.json'\n"
     ]
    },
    {
     "name": "stdout",
     "output_type": "stream",
     "text": [
      "2024-08-05 17:45:38,987 WARNING: DeprecationWarning: Importing display from IPython.core.display is deprecated since IPython 7.14, please import from IPython display\n",
      "\n"
     ]
    },
    {
     "data": {
      "application/vnd.jupyter.widget-view+json": {
       "model_id": "0ea1ea1627c848f88cd79725b8a997dc",
       "version_major": 2,
       "version_minor": 0
      },
      "text/plain": [
       "VBox(children=(Label(value='0.009 MB of 0.009 MB uploaded\\r'), FloatProgress(value=1.0, max=1.0)))"
      ]
     },
     "metadata": {},
     "output_type": "display_data"
    },
    {
     "name": "stdout",
     "output_type": "stream",
     "text": [
      "2024-08-05 17:45:43,926 WARNING: DeprecationWarning: Importing display from IPython.core.display is deprecated since IPython 7.14, please import from IPython display\n",
      "\n"
     ]
    },
    {
     "data": {
      "text/html": [
       "<style>\n",
       "    table.wandb td:nth-child(1) { padding: 0 10px; text-align: left ; width: auto;} td:nth-child(2) {text-align: left ; width: 100%}\n",
       "    .wandb-row { display: flex; flex-direction: row; flex-wrap: wrap; justify-content: flex-start; width: 100% }\n",
       "    .wandb-col { display: flex; flex-direction: column; flex-basis: 100%; flex: 1; padding: 10px; }\n",
       "    </style>\n",
       "<div class=\"wandb-row\"><div class=\"wandb-col\"><h3>Run history:</h3><br/><table class=\"wandb\"><tr><td>f1_score</td><td>▁</td></tr><tr><td>f1_score_train</td><td>▁</td></tr><tr><td>f1_score_valid</td><td>▁</td></tr></table><br/></div><div class=\"wandb-col\"><h3>Run summary:</h3><br/><table class=\"wandb\"><tr><td>f1_score</td><td>0.76196</td></tr><tr><td>f1_score_train</td><td>0.57258</td></tr><tr><td>f1_score_valid</td><td>0.66334</td></tr></table><br/></div></div>"
      ],
      "text/plain": [
       "<IPython.core.display.HTML object>"
      ]
     },
     "metadata": {},
     "output_type": "display_data"
    },
    {
     "data": {
      "text/html": [
       " View run <strong style=\"color:#cdcd00\">swift-sweep-31</strong> at: <a href='https://wandb.ai/harshmp/truck-delay-classification/runs/wmw534od' target=\"_blank\">https://wandb.ai/harshmp/truck-delay-classification/runs/wmw534od</a><br/>Synced 5 W&B file(s), 0 media file(s), 1 artifact file(s) and 0 other file(s)"
      ],
      "text/plain": [
       "<IPython.core.display.HTML object>"
      ]
     },
     "metadata": {},
     "output_type": "display_data"
    },
    {
     "data": {
      "text/html": [
       "Find logs at: <code>.\\wandb\\run-20240805_174534-wmw534od\\logs</code>"
      ],
      "text/plain": [
       "<IPython.core.display.HTML object>"
      ]
     },
     "metadata": {},
     "output_type": "display_data"
    },
    {
     "name": "stderr",
     "output_type": "stream",
     "text": [
      "Run wmw534od errored: FileNotFoundError(2, 'No such file or directory')\n",
      "wandb: ERROR Run wmw534od errored: FileNotFoundError(2, 'No such file or directory')\n",
      "wandb: Agent Starting Run: gjdday4z with config:\n",
      "wandb: \tmax_depth: 5\n",
      "wandb: \tmin_samples_split: 12\n",
      "wandb: \tn_estimators: 20\n",
      "Failed to detect the name of this notebook, you can set it manually with the WANDB_NOTEBOOK_NAME environment variable to enable code saving.\n",
      "wandb: WARNING Ignored wandb.init() arg project when running a sweep.\n"
     ]
    },
    {
     "data": {
      "text/html": [
       "wandb version 0.17.5 is available!  To upgrade, please run:\n",
       " $ pip install wandb --upgrade"
      ],
      "text/plain": [
       "<IPython.core.display.HTML object>"
      ]
     },
     "metadata": {},
     "output_type": "display_data"
    },
    {
     "data": {
      "text/html": [
       "Tracking run with wandb version 0.16.1"
      ],
      "text/plain": [
       "<IPython.core.display.HTML object>"
      ]
     },
     "metadata": {},
     "output_type": "display_data"
    },
    {
     "data": {
      "text/html": [
       "Run data is saved locally in <code>e:\\Artificial Intelligence\\Projects\\Predictive-Truck-Delay-Management-in-Logistics\\wandb\\run-20240805_174554-gjdday4z</code>"
      ],
      "text/plain": [
       "<IPython.core.display.HTML object>"
      ]
     },
     "metadata": {},
     "output_type": "display_data"
    },
    {
     "data": {
      "text/html": [
       "Syncing run <strong><a href='https://wandb.ai/harshmp/truck-delay-classification/runs/gjdday4z' target=\"_blank\">balmy-sweep-32</a></strong> to <a href='https://wandb.ai/harshmp/truck-delay-classification' target=\"_blank\">Weights & Biases</a> (<a href='https://wandb.me/run' target=\"_blank\">docs</a>)<br/>Sweep page: <a href='https://wandb.ai/harshmp/truck-delay-classification/sweeps/20442i5p' target=\"_blank\">https://wandb.ai/harshmp/truck-delay-classification/sweeps/20442i5p</a>"
      ],
      "text/plain": [
       "<IPython.core.display.HTML object>"
      ]
     },
     "metadata": {},
     "output_type": "display_data"
    },
    {
     "data": {
      "text/html": [
       " View project at <a href='https://wandb.ai/harshmp/truck-delay-classification' target=\"_blank\">https://wandb.ai/harshmp/truck-delay-classification</a>"
      ],
      "text/plain": [
       "<IPython.core.display.HTML object>"
      ]
     },
     "metadata": {},
     "output_type": "display_data"
    },
    {
     "data": {
      "text/html": [
       " View sweep at <a href='https://wandb.ai/harshmp/truck-delay-classification/sweeps/20442i5p' target=\"_blank\">https://wandb.ai/harshmp/truck-delay-classification/sweeps/20442i5p</a>"
      ],
      "text/plain": [
       "<IPython.core.display.HTML object>"
      ]
     },
     "metadata": {},
     "output_type": "display_data"
    },
    {
     "data": {
      "text/html": [
       " View run at <a href='https://wandb.ai/harshmp/truck-delay-classification/runs/gjdday4z' target=\"_blank\">https://wandb.ai/harshmp/truck-delay-classification/runs/gjdday4z</a>"
      ],
      "text/plain": [
       "<IPython.core.display.HTML object>"
      ]
     },
     "metadata": {},
     "output_type": "display_data"
    },
    {
     "name": "stdout",
     "output_type": "stream",
     "text": [
      "F1_score Train: 0.5716\n",
      "F1_score Valid: 0.6633\n",
      "F1_score Test: 0.7618\n"
     ]
    },
    {
     "name": "stderr",
     "output_type": "stream",
     "text": [
      "wandb: \n",
      "wandb: Plotting RandomForestClassifier.\n",
      "Traceback (most recent call last):\n",
      "  File \"C:\\Users\\harsh\\AppData\\Local\\Temp\\ipykernel_18532\\2640226391.py\", line 44, in train_rf_model\n",
      "    wandb.sklearn.plot_classifier(model, X_train, X_test, y_train, y_test, y_preds, y_probas, labels=None,\n",
      "  File \"c:\\Users\\harsh\\anaconda3\\envs\\truck-delay\\lib\\site-packages\\wandb\\sklearn\\plot\\classifier.py\", line 82, in classifier\n",
      "    feature_importances(model, feature_names)\n",
      "  File \"c:\\Users\\harsh\\anaconda3\\envs\\truck-delay\\lib\\site-packages\\wandb\\sklearn\\plot\\classifier.py\", line 250, in feature_importances\n",
      "    wandb.log({\"feature_importances\": feature_importance_chart})\n",
      "  File \"c:\\Users\\harsh\\anaconda3\\envs\\truck-delay\\lib\\site-packages\\wandb\\sdk\\wandb_run.py\", line 420, in wrapper\n",
      "    return func(self, *args, **kwargs)\n",
      "  File \"c:\\Users\\harsh\\anaconda3\\envs\\truck-delay\\lib\\site-packages\\wandb\\sdk\\wandb_run.py\", line 371, in wrapper_fn\n",
      "    return func(self, *args, **kwargs)\n",
      "  File \"c:\\Users\\harsh\\anaconda3\\envs\\truck-delay\\lib\\site-packages\\wandb\\sdk\\wandb_run.py\", line 361, in wrapper\n",
      "    return func(self, *args, **kwargs)\n",
      "  File \"c:\\Users\\harsh\\anaconda3\\envs\\truck-delay\\lib\\site-packages\\wandb\\sdk\\wandb_run.py\", line 1820, in log\n",
      "    self._log(data=data, step=step, commit=commit)\n",
      "  File \"c:\\Users\\harsh\\anaconda3\\envs\\truck-delay\\lib\\site-packages\\wandb\\sdk\\wandb_run.py\", line 1595, in _log\n",
      "    self._partial_history_callback(data, step, commit)\n",
      "  File \"c:\\Users\\harsh\\anaconda3\\envs\\truck-delay\\lib\\site-packages\\wandb\\sdk\\wandb_run.py\", line 1467, in _partial_history_callback\n",
      "    self._backend.interface.publish_partial_history(\n",
      "  File \"c:\\Users\\harsh\\anaconda3\\envs\\truck-delay\\lib\\site-packages\\wandb\\sdk\\interface\\interface.py\", line 549, in publish_partial_history\n",
      "    data = history_dict_to_json(run, data, step=user_step, ignore_copy_err=True)\n",
      "  File \"c:\\Users\\harsh\\anaconda3\\envs\\truck-delay\\lib\\site-packages\\wandb\\sdk\\data_types\\utils.py\", line 52, in history_dict_to_json\n",
      "    payload[key] = val_to_json(\n",
      "  File \"c:\\Users\\harsh\\anaconda3\\envs\\truck-delay\\lib\\site-packages\\wandb\\sdk\\data_types\\utils.py\", line 164, in val_to_json\n",
      "    val.bind_to_run(run, key, namespace)\n",
      "  File \"c:\\Users\\harsh\\anaconda3\\envs\\truck-delay\\lib\\site-packages\\wandb\\data_types.py\", line 541, in bind_to_run\n",
      "    with codecs.open(tmp_path, \"w\", encoding=\"utf-8\") as fp:\n",
      "  File \"c:\\Users\\harsh\\anaconda3\\envs\\truck-delay\\lib\\codecs.py\", line 905, in open\n",
      "    file = builtins.open(filename, mode, buffering)\n",
      "FileNotFoundError: [Errno 2] No such file or directory: 'C:\\\\Users\\\\harsh\\\\AppData\\\\Local\\\\Temp\\\\tmpqphwv_07wandb-media\\\\7dy2vfjz.table.json'\n"
     ]
    },
    {
     "name": "stdout",
     "output_type": "stream",
     "text": [
      "2024-08-05 17:46:00,144 WARNING: DeprecationWarning: Importing display from IPython.core.display is deprecated since IPython 7.14, please import from IPython display\n",
      "\n"
     ]
    },
    {
     "data": {
      "application/vnd.jupyter.widget-view+json": {
       "model_id": "4235a075889045d4aa918385f8461da1",
       "version_major": 2,
       "version_minor": 0
      },
      "text/plain": [
       "VBox(children=(Label(value='0.009 MB of 0.009 MB uploaded\\r'), FloatProgress(value=1.0, max=1.0)))"
      ]
     },
     "metadata": {},
     "output_type": "display_data"
    },
    {
     "name": "stdout",
     "output_type": "stream",
     "text": [
      "2024-08-05 17:46:04,772 WARNING: DeprecationWarning: Importing display from IPython.core.display is deprecated since IPython 7.14, please import from IPython display\n",
      "\n"
     ]
    },
    {
     "data": {
      "text/html": [
       "<style>\n",
       "    table.wandb td:nth-child(1) { padding: 0 10px; text-align: left ; width: auto;} td:nth-child(2) {text-align: left ; width: 100%}\n",
       "    .wandb-row { display: flex; flex-direction: row; flex-wrap: wrap; justify-content: flex-start; width: 100% }\n",
       "    .wandb-col { display: flex; flex-direction: column; flex-basis: 100%; flex: 1; padding: 10px; }\n",
       "    </style>\n",
       "<div class=\"wandb-row\"><div class=\"wandb-col\"><h3>Run history:</h3><br/><table class=\"wandb\"><tr><td>f1_score</td><td>▁</td></tr><tr><td>f1_score_train</td><td>▁</td></tr><tr><td>f1_score_valid</td><td>▁</td></tr></table><br/></div><div class=\"wandb-col\"><h3>Run summary:</h3><br/><table class=\"wandb\"><tr><td>f1_score</td><td>0.76185</td></tr><tr><td>f1_score_train</td><td>0.57161</td></tr><tr><td>f1_score_valid</td><td>0.66335</td></tr></table><br/></div></div>"
      ],
      "text/plain": [
       "<IPython.core.display.HTML object>"
      ]
     },
     "metadata": {},
     "output_type": "display_data"
    },
    {
     "data": {
      "text/html": [
       " View run <strong style=\"color:#cdcd00\">balmy-sweep-32</strong> at: <a href='https://wandb.ai/harshmp/truck-delay-classification/runs/gjdday4z' target=\"_blank\">https://wandb.ai/harshmp/truck-delay-classification/runs/gjdday4z</a><br/>Synced 5 W&B file(s), 0 media file(s), 1 artifact file(s) and 0 other file(s)"
      ],
      "text/plain": [
       "<IPython.core.display.HTML object>"
      ]
     },
     "metadata": {},
     "output_type": "display_data"
    },
    {
     "data": {
      "text/html": [
       "Find logs at: <code>.\\wandb\\run-20240805_174554-gjdday4z\\logs</code>"
      ],
      "text/plain": [
       "<IPython.core.display.HTML object>"
      ]
     },
     "metadata": {},
     "output_type": "display_data"
    },
    {
     "name": "stderr",
     "output_type": "stream",
     "text": [
      "Run gjdday4z errored: FileNotFoundError(2, 'No such file or directory')\n",
      "wandb: ERROR Run gjdday4z errored: FileNotFoundError(2, 'No such file or directory')\n",
      "wandb: Agent Starting Run: t1q1p7rz with config:\n",
      "wandb: \tmax_depth: 10\n",
      "wandb: \tmin_samples_split: 2\n",
      "wandb: \tn_estimators: 8\n",
      "Failed to detect the name of this notebook, you can set it manually with the WANDB_NOTEBOOK_NAME environment variable to enable code saving.\n",
      "wandb: WARNING Ignored wandb.init() arg project when running a sweep.\n"
     ]
    },
    {
     "data": {
      "text/html": [
       "wandb version 0.17.5 is available!  To upgrade, please run:\n",
       " $ pip install wandb --upgrade"
      ],
      "text/plain": [
       "<IPython.core.display.HTML object>"
      ]
     },
     "metadata": {},
     "output_type": "display_data"
    },
    {
     "data": {
      "text/html": [
       "Tracking run with wandb version 0.16.1"
      ],
      "text/plain": [
       "<IPython.core.display.HTML object>"
      ]
     },
     "metadata": {},
     "output_type": "display_data"
    },
    {
     "data": {
      "text/html": [
       "Run data is saved locally in <code>e:\\Artificial Intelligence\\Projects\\Predictive-Truck-Delay-Management-in-Logistics\\wandb\\run-20240805_174615-t1q1p7rz</code>"
      ],
      "text/plain": [
       "<IPython.core.display.HTML object>"
      ]
     },
     "metadata": {},
     "output_type": "display_data"
    },
    {
     "data": {
      "text/html": [
       "Syncing run <strong><a href='https://wandb.ai/harshmp/truck-delay-classification/runs/t1q1p7rz' target=\"_blank\">blooming-sweep-33</a></strong> to <a href='https://wandb.ai/harshmp/truck-delay-classification' target=\"_blank\">Weights & Biases</a> (<a href='https://wandb.me/run' target=\"_blank\">docs</a>)<br/>Sweep page: <a href='https://wandb.ai/harshmp/truck-delay-classification/sweeps/20442i5p' target=\"_blank\">https://wandb.ai/harshmp/truck-delay-classification/sweeps/20442i5p</a>"
      ],
      "text/plain": [
       "<IPython.core.display.HTML object>"
      ]
     },
     "metadata": {},
     "output_type": "display_data"
    },
    {
     "data": {
      "text/html": [
       " View project at <a href='https://wandb.ai/harshmp/truck-delay-classification' target=\"_blank\">https://wandb.ai/harshmp/truck-delay-classification</a>"
      ],
      "text/plain": [
       "<IPython.core.display.HTML object>"
      ]
     },
     "metadata": {},
     "output_type": "display_data"
    },
    {
     "data": {
      "text/html": [
       " View sweep at <a href='https://wandb.ai/harshmp/truck-delay-classification/sweeps/20442i5p' target=\"_blank\">https://wandb.ai/harshmp/truck-delay-classification/sweeps/20442i5p</a>"
      ],
      "text/plain": [
       "<IPython.core.display.HTML object>"
      ]
     },
     "metadata": {},
     "output_type": "display_data"
    },
    {
     "data": {
      "text/html": [
       " View run at <a href='https://wandb.ai/harshmp/truck-delay-classification/runs/t1q1p7rz' target=\"_blank\">https://wandb.ai/harshmp/truck-delay-classification/runs/t1q1p7rz</a>"
      ],
      "text/plain": [
       "<IPython.core.display.HTML object>"
      ]
     },
     "metadata": {},
     "output_type": "display_data"
    },
    {
     "name": "stdout",
     "output_type": "stream",
     "text": [
      "F1_score Train: 0.6851\n",
      "F1_score Valid: 0.6511\n",
      "F1_score Test: 0.7309\n"
     ]
    },
    {
     "name": "stderr",
     "output_type": "stream",
     "text": [
      "wandb: \n",
      "wandb: Plotting RandomForestClassifier.\n",
      "Traceback (most recent call last):\n",
      "  File \"C:\\Users\\harsh\\AppData\\Local\\Temp\\ipykernel_18532\\2640226391.py\", line 44, in train_rf_model\n",
      "    wandb.sklearn.plot_classifier(model, X_train, X_test, y_train, y_test, y_preds, y_probas, labels=None,\n",
      "  File \"c:\\Users\\harsh\\anaconda3\\envs\\truck-delay\\lib\\site-packages\\wandb\\sklearn\\plot\\classifier.py\", line 82, in classifier\n",
      "    feature_importances(model, feature_names)\n",
      "  File \"c:\\Users\\harsh\\anaconda3\\envs\\truck-delay\\lib\\site-packages\\wandb\\sklearn\\plot\\classifier.py\", line 250, in feature_importances\n",
      "    wandb.log({\"feature_importances\": feature_importance_chart})\n",
      "  File \"c:\\Users\\harsh\\anaconda3\\envs\\truck-delay\\lib\\site-packages\\wandb\\sdk\\wandb_run.py\", line 420, in wrapper\n",
      "    return func(self, *args, **kwargs)\n",
      "  File \"c:\\Users\\harsh\\anaconda3\\envs\\truck-delay\\lib\\site-packages\\wandb\\sdk\\wandb_run.py\", line 371, in wrapper_fn\n",
      "    return func(self, *args, **kwargs)\n",
      "  File \"c:\\Users\\harsh\\anaconda3\\envs\\truck-delay\\lib\\site-packages\\wandb\\sdk\\wandb_run.py\", line 361, in wrapper\n",
      "    return func(self, *args, **kwargs)\n",
      "  File \"c:\\Users\\harsh\\anaconda3\\envs\\truck-delay\\lib\\site-packages\\wandb\\sdk\\wandb_run.py\", line 1820, in log\n",
      "    self._log(data=data, step=step, commit=commit)\n",
      "  File \"c:\\Users\\harsh\\anaconda3\\envs\\truck-delay\\lib\\site-packages\\wandb\\sdk\\wandb_run.py\", line 1595, in _log\n",
      "    self._partial_history_callback(data, step, commit)\n",
      "  File \"c:\\Users\\harsh\\anaconda3\\envs\\truck-delay\\lib\\site-packages\\wandb\\sdk\\wandb_run.py\", line 1467, in _partial_history_callback\n",
      "    self._backend.interface.publish_partial_history(\n",
      "  File \"c:\\Users\\harsh\\anaconda3\\envs\\truck-delay\\lib\\site-packages\\wandb\\sdk\\interface\\interface.py\", line 549, in publish_partial_history\n",
      "    data = history_dict_to_json(run, data, step=user_step, ignore_copy_err=True)\n",
      "  File \"c:\\Users\\harsh\\anaconda3\\envs\\truck-delay\\lib\\site-packages\\wandb\\sdk\\data_types\\utils.py\", line 52, in history_dict_to_json\n",
      "    payload[key] = val_to_json(\n",
      "  File \"c:\\Users\\harsh\\anaconda3\\envs\\truck-delay\\lib\\site-packages\\wandb\\sdk\\data_types\\utils.py\", line 164, in val_to_json\n",
      "    val.bind_to_run(run, key, namespace)\n",
      "  File \"c:\\Users\\harsh\\anaconda3\\envs\\truck-delay\\lib\\site-packages\\wandb\\data_types.py\", line 541, in bind_to_run\n",
      "    with codecs.open(tmp_path, \"w\", encoding=\"utf-8\") as fp:\n",
      "  File \"c:\\Users\\harsh\\anaconda3\\envs\\truck-delay\\lib\\codecs.py\", line 905, in open\n",
      "    file = builtins.open(filename, mode, buffering)\n",
      "FileNotFoundError: [Errno 2] No such file or directory: 'C:\\\\Users\\\\harsh\\\\AppData\\\\Local\\\\Temp\\\\tmpqphwv_07wandb-media\\\\0ldsishr.table.json'\n"
     ]
    },
    {
     "name": "stdout",
     "output_type": "stream",
     "text": [
      "2024-08-05 17:46:20,352 WARNING: DeprecationWarning: Importing display from IPython.core.display is deprecated since IPython 7.14, please import from IPython display\n",
      "\n"
     ]
    },
    {
     "data": {
      "application/vnd.jupyter.widget-view+json": {
       "model_id": "70b1fd1b4b324373b9f439e838a36f91",
       "version_major": 2,
       "version_minor": 0
      },
      "text/plain": [
       "VBox(children=(Label(value='0.010 MB of 0.010 MB uploaded\\r'), FloatProgress(value=1.0, max=1.0)))"
      ]
     },
     "metadata": {},
     "output_type": "display_data"
    },
    {
     "name": "stdout",
     "output_type": "stream",
     "text": [
      "2024-08-05 17:46:28,750 WARNING: DeprecationWarning: Importing display from IPython.core.display is deprecated since IPython 7.14, please import from IPython display\n",
      "\n"
     ]
    },
    {
     "data": {
      "text/html": [
       "<style>\n",
       "    table.wandb td:nth-child(1) { padding: 0 10px; text-align: left ; width: auto;} td:nth-child(2) {text-align: left ; width: 100%}\n",
       "    .wandb-row { display: flex; flex-direction: row; flex-wrap: wrap; justify-content: flex-start; width: 100% }\n",
       "    .wandb-col { display: flex; flex-direction: column; flex-basis: 100%; flex: 1; padding: 10px; }\n",
       "    </style>\n",
       "<div class=\"wandb-row\"><div class=\"wandb-col\"><h3>Run history:</h3><br/><table class=\"wandb\"><tr><td>f1_score</td><td>▁</td></tr><tr><td>f1_score_train</td><td>▁</td></tr><tr><td>f1_score_valid</td><td>▁</td></tr></table><br/></div><div class=\"wandb-col\"><h3>Run summary:</h3><br/><table class=\"wandb\"><tr><td>f1_score</td><td>0.73092</td></tr><tr><td>f1_score_train</td><td>0.68513</td></tr><tr><td>f1_score_valid</td><td>0.6511</td></tr></table><br/></div></div>"
      ],
      "text/plain": [
       "<IPython.core.display.HTML object>"
      ]
     },
     "metadata": {},
     "output_type": "display_data"
    },
    {
     "data": {
      "text/html": [
       " View run <strong style=\"color:#cdcd00\">blooming-sweep-33</strong> at: <a href='https://wandb.ai/harshmp/truck-delay-classification/runs/t1q1p7rz' target=\"_blank\">https://wandb.ai/harshmp/truck-delay-classification/runs/t1q1p7rz</a><br/>Synced 5 W&B file(s), 0 media file(s), 1 artifact file(s) and 0 other file(s)"
      ],
      "text/plain": [
       "<IPython.core.display.HTML object>"
      ]
     },
     "metadata": {},
     "output_type": "display_data"
    },
    {
     "data": {
      "text/html": [
       "Find logs at: <code>.\\wandb\\run-20240805_174615-t1q1p7rz\\logs</code>"
      ],
      "text/plain": [
       "<IPython.core.display.HTML object>"
      ]
     },
     "metadata": {},
     "output_type": "display_data"
    },
    {
     "name": "stderr",
     "output_type": "stream",
     "text": [
      "Run t1q1p7rz errored: FileNotFoundError(2, 'No such file or directory')\n",
      "wandb: ERROR Run t1q1p7rz errored: FileNotFoundError(2, 'No such file or directory')\n",
      "wandb: Agent Starting Run: xmcaotqy with config:\n",
      "wandb: \tmax_depth: 10\n",
      "wandb: \tmin_samples_split: 2\n",
      "wandb: \tn_estimators: 12\n",
      "Failed to detect the name of this notebook, you can set it manually with the WANDB_NOTEBOOK_NAME environment variable to enable code saving.\n",
      "wandb: WARNING Ignored wandb.init() arg project when running a sweep.\n"
     ]
    },
    {
     "data": {
      "text/html": [
       "wandb version 0.17.5 is available!  To upgrade, please run:\n",
       " $ pip install wandb --upgrade"
      ],
      "text/plain": [
       "<IPython.core.display.HTML object>"
      ]
     },
     "metadata": {},
     "output_type": "display_data"
    },
    {
     "data": {
      "text/html": [
       "Tracking run with wandb version 0.16.1"
      ],
      "text/plain": [
       "<IPython.core.display.HTML object>"
      ]
     },
     "metadata": {},
     "output_type": "display_data"
    },
    {
     "data": {
      "text/html": [
       "Run data is saved locally in <code>e:\\Artificial Intelligence\\Projects\\Predictive-Truck-Delay-Management-in-Logistics\\wandb\\run-20240805_174636-xmcaotqy</code>"
      ],
      "text/plain": [
       "<IPython.core.display.HTML object>"
      ]
     },
     "metadata": {},
     "output_type": "display_data"
    },
    {
     "data": {
      "text/html": [
       "Syncing run <strong><a href='https://wandb.ai/harshmp/truck-delay-classification/runs/xmcaotqy' target=\"_blank\">legendary-sweep-34</a></strong> to <a href='https://wandb.ai/harshmp/truck-delay-classification' target=\"_blank\">Weights & Biases</a> (<a href='https://wandb.me/run' target=\"_blank\">docs</a>)<br/>Sweep page: <a href='https://wandb.ai/harshmp/truck-delay-classification/sweeps/20442i5p' target=\"_blank\">https://wandb.ai/harshmp/truck-delay-classification/sweeps/20442i5p</a>"
      ],
      "text/plain": [
       "<IPython.core.display.HTML object>"
      ]
     },
     "metadata": {},
     "output_type": "display_data"
    },
    {
     "data": {
      "text/html": [
       " View project at <a href='https://wandb.ai/harshmp/truck-delay-classification' target=\"_blank\">https://wandb.ai/harshmp/truck-delay-classification</a>"
      ],
      "text/plain": [
       "<IPython.core.display.HTML object>"
      ]
     },
     "metadata": {},
     "output_type": "display_data"
    },
    {
     "data": {
      "text/html": [
       " View sweep at <a href='https://wandb.ai/harshmp/truck-delay-classification/sweeps/20442i5p' target=\"_blank\">https://wandb.ai/harshmp/truck-delay-classification/sweeps/20442i5p</a>"
      ],
      "text/plain": [
       "<IPython.core.display.HTML object>"
      ]
     },
     "metadata": {},
     "output_type": "display_data"
    },
    {
     "data": {
      "text/html": [
       " View run at <a href='https://wandb.ai/harshmp/truck-delay-classification/runs/xmcaotqy' target=\"_blank\">https://wandb.ai/harshmp/truck-delay-classification/runs/xmcaotqy</a>"
      ],
      "text/plain": [
       "<IPython.core.display.HTML object>"
      ]
     },
     "metadata": {},
     "output_type": "display_data"
    },
    {
     "name": "stdout",
     "output_type": "stream",
     "text": [
      "F1_score Train: 0.69\n",
      "F1_score Valid: 0.6552\n",
      "F1_score Test: 0.7452\n"
     ]
    },
    {
     "name": "stderr",
     "output_type": "stream",
     "text": [
      "wandb: \n",
      "wandb: Plotting RandomForestClassifier.\n",
      "Traceback (most recent call last):\n",
      "  File \"C:\\Users\\harsh\\AppData\\Local\\Temp\\ipykernel_18532\\2640226391.py\", line 44, in train_rf_model\n",
      "    wandb.sklearn.plot_classifier(model, X_train, X_test, y_train, y_test, y_preds, y_probas, labels=None,\n",
      "  File \"c:\\Users\\harsh\\anaconda3\\envs\\truck-delay\\lib\\site-packages\\wandb\\sklearn\\plot\\classifier.py\", line 82, in classifier\n",
      "    feature_importances(model, feature_names)\n",
      "  File \"c:\\Users\\harsh\\anaconda3\\envs\\truck-delay\\lib\\site-packages\\wandb\\sklearn\\plot\\classifier.py\", line 250, in feature_importances\n",
      "    wandb.log({\"feature_importances\": feature_importance_chart})\n",
      "  File \"c:\\Users\\harsh\\anaconda3\\envs\\truck-delay\\lib\\site-packages\\wandb\\sdk\\wandb_run.py\", line 420, in wrapper\n",
      "    return func(self, *args, **kwargs)\n",
      "  File \"c:\\Users\\harsh\\anaconda3\\envs\\truck-delay\\lib\\site-packages\\wandb\\sdk\\wandb_run.py\", line 371, in wrapper_fn\n",
      "    return func(self, *args, **kwargs)\n",
      "  File \"c:\\Users\\harsh\\anaconda3\\envs\\truck-delay\\lib\\site-packages\\wandb\\sdk\\wandb_run.py\", line 361, in wrapper\n",
      "    return func(self, *args, **kwargs)\n",
      "  File \"c:\\Users\\harsh\\anaconda3\\envs\\truck-delay\\lib\\site-packages\\wandb\\sdk\\wandb_run.py\", line 1820, in log\n",
      "    self._log(data=data, step=step, commit=commit)\n",
      "  File \"c:\\Users\\harsh\\anaconda3\\envs\\truck-delay\\lib\\site-packages\\wandb\\sdk\\wandb_run.py\", line 1595, in _log\n",
      "    self._partial_history_callback(data, step, commit)\n",
      "  File \"c:\\Users\\harsh\\anaconda3\\envs\\truck-delay\\lib\\site-packages\\wandb\\sdk\\wandb_run.py\", line 1467, in _partial_history_callback\n",
      "    self._backend.interface.publish_partial_history(\n",
      "  File \"c:\\Users\\harsh\\anaconda3\\envs\\truck-delay\\lib\\site-packages\\wandb\\sdk\\interface\\interface.py\", line 549, in publish_partial_history\n",
      "    data = history_dict_to_json(run, data, step=user_step, ignore_copy_err=True)\n",
      "  File \"c:\\Users\\harsh\\anaconda3\\envs\\truck-delay\\lib\\site-packages\\wandb\\sdk\\data_types\\utils.py\", line 52, in history_dict_to_json\n",
      "    payload[key] = val_to_json(\n",
      "  File \"c:\\Users\\harsh\\anaconda3\\envs\\truck-delay\\lib\\site-packages\\wandb\\sdk\\data_types\\utils.py\", line 164, in val_to_json\n",
      "    val.bind_to_run(run, key, namespace)\n",
      "  File \"c:\\Users\\harsh\\anaconda3\\envs\\truck-delay\\lib\\site-packages\\wandb\\data_types.py\", line 541, in bind_to_run\n",
      "    with codecs.open(tmp_path, \"w\", encoding=\"utf-8\") as fp:\n",
      "  File \"c:\\Users\\harsh\\anaconda3\\envs\\truck-delay\\lib\\codecs.py\", line 905, in open\n",
      "    file = builtins.open(filename, mode, buffering)\n",
      "FileNotFoundError: [Errno 2] No such file or directory: 'C:\\\\Users\\\\harsh\\\\AppData\\\\Local\\\\Temp\\\\tmpqphwv_07wandb-media\\\\9f82fkxb.table.json'\n"
     ]
    },
    {
     "name": "stdout",
     "output_type": "stream",
     "text": [
      "2024-08-05 17:46:41,556 WARNING: DeprecationWarning: Importing display from IPython.core.display is deprecated since IPython 7.14, please import from IPython display\n",
      "\n"
     ]
    },
    {
     "data": {
      "application/vnd.jupyter.widget-view+json": {
       "model_id": "be84e387dc2f4b92bc706bf6cc435efb",
       "version_major": 2,
       "version_minor": 0
      },
      "text/plain": [
       "VBox(children=(Label(value='0.010 MB of 0.010 MB uploaded\\r'), FloatProgress(value=1.0, max=1.0)))"
      ]
     },
     "metadata": {},
     "output_type": "display_data"
    },
    {
     "name": "stdout",
     "output_type": "stream",
     "text": [
      "2024-08-05 17:46:46,423 WARNING: DeprecationWarning: Importing display from IPython.core.display is deprecated since IPython 7.14, please import from IPython display\n",
      "\n"
     ]
    },
    {
     "data": {
      "text/html": [
       "<style>\n",
       "    table.wandb td:nth-child(1) { padding: 0 10px; text-align: left ; width: auto;} td:nth-child(2) {text-align: left ; width: 100%}\n",
       "    .wandb-row { display: flex; flex-direction: row; flex-wrap: wrap; justify-content: flex-start; width: 100% }\n",
       "    .wandb-col { display: flex; flex-direction: column; flex-basis: 100%; flex: 1; padding: 10px; }\n",
       "    </style>\n",
       "<div class=\"wandb-row\"><div class=\"wandb-col\"><h3>Run history:</h3><br/><table class=\"wandb\"><tr><td>f1_score</td><td>▁</td></tr><tr><td>f1_score_train</td><td>▁</td></tr><tr><td>f1_score_valid</td><td>▁</td></tr></table><br/></div><div class=\"wandb-col\"><h3>Run summary:</h3><br/><table class=\"wandb\"><tr><td>f1_score</td><td>0.74515</td></tr><tr><td>f1_score_train</td><td>0.69005</td></tr><tr><td>f1_score_valid</td><td>0.65519</td></tr></table><br/></div></div>"
      ],
      "text/plain": [
       "<IPython.core.display.HTML object>"
      ]
     },
     "metadata": {},
     "output_type": "display_data"
    },
    {
     "data": {
      "text/html": [
       " View run <strong style=\"color:#cdcd00\">legendary-sweep-34</strong> at: <a href='https://wandb.ai/harshmp/truck-delay-classification/runs/xmcaotqy' target=\"_blank\">https://wandb.ai/harshmp/truck-delay-classification/runs/xmcaotqy</a><br/>Synced 5 W&B file(s), 0 media file(s), 1 artifact file(s) and 0 other file(s)"
      ],
      "text/plain": [
       "<IPython.core.display.HTML object>"
      ]
     },
     "metadata": {},
     "output_type": "display_data"
    },
    {
     "data": {
      "text/html": [
       "Find logs at: <code>.\\wandb\\run-20240805_174636-xmcaotqy\\logs</code>"
      ],
      "text/plain": [
       "<IPython.core.display.HTML object>"
      ]
     },
     "metadata": {},
     "output_type": "display_data"
    },
    {
     "name": "stderr",
     "output_type": "stream",
     "text": [
      "Run xmcaotqy errored: FileNotFoundError(2, 'No such file or directory')\n",
      "wandb: ERROR Run xmcaotqy errored: FileNotFoundError(2, 'No such file or directory')\n",
      "wandb: Agent Starting Run: 75kta7ua with config:\n",
      "wandb: \tmax_depth: 10\n",
      "wandb: \tmin_samples_split: 2\n",
      "wandb: \tn_estimators: 16\n",
      "Failed to detect the name of this notebook, you can set it manually with the WANDB_NOTEBOOK_NAME environment variable to enable code saving.\n",
      "wandb: WARNING Ignored wandb.init() arg project when running a sweep.\n"
     ]
    },
    {
     "data": {
      "text/html": [
       "wandb version 0.17.5 is available!  To upgrade, please run:\n",
       " $ pip install wandb --upgrade"
      ],
      "text/plain": [
       "<IPython.core.display.HTML object>"
      ]
     },
     "metadata": {},
     "output_type": "display_data"
    },
    {
     "data": {
      "text/html": [
       "Tracking run with wandb version 0.16.1"
      ],
      "text/plain": [
       "<IPython.core.display.HTML object>"
      ]
     },
     "metadata": {},
     "output_type": "display_data"
    },
    {
     "data": {
      "text/html": [
       "Run data is saved locally in <code>e:\\Artificial Intelligence\\Projects\\Predictive-Truck-Delay-Management-in-Logistics\\wandb\\run-20240805_174656-75kta7ua</code>"
      ],
      "text/plain": [
       "<IPython.core.display.HTML object>"
      ]
     },
     "metadata": {},
     "output_type": "display_data"
    },
    {
     "data": {
      "text/html": [
       "Syncing run <strong><a href='https://wandb.ai/harshmp/truck-delay-classification/runs/75kta7ua' target=\"_blank\">logical-sweep-35</a></strong> to <a href='https://wandb.ai/harshmp/truck-delay-classification' target=\"_blank\">Weights & Biases</a> (<a href='https://wandb.me/run' target=\"_blank\">docs</a>)<br/>Sweep page: <a href='https://wandb.ai/harshmp/truck-delay-classification/sweeps/20442i5p' target=\"_blank\">https://wandb.ai/harshmp/truck-delay-classification/sweeps/20442i5p</a>"
      ],
      "text/plain": [
       "<IPython.core.display.HTML object>"
      ]
     },
     "metadata": {},
     "output_type": "display_data"
    },
    {
     "data": {
      "text/html": [
       " View project at <a href='https://wandb.ai/harshmp/truck-delay-classification' target=\"_blank\">https://wandb.ai/harshmp/truck-delay-classification</a>"
      ],
      "text/plain": [
       "<IPython.core.display.HTML object>"
      ]
     },
     "metadata": {},
     "output_type": "display_data"
    },
    {
     "data": {
      "text/html": [
       " View sweep at <a href='https://wandb.ai/harshmp/truck-delay-classification/sweeps/20442i5p' target=\"_blank\">https://wandb.ai/harshmp/truck-delay-classification/sweeps/20442i5p</a>"
      ],
      "text/plain": [
       "<IPython.core.display.HTML object>"
      ]
     },
     "metadata": {},
     "output_type": "display_data"
    },
    {
     "data": {
      "text/html": [
       " View run at <a href='https://wandb.ai/harshmp/truck-delay-classification/runs/75kta7ua' target=\"_blank\">https://wandb.ai/harshmp/truck-delay-classification/runs/75kta7ua</a>"
      ],
      "text/plain": [
       "<IPython.core.display.HTML object>"
      ]
     },
     "metadata": {},
     "output_type": "display_data"
    },
    {
     "name": "stdout",
     "output_type": "stream",
     "text": [
      "F1_score Train: 0.6933\n",
      "F1_score Valid: 0.6662\n",
      "F1_score Test: 0.748\n"
     ]
    },
    {
     "name": "stderr",
     "output_type": "stream",
     "text": [
      "wandb: \n",
      "wandb: Plotting RandomForestClassifier.\n",
      "Traceback (most recent call last):\n",
      "  File \"C:\\Users\\harsh\\AppData\\Local\\Temp\\ipykernel_18532\\2640226391.py\", line 44, in train_rf_model\n",
      "    wandb.sklearn.plot_classifier(model, X_train, X_test, y_train, y_test, y_preds, y_probas, labels=None,\n",
      "  File \"c:\\Users\\harsh\\anaconda3\\envs\\truck-delay\\lib\\site-packages\\wandb\\sklearn\\plot\\classifier.py\", line 82, in classifier\n",
      "    feature_importances(model, feature_names)\n",
      "  File \"c:\\Users\\harsh\\anaconda3\\envs\\truck-delay\\lib\\site-packages\\wandb\\sklearn\\plot\\classifier.py\", line 250, in feature_importances\n",
      "    wandb.log({\"feature_importances\": feature_importance_chart})\n",
      "  File \"c:\\Users\\harsh\\anaconda3\\envs\\truck-delay\\lib\\site-packages\\wandb\\sdk\\wandb_run.py\", line 420, in wrapper\n",
      "    return func(self, *args, **kwargs)\n",
      "  File \"c:\\Users\\harsh\\anaconda3\\envs\\truck-delay\\lib\\site-packages\\wandb\\sdk\\wandb_run.py\", line 371, in wrapper_fn\n",
      "    return func(self, *args, **kwargs)\n",
      "  File \"c:\\Users\\harsh\\anaconda3\\envs\\truck-delay\\lib\\site-packages\\wandb\\sdk\\wandb_run.py\", line 361, in wrapper\n",
      "    return func(self, *args, **kwargs)\n",
      "  File \"c:\\Users\\harsh\\anaconda3\\envs\\truck-delay\\lib\\site-packages\\wandb\\sdk\\wandb_run.py\", line 1820, in log\n",
      "    self._log(data=data, step=step, commit=commit)\n",
      "  File \"c:\\Users\\harsh\\anaconda3\\envs\\truck-delay\\lib\\site-packages\\wandb\\sdk\\wandb_run.py\", line 1595, in _log\n",
      "    self._partial_history_callback(data, step, commit)\n",
      "  File \"c:\\Users\\harsh\\anaconda3\\envs\\truck-delay\\lib\\site-packages\\wandb\\sdk\\wandb_run.py\", line 1467, in _partial_history_callback\n",
      "    self._backend.interface.publish_partial_history(\n",
      "  File \"c:\\Users\\harsh\\anaconda3\\envs\\truck-delay\\lib\\site-packages\\wandb\\sdk\\interface\\interface.py\", line 549, in publish_partial_history\n",
      "    data = history_dict_to_json(run, data, step=user_step, ignore_copy_err=True)\n",
      "  File \"c:\\Users\\harsh\\anaconda3\\envs\\truck-delay\\lib\\site-packages\\wandb\\sdk\\data_types\\utils.py\", line 52, in history_dict_to_json\n",
      "    payload[key] = val_to_json(\n",
      "  File \"c:\\Users\\harsh\\anaconda3\\envs\\truck-delay\\lib\\site-packages\\wandb\\sdk\\data_types\\utils.py\", line 164, in val_to_json\n",
      "    val.bind_to_run(run, key, namespace)\n",
      "  File \"c:\\Users\\harsh\\anaconda3\\envs\\truck-delay\\lib\\site-packages\\wandb\\data_types.py\", line 541, in bind_to_run\n",
      "    with codecs.open(tmp_path, \"w\", encoding=\"utf-8\") as fp:\n",
      "  File \"c:\\Users\\harsh\\anaconda3\\envs\\truck-delay\\lib\\codecs.py\", line 905, in open\n",
      "    file = builtins.open(filename, mode, buffering)\n",
      "FileNotFoundError: [Errno 2] No such file or directory: 'C:\\\\Users\\\\harsh\\\\AppData\\\\Local\\\\Temp\\\\tmpqphwv_07wandb-media\\\\0poigp66.table.json'\n"
     ]
    },
    {
     "name": "stdout",
     "output_type": "stream",
     "text": [
      "2024-08-05 17:47:05,620 WARNING: DeprecationWarning: Importing display from IPython.core.display is deprecated since IPython 7.14, please import from IPython display\n",
      "\n"
     ]
    },
    {
     "data": {
      "application/vnd.jupyter.widget-view+json": {
       "model_id": "3a0afe9975674efd9a103b1692acd994",
       "version_major": 2,
       "version_minor": 0
      },
      "text/plain": [
       "VBox(children=(Label(value='0.010 MB of 0.010 MB uploaded\\r'), FloatProgress(value=1.0, max=1.0)))"
      ]
     },
     "metadata": {},
     "output_type": "display_data"
    },
    {
     "name": "stdout",
     "output_type": "stream",
     "text": [
      "2024-08-05 17:47:10,331 WARNING: DeprecationWarning: Importing display from IPython.core.display is deprecated since IPython 7.14, please import from IPython display\n",
      "\n"
     ]
    },
    {
     "data": {
      "text/html": [
       "<style>\n",
       "    table.wandb td:nth-child(1) { padding: 0 10px; text-align: left ; width: auto;} td:nth-child(2) {text-align: left ; width: 100%}\n",
       "    .wandb-row { display: flex; flex-direction: row; flex-wrap: wrap; justify-content: flex-start; width: 100% }\n",
       "    .wandb-col { display: flex; flex-direction: column; flex-basis: 100%; flex: 1; padding: 10px; }\n",
       "    </style>\n",
       "<div class=\"wandb-row\"><div class=\"wandb-col\"><h3>Run history:</h3><br/><table class=\"wandb\"><tr><td>f1_score</td><td>▁</td></tr><tr><td>f1_score_train</td><td>▁</td></tr><tr><td>f1_score_valid</td><td>▁</td></tr></table><br/></div><div class=\"wandb-col\"><h3>Run summary:</h3><br/><table class=\"wandb\"><tr><td>f1_score</td><td>0.74799</td></tr><tr><td>f1_score_train</td><td>0.69332</td></tr><tr><td>f1_score_valid</td><td>0.66624</td></tr></table><br/></div></div>"
      ],
      "text/plain": [
       "<IPython.core.display.HTML object>"
      ]
     },
     "metadata": {},
     "output_type": "display_data"
    },
    {
     "data": {
      "text/html": [
       " View run <strong style=\"color:#cdcd00\">logical-sweep-35</strong> at: <a href='https://wandb.ai/harshmp/truck-delay-classification/runs/75kta7ua' target=\"_blank\">https://wandb.ai/harshmp/truck-delay-classification/runs/75kta7ua</a><br/>Synced 5 W&B file(s), 0 media file(s), 1 artifact file(s) and 0 other file(s)"
      ],
      "text/plain": [
       "<IPython.core.display.HTML object>"
      ]
     },
     "metadata": {},
     "output_type": "display_data"
    },
    {
     "data": {
      "text/html": [
       "Find logs at: <code>.\\wandb\\run-20240805_174656-75kta7ua\\logs</code>"
      ],
      "text/plain": [
       "<IPython.core.display.HTML object>"
      ]
     },
     "metadata": {},
     "output_type": "display_data"
    },
    {
     "name": "stderr",
     "output_type": "stream",
     "text": [
      "Run 75kta7ua errored: FileNotFoundError(2, 'No such file or directory')\n",
      "wandb: ERROR Run 75kta7ua errored: FileNotFoundError(2, 'No such file or directory')\n",
      "wandb: Sweep Agent: Waiting for job.\n",
      "wandb: Job received.\n",
      "wandb: Agent Starting Run: zui7pjf3 with config:\n",
      "wandb: \tmax_depth: 10\n",
      "wandb: \tmin_samples_split: 2\n",
      "wandb: \tn_estimators: 20\n",
      "Failed to detect the name of this notebook, you can set it manually with the WANDB_NOTEBOOK_NAME environment variable to enable code saving.\n",
      "wandb: WARNING Ignored wandb.init() arg project when running a sweep.\n"
     ]
    },
    {
     "data": {
      "text/html": [
       "wandb version 0.17.5 is available!  To upgrade, please run:\n",
       " $ pip install wandb --upgrade"
      ],
      "text/plain": [
       "<IPython.core.display.HTML object>"
      ]
     },
     "metadata": {},
     "output_type": "display_data"
    },
    {
     "data": {
      "text/html": [
       "Tracking run with wandb version 0.16.1"
      ],
      "text/plain": [
       "<IPython.core.display.HTML object>"
      ]
     },
     "metadata": {},
     "output_type": "display_data"
    },
    {
     "data": {
      "text/html": [
       "Run data is saved locally in <code>e:\\Artificial Intelligence\\Projects\\Predictive-Truck-Delay-Management-in-Logistics\\wandb\\run-20240805_174727-zui7pjf3</code>"
      ],
      "text/plain": [
       "<IPython.core.display.HTML object>"
      ]
     },
     "metadata": {},
     "output_type": "display_data"
    },
    {
     "data": {
      "text/html": [
       "Syncing run <strong><a href='https://wandb.ai/harshmp/truck-delay-classification/runs/zui7pjf3' target=\"_blank\">logical-sweep-36</a></strong> to <a href='https://wandb.ai/harshmp/truck-delay-classification' target=\"_blank\">Weights & Biases</a> (<a href='https://wandb.me/run' target=\"_blank\">docs</a>)<br/>Sweep page: <a href='https://wandb.ai/harshmp/truck-delay-classification/sweeps/20442i5p' target=\"_blank\">https://wandb.ai/harshmp/truck-delay-classification/sweeps/20442i5p</a>"
      ],
      "text/plain": [
       "<IPython.core.display.HTML object>"
      ]
     },
     "metadata": {},
     "output_type": "display_data"
    },
    {
     "data": {
      "text/html": [
       " View project at <a href='https://wandb.ai/harshmp/truck-delay-classification' target=\"_blank\">https://wandb.ai/harshmp/truck-delay-classification</a>"
      ],
      "text/plain": [
       "<IPython.core.display.HTML object>"
      ]
     },
     "metadata": {},
     "output_type": "display_data"
    },
    {
     "data": {
      "text/html": [
       " View sweep at <a href='https://wandb.ai/harshmp/truck-delay-classification/sweeps/20442i5p' target=\"_blank\">https://wandb.ai/harshmp/truck-delay-classification/sweeps/20442i5p</a>"
      ],
      "text/plain": [
       "<IPython.core.display.HTML object>"
      ]
     },
     "metadata": {},
     "output_type": "display_data"
    },
    {
     "data": {
      "text/html": [
       " View run at <a href='https://wandb.ai/harshmp/truck-delay-classification/runs/zui7pjf3' target=\"_blank\">https://wandb.ai/harshmp/truck-delay-classification/runs/zui7pjf3</a>"
      ],
      "text/plain": [
       "<IPython.core.display.HTML object>"
      ]
     },
     "metadata": {},
     "output_type": "display_data"
    },
    {
     "name": "stdout",
     "output_type": "stream",
     "text": [
      "F1_score Train: 0.7009\n",
      "F1_score Valid: 0.6637\n",
      "F1_score Test: 0.7539\n"
     ]
    },
    {
     "name": "stderr",
     "output_type": "stream",
     "text": [
      "wandb: \n",
      "wandb: Plotting RandomForestClassifier.\n",
      "Traceback (most recent call last):\n",
      "  File \"C:\\Users\\harsh\\AppData\\Local\\Temp\\ipykernel_18532\\2640226391.py\", line 44, in train_rf_model\n",
      "    wandb.sklearn.plot_classifier(model, X_train, X_test, y_train, y_test, y_preds, y_probas, labels=None,\n",
      "  File \"c:\\Users\\harsh\\anaconda3\\envs\\truck-delay\\lib\\site-packages\\wandb\\sklearn\\plot\\classifier.py\", line 82, in classifier\n",
      "    feature_importances(model, feature_names)\n",
      "  File \"c:\\Users\\harsh\\anaconda3\\envs\\truck-delay\\lib\\site-packages\\wandb\\sklearn\\plot\\classifier.py\", line 250, in feature_importances\n",
      "    wandb.log({\"feature_importances\": feature_importance_chart})\n",
      "  File \"c:\\Users\\harsh\\anaconda3\\envs\\truck-delay\\lib\\site-packages\\wandb\\sdk\\wandb_run.py\", line 420, in wrapper\n",
      "    return func(self, *args, **kwargs)\n",
      "  File \"c:\\Users\\harsh\\anaconda3\\envs\\truck-delay\\lib\\site-packages\\wandb\\sdk\\wandb_run.py\", line 371, in wrapper_fn\n",
      "    return func(self, *args, **kwargs)\n",
      "  File \"c:\\Users\\harsh\\anaconda3\\envs\\truck-delay\\lib\\site-packages\\wandb\\sdk\\wandb_run.py\", line 361, in wrapper\n",
      "    return func(self, *args, **kwargs)\n",
      "  File \"c:\\Users\\harsh\\anaconda3\\envs\\truck-delay\\lib\\site-packages\\wandb\\sdk\\wandb_run.py\", line 1820, in log\n",
      "    self._log(data=data, step=step, commit=commit)\n",
      "  File \"c:\\Users\\harsh\\anaconda3\\envs\\truck-delay\\lib\\site-packages\\wandb\\sdk\\wandb_run.py\", line 1595, in _log\n",
      "    self._partial_history_callback(data, step, commit)\n",
      "  File \"c:\\Users\\harsh\\anaconda3\\envs\\truck-delay\\lib\\site-packages\\wandb\\sdk\\wandb_run.py\", line 1467, in _partial_history_callback\n",
      "    self._backend.interface.publish_partial_history(\n",
      "  File \"c:\\Users\\harsh\\anaconda3\\envs\\truck-delay\\lib\\site-packages\\wandb\\sdk\\interface\\interface.py\", line 549, in publish_partial_history\n",
      "    data = history_dict_to_json(run, data, step=user_step, ignore_copy_err=True)\n",
      "  File \"c:\\Users\\harsh\\anaconda3\\envs\\truck-delay\\lib\\site-packages\\wandb\\sdk\\data_types\\utils.py\", line 52, in history_dict_to_json\n",
      "    payload[key] = val_to_json(\n",
      "  File \"c:\\Users\\harsh\\anaconda3\\envs\\truck-delay\\lib\\site-packages\\wandb\\sdk\\data_types\\utils.py\", line 164, in val_to_json\n",
      "    val.bind_to_run(run, key, namespace)\n",
      "  File \"c:\\Users\\harsh\\anaconda3\\envs\\truck-delay\\lib\\site-packages\\wandb\\data_types.py\", line 541, in bind_to_run\n",
      "    with codecs.open(tmp_path, \"w\", encoding=\"utf-8\") as fp:\n",
      "  File \"c:\\Users\\harsh\\anaconda3\\envs\\truck-delay\\lib\\codecs.py\", line 905, in open\n",
      "    file = builtins.open(filename, mode, buffering)\n",
      "FileNotFoundError: [Errno 2] No such file or directory: 'C:\\\\Users\\\\harsh\\\\AppData\\\\Local\\\\Temp\\\\tmpqphwv_07wandb-media\\\\tnm1ep23.table.json'\n"
     ]
    },
    {
     "name": "stdout",
     "output_type": "stream",
     "text": [
      "2024-08-05 17:47:32,581 WARNING: DeprecationWarning: Importing display from IPython.core.display is deprecated since IPython 7.14, please import from IPython display\n",
      "\n"
     ]
    },
    {
     "data": {
      "application/vnd.jupyter.widget-view+json": {
       "model_id": "fb60c62fffe64c369f052e2decb952ef",
       "version_major": 2,
       "version_minor": 0
      },
      "text/plain": [
       "VBox(children=(Label(value='0.010 MB of 0.010 MB uploaded\\r'), FloatProgress(value=1.0, max=1.0)))"
      ]
     },
     "metadata": {},
     "output_type": "display_data"
    },
    {
     "name": "stdout",
     "output_type": "stream",
     "text": [
      "2024-08-05 17:47:37,005 WARNING: DeprecationWarning: Importing display from IPython.core.display is deprecated since IPython 7.14, please import from IPython display\n",
      "\n"
     ]
    },
    {
     "data": {
      "text/html": [
       "<style>\n",
       "    table.wandb td:nth-child(1) { padding: 0 10px; text-align: left ; width: auto;} td:nth-child(2) {text-align: left ; width: 100%}\n",
       "    .wandb-row { display: flex; flex-direction: row; flex-wrap: wrap; justify-content: flex-start; width: 100% }\n",
       "    .wandb-col { display: flex; flex-direction: column; flex-basis: 100%; flex: 1; padding: 10px; }\n",
       "    </style>\n",
       "<div class=\"wandb-row\"><div class=\"wandb-col\"><h3>Run history:</h3><br/><table class=\"wandb\"><tr><td>f1_score</td><td>▁</td></tr><tr><td>f1_score_train</td><td>▁</td></tr><tr><td>f1_score_valid</td><td>▁</td></tr></table><br/></div><div class=\"wandb-col\"><h3>Run summary:</h3><br/><table class=\"wandb\"><tr><td>f1_score</td><td>0.75386</td></tr><tr><td>f1_score_train</td><td>0.70087</td></tr><tr><td>f1_score_valid</td><td>0.66371</td></tr></table><br/></div></div>"
      ],
      "text/plain": [
       "<IPython.core.display.HTML object>"
      ]
     },
     "metadata": {},
     "output_type": "display_data"
    },
    {
     "data": {
      "text/html": [
       " View run <strong style=\"color:#cdcd00\">logical-sweep-36</strong> at: <a href='https://wandb.ai/harshmp/truck-delay-classification/runs/zui7pjf3' target=\"_blank\">https://wandb.ai/harshmp/truck-delay-classification/runs/zui7pjf3</a><br/>Synced 5 W&B file(s), 0 media file(s), 1 artifact file(s) and 0 other file(s)"
      ],
      "text/plain": [
       "<IPython.core.display.HTML object>"
      ]
     },
     "metadata": {},
     "output_type": "display_data"
    },
    {
     "data": {
      "text/html": [
       "Find logs at: <code>.\\wandb\\run-20240805_174727-zui7pjf3\\logs</code>"
      ],
      "text/plain": [
       "<IPython.core.display.HTML object>"
      ]
     },
     "metadata": {},
     "output_type": "display_data"
    },
    {
     "name": "stderr",
     "output_type": "stream",
     "text": [
      "Run zui7pjf3 errored: FileNotFoundError(2, 'No such file or directory')\n",
      "wandb: ERROR Run zui7pjf3 errored: FileNotFoundError(2, 'No such file or directory')\n",
      "wandb: Agent Starting Run: bkz4cu0i with config:\n",
      "wandb: \tmax_depth: 10\n",
      "wandb: \tmin_samples_split: 4\n",
      "wandb: \tn_estimators: 8\n",
      "Failed to detect the name of this notebook, you can set it manually with the WANDB_NOTEBOOK_NAME environment variable to enable code saving.\n",
      "wandb: WARNING Ignored wandb.init() arg project when running a sweep.\n"
     ]
    },
    {
     "data": {
      "application/vnd.jupyter.widget-view+json": {
       "model_id": "df887e0554e34b57982b6cd853cb32dd",
       "version_major": 2,
       "version_minor": 0
      },
      "text/plain": [
       "VBox(children=(Label(value='Waiting for wandb.init()...\\r'), FloatProgress(value=0.011288888888925108, max=1.0…"
      ]
     },
     "metadata": {},
     "output_type": "display_data"
    },
    {
     "data": {
      "text/html": [
       "wandb version 0.17.5 is available!  To upgrade, please run:\n",
       " $ pip install wandb --upgrade"
      ],
      "text/plain": [
       "<IPython.core.display.HTML object>"
      ]
     },
     "metadata": {},
     "output_type": "display_data"
    },
    {
     "data": {
      "text/html": [
       "Tracking run with wandb version 0.16.1"
      ],
      "text/plain": [
       "<IPython.core.display.HTML object>"
      ]
     },
     "metadata": {},
     "output_type": "display_data"
    },
    {
     "data": {
      "text/html": [
       "Run data is saved locally in <code>e:\\Artificial Intelligence\\Projects\\Predictive-Truck-Delay-Management-in-Logistics\\wandb\\run-20240805_174748-bkz4cu0i</code>"
      ],
      "text/plain": [
       "<IPython.core.display.HTML object>"
      ]
     },
     "metadata": {},
     "output_type": "display_data"
    },
    {
     "data": {
      "text/html": [
       "Syncing run <strong><a href='https://wandb.ai/harshmp/truck-delay-classification/runs/bkz4cu0i' target=\"_blank\">resilient-sweep-37</a></strong> to <a href='https://wandb.ai/harshmp/truck-delay-classification' target=\"_blank\">Weights & Biases</a> (<a href='https://wandb.me/run' target=\"_blank\">docs</a>)<br/>Sweep page: <a href='https://wandb.ai/harshmp/truck-delay-classification/sweeps/20442i5p' target=\"_blank\">https://wandb.ai/harshmp/truck-delay-classification/sweeps/20442i5p</a>"
      ],
      "text/plain": [
       "<IPython.core.display.HTML object>"
      ]
     },
     "metadata": {},
     "output_type": "display_data"
    },
    {
     "data": {
      "text/html": [
       " View project at <a href='https://wandb.ai/harshmp/truck-delay-classification' target=\"_blank\">https://wandb.ai/harshmp/truck-delay-classification</a>"
      ],
      "text/plain": [
       "<IPython.core.display.HTML object>"
      ]
     },
     "metadata": {},
     "output_type": "display_data"
    },
    {
     "data": {
      "text/html": [
       " View sweep at <a href='https://wandb.ai/harshmp/truck-delay-classification/sweeps/20442i5p' target=\"_blank\">https://wandb.ai/harshmp/truck-delay-classification/sweeps/20442i5p</a>"
      ],
      "text/plain": [
       "<IPython.core.display.HTML object>"
      ]
     },
     "metadata": {},
     "output_type": "display_data"
    },
    {
     "data": {
      "text/html": [
       " View run at <a href='https://wandb.ai/harshmp/truck-delay-classification/runs/bkz4cu0i' target=\"_blank\">https://wandb.ai/harshmp/truck-delay-classification/runs/bkz4cu0i</a>"
      ],
      "text/plain": [
       "<IPython.core.display.HTML object>"
      ]
     },
     "metadata": {},
     "output_type": "display_data"
    },
    {
     "name": "stdout",
     "output_type": "stream",
     "text": [
      "F1_score Train: 0.6628\n",
      "F1_score Valid: 0.6428\n",
      "F1_score Test: 0.7395\n"
     ]
    },
    {
     "name": "stderr",
     "output_type": "stream",
     "text": [
      "wandb: \n",
      "wandb: Plotting RandomForestClassifier.\n",
      "Traceback (most recent call last):\n",
      "  File \"C:\\Users\\harsh\\AppData\\Local\\Temp\\ipykernel_18532\\2640226391.py\", line 44, in train_rf_model\n",
      "    wandb.sklearn.plot_classifier(model, X_train, X_test, y_train, y_test, y_preds, y_probas, labels=None,\n",
      "  File \"c:\\Users\\harsh\\anaconda3\\envs\\truck-delay\\lib\\site-packages\\wandb\\sklearn\\plot\\classifier.py\", line 82, in classifier\n",
      "    feature_importances(model, feature_names)\n",
      "  File \"c:\\Users\\harsh\\anaconda3\\envs\\truck-delay\\lib\\site-packages\\wandb\\sklearn\\plot\\classifier.py\", line 250, in feature_importances\n",
      "    wandb.log({\"feature_importances\": feature_importance_chart})\n",
      "  File \"c:\\Users\\harsh\\anaconda3\\envs\\truck-delay\\lib\\site-packages\\wandb\\sdk\\wandb_run.py\", line 420, in wrapper\n",
      "    return func(self, *args, **kwargs)\n",
      "  File \"c:\\Users\\harsh\\anaconda3\\envs\\truck-delay\\lib\\site-packages\\wandb\\sdk\\wandb_run.py\", line 371, in wrapper_fn\n",
      "    return func(self, *args, **kwargs)\n",
      "  File \"c:\\Users\\harsh\\anaconda3\\envs\\truck-delay\\lib\\site-packages\\wandb\\sdk\\wandb_run.py\", line 361, in wrapper\n",
      "    return func(self, *args, **kwargs)\n",
      "  File \"c:\\Users\\harsh\\anaconda3\\envs\\truck-delay\\lib\\site-packages\\wandb\\sdk\\wandb_run.py\", line 1820, in log\n",
      "    self._log(data=data, step=step, commit=commit)\n",
      "  File \"c:\\Users\\harsh\\anaconda3\\envs\\truck-delay\\lib\\site-packages\\wandb\\sdk\\wandb_run.py\", line 1595, in _log\n",
      "    self._partial_history_callback(data, step, commit)\n",
      "  File \"c:\\Users\\harsh\\anaconda3\\envs\\truck-delay\\lib\\site-packages\\wandb\\sdk\\wandb_run.py\", line 1467, in _partial_history_callback\n",
      "    self._backend.interface.publish_partial_history(\n",
      "  File \"c:\\Users\\harsh\\anaconda3\\envs\\truck-delay\\lib\\site-packages\\wandb\\sdk\\interface\\interface.py\", line 549, in publish_partial_history\n",
      "    data = history_dict_to_json(run, data, step=user_step, ignore_copy_err=True)\n",
      "  File \"c:\\Users\\harsh\\anaconda3\\envs\\truck-delay\\lib\\site-packages\\wandb\\sdk\\data_types\\utils.py\", line 52, in history_dict_to_json\n",
      "    payload[key] = val_to_json(\n",
      "  File \"c:\\Users\\harsh\\anaconda3\\envs\\truck-delay\\lib\\site-packages\\wandb\\sdk\\data_types\\utils.py\", line 164, in val_to_json\n",
      "    val.bind_to_run(run, key, namespace)\n",
      "  File \"c:\\Users\\harsh\\anaconda3\\envs\\truck-delay\\lib\\site-packages\\wandb\\data_types.py\", line 541, in bind_to_run\n",
      "    with codecs.open(tmp_path, \"w\", encoding=\"utf-8\") as fp:\n",
      "  File \"c:\\Users\\harsh\\anaconda3\\envs\\truck-delay\\lib\\codecs.py\", line 905, in open\n",
      "    file = builtins.open(filename, mode, buffering)\n",
      "FileNotFoundError: [Errno 2] No such file or directory: 'C:\\\\Users\\\\harsh\\\\AppData\\\\Local\\\\Temp\\\\tmpqphwv_07wandb-media\\\\b6vtzj41.table.json'\n"
     ]
    },
    {
     "name": "stdout",
     "output_type": "stream",
     "text": [
      "2024-08-05 17:47:55,296 WARNING: DeprecationWarning: Importing display from IPython.core.display is deprecated since IPython 7.14, please import from IPython display\n",
      "\n"
     ]
    },
    {
     "data": {
      "application/vnd.jupyter.widget-view+json": {
       "model_id": "1c4d254f75e7438e91cd9298e99367c7",
       "version_major": 2,
       "version_minor": 0
      },
      "text/plain": [
       "VBox(children=(Label(value='0.010 MB of 0.010 MB uploaded\\r'), FloatProgress(value=1.0, max=1.0)))"
      ]
     },
     "metadata": {},
     "output_type": "display_data"
    },
    {
     "name": "stdout",
     "output_type": "stream",
     "text": [
      "2024-08-05 17:47:59,357 WARNING: DeprecationWarning: Importing display from IPython.core.display is deprecated since IPython 7.14, please import from IPython display\n",
      "\n"
     ]
    },
    {
     "data": {
      "text/html": [
       "<style>\n",
       "    table.wandb td:nth-child(1) { padding: 0 10px; text-align: left ; width: auto;} td:nth-child(2) {text-align: left ; width: 100%}\n",
       "    .wandb-row { display: flex; flex-direction: row; flex-wrap: wrap; justify-content: flex-start; width: 100% }\n",
       "    .wandb-col { display: flex; flex-direction: column; flex-basis: 100%; flex: 1; padding: 10px; }\n",
       "    </style>\n",
       "<div class=\"wandb-row\"><div class=\"wandb-col\"><h3>Run history:</h3><br/><table class=\"wandb\"><tr><td>f1_score</td><td>▁</td></tr><tr><td>f1_score_train</td><td>▁</td></tr><tr><td>f1_score_valid</td><td>▁</td></tr></table><br/></div><div class=\"wandb-col\"><h3>Run summary:</h3><br/><table class=\"wandb\"><tr><td>f1_score</td><td>0.73953</td></tr><tr><td>f1_score_train</td><td>0.66281</td></tr><tr><td>f1_score_valid</td><td>0.64277</td></tr></table><br/></div></div>"
      ],
      "text/plain": [
       "<IPython.core.display.HTML object>"
      ]
     },
     "metadata": {},
     "output_type": "display_data"
    },
    {
     "data": {
      "text/html": [
       " View run <strong style=\"color:#cdcd00\">resilient-sweep-37</strong> at: <a href='https://wandb.ai/harshmp/truck-delay-classification/runs/bkz4cu0i' target=\"_blank\">https://wandb.ai/harshmp/truck-delay-classification/runs/bkz4cu0i</a><br/>Synced 5 W&B file(s), 0 media file(s), 1 artifact file(s) and 0 other file(s)"
      ],
      "text/plain": [
       "<IPython.core.display.HTML object>"
      ]
     },
     "metadata": {},
     "output_type": "display_data"
    },
    {
     "data": {
      "text/html": [
       "Find logs at: <code>.\\wandb\\run-20240805_174748-bkz4cu0i\\logs</code>"
      ],
      "text/plain": [
       "<IPython.core.display.HTML object>"
      ]
     },
     "metadata": {},
     "output_type": "display_data"
    },
    {
     "name": "stderr",
     "output_type": "stream",
     "text": [
      "Run bkz4cu0i errored: FileNotFoundError(2, 'No such file or directory')\n",
      "wandb: ERROR Run bkz4cu0i errored: FileNotFoundError(2, 'No such file or directory')\n",
      "wandb: Agent Starting Run: ml6zj11o with config:\n",
      "wandb: \tmax_depth: 10\n",
      "wandb: \tmin_samples_split: 4\n",
      "wandb: \tn_estimators: 12\n",
      "Failed to detect the name of this notebook, you can set it manually with the WANDB_NOTEBOOK_NAME environment variable to enable code saving.\n",
      "wandb: WARNING Ignored wandb.init() arg project when running a sweep.\n"
     ]
    },
    {
     "data": {
      "text/html": [
       "wandb version 0.17.5 is available!  To upgrade, please run:\n",
       " $ pip install wandb --upgrade"
      ],
      "text/plain": [
       "<IPython.core.display.HTML object>"
      ]
     },
     "metadata": {},
     "output_type": "display_data"
    },
    {
     "data": {
      "text/html": [
       "Tracking run with wandb version 0.16.1"
      ],
      "text/plain": [
       "<IPython.core.display.HTML object>"
      ]
     },
     "metadata": {},
     "output_type": "display_data"
    },
    {
     "data": {
      "text/html": [
       "Run data is saved locally in <code>e:\\Artificial Intelligence\\Projects\\Predictive-Truck-Delay-Management-in-Logistics\\wandb\\run-20240805_174807-ml6zj11o</code>"
      ],
      "text/plain": [
       "<IPython.core.display.HTML object>"
      ]
     },
     "metadata": {},
     "output_type": "display_data"
    },
    {
     "data": {
      "text/html": [
       "Syncing run <strong><a href='https://wandb.ai/harshmp/truck-delay-classification/runs/ml6zj11o' target=\"_blank\">driven-sweep-38</a></strong> to <a href='https://wandb.ai/harshmp/truck-delay-classification' target=\"_blank\">Weights & Biases</a> (<a href='https://wandb.me/run' target=\"_blank\">docs</a>)<br/>Sweep page: <a href='https://wandb.ai/harshmp/truck-delay-classification/sweeps/20442i5p' target=\"_blank\">https://wandb.ai/harshmp/truck-delay-classification/sweeps/20442i5p</a>"
      ],
      "text/plain": [
       "<IPython.core.display.HTML object>"
      ]
     },
     "metadata": {},
     "output_type": "display_data"
    },
    {
     "data": {
      "text/html": [
       " View project at <a href='https://wandb.ai/harshmp/truck-delay-classification' target=\"_blank\">https://wandb.ai/harshmp/truck-delay-classification</a>"
      ],
      "text/plain": [
       "<IPython.core.display.HTML object>"
      ]
     },
     "metadata": {},
     "output_type": "display_data"
    },
    {
     "data": {
      "text/html": [
       " View sweep at <a href='https://wandb.ai/harshmp/truck-delay-classification/sweeps/20442i5p' target=\"_blank\">https://wandb.ai/harshmp/truck-delay-classification/sweeps/20442i5p</a>"
      ],
      "text/plain": [
       "<IPython.core.display.HTML object>"
      ]
     },
     "metadata": {},
     "output_type": "display_data"
    },
    {
     "data": {
      "text/html": [
       " View run at <a href='https://wandb.ai/harshmp/truck-delay-classification/runs/ml6zj11o' target=\"_blank\">https://wandb.ai/harshmp/truck-delay-classification/runs/ml6zj11o</a>"
      ],
      "text/plain": [
       "<IPython.core.display.HTML object>"
      ]
     },
     "metadata": {},
     "output_type": "display_data"
    },
    {
     "name": "stdout",
     "output_type": "stream",
     "text": [
      "F1_score Train: 0.6679\n",
      "F1_score Valid: 0.6617\n",
      "F1_score Test: 0.7361\n"
     ]
    },
    {
     "name": "stderr",
     "output_type": "stream",
     "text": [
      "wandb: \n",
      "wandb: Plotting RandomForestClassifier.\n",
      "Traceback (most recent call last):\n",
      "  File \"C:\\Users\\harsh\\AppData\\Local\\Temp\\ipykernel_18532\\2640226391.py\", line 44, in train_rf_model\n",
      "    wandb.sklearn.plot_classifier(model, X_train, X_test, y_train, y_test, y_preds, y_probas, labels=None,\n",
      "  File \"c:\\Users\\harsh\\anaconda3\\envs\\truck-delay\\lib\\site-packages\\wandb\\sklearn\\plot\\classifier.py\", line 82, in classifier\n",
      "    feature_importances(model, feature_names)\n",
      "  File \"c:\\Users\\harsh\\anaconda3\\envs\\truck-delay\\lib\\site-packages\\wandb\\sklearn\\plot\\classifier.py\", line 250, in feature_importances\n",
      "    wandb.log({\"feature_importances\": feature_importance_chart})\n",
      "  File \"c:\\Users\\harsh\\anaconda3\\envs\\truck-delay\\lib\\site-packages\\wandb\\sdk\\wandb_run.py\", line 420, in wrapper\n",
      "    return func(self, *args, **kwargs)\n",
      "  File \"c:\\Users\\harsh\\anaconda3\\envs\\truck-delay\\lib\\site-packages\\wandb\\sdk\\wandb_run.py\", line 371, in wrapper_fn\n",
      "    return func(self, *args, **kwargs)\n",
      "  File \"c:\\Users\\harsh\\anaconda3\\envs\\truck-delay\\lib\\site-packages\\wandb\\sdk\\wandb_run.py\", line 361, in wrapper\n",
      "    return func(self, *args, **kwargs)\n",
      "  File \"c:\\Users\\harsh\\anaconda3\\envs\\truck-delay\\lib\\site-packages\\wandb\\sdk\\wandb_run.py\", line 1820, in log\n",
      "    self._log(data=data, step=step, commit=commit)\n",
      "  File \"c:\\Users\\harsh\\anaconda3\\envs\\truck-delay\\lib\\site-packages\\wandb\\sdk\\wandb_run.py\", line 1595, in _log\n",
      "    self._partial_history_callback(data, step, commit)\n",
      "  File \"c:\\Users\\harsh\\anaconda3\\envs\\truck-delay\\lib\\site-packages\\wandb\\sdk\\wandb_run.py\", line 1467, in _partial_history_callback\n",
      "    self._backend.interface.publish_partial_history(\n",
      "  File \"c:\\Users\\harsh\\anaconda3\\envs\\truck-delay\\lib\\site-packages\\wandb\\sdk\\interface\\interface.py\", line 549, in publish_partial_history\n",
      "    data = history_dict_to_json(run, data, step=user_step, ignore_copy_err=True)\n",
      "  File \"c:\\Users\\harsh\\anaconda3\\envs\\truck-delay\\lib\\site-packages\\wandb\\sdk\\data_types\\utils.py\", line 52, in history_dict_to_json\n",
      "    payload[key] = val_to_json(\n",
      "  File \"c:\\Users\\harsh\\anaconda3\\envs\\truck-delay\\lib\\site-packages\\wandb\\sdk\\data_types\\utils.py\", line 164, in val_to_json\n",
      "    val.bind_to_run(run, key, namespace)\n",
      "  File \"c:\\Users\\harsh\\anaconda3\\envs\\truck-delay\\lib\\site-packages\\wandb\\data_types.py\", line 541, in bind_to_run\n",
      "    with codecs.open(tmp_path, \"w\", encoding=\"utf-8\") as fp:\n",
      "  File \"c:\\Users\\harsh\\anaconda3\\envs\\truck-delay\\lib\\codecs.py\", line 905, in open\n",
      "    file = builtins.open(filename, mode, buffering)\n",
      "FileNotFoundError: [Errno 2] No such file or directory: 'C:\\\\Users\\\\harsh\\\\AppData\\\\Local\\\\Temp\\\\tmpqphwv_07wandb-media\\\\1ude5691.table.json'\n"
     ]
    },
    {
     "name": "stdout",
     "output_type": "stream",
     "text": [
      "2024-08-05 17:48:12,338 WARNING: DeprecationWarning: Importing display from IPython.core.display is deprecated since IPython 7.14, please import from IPython display\n",
      "\n"
     ]
    },
    {
     "data": {
      "application/vnd.jupyter.widget-view+json": {
       "model_id": "6c22cf7f1cb04d90b0bccf8b1fec8b8f",
       "version_major": 2,
       "version_minor": 0
      },
      "text/plain": [
       "VBox(children=(Label(value='0.010 MB of 0.010 MB uploaded\\r'), FloatProgress(value=1.0, max=1.0)))"
      ]
     },
     "metadata": {},
     "output_type": "display_data"
    },
    {
     "name": "stdout",
     "output_type": "stream",
     "text": [
      "2024-08-05 17:48:17,156 WARNING: DeprecationWarning: Importing display from IPython.core.display is deprecated since IPython 7.14, please import from IPython display\n",
      "\n"
     ]
    },
    {
     "data": {
      "text/html": [
       "<style>\n",
       "    table.wandb td:nth-child(1) { padding: 0 10px; text-align: left ; width: auto;} td:nth-child(2) {text-align: left ; width: 100%}\n",
       "    .wandb-row { display: flex; flex-direction: row; flex-wrap: wrap; justify-content: flex-start; width: 100% }\n",
       "    .wandb-col { display: flex; flex-direction: column; flex-basis: 100%; flex: 1; padding: 10px; }\n",
       "    </style>\n",
       "<div class=\"wandb-row\"><div class=\"wandb-col\"><h3>Run history:</h3><br/><table class=\"wandb\"><tr><td>f1_score</td><td>▁</td></tr><tr><td>f1_score_train</td><td>▁</td></tr><tr><td>f1_score_valid</td><td>▁</td></tr></table><br/></div><div class=\"wandb-col\"><h3>Run summary:</h3><br/><table class=\"wandb\"><tr><td>f1_score</td><td>0.73607</td></tr><tr><td>f1_score_train</td><td>0.66794</td></tr><tr><td>f1_score_valid</td><td>0.66175</td></tr></table><br/></div></div>"
      ],
      "text/plain": [
       "<IPython.core.display.HTML object>"
      ]
     },
     "metadata": {},
     "output_type": "display_data"
    },
    {
     "data": {
      "text/html": [
       " View run <strong style=\"color:#cdcd00\">driven-sweep-38</strong> at: <a href='https://wandb.ai/harshmp/truck-delay-classification/runs/ml6zj11o' target=\"_blank\">https://wandb.ai/harshmp/truck-delay-classification/runs/ml6zj11o</a><br/>Synced 5 W&B file(s), 0 media file(s), 1 artifact file(s) and 0 other file(s)"
      ],
      "text/plain": [
       "<IPython.core.display.HTML object>"
      ]
     },
     "metadata": {},
     "output_type": "display_data"
    },
    {
     "data": {
      "text/html": [
       "Find logs at: <code>.\\wandb\\run-20240805_174807-ml6zj11o\\logs</code>"
      ],
      "text/plain": [
       "<IPython.core.display.HTML object>"
      ]
     },
     "metadata": {},
     "output_type": "display_data"
    },
    {
     "name": "stderr",
     "output_type": "stream",
     "text": [
      "Run ml6zj11o errored: FileNotFoundError(2, 'No such file or directory')\n",
      "wandb: ERROR Run ml6zj11o errored: FileNotFoundError(2, 'No such file or directory')\n",
      "wandb: Sweep Agent: Waiting for job.\n",
      "wandb: Job received.\n",
      "wandb: Agent Starting Run: ic3xvmi8 with config:\n",
      "wandb: \tmax_depth: 10\n",
      "wandb: \tmin_samples_split: 4\n",
      "wandb: \tn_estimators: 16\n",
      "Failed to detect the name of this notebook, you can set it manually with the WANDB_NOTEBOOK_NAME environment variable to enable code saving.\n",
      "wandb: WARNING Ignored wandb.init() arg project when running a sweep.\n"
     ]
    },
    {
     "data": {
      "text/html": [
       "wandb version 0.17.5 is available!  To upgrade, please run:\n",
       " $ pip install wandb --upgrade"
      ],
      "text/plain": [
       "<IPython.core.display.HTML object>"
      ]
     },
     "metadata": {},
     "output_type": "display_data"
    },
    {
     "data": {
      "text/html": [
       "Tracking run with wandb version 0.16.1"
      ],
      "text/plain": [
       "<IPython.core.display.HTML object>"
      ]
     },
     "metadata": {},
     "output_type": "display_data"
    },
    {
     "data": {
      "text/html": [
       "Run data is saved locally in <code>e:\\Artificial Intelligence\\Projects\\Predictive-Truck-Delay-Management-in-Logistics\\wandb\\run-20240805_174833-ic3xvmi8</code>"
      ],
      "text/plain": [
       "<IPython.core.display.HTML object>"
      ]
     },
     "metadata": {},
     "output_type": "display_data"
    },
    {
     "data": {
      "text/html": [
       "Syncing run <strong><a href='https://wandb.ai/harshmp/truck-delay-classification/runs/ic3xvmi8' target=\"_blank\">magic-sweep-39</a></strong> to <a href='https://wandb.ai/harshmp/truck-delay-classification' target=\"_blank\">Weights & Biases</a> (<a href='https://wandb.me/run' target=\"_blank\">docs</a>)<br/>Sweep page: <a href='https://wandb.ai/harshmp/truck-delay-classification/sweeps/20442i5p' target=\"_blank\">https://wandb.ai/harshmp/truck-delay-classification/sweeps/20442i5p</a>"
      ],
      "text/plain": [
       "<IPython.core.display.HTML object>"
      ]
     },
     "metadata": {},
     "output_type": "display_data"
    },
    {
     "data": {
      "text/html": [
       " View project at <a href='https://wandb.ai/harshmp/truck-delay-classification' target=\"_blank\">https://wandb.ai/harshmp/truck-delay-classification</a>"
      ],
      "text/plain": [
       "<IPython.core.display.HTML object>"
      ]
     },
     "metadata": {},
     "output_type": "display_data"
    },
    {
     "data": {
      "text/html": [
       " View sweep at <a href='https://wandb.ai/harshmp/truck-delay-classification/sweeps/20442i5p' target=\"_blank\">https://wandb.ai/harshmp/truck-delay-classification/sweeps/20442i5p</a>"
      ],
      "text/plain": [
       "<IPython.core.display.HTML object>"
      ]
     },
     "metadata": {},
     "output_type": "display_data"
    },
    {
     "data": {
      "text/html": [
       " View run at <a href='https://wandb.ai/harshmp/truck-delay-classification/runs/ic3xvmi8' target=\"_blank\">https://wandb.ai/harshmp/truck-delay-classification/runs/ic3xvmi8</a>"
      ],
      "text/plain": [
       "<IPython.core.display.HTML object>"
      ]
     },
     "metadata": {},
     "output_type": "display_data"
    },
    {
     "name": "stdout",
     "output_type": "stream",
     "text": [
      "F1_score Train: 0.6785\n",
      "F1_score Valid: 0.6557\n",
      "F1_score Test: 0.7525\n"
     ]
    },
    {
     "name": "stderr",
     "output_type": "stream",
     "text": [
      "wandb: \n",
      "wandb: Plotting RandomForestClassifier.\n",
      "Traceback (most recent call last):\n",
      "  File \"C:\\Users\\harsh\\AppData\\Local\\Temp\\ipykernel_18532\\2640226391.py\", line 44, in train_rf_model\n",
      "    wandb.sklearn.plot_classifier(model, X_train, X_test, y_train, y_test, y_preds, y_probas, labels=None,\n",
      "  File \"c:\\Users\\harsh\\anaconda3\\envs\\truck-delay\\lib\\site-packages\\wandb\\sklearn\\plot\\classifier.py\", line 82, in classifier\n",
      "    feature_importances(model, feature_names)\n",
      "  File \"c:\\Users\\harsh\\anaconda3\\envs\\truck-delay\\lib\\site-packages\\wandb\\sklearn\\plot\\classifier.py\", line 250, in feature_importances\n",
      "    wandb.log({\"feature_importances\": feature_importance_chart})\n",
      "  File \"c:\\Users\\harsh\\anaconda3\\envs\\truck-delay\\lib\\site-packages\\wandb\\sdk\\wandb_run.py\", line 420, in wrapper\n",
      "    return func(self, *args, **kwargs)\n",
      "  File \"c:\\Users\\harsh\\anaconda3\\envs\\truck-delay\\lib\\site-packages\\wandb\\sdk\\wandb_run.py\", line 371, in wrapper_fn\n",
      "    return func(self, *args, **kwargs)\n",
      "  File \"c:\\Users\\harsh\\anaconda3\\envs\\truck-delay\\lib\\site-packages\\wandb\\sdk\\wandb_run.py\", line 361, in wrapper\n",
      "    return func(self, *args, **kwargs)\n",
      "  File \"c:\\Users\\harsh\\anaconda3\\envs\\truck-delay\\lib\\site-packages\\wandb\\sdk\\wandb_run.py\", line 1820, in log\n",
      "    self._log(data=data, step=step, commit=commit)\n",
      "  File \"c:\\Users\\harsh\\anaconda3\\envs\\truck-delay\\lib\\site-packages\\wandb\\sdk\\wandb_run.py\", line 1595, in _log\n",
      "    self._partial_history_callback(data, step, commit)\n",
      "  File \"c:\\Users\\harsh\\anaconda3\\envs\\truck-delay\\lib\\site-packages\\wandb\\sdk\\wandb_run.py\", line 1467, in _partial_history_callback\n",
      "    self._backend.interface.publish_partial_history(\n",
      "  File \"c:\\Users\\harsh\\anaconda3\\envs\\truck-delay\\lib\\site-packages\\wandb\\sdk\\interface\\interface.py\", line 549, in publish_partial_history\n",
      "    data = history_dict_to_json(run, data, step=user_step, ignore_copy_err=True)\n",
      "  File \"c:\\Users\\harsh\\anaconda3\\envs\\truck-delay\\lib\\site-packages\\wandb\\sdk\\data_types\\utils.py\", line 52, in history_dict_to_json\n",
      "    payload[key] = val_to_json(\n",
      "  File \"c:\\Users\\harsh\\anaconda3\\envs\\truck-delay\\lib\\site-packages\\wandb\\sdk\\data_types\\utils.py\", line 164, in val_to_json\n",
      "    val.bind_to_run(run, key, namespace)\n",
      "  File \"c:\\Users\\harsh\\anaconda3\\envs\\truck-delay\\lib\\site-packages\\wandb\\data_types.py\", line 541, in bind_to_run\n",
      "    with codecs.open(tmp_path, \"w\", encoding=\"utf-8\") as fp:\n",
      "  File \"c:\\Users\\harsh\\anaconda3\\envs\\truck-delay\\lib\\codecs.py\", line 905, in open\n",
      "    file = builtins.open(filename, mode, buffering)\n",
      "FileNotFoundError: [Errno 2] No such file or directory: 'C:\\\\Users\\\\harsh\\\\AppData\\\\Local\\\\Temp\\\\tmpqphwv_07wandb-media\\\\cyf16kq1.table.json'\n"
     ]
    },
    {
     "name": "stdout",
     "output_type": "stream",
     "text": [
      "2024-08-05 17:48:38,044 WARNING: DeprecationWarning: Importing display from IPython.core.display is deprecated since IPython 7.14, please import from IPython display\n",
      "\n"
     ]
    },
    {
     "data": {
      "application/vnd.jupyter.widget-view+json": {
       "model_id": "2170f6bbc8ed45c4ad5cbd940e9e46e6",
       "version_major": 2,
       "version_minor": 0
      },
      "text/plain": [
       "VBox(children=(Label(value='0.010 MB of 0.010 MB uploaded\\r'), FloatProgress(value=1.0, max=1.0)))"
      ]
     },
     "metadata": {},
     "output_type": "display_data"
    },
    {
     "name": "stdout",
     "output_type": "stream",
     "text": [
      "2024-08-05 17:48:42,001 WARNING: DeprecationWarning: Importing display from IPython.core.display is deprecated since IPython 7.14, please import from IPython display\n",
      "\n"
     ]
    },
    {
     "data": {
      "text/html": [
       "<style>\n",
       "    table.wandb td:nth-child(1) { padding: 0 10px; text-align: left ; width: auto;} td:nth-child(2) {text-align: left ; width: 100%}\n",
       "    .wandb-row { display: flex; flex-direction: row; flex-wrap: wrap; justify-content: flex-start; width: 100% }\n",
       "    .wandb-col { display: flex; flex-direction: column; flex-basis: 100%; flex: 1; padding: 10px; }\n",
       "    </style>\n",
       "<div class=\"wandb-row\"><div class=\"wandb-col\"><h3>Run history:</h3><br/><table class=\"wandb\"><tr><td>f1_score</td><td>▁</td></tr><tr><td>f1_score_train</td><td>▁</td></tr><tr><td>f1_score_valid</td><td>▁</td></tr></table><br/></div><div class=\"wandb-col\"><h3>Run summary:</h3><br/><table class=\"wandb\"><tr><td>f1_score</td><td>0.75248</td></tr><tr><td>f1_score_train</td><td>0.67854</td></tr><tr><td>f1_score_valid</td><td>0.65566</td></tr></table><br/></div></div>"
      ],
      "text/plain": [
       "<IPython.core.display.HTML object>"
      ]
     },
     "metadata": {},
     "output_type": "display_data"
    },
    {
     "data": {
      "text/html": [
       " View run <strong style=\"color:#cdcd00\">magic-sweep-39</strong> at: <a href='https://wandb.ai/harshmp/truck-delay-classification/runs/ic3xvmi8' target=\"_blank\">https://wandb.ai/harshmp/truck-delay-classification/runs/ic3xvmi8</a><br/>Synced 5 W&B file(s), 0 media file(s), 1 artifact file(s) and 0 other file(s)"
      ],
      "text/plain": [
       "<IPython.core.display.HTML object>"
      ]
     },
     "metadata": {},
     "output_type": "display_data"
    },
    {
     "data": {
      "text/html": [
       "Find logs at: <code>.\\wandb\\run-20240805_174833-ic3xvmi8\\logs</code>"
      ],
      "text/plain": [
       "<IPython.core.display.HTML object>"
      ]
     },
     "metadata": {},
     "output_type": "display_data"
    },
    {
     "name": "stderr",
     "output_type": "stream",
     "text": [
      "Run ic3xvmi8 errored: FileNotFoundError(2, 'No such file or directory')\n",
      "wandb: ERROR Run ic3xvmi8 errored: FileNotFoundError(2, 'No such file or directory')\n",
      "wandb: Agent Starting Run: xohvcsj9 with config:\n",
      "wandb: \tmax_depth: 10\n",
      "wandb: \tmin_samples_split: 4\n",
      "wandb: \tn_estimators: 20\n",
      "Failed to detect the name of this notebook, you can set it manually with the WANDB_NOTEBOOK_NAME environment variable to enable code saving.\n",
      "wandb: WARNING Ignored wandb.init() arg project when running a sweep.\n"
     ]
    },
    {
     "data": {
      "text/html": [
       "wandb version 0.17.5 is available!  To upgrade, please run:\n",
       " $ pip install wandb --upgrade"
      ],
      "text/plain": [
       "<IPython.core.display.HTML object>"
      ]
     },
     "metadata": {},
     "output_type": "display_data"
    },
    {
     "data": {
      "text/html": [
       "Tracking run with wandb version 0.16.1"
      ],
      "text/plain": [
       "<IPython.core.display.HTML object>"
      ]
     },
     "metadata": {},
     "output_type": "display_data"
    },
    {
     "data": {
      "text/html": [
       "Run data is saved locally in <code>e:\\Artificial Intelligence\\Projects\\Predictive-Truck-Delay-Management-in-Logistics\\wandb\\run-20240805_174848-xohvcsj9</code>"
      ],
      "text/plain": [
       "<IPython.core.display.HTML object>"
      ]
     },
     "metadata": {},
     "output_type": "display_data"
    },
    {
     "data": {
      "text/html": [
       "Syncing run <strong><a href='https://wandb.ai/harshmp/truck-delay-classification/runs/xohvcsj9' target=\"_blank\">silver-sweep-40</a></strong> to <a href='https://wandb.ai/harshmp/truck-delay-classification' target=\"_blank\">Weights & Biases</a> (<a href='https://wandb.me/run' target=\"_blank\">docs</a>)<br/>Sweep page: <a href='https://wandb.ai/harshmp/truck-delay-classification/sweeps/20442i5p' target=\"_blank\">https://wandb.ai/harshmp/truck-delay-classification/sweeps/20442i5p</a>"
      ],
      "text/plain": [
       "<IPython.core.display.HTML object>"
      ]
     },
     "metadata": {},
     "output_type": "display_data"
    },
    {
     "data": {
      "text/html": [
       " View project at <a href='https://wandb.ai/harshmp/truck-delay-classification' target=\"_blank\">https://wandb.ai/harshmp/truck-delay-classification</a>"
      ],
      "text/plain": [
       "<IPython.core.display.HTML object>"
      ]
     },
     "metadata": {},
     "output_type": "display_data"
    },
    {
     "data": {
      "text/html": [
       " View sweep at <a href='https://wandb.ai/harshmp/truck-delay-classification/sweeps/20442i5p' target=\"_blank\">https://wandb.ai/harshmp/truck-delay-classification/sweeps/20442i5p</a>"
      ],
      "text/plain": [
       "<IPython.core.display.HTML object>"
      ]
     },
     "metadata": {},
     "output_type": "display_data"
    },
    {
     "data": {
      "text/html": [
       " View run at <a href='https://wandb.ai/harshmp/truck-delay-classification/runs/xohvcsj9' target=\"_blank\">https://wandb.ai/harshmp/truck-delay-classification/runs/xohvcsj9</a>"
      ],
      "text/plain": [
       "<IPython.core.display.HTML object>"
      ]
     },
     "metadata": {},
     "output_type": "display_data"
    },
    {
     "name": "stdout",
     "output_type": "stream",
     "text": [
      "F1_score Train: 0.6883\n",
      "F1_score Valid: 0.6642\n",
      "F1_score Test: 0.7553\n"
     ]
    },
    {
     "name": "stderr",
     "output_type": "stream",
     "text": [
      "wandb: \n",
      "wandb: Plotting RandomForestClassifier.\n",
      "Traceback (most recent call last):\n",
      "  File \"C:\\Users\\harsh\\AppData\\Local\\Temp\\ipykernel_18532\\2640226391.py\", line 44, in train_rf_model\n",
      "    wandb.sklearn.plot_classifier(model, X_train, X_test, y_train, y_test, y_preds, y_probas, labels=None,\n",
      "  File \"c:\\Users\\harsh\\anaconda3\\envs\\truck-delay\\lib\\site-packages\\wandb\\sklearn\\plot\\classifier.py\", line 82, in classifier\n",
      "    feature_importances(model, feature_names)\n",
      "  File \"c:\\Users\\harsh\\anaconda3\\envs\\truck-delay\\lib\\site-packages\\wandb\\sklearn\\plot\\classifier.py\", line 250, in feature_importances\n",
      "    wandb.log({\"feature_importances\": feature_importance_chart})\n",
      "  File \"c:\\Users\\harsh\\anaconda3\\envs\\truck-delay\\lib\\site-packages\\wandb\\sdk\\wandb_run.py\", line 420, in wrapper\n",
      "    return func(self, *args, **kwargs)\n",
      "  File \"c:\\Users\\harsh\\anaconda3\\envs\\truck-delay\\lib\\site-packages\\wandb\\sdk\\wandb_run.py\", line 371, in wrapper_fn\n",
      "    return func(self, *args, **kwargs)\n",
      "  File \"c:\\Users\\harsh\\anaconda3\\envs\\truck-delay\\lib\\site-packages\\wandb\\sdk\\wandb_run.py\", line 361, in wrapper\n",
      "    return func(self, *args, **kwargs)\n",
      "  File \"c:\\Users\\harsh\\anaconda3\\envs\\truck-delay\\lib\\site-packages\\wandb\\sdk\\wandb_run.py\", line 1820, in log\n",
      "    self._log(data=data, step=step, commit=commit)\n",
      "  File \"c:\\Users\\harsh\\anaconda3\\envs\\truck-delay\\lib\\site-packages\\wandb\\sdk\\wandb_run.py\", line 1595, in _log\n",
      "    self._partial_history_callback(data, step, commit)\n",
      "  File \"c:\\Users\\harsh\\anaconda3\\envs\\truck-delay\\lib\\site-packages\\wandb\\sdk\\wandb_run.py\", line 1467, in _partial_history_callback\n",
      "    self._backend.interface.publish_partial_history(\n",
      "  File \"c:\\Users\\harsh\\anaconda3\\envs\\truck-delay\\lib\\site-packages\\wandb\\sdk\\interface\\interface.py\", line 549, in publish_partial_history\n",
      "    data = history_dict_to_json(run, data, step=user_step, ignore_copy_err=True)\n",
      "  File \"c:\\Users\\harsh\\anaconda3\\envs\\truck-delay\\lib\\site-packages\\wandb\\sdk\\data_types\\utils.py\", line 52, in history_dict_to_json\n",
      "    payload[key] = val_to_json(\n",
      "  File \"c:\\Users\\harsh\\anaconda3\\envs\\truck-delay\\lib\\site-packages\\wandb\\sdk\\data_types\\utils.py\", line 164, in val_to_json\n",
      "    val.bind_to_run(run, key, namespace)\n",
      "  File \"c:\\Users\\harsh\\anaconda3\\envs\\truck-delay\\lib\\site-packages\\wandb\\data_types.py\", line 541, in bind_to_run\n",
      "    with codecs.open(tmp_path, \"w\", encoding=\"utf-8\") as fp:\n",
      "  File \"c:\\Users\\harsh\\anaconda3\\envs\\truck-delay\\lib\\codecs.py\", line 905, in open\n",
      "    file = builtins.open(filename, mode, buffering)\n",
      "FileNotFoundError: [Errno 2] No such file or directory: 'C:\\\\Users\\\\harsh\\\\AppData\\\\Local\\\\Temp\\\\tmpqphwv_07wandb-media\\\\3nhwqpkd.table.json'\n"
     ]
    },
    {
     "name": "stdout",
     "output_type": "stream",
     "text": [
      "2024-08-05 17:48:53,406 WARNING: DeprecationWarning: Importing display from IPython.core.display is deprecated since IPython 7.14, please import from IPython display\n",
      "\n"
     ]
    },
    {
     "data": {
      "application/vnd.jupyter.widget-view+json": {
       "model_id": "a749e1a37b0f458388c15b23eb654c58",
       "version_major": 2,
       "version_minor": 0
      },
      "text/plain": [
       "VBox(children=(Label(value='0.010 MB of 0.010 MB uploaded\\r'), FloatProgress(value=1.0, max=1.0)))"
      ]
     },
     "metadata": {},
     "output_type": "display_data"
    },
    {
     "name": "stdout",
     "output_type": "stream",
     "text": [
      "2024-08-05 17:48:58,379 WARNING: DeprecationWarning: Importing display from IPython.core.display is deprecated since IPython 7.14, please import from IPython display\n",
      "\n"
     ]
    },
    {
     "data": {
      "text/html": [
       "<style>\n",
       "    table.wandb td:nth-child(1) { padding: 0 10px; text-align: left ; width: auto;} td:nth-child(2) {text-align: left ; width: 100%}\n",
       "    .wandb-row { display: flex; flex-direction: row; flex-wrap: wrap; justify-content: flex-start; width: 100% }\n",
       "    .wandb-col { display: flex; flex-direction: column; flex-basis: 100%; flex: 1; padding: 10px; }\n",
       "    </style>\n",
       "<div class=\"wandb-row\"><div class=\"wandb-col\"><h3>Run history:</h3><br/><table class=\"wandb\"><tr><td>f1_score</td><td>▁</td></tr><tr><td>f1_score_train</td><td>▁</td></tr><tr><td>f1_score_valid</td><td>▁</td></tr></table><br/></div><div class=\"wandb-col\"><h3>Run summary:</h3><br/><table class=\"wandb\"><tr><td>f1_score</td><td>0.75529</td></tr><tr><td>f1_score_train</td><td>0.68834</td></tr><tr><td>f1_score_valid</td><td>0.66422</td></tr></table><br/></div></div>"
      ],
      "text/plain": [
       "<IPython.core.display.HTML object>"
      ]
     },
     "metadata": {},
     "output_type": "display_data"
    },
    {
     "data": {
      "text/html": [
       " View run <strong style=\"color:#cdcd00\">silver-sweep-40</strong> at: <a href='https://wandb.ai/harshmp/truck-delay-classification/runs/xohvcsj9' target=\"_blank\">https://wandb.ai/harshmp/truck-delay-classification/runs/xohvcsj9</a><br/>Synced 5 W&B file(s), 0 media file(s), 1 artifact file(s) and 0 other file(s)"
      ],
      "text/plain": [
       "<IPython.core.display.HTML object>"
      ]
     },
     "metadata": {},
     "output_type": "display_data"
    },
    {
     "data": {
      "text/html": [
       "Find logs at: <code>.\\wandb\\run-20240805_174848-xohvcsj9\\logs</code>"
      ],
      "text/plain": [
       "<IPython.core.display.HTML object>"
      ]
     },
     "metadata": {},
     "output_type": "display_data"
    },
    {
     "name": "stderr",
     "output_type": "stream",
     "text": [
      "Run xohvcsj9 errored: FileNotFoundError(2, 'No such file or directory')\n",
      "wandb: ERROR Run xohvcsj9 errored: FileNotFoundError(2, 'No such file or directory')\n",
      "wandb: Sweep Agent: Waiting for job.\n",
      "wandb: Job received.\n",
      "wandb: Agent Starting Run: ai1gc9i6 with config:\n",
      "wandb: \tmax_depth: 10\n",
      "wandb: \tmin_samples_split: 8\n",
      "wandb: \tn_estimators: 8\n",
      "Failed to detect the name of this notebook, you can set it manually with the WANDB_NOTEBOOK_NAME environment variable to enable code saving.\n",
      "wandb: WARNING Ignored wandb.init() arg project when running a sweep.\n"
     ]
    },
    {
     "data": {
      "text/html": [
       "wandb version 0.17.5 is available!  To upgrade, please run:\n",
       " $ pip install wandb --upgrade"
      ],
      "text/plain": [
       "<IPython.core.display.HTML object>"
      ]
     },
     "metadata": {},
     "output_type": "display_data"
    },
    {
     "data": {
      "text/html": [
       "Tracking run with wandb version 0.16.1"
      ],
      "text/plain": [
       "<IPython.core.display.HTML object>"
      ]
     },
     "metadata": {},
     "output_type": "display_data"
    },
    {
     "data": {
      "text/html": [
       "Run data is saved locally in <code>e:\\Artificial Intelligence\\Projects\\Predictive-Truck-Delay-Management-in-Logistics\\wandb\\run-20240805_174913-ai1gc9i6</code>"
      ],
      "text/plain": [
       "<IPython.core.display.HTML object>"
      ]
     },
     "metadata": {},
     "output_type": "display_data"
    },
    {
     "data": {
      "text/html": [
       "Syncing run <strong><a href='https://wandb.ai/harshmp/truck-delay-classification/runs/ai1gc9i6' target=\"_blank\">lyric-sweep-41</a></strong> to <a href='https://wandb.ai/harshmp/truck-delay-classification' target=\"_blank\">Weights & Biases</a> (<a href='https://wandb.me/run' target=\"_blank\">docs</a>)<br/>Sweep page: <a href='https://wandb.ai/harshmp/truck-delay-classification/sweeps/20442i5p' target=\"_blank\">https://wandb.ai/harshmp/truck-delay-classification/sweeps/20442i5p</a>"
      ],
      "text/plain": [
       "<IPython.core.display.HTML object>"
      ]
     },
     "metadata": {},
     "output_type": "display_data"
    },
    {
     "data": {
      "text/html": [
       " View project at <a href='https://wandb.ai/harshmp/truck-delay-classification' target=\"_blank\">https://wandb.ai/harshmp/truck-delay-classification</a>"
      ],
      "text/plain": [
       "<IPython.core.display.HTML object>"
      ]
     },
     "metadata": {},
     "output_type": "display_data"
    },
    {
     "data": {
      "text/html": [
       " View sweep at <a href='https://wandb.ai/harshmp/truck-delay-classification/sweeps/20442i5p' target=\"_blank\">https://wandb.ai/harshmp/truck-delay-classification/sweeps/20442i5p</a>"
      ],
      "text/plain": [
       "<IPython.core.display.HTML object>"
      ]
     },
     "metadata": {},
     "output_type": "display_data"
    },
    {
     "data": {
      "text/html": [
       " View run at <a href='https://wandb.ai/harshmp/truck-delay-classification/runs/ai1gc9i6' target=\"_blank\">https://wandb.ai/harshmp/truck-delay-classification/runs/ai1gc9i6</a>"
      ],
      "text/plain": [
       "<IPython.core.display.HTML object>"
      ]
     },
     "metadata": {},
     "output_type": "display_data"
    },
    {
     "name": "stdout",
     "output_type": "stream",
     "text": [
      "F1_score Train: 0.6632\n",
      "F1_score Valid: 0.6223\n",
      "F1_score Test: 0.7471\n"
     ]
    },
    {
     "name": "stderr",
     "output_type": "stream",
     "text": [
      "wandb: \n",
      "wandb: Plotting RandomForestClassifier.\n",
      "Traceback (most recent call last):\n",
      "  File \"C:\\Users\\harsh\\AppData\\Local\\Temp\\ipykernel_18532\\2640226391.py\", line 44, in train_rf_model\n",
      "    wandb.sklearn.plot_classifier(model, X_train, X_test, y_train, y_test, y_preds, y_probas, labels=None,\n",
      "  File \"c:\\Users\\harsh\\anaconda3\\envs\\truck-delay\\lib\\site-packages\\wandb\\sklearn\\plot\\classifier.py\", line 82, in classifier\n",
      "    feature_importances(model, feature_names)\n",
      "  File \"c:\\Users\\harsh\\anaconda3\\envs\\truck-delay\\lib\\site-packages\\wandb\\sklearn\\plot\\classifier.py\", line 250, in feature_importances\n",
      "    wandb.log({\"feature_importances\": feature_importance_chart})\n",
      "  File \"c:\\Users\\harsh\\anaconda3\\envs\\truck-delay\\lib\\site-packages\\wandb\\sdk\\wandb_run.py\", line 420, in wrapper\n",
      "    return func(self, *args, **kwargs)\n",
      "  File \"c:\\Users\\harsh\\anaconda3\\envs\\truck-delay\\lib\\site-packages\\wandb\\sdk\\wandb_run.py\", line 371, in wrapper_fn\n",
      "    return func(self, *args, **kwargs)\n",
      "  File \"c:\\Users\\harsh\\anaconda3\\envs\\truck-delay\\lib\\site-packages\\wandb\\sdk\\wandb_run.py\", line 361, in wrapper\n",
      "    return func(self, *args, **kwargs)\n",
      "  File \"c:\\Users\\harsh\\anaconda3\\envs\\truck-delay\\lib\\site-packages\\wandb\\sdk\\wandb_run.py\", line 1820, in log\n",
      "    self._log(data=data, step=step, commit=commit)\n",
      "  File \"c:\\Users\\harsh\\anaconda3\\envs\\truck-delay\\lib\\site-packages\\wandb\\sdk\\wandb_run.py\", line 1595, in _log\n",
      "    self._partial_history_callback(data, step, commit)\n",
      "  File \"c:\\Users\\harsh\\anaconda3\\envs\\truck-delay\\lib\\site-packages\\wandb\\sdk\\wandb_run.py\", line 1467, in _partial_history_callback\n",
      "    self._backend.interface.publish_partial_history(\n",
      "  File \"c:\\Users\\harsh\\anaconda3\\envs\\truck-delay\\lib\\site-packages\\wandb\\sdk\\interface\\interface.py\", line 549, in publish_partial_history\n",
      "    data = history_dict_to_json(run, data, step=user_step, ignore_copy_err=True)\n",
      "  File \"c:\\Users\\harsh\\anaconda3\\envs\\truck-delay\\lib\\site-packages\\wandb\\sdk\\data_types\\utils.py\", line 52, in history_dict_to_json\n",
      "    payload[key] = val_to_json(\n",
      "  File \"c:\\Users\\harsh\\anaconda3\\envs\\truck-delay\\lib\\site-packages\\wandb\\sdk\\data_types\\utils.py\", line 164, in val_to_json\n",
      "    val.bind_to_run(run, key, namespace)\n",
      "  File \"c:\\Users\\harsh\\anaconda3\\envs\\truck-delay\\lib\\site-packages\\wandb\\data_types.py\", line 541, in bind_to_run\n",
      "    with codecs.open(tmp_path, \"w\", encoding=\"utf-8\") as fp:\n",
      "  File \"c:\\Users\\harsh\\anaconda3\\envs\\truck-delay\\lib\\codecs.py\", line 905, in open\n",
      "    file = builtins.open(filename, mode, buffering)\n",
      "FileNotFoundError: [Errno 2] No such file or directory: 'C:\\\\Users\\\\harsh\\\\AppData\\\\Local\\\\Temp\\\\tmpqphwv_07wandb-media\\\\4r8y9l7x.table.json'\n"
     ]
    },
    {
     "name": "stdout",
     "output_type": "stream",
     "text": [
      "2024-08-05 17:49:18,030 WARNING: DeprecationWarning: Importing display from IPython.core.display is deprecated since IPython 7.14, please import from IPython display\n",
      "\n"
     ]
    },
    {
     "data": {
      "application/vnd.jupyter.widget-view+json": {
       "model_id": "57d50d7d4a2944e098f7e88ccc5daa98",
       "version_major": 2,
       "version_minor": 0
      },
      "text/plain": [
       "VBox(children=(Label(value='0.010 MB of 0.010 MB uploaded\\r'), FloatProgress(value=1.0, max=1.0)))"
      ]
     },
     "metadata": {},
     "output_type": "display_data"
    },
    {
     "name": "stdout",
     "output_type": "stream",
     "text": [
      "2024-08-05 17:49:22,140 WARNING: DeprecationWarning: Importing display from IPython.core.display is deprecated since IPython 7.14, please import from IPython display\n",
      "\n"
     ]
    },
    {
     "data": {
      "text/html": [
       "<style>\n",
       "    table.wandb td:nth-child(1) { padding: 0 10px; text-align: left ; width: auto;} td:nth-child(2) {text-align: left ; width: 100%}\n",
       "    .wandb-row { display: flex; flex-direction: row; flex-wrap: wrap; justify-content: flex-start; width: 100% }\n",
       "    .wandb-col { display: flex; flex-direction: column; flex-basis: 100%; flex: 1; padding: 10px; }\n",
       "    </style>\n",
       "<div class=\"wandb-row\"><div class=\"wandb-col\"><h3>Run history:</h3><br/><table class=\"wandb\"><tr><td>f1_score</td><td>▁</td></tr><tr><td>f1_score_train</td><td>▁</td></tr><tr><td>f1_score_valid</td><td>▁</td></tr></table><br/></div><div class=\"wandb-col\"><h3>Run summary:</h3><br/><table class=\"wandb\"><tr><td>f1_score</td><td>0.74708</td></tr><tr><td>f1_score_train</td><td>0.66316</td></tr><tr><td>f1_score_valid</td><td>0.62233</td></tr></table><br/></div></div>"
      ],
      "text/plain": [
       "<IPython.core.display.HTML object>"
      ]
     },
     "metadata": {},
     "output_type": "display_data"
    },
    {
     "data": {
      "text/html": [
       " View run <strong style=\"color:#cdcd00\">lyric-sweep-41</strong> at: <a href='https://wandb.ai/harshmp/truck-delay-classification/runs/ai1gc9i6' target=\"_blank\">https://wandb.ai/harshmp/truck-delay-classification/runs/ai1gc9i6</a><br/>Synced 5 W&B file(s), 0 media file(s), 1 artifact file(s) and 0 other file(s)"
      ],
      "text/plain": [
       "<IPython.core.display.HTML object>"
      ]
     },
     "metadata": {},
     "output_type": "display_data"
    },
    {
     "data": {
      "text/html": [
       "Find logs at: <code>.\\wandb\\run-20240805_174913-ai1gc9i6\\logs</code>"
      ],
      "text/plain": [
       "<IPython.core.display.HTML object>"
      ]
     },
     "metadata": {},
     "output_type": "display_data"
    },
    {
     "name": "stderr",
     "output_type": "stream",
     "text": [
      "Run ai1gc9i6 errored: FileNotFoundError(2, 'No such file or directory')\n",
      "wandb: ERROR Run ai1gc9i6 errored: FileNotFoundError(2, 'No such file or directory')\n",
      "wandb: Agent Starting Run: lpsfhybt with config:\n",
      "wandb: \tmax_depth: 10\n",
      "wandb: \tmin_samples_split: 8\n",
      "wandb: \tn_estimators: 12\n",
      "Failed to detect the name of this notebook, you can set it manually with the WANDB_NOTEBOOK_NAME environment variable to enable code saving.\n",
      "wandb: WARNING Ignored wandb.init() arg project when running a sweep.\n"
     ]
    },
    {
     "data": {
      "text/html": [
       "wandb version 0.17.5 is available!  To upgrade, please run:\n",
       " $ pip install wandb --upgrade"
      ],
      "text/plain": [
       "<IPython.core.display.HTML object>"
      ]
     },
     "metadata": {},
     "output_type": "display_data"
    },
    {
     "data": {
      "text/html": [
       "Tracking run with wandb version 0.16.1"
      ],
      "text/plain": [
       "<IPython.core.display.HTML object>"
      ]
     },
     "metadata": {},
     "output_type": "display_data"
    },
    {
     "data": {
      "text/html": [
       "Run data is saved locally in <code>e:\\Artificial Intelligence\\Projects\\Predictive-Truck-Delay-Management-in-Logistics\\wandb\\run-20240805_174928-lpsfhybt</code>"
      ],
      "text/plain": [
       "<IPython.core.display.HTML object>"
      ]
     },
     "metadata": {},
     "output_type": "display_data"
    },
    {
     "data": {
      "text/html": [
       "Syncing run <strong><a href='https://wandb.ai/harshmp/truck-delay-classification/runs/lpsfhybt' target=\"_blank\">ancient-sweep-42</a></strong> to <a href='https://wandb.ai/harshmp/truck-delay-classification' target=\"_blank\">Weights & Biases</a> (<a href='https://wandb.me/run' target=\"_blank\">docs</a>)<br/>Sweep page: <a href='https://wandb.ai/harshmp/truck-delay-classification/sweeps/20442i5p' target=\"_blank\">https://wandb.ai/harshmp/truck-delay-classification/sweeps/20442i5p</a>"
      ],
      "text/plain": [
       "<IPython.core.display.HTML object>"
      ]
     },
     "metadata": {},
     "output_type": "display_data"
    },
    {
     "data": {
      "text/html": [
       " View project at <a href='https://wandb.ai/harshmp/truck-delay-classification' target=\"_blank\">https://wandb.ai/harshmp/truck-delay-classification</a>"
      ],
      "text/plain": [
       "<IPython.core.display.HTML object>"
      ]
     },
     "metadata": {},
     "output_type": "display_data"
    },
    {
     "data": {
      "text/html": [
       " View sweep at <a href='https://wandb.ai/harshmp/truck-delay-classification/sweeps/20442i5p' target=\"_blank\">https://wandb.ai/harshmp/truck-delay-classification/sweeps/20442i5p</a>"
      ],
      "text/plain": [
       "<IPython.core.display.HTML object>"
      ]
     },
     "metadata": {},
     "output_type": "display_data"
    },
    {
     "data": {
      "text/html": [
       " View run at <a href='https://wandb.ai/harshmp/truck-delay-classification/runs/lpsfhybt' target=\"_blank\">https://wandb.ai/harshmp/truck-delay-classification/runs/lpsfhybt</a>"
      ],
      "text/plain": [
       "<IPython.core.display.HTML object>"
      ]
     },
     "metadata": {},
     "output_type": "display_data"
    },
    {
     "name": "stdout",
     "output_type": "stream",
     "text": [
      "F1_score Train: 0.6606\n",
      "F1_score Valid: 0.6416\n",
      "F1_score Test: 0.7549\n"
     ]
    },
    {
     "name": "stderr",
     "output_type": "stream",
     "text": [
      "wandb: \n",
      "wandb: Plotting RandomForestClassifier.\n",
      "Traceback (most recent call last):\n",
      "  File \"C:\\Users\\harsh\\AppData\\Local\\Temp\\ipykernel_18532\\2640226391.py\", line 44, in train_rf_model\n",
      "    wandb.sklearn.plot_classifier(model, X_train, X_test, y_train, y_test, y_preds, y_probas, labels=None,\n",
      "  File \"c:\\Users\\harsh\\anaconda3\\envs\\truck-delay\\lib\\site-packages\\wandb\\sklearn\\plot\\classifier.py\", line 82, in classifier\n",
      "    feature_importances(model, feature_names)\n",
      "  File \"c:\\Users\\harsh\\anaconda3\\envs\\truck-delay\\lib\\site-packages\\wandb\\sklearn\\plot\\classifier.py\", line 250, in feature_importances\n",
      "    wandb.log({\"feature_importances\": feature_importance_chart})\n",
      "  File \"c:\\Users\\harsh\\anaconda3\\envs\\truck-delay\\lib\\site-packages\\wandb\\sdk\\wandb_run.py\", line 420, in wrapper\n",
      "    return func(self, *args, **kwargs)\n",
      "  File \"c:\\Users\\harsh\\anaconda3\\envs\\truck-delay\\lib\\site-packages\\wandb\\sdk\\wandb_run.py\", line 371, in wrapper_fn\n",
      "    return func(self, *args, **kwargs)\n",
      "  File \"c:\\Users\\harsh\\anaconda3\\envs\\truck-delay\\lib\\site-packages\\wandb\\sdk\\wandb_run.py\", line 361, in wrapper\n",
      "    return func(self, *args, **kwargs)\n",
      "  File \"c:\\Users\\harsh\\anaconda3\\envs\\truck-delay\\lib\\site-packages\\wandb\\sdk\\wandb_run.py\", line 1820, in log\n",
      "    self._log(data=data, step=step, commit=commit)\n",
      "  File \"c:\\Users\\harsh\\anaconda3\\envs\\truck-delay\\lib\\site-packages\\wandb\\sdk\\wandb_run.py\", line 1595, in _log\n",
      "    self._partial_history_callback(data, step, commit)\n",
      "  File \"c:\\Users\\harsh\\anaconda3\\envs\\truck-delay\\lib\\site-packages\\wandb\\sdk\\wandb_run.py\", line 1467, in _partial_history_callback\n",
      "    self._backend.interface.publish_partial_history(\n",
      "  File \"c:\\Users\\harsh\\anaconda3\\envs\\truck-delay\\lib\\site-packages\\wandb\\sdk\\interface\\interface.py\", line 549, in publish_partial_history\n",
      "    data = history_dict_to_json(run, data, step=user_step, ignore_copy_err=True)\n",
      "  File \"c:\\Users\\harsh\\anaconda3\\envs\\truck-delay\\lib\\site-packages\\wandb\\sdk\\data_types\\utils.py\", line 52, in history_dict_to_json\n",
      "    payload[key] = val_to_json(\n",
      "  File \"c:\\Users\\harsh\\anaconda3\\envs\\truck-delay\\lib\\site-packages\\wandb\\sdk\\data_types\\utils.py\", line 164, in val_to_json\n",
      "    val.bind_to_run(run, key, namespace)\n",
      "  File \"c:\\Users\\harsh\\anaconda3\\envs\\truck-delay\\lib\\site-packages\\wandb\\data_types.py\", line 541, in bind_to_run\n",
      "    with codecs.open(tmp_path, \"w\", encoding=\"utf-8\") as fp:\n",
      "  File \"c:\\Users\\harsh\\anaconda3\\envs\\truck-delay\\lib\\codecs.py\", line 905, in open\n",
      "    file = builtins.open(filename, mode, buffering)\n",
      "FileNotFoundError: [Errno 2] No such file or directory: 'C:\\\\Users\\\\harsh\\\\AppData\\\\Local\\\\Temp\\\\tmpqphwv_07wandb-media\\\\tmm4a560.table.json'\n"
     ]
    },
    {
     "name": "stdout",
     "output_type": "stream",
     "text": [
      "2024-08-05 17:49:33,571 WARNING: DeprecationWarning: Importing display from IPython.core.display is deprecated since IPython 7.14, please import from IPython display\n",
      "\n"
     ]
    },
    {
     "data": {
      "application/vnd.jupyter.widget-view+json": {
       "model_id": "c8fb9cfc57a849f7a0898fed9edf9348",
       "version_major": 2,
       "version_minor": 0
      },
      "text/plain": [
       "VBox(children=(Label(value='0.010 MB of 0.010 MB uploaded\\r'), FloatProgress(value=1.0, max=1.0)))"
      ]
     },
     "metadata": {},
     "output_type": "display_data"
    },
    {
     "name": "stdout",
     "output_type": "stream",
     "text": [
      "2024-08-05 17:49:39,446 WARNING: DeprecationWarning: Importing display from IPython.core.display is deprecated since IPython 7.14, please import from IPython display\n",
      "\n"
     ]
    },
    {
     "data": {
      "text/html": [
       "<style>\n",
       "    table.wandb td:nth-child(1) { padding: 0 10px; text-align: left ; width: auto;} td:nth-child(2) {text-align: left ; width: 100%}\n",
       "    .wandb-row { display: flex; flex-direction: row; flex-wrap: wrap; justify-content: flex-start; width: 100% }\n",
       "    .wandb-col { display: flex; flex-direction: column; flex-basis: 100%; flex: 1; padding: 10px; }\n",
       "    </style>\n",
       "<div class=\"wandb-row\"><div class=\"wandb-col\"><h3>Run history:</h3><br/><table class=\"wandb\"><tr><td>f1_score</td><td>▁</td></tr><tr><td>f1_score_train</td><td>▁</td></tr><tr><td>f1_score_valid</td><td>▁</td></tr></table><br/></div><div class=\"wandb-col\"><h3>Run summary:</h3><br/><table class=\"wandb\"><tr><td>f1_score</td><td>0.75489</td></tr><tr><td>f1_score_train</td><td>0.66057</td></tr><tr><td>f1_score_valid</td><td>0.64163</td></tr></table><br/></div></div>"
      ],
      "text/plain": [
       "<IPython.core.display.HTML object>"
      ]
     },
     "metadata": {},
     "output_type": "display_data"
    },
    {
     "data": {
      "text/html": [
       " View run <strong style=\"color:#cdcd00\">ancient-sweep-42</strong> at: <a href='https://wandb.ai/harshmp/truck-delay-classification/runs/lpsfhybt' target=\"_blank\">https://wandb.ai/harshmp/truck-delay-classification/runs/lpsfhybt</a><br/>Synced 5 W&B file(s), 0 media file(s), 1 artifact file(s) and 0 other file(s)"
      ],
      "text/plain": [
       "<IPython.core.display.HTML object>"
      ]
     },
     "metadata": {},
     "output_type": "display_data"
    },
    {
     "data": {
      "text/html": [
       "Find logs at: <code>.\\wandb\\run-20240805_174928-lpsfhybt\\logs</code>"
      ],
      "text/plain": [
       "<IPython.core.display.HTML object>"
      ]
     },
     "metadata": {},
     "output_type": "display_data"
    },
    {
     "name": "stderr",
     "output_type": "stream",
     "text": [
      "Run lpsfhybt errored: FileNotFoundError(2, 'No such file or directory')\n",
      "wandb: ERROR Run lpsfhybt errored: FileNotFoundError(2, 'No such file or directory')\n",
      "wandb: Agent Starting Run: coft4pif with config:\n",
      "wandb: \tmax_depth: 10\n",
      "wandb: \tmin_samples_split: 8\n",
      "wandb: \tn_estimators: 16\n",
      "Failed to detect the name of this notebook, you can set it manually with the WANDB_NOTEBOOK_NAME environment variable to enable code saving.\n",
      "wandb: WARNING Ignored wandb.init() arg project when running a sweep.\n"
     ]
    },
    {
     "data": {
      "text/html": [
       "wandb version 0.17.5 is available!  To upgrade, please run:\n",
       " $ pip install wandb --upgrade"
      ],
      "text/plain": [
       "<IPython.core.display.HTML object>"
      ]
     },
     "metadata": {},
     "output_type": "display_data"
    },
    {
     "data": {
      "text/html": [
       "Tracking run with wandb version 0.16.1"
      ],
      "text/plain": [
       "<IPython.core.display.HTML object>"
      ]
     },
     "metadata": {},
     "output_type": "display_data"
    },
    {
     "data": {
      "text/html": [
       "Run data is saved locally in <code>e:\\Artificial Intelligence\\Projects\\Predictive-Truck-Delay-Management-in-Logistics\\wandb\\run-20240805_174949-coft4pif</code>"
      ],
      "text/plain": [
       "<IPython.core.display.HTML object>"
      ]
     },
     "metadata": {},
     "output_type": "display_data"
    },
    {
     "data": {
      "text/html": [
       "Syncing run <strong><a href='https://wandb.ai/harshmp/truck-delay-classification/runs/coft4pif' target=\"_blank\">worthy-sweep-43</a></strong> to <a href='https://wandb.ai/harshmp/truck-delay-classification' target=\"_blank\">Weights & Biases</a> (<a href='https://wandb.me/run' target=\"_blank\">docs</a>)<br/>Sweep page: <a href='https://wandb.ai/harshmp/truck-delay-classification/sweeps/20442i5p' target=\"_blank\">https://wandb.ai/harshmp/truck-delay-classification/sweeps/20442i5p</a>"
      ],
      "text/plain": [
       "<IPython.core.display.HTML object>"
      ]
     },
     "metadata": {},
     "output_type": "display_data"
    },
    {
     "data": {
      "text/html": [
       " View project at <a href='https://wandb.ai/harshmp/truck-delay-classification' target=\"_blank\">https://wandb.ai/harshmp/truck-delay-classification</a>"
      ],
      "text/plain": [
       "<IPython.core.display.HTML object>"
      ]
     },
     "metadata": {},
     "output_type": "display_data"
    },
    {
     "data": {
      "text/html": [
       " View sweep at <a href='https://wandb.ai/harshmp/truck-delay-classification/sweeps/20442i5p' target=\"_blank\">https://wandb.ai/harshmp/truck-delay-classification/sweeps/20442i5p</a>"
      ],
      "text/plain": [
       "<IPython.core.display.HTML object>"
      ]
     },
     "metadata": {},
     "output_type": "display_data"
    },
    {
     "data": {
      "text/html": [
       " View run at <a href='https://wandb.ai/harshmp/truck-delay-classification/runs/coft4pif' target=\"_blank\">https://wandb.ai/harshmp/truck-delay-classification/runs/coft4pif</a>"
      ],
      "text/plain": [
       "<IPython.core.display.HTML object>"
      ]
     },
     "metadata": {},
     "output_type": "display_data"
    },
    {
     "name": "stdout",
     "output_type": "stream",
     "text": [
      "F1_score Train: 0.6629\n",
      "F1_score Valid: 0.6409\n",
      "F1_score Test: 0.7557\n"
     ]
    },
    {
     "name": "stderr",
     "output_type": "stream",
     "text": [
      "wandb: \n",
      "wandb: Plotting RandomForestClassifier.\n",
      "Traceback (most recent call last):\n",
      "  File \"C:\\Users\\harsh\\AppData\\Local\\Temp\\ipykernel_18532\\2640226391.py\", line 44, in train_rf_model\n",
      "    wandb.sklearn.plot_classifier(model, X_train, X_test, y_train, y_test, y_preds, y_probas, labels=None,\n",
      "  File \"c:\\Users\\harsh\\anaconda3\\envs\\truck-delay\\lib\\site-packages\\wandb\\sklearn\\plot\\classifier.py\", line 82, in classifier\n",
      "    feature_importances(model, feature_names)\n",
      "  File \"c:\\Users\\harsh\\anaconda3\\envs\\truck-delay\\lib\\site-packages\\wandb\\sklearn\\plot\\classifier.py\", line 250, in feature_importances\n",
      "    wandb.log({\"feature_importances\": feature_importance_chart})\n",
      "  File \"c:\\Users\\harsh\\anaconda3\\envs\\truck-delay\\lib\\site-packages\\wandb\\sdk\\wandb_run.py\", line 420, in wrapper\n",
      "    return func(self, *args, **kwargs)\n",
      "  File \"c:\\Users\\harsh\\anaconda3\\envs\\truck-delay\\lib\\site-packages\\wandb\\sdk\\wandb_run.py\", line 371, in wrapper_fn\n",
      "    return func(self, *args, **kwargs)\n",
      "  File \"c:\\Users\\harsh\\anaconda3\\envs\\truck-delay\\lib\\site-packages\\wandb\\sdk\\wandb_run.py\", line 361, in wrapper\n",
      "    return func(self, *args, **kwargs)\n",
      "  File \"c:\\Users\\harsh\\anaconda3\\envs\\truck-delay\\lib\\site-packages\\wandb\\sdk\\wandb_run.py\", line 1820, in log\n",
      "    self._log(data=data, step=step, commit=commit)\n",
      "  File \"c:\\Users\\harsh\\anaconda3\\envs\\truck-delay\\lib\\site-packages\\wandb\\sdk\\wandb_run.py\", line 1595, in _log\n",
      "    self._partial_history_callback(data, step, commit)\n",
      "  File \"c:\\Users\\harsh\\anaconda3\\envs\\truck-delay\\lib\\site-packages\\wandb\\sdk\\wandb_run.py\", line 1467, in _partial_history_callback\n",
      "    self._backend.interface.publish_partial_history(\n",
      "  File \"c:\\Users\\harsh\\anaconda3\\envs\\truck-delay\\lib\\site-packages\\wandb\\sdk\\interface\\interface.py\", line 549, in publish_partial_history\n",
      "    data = history_dict_to_json(run, data, step=user_step, ignore_copy_err=True)\n",
      "  File \"c:\\Users\\harsh\\anaconda3\\envs\\truck-delay\\lib\\site-packages\\wandb\\sdk\\data_types\\utils.py\", line 52, in history_dict_to_json\n",
      "    payload[key] = val_to_json(\n",
      "  File \"c:\\Users\\harsh\\anaconda3\\envs\\truck-delay\\lib\\site-packages\\wandb\\sdk\\data_types\\utils.py\", line 164, in val_to_json\n",
      "    val.bind_to_run(run, key, namespace)\n",
      "  File \"c:\\Users\\harsh\\anaconda3\\envs\\truck-delay\\lib\\site-packages\\wandb\\data_types.py\", line 541, in bind_to_run\n",
      "    with codecs.open(tmp_path, \"w\", encoding=\"utf-8\") as fp:\n",
      "  File \"c:\\Users\\harsh\\anaconda3\\envs\\truck-delay\\lib\\codecs.py\", line 905, in open\n",
      "    file = builtins.open(filename, mode, buffering)\n",
      "FileNotFoundError: [Errno 2] No such file or directory: 'C:\\\\Users\\\\harsh\\\\AppData\\\\Local\\\\Temp\\\\tmpqphwv_07wandb-media\\\\yoxpv9ix.table.json'\n"
     ]
    },
    {
     "name": "stdout",
     "output_type": "stream",
     "text": [
      "2024-08-05 17:49:54,296 WARNING: DeprecationWarning: Importing display from IPython.core.display is deprecated since IPython 7.14, please import from IPython display\n",
      "\n"
     ]
    },
    {
     "data": {
      "application/vnd.jupyter.widget-view+json": {
       "model_id": "3e453e23859d474c88071cb7590a7cc3",
       "version_major": 2,
       "version_minor": 0
      },
      "text/plain": [
       "VBox(children=(Label(value='0.010 MB of 0.010 MB uploaded\\r'), FloatProgress(value=1.0, max=1.0)))"
      ]
     },
     "metadata": {},
     "output_type": "display_data"
    },
    {
     "name": "stdout",
     "output_type": "stream",
     "text": [
      "2024-08-05 17:49:58,716 WARNING: DeprecationWarning: Importing display from IPython.core.display is deprecated since IPython 7.14, please import from IPython display\n",
      "\n"
     ]
    },
    {
     "data": {
      "text/html": [
       "<style>\n",
       "    table.wandb td:nth-child(1) { padding: 0 10px; text-align: left ; width: auto;} td:nth-child(2) {text-align: left ; width: 100%}\n",
       "    .wandb-row { display: flex; flex-direction: row; flex-wrap: wrap; justify-content: flex-start; width: 100% }\n",
       "    .wandb-col { display: flex; flex-direction: column; flex-basis: 100%; flex: 1; padding: 10px; }\n",
       "    </style>\n",
       "<div class=\"wandb-row\"><div class=\"wandb-col\"><h3>Run history:</h3><br/><table class=\"wandb\"><tr><td>f1_score</td><td>▁</td></tr><tr><td>f1_score_train</td><td>▁</td></tr><tr><td>f1_score_valid</td><td>▁</td></tr></table><br/></div><div class=\"wandb-col\"><h3>Run summary:</h3><br/><table class=\"wandb\"><tr><td>f1_score</td><td>0.75573</td></tr><tr><td>f1_score_train</td><td>0.66285</td></tr><tr><td>f1_score_valid</td><td>0.64088</td></tr></table><br/></div></div>"
      ],
      "text/plain": [
       "<IPython.core.display.HTML object>"
      ]
     },
     "metadata": {},
     "output_type": "display_data"
    },
    {
     "data": {
      "text/html": [
       " View run <strong style=\"color:#cdcd00\">worthy-sweep-43</strong> at: <a href='https://wandb.ai/harshmp/truck-delay-classification/runs/coft4pif' target=\"_blank\">https://wandb.ai/harshmp/truck-delay-classification/runs/coft4pif</a><br/>Synced 5 W&B file(s), 0 media file(s), 1 artifact file(s) and 0 other file(s)"
      ],
      "text/plain": [
       "<IPython.core.display.HTML object>"
      ]
     },
     "metadata": {},
     "output_type": "display_data"
    },
    {
     "data": {
      "text/html": [
       "Find logs at: <code>.\\wandb\\run-20240805_174949-coft4pif\\logs</code>"
      ],
      "text/plain": [
       "<IPython.core.display.HTML object>"
      ]
     },
     "metadata": {},
     "output_type": "display_data"
    },
    {
     "name": "stderr",
     "output_type": "stream",
     "text": [
      "Run coft4pif errored: FileNotFoundError(2, 'No such file or directory')\n",
      "wandb: ERROR Run coft4pif errored: FileNotFoundError(2, 'No such file or directory')\n",
      "wandb: Agent Starting Run: g5d4eq9a with config:\n",
      "wandb: \tmax_depth: 10\n",
      "wandb: \tmin_samples_split: 8\n",
      "wandb: \tn_estimators: 20\n",
      "Failed to detect the name of this notebook, you can set it manually with the WANDB_NOTEBOOK_NAME environment variable to enable code saving.\n",
      "wandb: WARNING Ignored wandb.init() arg project when running a sweep.\n"
     ]
    },
    {
     "data": {
      "text/html": [
       "wandb version 0.17.5 is available!  To upgrade, please run:\n",
       " $ pip install wandb --upgrade"
      ],
      "text/plain": [
       "<IPython.core.display.HTML object>"
      ]
     },
     "metadata": {},
     "output_type": "display_data"
    },
    {
     "data": {
      "text/html": [
       "Tracking run with wandb version 0.16.1"
      ],
      "text/plain": [
       "<IPython.core.display.HTML object>"
      ]
     },
     "metadata": {},
     "output_type": "display_data"
    },
    {
     "data": {
      "text/html": [
       "Run data is saved locally in <code>e:\\Artificial Intelligence\\Projects\\Predictive-Truck-Delay-Management-in-Logistics\\wandb\\run-20240805_175004-g5d4eq9a</code>"
      ],
      "text/plain": [
       "<IPython.core.display.HTML object>"
      ]
     },
     "metadata": {},
     "output_type": "display_data"
    },
    {
     "data": {
      "text/html": [
       "Syncing run <strong><a href='https://wandb.ai/harshmp/truck-delay-classification/runs/g5d4eq9a' target=\"_blank\">effortless-sweep-44</a></strong> to <a href='https://wandb.ai/harshmp/truck-delay-classification' target=\"_blank\">Weights & Biases</a> (<a href='https://wandb.me/run' target=\"_blank\">docs</a>)<br/>Sweep page: <a href='https://wandb.ai/harshmp/truck-delay-classification/sweeps/20442i5p' target=\"_blank\">https://wandb.ai/harshmp/truck-delay-classification/sweeps/20442i5p</a>"
      ],
      "text/plain": [
       "<IPython.core.display.HTML object>"
      ]
     },
     "metadata": {},
     "output_type": "display_data"
    },
    {
     "data": {
      "text/html": [
       " View project at <a href='https://wandb.ai/harshmp/truck-delay-classification' target=\"_blank\">https://wandb.ai/harshmp/truck-delay-classification</a>"
      ],
      "text/plain": [
       "<IPython.core.display.HTML object>"
      ]
     },
     "metadata": {},
     "output_type": "display_data"
    },
    {
     "data": {
      "text/html": [
       " View sweep at <a href='https://wandb.ai/harshmp/truck-delay-classification/sweeps/20442i5p' target=\"_blank\">https://wandb.ai/harshmp/truck-delay-classification/sweeps/20442i5p</a>"
      ],
      "text/plain": [
       "<IPython.core.display.HTML object>"
      ]
     },
     "metadata": {},
     "output_type": "display_data"
    },
    {
     "data": {
      "text/html": [
       " View run at <a href='https://wandb.ai/harshmp/truck-delay-classification/runs/g5d4eq9a' target=\"_blank\">https://wandb.ai/harshmp/truck-delay-classification/runs/g5d4eq9a</a>"
      ],
      "text/plain": [
       "<IPython.core.display.HTML object>"
      ]
     },
     "metadata": {},
     "output_type": "display_data"
    },
    {
     "name": "stdout",
     "output_type": "stream",
     "text": [
      "F1_score Train: 0.6694\n",
      "F1_score Valid: 0.6531\n",
      "F1_score Test: 0.7559\n"
     ]
    },
    {
     "name": "stderr",
     "output_type": "stream",
     "text": [
      "wandb: \n",
      "wandb: Plotting RandomForestClassifier.\n",
      "Traceback (most recent call last):\n",
      "  File \"C:\\Users\\harsh\\AppData\\Local\\Temp\\ipykernel_18532\\2640226391.py\", line 44, in train_rf_model\n",
      "    wandb.sklearn.plot_classifier(model, X_train, X_test, y_train, y_test, y_preds, y_probas, labels=None,\n",
      "  File \"c:\\Users\\harsh\\anaconda3\\envs\\truck-delay\\lib\\site-packages\\wandb\\sklearn\\plot\\classifier.py\", line 82, in classifier\n",
      "    feature_importances(model, feature_names)\n",
      "  File \"c:\\Users\\harsh\\anaconda3\\envs\\truck-delay\\lib\\site-packages\\wandb\\sklearn\\plot\\classifier.py\", line 250, in feature_importances\n",
      "    wandb.log({\"feature_importances\": feature_importance_chart})\n",
      "  File \"c:\\Users\\harsh\\anaconda3\\envs\\truck-delay\\lib\\site-packages\\wandb\\sdk\\wandb_run.py\", line 420, in wrapper\n",
      "    return func(self, *args, **kwargs)\n",
      "  File \"c:\\Users\\harsh\\anaconda3\\envs\\truck-delay\\lib\\site-packages\\wandb\\sdk\\wandb_run.py\", line 371, in wrapper_fn\n",
      "    return func(self, *args, **kwargs)\n",
      "  File \"c:\\Users\\harsh\\anaconda3\\envs\\truck-delay\\lib\\site-packages\\wandb\\sdk\\wandb_run.py\", line 361, in wrapper\n",
      "    return func(self, *args, **kwargs)\n",
      "  File \"c:\\Users\\harsh\\anaconda3\\envs\\truck-delay\\lib\\site-packages\\wandb\\sdk\\wandb_run.py\", line 1820, in log\n",
      "    self._log(data=data, step=step, commit=commit)\n",
      "  File \"c:\\Users\\harsh\\anaconda3\\envs\\truck-delay\\lib\\site-packages\\wandb\\sdk\\wandb_run.py\", line 1595, in _log\n",
      "    self._partial_history_callback(data, step, commit)\n",
      "  File \"c:\\Users\\harsh\\anaconda3\\envs\\truck-delay\\lib\\site-packages\\wandb\\sdk\\wandb_run.py\", line 1467, in _partial_history_callback\n",
      "    self._backend.interface.publish_partial_history(\n",
      "  File \"c:\\Users\\harsh\\anaconda3\\envs\\truck-delay\\lib\\site-packages\\wandb\\sdk\\interface\\interface.py\", line 549, in publish_partial_history\n",
      "    data = history_dict_to_json(run, data, step=user_step, ignore_copy_err=True)\n",
      "  File \"c:\\Users\\harsh\\anaconda3\\envs\\truck-delay\\lib\\site-packages\\wandb\\sdk\\data_types\\utils.py\", line 52, in history_dict_to_json\n",
      "    payload[key] = val_to_json(\n",
      "  File \"c:\\Users\\harsh\\anaconda3\\envs\\truck-delay\\lib\\site-packages\\wandb\\sdk\\data_types\\utils.py\", line 164, in val_to_json\n",
      "    val.bind_to_run(run, key, namespace)\n",
      "  File \"c:\\Users\\harsh\\anaconda3\\envs\\truck-delay\\lib\\site-packages\\wandb\\data_types.py\", line 541, in bind_to_run\n",
      "    with codecs.open(tmp_path, \"w\", encoding=\"utf-8\") as fp:\n",
      "  File \"c:\\Users\\harsh\\anaconda3\\envs\\truck-delay\\lib\\codecs.py\", line 905, in open\n",
      "    file = builtins.open(filename, mode, buffering)\n",
      "FileNotFoundError: [Errno 2] No such file or directory: 'C:\\\\Users\\\\harsh\\\\AppData\\\\Local\\\\Temp\\\\tmpqphwv_07wandb-media\\\\bybbdg05.table.json'\n"
     ]
    },
    {
     "name": "stdout",
     "output_type": "stream",
     "text": [
      "2024-08-05 17:50:08,578 WARNING: DeprecationWarning: Importing display from IPython.core.display is deprecated since IPython 7.14, please import from IPython display\n",
      "\n"
     ]
    },
    {
     "data": {
      "application/vnd.jupyter.widget-view+json": {
       "model_id": "93c1438067e34e9897cb86c3e79f54a2",
       "version_major": 2,
       "version_minor": 0
      },
      "text/plain": [
       "VBox(children=(Label(value='0.010 MB of 0.010 MB uploaded\\r'), FloatProgress(value=1.0, max=1.0)))"
      ]
     },
     "metadata": {},
     "output_type": "display_data"
    },
    {
     "name": "stdout",
     "output_type": "stream",
     "text": [
      "2024-08-05 17:50:13,516 WARNING: DeprecationWarning: Importing display from IPython.core.display is deprecated since IPython 7.14, please import from IPython display\n",
      "\n"
     ]
    },
    {
     "data": {
      "text/html": [
       "<style>\n",
       "    table.wandb td:nth-child(1) { padding: 0 10px; text-align: left ; width: auto;} td:nth-child(2) {text-align: left ; width: 100%}\n",
       "    .wandb-row { display: flex; flex-direction: row; flex-wrap: wrap; justify-content: flex-start; width: 100% }\n",
       "    .wandb-col { display: flex; flex-direction: column; flex-basis: 100%; flex: 1; padding: 10px; }\n",
       "    </style>\n",
       "<div class=\"wandb-row\"><div class=\"wandb-col\"><h3>Run history:</h3><br/><table class=\"wandb\"><tr><td>f1_score</td><td>▁</td></tr><tr><td>f1_score_train</td><td>▁</td></tr><tr><td>f1_score_valid</td><td>▁</td></tr></table><br/></div><div class=\"wandb-col\"><h3>Run summary:</h3><br/><table class=\"wandb\"><tr><td>f1_score</td><td>0.75591</td></tr><tr><td>f1_score_train</td><td>0.66936</td></tr><tr><td>f1_score_valid</td><td>0.65314</td></tr></table><br/></div></div>"
      ],
      "text/plain": [
       "<IPython.core.display.HTML object>"
      ]
     },
     "metadata": {},
     "output_type": "display_data"
    },
    {
     "data": {
      "text/html": [
       " View run <strong style=\"color:#cdcd00\">effortless-sweep-44</strong> at: <a href='https://wandb.ai/harshmp/truck-delay-classification/runs/g5d4eq9a' target=\"_blank\">https://wandb.ai/harshmp/truck-delay-classification/runs/g5d4eq9a</a><br/>Synced 5 W&B file(s), 0 media file(s), 1 artifact file(s) and 0 other file(s)"
      ],
      "text/plain": [
       "<IPython.core.display.HTML object>"
      ]
     },
     "metadata": {},
     "output_type": "display_data"
    },
    {
     "data": {
      "text/html": [
       "Find logs at: <code>.\\wandb\\run-20240805_175004-g5d4eq9a\\logs</code>"
      ],
      "text/plain": [
       "<IPython.core.display.HTML object>"
      ]
     },
     "metadata": {},
     "output_type": "display_data"
    },
    {
     "name": "stderr",
     "output_type": "stream",
     "text": [
      "Run g5d4eq9a errored: FileNotFoundError(2, 'No such file or directory')\n",
      "wandb: ERROR Run g5d4eq9a errored: FileNotFoundError(2, 'No such file or directory')\n",
      "wandb: Agent Starting Run: ihk9wyiu with config:\n",
      "wandb: \tmax_depth: 10\n",
      "wandb: \tmin_samples_split: 12\n",
      "wandb: \tn_estimators: 8\n",
      "Failed to detect the name of this notebook, you can set it manually with the WANDB_NOTEBOOK_NAME environment variable to enable code saving.\n",
      "wandb: WARNING Ignored wandb.init() arg project when running a sweep.\n"
     ]
    },
    {
     "data": {
      "text/html": [
       "wandb version 0.17.5 is available!  To upgrade, please run:\n",
       " $ pip install wandb --upgrade"
      ],
      "text/plain": [
       "<IPython.core.display.HTML object>"
      ]
     },
     "metadata": {},
     "output_type": "display_data"
    },
    {
     "data": {
      "text/html": [
       "Tracking run with wandb version 0.16.1"
      ],
      "text/plain": [
       "<IPython.core.display.HTML object>"
      ]
     },
     "metadata": {},
     "output_type": "display_data"
    },
    {
     "data": {
      "text/html": [
       "Run data is saved locally in <code>e:\\Artificial Intelligence\\Projects\\Predictive-Truck-Delay-Management-in-Logistics\\wandb\\run-20240805_175019-ihk9wyiu</code>"
      ],
      "text/plain": [
       "<IPython.core.display.HTML object>"
      ]
     },
     "metadata": {},
     "output_type": "display_data"
    },
    {
     "data": {
      "text/html": [
       "Syncing run <strong><a href='https://wandb.ai/harshmp/truck-delay-classification/runs/ihk9wyiu' target=\"_blank\">cosmic-sweep-45</a></strong> to <a href='https://wandb.ai/harshmp/truck-delay-classification' target=\"_blank\">Weights & Biases</a> (<a href='https://wandb.me/run' target=\"_blank\">docs</a>)<br/>Sweep page: <a href='https://wandb.ai/harshmp/truck-delay-classification/sweeps/20442i5p' target=\"_blank\">https://wandb.ai/harshmp/truck-delay-classification/sweeps/20442i5p</a>"
      ],
      "text/plain": [
       "<IPython.core.display.HTML object>"
      ]
     },
     "metadata": {},
     "output_type": "display_data"
    },
    {
     "data": {
      "text/html": [
       " View project at <a href='https://wandb.ai/harshmp/truck-delay-classification' target=\"_blank\">https://wandb.ai/harshmp/truck-delay-classification</a>"
      ],
      "text/plain": [
       "<IPython.core.display.HTML object>"
      ]
     },
     "metadata": {},
     "output_type": "display_data"
    },
    {
     "data": {
      "text/html": [
       " View sweep at <a href='https://wandb.ai/harshmp/truck-delay-classification/sweeps/20442i5p' target=\"_blank\">https://wandb.ai/harshmp/truck-delay-classification/sweeps/20442i5p</a>"
      ],
      "text/plain": [
       "<IPython.core.display.HTML object>"
      ]
     },
     "metadata": {},
     "output_type": "display_data"
    },
    {
     "data": {
      "text/html": [
       " View run at <a href='https://wandb.ai/harshmp/truck-delay-classification/runs/ihk9wyiu' target=\"_blank\">https://wandb.ai/harshmp/truck-delay-classification/runs/ihk9wyiu</a>"
      ],
      "text/plain": [
       "<IPython.core.display.HTML object>"
      ]
     },
     "metadata": {},
     "output_type": "display_data"
    },
    {
     "name": "stdout",
     "output_type": "stream",
     "text": [
      "F1_score Train: 0.6683\n",
      "F1_score Valid: 0.645\n",
      "F1_score Test: 0.7484\n"
     ]
    },
    {
     "name": "stderr",
     "output_type": "stream",
     "text": [
      "wandb: \n",
      "wandb: Plotting RandomForestClassifier.\n",
      "Traceback (most recent call last):\n",
      "  File \"C:\\Users\\harsh\\AppData\\Local\\Temp\\ipykernel_18532\\2640226391.py\", line 44, in train_rf_model\n",
      "    wandb.sklearn.plot_classifier(model, X_train, X_test, y_train, y_test, y_preds, y_probas, labels=None,\n",
      "  File \"c:\\Users\\harsh\\anaconda3\\envs\\truck-delay\\lib\\site-packages\\wandb\\sklearn\\plot\\classifier.py\", line 82, in classifier\n",
      "    feature_importances(model, feature_names)\n",
      "  File \"c:\\Users\\harsh\\anaconda3\\envs\\truck-delay\\lib\\site-packages\\wandb\\sklearn\\plot\\classifier.py\", line 250, in feature_importances\n",
      "    wandb.log({\"feature_importances\": feature_importance_chart})\n",
      "  File \"c:\\Users\\harsh\\anaconda3\\envs\\truck-delay\\lib\\site-packages\\wandb\\sdk\\wandb_run.py\", line 420, in wrapper\n",
      "    return func(self, *args, **kwargs)\n",
      "  File \"c:\\Users\\harsh\\anaconda3\\envs\\truck-delay\\lib\\site-packages\\wandb\\sdk\\wandb_run.py\", line 371, in wrapper_fn\n",
      "    return func(self, *args, **kwargs)\n",
      "  File \"c:\\Users\\harsh\\anaconda3\\envs\\truck-delay\\lib\\site-packages\\wandb\\sdk\\wandb_run.py\", line 361, in wrapper\n",
      "    return func(self, *args, **kwargs)\n",
      "  File \"c:\\Users\\harsh\\anaconda3\\envs\\truck-delay\\lib\\site-packages\\wandb\\sdk\\wandb_run.py\", line 1820, in log\n",
      "    self._log(data=data, step=step, commit=commit)\n",
      "  File \"c:\\Users\\harsh\\anaconda3\\envs\\truck-delay\\lib\\site-packages\\wandb\\sdk\\wandb_run.py\", line 1595, in _log\n",
      "    self._partial_history_callback(data, step, commit)\n",
      "  File \"c:\\Users\\harsh\\anaconda3\\envs\\truck-delay\\lib\\site-packages\\wandb\\sdk\\wandb_run.py\", line 1467, in _partial_history_callback\n",
      "    self._backend.interface.publish_partial_history(\n",
      "  File \"c:\\Users\\harsh\\anaconda3\\envs\\truck-delay\\lib\\site-packages\\wandb\\sdk\\interface\\interface.py\", line 549, in publish_partial_history\n",
      "    data = history_dict_to_json(run, data, step=user_step, ignore_copy_err=True)\n",
      "  File \"c:\\Users\\harsh\\anaconda3\\envs\\truck-delay\\lib\\site-packages\\wandb\\sdk\\data_types\\utils.py\", line 52, in history_dict_to_json\n",
      "    payload[key] = val_to_json(\n",
      "  File \"c:\\Users\\harsh\\anaconda3\\envs\\truck-delay\\lib\\site-packages\\wandb\\sdk\\data_types\\utils.py\", line 164, in val_to_json\n",
      "    val.bind_to_run(run, key, namespace)\n",
      "  File \"c:\\Users\\harsh\\anaconda3\\envs\\truck-delay\\lib\\site-packages\\wandb\\data_types.py\", line 541, in bind_to_run\n",
      "    with codecs.open(tmp_path, \"w\", encoding=\"utf-8\") as fp:\n",
      "  File \"c:\\Users\\harsh\\anaconda3\\envs\\truck-delay\\lib\\codecs.py\", line 905, in open\n",
      "    file = builtins.open(filename, mode, buffering)\n",
      "FileNotFoundError: [Errno 2] No such file or directory: 'C:\\\\Users\\\\harsh\\\\AppData\\\\Local\\\\Temp\\\\tmpqphwv_07wandb-media\\\\zw6du1ck.table.json'\n"
     ]
    },
    {
     "name": "stdout",
     "output_type": "stream",
     "text": [
      "2024-08-05 17:50:25,339 WARNING: DeprecationWarning: Importing display from IPython.core.display is deprecated since IPython 7.14, please import from IPython display\n",
      "\n"
     ]
    },
    {
     "data": {
      "application/vnd.jupyter.widget-view+json": {
       "model_id": "d3dac1e8faee4ed7ad90159426ad73a9",
       "version_major": 2,
       "version_minor": 0
      },
      "text/plain": [
       "VBox(children=(Label(value='0.010 MB of 0.010 MB uploaded\\r'), FloatProgress(value=1.0, max=1.0)))"
      ]
     },
     "metadata": {},
     "output_type": "display_data"
    },
    {
     "name": "stdout",
     "output_type": "stream",
     "text": [
      "2024-08-05 17:50:28,603 WARNING: DeprecationWarning: Importing display from IPython.core.display is deprecated since IPython 7.14, please import from IPython display\n",
      "\n"
     ]
    },
    {
     "data": {
      "text/html": [
       "<style>\n",
       "    table.wandb td:nth-child(1) { padding: 0 10px; text-align: left ; width: auto;} td:nth-child(2) {text-align: left ; width: 100%}\n",
       "    .wandb-row { display: flex; flex-direction: row; flex-wrap: wrap; justify-content: flex-start; width: 100% }\n",
       "    .wandb-col { display: flex; flex-direction: column; flex-basis: 100%; flex: 1; padding: 10px; }\n",
       "    </style>\n",
       "<div class=\"wandb-row\"><div class=\"wandb-col\"><h3>Run history:</h3><br/><table class=\"wandb\"><tr><td>f1_score</td><td>▁</td></tr><tr><td>f1_score_train</td><td>▁</td></tr><tr><td>f1_score_valid</td><td>▁</td></tr></table><br/></div><div class=\"wandb-col\"><h3>Run summary:</h3><br/><table class=\"wandb\"><tr><td>f1_score</td><td>0.74836</td></tr><tr><td>f1_score_train</td><td>0.6683</td></tr><tr><td>f1_score_valid</td><td>0.64504</td></tr></table><br/></div></div>"
      ],
      "text/plain": [
       "<IPython.core.display.HTML object>"
      ]
     },
     "metadata": {},
     "output_type": "display_data"
    },
    {
     "data": {
      "text/html": [
       " View run <strong style=\"color:#cdcd00\">cosmic-sweep-45</strong> at: <a href='https://wandb.ai/harshmp/truck-delay-classification/runs/ihk9wyiu' target=\"_blank\">https://wandb.ai/harshmp/truck-delay-classification/runs/ihk9wyiu</a><br/>Synced 5 W&B file(s), 0 media file(s), 1 artifact file(s) and 0 other file(s)"
      ],
      "text/plain": [
       "<IPython.core.display.HTML object>"
      ]
     },
     "metadata": {},
     "output_type": "display_data"
    },
    {
     "data": {
      "text/html": [
       "Find logs at: <code>.\\wandb\\run-20240805_175019-ihk9wyiu\\logs</code>"
      ],
      "text/plain": [
       "<IPython.core.display.HTML object>"
      ]
     },
     "metadata": {},
     "output_type": "display_data"
    },
    {
     "name": "stderr",
     "output_type": "stream",
     "text": [
      "Run ihk9wyiu errored: FileNotFoundError(2, 'No such file or directory')\n",
      "wandb: ERROR Run ihk9wyiu errored: FileNotFoundError(2, 'No such file or directory')\n",
      "wandb: Agent Starting Run: nsjlsu5m with config:\n",
      "wandb: \tmax_depth: 10\n",
      "wandb: \tmin_samples_split: 12\n",
      "wandb: \tn_estimators: 12\n",
      "Failed to detect the name of this notebook, you can set it manually with the WANDB_NOTEBOOK_NAME environment variable to enable code saving.\n",
      "wandb: WARNING Ignored wandb.init() arg project when running a sweep.\n"
     ]
    },
    {
     "data": {
      "text/html": [
       "wandb version 0.17.5 is available!  To upgrade, please run:\n",
       " $ pip install wandb --upgrade"
      ],
      "text/plain": [
       "<IPython.core.display.HTML object>"
      ]
     },
     "metadata": {},
     "output_type": "display_data"
    },
    {
     "data": {
      "text/html": [
       "Tracking run with wandb version 0.16.1"
      ],
      "text/plain": [
       "<IPython.core.display.HTML object>"
      ]
     },
     "metadata": {},
     "output_type": "display_data"
    },
    {
     "data": {
      "text/html": [
       "Run data is saved locally in <code>e:\\Artificial Intelligence\\Projects\\Predictive-Truck-Delay-Management-in-Logistics\\wandb\\run-20240805_175037-nsjlsu5m</code>"
      ],
      "text/plain": [
       "<IPython.core.display.HTML object>"
      ]
     },
     "metadata": {},
     "output_type": "display_data"
    },
    {
     "data": {
      "text/html": [
       "Syncing run <strong><a href='https://wandb.ai/harshmp/truck-delay-classification/runs/nsjlsu5m' target=\"_blank\">balmy-sweep-46</a></strong> to <a href='https://wandb.ai/harshmp/truck-delay-classification' target=\"_blank\">Weights & Biases</a> (<a href='https://wandb.me/run' target=\"_blank\">docs</a>)<br/>Sweep page: <a href='https://wandb.ai/harshmp/truck-delay-classification/sweeps/20442i5p' target=\"_blank\">https://wandb.ai/harshmp/truck-delay-classification/sweeps/20442i5p</a>"
      ],
      "text/plain": [
       "<IPython.core.display.HTML object>"
      ]
     },
     "metadata": {},
     "output_type": "display_data"
    },
    {
     "data": {
      "text/html": [
       " View project at <a href='https://wandb.ai/harshmp/truck-delay-classification' target=\"_blank\">https://wandb.ai/harshmp/truck-delay-classification</a>"
      ],
      "text/plain": [
       "<IPython.core.display.HTML object>"
      ]
     },
     "metadata": {},
     "output_type": "display_data"
    },
    {
     "data": {
      "text/html": [
       " View sweep at <a href='https://wandb.ai/harshmp/truck-delay-classification/sweeps/20442i5p' target=\"_blank\">https://wandb.ai/harshmp/truck-delay-classification/sweeps/20442i5p</a>"
      ],
      "text/plain": [
       "<IPython.core.display.HTML object>"
      ]
     },
     "metadata": {},
     "output_type": "display_data"
    },
    {
     "data": {
      "text/html": [
       " View run at <a href='https://wandb.ai/harshmp/truck-delay-classification/runs/nsjlsu5m' target=\"_blank\">https://wandb.ai/harshmp/truck-delay-classification/runs/nsjlsu5m</a>"
      ],
      "text/plain": [
       "<IPython.core.display.HTML object>"
      ]
     },
     "metadata": {},
     "output_type": "display_data"
    },
    {
     "name": "stdout",
     "output_type": "stream",
     "text": [
      "F1_score Train: 0.6716\n",
      "F1_score Valid: 0.6596\n",
      "F1_score Test: 0.7498\n"
     ]
    },
    {
     "name": "stderr",
     "output_type": "stream",
     "text": [
      "wandb: \n",
      "wandb: Plotting RandomForestClassifier.\n",
      "Traceback (most recent call last):\n",
      "  File \"C:\\Users\\harsh\\AppData\\Local\\Temp\\ipykernel_18532\\2640226391.py\", line 44, in train_rf_model\n",
      "    wandb.sklearn.plot_classifier(model, X_train, X_test, y_train, y_test, y_preds, y_probas, labels=None,\n",
      "  File \"c:\\Users\\harsh\\anaconda3\\envs\\truck-delay\\lib\\site-packages\\wandb\\sklearn\\plot\\classifier.py\", line 82, in classifier\n",
      "    feature_importances(model, feature_names)\n",
      "  File \"c:\\Users\\harsh\\anaconda3\\envs\\truck-delay\\lib\\site-packages\\wandb\\sklearn\\plot\\classifier.py\", line 250, in feature_importances\n",
      "    wandb.log({\"feature_importances\": feature_importance_chart})\n",
      "  File \"c:\\Users\\harsh\\anaconda3\\envs\\truck-delay\\lib\\site-packages\\wandb\\sdk\\wandb_run.py\", line 420, in wrapper\n",
      "    return func(self, *args, **kwargs)\n",
      "  File \"c:\\Users\\harsh\\anaconda3\\envs\\truck-delay\\lib\\site-packages\\wandb\\sdk\\wandb_run.py\", line 371, in wrapper_fn\n",
      "    return func(self, *args, **kwargs)\n",
      "  File \"c:\\Users\\harsh\\anaconda3\\envs\\truck-delay\\lib\\site-packages\\wandb\\sdk\\wandb_run.py\", line 361, in wrapper\n",
      "    return func(self, *args, **kwargs)\n",
      "  File \"c:\\Users\\harsh\\anaconda3\\envs\\truck-delay\\lib\\site-packages\\wandb\\sdk\\wandb_run.py\", line 1820, in log\n",
      "    self._log(data=data, step=step, commit=commit)\n",
      "  File \"c:\\Users\\harsh\\anaconda3\\envs\\truck-delay\\lib\\site-packages\\wandb\\sdk\\wandb_run.py\", line 1595, in _log\n",
      "    self._partial_history_callback(data, step, commit)\n",
      "  File \"c:\\Users\\harsh\\anaconda3\\envs\\truck-delay\\lib\\site-packages\\wandb\\sdk\\wandb_run.py\", line 1467, in _partial_history_callback\n",
      "    self._backend.interface.publish_partial_history(\n",
      "  File \"c:\\Users\\harsh\\anaconda3\\envs\\truck-delay\\lib\\site-packages\\wandb\\sdk\\interface\\interface.py\", line 549, in publish_partial_history\n",
      "    data = history_dict_to_json(run, data, step=user_step, ignore_copy_err=True)\n",
      "  File \"c:\\Users\\harsh\\anaconda3\\envs\\truck-delay\\lib\\site-packages\\wandb\\sdk\\data_types\\utils.py\", line 52, in history_dict_to_json\n",
      "    payload[key] = val_to_json(\n",
      "  File \"c:\\Users\\harsh\\anaconda3\\envs\\truck-delay\\lib\\site-packages\\wandb\\sdk\\data_types\\utils.py\", line 164, in val_to_json\n",
      "    val.bind_to_run(run, key, namespace)\n",
      "  File \"c:\\Users\\harsh\\anaconda3\\envs\\truck-delay\\lib\\site-packages\\wandb\\data_types.py\", line 541, in bind_to_run\n",
      "    with codecs.open(tmp_path, \"w\", encoding=\"utf-8\") as fp:\n",
      "  File \"c:\\Users\\harsh\\anaconda3\\envs\\truck-delay\\lib\\codecs.py\", line 905, in open\n",
      "    file = builtins.open(filename, mode, buffering)\n",
      "FileNotFoundError: [Errno 2] No such file or directory: 'C:\\\\Users\\\\harsh\\\\AppData\\\\Local\\\\Temp\\\\tmpqphwv_07wandb-media\\\\d96jbhh9.table.json'\n"
     ]
    },
    {
     "name": "stdout",
     "output_type": "stream",
     "text": [
      "2024-08-05 17:50:42,757 WARNING: DeprecationWarning: Importing display from IPython.core.display is deprecated since IPython 7.14, please import from IPython display\n",
      "\n"
     ]
    },
    {
     "data": {
      "application/vnd.jupyter.widget-view+json": {
       "model_id": "41058406b14f4a6c9137953ef81f7d3e",
       "version_major": 2,
       "version_minor": 0
      },
      "text/plain": [
       "VBox(children=(Label(value='0.010 MB of 0.010 MB uploaded\\r'), FloatProgress(value=1.0, max=1.0)))"
      ]
     },
     "metadata": {},
     "output_type": "display_data"
    },
    {
     "name": "stdout",
     "output_type": "stream",
     "text": [
      "2024-08-05 17:50:48,109 WARNING: DeprecationWarning: Importing display from IPython.core.display is deprecated since IPython 7.14, please import from IPython display\n",
      "\n"
     ]
    },
    {
     "data": {
      "text/html": [
       "<style>\n",
       "    table.wandb td:nth-child(1) { padding: 0 10px; text-align: left ; width: auto;} td:nth-child(2) {text-align: left ; width: 100%}\n",
       "    .wandb-row { display: flex; flex-direction: row; flex-wrap: wrap; justify-content: flex-start; width: 100% }\n",
       "    .wandb-col { display: flex; flex-direction: column; flex-basis: 100%; flex: 1; padding: 10px; }\n",
       "    </style>\n",
       "<div class=\"wandb-row\"><div class=\"wandb-col\"><h3>Run history:</h3><br/><table class=\"wandb\"><tr><td>f1_score</td><td>▁</td></tr><tr><td>f1_score_train</td><td>▁</td></tr><tr><td>f1_score_valid</td><td>▁</td></tr></table><br/></div><div class=\"wandb-col\"><h3>Run summary:</h3><br/><table class=\"wandb\"><tr><td>f1_score</td><td>0.74984</td></tr><tr><td>f1_score_train</td><td>0.6716</td></tr><tr><td>f1_score_valid</td><td>0.65961</td></tr></table><br/></div></div>"
      ],
      "text/plain": [
       "<IPython.core.display.HTML object>"
      ]
     },
     "metadata": {},
     "output_type": "display_data"
    },
    {
     "data": {
      "text/html": [
       " View run <strong style=\"color:#cdcd00\">balmy-sweep-46</strong> at: <a href='https://wandb.ai/harshmp/truck-delay-classification/runs/nsjlsu5m' target=\"_blank\">https://wandb.ai/harshmp/truck-delay-classification/runs/nsjlsu5m</a><br/>Synced 5 W&B file(s), 0 media file(s), 1 artifact file(s) and 0 other file(s)"
      ],
      "text/plain": [
       "<IPython.core.display.HTML object>"
      ]
     },
     "metadata": {},
     "output_type": "display_data"
    },
    {
     "data": {
      "text/html": [
       "Find logs at: <code>.\\wandb\\run-20240805_175037-nsjlsu5m\\logs</code>"
      ],
      "text/plain": [
       "<IPython.core.display.HTML object>"
      ]
     },
     "metadata": {},
     "output_type": "display_data"
    },
    {
     "name": "stderr",
     "output_type": "stream",
     "text": [
      "Run nsjlsu5m errored: FileNotFoundError(2, 'No such file or directory')\n",
      "wandb: ERROR Run nsjlsu5m errored: FileNotFoundError(2, 'No such file or directory')\n",
      "wandb: Agent Starting Run: w96rwo1r with config:\n",
      "wandb: \tmax_depth: 10\n",
      "wandb: \tmin_samples_split: 12\n",
      "wandb: \tn_estimators: 16\n",
      "Failed to detect the name of this notebook, you can set it manually with the WANDB_NOTEBOOK_NAME environment variable to enable code saving.\n",
      "wandb: WARNING Ignored wandb.init() arg project when running a sweep.\n"
     ]
    },
    {
     "data": {
      "text/html": [
       "wandb version 0.17.5 is available!  To upgrade, please run:\n",
       " $ pip install wandb --upgrade"
      ],
      "text/plain": [
       "<IPython.core.display.HTML object>"
      ]
     },
     "metadata": {},
     "output_type": "display_data"
    },
    {
     "data": {
      "text/html": [
       "Tracking run with wandb version 0.16.1"
      ],
      "text/plain": [
       "<IPython.core.display.HTML object>"
      ]
     },
     "metadata": {},
     "output_type": "display_data"
    },
    {
     "data": {
      "text/html": [
       "Run data is saved locally in <code>e:\\Artificial Intelligence\\Projects\\Predictive-Truck-Delay-Management-in-Logistics\\wandb\\run-20240805_175053-w96rwo1r</code>"
      ],
      "text/plain": [
       "<IPython.core.display.HTML object>"
      ]
     },
     "metadata": {},
     "output_type": "display_data"
    },
    {
     "data": {
      "text/html": [
       "Syncing run <strong><a href='https://wandb.ai/harshmp/truck-delay-classification/runs/w96rwo1r' target=\"_blank\">apricot-sweep-47</a></strong> to <a href='https://wandb.ai/harshmp/truck-delay-classification' target=\"_blank\">Weights & Biases</a> (<a href='https://wandb.me/run' target=\"_blank\">docs</a>)<br/>Sweep page: <a href='https://wandb.ai/harshmp/truck-delay-classification/sweeps/20442i5p' target=\"_blank\">https://wandb.ai/harshmp/truck-delay-classification/sweeps/20442i5p</a>"
      ],
      "text/plain": [
       "<IPython.core.display.HTML object>"
      ]
     },
     "metadata": {},
     "output_type": "display_data"
    },
    {
     "data": {
      "text/html": [
       " View project at <a href='https://wandb.ai/harshmp/truck-delay-classification' target=\"_blank\">https://wandb.ai/harshmp/truck-delay-classification</a>"
      ],
      "text/plain": [
       "<IPython.core.display.HTML object>"
      ]
     },
     "metadata": {},
     "output_type": "display_data"
    },
    {
     "data": {
      "text/html": [
       " View sweep at <a href='https://wandb.ai/harshmp/truck-delay-classification/sweeps/20442i5p' target=\"_blank\">https://wandb.ai/harshmp/truck-delay-classification/sweeps/20442i5p</a>"
      ],
      "text/plain": [
       "<IPython.core.display.HTML object>"
      ]
     },
     "metadata": {},
     "output_type": "display_data"
    },
    {
     "data": {
      "text/html": [
       " View run at <a href='https://wandb.ai/harshmp/truck-delay-classification/runs/w96rwo1r' target=\"_blank\">https://wandb.ai/harshmp/truck-delay-classification/runs/w96rwo1r</a>"
      ],
      "text/plain": [
       "<IPython.core.display.HTML object>"
      ]
     },
     "metadata": {},
     "output_type": "display_data"
    },
    {
     "name": "stdout",
     "output_type": "stream",
     "text": [
      "F1_score Train: 0.6774\n",
      "F1_score Valid: 0.6579\n",
      "F1_score Test: 0.7539\n"
     ]
    },
    {
     "name": "stderr",
     "output_type": "stream",
     "text": [
      "wandb: \n",
      "wandb: Plotting RandomForestClassifier.\n",
      "Traceback (most recent call last):\n",
      "  File \"C:\\Users\\harsh\\AppData\\Local\\Temp\\ipykernel_18532\\2640226391.py\", line 44, in train_rf_model\n",
      "    wandb.sklearn.plot_classifier(model, X_train, X_test, y_train, y_test, y_preds, y_probas, labels=None,\n",
      "  File \"c:\\Users\\harsh\\anaconda3\\envs\\truck-delay\\lib\\site-packages\\wandb\\sklearn\\plot\\classifier.py\", line 82, in classifier\n",
      "    feature_importances(model, feature_names)\n",
      "  File \"c:\\Users\\harsh\\anaconda3\\envs\\truck-delay\\lib\\site-packages\\wandb\\sklearn\\plot\\classifier.py\", line 250, in feature_importances\n",
      "    wandb.log({\"feature_importances\": feature_importance_chart})\n",
      "  File \"c:\\Users\\harsh\\anaconda3\\envs\\truck-delay\\lib\\site-packages\\wandb\\sdk\\wandb_run.py\", line 420, in wrapper\n",
      "    return func(self, *args, **kwargs)\n",
      "  File \"c:\\Users\\harsh\\anaconda3\\envs\\truck-delay\\lib\\site-packages\\wandb\\sdk\\wandb_run.py\", line 371, in wrapper_fn\n",
      "    return func(self, *args, **kwargs)\n",
      "  File \"c:\\Users\\harsh\\anaconda3\\envs\\truck-delay\\lib\\site-packages\\wandb\\sdk\\wandb_run.py\", line 361, in wrapper\n",
      "    return func(self, *args, **kwargs)\n",
      "  File \"c:\\Users\\harsh\\anaconda3\\envs\\truck-delay\\lib\\site-packages\\wandb\\sdk\\wandb_run.py\", line 1820, in log\n",
      "    self._log(data=data, step=step, commit=commit)\n",
      "  File \"c:\\Users\\harsh\\anaconda3\\envs\\truck-delay\\lib\\site-packages\\wandb\\sdk\\wandb_run.py\", line 1595, in _log\n",
      "    self._partial_history_callback(data, step, commit)\n",
      "  File \"c:\\Users\\harsh\\anaconda3\\envs\\truck-delay\\lib\\site-packages\\wandb\\sdk\\wandb_run.py\", line 1467, in _partial_history_callback\n",
      "    self._backend.interface.publish_partial_history(\n",
      "  File \"c:\\Users\\harsh\\anaconda3\\envs\\truck-delay\\lib\\site-packages\\wandb\\sdk\\interface\\interface.py\", line 549, in publish_partial_history\n",
      "    data = history_dict_to_json(run, data, step=user_step, ignore_copy_err=True)\n",
      "  File \"c:\\Users\\harsh\\anaconda3\\envs\\truck-delay\\lib\\site-packages\\wandb\\sdk\\data_types\\utils.py\", line 52, in history_dict_to_json\n",
      "    payload[key] = val_to_json(\n",
      "  File \"c:\\Users\\harsh\\anaconda3\\envs\\truck-delay\\lib\\site-packages\\wandb\\sdk\\data_types\\utils.py\", line 164, in val_to_json\n",
      "    val.bind_to_run(run, key, namespace)\n",
      "  File \"c:\\Users\\harsh\\anaconda3\\envs\\truck-delay\\lib\\site-packages\\wandb\\data_types.py\", line 541, in bind_to_run\n",
      "    with codecs.open(tmp_path, \"w\", encoding=\"utf-8\") as fp:\n",
      "  File \"c:\\Users\\harsh\\anaconda3\\envs\\truck-delay\\lib\\codecs.py\", line 905, in open\n",
      "    file = builtins.open(filename, mode, buffering)\n",
      "FileNotFoundError: [Errno 2] No such file or directory: 'C:\\\\Users\\\\harsh\\\\AppData\\\\Local\\\\Temp\\\\tmpqphwv_07wandb-media\\\\j2d9rvhp.table.json'\n"
     ]
    },
    {
     "name": "stdout",
     "output_type": "stream",
     "text": [
      "2024-08-05 17:50:57,827 WARNING: DeprecationWarning: Importing display from IPython.core.display is deprecated since IPython 7.14, please import from IPython display\n",
      "\n"
     ]
    },
    {
     "data": {
      "application/vnd.jupyter.widget-view+json": {
       "model_id": "22eedff78f7d4adba69033411bff9f5d",
       "version_major": 2,
       "version_minor": 0
      },
      "text/plain": [
       "VBox(children=(Label(value='0.010 MB of 0.010 MB uploaded\\r'), FloatProgress(value=1.0, max=1.0)))"
      ]
     },
     "metadata": {},
     "output_type": "display_data"
    },
    {
     "name": "stdout",
     "output_type": "stream",
     "text": [
      "2024-08-05 17:51:04,113 WARNING: DeprecationWarning: Importing display from IPython.core.display is deprecated since IPython 7.14, please import from IPython display\n",
      "\n"
     ]
    },
    {
     "data": {
      "text/html": [
       "<style>\n",
       "    table.wandb td:nth-child(1) { padding: 0 10px; text-align: left ; width: auto;} td:nth-child(2) {text-align: left ; width: 100%}\n",
       "    .wandb-row { display: flex; flex-direction: row; flex-wrap: wrap; justify-content: flex-start; width: 100% }\n",
       "    .wandb-col { display: flex; flex-direction: column; flex-basis: 100%; flex: 1; padding: 10px; }\n",
       "    </style>\n",
       "<div class=\"wandb-row\"><div class=\"wandb-col\"><h3>Run history:</h3><br/><table class=\"wandb\"><tr><td>f1_score</td><td>▁</td></tr><tr><td>f1_score_train</td><td>▁</td></tr><tr><td>f1_score_valid</td><td>▁</td></tr></table><br/></div><div class=\"wandb-col\"><h3>Run summary:</h3><br/><table class=\"wandb\"><tr><td>f1_score</td><td>0.75395</td></tr><tr><td>f1_score_train</td><td>0.67738</td></tr><tr><td>f1_score_valid</td><td>0.65794</td></tr></table><br/></div></div>"
      ],
      "text/plain": [
       "<IPython.core.display.HTML object>"
      ]
     },
     "metadata": {},
     "output_type": "display_data"
    },
    {
     "data": {
      "text/html": [
       " View run <strong style=\"color:#cdcd00\">apricot-sweep-47</strong> at: <a href='https://wandb.ai/harshmp/truck-delay-classification/runs/w96rwo1r' target=\"_blank\">https://wandb.ai/harshmp/truck-delay-classification/runs/w96rwo1r</a><br/>Synced 5 W&B file(s), 0 media file(s), 1 artifact file(s) and 0 other file(s)"
      ],
      "text/plain": [
       "<IPython.core.display.HTML object>"
      ]
     },
     "metadata": {},
     "output_type": "display_data"
    },
    {
     "data": {
      "text/html": [
       "Find logs at: <code>.\\wandb\\run-20240805_175053-w96rwo1r\\logs</code>"
      ],
      "text/plain": [
       "<IPython.core.display.HTML object>"
      ]
     },
     "metadata": {},
     "output_type": "display_data"
    },
    {
     "name": "stderr",
     "output_type": "stream",
     "text": [
      "Run w96rwo1r errored: FileNotFoundError(2, 'No such file or directory')\n",
      "wandb: ERROR Run w96rwo1r errored: FileNotFoundError(2, 'No such file or directory')\n",
      "wandb: Agent Starting Run: mt0ub67i with config:\n",
      "wandb: \tmax_depth: 10\n",
      "wandb: \tmin_samples_split: 12\n",
      "wandb: \tn_estimators: 20\n",
      "Failed to detect the name of this notebook, you can set it manually with the WANDB_NOTEBOOK_NAME environment variable to enable code saving.\n",
      "wandb: WARNING Ignored wandb.init() arg project when running a sweep.\n"
     ]
    },
    {
     "data": {
      "text/html": [
       "wandb version 0.17.5 is available!  To upgrade, please run:\n",
       " $ pip install wandb --upgrade"
      ],
      "text/plain": [
       "<IPython.core.display.HTML object>"
      ]
     },
     "metadata": {},
     "output_type": "display_data"
    },
    {
     "data": {
      "text/html": [
       "Tracking run with wandb version 0.16.1"
      ],
      "text/plain": [
       "<IPython.core.display.HTML object>"
      ]
     },
     "metadata": {},
     "output_type": "display_data"
    },
    {
     "data": {
      "text/html": [
       "Run data is saved locally in <code>e:\\Artificial Intelligence\\Projects\\Predictive-Truck-Delay-Management-in-Logistics\\wandb\\run-20240805_175109-mt0ub67i</code>"
      ],
      "text/plain": [
       "<IPython.core.display.HTML object>"
      ]
     },
     "metadata": {},
     "output_type": "display_data"
    },
    {
     "data": {
      "text/html": [
       "Syncing run <strong><a href='https://wandb.ai/harshmp/truck-delay-classification/runs/mt0ub67i' target=\"_blank\">lemon-sweep-48</a></strong> to <a href='https://wandb.ai/harshmp/truck-delay-classification' target=\"_blank\">Weights & Biases</a> (<a href='https://wandb.me/run' target=\"_blank\">docs</a>)<br/>Sweep page: <a href='https://wandb.ai/harshmp/truck-delay-classification/sweeps/20442i5p' target=\"_blank\">https://wandb.ai/harshmp/truck-delay-classification/sweeps/20442i5p</a>"
      ],
      "text/plain": [
       "<IPython.core.display.HTML object>"
      ]
     },
     "metadata": {},
     "output_type": "display_data"
    },
    {
     "data": {
      "text/html": [
       " View project at <a href='https://wandb.ai/harshmp/truck-delay-classification' target=\"_blank\">https://wandb.ai/harshmp/truck-delay-classification</a>"
      ],
      "text/plain": [
       "<IPython.core.display.HTML object>"
      ]
     },
     "metadata": {},
     "output_type": "display_data"
    },
    {
     "data": {
      "text/html": [
       " View sweep at <a href='https://wandb.ai/harshmp/truck-delay-classification/sweeps/20442i5p' target=\"_blank\">https://wandb.ai/harshmp/truck-delay-classification/sweeps/20442i5p</a>"
      ],
      "text/plain": [
       "<IPython.core.display.HTML object>"
      ]
     },
     "metadata": {},
     "output_type": "display_data"
    },
    {
     "data": {
      "text/html": [
       " View run at <a href='https://wandb.ai/harshmp/truck-delay-classification/runs/mt0ub67i' target=\"_blank\">https://wandb.ai/harshmp/truck-delay-classification/runs/mt0ub67i</a>"
      ],
      "text/plain": [
       "<IPython.core.display.HTML object>"
      ]
     },
     "metadata": {},
     "output_type": "display_data"
    },
    {
     "name": "stdout",
     "output_type": "stream",
     "text": [
      "F1_score Train: 0.6829\n",
      "F1_score Valid: 0.6642\n",
      "F1_score Test: 0.7543\n"
     ]
    },
    {
     "name": "stderr",
     "output_type": "stream",
     "text": [
      "wandb: \n",
      "wandb: Plotting RandomForestClassifier.\n",
      "Traceback (most recent call last):\n",
      "  File \"C:\\Users\\harsh\\AppData\\Local\\Temp\\ipykernel_18532\\2640226391.py\", line 44, in train_rf_model\n",
      "    wandb.sklearn.plot_classifier(model, X_train, X_test, y_train, y_test, y_preds, y_probas, labels=None,\n",
      "  File \"c:\\Users\\harsh\\anaconda3\\envs\\truck-delay\\lib\\site-packages\\wandb\\sklearn\\plot\\classifier.py\", line 82, in classifier\n",
      "    feature_importances(model, feature_names)\n",
      "  File \"c:\\Users\\harsh\\anaconda3\\envs\\truck-delay\\lib\\site-packages\\wandb\\sklearn\\plot\\classifier.py\", line 250, in feature_importances\n",
      "    wandb.log({\"feature_importances\": feature_importance_chart})\n",
      "  File \"c:\\Users\\harsh\\anaconda3\\envs\\truck-delay\\lib\\site-packages\\wandb\\sdk\\wandb_run.py\", line 420, in wrapper\n",
      "    return func(self, *args, **kwargs)\n",
      "  File \"c:\\Users\\harsh\\anaconda3\\envs\\truck-delay\\lib\\site-packages\\wandb\\sdk\\wandb_run.py\", line 371, in wrapper_fn\n",
      "    return func(self, *args, **kwargs)\n",
      "  File \"c:\\Users\\harsh\\anaconda3\\envs\\truck-delay\\lib\\site-packages\\wandb\\sdk\\wandb_run.py\", line 361, in wrapper\n",
      "    return func(self, *args, **kwargs)\n",
      "  File \"c:\\Users\\harsh\\anaconda3\\envs\\truck-delay\\lib\\site-packages\\wandb\\sdk\\wandb_run.py\", line 1820, in log\n",
      "    self._log(data=data, step=step, commit=commit)\n",
      "  File \"c:\\Users\\harsh\\anaconda3\\envs\\truck-delay\\lib\\site-packages\\wandb\\sdk\\wandb_run.py\", line 1595, in _log\n",
      "    self._partial_history_callback(data, step, commit)\n",
      "  File \"c:\\Users\\harsh\\anaconda3\\envs\\truck-delay\\lib\\site-packages\\wandb\\sdk\\wandb_run.py\", line 1467, in _partial_history_callback\n",
      "    self._backend.interface.publish_partial_history(\n",
      "  File \"c:\\Users\\harsh\\anaconda3\\envs\\truck-delay\\lib\\site-packages\\wandb\\sdk\\interface\\interface.py\", line 549, in publish_partial_history\n",
      "    data = history_dict_to_json(run, data, step=user_step, ignore_copy_err=True)\n",
      "  File \"c:\\Users\\harsh\\anaconda3\\envs\\truck-delay\\lib\\site-packages\\wandb\\sdk\\data_types\\utils.py\", line 52, in history_dict_to_json\n",
      "    payload[key] = val_to_json(\n",
      "  File \"c:\\Users\\harsh\\anaconda3\\envs\\truck-delay\\lib\\site-packages\\wandb\\sdk\\data_types\\utils.py\", line 164, in val_to_json\n",
      "    val.bind_to_run(run, key, namespace)\n",
      "  File \"c:\\Users\\harsh\\anaconda3\\envs\\truck-delay\\lib\\site-packages\\wandb\\data_types.py\", line 541, in bind_to_run\n",
      "    with codecs.open(tmp_path, \"w\", encoding=\"utf-8\") as fp:\n",
      "  File \"c:\\Users\\harsh\\anaconda3\\envs\\truck-delay\\lib\\codecs.py\", line 905, in open\n",
      "    file = builtins.open(filename, mode, buffering)\n",
      "FileNotFoundError: [Errno 2] No such file or directory: 'C:\\\\Users\\\\harsh\\\\AppData\\\\Local\\\\Temp\\\\tmpqphwv_07wandb-media\\\\jvjhohf9.table.json'\n"
     ]
    },
    {
     "name": "stdout",
     "output_type": "stream",
     "text": [
      "2024-08-05 17:51:13,687 WARNING: DeprecationWarning: Importing display from IPython.core.display is deprecated since IPython 7.14, please import from IPython display\n",
      "\n"
     ]
    },
    {
     "data": {
      "application/vnd.jupyter.widget-view+json": {
       "model_id": "6555f1e513f74a6aac5570dab1940bbc",
       "version_major": 2,
       "version_minor": 0
      },
      "text/plain": [
       "VBox(children=(Label(value='0.010 MB of 0.010 MB uploaded\\r'), FloatProgress(value=1.0, max=1.0)))"
      ]
     },
     "metadata": {},
     "output_type": "display_data"
    },
    {
     "name": "stdout",
     "output_type": "stream",
     "text": [
      "2024-08-05 17:51:18,114 WARNING: DeprecationWarning: Importing display from IPython.core.display is deprecated since IPython 7.14, please import from IPython display\n",
      "\n"
     ]
    },
    {
     "data": {
      "text/html": [
       "<style>\n",
       "    table.wandb td:nth-child(1) { padding: 0 10px; text-align: left ; width: auto;} td:nth-child(2) {text-align: left ; width: 100%}\n",
       "    .wandb-row { display: flex; flex-direction: row; flex-wrap: wrap; justify-content: flex-start; width: 100% }\n",
       "    .wandb-col { display: flex; flex-direction: column; flex-basis: 100%; flex: 1; padding: 10px; }\n",
       "    </style>\n",
       "<div class=\"wandb-row\"><div class=\"wandb-col\"><h3>Run history:</h3><br/><table class=\"wandb\"><tr><td>f1_score</td><td>▁</td></tr><tr><td>f1_score_train</td><td>▁</td></tr><tr><td>f1_score_valid</td><td>▁</td></tr></table><br/></div><div class=\"wandb-col\"><h3>Run summary:</h3><br/><table class=\"wandb\"><tr><td>f1_score</td><td>0.75429</td></tr><tr><td>f1_score_train</td><td>0.68292</td></tr><tr><td>f1_score_valid</td><td>0.66415</td></tr></table><br/></div></div>"
      ],
      "text/plain": [
       "<IPython.core.display.HTML object>"
      ]
     },
     "metadata": {},
     "output_type": "display_data"
    },
    {
     "data": {
      "text/html": [
       " View run <strong style=\"color:#cdcd00\">lemon-sweep-48</strong> at: <a href='https://wandb.ai/harshmp/truck-delay-classification/runs/mt0ub67i' target=\"_blank\">https://wandb.ai/harshmp/truck-delay-classification/runs/mt0ub67i</a><br/>Synced 5 W&B file(s), 0 media file(s), 1 artifact file(s) and 0 other file(s)"
      ],
      "text/plain": [
       "<IPython.core.display.HTML object>"
      ]
     },
     "metadata": {},
     "output_type": "display_data"
    },
    {
     "data": {
      "text/html": [
       "Find logs at: <code>.\\wandb\\run-20240805_175109-mt0ub67i\\logs</code>"
      ],
      "text/plain": [
       "<IPython.core.display.HTML object>"
      ]
     },
     "metadata": {},
     "output_type": "display_data"
    },
    {
     "name": "stderr",
     "output_type": "stream",
     "text": [
      "Run mt0ub67i errored: FileNotFoundError(2, 'No such file or directory')\n",
      "wandb: ERROR Run mt0ub67i errored: FileNotFoundError(2, 'No such file or directory')\n",
      "wandb: Agent Starting Run: ghc0x0y4 with config:\n",
      "wandb: \tmax_depth: 15\n",
      "wandb: \tmin_samples_split: 2\n",
      "wandb: \tn_estimators: 8\n",
      "Failed to detect the name of this notebook, you can set it manually with the WANDB_NOTEBOOK_NAME environment variable to enable code saving.\n",
      "wandb: WARNING Ignored wandb.init() arg project when running a sweep.\n"
     ]
    },
    {
     "data": {
      "text/html": [
       "wandb version 0.17.5 is available!  To upgrade, please run:\n",
       " $ pip install wandb --upgrade"
      ],
      "text/plain": [
       "<IPython.core.display.HTML object>"
      ]
     },
     "metadata": {},
     "output_type": "display_data"
    },
    {
     "data": {
      "text/html": [
       "Tracking run with wandb version 0.16.1"
      ],
      "text/plain": [
       "<IPython.core.display.HTML object>"
      ]
     },
     "metadata": {},
     "output_type": "display_data"
    },
    {
     "data": {
      "text/html": [
       "Run data is saved locally in <code>e:\\Artificial Intelligence\\Projects\\Predictive-Truck-Delay-Management-in-Logistics\\wandb\\run-20240805_175125-ghc0x0y4</code>"
      ],
      "text/plain": [
       "<IPython.core.display.HTML object>"
      ]
     },
     "metadata": {},
     "output_type": "display_data"
    },
    {
     "data": {
      "text/html": [
       "Syncing run <strong><a href='https://wandb.ai/harshmp/truck-delay-classification/runs/ghc0x0y4' target=\"_blank\">lucky-sweep-49</a></strong> to <a href='https://wandb.ai/harshmp/truck-delay-classification' target=\"_blank\">Weights & Biases</a> (<a href='https://wandb.me/run' target=\"_blank\">docs</a>)<br/>Sweep page: <a href='https://wandb.ai/harshmp/truck-delay-classification/sweeps/20442i5p' target=\"_blank\">https://wandb.ai/harshmp/truck-delay-classification/sweeps/20442i5p</a>"
      ],
      "text/plain": [
       "<IPython.core.display.HTML object>"
      ]
     },
     "metadata": {},
     "output_type": "display_data"
    },
    {
     "data": {
      "text/html": [
       " View project at <a href='https://wandb.ai/harshmp/truck-delay-classification' target=\"_blank\">https://wandb.ai/harshmp/truck-delay-classification</a>"
      ],
      "text/plain": [
       "<IPython.core.display.HTML object>"
      ]
     },
     "metadata": {},
     "output_type": "display_data"
    },
    {
     "data": {
      "text/html": [
       " View sweep at <a href='https://wandb.ai/harshmp/truck-delay-classification/sweeps/20442i5p' target=\"_blank\">https://wandb.ai/harshmp/truck-delay-classification/sweeps/20442i5p</a>"
      ],
      "text/plain": [
       "<IPython.core.display.HTML object>"
      ]
     },
     "metadata": {},
     "output_type": "display_data"
    },
    {
     "data": {
      "text/html": [
       " View run at <a href='https://wandb.ai/harshmp/truck-delay-classification/runs/ghc0x0y4' target=\"_blank\">https://wandb.ai/harshmp/truck-delay-classification/runs/ghc0x0y4</a>"
      ],
      "text/plain": [
       "<IPython.core.display.HTML object>"
      ]
     },
     "metadata": {},
     "output_type": "display_data"
    },
    {
     "name": "stdout",
     "output_type": "stream",
     "text": [
      "F1_score Train: 0.8377\n",
      "F1_score Valid: 0.5631\n",
      "F1_score Test: 0.69\n"
     ]
    },
    {
     "name": "stderr",
     "output_type": "stream",
     "text": [
      "wandb: \n",
      "wandb: Plotting RandomForestClassifier.\n",
      "Traceback (most recent call last):\n",
      "  File \"C:\\Users\\harsh\\AppData\\Local\\Temp\\ipykernel_18532\\2640226391.py\", line 44, in train_rf_model\n",
      "    wandb.sklearn.plot_classifier(model, X_train, X_test, y_train, y_test, y_preds, y_probas, labels=None,\n",
      "  File \"c:\\Users\\harsh\\anaconda3\\envs\\truck-delay\\lib\\site-packages\\wandb\\sklearn\\plot\\classifier.py\", line 82, in classifier\n",
      "    feature_importances(model, feature_names)\n",
      "  File \"c:\\Users\\harsh\\anaconda3\\envs\\truck-delay\\lib\\site-packages\\wandb\\sklearn\\plot\\classifier.py\", line 250, in feature_importances\n",
      "    wandb.log({\"feature_importances\": feature_importance_chart})\n",
      "  File \"c:\\Users\\harsh\\anaconda3\\envs\\truck-delay\\lib\\site-packages\\wandb\\sdk\\wandb_run.py\", line 420, in wrapper\n",
      "    return func(self, *args, **kwargs)\n",
      "  File \"c:\\Users\\harsh\\anaconda3\\envs\\truck-delay\\lib\\site-packages\\wandb\\sdk\\wandb_run.py\", line 371, in wrapper_fn\n",
      "    return func(self, *args, **kwargs)\n",
      "  File \"c:\\Users\\harsh\\anaconda3\\envs\\truck-delay\\lib\\site-packages\\wandb\\sdk\\wandb_run.py\", line 361, in wrapper\n",
      "    return func(self, *args, **kwargs)\n",
      "  File \"c:\\Users\\harsh\\anaconda3\\envs\\truck-delay\\lib\\site-packages\\wandb\\sdk\\wandb_run.py\", line 1820, in log\n",
      "    self._log(data=data, step=step, commit=commit)\n",
      "  File \"c:\\Users\\harsh\\anaconda3\\envs\\truck-delay\\lib\\site-packages\\wandb\\sdk\\wandb_run.py\", line 1595, in _log\n",
      "    self._partial_history_callback(data, step, commit)\n",
      "  File \"c:\\Users\\harsh\\anaconda3\\envs\\truck-delay\\lib\\site-packages\\wandb\\sdk\\wandb_run.py\", line 1467, in _partial_history_callback\n",
      "    self._backend.interface.publish_partial_history(\n",
      "  File \"c:\\Users\\harsh\\anaconda3\\envs\\truck-delay\\lib\\site-packages\\wandb\\sdk\\interface\\interface.py\", line 549, in publish_partial_history\n",
      "    data = history_dict_to_json(run, data, step=user_step, ignore_copy_err=True)\n",
      "  File \"c:\\Users\\harsh\\anaconda3\\envs\\truck-delay\\lib\\site-packages\\wandb\\sdk\\data_types\\utils.py\", line 52, in history_dict_to_json\n",
      "    payload[key] = val_to_json(\n",
      "  File \"c:\\Users\\harsh\\anaconda3\\envs\\truck-delay\\lib\\site-packages\\wandb\\sdk\\data_types\\utils.py\", line 164, in val_to_json\n",
      "    val.bind_to_run(run, key, namespace)\n",
      "  File \"c:\\Users\\harsh\\anaconda3\\envs\\truck-delay\\lib\\site-packages\\wandb\\data_types.py\", line 541, in bind_to_run\n",
      "    with codecs.open(tmp_path, \"w\", encoding=\"utf-8\") as fp:\n",
      "  File \"c:\\Users\\harsh\\anaconda3\\envs\\truck-delay\\lib\\codecs.py\", line 905, in open\n",
      "    file = builtins.open(filename, mode, buffering)\n",
      "FileNotFoundError: [Errno 2] No such file or directory: 'C:\\\\Users\\\\harsh\\\\AppData\\\\Local\\\\Temp\\\\tmpqphwv_07wandb-media\\\\lxtzmiq1.table.json'\n"
     ]
    },
    {
     "name": "stdout",
     "output_type": "stream",
     "text": [
      "2024-08-05 17:51:31,548 WARNING: DeprecationWarning: Importing display from IPython.core.display is deprecated since IPython 7.14, please import from IPython display\n",
      "\n"
     ]
    },
    {
     "data": {
      "application/vnd.jupyter.widget-view+json": {
       "model_id": "6d431a001d774939ba89fcc3c2168f3b",
       "version_major": 2,
       "version_minor": 0
      },
      "text/plain": [
       "VBox(children=(Label(value='0.010 MB of 0.010 MB uploaded\\r'), FloatProgress(value=1.0, max=1.0)))"
      ]
     },
     "metadata": {},
     "output_type": "display_data"
    },
    {
     "name": "stdout",
     "output_type": "stream",
     "text": [
      "2024-08-05 17:51:36,510 WARNING: DeprecationWarning: Importing display from IPython.core.display is deprecated since IPython 7.14, please import from IPython display\n",
      "\n"
     ]
    },
    {
     "data": {
      "text/html": [
       "<style>\n",
       "    table.wandb td:nth-child(1) { padding: 0 10px; text-align: left ; width: auto;} td:nth-child(2) {text-align: left ; width: 100%}\n",
       "    .wandb-row { display: flex; flex-direction: row; flex-wrap: wrap; justify-content: flex-start; width: 100% }\n",
       "    .wandb-col { display: flex; flex-direction: column; flex-basis: 100%; flex: 1; padding: 10px; }\n",
       "    </style>\n",
       "<div class=\"wandb-row\"><div class=\"wandb-col\"><h3>Run history:</h3><br/><table class=\"wandb\"><tr><td>f1_score</td><td>▁</td></tr><tr><td>f1_score_train</td><td>▁</td></tr><tr><td>f1_score_valid</td><td>▁</td></tr></table><br/></div><div class=\"wandb-col\"><h3>Run summary:</h3><br/><table class=\"wandb\"><tr><td>f1_score</td><td>0.68999</td></tr><tr><td>f1_score_train</td><td>0.83769</td></tr><tr><td>f1_score_valid</td><td>0.56311</td></tr></table><br/></div></div>"
      ],
      "text/plain": [
       "<IPython.core.display.HTML object>"
      ]
     },
     "metadata": {},
     "output_type": "display_data"
    },
    {
     "data": {
      "text/html": [
       " View run <strong style=\"color:#cdcd00\">lucky-sweep-49</strong> at: <a href='https://wandb.ai/harshmp/truck-delay-classification/runs/ghc0x0y4' target=\"_blank\">https://wandb.ai/harshmp/truck-delay-classification/runs/ghc0x0y4</a><br/>Synced 5 W&B file(s), 0 media file(s), 1 artifact file(s) and 0 other file(s)"
      ],
      "text/plain": [
       "<IPython.core.display.HTML object>"
      ]
     },
     "metadata": {},
     "output_type": "display_data"
    },
    {
     "data": {
      "text/html": [
       "Find logs at: <code>.\\wandb\\run-20240805_175125-ghc0x0y4\\logs</code>"
      ],
      "text/plain": [
       "<IPython.core.display.HTML object>"
      ]
     },
     "metadata": {},
     "output_type": "display_data"
    },
    {
     "name": "stderr",
     "output_type": "stream",
     "text": [
      "Run ghc0x0y4 errored: FileNotFoundError(2, 'No such file or directory')\n",
      "wandb: ERROR Run ghc0x0y4 errored: FileNotFoundError(2, 'No such file or directory')\n",
      "wandb: Agent Starting Run: n2k38cl9 with config:\n",
      "wandb: \tmax_depth: 15\n",
      "wandb: \tmin_samples_split: 2\n",
      "wandb: \tn_estimators: 12\n",
      "Failed to detect the name of this notebook, you can set it manually with the WANDB_NOTEBOOK_NAME environment variable to enable code saving.\n",
      "wandb: WARNING Ignored wandb.init() arg project when running a sweep.\n"
     ]
    },
    {
     "data": {
      "text/html": [
       "wandb version 0.17.5 is available!  To upgrade, please run:\n",
       " $ pip install wandb --upgrade"
      ],
      "text/plain": [
       "<IPython.core.display.HTML object>"
      ]
     },
     "metadata": {},
     "output_type": "display_data"
    },
    {
     "data": {
      "text/html": [
       "Tracking run with wandb version 0.16.1"
      ],
      "text/plain": [
       "<IPython.core.display.HTML object>"
      ]
     },
     "metadata": {},
     "output_type": "display_data"
    },
    {
     "data": {
      "text/html": [
       "Run data is saved locally in <code>e:\\Artificial Intelligence\\Projects\\Predictive-Truck-Delay-Management-in-Logistics\\wandb\\run-20240805_175145-n2k38cl9</code>"
      ],
      "text/plain": [
       "<IPython.core.display.HTML object>"
      ]
     },
     "metadata": {},
     "output_type": "display_data"
    },
    {
     "data": {
      "text/html": [
       "Syncing run <strong><a href='https://wandb.ai/harshmp/truck-delay-classification/runs/n2k38cl9' target=\"_blank\">warm-sweep-50</a></strong> to <a href='https://wandb.ai/harshmp/truck-delay-classification' target=\"_blank\">Weights & Biases</a> (<a href='https://wandb.me/run' target=\"_blank\">docs</a>)<br/>Sweep page: <a href='https://wandb.ai/harshmp/truck-delay-classification/sweeps/20442i5p' target=\"_blank\">https://wandb.ai/harshmp/truck-delay-classification/sweeps/20442i5p</a>"
      ],
      "text/plain": [
       "<IPython.core.display.HTML object>"
      ]
     },
     "metadata": {},
     "output_type": "display_data"
    },
    {
     "data": {
      "text/html": [
       " View project at <a href='https://wandb.ai/harshmp/truck-delay-classification' target=\"_blank\">https://wandb.ai/harshmp/truck-delay-classification</a>"
      ],
      "text/plain": [
       "<IPython.core.display.HTML object>"
      ]
     },
     "metadata": {},
     "output_type": "display_data"
    },
    {
     "data": {
      "text/html": [
       " View sweep at <a href='https://wandb.ai/harshmp/truck-delay-classification/sweeps/20442i5p' target=\"_blank\">https://wandb.ai/harshmp/truck-delay-classification/sweeps/20442i5p</a>"
      ],
      "text/plain": [
       "<IPython.core.display.HTML object>"
      ]
     },
     "metadata": {},
     "output_type": "display_data"
    },
    {
     "data": {
      "text/html": [
       " View run at <a href='https://wandb.ai/harshmp/truck-delay-classification/runs/n2k38cl9' target=\"_blank\">https://wandb.ai/harshmp/truck-delay-classification/runs/n2k38cl9</a>"
      ],
      "text/plain": [
       "<IPython.core.display.HTML object>"
      ]
     },
     "metadata": {},
     "output_type": "display_data"
    },
    {
     "name": "stdout",
     "output_type": "stream",
     "text": [
      "F1_score Train: 0.8572\n",
      "F1_score Valid: 0.6036\n",
      "F1_score Test: 0.7153\n"
     ]
    },
    {
     "name": "stderr",
     "output_type": "stream",
     "text": [
      "wandb: \n",
      "wandb: Plotting RandomForestClassifier.\n",
      "Traceback (most recent call last):\n",
      "  File \"C:\\Users\\harsh\\AppData\\Local\\Temp\\ipykernel_18532\\2640226391.py\", line 44, in train_rf_model\n",
      "    wandb.sklearn.plot_classifier(model, X_train, X_test, y_train, y_test, y_preds, y_probas, labels=None,\n",
      "  File \"c:\\Users\\harsh\\anaconda3\\envs\\truck-delay\\lib\\site-packages\\wandb\\sklearn\\plot\\classifier.py\", line 82, in classifier\n",
      "    feature_importances(model, feature_names)\n",
      "  File \"c:\\Users\\harsh\\anaconda3\\envs\\truck-delay\\lib\\site-packages\\wandb\\sklearn\\plot\\classifier.py\", line 250, in feature_importances\n",
      "    wandb.log({\"feature_importances\": feature_importance_chart})\n",
      "  File \"c:\\Users\\harsh\\anaconda3\\envs\\truck-delay\\lib\\site-packages\\wandb\\sdk\\wandb_run.py\", line 420, in wrapper\n",
      "    return func(self, *args, **kwargs)\n",
      "  File \"c:\\Users\\harsh\\anaconda3\\envs\\truck-delay\\lib\\site-packages\\wandb\\sdk\\wandb_run.py\", line 371, in wrapper_fn\n",
      "    return func(self, *args, **kwargs)\n",
      "  File \"c:\\Users\\harsh\\anaconda3\\envs\\truck-delay\\lib\\site-packages\\wandb\\sdk\\wandb_run.py\", line 361, in wrapper\n",
      "    return func(self, *args, **kwargs)\n",
      "  File \"c:\\Users\\harsh\\anaconda3\\envs\\truck-delay\\lib\\site-packages\\wandb\\sdk\\wandb_run.py\", line 1820, in log\n",
      "    self._log(data=data, step=step, commit=commit)\n",
      "  File \"c:\\Users\\harsh\\anaconda3\\envs\\truck-delay\\lib\\site-packages\\wandb\\sdk\\wandb_run.py\", line 1595, in _log\n",
      "    self._partial_history_callback(data, step, commit)\n",
      "  File \"c:\\Users\\harsh\\anaconda3\\envs\\truck-delay\\lib\\site-packages\\wandb\\sdk\\wandb_run.py\", line 1467, in _partial_history_callback\n",
      "    self._backend.interface.publish_partial_history(\n",
      "  File \"c:\\Users\\harsh\\anaconda3\\envs\\truck-delay\\lib\\site-packages\\wandb\\sdk\\interface\\interface.py\", line 549, in publish_partial_history\n",
      "    data = history_dict_to_json(run, data, step=user_step, ignore_copy_err=True)\n",
      "  File \"c:\\Users\\harsh\\anaconda3\\envs\\truck-delay\\lib\\site-packages\\wandb\\sdk\\data_types\\utils.py\", line 52, in history_dict_to_json\n",
      "    payload[key] = val_to_json(\n",
      "  File \"c:\\Users\\harsh\\anaconda3\\envs\\truck-delay\\lib\\site-packages\\wandb\\sdk\\data_types\\utils.py\", line 164, in val_to_json\n",
      "    val.bind_to_run(run, key, namespace)\n",
      "  File \"c:\\Users\\harsh\\anaconda3\\envs\\truck-delay\\lib\\site-packages\\wandb\\data_types.py\", line 541, in bind_to_run\n",
      "    with codecs.open(tmp_path, \"w\", encoding=\"utf-8\") as fp:\n",
      "  File \"c:\\Users\\harsh\\anaconda3\\envs\\truck-delay\\lib\\codecs.py\", line 905, in open\n",
      "    file = builtins.open(filename, mode, buffering)\n",
      "FileNotFoundError: [Errno 2] No such file or directory: 'C:\\\\Users\\\\harsh\\\\AppData\\\\Local\\\\Temp\\\\tmpqphwv_07wandb-media\\\\q2z3jjo4.table.json'\n"
     ]
    },
    {
     "name": "stdout",
     "output_type": "stream",
     "text": [
      "2024-08-05 17:51:50,219 WARNING: DeprecationWarning: Importing display from IPython.core.display is deprecated since IPython 7.14, please import from IPython display\n",
      "\n"
     ]
    },
    {
     "data": {
      "application/vnd.jupyter.widget-view+json": {
       "model_id": "026209d65e4041fcb9889d0f976bfe35",
       "version_major": 2,
       "version_minor": 0
      },
      "text/plain": [
       "VBox(children=(Label(value='0.010 MB of 0.010 MB uploaded\\r'), FloatProgress(value=1.0, max=1.0)))"
      ]
     },
     "metadata": {},
     "output_type": "display_data"
    },
    {
     "name": "stdout",
     "output_type": "stream",
     "text": [
      "2024-08-05 17:51:54,736 WARNING: DeprecationWarning: Importing display from IPython.core.display is deprecated since IPython 7.14, please import from IPython display\n",
      "\n"
     ]
    },
    {
     "data": {
      "text/html": [
       "<style>\n",
       "    table.wandb td:nth-child(1) { padding: 0 10px; text-align: left ; width: auto;} td:nth-child(2) {text-align: left ; width: 100%}\n",
       "    .wandb-row { display: flex; flex-direction: row; flex-wrap: wrap; justify-content: flex-start; width: 100% }\n",
       "    .wandb-col { display: flex; flex-direction: column; flex-basis: 100%; flex: 1; padding: 10px; }\n",
       "    </style>\n",
       "<div class=\"wandb-row\"><div class=\"wandb-col\"><h3>Run history:</h3><br/><table class=\"wandb\"><tr><td>f1_score</td><td>▁</td></tr><tr><td>f1_score_train</td><td>▁</td></tr><tr><td>f1_score_valid</td><td>▁</td></tr></table><br/></div><div class=\"wandb-col\"><h3>Run summary:</h3><br/><table class=\"wandb\"><tr><td>f1_score</td><td>0.71528</td></tr><tr><td>f1_score_train</td><td>0.8572</td></tr><tr><td>f1_score_valid</td><td>0.60364</td></tr></table><br/></div></div>"
      ],
      "text/plain": [
       "<IPython.core.display.HTML object>"
      ]
     },
     "metadata": {},
     "output_type": "display_data"
    },
    {
     "data": {
      "text/html": [
       " View run <strong style=\"color:#cdcd00\">warm-sweep-50</strong> at: <a href='https://wandb.ai/harshmp/truck-delay-classification/runs/n2k38cl9' target=\"_blank\">https://wandb.ai/harshmp/truck-delay-classification/runs/n2k38cl9</a><br/>Synced 5 W&B file(s), 0 media file(s), 1 artifact file(s) and 0 other file(s)"
      ],
      "text/plain": [
       "<IPython.core.display.HTML object>"
      ]
     },
     "metadata": {},
     "output_type": "display_data"
    },
    {
     "data": {
      "text/html": [
       "Find logs at: <code>.\\wandb\\run-20240805_175145-n2k38cl9\\logs</code>"
      ],
      "text/plain": [
       "<IPython.core.display.HTML object>"
      ]
     },
     "metadata": {},
     "output_type": "display_data"
    },
    {
     "name": "stderr",
     "output_type": "stream",
     "text": [
      "Run n2k38cl9 errored: FileNotFoundError(2, 'No such file or directory')\n",
      "wandb: ERROR Run n2k38cl9 errored: FileNotFoundError(2, 'No such file or directory')\n",
      "wandb: Agent Starting Run: 0ubr6ojo with config:\n",
      "wandb: \tmax_depth: 15\n",
      "wandb: \tmin_samples_split: 2\n",
      "wandb: \tn_estimators: 16\n",
      "Failed to detect the name of this notebook, you can set it manually with the WANDB_NOTEBOOK_NAME environment variable to enable code saving.\n",
      "wandb: WARNING Ignored wandb.init() arg project when running a sweep.\n"
     ]
    },
    {
     "data": {
      "text/html": [
       "wandb version 0.17.5 is available!  To upgrade, please run:\n",
       " $ pip install wandb --upgrade"
      ],
      "text/plain": [
       "<IPython.core.display.HTML object>"
      ]
     },
     "metadata": {},
     "output_type": "display_data"
    },
    {
     "data": {
      "text/html": [
       "Tracking run with wandb version 0.16.1"
      ],
      "text/plain": [
       "<IPython.core.display.HTML object>"
      ]
     },
     "metadata": {},
     "output_type": "display_data"
    },
    {
     "data": {
      "text/html": [
       "Run data is saved locally in <code>e:\\Artificial Intelligence\\Projects\\Predictive-Truck-Delay-Management-in-Logistics\\wandb\\run-20240805_175202-0ubr6ojo</code>"
      ],
      "text/plain": [
       "<IPython.core.display.HTML object>"
      ]
     },
     "metadata": {},
     "output_type": "display_data"
    },
    {
     "data": {
      "text/html": [
       "Syncing run <strong><a href='https://wandb.ai/harshmp/truck-delay-classification/runs/0ubr6ojo' target=\"_blank\">firm-sweep-51</a></strong> to <a href='https://wandb.ai/harshmp/truck-delay-classification' target=\"_blank\">Weights & Biases</a> (<a href='https://wandb.me/run' target=\"_blank\">docs</a>)<br/>Sweep page: <a href='https://wandb.ai/harshmp/truck-delay-classification/sweeps/20442i5p' target=\"_blank\">https://wandb.ai/harshmp/truck-delay-classification/sweeps/20442i5p</a>"
      ],
      "text/plain": [
       "<IPython.core.display.HTML object>"
      ]
     },
     "metadata": {},
     "output_type": "display_data"
    },
    {
     "data": {
      "text/html": [
       " View project at <a href='https://wandb.ai/harshmp/truck-delay-classification' target=\"_blank\">https://wandb.ai/harshmp/truck-delay-classification</a>"
      ],
      "text/plain": [
       "<IPython.core.display.HTML object>"
      ]
     },
     "metadata": {},
     "output_type": "display_data"
    },
    {
     "data": {
      "text/html": [
       " View sweep at <a href='https://wandb.ai/harshmp/truck-delay-classification/sweeps/20442i5p' target=\"_blank\">https://wandb.ai/harshmp/truck-delay-classification/sweeps/20442i5p</a>"
      ],
      "text/plain": [
       "<IPython.core.display.HTML object>"
      ]
     },
     "metadata": {},
     "output_type": "display_data"
    },
    {
     "data": {
      "text/html": [
       " View run at <a href='https://wandb.ai/harshmp/truck-delay-classification/runs/0ubr6ojo' target=\"_blank\">https://wandb.ai/harshmp/truck-delay-classification/runs/0ubr6ojo</a>"
      ],
      "text/plain": [
       "<IPython.core.display.HTML object>"
      ]
     },
     "metadata": {},
     "output_type": "display_data"
    },
    {
     "name": "stdout",
     "output_type": "stream",
     "text": [
      "F1_score Train: 0.8666\n",
      "F1_score Valid: 0.6023\n",
      "F1_score Test: 0.7214\n"
     ]
    },
    {
     "name": "stderr",
     "output_type": "stream",
     "text": [
      "wandb: \n",
      "wandb: Plotting RandomForestClassifier.\n",
      "Traceback (most recent call last):\n",
      "  File \"C:\\Users\\harsh\\AppData\\Local\\Temp\\ipykernel_18532\\2640226391.py\", line 44, in train_rf_model\n",
      "    wandb.sklearn.plot_classifier(model, X_train, X_test, y_train, y_test, y_preds, y_probas, labels=None,\n",
      "  File \"c:\\Users\\harsh\\anaconda3\\envs\\truck-delay\\lib\\site-packages\\wandb\\sklearn\\plot\\classifier.py\", line 82, in classifier\n",
      "    feature_importances(model, feature_names)\n",
      "  File \"c:\\Users\\harsh\\anaconda3\\envs\\truck-delay\\lib\\site-packages\\wandb\\sklearn\\plot\\classifier.py\", line 250, in feature_importances\n",
      "    wandb.log({\"feature_importances\": feature_importance_chart})\n",
      "  File \"c:\\Users\\harsh\\anaconda3\\envs\\truck-delay\\lib\\site-packages\\wandb\\sdk\\wandb_run.py\", line 420, in wrapper\n",
      "    return func(self, *args, **kwargs)\n",
      "  File \"c:\\Users\\harsh\\anaconda3\\envs\\truck-delay\\lib\\site-packages\\wandb\\sdk\\wandb_run.py\", line 371, in wrapper_fn\n",
      "    return func(self, *args, **kwargs)\n",
      "  File \"c:\\Users\\harsh\\anaconda3\\envs\\truck-delay\\lib\\site-packages\\wandb\\sdk\\wandb_run.py\", line 361, in wrapper\n",
      "    return func(self, *args, **kwargs)\n",
      "  File \"c:\\Users\\harsh\\anaconda3\\envs\\truck-delay\\lib\\site-packages\\wandb\\sdk\\wandb_run.py\", line 1820, in log\n",
      "    self._log(data=data, step=step, commit=commit)\n",
      "  File \"c:\\Users\\harsh\\anaconda3\\envs\\truck-delay\\lib\\site-packages\\wandb\\sdk\\wandb_run.py\", line 1595, in _log\n",
      "    self._partial_history_callback(data, step, commit)\n",
      "  File \"c:\\Users\\harsh\\anaconda3\\envs\\truck-delay\\lib\\site-packages\\wandb\\sdk\\wandb_run.py\", line 1467, in _partial_history_callback\n",
      "    self._backend.interface.publish_partial_history(\n",
      "  File \"c:\\Users\\harsh\\anaconda3\\envs\\truck-delay\\lib\\site-packages\\wandb\\sdk\\interface\\interface.py\", line 549, in publish_partial_history\n",
      "    data = history_dict_to_json(run, data, step=user_step, ignore_copy_err=True)\n",
      "  File \"c:\\Users\\harsh\\anaconda3\\envs\\truck-delay\\lib\\site-packages\\wandb\\sdk\\data_types\\utils.py\", line 52, in history_dict_to_json\n",
      "    payload[key] = val_to_json(\n",
      "  File \"c:\\Users\\harsh\\anaconda3\\envs\\truck-delay\\lib\\site-packages\\wandb\\sdk\\data_types\\utils.py\", line 164, in val_to_json\n",
      "    val.bind_to_run(run, key, namespace)\n",
      "  File \"c:\\Users\\harsh\\anaconda3\\envs\\truck-delay\\lib\\site-packages\\wandb\\data_types.py\", line 541, in bind_to_run\n",
      "    with codecs.open(tmp_path, \"w\", encoding=\"utf-8\") as fp:\n",
      "  File \"c:\\Users\\harsh\\anaconda3\\envs\\truck-delay\\lib\\codecs.py\", line 905, in open\n",
      "    file = builtins.open(filename, mode, buffering)\n",
      "FileNotFoundError: [Errno 2] No such file or directory: 'C:\\\\Users\\\\harsh\\\\AppData\\\\Local\\\\Temp\\\\tmpqphwv_07wandb-media\\\\1274ul6c.table.json'\n"
     ]
    },
    {
     "name": "stdout",
     "output_type": "stream",
     "text": [
      "2024-08-05 17:52:07,472 WARNING: DeprecationWarning: Importing display from IPython.core.display is deprecated since IPython 7.14, please import from IPython display\n",
      "\n"
     ]
    },
    {
     "data": {
      "application/vnd.jupyter.widget-view+json": {
       "model_id": "a1045dfbedac40c1a388a0558470ffff",
       "version_major": 2,
       "version_minor": 0
      },
      "text/plain": [
       "VBox(children=(Label(value='0.010 MB of 0.010 MB uploaded\\r'), FloatProgress(value=1.0, max=1.0)))"
      ]
     },
     "metadata": {},
     "output_type": "display_data"
    },
    {
     "name": "stdout",
     "output_type": "stream",
     "text": [
      "2024-08-05 17:52:11,526 WARNING: DeprecationWarning: Importing display from IPython.core.display is deprecated since IPython 7.14, please import from IPython display\n",
      "\n"
     ]
    },
    {
     "data": {
      "text/html": [
       "<style>\n",
       "    table.wandb td:nth-child(1) { padding: 0 10px; text-align: left ; width: auto;} td:nth-child(2) {text-align: left ; width: 100%}\n",
       "    .wandb-row { display: flex; flex-direction: row; flex-wrap: wrap; justify-content: flex-start; width: 100% }\n",
       "    .wandb-col { display: flex; flex-direction: column; flex-basis: 100%; flex: 1; padding: 10px; }\n",
       "    </style>\n",
       "<div class=\"wandb-row\"><div class=\"wandb-col\"><h3>Run history:</h3><br/><table class=\"wandb\"><tr><td>f1_score</td><td>▁</td></tr><tr><td>f1_score_train</td><td>▁</td></tr><tr><td>f1_score_valid</td><td>▁</td></tr></table><br/></div><div class=\"wandb-col\"><h3>Run summary:</h3><br/><table class=\"wandb\"><tr><td>f1_score</td><td>0.7214</td></tr><tr><td>f1_score_train</td><td>0.86661</td></tr><tr><td>f1_score_valid</td><td>0.60227</td></tr></table><br/></div></div>"
      ],
      "text/plain": [
       "<IPython.core.display.HTML object>"
      ]
     },
     "metadata": {},
     "output_type": "display_data"
    },
    {
     "data": {
      "text/html": [
       " View run <strong style=\"color:#cdcd00\">firm-sweep-51</strong> at: <a href='https://wandb.ai/harshmp/truck-delay-classification/runs/0ubr6ojo' target=\"_blank\">https://wandb.ai/harshmp/truck-delay-classification/runs/0ubr6ojo</a><br/>Synced 5 W&B file(s), 0 media file(s), 1 artifact file(s) and 0 other file(s)"
      ],
      "text/plain": [
       "<IPython.core.display.HTML object>"
      ]
     },
     "metadata": {},
     "output_type": "display_data"
    },
    {
     "data": {
      "text/html": [
       "Find logs at: <code>.\\wandb\\run-20240805_175202-0ubr6ojo\\logs</code>"
      ],
      "text/plain": [
       "<IPython.core.display.HTML object>"
      ]
     },
     "metadata": {},
     "output_type": "display_data"
    },
    {
     "name": "stderr",
     "output_type": "stream",
     "text": [
      "Run 0ubr6ojo errored: FileNotFoundError(2, 'No such file or directory')\n",
      "wandb: ERROR Run 0ubr6ojo errored: FileNotFoundError(2, 'No such file or directory')\n",
      "wandb: Agent Starting Run: e7scnx0t with config:\n",
      "wandb: \tmax_depth: 15\n",
      "wandb: \tmin_samples_split: 2\n",
      "wandb: \tn_estimators: 20\n",
      "Failed to detect the name of this notebook, you can set it manually with the WANDB_NOTEBOOK_NAME environment variable to enable code saving.\n",
      "wandb: WARNING Ignored wandb.init() arg project when running a sweep.\n"
     ]
    },
    {
     "data": {
      "text/html": [
       "wandb version 0.17.5 is available!  To upgrade, please run:\n",
       " $ pip install wandb --upgrade"
      ],
      "text/plain": [
       "<IPython.core.display.HTML object>"
      ]
     },
     "metadata": {},
     "output_type": "display_data"
    },
    {
     "data": {
      "text/html": [
       "Tracking run with wandb version 0.16.1"
      ],
      "text/plain": [
       "<IPython.core.display.HTML object>"
      ]
     },
     "metadata": {},
     "output_type": "display_data"
    },
    {
     "data": {
      "text/html": [
       "Run data is saved locally in <code>e:\\Artificial Intelligence\\Projects\\Predictive-Truck-Delay-Management-in-Logistics\\wandb\\run-20240805_175220-e7scnx0t</code>"
      ],
      "text/plain": [
       "<IPython.core.display.HTML object>"
      ]
     },
     "metadata": {},
     "output_type": "display_data"
    },
    {
     "data": {
      "text/html": [
       "Syncing run <strong><a href='https://wandb.ai/harshmp/truck-delay-classification/runs/e7scnx0t' target=\"_blank\">sweepy-sweep-52</a></strong> to <a href='https://wandb.ai/harshmp/truck-delay-classification' target=\"_blank\">Weights & Biases</a> (<a href='https://wandb.me/run' target=\"_blank\">docs</a>)<br/>Sweep page: <a href='https://wandb.ai/harshmp/truck-delay-classification/sweeps/20442i5p' target=\"_blank\">https://wandb.ai/harshmp/truck-delay-classification/sweeps/20442i5p</a>"
      ],
      "text/plain": [
       "<IPython.core.display.HTML object>"
      ]
     },
     "metadata": {},
     "output_type": "display_data"
    },
    {
     "data": {
      "text/html": [
       " View project at <a href='https://wandb.ai/harshmp/truck-delay-classification' target=\"_blank\">https://wandb.ai/harshmp/truck-delay-classification</a>"
      ],
      "text/plain": [
       "<IPython.core.display.HTML object>"
      ]
     },
     "metadata": {},
     "output_type": "display_data"
    },
    {
     "data": {
      "text/html": [
       " View sweep at <a href='https://wandb.ai/harshmp/truck-delay-classification/sweeps/20442i5p' target=\"_blank\">https://wandb.ai/harshmp/truck-delay-classification/sweeps/20442i5p</a>"
      ],
      "text/plain": [
       "<IPython.core.display.HTML object>"
      ]
     },
     "metadata": {},
     "output_type": "display_data"
    },
    {
     "data": {
      "text/html": [
       " View run at <a href='https://wandb.ai/harshmp/truck-delay-classification/runs/e7scnx0t' target=\"_blank\">https://wandb.ai/harshmp/truck-delay-classification/runs/e7scnx0t</a>"
      ],
      "text/plain": [
       "<IPython.core.display.HTML object>"
      ]
     },
     "metadata": {},
     "output_type": "display_data"
    },
    {
     "name": "stdout",
     "output_type": "stream",
     "text": [
      "F1_score Train: 0.8779\n",
      "F1_score Valid: 0.6029\n",
      "F1_score Test: 0.709\n"
     ]
    },
    {
     "name": "stderr",
     "output_type": "stream",
     "text": [
      "wandb: \n",
      "wandb: Plotting RandomForestClassifier.\n",
      "Traceback (most recent call last):\n",
      "  File \"C:\\Users\\harsh\\AppData\\Local\\Temp\\ipykernel_18532\\2640226391.py\", line 44, in train_rf_model\n",
      "    wandb.sklearn.plot_classifier(model, X_train, X_test, y_train, y_test, y_preds, y_probas, labels=None,\n",
      "  File \"c:\\Users\\harsh\\anaconda3\\envs\\truck-delay\\lib\\site-packages\\wandb\\sklearn\\plot\\classifier.py\", line 82, in classifier\n",
      "    feature_importances(model, feature_names)\n",
      "  File \"c:\\Users\\harsh\\anaconda3\\envs\\truck-delay\\lib\\site-packages\\wandb\\sklearn\\plot\\classifier.py\", line 250, in feature_importances\n",
      "    wandb.log({\"feature_importances\": feature_importance_chart})\n",
      "  File \"c:\\Users\\harsh\\anaconda3\\envs\\truck-delay\\lib\\site-packages\\wandb\\sdk\\wandb_run.py\", line 420, in wrapper\n",
      "    return func(self, *args, **kwargs)\n",
      "  File \"c:\\Users\\harsh\\anaconda3\\envs\\truck-delay\\lib\\site-packages\\wandb\\sdk\\wandb_run.py\", line 371, in wrapper_fn\n",
      "    return func(self, *args, **kwargs)\n",
      "  File \"c:\\Users\\harsh\\anaconda3\\envs\\truck-delay\\lib\\site-packages\\wandb\\sdk\\wandb_run.py\", line 361, in wrapper\n",
      "    return func(self, *args, **kwargs)\n",
      "  File \"c:\\Users\\harsh\\anaconda3\\envs\\truck-delay\\lib\\site-packages\\wandb\\sdk\\wandb_run.py\", line 1820, in log\n",
      "    self._log(data=data, step=step, commit=commit)\n",
      "  File \"c:\\Users\\harsh\\anaconda3\\envs\\truck-delay\\lib\\site-packages\\wandb\\sdk\\wandb_run.py\", line 1595, in _log\n",
      "    self._partial_history_callback(data, step, commit)\n",
      "  File \"c:\\Users\\harsh\\anaconda3\\envs\\truck-delay\\lib\\site-packages\\wandb\\sdk\\wandb_run.py\", line 1467, in _partial_history_callback\n",
      "    self._backend.interface.publish_partial_history(\n",
      "  File \"c:\\Users\\harsh\\anaconda3\\envs\\truck-delay\\lib\\site-packages\\wandb\\sdk\\interface\\interface.py\", line 549, in publish_partial_history\n",
      "    data = history_dict_to_json(run, data, step=user_step, ignore_copy_err=True)\n",
      "  File \"c:\\Users\\harsh\\anaconda3\\envs\\truck-delay\\lib\\site-packages\\wandb\\sdk\\data_types\\utils.py\", line 52, in history_dict_to_json\n",
      "    payload[key] = val_to_json(\n",
      "  File \"c:\\Users\\harsh\\anaconda3\\envs\\truck-delay\\lib\\site-packages\\wandb\\sdk\\data_types\\utils.py\", line 164, in val_to_json\n",
      "    val.bind_to_run(run, key, namespace)\n",
      "  File \"c:\\Users\\harsh\\anaconda3\\envs\\truck-delay\\lib\\site-packages\\wandb\\data_types.py\", line 541, in bind_to_run\n",
      "    with codecs.open(tmp_path, \"w\", encoding=\"utf-8\") as fp:\n",
      "  File \"c:\\Users\\harsh\\anaconda3\\envs\\truck-delay\\lib\\codecs.py\", line 905, in open\n",
      "    file = builtins.open(filename, mode, buffering)\n",
      "FileNotFoundError: [Errno 2] No such file or directory: 'C:\\\\Users\\\\harsh\\\\AppData\\\\Local\\\\Temp\\\\tmpqphwv_07wandb-media\\\\xfqbie2i.table.json'\n"
     ]
    },
    {
     "name": "stdout",
     "output_type": "stream",
     "text": [
      "2024-08-05 17:52:25,360 WARNING: DeprecationWarning: Importing display from IPython.core.display is deprecated since IPython 7.14, please import from IPython display\n",
      "\n"
     ]
    },
    {
     "data": {
      "application/vnd.jupyter.widget-view+json": {
       "model_id": "75ef6e00b4ed4db0ad35c925749342ff",
       "version_major": 2,
       "version_minor": 0
      },
      "text/plain": [
       "VBox(children=(Label(value='0.010 MB of 0.010 MB uploaded\\r'), FloatProgress(value=1.0, max=1.0)))"
      ]
     },
     "metadata": {},
     "output_type": "display_data"
    },
    {
     "name": "stdout",
     "output_type": "stream",
     "text": [
      "2024-08-05 17:52:30,226 WARNING: DeprecationWarning: Importing display from IPython.core.display is deprecated since IPython 7.14, please import from IPython display\n",
      "\n"
     ]
    },
    {
     "data": {
      "text/html": [
       "<style>\n",
       "    table.wandb td:nth-child(1) { padding: 0 10px; text-align: left ; width: auto;} td:nth-child(2) {text-align: left ; width: 100%}\n",
       "    .wandb-row { display: flex; flex-direction: row; flex-wrap: wrap; justify-content: flex-start; width: 100% }\n",
       "    .wandb-col { display: flex; flex-direction: column; flex-basis: 100%; flex: 1; padding: 10px; }\n",
       "    </style>\n",
       "<div class=\"wandb-row\"><div class=\"wandb-col\"><h3>Run history:</h3><br/><table class=\"wandb\"><tr><td>f1_score</td><td>▁</td></tr><tr><td>f1_score_train</td><td>▁</td></tr><tr><td>f1_score_valid</td><td>▁</td></tr></table><br/></div><div class=\"wandb-col\"><h3>Run summary:</h3><br/><table class=\"wandb\"><tr><td>f1_score</td><td>0.70899</td></tr><tr><td>f1_score_train</td><td>0.87788</td></tr><tr><td>f1_score_valid</td><td>0.60286</td></tr></table><br/></div></div>"
      ],
      "text/plain": [
       "<IPython.core.display.HTML object>"
      ]
     },
     "metadata": {},
     "output_type": "display_data"
    },
    {
     "data": {
      "text/html": [
       " View run <strong style=\"color:#cdcd00\">sweepy-sweep-52</strong> at: <a href='https://wandb.ai/harshmp/truck-delay-classification/runs/e7scnx0t' target=\"_blank\">https://wandb.ai/harshmp/truck-delay-classification/runs/e7scnx0t</a><br/>Synced 5 W&B file(s), 0 media file(s), 1 artifact file(s) and 0 other file(s)"
      ],
      "text/plain": [
       "<IPython.core.display.HTML object>"
      ]
     },
     "metadata": {},
     "output_type": "display_data"
    },
    {
     "data": {
      "text/html": [
       "Find logs at: <code>.\\wandb\\run-20240805_175220-e7scnx0t\\logs</code>"
      ],
      "text/plain": [
       "<IPython.core.display.HTML object>"
      ]
     },
     "metadata": {},
     "output_type": "display_data"
    },
    {
     "name": "stderr",
     "output_type": "stream",
     "text": [
      "Run e7scnx0t errored: FileNotFoundError(2, 'No such file or directory')\n",
      "wandb: ERROR Run e7scnx0t errored: FileNotFoundError(2, 'No such file or directory')\n",
      "wandb: Agent Starting Run: wssxbqja with config:\n",
      "wandb: \tmax_depth: 15\n",
      "wandb: \tmin_samples_split: 4\n",
      "wandb: \tn_estimators: 8\n",
      "Failed to detect the name of this notebook, you can set it manually with the WANDB_NOTEBOOK_NAME environment variable to enable code saving.\n",
      "wandb: WARNING Ignored wandb.init() arg project when running a sweep.\n"
     ]
    },
    {
     "data": {
      "text/html": [
       "wandb version 0.17.5 is available!  To upgrade, please run:\n",
       " $ pip install wandb --upgrade"
      ],
      "text/plain": [
       "<IPython.core.display.HTML object>"
      ]
     },
     "metadata": {},
     "output_type": "display_data"
    },
    {
     "data": {
      "text/html": [
       "Tracking run with wandb version 0.16.1"
      ],
      "text/plain": [
       "<IPython.core.display.HTML object>"
      ]
     },
     "metadata": {},
     "output_type": "display_data"
    },
    {
     "data": {
      "text/html": [
       "Run data is saved locally in <code>e:\\Artificial Intelligence\\Projects\\Predictive-Truck-Delay-Management-in-Logistics\\wandb\\run-20240805_175238-wssxbqja</code>"
      ],
      "text/plain": [
       "<IPython.core.display.HTML object>"
      ]
     },
     "metadata": {},
     "output_type": "display_data"
    },
    {
     "data": {
      "text/html": [
       "Syncing run <strong><a href='https://wandb.ai/harshmp/truck-delay-classification/runs/wssxbqja' target=\"_blank\">toasty-sweep-53</a></strong> to <a href='https://wandb.ai/harshmp/truck-delay-classification' target=\"_blank\">Weights & Biases</a> (<a href='https://wandb.me/run' target=\"_blank\">docs</a>)<br/>Sweep page: <a href='https://wandb.ai/harshmp/truck-delay-classification/sweeps/20442i5p' target=\"_blank\">https://wandb.ai/harshmp/truck-delay-classification/sweeps/20442i5p</a>"
      ],
      "text/plain": [
       "<IPython.core.display.HTML object>"
      ]
     },
     "metadata": {},
     "output_type": "display_data"
    },
    {
     "data": {
      "text/html": [
       " View project at <a href='https://wandb.ai/harshmp/truck-delay-classification' target=\"_blank\">https://wandb.ai/harshmp/truck-delay-classification</a>"
      ],
      "text/plain": [
       "<IPython.core.display.HTML object>"
      ]
     },
     "metadata": {},
     "output_type": "display_data"
    },
    {
     "data": {
      "text/html": [
       " View sweep at <a href='https://wandb.ai/harshmp/truck-delay-classification/sweeps/20442i5p' target=\"_blank\">https://wandb.ai/harshmp/truck-delay-classification/sweeps/20442i5p</a>"
      ],
      "text/plain": [
       "<IPython.core.display.HTML object>"
      ]
     },
     "metadata": {},
     "output_type": "display_data"
    },
    {
     "data": {
      "text/html": [
       " View run at <a href='https://wandb.ai/harshmp/truck-delay-classification/runs/wssxbqja' target=\"_blank\">https://wandb.ai/harshmp/truck-delay-classification/runs/wssxbqja</a>"
      ],
      "text/plain": [
       "<IPython.core.display.HTML object>"
      ]
     },
     "metadata": {},
     "output_type": "display_data"
    },
    {
     "name": "stdout",
     "output_type": "stream",
     "text": [
      "F1_score Train: 0.8079\n",
      "F1_score Valid: 0.6072\n",
      "F1_score Test: 0.7041\n"
     ]
    },
    {
     "name": "stderr",
     "output_type": "stream",
     "text": [
      "wandb: \n",
      "wandb: Plotting RandomForestClassifier.\n",
      "Traceback (most recent call last):\n",
      "  File \"C:\\Users\\harsh\\AppData\\Local\\Temp\\ipykernel_18532\\2640226391.py\", line 44, in train_rf_model\n",
      "    wandb.sklearn.plot_classifier(model, X_train, X_test, y_train, y_test, y_preds, y_probas, labels=None,\n",
      "  File \"c:\\Users\\harsh\\anaconda3\\envs\\truck-delay\\lib\\site-packages\\wandb\\sklearn\\plot\\classifier.py\", line 82, in classifier\n",
      "    feature_importances(model, feature_names)\n",
      "  File \"c:\\Users\\harsh\\anaconda3\\envs\\truck-delay\\lib\\site-packages\\wandb\\sklearn\\plot\\classifier.py\", line 250, in feature_importances\n",
      "    wandb.log({\"feature_importances\": feature_importance_chart})\n",
      "  File \"c:\\Users\\harsh\\anaconda3\\envs\\truck-delay\\lib\\site-packages\\wandb\\sdk\\wandb_run.py\", line 420, in wrapper\n",
      "    return func(self, *args, **kwargs)\n",
      "  File \"c:\\Users\\harsh\\anaconda3\\envs\\truck-delay\\lib\\site-packages\\wandb\\sdk\\wandb_run.py\", line 371, in wrapper_fn\n",
      "    return func(self, *args, **kwargs)\n",
      "  File \"c:\\Users\\harsh\\anaconda3\\envs\\truck-delay\\lib\\site-packages\\wandb\\sdk\\wandb_run.py\", line 361, in wrapper\n",
      "    return func(self, *args, **kwargs)\n",
      "  File \"c:\\Users\\harsh\\anaconda3\\envs\\truck-delay\\lib\\site-packages\\wandb\\sdk\\wandb_run.py\", line 1820, in log\n",
      "    self._log(data=data, step=step, commit=commit)\n",
      "  File \"c:\\Users\\harsh\\anaconda3\\envs\\truck-delay\\lib\\site-packages\\wandb\\sdk\\wandb_run.py\", line 1595, in _log\n",
      "    self._partial_history_callback(data, step, commit)\n",
      "  File \"c:\\Users\\harsh\\anaconda3\\envs\\truck-delay\\lib\\site-packages\\wandb\\sdk\\wandb_run.py\", line 1467, in _partial_history_callback\n",
      "    self._backend.interface.publish_partial_history(\n",
      "  File \"c:\\Users\\harsh\\anaconda3\\envs\\truck-delay\\lib\\site-packages\\wandb\\sdk\\interface\\interface.py\", line 549, in publish_partial_history\n",
      "    data = history_dict_to_json(run, data, step=user_step, ignore_copy_err=True)\n",
      "  File \"c:\\Users\\harsh\\anaconda3\\envs\\truck-delay\\lib\\site-packages\\wandb\\sdk\\data_types\\utils.py\", line 52, in history_dict_to_json\n",
      "    payload[key] = val_to_json(\n",
      "  File \"c:\\Users\\harsh\\anaconda3\\envs\\truck-delay\\lib\\site-packages\\wandb\\sdk\\data_types\\utils.py\", line 164, in val_to_json\n",
      "    val.bind_to_run(run, key, namespace)\n",
      "  File \"c:\\Users\\harsh\\anaconda3\\envs\\truck-delay\\lib\\site-packages\\wandb\\data_types.py\", line 541, in bind_to_run\n",
      "    with codecs.open(tmp_path, \"w\", encoding=\"utf-8\") as fp:\n",
      "  File \"c:\\Users\\harsh\\anaconda3\\envs\\truck-delay\\lib\\codecs.py\", line 905, in open\n",
      "    file = builtins.open(filename, mode, buffering)\n",
      "FileNotFoundError: [Errno 2] No such file or directory: 'C:\\\\Users\\\\harsh\\\\AppData\\\\Local\\\\Temp\\\\tmpqphwv_07wandb-media\\\\5b86ww6y.table.json'\n"
     ]
    },
    {
     "name": "stdout",
     "output_type": "stream",
     "text": [
      "2024-08-05 17:52:43,515 WARNING: DeprecationWarning: Importing display from IPython.core.display is deprecated since IPython 7.14, please import from IPython display\n",
      "\n"
     ]
    },
    {
     "data": {
      "application/vnd.jupyter.widget-view+json": {
       "model_id": "02d2a792c63949e4825cc778aaf69aea",
       "version_major": 2,
       "version_minor": 0
      },
      "text/plain": [
       "VBox(children=(Label(value='0.010 MB of 0.010 MB uploaded\\r'), FloatProgress(value=1.0, max=1.0)))"
      ]
     },
     "metadata": {},
     "output_type": "display_data"
    },
    {
     "name": "stdout",
     "output_type": "stream",
     "text": [
      "2024-08-05 17:52:48,216 WARNING: DeprecationWarning: Importing display from IPython.core.display is deprecated since IPython 7.14, please import from IPython display\n",
      "\n"
     ]
    },
    {
     "data": {
      "text/html": [
       "<style>\n",
       "    table.wandb td:nth-child(1) { padding: 0 10px; text-align: left ; width: auto;} td:nth-child(2) {text-align: left ; width: 100%}\n",
       "    .wandb-row { display: flex; flex-direction: row; flex-wrap: wrap; justify-content: flex-start; width: 100% }\n",
       "    .wandb-col { display: flex; flex-direction: column; flex-basis: 100%; flex: 1; padding: 10px; }\n",
       "    </style>\n",
       "<div class=\"wandb-row\"><div class=\"wandb-col\"><h3>Run history:</h3><br/><table class=\"wandb\"><tr><td>f1_score</td><td>▁</td></tr><tr><td>f1_score_train</td><td>▁</td></tr><tr><td>f1_score_valid</td><td>▁</td></tr></table><br/></div><div class=\"wandb-col\"><h3>Run summary:</h3><br/><table class=\"wandb\"><tr><td>f1_score</td><td>0.70409</td></tr><tr><td>f1_score_train</td><td>0.80785</td></tr><tr><td>f1_score_valid</td><td>0.60719</td></tr></table><br/></div></div>"
      ],
      "text/plain": [
       "<IPython.core.display.HTML object>"
      ]
     },
     "metadata": {},
     "output_type": "display_data"
    },
    {
     "data": {
      "text/html": [
       " View run <strong style=\"color:#cdcd00\">toasty-sweep-53</strong> at: <a href='https://wandb.ai/harshmp/truck-delay-classification/runs/wssxbqja' target=\"_blank\">https://wandb.ai/harshmp/truck-delay-classification/runs/wssxbqja</a><br/>Synced 5 W&B file(s), 0 media file(s), 1 artifact file(s) and 0 other file(s)"
      ],
      "text/plain": [
       "<IPython.core.display.HTML object>"
      ]
     },
     "metadata": {},
     "output_type": "display_data"
    },
    {
     "data": {
      "text/html": [
       "Find logs at: <code>.\\wandb\\run-20240805_175238-wssxbqja\\logs</code>"
      ],
      "text/plain": [
       "<IPython.core.display.HTML object>"
      ]
     },
     "metadata": {},
     "output_type": "display_data"
    },
    {
     "name": "stderr",
     "output_type": "stream",
     "text": [
      "Run wssxbqja errored: FileNotFoundError(2, 'No such file or directory')\n",
      "wandb: ERROR Run wssxbqja errored: FileNotFoundError(2, 'No such file or directory')\n",
      "wandb: Agent Starting Run: uudwuohh with config:\n",
      "wandb: \tmax_depth: 15\n",
      "wandb: \tmin_samples_split: 4\n",
      "wandb: \tn_estimators: 12\n",
      "Failed to detect the name of this notebook, you can set it manually with the WANDB_NOTEBOOK_NAME environment variable to enable code saving.\n",
      "wandb: WARNING Ignored wandb.init() arg project when running a sweep.\n"
     ]
    },
    {
     "data": {
      "text/html": [
       "wandb version 0.17.5 is available!  To upgrade, please run:\n",
       " $ pip install wandb --upgrade"
      ],
      "text/plain": [
       "<IPython.core.display.HTML object>"
      ]
     },
     "metadata": {},
     "output_type": "display_data"
    },
    {
     "data": {
      "text/html": [
       "Tracking run with wandb version 0.16.1"
      ],
      "text/plain": [
       "<IPython.core.display.HTML object>"
      ]
     },
     "metadata": {},
     "output_type": "display_data"
    },
    {
     "data": {
      "text/html": [
       "Run data is saved locally in <code>e:\\Artificial Intelligence\\Projects\\Predictive-Truck-Delay-Management-in-Logistics\\wandb\\run-20240805_175257-uudwuohh</code>"
      ],
      "text/plain": [
       "<IPython.core.display.HTML object>"
      ]
     },
     "metadata": {},
     "output_type": "display_data"
    },
    {
     "data": {
      "text/html": [
       "Syncing run <strong><a href='https://wandb.ai/harshmp/truck-delay-classification/runs/uudwuohh' target=\"_blank\">grateful-sweep-54</a></strong> to <a href='https://wandb.ai/harshmp/truck-delay-classification' target=\"_blank\">Weights & Biases</a> (<a href='https://wandb.me/run' target=\"_blank\">docs</a>)<br/>Sweep page: <a href='https://wandb.ai/harshmp/truck-delay-classification/sweeps/20442i5p' target=\"_blank\">https://wandb.ai/harshmp/truck-delay-classification/sweeps/20442i5p</a>"
      ],
      "text/plain": [
       "<IPython.core.display.HTML object>"
      ]
     },
     "metadata": {},
     "output_type": "display_data"
    },
    {
     "data": {
      "text/html": [
       " View project at <a href='https://wandb.ai/harshmp/truck-delay-classification' target=\"_blank\">https://wandb.ai/harshmp/truck-delay-classification</a>"
      ],
      "text/plain": [
       "<IPython.core.display.HTML object>"
      ]
     },
     "metadata": {},
     "output_type": "display_data"
    },
    {
     "data": {
      "text/html": [
       " View sweep at <a href='https://wandb.ai/harshmp/truck-delay-classification/sweeps/20442i5p' target=\"_blank\">https://wandb.ai/harshmp/truck-delay-classification/sweeps/20442i5p</a>"
      ],
      "text/plain": [
       "<IPython.core.display.HTML object>"
      ]
     },
     "metadata": {},
     "output_type": "display_data"
    },
    {
     "data": {
      "text/html": [
       " View run at <a href='https://wandb.ai/harshmp/truck-delay-classification/runs/uudwuohh' target=\"_blank\">https://wandb.ai/harshmp/truck-delay-classification/runs/uudwuohh</a>"
      ],
      "text/plain": [
       "<IPython.core.display.HTML object>"
      ]
     },
     "metadata": {},
     "output_type": "display_data"
    },
    {
     "name": "stdout",
     "output_type": "stream",
     "text": [
      "F1_score Train: 0.8284\n",
      "F1_score Valid: 0.6288\n",
      "F1_score Test: 0.7182\n"
     ]
    },
    {
     "name": "stderr",
     "output_type": "stream",
     "text": [
      "wandb: \n",
      "wandb: Plotting RandomForestClassifier.\n",
      "Traceback (most recent call last):\n",
      "  File \"C:\\Users\\harsh\\AppData\\Local\\Temp\\ipykernel_18532\\2640226391.py\", line 44, in train_rf_model\n",
      "    wandb.sklearn.plot_classifier(model, X_train, X_test, y_train, y_test, y_preds, y_probas, labels=None,\n",
      "  File \"c:\\Users\\harsh\\anaconda3\\envs\\truck-delay\\lib\\site-packages\\wandb\\sklearn\\plot\\classifier.py\", line 82, in classifier\n",
      "    feature_importances(model, feature_names)\n",
      "  File \"c:\\Users\\harsh\\anaconda3\\envs\\truck-delay\\lib\\site-packages\\wandb\\sklearn\\plot\\classifier.py\", line 250, in feature_importances\n",
      "    wandb.log({\"feature_importances\": feature_importance_chart})\n",
      "  File \"c:\\Users\\harsh\\anaconda3\\envs\\truck-delay\\lib\\site-packages\\wandb\\sdk\\wandb_run.py\", line 420, in wrapper\n",
      "    return func(self, *args, **kwargs)\n",
      "  File \"c:\\Users\\harsh\\anaconda3\\envs\\truck-delay\\lib\\site-packages\\wandb\\sdk\\wandb_run.py\", line 371, in wrapper_fn\n",
      "    return func(self, *args, **kwargs)\n",
      "  File \"c:\\Users\\harsh\\anaconda3\\envs\\truck-delay\\lib\\site-packages\\wandb\\sdk\\wandb_run.py\", line 361, in wrapper\n",
      "    return func(self, *args, **kwargs)\n",
      "  File \"c:\\Users\\harsh\\anaconda3\\envs\\truck-delay\\lib\\site-packages\\wandb\\sdk\\wandb_run.py\", line 1820, in log\n",
      "    self._log(data=data, step=step, commit=commit)\n",
      "  File \"c:\\Users\\harsh\\anaconda3\\envs\\truck-delay\\lib\\site-packages\\wandb\\sdk\\wandb_run.py\", line 1595, in _log\n",
      "    self._partial_history_callback(data, step, commit)\n",
      "  File \"c:\\Users\\harsh\\anaconda3\\envs\\truck-delay\\lib\\site-packages\\wandb\\sdk\\wandb_run.py\", line 1467, in _partial_history_callback\n",
      "    self._backend.interface.publish_partial_history(\n",
      "  File \"c:\\Users\\harsh\\anaconda3\\envs\\truck-delay\\lib\\site-packages\\wandb\\sdk\\interface\\interface.py\", line 549, in publish_partial_history\n",
      "    data = history_dict_to_json(run, data, step=user_step, ignore_copy_err=True)\n",
      "  File \"c:\\Users\\harsh\\anaconda3\\envs\\truck-delay\\lib\\site-packages\\wandb\\sdk\\data_types\\utils.py\", line 52, in history_dict_to_json\n",
      "    payload[key] = val_to_json(\n",
      "  File \"c:\\Users\\harsh\\anaconda3\\envs\\truck-delay\\lib\\site-packages\\wandb\\sdk\\data_types\\utils.py\", line 164, in val_to_json\n",
      "    val.bind_to_run(run, key, namespace)\n",
      "  File \"c:\\Users\\harsh\\anaconda3\\envs\\truck-delay\\lib\\site-packages\\wandb\\data_types.py\", line 541, in bind_to_run\n",
      "    with codecs.open(tmp_path, \"w\", encoding=\"utf-8\") as fp:\n",
      "  File \"c:\\Users\\harsh\\anaconda3\\envs\\truck-delay\\lib\\codecs.py\", line 905, in open\n",
      "    file = builtins.open(filename, mode, buffering)\n",
      "FileNotFoundError: [Errno 2] No such file or directory: 'C:\\\\Users\\\\harsh\\\\AppData\\\\Local\\\\Temp\\\\tmpqphwv_07wandb-media\\\\j0kafh2r.table.json'\n"
     ]
    },
    {
     "name": "stdout",
     "output_type": "stream",
     "text": [
      "2024-08-05 17:53:02,277 WARNING: DeprecationWarning: Importing display from IPython.core.display is deprecated since IPython 7.14, please import from IPython display\n",
      "\n"
     ]
    },
    {
     "data": {
      "application/vnd.jupyter.widget-view+json": {
       "model_id": "57ec7a27018e4dcea810e35098f9e1fe",
       "version_major": 2,
       "version_minor": 0
      },
      "text/plain": [
       "VBox(children=(Label(value='0.010 MB of 0.010 MB uploaded\\r'), FloatProgress(value=1.0, max=1.0)))"
      ]
     },
     "metadata": {},
     "output_type": "display_data"
    },
    {
     "name": "stdout",
     "output_type": "stream",
     "text": [
      "2024-08-05 17:53:08,195 WARNING: DeprecationWarning: Importing display from IPython.core.display is deprecated since IPython 7.14, please import from IPython display\n",
      "\n"
     ]
    },
    {
     "data": {
      "text/html": [
       "<style>\n",
       "    table.wandb td:nth-child(1) { padding: 0 10px; text-align: left ; width: auto;} td:nth-child(2) {text-align: left ; width: 100%}\n",
       "    .wandb-row { display: flex; flex-direction: row; flex-wrap: wrap; justify-content: flex-start; width: 100% }\n",
       "    .wandb-col { display: flex; flex-direction: column; flex-basis: 100%; flex: 1; padding: 10px; }\n",
       "    </style>\n",
       "<div class=\"wandb-row\"><div class=\"wandb-col\"><h3>Run history:</h3><br/><table class=\"wandb\"><tr><td>f1_score</td><td>▁</td></tr><tr><td>f1_score_train</td><td>▁</td></tr><tr><td>f1_score_valid</td><td>▁</td></tr></table><br/></div><div class=\"wandb-col\"><h3>Run summary:</h3><br/><table class=\"wandb\"><tr><td>f1_score</td><td>0.71823</td></tr><tr><td>f1_score_train</td><td>0.82836</td></tr><tr><td>f1_score_valid</td><td>0.62884</td></tr></table><br/></div></div>"
      ],
      "text/plain": [
       "<IPython.core.display.HTML object>"
      ]
     },
     "metadata": {},
     "output_type": "display_data"
    },
    {
     "data": {
      "text/html": [
       " View run <strong style=\"color:#cdcd00\">grateful-sweep-54</strong> at: <a href='https://wandb.ai/harshmp/truck-delay-classification/runs/uudwuohh' target=\"_blank\">https://wandb.ai/harshmp/truck-delay-classification/runs/uudwuohh</a><br/>Synced 5 W&B file(s), 0 media file(s), 1 artifact file(s) and 0 other file(s)"
      ],
      "text/plain": [
       "<IPython.core.display.HTML object>"
      ]
     },
     "metadata": {},
     "output_type": "display_data"
    },
    {
     "data": {
      "text/html": [
       "Find logs at: <code>.\\wandb\\run-20240805_175257-uudwuohh\\logs</code>"
      ],
      "text/plain": [
       "<IPython.core.display.HTML object>"
      ]
     },
     "metadata": {},
     "output_type": "display_data"
    },
    {
     "name": "stderr",
     "output_type": "stream",
     "text": [
      "Run uudwuohh errored: FileNotFoundError(2, 'No such file or directory')\n",
      "wandb: ERROR Run uudwuohh errored: FileNotFoundError(2, 'No such file or directory')\n",
      "wandb: Agent Starting Run: 24bzbxas with config:\n",
      "wandb: \tmax_depth: 15\n",
      "wandb: \tmin_samples_split: 4\n",
      "wandb: \tn_estimators: 16\n",
      "Failed to detect the name of this notebook, you can set it manually with the WANDB_NOTEBOOK_NAME environment variable to enable code saving.\n",
      "wandb: WARNING Ignored wandb.init() arg project when running a sweep.\n"
     ]
    },
    {
     "data": {
      "text/html": [
       "wandb version 0.17.5 is available!  To upgrade, please run:\n",
       " $ pip install wandb --upgrade"
      ],
      "text/plain": [
       "<IPython.core.display.HTML object>"
      ]
     },
     "metadata": {},
     "output_type": "display_data"
    },
    {
     "data": {
      "text/html": [
       "Tracking run with wandb version 0.16.1"
      ],
      "text/plain": [
       "<IPython.core.display.HTML object>"
      ]
     },
     "metadata": {},
     "output_type": "display_data"
    },
    {
     "data": {
      "text/html": [
       "Run data is saved locally in <code>e:\\Artificial Intelligence\\Projects\\Predictive-Truck-Delay-Management-in-Logistics\\wandb\\run-20240805_175318-24bzbxas</code>"
      ],
      "text/plain": [
       "<IPython.core.display.HTML object>"
      ]
     },
     "metadata": {},
     "output_type": "display_data"
    },
    {
     "data": {
      "text/html": [
       "Syncing run <strong><a href='https://wandb.ai/harshmp/truck-delay-classification/runs/24bzbxas' target=\"_blank\">rich-sweep-55</a></strong> to <a href='https://wandb.ai/harshmp/truck-delay-classification' target=\"_blank\">Weights & Biases</a> (<a href='https://wandb.me/run' target=\"_blank\">docs</a>)<br/>Sweep page: <a href='https://wandb.ai/harshmp/truck-delay-classification/sweeps/20442i5p' target=\"_blank\">https://wandb.ai/harshmp/truck-delay-classification/sweeps/20442i5p</a>"
      ],
      "text/plain": [
       "<IPython.core.display.HTML object>"
      ]
     },
     "metadata": {},
     "output_type": "display_data"
    },
    {
     "data": {
      "text/html": [
       " View project at <a href='https://wandb.ai/harshmp/truck-delay-classification' target=\"_blank\">https://wandb.ai/harshmp/truck-delay-classification</a>"
      ],
      "text/plain": [
       "<IPython.core.display.HTML object>"
      ]
     },
     "metadata": {},
     "output_type": "display_data"
    },
    {
     "data": {
      "text/html": [
       " View sweep at <a href='https://wandb.ai/harshmp/truck-delay-classification/sweeps/20442i5p' target=\"_blank\">https://wandb.ai/harshmp/truck-delay-classification/sweeps/20442i5p</a>"
      ],
      "text/plain": [
       "<IPython.core.display.HTML object>"
      ]
     },
     "metadata": {},
     "output_type": "display_data"
    },
    {
     "data": {
      "text/html": [
       " View run at <a href='https://wandb.ai/harshmp/truck-delay-classification/runs/24bzbxas' target=\"_blank\">https://wandb.ai/harshmp/truck-delay-classification/runs/24bzbxas</a>"
      ],
      "text/plain": [
       "<IPython.core.display.HTML object>"
      ]
     },
     "metadata": {},
     "output_type": "display_data"
    },
    {
     "name": "stdout",
     "output_type": "stream",
     "text": [
      "F1_score Train: 0.8424\n",
      "F1_score Valid: 0.6289\n",
      "F1_score Test: 0.7254\n"
     ]
    },
    {
     "name": "stderr",
     "output_type": "stream",
     "text": [
      "wandb: \n",
      "wandb: Plotting RandomForestClassifier.\n",
      "Traceback (most recent call last):\n",
      "  File \"C:\\Users\\harsh\\AppData\\Local\\Temp\\ipykernel_18532\\2640226391.py\", line 44, in train_rf_model\n",
      "    wandb.sklearn.plot_classifier(model, X_train, X_test, y_train, y_test, y_preds, y_probas, labels=None,\n",
      "  File \"c:\\Users\\harsh\\anaconda3\\envs\\truck-delay\\lib\\site-packages\\wandb\\sklearn\\plot\\classifier.py\", line 82, in classifier\n",
      "    feature_importances(model, feature_names)\n",
      "  File \"c:\\Users\\harsh\\anaconda3\\envs\\truck-delay\\lib\\site-packages\\wandb\\sklearn\\plot\\classifier.py\", line 250, in feature_importances\n",
      "    wandb.log({\"feature_importances\": feature_importance_chart})\n",
      "  File \"c:\\Users\\harsh\\anaconda3\\envs\\truck-delay\\lib\\site-packages\\wandb\\sdk\\wandb_run.py\", line 420, in wrapper\n",
      "    return func(self, *args, **kwargs)\n",
      "  File \"c:\\Users\\harsh\\anaconda3\\envs\\truck-delay\\lib\\site-packages\\wandb\\sdk\\wandb_run.py\", line 371, in wrapper_fn\n",
      "    return func(self, *args, **kwargs)\n",
      "  File \"c:\\Users\\harsh\\anaconda3\\envs\\truck-delay\\lib\\site-packages\\wandb\\sdk\\wandb_run.py\", line 361, in wrapper\n",
      "    return func(self, *args, **kwargs)\n",
      "  File \"c:\\Users\\harsh\\anaconda3\\envs\\truck-delay\\lib\\site-packages\\wandb\\sdk\\wandb_run.py\", line 1820, in log\n",
      "    self._log(data=data, step=step, commit=commit)\n",
      "  File \"c:\\Users\\harsh\\anaconda3\\envs\\truck-delay\\lib\\site-packages\\wandb\\sdk\\wandb_run.py\", line 1595, in _log\n",
      "    self._partial_history_callback(data, step, commit)\n",
      "  File \"c:\\Users\\harsh\\anaconda3\\envs\\truck-delay\\lib\\site-packages\\wandb\\sdk\\wandb_run.py\", line 1467, in _partial_history_callback\n",
      "    self._backend.interface.publish_partial_history(\n",
      "  File \"c:\\Users\\harsh\\anaconda3\\envs\\truck-delay\\lib\\site-packages\\wandb\\sdk\\interface\\interface.py\", line 549, in publish_partial_history\n",
      "    data = history_dict_to_json(run, data, step=user_step, ignore_copy_err=True)\n",
      "  File \"c:\\Users\\harsh\\anaconda3\\envs\\truck-delay\\lib\\site-packages\\wandb\\sdk\\data_types\\utils.py\", line 52, in history_dict_to_json\n",
      "    payload[key] = val_to_json(\n",
      "  File \"c:\\Users\\harsh\\anaconda3\\envs\\truck-delay\\lib\\site-packages\\wandb\\sdk\\data_types\\utils.py\", line 164, in val_to_json\n",
      "    val.bind_to_run(run, key, namespace)\n",
      "  File \"c:\\Users\\harsh\\anaconda3\\envs\\truck-delay\\lib\\site-packages\\wandb\\data_types.py\", line 541, in bind_to_run\n",
      "    with codecs.open(tmp_path, \"w\", encoding=\"utf-8\") as fp:\n",
      "  File \"c:\\Users\\harsh\\anaconda3\\envs\\truck-delay\\lib\\codecs.py\", line 905, in open\n",
      "    file = builtins.open(filename, mode, buffering)\n",
      "FileNotFoundError: [Errno 2] No such file or directory: 'C:\\\\Users\\\\harsh\\\\AppData\\\\Local\\\\Temp\\\\tmpqphwv_07wandb-media\\\\lixcwx5o.table.json'\n"
     ]
    },
    {
     "name": "stdout",
     "output_type": "stream",
     "text": [
      "2024-08-05 17:53:22,766 WARNING: DeprecationWarning: Importing display from IPython.core.display is deprecated since IPython 7.14, please import from IPython display\n",
      "\n"
     ]
    },
    {
     "data": {
      "application/vnd.jupyter.widget-view+json": {
       "model_id": "2378364696cd48f5917b60fe84cbc41d",
       "version_major": 2,
       "version_minor": 0
      },
      "text/plain": [
       "VBox(children=(Label(value='0.010 MB of 0.010 MB uploaded\\r'), FloatProgress(value=1.0, max=1.0)))"
      ]
     },
     "metadata": {},
     "output_type": "display_data"
    },
    {
     "name": "stdout",
     "output_type": "stream",
     "text": [
      "2024-08-05 17:53:26,714 WARNING: DeprecationWarning: Importing display from IPython.core.display is deprecated since IPython 7.14, please import from IPython display\n",
      "\n"
     ]
    },
    {
     "data": {
      "text/html": [
       "<style>\n",
       "    table.wandb td:nth-child(1) { padding: 0 10px; text-align: left ; width: auto;} td:nth-child(2) {text-align: left ; width: 100%}\n",
       "    .wandb-row { display: flex; flex-direction: row; flex-wrap: wrap; justify-content: flex-start; width: 100% }\n",
       "    .wandb-col { display: flex; flex-direction: column; flex-basis: 100%; flex: 1; padding: 10px; }\n",
       "    </style>\n",
       "<div class=\"wandb-row\"><div class=\"wandb-col\"><h3>Run history:</h3><br/><table class=\"wandb\"><tr><td>f1_score</td><td>▁</td></tr><tr><td>f1_score_train</td><td>▁</td></tr><tr><td>f1_score_valid</td><td>▁</td></tr></table><br/></div><div class=\"wandb-col\"><h3>Run summary:</h3><br/><table class=\"wandb\"><tr><td>f1_score</td><td>0.7254</td></tr><tr><td>f1_score_train</td><td>0.84245</td></tr><tr><td>f1_score_valid</td><td>0.62885</td></tr></table><br/></div></div>"
      ],
      "text/plain": [
       "<IPython.core.display.HTML object>"
      ]
     },
     "metadata": {},
     "output_type": "display_data"
    },
    {
     "data": {
      "text/html": [
       " View run <strong style=\"color:#cdcd00\">rich-sweep-55</strong> at: <a href='https://wandb.ai/harshmp/truck-delay-classification/runs/24bzbxas' target=\"_blank\">https://wandb.ai/harshmp/truck-delay-classification/runs/24bzbxas</a><br/>Synced 5 W&B file(s), 0 media file(s), 1 artifact file(s) and 0 other file(s)"
      ],
      "text/plain": [
       "<IPython.core.display.HTML object>"
      ]
     },
     "metadata": {},
     "output_type": "display_data"
    },
    {
     "data": {
      "text/html": [
       "Find logs at: <code>.\\wandb\\run-20240805_175318-24bzbxas\\logs</code>"
      ],
      "text/plain": [
       "<IPython.core.display.HTML object>"
      ]
     },
     "metadata": {},
     "output_type": "display_data"
    },
    {
     "name": "stderr",
     "output_type": "stream",
     "text": [
      "Run 24bzbxas errored: FileNotFoundError(2, 'No such file or directory')\n",
      "wandb: ERROR Run 24bzbxas errored: FileNotFoundError(2, 'No such file or directory')\n",
      "wandb: Agent Starting Run: zwziiwdh with config:\n",
      "wandb: \tmax_depth: 15\n",
      "wandb: \tmin_samples_split: 4\n",
      "wandb: \tn_estimators: 20\n",
      "Failed to detect the name of this notebook, you can set it manually with the WANDB_NOTEBOOK_NAME environment variable to enable code saving.\n",
      "wandb: WARNING Ignored wandb.init() arg project when running a sweep.\n"
     ]
    },
    {
     "data": {
      "text/html": [
       "wandb version 0.17.5 is available!  To upgrade, please run:\n",
       " $ pip install wandb --upgrade"
      ],
      "text/plain": [
       "<IPython.core.display.HTML object>"
      ]
     },
     "metadata": {},
     "output_type": "display_data"
    },
    {
     "data": {
      "text/html": [
       "Tracking run with wandb version 0.16.1"
      ],
      "text/plain": [
       "<IPython.core.display.HTML object>"
      ]
     },
     "metadata": {},
     "output_type": "display_data"
    },
    {
     "data": {
      "text/html": [
       "Run data is saved locally in <code>e:\\Artificial Intelligence\\Projects\\Predictive-Truck-Delay-Management-in-Logistics\\wandb\\run-20240805_175332-zwziiwdh</code>"
      ],
      "text/plain": [
       "<IPython.core.display.HTML object>"
      ]
     },
     "metadata": {},
     "output_type": "display_data"
    },
    {
     "data": {
      "text/html": [
       "Syncing run <strong><a href='https://wandb.ai/harshmp/truck-delay-classification/runs/zwziiwdh' target=\"_blank\">eager-sweep-56</a></strong> to <a href='https://wandb.ai/harshmp/truck-delay-classification' target=\"_blank\">Weights & Biases</a> (<a href='https://wandb.me/run' target=\"_blank\">docs</a>)<br/>Sweep page: <a href='https://wandb.ai/harshmp/truck-delay-classification/sweeps/20442i5p' target=\"_blank\">https://wandb.ai/harshmp/truck-delay-classification/sweeps/20442i5p</a>"
      ],
      "text/plain": [
       "<IPython.core.display.HTML object>"
      ]
     },
     "metadata": {},
     "output_type": "display_data"
    },
    {
     "data": {
      "text/html": [
       " View project at <a href='https://wandb.ai/harshmp/truck-delay-classification' target=\"_blank\">https://wandb.ai/harshmp/truck-delay-classification</a>"
      ],
      "text/plain": [
       "<IPython.core.display.HTML object>"
      ]
     },
     "metadata": {},
     "output_type": "display_data"
    },
    {
     "data": {
      "text/html": [
       " View sweep at <a href='https://wandb.ai/harshmp/truck-delay-classification/sweeps/20442i5p' target=\"_blank\">https://wandb.ai/harshmp/truck-delay-classification/sweeps/20442i5p</a>"
      ],
      "text/plain": [
       "<IPython.core.display.HTML object>"
      ]
     },
     "metadata": {},
     "output_type": "display_data"
    },
    {
     "data": {
      "text/html": [
       " View run at <a href='https://wandb.ai/harshmp/truck-delay-classification/runs/zwziiwdh' target=\"_blank\">https://wandb.ai/harshmp/truck-delay-classification/runs/zwziiwdh</a>"
      ],
      "text/plain": [
       "<IPython.core.display.HTML object>"
      ]
     },
     "metadata": {},
     "output_type": "display_data"
    },
    {
     "name": "stdout",
     "output_type": "stream",
     "text": [
      "F1_score Train: 0.8552\n",
      "F1_score Valid: 0.6309\n",
      "F1_score Test: 0.7241\n"
     ]
    },
    {
     "name": "stderr",
     "output_type": "stream",
     "text": [
      "wandb: \n",
      "wandb: Plotting RandomForestClassifier.\n",
      "Traceback (most recent call last):\n",
      "  File \"C:\\Users\\harsh\\AppData\\Local\\Temp\\ipykernel_18532\\2640226391.py\", line 44, in train_rf_model\n",
      "    wandb.sklearn.plot_classifier(model, X_train, X_test, y_train, y_test, y_preds, y_probas, labels=None,\n",
      "  File \"c:\\Users\\harsh\\anaconda3\\envs\\truck-delay\\lib\\site-packages\\wandb\\sklearn\\plot\\classifier.py\", line 82, in classifier\n",
      "    feature_importances(model, feature_names)\n",
      "  File \"c:\\Users\\harsh\\anaconda3\\envs\\truck-delay\\lib\\site-packages\\wandb\\sklearn\\plot\\classifier.py\", line 250, in feature_importances\n",
      "    wandb.log({\"feature_importances\": feature_importance_chart})\n",
      "  File \"c:\\Users\\harsh\\anaconda3\\envs\\truck-delay\\lib\\site-packages\\wandb\\sdk\\wandb_run.py\", line 420, in wrapper\n",
      "    return func(self, *args, **kwargs)\n",
      "  File \"c:\\Users\\harsh\\anaconda3\\envs\\truck-delay\\lib\\site-packages\\wandb\\sdk\\wandb_run.py\", line 371, in wrapper_fn\n",
      "    return func(self, *args, **kwargs)\n",
      "  File \"c:\\Users\\harsh\\anaconda3\\envs\\truck-delay\\lib\\site-packages\\wandb\\sdk\\wandb_run.py\", line 361, in wrapper\n",
      "    return func(self, *args, **kwargs)\n",
      "  File \"c:\\Users\\harsh\\anaconda3\\envs\\truck-delay\\lib\\site-packages\\wandb\\sdk\\wandb_run.py\", line 1820, in log\n",
      "    self._log(data=data, step=step, commit=commit)\n",
      "  File \"c:\\Users\\harsh\\anaconda3\\envs\\truck-delay\\lib\\site-packages\\wandb\\sdk\\wandb_run.py\", line 1595, in _log\n",
      "    self._partial_history_callback(data, step, commit)\n",
      "  File \"c:\\Users\\harsh\\anaconda3\\envs\\truck-delay\\lib\\site-packages\\wandb\\sdk\\wandb_run.py\", line 1467, in _partial_history_callback\n",
      "    self._backend.interface.publish_partial_history(\n",
      "  File \"c:\\Users\\harsh\\anaconda3\\envs\\truck-delay\\lib\\site-packages\\wandb\\sdk\\interface\\interface.py\", line 549, in publish_partial_history\n",
      "    data = history_dict_to_json(run, data, step=user_step, ignore_copy_err=True)\n",
      "  File \"c:\\Users\\harsh\\anaconda3\\envs\\truck-delay\\lib\\site-packages\\wandb\\sdk\\data_types\\utils.py\", line 52, in history_dict_to_json\n",
      "    payload[key] = val_to_json(\n",
      "  File \"c:\\Users\\harsh\\anaconda3\\envs\\truck-delay\\lib\\site-packages\\wandb\\sdk\\data_types\\utils.py\", line 164, in val_to_json\n",
      "    val.bind_to_run(run, key, namespace)\n",
      "  File \"c:\\Users\\harsh\\anaconda3\\envs\\truck-delay\\lib\\site-packages\\wandb\\data_types.py\", line 541, in bind_to_run\n",
      "    with codecs.open(tmp_path, \"w\", encoding=\"utf-8\") as fp:\n",
      "  File \"c:\\Users\\harsh\\anaconda3\\envs\\truck-delay\\lib\\codecs.py\", line 905, in open\n",
      "    file = builtins.open(filename, mode, buffering)\n",
      "FileNotFoundError: [Errno 2] No such file or directory: 'C:\\\\Users\\\\harsh\\\\AppData\\\\Local\\\\Temp\\\\tmpqphwv_07wandb-media\\\\lh7aaukp.table.json'\n"
     ]
    },
    {
     "name": "stdout",
     "output_type": "stream",
     "text": [
      "2024-08-05 17:53:41,711 WARNING: DeprecationWarning: Importing display from IPython.core.display is deprecated since IPython 7.14, please import from IPython display\n",
      "\n"
     ]
    },
    {
     "data": {
      "application/vnd.jupyter.widget-view+json": {
       "model_id": "ada4ded3dfae402698f44ce4c43faf3b",
       "version_major": 2,
       "version_minor": 0
      },
      "text/plain": [
       "VBox(children=(Label(value='0.010 MB of 0.010 MB uploaded\\r'), FloatProgress(value=1.0, max=1.0)))"
      ]
     },
     "metadata": {},
     "output_type": "display_data"
    },
    {
     "name": "stdout",
     "output_type": "stream",
     "text": [
      "2024-08-05 17:53:46,462 WARNING: DeprecationWarning: Importing display from IPython.core.display is deprecated since IPython 7.14, please import from IPython display\n",
      "\n"
     ]
    },
    {
     "data": {
      "text/html": [
       "<style>\n",
       "    table.wandb td:nth-child(1) { padding: 0 10px; text-align: left ; width: auto;} td:nth-child(2) {text-align: left ; width: 100%}\n",
       "    .wandb-row { display: flex; flex-direction: row; flex-wrap: wrap; justify-content: flex-start; width: 100% }\n",
       "    .wandb-col { display: flex; flex-direction: column; flex-basis: 100%; flex: 1; padding: 10px; }\n",
       "    </style>\n",
       "<div class=\"wandb-row\"><div class=\"wandb-col\"><h3>Run history:</h3><br/><table class=\"wandb\"><tr><td>f1_score</td><td>▁</td></tr><tr><td>f1_score_train</td><td>▁</td></tr><tr><td>f1_score_valid</td><td>▁</td></tr></table><br/></div><div class=\"wandb-col\"><h3>Run summary:</h3><br/><table class=\"wandb\"><tr><td>f1_score</td><td>0.72411</td></tr><tr><td>f1_score_train</td><td>0.85521</td></tr><tr><td>f1_score_valid</td><td>0.63092</td></tr></table><br/></div></div>"
      ],
      "text/plain": [
       "<IPython.core.display.HTML object>"
      ]
     },
     "metadata": {},
     "output_type": "display_data"
    },
    {
     "data": {
      "text/html": [
       " View run <strong style=\"color:#cdcd00\">eager-sweep-56</strong> at: <a href='https://wandb.ai/harshmp/truck-delay-classification/runs/zwziiwdh' target=\"_blank\">https://wandb.ai/harshmp/truck-delay-classification/runs/zwziiwdh</a><br/>Synced 5 W&B file(s), 0 media file(s), 1 artifact file(s) and 0 other file(s)"
      ],
      "text/plain": [
       "<IPython.core.display.HTML object>"
      ]
     },
     "metadata": {},
     "output_type": "display_data"
    },
    {
     "data": {
      "text/html": [
       "Find logs at: <code>.\\wandb\\run-20240805_175332-zwziiwdh\\logs</code>"
      ],
      "text/plain": [
       "<IPython.core.display.HTML object>"
      ]
     },
     "metadata": {},
     "output_type": "display_data"
    },
    {
     "name": "stderr",
     "output_type": "stream",
     "text": [
      "Run zwziiwdh errored: FileNotFoundError(2, 'No such file or directory')\n",
      "wandb: ERROR Run zwziiwdh errored: FileNotFoundError(2, 'No such file or directory')\n",
      "wandb: Agent Starting Run: t59t73wd with config:\n",
      "wandb: \tmax_depth: 15\n",
      "wandb: \tmin_samples_split: 8\n",
      "wandb: \tn_estimators: 8\n",
      "Failed to detect the name of this notebook, you can set it manually with the WANDB_NOTEBOOK_NAME environment variable to enable code saving.\n",
      "wandb: WARNING Ignored wandb.init() arg project when running a sweep.\n"
     ]
    },
    {
     "data": {
      "text/html": [
       "wandb version 0.17.5 is available!  To upgrade, please run:\n",
       " $ pip install wandb --upgrade"
      ],
      "text/plain": [
       "<IPython.core.display.HTML object>"
      ]
     },
     "metadata": {},
     "output_type": "display_data"
    },
    {
     "data": {
      "text/html": [
       "Tracking run with wandb version 0.16.1"
      ],
      "text/plain": [
       "<IPython.core.display.HTML object>"
      ]
     },
     "metadata": {},
     "output_type": "display_data"
    },
    {
     "data": {
      "text/html": [
       "Run data is saved locally in <code>e:\\Artificial Intelligence\\Projects\\Predictive-Truck-Delay-Management-in-Logistics\\wandb\\run-20240805_175354-t59t73wd</code>"
      ],
      "text/plain": [
       "<IPython.core.display.HTML object>"
      ]
     },
     "metadata": {},
     "output_type": "display_data"
    },
    {
     "data": {
      "text/html": [
       "Syncing run <strong><a href='https://wandb.ai/harshmp/truck-delay-classification/runs/t59t73wd' target=\"_blank\">soft-sweep-57</a></strong> to <a href='https://wandb.ai/harshmp/truck-delay-classification' target=\"_blank\">Weights & Biases</a> (<a href='https://wandb.me/run' target=\"_blank\">docs</a>)<br/>Sweep page: <a href='https://wandb.ai/harshmp/truck-delay-classification/sweeps/20442i5p' target=\"_blank\">https://wandb.ai/harshmp/truck-delay-classification/sweeps/20442i5p</a>"
      ],
      "text/plain": [
       "<IPython.core.display.HTML object>"
      ]
     },
     "metadata": {},
     "output_type": "display_data"
    },
    {
     "data": {
      "text/html": [
       " View project at <a href='https://wandb.ai/harshmp/truck-delay-classification' target=\"_blank\">https://wandb.ai/harshmp/truck-delay-classification</a>"
      ],
      "text/plain": [
       "<IPython.core.display.HTML object>"
      ]
     },
     "metadata": {},
     "output_type": "display_data"
    },
    {
     "data": {
      "text/html": [
       " View sweep at <a href='https://wandb.ai/harshmp/truck-delay-classification/sweeps/20442i5p' target=\"_blank\">https://wandb.ai/harshmp/truck-delay-classification/sweeps/20442i5p</a>"
      ],
      "text/plain": [
       "<IPython.core.display.HTML object>"
      ]
     },
     "metadata": {},
     "output_type": "display_data"
    },
    {
     "data": {
      "text/html": [
       " View run at <a href='https://wandb.ai/harshmp/truck-delay-classification/runs/t59t73wd' target=\"_blank\">https://wandb.ai/harshmp/truck-delay-classification/runs/t59t73wd</a>"
      ],
      "text/plain": [
       "<IPython.core.display.HTML object>"
      ]
     },
     "metadata": {},
     "output_type": "display_data"
    },
    {
     "name": "stdout",
     "output_type": "stream",
     "text": [
      "F1_score Train: 0.784\n",
      "F1_score Valid: 0.6108\n",
      "F1_score Test: 0.7312\n"
     ]
    },
    {
     "name": "stderr",
     "output_type": "stream",
     "text": [
      "wandb: \n",
      "wandb: Plotting RandomForestClassifier.\n",
      "Traceback (most recent call last):\n",
      "  File \"C:\\Users\\harsh\\AppData\\Local\\Temp\\ipykernel_18532\\2640226391.py\", line 44, in train_rf_model\n",
      "    wandb.sklearn.plot_classifier(model, X_train, X_test, y_train, y_test, y_preds, y_probas, labels=None,\n",
      "  File \"c:\\Users\\harsh\\anaconda3\\envs\\truck-delay\\lib\\site-packages\\wandb\\sklearn\\plot\\classifier.py\", line 82, in classifier\n",
      "    feature_importances(model, feature_names)\n",
      "  File \"c:\\Users\\harsh\\anaconda3\\envs\\truck-delay\\lib\\site-packages\\wandb\\sklearn\\plot\\classifier.py\", line 250, in feature_importances\n",
      "    wandb.log({\"feature_importances\": feature_importance_chart})\n",
      "  File \"c:\\Users\\harsh\\anaconda3\\envs\\truck-delay\\lib\\site-packages\\wandb\\sdk\\wandb_run.py\", line 420, in wrapper\n",
      "    return func(self, *args, **kwargs)\n",
      "  File \"c:\\Users\\harsh\\anaconda3\\envs\\truck-delay\\lib\\site-packages\\wandb\\sdk\\wandb_run.py\", line 371, in wrapper_fn\n",
      "    return func(self, *args, **kwargs)\n",
      "  File \"c:\\Users\\harsh\\anaconda3\\envs\\truck-delay\\lib\\site-packages\\wandb\\sdk\\wandb_run.py\", line 361, in wrapper\n",
      "    return func(self, *args, **kwargs)\n",
      "  File \"c:\\Users\\harsh\\anaconda3\\envs\\truck-delay\\lib\\site-packages\\wandb\\sdk\\wandb_run.py\", line 1820, in log\n",
      "    self._log(data=data, step=step, commit=commit)\n",
      "  File \"c:\\Users\\harsh\\anaconda3\\envs\\truck-delay\\lib\\site-packages\\wandb\\sdk\\wandb_run.py\", line 1595, in _log\n",
      "    self._partial_history_callback(data, step, commit)\n",
      "  File \"c:\\Users\\harsh\\anaconda3\\envs\\truck-delay\\lib\\site-packages\\wandb\\sdk\\wandb_run.py\", line 1467, in _partial_history_callback\n",
      "    self._backend.interface.publish_partial_history(\n",
      "  File \"c:\\Users\\harsh\\anaconda3\\envs\\truck-delay\\lib\\site-packages\\wandb\\sdk\\interface\\interface.py\", line 549, in publish_partial_history\n",
      "    data = history_dict_to_json(run, data, step=user_step, ignore_copy_err=True)\n",
      "  File \"c:\\Users\\harsh\\anaconda3\\envs\\truck-delay\\lib\\site-packages\\wandb\\sdk\\data_types\\utils.py\", line 52, in history_dict_to_json\n",
      "    payload[key] = val_to_json(\n",
      "  File \"c:\\Users\\harsh\\anaconda3\\envs\\truck-delay\\lib\\site-packages\\wandb\\sdk\\data_types\\utils.py\", line 164, in val_to_json\n",
      "    val.bind_to_run(run, key, namespace)\n",
      "  File \"c:\\Users\\harsh\\anaconda3\\envs\\truck-delay\\lib\\site-packages\\wandb\\data_types.py\", line 541, in bind_to_run\n",
      "    with codecs.open(tmp_path, \"w\", encoding=\"utf-8\") as fp:\n",
      "  File \"c:\\Users\\harsh\\anaconda3\\envs\\truck-delay\\lib\\codecs.py\", line 905, in open\n",
      "    file = builtins.open(filename, mode, buffering)\n",
      "FileNotFoundError: [Errno 2] No such file or directory: 'C:\\\\Users\\\\harsh\\\\AppData\\\\Local\\\\Temp\\\\tmpqphwv_07wandb-media\\\\5w0da0mi.table.json'\n"
     ]
    },
    {
     "name": "stdout",
     "output_type": "stream",
     "text": [
      "2024-08-05 17:53:58,468 WARNING: DeprecationWarning: Importing display from IPython.core.display is deprecated since IPython 7.14, please import from IPython display\n",
      "\n"
     ]
    },
    {
     "data": {
      "application/vnd.jupyter.widget-view+json": {
       "model_id": "4ecd6d2ffee6425c8dd59039554ad3da",
       "version_major": 2,
       "version_minor": 0
      },
      "text/plain": [
       "VBox(children=(Label(value='0.010 MB of 0.010 MB uploaded\\r'), FloatProgress(value=1.0, max=1.0)))"
      ]
     },
     "metadata": {},
     "output_type": "display_data"
    },
    {
     "name": "stdout",
     "output_type": "stream",
     "text": [
      "2024-08-05 17:54:04,828 WARNING: DeprecationWarning: Importing display from IPython.core.display is deprecated since IPython 7.14, please import from IPython display\n",
      "\n"
     ]
    },
    {
     "data": {
      "text/html": [
       "<style>\n",
       "    table.wandb td:nth-child(1) { padding: 0 10px; text-align: left ; width: auto;} td:nth-child(2) {text-align: left ; width: 100%}\n",
       "    .wandb-row { display: flex; flex-direction: row; flex-wrap: wrap; justify-content: flex-start; width: 100% }\n",
       "    .wandb-col { display: flex; flex-direction: column; flex-basis: 100%; flex: 1; padding: 10px; }\n",
       "    </style>\n",
       "<div class=\"wandb-row\"><div class=\"wandb-col\"><h3>Run history:</h3><br/><table class=\"wandb\"><tr><td>f1_score</td><td>▁</td></tr><tr><td>f1_score_train</td><td>▁</td></tr><tr><td>f1_score_valid</td><td>▁</td></tr></table><br/></div><div class=\"wandb-col\"><h3>Run summary:</h3><br/><table class=\"wandb\"><tr><td>f1_score</td><td>0.73115</td></tr><tr><td>f1_score_train</td><td>0.784</td></tr><tr><td>f1_score_valid</td><td>0.61078</td></tr></table><br/></div></div>"
      ],
      "text/plain": [
       "<IPython.core.display.HTML object>"
      ]
     },
     "metadata": {},
     "output_type": "display_data"
    },
    {
     "data": {
      "text/html": [
       " View run <strong style=\"color:#cdcd00\">soft-sweep-57</strong> at: <a href='https://wandb.ai/harshmp/truck-delay-classification/runs/t59t73wd' target=\"_blank\">https://wandb.ai/harshmp/truck-delay-classification/runs/t59t73wd</a><br/>Synced 5 W&B file(s), 0 media file(s), 1 artifact file(s) and 0 other file(s)"
      ],
      "text/plain": [
       "<IPython.core.display.HTML object>"
      ]
     },
     "metadata": {},
     "output_type": "display_data"
    },
    {
     "data": {
      "text/html": [
       "Find logs at: <code>.\\wandb\\run-20240805_175354-t59t73wd\\logs</code>"
      ],
      "text/plain": [
       "<IPython.core.display.HTML object>"
      ]
     },
     "metadata": {},
     "output_type": "display_data"
    },
    {
     "name": "stderr",
     "output_type": "stream",
     "text": [
      "Run t59t73wd errored: FileNotFoundError(2, 'No such file or directory')\n",
      "wandb: ERROR Run t59t73wd errored: FileNotFoundError(2, 'No such file or directory')\n",
      "wandb: Agent Starting Run: ju8x1jc2 with config:\n",
      "wandb: \tmax_depth: 15\n",
      "wandb: \tmin_samples_split: 8\n",
      "wandb: \tn_estimators: 12\n",
      "Failed to detect the name of this notebook, you can set it manually with the WANDB_NOTEBOOK_NAME environment variable to enable code saving.\n",
      "wandb: WARNING Ignored wandb.init() arg project when running a sweep.\n"
     ]
    },
    {
     "data": {
      "text/html": [
       "wandb version 0.17.5 is available!  To upgrade, please run:\n",
       " $ pip install wandb --upgrade"
      ],
      "text/plain": [
       "<IPython.core.display.HTML object>"
      ]
     },
     "metadata": {},
     "output_type": "display_data"
    },
    {
     "data": {
      "text/html": [
       "Tracking run with wandb version 0.16.1"
      ],
      "text/plain": [
       "<IPython.core.display.HTML object>"
      ]
     },
     "metadata": {},
     "output_type": "display_data"
    },
    {
     "data": {
      "text/html": [
       "Run data is saved locally in <code>e:\\Artificial Intelligence\\Projects\\Predictive-Truck-Delay-Management-in-Logistics\\wandb\\run-20240805_175414-ju8x1jc2</code>"
      ],
      "text/plain": [
       "<IPython.core.display.HTML object>"
      ]
     },
     "metadata": {},
     "output_type": "display_data"
    },
    {
     "data": {
      "text/html": [
       "Syncing run <strong><a href='https://wandb.ai/harshmp/truck-delay-classification/runs/ju8x1jc2' target=\"_blank\">glad-sweep-58</a></strong> to <a href='https://wandb.ai/harshmp/truck-delay-classification' target=\"_blank\">Weights & Biases</a> (<a href='https://wandb.me/run' target=\"_blank\">docs</a>)<br/>Sweep page: <a href='https://wandb.ai/harshmp/truck-delay-classification/sweeps/20442i5p' target=\"_blank\">https://wandb.ai/harshmp/truck-delay-classification/sweeps/20442i5p</a>"
      ],
      "text/plain": [
       "<IPython.core.display.HTML object>"
      ]
     },
     "metadata": {},
     "output_type": "display_data"
    },
    {
     "data": {
      "text/html": [
       " View project at <a href='https://wandb.ai/harshmp/truck-delay-classification' target=\"_blank\">https://wandb.ai/harshmp/truck-delay-classification</a>"
      ],
      "text/plain": [
       "<IPython.core.display.HTML object>"
      ]
     },
     "metadata": {},
     "output_type": "display_data"
    },
    {
     "data": {
      "text/html": [
       " View sweep at <a href='https://wandb.ai/harshmp/truck-delay-classification/sweeps/20442i5p' target=\"_blank\">https://wandb.ai/harshmp/truck-delay-classification/sweeps/20442i5p</a>"
      ],
      "text/plain": [
       "<IPython.core.display.HTML object>"
      ]
     },
     "metadata": {},
     "output_type": "display_data"
    },
    {
     "data": {
      "text/html": [
       " View run at <a href='https://wandb.ai/harshmp/truck-delay-classification/runs/ju8x1jc2' target=\"_blank\">https://wandb.ai/harshmp/truck-delay-classification/runs/ju8x1jc2</a>"
      ],
      "text/plain": [
       "<IPython.core.display.HTML object>"
      ]
     },
     "metadata": {},
     "output_type": "display_data"
    },
    {
     "name": "stdout",
     "output_type": "stream",
     "text": [
      "F1_score Train: 0.7953\n",
      "F1_score Valid: 0.6398\n",
      "F1_score Test: 0.7485\n"
     ]
    },
    {
     "name": "stderr",
     "output_type": "stream",
     "text": [
      "wandb: \n",
      "wandb: Plotting RandomForestClassifier.\n",
      "Traceback (most recent call last):\n",
      "  File \"C:\\Users\\harsh\\AppData\\Local\\Temp\\ipykernel_18532\\2640226391.py\", line 44, in train_rf_model\n",
      "    wandb.sklearn.plot_classifier(model, X_train, X_test, y_train, y_test, y_preds, y_probas, labels=None,\n",
      "  File \"c:\\Users\\harsh\\anaconda3\\envs\\truck-delay\\lib\\site-packages\\wandb\\sklearn\\plot\\classifier.py\", line 82, in classifier\n",
      "    feature_importances(model, feature_names)\n",
      "  File \"c:\\Users\\harsh\\anaconda3\\envs\\truck-delay\\lib\\site-packages\\wandb\\sklearn\\plot\\classifier.py\", line 250, in feature_importances\n",
      "    wandb.log({\"feature_importances\": feature_importance_chart})\n",
      "  File \"c:\\Users\\harsh\\anaconda3\\envs\\truck-delay\\lib\\site-packages\\wandb\\sdk\\wandb_run.py\", line 420, in wrapper\n",
      "    return func(self, *args, **kwargs)\n",
      "  File \"c:\\Users\\harsh\\anaconda3\\envs\\truck-delay\\lib\\site-packages\\wandb\\sdk\\wandb_run.py\", line 371, in wrapper_fn\n",
      "    return func(self, *args, **kwargs)\n",
      "  File \"c:\\Users\\harsh\\anaconda3\\envs\\truck-delay\\lib\\site-packages\\wandb\\sdk\\wandb_run.py\", line 361, in wrapper\n",
      "    return func(self, *args, **kwargs)\n",
      "  File \"c:\\Users\\harsh\\anaconda3\\envs\\truck-delay\\lib\\site-packages\\wandb\\sdk\\wandb_run.py\", line 1820, in log\n",
      "    self._log(data=data, step=step, commit=commit)\n",
      "  File \"c:\\Users\\harsh\\anaconda3\\envs\\truck-delay\\lib\\site-packages\\wandb\\sdk\\wandb_run.py\", line 1595, in _log\n",
      "    self._partial_history_callback(data, step, commit)\n",
      "  File \"c:\\Users\\harsh\\anaconda3\\envs\\truck-delay\\lib\\site-packages\\wandb\\sdk\\wandb_run.py\", line 1467, in _partial_history_callback\n",
      "    self._backend.interface.publish_partial_history(\n",
      "  File \"c:\\Users\\harsh\\anaconda3\\envs\\truck-delay\\lib\\site-packages\\wandb\\sdk\\interface\\interface.py\", line 549, in publish_partial_history\n",
      "    data = history_dict_to_json(run, data, step=user_step, ignore_copy_err=True)\n",
      "  File \"c:\\Users\\harsh\\anaconda3\\envs\\truck-delay\\lib\\site-packages\\wandb\\sdk\\data_types\\utils.py\", line 52, in history_dict_to_json\n",
      "    payload[key] = val_to_json(\n",
      "  File \"c:\\Users\\harsh\\anaconda3\\envs\\truck-delay\\lib\\site-packages\\wandb\\sdk\\data_types\\utils.py\", line 164, in val_to_json\n",
      "    val.bind_to_run(run, key, namespace)\n",
      "  File \"c:\\Users\\harsh\\anaconda3\\envs\\truck-delay\\lib\\site-packages\\wandb\\data_types.py\", line 541, in bind_to_run\n",
      "    with codecs.open(tmp_path, \"w\", encoding=\"utf-8\") as fp:\n",
      "  File \"c:\\Users\\harsh\\anaconda3\\envs\\truck-delay\\lib\\codecs.py\", line 905, in open\n",
      "    file = builtins.open(filename, mode, buffering)\n",
      "FileNotFoundError: [Errno 2] No such file or directory: 'C:\\\\Users\\\\harsh\\\\AppData\\\\Local\\\\Temp\\\\tmpqphwv_07wandb-media\\\\tkmzm3j5.table.json'\n"
     ]
    },
    {
     "name": "stdout",
     "output_type": "stream",
     "text": [
      "2024-08-05 17:54:18,763 WARNING: DeprecationWarning: Importing display from IPython.core.display is deprecated since IPython 7.14, please import from IPython display\n",
      "\n"
     ]
    },
    {
     "data": {
      "application/vnd.jupyter.widget-view+json": {
       "model_id": "9e3d4647e1e142d98ed2740eaa72b9fd",
       "version_major": 2,
       "version_minor": 0
      },
      "text/plain": [
       "VBox(children=(Label(value='0.010 MB of 0.010 MB uploaded\\r'), FloatProgress(value=1.0, max=1.0)))"
      ]
     },
     "metadata": {},
     "output_type": "display_data"
    },
    {
     "name": "stdout",
     "output_type": "stream",
     "text": [
      "2024-08-05 17:54:24,713 WARNING: DeprecationWarning: Importing display from IPython.core.display is deprecated since IPython 7.14, please import from IPython display\n",
      "\n"
     ]
    },
    {
     "data": {
      "text/html": [
       "<style>\n",
       "    table.wandb td:nth-child(1) { padding: 0 10px; text-align: left ; width: auto;} td:nth-child(2) {text-align: left ; width: 100%}\n",
       "    .wandb-row { display: flex; flex-direction: row; flex-wrap: wrap; justify-content: flex-start; width: 100% }\n",
       "    .wandb-col { display: flex; flex-direction: column; flex-basis: 100%; flex: 1; padding: 10px; }\n",
       "    </style>\n",
       "<div class=\"wandb-row\"><div class=\"wandb-col\"><h3>Run history:</h3><br/><table class=\"wandb\"><tr><td>f1_score</td><td>▁</td></tr><tr><td>f1_score_train</td><td>▁</td></tr><tr><td>f1_score_valid</td><td>▁</td></tr></table><br/></div><div class=\"wandb-col\"><h3>Run summary:</h3><br/><table class=\"wandb\"><tr><td>f1_score</td><td>0.7485</td></tr><tr><td>f1_score_train</td><td>0.79534</td></tr><tr><td>f1_score_valid</td><td>0.63978</td></tr></table><br/></div></div>"
      ],
      "text/plain": [
       "<IPython.core.display.HTML object>"
      ]
     },
     "metadata": {},
     "output_type": "display_data"
    },
    {
     "data": {
      "text/html": [
       " View run <strong style=\"color:#cdcd00\">glad-sweep-58</strong> at: <a href='https://wandb.ai/harshmp/truck-delay-classification/runs/ju8x1jc2' target=\"_blank\">https://wandb.ai/harshmp/truck-delay-classification/runs/ju8x1jc2</a><br/>Synced 5 W&B file(s), 0 media file(s), 1 artifact file(s) and 0 other file(s)"
      ],
      "text/plain": [
       "<IPython.core.display.HTML object>"
      ]
     },
     "metadata": {},
     "output_type": "display_data"
    },
    {
     "data": {
      "text/html": [
       "Find logs at: <code>.\\wandb\\run-20240805_175414-ju8x1jc2\\logs</code>"
      ],
      "text/plain": [
       "<IPython.core.display.HTML object>"
      ]
     },
     "metadata": {},
     "output_type": "display_data"
    },
    {
     "name": "stderr",
     "output_type": "stream",
     "text": [
      "Run ju8x1jc2 errored: FileNotFoundError(2, 'No such file or directory')\n",
      "wandb: ERROR Run ju8x1jc2 errored: FileNotFoundError(2, 'No such file or directory')\n",
      "wandb: Sweep Agent: Waiting for job.\n",
      "wandb: Job received.\n",
      "wandb: Agent Starting Run: s5dude1b with config:\n",
      "wandb: \tmax_depth: 15\n",
      "wandb: \tmin_samples_split: 8\n",
      "wandb: \tn_estimators: 16\n",
      "Failed to detect the name of this notebook, you can set it manually with the WANDB_NOTEBOOK_NAME environment variable to enable code saving.\n",
      "wandb: WARNING Ignored wandb.init() arg project when running a sweep.\n"
     ]
    },
    {
     "data": {
      "text/html": [
       "wandb version 0.17.5 is available!  To upgrade, please run:\n",
       " $ pip install wandb --upgrade"
      ],
      "text/plain": [
       "<IPython.core.display.HTML object>"
      ]
     },
     "metadata": {},
     "output_type": "display_data"
    },
    {
     "data": {
      "text/html": [
       "Tracking run with wandb version 0.16.1"
      ],
      "text/plain": [
       "<IPython.core.display.HTML object>"
      ]
     },
     "metadata": {},
     "output_type": "display_data"
    },
    {
     "data": {
      "text/html": [
       "Run data is saved locally in <code>e:\\Artificial Intelligence\\Projects\\Predictive-Truck-Delay-Management-in-Logistics\\wandb\\run-20240805_175438-s5dude1b</code>"
      ],
      "text/plain": [
       "<IPython.core.display.HTML object>"
      ]
     },
     "metadata": {},
     "output_type": "display_data"
    },
    {
     "data": {
      "text/html": [
       "Syncing run <strong><a href='https://wandb.ai/harshmp/truck-delay-classification/runs/s5dude1b' target=\"_blank\">dark-sweep-59</a></strong> to <a href='https://wandb.ai/harshmp/truck-delay-classification' target=\"_blank\">Weights & Biases</a> (<a href='https://wandb.me/run' target=\"_blank\">docs</a>)<br/>Sweep page: <a href='https://wandb.ai/harshmp/truck-delay-classification/sweeps/20442i5p' target=\"_blank\">https://wandb.ai/harshmp/truck-delay-classification/sweeps/20442i5p</a>"
      ],
      "text/plain": [
       "<IPython.core.display.HTML object>"
      ]
     },
     "metadata": {},
     "output_type": "display_data"
    },
    {
     "data": {
      "text/html": [
       " View project at <a href='https://wandb.ai/harshmp/truck-delay-classification' target=\"_blank\">https://wandb.ai/harshmp/truck-delay-classification</a>"
      ],
      "text/plain": [
       "<IPython.core.display.HTML object>"
      ]
     },
     "metadata": {},
     "output_type": "display_data"
    },
    {
     "data": {
      "text/html": [
       " View sweep at <a href='https://wandb.ai/harshmp/truck-delay-classification/sweeps/20442i5p' target=\"_blank\">https://wandb.ai/harshmp/truck-delay-classification/sweeps/20442i5p</a>"
      ],
      "text/plain": [
       "<IPython.core.display.HTML object>"
      ]
     },
     "metadata": {},
     "output_type": "display_data"
    },
    {
     "data": {
      "text/html": [
       " View run at <a href='https://wandb.ai/harshmp/truck-delay-classification/runs/s5dude1b' target=\"_blank\">https://wandb.ai/harshmp/truck-delay-classification/runs/s5dude1b</a>"
      ],
      "text/plain": [
       "<IPython.core.display.HTML object>"
      ]
     },
     "metadata": {},
     "output_type": "display_data"
    },
    {
     "name": "stdout",
     "output_type": "stream",
     "text": [
      "F1_score Train: 0.8057\n",
      "F1_score Valid: 0.6542\n",
      "F1_score Test: 0.7493\n"
     ]
    },
    {
     "name": "stderr",
     "output_type": "stream",
     "text": [
      "wandb: \n",
      "wandb: Plotting RandomForestClassifier.\n",
      "Traceback (most recent call last):\n",
      "  File \"C:\\Users\\harsh\\AppData\\Local\\Temp\\ipykernel_18532\\2640226391.py\", line 44, in train_rf_model\n",
      "    wandb.sklearn.plot_classifier(model, X_train, X_test, y_train, y_test, y_preds, y_probas, labels=None,\n",
      "  File \"c:\\Users\\harsh\\anaconda3\\envs\\truck-delay\\lib\\site-packages\\wandb\\sklearn\\plot\\classifier.py\", line 82, in classifier\n",
      "    feature_importances(model, feature_names)\n",
      "  File \"c:\\Users\\harsh\\anaconda3\\envs\\truck-delay\\lib\\site-packages\\wandb\\sklearn\\plot\\classifier.py\", line 250, in feature_importances\n",
      "    wandb.log({\"feature_importances\": feature_importance_chart})\n",
      "  File \"c:\\Users\\harsh\\anaconda3\\envs\\truck-delay\\lib\\site-packages\\wandb\\sdk\\wandb_run.py\", line 420, in wrapper\n",
      "    return func(self, *args, **kwargs)\n",
      "  File \"c:\\Users\\harsh\\anaconda3\\envs\\truck-delay\\lib\\site-packages\\wandb\\sdk\\wandb_run.py\", line 371, in wrapper_fn\n",
      "    return func(self, *args, **kwargs)\n",
      "  File \"c:\\Users\\harsh\\anaconda3\\envs\\truck-delay\\lib\\site-packages\\wandb\\sdk\\wandb_run.py\", line 361, in wrapper\n",
      "    return func(self, *args, **kwargs)\n",
      "  File \"c:\\Users\\harsh\\anaconda3\\envs\\truck-delay\\lib\\site-packages\\wandb\\sdk\\wandb_run.py\", line 1820, in log\n",
      "    self._log(data=data, step=step, commit=commit)\n",
      "  File \"c:\\Users\\harsh\\anaconda3\\envs\\truck-delay\\lib\\site-packages\\wandb\\sdk\\wandb_run.py\", line 1595, in _log\n",
      "    self._partial_history_callback(data, step, commit)\n",
      "  File \"c:\\Users\\harsh\\anaconda3\\envs\\truck-delay\\lib\\site-packages\\wandb\\sdk\\wandb_run.py\", line 1467, in _partial_history_callback\n",
      "    self._backend.interface.publish_partial_history(\n",
      "  File \"c:\\Users\\harsh\\anaconda3\\envs\\truck-delay\\lib\\site-packages\\wandb\\sdk\\interface\\interface.py\", line 549, in publish_partial_history\n",
      "    data = history_dict_to_json(run, data, step=user_step, ignore_copy_err=True)\n",
      "  File \"c:\\Users\\harsh\\anaconda3\\envs\\truck-delay\\lib\\site-packages\\wandb\\sdk\\data_types\\utils.py\", line 52, in history_dict_to_json\n",
      "    payload[key] = val_to_json(\n",
      "  File \"c:\\Users\\harsh\\anaconda3\\envs\\truck-delay\\lib\\site-packages\\wandb\\sdk\\data_types\\utils.py\", line 164, in val_to_json\n",
      "    val.bind_to_run(run, key, namespace)\n",
      "  File \"c:\\Users\\harsh\\anaconda3\\envs\\truck-delay\\lib\\site-packages\\wandb\\data_types.py\", line 541, in bind_to_run\n",
      "    with codecs.open(tmp_path, \"w\", encoding=\"utf-8\") as fp:\n",
      "  File \"c:\\Users\\harsh\\anaconda3\\envs\\truck-delay\\lib\\codecs.py\", line 905, in open\n",
      "    file = builtins.open(filename, mode, buffering)\n",
      "FileNotFoundError: [Errno 2] No such file or directory: 'C:\\\\Users\\\\harsh\\\\AppData\\\\Local\\\\Temp\\\\tmpqphwv_07wandb-media\\\\ystkksyl.table.json'\n"
     ]
    },
    {
     "name": "stdout",
     "output_type": "stream",
     "text": [
      "2024-08-05 17:54:43,157 WARNING: DeprecationWarning: Importing display from IPython.core.display is deprecated since IPython 7.14, please import from IPython display\n",
      "\n"
     ]
    },
    {
     "data": {
      "application/vnd.jupyter.widget-view+json": {
       "model_id": "71fafa18ecd046ee8c259a71233e674f",
       "version_major": 2,
       "version_minor": 0
      },
      "text/plain": [
       "VBox(children=(Label(value='0.010 MB of 0.010 MB uploaded\\r'), FloatProgress(value=1.0, max=1.0)))"
      ]
     },
     "metadata": {},
     "output_type": "display_data"
    },
    {
     "name": "stdout",
     "output_type": "stream",
     "text": [
      "2024-08-05 17:54:47,281 WARNING: DeprecationWarning: Importing display from IPython.core.display is deprecated since IPython 7.14, please import from IPython display\n",
      "\n"
     ]
    },
    {
     "data": {
      "text/html": [
       "<style>\n",
       "    table.wandb td:nth-child(1) { padding: 0 10px; text-align: left ; width: auto;} td:nth-child(2) {text-align: left ; width: 100%}\n",
       "    .wandb-row { display: flex; flex-direction: row; flex-wrap: wrap; justify-content: flex-start; width: 100% }\n",
       "    .wandb-col { display: flex; flex-direction: column; flex-basis: 100%; flex: 1; padding: 10px; }\n",
       "    </style>\n",
       "<div class=\"wandb-row\"><div class=\"wandb-col\"><h3>Run history:</h3><br/><table class=\"wandb\"><tr><td>f1_score</td><td>▁</td></tr><tr><td>f1_score_train</td><td>▁</td></tr><tr><td>f1_score_valid</td><td>▁</td></tr></table><br/></div><div class=\"wandb-col\"><h3>Run summary:</h3><br/><table class=\"wandb\"><tr><td>f1_score</td><td>0.74932</td></tr><tr><td>f1_score_train</td><td>0.80573</td></tr><tr><td>f1_score_valid</td><td>0.65421</td></tr></table><br/></div></div>"
      ],
      "text/plain": [
       "<IPython.core.display.HTML object>"
      ]
     },
     "metadata": {},
     "output_type": "display_data"
    },
    {
     "data": {
      "text/html": [
       " View run <strong style=\"color:#cdcd00\">dark-sweep-59</strong> at: <a href='https://wandb.ai/harshmp/truck-delay-classification/runs/s5dude1b' target=\"_blank\">https://wandb.ai/harshmp/truck-delay-classification/runs/s5dude1b</a><br/>Synced 5 W&B file(s), 0 media file(s), 1 artifact file(s) and 0 other file(s)"
      ],
      "text/plain": [
       "<IPython.core.display.HTML object>"
      ]
     },
     "metadata": {},
     "output_type": "display_data"
    },
    {
     "data": {
      "text/html": [
       "Find logs at: <code>.\\wandb\\run-20240805_175438-s5dude1b\\logs</code>"
      ],
      "text/plain": [
       "<IPython.core.display.HTML object>"
      ]
     },
     "metadata": {},
     "output_type": "display_data"
    },
    {
     "name": "stderr",
     "output_type": "stream",
     "text": [
      "Run s5dude1b errored: FileNotFoundError(2, 'No such file or directory')\n",
      "wandb: ERROR Run s5dude1b errored: FileNotFoundError(2, 'No such file or directory')\n",
      "wandb: Agent Starting Run: rdl3hm96 with config:\n",
      "wandb: \tmax_depth: 15\n",
      "wandb: \tmin_samples_split: 8\n",
      "wandb: \tn_estimators: 20\n",
      "Failed to detect the name of this notebook, you can set it manually with the WANDB_NOTEBOOK_NAME environment variable to enable code saving.\n",
      "wandb: WARNING Ignored wandb.init() arg project when running a sweep.\n"
     ]
    },
    {
     "data": {
      "text/html": [
       "wandb version 0.17.5 is available!  To upgrade, please run:\n",
       " $ pip install wandb --upgrade"
      ],
      "text/plain": [
       "<IPython.core.display.HTML object>"
      ]
     },
     "metadata": {},
     "output_type": "display_data"
    },
    {
     "data": {
      "text/html": [
       "Tracking run with wandb version 0.16.1"
      ],
      "text/plain": [
       "<IPython.core.display.HTML object>"
      ]
     },
     "metadata": {},
     "output_type": "display_data"
    },
    {
     "data": {
      "text/html": [
       "Run data is saved locally in <code>e:\\Artificial Intelligence\\Projects\\Predictive-Truck-Delay-Management-in-Logistics\\wandb\\run-20240805_175454-rdl3hm96</code>"
      ],
      "text/plain": [
       "<IPython.core.display.HTML object>"
      ]
     },
     "metadata": {},
     "output_type": "display_data"
    },
    {
     "data": {
      "text/html": [
       "Syncing run <strong><a href='https://wandb.ai/harshmp/truck-delay-classification/runs/rdl3hm96' target=\"_blank\">fragrant-sweep-60</a></strong> to <a href='https://wandb.ai/harshmp/truck-delay-classification' target=\"_blank\">Weights & Biases</a> (<a href='https://wandb.me/run' target=\"_blank\">docs</a>)<br/>Sweep page: <a href='https://wandb.ai/harshmp/truck-delay-classification/sweeps/20442i5p' target=\"_blank\">https://wandb.ai/harshmp/truck-delay-classification/sweeps/20442i5p</a>"
      ],
      "text/plain": [
       "<IPython.core.display.HTML object>"
      ]
     },
     "metadata": {},
     "output_type": "display_data"
    },
    {
     "data": {
      "text/html": [
       " View project at <a href='https://wandb.ai/harshmp/truck-delay-classification' target=\"_blank\">https://wandb.ai/harshmp/truck-delay-classification</a>"
      ],
      "text/plain": [
       "<IPython.core.display.HTML object>"
      ]
     },
     "metadata": {},
     "output_type": "display_data"
    },
    {
     "data": {
      "text/html": [
       " View sweep at <a href='https://wandb.ai/harshmp/truck-delay-classification/sweeps/20442i5p' target=\"_blank\">https://wandb.ai/harshmp/truck-delay-classification/sweeps/20442i5p</a>"
      ],
      "text/plain": [
       "<IPython.core.display.HTML object>"
      ]
     },
     "metadata": {},
     "output_type": "display_data"
    },
    {
     "data": {
      "text/html": [
       " View run at <a href='https://wandb.ai/harshmp/truck-delay-classification/runs/rdl3hm96' target=\"_blank\">https://wandb.ai/harshmp/truck-delay-classification/runs/rdl3hm96</a>"
      ],
      "text/plain": [
       "<IPython.core.display.HTML object>"
      ]
     },
     "metadata": {},
     "output_type": "display_data"
    },
    {
     "name": "stdout",
     "output_type": "stream",
     "text": [
      "F1_score Train: 0.8102\n",
      "F1_score Valid: 0.6587\n",
      "F1_score Test: 0.7527\n"
     ]
    },
    {
     "name": "stderr",
     "output_type": "stream",
     "text": [
      "wandb: \n",
      "wandb: Plotting RandomForestClassifier.\n",
      "Traceback (most recent call last):\n",
      "  File \"C:\\Users\\harsh\\AppData\\Local\\Temp\\ipykernel_18532\\2640226391.py\", line 44, in train_rf_model\n",
      "    wandb.sklearn.plot_classifier(model, X_train, X_test, y_train, y_test, y_preds, y_probas, labels=None,\n",
      "  File \"c:\\Users\\harsh\\anaconda3\\envs\\truck-delay\\lib\\site-packages\\wandb\\sklearn\\plot\\classifier.py\", line 82, in classifier\n",
      "    feature_importances(model, feature_names)\n",
      "  File \"c:\\Users\\harsh\\anaconda3\\envs\\truck-delay\\lib\\site-packages\\wandb\\sklearn\\plot\\classifier.py\", line 250, in feature_importances\n",
      "    wandb.log({\"feature_importances\": feature_importance_chart})\n",
      "  File \"c:\\Users\\harsh\\anaconda3\\envs\\truck-delay\\lib\\site-packages\\wandb\\sdk\\wandb_run.py\", line 420, in wrapper\n",
      "    return func(self, *args, **kwargs)\n",
      "  File \"c:\\Users\\harsh\\anaconda3\\envs\\truck-delay\\lib\\site-packages\\wandb\\sdk\\wandb_run.py\", line 371, in wrapper_fn\n",
      "    return func(self, *args, **kwargs)\n",
      "  File \"c:\\Users\\harsh\\anaconda3\\envs\\truck-delay\\lib\\site-packages\\wandb\\sdk\\wandb_run.py\", line 361, in wrapper\n",
      "    return func(self, *args, **kwargs)\n",
      "  File \"c:\\Users\\harsh\\anaconda3\\envs\\truck-delay\\lib\\site-packages\\wandb\\sdk\\wandb_run.py\", line 1820, in log\n",
      "    self._log(data=data, step=step, commit=commit)\n",
      "  File \"c:\\Users\\harsh\\anaconda3\\envs\\truck-delay\\lib\\site-packages\\wandb\\sdk\\wandb_run.py\", line 1595, in _log\n",
      "    self._partial_history_callback(data, step, commit)\n",
      "  File \"c:\\Users\\harsh\\anaconda3\\envs\\truck-delay\\lib\\site-packages\\wandb\\sdk\\wandb_run.py\", line 1467, in _partial_history_callback\n",
      "    self._backend.interface.publish_partial_history(\n",
      "  File \"c:\\Users\\harsh\\anaconda3\\envs\\truck-delay\\lib\\site-packages\\wandb\\sdk\\interface\\interface.py\", line 549, in publish_partial_history\n",
      "    data = history_dict_to_json(run, data, step=user_step, ignore_copy_err=True)\n",
      "  File \"c:\\Users\\harsh\\anaconda3\\envs\\truck-delay\\lib\\site-packages\\wandb\\sdk\\data_types\\utils.py\", line 52, in history_dict_to_json\n",
      "    payload[key] = val_to_json(\n",
      "  File \"c:\\Users\\harsh\\anaconda3\\envs\\truck-delay\\lib\\site-packages\\wandb\\sdk\\data_types\\utils.py\", line 164, in val_to_json\n",
      "    val.bind_to_run(run, key, namespace)\n",
      "  File \"c:\\Users\\harsh\\anaconda3\\envs\\truck-delay\\lib\\site-packages\\wandb\\data_types.py\", line 541, in bind_to_run\n",
      "    with codecs.open(tmp_path, \"w\", encoding=\"utf-8\") as fp:\n",
      "  File \"c:\\Users\\harsh\\anaconda3\\envs\\truck-delay\\lib\\codecs.py\", line 905, in open\n",
      "    file = builtins.open(filename, mode, buffering)\n",
      "FileNotFoundError: [Errno 2] No such file or directory: 'C:\\\\Users\\\\harsh\\\\AppData\\\\Local\\\\Temp\\\\tmpqphwv_07wandb-media\\\\zv07tayo.table.json'\n"
     ]
    },
    {
     "name": "stdout",
     "output_type": "stream",
     "text": [
      "2024-08-05 17:54:58,751 WARNING: DeprecationWarning: Importing display from IPython.core.display is deprecated since IPython 7.14, please import from IPython display\n",
      "\n"
     ]
    },
    {
     "data": {
      "application/vnd.jupyter.widget-view+json": {
       "model_id": "91c38307c58143ca84a4fd1c74ab4a15",
       "version_major": 2,
       "version_minor": 0
      },
      "text/plain": [
       "VBox(children=(Label(value='0.010 MB of 0.010 MB uploaded\\r'), FloatProgress(value=1.0, max=1.0)))"
      ]
     },
     "metadata": {},
     "output_type": "display_data"
    },
    {
     "name": "stdout",
     "output_type": "stream",
     "text": [
      "2024-08-05 17:55:02,587 WARNING: DeprecationWarning: Importing display from IPython.core.display is deprecated since IPython 7.14, please import from IPython display\n",
      "\n"
     ]
    },
    {
     "data": {
      "text/html": [
       "<style>\n",
       "    table.wandb td:nth-child(1) { padding: 0 10px; text-align: left ; width: auto;} td:nth-child(2) {text-align: left ; width: 100%}\n",
       "    .wandb-row { display: flex; flex-direction: row; flex-wrap: wrap; justify-content: flex-start; width: 100% }\n",
       "    .wandb-col { display: flex; flex-direction: column; flex-basis: 100%; flex: 1; padding: 10px; }\n",
       "    </style>\n",
       "<div class=\"wandb-row\"><div class=\"wandb-col\"><h3>Run history:</h3><br/><table class=\"wandb\"><tr><td>f1_score</td><td>▁</td></tr><tr><td>f1_score_train</td><td>▁</td></tr><tr><td>f1_score_valid</td><td>▁</td></tr></table><br/></div><div class=\"wandb-col\"><h3>Run summary:</h3><br/><table class=\"wandb\"><tr><td>f1_score</td><td>0.7527</td></tr><tr><td>f1_score_train</td><td>0.81016</td></tr><tr><td>f1_score_valid</td><td>0.65867</td></tr></table><br/></div></div>"
      ],
      "text/plain": [
       "<IPython.core.display.HTML object>"
      ]
     },
     "metadata": {},
     "output_type": "display_data"
    },
    {
     "data": {
      "text/html": [
       " View run <strong style=\"color:#cdcd00\">fragrant-sweep-60</strong> at: <a href='https://wandb.ai/harshmp/truck-delay-classification/runs/rdl3hm96' target=\"_blank\">https://wandb.ai/harshmp/truck-delay-classification/runs/rdl3hm96</a><br/>Synced 5 W&B file(s), 0 media file(s), 1 artifact file(s) and 0 other file(s)"
      ],
      "text/plain": [
       "<IPython.core.display.HTML object>"
      ]
     },
     "metadata": {},
     "output_type": "display_data"
    },
    {
     "data": {
      "text/html": [
       "Find logs at: <code>.\\wandb\\run-20240805_175454-rdl3hm96\\logs</code>"
      ],
      "text/plain": [
       "<IPython.core.display.HTML object>"
      ]
     },
     "metadata": {},
     "output_type": "display_data"
    },
    {
     "name": "stderr",
     "output_type": "stream",
     "text": [
      "Run rdl3hm96 errored: FileNotFoundError(2, 'No such file or directory')\n",
      "wandb: ERROR Run rdl3hm96 errored: FileNotFoundError(2, 'No such file or directory')\n",
      "wandb: Sweep Agent: Waiting for job.\n",
      "wandb: Job received.\n",
      "wandb: Agent Starting Run: dhe29y16 with config:\n",
      "wandb: \tmax_depth: 15\n",
      "wandb: \tmin_samples_split: 12\n",
      "wandb: \tn_estimators: 8\n",
      "Failed to detect the name of this notebook, you can set it manually with the WANDB_NOTEBOOK_NAME environment variable to enable code saving.\n",
      "wandb: WARNING Ignored wandb.init() arg project when running a sweep.\n"
     ]
    },
    {
     "data": {
      "text/html": [
       "wandb version 0.17.5 is available!  To upgrade, please run:\n",
       " $ pip install wandb --upgrade"
      ],
      "text/plain": [
       "<IPython.core.display.HTML object>"
      ]
     },
     "metadata": {},
     "output_type": "display_data"
    },
    {
     "data": {
      "text/html": [
       "Tracking run with wandb version 0.16.1"
      ],
      "text/plain": [
       "<IPython.core.display.HTML object>"
      ]
     },
     "metadata": {},
     "output_type": "display_data"
    },
    {
     "data": {
      "text/html": [
       "Run data is saved locally in <code>e:\\Artificial Intelligence\\Projects\\Predictive-Truck-Delay-Management-in-Logistics\\wandb\\run-20240805_175526-dhe29y16</code>"
      ],
      "text/plain": [
       "<IPython.core.display.HTML object>"
      ]
     },
     "metadata": {},
     "output_type": "display_data"
    },
    {
     "data": {
      "text/html": [
       "Syncing run <strong><a href='https://wandb.ai/harshmp/truck-delay-classification/runs/dhe29y16' target=\"_blank\">fragrant-sweep-61</a></strong> to <a href='https://wandb.ai/harshmp/truck-delay-classification' target=\"_blank\">Weights & Biases</a> (<a href='https://wandb.me/run' target=\"_blank\">docs</a>)<br/>Sweep page: <a href='https://wandb.ai/harshmp/truck-delay-classification/sweeps/20442i5p' target=\"_blank\">https://wandb.ai/harshmp/truck-delay-classification/sweeps/20442i5p</a>"
      ],
      "text/plain": [
       "<IPython.core.display.HTML object>"
      ]
     },
     "metadata": {},
     "output_type": "display_data"
    },
    {
     "data": {
      "text/html": [
       " View project at <a href='https://wandb.ai/harshmp/truck-delay-classification' target=\"_blank\">https://wandb.ai/harshmp/truck-delay-classification</a>"
      ],
      "text/plain": [
       "<IPython.core.display.HTML object>"
      ]
     },
     "metadata": {},
     "output_type": "display_data"
    },
    {
     "data": {
      "text/html": [
       " View sweep at <a href='https://wandb.ai/harshmp/truck-delay-classification/sweeps/20442i5p' target=\"_blank\">https://wandb.ai/harshmp/truck-delay-classification/sweeps/20442i5p</a>"
      ],
      "text/plain": [
       "<IPython.core.display.HTML object>"
      ]
     },
     "metadata": {},
     "output_type": "display_data"
    },
    {
     "data": {
      "text/html": [
       " View run at <a href='https://wandb.ai/harshmp/truck-delay-classification/runs/dhe29y16' target=\"_blank\">https://wandb.ai/harshmp/truck-delay-classification/runs/dhe29y16</a>"
      ],
      "text/plain": [
       "<IPython.core.display.HTML object>"
      ]
     },
     "metadata": {},
     "output_type": "display_data"
    },
    {
     "name": "stdout",
     "output_type": "stream",
     "text": [
      "F1_score Train: 0.7646\n",
      "F1_score Valid: 0.6129\n",
      "F1_score Test: 0.702\n"
     ]
    },
    {
     "name": "stderr",
     "output_type": "stream",
     "text": [
      "wandb: \n",
      "wandb: Plotting RandomForestClassifier.\n",
      "Traceback (most recent call last):\n",
      "  File \"C:\\Users\\harsh\\AppData\\Local\\Temp\\ipykernel_18532\\2640226391.py\", line 44, in train_rf_model\n",
      "    wandb.sklearn.plot_classifier(model, X_train, X_test, y_train, y_test, y_preds, y_probas, labels=None,\n",
      "  File \"c:\\Users\\harsh\\anaconda3\\envs\\truck-delay\\lib\\site-packages\\wandb\\sklearn\\plot\\classifier.py\", line 82, in classifier\n",
      "    feature_importances(model, feature_names)\n",
      "  File \"c:\\Users\\harsh\\anaconda3\\envs\\truck-delay\\lib\\site-packages\\wandb\\sklearn\\plot\\classifier.py\", line 250, in feature_importances\n",
      "    wandb.log({\"feature_importances\": feature_importance_chart})\n",
      "  File \"c:\\Users\\harsh\\anaconda3\\envs\\truck-delay\\lib\\site-packages\\wandb\\sdk\\wandb_run.py\", line 420, in wrapper\n",
      "    return func(self, *args, **kwargs)\n",
      "  File \"c:\\Users\\harsh\\anaconda3\\envs\\truck-delay\\lib\\site-packages\\wandb\\sdk\\wandb_run.py\", line 371, in wrapper_fn\n",
      "    return func(self, *args, **kwargs)\n",
      "  File \"c:\\Users\\harsh\\anaconda3\\envs\\truck-delay\\lib\\site-packages\\wandb\\sdk\\wandb_run.py\", line 361, in wrapper\n",
      "    return func(self, *args, **kwargs)\n",
      "  File \"c:\\Users\\harsh\\anaconda3\\envs\\truck-delay\\lib\\site-packages\\wandb\\sdk\\wandb_run.py\", line 1820, in log\n",
      "    self._log(data=data, step=step, commit=commit)\n",
      "  File \"c:\\Users\\harsh\\anaconda3\\envs\\truck-delay\\lib\\site-packages\\wandb\\sdk\\wandb_run.py\", line 1595, in _log\n",
      "    self._partial_history_callback(data, step, commit)\n",
      "  File \"c:\\Users\\harsh\\anaconda3\\envs\\truck-delay\\lib\\site-packages\\wandb\\sdk\\wandb_run.py\", line 1467, in _partial_history_callback\n",
      "    self._backend.interface.publish_partial_history(\n",
      "  File \"c:\\Users\\harsh\\anaconda3\\envs\\truck-delay\\lib\\site-packages\\wandb\\sdk\\interface\\interface.py\", line 549, in publish_partial_history\n",
      "    data = history_dict_to_json(run, data, step=user_step, ignore_copy_err=True)\n",
      "  File \"c:\\Users\\harsh\\anaconda3\\envs\\truck-delay\\lib\\site-packages\\wandb\\sdk\\data_types\\utils.py\", line 52, in history_dict_to_json\n",
      "    payload[key] = val_to_json(\n",
      "  File \"c:\\Users\\harsh\\anaconda3\\envs\\truck-delay\\lib\\site-packages\\wandb\\sdk\\data_types\\utils.py\", line 164, in val_to_json\n",
      "    val.bind_to_run(run, key, namespace)\n",
      "  File \"c:\\Users\\harsh\\anaconda3\\envs\\truck-delay\\lib\\site-packages\\wandb\\data_types.py\", line 541, in bind_to_run\n",
      "    with codecs.open(tmp_path, \"w\", encoding=\"utf-8\") as fp:\n",
      "  File \"c:\\Users\\harsh\\anaconda3\\envs\\truck-delay\\lib\\codecs.py\", line 905, in open\n",
      "    file = builtins.open(filename, mode, buffering)\n",
      "FileNotFoundError: [Errno 2] No such file or directory: 'C:\\\\Users\\\\harsh\\\\AppData\\\\Local\\\\Temp\\\\tmpqphwv_07wandb-media\\\\zy5fsxh4.table.json'\n"
     ]
    },
    {
     "name": "stdout",
     "output_type": "stream",
     "text": [
      "2024-08-05 17:55:34,159 WARNING: DeprecationWarning: Importing display from IPython.core.display is deprecated since IPython 7.14, please import from IPython display\n",
      "\n"
     ]
    },
    {
     "data": {
      "application/vnd.jupyter.widget-view+json": {
       "model_id": "93d45e792df24e2aa1535635651e7360",
       "version_major": 2,
       "version_minor": 0
      },
      "text/plain": [
       "VBox(children=(Label(value='0.010 MB of 0.010 MB uploaded\\r'), FloatProgress(value=1.0, max=1.0)))"
      ]
     },
     "metadata": {},
     "output_type": "display_data"
    },
    {
     "name": "stdout",
     "output_type": "stream",
     "text": [
      "2024-08-05 17:55:37,448 WARNING: DeprecationWarning: Importing display from IPython.core.display is deprecated since IPython 7.14, please import from IPython display\n",
      "\n"
     ]
    },
    {
     "data": {
      "text/html": [
       "<style>\n",
       "    table.wandb td:nth-child(1) { padding: 0 10px; text-align: left ; width: auto;} td:nth-child(2) {text-align: left ; width: 100%}\n",
       "    .wandb-row { display: flex; flex-direction: row; flex-wrap: wrap; justify-content: flex-start; width: 100% }\n",
       "    .wandb-col { display: flex; flex-direction: column; flex-basis: 100%; flex: 1; padding: 10px; }\n",
       "    </style>\n",
       "<div class=\"wandb-row\"><div class=\"wandb-col\"><h3>Run history:</h3><br/><table class=\"wandb\"><tr><td>f1_score</td><td>▁</td></tr><tr><td>f1_score_train</td><td>▁</td></tr><tr><td>f1_score_valid</td><td>▁</td></tr></table><br/></div><div class=\"wandb-col\"><h3>Run summary:</h3><br/><table class=\"wandb\"><tr><td>f1_score</td><td>0.70197</td></tr><tr><td>f1_score_train</td><td>0.76462</td></tr><tr><td>f1_score_valid</td><td>0.6129</td></tr></table><br/></div></div>"
      ],
      "text/plain": [
       "<IPython.core.display.HTML object>"
      ]
     },
     "metadata": {},
     "output_type": "display_data"
    },
    {
     "data": {
      "text/html": [
       " View run <strong style=\"color:#cdcd00\">fragrant-sweep-61</strong> at: <a href='https://wandb.ai/harshmp/truck-delay-classification/runs/dhe29y16' target=\"_blank\">https://wandb.ai/harshmp/truck-delay-classification/runs/dhe29y16</a><br/>Synced 5 W&B file(s), 0 media file(s), 1 artifact file(s) and 0 other file(s)"
      ],
      "text/plain": [
       "<IPython.core.display.HTML object>"
      ]
     },
     "metadata": {},
     "output_type": "display_data"
    },
    {
     "data": {
      "text/html": [
       "Find logs at: <code>.\\wandb\\run-20240805_175526-dhe29y16\\logs</code>"
      ],
      "text/plain": [
       "<IPython.core.display.HTML object>"
      ]
     },
     "metadata": {},
     "output_type": "display_data"
    },
    {
     "name": "stderr",
     "output_type": "stream",
     "text": [
      "Run dhe29y16 errored: FileNotFoundError(2, 'No such file or directory')\n",
      "wandb: ERROR Run dhe29y16 errored: FileNotFoundError(2, 'No such file or directory')\n",
      "wandb: Agent Starting Run: hbblo5s9 with config:\n",
      "wandb: \tmax_depth: 15\n",
      "wandb: \tmin_samples_split: 12\n",
      "wandb: \tn_estimators: 12\n",
      "Failed to detect the name of this notebook, you can set it manually with the WANDB_NOTEBOOK_NAME environment variable to enable code saving.\n",
      "wandb: WARNING Ignored wandb.init() arg project when running a sweep.\n"
     ]
    },
    {
     "data": {
      "text/html": [
       "wandb version 0.17.5 is available!  To upgrade, please run:\n",
       " $ pip install wandb --upgrade"
      ],
      "text/plain": [
       "<IPython.core.display.HTML object>"
      ]
     },
     "metadata": {},
     "output_type": "display_data"
    },
    {
     "data": {
      "text/html": [
       "Tracking run with wandb version 0.16.1"
      ],
      "text/plain": [
       "<IPython.core.display.HTML object>"
      ]
     },
     "metadata": {},
     "output_type": "display_data"
    },
    {
     "data": {
      "text/html": [
       "Run data is saved locally in <code>e:\\Artificial Intelligence\\Projects\\Predictive-Truck-Delay-Management-in-Logistics\\wandb\\run-20240805_175543-hbblo5s9</code>"
      ],
      "text/plain": [
       "<IPython.core.display.HTML object>"
      ]
     },
     "metadata": {},
     "output_type": "display_data"
    },
    {
     "data": {
      "text/html": [
       "Syncing run <strong><a href='https://wandb.ai/harshmp/truck-delay-classification/runs/hbblo5s9' target=\"_blank\">fresh-sweep-62</a></strong> to <a href='https://wandb.ai/harshmp/truck-delay-classification' target=\"_blank\">Weights & Biases</a> (<a href='https://wandb.me/run' target=\"_blank\">docs</a>)<br/>Sweep page: <a href='https://wandb.ai/harshmp/truck-delay-classification/sweeps/20442i5p' target=\"_blank\">https://wandb.ai/harshmp/truck-delay-classification/sweeps/20442i5p</a>"
      ],
      "text/plain": [
       "<IPython.core.display.HTML object>"
      ]
     },
     "metadata": {},
     "output_type": "display_data"
    },
    {
     "data": {
      "text/html": [
       " View project at <a href='https://wandb.ai/harshmp/truck-delay-classification' target=\"_blank\">https://wandb.ai/harshmp/truck-delay-classification</a>"
      ],
      "text/plain": [
       "<IPython.core.display.HTML object>"
      ]
     },
     "metadata": {},
     "output_type": "display_data"
    },
    {
     "data": {
      "text/html": [
       " View sweep at <a href='https://wandb.ai/harshmp/truck-delay-classification/sweeps/20442i5p' target=\"_blank\">https://wandb.ai/harshmp/truck-delay-classification/sweeps/20442i5p</a>"
      ],
      "text/plain": [
       "<IPython.core.display.HTML object>"
      ]
     },
     "metadata": {},
     "output_type": "display_data"
    },
    {
     "data": {
      "text/html": [
       " View run at <a href='https://wandb.ai/harshmp/truck-delay-classification/runs/hbblo5s9' target=\"_blank\">https://wandb.ai/harshmp/truck-delay-classification/runs/hbblo5s9</a>"
      ],
      "text/plain": [
       "<IPython.core.display.HTML object>"
      ]
     },
     "metadata": {},
     "output_type": "display_data"
    },
    {
     "name": "stdout",
     "output_type": "stream",
     "text": [
      "F1_score Train: 0.7755\n",
      "F1_score Valid: 0.6211\n",
      "F1_score Test: 0.7129\n"
     ]
    },
    {
     "name": "stderr",
     "output_type": "stream",
     "text": [
      "wandb: \n",
      "wandb: Plotting RandomForestClassifier.\n",
      "Traceback (most recent call last):\n",
      "  File \"C:\\Users\\harsh\\AppData\\Local\\Temp\\ipykernel_18532\\2640226391.py\", line 44, in train_rf_model\n",
      "    wandb.sklearn.plot_classifier(model, X_train, X_test, y_train, y_test, y_preds, y_probas, labels=None,\n",
      "  File \"c:\\Users\\harsh\\anaconda3\\envs\\truck-delay\\lib\\site-packages\\wandb\\sklearn\\plot\\classifier.py\", line 82, in classifier\n",
      "    feature_importances(model, feature_names)\n",
      "  File \"c:\\Users\\harsh\\anaconda3\\envs\\truck-delay\\lib\\site-packages\\wandb\\sklearn\\plot\\classifier.py\", line 250, in feature_importances\n",
      "    wandb.log({\"feature_importances\": feature_importance_chart})\n",
      "  File \"c:\\Users\\harsh\\anaconda3\\envs\\truck-delay\\lib\\site-packages\\wandb\\sdk\\wandb_run.py\", line 420, in wrapper\n",
      "    return func(self, *args, **kwargs)\n",
      "  File \"c:\\Users\\harsh\\anaconda3\\envs\\truck-delay\\lib\\site-packages\\wandb\\sdk\\wandb_run.py\", line 371, in wrapper_fn\n",
      "    return func(self, *args, **kwargs)\n",
      "  File \"c:\\Users\\harsh\\anaconda3\\envs\\truck-delay\\lib\\site-packages\\wandb\\sdk\\wandb_run.py\", line 361, in wrapper\n",
      "    return func(self, *args, **kwargs)\n",
      "  File \"c:\\Users\\harsh\\anaconda3\\envs\\truck-delay\\lib\\site-packages\\wandb\\sdk\\wandb_run.py\", line 1820, in log\n",
      "    self._log(data=data, step=step, commit=commit)\n",
      "  File \"c:\\Users\\harsh\\anaconda3\\envs\\truck-delay\\lib\\site-packages\\wandb\\sdk\\wandb_run.py\", line 1595, in _log\n",
      "    self._partial_history_callback(data, step, commit)\n",
      "  File \"c:\\Users\\harsh\\anaconda3\\envs\\truck-delay\\lib\\site-packages\\wandb\\sdk\\wandb_run.py\", line 1467, in _partial_history_callback\n",
      "    self._backend.interface.publish_partial_history(\n",
      "  File \"c:\\Users\\harsh\\anaconda3\\envs\\truck-delay\\lib\\site-packages\\wandb\\sdk\\interface\\interface.py\", line 549, in publish_partial_history\n",
      "    data = history_dict_to_json(run, data, step=user_step, ignore_copy_err=True)\n",
      "  File \"c:\\Users\\harsh\\anaconda3\\envs\\truck-delay\\lib\\site-packages\\wandb\\sdk\\data_types\\utils.py\", line 52, in history_dict_to_json\n",
      "    payload[key] = val_to_json(\n",
      "  File \"c:\\Users\\harsh\\anaconda3\\envs\\truck-delay\\lib\\site-packages\\wandb\\sdk\\data_types\\utils.py\", line 164, in val_to_json\n",
      "    val.bind_to_run(run, key, namespace)\n",
      "  File \"c:\\Users\\harsh\\anaconda3\\envs\\truck-delay\\lib\\site-packages\\wandb\\data_types.py\", line 541, in bind_to_run\n",
      "    with codecs.open(tmp_path, \"w\", encoding=\"utf-8\") as fp:\n",
      "  File \"c:\\Users\\harsh\\anaconda3\\envs\\truck-delay\\lib\\codecs.py\", line 905, in open\n",
      "    file = builtins.open(filename, mode, buffering)\n",
      "FileNotFoundError: [Errno 2] No such file or directory: 'C:\\\\Users\\\\harsh\\\\AppData\\\\Local\\\\Temp\\\\tmpqphwv_07wandb-media\\\\93yqa21w.table.json'\n"
     ]
    },
    {
     "name": "stdout",
     "output_type": "stream",
     "text": [
      "2024-08-05 17:55:47,856 WARNING: DeprecationWarning: Importing display from IPython.core.display is deprecated since IPython 7.14, please import from IPython display\n",
      "\n"
     ]
    },
    {
     "data": {
      "application/vnd.jupyter.widget-view+json": {
       "model_id": "d1a358e6bf9d40da8add69f957f19d21",
       "version_major": 2,
       "version_minor": 0
      },
      "text/plain": [
       "VBox(children=(Label(value='0.010 MB of 0.010 MB uploaded\\r'), FloatProgress(value=1.0, max=1.0)))"
      ]
     },
     "metadata": {},
     "output_type": "display_data"
    },
    {
     "name": "stdout",
     "output_type": "stream",
     "text": [
      "2024-08-05 17:55:51,846 WARNING: DeprecationWarning: Importing display from IPython.core.display is deprecated since IPython 7.14, please import from IPython display\n",
      "\n"
     ]
    },
    {
     "data": {
      "text/html": [
       "<style>\n",
       "    table.wandb td:nth-child(1) { padding: 0 10px; text-align: left ; width: auto;} td:nth-child(2) {text-align: left ; width: 100%}\n",
       "    .wandb-row { display: flex; flex-direction: row; flex-wrap: wrap; justify-content: flex-start; width: 100% }\n",
       "    .wandb-col { display: flex; flex-direction: column; flex-basis: 100%; flex: 1; padding: 10px; }\n",
       "    </style>\n",
       "<div class=\"wandb-row\"><div class=\"wandb-col\"><h3>Run history:</h3><br/><table class=\"wandb\"><tr><td>f1_score</td><td>▁</td></tr><tr><td>f1_score_train</td><td>▁</td></tr><tr><td>f1_score_valid</td><td>▁</td></tr></table><br/></div><div class=\"wandb-col\"><h3>Run summary:</h3><br/><table class=\"wandb\"><tr><td>f1_score</td><td>0.7129</td></tr><tr><td>f1_score_train</td><td>0.77553</td></tr><tr><td>f1_score_valid</td><td>0.62105</td></tr></table><br/></div></div>"
      ],
      "text/plain": [
       "<IPython.core.display.HTML object>"
      ]
     },
     "metadata": {},
     "output_type": "display_data"
    },
    {
     "data": {
      "text/html": [
       " View run <strong style=\"color:#cdcd00\">fresh-sweep-62</strong> at: <a href='https://wandb.ai/harshmp/truck-delay-classification/runs/hbblo5s9' target=\"_blank\">https://wandb.ai/harshmp/truck-delay-classification/runs/hbblo5s9</a><br/>Synced 5 W&B file(s), 0 media file(s), 1 artifact file(s) and 0 other file(s)"
      ],
      "text/plain": [
       "<IPython.core.display.HTML object>"
      ]
     },
     "metadata": {},
     "output_type": "display_data"
    },
    {
     "data": {
      "text/html": [
       "Find logs at: <code>.\\wandb\\run-20240805_175543-hbblo5s9\\logs</code>"
      ],
      "text/plain": [
       "<IPython.core.display.HTML object>"
      ]
     },
     "metadata": {},
     "output_type": "display_data"
    },
    {
     "name": "stderr",
     "output_type": "stream",
     "text": [
      "Run hbblo5s9 errored: FileNotFoundError(2, 'No such file or directory')\n",
      "wandb: ERROR Run hbblo5s9 errored: FileNotFoundError(2, 'No such file or directory')\n",
      "wandb: Agent Starting Run: aom2eyg3 with config:\n",
      "wandb: \tmax_depth: 15\n",
      "wandb: \tmin_samples_split: 12\n",
      "wandb: \tn_estimators: 16\n",
      "Failed to detect the name of this notebook, you can set it manually with the WANDB_NOTEBOOK_NAME environment variable to enable code saving.\n",
      "wandb: WARNING Ignored wandb.init() arg project when running a sweep.\n"
     ]
    },
    {
     "data": {
      "text/html": [
       "wandb version 0.17.5 is available!  To upgrade, please run:\n",
       " $ pip install wandb --upgrade"
      ],
      "text/plain": [
       "<IPython.core.display.HTML object>"
      ]
     },
     "metadata": {},
     "output_type": "display_data"
    },
    {
     "data": {
      "text/html": [
       "Tracking run with wandb version 0.16.1"
      ],
      "text/plain": [
       "<IPython.core.display.HTML object>"
      ]
     },
     "metadata": {},
     "output_type": "display_data"
    },
    {
     "data": {
      "text/html": [
       "Run data is saved locally in <code>e:\\Artificial Intelligence\\Projects\\Predictive-Truck-Delay-Management-in-Logistics\\wandb\\run-20240805_175558-aom2eyg3</code>"
      ],
      "text/plain": [
       "<IPython.core.display.HTML object>"
      ]
     },
     "metadata": {},
     "output_type": "display_data"
    },
    {
     "data": {
      "text/html": [
       "Syncing run <strong><a href='https://wandb.ai/harshmp/truck-delay-classification/runs/aom2eyg3' target=\"_blank\">celestial-sweep-63</a></strong> to <a href='https://wandb.ai/harshmp/truck-delay-classification' target=\"_blank\">Weights & Biases</a> (<a href='https://wandb.me/run' target=\"_blank\">docs</a>)<br/>Sweep page: <a href='https://wandb.ai/harshmp/truck-delay-classification/sweeps/20442i5p' target=\"_blank\">https://wandb.ai/harshmp/truck-delay-classification/sweeps/20442i5p</a>"
      ],
      "text/plain": [
       "<IPython.core.display.HTML object>"
      ]
     },
     "metadata": {},
     "output_type": "display_data"
    },
    {
     "data": {
      "text/html": [
       " View project at <a href='https://wandb.ai/harshmp/truck-delay-classification' target=\"_blank\">https://wandb.ai/harshmp/truck-delay-classification</a>"
      ],
      "text/plain": [
       "<IPython.core.display.HTML object>"
      ]
     },
     "metadata": {},
     "output_type": "display_data"
    },
    {
     "data": {
      "text/html": [
       " View sweep at <a href='https://wandb.ai/harshmp/truck-delay-classification/sweeps/20442i5p' target=\"_blank\">https://wandb.ai/harshmp/truck-delay-classification/sweeps/20442i5p</a>"
      ],
      "text/plain": [
       "<IPython.core.display.HTML object>"
      ]
     },
     "metadata": {},
     "output_type": "display_data"
    },
    {
     "data": {
      "text/html": [
       " View run at <a href='https://wandb.ai/harshmp/truck-delay-classification/runs/aom2eyg3' target=\"_blank\">https://wandb.ai/harshmp/truck-delay-classification/runs/aom2eyg3</a>"
      ],
      "text/plain": [
       "<IPython.core.display.HTML object>"
      ]
     },
     "metadata": {},
     "output_type": "display_data"
    },
    {
     "name": "stdout",
     "output_type": "stream",
     "text": [
      "F1_score Train: 0.7889\n",
      "F1_score Valid: 0.6316\n",
      "F1_score Test: 0.7249\n"
     ]
    },
    {
     "name": "stderr",
     "output_type": "stream",
     "text": [
      "wandb: \n",
      "wandb: Plotting RandomForestClassifier.\n",
      "Traceback (most recent call last):\n",
      "  File \"C:\\Users\\harsh\\AppData\\Local\\Temp\\ipykernel_18532\\2640226391.py\", line 44, in train_rf_model\n",
      "    wandb.sklearn.plot_classifier(model, X_train, X_test, y_train, y_test, y_preds, y_probas, labels=None,\n",
      "  File \"c:\\Users\\harsh\\anaconda3\\envs\\truck-delay\\lib\\site-packages\\wandb\\sklearn\\plot\\classifier.py\", line 82, in classifier\n",
      "    feature_importances(model, feature_names)\n",
      "  File \"c:\\Users\\harsh\\anaconda3\\envs\\truck-delay\\lib\\site-packages\\wandb\\sklearn\\plot\\classifier.py\", line 250, in feature_importances\n",
      "    wandb.log({\"feature_importances\": feature_importance_chart})\n",
      "  File \"c:\\Users\\harsh\\anaconda3\\envs\\truck-delay\\lib\\site-packages\\wandb\\sdk\\wandb_run.py\", line 420, in wrapper\n",
      "    return func(self, *args, **kwargs)\n",
      "  File \"c:\\Users\\harsh\\anaconda3\\envs\\truck-delay\\lib\\site-packages\\wandb\\sdk\\wandb_run.py\", line 371, in wrapper_fn\n",
      "    return func(self, *args, **kwargs)\n",
      "  File \"c:\\Users\\harsh\\anaconda3\\envs\\truck-delay\\lib\\site-packages\\wandb\\sdk\\wandb_run.py\", line 361, in wrapper\n",
      "    return func(self, *args, **kwargs)\n",
      "  File \"c:\\Users\\harsh\\anaconda3\\envs\\truck-delay\\lib\\site-packages\\wandb\\sdk\\wandb_run.py\", line 1820, in log\n",
      "    self._log(data=data, step=step, commit=commit)\n",
      "  File \"c:\\Users\\harsh\\anaconda3\\envs\\truck-delay\\lib\\site-packages\\wandb\\sdk\\wandb_run.py\", line 1595, in _log\n",
      "    self._partial_history_callback(data, step, commit)\n",
      "  File \"c:\\Users\\harsh\\anaconda3\\envs\\truck-delay\\lib\\site-packages\\wandb\\sdk\\wandb_run.py\", line 1467, in _partial_history_callback\n",
      "    self._backend.interface.publish_partial_history(\n",
      "  File \"c:\\Users\\harsh\\anaconda3\\envs\\truck-delay\\lib\\site-packages\\wandb\\sdk\\interface\\interface.py\", line 549, in publish_partial_history\n",
      "    data = history_dict_to_json(run, data, step=user_step, ignore_copy_err=True)\n",
      "  File \"c:\\Users\\harsh\\anaconda3\\envs\\truck-delay\\lib\\site-packages\\wandb\\sdk\\data_types\\utils.py\", line 52, in history_dict_to_json\n",
      "    payload[key] = val_to_json(\n",
      "  File \"c:\\Users\\harsh\\anaconda3\\envs\\truck-delay\\lib\\site-packages\\wandb\\sdk\\data_types\\utils.py\", line 164, in val_to_json\n",
      "    val.bind_to_run(run, key, namespace)\n",
      "  File \"c:\\Users\\harsh\\anaconda3\\envs\\truck-delay\\lib\\site-packages\\wandb\\data_types.py\", line 541, in bind_to_run\n",
      "    with codecs.open(tmp_path, \"w\", encoding=\"utf-8\") as fp:\n",
      "  File \"c:\\Users\\harsh\\anaconda3\\envs\\truck-delay\\lib\\codecs.py\", line 905, in open\n",
      "    file = builtins.open(filename, mode, buffering)\n",
      "FileNotFoundError: [Errno 2] No such file or directory: 'C:\\\\Users\\\\harsh\\\\AppData\\\\Local\\\\Temp\\\\tmpqphwv_07wandb-media\\\\aerjzpfo.table.json'\n"
     ]
    },
    {
     "name": "stdout",
     "output_type": "stream",
     "text": [
      "2024-08-05 17:56:05,036 WARNING: DeprecationWarning: Importing display from IPython.core.display is deprecated since IPython 7.14, please import from IPython display\n",
      "\n"
     ]
    },
    {
     "data": {
      "application/vnd.jupyter.widget-view+json": {
       "model_id": "2b6454d514f34e41bc1b693818627911",
       "version_major": 2,
       "version_minor": 0
      },
      "text/plain": [
       "VBox(children=(Label(value='0.010 MB of 0.010 MB uploaded\\r'), FloatProgress(value=1.0, max=1.0)))"
      ]
     },
     "metadata": {},
     "output_type": "display_data"
    },
    {
     "name": "stdout",
     "output_type": "stream",
     "text": [
      "2024-08-05 17:56:09,422 WARNING: DeprecationWarning: Importing display from IPython.core.display is deprecated since IPython 7.14, please import from IPython display\n",
      "\n"
     ]
    },
    {
     "data": {
      "text/html": [
       "<style>\n",
       "    table.wandb td:nth-child(1) { padding: 0 10px; text-align: left ; width: auto;} td:nth-child(2) {text-align: left ; width: 100%}\n",
       "    .wandb-row { display: flex; flex-direction: row; flex-wrap: wrap; justify-content: flex-start; width: 100% }\n",
       "    .wandb-col { display: flex; flex-direction: column; flex-basis: 100%; flex: 1; padding: 10px; }\n",
       "    </style>\n",
       "<div class=\"wandb-row\"><div class=\"wandb-col\"><h3>Run history:</h3><br/><table class=\"wandb\"><tr><td>f1_score</td><td>▁</td></tr><tr><td>f1_score_train</td><td>▁</td></tr><tr><td>f1_score_valid</td><td>▁</td></tr></table><br/></div><div class=\"wandb-col\"><h3>Run summary:</h3><br/><table class=\"wandb\"><tr><td>f1_score</td><td>0.72488</td></tr><tr><td>f1_score_train</td><td>0.78885</td></tr><tr><td>f1_score_valid</td><td>0.63165</td></tr></table><br/></div></div>"
      ],
      "text/plain": [
       "<IPython.core.display.HTML object>"
      ]
     },
     "metadata": {},
     "output_type": "display_data"
    },
    {
     "data": {
      "text/html": [
       " View run <strong style=\"color:#cdcd00\">celestial-sweep-63</strong> at: <a href='https://wandb.ai/harshmp/truck-delay-classification/runs/aom2eyg3' target=\"_blank\">https://wandb.ai/harshmp/truck-delay-classification/runs/aom2eyg3</a><br/>Synced 5 W&B file(s), 0 media file(s), 1 artifact file(s) and 0 other file(s)"
      ],
      "text/plain": [
       "<IPython.core.display.HTML object>"
      ]
     },
     "metadata": {},
     "output_type": "display_data"
    },
    {
     "data": {
      "text/html": [
       "Find logs at: <code>.\\wandb\\run-20240805_175558-aom2eyg3\\logs</code>"
      ],
      "text/plain": [
       "<IPython.core.display.HTML object>"
      ]
     },
     "metadata": {},
     "output_type": "display_data"
    },
    {
     "name": "stderr",
     "output_type": "stream",
     "text": [
      "Run aom2eyg3 errored: FileNotFoundError(2, 'No such file or directory')\n",
      "wandb: ERROR Run aom2eyg3 errored: FileNotFoundError(2, 'No such file or directory')\n",
      "wandb: Agent Starting Run: orner6sm with config:\n",
      "wandb: \tmax_depth: 15\n",
      "wandb: \tmin_samples_split: 12\n",
      "wandb: \tn_estimators: 20\n",
      "Failed to detect the name of this notebook, you can set it manually with the WANDB_NOTEBOOK_NAME environment variable to enable code saving.\n",
      "wandb: WARNING Ignored wandb.init() arg project when running a sweep.\n"
     ]
    },
    {
     "data": {
      "text/html": [
       "wandb version 0.17.5 is available!  To upgrade, please run:\n",
       " $ pip install wandb --upgrade"
      ],
      "text/plain": [
       "<IPython.core.display.HTML object>"
      ]
     },
     "metadata": {},
     "output_type": "display_data"
    },
    {
     "data": {
      "text/html": [
       "Tracking run with wandb version 0.16.1"
      ],
      "text/plain": [
       "<IPython.core.display.HTML object>"
      ]
     },
     "metadata": {},
     "output_type": "display_data"
    },
    {
     "data": {
      "text/html": [
       "Run data is saved locally in <code>e:\\Artificial Intelligence\\Projects\\Predictive-Truck-Delay-Management-in-Logistics\\wandb\\run-20240805_175615-orner6sm</code>"
      ],
      "text/plain": [
       "<IPython.core.display.HTML object>"
      ]
     },
     "metadata": {},
     "output_type": "display_data"
    },
    {
     "data": {
      "text/html": [
       "Syncing run <strong><a href='https://wandb.ai/harshmp/truck-delay-classification/runs/orner6sm' target=\"_blank\">stilted-sweep-64</a></strong> to <a href='https://wandb.ai/harshmp/truck-delay-classification' target=\"_blank\">Weights & Biases</a> (<a href='https://wandb.me/run' target=\"_blank\">docs</a>)<br/>Sweep page: <a href='https://wandb.ai/harshmp/truck-delay-classification/sweeps/20442i5p' target=\"_blank\">https://wandb.ai/harshmp/truck-delay-classification/sweeps/20442i5p</a>"
      ],
      "text/plain": [
       "<IPython.core.display.HTML object>"
      ]
     },
     "metadata": {},
     "output_type": "display_data"
    },
    {
     "data": {
      "text/html": [
       " View project at <a href='https://wandb.ai/harshmp/truck-delay-classification' target=\"_blank\">https://wandb.ai/harshmp/truck-delay-classification</a>"
      ],
      "text/plain": [
       "<IPython.core.display.HTML object>"
      ]
     },
     "metadata": {},
     "output_type": "display_data"
    },
    {
     "data": {
      "text/html": [
       " View sweep at <a href='https://wandb.ai/harshmp/truck-delay-classification/sweeps/20442i5p' target=\"_blank\">https://wandb.ai/harshmp/truck-delay-classification/sweeps/20442i5p</a>"
      ],
      "text/plain": [
       "<IPython.core.display.HTML object>"
      ]
     },
     "metadata": {},
     "output_type": "display_data"
    },
    {
     "data": {
      "text/html": [
       " View run at <a href='https://wandb.ai/harshmp/truck-delay-classification/runs/orner6sm' target=\"_blank\">https://wandb.ai/harshmp/truck-delay-classification/runs/orner6sm</a>"
      ],
      "text/plain": [
       "<IPython.core.display.HTML object>"
      ]
     },
     "metadata": {},
     "output_type": "display_data"
    },
    {
     "name": "stdout",
     "output_type": "stream",
     "text": [
      "F1_score Train: 0.7989\n",
      "F1_score Valid: 0.6397\n",
      "F1_score Test: 0.7349\n"
     ]
    },
    {
     "name": "stderr",
     "output_type": "stream",
     "text": [
      "wandb: \n",
      "wandb: Plotting RandomForestClassifier.\n",
      "Traceback (most recent call last):\n",
      "  File \"C:\\Users\\harsh\\AppData\\Local\\Temp\\ipykernel_18532\\2640226391.py\", line 44, in train_rf_model\n",
      "    wandb.sklearn.plot_classifier(model, X_train, X_test, y_train, y_test, y_preds, y_probas, labels=None,\n",
      "  File \"c:\\Users\\harsh\\anaconda3\\envs\\truck-delay\\lib\\site-packages\\wandb\\sklearn\\plot\\classifier.py\", line 82, in classifier\n",
      "    feature_importances(model, feature_names)\n",
      "  File \"c:\\Users\\harsh\\anaconda3\\envs\\truck-delay\\lib\\site-packages\\wandb\\sklearn\\plot\\classifier.py\", line 250, in feature_importances\n",
      "    wandb.log({\"feature_importances\": feature_importance_chart})\n",
      "  File \"c:\\Users\\harsh\\anaconda3\\envs\\truck-delay\\lib\\site-packages\\wandb\\sdk\\wandb_run.py\", line 420, in wrapper\n",
      "    return func(self, *args, **kwargs)\n",
      "  File \"c:\\Users\\harsh\\anaconda3\\envs\\truck-delay\\lib\\site-packages\\wandb\\sdk\\wandb_run.py\", line 371, in wrapper_fn\n",
      "    return func(self, *args, **kwargs)\n",
      "  File \"c:\\Users\\harsh\\anaconda3\\envs\\truck-delay\\lib\\site-packages\\wandb\\sdk\\wandb_run.py\", line 361, in wrapper\n",
      "    return func(self, *args, **kwargs)\n",
      "  File \"c:\\Users\\harsh\\anaconda3\\envs\\truck-delay\\lib\\site-packages\\wandb\\sdk\\wandb_run.py\", line 1820, in log\n",
      "    self._log(data=data, step=step, commit=commit)\n",
      "  File \"c:\\Users\\harsh\\anaconda3\\envs\\truck-delay\\lib\\site-packages\\wandb\\sdk\\wandb_run.py\", line 1595, in _log\n",
      "    self._partial_history_callback(data, step, commit)\n",
      "  File \"c:\\Users\\harsh\\anaconda3\\envs\\truck-delay\\lib\\site-packages\\wandb\\sdk\\wandb_run.py\", line 1467, in _partial_history_callback\n",
      "    self._backend.interface.publish_partial_history(\n",
      "  File \"c:\\Users\\harsh\\anaconda3\\envs\\truck-delay\\lib\\site-packages\\wandb\\sdk\\interface\\interface.py\", line 549, in publish_partial_history\n",
      "    data = history_dict_to_json(run, data, step=user_step, ignore_copy_err=True)\n",
      "  File \"c:\\Users\\harsh\\anaconda3\\envs\\truck-delay\\lib\\site-packages\\wandb\\sdk\\data_types\\utils.py\", line 52, in history_dict_to_json\n",
      "    payload[key] = val_to_json(\n",
      "  File \"c:\\Users\\harsh\\anaconda3\\envs\\truck-delay\\lib\\site-packages\\wandb\\sdk\\data_types\\utils.py\", line 164, in val_to_json\n",
      "    val.bind_to_run(run, key, namespace)\n",
      "  File \"c:\\Users\\harsh\\anaconda3\\envs\\truck-delay\\lib\\site-packages\\wandb\\data_types.py\", line 541, in bind_to_run\n",
      "    with codecs.open(tmp_path, \"w\", encoding=\"utf-8\") as fp:\n",
      "  File \"c:\\Users\\harsh\\anaconda3\\envs\\truck-delay\\lib\\codecs.py\", line 905, in open\n",
      "    file = builtins.open(filename, mode, buffering)\n",
      "FileNotFoundError: [Errno 2] No such file or directory: 'C:\\\\Users\\\\harsh\\\\AppData\\\\Local\\\\Temp\\\\tmpqphwv_07wandb-media\\\\zdlpnsz2.table.json'\n"
     ]
    },
    {
     "name": "stdout",
     "output_type": "stream",
     "text": [
      "2024-08-05 17:56:19,741 WARNING: DeprecationWarning: Importing display from IPython.core.display is deprecated since IPython 7.14, please import from IPython display\n",
      "\n"
     ]
    },
    {
     "data": {
      "application/vnd.jupyter.widget-view+json": {
       "model_id": "8859b588ece64c668514747312089daa",
       "version_major": 2,
       "version_minor": 0
      },
      "text/plain": [
       "VBox(children=(Label(value='0.010 MB of 0.010 MB uploaded\\r'), FloatProgress(value=1.0, max=1.0)))"
      ]
     },
     "metadata": {},
     "output_type": "display_data"
    },
    {
     "name": "stdout",
     "output_type": "stream",
     "text": [
      "2024-08-05 17:56:23,866 WARNING: DeprecationWarning: Importing display from IPython.core.display is deprecated since IPython 7.14, please import from IPython display\n",
      "\n"
     ]
    },
    {
     "data": {
      "text/html": [
       "<style>\n",
       "    table.wandb td:nth-child(1) { padding: 0 10px; text-align: left ; width: auto;} td:nth-child(2) {text-align: left ; width: 100%}\n",
       "    .wandb-row { display: flex; flex-direction: row; flex-wrap: wrap; justify-content: flex-start; width: 100% }\n",
       "    .wandb-col { display: flex; flex-direction: column; flex-basis: 100%; flex: 1; padding: 10px; }\n",
       "    </style>\n",
       "<div class=\"wandb-row\"><div class=\"wandb-col\"><h3>Run history:</h3><br/><table class=\"wandb\"><tr><td>f1_score</td><td>▁</td></tr><tr><td>f1_score_train</td><td>▁</td></tr><tr><td>f1_score_valid</td><td>▁</td></tr></table><br/></div><div class=\"wandb-col\"><h3>Run summary:</h3><br/><table class=\"wandb\"><tr><td>f1_score</td><td>0.73495</td></tr><tr><td>f1_score_train</td><td>0.79886</td></tr><tr><td>f1_score_valid</td><td>0.63974</td></tr></table><br/></div></div>"
      ],
      "text/plain": [
       "<IPython.core.display.HTML object>"
      ]
     },
     "metadata": {},
     "output_type": "display_data"
    },
    {
     "data": {
      "text/html": [
       " View run <strong style=\"color:#cdcd00\">stilted-sweep-64</strong> at: <a href='https://wandb.ai/harshmp/truck-delay-classification/runs/orner6sm' target=\"_blank\">https://wandb.ai/harshmp/truck-delay-classification/runs/orner6sm</a><br/>Synced 5 W&B file(s), 0 media file(s), 1 artifact file(s) and 0 other file(s)"
      ],
      "text/plain": [
       "<IPython.core.display.HTML object>"
      ]
     },
     "metadata": {},
     "output_type": "display_data"
    },
    {
     "data": {
      "text/html": [
       "Find logs at: <code>.\\wandb\\run-20240805_175615-orner6sm\\logs</code>"
      ],
      "text/plain": [
       "<IPython.core.display.HTML object>"
      ]
     },
     "metadata": {},
     "output_type": "display_data"
    },
    {
     "name": "stderr",
     "output_type": "stream",
     "text": [
      "Run orner6sm errored: FileNotFoundError(2, 'No such file or directory')\n",
      "wandb: ERROR Run orner6sm errored: FileNotFoundError(2, 'No such file or directory')\n",
      "wandb: Agent Starting Run: endvfcni with config:\n",
      "wandb: \tmax_depth: 20\n",
      "wandb: \tmin_samples_split: 2\n",
      "wandb: \tn_estimators: 8\n",
      "Failed to detect the name of this notebook, you can set it manually with the WANDB_NOTEBOOK_NAME environment variable to enable code saving.\n",
      "wandb: WARNING Ignored wandb.init() arg project when running a sweep.\n"
     ]
    },
    {
     "data": {
      "text/html": [
       "wandb version 0.17.5 is available!  To upgrade, please run:\n",
       " $ pip install wandb --upgrade"
      ],
      "text/plain": [
       "<IPython.core.display.HTML object>"
      ]
     },
     "metadata": {},
     "output_type": "display_data"
    },
    {
     "data": {
      "text/html": [
       "Tracking run with wandb version 0.16.1"
      ],
      "text/plain": [
       "<IPython.core.display.HTML object>"
      ]
     },
     "metadata": {},
     "output_type": "display_data"
    },
    {
     "data": {
      "text/html": [
       "Run data is saved locally in <code>e:\\Artificial Intelligence\\Projects\\Predictive-Truck-Delay-Management-in-Logistics\\wandb\\run-20240805_175631-endvfcni</code>"
      ],
      "text/plain": [
       "<IPython.core.display.HTML object>"
      ]
     },
     "metadata": {},
     "output_type": "display_data"
    },
    {
     "data": {
      "text/html": [
       "Syncing run <strong><a href='https://wandb.ai/harshmp/truck-delay-classification/runs/endvfcni' target=\"_blank\">grateful-sweep-65</a></strong> to <a href='https://wandb.ai/harshmp/truck-delay-classification' target=\"_blank\">Weights & Biases</a> (<a href='https://wandb.me/run' target=\"_blank\">docs</a>)<br/>Sweep page: <a href='https://wandb.ai/harshmp/truck-delay-classification/sweeps/20442i5p' target=\"_blank\">https://wandb.ai/harshmp/truck-delay-classification/sweeps/20442i5p</a>"
      ],
      "text/plain": [
       "<IPython.core.display.HTML object>"
      ]
     },
     "metadata": {},
     "output_type": "display_data"
    },
    {
     "data": {
      "text/html": [
       " View project at <a href='https://wandb.ai/harshmp/truck-delay-classification' target=\"_blank\">https://wandb.ai/harshmp/truck-delay-classification</a>"
      ],
      "text/plain": [
       "<IPython.core.display.HTML object>"
      ]
     },
     "metadata": {},
     "output_type": "display_data"
    },
    {
     "data": {
      "text/html": [
       " View sweep at <a href='https://wandb.ai/harshmp/truck-delay-classification/sweeps/20442i5p' target=\"_blank\">https://wandb.ai/harshmp/truck-delay-classification/sweeps/20442i5p</a>"
      ],
      "text/plain": [
       "<IPython.core.display.HTML object>"
      ]
     },
     "metadata": {},
     "output_type": "display_data"
    },
    {
     "data": {
      "text/html": [
       " View run at <a href='https://wandb.ai/harshmp/truck-delay-classification/runs/endvfcni' target=\"_blank\">https://wandb.ai/harshmp/truck-delay-classification/runs/endvfcni</a>"
      ],
      "text/plain": [
       "<IPython.core.display.HTML object>"
      ]
     },
     "metadata": {},
     "output_type": "display_data"
    },
    {
     "name": "stdout",
     "output_type": "stream",
     "text": [
      "F1_score Train: 0.916\n",
      "F1_score Valid: 0.5051\n",
      "F1_score Test: 0.6238\n"
     ]
    },
    {
     "name": "stderr",
     "output_type": "stream",
     "text": [
      "wandb: \n",
      "wandb: Plotting RandomForestClassifier.\n",
      "Traceback (most recent call last):\n",
      "  File \"C:\\Users\\harsh\\AppData\\Local\\Temp\\ipykernel_18532\\2640226391.py\", line 44, in train_rf_model\n",
      "    wandb.sklearn.plot_classifier(model, X_train, X_test, y_train, y_test, y_preds, y_probas, labels=None,\n",
      "  File \"c:\\Users\\harsh\\anaconda3\\envs\\truck-delay\\lib\\site-packages\\wandb\\sklearn\\plot\\classifier.py\", line 82, in classifier\n",
      "    feature_importances(model, feature_names)\n",
      "  File \"c:\\Users\\harsh\\anaconda3\\envs\\truck-delay\\lib\\site-packages\\wandb\\sklearn\\plot\\classifier.py\", line 250, in feature_importances\n",
      "    wandb.log({\"feature_importances\": feature_importance_chart})\n",
      "  File \"c:\\Users\\harsh\\anaconda3\\envs\\truck-delay\\lib\\site-packages\\wandb\\sdk\\wandb_run.py\", line 420, in wrapper\n",
      "    return func(self, *args, **kwargs)\n",
      "  File \"c:\\Users\\harsh\\anaconda3\\envs\\truck-delay\\lib\\site-packages\\wandb\\sdk\\wandb_run.py\", line 371, in wrapper_fn\n",
      "    return func(self, *args, **kwargs)\n",
      "  File \"c:\\Users\\harsh\\anaconda3\\envs\\truck-delay\\lib\\site-packages\\wandb\\sdk\\wandb_run.py\", line 361, in wrapper\n",
      "    return func(self, *args, **kwargs)\n",
      "  File \"c:\\Users\\harsh\\anaconda3\\envs\\truck-delay\\lib\\site-packages\\wandb\\sdk\\wandb_run.py\", line 1820, in log\n",
      "    self._log(data=data, step=step, commit=commit)\n",
      "  File \"c:\\Users\\harsh\\anaconda3\\envs\\truck-delay\\lib\\site-packages\\wandb\\sdk\\wandb_run.py\", line 1595, in _log\n",
      "    self._partial_history_callback(data, step, commit)\n",
      "  File \"c:\\Users\\harsh\\anaconda3\\envs\\truck-delay\\lib\\site-packages\\wandb\\sdk\\wandb_run.py\", line 1467, in _partial_history_callback\n",
      "    self._backend.interface.publish_partial_history(\n",
      "  File \"c:\\Users\\harsh\\anaconda3\\envs\\truck-delay\\lib\\site-packages\\wandb\\sdk\\interface\\interface.py\", line 549, in publish_partial_history\n",
      "    data = history_dict_to_json(run, data, step=user_step, ignore_copy_err=True)\n",
      "  File \"c:\\Users\\harsh\\anaconda3\\envs\\truck-delay\\lib\\site-packages\\wandb\\sdk\\data_types\\utils.py\", line 52, in history_dict_to_json\n",
      "    payload[key] = val_to_json(\n",
      "  File \"c:\\Users\\harsh\\anaconda3\\envs\\truck-delay\\lib\\site-packages\\wandb\\sdk\\data_types\\utils.py\", line 164, in val_to_json\n",
      "    val.bind_to_run(run, key, namespace)\n",
      "  File \"c:\\Users\\harsh\\anaconda3\\envs\\truck-delay\\lib\\site-packages\\wandb\\data_types.py\", line 541, in bind_to_run\n",
      "    with codecs.open(tmp_path, \"w\", encoding=\"utf-8\") as fp:\n",
      "  File \"c:\\Users\\harsh\\anaconda3\\envs\\truck-delay\\lib\\codecs.py\", line 905, in open\n",
      "    file = builtins.open(filename, mode, buffering)\n",
      "FileNotFoundError: [Errno 2] No such file or directory: 'C:\\\\Users\\\\harsh\\\\AppData\\\\Local\\\\Temp\\\\tmpqphwv_07wandb-media\\\\r7u75ck7.table.json'\n"
     ]
    },
    {
     "name": "stdout",
     "output_type": "stream",
     "text": [
      "2024-08-05 17:56:36,034 WARNING: DeprecationWarning: Importing display from IPython.core.display is deprecated since IPython 7.14, please import from IPython display\n",
      "\n"
     ]
    },
    {
     "data": {
      "application/vnd.jupyter.widget-view+json": {
       "model_id": "d32c0aca58b64edc91fc9f89f987cf45",
       "version_major": 2,
       "version_minor": 0
      },
      "text/plain": [
       "VBox(children=(Label(value='0.010 MB of 0.010 MB uploaded\\r'), FloatProgress(value=1.0, max=1.0)))"
      ]
     },
     "metadata": {},
     "output_type": "display_data"
    },
    {
     "name": "stdout",
     "output_type": "stream",
     "text": [
      "2024-08-05 17:56:40,432 WARNING: DeprecationWarning: Importing display from IPython.core.display is deprecated since IPython 7.14, please import from IPython display\n",
      "\n"
     ]
    },
    {
     "data": {
      "text/html": [
       "<style>\n",
       "    table.wandb td:nth-child(1) { padding: 0 10px; text-align: left ; width: auto;} td:nth-child(2) {text-align: left ; width: 100%}\n",
       "    .wandb-row { display: flex; flex-direction: row; flex-wrap: wrap; justify-content: flex-start; width: 100% }\n",
       "    .wandb-col { display: flex; flex-direction: column; flex-basis: 100%; flex: 1; padding: 10px; }\n",
       "    </style>\n",
       "<div class=\"wandb-row\"><div class=\"wandb-col\"><h3>Run history:</h3><br/><table class=\"wandb\"><tr><td>f1_score</td><td>▁</td></tr><tr><td>f1_score_train</td><td>▁</td></tr><tr><td>f1_score_valid</td><td>▁</td></tr></table><br/></div><div class=\"wandb-col\"><h3>Run summary:</h3><br/><table class=\"wandb\"><tr><td>f1_score</td><td>0.62378</td></tr><tr><td>f1_score_train</td><td>0.91602</td></tr><tr><td>f1_score_valid</td><td>0.50509</td></tr></table><br/></div></div>"
      ],
      "text/plain": [
       "<IPython.core.display.HTML object>"
      ]
     },
     "metadata": {},
     "output_type": "display_data"
    },
    {
     "data": {
      "text/html": [
       " View run <strong style=\"color:#cdcd00\">grateful-sweep-65</strong> at: <a href='https://wandb.ai/harshmp/truck-delay-classification/runs/endvfcni' target=\"_blank\">https://wandb.ai/harshmp/truck-delay-classification/runs/endvfcni</a><br/>Synced 5 W&B file(s), 0 media file(s), 1 artifact file(s) and 0 other file(s)"
      ],
      "text/plain": [
       "<IPython.core.display.HTML object>"
      ]
     },
     "metadata": {},
     "output_type": "display_data"
    },
    {
     "data": {
      "text/html": [
       "Find logs at: <code>.\\wandb\\run-20240805_175631-endvfcni\\logs</code>"
      ],
      "text/plain": [
       "<IPython.core.display.HTML object>"
      ]
     },
     "metadata": {},
     "output_type": "display_data"
    },
    {
     "name": "stderr",
     "output_type": "stream",
     "text": [
      "Run endvfcni errored: FileNotFoundError(2, 'No such file or directory')\n",
      "wandb: ERROR Run endvfcni errored: FileNotFoundError(2, 'No such file or directory')\n",
      "wandb: Agent Starting Run: qp5o96d7 with config:\n",
      "wandb: \tmax_depth: 20\n",
      "wandb: \tmin_samples_split: 2\n",
      "wandb: \tn_estimators: 12\n",
      "Failed to detect the name of this notebook, you can set it manually with the WANDB_NOTEBOOK_NAME environment variable to enable code saving.\n",
      "wandb: WARNING Ignored wandb.init() arg project when running a sweep.\n"
     ]
    },
    {
     "data": {
      "text/html": [
       "wandb version 0.17.5 is available!  To upgrade, please run:\n",
       " $ pip install wandb --upgrade"
      ],
      "text/plain": [
       "<IPython.core.display.HTML object>"
      ]
     },
     "metadata": {},
     "output_type": "display_data"
    },
    {
     "data": {
      "text/html": [
       "Tracking run with wandb version 0.16.1"
      ],
      "text/plain": [
       "<IPython.core.display.HTML object>"
      ]
     },
     "metadata": {},
     "output_type": "display_data"
    },
    {
     "data": {
      "text/html": [
       "Run data is saved locally in <code>e:\\Artificial Intelligence\\Projects\\Predictive-Truck-Delay-Management-in-Logistics\\wandb\\run-20240805_175647-qp5o96d7</code>"
      ],
      "text/plain": [
       "<IPython.core.display.HTML object>"
      ]
     },
     "metadata": {},
     "output_type": "display_data"
    },
    {
     "data": {
      "text/html": [
       "Syncing run <strong><a href='https://wandb.ai/harshmp/truck-delay-classification/runs/qp5o96d7' target=\"_blank\">driven-sweep-66</a></strong> to <a href='https://wandb.ai/harshmp/truck-delay-classification' target=\"_blank\">Weights & Biases</a> (<a href='https://wandb.me/run' target=\"_blank\">docs</a>)<br/>Sweep page: <a href='https://wandb.ai/harshmp/truck-delay-classification/sweeps/20442i5p' target=\"_blank\">https://wandb.ai/harshmp/truck-delay-classification/sweeps/20442i5p</a>"
      ],
      "text/plain": [
       "<IPython.core.display.HTML object>"
      ]
     },
     "metadata": {},
     "output_type": "display_data"
    },
    {
     "data": {
      "text/html": [
       " View project at <a href='https://wandb.ai/harshmp/truck-delay-classification' target=\"_blank\">https://wandb.ai/harshmp/truck-delay-classification</a>"
      ],
      "text/plain": [
       "<IPython.core.display.HTML object>"
      ]
     },
     "metadata": {},
     "output_type": "display_data"
    },
    {
     "data": {
      "text/html": [
       " View sweep at <a href='https://wandb.ai/harshmp/truck-delay-classification/sweeps/20442i5p' target=\"_blank\">https://wandb.ai/harshmp/truck-delay-classification/sweeps/20442i5p</a>"
      ],
      "text/plain": [
       "<IPython.core.display.HTML object>"
      ]
     },
     "metadata": {},
     "output_type": "display_data"
    },
    {
     "data": {
      "text/html": [
       " View run at <a href='https://wandb.ai/harshmp/truck-delay-classification/runs/qp5o96d7' target=\"_blank\">https://wandb.ai/harshmp/truck-delay-classification/runs/qp5o96d7</a>"
      ],
      "text/plain": [
       "<IPython.core.display.HTML object>"
      ]
     },
     "metadata": {},
     "output_type": "display_data"
    },
    {
     "name": "stdout",
     "output_type": "stream",
     "text": [
      "F1_score Train: 0.9376\n",
      "F1_score Valid: 0.5356\n",
      "F1_score Test: 0.6357\n"
     ]
    },
    {
     "name": "stderr",
     "output_type": "stream",
     "text": [
      "wandb: \n",
      "wandb: Plotting RandomForestClassifier.\n",
      "Traceback (most recent call last):\n",
      "  File \"C:\\Users\\harsh\\AppData\\Local\\Temp\\ipykernel_18532\\2640226391.py\", line 44, in train_rf_model\n",
      "    wandb.sklearn.plot_classifier(model, X_train, X_test, y_train, y_test, y_preds, y_probas, labels=None,\n",
      "  File \"c:\\Users\\harsh\\anaconda3\\envs\\truck-delay\\lib\\site-packages\\wandb\\sklearn\\plot\\classifier.py\", line 82, in classifier\n",
      "    feature_importances(model, feature_names)\n",
      "  File \"c:\\Users\\harsh\\anaconda3\\envs\\truck-delay\\lib\\site-packages\\wandb\\sklearn\\plot\\classifier.py\", line 250, in feature_importances\n",
      "    wandb.log({\"feature_importances\": feature_importance_chart})\n",
      "  File \"c:\\Users\\harsh\\anaconda3\\envs\\truck-delay\\lib\\site-packages\\wandb\\sdk\\wandb_run.py\", line 420, in wrapper\n",
      "    return func(self, *args, **kwargs)\n",
      "  File \"c:\\Users\\harsh\\anaconda3\\envs\\truck-delay\\lib\\site-packages\\wandb\\sdk\\wandb_run.py\", line 371, in wrapper_fn\n",
      "    return func(self, *args, **kwargs)\n",
      "  File \"c:\\Users\\harsh\\anaconda3\\envs\\truck-delay\\lib\\site-packages\\wandb\\sdk\\wandb_run.py\", line 361, in wrapper\n",
      "    return func(self, *args, **kwargs)\n",
      "  File \"c:\\Users\\harsh\\anaconda3\\envs\\truck-delay\\lib\\site-packages\\wandb\\sdk\\wandb_run.py\", line 1820, in log\n",
      "    self._log(data=data, step=step, commit=commit)\n",
      "  File \"c:\\Users\\harsh\\anaconda3\\envs\\truck-delay\\lib\\site-packages\\wandb\\sdk\\wandb_run.py\", line 1595, in _log\n",
      "    self._partial_history_callback(data, step, commit)\n",
      "  File \"c:\\Users\\harsh\\anaconda3\\envs\\truck-delay\\lib\\site-packages\\wandb\\sdk\\wandb_run.py\", line 1467, in _partial_history_callback\n",
      "    self._backend.interface.publish_partial_history(\n",
      "  File \"c:\\Users\\harsh\\anaconda3\\envs\\truck-delay\\lib\\site-packages\\wandb\\sdk\\interface\\interface.py\", line 549, in publish_partial_history\n",
      "    data = history_dict_to_json(run, data, step=user_step, ignore_copy_err=True)\n",
      "  File \"c:\\Users\\harsh\\anaconda3\\envs\\truck-delay\\lib\\site-packages\\wandb\\sdk\\data_types\\utils.py\", line 52, in history_dict_to_json\n",
      "    payload[key] = val_to_json(\n",
      "  File \"c:\\Users\\harsh\\anaconda3\\envs\\truck-delay\\lib\\site-packages\\wandb\\sdk\\data_types\\utils.py\", line 164, in val_to_json\n",
      "    val.bind_to_run(run, key, namespace)\n",
      "  File \"c:\\Users\\harsh\\anaconda3\\envs\\truck-delay\\lib\\site-packages\\wandb\\data_types.py\", line 541, in bind_to_run\n",
      "    with codecs.open(tmp_path, \"w\", encoding=\"utf-8\") as fp:\n",
      "  File \"c:\\Users\\harsh\\anaconda3\\envs\\truck-delay\\lib\\codecs.py\", line 905, in open\n",
      "    file = builtins.open(filename, mode, buffering)\n",
      "FileNotFoundError: [Errno 2] No such file or directory: 'C:\\\\Users\\\\harsh\\\\AppData\\\\Local\\\\Temp\\\\tmpqphwv_07wandb-media\\\\0wp419ny.table.json'\n"
     ]
    },
    {
     "name": "stdout",
     "output_type": "stream",
     "text": [
      "2024-08-05 17:57:13,042 WARNING: DeprecationWarning: Importing display from IPython.core.display is deprecated since IPython 7.14, please import from IPython display\n",
      "\n"
     ]
    },
    {
     "data": {
      "application/vnd.jupyter.widget-view+json": {
       "model_id": "17805e2dee37486d962df00c490d86fc",
       "version_major": 2,
       "version_minor": 0
      },
      "text/plain": [
       "VBox(children=(Label(value='0.010 MB of 0.010 MB uploaded\\r'), FloatProgress(value=1.0, max=1.0)))"
      ]
     },
     "metadata": {},
     "output_type": "display_data"
    },
    {
     "name": "stdout",
     "output_type": "stream",
     "text": [
      "2024-08-05 17:57:18,106 WARNING: DeprecationWarning: Importing display from IPython.core.display is deprecated since IPython 7.14, please import from IPython display\n",
      "\n"
     ]
    },
    {
     "data": {
      "text/html": [
       "<style>\n",
       "    table.wandb td:nth-child(1) { padding: 0 10px; text-align: left ; width: auto;} td:nth-child(2) {text-align: left ; width: 100%}\n",
       "    .wandb-row { display: flex; flex-direction: row; flex-wrap: wrap; justify-content: flex-start; width: 100% }\n",
       "    .wandb-col { display: flex; flex-direction: column; flex-basis: 100%; flex: 1; padding: 10px; }\n",
       "    </style>\n",
       "<div class=\"wandb-row\"><div class=\"wandb-col\"><h3>Run history:</h3><br/><table class=\"wandb\"><tr><td>f1_score</td><td>▁</td></tr><tr><td>f1_score_train</td><td>▁</td></tr><tr><td>f1_score_valid</td><td>▁</td></tr></table><br/></div><div class=\"wandb-col\"><h3>Run summary:</h3><br/><table class=\"wandb\"><tr><td>f1_score</td><td>0.63568</td></tr><tr><td>f1_score_train</td><td>0.93761</td></tr><tr><td>f1_score_valid</td><td>0.53561</td></tr></table><br/></div></div>"
      ],
      "text/plain": [
       "<IPython.core.display.HTML object>"
      ]
     },
     "metadata": {},
     "output_type": "display_data"
    },
    {
     "data": {
      "text/html": [
       " View run <strong style=\"color:#cdcd00\">driven-sweep-66</strong> at: <a href='https://wandb.ai/harshmp/truck-delay-classification/runs/qp5o96d7' target=\"_blank\">https://wandb.ai/harshmp/truck-delay-classification/runs/qp5o96d7</a><br/>Synced 5 W&B file(s), 0 media file(s), 1 artifact file(s) and 0 other file(s)"
      ],
      "text/plain": [
       "<IPython.core.display.HTML object>"
      ]
     },
     "metadata": {},
     "output_type": "display_data"
    },
    {
     "data": {
      "text/html": [
       "Find logs at: <code>.\\wandb\\run-20240805_175647-qp5o96d7\\logs</code>"
      ],
      "text/plain": [
       "<IPython.core.display.HTML object>"
      ]
     },
     "metadata": {},
     "output_type": "display_data"
    },
    {
     "name": "stderr",
     "output_type": "stream",
     "text": [
      "Run qp5o96d7 errored: FileNotFoundError(2, 'No such file or directory')\n",
      "wandb: ERROR Run qp5o96d7 errored: FileNotFoundError(2, 'No such file or directory')\n",
      "wandb: Agent Starting Run: o78j73yd with config:\n",
      "wandb: \tmax_depth: 20\n",
      "wandb: \tmin_samples_split: 2\n",
      "wandb: \tn_estimators: 16\n",
      "Failed to detect the name of this notebook, you can set it manually with the WANDB_NOTEBOOK_NAME environment variable to enable code saving.\n",
      "wandb: WARNING Ignored wandb.init() arg project when running a sweep.\n"
     ]
    },
    {
     "data": {
      "text/html": [
       "wandb version 0.17.5 is available!  To upgrade, please run:\n",
       " $ pip install wandb --upgrade"
      ],
      "text/plain": [
       "<IPython.core.display.HTML object>"
      ]
     },
     "metadata": {},
     "output_type": "display_data"
    },
    {
     "data": {
      "text/html": [
       "Tracking run with wandb version 0.16.1"
      ],
      "text/plain": [
       "<IPython.core.display.HTML object>"
      ]
     },
     "metadata": {},
     "output_type": "display_data"
    },
    {
     "data": {
      "text/html": [
       "Run data is saved locally in <code>e:\\Artificial Intelligence\\Projects\\Predictive-Truck-Delay-Management-in-Logistics\\wandb\\run-20240805_175724-o78j73yd</code>"
      ],
      "text/plain": [
       "<IPython.core.display.HTML object>"
      ]
     },
     "metadata": {},
     "output_type": "display_data"
    },
    {
     "data": {
      "text/html": [
       "Syncing run <strong><a href='https://wandb.ai/harshmp/truck-delay-classification/runs/o78j73yd' target=\"_blank\">sunny-sweep-67</a></strong> to <a href='https://wandb.ai/harshmp/truck-delay-classification' target=\"_blank\">Weights & Biases</a> (<a href='https://wandb.me/run' target=\"_blank\">docs</a>)<br/>Sweep page: <a href='https://wandb.ai/harshmp/truck-delay-classification/sweeps/20442i5p' target=\"_blank\">https://wandb.ai/harshmp/truck-delay-classification/sweeps/20442i5p</a>"
      ],
      "text/plain": [
       "<IPython.core.display.HTML object>"
      ]
     },
     "metadata": {},
     "output_type": "display_data"
    },
    {
     "data": {
      "text/html": [
       " View project at <a href='https://wandb.ai/harshmp/truck-delay-classification' target=\"_blank\">https://wandb.ai/harshmp/truck-delay-classification</a>"
      ],
      "text/plain": [
       "<IPython.core.display.HTML object>"
      ]
     },
     "metadata": {},
     "output_type": "display_data"
    },
    {
     "data": {
      "text/html": [
       " View sweep at <a href='https://wandb.ai/harshmp/truck-delay-classification/sweeps/20442i5p' target=\"_blank\">https://wandb.ai/harshmp/truck-delay-classification/sweeps/20442i5p</a>"
      ],
      "text/plain": [
       "<IPython.core.display.HTML object>"
      ]
     },
     "metadata": {},
     "output_type": "display_data"
    },
    {
     "data": {
      "text/html": [
       " View run at <a href='https://wandb.ai/harshmp/truck-delay-classification/runs/o78j73yd' target=\"_blank\">https://wandb.ai/harshmp/truck-delay-classification/runs/o78j73yd</a>"
      ],
      "text/plain": [
       "<IPython.core.display.HTML object>"
      ]
     },
     "metadata": {},
     "output_type": "display_data"
    },
    {
     "name": "stdout",
     "output_type": "stream",
     "text": [
      "F1_score Train: 0.9532\n",
      "F1_score Valid: 0.5548\n",
      "F1_score Test: 0.649\n"
     ]
    },
    {
     "name": "stderr",
     "output_type": "stream",
     "text": [
      "wandb: \n",
      "wandb: Plotting RandomForestClassifier.\n",
      "Traceback (most recent call last):\n",
      "  File \"C:\\Users\\harsh\\AppData\\Local\\Temp\\ipykernel_18532\\2640226391.py\", line 44, in train_rf_model\n",
      "    wandb.sklearn.plot_classifier(model, X_train, X_test, y_train, y_test, y_preds, y_probas, labels=None,\n",
      "  File \"c:\\Users\\harsh\\anaconda3\\envs\\truck-delay\\lib\\site-packages\\wandb\\sklearn\\plot\\classifier.py\", line 82, in classifier\n",
      "    feature_importances(model, feature_names)\n",
      "  File \"c:\\Users\\harsh\\anaconda3\\envs\\truck-delay\\lib\\site-packages\\wandb\\sklearn\\plot\\classifier.py\", line 250, in feature_importances\n",
      "    wandb.log({\"feature_importances\": feature_importance_chart})\n",
      "  File \"c:\\Users\\harsh\\anaconda3\\envs\\truck-delay\\lib\\site-packages\\wandb\\sdk\\wandb_run.py\", line 420, in wrapper\n",
      "    return func(self, *args, **kwargs)\n",
      "  File \"c:\\Users\\harsh\\anaconda3\\envs\\truck-delay\\lib\\site-packages\\wandb\\sdk\\wandb_run.py\", line 371, in wrapper_fn\n",
      "    return func(self, *args, **kwargs)\n",
      "  File \"c:\\Users\\harsh\\anaconda3\\envs\\truck-delay\\lib\\site-packages\\wandb\\sdk\\wandb_run.py\", line 361, in wrapper\n",
      "    return func(self, *args, **kwargs)\n",
      "  File \"c:\\Users\\harsh\\anaconda3\\envs\\truck-delay\\lib\\site-packages\\wandb\\sdk\\wandb_run.py\", line 1820, in log\n",
      "    self._log(data=data, step=step, commit=commit)\n",
      "  File \"c:\\Users\\harsh\\anaconda3\\envs\\truck-delay\\lib\\site-packages\\wandb\\sdk\\wandb_run.py\", line 1595, in _log\n",
      "    self._partial_history_callback(data, step, commit)\n",
      "  File \"c:\\Users\\harsh\\anaconda3\\envs\\truck-delay\\lib\\site-packages\\wandb\\sdk\\wandb_run.py\", line 1467, in _partial_history_callback\n",
      "    self._backend.interface.publish_partial_history(\n",
      "  File \"c:\\Users\\harsh\\anaconda3\\envs\\truck-delay\\lib\\site-packages\\wandb\\sdk\\interface\\interface.py\", line 549, in publish_partial_history\n",
      "    data = history_dict_to_json(run, data, step=user_step, ignore_copy_err=True)\n",
      "  File \"c:\\Users\\harsh\\anaconda3\\envs\\truck-delay\\lib\\site-packages\\wandb\\sdk\\data_types\\utils.py\", line 52, in history_dict_to_json\n",
      "    payload[key] = val_to_json(\n",
      "  File \"c:\\Users\\harsh\\anaconda3\\envs\\truck-delay\\lib\\site-packages\\wandb\\sdk\\data_types\\utils.py\", line 164, in val_to_json\n",
      "    val.bind_to_run(run, key, namespace)\n",
      "  File \"c:\\Users\\harsh\\anaconda3\\envs\\truck-delay\\lib\\site-packages\\wandb\\data_types.py\", line 541, in bind_to_run\n",
      "    with codecs.open(tmp_path, \"w\", encoding=\"utf-8\") as fp:\n",
      "  File \"c:\\Users\\harsh\\anaconda3\\envs\\truck-delay\\lib\\codecs.py\", line 905, in open\n",
      "    file = builtins.open(filename, mode, buffering)\n",
      "FileNotFoundError: [Errno 2] No such file or directory: 'C:\\\\Users\\\\harsh\\\\AppData\\\\Local\\\\Temp\\\\tmpqphwv_07wandb-media\\\\4syb7ava.table.json'\n"
     ]
    },
    {
     "name": "stdout",
     "output_type": "stream",
     "text": [
      "2024-08-05 17:57:29,423 WARNING: DeprecationWarning: Importing display from IPython.core.display is deprecated since IPython 7.14, please import from IPython display\n",
      "\n"
     ]
    },
    {
     "data": {
      "application/vnd.jupyter.widget-view+json": {
       "model_id": "89b194c8b73f4e2887db6f482181616e",
       "version_major": 2,
       "version_minor": 0
      },
      "text/plain": [
       "VBox(children=(Label(value='0.010 MB of 0.010 MB uploaded\\r'), FloatProgress(value=1.0, max=1.0)))"
      ]
     },
     "metadata": {},
     "output_type": "display_data"
    },
    {
     "name": "stdout",
     "output_type": "stream",
     "text": [
      "2024-08-05 17:57:32,485 WARNING: DeprecationWarning: Importing display from IPython.core.display is deprecated since IPython 7.14, please import from IPython display\n",
      "\n"
     ]
    },
    {
     "data": {
      "text/html": [
       "<style>\n",
       "    table.wandb td:nth-child(1) { padding: 0 10px; text-align: left ; width: auto;} td:nth-child(2) {text-align: left ; width: 100%}\n",
       "    .wandb-row { display: flex; flex-direction: row; flex-wrap: wrap; justify-content: flex-start; width: 100% }\n",
       "    .wandb-col { display: flex; flex-direction: column; flex-basis: 100%; flex: 1; padding: 10px; }\n",
       "    </style>\n",
       "<div class=\"wandb-row\"><div class=\"wandb-col\"><h3>Run history:</h3><br/><table class=\"wandb\"><tr><td>f1_score</td><td>▁</td></tr><tr><td>f1_score_train</td><td>▁</td></tr><tr><td>f1_score_valid</td><td>▁</td></tr></table><br/></div><div class=\"wandb-col\"><h3>Run summary:</h3><br/><table class=\"wandb\"><tr><td>f1_score</td><td>0.64902</td></tr><tr><td>f1_score_train</td><td>0.95322</td></tr><tr><td>f1_score_valid</td><td>0.55481</td></tr></table><br/></div></div>"
      ],
      "text/plain": [
       "<IPython.core.display.HTML object>"
      ]
     },
     "metadata": {},
     "output_type": "display_data"
    },
    {
     "data": {
      "text/html": [
       " View run <strong style=\"color:#cdcd00\">sunny-sweep-67</strong> at: <a href='https://wandb.ai/harshmp/truck-delay-classification/runs/o78j73yd' target=\"_blank\">https://wandb.ai/harshmp/truck-delay-classification/runs/o78j73yd</a><br/>Synced 5 W&B file(s), 0 media file(s), 1 artifact file(s) and 0 other file(s)"
      ],
      "text/plain": [
       "<IPython.core.display.HTML object>"
      ]
     },
     "metadata": {},
     "output_type": "display_data"
    },
    {
     "data": {
      "text/html": [
       "Find logs at: <code>.\\wandb\\run-20240805_175724-o78j73yd\\logs</code>"
      ],
      "text/plain": [
       "<IPython.core.display.HTML object>"
      ]
     },
     "metadata": {},
     "output_type": "display_data"
    },
    {
     "name": "stderr",
     "output_type": "stream",
     "text": [
      "Run o78j73yd errored: FileNotFoundError(2, 'No such file or directory')\n",
      "wandb: ERROR Run o78j73yd errored: FileNotFoundError(2, 'No such file or directory')\n",
      "wandb: Agent Starting Run: xpmq3g1d with config:\n",
      "wandb: \tmax_depth: 20\n",
      "wandb: \tmin_samples_split: 2\n",
      "wandb: \tn_estimators: 20\n",
      "Failed to detect the name of this notebook, you can set it manually with the WANDB_NOTEBOOK_NAME environment variable to enable code saving.\n",
      "wandb: WARNING Ignored wandb.init() arg project when running a sweep.\n"
     ]
    },
    {
     "data": {
      "text/html": [
       "wandb version 0.17.5 is available!  To upgrade, please run:\n",
       " $ pip install wandb --upgrade"
      ],
      "text/plain": [
       "<IPython.core.display.HTML object>"
      ]
     },
     "metadata": {},
     "output_type": "display_data"
    },
    {
     "data": {
      "text/html": [
       "Tracking run with wandb version 0.16.1"
      ],
      "text/plain": [
       "<IPython.core.display.HTML object>"
      ]
     },
     "metadata": {},
     "output_type": "display_data"
    },
    {
     "data": {
      "text/html": [
       "Run data is saved locally in <code>e:\\Artificial Intelligence\\Projects\\Predictive-Truck-Delay-Management-in-Logistics\\wandb\\run-20240805_175738-xpmq3g1d</code>"
      ],
      "text/plain": [
       "<IPython.core.display.HTML object>"
      ]
     },
     "metadata": {},
     "output_type": "display_data"
    },
    {
     "data": {
      "text/html": [
       "Syncing run <strong><a href='https://wandb.ai/harshmp/truck-delay-classification/runs/xpmq3g1d' target=\"_blank\">zany-sweep-68</a></strong> to <a href='https://wandb.ai/harshmp/truck-delay-classification' target=\"_blank\">Weights & Biases</a> (<a href='https://wandb.me/run' target=\"_blank\">docs</a>)<br/>Sweep page: <a href='https://wandb.ai/harshmp/truck-delay-classification/sweeps/20442i5p' target=\"_blank\">https://wandb.ai/harshmp/truck-delay-classification/sweeps/20442i5p</a>"
      ],
      "text/plain": [
       "<IPython.core.display.HTML object>"
      ]
     },
     "metadata": {},
     "output_type": "display_data"
    },
    {
     "data": {
      "text/html": [
       " View project at <a href='https://wandb.ai/harshmp/truck-delay-classification' target=\"_blank\">https://wandb.ai/harshmp/truck-delay-classification</a>"
      ],
      "text/plain": [
       "<IPython.core.display.HTML object>"
      ]
     },
     "metadata": {},
     "output_type": "display_data"
    },
    {
     "data": {
      "text/html": [
       " View sweep at <a href='https://wandb.ai/harshmp/truck-delay-classification/sweeps/20442i5p' target=\"_blank\">https://wandb.ai/harshmp/truck-delay-classification/sweeps/20442i5p</a>"
      ],
      "text/plain": [
       "<IPython.core.display.HTML object>"
      ]
     },
     "metadata": {},
     "output_type": "display_data"
    },
    {
     "data": {
      "text/html": [
       " View run at <a href='https://wandb.ai/harshmp/truck-delay-classification/runs/xpmq3g1d' target=\"_blank\">https://wandb.ai/harshmp/truck-delay-classification/runs/xpmq3g1d</a>"
      ],
      "text/plain": [
       "<IPython.core.display.HTML object>"
      ]
     },
     "metadata": {},
     "output_type": "display_data"
    },
    {
     "name": "stdout",
     "output_type": "stream",
     "text": [
      "F1_score Train: 0.9645\n",
      "F1_score Valid: 0.5509\n",
      "F1_score Test: 0.6601\n"
     ]
    },
    {
     "name": "stderr",
     "output_type": "stream",
     "text": [
      "wandb: \n",
      "wandb: Plotting RandomForestClassifier.\n",
      "Traceback (most recent call last):\n",
      "  File \"C:\\Users\\harsh\\AppData\\Local\\Temp\\ipykernel_18532\\2640226391.py\", line 44, in train_rf_model\n",
      "    wandb.sklearn.plot_classifier(model, X_train, X_test, y_train, y_test, y_preds, y_probas, labels=None,\n",
      "  File \"c:\\Users\\harsh\\anaconda3\\envs\\truck-delay\\lib\\site-packages\\wandb\\sklearn\\plot\\classifier.py\", line 82, in classifier\n",
      "    feature_importances(model, feature_names)\n",
      "  File \"c:\\Users\\harsh\\anaconda3\\envs\\truck-delay\\lib\\site-packages\\wandb\\sklearn\\plot\\classifier.py\", line 250, in feature_importances\n",
      "    wandb.log({\"feature_importances\": feature_importance_chart})\n",
      "  File \"c:\\Users\\harsh\\anaconda3\\envs\\truck-delay\\lib\\site-packages\\wandb\\sdk\\wandb_run.py\", line 420, in wrapper\n",
      "    return func(self, *args, **kwargs)\n",
      "  File \"c:\\Users\\harsh\\anaconda3\\envs\\truck-delay\\lib\\site-packages\\wandb\\sdk\\wandb_run.py\", line 371, in wrapper_fn\n",
      "    return func(self, *args, **kwargs)\n",
      "  File \"c:\\Users\\harsh\\anaconda3\\envs\\truck-delay\\lib\\site-packages\\wandb\\sdk\\wandb_run.py\", line 361, in wrapper\n",
      "    return func(self, *args, **kwargs)\n",
      "  File \"c:\\Users\\harsh\\anaconda3\\envs\\truck-delay\\lib\\site-packages\\wandb\\sdk\\wandb_run.py\", line 1820, in log\n",
      "    self._log(data=data, step=step, commit=commit)\n",
      "  File \"c:\\Users\\harsh\\anaconda3\\envs\\truck-delay\\lib\\site-packages\\wandb\\sdk\\wandb_run.py\", line 1595, in _log\n",
      "    self._partial_history_callback(data, step, commit)\n",
      "  File \"c:\\Users\\harsh\\anaconda3\\envs\\truck-delay\\lib\\site-packages\\wandb\\sdk\\wandb_run.py\", line 1467, in _partial_history_callback\n",
      "    self._backend.interface.publish_partial_history(\n",
      "  File \"c:\\Users\\harsh\\anaconda3\\envs\\truck-delay\\lib\\site-packages\\wandb\\sdk\\interface\\interface.py\", line 549, in publish_partial_history\n",
      "    data = history_dict_to_json(run, data, step=user_step, ignore_copy_err=True)\n",
      "  File \"c:\\Users\\harsh\\anaconda3\\envs\\truck-delay\\lib\\site-packages\\wandb\\sdk\\data_types\\utils.py\", line 52, in history_dict_to_json\n",
      "    payload[key] = val_to_json(\n",
      "  File \"c:\\Users\\harsh\\anaconda3\\envs\\truck-delay\\lib\\site-packages\\wandb\\sdk\\data_types\\utils.py\", line 164, in val_to_json\n",
      "    val.bind_to_run(run, key, namespace)\n",
      "  File \"c:\\Users\\harsh\\anaconda3\\envs\\truck-delay\\lib\\site-packages\\wandb\\data_types.py\", line 541, in bind_to_run\n",
      "    with codecs.open(tmp_path, \"w\", encoding=\"utf-8\") as fp:\n",
      "  File \"c:\\Users\\harsh\\anaconda3\\envs\\truck-delay\\lib\\codecs.py\", line 905, in open\n",
      "    file = builtins.open(filename, mode, buffering)\n",
      "FileNotFoundError: [Errno 2] No such file or directory: 'C:\\\\Users\\\\harsh\\\\AppData\\\\Local\\\\Temp\\\\tmpqphwv_07wandb-media\\\\a144ilxd.table.json'\n"
     ]
    },
    {
     "name": "stdout",
     "output_type": "stream",
     "text": [
      "2024-08-05 17:57:44,573 WARNING: DeprecationWarning: Importing display from IPython.core.display is deprecated since IPython 7.14, please import from IPython display\n",
      "\n"
     ]
    },
    {
     "data": {
      "application/vnd.jupyter.widget-view+json": {
       "model_id": "d37374757dc443df968f277e3d9f147f",
       "version_major": 2,
       "version_minor": 0
      },
      "text/plain": [
       "VBox(children=(Label(value='0.010 MB of 0.010 MB uploaded\\r'), FloatProgress(value=1.0, max=1.0)))"
      ]
     },
     "metadata": {},
     "output_type": "display_data"
    },
    {
     "name": "stdout",
     "output_type": "stream",
     "text": [
      "2024-08-05 17:57:48,241 WARNING: DeprecationWarning: Importing display from IPython.core.display is deprecated since IPython 7.14, please import from IPython display\n",
      "\n"
     ]
    },
    {
     "data": {
      "text/html": [
       "<style>\n",
       "    table.wandb td:nth-child(1) { padding: 0 10px; text-align: left ; width: auto;} td:nth-child(2) {text-align: left ; width: 100%}\n",
       "    .wandb-row { display: flex; flex-direction: row; flex-wrap: wrap; justify-content: flex-start; width: 100% }\n",
       "    .wandb-col { display: flex; flex-direction: column; flex-basis: 100%; flex: 1; padding: 10px; }\n",
       "    </style>\n",
       "<div class=\"wandb-row\"><div class=\"wandb-col\"><h3>Run history:</h3><br/><table class=\"wandb\"><tr><td>f1_score</td><td>▁</td></tr><tr><td>f1_score_train</td><td>▁</td></tr><tr><td>f1_score_valid</td><td>▁</td></tr></table><br/></div><div class=\"wandb-col\"><h3>Run summary:</h3><br/><table class=\"wandb\"><tr><td>f1_score</td><td>0.66009</td></tr><tr><td>f1_score_train</td><td>0.96449</td></tr><tr><td>f1_score_valid</td><td>0.55085</td></tr></table><br/></div></div>"
      ],
      "text/plain": [
       "<IPython.core.display.HTML object>"
      ]
     },
     "metadata": {},
     "output_type": "display_data"
    },
    {
     "data": {
      "text/html": [
       " View run <strong style=\"color:#cdcd00\">zany-sweep-68</strong> at: <a href='https://wandb.ai/harshmp/truck-delay-classification/runs/xpmq3g1d' target=\"_blank\">https://wandb.ai/harshmp/truck-delay-classification/runs/xpmq3g1d</a><br/>Synced 5 W&B file(s), 0 media file(s), 1 artifact file(s) and 0 other file(s)"
      ],
      "text/plain": [
       "<IPython.core.display.HTML object>"
      ]
     },
     "metadata": {},
     "output_type": "display_data"
    },
    {
     "data": {
      "text/html": [
       "Find logs at: <code>.\\wandb\\run-20240805_175738-xpmq3g1d\\logs</code>"
      ],
      "text/plain": [
       "<IPython.core.display.HTML object>"
      ]
     },
     "metadata": {},
     "output_type": "display_data"
    },
    {
     "name": "stderr",
     "output_type": "stream",
     "text": [
      "Run xpmq3g1d errored: FileNotFoundError(2, 'No such file or directory')\n",
      "wandb: ERROR Run xpmq3g1d errored: FileNotFoundError(2, 'No such file or directory')\n",
      "wandb: Agent Starting Run: qp77iotq with config:\n",
      "wandb: \tmax_depth: 20\n",
      "wandb: \tmin_samples_split: 4\n",
      "wandb: \tn_estimators: 8\n",
      "Failed to detect the name of this notebook, you can set it manually with the WANDB_NOTEBOOK_NAME environment variable to enable code saving.\n",
      "wandb: WARNING Ignored wandb.init() arg project when running a sweep.\n"
     ]
    },
    {
     "data": {
      "text/html": [
       "wandb version 0.17.5 is available!  To upgrade, please run:\n",
       " $ pip install wandb --upgrade"
      ],
      "text/plain": [
       "<IPython.core.display.HTML object>"
      ]
     },
     "metadata": {},
     "output_type": "display_data"
    },
    {
     "data": {
      "text/html": [
       "Tracking run with wandb version 0.16.1"
      ],
      "text/plain": [
       "<IPython.core.display.HTML object>"
      ]
     },
     "metadata": {},
     "output_type": "display_data"
    },
    {
     "data": {
      "text/html": [
       "Run data is saved locally in <code>e:\\Artificial Intelligence\\Projects\\Predictive-Truck-Delay-Management-in-Logistics\\wandb\\run-20240805_175754-qp77iotq</code>"
      ],
      "text/plain": [
       "<IPython.core.display.HTML object>"
      ]
     },
     "metadata": {},
     "output_type": "display_data"
    },
    {
     "data": {
      "text/html": [
       "Syncing run <strong><a href='https://wandb.ai/harshmp/truck-delay-classification/runs/qp77iotq' target=\"_blank\">scarlet-sweep-69</a></strong> to <a href='https://wandb.ai/harshmp/truck-delay-classification' target=\"_blank\">Weights & Biases</a> (<a href='https://wandb.me/run' target=\"_blank\">docs</a>)<br/>Sweep page: <a href='https://wandb.ai/harshmp/truck-delay-classification/sweeps/20442i5p' target=\"_blank\">https://wandb.ai/harshmp/truck-delay-classification/sweeps/20442i5p</a>"
      ],
      "text/plain": [
       "<IPython.core.display.HTML object>"
      ]
     },
     "metadata": {},
     "output_type": "display_data"
    },
    {
     "data": {
      "text/html": [
       " View project at <a href='https://wandb.ai/harshmp/truck-delay-classification' target=\"_blank\">https://wandb.ai/harshmp/truck-delay-classification</a>"
      ],
      "text/plain": [
       "<IPython.core.display.HTML object>"
      ]
     },
     "metadata": {},
     "output_type": "display_data"
    },
    {
     "data": {
      "text/html": [
       " View sweep at <a href='https://wandb.ai/harshmp/truck-delay-classification/sweeps/20442i5p' target=\"_blank\">https://wandb.ai/harshmp/truck-delay-classification/sweeps/20442i5p</a>"
      ],
      "text/plain": [
       "<IPython.core.display.HTML object>"
      ]
     },
     "metadata": {},
     "output_type": "display_data"
    },
    {
     "data": {
      "text/html": [
       " View run at <a href='https://wandb.ai/harshmp/truck-delay-classification/runs/qp77iotq' target=\"_blank\">https://wandb.ai/harshmp/truck-delay-classification/runs/qp77iotq</a>"
      ],
      "text/plain": [
       "<IPython.core.display.HTML object>"
      ]
     },
     "metadata": {},
     "output_type": "display_data"
    },
    {
     "name": "stdout",
     "output_type": "stream",
     "text": [
      "F1_score Train: 0.9084\n",
      "F1_score Valid: 0.5438\n",
      "F1_score Test: 0.6537\n"
     ]
    },
    {
     "name": "stderr",
     "output_type": "stream",
     "text": [
      "wandb: \n",
      "wandb: Plotting RandomForestClassifier.\n",
      "Traceback (most recent call last):\n",
      "  File \"C:\\Users\\harsh\\AppData\\Local\\Temp\\ipykernel_18532\\2640226391.py\", line 44, in train_rf_model\n",
      "    wandb.sklearn.plot_classifier(model, X_train, X_test, y_train, y_test, y_preds, y_probas, labels=None,\n",
      "  File \"c:\\Users\\harsh\\anaconda3\\envs\\truck-delay\\lib\\site-packages\\wandb\\sklearn\\plot\\classifier.py\", line 82, in classifier\n",
      "    feature_importances(model, feature_names)\n",
      "  File \"c:\\Users\\harsh\\anaconda3\\envs\\truck-delay\\lib\\site-packages\\wandb\\sklearn\\plot\\classifier.py\", line 250, in feature_importances\n",
      "    wandb.log({\"feature_importances\": feature_importance_chart})\n",
      "  File \"c:\\Users\\harsh\\anaconda3\\envs\\truck-delay\\lib\\site-packages\\wandb\\sdk\\wandb_run.py\", line 420, in wrapper\n",
      "    return func(self, *args, **kwargs)\n",
      "  File \"c:\\Users\\harsh\\anaconda3\\envs\\truck-delay\\lib\\site-packages\\wandb\\sdk\\wandb_run.py\", line 371, in wrapper_fn\n",
      "    return func(self, *args, **kwargs)\n",
      "  File \"c:\\Users\\harsh\\anaconda3\\envs\\truck-delay\\lib\\site-packages\\wandb\\sdk\\wandb_run.py\", line 361, in wrapper\n",
      "    return func(self, *args, **kwargs)\n",
      "  File \"c:\\Users\\harsh\\anaconda3\\envs\\truck-delay\\lib\\site-packages\\wandb\\sdk\\wandb_run.py\", line 1820, in log\n",
      "    self._log(data=data, step=step, commit=commit)\n",
      "  File \"c:\\Users\\harsh\\anaconda3\\envs\\truck-delay\\lib\\site-packages\\wandb\\sdk\\wandb_run.py\", line 1595, in _log\n",
      "    self._partial_history_callback(data, step, commit)\n",
      "  File \"c:\\Users\\harsh\\anaconda3\\envs\\truck-delay\\lib\\site-packages\\wandb\\sdk\\wandb_run.py\", line 1467, in _partial_history_callback\n",
      "    self._backend.interface.publish_partial_history(\n",
      "  File \"c:\\Users\\harsh\\anaconda3\\envs\\truck-delay\\lib\\site-packages\\wandb\\sdk\\interface\\interface.py\", line 549, in publish_partial_history\n",
      "    data = history_dict_to_json(run, data, step=user_step, ignore_copy_err=True)\n",
      "  File \"c:\\Users\\harsh\\anaconda3\\envs\\truck-delay\\lib\\site-packages\\wandb\\sdk\\data_types\\utils.py\", line 52, in history_dict_to_json\n",
      "    payload[key] = val_to_json(\n",
      "  File \"c:\\Users\\harsh\\anaconda3\\envs\\truck-delay\\lib\\site-packages\\wandb\\sdk\\data_types\\utils.py\", line 164, in val_to_json\n",
      "    val.bind_to_run(run, key, namespace)\n",
      "  File \"c:\\Users\\harsh\\anaconda3\\envs\\truck-delay\\lib\\site-packages\\wandb\\data_types.py\", line 541, in bind_to_run\n",
      "    with codecs.open(tmp_path, \"w\", encoding=\"utf-8\") as fp:\n",
      "  File \"c:\\Users\\harsh\\anaconda3\\envs\\truck-delay\\lib\\codecs.py\", line 905, in open\n",
      "    file = builtins.open(filename, mode, buffering)\n",
      "FileNotFoundError: [Errno 2] No such file or directory: 'C:\\\\Users\\\\harsh\\\\AppData\\\\Local\\\\Temp\\\\tmpqphwv_07wandb-media\\\\me36y9g8.table.json'\n"
     ]
    },
    {
     "name": "stdout",
     "output_type": "stream",
     "text": [
      "2024-08-05 17:57:58,933 WARNING: DeprecationWarning: Importing display from IPython.core.display is deprecated since IPython 7.14, please import from IPython display\n",
      "\n"
     ]
    },
    {
     "data": {
      "application/vnd.jupyter.widget-view+json": {
       "model_id": "5006d4e187034ef49ea6f009c8b3ed05",
       "version_major": 2,
       "version_minor": 0
      },
      "text/plain": [
       "VBox(children=(Label(value='0.010 MB of 0.010 MB uploaded\\r'), FloatProgress(value=1.0, max=1.0)))"
      ]
     },
     "metadata": {},
     "output_type": "display_data"
    },
    {
     "name": "stdout",
     "output_type": "stream",
     "text": [
      "2024-08-05 17:58:03,148 WARNING: DeprecationWarning: Importing display from IPython.core.display is deprecated since IPython 7.14, please import from IPython display\n",
      "\n"
     ]
    },
    {
     "data": {
      "text/html": [
       "<style>\n",
       "    table.wandb td:nth-child(1) { padding: 0 10px; text-align: left ; width: auto;} td:nth-child(2) {text-align: left ; width: 100%}\n",
       "    .wandb-row { display: flex; flex-direction: row; flex-wrap: wrap; justify-content: flex-start; width: 100% }\n",
       "    .wandb-col { display: flex; flex-direction: column; flex-basis: 100%; flex: 1; padding: 10px; }\n",
       "    </style>\n",
       "<div class=\"wandb-row\"><div class=\"wandb-col\"><h3>Run history:</h3><br/><table class=\"wandb\"><tr><td>f1_score</td><td>▁</td></tr><tr><td>f1_score_train</td><td>▁</td></tr><tr><td>f1_score_valid</td><td>▁</td></tr></table><br/></div><div class=\"wandb-col\"><h3>Run summary:</h3><br/><table class=\"wandb\"><tr><td>f1_score</td><td>0.65371</td></tr><tr><td>f1_score_train</td><td>0.90837</td></tr><tr><td>f1_score_valid</td><td>0.54381</td></tr></table><br/></div></div>"
      ],
      "text/plain": [
       "<IPython.core.display.HTML object>"
      ]
     },
     "metadata": {},
     "output_type": "display_data"
    },
    {
     "data": {
      "text/html": [
       " View run <strong style=\"color:#cdcd00\">scarlet-sweep-69</strong> at: <a href='https://wandb.ai/harshmp/truck-delay-classification/runs/qp77iotq' target=\"_blank\">https://wandb.ai/harshmp/truck-delay-classification/runs/qp77iotq</a><br/>Synced 5 W&B file(s), 0 media file(s), 1 artifact file(s) and 0 other file(s)"
      ],
      "text/plain": [
       "<IPython.core.display.HTML object>"
      ]
     },
     "metadata": {},
     "output_type": "display_data"
    },
    {
     "data": {
      "text/html": [
       "Find logs at: <code>.\\wandb\\run-20240805_175754-qp77iotq\\logs</code>"
      ],
      "text/plain": [
       "<IPython.core.display.HTML object>"
      ]
     },
     "metadata": {},
     "output_type": "display_data"
    },
    {
     "name": "stderr",
     "output_type": "stream",
     "text": [
      "Run qp77iotq errored: FileNotFoundError(2, 'No such file or directory')\n",
      "wandb: ERROR Run qp77iotq errored: FileNotFoundError(2, 'No such file or directory')\n",
      "wandb: Agent Starting Run: 3k08w5co with config:\n",
      "wandb: \tmax_depth: 20\n",
      "wandb: \tmin_samples_split: 4\n",
      "wandb: \tn_estimators: 12\n",
      "Failed to detect the name of this notebook, you can set it manually with the WANDB_NOTEBOOK_NAME environment variable to enable code saving.\n",
      "wandb: WARNING Ignored wandb.init() arg project when running a sweep.\n"
     ]
    },
    {
     "data": {
      "text/html": [
       "wandb version 0.17.5 is available!  To upgrade, please run:\n",
       " $ pip install wandb --upgrade"
      ],
      "text/plain": [
       "<IPython.core.display.HTML object>"
      ]
     },
     "metadata": {},
     "output_type": "display_data"
    },
    {
     "data": {
      "text/html": [
       "Tracking run with wandb version 0.16.1"
      ],
      "text/plain": [
       "<IPython.core.display.HTML object>"
      ]
     },
     "metadata": {},
     "output_type": "display_data"
    },
    {
     "data": {
      "text/html": [
       "Run data is saved locally in <code>e:\\Artificial Intelligence\\Projects\\Predictive-Truck-Delay-Management-in-Logistics\\wandb\\run-20240805_175809-3k08w5co</code>"
      ],
      "text/plain": [
       "<IPython.core.display.HTML object>"
      ]
     },
     "metadata": {},
     "output_type": "display_data"
    },
    {
     "data": {
      "text/html": [
       "Syncing run <strong><a href='https://wandb.ai/harshmp/truck-delay-classification/runs/3k08w5co' target=\"_blank\">stellar-sweep-70</a></strong> to <a href='https://wandb.ai/harshmp/truck-delay-classification' target=\"_blank\">Weights & Biases</a> (<a href='https://wandb.me/run' target=\"_blank\">docs</a>)<br/>Sweep page: <a href='https://wandb.ai/harshmp/truck-delay-classification/sweeps/20442i5p' target=\"_blank\">https://wandb.ai/harshmp/truck-delay-classification/sweeps/20442i5p</a>"
      ],
      "text/plain": [
       "<IPython.core.display.HTML object>"
      ]
     },
     "metadata": {},
     "output_type": "display_data"
    },
    {
     "data": {
      "text/html": [
       " View project at <a href='https://wandb.ai/harshmp/truck-delay-classification' target=\"_blank\">https://wandb.ai/harshmp/truck-delay-classification</a>"
      ],
      "text/plain": [
       "<IPython.core.display.HTML object>"
      ]
     },
     "metadata": {},
     "output_type": "display_data"
    },
    {
     "data": {
      "text/html": [
       " View sweep at <a href='https://wandb.ai/harshmp/truck-delay-classification/sweeps/20442i5p' target=\"_blank\">https://wandb.ai/harshmp/truck-delay-classification/sweeps/20442i5p</a>"
      ],
      "text/plain": [
       "<IPython.core.display.HTML object>"
      ]
     },
     "metadata": {},
     "output_type": "display_data"
    },
    {
     "data": {
      "text/html": [
       " View run at <a href='https://wandb.ai/harshmp/truck-delay-classification/runs/3k08w5co' target=\"_blank\">https://wandb.ai/harshmp/truck-delay-classification/runs/3k08w5co</a>"
      ],
      "text/plain": [
       "<IPython.core.display.HTML object>"
      ]
     },
     "metadata": {},
     "output_type": "display_data"
    },
    {
     "name": "stdout",
     "output_type": "stream",
     "text": [
      "F1_score Train: 0.9273\n",
      "F1_score Valid: 0.5653\n",
      "F1_score Test: 0.6676\n"
     ]
    },
    {
     "name": "stderr",
     "output_type": "stream",
     "text": [
      "wandb: \n",
      "wandb: Plotting RandomForestClassifier.\n",
      "Traceback (most recent call last):\n",
      "  File \"C:\\Users\\harsh\\AppData\\Local\\Temp\\ipykernel_18532\\2640226391.py\", line 44, in train_rf_model\n",
      "    wandb.sklearn.plot_classifier(model, X_train, X_test, y_train, y_test, y_preds, y_probas, labels=None,\n",
      "  File \"c:\\Users\\harsh\\anaconda3\\envs\\truck-delay\\lib\\site-packages\\wandb\\sklearn\\plot\\classifier.py\", line 82, in classifier\n",
      "    feature_importances(model, feature_names)\n",
      "  File \"c:\\Users\\harsh\\anaconda3\\envs\\truck-delay\\lib\\site-packages\\wandb\\sklearn\\plot\\classifier.py\", line 250, in feature_importances\n",
      "    wandb.log({\"feature_importances\": feature_importance_chart})\n",
      "  File \"c:\\Users\\harsh\\anaconda3\\envs\\truck-delay\\lib\\site-packages\\wandb\\sdk\\wandb_run.py\", line 420, in wrapper\n",
      "    return func(self, *args, **kwargs)\n",
      "  File \"c:\\Users\\harsh\\anaconda3\\envs\\truck-delay\\lib\\site-packages\\wandb\\sdk\\wandb_run.py\", line 371, in wrapper_fn\n",
      "    return func(self, *args, **kwargs)\n",
      "  File \"c:\\Users\\harsh\\anaconda3\\envs\\truck-delay\\lib\\site-packages\\wandb\\sdk\\wandb_run.py\", line 361, in wrapper\n",
      "    return func(self, *args, **kwargs)\n",
      "  File \"c:\\Users\\harsh\\anaconda3\\envs\\truck-delay\\lib\\site-packages\\wandb\\sdk\\wandb_run.py\", line 1820, in log\n",
      "    self._log(data=data, step=step, commit=commit)\n",
      "  File \"c:\\Users\\harsh\\anaconda3\\envs\\truck-delay\\lib\\site-packages\\wandb\\sdk\\wandb_run.py\", line 1595, in _log\n",
      "    self._partial_history_callback(data, step, commit)\n",
      "  File \"c:\\Users\\harsh\\anaconda3\\envs\\truck-delay\\lib\\site-packages\\wandb\\sdk\\wandb_run.py\", line 1467, in _partial_history_callback\n",
      "    self._backend.interface.publish_partial_history(\n",
      "  File \"c:\\Users\\harsh\\anaconda3\\envs\\truck-delay\\lib\\site-packages\\wandb\\sdk\\interface\\interface.py\", line 549, in publish_partial_history\n",
      "    data = history_dict_to_json(run, data, step=user_step, ignore_copy_err=True)\n",
      "  File \"c:\\Users\\harsh\\anaconda3\\envs\\truck-delay\\lib\\site-packages\\wandb\\sdk\\data_types\\utils.py\", line 52, in history_dict_to_json\n",
      "    payload[key] = val_to_json(\n",
      "  File \"c:\\Users\\harsh\\anaconda3\\envs\\truck-delay\\lib\\site-packages\\wandb\\sdk\\data_types\\utils.py\", line 164, in val_to_json\n",
      "    val.bind_to_run(run, key, namespace)\n",
      "  File \"c:\\Users\\harsh\\anaconda3\\envs\\truck-delay\\lib\\site-packages\\wandb\\data_types.py\", line 541, in bind_to_run\n",
      "    with codecs.open(tmp_path, \"w\", encoding=\"utf-8\") as fp:\n",
      "  File \"c:\\Users\\harsh\\anaconda3\\envs\\truck-delay\\lib\\codecs.py\", line 905, in open\n",
      "    file = builtins.open(filename, mode, buffering)\n",
      "FileNotFoundError: [Errno 2] No such file or directory: 'C:\\\\Users\\\\harsh\\\\AppData\\\\Local\\\\Temp\\\\tmpqphwv_07wandb-media\\\\uglx1jvi.table.json'\n"
     ]
    },
    {
     "name": "stdout",
     "output_type": "stream",
     "text": [
      "2024-08-05 17:58:13,325 WARNING: DeprecationWarning: Importing display from IPython.core.display is deprecated since IPython 7.14, please import from IPython display\n",
      "\n"
     ]
    },
    {
     "data": {
      "application/vnd.jupyter.widget-view+json": {
       "model_id": "a5da5a0e2dcd40cdab98494b589cf908",
       "version_major": 2,
       "version_minor": 0
      },
      "text/plain": [
       "VBox(children=(Label(value='0.010 MB of 0.010 MB uploaded\\r'), FloatProgress(value=1.0, max=1.0)))"
      ]
     },
     "metadata": {},
     "output_type": "display_data"
    },
    {
     "name": "stdout",
     "output_type": "stream",
     "text": [
      "2024-08-05 17:58:17,456 WARNING: DeprecationWarning: Importing display from IPython.core.display is deprecated since IPython 7.14, please import from IPython display\n",
      "\n"
     ]
    },
    {
     "data": {
      "text/html": [
       "<style>\n",
       "    table.wandb td:nth-child(1) { padding: 0 10px; text-align: left ; width: auto;} td:nth-child(2) {text-align: left ; width: 100%}\n",
       "    .wandb-row { display: flex; flex-direction: row; flex-wrap: wrap; justify-content: flex-start; width: 100% }\n",
       "    .wandb-col { display: flex; flex-direction: column; flex-basis: 100%; flex: 1; padding: 10px; }\n",
       "    </style>\n",
       "<div class=\"wandb-row\"><div class=\"wandb-col\"><h3>Run history:</h3><br/><table class=\"wandb\"><tr><td>f1_score</td><td>▁</td></tr><tr><td>f1_score_train</td><td>▁</td></tr><tr><td>f1_score_valid</td><td>▁</td></tr></table><br/></div><div class=\"wandb-col\"><h3>Run summary:</h3><br/><table class=\"wandb\"><tr><td>f1_score</td><td>0.66763</td></tr><tr><td>f1_score_train</td><td>0.92728</td></tr><tr><td>f1_score_valid</td><td>0.56534</td></tr></table><br/></div></div>"
      ],
      "text/plain": [
       "<IPython.core.display.HTML object>"
      ]
     },
     "metadata": {},
     "output_type": "display_data"
    },
    {
     "data": {
      "text/html": [
       " View run <strong style=\"color:#cdcd00\">stellar-sweep-70</strong> at: <a href='https://wandb.ai/harshmp/truck-delay-classification/runs/3k08w5co' target=\"_blank\">https://wandb.ai/harshmp/truck-delay-classification/runs/3k08w5co</a><br/>Synced 5 W&B file(s), 0 media file(s), 1 artifact file(s) and 0 other file(s)"
      ],
      "text/plain": [
       "<IPython.core.display.HTML object>"
      ]
     },
     "metadata": {},
     "output_type": "display_data"
    },
    {
     "data": {
      "text/html": [
       "Find logs at: <code>.\\wandb\\run-20240805_175809-3k08w5co\\logs</code>"
      ],
      "text/plain": [
       "<IPython.core.display.HTML object>"
      ]
     },
     "metadata": {},
     "output_type": "display_data"
    },
    {
     "name": "stderr",
     "output_type": "stream",
     "text": [
      "Run 3k08w5co errored: FileNotFoundError(2, 'No such file or directory')\n",
      "wandb: ERROR Run 3k08w5co errored: FileNotFoundError(2, 'No such file or directory')\n",
      "wandb: Agent Starting Run: ix3ijplj with config:\n",
      "wandb: \tmax_depth: 20\n",
      "wandb: \tmin_samples_split: 4\n",
      "wandb: \tn_estimators: 16\n",
      "Failed to detect the name of this notebook, you can set it manually with the WANDB_NOTEBOOK_NAME environment variable to enable code saving.\n",
      "wandb: WARNING Ignored wandb.init() arg project when running a sweep.\n"
     ]
    },
    {
     "data": {
      "text/html": [
       "wandb version 0.17.5 is available!  To upgrade, please run:\n",
       " $ pip install wandb --upgrade"
      ],
      "text/plain": [
       "<IPython.core.display.HTML object>"
      ]
     },
     "metadata": {},
     "output_type": "display_data"
    },
    {
     "data": {
      "text/html": [
       "Tracking run with wandb version 0.16.1"
      ],
      "text/plain": [
       "<IPython.core.display.HTML object>"
      ]
     },
     "metadata": {},
     "output_type": "display_data"
    },
    {
     "data": {
      "text/html": [
       "Run data is saved locally in <code>e:\\Artificial Intelligence\\Projects\\Predictive-Truck-Delay-Management-in-Logistics\\wandb\\run-20240805_175824-ix3ijplj</code>"
      ],
      "text/plain": [
       "<IPython.core.display.HTML object>"
      ]
     },
     "metadata": {},
     "output_type": "display_data"
    },
    {
     "data": {
      "text/html": [
       "Syncing run <strong><a href='https://wandb.ai/harshmp/truck-delay-classification/runs/ix3ijplj' target=\"_blank\">dainty-sweep-71</a></strong> to <a href='https://wandb.ai/harshmp/truck-delay-classification' target=\"_blank\">Weights & Biases</a> (<a href='https://wandb.me/run' target=\"_blank\">docs</a>)<br/>Sweep page: <a href='https://wandb.ai/harshmp/truck-delay-classification/sweeps/20442i5p' target=\"_blank\">https://wandb.ai/harshmp/truck-delay-classification/sweeps/20442i5p</a>"
      ],
      "text/plain": [
       "<IPython.core.display.HTML object>"
      ]
     },
     "metadata": {},
     "output_type": "display_data"
    },
    {
     "data": {
      "text/html": [
       " View project at <a href='https://wandb.ai/harshmp/truck-delay-classification' target=\"_blank\">https://wandb.ai/harshmp/truck-delay-classification</a>"
      ],
      "text/plain": [
       "<IPython.core.display.HTML object>"
      ]
     },
     "metadata": {},
     "output_type": "display_data"
    },
    {
     "data": {
      "text/html": [
       " View sweep at <a href='https://wandb.ai/harshmp/truck-delay-classification/sweeps/20442i5p' target=\"_blank\">https://wandb.ai/harshmp/truck-delay-classification/sweeps/20442i5p</a>"
      ],
      "text/plain": [
       "<IPython.core.display.HTML object>"
      ]
     },
     "metadata": {},
     "output_type": "display_data"
    },
    {
     "data": {
      "text/html": [
       " View run at <a href='https://wandb.ai/harshmp/truck-delay-classification/runs/ix3ijplj' target=\"_blank\">https://wandb.ai/harshmp/truck-delay-classification/runs/ix3ijplj</a>"
      ],
      "text/plain": [
       "<IPython.core.display.HTML object>"
      ]
     },
     "metadata": {},
     "output_type": "display_data"
    },
    {
     "name": "stdout",
     "output_type": "stream",
     "text": [
      "F1_score Train: 0.9347\n",
      "F1_score Valid: 0.5725\n",
      "F1_score Test: 0.6783\n"
     ]
    },
    {
     "name": "stderr",
     "output_type": "stream",
     "text": [
      "wandb: \n",
      "wandb: Plotting RandomForestClassifier.\n",
      "Traceback (most recent call last):\n",
      "  File \"C:\\Users\\harsh\\AppData\\Local\\Temp\\ipykernel_18532\\2640226391.py\", line 44, in train_rf_model\n",
      "    wandb.sklearn.plot_classifier(model, X_train, X_test, y_train, y_test, y_preds, y_probas, labels=None,\n",
      "  File \"c:\\Users\\harsh\\anaconda3\\envs\\truck-delay\\lib\\site-packages\\wandb\\sklearn\\plot\\classifier.py\", line 82, in classifier\n",
      "    feature_importances(model, feature_names)\n",
      "  File \"c:\\Users\\harsh\\anaconda3\\envs\\truck-delay\\lib\\site-packages\\wandb\\sklearn\\plot\\classifier.py\", line 250, in feature_importances\n",
      "    wandb.log({\"feature_importances\": feature_importance_chart})\n",
      "  File \"c:\\Users\\harsh\\anaconda3\\envs\\truck-delay\\lib\\site-packages\\wandb\\sdk\\wandb_run.py\", line 420, in wrapper\n",
      "    return func(self, *args, **kwargs)\n",
      "  File \"c:\\Users\\harsh\\anaconda3\\envs\\truck-delay\\lib\\site-packages\\wandb\\sdk\\wandb_run.py\", line 371, in wrapper_fn\n",
      "    return func(self, *args, **kwargs)\n",
      "  File \"c:\\Users\\harsh\\anaconda3\\envs\\truck-delay\\lib\\site-packages\\wandb\\sdk\\wandb_run.py\", line 361, in wrapper\n",
      "    return func(self, *args, **kwargs)\n",
      "  File \"c:\\Users\\harsh\\anaconda3\\envs\\truck-delay\\lib\\site-packages\\wandb\\sdk\\wandb_run.py\", line 1820, in log\n",
      "    self._log(data=data, step=step, commit=commit)\n",
      "  File \"c:\\Users\\harsh\\anaconda3\\envs\\truck-delay\\lib\\site-packages\\wandb\\sdk\\wandb_run.py\", line 1595, in _log\n",
      "    self._partial_history_callback(data, step, commit)\n",
      "  File \"c:\\Users\\harsh\\anaconda3\\envs\\truck-delay\\lib\\site-packages\\wandb\\sdk\\wandb_run.py\", line 1467, in _partial_history_callback\n",
      "    self._backend.interface.publish_partial_history(\n",
      "  File \"c:\\Users\\harsh\\anaconda3\\envs\\truck-delay\\lib\\site-packages\\wandb\\sdk\\interface\\interface.py\", line 549, in publish_partial_history\n",
      "    data = history_dict_to_json(run, data, step=user_step, ignore_copy_err=True)\n",
      "  File \"c:\\Users\\harsh\\anaconda3\\envs\\truck-delay\\lib\\site-packages\\wandb\\sdk\\data_types\\utils.py\", line 52, in history_dict_to_json\n",
      "    payload[key] = val_to_json(\n",
      "  File \"c:\\Users\\harsh\\anaconda3\\envs\\truck-delay\\lib\\site-packages\\wandb\\sdk\\data_types\\utils.py\", line 164, in val_to_json\n",
      "    val.bind_to_run(run, key, namespace)\n",
      "  File \"c:\\Users\\harsh\\anaconda3\\envs\\truck-delay\\lib\\site-packages\\wandb\\data_types.py\", line 541, in bind_to_run\n",
      "    with codecs.open(tmp_path, \"w\", encoding=\"utf-8\") as fp:\n",
      "  File \"c:\\Users\\harsh\\anaconda3\\envs\\truck-delay\\lib\\codecs.py\", line 905, in open\n",
      "    file = builtins.open(filename, mode, buffering)\n",
      "FileNotFoundError: [Errno 2] No such file or directory: 'C:\\\\Users\\\\harsh\\\\AppData\\\\Local\\\\Temp\\\\tmpqphwv_07wandb-media\\\\ga9culut.table.json'\n"
     ]
    },
    {
     "name": "stdout",
     "output_type": "stream",
     "text": [
      "2024-08-05 17:58:28,902 WARNING: DeprecationWarning: Importing display from IPython.core.display is deprecated since IPython 7.14, please import from IPython display\n",
      "\n"
     ]
    },
    {
     "data": {
      "application/vnd.jupyter.widget-view+json": {
       "model_id": "fea1963698264558b4e79c6610843f65",
       "version_major": 2,
       "version_minor": 0
      },
      "text/plain": [
       "VBox(children=(Label(value='0.010 MB of 0.010 MB uploaded\\r'), FloatProgress(value=1.0, max=1.0)))"
      ]
     },
     "metadata": {},
     "output_type": "display_data"
    },
    {
     "name": "stdout",
     "output_type": "stream",
     "text": [
      "2024-08-05 17:58:33,383 WARNING: DeprecationWarning: Importing display from IPython.core.display is deprecated since IPython 7.14, please import from IPython display\n",
      "\n"
     ]
    },
    {
     "data": {
      "text/html": [
       "<style>\n",
       "    table.wandb td:nth-child(1) { padding: 0 10px; text-align: left ; width: auto;} td:nth-child(2) {text-align: left ; width: 100%}\n",
       "    .wandb-row { display: flex; flex-direction: row; flex-wrap: wrap; justify-content: flex-start; width: 100% }\n",
       "    .wandb-col { display: flex; flex-direction: column; flex-basis: 100%; flex: 1; padding: 10px; }\n",
       "    </style>\n",
       "<div class=\"wandb-row\"><div class=\"wandb-col\"><h3>Run history:</h3><br/><table class=\"wandb\"><tr><td>f1_score</td><td>▁</td></tr><tr><td>f1_score_train</td><td>▁</td></tr><tr><td>f1_score_valid</td><td>▁</td></tr></table><br/></div><div class=\"wandb-col\"><h3>Run summary:</h3><br/><table class=\"wandb\"><tr><td>f1_score</td><td>0.67829</td></tr><tr><td>f1_score_train</td><td>0.93466</td></tr><tr><td>f1_score_valid</td><td>0.57248</td></tr></table><br/></div></div>"
      ],
      "text/plain": [
       "<IPython.core.display.HTML object>"
      ]
     },
     "metadata": {},
     "output_type": "display_data"
    },
    {
     "data": {
      "text/html": [
       " View run <strong style=\"color:#cdcd00\">dainty-sweep-71</strong> at: <a href='https://wandb.ai/harshmp/truck-delay-classification/runs/ix3ijplj' target=\"_blank\">https://wandb.ai/harshmp/truck-delay-classification/runs/ix3ijplj</a><br/>Synced 5 W&B file(s), 0 media file(s), 1 artifact file(s) and 0 other file(s)"
      ],
      "text/plain": [
       "<IPython.core.display.HTML object>"
      ]
     },
     "metadata": {},
     "output_type": "display_data"
    },
    {
     "data": {
      "text/html": [
       "Find logs at: <code>.\\wandb\\run-20240805_175824-ix3ijplj\\logs</code>"
      ],
      "text/plain": [
       "<IPython.core.display.HTML object>"
      ]
     },
     "metadata": {},
     "output_type": "display_data"
    },
    {
     "name": "stderr",
     "output_type": "stream",
     "text": [
      "Run ix3ijplj errored: FileNotFoundError(2, 'No such file or directory')\n",
      "wandb: ERROR Run ix3ijplj errored: FileNotFoundError(2, 'No such file or directory')\n",
      "wandb: Agent Starting Run: 95aw2mf1 with config:\n",
      "wandb: \tmax_depth: 20\n",
      "wandb: \tmin_samples_split: 4\n",
      "wandb: \tn_estimators: 20\n",
      "Failed to detect the name of this notebook, you can set it manually with the WANDB_NOTEBOOK_NAME environment variable to enable code saving.\n",
      "wandb: WARNING Ignored wandb.init() arg project when running a sweep.\n"
     ]
    },
    {
     "data": {
      "text/html": [
       "wandb version 0.17.5 is available!  To upgrade, please run:\n",
       " $ pip install wandb --upgrade"
      ],
      "text/plain": [
       "<IPython.core.display.HTML object>"
      ]
     },
     "metadata": {},
     "output_type": "display_data"
    },
    {
     "data": {
      "text/html": [
       "Tracking run with wandb version 0.16.1"
      ],
      "text/plain": [
       "<IPython.core.display.HTML object>"
      ]
     },
     "metadata": {},
     "output_type": "display_data"
    },
    {
     "data": {
      "text/html": [
       "Run data is saved locally in <code>e:\\Artificial Intelligence\\Projects\\Predictive-Truck-Delay-Management-in-Logistics\\wandb\\run-20240805_175840-95aw2mf1</code>"
      ],
      "text/plain": [
       "<IPython.core.display.HTML object>"
      ]
     },
     "metadata": {},
     "output_type": "display_data"
    },
    {
     "data": {
      "text/html": [
       "Syncing run <strong><a href='https://wandb.ai/harshmp/truck-delay-classification/runs/95aw2mf1' target=\"_blank\">worldly-sweep-72</a></strong> to <a href='https://wandb.ai/harshmp/truck-delay-classification' target=\"_blank\">Weights & Biases</a> (<a href='https://wandb.me/run' target=\"_blank\">docs</a>)<br/>Sweep page: <a href='https://wandb.ai/harshmp/truck-delay-classification/sweeps/20442i5p' target=\"_blank\">https://wandb.ai/harshmp/truck-delay-classification/sweeps/20442i5p</a>"
      ],
      "text/plain": [
       "<IPython.core.display.HTML object>"
      ]
     },
     "metadata": {},
     "output_type": "display_data"
    },
    {
     "data": {
      "text/html": [
       " View project at <a href='https://wandb.ai/harshmp/truck-delay-classification' target=\"_blank\">https://wandb.ai/harshmp/truck-delay-classification</a>"
      ],
      "text/plain": [
       "<IPython.core.display.HTML object>"
      ]
     },
     "metadata": {},
     "output_type": "display_data"
    },
    {
     "data": {
      "text/html": [
       " View sweep at <a href='https://wandb.ai/harshmp/truck-delay-classification/sweeps/20442i5p' target=\"_blank\">https://wandb.ai/harshmp/truck-delay-classification/sweeps/20442i5p</a>"
      ],
      "text/plain": [
       "<IPython.core.display.HTML object>"
      ]
     },
     "metadata": {},
     "output_type": "display_data"
    },
    {
     "data": {
      "text/html": [
       " View run at <a href='https://wandb.ai/harshmp/truck-delay-classification/runs/95aw2mf1' target=\"_blank\">https://wandb.ai/harshmp/truck-delay-classification/runs/95aw2mf1</a>"
      ],
      "text/plain": [
       "<IPython.core.display.HTML object>"
      ]
     },
     "metadata": {},
     "output_type": "display_data"
    },
    {
     "name": "stdout",
     "output_type": "stream",
     "text": [
      "F1_score Train: 0.945\n",
      "F1_score Valid: 0.5814\n",
      "F1_score Test: 0.6779\n"
     ]
    },
    {
     "name": "stderr",
     "output_type": "stream",
     "text": [
      "wandb: \n",
      "wandb: Plotting RandomForestClassifier.\n",
      "Traceback (most recent call last):\n",
      "  File \"C:\\Users\\harsh\\AppData\\Local\\Temp\\ipykernel_18532\\2640226391.py\", line 44, in train_rf_model\n",
      "    wandb.sklearn.plot_classifier(model, X_train, X_test, y_train, y_test, y_preds, y_probas, labels=None,\n",
      "  File \"c:\\Users\\harsh\\anaconda3\\envs\\truck-delay\\lib\\site-packages\\wandb\\sklearn\\plot\\classifier.py\", line 82, in classifier\n",
      "    feature_importances(model, feature_names)\n",
      "  File \"c:\\Users\\harsh\\anaconda3\\envs\\truck-delay\\lib\\site-packages\\wandb\\sklearn\\plot\\classifier.py\", line 250, in feature_importances\n",
      "    wandb.log({\"feature_importances\": feature_importance_chart})\n",
      "  File \"c:\\Users\\harsh\\anaconda3\\envs\\truck-delay\\lib\\site-packages\\wandb\\sdk\\wandb_run.py\", line 420, in wrapper\n",
      "    return func(self, *args, **kwargs)\n",
      "  File \"c:\\Users\\harsh\\anaconda3\\envs\\truck-delay\\lib\\site-packages\\wandb\\sdk\\wandb_run.py\", line 371, in wrapper_fn\n",
      "    return func(self, *args, **kwargs)\n",
      "  File \"c:\\Users\\harsh\\anaconda3\\envs\\truck-delay\\lib\\site-packages\\wandb\\sdk\\wandb_run.py\", line 361, in wrapper\n",
      "    return func(self, *args, **kwargs)\n",
      "  File \"c:\\Users\\harsh\\anaconda3\\envs\\truck-delay\\lib\\site-packages\\wandb\\sdk\\wandb_run.py\", line 1820, in log\n",
      "    self._log(data=data, step=step, commit=commit)\n",
      "  File \"c:\\Users\\harsh\\anaconda3\\envs\\truck-delay\\lib\\site-packages\\wandb\\sdk\\wandb_run.py\", line 1595, in _log\n",
      "    self._partial_history_callback(data, step, commit)\n",
      "  File \"c:\\Users\\harsh\\anaconda3\\envs\\truck-delay\\lib\\site-packages\\wandb\\sdk\\wandb_run.py\", line 1467, in _partial_history_callback\n",
      "    self._backend.interface.publish_partial_history(\n",
      "  File \"c:\\Users\\harsh\\anaconda3\\envs\\truck-delay\\lib\\site-packages\\wandb\\sdk\\interface\\interface.py\", line 549, in publish_partial_history\n",
      "    data = history_dict_to_json(run, data, step=user_step, ignore_copy_err=True)\n",
      "  File \"c:\\Users\\harsh\\anaconda3\\envs\\truck-delay\\lib\\site-packages\\wandb\\sdk\\data_types\\utils.py\", line 52, in history_dict_to_json\n",
      "    payload[key] = val_to_json(\n",
      "  File \"c:\\Users\\harsh\\anaconda3\\envs\\truck-delay\\lib\\site-packages\\wandb\\sdk\\data_types\\utils.py\", line 164, in val_to_json\n",
      "    val.bind_to_run(run, key, namespace)\n",
      "  File \"c:\\Users\\harsh\\anaconda3\\envs\\truck-delay\\lib\\site-packages\\wandb\\data_types.py\", line 541, in bind_to_run\n",
      "    with codecs.open(tmp_path, \"w\", encoding=\"utf-8\") as fp:\n",
      "  File \"c:\\Users\\harsh\\anaconda3\\envs\\truck-delay\\lib\\codecs.py\", line 905, in open\n",
      "    file = builtins.open(filename, mode, buffering)\n",
      "FileNotFoundError: [Errno 2] No such file or directory: 'C:\\\\Users\\\\harsh\\\\AppData\\\\Local\\\\Temp\\\\tmpqphwv_07wandb-media\\\\6nrs12g2.table.json'\n"
     ]
    },
    {
     "name": "stdout",
     "output_type": "stream",
     "text": [
      "2024-08-05 17:58:44,747 WARNING: DeprecationWarning: Importing display from IPython.core.display is deprecated since IPython 7.14, please import from IPython display\n",
      "\n"
     ]
    },
    {
     "data": {
      "application/vnd.jupyter.widget-view+json": {
       "model_id": "14a6b48cfcb14707a692e2d6af395e0f",
       "version_major": 2,
       "version_minor": 0
      },
      "text/plain": [
       "VBox(children=(Label(value='0.010 MB of 0.010 MB uploaded\\r'), FloatProgress(value=1.0, max=1.0)))"
      ]
     },
     "metadata": {},
     "output_type": "display_data"
    },
    {
     "name": "stdout",
     "output_type": "stream",
     "text": [
      "2024-08-05 17:58:48,772 WARNING: DeprecationWarning: Importing display from IPython.core.display is deprecated since IPython 7.14, please import from IPython display\n",
      "\n"
     ]
    },
    {
     "data": {
      "text/html": [
       "<style>\n",
       "    table.wandb td:nth-child(1) { padding: 0 10px; text-align: left ; width: auto;} td:nth-child(2) {text-align: left ; width: 100%}\n",
       "    .wandb-row { display: flex; flex-direction: row; flex-wrap: wrap; justify-content: flex-start; width: 100% }\n",
       "    .wandb-col { display: flex; flex-direction: column; flex-basis: 100%; flex: 1; padding: 10px; }\n",
       "    </style>\n",
       "<div class=\"wandb-row\"><div class=\"wandb-col\"><h3>Run history:</h3><br/><table class=\"wandb\"><tr><td>f1_score</td><td>▁</td></tr><tr><td>f1_score_train</td><td>▁</td></tr><tr><td>f1_score_valid</td><td>▁</td></tr></table><br/></div><div class=\"wandb-col\"><h3>Run summary:</h3><br/><table class=\"wandb\"><tr><td>f1_score</td><td>0.67787</td></tr><tr><td>f1_score_train</td><td>0.94502</td></tr><tr><td>f1_score_valid</td><td>0.58145</td></tr></table><br/></div></div>"
      ],
      "text/plain": [
       "<IPython.core.display.HTML object>"
      ]
     },
     "metadata": {},
     "output_type": "display_data"
    },
    {
     "data": {
      "text/html": [
       " View run <strong style=\"color:#cdcd00\">worldly-sweep-72</strong> at: <a href='https://wandb.ai/harshmp/truck-delay-classification/runs/95aw2mf1' target=\"_blank\">https://wandb.ai/harshmp/truck-delay-classification/runs/95aw2mf1</a><br/>Synced 5 W&B file(s), 0 media file(s), 1 artifact file(s) and 0 other file(s)"
      ],
      "text/plain": [
       "<IPython.core.display.HTML object>"
      ]
     },
     "metadata": {},
     "output_type": "display_data"
    },
    {
     "data": {
      "text/html": [
       "Find logs at: <code>.\\wandb\\run-20240805_175840-95aw2mf1\\logs</code>"
      ],
      "text/plain": [
       "<IPython.core.display.HTML object>"
      ]
     },
     "metadata": {},
     "output_type": "display_data"
    },
    {
     "name": "stderr",
     "output_type": "stream",
     "text": [
      "Run 95aw2mf1 errored: FileNotFoundError(2, 'No such file or directory')\n",
      "wandb: ERROR Run 95aw2mf1 errored: FileNotFoundError(2, 'No such file or directory')\n",
      "wandb: Agent Starting Run: 1ommltx4 with config:\n",
      "wandb: \tmax_depth: 20\n",
      "wandb: \tmin_samples_split: 8\n",
      "wandb: \tn_estimators: 8\n",
      "Failed to detect the name of this notebook, you can set it manually with the WANDB_NOTEBOOK_NAME environment variable to enable code saving.\n",
      "wandb: WARNING Ignored wandb.init() arg project when running a sweep.\n"
     ]
    },
    {
     "data": {
      "application/vnd.jupyter.widget-view+json": {
       "model_id": "938ec04cf426420a9dfe70ebd6e01cd5",
       "version_major": 2,
       "version_minor": 0
      },
      "text/plain": [
       "VBox(children=(Label(value='Waiting for wandb.init()...\\r'), FloatProgress(value=0.011288888888925108, max=1.0…"
      ]
     },
     "metadata": {},
     "output_type": "display_data"
    },
    {
     "data": {
      "text/html": [
       "wandb version 0.17.5 is available!  To upgrade, please run:\n",
       " $ pip install wandb --upgrade"
      ],
      "text/plain": [
       "<IPython.core.display.HTML object>"
      ]
     },
     "metadata": {},
     "output_type": "display_data"
    },
    {
     "data": {
      "text/html": [
       "Tracking run with wandb version 0.16.1"
      ],
      "text/plain": [
       "<IPython.core.display.HTML object>"
      ]
     },
     "metadata": {},
     "output_type": "display_data"
    },
    {
     "data": {
      "text/html": [
       "Run data is saved locally in <code>e:\\Artificial Intelligence\\Projects\\Predictive-Truck-Delay-Management-in-Logistics\\wandb\\run-20240805_175855-1ommltx4</code>"
      ],
      "text/plain": [
       "<IPython.core.display.HTML object>"
      ]
     },
     "metadata": {},
     "output_type": "display_data"
    },
    {
     "data": {
      "text/html": [
       "Syncing run <strong><a href='https://wandb.ai/harshmp/truck-delay-classification/runs/1ommltx4' target=\"_blank\">clean-sweep-73</a></strong> to <a href='https://wandb.ai/harshmp/truck-delay-classification' target=\"_blank\">Weights & Biases</a> (<a href='https://wandb.me/run' target=\"_blank\">docs</a>)<br/>Sweep page: <a href='https://wandb.ai/harshmp/truck-delay-classification/sweeps/20442i5p' target=\"_blank\">https://wandb.ai/harshmp/truck-delay-classification/sweeps/20442i5p</a>"
      ],
      "text/plain": [
       "<IPython.core.display.HTML object>"
      ]
     },
     "metadata": {},
     "output_type": "display_data"
    },
    {
     "data": {
      "text/html": [
       " View project at <a href='https://wandb.ai/harshmp/truck-delay-classification' target=\"_blank\">https://wandb.ai/harshmp/truck-delay-classification</a>"
      ],
      "text/plain": [
       "<IPython.core.display.HTML object>"
      ]
     },
     "metadata": {},
     "output_type": "display_data"
    },
    {
     "data": {
      "text/html": [
       " View sweep at <a href='https://wandb.ai/harshmp/truck-delay-classification/sweeps/20442i5p' target=\"_blank\">https://wandb.ai/harshmp/truck-delay-classification/sweeps/20442i5p</a>"
      ],
      "text/plain": [
       "<IPython.core.display.HTML object>"
      ]
     },
     "metadata": {},
     "output_type": "display_data"
    },
    {
     "data": {
      "text/html": [
       " View run at <a href='https://wandb.ai/harshmp/truck-delay-classification/runs/1ommltx4' target=\"_blank\">https://wandb.ai/harshmp/truck-delay-classification/runs/1ommltx4</a>"
      ],
      "text/plain": [
       "<IPython.core.display.HTML object>"
      ]
     },
     "metadata": {},
     "output_type": "display_data"
    },
    {
     "name": "stdout",
     "output_type": "stream",
     "text": [
      "F1_score Train: 0.8783\n",
      "F1_score Valid: 0.574\n",
      "F1_score Test: 0.6807\n"
     ]
    },
    {
     "name": "stderr",
     "output_type": "stream",
     "text": [
      "wandb: \n",
      "wandb: Plotting RandomForestClassifier.\n",
      "Traceback (most recent call last):\n",
      "  File \"C:\\Users\\harsh\\AppData\\Local\\Temp\\ipykernel_18532\\2640226391.py\", line 44, in train_rf_model\n",
      "    wandb.sklearn.plot_classifier(model, X_train, X_test, y_train, y_test, y_preds, y_probas, labels=None,\n",
      "  File \"c:\\Users\\harsh\\anaconda3\\envs\\truck-delay\\lib\\site-packages\\wandb\\sklearn\\plot\\classifier.py\", line 82, in classifier\n",
      "    feature_importances(model, feature_names)\n",
      "  File \"c:\\Users\\harsh\\anaconda3\\envs\\truck-delay\\lib\\site-packages\\wandb\\sklearn\\plot\\classifier.py\", line 250, in feature_importances\n",
      "    wandb.log({\"feature_importances\": feature_importance_chart})\n",
      "  File \"c:\\Users\\harsh\\anaconda3\\envs\\truck-delay\\lib\\site-packages\\wandb\\sdk\\wandb_run.py\", line 420, in wrapper\n",
      "    return func(self, *args, **kwargs)\n",
      "  File \"c:\\Users\\harsh\\anaconda3\\envs\\truck-delay\\lib\\site-packages\\wandb\\sdk\\wandb_run.py\", line 371, in wrapper_fn\n",
      "    return func(self, *args, **kwargs)\n",
      "  File \"c:\\Users\\harsh\\anaconda3\\envs\\truck-delay\\lib\\site-packages\\wandb\\sdk\\wandb_run.py\", line 361, in wrapper\n",
      "    return func(self, *args, **kwargs)\n",
      "  File \"c:\\Users\\harsh\\anaconda3\\envs\\truck-delay\\lib\\site-packages\\wandb\\sdk\\wandb_run.py\", line 1820, in log\n",
      "    self._log(data=data, step=step, commit=commit)\n",
      "  File \"c:\\Users\\harsh\\anaconda3\\envs\\truck-delay\\lib\\site-packages\\wandb\\sdk\\wandb_run.py\", line 1595, in _log\n",
      "    self._partial_history_callback(data, step, commit)\n",
      "  File \"c:\\Users\\harsh\\anaconda3\\envs\\truck-delay\\lib\\site-packages\\wandb\\sdk\\wandb_run.py\", line 1467, in _partial_history_callback\n",
      "    self._backend.interface.publish_partial_history(\n",
      "  File \"c:\\Users\\harsh\\anaconda3\\envs\\truck-delay\\lib\\site-packages\\wandb\\sdk\\interface\\interface.py\", line 549, in publish_partial_history\n",
      "    data = history_dict_to_json(run, data, step=user_step, ignore_copy_err=True)\n",
      "  File \"c:\\Users\\harsh\\anaconda3\\envs\\truck-delay\\lib\\site-packages\\wandb\\sdk\\data_types\\utils.py\", line 52, in history_dict_to_json\n",
      "    payload[key] = val_to_json(\n",
      "  File \"c:\\Users\\harsh\\anaconda3\\envs\\truck-delay\\lib\\site-packages\\wandb\\sdk\\data_types\\utils.py\", line 164, in val_to_json\n",
      "    val.bind_to_run(run, key, namespace)\n",
      "  File \"c:\\Users\\harsh\\anaconda3\\envs\\truck-delay\\lib\\site-packages\\wandb\\data_types.py\", line 541, in bind_to_run\n",
      "    with codecs.open(tmp_path, \"w\", encoding=\"utf-8\") as fp:\n",
      "  File \"c:\\Users\\harsh\\anaconda3\\envs\\truck-delay\\lib\\codecs.py\", line 905, in open\n",
      "    file = builtins.open(filename, mode, buffering)\n",
      "FileNotFoundError: [Errno 2] No such file or directory: 'C:\\\\Users\\\\harsh\\\\AppData\\\\Local\\\\Temp\\\\tmpqphwv_07wandb-media\\\\fudvg944.table.json'\n"
     ]
    },
    {
     "name": "stdout",
     "output_type": "stream",
     "text": [
      "2024-08-05 17:59:05,394 WARNING: DeprecationWarning: Importing display from IPython.core.display is deprecated since IPython 7.14, please import from IPython display\n",
      "\n"
     ]
    },
    {
     "data": {
      "application/vnd.jupyter.widget-view+json": {
       "model_id": "6dca662c898f489d8e3080bcbc8afd85",
       "version_major": 2,
       "version_minor": 0
      },
      "text/plain": [
       "VBox(children=(Label(value='0.010 MB of 0.010 MB uploaded\\r'), FloatProgress(value=1.0, max=1.0)))"
      ]
     },
     "metadata": {},
     "output_type": "display_data"
    },
    {
     "name": "stdout",
     "output_type": "stream",
     "text": [
      "2024-08-05 17:59:11,616 WARNING: DeprecationWarning: Importing display from IPython.core.display is deprecated since IPython 7.14, please import from IPython display\n",
      "\n"
     ]
    },
    {
     "data": {
      "text/html": [
       "<style>\n",
       "    table.wandb td:nth-child(1) { padding: 0 10px; text-align: left ; width: auto;} td:nth-child(2) {text-align: left ; width: 100%}\n",
       "    .wandb-row { display: flex; flex-direction: row; flex-wrap: wrap; justify-content: flex-start; width: 100% }\n",
       "    .wandb-col { display: flex; flex-direction: column; flex-basis: 100%; flex: 1; padding: 10px; }\n",
       "    </style>\n",
       "<div class=\"wandb-row\"><div class=\"wandb-col\"><h3>Run history:</h3><br/><table class=\"wandb\"><tr><td>f1_score</td><td>▁</td></tr><tr><td>f1_score_train</td><td>▁</td></tr><tr><td>f1_score_valid</td><td>▁</td></tr></table><br/></div><div class=\"wandb-col\"><h3>Run summary:</h3><br/><table class=\"wandb\"><tr><td>f1_score</td><td>0.68067</td></tr><tr><td>f1_score_train</td><td>0.87828</td></tr><tr><td>f1_score_valid</td><td>0.57402</td></tr></table><br/></div></div>"
      ],
      "text/plain": [
       "<IPython.core.display.HTML object>"
      ]
     },
     "metadata": {},
     "output_type": "display_data"
    },
    {
     "data": {
      "text/html": [
       " View run <strong style=\"color:#cdcd00\">clean-sweep-73</strong> at: <a href='https://wandb.ai/harshmp/truck-delay-classification/runs/1ommltx4' target=\"_blank\">https://wandb.ai/harshmp/truck-delay-classification/runs/1ommltx4</a><br/>Synced 5 W&B file(s), 0 media file(s), 1 artifact file(s) and 0 other file(s)"
      ],
      "text/plain": [
       "<IPython.core.display.HTML object>"
      ]
     },
     "metadata": {},
     "output_type": "display_data"
    },
    {
     "data": {
      "text/html": [
       "Find logs at: <code>.\\wandb\\run-20240805_175855-1ommltx4\\logs</code>"
      ],
      "text/plain": [
       "<IPython.core.display.HTML object>"
      ]
     },
     "metadata": {},
     "output_type": "display_data"
    },
    {
     "name": "stderr",
     "output_type": "stream",
     "text": [
      "Run 1ommltx4 errored: FileNotFoundError(2, 'No such file or directory')\n",
      "wandb: ERROR Run 1ommltx4 errored: FileNotFoundError(2, 'No such file or directory')\n",
      "wandb: Agent Starting Run: r3munxcn with config:\n",
      "wandb: \tmax_depth: 20\n",
      "wandb: \tmin_samples_split: 8\n",
      "wandb: \tn_estimators: 12\n",
      "Failed to detect the name of this notebook, you can set it manually with the WANDB_NOTEBOOK_NAME environment variable to enable code saving.\n",
      "wandb: WARNING Ignored wandb.init() arg project when running a sweep.\n"
     ]
    },
    {
     "data": {
      "text/html": [
       "wandb version 0.17.5 is available!  To upgrade, please run:\n",
       " $ pip install wandb --upgrade"
      ],
      "text/plain": [
       "<IPython.core.display.HTML object>"
      ]
     },
     "metadata": {},
     "output_type": "display_data"
    },
    {
     "data": {
      "text/html": [
       "Tracking run with wandb version 0.16.1"
      ],
      "text/plain": [
       "<IPython.core.display.HTML object>"
      ]
     },
     "metadata": {},
     "output_type": "display_data"
    },
    {
     "data": {
      "text/html": [
       "Run data is saved locally in <code>e:\\Artificial Intelligence\\Projects\\Predictive-Truck-Delay-Management-in-Logistics\\wandb\\run-20240805_175920-r3munxcn</code>"
      ],
      "text/plain": [
       "<IPython.core.display.HTML object>"
      ]
     },
     "metadata": {},
     "output_type": "display_data"
    },
    {
     "data": {
      "text/html": [
       "Syncing run <strong><a href='https://wandb.ai/harshmp/truck-delay-classification/runs/r3munxcn' target=\"_blank\">amber-sweep-74</a></strong> to <a href='https://wandb.ai/harshmp/truck-delay-classification' target=\"_blank\">Weights & Biases</a> (<a href='https://wandb.me/run' target=\"_blank\">docs</a>)<br/>Sweep page: <a href='https://wandb.ai/harshmp/truck-delay-classification/sweeps/20442i5p' target=\"_blank\">https://wandb.ai/harshmp/truck-delay-classification/sweeps/20442i5p</a>"
      ],
      "text/plain": [
       "<IPython.core.display.HTML object>"
      ]
     },
     "metadata": {},
     "output_type": "display_data"
    },
    {
     "data": {
      "text/html": [
       " View project at <a href='https://wandb.ai/harshmp/truck-delay-classification' target=\"_blank\">https://wandb.ai/harshmp/truck-delay-classification</a>"
      ],
      "text/plain": [
       "<IPython.core.display.HTML object>"
      ]
     },
     "metadata": {},
     "output_type": "display_data"
    },
    {
     "data": {
      "text/html": [
       " View sweep at <a href='https://wandb.ai/harshmp/truck-delay-classification/sweeps/20442i5p' target=\"_blank\">https://wandb.ai/harshmp/truck-delay-classification/sweeps/20442i5p</a>"
      ],
      "text/plain": [
       "<IPython.core.display.HTML object>"
      ]
     },
     "metadata": {},
     "output_type": "display_data"
    },
    {
     "data": {
      "text/html": [
       " View run at <a href='https://wandb.ai/harshmp/truck-delay-classification/runs/r3munxcn' target=\"_blank\">https://wandb.ai/harshmp/truck-delay-classification/runs/r3munxcn</a>"
      ],
      "text/plain": [
       "<IPython.core.display.HTML object>"
      ]
     },
     "metadata": {},
     "output_type": "display_data"
    },
    {
     "name": "stdout",
     "output_type": "stream",
     "text": [
      "F1_score Train: 0.8898\n",
      "F1_score Valid: 0.6144\n",
      "F1_score Test: 0.7076\n"
     ]
    },
    {
     "name": "stderr",
     "output_type": "stream",
     "text": [
      "wandb: \n",
      "wandb: Plotting RandomForestClassifier.\n",
      "Traceback (most recent call last):\n",
      "  File \"C:\\Users\\harsh\\AppData\\Local\\Temp\\ipykernel_18532\\2640226391.py\", line 44, in train_rf_model\n",
      "    wandb.sklearn.plot_classifier(model, X_train, X_test, y_train, y_test, y_preds, y_probas, labels=None,\n",
      "  File \"c:\\Users\\harsh\\anaconda3\\envs\\truck-delay\\lib\\site-packages\\wandb\\sklearn\\plot\\classifier.py\", line 82, in classifier\n",
      "    feature_importances(model, feature_names)\n",
      "  File \"c:\\Users\\harsh\\anaconda3\\envs\\truck-delay\\lib\\site-packages\\wandb\\sklearn\\plot\\classifier.py\", line 250, in feature_importances\n",
      "    wandb.log({\"feature_importances\": feature_importance_chart})\n",
      "  File \"c:\\Users\\harsh\\anaconda3\\envs\\truck-delay\\lib\\site-packages\\wandb\\sdk\\wandb_run.py\", line 420, in wrapper\n",
      "    return func(self, *args, **kwargs)\n",
      "  File \"c:\\Users\\harsh\\anaconda3\\envs\\truck-delay\\lib\\site-packages\\wandb\\sdk\\wandb_run.py\", line 371, in wrapper_fn\n",
      "    return func(self, *args, **kwargs)\n",
      "  File \"c:\\Users\\harsh\\anaconda3\\envs\\truck-delay\\lib\\site-packages\\wandb\\sdk\\wandb_run.py\", line 361, in wrapper\n",
      "    return func(self, *args, **kwargs)\n",
      "  File \"c:\\Users\\harsh\\anaconda3\\envs\\truck-delay\\lib\\site-packages\\wandb\\sdk\\wandb_run.py\", line 1820, in log\n",
      "    self._log(data=data, step=step, commit=commit)\n",
      "  File \"c:\\Users\\harsh\\anaconda3\\envs\\truck-delay\\lib\\site-packages\\wandb\\sdk\\wandb_run.py\", line 1595, in _log\n",
      "    self._partial_history_callback(data, step, commit)\n",
      "  File \"c:\\Users\\harsh\\anaconda3\\envs\\truck-delay\\lib\\site-packages\\wandb\\sdk\\wandb_run.py\", line 1467, in _partial_history_callback\n",
      "    self._backend.interface.publish_partial_history(\n",
      "  File \"c:\\Users\\harsh\\anaconda3\\envs\\truck-delay\\lib\\site-packages\\wandb\\sdk\\interface\\interface.py\", line 549, in publish_partial_history\n",
      "    data = history_dict_to_json(run, data, step=user_step, ignore_copy_err=True)\n",
      "  File \"c:\\Users\\harsh\\anaconda3\\envs\\truck-delay\\lib\\site-packages\\wandb\\sdk\\data_types\\utils.py\", line 52, in history_dict_to_json\n",
      "    payload[key] = val_to_json(\n",
      "  File \"c:\\Users\\harsh\\anaconda3\\envs\\truck-delay\\lib\\site-packages\\wandb\\sdk\\data_types\\utils.py\", line 164, in val_to_json\n",
      "    val.bind_to_run(run, key, namespace)\n",
      "  File \"c:\\Users\\harsh\\anaconda3\\envs\\truck-delay\\lib\\site-packages\\wandb\\data_types.py\", line 541, in bind_to_run\n",
      "    with codecs.open(tmp_path, \"w\", encoding=\"utf-8\") as fp:\n",
      "  File \"c:\\Users\\harsh\\anaconda3\\envs\\truck-delay\\lib\\codecs.py\", line 905, in open\n",
      "    file = builtins.open(filename, mode, buffering)\n",
      "FileNotFoundError: [Errno 2] No such file or directory: 'C:\\\\Users\\\\harsh\\\\AppData\\\\Local\\\\Temp\\\\tmpqphwv_07wandb-media\\\\we0b4v3j.table.json'\n"
     ]
    },
    {
     "name": "stdout",
     "output_type": "stream",
     "text": [
      "2024-08-05 17:59:25,362 WARNING: DeprecationWarning: Importing display from IPython.core.display is deprecated since IPython 7.14, please import from IPython display\n",
      "\n"
     ]
    },
    {
     "data": {
      "application/vnd.jupyter.widget-view+json": {
       "model_id": "edc864b9aa7041469e12b8f9e1f087f3",
       "version_major": 2,
       "version_minor": 0
      },
      "text/plain": [
       "VBox(children=(Label(value='0.010 MB of 0.010 MB uploaded\\r'), FloatProgress(value=1.0, max=1.0)))"
      ]
     },
     "metadata": {},
     "output_type": "display_data"
    },
    {
     "name": "stdout",
     "output_type": "stream",
     "text": [
      "2024-08-05 17:59:29,496 WARNING: DeprecationWarning: Importing display from IPython.core.display is deprecated since IPython 7.14, please import from IPython display\n",
      "\n"
     ]
    },
    {
     "data": {
      "text/html": [
       "<style>\n",
       "    table.wandb td:nth-child(1) { padding: 0 10px; text-align: left ; width: auto;} td:nth-child(2) {text-align: left ; width: 100%}\n",
       "    .wandb-row { display: flex; flex-direction: row; flex-wrap: wrap; justify-content: flex-start; width: 100% }\n",
       "    .wandb-col { display: flex; flex-direction: column; flex-basis: 100%; flex: 1; padding: 10px; }\n",
       "    </style>\n",
       "<div class=\"wandb-row\"><div class=\"wandb-col\"><h3>Run history:</h3><br/><table class=\"wandb\"><tr><td>f1_score</td><td>▁</td></tr><tr><td>f1_score_train</td><td>▁</td></tr><tr><td>f1_score_valid</td><td>▁</td></tr></table><br/></div><div class=\"wandb-col\"><h3>Run summary:</h3><br/><table class=\"wandb\"><tr><td>f1_score</td><td>0.70761</td></tr><tr><td>f1_score_train</td><td>0.88978</td></tr><tr><td>f1_score_valid</td><td>0.61442</td></tr></table><br/></div></div>"
      ],
      "text/plain": [
       "<IPython.core.display.HTML object>"
      ]
     },
     "metadata": {},
     "output_type": "display_data"
    },
    {
     "data": {
      "text/html": [
       " View run <strong style=\"color:#cdcd00\">amber-sweep-74</strong> at: <a href='https://wandb.ai/harshmp/truck-delay-classification/runs/r3munxcn' target=\"_blank\">https://wandb.ai/harshmp/truck-delay-classification/runs/r3munxcn</a><br/>Synced 5 W&B file(s), 0 media file(s), 1 artifact file(s) and 0 other file(s)"
      ],
      "text/plain": [
       "<IPython.core.display.HTML object>"
      ]
     },
     "metadata": {},
     "output_type": "display_data"
    },
    {
     "data": {
      "text/html": [
       "Find logs at: <code>.\\wandb\\run-20240805_175920-r3munxcn\\logs</code>"
      ],
      "text/plain": [
       "<IPython.core.display.HTML object>"
      ]
     },
     "metadata": {},
     "output_type": "display_data"
    },
    {
     "name": "stderr",
     "output_type": "stream",
     "text": [
      "Run r3munxcn errored: FileNotFoundError(2, 'No such file or directory')\n",
      "wandb: ERROR Run r3munxcn errored: FileNotFoundError(2, 'No such file or directory')\n",
      "wandb: Agent Starting Run: raca0u83 with config:\n",
      "wandb: \tmax_depth: 20\n",
      "wandb: \tmin_samples_split: 8\n",
      "wandb: \tn_estimators: 16\n",
      "Failed to detect the name of this notebook, you can set it manually with the WANDB_NOTEBOOK_NAME environment variable to enable code saving.\n",
      "wandb: WARNING Ignored wandb.init() arg project when running a sweep.\n"
     ]
    },
    {
     "data": {
      "text/html": [
       "wandb version 0.17.5 is available!  To upgrade, please run:\n",
       " $ pip install wandb --upgrade"
      ],
      "text/plain": [
       "<IPython.core.display.HTML object>"
      ]
     },
     "metadata": {},
     "output_type": "display_data"
    },
    {
     "data": {
      "text/html": [
       "Tracking run with wandb version 0.16.1"
      ],
      "text/plain": [
       "<IPython.core.display.HTML object>"
      ]
     },
     "metadata": {},
     "output_type": "display_data"
    },
    {
     "data": {
      "text/html": [
       "Run data is saved locally in <code>e:\\Artificial Intelligence\\Projects\\Predictive-Truck-Delay-Management-in-Logistics\\wandb\\run-20240805_175936-raca0u83</code>"
      ],
      "text/plain": [
       "<IPython.core.display.HTML object>"
      ]
     },
     "metadata": {},
     "output_type": "display_data"
    },
    {
     "data": {
      "text/html": [
       "Syncing run <strong><a href='https://wandb.ai/harshmp/truck-delay-classification/runs/raca0u83' target=\"_blank\">misunderstood-sweep-75</a></strong> to <a href='https://wandb.ai/harshmp/truck-delay-classification' target=\"_blank\">Weights & Biases</a> (<a href='https://wandb.me/run' target=\"_blank\">docs</a>)<br/>Sweep page: <a href='https://wandb.ai/harshmp/truck-delay-classification/sweeps/20442i5p' target=\"_blank\">https://wandb.ai/harshmp/truck-delay-classification/sweeps/20442i5p</a>"
      ],
      "text/plain": [
       "<IPython.core.display.HTML object>"
      ]
     },
     "metadata": {},
     "output_type": "display_data"
    },
    {
     "data": {
      "text/html": [
       " View project at <a href='https://wandb.ai/harshmp/truck-delay-classification' target=\"_blank\">https://wandb.ai/harshmp/truck-delay-classification</a>"
      ],
      "text/plain": [
       "<IPython.core.display.HTML object>"
      ]
     },
     "metadata": {},
     "output_type": "display_data"
    },
    {
     "data": {
      "text/html": [
       " View sweep at <a href='https://wandb.ai/harshmp/truck-delay-classification/sweeps/20442i5p' target=\"_blank\">https://wandb.ai/harshmp/truck-delay-classification/sweeps/20442i5p</a>"
      ],
      "text/plain": [
       "<IPython.core.display.HTML object>"
      ]
     },
     "metadata": {},
     "output_type": "display_data"
    },
    {
     "data": {
      "text/html": [
       " View run at <a href='https://wandb.ai/harshmp/truck-delay-classification/runs/raca0u83' target=\"_blank\">https://wandb.ai/harshmp/truck-delay-classification/runs/raca0u83</a>"
      ],
      "text/plain": [
       "<IPython.core.display.HTML object>"
      ]
     },
     "metadata": {},
     "output_type": "display_data"
    },
    {
     "name": "stdout",
     "output_type": "stream",
     "text": [
      "F1_score Train: 0.8987\n",
      "F1_score Valid: 0.6237\n",
      "F1_score Test: 0.7079\n"
     ]
    },
    {
     "name": "stderr",
     "output_type": "stream",
     "text": [
      "wandb: \n",
      "wandb: Plotting RandomForestClassifier.\n",
      "Traceback (most recent call last):\n",
      "  File \"C:\\Users\\harsh\\AppData\\Local\\Temp\\ipykernel_18532\\2640226391.py\", line 44, in train_rf_model\n",
      "    wandb.sklearn.plot_classifier(model, X_train, X_test, y_train, y_test, y_preds, y_probas, labels=None,\n",
      "  File \"c:\\Users\\harsh\\anaconda3\\envs\\truck-delay\\lib\\site-packages\\wandb\\sklearn\\plot\\classifier.py\", line 82, in classifier\n",
      "    feature_importances(model, feature_names)\n",
      "  File \"c:\\Users\\harsh\\anaconda3\\envs\\truck-delay\\lib\\site-packages\\wandb\\sklearn\\plot\\classifier.py\", line 250, in feature_importances\n",
      "    wandb.log({\"feature_importances\": feature_importance_chart})\n",
      "  File \"c:\\Users\\harsh\\anaconda3\\envs\\truck-delay\\lib\\site-packages\\wandb\\sdk\\wandb_run.py\", line 420, in wrapper\n",
      "    return func(self, *args, **kwargs)\n",
      "  File \"c:\\Users\\harsh\\anaconda3\\envs\\truck-delay\\lib\\site-packages\\wandb\\sdk\\wandb_run.py\", line 371, in wrapper_fn\n",
      "    return func(self, *args, **kwargs)\n",
      "  File \"c:\\Users\\harsh\\anaconda3\\envs\\truck-delay\\lib\\site-packages\\wandb\\sdk\\wandb_run.py\", line 361, in wrapper\n",
      "    return func(self, *args, **kwargs)\n",
      "  File \"c:\\Users\\harsh\\anaconda3\\envs\\truck-delay\\lib\\site-packages\\wandb\\sdk\\wandb_run.py\", line 1820, in log\n",
      "    self._log(data=data, step=step, commit=commit)\n",
      "  File \"c:\\Users\\harsh\\anaconda3\\envs\\truck-delay\\lib\\site-packages\\wandb\\sdk\\wandb_run.py\", line 1595, in _log\n",
      "    self._partial_history_callback(data, step, commit)\n",
      "  File \"c:\\Users\\harsh\\anaconda3\\envs\\truck-delay\\lib\\site-packages\\wandb\\sdk\\wandb_run.py\", line 1467, in _partial_history_callback\n",
      "    self._backend.interface.publish_partial_history(\n",
      "  File \"c:\\Users\\harsh\\anaconda3\\envs\\truck-delay\\lib\\site-packages\\wandb\\sdk\\interface\\interface.py\", line 549, in publish_partial_history\n",
      "    data = history_dict_to_json(run, data, step=user_step, ignore_copy_err=True)\n",
      "  File \"c:\\Users\\harsh\\anaconda3\\envs\\truck-delay\\lib\\site-packages\\wandb\\sdk\\data_types\\utils.py\", line 52, in history_dict_to_json\n",
      "    payload[key] = val_to_json(\n",
      "  File \"c:\\Users\\harsh\\anaconda3\\envs\\truck-delay\\lib\\site-packages\\wandb\\sdk\\data_types\\utils.py\", line 164, in val_to_json\n",
      "    val.bind_to_run(run, key, namespace)\n",
      "  File \"c:\\Users\\harsh\\anaconda3\\envs\\truck-delay\\lib\\site-packages\\wandb\\data_types.py\", line 541, in bind_to_run\n",
      "    with codecs.open(tmp_path, \"w\", encoding=\"utf-8\") as fp:\n",
      "  File \"c:\\Users\\harsh\\anaconda3\\envs\\truck-delay\\lib\\codecs.py\", line 905, in open\n",
      "    file = builtins.open(filename, mode, buffering)\n",
      "FileNotFoundError: [Errno 2] No such file or directory: 'C:\\\\Users\\\\harsh\\\\AppData\\\\Local\\\\Temp\\\\tmpqphwv_07wandb-media\\\\7155m0ik.table.json'\n"
     ]
    },
    {
     "name": "stdout",
     "output_type": "stream",
     "text": [
      "2024-08-05 17:59:40,832 WARNING: DeprecationWarning: Importing display from IPython.core.display is deprecated since IPython 7.14, please import from IPython display\n",
      "\n"
     ]
    },
    {
     "data": {
      "application/vnd.jupyter.widget-view+json": {
       "model_id": "2629dfe8ec5448db892accef7dd7ca71",
       "version_major": 2,
       "version_minor": 0
      },
      "text/plain": [
       "VBox(children=(Label(value='0.010 MB of 0.010 MB uploaded\\r'), FloatProgress(value=1.0, max=1.0)))"
      ]
     },
     "metadata": {},
     "output_type": "display_data"
    },
    {
     "name": "stdout",
     "output_type": "stream",
     "text": [
      "2024-08-05 17:59:44,893 WARNING: DeprecationWarning: Importing display from IPython.core.display is deprecated since IPython 7.14, please import from IPython display\n",
      "\n"
     ]
    },
    {
     "data": {
      "text/html": [
       "<style>\n",
       "    table.wandb td:nth-child(1) { padding: 0 10px; text-align: left ; width: auto;} td:nth-child(2) {text-align: left ; width: 100%}\n",
       "    .wandb-row { display: flex; flex-direction: row; flex-wrap: wrap; justify-content: flex-start; width: 100% }\n",
       "    .wandb-col { display: flex; flex-direction: column; flex-basis: 100%; flex: 1; padding: 10px; }\n",
       "    </style>\n",
       "<div class=\"wandb-row\"><div class=\"wandb-col\"><h3>Run history:</h3><br/><table class=\"wandb\"><tr><td>f1_score</td><td>▁</td></tr><tr><td>f1_score_train</td><td>▁</td></tr><tr><td>f1_score_valid</td><td>▁</td></tr></table><br/></div><div class=\"wandb-col\"><h3>Run summary:</h3><br/><table class=\"wandb\"><tr><td>f1_score</td><td>0.70789</td></tr><tr><td>f1_score_train</td><td>0.89872</td></tr><tr><td>f1_score_valid</td><td>0.62369</td></tr></table><br/></div></div>"
      ],
      "text/plain": [
       "<IPython.core.display.HTML object>"
      ]
     },
     "metadata": {},
     "output_type": "display_data"
    },
    {
     "data": {
      "text/html": [
       " View run <strong style=\"color:#cdcd00\">misunderstood-sweep-75</strong> at: <a href='https://wandb.ai/harshmp/truck-delay-classification/runs/raca0u83' target=\"_blank\">https://wandb.ai/harshmp/truck-delay-classification/runs/raca0u83</a><br/>Synced 5 W&B file(s), 0 media file(s), 1 artifact file(s) and 0 other file(s)"
      ],
      "text/plain": [
       "<IPython.core.display.HTML object>"
      ]
     },
     "metadata": {},
     "output_type": "display_data"
    },
    {
     "data": {
      "text/html": [
       "Find logs at: <code>.\\wandb\\run-20240805_175936-raca0u83\\logs</code>"
      ],
      "text/plain": [
       "<IPython.core.display.HTML object>"
      ]
     },
     "metadata": {},
     "output_type": "display_data"
    },
    {
     "name": "stderr",
     "output_type": "stream",
     "text": [
      "Run raca0u83 errored: FileNotFoundError(2, 'No such file or directory')\n",
      "wandb: ERROR Run raca0u83 errored: FileNotFoundError(2, 'No such file or directory')\n",
      "wandb: Agent Starting Run: 6iprfb9e with config:\n",
      "wandb: \tmax_depth: 20\n",
      "wandb: \tmin_samples_split: 8\n",
      "wandb: \tn_estimators: 20\n",
      "Failed to detect the name of this notebook, you can set it manually with the WANDB_NOTEBOOK_NAME environment variable to enable code saving.\n",
      "wandb: WARNING Ignored wandb.init() arg project when running a sweep.\n"
     ]
    },
    {
     "data": {
      "text/html": [
       "wandb version 0.17.5 is available!  To upgrade, please run:\n",
       " $ pip install wandb --upgrade"
      ],
      "text/plain": [
       "<IPython.core.display.HTML object>"
      ]
     },
     "metadata": {},
     "output_type": "display_data"
    },
    {
     "data": {
      "text/html": [
       "Tracking run with wandb version 0.16.1"
      ],
      "text/plain": [
       "<IPython.core.display.HTML object>"
      ]
     },
     "metadata": {},
     "output_type": "display_data"
    },
    {
     "data": {
      "text/html": [
       "Run data is saved locally in <code>e:\\Artificial Intelligence\\Projects\\Predictive-Truck-Delay-Management-in-Logistics\\wandb\\run-20240805_175951-6iprfb9e</code>"
      ],
      "text/plain": [
       "<IPython.core.display.HTML object>"
      ]
     },
     "metadata": {},
     "output_type": "display_data"
    },
    {
     "data": {
      "text/html": [
       "Syncing run <strong><a href='https://wandb.ai/harshmp/truck-delay-classification/runs/6iprfb9e' target=\"_blank\">serene-sweep-76</a></strong> to <a href='https://wandb.ai/harshmp/truck-delay-classification' target=\"_blank\">Weights & Biases</a> (<a href='https://wandb.me/run' target=\"_blank\">docs</a>)<br/>Sweep page: <a href='https://wandb.ai/harshmp/truck-delay-classification/sweeps/20442i5p' target=\"_blank\">https://wandb.ai/harshmp/truck-delay-classification/sweeps/20442i5p</a>"
      ],
      "text/plain": [
       "<IPython.core.display.HTML object>"
      ]
     },
     "metadata": {},
     "output_type": "display_data"
    },
    {
     "data": {
      "text/html": [
       " View project at <a href='https://wandb.ai/harshmp/truck-delay-classification' target=\"_blank\">https://wandb.ai/harshmp/truck-delay-classification</a>"
      ],
      "text/plain": [
       "<IPython.core.display.HTML object>"
      ]
     },
     "metadata": {},
     "output_type": "display_data"
    },
    {
     "data": {
      "text/html": [
       " View sweep at <a href='https://wandb.ai/harshmp/truck-delay-classification/sweeps/20442i5p' target=\"_blank\">https://wandb.ai/harshmp/truck-delay-classification/sweeps/20442i5p</a>"
      ],
      "text/plain": [
       "<IPython.core.display.HTML object>"
      ]
     },
     "metadata": {},
     "output_type": "display_data"
    },
    {
     "data": {
      "text/html": [
       " View run at <a href='https://wandb.ai/harshmp/truck-delay-classification/runs/6iprfb9e' target=\"_blank\">https://wandb.ai/harshmp/truck-delay-classification/runs/6iprfb9e</a>"
      ],
      "text/plain": [
       "<IPython.core.display.HTML object>"
      ]
     },
     "metadata": {},
     "output_type": "display_data"
    },
    {
     "name": "stdout",
     "output_type": "stream",
     "text": [
      "F1_score Train: 0.914\n",
      "F1_score Valid: 0.6225\n",
      "F1_score Test: 0.7137\n"
     ]
    },
    {
     "name": "stderr",
     "output_type": "stream",
     "text": [
      "wandb: \n",
      "wandb: Plotting RandomForestClassifier.\n",
      "Traceback (most recent call last):\n",
      "  File \"C:\\Users\\harsh\\AppData\\Local\\Temp\\ipykernel_18532\\2640226391.py\", line 44, in train_rf_model\n",
      "    wandb.sklearn.plot_classifier(model, X_train, X_test, y_train, y_test, y_preds, y_probas, labels=None,\n",
      "  File \"c:\\Users\\harsh\\anaconda3\\envs\\truck-delay\\lib\\site-packages\\wandb\\sklearn\\plot\\classifier.py\", line 82, in classifier\n",
      "    feature_importances(model, feature_names)\n",
      "  File \"c:\\Users\\harsh\\anaconda3\\envs\\truck-delay\\lib\\site-packages\\wandb\\sklearn\\plot\\classifier.py\", line 250, in feature_importances\n",
      "    wandb.log({\"feature_importances\": feature_importance_chart})\n",
      "  File \"c:\\Users\\harsh\\anaconda3\\envs\\truck-delay\\lib\\site-packages\\wandb\\sdk\\wandb_run.py\", line 420, in wrapper\n",
      "    return func(self, *args, **kwargs)\n",
      "  File \"c:\\Users\\harsh\\anaconda3\\envs\\truck-delay\\lib\\site-packages\\wandb\\sdk\\wandb_run.py\", line 371, in wrapper_fn\n",
      "    return func(self, *args, **kwargs)\n",
      "  File \"c:\\Users\\harsh\\anaconda3\\envs\\truck-delay\\lib\\site-packages\\wandb\\sdk\\wandb_run.py\", line 361, in wrapper\n",
      "    return func(self, *args, **kwargs)\n",
      "  File \"c:\\Users\\harsh\\anaconda3\\envs\\truck-delay\\lib\\site-packages\\wandb\\sdk\\wandb_run.py\", line 1820, in log\n",
      "    self._log(data=data, step=step, commit=commit)\n",
      "  File \"c:\\Users\\harsh\\anaconda3\\envs\\truck-delay\\lib\\site-packages\\wandb\\sdk\\wandb_run.py\", line 1595, in _log\n",
      "    self._partial_history_callback(data, step, commit)\n",
      "  File \"c:\\Users\\harsh\\anaconda3\\envs\\truck-delay\\lib\\site-packages\\wandb\\sdk\\wandb_run.py\", line 1467, in _partial_history_callback\n",
      "    self._backend.interface.publish_partial_history(\n",
      "  File \"c:\\Users\\harsh\\anaconda3\\envs\\truck-delay\\lib\\site-packages\\wandb\\sdk\\interface\\interface.py\", line 549, in publish_partial_history\n",
      "    data = history_dict_to_json(run, data, step=user_step, ignore_copy_err=True)\n",
      "  File \"c:\\Users\\harsh\\anaconda3\\envs\\truck-delay\\lib\\site-packages\\wandb\\sdk\\data_types\\utils.py\", line 52, in history_dict_to_json\n",
      "    payload[key] = val_to_json(\n",
      "  File \"c:\\Users\\harsh\\anaconda3\\envs\\truck-delay\\lib\\site-packages\\wandb\\sdk\\data_types\\utils.py\", line 164, in val_to_json\n",
      "    val.bind_to_run(run, key, namespace)\n",
      "  File \"c:\\Users\\harsh\\anaconda3\\envs\\truck-delay\\lib\\site-packages\\wandb\\data_types.py\", line 541, in bind_to_run\n",
      "    with codecs.open(tmp_path, \"w\", encoding=\"utf-8\") as fp:\n",
      "  File \"c:\\Users\\harsh\\anaconda3\\envs\\truck-delay\\lib\\codecs.py\", line 905, in open\n",
      "    file = builtins.open(filename, mode, buffering)\n",
      "FileNotFoundError: [Errno 2] No such file or directory: 'C:\\\\Users\\\\harsh\\\\AppData\\\\Local\\\\Temp\\\\tmpqphwv_07wandb-media\\\\cvuuyjni.table.json'\n"
     ]
    },
    {
     "name": "stdout",
     "output_type": "stream",
     "text": [
      "2024-08-05 17:59:56,166 WARNING: DeprecationWarning: Importing display from IPython.core.display is deprecated since IPython 7.14, please import from IPython display\n",
      "\n"
     ]
    },
    {
     "data": {
      "application/vnd.jupyter.widget-view+json": {
       "model_id": "62e1a454ee3345e9b9b351b9e7e1677c",
       "version_major": 2,
       "version_minor": 0
      },
      "text/plain": [
       "VBox(children=(Label(value='0.010 MB of 0.010 MB uploaded\\r'), FloatProgress(value=1.0, max=1.0)))"
      ]
     },
     "metadata": {},
     "output_type": "display_data"
    },
    {
     "name": "stdout",
     "output_type": "stream",
     "text": [
      "2024-08-05 18:00:00,170 WARNING: DeprecationWarning: Importing display from IPython.core.display is deprecated since IPython 7.14, please import from IPython display\n",
      "\n"
     ]
    },
    {
     "data": {
      "text/html": [
       "<style>\n",
       "    table.wandb td:nth-child(1) { padding: 0 10px; text-align: left ; width: auto;} td:nth-child(2) {text-align: left ; width: 100%}\n",
       "    .wandb-row { display: flex; flex-direction: row; flex-wrap: wrap; justify-content: flex-start; width: 100% }\n",
       "    .wandb-col { display: flex; flex-direction: column; flex-basis: 100%; flex: 1; padding: 10px; }\n",
       "    </style>\n",
       "<div class=\"wandb-row\"><div class=\"wandb-col\"><h3>Run history:</h3><br/><table class=\"wandb\"><tr><td>f1_score</td><td>▁</td></tr><tr><td>f1_score_train</td><td>▁</td></tr><tr><td>f1_score_valid</td><td>▁</td></tr></table><br/></div><div class=\"wandb-col\"><h3>Run summary:</h3><br/><table class=\"wandb\"><tr><td>f1_score</td><td>0.71368</td></tr><tr><td>f1_score_train</td><td>0.91402</td></tr><tr><td>f1_score_valid</td><td>0.62254</td></tr></table><br/></div></div>"
      ],
      "text/plain": [
       "<IPython.core.display.HTML object>"
      ]
     },
     "metadata": {},
     "output_type": "display_data"
    },
    {
     "data": {
      "text/html": [
       " View run <strong style=\"color:#cdcd00\">serene-sweep-76</strong> at: <a href='https://wandb.ai/harshmp/truck-delay-classification/runs/6iprfb9e' target=\"_blank\">https://wandb.ai/harshmp/truck-delay-classification/runs/6iprfb9e</a><br/>Synced 5 W&B file(s), 0 media file(s), 1 artifact file(s) and 0 other file(s)"
      ],
      "text/plain": [
       "<IPython.core.display.HTML object>"
      ]
     },
     "metadata": {},
     "output_type": "display_data"
    },
    {
     "data": {
      "text/html": [
       "Find logs at: <code>.\\wandb\\run-20240805_175951-6iprfb9e\\logs</code>"
      ],
      "text/plain": [
       "<IPython.core.display.HTML object>"
      ]
     },
     "metadata": {},
     "output_type": "display_data"
    },
    {
     "name": "stderr",
     "output_type": "stream",
     "text": [
      "Run 6iprfb9e errored: FileNotFoundError(2, 'No such file or directory')\n",
      "wandb: ERROR Run 6iprfb9e errored: FileNotFoundError(2, 'No such file or directory')\n",
      "wandb: Agent Starting Run: 7x4br7i2 with config:\n",
      "wandb: \tmax_depth: 20\n",
      "wandb: \tmin_samples_split: 12\n",
      "wandb: \tn_estimators: 8\n",
      "Failed to detect the name of this notebook, you can set it manually with the WANDB_NOTEBOOK_NAME environment variable to enable code saving.\n",
      "wandb: WARNING Ignored wandb.init() arg project when running a sweep.\n"
     ]
    },
    {
     "data": {
      "text/html": [
       "wandb version 0.17.5 is available!  To upgrade, please run:\n",
       " $ pip install wandb --upgrade"
      ],
      "text/plain": [
       "<IPython.core.display.HTML object>"
      ]
     },
     "metadata": {},
     "output_type": "display_data"
    },
    {
     "data": {
      "text/html": [
       "Tracking run with wandb version 0.16.1"
      ],
      "text/plain": [
       "<IPython.core.display.HTML object>"
      ]
     },
     "metadata": {},
     "output_type": "display_data"
    },
    {
     "data": {
      "text/html": [
       "Run data is saved locally in <code>e:\\Artificial Intelligence\\Projects\\Predictive-Truck-Delay-Management-in-Logistics\\wandb\\run-20240805_180008-7x4br7i2</code>"
      ],
      "text/plain": [
       "<IPython.core.display.HTML object>"
      ]
     },
     "metadata": {},
     "output_type": "display_data"
    },
    {
     "data": {
      "text/html": [
       "Syncing run <strong><a href='https://wandb.ai/harshmp/truck-delay-classification/runs/7x4br7i2' target=\"_blank\">icy-sweep-77</a></strong> to <a href='https://wandb.ai/harshmp/truck-delay-classification' target=\"_blank\">Weights & Biases</a> (<a href='https://wandb.me/run' target=\"_blank\">docs</a>)<br/>Sweep page: <a href='https://wandb.ai/harshmp/truck-delay-classification/sweeps/20442i5p' target=\"_blank\">https://wandb.ai/harshmp/truck-delay-classification/sweeps/20442i5p</a>"
      ],
      "text/plain": [
       "<IPython.core.display.HTML object>"
      ]
     },
     "metadata": {},
     "output_type": "display_data"
    },
    {
     "data": {
      "text/html": [
       " View project at <a href='https://wandb.ai/harshmp/truck-delay-classification' target=\"_blank\">https://wandb.ai/harshmp/truck-delay-classification</a>"
      ],
      "text/plain": [
       "<IPython.core.display.HTML object>"
      ]
     },
     "metadata": {},
     "output_type": "display_data"
    },
    {
     "data": {
      "text/html": [
       " View sweep at <a href='https://wandb.ai/harshmp/truck-delay-classification/sweeps/20442i5p' target=\"_blank\">https://wandb.ai/harshmp/truck-delay-classification/sweeps/20442i5p</a>"
      ],
      "text/plain": [
       "<IPython.core.display.HTML object>"
      ]
     },
     "metadata": {},
     "output_type": "display_data"
    },
    {
     "data": {
      "text/html": [
       " View run at <a href='https://wandb.ai/harshmp/truck-delay-classification/runs/7x4br7i2' target=\"_blank\">https://wandb.ai/harshmp/truck-delay-classification/runs/7x4br7i2</a>"
      ],
      "text/plain": [
       "<IPython.core.display.HTML object>"
      ]
     },
     "metadata": {},
     "output_type": "display_data"
    },
    {
     "name": "stdout",
     "output_type": "stream",
     "text": [
      "F1_score Train: 0.8254\n",
      "F1_score Valid: 0.6148\n",
      "F1_score Test: 0.6965\n"
     ]
    },
    {
     "name": "stderr",
     "output_type": "stream",
     "text": [
      "wandb: \n",
      "wandb: Plotting RandomForestClassifier.\n",
      "Traceback (most recent call last):\n",
      "  File \"C:\\Users\\harsh\\AppData\\Local\\Temp\\ipykernel_18532\\2640226391.py\", line 44, in train_rf_model\n",
      "    wandb.sklearn.plot_classifier(model, X_train, X_test, y_train, y_test, y_preds, y_probas, labels=None,\n",
      "  File \"c:\\Users\\harsh\\anaconda3\\envs\\truck-delay\\lib\\site-packages\\wandb\\sklearn\\plot\\classifier.py\", line 82, in classifier\n",
      "    feature_importances(model, feature_names)\n",
      "  File \"c:\\Users\\harsh\\anaconda3\\envs\\truck-delay\\lib\\site-packages\\wandb\\sklearn\\plot\\classifier.py\", line 250, in feature_importances\n",
      "    wandb.log({\"feature_importances\": feature_importance_chart})\n",
      "  File \"c:\\Users\\harsh\\anaconda3\\envs\\truck-delay\\lib\\site-packages\\wandb\\sdk\\wandb_run.py\", line 420, in wrapper\n",
      "    return func(self, *args, **kwargs)\n",
      "  File \"c:\\Users\\harsh\\anaconda3\\envs\\truck-delay\\lib\\site-packages\\wandb\\sdk\\wandb_run.py\", line 371, in wrapper_fn\n",
      "    return func(self, *args, **kwargs)\n",
      "  File \"c:\\Users\\harsh\\anaconda3\\envs\\truck-delay\\lib\\site-packages\\wandb\\sdk\\wandb_run.py\", line 361, in wrapper\n",
      "    return func(self, *args, **kwargs)\n",
      "  File \"c:\\Users\\harsh\\anaconda3\\envs\\truck-delay\\lib\\site-packages\\wandb\\sdk\\wandb_run.py\", line 1820, in log\n",
      "    self._log(data=data, step=step, commit=commit)\n",
      "  File \"c:\\Users\\harsh\\anaconda3\\envs\\truck-delay\\lib\\site-packages\\wandb\\sdk\\wandb_run.py\", line 1595, in _log\n",
      "    self._partial_history_callback(data, step, commit)\n",
      "  File \"c:\\Users\\harsh\\anaconda3\\envs\\truck-delay\\lib\\site-packages\\wandb\\sdk\\wandb_run.py\", line 1467, in _partial_history_callback\n",
      "    self._backend.interface.publish_partial_history(\n",
      "  File \"c:\\Users\\harsh\\anaconda3\\envs\\truck-delay\\lib\\site-packages\\wandb\\sdk\\interface\\interface.py\", line 549, in publish_partial_history\n",
      "    data = history_dict_to_json(run, data, step=user_step, ignore_copy_err=True)\n",
      "  File \"c:\\Users\\harsh\\anaconda3\\envs\\truck-delay\\lib\\site-packages\\wandb\\sdk\\data_types\\utils.py\", line 52, in history_dict_to_json\n",
      "    payload[key] = val_to_json(\n",
      "  File \"c:\\Users\\harsh\\anaconda3\\envs\\truck-delay\\lib\\site-packages\\wandb\\sdk\\data_types\\utils.py\", line 164, in val_to_json\n",
      "    val.bind_to_run(run, key, namespace)\n",
      "  File \"c:\\Users\\harsh\\anaconda3\\envs\\truck-delay\\lib\\site-packages\\wandb\\data_types.py\", line 541, in bind_to_run\n",
      "    with codecs.open(tmp_path, \"w\", encoding=\"utf-8\") as fp:\n",
      "  File \"c:\\Users\\harsh\\anaconda3\\envs\\truck-delay\\lib\\codecs.py\", line 905, in open\n",
      "    file = builtins.open(filename, mode, buffering)\n",
      "FileNotFoundError: [Errno 2] No such file or directory: 'C:\\\\Users\\\\harsh\\\\AppData\\\\Local\\\\Temp\\\\tmpqphwv_07wandb-media\\\\yh4p5ol5.table.json'\n"
     ]
    },
    {
     "name": "stdout",
     "output_type": "stream",
     "text": [
      "2024-08-05 18:00:12,244 WARNING: DeprecationWarning: Importing display from IPython.core.display is deprecated since IPython 7.14, please import from IPython display\n",
      "\n"
     ]
    },
    {
     "data": {
      "application/vnd.jupyter.widget-view+json": {
       "model_id": "26206392ce454599a39b6c8b804797e2",
       "version_major": 2,
       "version_minor": 0
      },
      "text/plain": [
       "VBox(children=(Label(value='0.010 MB of 0.010 MB uploaded\\r'), FloatProgress(value=1.0, max=1.0)))"
      ]
     },
     "metadata": {},
     "output_type": "display_data"
    },
    {
     "name": "stdout",
     "output_type": "stream",
     "text": [
      "2024-08-05 18:00:16,979 WARNING: DeprecationWarning: Importing display from IPython.core.display is deprecated since IPython 7.14, please import from IPython display\n",
      "\n"
     ]
    },
    {
     "data": {
      "text/html": [
       "<style>\n",
       "    table.wandb td:nth-child(1) { padding: 0 10px; text-align: left ; width: auto;} td:nth-child(2) {text-align: left ; width: 100%}\n",
       "    .wandb-row { display: flex; flex-direction: row; flex-wrap: wrap; justify-content: flex-start; width: 100% }\n",
       "    .wandb-col { display: flex; flex-direction: column; flex-basis: 100%; flex: 1; padding: 10px; }\n",
       "    </style>\n",
       "<div class=\"wandb-row\"><div class=\"wandb-col\"><h3>Run history:</h3><br/><table class=\"wandb\"><tr><td>f1_score</td><td>▁</td></tr><tr><td>f1_score_train</td><td>▁</td></tr><tr><td>f1_score_valid</td><td>▁</td></tr></table><br/></div><div class=\"wandb-col\"><h3>Run summary:</h3><br/><table class=\"wandb\"><tr><td>f1_score</td><td>0.69654</td></tr><tr><td>f1_score_train</td><td>0.82545</td></tr><tr><td>f1_score_valid</td><td>0.61477</td></tr></table><br/></div></div>"
      ],
      "text/plain": [
       "<IPython.core.display.HTML object>"
      ]
     },
     "metadata": {},
     "output_type": "display_data"
    },
    {
     "data": {
      "text/html": [
       " View run <strong style=\"color:#cdcd00\">icy-sweep-77</strong> at: <a href='https://wandb.ai/harshmp/truck-delay-classification/runs/7x4br7i2' target=\"_blank\">https://wandb.ai/harshmp/truck-delay-classification/runs/7x4br7i2</a><br/>Synced 5 W&B file(s), 0 media file(s), 1 artifact file(s) and 0 other file(s)"
      ],
      "text/plain": [
       "<IPython.core.display.HTML object>"
      ]
     },
     "metadata": {},
     "output_type": "display_data"
    },
    {
     "data": {
      "text/html": [
       "Find logs at: <code>.\\wandb\\run-20240805_180008-7x4br7i2\\logs</code>"
      ],
      "text/plain": [
       "<IPython.core.display.HTML object>"
      ]
     },
     "metadata": {},
     "output_type": "display_data"
    },
    {
     "name": "stderr",
     "output_type": "stream",
     "text": [
      "Run 7x4br7i2 errored: FileNotFoundError(2, 'No such file or directory')\n",
      "wandb: ERROR Run 7x4br7i2 errored: FileNotFoundError(2, 'No such file or directory')\n",
      "wandb: Agent Starting Run: z586otpz with config:\n",
      "wandb: \tmax_depth: 20\n",
      "wandb: \tmin_samples_split: 12\n",
      "wandb: \tn_estimators: 12\n",
      "Failed to detect the name of this notebook, you can set it manually with the WANDB_NOTEBOOK_NAME environment variable to enable code saving.\n",
      "wandb: WARNING Ignored wandb.init() arg project when running a sweep.\n"
     ]
    },
    {
     "data": {
      "text/html": [
       "wandb version 0.17.5 is available!  To upgrade, please run:\n",
       " $ pip install wandb --upgrade"
      ],
      "text/plain": [
       "<IPython.core.display.HTML object>"
      ]
     },
     "metadata": {},
     "output_type": "display_data"
    },
    {
     "data": {
      "text/html": [
       "Tracking run with wandb version 0.16.1"
      ],
      "text/plain": [
       "<IPython.core.display.HTML object>"
      ]
     },
     "metadata": {},
     "output_type": "display_data"
    },
    {
     "data": {
      "text/html": [
       "Run data is saved locally in <code>e:\\Artificial Intelligence\\Projects\\Predictive-Truck-Delay-Management-in-Logistics\\wandb\\run-20240805_180022-z586otpz</code>"
      ],
      "text/plain": [
       "<IPython.core.display.HTML object>"
      ]
     },
     "metadata": {},
     "output_type": "display_data"
    },
    {
     "data": {
      "text/html": [
       "Syncing run <strong><a href='https://wandb.ai/harshmp/truck-delay-classification/runs/z586otpz' target=\"_blank\">ethereal-sweep-78</a></strong> to <a href='https://wandb.ai/harshmp/truck-delay-classification' target=\"_blank\">Weights & Biases</a> (<a href='https://wandb.me/run' target=\"_blank\">docs</a>)<br/>Sweep page: <a href='https://wandb.ai/harshmp/truck-delay-classification/sweeps/20442i5p' target=\"_blank\">https://wandb.ai/harshmp/truck-delay-classification/sweeps/20442i5p</a>"
      ],
      "text/plain": [
       "<IPython.core.display.HTML object>"
      ]
     },
     "metadata": {},
     "output_type": "display_data"
    },
    {
     "data": {
      "text/html": [
       " View project at <a href='https://wandb.ai/harshmp/truck-delay-classification' target=\"_blank\">https://wandb.ai/harshmp/truck-delay-classification</a>"
      ],
      "text/plain": [
       "<IPython.core.display.HTML object>"
      ]
     },
     "metadata": {},
     "output_type": "display_data"
    },
    {
     "data": {
      "text/html": [
       " View sweep at <a href='https://wandb.ai/harshmp/truck-delay-classification/sweeps/20442i5p' target=\"_blank\">https://wandb.ai/harshmp/truck-delay-classification/sweeps/20442i5p</a>"
      ],
      "text/plain": [
       "<IPython.core.display.HTML object>"
      ]
     },
     "metadata": {},
     "output_type": "display_data"
    },
    {
     "data": {
      "text/html": [
       " View run at <a href='https://wandb.ai/harshmp/truck-delay-classification/runs/z586otpz' target=\"_blank\">https://wandb.ai/harshmp/truck-delay-classification/runs/z586otpz</a>"
      ],
      "text/plain": [
       "<IPython.core.display.HTML object>"
      ]
     },
     "metadata": {},
     "output_type": "display_data"
    },
    {
     "name": "stdout",
     "output_type": "stream",
     "text": [
      "F1_score Train: 0.8497\n",
      "F1_score Valid: 0.6046\n",
      "F1_score Test: 0.7249\n"
     ]
    },
    {
     "name": "stderr",
     "output_type": "stream",
     "text": [
      "wandb: \n",
      "wandb: Plotting RandomForestClassifier.\n",
      "Traceback (most recent call last):\n",
      "  File \"C:\\Users\\harsh\\AppData\\Local\\Temp\\ipykernel_18532\\2640226391.py\", line 44, in train_rf_model\n",
      "    wandb.sklearn.plot_classifier(model, X_train, X_test, y_train, y_test, y_preds, y_probas, labels=None,\n",
      "  File \"c:\\Users\\harsh\\anaconda3\\envs\\truck-delay\\lib\\site-packages\\wandb\\sklearn\\plot\\classifier.py\", line 82, in classifier\n",
      "    feature_importances(model, feature_names)\n",
      "  File \"c:\\Users\\harsh\\anaconda3\\envs\\truck-delay\\lib\\site-packages\\wandb\\sklearn\\plot\\classifier.py\", line 250, in feature_importances\n",
      "    wandb.log({\"feature_importances\": feature_importance_chart})\n",
      "  File \"c:\\Users\\harsh\\anaconda3\\envs\\truck-delay\\lib\\site-packages\\wandb\\sdk\\wandb_run.py\", line 420, in wrapper\n",
      "    return func(self, *args, **kwargs)\n",
      "  File \"c:\\Users\\harsh\\anaconda3\\envs\\truck-delay\\lib\\site-packages\\wandb\\sdk\\wandb_run.py\", line 371, in wrapper_fn\n",
      "    return func(self, *args, **kwargs)\n",
      "  File \"c:\\Users\\harsh\\anaconda3\\envs\\truck-delay\\lib\\site-packages\\wandb\\sdk\\wandb_run.py\", line 361, in wrapper\n",
      "    return func(self, *args, **kwargs)\n",
      "  File \"c:\\Users\\harsh\\anaconda3\\envs\\truck-delay\\lib\\site-packages\\wandb\\sdk\\wandb_run.py\", line 1820, in log\n",
      "    self._log(data=data, step=step, commit=commit)\n",
      "  File \"c:\\Users\\harsh\\anaconda3\\envs\\truck-delay\\lib\\site-packages\\wandb\\sdk\\wandb_run.py\", line 1595, in _log\n",
      "    self._partial_history_callback(data, step, commit)\n",
      "  File \"c:\\Users\\harsh\\anaconda3\\envs\\truck-delay\\lib\\site-packages\\wandb\\sdk\\wandb_run.py\", line 1467, in _partial_history_callback\n",
      "    self._backend.interface.publish_partial_history(\n",
      "  File \"c:\\Users\\harsh\\anaconda3\\envs\\truck-delay\\lib\\site-packages\\wandb\\sdk\\interface\\interface.py\", line 549, in publish_partial_history\n",
      "    data = history_dict_to_json(run, data, step=user_step, ignore_copy_err=True)\n",
      "  File \"c:\\Users\\harsh\\anaconda3\\envs\\truck-delay\\lib\\site-packages\\wandb\\sdk\\data_types\\utils.py\", line 52, in history_dict_to_json\n",
      "    payload[key] = val_to_json(\n",
      "  File \"c:\\Users\\harsh\\anaconda3\\envs\\truck-delay\\lib\\site-packages\\wandb\\sdk\\data_types\\utils.py\", line 164, in val_to_json\n",
      "    val.bind_to_run(run, key, namespace)\n",
      "  File \"c:\\Users\\harsh\\anaconda3\\envs\\truck-delay\\lib\\site-packages\\wandb\\data_types.py\", line 541, in bind_to_run\n",
      "    with codecs.open(tmp_path, \"w\", encoding=\"utf-8\") as fp:\n",
      "  File \"c:\\Users\\harsh\\anaconda3\\envs\\truck-delay\\lib\\codecs.py\", line 905, in open\n",
      "    file = builtins.open(filename, mode, buffering)\n",
      "FileNotFoundError: [Errno 2] No such file or directory: 'C:\\\\Users\\\\harsh\\\\AppData\\\\Local\\\\Temp\\\\tmpqphwv_07wandb-media\\\\q2jiz7g8.table.json'\n"
     ]
    },
    {
     "name": "stdout",
     "output_type": "stream",
     "text": [
      "2024-08-05 18:00:27,078 WARNING: DeprecationWarning: Importing display from IPython.core.display is deprecated since IPython 7.14, please import from IPython display\n",
      "\n"
     ]
    },
    {
     "data": {
      "application/vnd.jupyter.widget-view+json": {
       "model_id": "5889df21d3214608a317cbef294b11d0",
       "version_major": 2,
       "version_minor": 0
      },
      "text/plain": [
       "VBox(children=(Label(value='0.010 MB of 0.010 MB uploaded\\r'), FloatProgress(value=1.0, max=1.0)))"
      ]
     },
     "metadata": {},
     "output_type": "display_data"
    },
    {
     "name": "stdout",
     "output_type": "stream",
     "text": [
      "2024-08-05 18:00:31,220 WARNING: DeprecationWarning: Importing display from IPython.core.display is deprecated since IPython 7.14, please import from IPython display\n",
      "\n"
     ]
    },
    {
     "data": {
      "text/html": [
       "<style>\n",
       "    table.wandb td:nth-child(1) { padding: 0 10px; text-align: left ; width: auto;} td:nth-child(2) {text-align: left ; width: 100%}\n",
       "    .wandb-row { display: flex; flex-direction: row; flex-wrap: wrap; justify-content: flex-start; width: 100% }\n",
       "    .wandb-col { display: flex; flex-direction: column; flex-basis: 100%; flex: 1; padding: 10px; }\n",
       "    </style>\n",
       "<div class=\"wandb-row\"><div class=\"wandb-col\"><h3>Run history:</h3><br/><table class=\"wandb\"><tr><td>f1_score</td><td>▁</td></tr><tr><td>f1_score_train</td><td>▁</td></tr><tr><td>f1_score_valid</td><td>▁</td></tr></table><br/></div><div class=\"wandb-col\"><h3>Run summary:</h3><br/><table class=\"wandb\"><tr><td>f1_score</td><td>0.72493</td></tr><tr><td>f1_score_train</td><td>0.84967</td></tr><tr><td>f1_score_valid</td><td>0.60462</td></tr></table><br/></div></div>"
      ],
      "text/plain": [
       "<IPython.core.display.HTML object>"
      ]
     },
     "metadata": {},
     "output_type": "display_data"
    },
    {
     "data": {
      "text/html": [
       " View run <strong style=\"color:#cdcd00\">ethereal-sweep-78</strong> at: <a href='https://wandb.ai/harshmp/truck-delay-classification/runs/z586otpz' target=\"_blank\">https://wandb.ai/harshmp/truck-delay-classification/runs/z586otpz</a><br/>Synced 5 W&B file(s), 0 media file(s), 1 artifact file(s) and 0 other file(s)"
      ],
      "text/plain": [
       "<IPython.core.display.HTML object>"
      ]
     },
     "metadata": {},
     "output_type": "display_data"
    },
    {
     "data": {
      "text/html": [
       "Find logs at: <code>.\\wandb\\run-20240805_180022-z586otpz\\logs</code>"
      ],
      "text/plain": [
       "<IPython.core.display.HTML object>"
      ]
     },
     "metadata": {},
     "output_type": "display_data"
    },
    {
     "name": "stderr",
     "output_type": "stream",
     "text": [
      "Run z586otpz errored: FileNotFoundError(2, 'No such file or directory')\n",
      "wandb: ERROR Run z586otpz errored: FileNotFoundError(2, 'No such file or directory')\n",
      "wandb: Agent Starting Run: gq1ihiuy with config:\n",
      "wandb: \tmax_depth: 20\n",
      "wandb: \tmin_samples_split: 12\n",
      "wandb: \tn_estimators: 16\n",
      "Failed to detect the name of this notebook, you can set it manually with the WANDB_NOTEBOOK_NAME environment variable to enable code saving.\n",
      "wandb: WARNING Ignored wandb.init() arg project when running a sweep.\n"
     ]
    },
    {
     "data": {
      "text/html": [
       "wandb version 0.17.5 is available!  To upgrade, please run:\n",
       " $ pip install wandb --upgrade"
      ],
      "text/plain": [
       "<IPython.core.display.HTML object>"
      ]
     },
     "metadata": {},
     "output_type": "display_data"
    },
    {
     "data": {
      "text/html": [
       "Tracking run with wandb version 0.16.1"
      ],
      "text/plain": [
       "<IPython.core.display.HTML object>"
      ]
     },
     "metadata": {},
     "output_type": "display_data"
    },
    {
     "data": {
      "text/html": [
       "Run data is saved locally in <code>e:\\Artificial Intelligence\\Projects\\Predictive-Truck-Delay-Management-in-Logistics\\wandb\\run-20240805_180038-gq1ihiuy</code>"
      ],
      "text/plain": [
       "<IPython.core.display.HTML object>"
      ]
     },
     "metadata": {},
     "output_type": "display_data"
    },
    {
     "data": {
      "text/html": [
       "Syncing run <strong><a href='https://wandb.ai/harshmp/truck-delay-classification/runs/gq1ihiuy' target=\"_blank\">vivid-sweep-79</a></strong> to <a href='https://wandb.ai/harshmp/truck-delay-classification' target=\"_blank\">Weights & Biases</a> (<a href='https://wandb.me/run' target=\"_blank\">docs</a>)<br/>Sweep page: <a href='https://wandb.ai/harshmp/truck-delay-classification/sweeps/20442i5p' target=\"_blank\">https://wandb.ai/harshmp/truck-delay-classification/sweeps/20442i5p</a>"
      ],
      "text/plain": [
       "<IPython.core.display.HTML object>"
      ]
     },
     "metadata": {},
     "output_type": "display_data"
    },
    {
     "data": {
      "text/html": [
       " View project at <a href='https://wandb.ai/harshmp/truck-delay-classification' target=\"_blank\">https://wandb.ai/harshmp/truck-delay-classification</a>"
      ],
      "text/plain": [
       "<IPython.core.display.HTML object>"
      ]
     },
     "metadata": {},
     "output_type": "display_data"
    },
    {
     "data": {
      "text/html": [
       " View sweep at <a href='https://wandb.ai/harshmp/truck-delay-classification/sweeps/20442i5p' target=\"_blank\">https://wandb.ai/harshmp/truck-delay-classification/sweeps/20442i5p</a>"
      ],
      "text/plain": [
       "<IPython.core.display.HTML object>"
      ]
     },
     "metadata": {},
     "output_type": "display_data"
    },
    {
     "data": {
      "text/html": [
       " View run at <a href='https://wandb.ai/harshmp/truck-delay-classification/runs/gq1ihiuy' target=\"_blank\">https://wandb.ai/harshmp/truck-delay-classification/runs/gq1ihiuy</a>"
      ],
      "text/plain": [
       "<IPython.core.display.HTML object>"
      ]
     },
     "metadata": {},
     "output_type": "display_data"
    },
    {
     "name": "stdout",
     "output_type": "stream",
     "text": [
      "F1_score Train: 0.8654\n",
      "F1_score Valid: 0.6195\n",
      "F1_score Test: 0.7244\n"
     ]
    },
    {
     "name": "stderr",
     "output_type": "stream",
     "text": [
      "wandb: \n",
      "wandb: Plotting RandomForestClassifier.\n",
      "Traceback (most recent call last):\n",
      "  File \"C:\\Users\\harsh\\AppData\\Local\\Temp\\ipykernel_18532\\2640226391.py\", line 44, in train_rf_model\n",
      "    wandb.sklearn.plot_classifier(model, X_train, X_test, y_train, y_test, y_preds, y_probas, labels=None,\n",
      "  File \"c:\\Users\\harsh\\anaconda3\\envs\\truck-delay\\lib\\site-packages\\wandb\\sklearn\\plot\\classifier.py\", line 82, in classifier\n",
      "    feature_importances(model, feature_names)\n",
      "  File \"c:\\Users\\harsh\\anaconda3\\envs\\truck-delay\\lib\\site-packages\\wandb\\sklearn\\plot\\classifier.py\", line 250, in feature_importances\n",
      "    wandb.log({\"feature_importances\": feature_importance_chart})\n",
      "  File \"c:\\Users\\harsh\\anaconda3\\envs\\truck-delay\\lib\\site-packages\\wandb\\sdk\\wandb_run.py\", line 420, in wrapper\n",
      "    return func(self, *args, **kwargs)\n",
      "  File \"c:\\Users\\harsh\\anaconda3\\envs\\truck-delay\\lib\\site-packages\\wandb\\sdk\\wandb_run.py\", line 371, in wrapper_fn\n",
      "    return func(self, *args, **kwargs)\n",
      "  File \"c:\\Users\\harsh\\anaconda3\\envs\\truck-delay\\lib\\site-packages\\wandb\\sdk\\wandb_run.py\", line 361, in wrapper\n",
      "    return func(self, *args, **kwargs)\n",
      "  File \"c:\\Users\\harsh\\anaconda3\\envs\\truck-delay\\lib\\site-packages\\wandb\\sdk\\wandb_run.py\", line 1820, in log\n",
      "    self._log(data=data, step=step, commit=commit)\n",
      "  File \"c:\\Users\\harsh\\anaconda3\\envs\\truck-delay\\lib\\site-packages\\wandb\\sdk\\wandb_run.py\", line 1595, in _log\n",
      "    self._partial_history_callback(data, step, commit)\n",
      "  File \"c:\\Users\\harsh\\anaconda3\\envs\\truck-delay\\lib\\site-packages\\wandb\\sdk\\wandb_run.py\", line 1467, in _partial_history_callback\n",
      "    self._backend.interface.publish_partial_history(\n",
      "  File \"c:\\Users\\harsh\\anaconda3\\envs\\truck-delay\\lib\\site-packages\\wandb\\sdk\\interface\\interface.py\", line 549, in publish_partial_history\n",
      "    data = history_dict_to_json(run, data, step=user_step, ignore_copy_err=True)\n",
      "  File \"c:\\Users\\harsh\\anaconda3\\envs\\truck-delay\\lib\\site-packages\\wandb\\sdk\\data_types\\utils.py\", line 52, in history_dict_to_json\n",
      "    payload[key] = val_to_json(\n",
      "  File \"c:\\Users\\harsh\\anaconda3\\envs\\truck-delay\\lib\\site-packages\\wandb\\sdk\\data_types\\utils.py\", line 164, in val_to_json\n",
      "    val.bind_to_run(run, key, namespace)\n",
      "  File \"c:\\Users\\harsh\\anaconda3\\envs\\truck-delay\\lib\\site-packages\\wandb\\data_types.py\", line 541, in bind_to_run\n",
      "    with codecs.open(tmp_path, \"w\", encoding=\"utf-8\") as fp:\n",
      "  File \"c:\\Users\\harsh\\anaconda3\\envs\\truck-delay\\lib\\codecs.py\", line 905, in open\n",
      "    file = builtins.open(filename, mode, buffering)\n",
      "FileNotFoundError: [Errno 2] No such file or directory: 'C:\\\\Users\\\\harsh\\\\AppData\\\\Local\\\\Temp\\\\tmpqphwv_07wandb-media\\\\xh61nkwu.table.json'\n"
     ]
    },
    {
     "name": "stdout",
     "output_type": "stream",
     "text": [
      "2024-08-05 18:00:42,243 WARNING: DeprecationWarning: Importing display from IPython.core.display is deprecated since IPython 7.14, please import from IPython display\n",
      "\n"
     ]
    },
    {
     "data": {
      "application/vnd.jupyter.widget-view+json": {
       "model_id": "c92eff752b3a4922a8ae328144e27867",
       "version_major": 2,
       "version_minor": 0
      },
      "text/plain": [
       "VBox(children=(Label(value='0.010 MB of 0.010 MB uploaded\\r'), FloatProgress(value=1.0, max=1.0)))"
      ]
     },
     "metadata": {},
     "output_type": "display_data"
    },
    {
     "name": "stdout",
     "output_type": "stream",
     "text": [
      "2024-08-05 18:00:46,804 WARNING: DeprecationWarning: Importing display from IPython.core.display is deprecated since IPython 7.14, please import from IPython display\n",
      "\n"
     ]
    },
    {
     "data": {
      "text/html": [
       "<style>\n",
       "    table.wandb td:nth-child(1) { padding: 0 10px; text-align: left ; width: auto;} td:nth-child(2) {text-align: left ; width: 100%}\n",
       "    .wandb-row { display: flex; flex-direction: row; flex-wrap: wrap; justify-content: flex-start; width: 100% }\n",
       "    .wandb-col { display: flex; flex-direction: column; flex-basis: 100%; flex: 1; padding: 10px; }\n",
       "    </style>\n",
       "<div class=\"wandb-row\"><div class=\"wandb-col\"><h3>Run history:</h3><br/><table class=\"wandb\"><tr><td>f1_score</td><td>▁</td></tr><tr><td>f1_score_train</td><td>▁</td></tr><tr><td>f1_score_valid</td><td>▁</td></tr></table><br/></div><div class=\"wandb-col\"><h3>Run summary:</h3><br/><table class=\"wandb\"><tr><td>f1_score</td><td>0.72438</td></tr><tr><td>f1_score_train</td><td>0.8654</td></tr><tr><td>f1_score_valid</td><td>0.61951</td></tr></table><br/></div></div>"
      ],
      "text/plain": [
       "<IPython.core.display.HTML object>"
      ]
     },
     "metadata": {},
     "output_type": "display_data"
    },
    {
     "data": {
      "text/html": [
       " View run <strong style=\"color:#cdcd00\">vivid-sweep-79</strong> at: <a href='https://wandb.ai/harshmp/truck-delay-classification/runs/gq1ihiuy' target=\"_blank\">https://wandb.ai/harshmp/truck-delay-classification/runs/gq1ihiuy</a><br/>Synced 5 W&B file(s), 0 media file(s), 1 artifact file(s) and 0 other file(s)"
      ],
      "text/plain": [
       "<IPython.core.display.HTML object>"
      ]
     },
     "metadata": {},
     "output_type": "display_data"
    },
    {
     "data": {
      "text/html": [
       "Find logs at: <code>.\\wandb\\run-20240805_180038-gq1ihiuy\\logs</code>"
      ],
      "text/plain": [
       "<IPython.core.display.HTML object>"
      ]
     },
     "metadata": {},
     "output_type": "display_data"
    },
    {
     "name": "stderr",
     "output_type": "stream",
     "text": [
      "Run gq1ihiuy errored: FileNotFoundError(2, 'No such file or directory')\n",
      "wandb: ERROR Run gq1ihiuy errored: FileNotFoundError(2, 'No such file or directory')\n",
      "wandb: Agent Starting Run: n2cb5au2 with config:\n",
      "wandb: \tmax_depth: 20\n",
      "wandb: \tmin_samples_split: 12\n",
      "wandb: \tn_estimators: 20\n",
      "Failed to detect the name of this notebook, you can set it manually with the WANDB_NOTEBOOK_NAME environment variable to enable code saving.\n",
      "wandb: WARNING Ignored wandb.init() arg project when running a sweep.\n"
     ]
    },
    {
     "data": {
      "text/html": [
       "wandb version 0.17.5 is available!  To upgrade, please run:\n",
       " $ pip install wandb --upgrade"
      ],
      "text/plain": [
       "<IPython.core.display.HTML object>"
      ]
     },
     "metadata": {},
     "output_type": "display_data"
    },
    {
     "data": {
      "text/html": [
       "Tracking run with wandb version 0.16.1"
      ],
      "text/plain": [
       "<IPython.core.display.HTML object>"
      ]
     },
     "metadata": {},
     "output_type": "display_data"
    },
    {
     "data": {
      "text/html": [
       "Run data is saved locally in <code>e:\\Artificial Intelligence\\Projects\\Predictive-Truck-Delay-Management-in-Logistics\\wandb\\run-20240805_180053-n2cb5au2</code>"
      ],
      "text/plain": [
       "<IPython.core.display.HTML object>"
      ]
     },
     "metadata": {},
     "output_type": "display_data"
    },
    {
     "data": {
      "text/html": [
       "Syncing run <strong><a href='https://wandb.ai/harshmp/truck-delay-classification/runs/n2cb5au2' target=\"_blank\">twilight-sweep-80</a></strong> to <a href='https://wandb.ai/harshmp/truck-delay-classification' target=\"_blank\">Weights & Biases</a> (<a href='https://wandb.me/run' target=\"_blank\">docs</a>)<br/>Sweep page: <a href='https://wandb.ai/harshmp/truck-delay-classification/sweeps/20442i5p' target=\"_blank\">https://wandb.ai/harshmp/truck-delay-classification/sweeps/20442i5p</a>"
      ],
      "text/plain": [
       "<IPython.core.display.HTML object>"
      ]
     },
     "metadata": {},
     "output_type": "display_data"
    },
    {
     "data": {
      "text/html": [
       " View project at <a href='https://wandb.ai/harshmp/truck-delay-classification' target=\"_blank\">https://wandb.ai/harshmp/truck-delay-classification</a>"
      ],
      "text/plain": [
       "<IPython.core.display.HTML object>"
      ]
     },
     "metadata": {},
     "output_type": "display_data"
    },
    {
     "data": {
      "text/html": [
       " View sweep at <a href='https://wandb.ai/harshmp/truck-delay-classification/sweeps/20442i5p' target=\"_blank\">https://wandb.ai/harshmp/truck-delay-classification/sweeps/20442i5p</a>"
      ],
      "text/plain": [
       "<IPython.core.display.HTML object>"
      ]
     },
     "metadata": {},
     "output_type": "display_data"
    },
    {
     "data": {
      "text/html": [
       " View run at <a href='https://wandb.ai/harshmp/truck-delay-classification/runs/n2cb5au2' target=\"_blank\">https://wandb.ai/harshmp/truck-delay-classification/runs/n2cb5au2</a>"
      ],
      "text/plain": [
       "<IPython.core.display.HTML object>"
      ]
     },
     "metadata": {},
     "output_type": "display_data"
    },
    {
     "name": "stdout",
     "output_type": "stream",
     "text": [
      "F1_score Train: 0.8745\n",
      "F1_score Valid: 0.6288\n",
      "F1_score Test: 0.7247\n"
     ]
    },
    {
     "name": "stderr",
     "output_type": "stream",
     "text": [
      "wandb: \n",
      "wandb: Plotting RandomForestClassifier.\n",
      "Traceback (most recent call last):\n",
      "  File \"C:\\Users\\harsh\\AppData\\Local\\Temp\\ipykernel_18532\\2640226391.py\", line 44, in train_rf_model\n",
      "    wandb.sklearn.plot_classifier(model, X_train, X_test, y_train, y_test, y_preds, y_probas, labels=None,\n",
      "  File \"c:\\Users\\harsh\\anaconda3\\envs\\truck-delay\\lib\\site-packages\\wandb\\sklearn\\plot\\classifier.py\", line 82, in classifier\n",
      "    feature_importances(model, feature_names)\n",
      "  File \"c:\\Users\\harsh\\anaconda3\\envs\\truck-delay\\lib\\site-packages\\wandb\\sklearn\\plot\\classifier.py\", line 250, in feature_importances\n",
      "    wandb.log({\"feature_importances\": feature_importance_chart})\n",
      "  File \"c:\\Users\\harsh\\anaconda3\\envs\\truck-delay\\lib\\site-packages\\wandb\\sdk\\wandb_run.py\", line 420, in wrapper\n",
      "    return func(self, *args, **kwargs)\n",
      "  File \"c:\\Users\\harsh\\anaconda3\\envs\\truck-delay\\lib\\site-packages\\wandb\\sdk\\wandb_run.py\", line 371, in wrapper_fn\n",
      "    return func(self, *args, **kwargs)\n",
      "  File \"c:\\Users\\harsh\\anaconda3\\envs\\truck-delay\\lib\\site-packages\\wandb\\sdk\\wandb_run.py\", line 361, in wrapper\n",
      "    return func(self, *args, **kwargs)\n",
      "  File \"c:\\Users\\harsh\\anaconda3\\envs\\truck-delay\\lib\\site-packages\\wandb\\sdk\\wandb_run.py\", line 1820, in log\n",
      "    self._log(data=data, step=step, commit=commit)\n",
      "  File \"c:\\Users\\harsh\\anaconda3\\envs\\truck-delay\\lib\\site-packages\\wandb\\sdk\\wandb_run.py\", line 1595, in _log\n",
      "    self._partial_history_callback(data, step, commit)\n",
      "  File \"c:\\Users\\harsh\\anaconda3\\envs\\truck-delay\\lib\\site-packages\\wandb\\sdk\\wandb_run.py\", line 1467, in _partial_history_callback\n",
      "    self._backend.interface.publish_partial_history(\n",
      "  File \"c:\\Users\\harsh\\anaconda3\\envs\\truck-delay\\lib\\site-packages\\wandb\\sdk\\interface\\interface.py\", line 549, in publish_partial_history\n",
      "    data = history_dict_to_json(run, data, step=user_step, ignore_copy_err=True)\n",
      "  File \"c:\\Users\\harsh\\anaconda3\\envs\\truck-delay\\lib\\site-packages\\wandb\\sdk\\data_types\\utils.py\", line 52, in history_dict_to_json\n",
      "    payload[key] = val_to_json(\n",
      "  File \"c:\\Users\\harsh\\anaconda3\\envs\\truck-delay\\lib\\site-packages\\wandb\\sdk\\data_types\\utils.py\", line 164, in val_to_json\n",
      "    val.bind_to_run(run, key, namespace)\n",
      "  File \"c:\\Users\\harsh\\anaconda3\\envs\\truck-delay\\lib\\site-packages\\wandb\\data_types.py\", line 541, in bind_to_run\n",
      "    with codecs.open(tmp_path, \"w\", encoding=\"utf-8\") as fp:\n",
      "  File \"c:\\Users\\harsh\\anaconda3\\envs\\truck-delay\\lib\\codecs.py\", line 905, in open\n",
      "    file = builtins.open(filename, mode, buffering)\n",
      "FileNotFoundError: [Errno 2] No such file or directory: 'C:\\\\Users\\\\harsh\\\\AppData\\\\Local\\\\Temp\\\\tmpqphwv_07wandb-media\\\\s222ad2i.table.json'\n"
     ]
    },
    {
     "name": "stdout",
     "output_type": "stream",
     "text": [
      "2024-08-05 18:00:58,365 WARNING: DeprecationWarning: Importing display from IPython.core.display is deprecated since IPython 7.14, please import from IPython display\n",
      "\n"
     ]
    },
    {
     "data": {
      "application/vnd.jupyter.widget-view+json": {
       "model_id": "dec8d80c0d7249efb1b5e10342ec4e1e",
       "version_major": 2,
       "version_minor": 0
      },
      "text/plain": [
       "VBox(children=(Label(value='0.010 MB of 0.010 MB uploaded\\r'), FloatProgress(value=1.0, max=1.0)))"
      ]
     },
     "metadata": {},
     "output_type": "display_data"
    },
    {
     "name": "stdout",
     "output_type": "stream",
     "text": [
      "2024-08-05 18:01:02,608 WARNING: DeprecationWarning: Importing display from IPython.core.display is deprecated since IPython 7.14, please import from IPython display\n",
      "\n"
     ]
    },
    {
     "data": {
      "text/html": [
       "<style>\n",
       "    table.wandb td:nth-child(1) { padding: 0 10px; text-align: left ; width: auto;} td:nth-child(2) {text-align: left ; width: 100%}\n",
       "    .wandb-row { display: flex; flex-direction: row; flex-wrap: wrap; justify-content: flex-start; width: 100% }\n",
       "    .wandb-col { display: flex; flex-direction: column; flex-basis: 100%; flex: 1; padding: 10px; }\n",
       "    </style>\n",
       "<div class=\"wandb-row\"><div class=\"wandb-col\"><h3>Run history:</h3><br/><table class=\"wandb\"><tr><td>f1_score</td><td>▁</td></tr><tr><td>f1_score_train</td><td>▁</td></tr><tr><td>f1_score_valid</td><td>▁</td></tr></table><br/></div><div class=\"wandb-col\"><h3>Run summary:</h3><br/><table class=\"wandb\"><tr><td>f1_score</td><td>0.72474</td></tr><tr><td>f1_score_train</td><td>0.87448</td></tr><tr><td>f1_score_valid</td><td>0.62877</td></tr></table><br/></div></div>"
      ],
      "text/plain": [
       "<IPython.core.display.HTML object>"
      ]
     },
     "metadata": {},
     "output_type": "display_data"
    },
    {
     "data": {
      "text/html": [
       " View run <strong style=\"color:#cdcd00\">twilight-sweep-80</strong> at: <a href='https://wandb.ai/harshmp/truck-delay-classification/runs/n2cb5au2' target=\"_blank\">https://wandb.ai/harshmp/truck-delay-classification/runs/n2cb5au2</a><br/>Synced 5 W&B file(s), 0 media file(s), 1 artifact file(s) and 0 other file(s)"
      ],
      "text/plain": [
       "<IPython.core.display.HTML object>"
      ]
     },
     "metadata": {},
     "output_type": "display_data"
    },
    {
     "data": {
      "text/html": [
       "Find logs at: <code>.\\wandb\\run-20240805_180053-n2cb5au2\\logs</code>"
      ],
      "text/plain": [
       "<IPython.core.display.HTML object>"
      ]
     },
     "metadata": {},
     "output_type": "display_data"
    },
    {
     "name": "stderr",
     "output_type": "stream",
     "text": [
      "Run n2cb5au2 errored: FileNotFoundError(2, 'No such file or directory')\n",
      "wandb: ERROR Run n2cb5au2 errored: FileNotFoundError(2, 'No such file or directory')\n",
      "wandb: Sweep Agent: Waiting for job.\n",
      "wandb: Sweep Agent: Exiting.\n"
     ]
    }
   ],
   "source": [
    "sweep_configs = {\n",
    "    \"method\": \"grid\",\n",
    "    \"metric\": {\n",
    "        \"name\": \"f1_score\",\n",
    "        \"goal\": \"maximize\"\n",
    "    },\n",
    "    \"parameters\": {\n",
    "        \"n_estimators\": {\n",
    "            \"values\": [8, 12, 16,20]\n",
    "        },\n",
    "        \"max_depth\": {\n",
    "            \"values\": [None, 5, 10, 15, 20]\n",
    "        },\n",
    "        \"min_samples_split\": {\n",
    "            \"values\": [2, 4, 8, 12]\n",
    "        }\n",
    "    }\n",
    "}\n",
    "# Then we initialize the sweep and run the sweep agent.\n",
    "\n",
    "sweep_id = wandb.sweep(\n",
    "    sweep=sweep_configs,\n",
    "    project=PROJECT_NAME\n",
    ")\n",
    "\n",
    "\n",
    "\n",
    "wandb.agent(\n",
    "    project=PROJECT_NAME,\n",
    "    sweep_id=sweep_id,\n",
    "    function=train_rf_model\n",
    ")"
   ]
  },
  {
   "cell_type": "code",
   "execution_count": null,
   "metadata": {},
   "outputs": [],
   "source": []
  }
 ],
 "metadata": {
  "kernelspec": {
   "display_name": "truck-delay",
   "language": "python",
   "name": "python3"
  },
  "language_info": {
   "codemirror_mode": {
    "name": "ipython",
    "version": 3
   },
   "file_extension": ".py",
   "mimetype": "text/x-python",
   "name": "python",
   "nbconvert_exporter": "python",
   "pygments_lexer": "ipython3",
   "version": "3.10.2"
  }
 },
 "nbformat": 4,
 "nbformat_minor": 2
}
