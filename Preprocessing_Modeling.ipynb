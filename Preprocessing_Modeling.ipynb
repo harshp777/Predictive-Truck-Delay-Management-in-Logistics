{
 "cells": [
  {
   "cell_type": "code",
   "execution_count": 43,
   "metadata": {},
   "outputs": [],
   "source": [
    "import pandas as pd\n",
    "import warnings\n",
    "warnings.filterwarnings(\"ignore\")\n",
    "import hopsworks"
   ]
  },
  {
   "cell_type": "code",
   "execution_count": 44,
   "metadata": {},
   "outputs": [
    {
     "name": "stdout",
     "output_type": "stream",
     "text": [
      "Connection closed.\n",
      "Connected. Call `.close()` to terminate connection gracefully.\n",
      "\n",
      "Logged in to project, explore it here https://c.app.hopsworks.ai:443/p/903317\n",
      "Connected. Call `.close()` to terminate connection gracefully.\n"
     ]
    }
   ],
   "source": [
    "# Log in to the Hopsworks project\n",
    "project = hopsworks.login()\n",
    "# Get the feature store associated with the project\n",
    "fs = project.get_feature_store()"
   ]
  },
  {
   "cell_type": "code",
   "execution_count": 45,
   "metadata": {},
   "outputs": [],
   "source": [
    "# Retrieve final\n",
    "final_data = fs.get_feature_group('final_data', version=1)"
   ]
  },
  {
   "cell_type": "code",
   "execution_count": 46,
   "metadata": {},
   "outputs": [],
   "source": [
    "# Select the query\n",
    "query = final_data.select_all()"
   ]
  },
  {
   "cell_type": "code",
   "execution_count": 47,
   "metadata": {},
   "outputs": [
    {
     "name": "stdout",
     "output_type": "stream",
     "text": [
      "Finished: Reading data from Hopsworks, using Hive (3.64s) \n"
     ]
    }
   ],
   "source": [
    "# Read all data\n",
    "final_merge = query.read(read_options={\"use_hive\": True})"
   ]
  },
  {
   "cell_type": "code",
   "execution_count": 48,
   "metadata": {},
   "outputs": [
    {
     "data": {
      "text/html": [
       "<div>\n",
       "<style scoped>\n",
       "    .dataframe tbody tr th:only-of-type {\n",
       "        vertical-align: middle;\n",
       "    }\n",
       "\n",
       "    .dataframe tbody tr th {\n",
       "        vertical-align: top;\n",
       "    }\n",
       "\n",
       "    .dataframe thead th {\n",
       "        text-align: right;\n",
       "    }\n",
       "</style>\n",
       "<table border=\"1\" class=\"dataframe\">\n",
       "  <thead>\n",
       "    <tr style=\"text-align: right;\">\n",
       "      <th></th>\n",
       "      <th>unique_id</th>\n",
       "      <th>truck_id</th>\n",
       "      <th>route_id</th>\n",
       "      <th>departure_date</th>\n",
       "      <th>estimated_arrival</th>\n",
       "      <th>delay</th>\n",
       "      <th>route_avg_temp</th>\n",
       "      <th>route_avg_wind_speed</th>\n",
       "      <th>route_avg_precip</th>\n",
       "      <th>route_avg_humidity</th>\n",
       "      <th>...</th>\n",
       "      <th>driver_id</th>\n",
       "      <th>name</th>\n",
       "      <th>gender</th>\n",
       "      <th>age</th>\n",
       "      <th>experience</th>\n",
       "      <th>driving_style</th>\n",
       "      <th>ratings</th>\n",
       "      <th>vehicle_no</th>\n",
       "      <th>average_speed_mph</th>\n",
       "      <th>is_midnight</th>\n",
       "    </tr>\n",
       "  </thead>\n",
       "  <tbody>\n",
       "    <tr>\n",
       "      <th>0</th>\n",
       "      <td>3725</td>\n",
       "      <td>10497416</td>\n",
       "      <td>R-2c5432ed</td>\n",
       "      <td>2019-02-10 07:00:00</td>\n",
       "      <td>2019-02-12 16:54:00</td>\n",
       "      <td>1</td>\n",
       "      <td>28.818182</td>\n",
       "      <td>6.727273</td>\n",
       "      <td>0.0</td>\n",
       "      <td>51.272727</td>\n",
       "      <td>...</td>\n",
       "      <td>3fff1b6e-e</td>\n",
       "      <td>Brandon Cruz</td>\n",
       "      <td>male</td>\n",
       "      <td>53</td>\n",
       "      <td>23</td>\n",
       "      <td>proactive</td>\n",
       "      <td>6</td>\n",
       "      <td>10497416</td>\n",
       "      <td>59.77</td>\n",
       "      <td>1</td>\n",
       "    </tr>\n",
       "    <tr>\n",
       "      <th>1</th>\n",
       "      <td>4299</td>\n",
       "      <td>28978466</td>\n",
       "      <td>R-f8640cff</td>\n",
       "      <td>2019-01-19 07:00:00</td>\n",
       "      <td>2019-01-19 12:44:24</td>\n",
       "      <td>0</td>\n",
       "      <td>46.000000</td>\n",
       "      <td>9.000000</td>\n",
       "      <td>0.0</td>\n",
       "      <td>75.000000</td>\n",
       "      <td>...</td>\n",
       "      <td>c3362ffc-f</td>\n",
       "      <td>Brian Garcia</td>\n",
       "      <td>male</td>\n",
       "      <td>49</td>\n",
       "      <td>5</td>\n",
       "      <td>conservative</td>\n",
       "      <td>8</td>\n",
       "      <td>28978466</td>\n",
       "      <td>45.73</td>\n",
       "      <td>0</td>\n",
       "    </tr>\n",
       "    <tr>\n",
       "      <th>2</th>\n",
       "      <td>4448</td>\n",
       "      <td>12911518</td>\n",
       "      <td>R-18468971</td>\n",
       "      <td>2019-01-25 07:00:00</td>\n",
       "      <td>2019-01-25 23:40:12</td>\n",
       "      <td>1</td>\n",
       "      <td>54.000000</td>\n",
       "      <td>9.750000</td>\n",
       "      <td>0.0</td>\n",
       "      <td>52.250000</td>\n",
       "      <td>...</td>\n",
       "      <td>0ce6d439-4</td>\n",
       "      <td>Jeremy Hurst PhD</td>\n",
       "      <td>male</td>\n",
       "      <td>57</td>\n",
       "      <td>19</td>\n",
       "      <td>proactive</td>\n",
       "      <td>7</td>\n",
       "      <td>12911518</td>\n",
       "      <td>60.84</td>\n",
       "      <td>0</td>\n",
       "    </tr>\n",
       "    <tr>\n",
       "      <th>3</th>\n",
       "      <td>9783</td>\n",
       "      <td>61984883</td>\n",
       "      <td>R-d87e53cd</td>\n",
       "      <td>2019-02-09 07:00:00</td>\n",
       "      <td>2019-02-09 20:38:24</td>\n",
       "      <td>0</td>\n",
       "      <td>80.500000</td>\n",
       "      <td>10.000000</td>\n",
       "      <td>0.0</td>\n",
       "      <td>63.500000</td>\n",
       "      <td>...</td>\n",
       "      <td>42aa7479-5</td>\n",
       "      <td>Jerry Powers</td>\n",
       "      <td>male</td>\n",
       "      <td>41</td>\n",
       "      <td>7</td>\n",
       "      <td>conservative</td>\n",
       "      <td>2</td>\n",
       "      <td>61984883</td>\n",
       "      <td>56.94</td>\n",
       "      <td>0</td>\n",
       "    </tr>\n",
       "    <tr>\n",
       "      <th>4</th>\n",
       "      <td>12209</td>\n",
       "      <td>30312694</td>\n",
       "      <td>R-483bf9db</td>\n",
       "      <td>2019-01-16 07:00:00</td>\n",
       "      <td>2019-01-16 09:03:36</td>\n",
       "      <td>0</td>\n",
       "      <td>67.500000</td>\n",
       "      <td>7.500000</td>\n",
       "      <td>0.0</td>\n",
       "      <td>88.500000</td>\n",
       "      <td>...</td>\n",
       "      <td>94ed3e6d-f</td>\n",
       "      <td>Manuel Wise</td>\n",
       "      <td>male</td>\n",
       "      <td>48</td>\n",
       "      <td>9</td>\n",
       "      <td>proactive</td>\n",
       "      <td>7</td>\n",
       "      <td>30312694</td>\n",
       "      <td>57.36</td>\n",
       "      <td>0</td>\n",
       "    </tr>\n",
       "  </tbody>\n",
       "</table>\n",
       "<p>5 rows × 49 columns</p>\n",
       "</div>"
      ],
      "text/plain": [
       "   unique_id  truck_id    route_id      departure_date   estimated_arrival  \\\n",
       "0       3725  10497416  R-2c5432ed 2019-02-10 07:00:00 2019-02-12 16:54:00   \n",
       "1       4299  28978466  R-f8640cff 2019-01-19 07:00:00 2019-01-19 12:44:24   \n",
       "2       4448  12911518  R-18468971 2019-01-25 07:00:00 2019-01-25 23:40:12   \n",
       "3       9783  61984883  R-d87e53cd 2019-02-09 07:00:00 2019-02-09 20:38:24   \n",
       "4      12209  30312694  R-483bf9db 2019-01-16 07:00:00 2019-01-16 09:03:36   \n",
       "\n",
       "   delay  route_avg_temp  route_avg_wind_speed  route_avg_precip  \\\n",
       "0      1       28.818182              6.727273               0.0   \n",
       "1      0       46.000000              9.000000               0.0   \n",
       "2      1       54.000000              9.750000               0.0   \n",
       "3      0       80.500000             10.000000               0.0   \n",
       "4      0       67.500000              7.500000               0.0   \n",
       "\n",
       "   route_avg_humidity  ...   driver_id              name gender age  \\\n",
       "0           51.272727  ...  3fff1b6e-e      Brandon Cruz   male  53   \n",
       "1           75.000000  ...  c3362ffc-f      Brian Garcia   male  49   \n",
       "2           52.250000  ...  0ce6d439-4  Jeremy Hurst PhD   male  57   \n",
       "3           63.500000  ...  42aa7479-5      Jerry Powers   male  41   \n",
       "4           88.500000  ...  94ed3e6d-f       Manuel Wise   male  48   \n",
       "\n",
       "  experience driving_style ratings  vehicle_no  average_speed_mph  is_midnight  \n",
       "0         23     proactive       6    10497416              59.77            1  \n",
       "1          5  conservative       8    28978466              45.73            0  \n",
       "2         19     proactive       7    12911518              60.84            0  \n",
       "3          7  conservative       2    61984883              56.94            0  \n",
       "4          9     proactive       7    30312694              57.36            0  \n",
       "\n",
       "[5 rows x 49 columns]"
      ]
     },
     "execution_count": 48,
     "metadata": {},
     "output_type": "execute_result"
    }
   ],
   "source": [
    "# First five rows\n",
    "final_merge.head()"
   ]
  },
  {
   "cell_type": "code",
   "execution_count": 49,
   "metadata": {},
   "outputs": [
    {
     "data": {
      "text/plain": [
       "49"
      ]
     },
     "execution_count": 49,
     "metadata": {},
     "output_type": "execute_result"
    }
   ],
   "source": [
    "len(final_merge.columns)"
   ]
  },
  {
   "cell_type": "markdown",
   "metadata": {},
   "source": [
    "### Data Processing"
   ]
  },
  {
   "cell_type": "code",
   "execution_count": 50,
   "metadata": {},
   "outputs": [
    {
     "name": "stdout",
     "output_type": "stream",
     "text": [
      "<class 'pandas.core.frame.DataFrame'>\n",
      "RangeIndex: 12308 entries, 0 to 12307\n",
      "Data columns (total 49 columns):\n",
      " #   Column                          Non-Null Count  Dtype         \n",
      "---  ------                          --------------  -----         \n",
      " 0   unique_id                       12308 non-null  int64         \n",
      " 1   truck_id                        12308 non-null  int64         \n",
      " 2   route_id                        12308 non-null  object        \n",
      " 3   departure_date                  12308 non-null  datetime64[ns]\n",
      " 4   estimated_arrival               12308 non-null  datetime64[ns]\n",
      " 5   delay                           12308 non-null  int64         \n",
      " 6   route_avg_temp                  12308 non-null  float64       \n",
      " 7   route_avg_wind_speed            12308 non-null  float64       \n",
      " 8   route_avg_precip                12308 non-null  float64       \n",
      " 9   route_avg_humidity              12308 non-null  float64       \n",
      " 10  route_avg_visibility            12308 non-null  float64       \n",
      " 11  route_avg_pressure              12308 non-null  float64       \n",
      " 12  route_description               12308 non-null  object        \n",
      " 13  estimated_arrival_nearest_hour  12308 non-null  datetime64[ns]\n",
      " 14  departure_date_nearest_hour     12308 non-null  datetime64[ns]\n",
      " 15  origin_id                       12308 non-null  object        \n",
      " 16  destination_id                  12308 non-null  object        \n",
      " 17  distance                        12308 non-null  float64       \n",
      " 18  average_hours                   12308 non-null  float64       \n",
      " 19  origin_temp                     12304 non-null  float64       \n",
      " 20  origin_wind_speed               12304 non-null  float64       \n",
      " 21  origin_description              12308 non-null  object        \n",
      " 22  origin_precip                   12304 non-null  float64       \n",
      " 23  origin_humidity                 12304 non-null  float64       \n",
      " 24  origin_visibility               12304 non-null  float64       \n",
      " 25  origin_pressure                 12304 non-null  float64       \n",
      " 26  destination_temp                12308 non-null  float64       \n",
      " 27  destination_wind_speed          12308 non-null  float64       \n",
      " 28  destination_description         12308 non-null  object        \n",
      " 29  destination_precip              12308 non-null  float64       \n",
      " 30  destination_humidity            12308 non-null  int64         \n",
      " 31  destination_visibility          12308 non-null  float64       \n",
      " 32  destination_pressure            12308 non-null  float64       \n",
      " 33  avg_no_of_vehicles              12308 non-null  float64       \n",
      " 34  accident                        12308 non-null  int64         \n",
      " 35  truck_age                       12308 non-null  int64         \n",
      " 36  load_capacity_pounds            11704 non-null  float64       \n",
      " 37  mileage_mpg                     12308 non-null  int64         \n",
      " 38  fuel_type                       12308 non-null  object        \n",
      " 39  driver_id                       12308 non-null  object        \n",
      " 40  name                            12308 non-null  object        \n",
      " 41  gender                          12308 non-null  object        \n",
      " 42  age                             12308 non-null  int64         \n",
      " 43  experience                      12308 non-null  int64         \n",
      " 44  driving_style                   12308 non-null  object        \n",
      " 45  ratings                         12308 non-null  int64         \n",
      " 46  vehicle_no                      12308 non-null  int64         \n",
      " 47  average_speed_mph               12308 non-null  float64       \n",
      " 48  is_midnight                     12308 non-null  int64         \n",
      "dtypes: datetime64[ns](4), float64(22), int64(12), object(11)\n",
      "memory usage: 4.6+ MB\n"
     ]
    }
   ],
   "source": [
    "# Basic Information on the dataframe\n",
    "final_merge.info()"
   ]
  },
  {
   "cell_type": "code",
   "execution_count": 51,
   "metadata": {},
   "outputs": [
    {
     "data": {
      "text/plain": [
       "unique_id                           0\n",
       "truck_id                            0\n",
       "route_id                            0\n",
       "departure_date                      0\n",
       "estimated_arrival                   0\n",
       "delay                               0\n",
       "route_avg_temp                      0\n",
       "route_avg_wind_speed                0\n",
       "route_avg_precip                    0\n",
       "route_avg_humidity                  0\n",
       "route_avg_visibility                0\n",
       "route_avg_pressure                  0\n",
       "route_description                   0\n",
       "estimated_arrival_nearest_hour      0\n",
       "departure_date_nearest_hour         0\n",
       "origin_id                           0\n",
       "destination_id                      0\n",
       "distance                            0\n",
       "average_hours                       0\n",
       "origin_temp                         4\n",
       "origin_wind_speed                   4\n",
       "origin_description                  0\n",
       "origin_precip                       4\n",
       "origin_humidity                     4\n",
       "origin_visibility                   4\n",
       "origin_pressure                     4\n",
       "destination_temp                    0\n",
       "destination_wind_speed              0\n",
       "destination_description             0\n",
       "destination_precip                  0\n",
       "destination_humidity                0\n",
       "destination_visibility              0\n",
       "destination_pressure                0\n",
       "avg_no_of_vehicles                  0\n",
       "accident                            0\n",
       "truck_age                           0\n",
       "load_capacity_pounds              604\n",
       "mileage_mpg                         0\n",
       "fuel_type                           0\n",
       "driver_id                           0\n",
       "name                                0\n",
       "gender                              0\n",
       "age                                 0\n",
       "experience                          0\n",
       "driving_style                       0\n",
       "ratings                             0\n",
       "vehicle_no                          0\n",
       "average_speed_mph                   0\n",
       "is_midnight                         0\n",
       "dtype: int64"
      ]
     },
     "execution_count": 51,
     "metadata": {},
     "output_type": "execute_result"
    }
   ],
   "source": [
    "# Number of null values\n",
    "final_merge.isna().sum()"
   ]
  },
  {
   "cell_type": "code",
   "execution_count": 52,
   "metadata": {},
   "outputs": [
    {
     "data": {
      "text/html": [
       "<div>\n",
       "<style scoped>\n",
       "    .dataframe tbody tr th:only-of-type {\n",
       "        vertical-align: middle;\n",
       "    }\n",
       "\n",
       "    .dataframe tbody tr th {\n",
       "        vertical-align: top;\n",
       "    }\n",
       "\n",
       "    .dataframe thead th {\n",
       "        text-align: right;\n",
       "    }\n",
       "</style>\n",
       "<table border=\"1\" class=\"dataframe\">\n",
       "  <thead>\n",
       "    <tr style=\"text-align: right;\">\n",
       "      <th></th>\n",
       "      <th>unique_id</th>\n",
       "      <th>truck_id</th>\n",
       "      <th>route_id</th>\n",
       "      <th>departure_date</th>\n",
       "      <th>estimated_arrival</th>\n",
       "      <th>delay</th>\n",
       "      <th>route_avg_temp</th>\n",
       "      <th>route_avg_wind_speed</th>\n",
       "      <th>route_avg_precip</th>\n",
       "      <th>route_avg_humidity</th>\n",
       "      <th>...</th>\n",
       "      <th>driver_id</th>\n",
       "      <th>name</th>\n",
       "      <th>gender</th>\n",
       "      <th>age</th>\n",
       "      <th>experience</th>\n",
       "      <th>driving_style</th>\n",
       "      <th>ratings</th>\n",
       "      <th>vehicle_no</th>\n",
       "      <th>average_speed_mph</th>\n",
       "      <th>is_midnight</th>\n",
       "    </tr>\n",
       "  </thead>\n",
       "  <tbody>\n",
       "    <tr>\n",
       "      <th>566</th>\n",
       "      <td>7661</td>\n",
       "      <td>18091756</td>\n",
       "      <td>R-112b790b</td>\n",
       "      <td>2019-01-25 07:00:00</td>\n",
       "      <td>2019-01-27 02:40:48</td>\n",
       "      <td>1</td>\n",
       "      <td>66.555556</td>\n",
       "      <td>6.888889</td>\n",
       "      <td>0.000000</td>\n",
       "      <td>90.888889</td>\n",
       "      <td>...</td>\n",
       "      <td>e975a383-c</td>\n",
       "      <td>Neil Herring</td>\n",
       "      <td>male</td>\n",
       "      <td>45</td>\n",
       "      <td>7</td>\n",
       "      <td>proactive</td>\n",
       "      <td>3</td>\n",
       "      <td>18091756</td>\n",
       "      <td>58.02</td>\n",
       "      <td>1</td>\n",
       "    </tr>\n",
       "    <tr>\n",
       "      <th>3766</th>\n",
       "      <td>8163</td>\n",
       "      <td>24746768</td>\n",
       "      <td>R-b5f9418a</td>\n",
       "      <td>2019-01-25 07:00:00</td>\n",
       "      <td>2019-01-27 14:35:24</td>\n",
       "      <td>0</td>\n",
       "      <td>47.454545</td>\n",
       "      <td>9.090909</td>\n",
       "      <td>0.000000</td>\n",
       "      <td>70.636364</td>\n",
       "      <td>...</td>\n",
       "      <td>3d91387f-2</td>\n",
       "      <td>William Anderson III</td>\n",
       "      <td>male</td>\n",
       "      <td>50</td>\n",
       "      <td>0</td>\n",
       "      <td>conservative</td>\n",
       "      <td>4</td>\n",
       "      <td>24746768</td>\n",
       "      <td>40.69</td>\n",
       "      <td>1</td>\n",
       "    </tr>\n",
       "    <tr>\n",
       "      <th>9720</th>\n",
       "      <td>11359</td>\n",
       "      <td>22916520</td>\n",
       "      <td>R-78ee1f97</td>\n",
       "      <td>2019-01-25 07:00:00</td>\n",
       "      <td>2019-01-28 10:08:24</td>\n",
       "      <td>0</td>\n",
       "      <td>57.500000</td>\n",
       "      <td>10.142857</td>\n",
       "      <td>0.000000</td>\n",
       "      <td>78.214286</td>\n",
       "      <td>...</td>\n",
       "      <td>ffedbf74-a</td>\n",
       "      <td>Thomas Ochoa</td>\n",
       "      <td>male</td>\n",
       "      <td>57</td>\n",
       "      <td>19</td>\n",
       "      <td>proactive</td>\n",
       "      <td>6</td>\n",
       "      <td>22916520</td>\n",
       "      <td>63.64</td>\n",
       "      <td>1</td>\n",
       "    </tr>\n",
       "    <tr>\n",
       "      <th>12077</th>\n",
       "      <td>7721</td>\n",
       "      <td>24654257</td>\n",
       "      <td>R-21472caf</td>\n",
       "      <td>2019-01-25 07:00:00</td>\n",
       "      <td>2019-01-27 16:50:24</td>\n",
       "      <td>0</td>\n",
       "      <td>69.000000</td>\n",
       "      <td>12.363636</td>\n",
       "      <td>0.018182</td>\n",
       "      <td>79.181818</td>\n",
       "      <td>...</td>\n",
       "      <td>f110642c-1</td>\n",
       "      <td>Marc Walters</td>\n",
       "      <td>male</td>\n",
       "      <td>47</td>\n",
       "      <td>5</td>\n",
       "      <td>proactive</td>\n",
       "      <td>3</td>\n",
       "      <td>24654257</td>\n",
       "      <td>61.93</td>\n",
       "      <td>1</td>\n",
       "    </tr>\n",
       "  </tbody>\n",
       "</table>\n",
       "<p>4 rows × 49 columns</p>\n",
       "</div>"
      ],
      "text/plain": [
       "       unique_id  truck_id    route_id      departure_date  \\\n",
       "566         7661  18091756  R-112b790b 2019-01-25 07:00:00   \n",
       "3766        8163  24746768  R-b5f9418a 2019-01-25 07:00:00   \n",
       "9720       11359  22916520  R-78ee1f97 2019-01-25 07:00:00   \n",
       "12077       7721  24654257  R-21472caf 2019-01-25 07:00:00   \n",
       "\n",
       "        estimated_arrival  delay  route_avg_temp  route_avg_wind_speed  \\\n",
       "566   2019-01-27 02:40:48      1       66.555556              6.888889   \n",
       "3766  2019-01-27 14:35:24      0       47.454545              9.090909   \n",
       "9720  2019-01-28 10:08:24      0       57.500000             10.142857   \n",
       "12077 2019-01-27 16:50:24      0       69.000000             12.363636   \n",
       "\n",
       "       route_avg_precip  route_avg_humidity  ...   driver_id  \\\n",
       "566            0.000000           90.888889  ...  e975a383-c   \n",
       "3766           0.000000           70.636364  ...  3d91387f-2   \n",
       "9720           0.000000           78.214286  ...  ffedbf74-a   \n",
       "12077          0.018182           79.181818  ...  f110642c-1   \n",
       "\n",
       "                       name gender age experience driving_style ratings  \\\n",
       "566            Neil Herring   male  45          7     proactive       3   \n",
       "3766   William Anderson III   male  50          0  conservative       4   \n",
       "9720           Thomas Ochoa   male  57         19     proactive       6   \n",
       "12077          Marc Walters   male  47          5     proactive       3   \n",
       "\n",
       "       vehicle_no  average_speed_mph  is_midnight  \n",
       "566      18091756              58.02            1  \n",
       "3766     24746768              40.69            1  \n",
       "9720     22916520              63.64            1  \n",
       "12077    24654257              61.93            1  \n",
       "\n",
       "[4 rows x 49 columns]"
      ]
     },
     "execution_count": 52,
     "metadata": {},
     "output_type": "execute_result"
    }
   ],
   "source": [
    "# Let's check the rows where origin temp is null\n",
    "final_merge[final_merge['origin_temp'].isnull()]"
   ]
  },
  {
   "cell_type": "code",
   "execution_count": 53,
   "metadata": {},
   "outputs": [
    {
     "data": {
      "text/html": [
       "<div>\n",
       "<style scoped>\n",
       "    .dataframe tbody tr th:only-of-type {\n",
       "        vertical-align: middle;\n",
       "    }\n",
       "\n",
       "    .dataframe tbody tr th {\n",
       "        vertical-align: top;\n",
       "    }\n",
       "\n",
       "    .dataframe thead th {\n",
       "        text-align: right;\n",
       "    }\n",
       "</style>\n",
       "<table border=\"1\" class=\"dataframe\">\n",
       "  <thead>\n",
       "    <tr style=\"text-align: right;\">\n",
       "      <th></th>\n",
       "      <th>unique_id</th>\n",
       "      <th>truck_id</th>\n",
       "      <th>route_id</th>\n",
       "      <th>departure_date</th>\n",
       "      <th>estimated_arrival</th>\n",
       "      <th>delay</th>\n",
       "      <th>route_avg_temp</th>\n",
       "      <th>route_avg_wind_speed</th>\n",
       "      <th>route_avg_precip</th>\n",
       "      <th>route_avg_humidity</th>\n",
       "      <th>...</th>\n",
       "      <th>driver_id</th>\n",
       "      <th>name</th>\n",
       "      <th>gender</th>\n",
       "      <th>age</th>\n",
       "      <th>experience</th>\n",
       "      <th>driving_style</th>\n",
       "      <th>ratings</th>\n",
       "      <th>vehicle_no</th>\n",
       "      <th>average_speed_mph</th>\n",
       "      <th>is_midnight</th>\n",
       "    </tr>\n",
       "  </thead>\n",
       "  <tbody>\n",
       "    <tr>\n",
       "      <th>566</th>\n",
       "      <td>7661</td>\n",
       "      <td>18091756</td>\n",
       "      <td>R-112b790b</td>\n",
       "      <td>2019-01-25 07:00:00</td>\n",
       "      <td>2019-01-27 02:40:48</td>\n",
       "      <td>1</td>\n",
       "      <td>66.555556</td>\n",
       "      <td>6.888889</td>\n",
       "      <td>0.000000</td>\n",
       "      <td>90.888889</td>\n",
       "      <td>...</td>\n",
       "      <td>e975a383-c</td>\n",
       "      <td>Neil Herring</td>\n",
       "      <td>male</td>\n",
       "      <td>45</td>\n",
       "      <td>7</td>\n",
       "      <td>proactive</td>\n",
       "      <td>3</td>\n",
       "      <td>18091756</td>\n",
       "      <td>58.02</td>\n",
       "      <td>1</td>\n",
       "    </tr>\n",
       "    <tr>\n",
       "      <th>3766</th>\n",
       "      <td>8163</td>\n",
       "      <td>24746768</td>\n",
       "      <td>R-b5f9418a</td>\n",
       "      <td>2019-01-25 07:00:00</td>\n",
       "      <td>2019-01-27 14:35:24</td>\n",
       "      <td>0</td>\n",
       "      <td>47.454545</td>\n",
       "      <td>9.090909</td>\n",
       "      <td>0.000000</td>\n",
       "      <td>70.636364</td>\n",
       "      <td>...</td>\n",
       "      <td>3d91387f-2</td>\n",
       "      <td>William Anderson III</td>\n",
       "      <td>male</td>\n",
       "      <td>50</td>\n",
       "      <td>0</td>\n",
       "      <td>conservative</td>\n",
       "      <td>4</td>\n",
       "      <td>24746768</td>\n",
       "      <td>40.69</td>\n",
       "      <td>1</td>\n",
       "    </tr>\n",
       "    <tr>\n",
       "      <th>9720</th>\n",
       "      <td>11359</td>\n",
       "      <td>22916520</td>\n",
       "      <td>R-78ee1f97</td>\n",
       "      <td>2019-01-25 07:00:00</td>\n",
       "      <td>2019-01-28 10:08:24</td>\n",
       "      <td>0</td>\n",
       "      <td>57.500000</td>\n",
       "      <td>10.142857</td>\n",
       "      <td>0.000000</td>\n",
       "      <td>78.214286</td>\n",
       "      <td>...</td>\n",
       "      <td>ffedbf74-a</td>\n",
       "      <td>Thomas Ochoa</td>\n",
       "      <td>male</td>\n",
       "      <td>57</td>\n",
       "      <td>19</td>\n",
       "      <td>proactive</td>\n",
       "      <td>6</td>\n",
       "      <td>22916520</td>\n",
       "      <td>63.64</td>\n",
       "      <td>1</td>\n",
       "    </tr>\n",
       "    <tr>\n",
       "      <th>12077</th>\n",
       "      <td>7721</td>\n",
       "      <td>24654257</td>\n",
       "      <td>R-21472caf</td>\n",
       "      <td>2019-01-25 07:00:00</td>\n",
       "      <td>2019-01-27 16:50:24</td>\n",
       "      <td>0</td>\n",
       "      <td>69.000000</td>\n",
       "      <td>12.363636</td>\n",
       "      <td>0.018182</td>\n",
       "      <td>79.181818</td>\n",
       "      <td>...</td>\n",
       "      <td>f110642c-1</td>\n",
       "      <td>Marc Walters</td>\n",
       "      <td>male</td>\n",
       "      <td>47</td>\n",
       "      <td>5</td>\n",
       "      <td>proactive</td>\n",
       "      <td>3</td>\n",
       "      <td>24654257</td>\n",
       "      <td>61.93</td>\n",
       "      <td>1</td>\n",
       "    </tr>\n",
       "  </tbody>\n",
       "</table>\n",
       "<p>4 rows × 49 columns</p>\n",
       "</div>"
      ],
      "text/plain": [
       "       unique_id  truck_id    route_id      departure_date  \\\n",
       "566         7661  18091756  R-112b790b 2019-01-25 07:00:00   \n",
       "3766        8163  24746768  R-b5f9418a 2019-01-25 07:00:00   \n",
       "9720       11359  22916520  R-78ee1f97 2019-01-25 07:00:00   \n",
       "12077       7721  24654257  R-21472caf 2019-01-25 07:00:00   \n",
       "\n",
       "        estimated_arrival  delay  route_avg_temp  route_avg_wind_speed  \\\n",
       "566   2019-01-27 02:40:48      1       66.555556              6.888889   \n",
       "3766  2019-01-27 14:35:24      0       47.454545              9.090909   \n",
       "9720  2019-01-28 10:08:24      0       57.500000             10.142857   \n",
       "12077 2019-01-27 16:50:24      0       69.000000             12.363636   \n",
       "\n",
       "       route_avg_precip  route_avg_humidity  ...   driver_id  \\\n",
       "566            0.000000           90.888889  ...  e975a383-c   \n",
       "3766           0.000000           70.636364  ...  3d91387f-2   \n",
       "9720           0.000000           78.214286  ...  ffedbf74-a   \n",
       "12077          0.018182           79.181818  ...  f110642c-1   \n",
       "\n",
       "                       name gender age experience driving_style ratings  \\\n",
       "566            Neil Herring   male  45          7     proactive       3   \n",
       "3766   William Anderson III   male  50          0  conservative       4   \n",
       "9720           Thomas Ochoa   male  57         19     proactive       6   \n",
       "12077          Marc Walters   male  47          5     proactive       3   \n",
       "\n",
       "       vehicle_no  average_speed_mph  is_midnight  \n",
       "566      18091756              58.02            1  \n",
       "3766     24746768              40.69            1  \n",
       "9720     22916520              63.64            1  \n",
       "12077    24654257              61.93            1  \n",
       "\n",
       "[4 rows x 49 columns]"
      ]
     },
     "execution_count": 53,
     "metadata": {},
     "output_type": "execute_result"
    }
   ],
   "source": [
    "# Let's check the rows where origin humidity is null\n",
    "# Looks like we have null values in the same rows, let's find out which origin city is this\n",
    "final_merge[final_merge['origin_humidity'].isnull()]"
   ]
  },
  {
   "cell_type": "code",
   "execution_count": 54,
   "metadata": {},
   "outputs": [
    {
     "name": "stdout",
     "output_type": "stream",
     "text": [
      "Finished: Reading data from Hopsworks, using Hive (1.32s) \n"
     ]
    }
   ],
   "source": [
    "# Fetch the routes data\n",
    "routes_data = fs.get_feature_group('routes_details_fg', version=1)\n",
    "\n",
    "routes_data_query = routes_data.select_all()\n",
    "\n",
    "routes_df = routes_data_query.read(read_options={\"use_hive\": True})"
   ]
  },
  {
   "cell_type": "code",
   "execution_count": 55,
   "metadata": {},
   "outputs": [
    {
     "data": {
      "text/html": [
       "<div>\n",
       "<style scoped>\n",
       "    .dataframe tbody tr th:only-of-type {\n",
       "        vertical-align: middle;\n",
       "    }\n",
       "\n",
       "    .dataframe tbody tr th {\n",
       "        vertical-align: top;\n",
       "    }\n",
       "\n",
       "    .dataframe thead th {\n",
       "        text-align: right;\n",
       "    }\n",
       "</style>\n",
       "<table border=\"1\" class=\"dataframe\">\n",
       "  <thead>\n",
       "    <tr style=\"text-align: right;\">\n",
       "      <th></th>\n",
       "      <th>route_id</th>\n",
       "      <th>origin_id</th>\n",
       "      <th>destination_id</th>\n",
       "      <th>distance</th>\n",
       "      <th>average_hours</th>\n",
       "      <th>event_time</th>\n",
       "    </tr>\n",
       "  </thead>\n",
       "  <tbody>\n",
       "    <tr>\n",
       "      <th>6</th>\n",
       "      <td>R-b5f9418a</td>\n",
       "      <td>C-f8f01604</td>\n",
       "      <td>C-4fe0fa24</td>\n",
       "      <td>2779.33</td>\n",
       "      <td>55.59</td>\n",
       "      <td>2023-08-23</td>\n",
       "    </tr>\n",
       "    <tr>\n",
       "      <th>438</th>\n",
       "      <td>R-21472caf</td>\n",
       "      <td>C-f8f01604</td>\n",
       "      <td>C-2e349ccd</td>\n",
       "      <td>2892.14</td>\n",
       "      <td>57.84</td>\n",
       "      <td>2023-08-23</td>\n",
       "    </tr>\n",
       "    <tr>\n",
       "      <th>702</th>\n",
       "      <td>R-112b790b</td>\n",
       "      <td>C-f8f01604</td>\n",
       "      <td>C-d3bb431c</td>\n",
       "      <td>2183.94</td>\n",
       "      <td>43.68</td>\n",
       "      <td>2023-08-23</td>\n",
       "    </tr>\n",
       "    <tr>\n",
       "      <th>1289</th>\n",
       "      <td>R-78ee1f97</td>\n",
       "      <td>C-f8f01604</td>\n",
       "      <td>C-f5ed4c15</td>\n",
       "      <td>3757.02</td>\n",
       "      <td>75.14</td>\n",
       "      <td>2023-08-23</td>\n",
       "    </tr>\n",
       "  </tbody>\n",
       "</table>\n",
       "</div>"
      ],
      "text/plain": [
       "        route_id   origin_id destination_id  distance  average_hours  \\\n",
       "6     R-b5f9418a  C-f8f01604     C-4fe0fa24   2779.33          55.59   \n",
       "438   R-21472caf  C-f8f01604     C-2e349ccd   2892.14          57.84   \n",
       "702   R-112b790b  C-f8f01604     C-d3bb431c   2183.94          43.68   \n",
       "1289  R-78ee1f97  C-f8f01604     C-f5ed4c15   3757.02          75.14   \n",
       "\n",
       "     event_time  \n",
       "6    2023-08-23  \n",
       "438  2023-08-23  \n",
       "702  2023-08-23  \n",
       "1289 2023-08-23  "
      ]
     },
     "execution_count": 55,
     "metadata": {},
     "output_type": "execute_result"
    }
   ],
   "source": [
    "# Find the rows with the routes ids which has no info on origin city's weather on 25th jan\n",
    "# Only 1 city is there in all these rows\n",
    "routes_df[routes_df.route_id.isin(['R-112b790b', 'R-78ee1f97','R-b5f9418a', 'R-21472caf'])]"
   ]
  },
  {
   "cell_type": "code",
   "execution_count": 56,
   "metadata": {},
   "outputs": [
    {
     "name": "stdout",
     "output_type": "stream",
     "text": [
      "Finished: Reading data from Hopsworks, using Hive (5.17s) \n"
     ]
    }
   ],
   "source": [
    "# Let's check if we have any information on this city\n",
    "# Fetching the weather data\n",
    "weather_data = fs.get_feature_group('city_weather_details_fg', version=1)\n",
    "\n",
    "weather_query = weather_data.select_all()\n",
    "\n",
    "weather_df = weather_query.read(read_options={\"use_hive\": True})"
   ]
  },
  {
   "cell_type": "code",
   "execution_count": 57,
   "metadata": {},
   "outputs": [
    {
     "data": {
      "text/html": [
       "<div>\n",
       "<style scoped>\n",
       "    .dataframe tbody tr th:only-of-type {\n",
       "        vertical-align: middle;\n",
       "    }\n",
       "\n",
       "    .dataframe tbody tr th {\n",
       "        vertical-align: top;\n",
       "    }\n",
       "\n",
       "    .dataframe thead th {\n",
       "        text-align: right;\n",
       "    }\n",
       "</style>\n",
       "<table border=\"1\" class=\"dataframe\">\n",
       "  <thead>\n",
       "    <tr style=\"text-align: right;\">\n",
       "      <th></th>\n",
       "      <th>city_id</th>\n",
       "      <th>date</th>\n",
       "      <th>hour</th>\n",
       "      <th>temp</th>\n",
       "      <th>wind_speed</th>\n",
       "      <th>description</th>\n",
       "      <th>precip</th>\n",
       "      <th>humidity</th>\n",
       "      <th>visibility</th>\n",
       "      <th>pressure</th>\n",
       "      <th>chanceofrain</th>\n",
       "      <th>chanceoffog</th>\n",
       "      <th>chanceofsnow</th>\n",
       "      <th>chanceofthunder</th>\n",
       "    </tr>\n",
       "  </thead>\n",
       "  <tbody>\n",
       "  </tbody>\n",
       "</table>\n",
       "</div>"
      ],
      "text/plain": [
       "Empty DataFrame\n",
       "Columns: [city_id, date, hour, temp, wind_speed, description, precip, humidity, visibility, pressure, chanceofrain, chanceoffog, chanceofsnow, chanceofthunder]\n",
       "Index: []"
      ]
     },
     "execution_count": 57,
     "metadata": {},
     "output_type": "execute_result"
    }
   ],
   "source": [
    "# Filter the weather data with city and date\n",
    "# We don't have any information on this, we will remove these rows\n",
    "# It is important to check with the business regarding the information though \n",
    "weather_df[(weather_df.city_id=='C-f8f01604')&(weather_df.date==pd.to_datetime('2019-01-25'))]"
   ]
  },
  {
   "cell_type": "code",
   "execution_count": 58,
   "metadata": {},
   "outputs": [],
   "source": [
    "# Drop the rows\n",
    "\n",
    "final_merge=final_merge.dropna(subset =  ['origin_temp', 'origin_wind_speed', 'origin_precip',\n",
    "                                'origin_humidity', 'origin_visibility', 'origin_pressure' ] ).reset_index(drop=True)"
   ]
  },
  {
   "cell_type": "code",
   "execution_count": 59,
   "metadata": {},
   "outputs": [
    {
     "data": {
      "text/plain": [
       "unique_id                           0\n",
       "truck_id                            0\n",
       "route_id                            0\n",
       "departure_date                      0\n",
       "estimated_arrival                   0\n",
       "delay                               0\n",
       "route_avg_temp                      0\n",
       "route_avg_wind_speed                0\n",
       "route_avg_precip                    0\n",
       "route_avg_humidity                  0\n",
       "route_avg_visibility                0\n",
       "route_avg_pressure                  0\n",
       "route_description                   0\n",
       "estimated_arrival_nearest_hour      0\n",
       "departure_date_nearest_hour         0\n",
       "origin_id                           0\n",
       "destination_id                      0\n",
       "distance                            0\n",
       "average_hours                       0\n",
       "origin_temp                         0\n",
       "origin_wind_speed                   0\n",
       "origin_description                  0\n",
       "origin_precip                       0\n",
       "origin_humidity                     0\n",
       "origin_visibility                   0\n",
       "origin_pressure                     0\n",
       "destination_temp                    0\n",
       "destination_wind_speed              0\n",
       "destination_description             0\n",
       "destination_precip                  0\n",
       "destination_humidity                0\n",
       "destination_visibility              0\n",
       "destination_pressure                0\n",
       "avg_no_of_vehicles                  0\n",
       "accident                            0\n",
       "truck_age                           0\n",
       "load_capacity_pounds              604\n",
       "mileage_mpg                         0\n",
       "fuel_type                           0\n",
       "driver_id                           0\n",
       "name                                0\n",
       "gender                              0\n",
       "age                                 0\n",
       "experience                          0\n",
       "driving_style                       0\n",
       "ratings                             0\n",
       "vehicle_no                          0\n",
       "average_speed_mph                   0\n",
       "is_midnight                         0\n",
       "dtype: int64"
      ]
     },
     "execution_count": 59,
     "metadata": {},
     "output_type": "execute_result"
    }
   ],
   "source": [
    "# Let's verify the dropped null values\n",
    "final_merge.isna().sum()"
   ]
  },
  {
   "cell_type": "code",
   "execution_count": 60,
   "metadata": {},
   "outputs": [
    {
     "data": {
      "text/html": [
       "<div>\n",
       "<style scoped>\n",
       "    .dataframe tbody tr th:only-of-type {\n",
       "        vertical-align: middle;\n",
       "    }\n",
       "\n",
       "    .dataframe tbody tr th {\n",
       "        vertical-align: top;\n",
       "    }\n",
       "\n",
       "    .dataframe thead th {\n",
       "        text-align: right;\n",
       "    }\n",
       "</style>\n",
       "<table border=\"1\" class=\"dataframe\">\n",
       "  <thead>\n",
       "    <tr style=\"text-align: right;\">\n",
       "      <th></th>\n",
       "      <th>unique_id</th>\n",
       "      <th>truck_id</th>\n",
       "      <th>route_id</th>\n",
       "      <th>departure_date</th>\n",
       "      <th>estimated_arrival</th>\n",
       "      <th>delay</th>\n",
       "      <th>route_avg_temp</th>\n",
       "      <th>route_avg_wind_speed</th>\n",
       "      <th>route_avg_precip</th>\n",
       "      <th>route_avg_humidity</th>\n",
       "      <th>...</th>\n",
       "      <th>driver_id</th>\n",
       "      <th>name</th>\n",
       "      <th>gender</th>\n",
       "      <th>age</th>\n",
       "      <th>experience</th>\n",
       "      <th>driving_style</th>\n",
       "      <th>ratings</th>\n",
       "      <th>vehicle_no</th>\n",
       "      <th>average_speed_mph</th>\n",
       "      <th>is_midnight</th>\n",
       "    </tr>\n",
       "  </thead>\n",
       "  <tbody>\n",
       "    <tr>\n",
       "      <th>0</th>\n",
       "      <td>3725</td>\n",
       "      <td>10497416</td>\n",
       "      <td>R-2c5432ed</td>\n",
       "      <td>2019-02-10 07:00:00</td>\n",
       "      <td>2019-02-12 16:54:00</td>\n",
       "      <td>1</td>\n",
       "      <td>28.818182</td>\n",
       "      <td>6.727273</td>\n",
       "      <td>0.000000</td>\n",
       "      <td>51.272727</td>\n",
       "      <td>...</td>\n",
       "      <td>3fff1b6e-e</td>\n",
       "      <td>Brandon Cruz</td>\n",
       "      <td>male</td>\n",
       "      <td>53</td>\n",
       "      <td>23</td>\n",
       "      <td>proactive</td>\n",
       "      <td>6</td>\n",
       "      <td>10497416</td>\n",
       "      <td>59.77</td>\n",
       "      <td>1</td>\n",
       "    </tr>\n",
       "    <tr>\n",
       "      <th>1</th>\n",
       "      <td>4299</td>\n",
       "      <td>28978466</td>\n",
       "      <td>R-f8640cff</td>\n",
       "      <td>2019-01-19 07:00:00</td>\n",
       "      <td>2019-01-19 12:44:24</td>\n",
       "      <td>0</td>\n",
       "      <td>46.000000</td>\n",
       "      <td>9.000000</td>\n",
       "      <td>0.000000</td>\n",
       "      <td>75.000000</td>\n",
       "      <td>...</td>\n",
       "      <td>c3362ffc-f</td>\n",
       "      <td>Brian Garcia</td>\n",
       "      <td>male</td>\n",
       "      <td>49</td>\n",
       "      <td>5</td>\n",
       "      <td>conservative</td>\n",
       "      <td>8</td>\n",
       "      <td>28978466</td>\n",
       "      <td>45.73</td>\n",
       "      <td>0</td>\n",
       "    </tr>\n",
       "    <tr>\n",
       "      <th>2</th>\n",
       "      <td>4448</td>\n",
       "      <td>12911518</td>\n",
       "      <td>R-18468971</td>\n",
       "      <td>2019-01-25 07:00:00</td>\n",
       "      <td>2019-01-25 23:40:12</td>\n",
       "      <td>1</td>\n",
       "      <td>54.000000</td>\n",
       "      <td>9.750000</td>\n",
       "      <td>0.000000</td>\n",
       "      <td>52.250000</td>\n",
       "      <td>...</td>\n",
       "      <td>0ce6d439-4</td>\n",
       "      <td>Jeremy Hurst PhD</td>\n",
       "      <td>male</td>\n",
       "      <td>57</td>\n",
       "      <td>19</td>\n",
       "      <td>proactive</td>\n",
       "      <td>7</td>\n",
       "      <td>12911518</td>\n",
       "      <td>60.84</td>\n",
       "      <td>0</td>\n",
       "    </tr>\n",
       "    <tr>\n",
       "      <th>3</th>\n",
       "      <td>9783</td>\n",
       "      <td>61984883</td>\n",
       "      <td>R-d87e53cd</td>\n",
       "      <td>2019-02-09 07:00:00</td>\n",
       "      <td>2019-02-09 20:38:24</td>\n",
       "      <td>0</td>\n",
       "      <td>80.500000</td>\n",
       "      <td>10.000000</td>\n",
       "      <td>0.000000</td>\n",
       "      <td>63.500000</td>\n",
       "      <td>...</td>\n",
       "      <td>42aa7479-5</td>\n",
       "      <td>Jerry Powers</td>\n",
       "      <td>male</td>\n",
       "      <td>41</td>\n",
       "      <td>7</td>\n",
       "      <td>conservative</td>\n",
       "      <td>2</td>\n",
       "      <td>61984883</td>\n",
       "      <td>56.94</td>\n",
       "      <td>0</td>\n",
       "    </tr>\n",
       "    <tr>\n",
       "      <th>4</th>\n",
       "      <td>12209</td>\n",
       "      <td>30312694</td>\n",
       "      <td>R-483bf9db</td>\n",
       "      <td>2019-01-16 07:00:00</td>\n",
       "      <td>2019-01-16 09:03:36</td>\n",
       "      <td>0</td>\n",
       "      <td>67.500000</td>\n",
       "      <td>7.500000</td>\n",
       "      <td>0.000000</td>\n",
       "      <td>88.500000</td>\n",
       "      <td>...</td>\n",
       "      <td>94ed3e6d-f</td>\n",
       "      <td>Manuel Wise</td>\n",
       "      <td>male</td>\n",
       "      <td>48</td>\n",
       "      <td>9</td>\n",
       "      <td>proactive</td>\n",
       "      <td>7</td>\n",
       "      <td>30312694</td>\n",
       "      <td>57.36</td>\n",
       "      <td>0</td>\n",
       "    </tr>\n",
       "    <tr>\n",
       "      <th>...</th>\n",
       "      <td>...</td>\n",
       "      <td>...</td>\n",
       "      <td>...</td>\n",
       "      <td>...</td>\n",
       "      <td>...</td>\n",
       "      <td>...</td>\n",
       "      <td>...</td>\n",
       "      <td>...</td>\n",
       "      <td>...</td>\n",
       "      <td>...</td>\n",
       "      <td>...</td>\n",
       "      <td>...</td>\n",
       "      <td>...</td>\n",
       "      <td>...</td>\n",
       "      <td>...</td>\n",
       "      <td>...</td>\n",
       "      <td>...</td>\n",
       "      <td>...</td>\n",
       "      <td>...</td>\n",
       "      <td>...</td>\n",
       "      <td>...</td>\n",
       "    </tr>\n",
       "    <tr>\n",
       "      <th>12299</th>\n",
       "      <td>5411</td>\n",
       "      <td>31312028</td>\n",
       "      <td>R-20f95619</td>\n",
       "      <td>2019-01-13 07:00:00</td>\n",
       "      <td>2019-01-13 14:50:24</td>\n",
       "      <td>0</td>\n",
       "      <td>60.666667</td>\n",
       "      <td>16.333333</td>\n",
       "      <td>0.000000</td>\n",
       "      <td>60.000000</td>\n",
       "      <td>...</td>\n",
       "      <td>a17d5cbf-7</td>\n",
       "      <td>Kenneth Johnson</td>\n",
       "      <td>male</td>\n",
       "      <td>50</td>\n",
       "      <td>7</td>\n",
       "      <td>proactive</td>\n",
       "      <td>8</td>\n",
       "      <td>31312028</td>\n",
       "      <td>62.11</td>\n",
       "      <td>0</td>\n",
       "    </tr>\n",
       "    <tr>\n",
       "      <th>12300</th>\n",
       "      <td>621</td>\n",
       "      <td>22913195</td>\n",
       "      <td>R-00b69c21</td>\n",
       "      <td>2019-01-19 07:00:00</td>\n",
       "      <td>2019-01-19 10:13:12</td>\n",
       "      <td>0</td>\n",
       "      <td>56.500000</td>\n",
       "      <td>9.500000</td>\n",
       "      <td>0.050000</td>\n",
       "      <td>79.000000</td>\n",
       "      <td>...</td>\n",
       "      <td>4b6a3c38-a</td>\n",
       "      <td>Roy Banks</td>\n",
       "      <td>male</td>\n",
       "      <td>54</td>\n",
       "      <td>25</td>\n",
       "      <td>conservative</td>\n",
       "      <td>7</td>\n",
       "      <td>22913195</td>\n",
       "      <td>48.23</td>\n",
       "      <td>0</td>\n",
       "    </tr>\n",
       "    <tr>\n",
       "      <th>12301</th>\n",
       "      <td>8806</td>\n",
       "      <td>78735626</td>\n",
       "      <td>R-3c2b451d</td>\n",
       "      <td>2019-01-26 07:00:00</td>\n",
       "      <td>2019-01-27 16:05:24</td>\n",
       "      <td>0</td>\n",
       "      <td>55.000000</td>\n",
       "      <td>4.857143</td>\n",
       "      <td>0.000000</td>\n",
       "      <td>65.428571</td>\n",
       "      <td>...</td>\n",
       "      <td>3e53cc64-c</td>\n",
       "      <td>Geoffrey Barber</td>\n",
       "      <td>male</td>\n",
       "      <td>44</td>\n",
       "      <td>4</td>\n",
       "      <td>proactive</td>\n",
       "      <td>7</td>\n",
       "      <td>78735626</td>\n",
       "      <td>61.18</td>\n",
       "      <td>1</td>\n",
       "    </tr>\n",
       "    <tr>\n",
       "      <th>12302</th>\n",
       "      <td>9405</td>\n",
       "      <td>18493697</td>\n",
       "      <td>R-5c9a7270</td>\n",
       "      <td>2019-02-05 07:00:00</td>\n",
       "      <td>2019-02-06 09:24:00</td>\n",
       "      <td>1</td>\n",
       "      <td>74.833333</td>\n",
       "      <td>5.166667</td>\n",
       "      <td>0.016667</td>\n",
       "      <td>63.333333</td>\n",
       "      <td>...</td>\n",
       "      <td>2ac3deaa-5</td>\n",
       "      <td>Michael Barber</td>\n",
       "      <td>male</td>\n",
       "      <td>64</td>\n",
       "      <td>30</td>\n",
       "      <td>proactive</td>\n",
       "      <td>6</td>\n",
       "      <td>18493697</td>\n",
       "      <td>57.13</td>\n",
       "      <td>1</td>\n",
       "    </tr>\n",
       "    <tr>\n",
       "      <th>12303</th>\n",
       "      <td>5328</td>\n",
       "      <td>12492275</td>\n",
       "      <td>R-c29b1cbb</td>\n",
       "      <td>2019-01-22 07:00:00</td>\n",
       "      <td>2019-01-22 18:27:00</td>\n",
       "      <td>0</td>\n",
       "      <td>71.500000</td>\n",
       "      <td>9.250000</td>\n",
       "      <td>0.000000</td>\n",
       "      <td>58.750000</td>\n",
       "      <td>...</td>\n",
       "      <td>aa8ea26b-e</td>\n",
       "      <td>Alexander Hoover</td>\n",
       "      <td>male</td>\n",
       "      <td>49</td>\n",
       "      <td>0</td>\n",
       "      <td>proactive</td>\n",
       "      <td>7</td>\n",
       "      <td>12492275</td>\n",
       "      <td>59.49</td>\n",
       "      <td>0</td>\n",
       "    </tr>\n",
       "  </tbody>\n",
       "</table>\n",
       "<p>12304 rows × 49 columns</p>\n",
       "</div>"
      ],
      "text/plain": [
       "       unique_id  truck_id    route_id      departure_date  \\\n",
       "0           3725  10497416  R-2c5432ed 2019-02-10 07:00:00   \n",
       "1           4299  28978466  R-f8640cff 2019-01-19 07:00:00   \n",
       "2           4448  12911518  R-18468971 2019-01-25 07:00:00   \n",
       "3           9783  61984883  R-d87e53cd 2019-02-09 07:00:00   \n",
       "4          12209  30312694  R-483bf9db 2019-01-16 07:00:00   \n",
       "...          ...       ...         ...                 ...   \n",
       "12299       5411  31312028  R-20f95619 2019-01-13 07:00:00   \n",
       "12300        621  22913195  R-00b69c21 2019-01-19 07:00:00   \n",
       "12301       8806  78735626  R-3c2b451d 2019-01-26 07:00:00   \n",
       "12302       9405  18493697  R-5c9a7270 2019-02-05 07:00:00   \n",
       "12303       5328  12492275  R-c29b1cbb 2019-01-22 07:00:00   \n",
       "\n",
       "        estimated_arrival  delay  route_avg_temp  route_avg_wind_speed  \\\n",
       "0     2019-02-12 16:54:00      1       28.818182              6.727273   \n",
       "1     2019-01-19 12:44:24      0       46.000000              9.000000   \n",
       "2     2019-01-25 23:40:12      1       54.000000              9.750000   \n",
       "3     2019-02-09 20:38:24      0       80.500000             10.000000   \n",
       "4     2019-01-16 09:03:36      0       67.500000              7.500000   \n",
       "...                   ...    ...             ...                   ...   \n",
       "12299 2019-01-13 14:50:24      0       60.666667             16.333333   \n",
       "12300 2019-01-19 10:13:12      0       56.500000              9.500000   \n",
       "12301 2019-01-27 16:05:24      0       55.000000              4.857143   \n",
       "12302 2019-02-06 09:24:00      1       74.833333              5.166667   \n",
       "12303 2019-01-22 18:27:00      0       71.500000              9.250000   \n",
       "\n",
       "       route_avg_precip  route_avg_humidity  ...   driver_id  \\\n",
       "0              0.000000           51.272727  ...  3fff1b6e-e   \n",
       "1              0.000000           75.000000  ...  c3362ffc-f   \n",
       "2              0.000000           52.250000  ...  0ce6d439-4   \n",
       "3              0.000000           63.500000  ...  42aa7479-5   \n",
       "4              0.000000           88.500000  ...  94ed3e6d-f   \n",
       "...                 ...                 ...  ...         ...   \n",
       "12299          0.000000           60.000000  ...  a17d5cbf-7   \n",
       "12300          0.050000           79.000000  ...  4b6a3c38-a   \n",
       "12301          0.000000           65.428571  ...  3e53cc64-c   \n",
       "12302          0.016667           63.333333  ...  2ac3deaa-5   \n",
       "12303          0.000000           58.750000  ...  aa8ea26b-e   \n",
       "\n",
       "                   name gender age experience driving_style ratings  \\\n",
       "0          Brandon Cruz   male  53         23     proactive       6   \n",
       "1          Brian Garcia   male  49          5  conservative       8   \n",
       "2      Jeremy Hurst PhD   male  57         19     proactive       7   \n",
       "3          Jerry Powers   male  41          7  conservative       2   \n",
       "4           Manuel Wise   male  48          9     proactive       7   \n",
       "...                 ...    ...  ..        ...           ...     ...   \n",
       "12299   Kenneth Johnson   male  50          7     proactive       8   \n",
       "12300         Roy Banks   male  54         25  conservative       7   \n",
       "12301   Geoffrey Barber   male  44          4     proactive       7   \n",
       "12302    Michael Barber   male  64         30     proactive       6   \n",
       "12303  Alexander Hoover   male  49          0     proactive       7   \n",
       "\n",
       "       vehicle_no  average_speed_mph  is_midnight  \n",
       "0        10497416              59.77            1  \n",
       "1        28978466              45.73            0  \n",
       "2        12911518              60.84            0  \n",
       "3        61984883              56.94            0  \n",
       "4        30312694              57.36            0  \n",
       "...           ...                ...          ...  \n",
       "12299    31312028              62.11            0  \n",
       "12300    22913195              48.23            0  \n",
       "12301    78735626              61.18            1  \n",
       "12302    18493697              57.13            1  \n",
       "12303    12492275              59.49            0  \n",
       "\n",
       "[12304 rows x 49 columns]"
      ]
     },
     "execution_count": 60,
     "metadata": {},
     "output_type": "execute_result"
    }
   ],
   "source": [
    "final_merge"
   ]
  },
  {
   "cell_type": "code",
   "execution_count": 61,
   "metadata": {},
   "outputs": [],
   "source": [
    "#selecting necessary columns and removing id columns\n",
    "\n",
    "# final_merge.select_dtypes(include='object').columns\n",
    "# final_merge.select_dtypes(exclude='object').columns\n",
    "\n",
    "cts_cols=['route_avg_temp', 'route_avg_wind_speed',\n",
    "       'route_avg_precip', 'route_avg_humidity', 'route_avg_visibility',\n",
    "       'route_avg_pressure', 'distance', 'average_hours',\n",
    "       'origin_temp', 'origin_wind_speed', 'origin_precip', 'origin_humidity',\n",
    "       'origin_visibility', 'origin_pressure',\n",
    "       'destination_temp','destination_wind_speed','destination_precip',\n",
    "       'destination_humidity', 'destination_visibility','destination_pressure',\n",
    "        'avg_no_of_vehicles', 'truck_age','load_capacity_pounds', 'mileage_mpg',\n",
    "        'age', 'experience','average_speed_mph']\n",
    "\n",
    "\n",
    "cat_cols=['route_description',\n",
    "       'origin_description', 'destination_description',\n",
    "        'accident', 'fuel_type',\n",
    "       'gender', 'driving_style', 'ratings','is_midnight']\n",
    "\n",
    "\n",
    "target=['delay']\n",
    "\n"
   ]
  },
  {
   "cell_type": "code",
   "execution_count": 62,
   "metadata": {},
   "outputs": [
    {
     "data": {
      "text/plain": [
       "(Timestamp('2019-01-01 07:04:48'), Timestamp('2019-02-14 16:06:00'))"
      ]
     },
     "execution_count": 62,
     "metadata": {},
     "output_type": "execute_result"
    }
   ],
   "source": [
    "# Checking the date range\n",
    "final_merge['estimated_arrival'].min(), final_merge['estimated_arrival'].max()"
   ]
  },
  {
   "cell_type": "code",
   "execution_count": 63,
   "metadata": {},
   "outputs": [],
   "source": [
    "# Splitting the data into training, validation, and test sets based on date\n",
    "\n",
    "# An entire month of january for training \n",
    "train_df = final_merge[final_merge['estimated_arrival'] <= pd.to_datetime('2019-01-30')]\n",
    "\n",
    "# Next week for validating\n",
    "validation_df = final_merge[(final_merge['estimated_arrival'] > pd.to_datetime('2019-01-30')) &\n",
    "\n",
    "                            (final_merge['estimated_arrival'] <= pd.to_datetime('2019-02-07'))]\n",
    "\n",
    "# Last week for training\n",
    "test_df = final_merge[final_merge['estimated_arrival'] > pd.to_datetime('2019-02-07')]"
   ]
  },
  {
   "cell_type": "code",
   "execution_count": 64,
   "metadata": {},
   "outputs": [],
   "source": [
    "X_train=train_df[cts_cols+cat_cols]\n",
    "\n",
    "y_train=train_df['delay']\n",
    "\n"
   ]
  },
  {
   "cell_type": "code",
   "execution_count": null,
   "metadata": {},
   "outputs": [],
   "source": []
  },
  {
   "cell_type": "code",
   "execution_count": 65,
   "metadata": {},
   "outputs": [
    {
     "data": {
      "text/html": [
       "<div>\n",
       "<style scoped>\n",
       "    .dataframe tbody tr th:only-of-type {\n",
       "        vertical-align: middle;\n",
       "    }\n",
       "\n",
       "    .dataframe tbody tr th {\n",
       "        vertical-align: top;\n",
       "    }\n",
       "\n",
       "    .dataframe thead th {\n",
       "        text-align: right;\n",
       "    }\n",
       "</style>\n",
       "<table border=\"1\" class=\"dataframe\">\n",
       "  <thead>\n",
       "    <tr style=\"text-align: right;\">\n",
       "      <th></th>\n",
       "      <th>unique_id</th>\n",
       "      <th>truck_id</th>\n",
       "      <th>route_id</th>\n",
       "      <th>departure_date</th>\n",
       "      <th>estimated_arrival</th>\n",
       "      <th>delay</th>\n",
       "      <th>route_avg_temp</th>\n",
       "      <th>route_avg_wind_speed</th>\n",
       "      <th>route_avg_precip</th>\n",
       "      <th>route_avg_humidity</th>\n",
       "      <th>...</th>\n",
       "      <th>driver_id</th>\n",
       "      <th>name</th>\n",
       "      <th>gender</th>\n",
       "      <th>age</th>\n",
       "      <th>experience</th>\n",
       "      <th>driving_style</th>\n",
       "      <th>ratings</th>\n",
       "      <th>vehicle_no</th>\n",
       "      <th>average_speed_mph</th>\n",
       "      <th>is_midnight</th>\n",
       "    </tr>\n",
       "  </thead>\n",
       "  <tbody>\n",
       "    <tr>\n",
       "      <th>6</th>\n",
       "      <td>3923</td>\n",
       "      <td>22421199</td>\n",
       "      <td>R-cfa0867d</td>\n",
       "      <td>2019-02-06 07:00:00</td>\n",
       "      <td>2019-02-06 08:22:48</td>\n",
       "      <td>1</td>\n",
       "      <td>71.500000</td>\n",
       "      <td>4.500000</td>\n",
       "      <td>0.050000</td>\n",
       "      <td>81.000000</td>\n",
       "      <td>...</td>\n",
       "      <td>cbd29c89-3</td>\n",
       "      <td>Justin Johnson</td>\n",
       "      <td>male</td>\n",
       "      <td>42</td>\n",
       "      <td>10</td>\n",
       "      <td>proactive</td>\n",
       "      <td>7</td>\n",
       "      <td>22421199</td>\n",
       "      <td>60.27</td>\n",
       "      <td>0</td>\n",
       "    </tr>\n",
       "    <tr>\n",
       "      <th>7</th>\n",
       "      <td>8</td>\n",
       "      <td>35477069</td>\n",
       "      <td>R-54510e55</td>\n",
       "      <td>2019-01-29 07:00:00</td>\n",
       "      <td>2019-02-03 13:30:00</td>\n",
       "      <td>0</td>\n",
       "      <td>66.913043</td>\n",
       "      <td>5.782609</td>\n",
       "      <td>0.000000</td>\n",
       "      <td>72.086957</td>\n",
       "      <td>...</td>\n",
       "      <td>e06e8543-b</td>\n",
       "      <td>Jeremy Thomas</td>\n",
       "      <td>male</td>\n",
       "      <td>48</td>\n",
       "      <td>7</td>\n",
       "      <td>conservative</td>\n",
       "      <td>8</td>\n",
       "      <td>35477069</td>\n",
       "      <td>38.65</td>\n",
       "      <td>1</td>\n",
       "    </tr>\n",
       "    <tr>\n",
       "      <th>10</th>\n",
       "      <td>1852</td>\n",
       "      <td>32255566</td>\n",
       "      <td>R-800e2702</td>\n",
       "      <td>2019-02-03 07:00:00</td>\n",
       "      <td>2019-02-03 15:41:24</td>\n",
       "      <td>1</td>\n",
       "      <td>76.666667</td>\n",
       "      <td>7.666667</td>\n",
       "      <td>0.000000</td>\n",
       "      <td>81.666667</td>\n",
       "      <td>...</td>\n",
       "      <td>11ecb456-e</td>\n",
       "      <td>Michael Jones</td>\n",
       "      <td>male</td>\n",
       "      <td>45</td>\n",
       "      <td>11</td>\n",
       "      <td>conservative</td>\n",
       "      <td>4</td>\n",
       "      <td>32255566</td>\n",
       "      <td>35.32</td>\n",
       "      <td>0</td>\n",
       "    </tr>\n",
       "    <tr>\n",
       "      <th>11</th>\n",
       "      <td>3342</td>\n",
       "      <td>28973978</td>\n",
       "      <td>R-899d9b94</td>\n",
       "      <td>2019-02-06 07:00:00</td>\n",
       "      <td>2019-02-06 22:31:48</td>\n",
       "      <td>0</td>\n",
       "      <td>42.000000</td>\n",
       "      <td>6.250000</td>\n",
       "      <td>0.000000</td>\n",
       "      <td>76.750000</td>\n",
       "      <td>...</td>\n",
       "      <td>2f6b4176-3</td>\n",
       "      <td>Danny Short</td>\n",
       "      <td>male</td>\n",
       "      <td>49</td>\n",
       "      <td>1</td>\n",
       "      <td>proactive</td>\n",
       "      <td>3</td>\n",
       "      <td>28973978</td>\n",
       "      <td>57.87</td>\n",
       "      <td>0</td>\n",
       "    </tr>\n",
       "    <tr>\n",
       "      <th>19</th>\n",
       "      <td>7292</td>\n",
       "      <td>27384735</td>\n",
       "      <td>R-ece28f05</td>\n",
       "      <td>2019-02-03 07:00:00</td>\n",
       "      <td>2019-02-04 05:02:24</td>\n",
       "      <td>1</td>\n",
       "      <td>68.400000</td>\n",
       "      <td>7.200000</td>\n",
       "      <td>0.000000</td>\n",
       "      <td>96.400000</td>\n",
       "      <td>...</td>\n",
       "      <td>466eb5da-5</td>\n",
       "      <td>Jeremiah Edwards</td>\n",
       "      <td>male</td>\n",
       "      <td>40</td>\n",
       "      <td>2</td>\n",
       "      <td>conservative</td>\n",
       "      <td>3</td>\n",
       "      <td>27384735</td>\n",
       "      <td>51.78</td>\n",
       "      <td>1</td>\n",
       "    </tr>\n",
       "    <tr>\n",
       "      <th>...</th>\n",
       "      <td>...</td>\n",
       "      <td>...</td>\n",
       "      <td>...</td>\n",
       "      <td>...</td>\n",
       "      <td>...</td>\n",
       "      <td>...</td>\n",
       "      <td>...</td>\n",
       "      <td>...</td>\n",
       "      <td>...</td>\n",
       "      <td>...</td>\n",
       "      <td>...</td>\n",
       "      <td>...</td>\n",
       "      <td>...</td>\n",
       "      <td>...</td>\n",
       "      <td>...</td>\n",
       "      <td>...</td>\n",
       "      <td>...</td>\n",
       "      <td>...</td>\n",
       "      <td>...</td>\n",
       "      <td>...</td>\n",
       "      <td>...</td>\n",
       "    </tr>\n",
       "    <tr>\n",
       "      <th>12292</th>\n",
       "      <td>11341</td>\n",
       "      <td>21260443</td>\n",
       "      <td>R-ef208446</td>\n",
       "      <td>2019-01-31 07:00:00</td>\n",
       "      <td>2019-01-31 20:54:00</td>\n",
       "      <td>1</td>\n",
       "      <td>49.500000</td>\n",
       "      <td>12.250000</td>\n",
       "      <td>0.000000</td>\n",
       "      <td>67.750000</td>\n",
       "      <td>...</td>\n",
       "      <td>cd0764ef-b</td>\n",
       "      <td>Chad Harper</td>\n",
       "      <td>male</td>\n",
       "      <td>54</td>\n",
       "      <td>17</td>\n",
       "      <td>proactive</td>\n",
       "      <td>8</td>\n",
       "      <td>21260443</td>\n",
       "      <td>59.56</td>\n",
       "      <td>0</td>\n",
       "    </tr>\n",
       "    <tr>\n",
       "      <th>12294</th>\n",
       "      <td>8275</td>\n",
       "      <td>12642421</td>\n",
       "      <td>R-05a6b7e1</td>\n",
       "      <td>2019-02-06 07:00:00</td>\n",
       "      <td>2019-02-06 14:28:48</td>\n",
       "      <td>0</td>\n",
       "      <td>46.000000</td>\n",
       "      <td>5.000000</td>\n",
       "      <td>0.000000</td>\n",
       "      <td>50.000000</td>\n",
       "      <td>...</td>\n",
       "      <td>bc8ebe9f-5</td>\n",
       "      <td>Jeffery Johnson</td>\n",
       "      <td>male</td>\n",
       "      <td>55</td>\n",
       "      <td>13</td>\n",
       "      <td>conservative</td>\n",
       "      <td>5</td>\n",
       "      <td>12642421</td>\n",
       "      <td>56.84</td>\n",
       "      <td>0</td>\n",
       "    </tr>\n",
       "    <tr>\n",
       "      <th>12297</th>\n",
       "      <td>5955</td>\n",
       "      <td>14730346</td>\n",
       "      <td>R-c6fece3d</td>\n",
       "      <td>2019-01-31 07:00:00</td>\n",
       "      <td>2019-01-31 16:30:36</td>\n",
       "      <td>0</td>\n",
       "      <td>42.333333</td>\n",
       "      <td>7.666667</td>\n",
       "      <td>0.033333</td>\n",
       "      <td>85.000000</td>\n",
       "      <td>...</td>\n",
       "      <td>09665f38-8</td>\n",
       "      <td>Robert Russell DDS</td>\n",
       "      <td>male</td>\n",
       "      <td>40</td>\n",
       "      <td>6</td>\n",
       "      <td>conservative</td>\n",
       "      <td>2</td>\n",
       "      <td>14730346</td>\n",
       "      <td>46.49</td>\n",
       "      <td>0</td>\n",
       "    </tr>\n",
       "    <tr>\n",
       "      <th>12298</th>\n",
       "      <td>7936</td>\n",
       "      <td>10234289</td>\n",
       "      <td>R-b05ef8c9</td>\n",
       "      <td>2019-01-31 07:00:00</td>\n",
       "      <td>2019-01-31 12:55:12</td>\n",
       "      <td>0</td>\n",
       "      <td>55.333333</td>\n",
       "      <td>4.333333</td>\n",
       "      <td>0.000000</td>\n",
       "      <td>39.000000</td>\n",
       "      <td>...</td>\n",
       "      <td>5050d6b3-b</td>\n",
       "      <td>Maurice Howe</td>\n",
       "      <td>male</td>\n",
       "      <td>53</td>\n",
       "      <td>26</td>\n",
       "      <td>proactive</td>\n",
       "      <td>6</td>\n",
       "      <td>10234289</td>\n",
       "      <td>61.97</td>\n",
       "      <td>0</td>\n",
       "    </tr>\n",
       "    <tr>\n",
       "      <th>12302</th>\n",
       "      <td>9405</td>\n",
       "      <td>18493697</td>\n",
       "      <td>R-5c9a7270</td>\n",
       "      <td>2019-02-05 07:00:00</td>\n",
       "      <td>2019-02-06 09:24:00</td>\n",
       "      <td>1</td>\n",
       "      <td>74.833333</td>\n",
       "      <td>5.166667</td>\n",
       "      <td>0.016667</td>\n",
       "      <td>63.333333</td>\n",
       "      <td>...</td>\n",
       "      <td>2ac3deaa-5</td>\n",
       "      <td>Michael Barber</td>\n",
       "      <td>male</td>\n",
       "      <td>64</td>\n",
       "      <td>30</td>\n",
       "      <td>proactive</td>\n",
       "      <td>6</td>\n",
       "      <td>18493697</td>\n",
       "      <td>57.13</td>\n",
       "      <td>1</td>\n",
       "    </tr>\n",
       "  </tbody>\n",
       "</table>\n",
       "<p>2336 rows × 49 columns</p>\n",
       "</div>"
      ],
      "text/plain": [
       "       unique_id  truck_id    route_id      departure_date  \\\n",
       "6           3923  22421199  R-cfa0867d 2019-02-06 07:00:00   \n",
       "7              8  35477069  R-54510e55 2019-01-29 07:00:00   \n",
       "10          1852  32255566  R-800e2702 2019-02-03 07:00:00   \n",
       "11          3342  28973978  R-899d9b94 2019-02-06 07:00:00   \n",
       "19          7292  27384735  R-ece28f05 2019-02-03 07:00:00   \n",
       "...          ...       ...         ...                 ...   \n",
       "12292      11341  21260443  R-ef208446 2019-01-31 07:00:00   \n",
       "12294       8275  12642421  R-05a6b7e1 2019-02-06 07:00:00   \n",
       "12297       5955  14730346  R-c6fece3d 2019-01-31 07:00:00   \n",
       "12298       7936  10234289  R-b05ef8c9 2019-01-31 07:00:00   \n",
       "12302       9405  18493697  R-5c9a7270 2019-02-05 07:00:00   \n",
       "\n",
       "        estimated_arrival  delay  route_avg_temp  route_avg_wind_speed  \\\n",
       "6     2019-02-06 08:22:48      1       71.500000              4.500000   \n",
       "7     2019-02-03 13:30:00      0       66.913043              5.782609   \n",
       "10    2019-02-03 15:41:24      1       76.666667              7.666667   \n",
       "11    2019-02-06 22:31:48      0       42.000000              6.250000   \n",
       "19    2019-02-04 05:02:24      1       68.400000              7.200000   \n",
       "...                   ...    ...             ...                   ...   \n",
       "12292 2019-01-31 20:54:00      1       49.500000             12.250000   \n",
       "12294 2019-02-06 14:28:48      0       46.000000              5.000000   \n",
       "12297 2019-01-31 16:30:36      0       42.333333              7.666667   \n",
       "12298 2019-01-31 12:55:12      0       55.333333              4.333333   \n",
       "12302 2019-02-06 09:24:00      1       74.833333              5.166667   \n",
       "\n",
       "       route_avg_precip  route_avg_humidity  ...   driver_id  \\\n",
       "6              0.050000           81.000000  ...  cbd29c89-3   \n",
       "7              0.000000           72.086957  ...  e06e8543-b   \n",
       "10             0.000000           81.666667  ...  11ecb456-e   \n",
       "11             0.000000           76.750000  ...  2f6b4176-3   \n",
       "19             0.000000           96.400000  ...  466eb5da-5   \n",
       "...                 ...                 ...  ...         ...   \n",
       "12292          0.000000           67.750000  ...  cd0764ef-b   \n",
       "12294          0.000000           50.000000  ...  bc8ebe9f-5   \n",
       "12297          0.033333           85.000000  ...  09665f38-8   \n",
       "12298          0.000000           39.000000  ...  5050d6b3-b   \n",
       "12302          0.016667           63.333333  ...  2ac3deaa-5   \n",
       "\n",
       "                     name gender age experience driving_style ratings  \\\n",
       "6          Justin Johnson   male  42         10     proactive       7   \n",
       "7           Jeremy Thomas   male  48          7  conservative       8   \n",
       "10          Michael Jones   male  45         11  conservative       4   \n",
       "11            Danny Short   male  49          1     proactive       3   \n",
       "19       Jeremiah Edwards   male  40          2  conservative       3   \n",
       "...                   ...    ...  ..        ...           ...     ...   \n",
       "12292         Chad Harper   male  54         17     proactive       8   \n",
       "12294     Jeffery Johnson   male  55         13  conservative       5   \n",
       "12297  Robert Russell DDS   male  40          6  conservative       2   \n",
       "12298        Maurice Howe   male  53         26     proactive       6   \n",
       "12302      Michael Barber   male  64         30     proactive       6   \n",
       "\n",
       "       vehicle_no  average_speed_mph  is_midnight  \n",
       "6        22421199              60.27            0  \n",
       "7        35477069              38.65            1  \n",
       "10       32255566              35.32            0  \n",
       "11       28973978              57.87            0  \n",
       "19       27384735              51.78            1  \n",
       "...           ...                ...          ...  \n",
       "12292    21260443              59.56            0  \n",
       "12294    12642421              56.84            0  \n",
       "12297    14730346              46.49            0  \n",
       "12298    10234289              61.97            0  \n",
       "12302    18493697              57.13            1  \n",
       "\n",
       "[2336 rows x 49 columns]"
      ]
     },
     "execution_count": 65,
     "metadata": {},
     "output_type": "execute_result"
    }
   ],
   "source": [
    "validation_df"
   ]
  },
  {
   "cell_type": "code",
   "execution_count": 66,
   "metadata": {},
   "outputs": [],
   "source": [
    "X_valid = validation_df[cts_cols + cat_cols]\n",
    "\n",
    "y_valid = validation_df['delay']\n",
    "\n",
    "X_test=test_df[cts_cols+cat_cols]\n",
    "\n",
    "y_test=test_df['delay']"
   ]
  },
  {
   "cell_type": "code",
   "execution_count": 67,
   "metadata": {},
   "outputs": [
    {
     "data": {
      "text/plain": [
       "0    3000.0\n",
       "Name: load_capacity_pounds, dtype: float64"
      ]
     },
     "execution_count": 67,
     "metadata": {},
     "output_type": "execute_result"
    }
   ],
   "source": [
    "load_capacity_mode = X_train['load_capacity_pounds'].mode()\n",
    "\n",
    "load_capacity_mode"
   ]
  },
  {
   "cell_type": "code",
   "execution_count": 68,
   "metadata": {},
   "outputs": [],
   "source": [
    "X_train['load_capacity_pounds']=X_train['load_capacity_pounds'].fillna(load_capacity_mode.iloc[0])\n",
    "X_valid['load_capacity_pounds']=X_valid['load_capacity_pounds'].fillna(load_capacity_mode.iloc[0])\n",
    "X_test['load_capacity_pounds']=X_test['load_capacity_pounds'].fillna(load_capacity_mode.iloc[0])"
   ]
  },
  {
   "cell_type": "code",
   "execution_count": 69,
   "metadata": {},
   "outputs": [
    {
     "data": {
      "text/plain": [
       "route_avg_temp             0\n",
       "route_avg_wind_speed       0\n",
       "route_avg_precip           0\n",
       "route_avg_humidity         0\n",
       "route_avg_visibility       0\n",
       "route_avg_pressure         0\n",
       "distance                   0\n",
       "average_hours              0\n",
       "origin_temp                0\n",
       "origin_wind_speed          0\n",
       "origin_precip              0\n",
       "origin_humidity            0\n",
       "origin_visibility          0\n",
       "origin_pressure            0\n",
       "destination_temp           0\n",
       "destination_wind_speed     0\n",
       "destination_precip         0\n",
       "destination_humidity       0\n",
       "destination_visibility     0\n",
       "destination_pressure       0\n",
       "avg_no_of_vehicles         0\n",
       "truck_age                  0\n",
       "load_capacity_pounds       0\n",
       "mileage_mpg                0\n",
       "age                        0\n",
       "experience                 0\n",
       "average_speed_mph          0\n",
       "route_description          0\n",
       "origin_description         0\n",
       "destination_description    0\n",
       "accident                   0\n",
       "fuel_type                  0\n",
       "gender                     0\n",
       "driving_style              0\n",
       "ratings                    0\n",
       "is_midnight                0\n",
       "dtype: int64"
      ]
     },
     "execution_count": 69,
     "metadata": {},
     "output_type": "execute_result"
    }
   ],
   "source": [
    "X_train.isna().sum()"
   ]
  },
  {
   "cell_type": "code",
   "execution_count": 70,
   "metadata": {},
   "outputs": [
    {
     "data": {
      "text/plain": [
       "route_avg_temp             0\n",
       "route_avg_wind_speed       0\n",
       "route_avg_precip           0\n",
       "route_avg_humidity         0\n",
       "route_avg_visibility       0\n",
       "route_avg_pressure         0\n",
       "distance                   0\n",
       "average_hours              0\n",
       "origin_temp                0\n",
       "origin_wind_speed          0\n",
       "origin_precip              0\n",
       "origin_humidity            0\n",
       "origin_visibility          0\n",
       "origin_pressure            0\n",
       "destination_temp           0\n",
       "destination_wind_speed     0\n",
       "destination_precip         0\n",
       "destination_humidity       0\n",
       "destination_visibility     0\n",
       "destination_pressure       0\n",
       "avg_no_of_vehicles         0\n",
       "truck_age                  0\n",
       "load_capacity_pounds       0\n",
       "mileage_mpg                0\n",
       "age                        0\n",
       "experience                 0\n",
       "average_speed_mph          0\n",
       "route_description          0\n",
       "origin_description         0\n",
       "destination_description    0\n",
       "accident                   0\n",
       "fuel_type                  0\n",
       "gender                     0\n",
       "driving_style              0\n",
       "ratings                    0\n",
       "is_midnight                0\n",
       "dtype: int64"
      ]
     },
     "execution_count": 70,
     "metadata": {},
     "output_type": "execute_result"
    }
   ],
   "source": [
    "X_valid.isna().sum()"
   ]
  },
  {
   "cell_type": "code",
   "execution_count": 71,
   "metadata": {},
   "outputs": [
    {
     "data": {
      "text/plain": [
       "route_avg_temp             0\n",
       "route_avg_wind_speed       0\n",
       "route_avg_precip           0\n",
       "route_avg_humidity         0\n",
       "route_avg_visibility       0\n",
       "route_avg_pressure         0\n",
       "distance                   0\n",
       "average_hours              0\n",
       "origin_temp                0\n",
       "origin_wind_speed          0\n",
       "origin_precip              0\n",
       "origin_humidity            0\n",
       "origin_visibility          0\n",
       "origin_pressure            0\n",
       "destination_temp           0\n",
       "destination_wind_speed     0\n",
       "destination_precip         0\n",
       "destination_humidity       0\n",
       "destination_visibility     0\n",
       "destination_pressure       0\n",
       "avg_no_of_vehicles         0\n",
       "truck_age                  0\n",
       "load_capacity_pounds       0\n",
       "mileage_mpg                0\n",
       "age                        0\n",
       "experience                 0\n",
       "average_speed_mph          0\n",
       "route_description          0\n",
       "origin_description         0\n",
       "destination_description    0\n",
       "accident                   0\n",
       "fuel_type                  0\n",
       "gender                     0\n",
       "driving_style              0\n",
       "ratings                    0\n",
       "is_midnight                0\n",
       "dtype: int64"
      ]
     },
     "execution_count": 71,
     "metadata": {},
     "output_type": "execute_result"
    }
   ],
   "source": [
    "X_test.isna().sum()\n"
   ]
  },
  {
   "cell_type": "code",
   "execution_count": 72,
   "metadata": {},
   "outputs": [],
   "source": [
    "# Importing Standard Scaler and One-Hot Encoder\n",
    "from sklearn.preprocessing import OneHotEncoder\n",
    "from pickle import dump"
   ]
  },
  {
   "cell_type": "code",
   "execution_count": 73,
   "metadata": {},
   "outputs": [],
   "source": [
    "#! pip install streamlit==1.29.0 joblib==1.3.2 wandb==0.16.1 xgboost==2.0.2 scikit_learn==1.2.2\n",
    "#! pip install pandas==1.5.3"
   ]
  },
  {
   "cell_type": "code",
   "execution_count": 74,
   "metadata": {},
   "outputs": [],
   "source": [
    "# Importing Standard Scaler and One-Hot Encoder\n",
    "from sklearn.preprocessing import OneHotEncoder\n",
    "from pickle import dump\n"
   ]
  },
  {
   "cell_type": "markdown",
   "metadata": {},
   "source": [
    "#### Replace Onehotencoder with hash encoding"
   ]
  },
  {
   "cell_type": "code",
   "execution_count": 75,
   "metadata": {},
   "outputs": [],
   "source": [
    "# Creating the One-Hot Encoder\n",
    "#encoder = OneHotEncoder(sparse=False, handle_unknown='ignore')"
   ]
  },
  {
   "cell_type": "code",
   "execution_count": 76,
   "metadata": {},
   "outputs": [],
   "source": [
    "# Specifying columns to be encoded\n",
    "#encode_columns = ['route_description', 'origin_description', 'destination_description', 'fuel_type', 'gender', 'driving_style']"
   ]
  },
  {
   "cell_type": "code",
   "execution_count": 77,
   "metadata": {},
   "outputs": [],
   "source": [
    "# Fitting the encoder on the training data\n",
    "#encoder.fit(X_train[encode_columns])"
   ]
  },
  {
   "cell_type": "code",
   "execution_count": 78,
   "metadata": {},
   "outputs": [],
   "source": [
    "# Generating names for the new one-hot encoded features\n",
    "#encoded_features = list(encoder.get_feature_names_out(encode_columns))"
   ]
  },
  {
   "cell_type": "code",
   "execution_count": 79,
   "metadata": {},
   "outputs": [],
   "source": [
    "#encoded_features"
   ]
  },
  {
   "cell_type": "code",
   "execution_count": 80,
   "metadata": {},
   "outputs": [],
   "source": [
    "import category_encoders as ce\n",
    "\n",
    "# Define the columns to encode\n",
    "encode_columns = ['route_description', 'origin_description', 'destination_description', 'fuel_type', 'gender', 'driving_style']\n",
    "\n",
    "# Initialize Hashing Encoder\n",
    "hash_encoder = ce.HashingEncoder(cols=encode_columns, n_components=8)  # n_components is the number of hash bits\n",
    "\n",
    "# Fit and transform the training data\n",
    "hash_encoder.fit(X_train[encode_columns])\n",
    "\n",
    "# Save the encoder for later use\n",
    "import pickle\n",
    "with open('hash_encoder.pkl', 'wb') as f:\n",
    "    pickle.dump(hash_encoder, f)"
   ]
  },
  {
   "cell_type": "code",
   "execution_count": 81,
   "metadata": {},
   "outputs": [],
   "source": [
    "encoded_features = list(hash_encoder.get_feature_names_out(encode_columns))"
   ]
  },
  {
   "cell_type": "code",
   "execution_count": 82,
   "metadata": {},
   "outputs": [
    {
     "data": {
      "text/plain": [
       "['col_0', 'col_1', 'col_2', 'col_3', 'col_4', 'col_5', 'col_6', 'col_7']"
      ]
     },
     "execution_count": 82,
     "metadata": {},
     "output_type": "execute_result"
    }
   ],
   "source": [
    "encoded_features"
   ]
  },
  {
   "cell_type": "code",
   "execution_count": 83,
   "metadata": {},
   "outputs": [],
   "source": [
    "# Transforming the training, validation, and test sets\n",
    "\n",
    "X_train_encoded = hash_encoder.transform(X_train[encode_columns])\n",
    "\n",
    "X_valid_encoded = hash_encoder.transform(X_valid[encode_columns])\n",
    "\n",
    "X_test_encoded = hash_encoder.transform(X_test[encode_columns])"
   ]
  },
  {
   "cell_type": "code",
   "execution_count": 84,
   "metadata": {},
   "outputs": [],
   "source": [
    "X_train = pd.concat([X_train.drop(columns=encode_columns), X_train_encoded], axis=1)\n",
    "X_valid = pd.concat([X_valid.drop(columns=encode_columns), X_valid_encoded], axis=1)\n",
    "X_test = pd.concat([X_test.drop(columns=encode_columns), X_test_encoded], axis=1)"
   ]
  },
  {
   "cell_type": "code",
   "execution_count": 1,
   "metadata": {},
   "outputs": [
    {
     "ename": "NameError",
     "evalue": "name 'X_train' is not defined",
     "output_type": "error",
     "traceback": [
      "\u001b[1;31m---------------------------------------------------------------------------\u001b[0m",
      "\u001b[1;31mNameError\u001b[0m                                 Traceback (most recent call last)",
      "Cell \u001b[1;32mIn[1], line 1\u001b[0m\n\u001b[1;32m----> 1\u001b[0m \u001b[38;5;28mlen\u001b[39m(\u001b[43mX_train\u001b[49m\u001b[38;5;241m.\u001b[39mcolumns)\n",
      "\u001b[1;31mNameError\u001b[0m: name 'X_train' is not defined"
     ]
    }
   ],
   "source": [
    "X_train.columns"
   ]
  },
  {
   "cell_type": "code",
   "execution_count": 85,
   "metadata": {},
   "outputs": [],
   "source": [
    "# Dumping the encoder for future use\n",
    "#dump(encoder, open('truck_data_encoder.pkl', 'wb'))\n",
    "# Dropping the original categorical features\n",
    "#\n",
    "#X_train = X_train.drop(encode_columns, axis=1)\n",
    "\n",
    "#X_valid = X_valid.drop(encode_columns, axis=1)\n",
    "\n",
    "#X_test = X_test.drop(encode_columns, axis=1)"
   ]
  },
  {
   "cell_type": "code",
   "execution_count": null,
   "metadata": {},
   "outputs": [],
   "source": []
  },
  {
   "cell_type": "code",
   "execution_count": null,
   "metadata": {},
   "outputs": [],
   "source": []
  },
  {
   "cell_type": "code",
   "execution_count": 47,
   "metadata": {},
   "outputs": [],
   "source": []
  },
  {
   "cell_type": "markdown",
   "metadata": {},
   "source": [
    "### Scaling"
   ]
  },
  {
   "cell_type": "code",
   "execution_count": 86,
   "metadata": {},
   "outputs": [],
   "source": [
    "# Import Scaler\n",
    "from sklearn.preprocessing import StandardScaler"
   ]
  },
  {
   "cell_type": "code",
   "execution_count": 87,
   "metadata": {},
   "outputs": [],
   "source": [
    "scaler = StandardScaler()"
   ]
  },
  {
   "cell_type": "code",
   "execution_count": 88,
   "metadata": {},
   "outputs": [],
   "source": [
    "# Scale Separate Columns\n",
    "\n",
    "# train\n",
    "\n",
    "X_train[cts_cols] = scaler.fit_transform(X_train[cts_cols])"
   ]
  },
  {
   "cell_type": "code",
   "execution_count": 89,
   "metadata": {},
   "outputs": [],
   "source": [
    "# valid\n",
    "\n",
    "X_valid[cts_cols] = scaler.transform(X_valid[cts_cols])\n",
    "\n",
    "\n",
    "# test\n",
    "\n",
    "X_test[cts_cols] = scaler.transform(X_test[cts_cols])"
   ]
  },
  {
   "cell_type": "code",
   "execution_count": 90,
   "metadata": {},
   "outputs": [],
   "source": [
    "# Dump the scaler to use in transforming test data\n",
    "\n",
    "dump(scaler, open('truck_data_scaler.pkl', 'wb'))"
   ]
  },
  {
   "cell_type": "code",
   "execution_count": 91,
   "metadata": {},
   "outputs": [
    {
     "data": {
      "text/plain": [
       "Index(['route_avg_temp', 'route_avg_wind_speed', 'route_avg_precip',\n",
       "       'route_avg_humidity', 'route_avg_visibility', 'route_avg_pressure',\n",
       "       'distance', 'average_hours', 'origin_temp', 'origin_wind_speed',\n",
       "       'origin_precip', 'origin_humidity', 'origin_visibility',\n",
       "       'origin_pressure', 'destination_temp', 'destination_wind_speed',\n",
       "       'destination_precip', 'destination_humidity', 'destination_visibility',\n",
       "       'destination_pressure', 'avg_no_of_vehicles', 'truck_age',\n",
       "       'load_capacity_pounds', 'mileage_mpg', 'age', 'experience',\n",
       "       'average_speed_mph', 'accident', 'ratings', 'is_midnight', 'col_0',\n",
       "       'col_1', 'col_2', 'col_3', 'col_4', 'col_5', 'col_6', 'col_7'],\n",
       "      dtype='object')"
      ]
     },
     "execution_count": 91,
     "metadata": {},
     "output_type": "execute_result"
    }
   ],
   "source": [
    "X_test.columns"
   ]
  },
  {
   "cell_type": "markdown",
   "metadata": {},
   "source": [
    "### Connecting to WAB"
   ]
  },
  {
   "cell_type": "code",
   "execution_count": 92,
   "metadata": {},
   "outputs": [],
   "source": [
    "# Import Libraries\n",
    "import wandb\n",
    "import joblib\n",
    "import os\n",
    "import pandas as pd\n",
    "import credentials\n",
    "import wandb\n",
    "#! wandb login <>"
   ]
  },
  {
   "cell_type": "code",
   "execution_count": 93,
   "metadata": {},
   "outputs": [
    {
     "name": "stdout",
     "output_type": "stream",
     "text": [
      "2024-09-25 15:59:55,402 ERROR: Failed to detect the name of this notebook, you can set it manually with the WANDB_NOTEBOOK_NAME environment variable to enable code saving.\n"
     ]
    },
    {
     "name": "stderr",
     "output_type": "stream",
     "text": [
      "wandb: Currently logged in as: harshmpandya-00 (harshmp). Use `wandb login --relogin` to force relogin\n"
     ]
    },
    {
     "data": {
      "text/plain": [
       "True"
      ]
     },
     "execution_count": 93,
     "metadata": {},
     "output_type": "execute_result"
    }
   ],
   "source": [
    "wandb.login()"
   ]
  },
  {
   "cell_type": "code",
   "execution_count": 94,
   "metadata": {},
   "outputs": [],
   "source": [
    "# constants for interacting with W&B\n",
    "\n",
    "USER_NAME = credentials.wb_username\n",
    "PROJECT_NAME = credentials.wb_proj_name"
   ]
  },
  {
   "cell_type": "code",
   "execution_count": 95,
   "metadata": {},
   "outputs": [],
   "source": [
    "# Importing training libraries and evaluation metrics\n",
    "\n",
    "from sklearn.metrics import f1_score, recall_score, confusion_matrix, roc_auc_score\n",
    "\n",
    "from sklearn.linear_model import LogisticRegression\n",
    "\n",
    "from sklearn.model_selection import train_test_split\n",
    "\n",
    "from sklearn.ensemble import RandomForestClassifier\n",
    "\n",
    "from xgboost import XGBClassifier\n",
    "\n",
    "from sklearn.model_selection import GridSearchCV"
   ]
  },
  {
   "cell_type": "code",
   "execution_count": 96,
   "metadata": {},
   "outputs": [],
   "source": [
    "# Evaluation function\n",
    "# #Columns needed to compare metrics\n",
    "comparison_columns = ['Model_Name', 'Train_F1score', 'Train_Recall', 'Valid_F1score', 'Valid_Recall', 'Test_F1score', 'Test_Recall']\n",
    "\n",
    "comparison_df = pd.DataFrame()\n",
    "\n",
    "\n",
    "\n",
    "def evaluate_models(model_name, model_defined_var, X_train, y_train, X_valid, y_valid, X_test, y_test):\n",
    "  ''' This function predicts and evaluates various models for classification'''\n",
    "\n",
    "  # train predictions\n",
    "  y_train_pred = model_defined_var.predict(X_train)\n",
    "  # train performance\n",
    "  train_f1_score = f1_score(y_train, y_train_pred)\n",
    "  train_recall = recall_score(y_train, y_train_pred)\n",
    "\n",
    "  # validation predictions\n",
    "  y_valid_pred = model_defined_var.predict(X_valid)\n",
    "  # validation performance\n",
    "  valid_f1_score = f1_score(y_valid, y_valid_pred)\n",
    "  valid_recall = recall_score(y_valid, y_valid_pred)\n",
    "\n",
    "  # test predictions\n",
    "  y_pred = model_defined_var.predict(X_test)\n",
    "  # test performance\n",
    "  test_f1_score = f1_score(y_test, y_pred)\n",
    "  test_recall = recall_score(y_test, y_pred)\n",
    "\n",
    "  # Printing performance\n",
    "  print(\"Train Results\")\n",
    "  print(f'F1 Score: {train_f1_score}')\n",
    "  print(f'Recall Score: {train_recall}')\n",
    "  print(f'Confusion Matrix: \\n{confusion_matrix(y_train, y_train_pred)}')\n",
    "  print(f'Area Under Curve: {roc_auc_score(y_train, y_train_pred)}')\n",
    "\n",
    "  print(\" \")\n",
    "\n",
    "  print(\"Validation Results\")\n",
    "  print(f'F1 Score: {valid_f1_score}')\n",
    "  print(f'Recall Score: {valid_recall}')\n",
    "  print(f'Confusion Matrix: \\n{confusion_matrix(y_valid, y_valid_pred)}')\n",
    "  print(f'Area Under Curve: {roc_auc_score(y_valid, y_valid_pred)}')\n",
    "\n",
    "  print(\" \")\n",
    "\n",
    "  print(\"Test Results\")\n",
    "  print(f'F1 Score: {test_f1_score}')\n",
    "  print(f'Recall Score: {test_recall}')\n",
    "  print(f'Confusion Matrix: \\n{confusion_matrix(y_test, y_pred)}')\n",
    "  print(f'Area Under Curve: {roc_auc_score(y_test, y_pred)}')\n",
    "\n",
    "  # Saving our results\n",
    "  global comparison_columns\n",
    "  metric_scores = [model_name, train_f1_score, train_recall, valid_f1_score, valid_recall, test_f1_score, test_recall]\n",
    "  final_dict = dict(zip(comparison_columns, metric_scores))\n",
    "  return final_dict\n",
    "\n",
    "\n",
    "final_list = []\n",
    "def add_dic_to_final_df(final_dict):\n",
    "  global final_list\n",
    "  final_list.append(final_dict)\n",
    "  global comparison_df\n",
    "  comparison_df = pd.DataFrame(final_list, columns=comparison_columns)\n"
   ]
  },
  {
   "cell_type": "code",
   "execution_count": 97,
   "metadata": {},
   "outputs": [
    {
     "data": {
      "text/plain": [
       "{0: 5551, 1: 2651}"
      ]
     },
     "execution_count": 97,
     "metadata": {},
     "output_type": "execute_result"
    }
   ],
   "source": [
    "y_train.value_counts().to_dict()"
   ]
  },
  {
   "cell_type": "code",
   "execution_count": 98,
   "metadata": {},
   "outputs": [
    {
     "data": {
      "text/plain": [
       "(0.7387858043595749, 1.5469634100339495)"
      ]
     },
     "execution_count": 98,
     "metadata": {},
     "output_type": "execute_result"
    }
   ],
   "source": [
    "# 2 = numebr of classes \n",
    "weights = len(X_train)/(2*(y_train.value_counts().to_dict()[0])), len(X_train)/(2*(y_train.value_counts().to_dict()[1]))\n",
    "weights"
   ]
  },
  {
   "cell_type": "code",
   "execution_count": 99,
   "metadata": {},
   "outputs": [
    {
     "data": {
      "text/html": [
       "<style>#sk-container-id-1 {color: black;background-color: white;}#sk-container-id-1 pre{padding: 0;}#sk-container-id-1 div.sk-toggleable {background-color: white;}#sk-container-id-1 label.sk-toggleable__label {cursor: pointer;display: block;width: 100%;margin-bottom: 0;padding: 0.3em;box-sizing: border-box;text-align: center;}#sk-container-id-1 label.sk-toggleable__label-arrow:before {content: \"▸\";float: left;margin-right: 0.25em;color: #696969;}#sk-container-id-1 label.sk-toggleable__label-arrow:hover:before {color: black;}#sk-container-id-1 div.sk-estimator:hover label.sk-toggleable__label-arrow:before {color: black;}#sk-container-id-1 div.sk-toggleable__content {max-height: 0;max-width: 0;overflow: hidden;text-align: left;background-color: #f0f8ff;}#sk-container-id-1 div.sk-toggleable__content pre {margin: 0.2em;color: black;border-radius: 0.25em;background-color: #f0f8ff;}#sk-container-id-1 input.sk-toggleable__control:checked~div.sk-toggleable__content {max-height: 200px;max-width: 100%;overflow: auto;}#sk-container-id-1 input.sk-toggleable__control:checked~label.sk-toggleable__label-arrow:before {content: \"▾\";}#sk-container-id-1 div.sk-estimator input.sk-toggleable__control:checked~label.sk-toggleable__label {background-color: #d4ebff;}#sk-container-id-1 div.sk-label input.sk-toggleable__control:checked~label.sk-toggleable__label {background-color: #d4ebff;}#sk-container-id-1 input.sk-hidden--visually {border: 0;clip: rect(1px 1px 1px 1px);clip: rect(1px, 1px, 1px, 1px);height: 1px;margin: -1px;overflow: hidden;padding: 0;position: absolute;width: 1px;}#sk-container-id-1 div.sk-estimator {font-family: monospace;background-color: #f0f8ff;border: 1px dotted black;border-radius: 0.25em;box-sizing: border-box;margin-bottom: 0.5em;}#sk-container-id-1 div.sk-estimator:hover {background-color: #d4ebff;}#sk-container-id-1 div.sk-parallel-item::after {content: \"\";width: 100%;border-bottom: 1px solid gray;flex-grow: 1;}#sk-container-id-1 div.sk-label:hover label.sk-toggleable__label {background-color: #d4ebff;}#sk-container-id-1 div.sk-serial::before {content: \"\";position: absolute;border-left: 1px solid gray;box-sizing: border-box;top: 0;bottom: 0;left: 50%;z-index: 0;}#sk-container-id-1 div.sk-serial {display: flex;flex-direction: column;align-items: center;background-color: white;padding-right: 0.2em;padding-left: 0.2em;position: relative;}#sk-container-id-1 div.sk-item {position: relative;z-index: 1;}#sk-container-id-1 div.sk-parallel {display: flex;align-items: stretch;justify-content: center;background-color: white;position: relative;}#sk-container-id-1 div.sk-item::before, #sk-container-id-1 div.sk-parallel-item::before {content: \"\";position: absolute;border-left: 1px solid gray;box-sizing: border-box;top: 0;bottom: 0;left: 50%;z-index: -1;}#sk-container-id-1 div.sk-parallel-item {display: flex;flex-direction: column;z-index: 1;position: relative;background-color: white;}#sk-container-id-1 div.sk-parallel-item:first-child::after {align-self: flex-end;width: 50%;}#sk-container-id-1 div.sk-parallel-item:last-child::after {align-self: flex-start;width: 50%;}#sk-container-id-1 div.sk-parallel-item:only-child::after {width: 0;}#sk-container-id-1 div.sk-dashed-wrapped {border: 1px dashed gray;margin: 0 0.4em 0.5em 0.4em;box-sizing: border-box;padding-bottom: 0.4em;background-color: white;}#sk-container-id-1 div.sk-label label {font-family: monospace;font-weight: bold;display: inline-block;line-height: 1.2em;}#sk-container-id-1 div.sk-label-container {text-align: center;}#sk-container-id-1 div.sk-container {/* jupyter's `normalize.less` sets `[hidden] { display: none; }` but bootstrap.min.css set `[hidden] { display: none !important; }` so we also need the `!important` here to be able to override the default hidden behavior on the sphinx rendered scikit-learn.org. See: https://github.com/scikit-learn/scikit-learn/issues/21755 */display: inline-block !important;position: relative;}#sk-container-id-1 div.sk-text-repr-fallback {display: none;}</style><div id=\"sk-container-id-1\" class=\"sk-top-container\"><div class=\"sk-text-repr-fallback\"><pre>LogisticRegression(class_weight={0: 0.7387858043595749, 1: 1.5469634100339495},\n",
       "                   random_state=13)</pre><b>In a Jupyter environment, please rerun this cell to show the HTML representation or trust the notebook. <br />On GitHub, the HTML representation is unable to render, please try loading this page with nbviewer.org.</b></div><div class=\"sk-container\" hidden><div class=\"sk-item\"><div class=\"sk-estimator sk-toggleable\"><input class=\"sk-toggleable__control sk-hidden--visually\" id=\"sk-estimator-id-1\" type=\"checkbox\" checked><label for=\"sk-estimator-id-1\" class=\"sk-toggleable__label sk-toggleable__label-arrow\">LogisticRegression</label><div class=\"sk-toggleable__content\"><pre>LogisticRegression(class_weight={0: 0.7387858043595749, 1: 1.5469634100339495},\n",
       "                   random_state=13)</pre></div></div></div></div></div>"
      ],
      "text/plain": [
       "LogisticRegression(class_weight={0: 0.7387858043595749, 1: 1.5469634100339495},\n",
       "                   random_state=13)"
      ]
     },
     "execution_count": 99,
     "metadata": {},
     "output_type": "execute_result"
    }
   ],
   "source": [
    "# Define model\n",
    "log_reg = LogisticRegression(random_state=13, class_weight={0:weights[0], 1:weights[1]})\n",
    "# fit it\n",
    "log_reg.fit(X_train,y_train)"
   ]
  },
  {
   "cell_type": "code",
   "execution_count": 100,
   "metadata": {},
   "outputs": [
    {
     "name": "stdout",
     "output_type": "stream",
     "text": [
      "Train Results\n",
      "F1 Score: 0.5609073958980734\n",
      "Recall Score: 0.6808751414560543\n",
      "Confusion Matrix: \n",
      "[[3571 1980]\n",
      " [ 846 1805]]\n",
      "Area Under Curve: 0.6620913268080127\n",
      " \n",
      "Validation Results\n",
      "F1 Score: 0.6379853095487934\n"
     ]
    },
    {
     "name": "stdout",
     "output_type": "stream",
     "text": [
      "Recall Score: 0.72294887039239\n",
      "Confusion Matrix: \n",
      "[[1038  457]\n",
      " [ 233  608]]\n",
      "Area Under Curve: 0.7086316258316464\n",
      " \n",
      "Test Results\n",
      "F1 Score: 0.7433628318584071\n",
      "Recall Score: 0.7865168539325843\n",
      "Confusion Matrix: \n",
      "[[701 264]\n",
      " [171 630]]\n",
      "Area Under Curve: 0.7564708621994527\n"
     ]
    }
   ],
   "source": [
    "logistic_results = evaluate_models(\"Logistic Regression\", log_reg, X_train, y_train, X_valid, y_valid, X_test, y_test)\n",
    "add_dic_to_final_df(logistic_results)"
   ]
  },
  {
   "cell_type": "code",
   "execution_count": 101,
   "metadata": {},
   "outputs": [],
   "source": [
    "import joblib\n",
    "import shutil\n",
    "\n",
    "w = {0: weights[0], 1: weights[1]}\n",
    "\n",
    "def train_logistic_model(X_train=X_train, y_train=y_train, X_valid=X_valid, y_valid=y_valid, X_test=X_test, y_test=y_test):\n",
    "    features = X_train.columns\n",
    "\n",
    "    with wandb.init(project=PROJECT_NAME) as run:\n",
    "        config = wandb.config\n",
    "        params= {\"random_state\":13,\n",
    "    \"class_weight\":w}\n",
    "\n",
    "        model = LogisticRegression(**params)\n",
    "\n",
    "        model.fit(X_train, y_train)\n",
    "        \n",
    "        # train predictions\n",
    "        y_train_pred = model.predict(X_train)\n",
    "        # train performance\n",
    "        train_f1_score = f1_score(y_train, y_train_pred)\n",
    "\n",
    "\n",
    "        # validation predictions\n",
    "        y_valid_pred = model.predict(X_valid)\n",
    "        # validation performance\n",
    "        valid_f1_score = f1_score(y_valid, y_valid_pred)\n",
    "\n",
    "        \n",
    "        # test predictions\n",
    "        y_preds = model.predict(X_test)\n",
    "        y_probas = model.predict_proba(X_test)\n",
    "\n",
    "        score = f1_score(y_test, y_preds)\n",
    "        print(f\"F1_score Train: {round(train_f1_score, 4)}\")\n",
    "        print(f\"F1_score Valid: {round(valid_f1_score, 4)}\")\n",
    "        print(f\"F1_score Test: {round(score, 4)}\")\n",
    "\n",
    "\n",
    "        wandb.log({\"f1_score_train\": train_f1_score})\n",
    "        wandb.log({\"f1_score_valid\": valid_f1_score})\n",
    "        wandb.log({\"f1_score\": score})\n",
    "\n",
    "        wandb.sklearn.plot_classifier(model, X_train, X_test, y_train, y_test,\n",
    "                                            y_preds, y_probas, labels= None, model_name='LogisticRegression', feature_names=features)\n",
    "\n",
    "        model_artifact = wandb.Artifact(\n",
    "                    \"LogisticRegression\", type=\"model\",metadata=dict(config))\n",
    "\n",
    "        joblib.dump(model, \"log-truck-model.pkl\")\n",
    "        model_artifact.add_file(\"log-truck-model.pkl\")\n",
    "        shutil.copy(\"E://Artificial Intelligence//Projects//Predictive-Truck-Delay-Management-in-Logistics//log-truck-model.pkl\", os.path.join(wandb.run.dir, \"log-truck-model.pkl\"))\n",
    "        wandb.save(\"log-truck-model.pkl\")\n",
    "        \n",
    "        \n",
    "        run.log_artifact(model_artifact)"
   ]
  },
  {
   "cell_type": "code",
   "execution_count": 102,
   "metadata": {},
   "outputs": [
    {
     "data": {
      "text/html": [
       "wandb version 0.18.1 is available!  To upgrade, please run:\n",
       " $ pip install wandb --upgrade"
      ],
      "text/plain": [
       "<IPython.core.display.HTML object>"
      ]
     },
     "metadata": {},
     "output_type": "display_data"
    },
    {
     "data": {
      "text/html": [
       "Tracking run with wandb version 0.16.1"
      ],
      "text/plain": [
       "<IPython.core.display.HTML object>"
      ]
     },
     "metadata": {},
     "output_type": "display_data"
    },
    {
     "data": {
      "text/html": [
       "Run data is saved locally in <code>e:\\Artificial Intelligence\\Projects\\Predictive-Truck-Delay-Management-in-Logistics\\wandb\\run-20240925_160046-6fhdu6ef</code>"
      ],
      "text/plain": [
       "<IPython.core.display.HTML object>"
      ]
     },
     "metadata": {},
     "output_type": "display_data"
    },
    {
     "data": {
      "text/html": [
       "Syncing run <strong><a href='https://wandb.ai/harshmp/truck-delay-classification/runs/6fhdu6ef' target=\"_blank\">good-serenity-204</a></strong> to <a href='https://wandb.ai/harshmp/truck-delay-classification' target=\"_blank\">Weights & Biases</a> (<a href='https://wandb.me/run' target=\"_blank\">docs</a>)<br/>"
      ],
      "text/plain": [
       "<IPython.core.display.HTML object>"
      ]
     },
     "metadata": {},
     "output_type": "display_data"
    },
    {
     "data": {
      "text/html": [
       " View project at <a href='https://wandb.ai/harshmp/truck-delay-classification' target=\"_blank\">https://wandb.ai/harshmp/truck-delay-classification</a>"
      ],
      "text/plain": [
       "<IPython.core.display.HTML object>"
      ]
     },
     "metadata": {},
     "output_type": "display_data"
    },
    {
     "data": {
      "text/html": [
       " View run at <a href='https://wandb.ai/harshmp/truck-delay-classification/runs/6fhdu6ef' target=\"_blank\">https://wandb.ai/harshmp/truck-delay-classification/runs/6fhdu6ef</a>"
      ],
      "text/plain": [
       "<IPython.core.display.HTML object>"
      ]
     },
     "metadata": {},
     "output_type": "display_data"
    },
    {
     "name": "stdout",
     "output_type": "stream",
     "text": [
      "F1_score Train: 0.5609\n",
      "F1_score Valid: 0.638\n",
      "F1_score Test: 0.7434\n"
     ]
    },
    {
     "name": "stderr",
     "output_type": "stream",
     "text": [
      "wandb: \n",
      "wandb: Plotting LogisticRegression.\n",
      "wandb: Logged feature importances.\n",
      "wandb: Logged confusion matrix.\n",
      "wandb: Logged summary metrics.\n",
      "wandb: Logged class proportions.\n",
      "wandb: Logged calibration curve.\n",
      "wandb: WARNING wandb.plots.* functions are deprecated and will be removed in a future release. Please use wandb.plot.* instead.\n",
      "wandb: Logged roc curve.\n",
      "wandb: Logged precision-recall curve.\n"
     ]
    },
    {
     "data": {
      "application/vnd.jupyter.widget-view+json": {
       "model_id": "af4d15d34e014c1a8d5f8b907bb3e599",
       "version_major": 2,
       "version_minor": 0
      },
      "text/plain": [
       "VBox(children=(Label(value='0.061 MB of 0.061 MB uploaded\\r'), FloatProgress(value=1.0, max=1.0)))"
      ]
     },
     "metadata": {},
     "output_type": "display_data"
    },
    {
     "data": {
      "text/html": [
       "<style>\n",
       "    table.wandb td:nth-child(1) { padding: 0 10px; text-align: left ; width: auto;} td:nth-child(2) {text-align: left ; width: 100%}\n",
       "    .wandb-row { display: flex; flex-direction: row; flex-wrap: wrap; justify-content: flex-start; width: 100% }\n",
       "    .wandb-col { display: flex; flex-direction: column; flex-basis: 100%; flex: 1; padding: 10px; }\n",
       "    </style>\n",
       "<div class=\"wandb-row\"><div class=\"wandb-col\"><h3>Run history:</h3><br/><table class=\"wandb\"><tr><td>f1_score</td><td>▁</td></tr><tr><td>f1_score_train</td><td>▁</td></tr><tr><td>f1_score_valid</td><td>▁</td></tr></table><br/></div><div class=\"wandb-col\"><h3>Run summary:</h3><br/><table class=\"wandb\"><tr><td>f1_score</td><td>0.74336</td></tr><tr><td>f1_score_train</td><td>0.56091</td></tr><tr><td>f1_score_valid</td><td>0.63799</td></tr></table><br/></div></div>"
      ],
      "text/plain": [
       "<IPython.core.display.HTML object>"
      ]
     },
     "metadata": {},
     "output_type": "display_data"
    },
    {
     "data": {
      "text/html": [
       " View run <strong style=\"color:#cdcd00\">good-serenity-204</strong> at: <a href='https://wandb.ai/harshmp/truck-delay-classification/runs/6fhdu6ef' target=\"_blank\">https://wandb.ai/harshmp/truck-delay-classification/runs/6fhdu6ef</a><br/>Synced 5 W&B file(s), 7 media file(s), 8 artifact file(s) and 1 other file(s)"
      ],
      "text/plain": [
       "<IPython.core.display.HTML object>"
      ]
     },
     "metadata": {},
     "output_type": "display_data"
    },
    {
     "data": {
      "text/html": [
       "Find logs at: <code>.\\wandb\\run-20240925_160046-6fhdu6ef\\logs</code>"
      ],
      "text/plain": [
       "<IPython.core.display.HTML object>"
      ]
     },
     "metadata": {},
     "output_type": "display_data"
    }
   ],
   "source": [
    "train_logistic_model(X_train, y_train,X_valid, y_valid, X_test, y_test)"
   ]
  },
  {
   "cell_type": "markdown",
   "metadata": {},
   "source": [
    "### Random Forest"
   ]
  },
  {
   "cell_type": "code",
   "execution_count": 103,
   "metadata": {},
   "outputs": [
    {
     "name": "stdout",
     "output_type": "stream",
     "text": [
      "Train Results\n",
      "F1 Score: 0.9916317991631798\n",
      "Recall Score: 0.983402489626556\n",
      "Confusion Matrix: \n",
      "[[5551    0]\n",
      " [  44 2607]]\n",
      "Area Under Curve: 0.991701244813278\n",
      " \n",
      "Validation Results\n",
      "F1 Score: 0.5486166007905138\n",
      "Recall Score: 0.4126040428061831\n",
      "Confusion Matrix: \n",
      "[[1418   77]\n",
      " [ 494  347]]\n",
      "Area Under Curve: 0.6805495130418875\n",
      " \n",
      "Test Results\n",
      "F1 Score: 0.6398104265402844\n",
      "Recall Score: 0.5056179775280899\n",
      "Confusion Matrix: \n",
      "[[905  60]\n",
      " [396 405]]\n",
      "Area Under Curve: 0.7217209058624906\n"
     ]
    }
   ],
   "source": [
    "# define model\n",
    "w = {0: weights[0], 1: weights[1]}\n",
    "random_f = RandomForestClassifier(n_estimators=20, class_weight=w, random_state=7)\n",
    "random_f.fit(X_train, y_train)\n",
    "\n",
    "randomf_results = evaluate_models(\"Random Forest\", random_f,X_train, y_train, X_valid, y_valid, X_test, y_test)\n",
    "add_dic_to_final_df(randomf_results)"
   ]
  },
  {
   "cell_type": "code",
   "execution_count": 104,
   "metadata": {},
   "outputs": [],
   "source": [
    "\n",
    "\n",
    "def train_random_forest(X_train=X_train, y_train=y_train, X_valid=X_valid, y_valid=y_valid, X_test=X_test, y_test=y_test):\n",
    "  features = X_train.columns\n",
    "  labels=[\"delay\"]\n",
    "\n",
    "  with wandb.init(project=PROJECT_NAME) as run:\n",
    "      config = wandb.config\n",
    "\n",
    "      model = RandomForestClassifier(n_estimators=20, class_weight=w, random_state=7)\n",
    "\n",
    "      model.fit(X_train, y_train)\n",
    "      # train predictions\n",
    "      y_train_pred = model.predict(X_train)\n",
    "      # train performance\n",
    "      train_f1_score = f1_score(y_train, y_train_pred)\n",
    "\n",
    "\n",
    "      # validation predictions\n",
    "      y_valid_pred = model.predict(X_valid)\n",
    "      # validation performance\n",
    "      valid_f1_score = f1_score(y_valid, y_valid_pred)\n",
    "\n",
    "\n",
    "      # test predictions\n",
    "      y_preds = model.predict(X_test)\n",
    "      y_probas = model.predict_proba(X_test)\n",
    "\n",
    "      score = f1_score(y_test, y_preds)\n",
    "      print(f\"F1_score Train: {round(train_f1_score, 4)}\")\n",
    "      print(f\"F1_score Valid: {round(valid_f1_score, 4)}\")\n",
    "      print(f\"F1_score Test: {round(score, 4)}\")\n",
    "\n",
    "\n",
    "      wandb.log({\"f1_score_train\": train_f1_score})\n",
    "      wandb.log({\"f1_score_valid\": valid_f1_score})\n",
    "      wandb.log({\"f1_score\": score})\n",
    "\n",
    "\n",
    "\n",
    "      wandb.sklearn.plot_classifier(model, X_train, X_test, y_train, y_test, y_preds, y_probas, labels=None,\n",
    "                                                          model_name='RandomForestClassifier', feature_names=features)\n",
    "\n",
    "      model_artifact = wandb.Artifact(\n",
    "                  \"RandomForestClassifier\", type=\"model\",metadata=dict(config))\n",
    "\n",
    "      joblib.dump(model, \"randomf-truck-model.pkl\")\n",
    "      model_artifact.add_file(\"randomf-truck-model.pkl\")\n",
    "      shutil.copy(\"E://Artificial Intelligence//Projects//Predictive-Truck-Delay-Management-in-Logistics//randomf-truck-model.pkl\", os.path.join(wandb.run.dir, \"randomf-truck-model.pkl\"))\n",
    "      wandb.save(\"randomf-truck-model.pkl\")\n",
    "      run.log_artifact(model_artifact)"
   ]
  },
  {
   "cell_type": "code",
   "execution_count": 105,
   "metadata": {},
   "outputs": [
    {
     "data": {
      "text/html": [
       "wandb version 0.18.1 is available!  To upgrade, please run:\n",
       " $ pip install wandb --upgrade"
      ],
      "text/plain": [
       "<IPython.core.display.HTML object>"
      ]
     },
     "metadata": {},
     "output_type": "display_data"
    },
    {
     "data": {
      "text/html": [
       "Tracking run with wandb version 0.16.1"
      ],
      "text/plain": [
       "<IPython.core.display.HTML object>"
      ]
     },
     "metadata": {},
     "output_type": "display_data"
    },
    {
     "data": {
      "text/html": [
       "Run data is saved locally in <code>e:\\Artificial Intelligence\\Projects\\Predictive-Truck-Delay-Management-in-Logistics\\wandb\\run-20240925_160141-37uli1ib</code>"
      ],
      "text/plain": [
       "<IPython.core.display.HTML object>"
      ]
     },
     "metadata": {},
     "output_type": "display_data"
    },
    {
     "data": {
      "text/html": [
       "Syncing run <strong><a href='https://wandb.ai/harshmp/truck-delay-classification/runs/37uli1ib' target=\"_blank\">misunderstood-totem-205</a></strong> to <a href='https://wandb.ai/harshmp/truck-delay-classification' target=\"_blank\">Weights & Biases</a> (<a href='https://wandb.me/run' target=\"_blank\">docs</a>)<br/>"
      ],
      "text/plain": [
       "<IPython.core.display.HTML object>"
      ]
     },
     "metadata": {},
     "output_type": "display_data"
    },
    {
     "data": {
      "text/html": [
       " View project at <a href='https://wandb.ai/harshmp/truck-delay-classification' target=\"_blank\">https://wandb.ai/harshmp/truck-delay-classification</a>"
      ],
      "text/plain": [
       "<IPython.core.display.HTML object>"
      ]
     },
     "metadata": {},
     "output_type": "display_data"
    },
    {
     "data": {
      "text/html": [
       " View run at <a href='https://wandb.ai/harshmp/truck-delay-classification/runs/37uli1ib' target=\"_blank\">https://wandb.ai/harshmp/truck-delay-classification/runs/37uli1ib</a>"
      ],
      "text/plain": [
       "<IPython.core.display.HTML object>"
      ]
     },
     "metadata": {},
     "output_type": "display_data"
    },
    {
     "name": "stdout",
     "output_type": "stream",
     "text": [
      "F1_score Train: 0.9916\n",
      "F1_score Valid: 0.5486\n",
      "F1_score Test: 0.6398\n"
     ]
    },
    {
     "name": "stderr",
     "output_type": "stream",
     "text": [
      "wandb: \n",
      "wandb: Plotting RandomForestClassifier.\n",
      "wandb: Logged feature importances.\n",
      "wandb: Logged confusion matrix.\n",
      "wandb: Logged summary metrics.\n",
      "wandb: Logged class proportions.\n",
      "wandb: Logged calibration curve.\n",
      "wandb: Logged roc curve.\n",
      "wandb: Logged precision-recall curve.\n"
     ]
    },
    {
     "data": {
      "application/vnd.jupyter.widget-view+json": {
       "model_id": "748a2b9b1e1d49dbb72b726b0ac70f6a",
       "version_major": 2,
       "version_minor": 0
      },
      "text/plain": [
       "VBox(children=(Label(value='7.117 MB of 7.117 MB uploaded\\r'), FloatProgress(value=1.0, max=1.0)))"
      ]
     },
     "metadata": {},
     "output_type": "display_data"
    },
    {
     "data": {
      "text/html": [
       "<style>\n",
       "    table.wandb td:nth-child(1) { padding: 0 10px; text-align: left ; width: auto;} td:nth-child(2) {text-align: left ; width: 100%}\n",
       "    .wandb-row { display: flex; flex-direction: row; flex-wrap: wrap; justify-content: flex-start; width: 100% }\n",
       "    .wandb-col { display: flex; flex-direction: column; flex-basis: 100%; flex: 1; padding: 10px; }\n",
       "    </style>\n",
       "<div class=\"wandb-row\"><div class=\"wandb-col\"><h3>Run history:</h3><br/><table class=\"wandb\"><tr><td>f1_score</td><td>▁</td></tr><tr><td>f1_score_train</td><td>▁</td></tr><tr><td>f1_score_valid</td><td>▁</td></tr></table><br/></div><div class=\"wandb-col\"><h3>Run summary:</h3><br/><table class=\"wandb\"><tr><td>f1_score</td><td>0.63981</td></tr><tr><td>f1_score_train</td><td>0.99163</td></tr><tr><td>f1_score_valid</td><td>0.54862</td></tr></table><br/></div></div>"
      ],
      "text/plain": [
       "<IPython.core.display.HTML object>"
      ]
     },
     "metadata": {},
     "output_type": "display_data"
    },
    {
     "data": {
      "text/html": [
       " View run <strong style=\"color:#cdcd00\">misunderstood-totem-205</strong> at: <a href='https://wandb.ai/harshmp/truck-delay-classification/runs/37uli1ib' target=\"_blank\">https://wandb.ai/harshmp/truck-delay-classification/runs/37uli1ib</a><br/>Synced 5 W&B file(s), 7 media file(s), 8 artifact file(s) and 1 other file(s)"
      ],
      "text/plain": [
       "<IPython.core.display.HTML object>"
      ]
     },
     "metadata": {},
     "output_type": "display_data"
    },
    {
     "data": {
      "text/html": [
       "Find logs at: <code>.\\wandb\\run-20240925_160141-37uli1ib\\logs</code>"
      ],
      "text/plain": [
       "<IPython.core.display.HTML object>"
      ]
     },
     "metadata": {},
     "output_type": "display_data"
    }
   ],
   "source": [
    "train_random_forest(X_train, y_train,X_valid, y_valid, X_test, y_test)"
   ]
  },
  {
   "cell_type": "markdown",
   "metadata": {},
   "source": [
    "### XGBoost"
   ]
  },
  {
   "cell_type": "code",
   "execution_count": 106,
   "metadata": {},
   "outputs": [
    {
     "name": "stdout",
     "output_type": "stream",
     "text": [
      "[0]\tvalidation-mlogloss:0.61505\n",
      "[1]\tvalidation-mlogloss:0.57247\n",
      "[2]\tvalidation-mlogloss:0.54663\n",
      "[3]\tvalidation-mlogloss:0.53719\n",
      "[4]\tvalidation-mlogloss:0.52942\n",
      "[5]\tvalidation-mlogloss:0.52952\n",
      "[6]\tvalidation-mlogloss:0.52822\n",
      "[7]\tvalidation-mlogloss:0.52703\n",
      "[8]\tvalidation-mlogloss:0.52129\n",
      "[9]\tvalidation-mlogloss:0.52332\n",
      "[10]\tvalidation-mlogloss:0.52357\n",
      "[11]\tvalidation-mlogloss:0.51938\n",
      "[12]\tvalidation-mlogloss:0.51764\n",
      "[13]\tvalidation-mlogloss:0.51998\n",
      "[14]\tvalidation-mlogloss:0.52129\n",
      "[15]\tvalidation-mlogloss:0.51921\n",
      "[16]\tvalidation-mlogloss:0.52015\n",
      "[17]\tvalidation-mlogloss:0.52033\n",
      "[18]\tvalidation-mlogloss:0.52285\n",
      "[19]\tvalidation-mlogloss:0.52482\n",
      "[20]\tvalidation-mlogloss:0.52922\n",
      "[21]\tvalidation-mlogloss:0.53294\n",
      "Train Results\n",
      "F1 Score: 0.7467694400362728\n",
      "Recall Score: 0.6212749905695963\n",
      "Confusion Matrix: \n",
      "[[5438  113]\n",
      " [1004 1647]]\n",
      "Area Under Curve: 0.8004591490408781\n",
      " \n",
      "Validation Results\n",
      "F1 Score: 0.6123032904148783\n",
      "Recall Score: 0.5089179548156956\n",
      "Confusion Matrix: \n",
      "[[1366  129]\n",
      " [ 413  428]]\n",
      "Area Under Curve: 0.7113151646988177\n",
      " \n",
      "Test Results\n",
      "F1 Score: 0.6932153392330385\n",
      "Recall Score: 0.5867665418227216\n",
      "Confusion Matrix: \n",
      "[[880  85]\n",
      " [331 470]]\n",
      "Area Under Curve: 0.7493418201341588\n"
     ]
    }
   ],
   "source": [
    "# import xgboost\n",
    "import xgboost as xgb\n",
    "\n",
    "# Convert training and test sets to DMatrix\n",
    "dtrain = xgb.DMatrix(X_train, label=y_train)\n",
    "dvalid = xgb.DMatrix(X_valid, label=y_valid)\n",
    "dtest = xgb.DMatrix(X_test, label=y_test)\n",
    "\n",
    "# Train initial model\n",
    "params = {'objective': 'multi:softmax', 'num_class': 2, 'seed': 7}\n",
    "num_rounds = 30\n",
    "xgbmodel = xgb.train(params, dtrain, num_rounds, evals=[(dvalid, 'validation')], early_stopping_rounds=10)\n",
    "\n",
    "xgb_results = evaluate_models(\"XGB\", xgbmodel, dtrain, y_train, dvalid, y_valid, dtest, y_test)\n",
    "add_dic_to_final_df(xgb_results)"
   ]
  },
  {
   "cell_type": "code",
   "execution_count": 108,
   "metadata": {},
   "outputs": [],
   "source": [
    "import joblib\n",
    "import xgboost as xgb\n",
    "\n",
    "def train_xgb_model(X_train=X_train, y_train=y_train, X_valid=X_valid, y_valid=y_valid, X_test=X_test, y_test=y_test):\n",
    "  features = X_train.columns\n",
    "  labels=[\"delay\"]\n",
    "\n",
    "  with wandb.init(project=PROJECT_NAME) as run:\n",
    "      config = wandb.config\n",
    "\n",
    "\n",
    "      # Convert training and test sets to DMatrix\n",
    "      dtrain = xgb.DMatrix(X_train, label=y_train)\n",
    "      dvalid = xgb.DMatrix(X_valid, label=y_valid)\n",
    "      dtest = xgb.DMatrix(X_test, label=y_test)\n",
    "\n",
    "      # Train initial model\n",
    "      params = {'objective': 'multi:softmax', 'num_class': 2}\n",
    "      num_rounds = 30\n",
    "      xgbmodel = xgb.train(params, dtrain, num_rounds, evals=[(dvalid, 'validation')], early_stopping_rounds=10)\n",
    "        \n",
    "      # train predictions\n",
    "      y_train_pred = xgbmodel.predict(dtrain)\n",
    "      # train performance\n",
    "      train_f1_score = f1_score(y_train, y_train_pred)\n",
    "\n",
    "\n",
    "      # validation predictions\n",
    "      y_valid_pred = xgbmodel.predict(dvalid)\n",
    "      # validation performance\n",
    "      valid_f1_score = f1_score(y_valid, y_valid_pred)\n",
    "\n",
    "\n",
    "      # test predictions\n",
    "      y_preds = xgbmodel.predict(dtest)\n",
    "      score = f1_score(y_test, y_preds)\n",
    "      print(f\"F1_score Train: {round(train_f1_score, 4)}\")\n",
    "      print(f\"F1_score Valid: {round(valid_f1_score, 4)}\")\n",
    "      print(f\"F1_score Test: {round(score, 4)}\")\n",
    "\n",
    "\n",
    "      wandb.log({\"f1_score_train\": train_f1_score})\n",
    "      wandb.log({\"f1_score_valid\": valid_f1_score})\n",
    "      wandb.log({\"f1_score\": score})\n",
    "\n",
    "\n",
    "      model_artifact = wandb.Artifact(\n",
    "                  \"XGBoost\", type=\"model\",metadata=dict(config))\n",
    "\n",
    "      joblib.dump(xgbmodel, \"xgb-truck-model.pkl\")\n",
    "      model_artifact.add_file(\"xgb-truck-model.pkl\")\n",
    "      shutil.copy(\"E://Artificial Intelligence//Projects//Predictive-Truck-Delay-Management-in-Logistics//xgb-truck-model.pkl\", os.path.join(wandb.run.dir, \"xgb-truck-model.pkl\"))\n",
    "      wandb.save(\"xgb-truck-model.pkl\")\n",
    "      run.log_artifact(model_artifact)\n"
   ]
  },
  {
   "cell_type": "code",
   "execution_count": 109,
   "metadata": {},
   "outputs": [
    {
     "data": {
      "text/html": [
       "wandb version 0.18.1 is available!  To upgrade, please run:\n",
       " $ pip install wandb --upgrade"
      ],
      "text/plain": [
       "<IPython.core.display.HTML object>"
      ]
     },
     "metadata": {},
     "output_type": "display_data"
    },
    {
     "data": {
      "text/html": [
       "Tracking run with wandb version 0.16.1"
      ],
      "text/plain": [
       "<IPython.core.display.HTML object>"
      ]
     },
     "metadata": {},
     "output_type": "display_data"
    },
    {
     "data": {
      "text/html": [
       "Run data is saved locally in <code>e:\\Artificial Intelligence\\Projects\\Predictive-Truck-Delay-Management-in-Logistics\\wandb\\run-20240925_160432-408cwl6h</code>"
      ],
      "text/plain": [
       "<IPython.core.display.HTML object>"
      ]
     },
     "metadata": {},
     "output_type": "display_data"
    },
    {
     "data": {
      "text/html": [
       "Syncing run <strong><a href='https://wandb.ai/harshmp/truck-delay-classification/runs/408cwl6h' target=\"_blank\">whole-valley-206</a></strong> to <a href='https://wandb.ai/harshmp/truck-delay-classification' target=\"_blank\">Weights & Biases</a> (<a href='https://wandb.me/run' target=\"_blank\">docs</a>)<br/>"
      ],
      "text/plain": [
       "<IPython.core.display.HTML object>"
      ]
     },
     "metadata": {},
     "output_type": "display_data"
    },
    {
     "data": {
      "text/html": [
       " View project at <a href='https://wandb.ai/harshmp/truck-delay-classification' target=\"_blank\">https://wandb.ai/harshmp/truck-delay-classification</a>"
      ],
      "text/plain": [
       "<IPython.core.display.HTML object>"
      ]
     },
     "metadata": {},
     "output_type": "display_data"
    },
    {
     "data": {
      "text/html": [
       " View run at <a href='https://wandb.ai/harshmp/truck-delay-classification/runs/408cwl6h' target=\"_blank\">https://wandb.ai/harshmp/truck-delay-classification/runs/408cwl6h</a>"
      ],
      "text/plain": [
       "<IPython.core.display.HTML object>"
      ]
     },
     "metadata": {},
     "output_type": "display_data"
    },
    {
     "name": "stdout",
     "output_type": "stream",
     "text": [
      "[0]\tvalidation-mlogloss:0.61505\n",
      "[1]\tvalidation-mlogloss:0.57247\n",
      "[2]\tvalidation-mlogloss:0.54663\n",
      "[3]\tvalidation-mlogloss:0.53719\n",
      "[4]\tvalidation-mlogloss:0.52942\n",
      "[5]\tvalidation-mlogloss:0.52952\n",
      "[6]\tvalidation-mlogloss:0.52822\n",
      "[7]\tvalidation-mlogloss:0.52703\n",
      "[8]\tvalidation-mlogloss:0.52129\n",
      "[9]\tvalidation-mlogloss:0.52332\n",
      "[10]\tvalidation-mlogloss:0.52357\n",
      "[11]\tvalidation-mlogloss:0.51938\n",
      "[12]\tvalidation-mlogloss:0.51764\n",
      "[13]\tvalidation-mlogloss:0.51998\n",
      "[14]\tvalidation-mlogloss:0.52129\n",
      "[15]\tvalidation-mlogloss:0.51921\n",
      "[16]\tvalidation-mlogloss:0.52015\n",
      "[17]\tvalidation-mlogloss:0.52033\n",
      "[18]\tvalidation-mlogloss:0.52285\n",
      "[19]\tvalidation-mlogloss:0.52482\n",
      "[20]\tvalidation-mlogloss:0.52922\n",
      "[21]\tvalidation-mlogloss:0.53294\n",
      "[22]\tvalidation-mlogloss:0.53365\n",
      "F1_score Train: 0.7468\n",
      "F1_score Valid: 0.6123\n",
      "F1_score Test: 0.6932\n"
     ]
    },
    {
     "data": {
      "application/vnd.jupyter.widget-view+json": {
       "model_id": "90f1ab5f7c8d4dfbb5cdfe31a9295d2d",
       "version_major": 2,
       "version_minor": 0
      },
      "text/plain": [
       "VBox(children=(Label(value='0.339 MB of 0.339 MB uploaded\\r'), FloatProgress(value=1.0, max=1.0)))"
      ]
     },
     "metadata": {},
     "output_type": "display_data"
    },
    {
     "data": {
      "text/html": [
       "<style>\n",
       "    table.wandb td:nth-child(1) { padding: 0 10px; text-align: left ; width: auto;} td:nth-child(2) {text-align: left ; width: 100%}\n",
       "    .wandb-row { display: flex; flex-direction: row; flex-wrap: wrap; justify-content: flex-start; width: 100% }\n",
       "    .wandb-col { display: flex; flex-direction: column; flex-basis: 100%; flex: 1; padding: 10px; }\n",
       "    </style>\n",
       "<div class=\"wandb-row\"><div class=\"wandb-col\"><h3>Run history:</h3><br/><table class=\"wandb\"><tr><td>f1_score</td><td>▁</td></tr><tr><td>f1_score_train</td><td>▁</td></tr><tr><td>f1_score_valid</td><td>▁</td></tr></table><br/></div><div class=\"wandb-col\"><h3>Run summary:</h3><br/><table class=\"wandb\"><tr><td>f1_score</td><td>0.69322</td></tr><tr><td>f1_score_train</td><td>0.74677</td></tr><tr><td>f1_score_valid</td><td>0.6123</td></tr></table><br/></div></div>"
      ],
      "text/plain": [
       "<IPython.core.display.HTML object>"
      ]
     },
     "metadata": {},
     "output_type": "display_data"
    },
    {
     "data": {
      "text/html": [
       " View run <strong style=\"color:#cdcd00\">whole-valley-206</strong> at: <a href='https://wandb.ai/harshmp/truck-delay-classification/runs/408cwl6h' target=\"_blank\">https://wandb.ai/harshmp/truck-delay-classification/runs/408cwl6h</a><br/>Synced 5 W&B file(s), 0 media file(s), 1 artifact file(s) and 1 other file(s)"
      ],
      "text/plain": [
       "<IPython.core.display.HTML object>"
      ]
     },
     "metadata": {},
     "output_type": "display_data"
    },
    {
     "data": {
      "text/html": [
       "Find logs at: <code>.\\wandb\\run-20240925_160432-408cwl6h\\logs</code>"
      ],
      "text/plain": [
       "<IPython.core.display.HTML object>"
      ]
     },
     "metadata": {},
     "output_type": "display_data"
    }
   ],
   "source": [
    "train_xgb_model(X_train, y_train,X_valid, y_valid, X_test, y_test)"
   ]
  },
  {
   "cell_type": "markdown",
   "metadata": {},
   "source": [
    "### **Model Building Summary**\n",
    "\n",
    "Logistic Regression:\n",
    "\n",
    "* The F1 score and recall on the training set are relatively low, indicating that the model might not fit the training data well.\n",
    "* The F1 score and recall on the validation and test sets are high but we'll have to look for consistency of  the model results over high scores.\n",
    "\n",
    "Random Forest:\n",
    "\n",
    "* The Random Forest model has very high F1 scores and recall on the training set, indicating a potential overfitting issue.\n",
    "* On the validation set, the F1 score is lower than on the training set, which is expected, but it's still relatively high.\n",
    "* The model performs well on the test set with a better F1 score and recall.\n",
    "* To address potential overfitting, we can experiment with reducing the complexity of the Random Forest model, by limiting the depth of the trees.\n",
    "\n",
    "XGBoost:\n",
    "\n",
    "* XGBoost shows good F1 scores and recall on the training set, indicating a reasonable fit to the training data.\n",
    "* On the validation set, the F1 score is reasonable, suggesting decent generalization.\n",
    "* The model performs well on the test set with a high F1 score and recall, indicating good generalization to unseen data.\n",
    "* XGBoost seems to be the most promising model, we can do hyperparameter tuning to see if we can improve its performance even more.\n",
    "\n",
    "F1_score Train: 0.74677\n",
    "\n",
    "F1_score Valid: 0.6123\n",
    "\n",
    "F1_score Test: 0.6932"
   ]
  },
  {
   "cell_type": "markdown",
   "metadata": {},
   "source": [
    "### Hyperparameter Tuning "
   ]
  },
  {
   "cell_type": "markdown",
   "metadata": {},
   "source": [
    "#### Hyperparameter Sweeps "
   ]
  },
  {
   "cell_type": "code",
   "execution_count": 110,
   "metadata": {},
   "outputs": [],
   "source": [
    "import joblib\n",
    "w = {0: weights[0], 1: weights[1]}\n",
    "def train_rf_model(X_train=X_train, y_train=y_train, X_valid=X_valid,y_valid=y_valid, X_test=X_test, y_test=y_test):\n",
    "    features = X_train.columns\n",
    "\n",
    "    with wandb.init(\n",
    "        project= PROJECT_NAME ) as run:\n",
    "        config = wandb.config\n",
    "\n",
    "        model = RandomForestClassifier(\n",
    "            n_estimators=config[\"n_estimators\"],\n",
    "            max_depth=config[\"max_depth\"],\n",
    "            min_samples_split=config[\"min_samples_split\"],\n",
    "            random_state=7,\n",
    "            class_weight=w\n",
    "        )\n",
    "        model.fit(X_train, y_train)\n",
    "        \n",
    "        # train predictions\n",
    "        y_train_pred = model.predict(X_train)\n",
    "        # train performance\n",
    "        train_f1_score = f1_score(y_train, y_train_pred)\n",
    "        \n",
    "\n",
    "        # validation predictions\n",
    "        y_valid_pred = model.predict(X_valid)\n",
    "        # validation performance\n",
    "        valid_f1_score = f1_score(y_valid, y_valid_pred)\n",
    "      \n",
    "\n",
    "        y_preds = model.predict(X_test)\n",
    "        y_probas = model.predict_proba(X_test)\n",
    "\n",
    "        score = f1_score(y_test, y_preds)\n",
    "        print(f\"F1_score Train: {round(train_f1_score, 4)}\")\n",
    "        print(f\"F1_score Valid: {round(valid_f1_score, 4)}\")\n",
    "        print(f\"F1_score Test: {round(score, 4)}\")\n",
    "\n",
    "\n",
    "        wandb.log({\"f1_score_train\": train_f1_score})\n",
    "        wandb.log({\"f1_score_valid\": valid_f1_score})\n",
    "        wandb.log({\"f1_score\": score})\n",
    "\n",
    "        wandb.sklearn.plot_classifier(model, X_train, X_test, y_train, y_test, y_preds, y_probas, labels=None,\n",
    "                                                          model_name='RandomForestClassifier', feature_names=features)\n",
    "\n",
    "        model_artifact = wandb.Artifact(\n",
    "            \"RandomForestClassifier\", type=\"model\",metadata=dict(config))\n",
    "        joblib.dump(model, \"random_f_tuned.pkl\")\n",
    "        model_artifact.add_file(\"random_f_tuned.pkl\")\n",
    "        shutil.copy(\"E://Artificial Intelligence//Projects//Predictive-Truck-Delay-Management-in-Logistics//random_f_tuned.pkl\", os.path.join(wandb.run.dir, \"random_f_tuned.pkl\"))\n",
    "        wandb.save(\"random_f_tuned.pkl\")\n",
    "        run.log_artifact(model_artifact)"
   ]
  },
  {
   "cell_type": "code",
   "execution_count": 111,
   "metadata": {},
   "outputs": [
    {
     "data": {
      "text/plain": [
       "{'bootstrap': True,\n",
       " 'ccp_alpha': 0.0,\n",
       " 'class_weight': {0: 0.7387858043595749, 1: 1.5469634100339495},\n",
       " 'criterion': 'gini',\n",
       " 'max_depth': None,\n",
       " 'max_features': 'sqrt',\n",
       " 'max_leaf_nodes': None,\n",
       " 'max_samples': None,\n",
       " 'min_impurity_decrease': 0.0,\n",
       " 'min_samples_leaf': 1,\n",
       " 'min_samples_split': 2,\n",
       " 'min_weight_fraction_leaf': 0.0,\n",
       " 'n_estimators': 20,\n",
       " 'n_jobs': None,\n",
       " 'oob_score': False,\n",
       " 'random_state': 7,\n",
       " 'verbose': 0,\n",
       " 'warm_start': False}"
      ]
     },
     "execution_count": 111,
     "metadata": {},
     "output_type": "execute_result"
    }
   ],
   "source": [
    "random_f.get_params()"
   ]
  },
  {
   "cell_type": "code",
   "execution_count": 112,
   "metadata": {},
   "outputs": [
    {
     "name": "stdout",
     "output_type": "stream",
     "text": [
      "Create sweep with ID: ilvq0mj4\n",
      "Sweep URL: https://wandb.ai/harshmp/truck-delay-classification/sweeps/ilvq0mj4\n"
     ]
    },
    {
     "name": "stderr",
     "output_type": "stream",
     "text": [
      "wandb: Agent Starting Run: ioa6dt2t with config:\n",
      "wandb: \tmax_depth: None\n",
      "wandb: \tmin_samples_split: 2\n",
      "wandb: \tn_estimators: 8\n",
      "Failed to detect the name of this notebook, you can set it manually with the WANDB_NOTEBOOK_NAME environment variable to enable code saving.\n",
      "wandb: WARNING Ignored wandb.init() arg project when running a sweep.\n"
     ]
    },
    {
     "data": {
      "text/html": [
       "wandb version 0.18.1 is available!  To upgrade, please run:\n",
       " $ pip install wandb --upgrade"
      ],
      "text/plain": [
       "<IPython.core.display.HTML object>"
      ]
     },
     "metadata": {},
     "output_type": "display_data"
    },
    {
     "data": {
      "text/html": [
       "Tracking run with wandb version 0.16.1"
      ],
      "text/plain": [
       "<IPython.core.display.HTML object>"
      ]
     },
     "metadata": {},
     "output_type": "display_data"
    },
    {
     "data": {
      "text/html": [
       "Run data is saved locally in <code>e:\\Artificial Intelligence\\Projects\\Predictive-Truck-Delay-Management-in-Logistics\\wandb\\run-20240925_160600-ioa6dt2t</code>"
      ],
      "text/plain": [
       "<IPython.core.display.HTML object>"
      ]
     },
     "metadata": {},
     "output_type": "display_data"
    },
    {
     "data": {
      "text/html": [
       "Syncing run <strong><a href='https://wandb.ai/harshmp/truck-delay-classification/runs/ioa6dt2t' target=\"_blank\">swift-sweep-1</a></strong> to <a href='https://wandb.ai/harshmp/truck-delay-classification' target=\"_blank\">Weights & Biases</a> (<a href='https://wandb.me/run' target=\"_blank\">docs</a>)<br/>Sweep page: <a href='https://wandb.ai/harshmp/truck-delay-classification/sweeps/ilvq0mj4' target=\"_blank\">https://wandb.ai/harshmp/truck-delay-classification/sweeps/ilvq0mj4</a>"
      ],
      "text/plain": [
       "<IPython.core.display.HTML object>"
      ]
     },
     "metadata": {},
     "output_type": "display_data"
    },
    {
     "data": {
      "text/html": [
       " View project at <a href='https://wandb.ai/harshmp/truck-delay-classification' target=\"_blank\">https://wandb.ai/harshmp/truck-delay-classification</a>"
      ],
      "text/plain": [
       "<IPython.core.display.HTML object>"
      ]
     },
     "metadata": {},
     "output_type": "display_data"
    },
    {
     "data": {
      "text/html": [
       " View sweep at <a href='https://wandb.ai/harshmp/truck-delay-classification/sweeps/ilvq0mj4' target=\"_blank\">https://wandb.ai/harshmp/truck-delay-classification/sweeps/ilvq0mj4</a>"
      ],
      "text/plain": [
       "<IPython.core.display.HTML object>"
      ]
     },
     "metadata": {},
     "output_type": "display_data"
    },
    {
     "data": {
      "text/html": [
       " View run at <a href='https://wandb.ai/harshmp/truck-delay-classification/runs/ioa6dt2t' target=\"_blank\">https://wandb.ai/harshmp/truck-delay-classification/runs/ioa6dt2t</a>"
      ],
      "text/plain": [
       "<IPython.core.display.HTML object>"
      ]
     },
     "metadata": {},
     "output_type": "display_data"
    },
    {
     "name": "stdout",
     "output_type": "stream",
     "text": [
      "F1_score Train: 0.9492\n",
      "F1_score Valid: 0.5098\n",
      "F1_score Test: 0.6245\n"
     ]
    },
    {
     "name": "stderr",
     "output_type": "stream",
     "text": [
      "wandb: \n",
      "wandb: Plotting RandomForestClassifier.\n",
      "wandb: Logged feature importances.\n",
      "wandb: Logged confusion matrix.\n",
      "wandb: Logged summary metrics.\n",
      "wandb: Logged class proportions.\n",
      "wandb: Logged calibration curve.\n",
      "wandb: Logged roc curve.\n",
      "wandb: Logged precision-recall curve.\n"
     ]
    },
    {
     "data": {
      "application/vnd.jupyter.widget-view+json": {
       "model_id": "ea448f7d4f864b39969b5d1e32f2e91a",
       "version_major": 2,
       "version_minor": 0
      },
      "text/plain": [
       "VBox(children=(Label(value='2.834 MB of 2.834 MB uploaded\\r'), FloatProgress(value=1.0, max=1.0)))"
      ]
     },
     "metadata": {},
     "output_type": "display_data"
    },
    {
     "data": {
      "text/html": [
       "<style>\n",
       "    table.wandb td:nth-child(1) { padding: 0 10px; text-align: left ; width: auto;} td:nth-child(2) {text-align: left ; width: 100%}\n",
       "    .wandb-row { display: flex; flex-direction: row; flex-wrap: wrap; justify-content: flex-start; width: 100% }\n",
       "    .wandb-col { display: flex; flex-direction: column; flex-basis: 100%; flex: 1; padding: 10px; }\n",
       "    </style>\n",
       "<div class=\"wandb-row\"><div class=\"wandb-col\"><h3>Run history:</h3><br/><table class=\"wandb\"><tr><td>f1_score</td><td>▁</td></tr><tr><td>f1_score_train</td><td>▁</td></tr><tr><td>f1_score_valid</td><td>▁</td></tr></table><br/></div><div class=\"wandb-col\"><h3>Run summary:</h3><br/><table class=\"wandb\"><tr><td>f1_score</td><td>0.62451</td></tr><tr><td>f1_score_train</td><td>0.94924</td></tr><tr><td>f1_score_valid</td><td>0.50983</td></tr></table><br/></div></div>"
      ],
      "text/plain": [
       "<IPython.core.display.HTML object>"
      ]
     },
     "metadata": {},
     "output_type": "display_data"
    },
    {
     "data": {
      "text/html": [
       " View run <strong style=\"color:#cdcd00\">swift-sweep-1</strong> at: <a href='https://wandb.ai/harshmp/truck-delay-classification/runs/ioa6dt2t' target=\"_blank\">https://wandb.ai/harshmp/truck-delay-classification/runs/ioa6dt2t</a><br/>Synced 5 W&B file(s), 7 media file(s), 8 artifact file(s) and 1 other file(s)"
      ],
      "text/plain": [
       "<IPython.core.display.HTML object>"
      ]
     },
     "metadata": {},
     "output_type": "display_data"
    },
    {
     "data": {
      "text/html": [
       "Find logs at: <code>.\\wandb\\run-20240925_160600-ioa6dt2t\\logs</code>"
      ],
      "text/plain": [
       "<IPython.core.display.HTML object>"
      ]
     },
     "metadata": {},
     "output_type": "display_data"
    },
    {
     "name": "stderr",
     "output_type": "stream",
     "text": [
      "wandb: Agent Starting Run: 51nqrxfj with config:\n",
      "wandb: \tmax_depth: None\n",
      "wandb: \tmin_samples_split: 2\n",
      "wandb: \tn_estimators: 12\n",
      "Failed to detect the name of this notebook, you can set it manually with the WANDB_NOTEBOOK_NAME environment variable to enable code saving.\n",
      "wandb: WARNING Ignored wandb.init() arg project when running a sweep.\n"
     ]
    },
    {
     "data": {
      "text/html": [
       "wandb version 0.18.1 is available!  To upgrade, please run:\n",
       " $ pip install wandb --upgrade"
      ],
      "text/plain": [
       "<IPython.core.display.HTML object>"
      ]
     },
     "metadata": {},
     "output_type": "display_data"
    },
    {
     "data": {
      "text/html": [
       "Tracking run with wandb version 0.16.1"
      ],
      "text/plain": [
       "<IPython.core.display.HTML object>"
      ]
     },
     "metadata": {},
     "output_type": "display_data"
    },
    {
     "data": {
      "text/html": [
       "Run data is saved locally in <code>e:\\Artificial Intelligence\\Projects\\Predictive-Truck-Delay-Management-in-Logistics\\wandb\\run-20240925_160620-51nqrxfj</code>"
      ],
      "text/plain": [
       "<IPython.core.display.HTML object>"
      ]
     },
     "metadata": {},
     "output_type": "display_data"
    },
    {
     "data": {
      "text/html": [
       "Syncing run <strong><a href='https://wandb.ai/harshmp/truck-delay-classification/runs/51nqrxfj' target=\"_blank\">eternal-sweep-2</a></strong> to <a href='https://wandb.ai/harshmp/truck-delay-classification' target=\"_blank\">Weights & Biases</a> (<a href='https://wandb.me/run' target=\"_blank\">docs</a>)<br/>Sweep page: <a href='https://wandb.ai/harshmp/truck-delay-classification/sweeps/ilvq0mj4' target=\"_blank\">https://wandb.ai/harshmp/truck-delay-classification/sweeps/ilvq0mj4</a>"
      ],
      "text/plain": [
       "<IPython.core.display.HTML object>"
      ]
     },
     "metadata": {},
     "output_type": "display_data"
    },
    {
     "data": {
      "text/html": [
       " View project at <a href='https://wandb.ai/harshmp/truck-delay-classification' target=\"_blank\">https://wandb.ai/harshmp/truck-delay-classification</a>"
      ],
      "text/plain": [
       "<IPython.core.display.HTML object>"
      ]
     },
     "metadata": {},
     "output_type": "display_data"
    },
    {
     "data": {
      "text/html": [
       " View sweep at <a href='https://wandb.ai/harshmp/truck-delay-classification/sweeps/ilvq0mj4' target=\"_blank\">https://wandb.ai/harshmp/truck-delay-classification/sweeps/ilvq0mj4</a>"
      ],
      "text/plain": [
       "<IPython.core.display.HTML object>"
      ]
     },
     "metadata": {},
     "output_type": "display_data"
    },
    {
     "data": {
      "text/html": [
       " View run at <a href='https://wandb.ai/harshmp/truck-delay-classification/runs/51nqrxfj' target=\"_blank\">https://wandb.ai/harshmp/truck-delay-classification/runs/51nqrxfj</a>"
      ],
      "text/plain": [
       "<IPython.core.display.HTML object>"
      ]
     },
     "metadata": {},
     "output_type": "display_data"
    },
    {
     "name": "stdout",
     "output_type": "stream",
     "text": [
      "F1_score Train: 0.9751\n",
      "F1_score Valid: 0.5191\n",
      "F1_score Test: 0.6425\n"
     ]
    },
    {
     "name": "stderr",
     "output_type": "stream",
     "text": [
      "wandb: \n",
      "wandb: Plotting RandomForestClassifier.\n",
      "wandb: Logged feature importances.\n",
      "wandb: Logged confusion matrix.\n",
      "wandb: Logged summary metrics.\n",
      "wandb: Logged class proportions.\n",
      "wandb: Logged calibration curve.\n",
      "wandb: Logged roc curve.\n",
      "wandb: Logged precision-recall curve.\n"
     ]
    },
    {
     "data": {
      "application/vnd.jupyter.widget-view+json": {
       "model_id": "b38b12e9790f4aad89db86e3f4b985d3",
       "version_major": 2,
       "version_minor": 0
      },
      "text/plain": [
       "VBox(children=(Label(value='4.244 MB of 4.244 MB uploaded\\r'), FloatProgress(value=1.0, max=1.0)))"
      ]
     },
     "metadata": {},
     "output_type": "display_data"
    },
    {
     "data": {
      "text/html": [
       "<style>\n",
       "    table.wandb td:nth-child(1) { padding: 0 10px; text-align: left ; width: auto;} td:nth-child(2) {text-align: left ; width: 100%}\n",
       "    .wandb-row { display: flex; flex-direction: row; flex-wrap: wrap; justify-content: flex-start; width: 100% }\n",
       "    .wandb-col { display: flex; flex-direction: column; flex-basis: 100%; flex: 1; padding: 10px; }\n",
       "    </style>\n",
       "<div class=\"wandb-row\"><div class=\"wandb-col\"><h3>Run history:</h3><br/><table class=\"wandb\"><tr><td>f1_score</td><td>▁</td></tr><tr><td>f1_score_train</td><td>▁</td></tr><tr><td>f1_score_valid</td><td>▁</td></tr></table><br/></div><div class=\"wandb-col\"><h3>Run summary:</h3><br/><table class=\"wandb\"><tr><td>f1_score</td><td>0.64252</td></tr><tr><td>f1_score_train</td><td>0.9751</td></tr><tr><td>f1_score_valid</td><td>0.51911</td></tr></table><br/></div></div>"
      ],
      "text/plain": [
       "<IPython.core.display.HTML object>"
      ]
     },
     "metadata": {},
     "output_type": "display_data"
    },
    {
     "data": {
      "text/html": [
       " View run <strong style=\"color:#cdcd00\">eternal-sweep-2</strong> at: <a href='https://wandb.ai/harshmp/truck-delay-classification/runs/51nqrxfj' target=\"_blank\">https://wandb.ai/harshmp/truck-delay-classification/runs/51nqrxfj</a><br/>Synced 5 W&B file(s), 7 media file(s), 8 artifact file(s) and 1 other file(s)"
      ],
      "text/plain": [
       "<IPython.core.display.HTML object>"
      ]
     },
     "metadata": {},
     "output_type": "display_data"
    },
    {
     "data": {
      "text/html": [
       "Find logs at: <code>.\\wandb\\run-20240925_160620-51nqrxfj\\logs</code>"
      ],
      "text/plain": [
       "<IPython.core.display.HTML object>"
      ]
     },
     "metadata": {},
     "output_type": "display_data"
    },
    {
     "name": "stderr",
     "output_type": "stream",
     "text": [
      "wandb: Agent Starting Run: 7xhgwkyi with config:\n",
      "wandb: \tmax_depth: None\n",
      "wandb: \tmin_samples_split: 2\n",
      "wandb: \tn_estimators: 16\n",
      "Failed to detect the name of this notebook, you can set it manually with the WANDB_NOTEBOOK_NAME environment variable to enable code saving.\n",
      "wandb: WARNING Ignored wandb.init() arg project when running a sweep.\n"
     ]
    },
    {
     "data": {
      "text/html": [
       "wandb version 0.18.1 is available!  To upgrade, please run:\n",
       " $ pip install wandb --upgrade"
      ],
      "text/plain": [
       "<IPython.core.display.HTML object>"
      ]
     },
     "metadata": {},
     "output_type": "display_data"
    },
    {
     "data": {
      "text/html": [
       "Tracking run with wandb version 0.16.1"
      ],
      "text/plain": [
       "<IPython.core.display.HTML object>"
      ]
     },
     "metadata": {},
     "output_type": "display_data"
    },
    {
     "data": {
      "text/html": [
       "Run data is saved locally in <code>e:\\Artificial Intelligence\\Projects\\Predictive-Truck-Delay-Management-in-Logistics\\wandb\\run-20240925_160639-7xhgwkyi</code>"
      ],
      "text/plain": [
       "<IPython.core.display.HTML object>"
      ]
     },
     "metadata": {},
     "output_type": "display_data"
    },
    {
     "data": {
      "text/html": [
       "Syncing run <strong><a href='https://wandb.ai/harshmp/truck-delay-classification/runs/7xhgwkyi' target=\"_blank\">fragrant-sweep-3</a></strong> to <a href='https://wandb.ai/harshmp/truck-delay-classification' target=\"_blank\">Weights & Biases</a> (<a href='https://wandb.me/run' target=\"_blank\">docs</a>)<br/>Sweep page: <a href='https://wandb.ai/harshmp/truck-delay-classification/sweeps/ilvq0mj4' target=\"_blank\">https://wandb.ai/harshmp/truck-delay-classification/sweeps/ilvq0mj4</a>"
      ],
      "text/plain": [
       "<IPython.core.display.HTML object>"
      ]
     },
     "metadata": {},
     "output_type": "display_data"
    },
    {
     "data": {
      "text/html": [
       " View project at <a href='https://wandb.ai/harshmp/truck-delay-classification' target=\"_blank\">https://wandb.ai/harshmp/truck-delay-classification</a>"
      ],
      "text/plain": [
       "<IPython.core.display.HTML object>"
      ]
     },
     "metadata": {},
     "output_type": "display_data"
    },
    {
     "data": {
      "text/html": [
       " View sweep at <a href='https://wandb.ai/harshmp/truck-delay-classification/sweeps/ilvq0mj4' target=\"_blank\">https://wandb.ai/harshmp/truck-delay-classification/sweeps/ilvq0mj4</a>"
      ],
      "text/plain": [
       "<IPython.core.display.HTML object>"
      ]
     },
     "metadata": {},
     "output_type": "display_data"
    },
    {
     "data": {
      "text/html": [
       " View run at <a href='https://wandb.ai/harshmp/truck-delay-classification/runs/7xhgwkyi' target=\"_blank\">https://wandb.ai/harshmp/truck-delay-classification/runs/7xhgwkyi</a>"
      ],
      "text/plain": [
       "<IPython.core.display.HTML object>"
      ]
     },
     "metadata": {},
     "output_type": "display_data"
    },
    {
     "name": "stdout",
     "output_type": "stream",
     "text": [
      "F1_score Train: 0.9859\n",
      "F1_score Valid: 0.5447\n",
      "F1_score Test: 0.6349\n"
     ]
    },
    {
     "name": "stderr",
     "output_type": "stream",
     "text": [
      "wandb: \n",
      "wandb: Plotting RandomForestClassifier.\n",
      "wandb: Logged feature importances.\n",
      "wandb: Logged confusion matrix.\n",
      "wandb: Logged summary metrics.\n",
      "wandb: Logged class proportions.\n",
      "wandb: Logged calibration curve.\n",
      "wandb: Logged roc curve.\n",
      "wandb: Logged precision-recall curve.\n"
     ]
    },
    {
     "data": {
      "application/vnd.jupyter.widget-view+json": {
       "model_id": "da5865d50bbb4ab3b7020fd54604ecfc",
       "version_major": 2,
       "version_minor": 0
      },
      "text/plain": [
       "VBox(children=(Label(value='5.680 MB of 5.680 MB uploaded\\r'), FloatProgress(value=1.0, max=1.0)))"
      ]
     },
     "metadata": {},
     "output_type": "display_data"
    },
    {
     "data": {
      "text/html": [
       "<style>\n",
       "    table.wandb td:nth-child(1) { padding: 0 10px; text-align: left ; width: auto;} td:nth-child(2) {text-align: left ; width: 100%}\n",
       "    .wandb-row { display: flex; flex-direction: row; flex-wrap: wrap; justify-content: flex-start; width: 100% }\n",
       "    .wandb-col { display: flex; flex-direction: column; flex-basis: 100%; flex: 1; padding: 10px; }\n",
       "    </style>\n",
       "<div class=\"wandb-row\"><div class=\"wandb-col\"><h3>Run history:</h3><br/><table class=\"wandb\"><tr><td>f1_score</td><td>▁</td></tr><tr><td>f1_score_train</td><td>▁</td></tr><tr><td>f1_score_valid</td><td>▁</td></tr></table><br/></div><div class=\"wandb-col\"><h3>Run summary:</h3><br/><table class=\"wandb\"><tr><td>f1_score</td><td>0.63492</td></tr><tr><td>f1_score_train</td><td>0.98585</td></tr><tr><td>f1_score_valid</td><td>0.54474</td></tr></table><br/></div></div>"
      ],
      "text/plain": [
       "<IPython.core.display.HTML object>"
      ]
     },
     "metadata": {},
     "output_type": "display_data"
    },
    {
     "data": {
      "text/html": [
       " View run <strong style=\"color:#cdcd00\">fragrant-sweep-3</strong> at: <a href='https://wandb.ai/harshmp/truck-delay-classification/runs/7xhgwkyi' target=\"_blank\">https://wandb.ai/harshmp/truck-delay-classification/runs/7xhgwkyi</a><br/>Synced 5 W&B file(s), 7 media file(s), 8 artifact file(s) and 1 other file(s)"
      ],
      "text/plain": [
       "<IPython.core.display.HTML object>"
      ]
     },
     "metadata": {},
     "output_type": "display_data"
    },
    {
     "data": {
      "text/html": [
       "Find logs at: <code>.\\wandb\\run-20240925_160639-7xhgwkyi\\logs</code>"
      ],
      "text/plain": [
       "<IPython.core.display.HTML object>"
      ]
     },
     "metadata": {},
     "output_type": "display_data"
    },
    {
     "name": "stderr",
     "output_type": "stream",
     "text": [
      "wandb: Agent Starting Run: qxggk1qx with config:\n",
      "wandb: \tmax_depth: None\n",
      "wandb: \tmin_samples_split: 2\n",
      "wandb: \tn_estimators: 20\n",
      "Failed to detect the name of this notebook, you can set it manually with the WANDB_NOTEBOOK_NAME environment variable to enable code saving.\n",
      "wandb: WARNING Ignored wandb.init() arg project when running a sweep.\n"
     ]
    },
    {
     "data": {
      "text/html": [
       "wandb version 0.18.1 is available!  To upgrade, please run:\n",
       " $ pip install wandb --upgrade"
      ],
      "text/plain": [
       "<IPython.core.display.HTML object>"
      ]
     },
     "metadata": {},
     "output_type": "display_data"
    },
    {
     "data": {
      "text/html": [
       "Tracking run with wandb version 0.16.1"
      ],
      "text/plain": [
       "<IPython.core.display.HTML object>"
      ]
     },
     "metadata": {},
     "output_type": "display_data"
    },
    {
     "data": {
      "text/html": [
       "Run data is saved locally in <code>e:\\Artificial Intelligence\\Projects\\Predictive-Truck-Delay-Management-in-Logistics\\wandb\\run-20240925_160659-qxggk1qx</code>"
      ],
      "text/plain": [
       "<IPython.core.display.HTML object>"
      ]
     },
     "metadata": {},
     "output_type": "display_data"
    },
    {
     "data": {
      "text/html": [
       "Syncing run <strong><a href='https://wandb.ai/harshmp/truck-delay-classification/runs/qxggk1qx' target=\"_blank\">usual-sweep-4</a></strong> to <a href='https://wandb.ai/harshmp/truck-delay-classification' target=\"_blank\">Weights & Biases</a> (<a href='https://wandb.me/run' target=\"_blank\">docs</a>)<br/>Sweep page: <a href='https://wandb.ai/harshmp/truck-delay-classification/sweeps/ilvq0mj4' target=\"_blank\">https://wandb.ai/harshmp/truck-delay-classification/sweeps/ilvq0mj4</a>"
      ],
      "text/plain": [
       "<IPython.core.display.HTML object>"
      ]
     },
     "metadata": {},
     "output_type": "display_data"
    },
    {
     "data": {
      "text/html": [
       " View project at <a href='https://wandb.ai/harshmp/truck-delay-classification' target=\"_blank\">https://wandb.ai/harshmp/truck-delay-classification</a>"
      ],
      "text/plain": [
       "<IPython.core.display.HTML object>"
      ]
     },
     "metadata": {},
     "output_type": "display_data"
    },
    {
     "data": {
      "text/html": [
       " View sweep at <a href='https://wandb.ai/harshmp/truck-delay-classification/sweeps/ilvq0mj4' target=\"_blank\">https://wandb.ai/harshmp/truck-delay-classification/sweeps/ilvq0mj4</a>"
      ],
      "text/plain": [
       "<IPython.core.display.HTML object>"
      ]
     },
     "metadata": {},
     "output_type": "display_data"
    },
    {
     "data": {
      "text/html": [
       " View run at <a href='https://wandb.ai/harshmp/truck-delay-classification/runs/qxggk1qx' target=\"_blank\">https://wandb.ai/harshmp/truck-delay-classification/runs/qxggk1qx</a>"
      ],
      "text/plain": [
       "<IPython.core.display.HTML object>"
      ]
     },
     "metadata": {},
     "output_type": "display_data"
    },
    {
     "name": "stdout",
     "output_type": "stream",
     "text": [
      "F1_score Train: 0.9916\n",
      "F1_score Valid: 0.5486\n",
      "F1_score Test: 0.6398\n"
     ]
    },
    {
     "name": "stderr",
     "output_type": "stream",
     "text": [
      "wandb: \n",
      "wandb: Plotting RandomForestClassifier.\n",
      "wandb: Logged feature importances.\n",
      "wandb: Logged confusion matrix.\n",
      "wandb: Logged summary metrics.\n",
      "wandb: Logged class proportions.\n",
      "wandb: Logged calibration curve.\n",
      "wandb: Logged roc curve.\n",
      "wandb: Logged precision-recall curve.\n"
     ]
    },
    {
     "data": {
      "application/vnd.jupyter.widget-view+json": {
       "model_id": "447c4872f97745c4affb2f1f92ef03a2",
       "version_major": 2,
       "version_minor": 0
      },
      "text/plain": [
       "VBox(children=(Label(value='7.117 MB of 7.117 MB uploaded\\r'), FloatProgress(value=1.0, max=1.0)))"
      ]
     },
     "metadata": {},
     "output_type": "display_data"
    },
    {
     "data": {
      "text/html": [
       "<style>\n",
       "    table.wandb td:nth-child(1) { padding: 0 10px; text-align: left ; width: auto;} td:nth-child(2) {text-align: left ; width: 100%}\n",
       "    .wandb-row { display: flex; flex-direction: row; flex-wrap: wrap; justify-content: flex-start; width: 100% }\n",
       "    .wandb-col { display: flex; flex-direction: column; flex-basis: 100%; flex: 1; padding: 10px; }\n",
       "    </style>\n",
       "<div class=\"wandb-row\"><div class=\"wandb-col\"><h3>Run history:</h3><br/><table class=\"wandb\"><tr><td>f1_score</td><td>▁</td></tr><tr><td>f1_score_train</td><td>▁</td></tr><tr><td>f1_score_valid</td><td>▁</td></tr></table><br/></div><div class=\"wandb-col\"><h3>Run summary:</h3><br/><table class=\"wandb\"><tr><td>f1_score</td><td>0.63981</td></tr><tr><td>f1_score_train</td><td>0.99163</td></tr><tr><td>f1_score_valid</td><td>0.54862</td></tr></table><br/></div></div>"
      ],
      "text/plain": [
       "<IPython.core.display.HTML object>"
      ]
     },
     "metadata": {},
     "output_type": "display_data"
    },
    {
     "data": {
      "text/html": [
       " View run <strong style=\"color:#cdcd00\">usual-sweep-4</strong> at: <a href='https://wandb.ai/harshmp/truck-delay-classification/runs/qxggk1qx' target=\"_blank\">https://wandb.ai/harshmp/truck-delay-classification/runs/qxggk1qx</a><br/>Synced 5 W&B file(s), 7 media file(s), 8 artifact file(s) and 1 other file(s)"
      ],
      "text/plain": [
       "<IPython.core.display.HTML object>"
      ]
     },
     "metadata": {},
     "output_type": "display_data"
    },
    {
     "data": {
      "text/html": [
       "Find logs at: <code>.\\wandb\\run-20240925_160659-qxggk1qx\\logs</code>"
      ],
      "text/plain": [
       "<IPython.core.display.HTML object>"
      ]
     },
     "metadata": {},
     "output_type": "display_data"
    },
    {
     "name": "stderr",
     "output_type": "stream",
     "text": [
      "wandb: Agent Starting Run: 2i5zg466 with config:\n",
      "wandb: \tmax_depth: None\n",
      "wandb: \tmin_samples_split: 4\n",
      "wandb: \tn_estimators: 8\n",
      "Failed to detect the name of this notebook, you can set it manually with the WANDB_NOTEBOOK_NAME environment variable to enable code saving.\n",
      "wandb: WARNING Ignored wandb.init() arg project when running a sweep.\n"
     ]
    },
    {
     "data": {
      "text/html": [
       "wandb version 0.18.1 is available!  To upgrade, please run:\n",
       " $ pip install wandb --upgrade"
      ],
      "text/plain": [
       "<IPython.core.display.HTML object>"
      ]
     },
     "metadata": {},
     "output_type": "display_data"
    },
    {
     "data": {
      "text/html": [
       "Tracking run with wandb version 0.16.1"
      ],
      "text/plain": [
       "<IPython.core.display.HTML object>"
      ]
     },
     "metadata": {},
     "output_type": "display_data"
    },
    {
     "data": {
      "text/html": [
       "Run data is saved locally in <code>e:\\Artificial Intelligence\\Projects\\Predictive-Truck-Delay-Management-in-Logistics\\wandb\\run-20240925_160726-2i5zg466</code>"
      ],
      "text/plain": [
       "<IPython.core.display.HTML object>"
      ]
     },
     "metadata": {},
     "output_type": "display_data"
    },
    {
     "data": {
      "text/html": [
       "Syncing run <strong><a href='https://wandb.ai/harshmp/truck-delay-classification/runs/2i5zg466' target=\"_blank\">summer-sweep-5</a></strong> to <a href='https://wandb.ai/harshmp/truck-delay-classification' target=\"_blank\">Weights & Biases</a> (<a href='https://wandb.me/run' target=\"_blank\">docs</a>)<br/>Sweep page: <a href='https://wandb.ai/harshmp/truck-delay-classification/sweeps/ilvq0mj4' target=\"_blank\">https://wandb.ai/harshmp/truck-delay-classification/sweeps/ilvq0mj4</a>"
      ],
      "text/plain": [
       "<IPython.core.display.HTML object>"
      ]
     },
     "metadata": {},
     "output_type": "display_data"
    },
    {
     "data": {
      "text/html": [
       " View project at <a href='https://wandb.ai/harshmp/truck-delay-classification' target=\"_blank\">https://wandb.ai/harshmp/truck-delay-classification</a>"
      ],
      "text/plain": [
       "<IPython.core.display.HTML object>"
      ]
     },
     "metadata": {},
     "output_type": "display_data"
    },
    {
     "data": {
      "text/html": [
       " View sweep at <a href='https://wandb.ai/harshmp/truck-delay-classification/sweeps/ilvq0mj4' target=\"_blank\">https://wandb.ai/harshmp/truck-delay-classification/sweeps/ilvq0mj4</a>"
      ],
      "text/plain": [
       "<IPython.core.display.HTML object>"
      ]
     },
     "metadata": {},
     "output_type": "display_data"
    },
    {
     "data": {
      "text/html": [
       " View run at <a href='https://wandb.ai/harshmp/truck-delay-classification/runs/2i5zg466' target=\"_blank\">https://wandb.ai/harshmp/truck-delay-classification/runs/2i5zg466</a>"
      ],
      "text/plain": [
       "<IPython.core.display.HTML object>"
      ]
     },
     "metadata": {},
     "output_type": "display_data"
    },
    {
     "name": "stdout",
     "output_type": "stream",
     "text": [
      "F1_score Train: 0.9523\n",
      "F1_score Valid: 0.508\n",
      "F1_score Test: 0.5909\n"
     ]
    },
    {
     "name": "stderr",
     "output_type": "stream",
     "text": [
      "wandb: \n",
      "wandb: Plotting RandomForestClassifier.\n",
      "wandb: Logged feature importances.\n",
      "wandb: Logged confusion matrix.\n",
      "wandb: Logged summary metrics.\n",
      "wandb: Logged class proportions.\n",
      "wandb: Logged calibration curve.\n",
      "wandb: Logged roc curve.\n",
      "wandb: Logged precision-recall curve.\n"
     ]
    },
    {
     "data": {
      "application/vnd.jupyter.widget-view+json": {
       "model_id": "fe7037d3e91e48f6a4258e584a8e2eea",
       "version_major": 2,
       "version_minor": 0
      },
      "text/plain": [
       "VBox(children=(Label(value='2.398 MB of 2.398 MB uploaded\\r'), FloatProgress(value=1.0, max=1.0)))"
      ]
     },
     "metadata": {},
     "output_type": "display_data"
    },
    {
     "data": {
      "text/html": [
       "<style>\n",
       "    table.wandb td:nth-child(1) { padding: 0 10px; text-align: left ; width: auto;} td:nth-child(2) {text-align: left ; width: 100%}\n",
       "    .wandb-row { display: flex; flex-direction: row; flex-wrap: wrap; justify-content: flex-start; width: 100% }\n",
       "    .wandb-col { display: flex; flex-direction: column; flex-basis: 100%; flex: 1; padding: 10px; }\n",
       "    </style>\n",
       "<div class=\"wandb-row\"><div class=\"wandb-col\"><h3>Run history:</h3><br/><table class=\"wandb\"><tr><td>f1_score</td><td>▁</td></tr><tr><td>f1_score_train</td><td>▁</td></tr><tr><td>f1_score_valid</td><td>▁</td></tr></table><br/></div><div class=\"wandb-col\"><h3>Run summary:</h3><br/><table class=\"wandb\"><tr><td>f1_score</td><td>0.59091</td></tr><tr><td>f1_score_train</td><td>0.95231</td></tr><tr><td>f1_score_valid</td><td>0.50796</td></tr></table><br/></div></div>"
      ],
      "text/plain": [
       "<IPython.core.display.HTML object>"
      ]
     },
     "metadata": {},
     "output_type": "display_data"
    },
    {
     "data": {
      "text/html": [
       " View run <strong style=\"color:#cdcd00\">summer-sweep-5</strong> at: <a href='https://wandb.ai/harshmp/truck-delay-classification/runs/2i5zg466' target=\"_blank\">https://wandb.ai/harshmp/truck-delay-classification/runs/2i5zg466</a><br/>Synced 5 W&B file(s), 7 media file(s), 8 artifact file(s) and 1 other file(s)"
      ],
      "text/plain": [
       "<IPython.core.display.HTML object>"
      ]
     },
     "metadata": {},
     "output_type": "display_data"
    },
    {
     "data": {
      "text/html": [
       "Find logs at: <code>.\\wandb\\run-20240925_160726-2i5zg466\\logs</code>"
      ],
      "text/plain": [
       "<IPython.core.display.HTML object>"
      ]
     },
     "metadata": {},
     "output_type": "display_data"
    },
    {
     "name": "stderr",
     "output_type": "stream",
     "text": [
      "wandb: Agent Starting Run: j0fo3ix1 with config:\n",
      "wandb: \tmax_depth: None\n",
      "wandb: \tmin_samples_split: 4\n",
      "wandb: \tn_estimators: 12\n",
      "Failed to detect the name of this notebook, you can set it manually with the WANDB_NOTEBOOK_NAME environment variable to enable code saving.\n",
      "wandb: WARNING Ignored wandb.init() arg project when running a sweep.\n"
     ]
    },
    {
     "data": {
      "text/html": [
       "wandb version 0.18.1 is available!  To upgrade, please run:\n",
       " $ pip install wandb --upgrade"
      ],
      "text/plain": [
       "<IPython.core.display.HTML object>"
      ]
     },
     "metadata": {},
     "output_type": "display_data"
    },
    {
     "data": {
      "text/html": [
       "Tracking run with wandb version 0.16.1"
      ],
      "text/plain": [
       "<IPython.core.display.HTML object>"
      ]
     },
     "metadata": {},
     "output_type": "display_data"
    },
    {
     "data": {
      "text/html": [
       "Run data is saved locally in <code>e:\\Artificial Intelligence\\Projects\\Predictive-Truck-Delay-Management-in-Logistics\\wandb\\run-20240925_160753-j0fo3ix1</code>"
      ],
      "text/plain": [
       "<IPython.core.display.HTML object>"
      ]
     },
     "metadata": {},
     "output_type": "display_data"
    },
    {
     "data": {
      "text/html": [
       "Syncing run <strong><a href='https://wandb.ai/harshmp/truck-delay-classification/runs/j0fo3ix1' target=\"_blank\">faithful-sweep-6</a></strong> to <a href='https://wandb.ai/harshmp/truck-delay-classification' target=\"_blank\">Weights & Biases</a> (<a href='https://wandb.me/run' target=\"_blank\">docs</a>)<br/>Sweep page: <a href='https://wandb.ai/harshmp/truck-delay-classification/sweeps/ilvq0mj4' target=\"_blank\">https://wandb.ai/harshmp/truck-delay-classification/sweeps/ilvq0mj4</a>"
      ],
      "text/plain": [
       "<IPython.core.display.HTML object>"
      ]
     },
     "metadata": {},
     "output_type": "display_data"
    },
    {
     "data": {
      "text/html": [
       " View project at <a href='https://wandb.ai/harshmp/truck-delay-classification' target=\"_blank\">https://wandb.ai/harshmp/truck-delay-classification</a>"
      ],
      "text/plain": [
       "<IPython.core.display.HTML object>"
      ]
     },
     "metadata": {},
     "output_type": "display_data"
    },
    {
     "data": {
      "text/html": [
       " View sweep at <a href='https://wandb.ai/harshmp/truck-delay-classification/sweeps/ilvq0mj4' target=\"_blank\">https://wandb.ai/harshmp/truck-delay-classification/sweeps/ilvq0mj4</a>"
      ],
      "text/plain": [
       "<IPython.core.display.HTML object>"
      ]
     },
     "metadata": {},
     "output_type": "display_data"
    },
    {
     "data": {
      "text/html": [
       " View run at <a href='https://wandb.ai/harshmp/truck-delay-classification/runs/j0fo3ix1' target=\"_blank\">https://wandb.ai/harshmp/truck-delay-classification/runs/j0fo3ix1</a>"
      ],
      "text/plain": [
       "<IPython.core.display.HTML object>"
      ]
     },
     "metadata": {},
     "output_type": "display_data"
    },
    {
     "name": "stdout",
     "output_type": "stream",
     "text": [
      "F1_score Train: 0.972\n",
      "F1_score Valid: 0.5502\n",
      "F1_score Test: 0.6458\n"
     ]
    },
    {
     "name": "stderr",
     "output_type": "stream",
     "text": [
      "wandb: \n",
      "wandb: Plotting RandomForestClassifier.\n",
      "wandb: Logged feature importances.\n",
      "wandb: Logged confusion matrix.\n",
      "wandb: Logged summary metrics.\n",
      "wandb: Logged class proportions.\n",
      "wandb: Logged calibration curve.\n",
      "wandb: Logged roc curve.\n",
      "wandb: Logged precision-recall curve.\n"
     ]
    },
    {
     "data": {
      "application/vnd.jupyter.widget-view+json": {
       "model_id": "57b62f442a4a45ab86b4413bc04bbe9e",
       "version_major": 2,
       "version_minor": 0
      },
      "text/plain": [
       "VBox(children=(Label(value='3.584 MB of 3.584 MB uploaded\\r'), FloatProgress(value=1.0, max=1.0)))"
      ]
     },
     "metadata": {},
     "output_type": "display_data"
    },
    {
     "data": {
      "text/html": [
       "<style>\n",
       "    table.wandb td:nth-child(1) { padding: 0 10px; text-align: left ; width: auto;} td:nth-child(2) {text-align: left ; width: 100%}\n",
       "    .wandb-row { display: flex; flex-direction: row; flex-wrap: wrap; justify-content: flex-start; width: 100% }\n",
       "    .wandb-col { display: flex; flex-direction: column; flex-basis: 100%; flex: 1; padding: 10px; }\n",
       "    </style>\n",
       "<div class=\"wandb-row\"><div class=\"wandb-col\"><h3>Run history:</h3><br/><table class=\"wandb\"><tr><td>f1_score</td><td>▁</td></tr><tr><td>f1_score_train</td><td>▁</td></tr><tr><td>f1_score_valid</td><td>▁</td></tr></table><br/></div><div class=\"wandb-col\"><h3>Run summary:</h3><br/><table class=\"wandb\"><tr><td>f1_score</td><td>0.6458</td></tr><tr><td>f1_score_train</td><td>0.97203</td></tr><tr><td>f1_score_valid</td><td>0.55022</td></tr></table><br/></div></div>"
      ],
      "text/plain": [
       "<IPython.core.display.HTML object>"
      ]
     },
     "metadata": {},
     "output_type": "display_data"
    },
    {
     "data": {
      "text/html": [
       " View run <strong style=\"color:#cdcd00\">faithful-sweep-6</strong> at: <a href='https://wandb.ai/harshmp/truck-delay-classification/runs/j0fo3ix1' target=\"_blank\">https://wandb.ai/harshmp/truck-delay-classification/runs/j0fo3ix1</a><br/>Synced 5 W&B file(s), 7 media file(s), 8 artifact file(s) and 1 other file(s)"
      ],
      "text/plain": [
       "<IPython.core.display.HTML object>"
      ]
     },
     "metadata": {},
     "output_type": "display_data"
    },
    {
     "data": {
      "text/html": [
       "Find logs at: <code>.\\wandb\\run-20240925_160753-j0fo3ix1\\logs</code>"
      ],
      "text/plain": [
       "<IPython.core.display.HTML object>"
      ]
     },
     "metadata": {},
     "output_type": "display_data"
    },
    {
     "name": "stderr",
     "output_type": "stream",
     "text": [
      "wandb: Agent Starting Run: alftcmbz with config:\n",
      "wandb: \tmax_depth: None\n",
      "wandb: \tmin_samples_split: 4\n",
      "wandb: \tn_estimators: 16\n",
      "Failed to detect the name of this notebook, you can set it manually with the WANDB_NOTEBOOK_NAME environment variable to enable code saving.\n",
      "wandb: WARNING Ignored wandb.init() arg project when running a sweep.\n"
     ]
    },
    {
     "data": {
      "text/html": [
       "wandb version 0.18.1 is available!  To upgrade, please run:\n",
       " $ pip install wandb --upgrade"
      ],
      "text/plain": [
       "<IPython.core.display.HTML object>"
      ]
     },
     "metadata": {},
     "output_type": "display_data"
    },
    {
     "data": {
      "text/html": [
       "Tracking run with wandb version 0.16.1"
      ],
      "text/plain": [
       "<IPython.core.display.HTML object>"
      ]
     },
     "metadata": {},
     "output_type": "display_data"
    },
    {
     "data": {
      "text/html": [
       "Run data is saved locally in <code>e:\\Artificial Intelligence\\Projects\\Predictive-Truck-Delay-Management-in-Logistics\\wandb\\run-20240925_160819-alftcmbz</code>"
      ],
      "text/plain": [
       "<IPython.core.display.HTML object>"
      ]
     },
     "metadata": {},
     "output_type": "display_data"
    },
    {
     "data": {
      "text/html": [
       "Syncing run <strong><a href='https://wandb.ai/harshmp/truck-delay-classification/runs/alftcmbz' target=\"_blank\">treasured-sweep-7</a></strong> to <a href='https://wandb.ai/harshmp/truck-delay-classification' target=\"_blank\">Weights & Biases</a> (<a href='https://wandb.me/run' target=\"_blank\">docs</a>)<br/>Sweep page: <a href='https://wandb.ai/harshmp/truck-delay-classification/sweeps/ilvq0mj4' target=\"_blank\">https://wandb.ai/harshmp/truck-delay-classification/sweeps/ilvq0mj4</a>"
      ],
      "text/plain": [
       "<IPython.core.display.HTML object>"
      ]
     },
     "metadata": {},
     "output_type": "display_data"
    },
    {
     "data": {
      "text/html": [
       " View project at <a href='https://wandb.ai/harshmp/truck-delay-classification' target=\"_blank\">https://wandb.ai/harshmp/truck-delay-classification</a>"
      ],
      "text/plain": [
       "<IPython.core.display.HTML object>"
      ]
     },
     "metadata": {},
     "output_type": "display_data"
    },
    {
     "data": {
      "text/html": [
       " View sweep at <a href='https://wandb.ai/harshmp/truck-delay-classification/sweeps/ilvq0mj4' target=\"_blank\">https://wandb.ai/harshmp/truck-delay-classification/sweeps/ilvq0mj4</a>"
      ],
      "text/plain": [
       "<IPython.core.display.HTML object>"
      ]
     },
     "metadata": {},
     "output_type": "display_data"
    },
    {
     "data": {
      "text/html": [
       " View run at <a href='https://wandb.ai/harshmp/truck-delay-classification/runs/alftcmbz' target=\"_blank\">https://wandb.ai/harshmp/truck-delay-classification/runs/alftcmbz</a>"
      ],
      "text/plain": [
       "<IPython.core.display.HTML object>"
      ]
     },
     "metadata": {},
     "output_type": "display_data"
    },
    {
     "name": "stdout",
     "output_type": "stream",
     "text": [
      "F1_score Train: 0.9857\n",
      "F1_score Valid: 0.5582\n",
      "F1_score Test: 0.6484\n"
     ]
    },
    {
     "name": "stderr",
     "output_type": "stream",
     "text": [
      "wandb: \n",
      "wandb: Plotting RandomForestClassifier.\n",
      "wandb: Logged feature importances.\n",
      "wandb: Logged confusion matrix.\n",
      "wandb: Logged summary metrics.\n",
      "wandb: Logged class proportions.\n",
      "wandb: Logged calibration curve.\n",
      "wandb: Logged roc curve.\n",
      "wandb: Logged precision-recall curve.\n"
     ]
    },
    {
     "data": {
      "application/vnd.jupyter.widget-view+json": {
       "model_id": "b32a66462ca644adac5de0f25396fc01",
       "version_major": 2,
       "version_minor": 0
      },
      "text/plain": [
       "VBox(children=(Label(value='4.782 MB of 4.782 MB uploaded\\r'), FloatProgress(value=1.0, max=1.0)))"
      ]
     },
     "metadata": {},
     "output_type": "display_data"
    },
    {
     "data": {
      "text/html": [
       "<style>\n",
       "    table.wandb td:nth-child(1) { padding: 0 10px; text-align: left ; width: auto;} td:nth-child(2) {text-align: left ; width: 100%}\n",
       "    .wandb-row { display: flex; flex-direction: row; flex-wrap: wrap; justify-content: flex-start; width: 100% }\n",
       "    .wandb-col { display: flex; flex-direction: column; flex-basis: 100%; flex: 1; padding: 10px; }\n",
       "    </style>\n",
       "<div class=\"wandb-row\"><div class=\"wandb-col\"><h3>Run history:</h3><br/><table class=\"wandb\"><tr><td>f1_score</td><td>▁</td></tr><tr><td>f1_score_train</td><td>▁</td></tr><tr><td>f1_score_valid</td><td>▁</td></tr></table><br/></div><div class=\"wandb-col\"><h3>Run summary:</h3><br/><table class=\"wandb\"><tr><td>f1_score</td><td>0.64836</td></tr><tr><td>f1_score_train</td><td>0.98568</td></tr><tr><td>f1_score_valid</td><td>0.55825</td></tr></table><br/></div></div>"
      ],
      "text/plain": [
       "<IPython.core.display.HTML object>"
      ]
     },
     "metadata": {},
     "output_type": "display_data"
    },
    {
     "data": {
      "text/html": [
       " View run <strong style=\"color:#cdcd00\">treasured-sweep-7</strong> at: <a href='https://wandb.ai/harshmp/truck-delay-classification/runs/alftcmbz' target=\"_blank\">https://wandb.ai/harshmp/truck-delay-classification/runs/alftcmbz</a><br/>Synced 5 W&B file(s), 7 media file(s), 8 artifact file(s) and 1 other file(s)"
      ],
      "text/plain": [
       "<IPython.core.display.HTML object>"
      ]
     },
     "metadata": {},
     "output_type": "display_data"
    },
    {
     "data": {
      "text/html": [
       "Find logs at: <code>.\\wandb\\run-20240925_160819-alftcmbz\\logs</code>"
      ],
      "text/plain": [
       "<IPython.core.display.HTML object>"
      ]
     },
     "metadata": {},
     "output_type": "display_data"
    },
    {
     "name": "stderr",
     "output_type": "stream",
     "text": [
      "wandb: Agent Starting Run: 1o4xnjj7 with config:\n",
      "wandb: \tmax_depth: None\n",
      "wandb: \tmin_samples_split: 4\n",
      "wandb: \tn_estimators: 20\n",
      "Failed to detect the name of this notebook, you can set it manually with the WANDB_NOTEBOOK_NAME environment variable to enable code saving.\n",
      "wandb: WARNING Ignored wandb.init() arg project when running a sweep.\n"
     ]
    },
    {
     "data": {
      "application/vnd.jupyter.widget-view+json": {
       "model_id": "6e7c399be2d54fb3af898e20a3d0cce2",
       "version_major": 2,
       "version_minor": 0
      },
      "text/plain": [
       "VBox(children=(Label(value='Waiting for wandb.init()...\\r'), FloatProgress(value=0.011288888888925108, max=1.0…"
      ]
     },
     "metadata": {},
     "output_type": "display_data"
    },
    {
     "data": {
      "text/html": [
       "wandb version 0.18.1 is available!  To upgrade, please run:\n",
       " $ pip install wandb --upgrade"
      ],
      "text/plain": [
       "<IPython.core.display.HTML object>"
      ]
     },
     "metadata": {},
     "output_type": "display_data"
    },
    {
     "data": {
      "text/html": [
       "Tracking run with wandb version 0.16.1"
      ],
      "text/plain": [
       "<IPython.core.display.HTML object>"
      ]
     },
     "metadata": {},
     "output_type": "display_data"
    },
    {
     "data": {
      "text/html": [
       "Run data is saved locally in <code>e:\\Artificial Intelligence\\Projects\\Predictive-Truck-Delay-Management-in-Logistics\\wandb\\run-20240925_160850-1o4xnjj7</code>"
      ],
      "text/plain": [
       "<IPython.core.display.HTML object>"
      ]
     },
     "metadata": {},
     "output_type": "display_data"
    },
    {
     "data": {
      "text/html": [
       "Syncing run <strong><a href='https://wandb.ai/harshmp/truck-delay-classification/runs/1o4xnjj7' target=\"_blank\">restful-sweep-8</a></strong> to <a href='https://wandb.ai/harshmp/truck-delay-classification' target=\"_blank\">Weights & Biases</a> (<a href='https://wandb.me/run' target=\"_blank\">docs</a>)<br/>Sweep page: <a href='https://wandb.ai/harshmp/truck-delay-classification/sweeps/ilvq0mj4' target=\"_blank\">https://wandb.ai/harshmp/truck-delay-classification/sweeps/ilvq0mj4</a>"
      ],
      "text/plain": [
       "<IPython.core.display.HTML object>"
      ]
     },
     "metadata": {},
     "output_type": "display_data"
    },
    {
     "data": {
      "text/html": [
       " View project at <a href='https://wandb.ai/harshmp/truck-delay-classification' target=\"_blank\">https://wandb.ai/harshmp/truck-delay-classification</a>"
      ],
      "text/plain": [
       "<IPython.core.display.HTML object>"
      ]
     },
     "metadata": {},
     "output_type": "display_data"
    },
    {
     "data": {
      "text/html": [
       " View sweep at <a href='https://wandb.ai/harshmp/truck-delay-classification/sweeps/ilvq0mj4' target=\"_blank\">https://wandb.ai/harshmp/truck-delay-classification/sweeps/ilvq0mj4</a>"
      ],
      "text/plain": [
       "<IPython.core.display.HTML object>"
      ]
     },
     "metadata": {},
     "output_type": "display_data"
    },
    {
     "data": {
      "text/html": [
       " View run at <a href='https://wandb.ai/harshmp/truck-delay-classification/runs/1o4xnjj7' target=\"_blank\">https://wandb.ai/harshmp/truck-delay-classification/runs/1o4xnjj7</a>"
      ],
      "text/plain": [
       "<IPython.core.display.HTML object>"
      ]
     },
     "metadata": {},
     "output_type": "display_data"
    },
    {
     "name": "stdout",
     "output_type": "stream",
     "text": [
      "F1_score Train: 0.9913\n",
      "F1_score Valid: 0.5646\n",
      "F1_score Test: 0.6702\n"
     ]
    },
    {
     "name": "stderr",
     "output_type": "stream",
     "text": [
      "wandb: \n",
      "wandb: Plotting RandomForestClassifier.\n",
      "wandb: Logged feature importances.\n",
      "wandb: Logged confusion matrix.\n",
      "wandb: Logged summary metrics.\n",
      "wandb: Logged class proportions.\n",
      "wandb: Logged calibration curve.\n",
      "wandb: Logged roc curve.\n",
      "wandb: Logged precision-recall curve.\n"
     ]
    },
    {
     "data": {
      "application/vnd.jupyter.widget-view+json": {
       "model_id": "6cef6eb10230473988070bb0f52da372",
       "version_major": 2,
       "version_minor": 0
      },
      "text/plain": [
       "VBox(children=(Label(value='6.011 MB of 6.011 MB uploaded\\r'), FloatProgress(value=1.0, max=1.0)))"
      ]
     },
     "metadata": {},
     "output_type": "display_data"
    },
    {
     "data": {
      "text/html": [
       "<style>\n",
       "    table.wandb td:nth-child(1) { padding: 0 10px; text-align: left ; width: auto;} td:nth-child(2) {text-align: left ; width: 100%}\n",
       "    .wandb-row { display: flex; flex-direction: row; flex-wrap: wrap; justify-content: flex-start; width: 100% }\n",
       "    .wandb-col { display: flex; flex-direction: column; flex-basis: 100%; flex: 1; padding: 10px; }\n",
       "    </style>\n",
       "<div class=\"wandb-row\"><div class=\"wandb-col\"><h3>Run history:</h3><br/><table class=\"wandb\"><tr><td>f1_score</td><td>▁</td></tr><tr><td>f1_score_train</td><td>▁</td></tr><tr><td>f1_score_valid</td><td>▁</td></tr></table><br/></div><div class=\"wandb-col\"><h3>Run summary:</h3><br/><table class=\"wandb\"><tr><td>f1_score</td><td>0.67018</td></tr><tr><td>f1_score_train</td><td>0.99126</td></tr><tr><td>f1_score_valid</td><td>0.56456</td></tr></table><br/></div></div>"
      ],
      "text/plain": [
       "<IPython.core.display.HTML object>"
      ]
     },
     "metadata": {},
     "output_type": "display_data"
    },
    {
     "data": {
      "text/html": [
       " View run <strong style=\"color:#cdcd00\">restful-sweep-8</strong> at: <a href='https://wandb.ai/harshmp/truck-delay-classification/runs/1o4xnjj7' target=\"_blank\">https://wandb.ai/harshmp/truck-delay-classification/runs/1o4xnjj7</a><br/>Synced 5 W&B file(s), 7 media file(s), 8 artifact file(s) and 1 other file(s)"
      ],
      "text/plain": [
       "<IPython.core.display.HTML object>"
      ]
     },
     "metadata": {},
     "output_type": "display_data"
    },
    {
     "data": {
      "text/html": [
       "Find logs at: <code>.\\wandb\\run-20240925_160850-1o4xnjj7\\logs</code>"
      ],
      "text/plain": [
       "<IPython.core.display.HTML object>"
      ]
     },
     "metadata": {},
     "output_type": "display_data"
    },
    {
     "name": "stderr",
     "output_type": "stream",
     "text": [
      "wandb: Agent Starting Run: zxw1fdgf with config:\n",
      "wandb: \tmax_depth: None\n",
      "wandb: \tmin_samples_split: 8\n",
      "wandb: \tn_estimators: 8\n",
      "Failed to detect the name of this notebook, you can set it manually with the WANDB_NOTEBOOK_NAME environment variable to enable code saving.\n",
      "wandb: WARNING Ignored wandb.init() arg project when running a sweep.\n"
     ]
    },
    {
     "data": {
      "text/html": [
       "wandb version 0.18.1 is available!  To upgrade, please run:\n",
       " $ pip install wandb --upgrade"
      ],
      "text/plain": [
       "<IPython.core.display.HTML object>"
      ]
     },
     "metadata": {},
     "output_type": "display_data"
    },
    {
     "data": {
      "text/html": [
       "Tracking run with wandb version 0.16.1"
      ],
      "text/plain": [
       "<IPython.core.display.HTML object>"
      ]
     },
     "metadata": {},
     "output_type": "display_data"
    },
    {
     "data": {
      "text/html": [
       "Run data is saved locally in <code>e:\\Artificial Intelligence\\Projects\\Predictive-Truck-Delay-Management-in-Logistics\\wandb\\run-20240925_160921-zxw1fdgf</code>"
      ],
      "text/plain": [
       "<IPython.core.display.HTML object>"
      ]
     },
     "metadata": {},
     "output_type": "display_data"
    },
    {
     "data": {
      "text/html": [
       "Syncing run <strong><a href='https://wandb.ai/harshmp/truck-delay-classification/runs/zxw1fdgf' target=\"_blank\">charmed-sweep-9</a></strong> to <a href='https://wandb.ai/harshmp/truck-delay-classification' target=\"_blank\">Weights & Biases</a> (<a href='https://wandb.me/run' target=\"_blank\">docs</a>)<br/>Sweep page: <a href='https://wandb.ai/harshmp/truck-delay-classification/sweeps/ilvq0mj4' target=\"_blank\">https://wandb.ai/harshmp/truck-delay-classification/sweeps/ilvq0mj4</a>"
      ],
      "text/plain": [
       "<IPython.core.display.HTML object>"
      ]
     },
     "metadata": {},
     "output_type": "display_data"
    },
    {
     "data": {
      "text/html": [
       " View project at <a href='https://wandb.ai/harshmp/truck-delay-classification' target=\"_blank\">https://wandb.ai/harshmp/truck-delay-classification</a>"
      ],
      "text/plain": [
       "<IPython.core.display.HTML object>"
      ]
     },
     "metadata": {},
     "output_type": "display_data"
    },
    {
     "data": {
      "text/html": [
       " View sweep at <a href='https://wandb.ai/harshmp/truck-delay-classification/sweeps/ilvq0mj4' target=\"_blank\">https://wandb.ai/harshmp/truck-delay-classification/sweeps/ilvq0mj4</a>"
      ],
      "text/plain": [
       "<IPython.core.display.HTML object>"
      ]
     },
     "metadata": {},
     "output_type": "display_data"
    },
    {
     "data": {
      "text/html": [
       " View run at <a href='https://wandb.ai/harshmp/truck-delay-classification/runs/zxw1fdgf' target=\"_blank\">https://wandb.ai/harshmp/truck-delay-classification/runs/zxw1fdgf</a>"
      ],
      "text/plain": [
       "<IPython.core.display.HTML object>"
      ]
     },
     "metadata": {},
     "output_type": "display_data"
    },
    {
     "name": "stdout",
     "output_type": "stream",
     "text": [
      "F1_score Train: 0.9323\n",
      "F1_score Valid: 0.5779\n",
      "F1_score Test: 0.6918\n"
     ]
    },
    {
     "name": "stderr",
     "output_type": "stream",
     "text": [
      "wandb: \n",
      "wandb: Plotting RandomForestClassifier.\n",
      "wandb: Logged feature importances.\n",
      "wandb: Logged confusion matrix.\n",
      "wandb: Logged summary metrics.\n",
      "wandb: Logged class proportions.\n",
      "wandb: Logged calibration curve.\n",
      "wandb: Logged roc curve.\n",
      "wandb: Logged precision-recall curve.\n"
     ]
    },
    {
     "data": {
      "application/vnd.jupyter.widget-view+json": {
       "model_id": "e6899a2b11be490cbef12e3028c0918d",
       "version_major": 2,
       "version_minor": 0
      },
      "text/plain": [
       "VBox(children=(Label(value='1.853 MB of 1.853 MB uploaded\\r'), FloatProgress(value=1.0, max=1.0)))"
      ]
     },
     "metadata": {},
     "output_type": "display_data"
    },
    {
     "data": {
      "text/html": [
       "<style>\n",
       "    table.wandb td:nth-child(1) { padding: 0 10px; text-align: left ; width: auto;} td:nth-child(2) {text-align: left ; width: 100%}\n",
       "    .wandb-row { display: flex; flex-direction: row; flex-wrap: wrap; justify-content: flex-start; width: 100% }\n",
       "    .wandb-col { display: flex; flex-direction: column; flex-basis: 100%; flex: 1; padding: 10px; }\n",
       "    </style>\n",
       "<div class=\"wandb-row\"><div class=\"wandb-col\"><h3>Run history:</h3><br/><table class=\"wandb\"><tr><td>f1_score</td><td>▁</td></tr><tr><td>f1_score_train</td><td>▁</td></tr><tr><td>f1_score_valid</td><td>▁</td></tr></table><br/></div><div class=\"wandb-col\"><h3>Run summary:</h3><br/><table class=\"wandb\"><tr><td>f1_score</td><td>0.69176</td></tr><tr><td>f1_score_train</td><td>0.93235</td></tr><tr><td>f1_score_valid</td><td>0.57793</td></tr></table><br/></div></div>"
      ],
      "text/plain": [
       "<IPython.core.display.HTML object>"
      ]
     },
     "metadata": {},
     "output_type": "display_data"
    },
    {
     "data": {
      "text/html": [
       " View run <strong style=\"color:#cdcd00\">charmed-sweep-9</strong> at: <a href='https://wandb.ai/harshmp/truck-delay-classification/runs/zxw1fdgf' target=\"_blank\">https://wandb.ai/harshmp/truck-delay-classification/runs/zxw1fdgf</a><br/>Synced 5 W&B file(s), 7 media file(s), 8 artifact file(s) and 1 other file(s)"
      ],
      "text/plain": [
       "<IPython.core.display.HTML object>"
      ]
     },
     "metadata": {},
     "output_type": "display_data"
    },
    {
     "data": {
      "text/html": [
       "Find logs at: <code>.\\wandb\\run-20240925_160921-zxw1fdgf\\logs</code>"
      ],
      "text/plain": [
       "<IPython.core.display.HTML object>"
      ]
     },
     "metadata": {},
     "output_type": "display_data"
    },
    {
     "name": "stderr",
     "output_type": "stream",
     "text": [
      "wandb: Agent Starting Run: rdpzxpy6 with config:\n",
      "wandb: \tmax_depth: None\n",
      "wandb: \tmin_samples_split: 8\n",
      "wandb: \tn_estimators: 12\n",
      "Failed to detect the name of this notebook, you can set it manually with the WANDB_NOTEBOOK_NAME environment variable to enable code saving.\n",
      "wandb: WARNING Ignored wandb.init() arg project when running a sweep.\n"
     ]
    },
    {
     "data": {
      "text/html": [
       "wandb version 0.18.1 is available!  To upgrade, please run:\n",
       " $ pip install wandb --upgrade"
      ],
      "text/plain": [
       "<IPython.core.display.HTML object>"
      ]
     },
     "metadata": {},
     "output_type": "display_data"
    },
    {
     "data": {
      "text/html": [
       "Tracking run with wandb version 0.16.1"
      ],
      "text/plain": [
       "<IPython.core.display.HTML object>"
      ]
     },
     "metadata": {},
     "output_type": "display_data"
    },
    {
     "data": {
      "text/html": [
       "Run data is saved locally in <code>e:\\Artificial Intelligence\\Projects\\Predictive-Truck-Delay-Management-in-Logistics\\wandb\\run-20240925_160942-rdpzxpy6</code>"
      ],
      "text/plain": [
       "<IPython.core.display.HTML object>"
      ]
     },
     "metadata": {},
     "output_type": "display_data"
    },
    {
     "data": {
      "text/html": [
       "Syncing run <strong><a href='https://wandb.ai/harshmp/truck-delay-classification/runs/rdpzxpy6' target=\"_blank\">denim-sweep-10</a></strong> to <a href='https://wandb.ai/harshmp/truck-delay-classification' target=\"_blank\">Weights & Biases</a> (<a href='https://wandb.me/run' target=\"_blank\">docs</a>)<br/>Sweep page: <a href='https://wandb.ai/harshmp/truck-delay-classification/sweeps/ilvq0mj4' target=\"_blank\">https://wandb.ai/harshmp/truck-delay-classification/sweeps/ilvq0mj4</a>"
      ],
      "text/plain": [
       "<IPython.core.display.HTML object>"
      ]
     },
     "metadata": {},
     "output_type": "display_data"
    },
    {
     "data": {
      "text/html": [
       " View project at <a href='https://wandb.ai/harshmp/truck-delay-classification' target=\"_blank\">https://wandb.ai/harshmp/truck-delay-classification</a>"
      ],
      "text/plain": [
       "<IPython.core.display.HTML object>"
      ]
     },
     "metadata": {},
     "output_type": "display_data"
    },
    {
     "data": {
      "text/html": [
       " View sweep at <a href='https://wandb.ai/harshmp/truck-delay-classification/sweeps/ilvq0mj4' target=\"_blank\">https://wandb.ai/harshmp/truck-delay-classification/sweeps/ilvq0mj4</a>"
      ],
      "text/plain": [
       "<IPython.core.display.HTML object>"
      ]
     },
     "metadata": {},
     "output_type": "display_data"
    },
    {
     "data": {
      "text/html": [
       " View run at <a href='https://wandb.ai/harshmp/truck-delay-classification/runs/rdpzxpy6' target=\"_blank\">https://wandb.ai/harshmp/truck-delay-classification/runs/rdpzxpy6</a>"
      ],
      "text/plain": [
       "<IPython.core.display.HTML object>"
      ]
     },
     "metadata": {},
     "output_type": "display_data"
    },
    {
     "name": "stdout",
     "output_type": "stream",
     "text": [
      "F1_score Train: 0.9486\n",
      "F1_score Valid: 0.5789\n",
      "F1_score Test: 0.7073\n"
     ]
    },
    {
     "name": "stderr",
     "output_type": "stream",
     "text": [
      "wandb: \n",
      "wandb: Plotting RandomForestClassifier.\n",
      "wandb: Logged feature importances.\n",
      "wandb: Logged confusion matrix.\n",
      "wandb: Logged summary metrics.\n",
      "wandb: Logged class proportions.\n",
      "wandb: Logged calibration curve.\n",
      "wandb: Logged roc curve.\n",
      "wandb: Logged precision-recall curve.\n"
     ]
    },
    {
     "data": {
      "application/vnd.jupyter.widget-view+json": {
       "model_id": "f6fc4d81c50e404180891e432a77af65",
       "version_major": 2,
       "version_minor": 0
      },
      "text/plain": [
       "VBox(children=(Label(value='2.748 MB of 2.748 MB uploaded\\r'), FloatProgress(value=1.0, max=1.0)))"
      ]
     },
     "metadata": {},
     "output_type": "display_data"
    },
    {
     "data": {
      "text/html": [
       "<style>\n",
       "    table.wandb td:nth-child(1) { padding: 0 10px; text-align: left ; width: auto;} td:nth-child(2) {text-align: left ; width: 100%}\n",
       "    .wandb-row { display: flex; flex-direction: row; flex-wrap: wrap; justify-content: flex-start; width: 100% }\n",
       "    .wandb-col { display: flex; flex-direction: column; flex-basis: 100%; flex: 1; padding: 10px; }\n",
       "    </style>\n",
       "<div class=\"wandb-row\"><div class=\"wandb-col\"><h3>Run history:</h3><br/><table class=\"wandb\"><tr><td>f1_score</td><td>▁</td></tr><tr><td>f1_score_train</td><td>▁</td></tr><tr><td>f1_score_valid</td><td>▁</td></tr></table><br/></div><div class=\"wandb-col\"><h3>Run summary:</h3><br/><table class=\"wandb\"><tr><td>f1_score</td><td>0.7073</td></tr><tr><td>f1_score_train</td><td>0.94861</td></tr><tr><td>f1_score_valid</td><td>0.57891</td></tr></table><br/></div></div>"
      ],
      "text/plain": [
       "<IPython.core.display.HTML object>"
      ]
     },
     "metadata": {},
     "output_type": "display_data"
    },
    {
     "data": {
      "text/html": [
       " View run <strong style=\"color:#cdcd00\">denim-sweep-10</strong> at: <a href='https://wandb.ai/harshmp/truck-delay-classification/runs/rdpzxpy6' target=\"_blank\">https://wandb.ai/harshmp/truck-delay-classification/runs/rdpzxpy6</a><br/>Synced 5 W&B file(s), 7 media file(s), 8 artifact file(s) and 1 other file(s)"
      ],
      "text/plain": [
       "<IPython.core.display.HTML object>"
      ]
     },
     "metadata": {},
     "output_type": "display_data"
    },
    {
     "data": {
      "text/html": [
       "Find logs at: <code>.\\wandb\\run-20240925_160942-rdpzxpy6\\logs</code>"
      ],
      "text/plain": [
       "<IPython.core.display.HTML object>"
      ]
     },
     "metadata": {},
     "output_type": "display_data"
    },
    {
     "name": "stderr",
     "output_type": "stream",
     "text": [
      "wandb: Agent Starting Run: uzhrrwd1 with config:\n",
      "wandb: \tmax_depth: None\n",
      "wandb: \tmin_samples_split: 8\n",
      "wandb: \tn_estimators: 16\n",
      "Failed to detect the name of this notebook, you can set it manually with the WANDB_NOTEBOOK_NAME environment variable to enable code saving.\n",
      "wandb: WARNING Ignored wandb.init() arg project when running a sweep.\n"
     ]
    },
    {
     "data": {
      "text/html": [
       "wandb version 0.18.1 is available!  To upgrade, please run:\n",
       " $ pip install wandb --upgrade"
      ],
      "text/plain": [
       "<IPython.core.display.HTML object>"
      ]
     },
     "metadata": {},
     "output_type": "display_data"
    },
    {
     "data": {
      "text/html": [
       "Tracking run with wandb version 0.16.1"
      ],
      "text/plain": [
       "<IPython.core.display.HTML object>"
      ]
     },
     "metadata": {},
     "output_type": "display_data"
    },
    {
     "data": {
      "text/html": [
       "Run data is saved locally in <code>e:\\Artificial Intelligence\\Projects\\Predictive-Truck-Delay-Management-in-Logistics\\wandb\\run-20240925_161002-uzhrrwd1</code>"
      ],
      "text/plain": [
       "<IPython.core.display.HTML object>"
      ]
     },
     "metadata": {},
     "output_type": "display_data"
    },
    {
     "data": {
      "text/html": [
       "Syncing run <strong><a href='https://wandb.ai/harshmp/truck-delay-classification/runs/uzhrrwd1' target=\"_blank\">leafy-sweep-11</a></strong> to <a href='https://wandb.ai/harshmp/truck-delay-classification' target=\"_blank\">Weights & Biases</a> (<a href='https://wandb.me/run' target=\"_blank\">docs</a>)<br/>Sweep page: <a href='https://wandb.ai/harshmp/truck-delay-classification/sweeps/ilvq0mj4' target=\"_blank\">https://wandb.ai/harshmp/truck-delay-classification/sweeps/ilvq0mj4</a>"
      ],
      "text/plain": [
       "<IPython.core.display.HTML object>"
      ]
     },
     "metadata": {},
     "output_type": "display_data"
    },
    {
     "data": {
      "text/html": [
       " View project at <a href='https://wandb.ai/harshmp/truck-delay-classification' target=\"_blank\">https://wandb.ai/harshmp/truck-delay-classification</a>"
      ],
      "text/plain": [
       "<IPython.core.display.HTML object>"
      ]
     },
     "metadata": {},
     "output_type": "display_data"
    },
    {
     "data": {
      "text/html": [
       " View sweep at <a href='https://wandb.ai/harshmp/truck-delay-classification/sweeps/ilvq0mj4' target=\"_blank\">https://wandb.ai/harshmp/truck-delay-classification/sweeps/ilvq0mj4</a>"
      ],
      "text/plain": [
       "<IPython.core.display.HTML object>"
      ]
     },
     "metadata": {},
     "output_type": "display_data"
    },
    {
     "data": {
      "text/html": [
       " View run at <a href='https://wandb.ai/harshmp/truck-delay-classification/runs/uzhrrwd1' target=\"_blank\">https://wandb.ai/harshmp/truck-delay-classification/runs/uzhrrwd1</a>"
      ],
      "text/plain": [
       "<IPython.core.display.HTML object>"
      ]
     },
     "metadata": {},
     "output_type": "display_data"
    },
    {
     "name": "stdout",
     "output_type": "stream",
     "text": [
      "F1_score Train: 0.9606\n",
      "F1_score Valid: 0.595\n",
      "F1_score Test: 0.6968\n"
     ]
    },
    {
     "name": "stderr",
     "output_type": "stream",
     "text": [
      "wandb: \n",
      "wandb: Plotting RandomForestClassifier.\n",
      "wandb: Logged feature importances.\n",
      "wandb: Logged confusion matrix.\n",
      "wandb: Logged summary metrics.\n",
      "wandb: Logged class proportions.\n",
      "wandb: Logged calibration curve.\n",
      "wandb: Logged roc curve.\n",
      "wandb: Logged precision-recall curve.\n"
     ]
    },
    {
     "data": {
      "application/vnd.jupyter.widget-view+json": {
       "model_id": "581704ac532d4f3b8eedb66cf987c73f",
       "version_major": 2,
       "version_minor": 0
      },
      "text/plain": [
       "VBox(children=(Label(value='3.629 MB of 3.629 MB uploaded\\r'), FloatProgress(value=1.0, max=1.0)))"
      ]
     },
     "metadata": {},
     "output_type": "display_data"
    },
    {
     "data": {
      "text/html": [
       "<style>\n",
       "    table.wandb td:nth-child(1) { padding: 0 10px; text-align: left ; width: auto;} td:nth-child(2) {text-align: left ; width: 100%}\n",
       "    .wandb-row { display: flex; flex-direction: row; flex-wrap: wrap; justify-content: flex-start; width: 100% }\n",
       "    .wandb-col { display: flex; flex-direction: column; flex-basis: 100%; flex: 1; padding: 10px; }\n",
       "    </style>\n",
       "<div class=\"wandb-row\"><div class=\"wandb-col\"><h3>Run history:</h3><br/><table class=\"wandb\"><tr><td>f1_score</td><td>▁</td></tr><tr><td>f1_score_train</td><td>▁</td></tr><tr><td>f1_score_valid</td><td>▁</td></tr></table><br/></div><div class=\"wandb-col\"><h3>Run summary:</h3><br/><table class=\"wandb\"><tr><td>f1_score</td><td>0.69677</td></tr><tr><td>f1_score_train</td><td>0.96063</td></tr><tr><td>f1_score_valid</td><td>0.59498</td></tr></table><br/></div></div>"
      ],
      "text/plain": [
       "<IPython.core.display.HTML object>"
      ]
     },
     "metadata": {},
     "output_type": "display_data"
    },
    {
     "data": {
      "text/html": [
       " View run <strong style=\"color:#cdcd00\">leafy-sweep-11</strong> at: <a href='https://wandb.ai/harshmp/truck-delay-classification/runs/uzhrrwd1' target=\"_blank\">https://wandb.ai/harshmp/truck-delay-classification/runs/uzhrrwd1</a><br/>Synced 5 W&B file(s), 7 media file(s), 8 artifact file(s) and 1 other file(s)"
      ],
      "text/plain": [
       "<IPython.core.display.HTML object>"
      ]
     },
     "metadata": {},
     "output_type": "display_data"
    },
    {
     "data": {
      "text/html": [
       "Find logs at: <code>.\\wandb\\run-20240925_161002-uzhrrwd1\\logs</code>"
      ],
      "text/plain": [
       "<IPython.core.display.HTML object>"
      ]
     },
     "metadata": {},
     "output_type": "display_data"
    },
    {
     "name": "stderr",
     "output_type": "stream",
     "text": [
      "wandb: Agent Starting Run: y11k3qur with config:\n",
      "wandb: \tmax_depth: None\n",
      "wandb: \tmin_samples_split: 8\n",
      "wandb: \tn_estimators: 20\n",
      "Failed to detect the name of this notebook, you can set it manually with the WANDB_NOTEBOOK_NAME environment variable to enable code saving.\n",
      "wandb: WARNING Ignored wandb.init() arg project when running a sweep.\n"
     ]
    },
    {
     "data": {
      "text/html": [
       "wandb version 0.18.1 is available!  To upgrade, please run:\n",
       " $ pip install wandb --upgrade"
      ],
      "text/plain": [
       "<IPython.core.display.HTML object>"
      ]
     },
     "metadata": {},
     "output_type": "display_data"
    },
    {
     "data": {
      "text/html": [
       "Tracking run with wandb version 0.16.1"
      ],
      "text/plain": [
       "<IPython.core.display.HTML object>"
      ]
     },
     "metadata": {},
     "output_type": "display_data"
    },
    {
     "data": {
      "text/html": [
       "Run data is saved locally in <code>e:\\Artificial Intelligence\\Projects\\Predictive-Truck-Delay-Management-in-Logistics\\wandb\\run-20240925_161027-y11k3qur</code>"
      ],
      "text/plain": [
       "<IPython.core.display.HTML object>"
      ]
     },
     "metadata": {},
     "output_type": "display_data"
    },
    {
     "data": {
      "text/html": [
       "Syncing run <strong><a href='https://wandb.ai/harshmp/truck-delay-classification/runs/y11k3qur' target=\"_blank\">ethereal-sweep-12</a></strong> to <a href='https://wandb.ai/harshmp/truck-delay-classification' target=\"_blank\">Weights & Biases</a> (<a href='https://wandb.me/run' target=\"_blank\">docs</a>)<br/>Sweep page: <a href='https://wandb.ai/harshmp/truck-delay-classification/sweeps/ilvq0mj4' target=\"_blank\">https://wandb.ai/harshmp/truck-delay-classification/sweeps/ilvq0mj4</a>"
      ],
      "text/plain": [
       "<IPython.core.display.HTML object>"
      ]
     },
     "metadata": {},
     "output_type": "display_data"
    },
    {
     "data": {
      "text/html": [
       " View project at <a href='https://wandb.ai/harshmp/truck-delay-classification' target=\"_blank\">https://wandb.ai/harshmp/truck-delay-classification</a>"
      ],
      "text/plain": [
       "<IPython.core.display.HTML object>"
      ]
     },
     "metadata": {},
     "output_type": "display_data"
    },
    {
     "data": {
      "text/html": [
       " View sweep at <a href='https://wandb.ai/harshmp/truck-delay-classification/sweeps/ilvq0mj4' target=\"_blank\">https://wandb.ai/harshmp/truck-delay-classification/sweeps/ilvq0mj4</a>"
      ],
      "text/plain": [
       "<IPython.core.display.HTML object>"
      ]
     },
     "metadata": {},
     "output_type": "display_data"
    },
    {
     "data": {
      "text/html": [
       " View run at <a href='https://wandb.ai/harshmp/truck-delay-classification/runs/y11k3qur' target=\"_blank\">https://wandb.ai/harshmp/truck-delay-classification/runs/y11k3qur</a>"
      ],
      "text/plain": [
       "<IPython.core.display.HTML object>"
      ]
     },
     "metadata": {},
     "output_type": "display_data"
    },
    {
     "name": "stdout",
     "output_type": "stream",
     "text": [
      "F1_score Train: 0.9675\n",
      "F1_score Valid: 0.5894\n",
      "F1_score Test: 0.7043\n"
     ]
    },
    {
     "name": "stderr",
     "output_type": "stream",
     "text": [
      "wandb: \n",
      "wandb: Plotting RandomForestClassifier.\n",
      "wandb: Logged feature importances.\n",
      "wandb: Logged confusion matrix.\n",
      "wandb: Logged summary metrics.\n",
      "wandb: Logged class proportions.\n",
      "wandb: Logged calibration curve.\n",
      "wandb: Logged roc curve.\n",
      "wandb: Logged precision-recall curve.\n"
     ]
    },
    {
     "data": {
      "application/vnd.jupyter.widget-view+json": {
       "model_id": "ac9178b9eba44dcc99ab10f9a7ea96fc",
       "version_major": 2,
       "version_minor": 0
      },
      "text/plain": [
       "VBox(children=(Label(value='4.547 MB of 4.547 MB uploaded\\r'), FloatProgress(value=1.0, max=1.0)))"
      ]
     },
     "metadata": {},
     "output_type": "display_data"
    },
    {
     "data": {
      "text/html": [
       "<style>\n",
       "    table.wandb td:nth-child(1) { padding: 0 10px; text-align: left ; width: auto;} td:nth-child(2) {text-align: left ; width: 100%}\n",
       "    .wandb-row { display: flex; flex-direction: row; flex-wrap: wrap; justify-content: flex-start; width: 100% }\n",
       "    .wandb-col { display: flex; flex-direction: column; flex-basis: 100%; flex: 1; padding: 10px; }\n",
       "    </style>\n",
       "<div class=\"wandb-row\"><div class=\"wandb-col\"><h3>Run history:</h3><br/><table class=\"wandb\"><tr><td>f1_score</td><td>▁</td></tr><tr><td>f1_score_train</td><td>▁</td></tr><tr><td>f1_score_valid</td><td>▁</td></tr></table><br/></div><div class=\"wandb-col\"><h3>Run summary:</h3><br/><table class=\"wandb\"><tr><td>f1_score</td><td>0.70427</td></tr><tr><td>f1_score_train</td><td>0.96748</td></tr><tr><td>f1_score_valid</td><td>0.58935</td></tr></table><br/></div></div>"
      ],
      "text/plain": [
       "<IPython.core.display.HTML object>"
      ]
     },
     "metadata": {},
     "output_type": "display_data"
    },
    {
     "data": {
      "text/html": [
       " View run <strong style=\"color:#cdcd00\">ethereal-sweep-12</strong> at: <a href='https://wandb.ai/harshmp/truck-delay-classification/runs/y11k3qur' target=\"_blank\">https://wandb.ai/harshmp/truck-delay-classification/runs/y11k3qur</a><br/>Synced 5 W&B file(s), 7 media file(s), 8 artifact file(s) and 1 other file(s)"
      ],
      "text/plain": [
       "<IPython.core.display.HTML object>"
      ]
     },
     "metadata": {},
     "output_type": "display_data"
    },
    {
     "data": {
      "text/html": [
       "Find logs at: <code>.\\wandb\\run-20240925_161027-y11k3qur\\logs</code>"
      ],
      "text/plain": [
       "<IPython.core.display.HTML object>"
      ]
     },
     "metadata": {},
     "output_type": "display_data"
    },
    {
     "name": "stderr",
     "output_type": "stream",
     "text": [
      "wandb: Agent Starting Run: 3vzics4c with config:\n",
      "wandb: \tmax_depth: None\n",
      "wandb: \tmin_samples_split: 12\n",
      "wandb: \tn_estimators: 8\n",
      "Failed to detect the name of this notebook, you can set it manually with the WANDB_NOTEBOOK_NAME environment variable to enable code saving.\n",
      "wandb: WARNING Ignored wandb.init() arg project when running a sweep.\n"
     ]
    },
    {
     "data": {
      "text/html": [
       "wandb version 0.18.1 is available!  To upgrade, please run:\n",
       " $ pip install wandb --upgrade"
      ],
      "text/plain": [
       "<IPython.core.display.HTML object>"
      ]
     },
     "metadata": {},
     "output_type": "display_data"
    },
    {
     "data": {
      "text/html": [
       "Tracking run with wandb version 0.16.1"
      ],
      "text/plain": [
       "<IPython.core.display.HTML object>"
      ]
     },
     "metadata": {},
     "output_type": "display_data"
    },
    {
     "data": {
      "text/html": [
       "Run data is saved locally in <code>e:\\Artificial Intelligence\\Projects\\Predictive-Truck-Delay-Management-in-Logistics\\wandb\\run-20240925_161048-3vzics4c</code>"
      ],
      "text/plain": [
       "<IPython.core.display.HTML object>"
      ]
     },
     "metadata": {},
     "output_type": "display_data"
    },
    {
     "data": {
      "text/html": [
       "Syncing run <strong><a href='https://wandb.ai/harshmp/truck-delay-classification/runs/3vzics4c' target=\"_blank\">glorious-sweep-13</a></strong> to <a href='https://wandb.ai/harshmp/truck-delay-classification' target=\"_blank\">Weights & Biases</a> (<a href='https://wandb.me/run' target=\"_blank\">docs</a>)<br/>Sweep page: <a href='https://wandb.ai/harshmp/truck-delay-classification/sweeps/ilvq0mj4' target=\"_blank\">https://wandb.ai/harshmp/truck-delay-classification/sweeps/ilvq0mj4</a>"
      ],
      "text/plain": [
       "<IPython.core.display.HTML object>"
      ]
     },
     "metadata": {},
     "output_type": "display_data"
    },
    {
     "data": {
      "text/html": [
       " View project at <a href='https://wandb.ai/harshmp/truck-delay-classification' target=\"_blank\">https://wandb.ai/harshmp/truck-delay-classification</a>"
      ],
      "text/plain": [
       "<IPython.core.display.HTML object>"
      ]
     },
     "metadata": {},
     "output_type": "display_data"
    },
    {
     "data": {
      "text/html": [
       " View sweep at <a href='https://wandb.ai/harshmp/truck-delay-classification/sweeps/ilvq0mj4' target=\"_blank\">https://wandb.ai/harshmp/truck-delay-classification/sweeps/ilvq0mj4</a>"
      ],
      "text/plain": [
       "<IPython.core.display.HTML object>"
      ]
     },
     "metadata": {},
     "output_type": "display_data"
    },
    {
     "data": {
      "text/html": [
       " View run at <a href='https://wandb.ai/harshmp/truck-delay-classification/runs/3vzics4c' target=\"_blank\">https://wandb.ai/harshmp/truck-delay-classification/runs/3vzics4c</a>"
      ],
      "text/plain": [
       "<IPython.core.display.HTML object>"
      ]
     },
     "metadata": {},
     "output_type": "display_data"
    },
    {
     "name": "stdout",
     "output_type": "stream",
     "text": [
      "F1_score Train: 0.9024\n",
      "F1_score Valid: 0.5843\n",
      "F1_score Test: 0.6993\n"
     ]
    },
    {
     "name": "stderr",
     "output_type": "stream",
     "text": [
      "wandb: \n",
      "wandb: Plotting RandomForestClassifier.\n",
      "wandb: Logged feature importances.\n",
      "wandb: Logged confusion matrix.\n",
      "wandb: Logged summary metrics.\n",
      "wandb: Logged class proportions.\n",
      "wandb: Logged calibration curve.\n",
      "wandb: Logged roc curve.\n",
      "wandb: Logged precision-recall curve.\n"
     ]
    },
    {
     "data": {
      "application/vnd.jupyter.widget-view+json": {
       "model_id": "b420d479d9f9424daee8c17312301bf0",
       "version_major": 2,
       "version_minor": 0
      },
      "text/plain": [
       "VBox(children=(Label(value='1.509 MB of 1.509 MB uploaded\\r'), FloatProgress(value=1.0, max=1.0)))"
      ]
     },
     "metadata": {},
     "output_type": "display_data"
    },
    {
     "data": {
      "text/html": [
       "<style>\n",
       "    table.wandb td:nth-child(1) { padding: 0 10px; text-align: left ; width: auto;} td:nth-child(2) {text-align: left ; width: 100%}\n",
       "    .wandb-row { display: flex; flex-direction: row; flex-wrap: wrap; justify-content: flex-start; width: 100% }\n",
       "    .wandb-col { display: flex; flex-direction: column; flex-basis: 100%; flex: 1; padding: 10px; }\n",
       "    </style>\n",
       "<div class=\"wandb-row\"><div class=\"wandb-col\"><h3>Run history:</h3><br/><table class=\"wandb\"><tr><td>f1_score</td><td>▁</td></tr><tr><td>f1_score_train</td><td>▁</td></tr><tr><td>f1_score_valid</td><td>▁</td></tr></table><br/></div><div class=\"wandb-col\"><h3>Run summary:</h3><br/><table class=\"wandb\"><tr><td>f1_score</td><td>0.69929</td></tr><tr><td>f1_score_train</td><td>0.90242</td></tr><tr><td>f1_score_valid</td><td>0.58428</td></tr></table><br/></div></div>"
      ],
      "text/plain": [
       "<IPython.core.display.HTML object>"
      ]
     },
     "metadata": {},
     "output_type": "display_data"
    },
    {
     "data": {
      "text/html": [
       " View run <strong style=\"color:#cdcd00\">glorious-sweep-13</strong> at: <a href='https://wandb.ai/harshmp/truck-delay-classification/runs/3vzics4c' target=\"_blank\">https://wandb.ai/harshmp/truck-delay-classification/runs/3vzics4c</a><br/>Synced 5 W&B file(s), 7 media file(s), 8 artifact file(s) and 1 other file(s)"
      ],
      "text/plain": [
       "<IPython.core.display.HTML object>"
      ]
     },
     "metadata": {},
     "output_type": "display_data"
    },
    {
     "data": {
      "text/html": [
       "Find logs at: <code>.\\wandb\\run-20240925_161048-3vzics4c\\logs</code>"
      ],
      "text/plain": [
       "<IPython.core.display.HTML object>"
      ]
     },
     "metadata": {},
     "output_type": "display_data"
    },
    {
     "name": "stderr",
     "output_type": "stream",
     "text": [
      "wandb: Agent Starting Run: aci5chi9 with config:\n",
      "wandb: \tmax_depth: None\n",
      "wandb: \tmin_samples_split: 12\n",
      "wandb: \tn_estimators: 12\n",
      "Failed to detect the name of this notebook, you can set it manually with the WANDB_NOTEBOOK_NAME environment variable to enable code saving.\n",
      "wandb: WARNING Ignored wandb.init() arg project when running a sweep.\n"
     ]
    },
    {
     "data": {
      "text/html": [
       "wandb version 0.18.1 is available!  To upgrade, please run:\n",
       " $ pip install wandb --upgrade"
      ],
      "text/plain": [
       "<IPython.core.display.HTML object>"
      ]
     },
     "metadata": {},
     "output_type": "display_data"
    },
    {
     "data": {
      "text/html": [
       "Tracking run with wandb version 0.16.1"
      ],
      "text/plain": [
       "<IPython.core.display.HTML object>"
      ]
     },
     "metadata": {},
     "output_type": "display_data"
    },
    {
     "data": {
      "text/html": [
       "Run data is saved locally in <code>e:\\Artificial Intelligence\\Projects\\Predictive-Truck-Delay-Management-in-Logistics\\wandb\\run-20240925_161108-aci5chi9</code>"
      ],
      "text/plain": [
       "<IPython.core.display.HTML object>"
      ]
     },
     "metadata": {},
     "output_type": "display_data"
    },
    {
     "data": {
      "text/html": [
       "Syncing run <strong><a href='https://wandb.ai/harshmp/truck-delay-classification/runs/aci5chi9' target=\"_blank\">youthful-sweep-14</a></strong> to <a href='https://wandb.ai/harshmp/truck-delay-classification' target=\"_blank\">Weights & Biases</a> (<a href='https://wandb.me/run' target=\"_blank\">docs</a>)<br/>Sweep page: <a href='https://wandb.ai/harshmp/truck-delay-classification/sweeps/ilvq0mj4' target=\"_blank\">https://wandb.ai/harshmp/truck-delay-classification/sweeps/ilvq0mj4</a>"
      ],
      "text/plain": [
       "<IPython.core.display.HTML object>"
      ]
     },
     "metadata": {},
     "output_type": "display_data"
    },
    {
     "data": {
      "text/html": [
       " View project at <a href='https://wandb.ai/harshmp/truck-delay-classification' target=\"_blank\">https://wandb.ai/harshmp/truck-delay-classification</a>"
      ],
      "text/plain": [
       "<IPython.core.display.HTML object>"
      ]
     },
     "metadata": {},
     "output_type": "display_data"
    },
    {
     "data": {
      "text/html": [
       " View sweep at <a href='https://wandb.ai/harshmp/truck-delay-classification/sweeps/ilvq0mj4' target=\"_blank\">https://wandb.ai/harshmp/truck-delay-classification/sweeps/ilvq0mj4</a>"
      ],
      "text/plain": [
       "<IPython.core.display.HTML object>"
      ]
     },
     "metadata": {},
     "output_type": "display_data"
    },
    {
     "data": {
      "text/html": [
       " View run at <a href='https://wandb.ai/harshmp/truck-delay-classification/runs/aci5chi9' target=\"_blank\">https://wandb.ai/harshmp/truck-delay-classification/runs/aci5chi9</a>"
      ],
      "text/plain": [
       "<IPython.core.display.HTML object>"
      ]
     },
     "metadata": {},
     "output_type": "display_data"
    },
    {
     "name": "stdout",
     "output_type": "stream",
     "text": [
      "F1_score Train: 0.9148\n",
      "F1_score Valid: 0.6025\n",
      "F1_score Test: 0.712\n"
     ]
    },
    {
     "name": "stderr",
     "output_type": "stream",
     "text": [
      "wandb: \n",
      "wandb: Plotting RandomForestClassifier.\n",
      "wandb: Logged feature importances.\n",
      "wandb: Logged confusion matrix.\n",
      "wandb: Logged summary metrics.\n",
      "wandb: Logged class proportions.\n",
      "wandb: Logged calibration curve.\n",
      "wandb: Logged roc curve.\n",
      "wandb: Logged precision-recall curve.\n"
     ]
    },
    {
     "data": {
      "application/vnd.jupyter.widget-view+json": {
       "model_id": "32f1de671c9b4389aecd520a19da3a39",
       "version_major": 2,
       "version_minor": 0
      },
      "text/plain": [
       "VBox(children=(Label(value='2.226 MB of 2.226 MB uploaded\\r'), FloatProgress(value=1.0, max=1.0)))"
      ]
     },
     "metadata": {},
     "output_type": "display_data"
    },
    {
     "data": {
      "text/html": [
       "<style>\n",
       "    table.wandb td:nth-child(1) { padding: 0 10px; text-align: left ; width: auto;} td:nth-child(2) {text-align: left ; width: 100%}\n",
       "    .wandb-row { display: flex; flex-direction: row; flex-wrap: wrap; justify-content: flex-start; width: 100% }\n",
       "    .wandb-col { display: flex; flex-direction: column; flex-basis: 100%; flex: 1; padding: 10px; }\n",
       "    </style>\n",
       "<div class=\"wandb-row\"><div class=\"wandb-col\"><h3>Run history:</h3><br/><table class=\"wandb\"><tr><td>f1_score</td><td>▁</td></tr><tr><td>f1_score_train</td><td>▁</td></tr><tr><td>f1_score_valid</td><td>▁</td></tr></table><br/></div><div class=\"wandb-col\"><h3>Run summary:</h3><br/><table class=\"wandb\"><tr><td>f1_score</td><td>0.71196</td></tr><tr><td>f1_score_train</td><td>0.91483</td></tr><tr><td>f1_score_valid</td><td>0.60248</td></tr></table><br/></div></div>"
      ],
      "text/plain": [
       "<IPython.core.display.HTML object>"
      ]
     },
     "metadata": {},
     "output_type": "display_data"
    },
    {
     "data": {
      "text/html": [
       " View run <strong style=\"color:#cdcd00\">youthful-sweep-14</strong> at: <a href='https://wandb.ai/harshmp/truck-delay-classification/runs/aci5chi9' target=\"_blank\">https://wandb.ai/harshmp/truck-delay-classification/runs/aci5chi9</a><br/>Synced 5 W&B file(s), 7 media file(s), 8 artifact file(s) and 1 other file(s)"
      ],
      "text/plain": [
       "<IPython.core.display.HTML object>"
      ]
     },
     "metadata": {},
     "output_type": "display_data"
    },
    {
     "data": {
      "text/html": [
       "Find logs at: <code>.\\wandb\\run-20240925_161108-aci5chi9\\logs</code>"
      ],
      "text/plain": [
       "<IPython.core.display.HTML object>"
      ]
     },
     "metadata": {},
     "output_type": "display_data"
    },
    {
     "name": "stderr",
     "output_type": "stream",
     "text": [
      "wandb: Agent Starting Run: jom0jxi0 with config:\n",
      "wandb: \tmax_depth: None\n",
      "wandb: \tmin_samples_split: 12\n",
      "wandb: \tn_estimators: 16\n",
      "Failed to detect the name of this notebook, you can set it manually with the WANDB_NOTEBOOK_NAME environment variable to enable code saving.\n",
      "wandb: WARNING Ignored wandb.init() arg project when running a sweep.\n"
     ]
    },
    {
     "data": {
      "text/html": [
       "wandb version 0.18.1 is available!  To upgrade, please run:\n",
       " $ pip install wandb --upgrade"
      ],
      "text/plain": [
       "<IPython.core.display.HTML object>"
      ]
     },
     "metadata": {},
     "output_type": "display_data"
    },
    {
     "data": {
      "text/html": [
       "Tracking run with wandb version 0.16.1"
      ],
      "text/plain": [
       "<IPython.core.display.HTML object>"
      ]
     },
     "metadata": {},
     "output_type": "display_data"
    },
    {
     "data": {
      "text/html": [
       "Run data is saved locally in <code>e:\\Artificial Intelligence\\Projects\\Predictive-Truck-Delay-Management-in-Logistics\\wandb\\run-20240925_161128-jom0jxi0</code>"
      ],
      "text/plain": [
       "<IPython.core.display.HTML object>"
      ]
     },
     "metadata": {},
     "output_type": "display_data"
    },
    {
     "data": {
      "text/html": [
       "Syncing run <strong><a href='https://wandb.ai/harshmp/truck-delay-classification/runs/jom0jxi0' target=\"_blank\">generous-sweep-15</a></strong> to <a href='https://wandb.ai/harshmp/truck-delay-classification' target=\"_blank\">Weights & Biases</a> (<a href='https://wandb.me/run' target=\"_blank\">docs</a>)<br/>Sweep page: <a href='https://wandb.ai/harshmp/truck-delay-classification/sweeps/ilvq0mj4' target=\"_blank\">https://wandb.ai/harshmp/truck-delay-classification/sweeps/ilvq0mj4</a>"
      ],
      "text/plain": [
       "<IPython.core.display.HTML object>"
      ]
     },
     "metadata": {},
     "output_type": "display_data"
    },
    {
     "data": {
      "text/html": [
       " View project at <a href='https://wandb.ai/harshmp/truck-delay-classification' target=\"_blank\">https://wandb.ai/harshmp/truck-delay-classification</a>"
      ],
      "text/plain": [
       "<IPython.core.display.HTML object>"
      ]
     },
     "metadata": {},
     "output_type": "display_data"
    },
    {
     "data": {
      "text/html": [
       " View sweep at <a href='https://wandb.ai/harshmp/truck-delay-classification/sweeps/ilvq0mj4' target=\"_blank\">https://wandb.ai/harshmp/truck-delay-classification/sweeps/ilvq0mj4</a>"
      ],
      "text/plain": [
       "<IPython.core.display.HTML object>"
      ]
     },
     "metadata": {},
     "output_type": "display_data"
    },
    {
     "data": {
      "text/html": [
       " View run at <a href='https://wandb.ai/harshmp/truck-delay-classification/runs/jom0jxi0' target=\"_blank\">https://wandb.ai/harshmp/truck-delay-classification/runs/jom0jxi0</a>"
      ],
      "text/plain": [
       "<IPython.core.display.HTML object>"
      ]
     },
     "metadata": {},
     "output_type": "display_data"
    },
    {
     "name": "stdout",
     "output_type": "stream",
     "text": [
      "F1_score Train: 0.9314\n",
      "F1_score Valid: 0.6113\n",
      "F1_score Test: 0.7203\n"
     ]
    },
    {
     "name": "stderr",
     "output_type": "stream",
     "text": [
      "wandb: \n",
      "wandb: Plotting RandomForestClassifier.\n",
      "wandb: Logged feature importances.\n",
      "wandb: Logged confusion matrix.\n",
      "wandb: Logged summary metrics.\n",
      "wandb: Logged class proportions.\n",
      "wandb: Logged calibration curve.\n",
      "wandb: Logged roc curve.\n",
      "wandb: Logged precision-recall curve.\n"
     ]
    },
    {
     "data": {
      "application/vnd.jupyter.widget-view+json": {
       "model_id": "898436d6c58549049213f1423958ed42",
       "version_major": 2,
       "version_minor": 0
      },
      "text/plain": [
       "VBox(children=(Label(value='2.955 MB of 2.955 MB uploaded\\r'), FloatProgress(value=1.0, max=1.0)))"
      ]
     },
     "metadata": {},
     "output_type": "display_data"
    },
    {
     "data": {
      "text/html": [
       "<style>\n",
       "    table.wandb td:nth-child(1) { padding: 0 10px; text-align: left ; width: auto;} td:nth-child(2) {text-align: left ; width: 100%}\n",
       "    .wandb-row { display: flex; flex-direction: row; flex-wrap: wrap; justify-content: flex-start; width: 100% }\n",
       "    .wandb-col { display: flex; flex-direction: column; flex-basis: 100%; flex: 1; padding: 10px; }\n",
       "    </style>\n",
       "<div class=\"wandb-row\"><div class=\"wandb-col\"><h3>Run history:</h3><br/><table class=\"wandb\"><tr><td>f1_score</td><td>▁</td></tr><tr><td>f1_score_train</td><td>▁</td></tr><tr><td>f1_score_valid</td><td>▁</td></tr></table><br/></div><div class=\"wandb-col\"><h3>Run summary:</h3><br/><table class=\"wandb\"><tr><td>f1_score</td><td>0.72028</td></tr><tr><td>f1_score_train</td><td>0.93135</td></tr><tr><td>f1_score_valid</td><td>0.61134</td></tr></table><br/></div></div>"
      ],
      "text/plain": [
       "<IPython.core.display.HTML object>"
      ]
     },
     "metadata": {},
     "output_type": "display_data"
    },
    {
     "data": {
      "text/html": [
       " View run <strong style=\"color:#cdcd00\">generous-sweep-15</strong> at: <a href='https://wandb.ai/harshmp/truck-delay-classification/runs/jom0jxi0' target=\"_blank\">https://wandb.ai/harshmp/truck-delay-classification/runs/jom0jxi0</a><br/>Synced 5 W&B file(s), 7 media file(s), 8 artifact file(s) and 1 other file(s)"
      ],
      "text/plain": [
       "<IPython.core.display.HTML object>"
      ]
     },
     "metadata": {},
     "output_type": "display_data"
    },
    {
     "data": {
      "text/html": [
       "Find logs at: <code>.\\wandb\\run-20240925_161128-jom0jxi0\\logs</code>"
      ],
      "text/plain": [
       "<IPython.core.display.HTML object>"
      ]
     },
     "metadata": {},
     "output_type": "display_data"
    },
    {
     "name": "stderr",
     "output_type": "stream",
     "text": [
      "wandb: Agent Starting Run: b2hu67ra with config:\n",
      "wandb: \tmax_depth: None\n",
      "wandb: \tmin_samples_split: 12\n",
      "wandb: \tn_estimators: 20\n",
      "Failed to detect the name of this notebook, you can set it manually with the WANDB_NOTEBOOK_NAME environment variable to enable code saving.\n",
      "wandb: WARNING Ignored wandb.init() arg project when running a sweep.\n"
     ]
    },
    {
     "data": {
      "application/vnd.jupyter.widget-view+json": {
       "model_id": "54de95384713459281d5f849b60e33f9",
       "version_major": 2,
       "version_minor": 0
      },
      "text/plain": [
       "VBox(children=(Label(value='Waiting for wandb.init()...\\r'), FloatProgress(value=0.011111111111111112, max=1.0…"
      ]
     },
     "metadata": {},
     "output_type": "display_data"
    },
    {
     "data": {
      "text/html": [
       "wandb version 0.18.1 is available!  To upgrade, please run:\n",
       " $ pip install wandb --upgrade"
      ],
      "text/plain": [
       "<IPython.core.display.HTML object>"
      ]
     },
     "metadata": {},
     "output_type": "display_data"
    },
    {
     "data": {
      "text/html": [
       "Tracking run with wandb version 0.16.1"
      ],
      "text/plain": [
       "<IPython.core.display.HTML object>"
      ]
     },
     "metadata": {},
     "output_type": "display_data"
    },
    {
     "data": {
      "text/html": [
       "Run data is saved locally in <code>e:\\Artificial Intelligence\\Projects\\Predictive-Truck-Delay-Management-in-Logistics\\wandb\\run-20240925_161151-b2hu67ra</code>"
      ],
      "text/plain": [
       "<IPython.core.display.HTML object>"
      ]
     },
     "metadata": {},
     "output_type": "display_data"
    },
    {
     "data": {
      "text/html": [
       "Syncing run <strong><a href='https://wandb.ai/harshmp/truck-delay-classification/runs/b2hu67ra' target=\"_blank\">neat-sweep-16</a></strong> to <a href='https://wandb.ai/harshmp/truck-delay-classification' target=\"_blank\">Weights & Biases</a> (<a href='https://wandb.me/run' target=\"_blank\">docs</a>)<br/>Sweep page: <a href='https://wandb.ai/harshmp/truck-delay-classification/sweeps/ilvq0mj4' target=\"_blank\">https://wandb.ai/harshmp/truck-delay-classification/sweeps/ilvq0mj4</a>"
      ],
      "text/plain": [
       "<IPython.core.display.HTML object>"
      ]
     },
     "metadata": {},
     "output_type": "display_data"
    },
    {
     "data": {
      "text/html": [
       " View project at <a href='https://wandb.ai/harshmp/truck-delay-classification' target=\"_blank\">https://wandb.ai/harshmp/truck-delay-classification</a>"
      ],
      "text/plain": [
       "<IPython.core.display.HTML object>"
      ]
     },
     "metadata": {},
     "output_type": "display_data"
    },
    {
     "data": {
      "text/html": [
       " View sweep at <a href='https://wandb.ai/harshmp/truck-delay-classification/sweeps/ilvq0mj4' target=\"_blank\">https://wandb.ai/harshmp/truck-delay-classification/sweeps/ilvq0mj4</a>"
      ],
      "text/plain": [
       "<IPython.core.display.HTML object>"
      ]
     },
     "metadata": {},
     "output_type": "display_data"
    },
    {
     "data": {
      "text/html": [
       " View run at <a href='https://wandb.ai/harshmp/truck-delay-classification/runs/b2hu67ra' target=\"_blank\">https://wandb.ai/harshmp/truck-delay-classification/runs/b2hu67ra</a>"
      ],
      "text/plain": [
       "<IPython.core.display.HTML object>"
      ]
     },
     "metadata": {},
     "output_type": "display_data"
    },
    {
     "name": "stdout",
     "output_type": "stream",
     "text": [
      "F1_score Train: 0.9337\n",
      "F1_score Valid: 0.6088\n",
      "F1_score Test: 0.7183\n"
     ]
    },
    {
     "name": "stderr",
     "output_type": "stream",
     "text": [
      "wandb: \n",
      "wandb: Plotting RandomForestClassifier.\n",
      "wandb: Logged feature importances.\n",
      "wandb: Logged confusion matrix.\n",
      "wandb: Logged summary metrics.\n",
      "wandb: Logged class proportions.\n",
      "wandb: Logged calibration curve.\n",
      "wandb: Logged roc curve.\n",
      "wandb: Logged precision-recall curve.\n"
     ]
    },
    {
     "data": {
      "application/vnd.jupyter.widget-view+json": {
       "model_id": "5b304ba27b044093b272b2f5d0dee986",
       "version_major": 2,
       "version_minor": 0
      },
      "text/plain": [
       "VBox(children=(Label(value='3.671 MB of 3.671 MB uploaded\\r'), FloatProgress(value=1.0, max=1.0)))"
      ]
     },
     "metadata": {},
     "output_type": "display_data"
    },
    {
     "data": {
      "text/html": [
       "<style>\n",
       "    table.wandb td:nth-child(1) { padding: 0 10px; text-align: left ; width: auto;} td:nth-child(2) {text-align: left ; width: 100%}\n",
       "    .wandb-row { display: flex; flex-direction: row; flex-wrap: wrap; justify-content: flex-start; width: 100% }\n",
       "    .wandb-col { display: flex; flex-direction: column; flex-basis: 100%; flex: 1; padding: 10px; }\n",
       "    </style>\n",
       "<div class=\"wandb-row\"><div class=\"wandb-col\"><h3>Run history:</h3><br/><table class=\"wandb\"><tr><td>f1_score</td><td>▁</td></tr><tr><td>f1_score_train</td><td>▁</td></tr><tr><td>f1_score_valid</td><td>▁</td></tr></table><br/></div><div class=\"wandb-col\"><h3>Run summary:</h3><br/><table class=\"wandb\"><tr><td>f1_score</td><td>0.71835</td></tr><tr><td>f1_score_train</td><td>0.93372</td></tr><tr><td>f1_score_valid</td><td>0.60882</td></tr></table><br/></div></div>"
      ],
      "text/plain": [
       "<IPython.core.display.HTML object>"
      ]
     },
     "metadata": {},
     "output_type": "display_data"
    },
    {
     "data": {
      "text/html": [
       " View run <strong style=\"color:#cdcd00\">neat-sweep-16</strong> at: <a href='https://wandb.ai/harshmp/truck-delay-classification/runs/b2hu67ra' target=\"_blank\">https://wandb.ai/harshmp/truck-delay-classification/runs/b2hu67ra</a><br/>Synced 5 W&B file(s), 7 media file(s), 8 artifact file(s) and 1 other file(s)"
      ],
      "text/plain": [
       "<IPython.core.display.HTML object>"
      ]
     },
     "metadata": {},
     "output_type": "display_data"
    },
    {
     "data": {
      "text/html": [
       "Find logs at: <code>.\\wandb\\run-20240925_161151-b2hu67ra\\logs</code>"
      ],
      "text/plain": [
       "<IPython.core.display.HTML object>"
      ]
     },
     "metadata": {},
     "output_type": "display_data"
    },
    {
     "name": "stderr",
     "output_type": "stream",
     "text": [
      "wandb: Sweep Agent: Waiting for job.\n",
      "wandb: Job received.\n",
      "wandb: Agent Starting Run: 62rva42j with config:\n",
      "wandb: \tmax_depth: 5\n",
      "wandb: \tmin_samples_split: 2\n",
      "wandb: \tn_estimators: 8\n",
      "Failed to detect the name of this notebook, you can set it manually with the WANDB_NOTEBOOK_NAME environment variable to enable code saving.\n",
      "wandb: WARNING Ignored wandb.init() arg project when running a sweep.\n"
     ]
    },
    {
     "data": {
      "text/html": [
       "wandb version 0.18.1 is available!  To upgrade, please run:\n",
       " $ pip install wandb --upgrade"
      ],
      "text/plain": [
       "<IPython.core.display.HTML object>"
      ]
     },
     "metadata": {},
     "output_type": "display_data"
    },
    {
     "data": {
      "text/html": [
       "Tracking run with wandb version 0.16.1"
      ],
      "text/plain": [
       "<IPython.core.display.HTML object>"
      ]
     },
     "metadata": {},
     "output_type": "display_data"
    },
    {
     "data": {
      "text/html": [
       "Run data is saved locally in <code>e:\\Artificial Intelligence\\Projects\\Predictive-Truck-Delay-Management-in-Logistics\\wandb\\run-20240925_161221-62rva42j</code>"
      ],
      "text/plain": [
       "<IPython.core.display.HTML object>"
      ]
     },
     "metadata": {},
     "output_type": "display_data"
    },
    {
     "data": {
      "text/html": [
       "Syncing run <strong><a href='https://wandb.ai/harshmp/truck-delay-classification/runs/62rva42j' target=\"_blank\">sunny-sweep-17</a></strong> to <a href='https://wandb.ai/harshmp/truck-delay-classification' target=\"_blank\">Weights & Biases</a> (<a href='https://wandb.me/run' target=\"_blank\">docs</a>)<br/>Sweep page: <a href='https://wandb.ai/harshmp/truck-delay-classification/sweeps/ilvq0mj4' target=\"_blank\">https://wandb.ai/harshmp/truck-delay-classification/sweeps/ilvq0mj4</a>"
      ],
      "text/plain": [
       "<IPython.core.display.HTML object>"
      ]
     },
     "metadata": {},
     "output_type": "display_data"
    },
    {
     "data": {
      "text/html": [
       " View project at <a href='https://wandb.ai/harshmp/truck-delay-classification' target=\"_blank\">https://wandb.ai/harshmp/truck-delay-classification</a>"
      ],
      "text/plain": [
       "<IPython.core.display.HTML object>"
      ]
     },
     "metadata": {},
     "output_type": "display_data"
    },
    {
     "data": {
      "text/html": [
       " View sweep at <a href='https://wandb.ai/harshmp/truck-delay-classification/sweeps/ilvq0mj4' target=\"_blank\">https://wandb.ai/harshmp/truck-delay-classification/sweeps/ilvq0mj4</a>"
      ],
      "text/plain": [
       "<IPython.core.display.HTML object>"
      ]
     },
     "metadata": {},
     "output_type": "display_data"
    },
    {
     "data": {
      "text/html": [
       " View run at <a href='https://wandb.ai/harshmp/truck-delay-classification/runs/62rva42j' target=\"_blank\">https://wandb.ai/harshmp/truck-delay-classification/runs/62rva42j</a>"
      ],
      "text/plain": [
       "<IPython.core.display.HTML object>"
      ]
     },
     "metadata": {},
     "output_type": "display_data"
    },
    {
     "name": "stdout",
     "output_type": "stream",
     "text": [
      "F1_score Train: 0.6021\n",
      "F1_score Valid: 0.6686\n",
      "F1_score Test: 0.7672\n"
     ]
    },
    {
     "name": "stderr",
     "output_type": "stream",
     "text": [
      "wandb: \n",
      "wandb: Plotting RandomForestClassifier.\n",
      "wandb: Logged feature importances.\n",
      "wandb: Logged confusion matrix.\n",
      "wandb: Logged summary metrics.\n",
      "wandb: Logged class proportions.\n",
      "wandb: Logged calibration curve.\n",
      "wandb: Logged roc curve.\n",
      "wandb: Logged precision-recall curve.\n"
     ]
    },
    {
     "data": {
      "application/vnd.jupyter.widget-view+json": {
       "model_id": "686e0572c65f40dfad6ee2d35ae12d9f",
       "version_major": 2,
       "version_minor": 0
      },
      "text/plain": [
       "VBox(children=(Label(value='0.140 MB of 0.140 MB uploaded\\r'), FloatProgress(value=1.0, max=1.0)))"
      ]
     },
     "metadata": {},
     "output_type": "display_data"
    },
    {
     "data": {
      "text/html": [
       "<style>\n",
       "    table.wandb td:nth-child(1) { padding: 0 10px; text-align: left ; width: auto;} td:nth-child(2) {text-align: left ; width: 100%}\n",
       "    .wandb-row { display: flex; flex-direction: row; flex-wrap: wrap; justify-content: flex-start; width: 100% }\n",
       "    .wandb-col { display: flex; flex-direction: column; flex-basis: 100%; flex: 1; padding: 10px; }\n",
       "    </style>\n",
       "<div class=\"wandb-row\"><div class=\"wandb-col\"><h3>Run history:</h3><br/><table class=\"wandb\"><tr><td>f1_score</td><td>▁</td></tr><tr><td>f1_score_train</td><td>▁</td></tr><tr><td>f1_score_valid</td><td>▁</td></tr></table><br/></div><div class=\"wandb-col\"><h3>Run summary:</h3><br/><table class=\"wandb\"><tr><td>f1_score</td><td>0.76718</td></tr><tr><td>f1_score_train</td><td>0.60205</td></tr><tr><td>f1_score_valid</td><td>0.66861</td></tr></table><br/></div></div>"
      ],
      "text/plain": [
       "<IPython.core.display.HTML object>"
      ]
     },
     "metadata": {},
     "output_type": "display_data"
    },
    {
     "data": {
      "text/html": [
       " View run <strong style=\"color:#cdcd00\">sunny-sweep-17</strong> at: <a href='https://wandb.ai/harshmp/truck-delay-classification/runs/62rva42j' target=\"_blank\">https://wandb.ai/harshmp/truck-delay-classification/runs/62rva42j</a><br/>Synced 5 W&B file(s), 7 media file(s), 8 artifact file(s) and 1 other file(s)"
      ],
      "text/plain": [
       "<IPython.core.display.HTML object>"
      ]
     },
     "metadata": {},
     "output_type": "display_data"
    },
    {
     "data": {
      "text/html": [
       "Find logs at: <code>.\\wandb\\run-20240925_161221-62rva42j\\logs</code>"
      ],
      "text/plain": [
       "<IPython.core.display.HTML object>"
      ]
     },
     "metadata": {},
     "output_type": "display_data"
    },
    {
     "name": "stderr",
     "output_type": "stream",
     "text": [
      "wandb: Agent Starting Run: rrs2xe66 with config:\n",
      "wandb: \tmax_depth: 5\n",
      "wandb: \tmin_samples_split: 2\n",
      "wandb: \tn_estimators: 12\n",
      "Failed to detect the name of this notebook, you can set it manually with the WANDB_NOTEBOOK_NAME environment variable to enable code saving.\n",
      "wandb: WARNING Ignored wandb.init() arg project when running a sweep.\n"
     ]
    },
    {
     "data": {
      "text/html": [
       "wandb version 0.18.1 is available!  To upgrade, please run:\n",
       " $ pip install wandb --upgrade"
      ],
      "text/plain": [
       "<IPython.core.display.HTML object>"
      ]
     },
     "metadata": {},
     "output_type": "display_data"
    },
    {
     "data": {
      "text/html": [
       "Tracking run with wandb version 0.16.1"
      ],
      "text/plain": [
       "<IPython.core.display.HTML object>"
      ]
     },
     "metadata": {},
     "output_type": "display_data"
    },
    {
     "data": {
      "text/html": [
       "Run data is saved locally in <code>e:\\Artificial Intelligence\\Projects\\Predictive-Truck-Delay-Management-in-Logistics\\wandb\\run-20240925_161243-rrs2xe66</code>"
      ],
      "text/plain": [
       "<IPython.core.display.HTML object>"
      ]
     },
     "metadata": {},
     "output_type": "display_data"
    },
    {
     "data": {
      "text/html": [
       "Syncing run <strong><a href='https://wandb.ai/harshmp/truck-delay-classification/runs/rrs2xe66' target=\"_blank\">fresh-sweep-18</a></strong> to <a href='https://wandb.ai/harshmp/truck-delay-classification' target=\"_blank\">Weights & Biases</a> (<a href='https://wandb.me/run' target=\"_blank\">docs</a>)<br/>Sweep page: <a href='https://wandb.ai/harshmp/truck-delay-classification/sweeps/ilvq0mj4' target=\"_blank\">https://wandb.ai/harshmp/truck-delay-classification/sweeps/ilvq0mj4</a>"
      ],
      "text/plain": [
       "<IPython.core.display.HTML object>"
      ]
     },
     "metadata": {},
     "output_type": "display_data"
    },
    {
     "data": {
      "text/html": [
       " View project at <a href='https://wandb.ai/harshmp/truck-delay-classification' target=\"_blank\">https://wandb.ai/harshmp/truck-delay-classification</a>"
      ],
      "text/plain": [
       "<IPython.core.display.HTML object>"
      ]
     },
     "metadata": {},
     "output_type": "display_data"
    },
    {
     "data": {
      "text/html": [
       " View sweep at <a href='https://wandb.ai/harshmp/truck-delay-classification/sweeps/ilvq0mj4' target=\"_blank\">https://wandb.ai/harshmp/truck-delay-classification/sweeps/ilvq0mj4</a>"
      ],
      "text/plain": [
       "<IPython.core.display.HTML object>"
      ]
     },
     "metadata": {},
     "output_type": "display_data"
    },
    {
     "data": {
      "text/html": [
       " View run at <a href='https://wandb.ai/harshmp/truck-delay-classification/runs/rrs2xe66' target=\"_blank\">https://wandb.ai/harshmp/truck-delay-classification/runs/rrs2xe66</a>"
      ],
      "text/plain": [
       "<IPython.core.display.HTML object>"
      ]
     },
     "metadata": {},
     "output_type": "display_data"
    },
    {
     "name": "stdout",
     "output_type": "stream",
     "text": [
      "F1_score Train: 0.6035\n",
      "F1_score Valid: 0.6667\n",
      "F1_score Test: 0.7698\n"
     ]
    },
    {
     "name": "stderr",
     "output_type": "stream",
     "text": [
      "wandb: \n",
      "wandb: Plotting RandomForestClassifier.\n",
      "wandb: Logged feature importances.\n",
      "wandb: Logged confusion matrix.\n",
      "wandb: Logged summary metrics.\n",
      "wandb: Logged class proportions.\n",
      "wandb: Logged calibration curve.\n",
      "wandb: Logged roc curve.\n",
      "wandb: Logged precision-recall curve.\n"
     ]
    },
    {
     "data": {
      "application/vnd.jupyter.widget-view+json": {
       "model_id": "5ad3fa6e54574ef185bfe7234ae4c5a8",
       "version_major": 2,
       "version_minor": 0
      },
      "text/plain": [
       "VBox(children=(Label(value='0.170 MB of 0.170 MB uploaded\\r'), FloatProgress(value=1.0, max=1.0)))"
      ]
     },
     "metadata": {},
     "output_type": "display_data"
    },
    {
     "data": {
      "text/html": [
       "<style>\n",
       "    table.wandb td:nth-child(1) { padding: 0 10px; text-align: left ; width: auto;} td:nth-child(2) {text-align: left ; width: 100%}\n",
       "    .wandb-row { display: flex; flex-direction: row; flex-wrap: wrap; justify-content: flex-start; width: 100% }\n",
       "    .wandb-col { display: flex; flex-direction: column; flex-basis: 100%; flex: 1; padding: 10px; }\n",
       "    </style>\n",
       "<div class=\"wandb-row\"><div class=\"wandb-col\"><h3>Run history:</h3><br/><table class=\"wandb\"><tr><td>f1_score</td><td>▁</td></tr><tr><td>f1_score_train</td><td>▁</td></tr><tr><td>f1_score_valid</td><td>▁</td></tr></table><br/></div><div class=\"wandb-col\"><h3>Run summary:</h3><br/><table class=\"wandb\"><tr><td>f1_score</td><td>0.76981</td></tr><tr><td>f1_score_train</td><td>0.60347</td></tr><tr><td>f1_score_valid</td><td>0.66667</td></tr></table><br/></div></div>"
      ],
      "text/plain": [
       "<IPython.core.display.HTML object>"
      ]
     },
     "metadata": {},
     "output_type": "display_data"
    },
    {
     "data": {
      "text/html": [
       " View run <strong style=\"color:#cdcd00\">fresh-sweep-18</strong> at: <a href='https://wandb.ai/harshmp/truck-delay-classification/runs/rrs2xe66' target=\"_blank\">https://wandb.ai/harshmp/truck-delay-classification/runs/rrs2xe66</a><br/>Synced 5 W&B file(s), 7 media file(s), 8 artifact file(s) and 1 other file(s)"
      ],
      "text/plain": [
       "<IPython.core.display.HTML object>"
      ]
     },
     "metadata": {},
     "output_type": "display_data"
    },
    {
     "data": {
      "text/html": [
       "Find logs at: <code>.\\wandb\\run-20240925_161243-rrs2xe66\\logs</code>"
      ],
      "text/plain": [
       "<IPython.core.display.HTML object>"
      ]
     },
     "metadata": {},
     "output_type": "display_data"
    },
    {
     "name": "stderr",
     "output_type": "stream",
     "text": [
      "wandb: Agent Starting Run: igbtgl7r with config:\n",
      "wandb: \tmax_depth: 5\n",
      "wandb: \tmin_samples_split: 2\n",
      "wandb: \tn_estimators: 16\n",
      "Failed to detect the name of this notebook, you can set it manually with the WANDB_NOTEBOOK_NAME environment variable to enable code saving.\n",
      "wandb: WARNING Ignored wandb.init() arg project when running a sweep.\n"
     ]
    },
    {
     "data": {
      "text/html": [
       "wandb version 0.18.1 is available!  To upgrade, please run:\n",
       " $ pip install wandb --upgrade"
      ],
      "text/plain": [
       "<IPython.core.display.HTML object>"
      ]
     },
     "metadata": {},
     "output_type": "display_data"
    },
    {
     "data": {
      "text/html": [
       "Tracking run with wandb version 0.16.1"
      ],
      "text/plain": [
       "<IPython.core.display.HTML object>"
      ]
     },
     "metadata": {},
     "output_type": "display_data"
    },
    {
     "data": {
      "text/html": [
       "Run data is saved locally in <code>e:\\Artificial Intelligence\\Projects\\Predictive-Truck-Delay-Management-in-Logistics\\wandb\\run-20240925_161303-igbtgl7r</code>"
      ],
      "text/plain": [
       "<IPython.core.display.HTML object>"
      ]
     },
     "metadata": {},
     "output_type": "display_data"
    },
    {
     "data": {
      "text/html": [
       "Syncing run <strong><a href='https://wandb.ai/harshmp/truck-delay-classification/runs/igbtgl7r' target=\"_blank\">magic-sweep-19</a></strong> to <a href='https://wandb.ai/harshmp/truck-delay-classification' target=\"_blank\">Weights & Biases</a> (<a href='https://wandb.me/run' target=\"_blank\">docs</a>)<br/>Sweep page: <a href='https://wandb.ai/harshmp/truck-delay-classification/sweeps/ilvq0mj4' target=\"_blank\">https://wandb.ai/harshmp/truck-delay-classification/sweeps/ilvq0mj4</a>"
      ],
      "text/plain": [
       "<IPython.core.display.HTML object>"
      ]
     },
     "metadata": {},
     "output_type": "display_data"
    },
    {
     "data": {
      "text/html": [
       " View project at <a href='https://wandb.ai/harshmp/truck-delay-classification' target=\"_blank\">https://wandb.ai/harshmp/truck-delay-classification</a>"
      ],
      "text/plain": [
       "<IPython.core.display.HTML object>"
      ]
     },
     "metadata": {},
     "output_type": "display_data"
    },
    {
     "data": {
      "text/html": [
       " View sweep at <a href='https://wandb.ai/harshmp/truck-delay-classification/sweeps/ilvq0mj4' target=\"_blank\">https://wandb.ai/harshmp/truck-delay-classification/sweeps/ilvq0mj4</a>"
      ],
      "text/plain": [
       "<IPython.core.display.HTML object>"
      ]
     },
     "metadata": {},
     "output_type": "display_data"
    },
    {
     "data": {
      "text/html": [
       " View run at <a href='https://wandb.ai/harshmp/truck-delay-classification/runs/igbtgl7r' target=\"_blank\">https://wandb.ai/harshmp/truck-delay-classification/runs/igbtgl7r</a>"
      ],
      "text/plain": [
       "<IPython.core.display.HTML object>"
      ]
     },
     "metadata": {},
     "output_type": "display_data"
    },
    {
     "name": "stdout",
     "output_type": "stream",
     "text": [
      "F1_score Train: 0.6035\n",
      "F1_score Valid: 0.6705\n",
      "F1_score Test: 0.7702\n"
     ]
    },
    {
     "name": "stderr",
     "output_type": "stream",
     "text": [
      "wandb: \n",
      "wandb: Plotting RandomForestClassifier.\n",
      "wandb: Logged feature importances.\n",
      "wandb: Logged confusion matrix.\n",
      "wandb: Logged summary metrics.\n",
      "wandb: Logged class proportions.\n",
      "wandb: Logged calibration curve.\n",
      "wandb: Logged roc curve.\n",
      "wandb: Logged precision-recall curve.\n"
     ]
    },
    {
     "data": {
      "application/vnd.jupyter.widget-view+json": {
       "model_id": "016005e6f3f349bcbd544066dc91258b",
       "version_major": 2,
       "version_minor": 0
      },
      "text/plain": [
       "VBox(children=(Label(value='0.203 MB of 0.203 MB uploaded\\r'), FloatProgress(value=1.0, max=1.0)))"
      ]
     },
     "metadata": {},
     "output_type": "display_data"
    },
    {
     "data": {
      "text/html": [
       "<style>\n",
       "    table.wandb td:nth-child(1) { padding: 0 10px; text-align: left ; width: auto;} td:nth-child(2) {text-align: left ; width: 100%}\n",
       "    .wandb-row { display: flex; flex-direction: row; flex-wrap: wrap; justify-content: flex-start; width: 100% }\n",
       "    .wandb-col { display: flex; flex-direction: column; flex-basis: 100%; flex: 1; padding: 10px; }\n",
       "    </style>\n",
       "<div class=\"wandb-row\"><div class=\"wandb-col\"><h3>Run history:</h3><br/><table class=\"wandb\"><tr><td>f1_score</td><td>▁</td></tr><tr><td>f1_score_train</td><td>▁</td></tr><tr><td>f1_score_valid</td><td>▁</td></tr></table><br/></div><div class=\"wandb-col\"><h3>Run summary:</h3><br/><table class=\"wandb\"><tr><td>f1_score</td><td>0.7702</td></tr><tr><td>f1_score_train</td><td>0.60348</td></tr><tr><td>f1_score_valid</td><td>0.67054</td></tr></table><br/></div></div>"
      ],
      "text/plain": [
       "<IPython.core.display.HTML object>"
      ]
     },
     "metadata": {},
     "output_type": "display_data"
    },
    {
     "data": {
      "text/html": [
       " View run <strong style=\"color:#cdcd00\">magic-sweep-19</strong> at: <a href='https://wandb.ai/harshmp/truck-delay-classification/runs/igbtgl7r' target=\"_blank\">https://wandb.ai/harshmp/truck-delay-classification/runs/igbtgl7r</a><br/>Synced 5 W&B file(s), 7 media file(s), 8 artifact file(s) and 1 other file(s)"
      ],
      "text/plain": [
       "<IPython.core.display.HTML object>"
      ]
     },
     "metadata": {},
     "output_type": "display_data"
    },
    {
     "data": {
      "text/html": [
       "Find logs at: <code>.\\wandb\\run-20240925_161303-igbtgl7r\\logs</code>"
      ],
      "text/plain": [
       "<IPython.core.display.HTML object>"
      ]
     },
     "metadata": {},
     "output_type": "display_data"
    },
    {
     "name": "stderr",
     "output_type": "stream",
     "text": [
      "wandb: Agent Starting Run: b2ns9twf with config:\n",
      "wandb: \tmax_depth: 5\n",
      "wandb: \tmin_samples_split: 2\n",
      "wandb: \tn_estimators: 20\n",
      "Failed to detect the name of this notebook, you can set it manually with the WANDB_NOTEBOOK_NAME environment variable to enable code saving.\n",
      "wandb: WARNING Ignored wandb.init() arg project when running a sweep.\n"
     ]
    },
    {
     "data": {
      "text/html": [
       "wandb version 0.18.1 is available!  To upgrade, please run:\n",
       " $ pip install wandb --upgrade"
      ],
      "text/plain": [
       "<IPython.core.display.HTML object>"
      ]
     },
     "metadata": {},
     "output_type": "display_data"
    },
    {
     "data": {
      "text/html": [
       "Tracking run with wandb version 0.16.1"
      ],
      "text/plain": [
       "<IPython.core.display.HTML object>"
      ]
     },
     "metadata": {},
     "output_type": "display_data"
    },
    {
     "data": {
      "text/html": [
       "Run data is saved locally in <code>e:\\Artificial Intelligence\\Projects\\Predictive-Truck-Delay-Management-in-Logistics\\wandb\\run-20240925_161324-b2ns9twf</code>"
      ],
      "text/plain": [
       "<IPython.core.display.HTML object>"
      ]
     },
     "metadata": {},
     "output_type": "display_data"
    },
    {
     "data": {
      "text/html": [
       "Syncing run <strong><a href='https://wandb.ai/harshmp/truck-delay-classification/runs/b2ns9twf' target=\"_blank\">logical-sweep-20</a></strong> to <a href='https://wandb.ai/harshmp/truck-delay-classification' target=\"_blank\">Weights & Biases</a> (<a href='https://wandb.me/run' target=\"_blank\">docs</a>)<br/>Sweep page: <a href='https://wandb.ai/harshmp/truck-delay-classification/sweeps/ilvq0mj4' target=\"_blank\">https://wandb.ai/harshmp/truck-delay-classification/sweeps/ilvq0mj4</a>"
      ],
      "text/plain": [
       "<IPython.core.display.HTML object>"
      ]
     },
     "metadata": {},
     "output_type": "display_data"
    },
    {
     "data": {
      "text/html": [
       " View project at <a href='https://wandb.ai/harshmp/truck-delay-classification' target=\"_blank\">https://wandb.ai/harshmp/truck-delay-classification</a>"
      ],
      "text/plain": [
       "<IPython.core.display.HTML object>"
      ]
     },
     "metadata": {},
     "output_type": "display_data"
    },
    {
     "data": {
      "text/html": [
       " View sweep at <a href='https://wandb.ai/harshmp/truck-delay-classification/sweeps/ilvq0mj4' target=\"_blank\">https://wandb.ai/harshmp/truck-delay-classification/sweeps/ilvq0mj4</a>"
      ],
      "text/plain": [
       "<IPython.core.display.HTML object>"
      ]
     },
     "metadata": {},
     "output_type": "display_data"
    },
    {
     "data": {
      "text/html": [
       " View run at <a href='https://wandb.ai/harshmp/truck-delay-classification/runs/b2ns9twf' target=\"_blank\">https://wandb.ai/harshmp/truck-delay-classification/runs/b2ns9twf</a>"
      ],
      "text/plain": [
       "<IPython.core.display.HTML object>"
      ]
     },
     "metadata": {},
     "output_type": "display_data"
    },
    {
     "name": "stdout",
     "output_type": "stream",
     "text": [
      "F1_score Train: 0.5984\n",
      "F1_score Valid: 0.6682\n",
      "F1_score Test: 0.7675\n"
     ]
    },
    {
     "name": "stderr",
     "output_type": "stream",
     "text": [
      "wandb: \n",
      "wandb: Plotting RandomForestClassifier.\n",
      "wandb: Logged feature importances.\n",
      "wandb: Logged confusion matrix.\n",
      "wandb: Logged summary metrics.\n",
      "wandb: Logged class proportions.\n",
      "wandb: Logged calibration curve.\n",
      "wandb: Logged roc curve.\n",
      "wandb: Logged precision-recall curve.\n"
     ]
    },
    {
     "data": {
      "application/vnd.jupyter.widget-view+json": {
       "model_id": "07342a6c03684a6c8bfc72e4e032fe8f",
       "version_major": 2,
       "version_minor": 0
      },
      "text/plain": [
       "VBox(children=(Label(value='0.235 MB of 0.235 MB uploaded\\r'), FloatProgress(value=1.0, max=1.0)))"
      ]
     },
     "metadata": {},
     "output_type": "display_data"
    },
    {
     "data": {
      "text/html": [
       "<style>\n",
       "    table.wandb td:nth-child(1) { padding: 0 10px; text-align: left ; width: auto;} td:nth-child(2) {text-align: left ; width: 100%}\n",
       "    .wandb-row { display: flex; flex-direction: row; flex-wrap: wrap; justify-content: flex-start; width: 100% }\n",
       "    .wandb-col { display: flex; flex-direction: column; flex-basis: 100%; flex: 1; padding: 10px; }\n",
       "    </style>\n",
       "<div class=\"wandb-row\"><div class=\"wandb-col\"><h3>Run history:</h3><br/><table class=\"wandb\"><tr><td>f1_score</td><td>▁</td></tr><tr><td>f1_score_train</td><td>▁</td></tr><tr><td>f1_score_valid</td><td>▁</td></tr></table><br/></div><div class=\"wandb-col\"><h3>Run summary:</h3><br/><table class=\"wandb\"><tr><td>f1_score</td><td>0.7675</td></tr><tr><td>f1_score_train</td><td>0.59844</td></tr><tr><td>f1_score_valid</td><td>0.6682</td></tr></table><br/></div></div>"
      ],
      "text/plain": [
       "<IPython.core.display.HTML object>"
      ]
     },
     "metadata": {},
     "output_type": "display_data"
    },
    {
     "data": {
      "text/html": [
       " View run <strong style=\"color:#cdcd00\">logical-sweep-20</strong> at: <a href='https://wandb.ai/harshmp/truck-delay-classification/runs/b2ns9twf' target=\"_blank\">https://wandb.ai/harshmp/truck-delay-classification/runs/b2ns9twf</a><br/>Synced 5 W&B file(s), 7 media file(s), 8 artifact file(s) and 1 other file(s)"
      ],
      "text/plain": [
       "<IPython.core.display.HTML object>"
      ]
     },
     "metadata": {},
     "output_type": "display_data"
    },
    {
     "data": {
      "text/html": [
       "Find logs at: <code>.\\wandb\\run-20240925_161324-b2ns9twf\\logs</code>"
      ],
      "text/plain": [
       "<IPython.core.display.HTML object>"
      ]
     },
     "metadata": {},
     "output_type": "display_data"
    },
    {
     "name": "stderr",
     "output_type": "stream",
     "text": [
      "wandb: Agent Starting Run: do3h1ze3 with config:\n",
      "wandb: \tmax_depth: 5\n",
      "wandb: \tmin_samples_split: 4\n",
      "wandb: \tn_estimators: 8\n",
      "Failed to detect the name of this notebook, you can set it manually with the WANDB_NOTEBOOK_NAME environment variable to enable code saving.\n",
      "wandb: WARNING Ignored wandb.init() arg project when running a sweep.\n"
     ]
    },
    {
     "data": {
      "text/html": [
       "wandb version 0.18.1 is available!  To upgrade, please run:\n",
       " $ pip install wandb --upgrade"
      ],
      "text/plain": [
       "<IPython.core.display.HTML object>"
      ]
     },
     "metadata": {},
     "output_type": "display_data"
    },
    {
     "data": {
      "text/html": [
       "Tracking run with wandb version 0.16.1"
      ],
      "text/plain": [
       "<IPython.core.display.HTML object>"
      ]
     },
     "metadata": {},
     "output_type": "display_data"
    },
    {
     "data": {
      "text/html": [
       "Run data is saved locally in <code>e:\\Artificial Intelligence\\Projects\\Predictive-Truck-Delay-Management-in-Logistics\\wandb\\run-20240925_161343-do3h1ze3</code>"
      ],
      "text/plain": [
       "<IPython.core.display.HTML object>"
      ]
     },
     "metadata": {},
     "output_type": "display_data"
    },
    {
     "data": {
      "text/html": [
       "Syncing run <strong><a href='https://wandb.ai/harshmp/truck-delay-classification/runs/do3h1ze3' target=\"_blank\">laced-sweep-21</a></strong> to <a href='https://wandb.ai/harshmp/truck-delay-classification' target=\"_blank\">Weights & Biases</a> (<a href='https://wandb.me/run' target=\"_blank\">docs</a>)<br/>Sweep page: <a href='https://wandb.ai/harshmp/truck-delay-classification/sweeps/ilvq0mj4' target=\"_blank\">https://wandb.ai/harshmp/truck-delay-classification/sweeps/ilvq0mj4</a>"
      ],
      "text/plain": [
       "<IPython.core.display.HTML object>"
      ]
     },
     "metadata": {},
     "output_type": "display_data"
    },
    {
     "data": {
      "text/html": [
       " View project at <a href='https://wandb.ai/harshmp/truck-delay-classification' target=\"_blank\">https://wandb.ai/harshmp/truck-delay-classification</a>"
      ],
      "text/plain": [
       "<IPython.core.display.HTML object>"
      ]
     },
     "metadata": {},
     "output_type": "display_data"
    },
    {
     "data": {
      "text/html": [
       " View sweep at <a href='https://wandb.ai/harshmp/truck-delay-classification/sweeps/ilvq0mj4' target=\"_blank\">https://wandb.ai/harshmp/truck-delay-classification/sweeps/ilvq0mj4</a>"
      ],
      "text/plain": [
       "<IPython.core.display.HTML object>"
      ]
     },
     "metadata": {},
     "output_type": "display_data"
    },
    {
     "data": {
      "text/html": [
       " View run at <a href='https://wandb.ai/harshmp/truck-delay-classification/runs/do3h1ze3' target=\"_blank\">https://wandb.ai/harshmp/truck-delay-classification/runs/do3h1ze3</a>"
      ],
      "text/plain": [
       "<IPython.core.display.HTML object>"
      ]
     },
     "metadata": {},
     "output_type": "display_data"
    },
    {
     "name": "stdout",
     "output_type": "stream",
     "text": [
      "F1_score Train: 0.6002\n",
      "F1_score Valid: 0.6624\n",
      "F1_score Test: 0.7695\n"
     ]
    },
    {
     "name": "stderr",
     "output_type": "stream",
     "text": [
      "wandb: \n",
      "wandb: Plotting RandomForestClassifier.\n",
      "wandb: Logged feature importances.\n",
      "wandb: Logged confusion matrix.\n",
      "wandb: Logged summary metrics.\n",
      "wandb: Logged class proportions.\n",
      "wandb: Logged calibration curve.\n",
      "wandb: Logged roc curve.\n",
      "wandb: Logged precision-recall curve.\n"
     ]
    },
    {
     "data": {
      "application/vnd.jupyter.widget-view+json": {
       "model_id": "2837528ac22c417eac25bbf290e50817",
       "version_major": 2,
       "version_minor": 0
      },
      "text/plain": [
       "VBox(children=(Label(value='0.139 MB of 0.139 MB uploaded\\r'), FloatProgress(value=1.0, max=1.0)))"
      ]
     },
     "metadata": {},
     "output_type": "display_data"
    },
    {
     "data": {
      "text/html": [
       "<style>\n",
       "    table.wandb td:nth-child(1) { padding: 0 10px; text-align: left ; width: auto;} td:nth-child(2) {text-align: left ; width: 100%}\n",
       "    .wandb-row { display: flex; flex-direction: row; flex-wrap: wrap; justify-content: flex-start; width: 100% }\n",
       "    .wandb-col { display: flex; flex-direction: column; flex-basis: 100%; flex: 1; padding: 10px; }\n",
       "    </style>\n",
       "<div class=\"wandb-row\"><div class=\"wandb-col\"><h3>Run history:</h3><br/><table class=\"wandb\"><tr><td>f1_score</td><td>▁</td></tr><tr><td>f1_score_train</td><td>▁</td></tr><tr><td>f1_score_valid</td><td>▁</td></tr></table><br/></div><div class=\"wandb-col\"><h3>Run summary:</h3><br/><table class=\"wandb\"><tr><td>f1_score</td><td>0.76953</td></tr><tr><td>f1_score_train</td><td>0.60025</td></tr><tr><td>f1_score_valid</td><td>0.66237</td></tr></table><br/></div></div>"
      ],
      "text/plain": [
       "<IPython.core.display.HTML object>"
      ]
     },
     "metadata": {},
     "output_type": "display_data"
    },
    {
     "data": {
      "text/html": [
       " View run <strong style=\"color:#cdcd00\">laced-sweep-21</strong> at: <a href='https://wandb.ai/harshmp/truck-delay-classification/runs/do3h1ze3' target=\"_blank\">https://wandb.ai/harshmp/truck-delay-classification/runs/do3h1ze3</a><br/>Synced 5 W&B file(s), 7 media file(s), 8 artifact file(s) and 1 other file(s)"
      ],
      "text/plain": [
       "<IPython.core.display.HTML object>"
      ]
     },
     "metadata": {},
     "output_type": "display_data"
    },
    {
     "data": {
      "text/html": [
       "Find logs at: <code>.\\wandb\\run-20240925_161343-do3h1ze3\\logs</code>"
      ],
      "text/plain": [
       "<IPython.core.display.HTML object>"
      ]
     },
     "metadata": {},
     "output_type": "display_data"
    },
    {
     "name": "stderr",
     "output_type": "stream",
     "text": [
      "wandb: Agent Starting Run: jctdgia3 with config:\n",
      "wandb: \tmax_depth: 5\n",
      "wandb: \tmin_samples_split: 4\n",
      "wandb: \tn_estimators: 12\n",
      "Failed to detect the name of this notebook, you can set it manually with the WANDB_NOTEBOOK_NAME environment variable to enable code saving.\n",
      "wandb: WARNING Ignored wandb.init() arg project when running a sweep.\n"
     ]
    },
    {
     "data": {
      "text/html": [
       "wandb version 0.18.1 is available!  To upgrade, please run:\n",
       " $ pip install wandb --upgrade"
      ],
      "text/plain": [
       "<IPython.core.display.HTML object>"
      ]
     },
     "metadata": {},
     "output_type": "display_data"
    },
    {
     "data": {
      "text/html": [
       "Tracking run with wandb version 0.16.1"
      ],
      "text/plain": [
       "<IPython.core.display.HTML object>"
      ]
     },
     "metadata": {},
     "output_type": "display_data"
    },
    {
     "data": {
      "text/html": [
       "Run data is saved locally in <code>e:\\Artificial Intelligence\\Projects\\Predictive-Truck-Delay-Management-in-Logistics\\wandb\\run-20240925_161405-jctdgia3</code>"
      ],
      "text/plain": [
       "<IPython.core.display.HTML object>"
      ]
     },
     "metadata": {},
     "output_type": "display_data"
    },
    {
     "data": {
      "text/html": [
       "Syncing run <strong><a href='https://wandb.ai/harshmp/truck-delay-classification/runs/jctdgia3' target=\"_blank\">electric-sweep-22</a></strong> to <a href='https://wandb.ai/harshmp/truck-delay-classification' target=\"_blank\">Weights & Biases</a> (<a href='https://wandb.me/run' target=\"_blank\">docs</a>)<br/>Sweep page: <a href='https://wandb.ai/harshmp/truck-delay-classification/sweeps/ilvq0mj4' target=\"_blank\">https://wandb.ai/harshmp/truck-delay-classification/sweeps/ilvq0mj4</a>"
      ],
      "text/plain": [
       "<IPython.core.display.HTML object>"
      ]
     },
     "metadata": {},
     "output_type": "display_data"
    },
    {
     "data": {
      "text/html": [
       " View project at <a href='https://wandb.ai/harshmp/truck-delay-classification' target=\"_blank\">https://wandb.ai/harshmp/truck-delay-classification</a>"
      ],
      "text/plain": [
       "<IPython.core.display.HTML object>"
      ]
     },
     "metadata": {},
     "output_type": "display_data"
    },
    {
     "data": {
      "text/html": [
       " View sweep at <a href='https://wandb.ai/harshmp/truck-delay-classification/sweeps/ilvq0mj4' target=\"_blank\">https://wandb.ai/harshmp/truck-delay-classification/sweeps/ilvq0mj4</a>"
      ],
      "text/plain": [
       "<IPython.core.display.HTML object>"
      ]
     },
     "metadata": {},
     "output_type": "display_data"
    },
    {
     "data": {
      "text/html": [
       " View run at <a href='https://wandb.ai/harshmp/truck-delay-classification/runs/jctdgia3' target=\"_blank\">https://wandb.ai/harshmp/truck-delay-classification/runs/jctdgia3</a>"
      ],
      "text/plain": [
       "<IPython.core.display.HTML object>"
      ]
     },
     "metadata": {},
     "output_type": "display_data"
    },
    {
     "name": "stdout",
     "output_type": "stream",
     "text": [
      "F1_score Train: 0.6023\n",
      "F1_score Valid: 0.6655\n",
      "F1_score Test: 0.7685\n"
     ]
    },
    {
     "name": "stderr",
     "output_type": "stream",
     "text": [
      "wandb: \n",
      "wandb: Plotting RandomForestClassifier.\n",
      "wandb: Logged feature importances.\n",
      "wandb: Logged confusion matrix.\n",
      "wandb: Logged summary metrics.\n",
      "wandb: Logged class proportions.\n",
      "wandb: Logged calibration curve.\n",
      "wandb: Logged roc curve.\n",
      "wandb: Logged precision-recall curve.\n"
     ]
    },
    {
     "data": {
      "application/vnd.jupyter.widget-view+json": {
       "model_id": "f825b298b21646539cea9d6ff7e80981",
       "version_major": 2,
       "version_minor": 0
      },
      "text/plain": [
       "VBox(children=(Label(value='0.171 MB of 0.171 MB uploaded\\r'), FloatProgress(value=1.0, max=1.0)))"
      ]
     },
     "metadata": {},
     "output_type": "display_data"
    },
    {
     "data": {
      "text/html": [
       "<style>\n",
       "    table.wandb td:nth-child(1) { padding: 0 10px; text-align: left ; width: auto;} td:nth-child(2) {text-align: left ; width: 100%}\n",
       "    .wandb-row { display: flex; flex-direction: row; flex-wrap: wrap; justify-content: flex-start; width: 100% }\n",
       "    .wandb-col { display: flex; flex-direction: column; flex-basis: 100%; flex: 1; padding: 10px; }\n",
       "    </style>\n",
       "<div class=\"wandb-row\"><div class=\"wandb-col\"><h3>Run history:</h3><br/><table class=\"wandb\"><tr><td>f1_score</td><td>▁</td></tr><tr><td>f1_score_train</td><td>▁</td></tr><tr><td>f1_score_valid</td><td>▁</td></tr></table><br/></div><div class=\"wandb-col\"><h3>Run summary:</h3><br/><table class=\"wandb\"><tr><td>f1_score</td><td>0.76845</td></tr><tr><td>f1_score_train</td><td>0.6023</td></tr><tr><td>f1_score_valid</td><td>0.6655</td></tr></table><br/></div></div>"
      ],
      "text/plain": [
       "<IPython.core.display.HTML object>"
      ]
     },
     "metadata": {},
     "output_type": "display_data"
    },
    {
     "data": {
      "text/html": [
       " View run <strong style=\"color:#cdcd00\">electric-sweep-22</strong> at: <a href='https://wandb.ai/harshmp/truck-delay-classification/runs/jctdgia3' target=\"_blank\">https://wandb.ai/harshmp/truck-delay-classification/runs/jctdgia3</a><br/>Synced 5 W&B file(s), 7 media file(s), 8 artifact file(s) and 1 other file(s)"
      ],
      "text/plain": [
       "<IPython.core.display.HTML object>"
      ]
     },
     "metadata": {},
     "output_type": "display_data"
    },
    {
     "data": {
      "text/html": [
       "Find logs at: <code>.\\wandb\\run-20240925_161405-jctdgia3\\logs</code>"
      ],
      "text/plain": [
       "<IPython.core.display.HTML object>"
      ]
     },
     "metadata": {},
     "output_type": "display_data"
    },
    {
     "name": "stderr",
     "output_type": "stream",
     "text": [
      "wandb: Agent Starting Run: yvjwww24 with config:\n",
      "wandb: \tmax_depth: 5\n",
      "wandb: \tmin_samples_split: 4\n",
      "wandb: \tn_estimators: 16\n",
      "Failed to detect the name of this notebook, you can set it manually with the WANDB_NOTEBOOK_NAME environment variable to enable code saving.\n",
      "wandb: WARNING Ignored wandb.init() arg project when running a sweep.\n"
     ]
    },
    {
     "data": {
      "text/html": [
       "wandb version 0.18.1 is available!  To upgrade, please run:\n",
       " $ pip install wandb --upgrade"
      ],
      "text/plain": [
       "<IPython.core.display.HTML object>"
      ]
     },
     "metadata": {},
     "output_type": "display_data"
    },
    {
     "data": {
      "text/html": [
       "Tracking run with wandb version 0.16.1"
      ],
      "text/plain": [
       "<IPython.core.display.HTML object>"
      ]
     },
     "metadata": {},
     "output_type": "display_data"
    },
    {
     "data": {
      "text/html": [
       "Run data is saved locally in <code>e:\\Artificial Intelligence\\Projects\\Predictive-Truck-Delay-Management-in-Logistics\\wandb\\run-20240925_161425-yvjwww24</code>"
      ],
      "text/plain": [
       "<IPython.core.display.HTML object>"
      ]
     },
     "metadata": {},
     "output_type": "display_data"
    },
    {
     "data": {
      "text/html": [
       "Syncing run <strong><a href='https://wandb.ai/harshmp/truck-delay-classification/runs/yvjwww24' target=\"_blank\">feasible-sweep-23</a></strong> to <a href='https://wandb.ai/harshmp/truck-delay-classification' target=\"_blank\">Weights & Biases</a> (<a href='https://wandb.me/run' target=\"_blank\">docs</a>)<br/>Sweep page: <a href='https://wandb.ai/harshmp/truck-delay-classification/sweeps/ilvq0mj4' target=\"_blank\">https://wandb.ai/harshmp/truck-delay-classification/sweeps/ilvq0mj4</a>"
      ],
      "text/plain": [
       "<IPython.core.display.HTML object>"
      ]
     },
     "metadata": {},
     "output_type": "display_data"
    },
    {
     "data": {
      "text/html": [
       " View project at <a href='https://wandb.ai/harshmp/truck-delay-classification' target=\"_blank\">https://wandb.ai/harshmp/truck-delay-classification</a>"
      ],
      "text/plain": [
       "<IPython.core.display.HTML object>"
      ]
     },
     "metadata": {},
     "output_type": "display_data"
    },
    {
     "data": {
      "text/html": [
       " View sweep at <a href='https://wandb.ai/harshmp/truck-delay-classification/sweeps/ilvq0mj4' target=\"_blank\">https://wandb.ai/harshmp/truck-delay-classification/sweeps/ilvq0mj4</a>"
      ],
      "text/plain": [
       "<IPython.core.display.HTML object>"
      ]
     },
     "metadata": {},
     "output_type": "display_data"
    },
    {
     "data": {
      "text/html": [
       " View run at <a href='https://wandb.ai/harshmp/truck-delay-classification/runs/yvjwww24' target=\"_blank\">https://wandb.ai/harshmp/truck-delay-classification/runs/yvjwww24</a>"
      ],
      "text/plain": [
       "<IPython.core.display.HTML object>"
      ]
     },
     "metadata": {},
     "output_type": "display_data"
    },
    {
     "name": "stdout",
     "output_type": "stream",
     "text": [
      "F1_score Train: 0.607\n",
      "F1_score Valid: 0.6713\n",
      "F1_score Test: 0.7718\n"
     ]
    },
    {
     "name": "stderr",
     "output_type": "stream",
     "text": [
      "wandb: \n",
      "wandb: Plotting RandomForestClassifier.\n",
      "wandb: Logged feature importances.\n",
      "wandb: Logged confusion matrix.\n",
      "wandb: Logged summary metrics.\n",
      "wandb: Logged class proportions.\n",
      "wandb: Logged calibration curve.\n",
      "wandb: Logged roc curve.\n",
      "wandb: Logged precision-recall curve.\n"
     ]
    },
    {
     "data": {
      "application/vnd.jupyter.widget-view+json": {
       "model_id": "f3821e0994dd4098a4814137431c273e",
       "version_major": 2,
       "version_minor": 0
      },
      "text/plain": [
       "VBox(children=(Label(value='0.203 MB of 0.203 MB uploaded\\r'), FloatProgress(value=1.0, max=1.0)))"
      ]
     },
     "metadata": {},
     "output_type": "display_data"
    },
    {
     "data": {
      "text/html": [
       "<style>\n",
       "    table.wandb td:nth-child(1) { padding: 0 10px; text-align: left ; width: auto;} td:nth-child(2) {text-align: left ; width: 100%}\n",
       "    .wandb-row { display: flex; flex-direction: row; flex-wrap: wrap; justify-content: flex-start; width: 100% }\n",
       "    .wandb-col { display: flex; flex-direction: column; flex-basis: 100%; flex: 1; padding: 10px; }\n",
       "    </style>\n",
       "<div class=\"wandb-row\"><div class=\"wandb-col\"><h3>Run history:</h3><br/><table class=\"wandb\"><tr><td>f1_score</td><td>▁</td></tr><tr><td>f1_score_train</td><td>▁</td></tr><tr><td>f1_score_valid</td><td>▁</td></tr></table><br/></div><div class=\"wandb-col\"><h3>Run summary:</h3><br/><table class=\"wandb\"><tr><td>f1_score</td><td>0.77177</td></tr><tr><td>f1_score_train</td><td>0.60698</td></tr><tr><td>f1_score_valid</td><td>0.67135</td></tr></table><br/></div></div>"
      ],
      "text/plain": [
       "<IPython.core.display.HTML object>"
      ]
     },
     "metadata": {},
     "output_type": "display_data"
    },
    {
     "data": {
      "text/html": [
       " View run <strong style=\"color:#cdcd00\">feasible-sweep-23</strong> at: <a href='https://wandb.ai/harshmp/truck-delay-classification/runs/yvjwww24' target=\"_blank\">https://wandb.ai/harshmp/truck-delay-classification/runs/yvjwww24</a><br/>Synced 5 W&B file(s), 7 media file(s), 8 artifact file(s) and 1 other file(s)"
      ],
      "text/plain": [
       "<IPython.core.display.HTML object>"
      ]
     },
     "metadata": {},
     "output_type": "display_data"
    },
    {
     "data": {
      "text/html": [
       "Find logs at: <code>.\\wandb\\run-20240925_161425-yvjwww24\\logs</code>"
      ],
      "text/plain": [
       "<IPython.core.display.HTML object>"
      ]
     },
     "metadata": {},
     "output_type": "display_data"
    },
    {
     "name": "stderr",
     "output_type": "stream",
     "text": [
      "wandb: Agent Starting Run: e4bva9i4 with config:\n",
      "wandb: \tmax_depth: 5\n",
      "wandb: \tmin_samples_split: 4\n",
      "wandb: \tn_estimators: 20\n",
      "Failed to detect the name of this notebook, you can set it manually with the WANDB_NOTEBOOK_NAME environment variable to enable code saving.\n",
      "wandb: WARNING Ignored wandb.init() arg project when running a sweep.\n"
     ]
    },
    {
     "data": {
      "text/html": [
       "wandb version 0.18.1 is available!  To upgrade, please run:\n",
       " $ pip install wandb --upgrade"
      ],
      "text/plain": [
       "<IPython.core.display.HTML object>"
      ]
     },
     "metadata": {},
     "output_type": "display_data"
    },
    {
     "data": {
      "text/html": [
       "Tracking run with wandb version 0.16.1"
      ],
      "text/plain": [
       "<IPython.core.display.HTML object>"
      ]
     },
     "metadata": {},
     "output_type": "display_data"
    },
    {
     "data": {
      "text/html": [
       "Run data is saved locally in <code>e:\\Artificial Intelligence\\Projects\\Predictive-Truck-Delay-Management-in-Logistics\\wandb\\run-20240925_161445-e4bva9i4</code>"
      ],
      "text/plain": [
       "<IPython.core.display.HTML object>"
      ]
     },
     "metadata": {},
     "output_type": "display_data"
    },
    {
     "data": {
      "text/html": [
       "Syncing run <strong><a href='https://wandb.ai/harshmp/truck-delay-classification/runs/e4bva9i4' target=\"_blank\">lyric-sweep-24</a></strong> to <a href='https://wandb.ai/harshmp/truck-delay-classification' target=\"_blank\">Weights & Biases</a> (<a href='https://wandb.me/run' target=\"_blank\">docs</a>)<br/>Sweep page: <a href='https://wandb.ai/harshmp/truck-delay-classification/sweeps/ilvq0mj4' target=\"_blank\">https://wandb.ai/harshmp/truck-delay-classification/sweeps/ilvq0mj4</a>"
      ],
      "text/plain": [
       "<IPython.core.display.HTML object>"
      ]
     },
     "metadata": {},
     "output_type": "display_data"
    },
    {
     "data": {
      "text/html": [
       " View project at <a href='https://wandb.ai/harshmp/truck-delay-classification' target=\"_blank\">https://wandb.ai/harshmp/truck-delay-classification</a>"
      ],
      "text/plain": [
       "<IPython.core.display.HTML object>"
      ]
     },
     "metadata": {},
     "output_type": "display_data"
    },
    {
     "data": {
      "text/html": [
       " View sweep at <a href='https://wandb.ai/harshmp/truck-delay-classification/sweeps/ilvq0mj4' target=\"_blank\">https://wandb.ai/harshmp/truck-delay-classification/sweeps/ilvq0mj4</a>"
      ],
      "text/plain": [
       "<IPython.core.display.HTML object>"
      ]
     },
     "metadata": {},
     "output_type": "display_data"
    },
    {
     "data": {
      "text/html": [
       " View run at <a href='https://wandb.ai/harshmp/truck-delay-classification/runs/e4bva9i4' target=\"_blank\">https://wandb.ai/harshmp/truck-delay-classification/runs/e4bva9i4</a>"
      ],
      "text/plain": [
       "<IPython.core.display.HTML object>"
      ]
     },
     "metadata": {},
     "output_type": "display_data"
    },
    {
     "name": "stdout",
     "output_type": "stream",
     "text": [
      "F1_score Train: 0.6021\n",
      "F1_score Valid: 0.6678\n",
      "F1_score Test: 0.7699\n"
     ]
    },
    {
     "name": "stderr",
     "output_type": "stream",
     "text": [
      "wandb: \n",
      "wandb: Plotting RandomForestClassifier.\n",
      "wandb: Logged feature importances.\n",
      "wandb: Logged confusion matrix.\n",
      "wandb: Logged summary metrics.\n",
      "wandb: Logged class proportions.\n",
      "wandb: Logged calibration curve.\n",
      "wandb: Logged roc curve.\n",
      "wandb: Logged precision-recall curve.\n"
     ]
    },
    {
     "data": {
      "application/vnd.jupyter.widget-view+json": {
       "model_id": "0cc28a55e6054b29ab37e83dab843d2e",
       "version_major": 2,
       "version_minor": 0
      },
      "text/plain": [
       "VBox(children=(Label(value='0.236 MB of 0.236 MB uploaded\\r'), FloatProgress(value=1.0, max=1.0)))"
      ]
     },
     "metadata": {},
     "output_type": "display_data"
    },
    {
     "data": {
      "text/html": [
       "<style>\n",
       "    table.wandb td:nth-child(1) { padding: 0 10px; text-align: left ; width: auto;} td:nth-child(2) {text-align: left ; width: 100%}\n",
       "    .wandb-row { display: flex; flex-direction: row; flex-wrap: wrap; justify-content: flex-start; width: 100% }\n",
       "    .wandb-col { display: flex; flex-direction: column; flex-basis: 100%; flex: 1; padding: 10px; }\n",
       "    </style>\n",
       "<div class=\"wandb-row\"><div class=\"wandb-col\"><h3>Run history:</h3><br/><table class=\"wandb\"><tr><td>f1_score</td><td>▁</td></tr><tr><td>f1_score_train</td><td>▁</td></tr><tr><td>f1_score_valid</td><td>▁</td></tr></table><br/></div><div class=\"wandb-col\"><h3>Run summary:</h3><br/><table class=\"wandb\"><tr><td>f1_score</td><td>0.76991</td></tr><tr><td>f1_score_train</td><td>0.60205</td></tr><tr><td>f1_score_valid</td><td>0.66782</td></tr></table><br/></div></div>"
      ],
      "text/plain": [
       "<IPython.core.display.HTML object>"
      ]
     },
     "metadata": {},
     "output_type": "display_data"
    },
    {
     "data": {
      "text/html": [
       " View run <strong style=\"color:#cdcd00\">lyric-sweep-24</strong> at: <a href='https://wandb.ai/harshmp/truck-delay-classification/runs/e4bva9i4' target=\"_blank\">https://wandb.ai/harshmp/truck-delay-classification/runs/e4bva9i4</a><br/>Synced 5 W&B file(s), 7 media file(s), 8 artifact file(s) and 1 other file(s)"
      ],
      "text/plain": [
       "<IPython.core.display.HTML object>"
      ]
     },
     "metadata": {},
     "output_type": "display_data"
    },
    {
     "data": {
      "text/html": [
       "Find logs at: <code>.\\wandb\\run-20240925_161445-e4bva9i4\\logs</code>"
      ],
      "text/plain": [
       "<IPython.core.display.HTML object>"
      ]
     },
     "metadata": {},
     "output_type": "display_data"
    },
    {
     "name": "stderr",
     "output_type": "stream",
     "text": [
      "wandb: Agent Starting Run: hhzciito with config:\n",
      "wandb: \tmax_depth: 5\n",
      "wandb: \tmin_samples_split: 8\n",
      "wandb: \tn_estimators: 8\n",
      "Failed to detect the name of this notebook, you can set it manually with the WANDB_NOTEBOOK_NAME environment variable to enable code saving.\n",
      "wandb: WARNING Ignored wandb.init() arg project when running a sweep.\n"
     ]
    },
    {
     "data": {
      "text/html": [
       "wandb version 0.18.1 is available!  To upgrade, please run:\n",
       " $ pip install wandb --upgrade"
      ],
      "text/plain": [
       "<IPython.core.display.HTML object>"
      ]
     },
     "metadata": {},
     "output_type": "display_data"
    },
    {
     "data": {
      "text/html": [
       "Tracking run with wandb version 0.16.1"
      ],
      "text/plain": [
       "<IPython.core.display.HTML object>"
      ]
     },
     "metadata": {},
     "output_type": "display_data"
    },
    {
     "data": {
      "text/html": [
       "Run data is saved locally in <code>e:\\Artificial Intelligence\\Projects\\Predictive-Truck-Delay-Management-in-Logistics\\wandb\\run-20240925_161507-hhzciito</code>"
      ],
      "text/plain": [
       "<IPython.core.display.HTML object>"
      ]
     },
     "metadata": {},
     "output_type": "display_data"
    },
    {
     "data": {
      "text/html": [
       "Syncing run <strong><a href='https://wandb.ai/harshmp/truck-delay-classification/runs/hhzciito' target=\"_blank\">magic-sweep-25</a></strong> to <a href='https://wandb.ai/harshmp/truck-delay-classification' target=\"_blank\">Weights & Biases</a> (<a href='https://wandb.me/run' target=\"_blank\">docs</a>)<br/>Sweep page: <a href='https://wandb.ai/harshmp/truck-delay-classification/sweeps/ilvq0mj4' target=\"_blank\">https://wandb.ai/harshmp/truck-delay-classification/sweeps/ilvq0mj4</a>"
      ],
      "text/plain": [
       "<IPython.core.display.HTML object>"
      ]
     },
     "metadata": {},
     "output_type": "display_data"
    },
    {
     "data": {
      "text/html": [
       " View project at <a href='https://wandb.ai/harshmp/truck-delay-classification' target=\"_blank\">https://wandb.ai/harshmp/truck-delay-classification</a>"
      ],
      "text/plain": [
       "<IPython.core.display.HTML object>"
      ]
     },
     "metadata": {},
     "output_type": "display_data"
    },
    {
     "data": {
      "text/html": [
       " View sweep at <a href='https://wandb.ai/harshmp/truck-delay-classification/sweeps/ilvq0mj4' target=\"_blank\">https://wandb.ai/harshmp/truck-delay-classification/sweeps/ilvq0mj4</a>"
      ],
      "text/plain": [
       "<IPython.core.display.HTML object>"
      ]
     },
     "metadata": {},
     "output_type": "display_data"
    },
    {
     "data": {
      "text/html": [
       " View run at <a href='https://wandb.ai/harshmp/truck-delay-classification/runs/hhzciito' target=\"_blank\">https://wandb.ai/harshmp/truck-delay-classification/runs/hhzciito</a>"
      ],
      "text/plain": [
       "<IPython.core.display.HTML object>"
      ]
     },
     "metadata": {},
     "output_type": "display_data"
    },
    {
     "name": "stdout",
     "output_type": "stream",
     "text": [
      "F1_score Train: 0.5992\n",
      "F1_score Valid: 0.6601\n",
      "F1_score Test: 0.7666\n"
     ]
    },
    {
     "name": "stderr",
     "output_type": "stream",
     "text": [
      "wandb: \n",
      "wandb: Plotting RandomForestClassifier.\n",
      "wandb: Logged feature importances.\n",
      "wandb: Logged confusion matrix.\n",
      "wandb: Logged summary metrics.\n",
      "wandb: Logged class proportions.\n",
      "wandb: Logged calibration curve.\n",
      "wandb: Logged roc curve.\n",
      "wandb: Logged precision-recall curve.\n"
     ]
    },
    {
     "data": {
      "application/vnd.jupyter.widget-view+json": {
       "model_id": "7eb8d4ea575843469cf867a3db118092",
       "version_major": 2,
       "version_minor": 0
      },
      "text/plain": [
       "VBox(children=(Label(value='0.138 MB of 0.138 MB uploaded\\r'), FloatProgress(value=1.0, max=1.0)))"
      ]
     },
     "metadata": {},
     "output_type": "display_data"
    },
    {
     "data": {
      "text/html": [
       "<style>\n",
       "    table.wandb td:nth-child(1) { padding: 0 10px; text-align: left ; width: auto;} td:nth-child(2) {text-align: left ; width: 100%}\n",
       "    .wandb-row { display: flex; flex-direction: row; flex-wrap: wrap; justify-content: flex-start; width: 100% }\n",
       "    .wandb-col { display: flex; flex-direction: column; flex-basis: 100%; flex: 1; padding: 10px; }\n",
       "    </style>\n",
       "<div class=\"wandb-row\"><div class=\"wandb-col\"><h3>Run history:</h3><br/><table class=\"wandb\"><tr><td>f1_score</td><td>▁</td></tr><tr><td>f1_score_train</td><td>▁</td></tr><tr><td>f1_score_valid</td><td>▁</td></tr></table><br/></div><div class=\"wandb-col\"><h3>Run summary:</h3><br/><table class=\"wandb\"><tr><td>f1_score</td><td>0.76658</td></tr><tr><td>f1_score_train</td><td>0.59923</td></tr><tr><td>f1_score_valid</td><td>0.66007</td></tr></table><br/></div></div>"
      ],
      "text/plain": [
       "<IPython.core.display.HTML object>"
      ]
     },
     "metadata": {},
     "output_type": "display_data"
    },
    {
     "data": {
      "text/html": [
       " View run <strong style=\"color:#cdcd00\">magic-sweep-25</strong> at: <a href='https://wandb.ai/harshmp/truck-delay-classification/runs/hhzciito' target=\"_blank\">https://wandb.ai/harshmp/truck-delay-classification/runs/hhzciito</a><br/>Synced 5 W&B file(s), 7 media file(s), 8 artifact file(s) and 1 other file(s)"
      ],
      "text/plain": [
       "<IPython.core.display.HTML object>"
      ]
     },
     "metadata": {},
     "output_type": "display_data"
    },
    {
     "data": {
      "text/html": [
       "Find logs at: <code>.\\wandb\\run-20240925_161507-hhzciito\\logs</code>"
      ],
      "text/plain": [
       "<IPython.core.display.HTML object>"
      ]
     },
     "metadata": {},
     "output_type": "display_data"
    },
    {
     "name": "stderr",
     "output_type": "stream",
     "text": [
      "wandb: Agent Starting Run: kignqpq4 with config:\n",
      "wandb: \tmax_depth: 5\n",
      "wandb: \tmin_samples_split: 8\n",
      "wandb: \tn_estimators: 12\n",
      "Failed to detect the name of this notebook, you can set it manually with the WANDB_NOTEBOOK_NAME environment variable to enable code saving.\n",
      "wandb: WARNING Ignored wandb.init() arg project when running a sweep.\n"
     ]
    },
    {
     "data": {
      "text/html": [
       "wandb version 0.18.1 is available!  To upgrade, please run:\n",
       " $ pip install wandb --upgrade"
      ],
      "text/plain": [
       "<IPython.core.display.HTML object>"
      ]
     },
     "metadata": {},
     "output_type": "display_data"
    },
    {
     "data": {
      "text/html": [
       "Tracking run with wandb version 0.16.1"
      ],
      "text/plain": [
       "<IPython.core.display.HTML object>"
      ]
     },
     "metadata": {},
     "output_type": "display_data"
    },
    {
     "data": {
      "text/html": [
       "Run data is saved locally in <code>e:\\Artificial Intelligence\\Projects\\Predictive-Truck-Delay-Management-in-Logistics\\wandb\\run-20240925_161527-kignqpq4</code>"
      ],
      "text/plain": [
       "<IPython.core.display.HTML object>"
      ]
     },
     "metadata": {},
     "output_type": "display_data"
    },
    {
     "data": {
      "text/html": [
       "Syncing run <strong><a href='https://wandb.ai/harshmp/truck-delay-classification/runs/kignqpq4' target=\"_blank\">silver-sweep-26</a></strong> to <a href='https://wandb.ai/harshmp/truck-delay-classification' target=\"_blank\">Weights & Biases</a> (<a href='https://wandb.me/run' target=\"_blank\">docs</a>)<br/>Sweep page: <a href='https://wandb.ai/harshmp/truck-delay-classification/sweeps/ilvq0mj4' target=\"_blank\">https://wandb.ai/harshmp/truck-delay-classification/sweeps/ilvq0mj4</a>"
      ],
      "text/plain": [
       "<IPython.core.display.HTML object>"
      ]
     },
     "metadata": {},
     "output_type": "display_data"
    },
    {
     "data": {
      "text/html": [
       " View project at <a href='https://wandb.ai/harshmp/truck-delay-classification' target=\"_blank\">https://wandb.ai/harshmp/truck-delay-classification</a>"
      ],
      "text/plain": [
       "<IPython.core.display.HTML object>"
      ]
     },
     "metadata": {},
     "output_type": "display_data"
    },
    {
     "data": {
      "text/html": [
       " View sweep at <a href='https://wandb.ai/harshmp/truck-delay-classification/sweeps/ilvq0mj4' target=\"_blank\">https://wandb.ai/harshmp/truck-delay-classification/sweeps/ilvq0mj4</a>"
      ],
      "text/plain": [
       "<IPython.core.display.HTML object>"
      ]
     },
     "metadata": {},
     "output_type": "display_data"
    },
    {
     "data": {
      "text/html": [
       " View run at <a href='https://wandb.ai/harshmp/truck-delay-classification/runs/kignqpq4' target=\"_blank\">https://wandb.ai/harshmp/truck-delay-classification/runs/kignqpq4</a>"
      ],
      "text/plain": [
       "<IPython.core.display.HTML object>"
      ]
     },
     "metadata": {},
     "output_type": "display_data"
    },
    {
     "name": "stdout",
     "output_type": "stream",
     "text": [
      "F1_score Train: 0.5942\n",
      "F1_score Valid: 0.6609\n",
      "F1_score Test: 0.771\n"
     ]
    },
    {
     "name": "stderr",
     "output_type": "stream",
     "text": [
      "wandb: \n",
      "wandb: Plotting RandomForestClassifier.\n",
      "wandb: Logged feature importances.\n",
      "wandb: Logged confusion matrix.\n",
      "wandb: Logged summary metrics.\n",
      "wandb: Logged class proportions.\n",
      "wandb: Logged calibration curve.\n",
      "wandb: Logged roc curve.\n",
      "wandb: Logged precision-recall curve.\n"
     ]
    },
    {
     "data": {
      "application/vnd.jupyter.widget-view+json": {
       "model_id": "4bb9fa2326c844ef87956c1a0a29d7fa",
       "version_major": 2,
       "version_minor": 0
      },
      "text/plain": [
       "VBox(children=(Label(value='0.165 MB of 0.165 MB uploaded\\r'), FloatProgress(value=1.0, max=1.0)))"
      ]
     },
     "metadata": {},
     "output_type": "display_data"
    },
    {
     "data": {
      "text/html": [
       "<style>\n",
       "    table.wandb td:nth-child(1) { padding: 0 10px; text-align: left ; width: auto;} td:nth-child(2) {text-align: left ; width: 100%}\n",
       "    .wandb-row { display: flex; flex-direction: row; flex-wrap: wrap; justify-content: flex-start; width: 100% }\n",
       "    .wandb-col { display: flex; flex-direction: column; flex-basis: 100%; flex: 1; padding: 10px; }\n",
       "    </style>\n",
       "<div class=\"wandb-row\"><div class=\"wandb-col\"><h3>Run history:</h3><br/><table class=\"wandb\"><tr><td>f1_score</td><td>▁</td></tr><tr><td>f1_score_train</td><td>▁</td></tr><tr><td>f1_score_valid</td><td>▁</td></tr></table><br/></div><div class=\"wandb-col\"><h3>Run summary:</h3><br/><table class=\"wandb\"><tr><td>f1_score</td><td>0.77096</td></tr><tr><td>f1_score_train</td><td>0.59422</td></tr><tr><td>f1_score_valid</td><td>0.66093</td></tr></table><br/></div></div>"
      ],
      "text/plain": [
       "<IPython.core.display.HTML object>"
      ]
     },
     "metadata": {},
     "output_type": "display_data"
    },
    {
     "data": {
      "text/html": [
       " View run <strong style=\"color:#cdcd00\">silver-sweep-26</strong> at: <a href='https://wandb.ai/harshmp/truck-delay-classification/runs/kignqpq4' target=\"_blank\">https://wandb.ai/harshmp/truck-delay-classification/runs/kignqpq4</a><br/>Synced 5 W&B file(s), 7 media file(s), 8 artifact file(s) and 1 other file(s)"
      ],
      "text/plain": [
       "<IPython.core.display.HTML object>"
      ]
     },
     "metadata": {},
     "output_type": "display_data"
    },
    {
     "data": {
      "text/html": [
       "Find logs at: <code>.\\wandb\\run-20240925_161527-kignqpq4\\logs</code>"
      ],
      "text/plain": [
       "<IPython.core.display.HTML object>"
      ]
     },
     "metadata": {},
     "output_type": "display_data"
    },
    {
     "name": "stderr",
     "output_type": "stream",
     "text": [
      "wandb: Agent Starting Run: lo18yhxl with config:\n",
      "wandb: \tmax_depth: 5\n",
      "wandb: \tmin_samples_split: 8\n",
      "wandb: \tn_estimators: 16\n",
      "Failed to detect the name of this notebook, you can set it manually with the WANDB_NOTEBOOK_NAME environment variable to enable code saving.\n",
      "wandb: WARNING Ignored wandb.init() arg project when running a sweep.\n"
     ]
    },
    {
     "data": {
      "text/html": [
       "wandb version 0.18.1 is available!  To upgrade, please run:\n",
       " $ pip install wandb --upgrade"
      ],
      "text/plain": [
       "<IPython.core.display.HTML object>"
      ]
     },
     "metadata": {},
     "output_type": "display_data"
    },
    {
     "data": {
      "text/html": [
       "Tracking run with wandb version 0.16.1"
      ],
      "text/plain": [
       "<IPython.core.display.HTML object>"
      ]
     },
     "metadata": {},
     "output_type": "display_data"
    },
    {
     "data": {
      "text/html": [
       "Run data is saved locally in <code>e:\\Artificial Intelligence\\Projects\\Predictive-Truck-Delay-Management-in-Logistics\\wandb\\run-20240925_161552-lo18yhxl</code>"
      ],
      "text/plain": [
       "<IPython.core.display.HTML object>"
      ]
     },
     "metadata": {},
     "output_type": "display_data"
    },
    {
     "data": {
      "text/html": [
       "Syncing run <strong><a href='https://wandb.ai/harshmp/truck-delay-classification/runs/lo18yhxl' target=\"_blank\">peachy-sweep-27</a></strong> to <a href='https://wandb.ai/harshmp/truck-delay-classification' target=\"_blank\">Weights & Biases</a> (<a href='https://wandb.me/run' target=\"_blank\">docs</a>)<br/>Sweep page: <a href='https://wandb.ai/harshmp/truck-delay-classification/sweeps/ilvq0mj4' target=\"_blank\">https://wandb.ai/harshmp/truck-delay-classification/sweeps/ilvq0mj4</a>"
      ],
      "text/plain": [
       "<IPython.core.display.HTML object>"
      ]
     },
     "metadata": {},
     "output_type": "display_data"
    },
    {
     "data": {
      "text/html": [
       " View project at <a href='https://wandb.ai/harshmp/truck-delay-classification' target=\"_blank\">https://wandb.ai/harshmp/truck-delay-classification</a>"
      ],
      "text/plain": [
       "<IPython.core.display.HTML object>"
      ]
     },
     "metadata": {},
     "output_type": "display_data"
    },
    {
     "data": {
      "text/html": [
       " View sweep at <a href='https://wandb.ai/harshmp/truck-delay-classification/sweeps/ilvq0mj4' target=\"_blank\">https://wandb.ai/harshmp/truck-delay-classification/sweeps/ilvq0mj4</a>"
      ],
      "text/plain": [
       "<IPython.core.display.HTML object>"
      ]
     },
     "metadata": {},
     "output_type": "display_data"
    },
    {
     "data": {
      "text/html": [
       " View run at <a href='https://wandb.ai/harshmp/truck-delay-classification/runs/lo18yhxl' target=\"_blank\">https://wandb.ai/harshmp/truck-delay-classification/runs/lo18yhxl</a>"
      ],
      "text/plain": [
       "<IPython.core.display.HTML object>"
      ]
     },
     "metadata": {},
     "output_type": "display_data"
    },
    {
     "name": "stdout",
     "output_type": "stream",
     "text": [
      "F1_score Train: 0.6053\n",
      "F1_score Valid: 0.6635\n",
      "F1_score Test: 0.774\n"
     ]
    },
    {
     "name": "stderr",
     "output_type": "stream",
     "text": [
      "wandb: \n",
      "wandb: Plotting RandomForestClassifier.\n",
      "wandb: Logged feature importances.\n",
      "wandb: Logged confusion matrix.\n",
      "wandb: Logged summary metrics.\n",
      "wandb: Logged class proportions.\n",
      "wandb: Logged calibration curve.\n",
      "wandb: Logged roc curve.\n",
      "wandb: Logged precision-recall curve.\n"
     ]
    },
    {
     "data": {
      "application/vnd.jupyter.widget-view+json": {
       "model_id": "2c37acc4e5474d219c4791f85d067677",
       "version_major": 2,
       "version_minor": 0
      },
      "text/plain": [
       "VBox(children=(Label(value='0.199 MB of 0.199 MB uploaded\\r'), FloatProgress(value=1.0, max=1.0)))"
      ]
     },
     "metadata": {},
     "output_type": "display_data"
    },
    {
     "data": {
      "text/html": [
       "<style>\n",
       "    table.wandb td:nth-child(1) { padding: 0 10px; text-align: left ; width: auto;} td:nth-child(2) {text-align: left ; width: 100%}\n",
       "    .wandb-row { display: flex; flex-direction: row; flex-wrap: wrap; justify-content: flex-start; width: 100% }\n",
       "    .wandb-col { display: flex; flex-direction: column; flex-basis: 100%; flex: 1; padding: 10px; }\n",
       "    </style>\n",
       "<div class=\"wandb-row\"><div class=\"wandb-col\"><h3>Run history:</h3><br/><table class=\"wandb\"><tr><td>f1_score</td><td>▁</td></tr><tr><td>f1_score_train</td><td>▁</td></tr><tr><td>f1_score_valid</td><td>▁</td></tr></table><br/></div><div class=\"wandb-col\"><h3>Run summary:</h3><br/><table class=\"wandb\"><tr><td>f1_score</td><td>0.77399</td></tr><tr><td>f1_score_train</td><td>0.6053</td></tr><tr><td>f1_score_valid</td><td>0.66355</td></tr></table><br/></div></div>"
      ],
      "text/plain": [
       "<IPython.core.display.HTML object>"
      ]
     },
     "metadata": {},
     "output_type": "display_data"
    },
    {
     "data": {
      "text/html": [
       " View run <strong style=\"color:#cdcd00\">peachy-sweep-27</strong> at: <a href='https://wandb.ai/harshmp/truck-delay-classification/runs/lo18yhxl' target=\"_blank\">https://wandb.ai/harshmp/truck-delay-classification/runs/lo18yhxl</a><br/>Synced 5 W&B file(s), 7 media file(s), 8 artifact file(s) and 1 other file(s)"
      ],
      "text/plain": [
       "<IPython.core.display.HTML object>"
      ]
     },
     "metadata": {},
     "output_type": "display_data"
    },
    {
     "data": {
      "text/html": [
       "Find logs at: <code>.\\wandb\\run-20240925_161552-lo18yhxl\\logs</code>"
      ],
      "text/plain": [
       "<IPython.core.display.HTML object>"
      ]
     },
     "metadata": {},
     "output_type": "display_data"
    },
    {
     "name": "stderr",
     "output_type": "stream",
     "text": [
      "wandb: Agent Starting Run: 2lq24qan with config:\n",
      "wandb: \tmax_depth: 5\n",
      "wandb: \tmin_samples_split: 8\n",
      "wandb: \tn_estimators: 20\n",
      "Failed to detect the name of this notebook, you can set it manually with the WANDB_NOTEBOOK_NAME environment variable to enable code saving.\n",
      "wandb: WARNING Ignored wandb.init() arg project when running a sweep.\n"
     ]
    },
    {
     "data": {
      "text/html": [
       "wandb version 0.18.1 is available!  To upgrade, please run:\n",
       " $ pip install wandb --upgrade"
      ],
      "text/plain": [
       "<IPython.core.display.HTML object>"
      ]
     },
     "metadata": {},
     "output_type": "display_data"
    },
    {
     "data": {
      "text/html": [
       "Tracking run with wandb version 0.16.1"
      ],
      "text/plain": [
       "<IPython.core.display.HTML object>"
      ]
     },
     "metadata": {},
     "output_type": "display_data"
    },
    {
     "data": {
      "text/html": [
       "Run data is saved locally in <code>e:\\Artificial Intelligence\\Projects\\Predictive-Truck-Delay-Management-in-Logistics\\wandb\\run-20240925_161614-2lq24qan</code>"
      ],
      "text/plain": [
       "<IPython.core.display.HTML object>"
      ]
     },
     "metadata": {},
     "output_type": "display_data"
    },
    {
     "data": {
      "text/html": [
       "Syncing run <strong><a href='https://wandb.ai/harshmp/truck-delay-classification/runs/2lq24qan' target=\"_blank\">smooth-sweep-28</a></strong> to <a href='https://wandb.ai/harshmp/truck-delay-classification' target=\"_blank\">Weights & Biases</a> (<a href='https://wandb.me/run' target=\"_blank\">docs</a>)<br/>Sweep page: <a href='https://wandb.ai/harshmp/truck-delay-classification/sweeps/ilvq0mj4' target=\"_blank\">https://wandb.ai/harshmp/truck-delay-classification/sweeps/ilvq0mj4</a>"
      ],
      "text/plain": [
       "<IPython.core.display.HTML object>"
      ]
     },
     "metadata": {},
     "output_type": "display_data"
    },
    {
     "data": {
      "text/html": [
       " View project at <a href='https://wandb.ai/harshmp/truck-delay-classification' target=\"_blank\">https://wandb.ai/harshmp/truck-delay-classification</a>"
      ],
      "text/plain": [
       "<IPython.core.display.HTML object>"
      ]
     },
     "metadata": {},
     "output_type": "display_data"
    },
    {
     "data": {
      "text/html": [
       " View sweep at <a href='https://wandb.ai/harshmp/truck-delay-classification/sweeps/ilvq0mj4' target=\"_blank\">https://wandb.ai/harshmp/truck-delay-classification/sweeps/ilvq0mj4</a>"
      ],
      "text/plain": [
       "<IPython.core.display.HTML object>"
      ]
     },
     "metadata": {},
     "output_type": "display_data"
    },
    {
     "data": {
      "text/html": [
       " View run at <a href='https://wandb.ai/harshmp/truck-delay-classification/runs/2lq24qan' target=\"_blank\">https://wandb.ai/harshmp/truck-delay-classification/runs/2lq24qan</a>"
      ],
      "text/plain": [
       "<IPython.core.display.HTML object>"
      ]
     },
     "metadata": {},
     "output_type": "display_data"
    },
    {
     "name": "stdout",
     "output_type": "stream",
     "text": [
      "F1_score Train: 0.6006\n",
      "F1_score Valid: 0.6644\n",
      "F1_score Test: 0.7714\n"
     ]
    },
    {
     "name": "stderr",
     "output_type": "stream",
     "text": [
      "wandb: \n",
      "wandb: Plotting RandomForestClassifier.\n",
      "wandb: Logged feature importances.\n",
      "wandb: Logged confusion matrix.\n",
      "wandb: Logged summary metrics.\n",
      "wandb: Logged class proportions.\n",
      "wandb: Logged calibration curve.\n",
      "wandb: Logged roc curve.\n",
      "wandb: Logged precision-recall curve.\n"
     ]
    },
    {
     "data": {
      "application/vnd.jupyter.widget-view+json": {
       "model_id": "3d92c9f6fa8d45c58ad39fe089269f3b",
       "version_major": 2,
       "version_minor": 0
      },
      "text/plain": [
       "VBox(children=(Label(value='0.230 MB of 0.230 MB uploaded\\r'), FloatProgress(value=1.0, max=1.0)))"
      ]
     },
     "metadata": {},
     "output_type": "display_data"
    },
    {
     "data": {
      "text/html": [
       "<style>\n",
       "    table.wandb td:nth-child(1) { padding: 0 10px; text-align: left ; width: auto;} td:nth-child(2) {text-align: left ; width: 100%}\n",
       "    .wandb-row { display: flex; flex-direction: row; flex-wrap: wrap; justify-content: flex-start; width: 100% }\n",
       "    .wandb-col { display: flex; flex-direction: column; flex-basis: 100%; flex: 1; padding: 10px; }\n",
       "    </style>\n",
       "<div class=\"wandb-row\"><div class=\"wandb-col\"><h3>Run history:</h3><br/><table class=\"wandb\"><tr><td>f1_score</td><td>▁</td></tr><tr><td>f1_score_train</td><td>▁</td></tr><tr><td>f1_score_valid</td><td>▁</td></tr></table><br/></div><div class=\"wandb-col\"><h3>Run summary:</h3><br/><table class=\"wandb\"><tr><td>f1_score</td><td>0.77136</td></tr><tr><td>f1_score_train</td><td>0.60059</td></tr><tr><td>f1_score_valid</td><td>0.66436</td></tr></table><br/></div></div>"
      ],
      "text/plain": [
       "<IPython.core.display.HTML object>"
      ]
     },
     "metadata": {},
     "output_type": "display_data"
    },
    {
     "data": {
      "text/html": [
       " View run <strong style=\"color:#cdcd00\">smooth-sweep-28</strong> at: <a href='https://wandb.ai/harshmp/truck-delay-classification/runs/2lq24qan' target=\"_blank\">https://wandb.ai/harshmp/truck-delay-classification/runs/2lq24qan</a><br/>Synced 5 W&B file(s), 7 media file(s), 8 artifact file(s) and 1 other file(s)"
      ],
      "text/plain": [
       "<IPython.core.display.HTML object>"
      ]
     },
     "metadata": {},
     "output_type": "display_data"
    },
    {
     "data": {
      "text/html": [
       "Find logs at: <code>.\\wandb\\run-20240925_161614-2lq24qan\\logs</code>"
      ],
      "text/plain": [
       "<IPython.core.display.HTML object>"
      ]
     },
     "metadata": {},
     "output_type": "display_data"
    },
    {
     "name": "stderr",
     "output_type": "stream",
     "text": [
      "wandb: Agent Starting Run: nqjxsyze with config:\n",
      "wandb: \tmax_depth: 5\n",
      "wandb: \tmin_samples_split: 12\n",
      "wandb: \tn_estimators: 8\n",
      "Failed to detect the name of this notebook, you can set it manually with the WANDB_NOTEBOOK_NAME environment variable to enable code saving.\n",
      "wandb: WARNING Ignored wandb.init() arg project when running a sweep.\n"
     ]
    },
    {
     "data": {
      "text/html": [
       "wandb version 0.18.1 is available!  To upgrade, please run:\n",
       " $ pip install wandb --upgrade"
      ],
      "text/plain": [
       "<IPython.core.display.HTML object>"
      ]
     },
     "metadata": {},
     "output_type": "display_data"
    },
    {
     "data": {
      "text/html": [
       "Tracking run with wandb version 0.16.1"
      ],
      "text/plain": [
       "<IPython.core.display.HTML object>"
      ]
     },
     "metadata": {},
     "output_type": "display_data"
    },
    {
     "data": {
      "text/html": [
       "Run data is saved locally in <code>e:\\Artificial Intelligence\\Projects\\Predictive-Truck-Delay-Management-in-Logistics\\wandb\\run-20240925_161633-nqjxsyze</code>"
      ],
      "text/plain": [
       "<IPython.core.display.HTML object>"
      ]
     },
     "metadata": {},
     "output_type": "display_data"
    },
    {
     "data": {
      "text/html": [
       "Syncing run <strong><a href='https://wandb.ai/harshmp/truck-delay-classification/runs/nqjxsyze' target=\"_blank\">ethereal-sweep-29</a></strong> to <a href='https://wandb.ai/harshmp/truck-delay-classification' target=\"_blank\">Weights & Biases</a> (<a href='https://wandb.me/run' target=\"_blank\">docs</a>)<br/>Sweep page: <a href='https://wandb.ai/harshmp/truck-delay-classification/sweeps/ilvq0mj4' target=\"_blank\">https://wandb.ai/harshmp/truck-delay-classification/sweeps/ilvq0mj4</a>"
      ],
      "text/plain": [
       "<IPython.core.display.HTML object>"
      ]
     },
     "metadata": {},
     "output_type": "display_data"
    },
    {
     "data": {
      "text/html": [
       " View project at <a href='https://wandb.ai/harshmp/truck-delay-classification' target=\"_blank\">https://wandb.ai/harshmp/truck-delay-classification</a>"
      ],
      "text/plain": [
       "<IPython.core.display.HTML object>"
      ]
     },
     "metadata": {},
     "output_type": "display_data"
    },
    {
     "data": {
      "text/html": [
       " View sweep at <a href='https://wandb.ai/harshmp/truck-delay-classification/sweeps/ilvq0mj4' target=\"_blank\">https://wandb.ai/harshmp/truck-delay-classification/sweeps/ilvq0mj4</a>"
      ],
      "text/plain": [
       "<IPython.core.display.HTML object>"
      ]
     },
     "metadata": {},
     "output_type": "display_data"
    },
    {
     "data": {
      "text/html": [
       " View run at <a href='https://wandb.ai/harshmp/truck-delay-classification/runs/nqjxsyze' target=\"_blank\">https://wandb.ai/harshmp/truck-delay-classification/runs/nqjxsyze</a>"
      ],
      "text/plain": [
       "<IPython.core.display.HTML object>"
      ]
     },
     "metadata": {},
     "output_type": "display_data"
    },
    {
     "name": "stdout",
     "output_type": "stream",
     "text": [
      "F1_score Train: 0.5994\n",
      "F1_score Valid: 0.6593\n",
      "F1_score Test: 0.7681\n"
     ]
    },
    {
     "name": "stderr",
     "output_type": "stream",
     "text": [
      "wandb: \n",
      "wandb: Plotting RandomForestClassifier.\n",
      "wandb: Logged feature importances.\n",
      "wandb: Logged confusion matrix.\n",
      "wandb: Logged summary metrics.\n",
      "wandb: Logged class proportions.\n",
      "wandb: Logged calibration curve.\n",
      "wandb: Logged roc curve.\n",
      "wandb: Logged precision-recall curve.\n"
     ]
    },
    {
     "data": {
      "application/vnd.jupyter.widget-view+json": {
       "model_id": "dab0ed0573db4afcbfe5cba2d05b433b",
       "version_major": 2,
       "version_minor": 0
      },
      "text/plain": [
       "VBox(children=(Label(value='0.138 MB of 0.138 MB uploaded\\r'), FloatProgress(value=1.0, max=1.0)))"
      ]
     },
     "metadata": {},
     "output_type": "display_data"
    },
    {
     "data": {
      "text/html": [
       "<style>\n",
       "    table.wandb td:nth-child(1) { padding: 0 10px; text-align: left ; width: auto;} td:nth-child(2) {text-align: left ; width: 100%}\n",
       "    .wandb-row { display: flex; flex-direction: row; flex-wrap: wrap; justify-content: flex-start; width: 100% }\n",
       "    .wandb-col { display: flex; flex-direction: column; flex-basis: 100%; flex: 1; padding: 10px; }\n",
       "    </style>\n",
       "<div class=\"wandb-row\"><div class=\"wandb-col\"><h3>Run history:</h3><br/><table class=\"wandb\"><tr><td>f1_score</td><td>▁</td></tr><tr><td>f1_score_train</td><td>▁</td></tr><tr><td>f1_score_valid</td><td>▁</td></tr></table><br/></div><div class=\"wandb-col\"><h3>Run summary:</h3><br/><table class=\"wandb\"><tr><td>f1_score</td><td>0.76805</td></tr><tr><td>f1_score_train</td><td>0.59943</td></tr><tr><td>f1_score_valid</td><td>0.65932</td></tr></table><br/></div></div>"
      ],
      "text/plain": [
       "<IPython.core.display.HTML object>"
      ]
     },
     "metadata": {},
     "output_type": "display_data"
    },
    {
     "data": {
      "text/html": [
       " View run <strong style=\"color:#cdcd00\">ethereal-sweep-29</strong> at: <a href='https://wandb.ai/harshmp/truck-delay-classification/runs/nqjxsyze' target=\"_blank\">https://wandb.ai/harshmp/truck-delay-classification/runs/nqjxsyze</a><br/>Synced 5 W&B file(s), 7 media file(s), 8 artifact file(s) and 1 other file(s)"
      ],
      "text/plain": [
       "<IPython.core.display.HTML object>"
      ]
     },
     "metadata": {},
     "output_type": "display_data"
    },
    {
     "data": {
      "text/html": [
       "Find logs at: <code>.\\wandb\\run-20240925_161633-nqjxsyze\\logs</code>"
      ],
      "text/plain": [
       "<IPython.core.display.HTML object>"
      ]
     },
     "metadata": {},
     "output_type": "display_data"
    },
    {
     "name": "stderr",
     "output_type": "stream",
     "text": [
      "wandb: Agent Starting Run: zbgr5e2b with config:\n",
      "wandb: \tmax_depth: 5\n",
      "wandb: \tmin_samples_split: 12\n",
      "wandb: \tn_estimators: 12\n",
      "Failed to detect the name of this notebook, you can set it manually with the WANDB_NOTEBOOK_NAME environment variable to enable code saving.\n",
      "wandb: WARNING Ignored wandb.init() arg project when running a sweep.\n"
     ]
    },
    {
     "data": {
      "text/html": [
       "wandb version 0.18.1 is available!  To upgrade, please run:\n",
       " $ pip install wandb --upgrade"
      ],
      "text/plain": [
       "<IPython.core.display.HTML object>"
      ]
     },
     "metadata": {},
     "output_type": "display_data"
    },
    {
     "data": {
      "text/html": [
       "Tracking run with wandb version 0.16.1"
      ],
      "text/plain": [
       "<IPython.core.display.HTML object>"
      ]
     },
     "metadata": {},
     "output_type": "display_data"
    },
    {
     "data": {
      "text/html": [
       "Run data is saved locally in <code>e:\\Artificial Intelligence\\Projects\\Predictive-Truck-Delay-Management-in-Logistics\\wandb\\run-20240925_161655-zbgr5e2b</code>"
      ],
      "text/plain": [
       "<IPython.core.display.HTML object>"
      ]
     },
     "metadata": {},
     "output_type": "display_data"
    },
    {
     "data": {
      "text/html": [
       "Syncing run <strong><a href='https://wandb.ai/harshmp/truck-delay-classification/runs/zbgr5e2b' target=\"_blank\">fresh-sweep-30</a></strong> to <a href='https://wandb.ai/harshmp/truck-delay-classification' target=\"_blank\">Weights & Biases</a> (<a href='https://wandb.me/run' target=\"_blank\">docs</a>)<br/>Sweep page: <a href='https://wandb.ai/harshmp/truck-delay-classification/sweeps/ilvq0mj4' target=\"_blank\">https://wandb.ai/harshmp/truck-delay-classification/sweeps/ilvq0mj4</a>"
      ],
      "text/plain": [
       "<IPython.core.display.HTML object>"
      ]
     },
     "metadata": {},
     "output_type": "display_data"
    },
    {
     "data": {
      "text/html": [
       " View project at <a href='https://wandb.ai/harshmp/truck-delay-classification' target=\"_blank\">https://wandb.ai/harshmp/truck-delay-classification</a>"
      ],
      "text/plain": [
       "<IPython.core.display.HTML object>"
      ]
     },
     "metadata": {},
     "output_type": "display_data"
    },
    {
     "data": {
      "text/html": [
       " View sweep at <a href='https://wandb.ai/harshmp/truck-delay-classification/sweeps/ilvq0mj4' target=\"_blank\">https://wandb.ai/harshmp/truck-delay-classification/sweeps/ilvq0mj4</a>"
      ],
      "text/plain": [
       "<IPython.core.display.HTML object>"
      ]
     },
     "metadata": {},
     "output_type": "display_data"
    },
    {
     "data": {
      "text/html": [
       " View run at <a href='https://wandb.ai/harshmp/truck-delay-classification/runs/zbgr5e2b' target=\"_blank\">https://wandb.ai/harshmp/truck-delay-classification/runs/zbgr5e2b</a>"
      ],
      "text/plain": [
       "<IPython.core.display.HTML object>"
      ]
     },
     "metadata": {},
     "output_type": "display_data"
    },
    {
     "name": "stdout",
     "output_type": "stream",
     "text": [
      "F1_score Train: 0.5943\n",
      "F1_score Valid: 0.6621\n",
      "F1_score Test: 0.7721\n"
     ]
    },
    {
     "name": "stderr",
     "output_type": "stream",
     "text": [
      "wandb: \n",
      "wandb: Plotting RandomForestClassifier.\n",
      "wandb: Logged feature importances.\n",
      "wandb: Logged confusion matrix.\n",
      "wandb: Logged summary metrics.\n",
      "wandb: Logged class proportions.\n",
      "wandb: Logged calibration curve.\n",
      "wandb: Logged roc curve.\n",
      "wandb: Logged precision-recall curve.\n"
     ]
    },
    {
     "data": {
      "application/vnd.jupyter.widget-view+json": {
       "model_id": "c4e39f65a0f04d57b5779841046dc2ea",
       "version_major": 2,
       "version_minor": 0
      },
      "text/plain": [
       "VBox(children=(Label(value='0.164 MB of 0.164 MB uploaded\\r'), FloatProgress(value=1.0, max=1.0)))"
      ]
     },
     "metadata": {},
     "output_type": "display_data"
    },
    {
     "data": {
      "text/html": [
       "<style>\n",
       "    table.wandb td:nth-child(1) { padding: 0 10px; text-align: left ; width: auto;} td:nth-child(2) {text-align: left ; width: 100%}\n",
       "    .wandb-row { display: flex; flex-direction: row; flex-wrap: wrap; justify-content: flex-start; width: 100% }\n",
       "    .wandb-col { display: flex; flex-direction: column; flex-basis: 100%; flex: 1; padding: 10px; }\n",
       "    </style>\n",
       "<div class=\"wandb-row\"><div class=\"wandb-col\"><h3>Run history:</h3><br/><table class=\"wandb\"><tr><td>f1_score</td><td>▁</td></tr><tr><td>f1_score_train</td><td>▁</td></tr><tr><td>f1_score_valid</td><td>▁</td></tr></table><br/></div><div class=\"wandb-col\"><h3>Run summary:</h3><br/><table class=\"wandb\"><tr><td>f1_score</td><td>0.77213</td></tr><tr><td>f1_score_train</td><td>0.59432</td></tr><tr><td>f1_score_valid</td><td>0.66208</td></tr></table><br/></div></div>"
      ],
      "text/plain": [
       "<IPython.core.display.HTML object>"
      ]
     },
     "metadata": {},
     "output_type": "display_data"
    },
    {
     "data": {
      "text/html": [
       " View run <strong style=\"color:#cdcd00\">fresh-sweep-30</strong> at: <a href='https://wandb.ai/harshmp/truck-delay-classification/runs/zbgr5e2b' target=\"_blank\">https://wandb.ai/harshmp/truck-delay-classification/runs/zbgr5e2b</a><br/>Synced 5 W&B file(s), 7 media file(s), 8 artifact file(s) and 1 other file(s)"
      ],
      "text/plain": [
       "<IPython.core.display.HTML object>"
      ]
     },
     "metadata": {},
     "output_type": "display_data"
    },
    {
     "data": {
      "text/html": [
       "Find logs at: <code>.\\wandb\\run-20240925_161655-zbgr5e2b\\logs</code>"
      ],
      "text/plain": [
       "<IPython.core.display.HTML object>"
      ]
     },
     "metadata": {},
     "output_type": "display_data"
    },
    {
     "name": "stderr",
     "output_type": "stream",
     "text": [
      "wandb: Agent Starting Run: 9d5bxf9a with config:\n",
      "wandb: \tmax_depth: 5\n",
      "wandb: \tmin_samples_split: 12\n",
      "wandb: \tn_estimators: 16\n",
      "Failed to detect the name of this notebook, you can set it manually with the WANDB_NOTEBOOK_NAME environment variable to enable code saving.\n",
      "wandb: WARNING Ignored wandb.init() arg project when running a sweep.\n"
     ]
    },
    {
     "data": {
      "text/html": [
       "wandb version 0.18.1 is available!  To upgrade, please run:\n",
       " $ pip install wandb --upgrade"
      ],
      "text/plain": [
       "<IPython.core.display.HTML object>"
      ]
     },
     "metadata": {},
     "output_type": "display_data"
    },
    {
     "data": {
      "text/html": [
       "Tracking run with wandb version 0.16.1"
      ],
      "text/plain": [
       "<IPython.core.display.HTML object>"
      ]
     },
     "metadata": {},
     "output_type": "display_data"
    },
    {
     "data": {
      "text/html": [
       "Run data is saved locally in <code>e:\\Artificial Intelligence\\Projects\\Predictive-Truck-Delay-Management-in-Logistics\\wandb\\run-20240925_161716-9d5bxf9a</code>"
      ],
      "text/plain": [
       "<IPython.core.display.HTML object>"
      ]
     },
     "metadata": {},
     "output_type": "display_data"
    },
    {
     "data": {
      "text/html": [
       "Syncing run <strong><a href='https://wandb.ai/harshmp/truck-delay-classification/runs/9d5bxf9a' target=\"_blank\">distinctive-sweep-31</a></strong> to <a href='https://wandb.ai/harshmp/truck-delay-classification' target=\"_blank\">Weights & Biases</a> (<a href='https://wandb.me/run' target=\"_blank\">docs</a>)<br/>Sweep page: <a href='https://wandb.ai/harshmp/truck-delay-classification/sweeps/ilvq0mj4' target=\"_blank\">https://wandb.ai/harshmp/truck-delay-classification/sweeps/ilvq0mj4</a>"
      ],
      "text/plain": [
       "<IPython.core.display.HTML object>"
      ]
     },
     "metadata": {},
     "output_type": "display_data"
    },
    {
     "data": {
      "text/html": [
       " View project at <a href='https://wandb.ai/harshmp/truck-delay-classification' target=\"_blank\">https://wandb.ai/harshmp/truck-delay-classification</a>"
      ],
      "text/plain": [
       "<IPython.core.display.HTML object>"
      ]
     },
     "metadata": {},
     "output_type": "display_data"
    },
    {
     "data": {
      "text/html": [
       " View sweep at <a href='https://wandb.ai/harshmp/truck-delay-classification/sweeps/ilvq0mj4' target=\"_blank\">https://wandb.ai/harshmp/truck-delay-classification/sweeps/ilvq0mj4</a>"
      ],
      "text/plain": [
       "<IPython.core.display.HTML object>"
      ]
     },
     "metadata": {},
     "output_type": "display_data"
    },
    {
     "data": {
      "text/html": [
       " View run at <a href='https://wandb.ai/harshmp/truck-delay-classification/runs/9d5bxf9a' target=\"_blank\">https://wandb.ai/harshmp/truck-delay-classification/runs/9d5bxf9a</a>"
      ],
      "text/plain": [
       "<IPython.core.display.HTML object>"
      ]
     },
     "metadata": {},
     "output_type": "display_data"
    },
    {
     "name": "stdout",
     "output_type": "stream",
     "text": [
      "F1_score Train: 0.6059\n",
      "F1_score Valid: 0.6663\n",
      "F1_score Test: 0.7736\n"
     ]
    },
    {
     "name": "stderr",
     "output_type": "stream",
     "text": [
      "wandb: \n",
      "wandb: Plotting RandomForestClassifier.\n",
      "wandb: Logged feature importances.\n",
      "wandb: Logged confusion matrix.\n",
      "wandb: Logged summary metrics.\n",
      "wandb: Logged class proportions.\n",
      "wandb: Logged calibration curve.\n",
      "wandb: Logged roc curve.\n",
      "wandb: Logged precision-recall curve.\n"
     ]
    },
    {
     "data": {
      "application/vnd.jupyter.widget-view+json": {
       "model_id": "c97d33f71f58422ea3dd8390793dc09e",
       "version_major": 2,
       "version_minor": 0
      },
      "text/plain": [
       "VBox(children=(Label(value='0.196 MB of 0.196 MB uploaded\\r'), FloatProgress(value=1.0, max=1.0)))"
      ]
     },
     "metadata": {},
     "output_type": "display_data"
    },
    {
     "data": {
      "text/html": [
       "<style>\n",
       "    table.wandb td:nth-child(1) { padding: 0 10px; text-align: left ; width: auto;} td:nth-child(2) {text-align: left ; width: 100%}\n",
       "    .wandb-row { display: flex; flex-direction: row; flex-wrap: wrap; justify-content: flex-start; width: 100% }\n",
       "    .wandb-col { display: flex; flex-direction: column; flex-basis: 100%; flex: 1; padding: 10px; }\n",
       "    </style>\n",
       "<div class=\"wandb-row\"><div class=\"wandb-col\"><h3>Run history:</h3><br/><table class=\"wandb\"><tr><td>f1_score</td><td>▁</td></tr><tr><td>f1_score_train</td><td>▁</td></tr><tr><td>f1_score_valid</td><td>▁</td></tr></table><br/></div><div class=\"wandb-col\"><h3>Run summary:</h3><br/><table class=\"wandb\"><tr><td>f1_score</td><td>0.77362</td></tr><tr><td>f1_score_train</td><td>0.60589</td></tr><tr><td>f1_score_valid</td><td>0.66627</td></tr></table><br/></div></div>"
      ],
      "text/plain": [
       "<IPython.core.display.HTML object>"
      ]
     },
     "metadata": {},
     "output_type": "display_data"
    },
    {
     "data": {
      "text/html": [
       " View run <strong style=\"color:#cdcd00\">distinctive-sweep-31</strong> at: <a href='https://wandb.ai/harshmp/truck-delay-classification/runs/9d5bxf9a' target=\"_blank\">https://wandb.ai/harshmp/truck-delay-classification/runs/9d5bxf9a</a><br/>Synced 5 W&B file(s), 7 media file(s), 8 artifact file(s) and 1 other file(s)"
      ],
      "text/plain": [
       "<IPython.core.display.HTML object>"
      ]
     },
     "metadata": {},
     "output_type": "display_data"
    },
    {
     "data": {
      "text/html": [
       "Find logs at: <code>.\\wandb\\run-20240925_161716-9d5bxf9a\\logs</code>"
      ],
      "text/plain": [
       "<IPython.core.display.HTML object>"
      ]
     },
     "metadata": {},
     "output_type": "display_data"
    },
    {
     "name": "stderr",
     "output_type": "stream",
     "text": [
      "wandb: Agent Starting Run: 2zwokwk7 with config:\n",
      "wandb: \tmax_depth: 5\n",
      "wandb: \tmin_samples_split: 12\n",
      "wandb: \tn_estimators: 20\n",
      "Failed to detect the name of this notebook, you can set it manually with the WANDB_NOTEBOOK_NAME environment variable to enable code saving.\n",
      "wandb: WARNING Ignored wandb.init() arg project when running a sweep.\n"
     ]
    },
    {
     "data": {
      "text/html": [
       "wandb version 0.18.1 is available!  To upgrade, please run:\n",
       " $ pip install wandb --upgrade"
      ],
      "text/plain": [
       "<IPython.core.display.HTML object>"
      ]
     },
     "metadata": {},
     "output_type": "display_data"
    },
    {
     "data": {
      "text/html": [
       "Tracking run with wandb version 0.16.1"
      ],
      "text/plain": [
       "<IPython.core.display.HTML object>"
      ]
     },
     "metadata": {},
     "output_type": "display_data"
    },
    {
     "data": {
      "text/html": [
       "Run data is saved locally in <code>e:\\Artificial Intelligence\\Projects\\Predictive-Truck-Delay-Management-in-Logistics\\wandb\\run-20240925_161737-2zwokwk7</code>"
      ],
      "text/plain": [
       "<IPython.core.display.HTML object>"
      ]
     },
     "metadata": {},
     "output_type": "display_data"
    },
    {
     "data": {
      "text/html": [
       "Syncing run <strong><a href='https://wandb.ai/harshmp/truck-delay-classification/runs/2zwokwk7' target=\"_blank\">charmed-sweep-32</a></strong> to <a href='https://wandb.ai/harshmp/truck-delay-classification' target=\"_blank\">Weights & Biases</a> (<a href='https://wandb.me/run' target=\"_blank\">docs</a>)<br/>Sweep page: <a href='https://wandb.ai/harshmp/truck-delay-classification/sweeps/ilvq0mj4' target=\"_blank\">https://wandb.ai/harshmp/truck-delay-classification/sweeps/ilvq0mj4</a>"
      ],
      "text/plain": [
       "<IPython.core.display.HTML object>"
      ]
     },
     "metadata": {},
     "output_type": "display_data"
    },
    {
     "data": {
      "text/html": [
       " View project at <a href='https://wandb.ai/harshmp/truck-delay-classification' target=\"_blank\">https://wandb.ai/harshmp/truck-delay-classification</a>"
      ],
      "text/plain": [
       "<IPython.core.display.HTML object>"
      ]
     },
     "metadata": {},
     "output_type": "display_data"
    },
    {
     "data": {
      "text/html": [
       " View sweep at <a href='https://wandb.ai/harshmp/truck-delay-classification/sweeps/ilvq0mj4' target=\"_blank\">https://wandb.ai/harshmp/truck-delay-classification/sweeps/ilvq0mj4</a>"
      ],
      "text/plain": [
       "<IPython.core.display.HTML object>"
      ]
     },
     "metadata": {},
     "output_type": "display_data"
    },
    {
     "data": {
      "text/html": [
       " View run at <a href='https://wandb.ai/harshmp/truck-delay-classification/runs/2zwokwk7' target=\"_blank\">https://wandb.ai/harshmp/truck-delay-classification/runs/2zwokwk7</a>"
      ],
      "text/plain": [
       "<IPython.core.display.HTML object>"
      ]
     },
     "metadata": {},
     "output_type": "display_data"
    },
    {
     "name": "stdout",
     "output_type": "stream",
     "text": [
      "F1_score Train: 0.6029\n",
      "F1_score Valid: 0.6659\n",
      "F1_score Test: 0.7733\n"
     ]
    },
    {
     "name": "stderr",
     "output_type": "stream",
     "text": [
      "wandb: \n",
      "wandb: Plotting RandomForestClassifier.\n",
      "wandb: Logged feature importances.\n",
      "wandb: Logged confusion matrix.\n",
      "wandb: Logged summary metrics.\n",
      "wandb: Logged class proportions.\n",
      "wandb: Logged calibration curve.\n",
      "wandb: Logged roc curve.\n",
      "wandb: Logged precision-recall curve.\n"
     ]
    },
    {
     "data": {
      "application/vnd.jupyter.widget-view+json": {
       "model_id": "8ee9d30dc7d7435184cf1ee8c4f772e7",
       "version_major": 2,
       "version_minor": 0
      },
      "text/plain": [
       "VBox(children=(Label(value='0.229 MB of 0.229 MB uploaded\\r'), FloatProgress(value=1.0, max=1.0)))"
      ]
     },
     "metadata": {},
     "output_type": "display_data"
    },
    {
     "data": {
      "text/html": [
       "<style>\n",
       "    table.wandb td:nth-child(1) { padding: 0 10px; text-align: left ; width: auto;} td:nth-child(2) {text-align: left ; width: 100%}\n",
       "    .wandb-row { display: flex; flex-direction: row; flex-wrap: wrap; justify-content: flex-start; width: 100% }\n",
       "    .wandb-col { display: flex; flex-direction: column; flex-basis: 100%; flex: 1; padding: 10px; }\n",
       "    </style>\n",
       "<div class=\"wandb-row\"><div class=\"wandb-col\"><h3>Run history:</h3><br/><table class=\"wandb\"><tr><td>f1_score</td><td>▁</td></tr><tr><td>f1_score_train</td><td>▁</td></tr><tr><td>f1_score_valid</td><td>▁</td></tr></table><br/></div><div class=\"wandb-col\"><h3>Run summary:</h3><br/><table class=\"wandb\"><tr><td>f1_score</td><td>0.77333</td></tr><tr><td>f1_score_train</td><td>0.6029</td></tr><tr><td>f1_score_valid</td><td>0.66589</td></tr></table><br/></div></div>"
      ],
      "text/plain": [
       "<IPython.core.display.HTML object>"
      ]
     },
     "metadata": {},
     "output_type": "display_data"
    },
    {
     "data": {
      "text/html": [
       " View run <strong style=\"color:#cdcd00\">charmed-sweep-32</strong> at: <a href='https://wandb.ai/harshmp/truck-delay-classification/runs/2zwokwk7' target=\"_blank\">https://wandb.ai/harshmp/truck-delay-classification/runs/2zwokwk7</a><br/>Synced 5 W&B file(s), 7 media file(s), 8 artifact file(s) and 1 other file(s)"
      ],
      "text/plain": [
       "<IPython.core.display.HTML object>"
      ]
     },
     "metadata": {},
     "output_type": "display_data"
    },
    {
     "data": {
      "text/html": [
       "Find logs at: <code>.\\wandb\\run-20240925_161737-2zwokwk7\\logs</code>"
      ],
      "text/plain": [
       "<IPython.core.display.HTML object>"
      ]
     },
     "metadata": {},
     "output_type": "display_data"
    },
    {
     "name": "stderr",
     "output_type": "stream",
     "text": [
      "wandb: Sweep Agent: Waiting for job.\n",
      "wandb: Job received.\n",
      "wandb: Agent Starting Run: zs56cd49 with config:\n",
      "wandb: \tmax_depth: 10\n",
      "wandb: \tmin_samples_split: 2\n",
      "wandb: \tn_estimators: 8\n",
      "Failed to detect the name of this notebook, you can set it manually with the WANDB_NOTEBOOK_NAME environment variable to enable code saving.\n",
      "wandb: WARNING Ignored wandb.init() arg project when running a sweep.\n"
     ]
    },
    {
     "data": {
      "text/html": [
       "wandb version 0.18.1 is available!  To upgrade, please run:\n",
       " $ pip install wandb --upgrade"
      ],
      "text/plain": [
       "<IPython.core.display.HTML object>"
      ]
     },
     "metadata": {},
     "output_type": "display_data"
    },
    {
     "data": {
      "text/html": [
       "Tracking run with wandb version 0.16.1"
      ],
      "text/plain": [
       "<IPython.core.display.HTML object>"
      ]
     },
     "metadata": {},
     "output_type": "display_data"
    },
    {
     "data": {
      "text/html": [
       "Run data is saved locally in <code>e:\\Artificial Intelligence\\Projects\\Predictive-Truck-Delay-Management-in-Logistics\\wandb\\run-20240925_161807-zs56cd49</code>"
      ],
      "text/plain": [
       "<IPython.core.display.HTML object>"
      ]
     },
     "metadata": {},
     "output_type": "display_data"
    },
    {
     "data": {
      "text/html": [
       "Syncing run <strong><a href='https://wandb.ai/harshmp/truck-delay-classification/runs/zs56cd49' target=\"_blank\">royal-sweep-33</a></strong> to <a href='https://wandb.ai/harshmp/truck-delay-classification' target=\"_blank\">Weights & Biases</a> (<a href='https://wandb.me/run' target=\"_blank\">docs</a>)<br/>Sweep page: <a href='https://wandb.ai/harshmp/truck-delay-classification/sweeps/ilvq0mj4' target=\"_blank\">https://wandb.ai/harshmp/truck-delay-classification/sweeps/ilvq0mj4</a>"
      ],
      "text/plain": [
       "<IPython.core.display.HTML object>"
      ]
     },
     "metadata": {},
     "output_type": "display_data"
    },
    {
     "data": {
      "text/html": [
       " View project at <a href='https://wandb.ai/harshmp/truck-delay-classification' target=\"_blank\">https://wandb.ai/harshmp/truck-delay-classification</a>"
      ],
      "text/plain": [
       "<IPython.core.display.HTML object>"
      ]
     },
     "metadata": {},
     "output_type": "display_data"
    },
    {
     "data": {
      "text/html": [
       " View sweep at <a href='https://wandb.ai/harshmp/truck-delay-classification/sweeps/ilvq0mj4' target=\"_blank\">https://wandb.ai/harshmp/truck-delay-classification/sweeps/ilvq0mj4</a>"
      ],
      "text/plain": [
       "<IPython.core.display.HTML object>"
      ]
     },
     "metadata": {},
     "output_type": "display_data"
    },
    {
     "data": {
      "text/html": [
       " View run at <a href='https://wandb.ai/harshmp/truck-delay-classification/runs/zs56cd49' target=\"_blank\">https://wandb.ai/harshmp/truck-delay-classification/runs/zs56cd49</a>"
      ],
      "text/plain": [
       "<IPython.core.display.HTML object>"
      ]
     },
     "metadata": {},
     "output_type": "display_data"
    },
    {
     "name": "stdout",
     "output_type": "stream",
     "text": [
      "F1_score Train: 0.7463\n",
      "F1_score Valid: 0.606\n",
      "F1_score Test: 0.7402\n"
     ]
    },
    {
     "name": "stderr",
     "output_type": "stream",
     "text": [
      "wandb: \n",
      "wandb: Plotting RandomForestClassifier.\n",
      "wandb: Logged feature importances.\n",
      "wandb: Logged confusion matrix.\n",
      "wandb: Logged summary metrics.\n",
      "wandb: Logged class proportions.\n",
      "wandb: Logged calibration curve.\n",
      "wandb: Logged roc curve.\n",
      "wandb: Logged precision-recall curve.\n"
     ]
    },
    {
     "data": {
      "application/vnd.jupyter.widget-view+json": {
       "model_id": "e0ecea5f5af942a5a3430d4c521450aa",
       "version_major": 2,
       "version_minor": 0
      },
      "text/plain": [
       "VBox(children=(Label(value='0.716 MB of 0.716 MB uploaded\\r'), FloatProgress(value=1.0, max=1.0)))"
      ]
     },
     "metadata": {},
     "output_type": "display_data"
    },
    {
     "data": {
      "text/html": [
       "<style>\n",
       "    table.wandb td:nth-child(1) { padding: 0 10px; text-align: left ; width: auto;} td:nth-child(2) {text-align: left ; width: 100%}\n",
       "    .wandb-row { display: flex; flex-direction: row; flex-wrap: wrap; justify-content: flex-start; width: 100% }\n",
       "    .wandb-col { display: flex; flex-direction: column; flex-basis: 100%; flex: 1; padding: 10px; }\n",
       "    </style>\n",
       "<div class=\"wandb-row\"><div class=\"wandb-col\"><h3>Run history:</h3><br/><table class=\"wandb\"><tr><td>f1_score</td><td>▁</td></tr><tr><td>f1_score_train</td><td>▁</td></tr><tr><td>f1_score_valid</td><td>▁</td></tr></table><br/></div><div class=\"wandb-col\"><h3>Run summary:</h3><br/><table class=\"wandb\"><tr><td>f1_score</td><td>0.74019</td></tr><tr><td>f1_score_train</td><td>0.74634</td></tr><tr><td>f1_score_valid</td><td>0.60602</td></tr></table><br/></div></div>"
      ],
      "text/plain": [
       "<IPython.core.display.HTML object>"
      ]
     },
     "metadata": {},
     "output_type": "display_data"
    },
    {
     "data": {
      "text/html": [
       " View run <strong style=\"color:#cdcd00\">royal-sweep-33</strong> at: <a href='https://wandb.ai/harshmp/truck-delay-classification/runs/zs56cd49' target=\"_blank\">https://wandb.ai/harshmp/truck-delay-classification/runs/zs56cd49</a><br/>Synced 5 W&B file(s), 7 media file(s), 8 artifact file(s) and 1 other file(s)"
      ],
      "text/plain": [
       "<IPython.core.display.HTML object>"
      ]
     },
     "metadata": {},
     "output_type": "display_data"
    },
    {
     "data": {
      "text/html": [
       "Find logs at: <code>.\\wandb\\run-20240925_161807-zs56cd49\\logs</code>"
      ],
      "text/plain": [
       "<IPython.core.display.HTML object>"
      ]
     },
     "metadata": {},
     "output_type": "display_data"
    },
    {
     "name": "stderr",
     "output_type": "stream",
     "text": [
      "wandb: Agent Starting Run: 0r9cgzsa with config:\n",
      "wandb: \tmax_depth: 10\n",
      "wandb: \tmin_samples_split: 2\n",
      "wandb: \tn_estimators: 12\n",
      "Failed to detect the name of this notebook, you can set it manually with the WANDB_NOTEBOOK_NAME environment variable to enable code saving.\n",
      "wandb: WARNING Ignored wandb.init() arg project when running a sweep.\n"
     ]
    },
    {
     "data": {
      "text/html": [
       "wandb version 0.18.1 is available!  To upgrade, please run:\n",
       " $ pip install wandb --upgrade"
      ],
      "text/plain": [
       "<IPython.core.display.HTML object>"
      ]
     },
     "metadata": {},
     "output_type": "display_data"
    },
    {
     "data": {
      "text/html": [
       "Tracking run with wandb version 0.16.1"
      ],
      "text/plain": [
       "<IPython.core.display.HTML object>"
      ]
     },
     "metadata": {},
     "output_type": "display_data"
    },
    {
     "data": {
      "text/html": [
       "Run data is saved locally in <code>e:\\Artificial Intelligence\\Projects\\Predictive-Truck-Delay-Management-in-Logistics\\wandb\\run-20240925_161829-0r9cgzsa</code>"
      ],
      "text/plain": [
       "<IPython.core.display.HTML object>"
      ]
     },
     "metadata": {},
     "output_type": "display_data"
    },
    {
     "data": {
      "text/html": [
       "Syncing run <strong><a href='https://wandb.ai/harshmp/truck-delay-classification/runs/0r9cgzsa' target=\"_blank\">light-sweep-34</a></strong> to <a href='https://wandb.ai/harshmp/truck-delay-classification' target=\"_blank\">Weights & Biases</a> (<a href='https://wandb.me/run' target=\"_blank\">docs</a>)<br/>Sweep page: <a href='https://wandb.ai/harshmp/truck-delay-classification/sweeps/ilvq0mj4' target=\"_blank\">https://wandb.ai/harshmp/truck-delay-classification/sweeps/ilvq0mj4</a>"
      ],
      "text/plain": [
       "<IPython.core.display.HTML object>"
      ]
     },
     "metadata": {},
     "output_type": "display_data"
    },
    {
     "data": {
      "text/html": [
       " View project at <a href='https://wandb.ai/harshmp/truck-delay-classification' target=\"_blank\">https://wandb.ai/harshmp/truck-delay-classification</a>"
      ],
      "text/plain": [
       "<IPython.core.display.HTML object>"
      ]
     },
     "metadata": {},
     "output_type": "display_data"
    },
    {
     "data": {
      "text/html": [
       " View sweep at <a href='https://wandb.ai/harshmp/truck-delay-classification/sweeps/ilvq0mj4' target=\"_blank\">https://wandb.ai/harshmp/truck-delay-classification/sweeps/ilvq0mj4</a>"
      ],
      "text/plain": [
       "<IPython.core.display.HTML object>"
      ]
     },
     "metadata": {},
     "output_type": "display_data"
    },
    {
     "data": {
      "text/html": [
       " View run at <a href='https://wandb.ai/harshmp/truck-delay-classification/runs/0r9cgzsa' target=\"_blank\">https://wandb.ai/harshmp/truck-delay-classification/runs/0r9cgzsa</a>"
      ],
      "text/plain": [
       "<IPython.core.display.HTML object>"
      ]
     },
     "metadata": {},
     "output_type": "display_data"
    },
    {
     "name": "stdout",
     "output_type": "stream",
     "text": [
      "F1_score Train: 0.7534\n",
      "F1_score Valid: 0.6123\n",
      "F1_score Test: 0.7342\n"
     ]
    },
    {
     "name": "stderr",
     "output_type": "stream",
     "text": [
      "wandb: \n",
      "wandb: Plotting RandomForestClassifier.\n",
      "wandb: Logged feature importances.\n",
      "wandb: Logged confusion matrix.\n",
      "wandb: Logged summary metrics.\n",
      "wandb: Logged class proportions.\n",
      "wandb: Logged calibration curve.\n",
      "wandb: Logged roc curve.\n",
      "wandb: Logged precision-recall curve.\n"
     ]
    },
    {
     "data": {
      "application/vnd.jupyter.widget-view+json": {
       "model_id": "2f4af7097c724cb682825d9b9709ee69",
       "version_major": 2,
       "version_minor": 0
      },
      "text/plain": [
       "VBox(children=(Label(value='1.046 MB of 1.046 MB uploaded\\r'), FloatProgress(value=1.0, max=1.0)))"
      ]
     },
     "metadata": {},
     "output_type": "display_data"
    },
    {
     "data": {
      "text/html": [
       "<style>\n",
       "    table.wandb td:nth-child(1) { padding: 0 10px; text-align: left ; width: auto;} td:nth-child(2) {text-align: left ; width: 100%}\n",
       "    .wandb-row { display: flex; flex-direction: row; flex-wrap: wrap; justify-content: flex-start; width: 100% }\n",
       "    .wandb-col { display: flex; flex-direction: column; flex-basis: 100%; flex: 1; padding: 10px; }\n",
       "    </style>\n",
       "<div class=\"wandb-row\"><div class=\"wandb-col\"><h3>Run history:</h3><br/><table class=\"wandb\"><tr><td>f1_score</td><td>▁</td></tr><tr><td>f1_score_train</td><td>▁</td></tr><tr><td>f1_score_valid</td><td>▁</td></tr></table><br/></div><div class=\"wandb-col\"><h3>Run summary:</h3><br/><table class=\"wandb\"><tr><td>f1_score</td><td>0.73425</td></tr><tr><td>f1_score_train</td><td>0.75344</td></tr><tr><td>f1_score_valid</td><td>0.6123</td></tr></table><br/></div></div>"
      ],
      "text/plain": [
       "<IPython.core.display.HTML object>"
      ]
     },
     "metadata": {},
     "output_type": "display_data"
    },
    {
     "data": {
      "text/html": [
       " View run <strong style=\"color:#cdcd00\">light-sweep-34</strong> at: <a href='https://wandb.ai/harshmp/truck-delay-classification/runs/0r9cgzsa' target=\"_blank\">https://wandb.ai/harshmp/truck-delay-classification/runs/0r9cgzsa</a><br/>Synced 5 W&B file(s), 7 media file(s), 8 artifact file(s) and 1 other file(s)"
      ],
      "text/plain": [
       "<IPython.core.display.HTML object>"
      ]
     },
     "metadata": {},
     "output_type": "display_data"
    },
    {
     "data": {
      "text/html": [
       "Find logs at: <code>.\\wandb\\run-20240925_161829-0r9cgzsa\\logs</code>"
      ],
      "text/plain": [
       "<IPython.core.display.HTML object>"
      ]
     },
     "metadata": {},
     "output_type": "display_data"
    },
    {
     "name": "stderr",
     "output_type": "stream",
     "text": [
      "wandb: Agent Starting Run: mxkzpbha with config:\n",
      "wandb: \tmax_depth: 10\n",
      "wandb: \tmin_samples_split: 2\n",
      "wandb: \tn_estimators: 16\n",
      "Failed to detect the name of this notebook, you can set it manually with the WANDB_NOTEBOOK_NAME environment variable to enable code saving.\n",
      "wandb: WARNING Ignored wandb.init() arg project when running a sweep.\n"
     ]
    },
    {
     "data": {
      "text/html": [
       "wandb version 0.18.1 is available!  To upgrade, please run:\n",
       " $ pip install wandb --upgrade"
      ],
      "text/plain": [
       "<IPython.core.display.HTML object>"
      ]
     },
     "metadata": {},
     "output_type": "display_data"
    },
    {
     "data": {
      "text/html": [
       "Tracking run with wandb version 0.16.1"
      ],
      "text/plain": [
       "<IPython.core.display.HTML object>"
      ]
     },
     "metadata": {},
     "output_type": "display_data"
    },
    {
     "data": {
      "text/html": [
       "Run data is saved locally in <code>e:\\Artificial Intelligence\\Projects\\Predictive-Truck-Delay-Management-in-Logistics\\wandb\\run-20240925_161850-mxkzpbha</code>"
      ],
      "text/plain": [
       "<IPython.core.display.HTML object>"
      ]
     },
     "metadata": {},
     "output_type": "display_data"
    },
    {
     "data": {
      "text/html": [
       "Syncing run <strong><a href='https://wandb.ai/harshmp/truck-delay-classification/runs/mxkzpbha' target=\"_blank\">solar-sweep-35</a></strong> to <a href='https://wandb.ai/harshmp/truck-delay-classification' target=\"_blank\">Weights & Biases</a> (<a href='https://wandb.me/run' target=\"_blank\">docs</a>)<br/>Sweep page: <a href='https://wandb.ai/harshmp/truck-delay-classification/sweeps/ilvq0mj4' target=\"_blank\">https://wandb.ai/harshmp/truck-delay-classification/sweeps/ilvq0mj4</a>"
      ],
      "text/plain": [
       "<IPython.core.display.HTML object>"
      ]
     },
     "metadata": {},
     "output_type": "display_data"
    },
    {
     "data": {
      "text/html": [
       " View project at <a href='https://wandb.ai/harshmp/truck-delay-classification' target=\"_blank\">https://wandb.ai/harshmp/truck-delay-classification</a>"
      ],
      "text/plain": [
       "<IPython.core.display.HTML object>"
      ]
     },
     "metadata": {},
     "output_type": "display_data"
    },
    {
     "data": {
      "text/html": [
       " View sweep at <a href='https://wandb.ai/harshmp/truck-delay-classification/sweeps/ilvq0mj4' target=\"_blank\">https://wandb.ai/harshmp/truck-delay-classification/sweeps/ilvq0mj4</a>"
      ],
      "text/plain": [
       "<IPython.core.display.HTML object>"
      ]
     },
     "metadata": {},
     "output_type": "display_data"
    },
    {
     "data": {
      "text/html": [
       " View run at <a href='https://wandb.ai/harshmp/truck-delay-classification/runs/mxkzpbha' target=\"_blank\">https://wandb.ai/harshmp/truck-delay-classification/runs/mxkzpbha</a>"
      ],
      "text/plain": [
       "<IPython.core.display.HTML object>"
      ]
     },
     "metadata": {},
     "output_type": "display_data"
    },
    {
     "name": "stdout",
     "output_type": "stream",
     "text": [
      "F1_score Train: 0.7515\n",
      "F1_score Valid: 0.6413\n",
      "F1_score Test: 0.7374\n"
     ]
    },
    {
     "name": "stderr",
     "output_type": "stream",
     "text": [
      "wandb: \n",
      "wandb: Plotting RandomForestClassifier.\n",
      "wandb: Logged feature importances.\n",
      "wandb: Logged confusion matrix.\n",
      "wandb: Logged summary metrics.\n",
      "wandb: Logged class proportions.\n",
      "wandb: Logged calibration curve.\n",
      "wandb: Logged roc curve.\n",
      "wandb: Logged precision-recall curve.\n"
     ]
    },
    {
     "data": {
      "application/vnd.jupyter.widget-view+json": {
       "model_id": "cf8d014902ba4369ba4368693b466287",
       "version_major": 2,
       "version_minor": 0
      },
      "text/plain": [
       "VBox(children=(Label(value='1.359 MB of 1.359 MB uploaded\\r'), FloatProgress(value=1.0, max=1.0)))"
      ]
     },
     "metadata": {},
     "output_type": "display_data"
    },
    {
     "data": {
      "text/html": [
       "<style>\n",
       "    table.wandb td:nth-child(1) { padding: 0 10px; text-align: left ; width: auto;} td:nth-child(2) {text-align: left ; width: 100%}\n",
       "    .wandb-row { display: flex; flex-direction: row; flex-wrap: wrap; justify-content: flex-start; width: 100% }\n",
       "    .wandb-col { display: flex; flex-direction: column; flex-basis: 100%; flex: 1; padding: 10px; }\n",
       "    </style>\n",
       "<div class=\"wandb-row\"><div class=\"wandb-col\"><h3>Run history:</h3><br/><table class=\"wandb\"><tr><td>f1_score</td><td>▁</td></tr><tr><td>f1_score_train</td><td>▁</td></tr><tr><td>f1_score_valid</td><td>▁</td></tr></table><br/></div><div class=\"wandb-col\"><h3>Run summary:</h3><br/><table class=\"wandb\"><tr><td>f1_score</td><td>0.73742</td></tr><tr><td>f1_score_train</td><td>0.7515</td></tr><tr><td>f1_score_valid</td><td>0.64125</td></tr></table><br/></div></div>"
      ],
      "text/plain": [
       "<IPython.core.display.HTML object>"
      ]
     },
     "metadata": {},
     "output_type": "display_data"
    },
    {
     "data": {
      "text/html": [
       " View run <strong style=\"color:#cdcd00\">solar-sweep-35</strong> at: <a href='https://wandb.ai/harshmp/truck-delay-classification/runs/mxkzpbha' target=\"_blank\">https://wandb.ai/harshmp/truck-delay-classification/runs/mxkzpbha</a><br/>Synced 5 W&B file(s), 7 media file(s), 8 artifact file(s) and 1 other file(s)"
      ],
      "text/plain": [
       "<IPython.core.display.HTML object>"
      ]
     },
     "metadata": {},
     "output_type": "display_data"
    },
    {
     "data": {
      "text/html": [
       "Find logs at: <code>.\\wandb\\run-20240925_161850-mxkzpbha\\logs</code>"
      ],
      "text/plain": [
       "<IPython.core.display.HTML object>"
      ]
     },
     "metadata": {},
     "output_type": "display_data"
    },
    {
     "name": "stderr",
     "output_type": "stream",
     "text": [
      "wandb: Agent Starting Run: xpvij0ju with config:\n",
      "wandb: \tmax_depth: 10\n",
      "wandb: \tmin_samples_split: 2\n",
      "wandb: \tn_estimators: 20\n",
      "Failed to detect the name of this notebook, you can set it manually with the WANDB_NOTEBOOK_NAME environment variable to enable code saving.\n",
      "wandb: WARNING Ignored wandb.init() arg project when running a sweep.\n"
     ]
    },
    {
     "data": {
      "text/html": [
       "wandb version 0.18.1 is available!  To upgrade, please run:\n",
       " $ pip install wandb --upgrade"
      ],
      "text/plain": [
       "<IPython.core.display.HTML object>"
      ]
     },
     "metadata": {},
     "output_type": "display_data"
    },
    {
     "data": {
      "text/html": [
       "Tracking run with wandb version 0.16.1"
      ],
      "text/plain": [
       "<IPython.core.display.HTML object>"
      ]
     },
     "metadata": {},
     "output_type": "display_data"
    },
    {
     "data": {
      "text/html": [
       "Run data is saved locally in <code>e:\\Artificial Intelligence\\Projects\\Predictive-Truck-Delay-Management-in-Logistics\\wandb\\run-20240925_161911-xpvij0ju</code>"
      ],
      "text/plain": [
       "<IPython.core.display.HTML object>"
      ]
     },
     "metadata": {},
     "output_type": "display_data"
    },
    {
     "data": {
      "text/html": [
       "Syncing run <strong><a href='https://wandb.ai/harshmp/truck-delay-classification/runs/xpvij0ju' target=\"_blank\">atomic-sweep-36</a></strong> to <a href='https://wandb.ai/harshmp/truck-delay-classification' target=\"_blank\">Weights & Biases</a> (<a href='https://wandb.me/run' target=\"_blank\">docs</a>)<br/>Sweep page: <a href='https://wandb.ai/harshmp/truck-delay-classification/sweeps/ilvq0mj4' target=\"_blank\">https://wandb.ai/harshmp/truck-delay-classification/sweeps/ilvq0mj4</a>"
      ],
      "text/plain": [
       "<IPython.core.display.HTML object>"
      ]
     },
     "metadata": {},
     "output_type": "display_data"
    },
    {
     "data": {
      "text/html": [
       " View project at <a href='https://wandb.ai/harshmp/truck-delay-classification' target=\"_blank\">https://wandb.ai/harshmp/truck-delay-classification</a>"
      ],
      "text/plain": [
       "<IPython.core.display.HTML object>"
      ]
     },
     "metadata": {},
     "output_type": "display_data"
    },
    {
     "data": {
      "text/html": [
       " View sweep at <a href='https://wandb.ai/harshmp/truck-delay-classification/sweeps/ilvq0mj4' target=\"_blank\">https://wandb.ai/harshmp/truck-delay-classification/sweeps/ilvq0mj4</a>"
      ],
      "text/plain": [
       "<IPython.core.display.HTML object>"
      ]
     },
     "metadata": {},
     "output_type": "display_data"
    },
    {
     "data": {
      "text/html": [
       " View run at <a href='https://wandb.ai/harshmp/truck-delay-classification/runs/xpvij0ju' target=\"_blank\">https://wandb.ai/harshmp/truck-delay-classification/runs/xpvij0ju</a>"
      ],
      "text/plain": [
       "<IPython.core.display.HTML object>"
      ]
     },
     "metadata": {},
     "output_type": "display_data"
    },
    {
     "name": "stdout",
     "output_type": "stream",
     "text": [
      "F1_score Train: 0.7541\n",
      "F1_score Valid: 0.6485\n",
      "F1_score Test: 0.7495\n"
     ]
    },
    {
     "name": "stderr",
     "output_type": "stream",
     "text": [
      "wandb: \n",
      "wandb: Plotting RandomForestClassifier.\n",
      "wandb: Logged feature importances.\n",
      "wandb: Logged confusion matrix.\n",
      "wandb: Logged summary metrics.\n",
      "wandb: Logged class proportions.\n",
      "wandb: Logged calibration curve.\n",
      "wandb: Logged roc curve.\n",
      "wandb: Logged precision-recall curve.\n"
     ]
    },
    {
     "data": {
      "application/vnd.jupyter.widget-view+json": {
       "model_id": "acbdf98af2154dc7b63bf09ee227fd91",
       "version_major": 2,
       "version_minor": 0
      },
      "text/plain": [
       "VBox(children=(Label(value='1.734 MB of 1.734 MB uploaded\\r'), FloatProgress(value=1.0, max=1.0)))"
      ]
     },
     "metadata": {},
     "output_type": "display_data"
    },
    {
     "data": {
      "text/html": [
       "<style>\n",
       "    table.wandb td:nth-child(1) { padding: 0 10px; text-align: left ; width: auto;} td:nth-child(2) {text-align: left ; width: 100%}\n",
       "    .wandb-row { display: flex; flex-direction: row; flex-wrap: wrap; justify-content: flex-start; width: 100% }\n",
       "    .wandb-col { display: flex; flex-direction: column; flex-basis: 100%; flex: 1; padding: 10px; }\n",
       "    </style>\n",
       "<div class=\"wandb-row\"><div class=\"wandb-col\"><h3>Run history:</h3><br/><table class=\"wandb\"><tr><td>f1_score</td><td>▁</td></tr><tr><td>f1_score_train</td><td>▁</td></tr><tr><td>f1_score_valid</td><td>▁</td></tr></table><br/></div><div class=\"wandb-col\"><h3>Run summary:</h3><br/><table class=\"wandb\"><tr><td>f1_score</td><td>0.74949</td></tr><tr><td>f1_score_train</td><td>0.7541</td></tr><tr><td>f1_score_valid</td><td>0.6485</td></tr></table><br/></div></div>"
      ],
      "text/plain": [
       "<IPython.core.display.HTML object>"
      ]
     },
     "metadata": {},
     "output_type": "display_data"
    },
    {
     "data": {
      "text/html": [
       " View run <strong style=\"color:#cdcd00\">atomic-sweep-36</strong> at: <a href='https://wandb.ai/harshmp/truck-delay-classification/runs/xpvij0ju' target=\"_blank\">https://wandb.ai/harshmp/truck-delay-classification/runs/xpvij0ju</a><br/>Synced 5 W&B file(s), 7 media file(s), 8 artifact file(s) and 1 other file(s)"
      ],
      "text/plain": [
       "<IPython.core.display.HTML object>"
      ]
     },
     "metadata": {},
     "output_type": "display_data"
    },
    {
     "data": {
      "text/html": [
       "Find logs at: <code>.\\wandb\\run-20240925_161911-xpvij0ju\\logs</code>"
      ],
      "text/plain": [
       "<IPython.core.display.HTML object>"
      ]
     },
     "metadata": {},
     "output_type": "display_data"
    },
    {
     "name": "stderr",
     "output_type": "stream",
     "text": [
      "wandb: Agent Starting Run: pm9eom9z with config:\n",
      "wandb: \tmax_depth: 10\n",
      "wandb: \tmin_samples_split: 4\n",
      "wandb: \tn_estimators: 8\n",
      "Failed to detect the name of this notebook, you can set it manually with the WANDB_NOTEBOOK_NAME environment variable to enable code saving.\n",
      "wandb: WARNING Ignored wandb.init() arg project when running a sweep.\n"
     ]
    },
    {
     "data": {
      "text/html": [
       "wandb version 0.18.1 is available!  To upgrade, please run:\n",
       " $ pip install wandb --upgrade"
      ],
      "text/plain": [
       "<IPython.core.display.HTML object>"
      ]
     },
     "metadata": {},
     "output_type": "display_data"
    },
    {
     "data": {
      "text/html": [
       "Tracking run with wandb version 0.16.1"
      ],
      "text/plain": [
       "<IPython.core.display.HTML object>"
      ]
     },
     "metadata": {},
     "output_type": "display_data"
    },
    {
     "data": {
      "text/html": [
       "Run data is saved locally in <code>e:\\Artificial Intelligence\\Projects\\Predictive-Truck-Delay-Management-in-Logistics\\wandb\\run-20240925_161931-pm9eom9z</code>"
      ],
      "text/plain": [
       "<IPython.core.display.HTML object>"
      ]
     },
     "metadata": {},
     "output_type": "display_data"
    },
    {
     "data": {
      "text/html": [
       "Syncing run <strong><a href='https://wandb.ai/harshmp/truck-delay-classification/runs/pm9eom9z' target=\"_blank\">tough-sweep-37</a></strong> to <a href='https://wandb.ai/harshmp/truck-delay-classification' target=\"_blank\">Weights & Biases</a> (<a href='https://wandb.me/run' target=\"_blank\">docs</a>)<br/>Sweep page: <a href='https://wandb.ai/harshmp/truck-delay-classification/sweeps/ilvq0mj4' target=\"_blank\">https://wandb.ai/harshmp/truck-delay-classification/sweeps/ilvq0mj4</a>"
      ],
      "text/plain": [
       "<IPython.core.display.HTML object>"
      ]
     },
     "metadata": {},
     "output_type": "display_data"
    },
    {
     "data": {
      "text/html": [
       " View project at <a href='https://wandb.ai/harshmp/truck-delay-classification' target=\"_blank\">https://wandb.ai/harshmp/truck-delay-classification</a>"
      ],
      "text/plain": [
       "<IPython.core.display.HTML object>"
      ]
     },
     "metadata": {},
     "output_type": "display_data"
    },
    {
     "data": {
      "text/html": [
       " View sweep at <a href='https://wandb.ai/harshmp/truck-delay-classification/sweeps/ilvq0mj4' target=\"_blank\">https://wandb.ai/harshmp/truck-delay-classification/sweeps/ilvq0mj4</a>"
      ],
      "text/plain": [
       "<IPython.core.display.HTML object>"
      ]
     },
     "metadata": {},
     "output_type": "display_data"
    },
    {
     "data": {
      "text/html": [
       " View run at <a href='https://wandb.ai/harshmp/truck-delay-classification/runs/pm9eom9z' target=\"_blank\">https://wandb.ai/harshmp/truck-delay-classification/runs/pm9eom9z</a>"
      ],
      "text/plain": [
       "<IPython.core.display.HTML object>"
      ]
     },
     "metadata": {},
     "output_type": "display_data"
    },
    {
     "name": "stdout",
     "output_type": "stream",
     "text": [
      "F1_score Train: 0.74\n",
      "F1_score Valid: 0.626\n",
      "F1_score Test: 0.7169\n"
     ]
    },
    {
     "name": "stderr",
     "output_type": "stream",
     "text": [
      "wandb: \n",
      "wandb: Plotting RandomForestClassifier.\n",
      "wandb: Logged feature importances.\n",
      "wandb: Logged confusion matrix.\n",
      "wandb: Logged summary metrics.\n",
      "wandb: Logged class proportions.\n",
      "wandb: Logged calibration curve.\n",
      "wandb: Logged roc curve.\n",
      "wandb: Logged precision-recall curve.\n"
     ]
    },
    {
     "data": {
      "application/vnd.jupyter.widget-view+json": {
       "model_id": "a05a466c60514f1c8dc0892c683dc7ee",
       "version_major": 2,
       "version_minor": 0
      },
      "text/plain": [
       "VBox(children=(Label(value='0.673 MB of 0.673 MB uploaded\\r'), FloatProgress(value=1.0, max=1.0)))"
      ]
     },
     "metadata": {},
     "output_type": "display_data"
    },
    {
     "data": {
      "text/html": [
       "<style>\n",
       "    table.wandb td:nth-child(1) { padding: 0 10px; text-align: left ; width: auto;} td:nth-child(2) {text-align: left ; width: 100%}\n",
       "    .wandb-row { display: flex; flex-direction: row; flex-wrap: wrap; justify-content: flex-start; width: 100% }\n",
       "    .wandb-col { display: flex; flex-direction: column; flex-basis: 100%; flex: 1; padding: 10px; }\n",
       "    </style>\n",
       "<div class=\"wandb-row\"><div class=\"wandb-col\"><h3>Run history:</h3><br/><table class=\"wandb\"><tr><td>f1_score</td><td>▁</td></tr><tr><td>f1_score_train</td><td>▁</td></tr><tr><td>f1_score_valid</td><td>▁</td></tr></table><br/></div><div class=\"wandb-col\"><h3>Run summary:</h3><br/><table class=\"wandb\"><tr><td>f1_score</td><td>0.71688</td></tr><tr><td>f1_score_train</td><td>0.74004</td></tr><tr><td>f1_score_valid</td><td>0.62597</td></tr></table><br/></div></div>"
      ],
      "text/plain": [
       "<IPython.core.display.HTML object>"
      ]
     },
     "metadata": {},
     "output_type": "display_data"
    },
    {
     "data": {
      "text/html": [
       " View run <strong style=\"color:#cdcd00\">tough-sweep-37</strong> at: <a href='https://wandb.ai/harshmp/truck-delay-classification/runs/pm9eom9z' target=\"_blank\">https://wandb.ai/harshmp/truck-delay-classification/runs/pm9eom9z</a><br/>Synced 5 W&B file(s), 7 media file(s), 8 artifact file(s) and 1 other file(s)"
      ],
      "text/plain": [
       "<IPython.core.display.HTML object>"
      ]
     },
     "metadata": {},
     "output_type": "display_data"
    },
    {
     "data": {
      "text/html": [
       "Find logs at: <code>.\\wandb\\run-20240925_161931-pm9eom9z\\logs</code>"
      ],
      "text/plain": [
       "<IPython.core.display.HTML object>"
      ]
     },
     "metadata": {},
     "output_type": "display_data"
    },
    {
     "name": "stderr",
     "output_type": "stream",
     "text": [
      "wandb: Agent Starting Run: ax6bjdkm with config:\n",
      "wandb: \tmax_depth: 10\n",
      "wandb: \tmin_samples_split: 4\n",
      "wandb: \tn_estimators: 12\n",
      "Failed to detect the name of this notebook, you can set it manually with the WANDB_NOTEBOOK_NAME environment variable to enable code saving.\n",
      "wandb: WARNING Ignored wandb.init() arg project when running a sweep.\n"
     ]
    },
    {
     "data": {
      "text/html": [
       "wandb version 0.18.1 is available!  To upgrade, please run:\n",
       " $ pip install wandb --upgrade"
      ],
      "text/plain": [
       "<IPython.core.display.HTML object>"
      ]
     },
     "metadata": {},
     "output_type": "display_data"
    },
    {
     "data": {
      "text/html": [
       "Tracking run with wandb version 0.16.1"
      ],
      "text/plain": [
       "<IPython.core.display.HTML object>"
      ]
     },
     "metadata": {},
     "output_type": "display_data"
    },
    {
     "data": {
      "text/html": [
       "Run data is saved locally in <code>e:\\Artificial Intelligence\\Projects\\Predictive-Truck-Delay-Management-in-Logistics\\wandb\\run-20240925_161953-ax6bjdkm</code>"
      ],
      "text/plain": [
       "<IPython.core.display.HTML object>"
      ]
     },
     "metadata": {},
     "output_type": "display_data"
    },
    {
     "data": {
      "text/html": [
       "Syncing run <strong><a href='https://wandb.ai/harshmp/truck-delay-classification/runs/ax6bjdkm' target=\"_blank\">scarlet-sweep-38</a></strong> to <a href='https://wandb.ai/harshmp/truck-delay-classification' target=\"_blank\">Weights & Biases</a> (<a href='https://wandb.me/run' target=\"_blank\">docs</a>)<br/>Sweep page: <a href='https://wandb.ai/harshmp/truck-delay-classification/sweeps/ilvq0mj4' target=\"_blank\">https://wandb.ai/harshmp/truck-delay-classification/sweeps/ilvq0mj4</a>"
      ],
      "text/plain": [
       "<IPython.core.display.HTML object>"
      ]
     },
     "metadata": {},
     "output_type": "display_data"
    },
    {
     "data": {
      "text/html": [
       " View project at <a href='https://wandb.ai/harshmp/truck-delay-classification' target=\"_blank\">https://wandb.ai/harshmp/truck-delay-classification</a>"
      ],
      "text/plain": [
       "<IPython.core.display.HTML object>"
      ]
     },
     "metadata": {},
     "output_type": "display_data"
    },
    {
     "data": {
      "text/html": [
       " View sweep at <a href='https://wandb.ai/harshmp/truck-delay-classification/sweeps/ilvq0mj4' target=\"_blank\">https://wandb.ai/harshmp/truck-delay-classification/sweeps/ilvq0mj4</a>"
      ],
      "text/plain": [
       "<IPython.core.display.HTML object>"
      ]
     },
     "metadata": {},
     "output_type": "display_data"
    },
    {
     "data": {
      "text/html": [
       " View run at <a href='https://wandb.ai/harshmp/truck-delay-classification/runs/ax6bjdkm' target=\"_blank\">https://wandb.ai/harshmp/truck-delay-classification/runs/ax6bjdkm</a>"
      ],
      "text/plain": [
       "<IPython.core.display.HTML object>"
      ]
     },
     "metadata": {},
     "output_type": "display_data"
    },
    {
     "name": "stdout",
     "output_type": "stream",
     "text": [
      "F1_score Train: 0.7463\n",
      "F1_score Valid: 0.6318\n",
      "F1_score Test: 0.7259\n"
     ]
    },
    {
     "name": "stderr",
     "output_type": "stream",
     "text": [
      "wandb: \n",
      "wandb: Plotting RandomForestClassifier.\n",
      "wandb: Logged feature importances.\n",
      "wandb: Logged confusion matrix.\n",
      "wandb: Logged summary metrics.\n",
      "wandb: Logged class proportions.\n",
      "wandb: Logged calibration curve.\n",
      "wandb: Logged roc curve.\n",
      "wandb: Logged precision-recall curve.\n"
     ]
    },
    {
     "data": {
      "application/vnd.jupyter.widget-view+json": {
       "model_id": "bb50dbd556d34a6dac8475e7094f4fbf",
       "version_major": 2,
       "version_minor": 0
      },
      "text/plain": [
       "VBox(children=(Label(value='0.975 MB of 0.975 MB uploaded\\r'), FloatProgress(value=1.0, max=1.0)))"
      ]
     },
     "metadata": {},
     "output_type": "display_data"
    },
    {
     "data": {
      "text/html": [
       "<style>\n",
       "    table.wandb td:nth-child(1) { padding: 0 10px; text-align: left ; width: auto;} td:nth-child(2) {text-align: left ; width: 100%}\n",
       "    .wandb-row { display: flex; flex-direction: row; flex-wrap: wrap; justify-content: flex-start; width: 100% }\n",
       "    .wandb-col { display: flex; flex-direction: column; flex-basis: 100%; flex: 1; padding: 10px; }\n",
       "    </style>\n",
       "<div class=\"wandb-row\"><div class=\"wandb-col\"><h3>Run history:</h3><br/><table class=\"wandb\"><tr><td>f1_score</td><td>▁</td></tr><tr><td>f1_score_train</td><td>▁</td></tr><tr><td>f1_score_valid</td><td>▁</td></tr></table><br/></div><div class=\"wandb-col\"><h3>Run summary:</h3><br/><table class=\"wandb\"><tr><td>f1_score</td><td>0.7259</td></tr><tr><td>f1_score_train</td><td>0.74625</td></tr><tr><td>f1_score_valid</td><td>0.63179</td></tr></table><br/></div></div>"
      ],
      "text/plain": [
       "<IPython.core.display.HTML object>"
      ]
     },
     "metadata": {},
     "output_type": "display_data"
    },
    {
     "data": {
      "text/html": [
       " View run <strong style=\"color:#cdcd00\">scarlet-sweep-38</strong> at: <a href='https://wandb.ai/harshmp/truck-delay-classification/runs/ax6bjdkm' target=\"_blank\">https://wandb.ai/harshmp/truck-delay-classification/runs/ax6bjdkm</a><br/>Synced 5 W&B file(s), 7 media file(s), 8 artifact file(s) and 1 other file(s)"
      ],
      "text/plain": [
       "<IPython.core.display.HTML object>"
      ]
     },
     "metadata": {},
     "output_type": "display_data"
    },
    {
     "data": {
      "text/html": [
       "Find logs at: <code>.\\wandb\\run-20240925_161953-ax6bjdkm\\logs</code>"
      ],
      "text/plain": [
       "<IPython.core.display.HTML object>"
      ]
     },
     "metadata": {},
     "output_type": "display_data"
    },
    {
     "name": "stderr",
     "output_type": "stream",
     "text": [
      "wandb: Agent Starting Run: l6telcfk with config:\n",
      "wandb: \tmax_depth: 10\n",
      "wandb: \tmin_samples_split: 4\n",
      "wandb: \tn_estimators: 16\n",
      "Failed to detect the name of this notebook, you can set it manually with the WANDB_NOTEBOOK_NAME environment variable to enable code saving.\n",
      "wandb: WARNING Ignored wandb.init() arg project when running a sweep.\n"
     ]
    },
    {
     "data": {
      "text/html": [
       "wandb version 0.18.1 is available!  To upgrade, please run:\n",
       " $ pip install wandb --upgrade"
      ],
      "text/plain": [
       "<IPython.core.display.HTML object>"
      ]
     },
     "metadata": {},
     "output_type": "display_data"
    },
    {
     "data": {
      "text/html": [
       "Tracking run with wandb version 0.16.1"
      ],
      "text/plain": [
       "<IPython.core.display.HTML object>"
      ]
     },
     "metadata": {},
     "output_type": "display_data"
    },
    {
     "data": {
      "text/html": [
       "Run data is saved locally in <code>e:\\Artificial Intelligence\\Projects\\Predictive-Truck-Delay-Management-in-Logistics\\wandb\\run-20240925_162017-l6telcfk</code>"
      ],
      "text/plain": [
       "<IPython.core.display.HTML object>"
      ]
     },
     "metadata": {},
     "output_type": "display_data"
    },
    {
     "data": {
      "text/html": [
       "Syncing run <strong><a href='https://wandb.ai/harshmp/truck-delay-classification/runs/l6telcfk' target=\"_blank\">olive-sweep-39</a></strong> to <a href='https://wandb.ai/harshmp/truck-delay-classification' target=\"_blank\">Weights & Biases</a> (<a href='https://wandb.me/run' target=\"_blank\">docs</a>)<br/>Sweep page: <a href='https://wandb.ai/harshmp/truck-delay-classification/sweeps/ilvq0mj4' target=\"_blank\">https://wandb.ai/harshmp/truck-delay-classification/sweeps/ilvq0mj4</a>"
      ],
      "text/plain": [
       "<IPython.core.display.HTML object>"
      ]
     },
     "metadata": {},
     "output_type": "display_data"
    },
    {
     "data": {
      "text/html": [
       " View project at <a href='https://wandb.ai/harshmp/truck-delay-classification' target=\"_blank\">https://wandb.ai/harshmp/truck-delay-classification</a>"
      ],
      "text/plain": [
       "<IPython.core.display.HTML object>"
      ]
     },
     "metadata": {},
     "output_type": "display_data"
    },
    {
     "data": {
      "text/html": [
       " View sweep at <a href='https://wandb.ai/harshmp/truck-delay-classification/sweeps/ilvq0mj4' target=\"_blank\">https://wandb.ai/harshmp/truck-delay-classification/sweeps/ilvq0mj4</a>"
      ],
      "text/plain": [
       "<IPython.core.display.HTML object>"
      ]
     },
     "metadata": {},
     "output_type": "display_data"
    },
    {
     "data": {
      "text/html": [
       " View run at <a href='https://wandb.ai/harshmp/truck-delay-classification/runs/l6telcfk' target=\"_blank\">https://wandb.ai/harshmp/truck-delay-classification/runs/l6telcfk</a>"
      ],
      "text/plain": [
       "<IPython.core.display.HTML object>"
      ]
     },
     "metadata": {},
     "output_type": "display_data"
    },
    {
     "name": "stdout",
     "output_type": "stream",
     "text": [
      "F1_score Train: 0.746\n",
      "F1_score Valid: 0.6403\n",
      "F1_score Test: 0.7415\n"
     ]
    },
    {
     "name": "stderr",
     "output_type": "stream",
     "text": [
      "wandb: \n",
      "wandb: Plotting RandomForestClassifier.\n",
      "wandb: Logged feature importances.\n",
      "wandb: Logged confusion matrix.\n",
      "wandb: Logged summary metrics.\n",
      "wandb: Logged class proportions.\n",
      "wandb: Logged calibration curve.\n",
      "wandb: Logged roc curve.\n",
      "wandb: Logged precision-recall curve.\n"
     ]
    },
    {
     "data": {
      "application/vnd.jupyter.widget-view+json": {
       "model_id": "f48dac2884e345448259796e8deb218b",
       "version_major": 2,
       "version_minor": 0
      },
      "text/plain": [
       "VBox(children=(Label(value='1.269 MB of 1.269 MB uploaded\\r'), FloatProgress(value=1.0, max=1.0)))"
      ]
     },
     "metadata": {},
     "output_type": "display_data"
    },
    {
     "data": {
      "text/html": [
       "<style>\n",
       "    table.wandb td:nth-child(1) { padding: 0 10px; text-align: left ; width: auto;} td:nth-child(2) {text-align: left ; width: 100%}\n",
       "    .wandb-row { display: flex; flex-direction: row; flex-wrap: wrap; justify-content: flex-start; width: 100% }\n",
       "    .wandb-col { display: flex; flex-direction: column; flex-basis: 100%; flex: 1; padding: 10px; }\n",
       "    </style>\n",
       "<div class=\"wandb-row\"><div class=\"wandb-col\"><h3>Run history:</h3><br/><table class=\"wandb\"><tr><td>f1_score</td><td>▁</td></tr><tr><td>f1_score_train</td><td>▁</td></tr><tr><td>f1_score_valid</td><td>▁</td></tr></table><br/></div><div class=\"wandb-col\"><h3>Run summary:</h3><br/><table class=\"wandb\"><tr><td>f1_score</td><td>0.74145</td></tr><tr><td>f1_score_train</td><td>0.74597</td></tr><tr><td>f1_score_valid</td><td>0.64032</td></tr></table><br/></div></div>"
      ],
      "text/plain": [
       "<IPython.core.display.HTML object>"
      ]
     },
     "metadata": {},
     "output_type": "display_data"
    },
    {
     "data": {
      "text/html": [
       " View run <strong style=\"color:#cdcd00\">olive-sweep-39</strong> at: <a href='https://wandb.ai/harshmp/truck-delay-classification/runs/l6telcfk' target=\"_blank\">https://wandb.ai/harshmp/truck-delay-classification/runs/l6telcfk</a><br/>Synced 5 W&B file(s), 7 media file(s), 8 artifact file(s) and 1 other file(s)"
      ],
      "text/plain": [
       "<IPython.core.display.HTML object>"
      ]
     },
     "metadata": {},
     "output_type": "display_data"
    },
    {
     "data": {
      "text/html": [
       "Find logs at: <code>.\\wandb\\run-20240925_162017-l6telcfk\\logs</code>"
      ],
      "text/plain": [
       "<IPython.core.display.HTML object>"
      ]
     },
     "metadata": {},
     "output_type": "display_data"
    },
    {
     "name": "stderr",
     "output_type": "stream",
     "text": [
      "wandb: Agent Starting Run: bk3sbwhl with config:\n",
      "wandb: \tmax_depth: 10\n",
      "wandb: \tmin_samples_split: 4\n",
      "wandb: \tn_estimators: 20\n",
      "Failed to detect the name of this notebook, you can set it manually with the WANDB_NOTEBOOK_NAME environment variable to enable code saving.\n",
      "wandb: WARNING Ignored wandb.init() arg project when running a sweep.\n"
     ]
    },
    {
     "data": {
      "text/html": [
       "wandb version 0.18.1 is available!  To upgrade, please run:\n",
       " $ pip install wandb --upgrade"
      ],
      "text/plain": [
       "<IPython.core.display.HTML object>"
      ]
     },
     "metadata": {},
     "output_type": "display_data"
    },
    {
     "data": {
      "text/html": [
       "Tracking run with wandb version 0.16.1"
      ],
      "text/plain": [
       "<IPython.core.display.HTML object>"
      ]
     },
     "metadata": {},
     "output_type": "display_data"
    },
    {
     "data": {
      "text/html": [
       "Run data is saved locally in <code>e:\\Artificial Intelligence\\Projects\\Predictive-Truck-Delay-Management-in-Logistics\\wandb\\run-20240925_162044-bk3sbwhl</code>"
      ],
      "text/plain": [
       "<IPython.core.display.HTML object>"
      ]
     },
     "metadata": {},
     "output_type": "display_data"
    },
    {
     "data": {
      "text/html": [
       "Syncing run <strong><a href='https://wandb.ai/harshmp/truck-delay-classification/runs/bk3sbwhl' target=\"_blank\">woven-sweep-40</a></strong> to <a href='https://wandb.ai/harshmp/truck-delay-classification' target=\"_blank\">Weights & Biases</a> (<a href='https://wandb.me/run' target=\"_blank\">docs</a>)<br/>Sweep page: <a href='https://wandb.ai/harshmp/truck-delay-classification/sweeps/ilvq0mj4' target=\"_blank\">https://wandb.ai/harshmp/truck-delay-classification/sweeps/ilvq0mj4</a>"
      ],
      "text/plain": [
       "<IPython.core.display.HTML object>"
      ]
     },
     "metadata": {},
     "output_type": "display_data"
    },
    {
     "data": {
      "text/html": [
       " View project at <a href='https://wandb.ai/harshmp/truck-delay-classification' target=\"_blank\">https://wandb.ai/harshmp/truck-delay-classification</a>"
      ],
      "text/plain": [
       "<IPython.core.display.HTML object>"
      ]
     },
     "metadata": {},
     "output_type": "display_data"
    },
    {
     "data": {
      "text/html": [
       " View sweep at <a href='https://wandb.ai/harshmp/truck-delay-classification/sweeps/ilvq0mj4' target=\"_blank\">https://wandb.ai/harshmp/truck-delay-classification/sweeps/ilvq0mj4</a>"
      ],
      "text/plain": [
       "<IPython.core.display.HTML object>"
      ]
     },
     "metadata": {},
     "output_type": "display_data"
    },
    {
     "data": {
      "text/html": [
       " View run at <a href='https://wandb.ai/harshmp/truck-delay-classification/runs/bk3sbwhl' target=\"_blank\">https://wandb.ai/harshmp/truck-delay-classification/runs/bk3sbwhl</a>"
      ],
      "text/plain": [
       "<IPython.core.display.HTML object>"
      ]
     },
     "metadata": {},
     "output_type": "display_data"
    },
    {
     "name": "stdout",
     "output_type": "stream",
     "text": [
      "F1_score Train: 0.7474\n",
      "F1_score Valid: 0.6407\n",
      "F1_score Test: 0.7451\n"
     ]
    },
    {
     "name": "stderr",
     "output_type": "stream",
     "text": [
      "wandb: \n",
      "wandb: Plotting RandomForestClassifier.\n",
      "wandb: Logged feature importances.\n",
      "wandb: Logged confusion matrix.\n",
      "wandb: Logged summary metrics.\n",
      "wandb: Logged class proportions.\n",
      "wandb: Logged calibration curve.\n",
      "wandb: Logged roc curve.\n",
      "wandb: Logged precision-recall curve.\n"
     ]
    },
    {
     "data": {
      "application/vnd.jupyter.widget-view+json": {
       "model_id": "2883f658f95445cca092f07e7b673865",
       "version_major": 2,
       "version_minor": 0
      },
      "text/plain": [
       "VBox(children=(Label(value='1.591 MB of 1.591 MB uploaded\\r'), FloatProgress(value=1.0, max=1.0)))"
      ]
     },
     "metadata": {},
     "output_type": "display_data"
    },
    {
     "data": {
      "text/html": [
       "<style>\n",
       "    table.wandb td:nth-child(1) { padding: 0 10px; text-align: left ; width: auto;} td:nth-child(2) {text-align: left ; width: 100%}\n",
       "    .wandb-row { display: flex; flex-direction: row; flex-wrap: wrap; justify-content: flex-start; width: 100% }\n",
       "    .wandb-col { display: flex; flex-direction: column; flex-basis: 100%; flex: 1; padding: 10px; }\n",
       "    </style>\n",
       "<div class=\"wandb-row\"><div class=\"wandb-col\"><h3>Run history:</h3><br/><table class=\"wandb\"><tr><td>f1_score</td><td>▁</td></tr><tr><td>f1_score_train</td><td>▁</td></tr><tr><td>f1_score_valid</td><td>▁</td></tr></table><br/></div><div class=\"wandb-col\"><h3>Run summary:</h3><br/><table class=\"wandb\"><tr><td>f1_score</td><td>0.74507</td></tr><tr><td>f1_score_train</td><td>0.74736</td></tr><tr><td>f1_score_valid</td><td>0.64069</td></tr></table><br/></div></div>"
      ],
      "text/plain": [
       "<IPython.core.display.HTML object>"
      ]
     },
     "metadata": {},
     "output_type": "display_data"
    },
    {
     "data": {
      "text/html": [
       " View run <strong style=\"color:#cdcd00\">woven-sweep-40</strong> at: <a href='https://wandb.ai/harshmp/truck-delay-classification/runs/bk3sbwhl' target=\"_blank\">https://wandb.ai/harshmp/truck-delay-classification/runs/bk3sbwhl</a><br/>Synced 5 W&B file(s), 7 media file(s), 8 artifact file(s) and 1 other file(s)"
      ],
      "text/plain": [
       "<IPython.core.display.HTML object>"
      ]
     },
     "metadata": {},
     "output_type": "display_data"
    },
    {
     "data": {
      "text/html": [
       "Find logs at: <code>.\\wandb\\run-20240925_162044-bk3sbwhl\\logs</code>"
      ],
      "text/plain": [
       "<IPython.core.display.HTML object>"
      ]
     },
     "metadata": {},
     "output_type": "display_data"
    },
    {
     "name": "stderr",
     "output_type": "stream",
     "text": [
      "wandb: Sweep Agent: Waiting for job.\n",
      "wandb: Job received.\n",
      "wandb: Agent Starting Run: 9sxv9ojk with config:\n",
      "wandb: \tmax_depth: 10\n",
      "wandb: \tmin_samples_split: 8\n",
      "wandb: \tn_estimators: 8\n",
      "Failed to detect the name of this notebook, you can set it manually with the WANDB_NOTEBOOK_NAME environment variable to enable code saving.\n",
      "wandb: WARNING Ignored wandb.init() arg project when running a sweep.\n"
     ]
    },
    {
     "data": {
      "text/html": [
       "wandb version 0.18.1 is available!  To upgrade, please run:\n",
       " $ pip install wandb --upgrade"
      ],
      "text/plain": [
       "<IPython.core.display.HTML object>"
      ]
     },
     "metadata": {},
     "output_type": "display_data"
    },
    {
     "data": {
      "text/html": [
       "Tracking run with wandb version 0.16.1"
      ],
      "text/plain": [
       "<IPython.core.display.HTML object>"
      ]
     },
     "metadata": {},
     "output_type": "display_data"
    },
    {
     "data": {
      "text/html": [
       "Run data is saved locally in <code>e:\\Artificial Intelligence\\Projects\\Predictive-Truck-Delay-Management-in-Logistics\\wandb\\run-20240925_162115-9sxv9ojk</code>"
      ],
      "text/plain": [
       "<IPython.core.display.HTML object>"
      ]
     },
     "metadata": {},
     "output_type": "display_data"
    },
    {
     "data": {
      "text/html": [
       "Syncing run <strong><a href='https://wandb.ai/harshmp/truck-delay-classification/runs/9sxv9ojk' target=\"_blank\">golden-sweep-41</a></strong> to <a href='https://wandb.ai/harshmp/truck-delay-classification' target=\"_blank\">Weights & Biases</a> (<a href='https://wandb.me/run' target=\"_blank\">docs</a>)<br/>Sweep page: <a href='https://wandb.ai/harshmp/truck-delay-classification/sweeps/ilvq0mj4' target=\"_blank\">https://wandb.ai/harshmp/truck-delay-classification/sweeps/ilvq0mj4</a>"
      ],
      "text/plain": [
       "<IPython.core.display.HTML object>"
      ]
     },
     "metadata": {},
     "output_type": "display_data"
    },
    {
     "data": {
      "text/html": [
       " View project at <a href='https://wandb.ai/harshmp/truck-delay-classification' target=\"_blank\">https://wandb.ai/harshmp/truck-delay-classification</a>"
      ],
      "text/plain": [
       "<IPython.core.display.HTML object>"
      ]
     },
     "metadata": {},
     "output_type": "display_data"
    },
    {
     "data": {
      "text/html": [
       " View sweep at <a href='https://wandb.ai/harshmp/truck-delay-classification/sweeps/ilvq0mj4' target=\"_blank\">https://wandb.ai/harshmp/truck-delay-classification/sweeps/ilvq0mj4</a>"
      ],
      "text/plain": [
       "<IPython.core.display.HTML object>"
      ]
     },
     "metadata": {},
     "output_type": "display_data"
    },
    {
     "data": {
      "text/html": [
       " View run at <a href='https://wandb.ai/harshmp/truck-delay-classification/runs/9sxv9ojk' target=\"_blank\">https://wandb.ai/harshmp/truck-delay-classification/runs/9sxv9ojk</a>"
      ],
      "text/plain": [
       "<IPython.core.display.HTML object>"
      ]
     },
     "metadata": {},
     "output_type": "display_data"
    },
    {
     "name": "stdout",
     "output_type": "stream",
     "text": [
      "F1_score Train: 0.7405\n",
      "F1_score Valid: 0.6216\n",
      "F1_score Test: 0.7039\n"
     ]
    },
    {
     "name": "stderr",
     "output_type": "stream",
     "text": [
      "wandb: \n",
      "wandb: Plotting RandomForestClassifier.\n",
      "wandb: Logged feature importances.\n",
      "wandb: Logged confusion matrix.\n",
      "wandb: Logged summary metrics.\n",
      "wandb: Logged class proportions.\n",
      "wandb: Logged calibration curve.\n",
      "wandb: Logged roc curve.\n",
      "wandb: Logged precision-recall curve.\n"
     ]
    },
    {
     "data": {
      "application/vnd.jupyter.widget-view+json": {
       "model_id": "acdd07a5297046cab0887a3b20e3aae5",
       "version_major": 2,
       "version_minor": 0
      },
      "text/plain": [
       "VBox(children=(Label(value='0.617 MB of 0.617 MB uploaded\\r'), FloatProgress(value=1.0, max=1.0)))"
      ]
     },
     "metadata": {},
     "output_type": "display_data"
    },
    {
     "data": {
      "text/html": [
       "<style>\n",
       "    table.wandb td:nth-child(1) { padding: 0 10px; text-align: left ; width: auto;} td:nth-child(2) {text-align: left ; width: 100%}\n",
       "    .wandb-row { display: flex; flex-direction: row; flex-wrap: wrap; justify-content: flex-start; width: 100% }\n",
       "    .wandb-col { display: flex; flex-direction: column; flex-basis: 100%; flex: 1; padding: 10px; }\n",
       "    </style>\n",
       "<div class=\"wandb-row\"><div class=\"wandb-col\"><h3>Run history:</h3><br/><table class=\"wandb\"><tr><td>f1_score</td><td>▁</td></tr><tr><td>f1_score_train</td><td>▁</td></tr><tr><td>f1_score_valid</td><td>▁</td></tr></table><br/></div><div class=\"wandb-col\"><h3>Run summary:</h3><br/><table class=\"wandb\"><tr><td>f1_score</td><td>0.70391</td></tr><tr><td>f1_score_train</td><td>0.74053</td></tr><tr><td>f1_score_valid</td><td>0.6216</td></tr></table><br/></div></div>"
      ],
      "text/plain": [
       "<IPython.core.display.HTML object>"
      ]
     },
     "metadata": {},
     "output_type": "display_data"
    },
    {
     "data": {
      "text/html": [
       " View run <strong style=\"color:#cdcd00\">golden-sweep-41</strong> at: <a href='https://wandb.ai/harshmp/truck-delay-classification/runs/9sxv9ojk' target=\"_blank\">https://wandb.ai/harshmp/truck-delay-classification/runs/9sxv9ojk</a><br/>Synced 5 W&B file(s), 7 media file(s), 8 artifact file(s) and 1 other file(s)"
      ],
      "text/plain": [
       "<IPython.core.display.HTML object>"
      ]
     },
     "metadata": {},
     "output_type": "display_data"
    },
    {
     "data": {
      "text/html": [
       "Find logs at: <code>.\\wandb\\run-20240925_162115-9sxv9ojk\\logs</code>"
      ],
      "text/plain": [
       "<IPython.core.display.HTML object>"
      ]
     },
     "metadata": {},
     "output_type": "display_data"
    },
    {
     "name": "stderr",
     "output_type": "stream",
     "text": [
      "wandb: Agent Starting Run: wjxjwc6h with config:\n",
      "wandb: \tmax_depth: 10\n",
      "wandb: \tmin_samples_split: 8\n",
      "wandb: \tn_estimators: 12\n",
      "Failed to detect the name of this notebook, you can set it manually with the WANDB_NOTEBOOK_NAME environment variable to enable code saving.\n",
      "wandb: WARNING Ignored wandb.init() arg project when running a sweep.\n"
     ]
    },
    {
     "data": {
      "text/html": [
       "wandb version 0.18.1 is available!  To upgrade, please run:\n",
       " $ pip install wandb --upgrade"
      ],
      "text/plain": [
       "<IPython.core.display.HTML object>"
      ]
     },
     "metadata": {},
     "output_type": "display_data"
    },
    {
     "data": {
      "text/html": [
       "Tracking run with wandb version 0.16.1"
      ],
      "text/plain": [
       "<IPython.core.display.HTML object>"
      ]
     },
     "metadata": {},
     "output_type": "display_data"
    },
    {
     "data": {
      "text/html": [
       "Run data is saved locally in <code>e:\\Artificial Intelligence\\Projects\\Predictive-Truck-Delay-Management-in-Logistics\\wandb\\run-20240925_162141-wjxjwc6h</code>"
      ],
      "text/plain": [
       "<IPython.core.display.HTML object>"
      ]
     },
     "metadata": {},
     "output_type": "display_data"
    },
    {
     "data": {
      "text/html": [
       "Syncing run <strong><a href='https://wandb.ai/harshmp/truck-delay-classification/runs/wjxjwc6h' target=\"_blank\">expert-sweep-42</a></strong> to <a href='https://wandb.ai/harshmp/truck-delay-classification' target=\"_blank\">Weights & Biases</a> (<a href='https://wandb.me/run' target=\"_blank\">docs</a>)<br/>Sweep page: <a href='https://wandb.ai/harshmp/truck-delay-classification/sweeps/ilvq0mj4' target=\"_blank\">https://wandb.ai/harshmp/truck-delay-classification/sweeps/ilvq0mj4</a>"
      ],
      "text/plain": [
       "<IPython.core.display.HTML object>"
      ]
     },
     "metadata": {},
     "output_type": "display_data"
    },
    {
     "data": {
      "text/html": [
       " View project at <a href='https://wandb.ai/harshmp/truck-delay-classification' target=\"_blank\">https://wandb.ai/harshmp/truck-delay-classification</a>"
      ],
      "text/plain": [
       "<IPython.core.display.HTML object>"
      ]
     },
     "metadata": {},
     "output_type": "display_data"
    },
    {
     "data": {
      "text/html": [
       " View sweep at <a href='https://wandb.ai/harshmp/truck-delay-classification/sweeps/ilvq0mj4' target=\"_blank\">https://wandb.ai/harshmp/truck-delay-classification/sweeps/ilvq0mj4</a>"
      ],
      "text/plain": [
       "<IPython.core.display.HTML object>"
      ]
     },
     "metadata": {},
     "output_type": "display_data"
    },
    {
     "data": {
      "text/html": [
       " View run at <a href='https://wandb.ai/harshmp/truck-delay-classification/runs/wjxjwc6h' target=\"_blank\">https://wandb.ai/harshmp/truck-delay-classification/runs/wjxjwc6h</a>"
      ],
      "text/plain": [
       "<IPython.core.display.HTML object>"
      ]
     },
     "metadata": {},
     "output_type": "display_data"
    },
    {
     "name": "stdout",
     "output_type": "stream",
     "text": [
      "F1_score Train: 0.7463\n",
      "F1_score Valid: 0.6493\n",
      "F1_score Test: 0.7296\n"
     ]
    },
    {
     "name": "stderr",
     "output_type": "stream",
     "text": [
      "wandb: \n",
      "wandb: Plotting RandomForestClassifier.\n",
      "wandb: Logged feature importances.\n",
      "wandb: Logged confusion matrix.\n",
      "wandb: Logged summary metrics.\n",
      "wandb: Logged class proportions.\n",
      "wandb: Logged calibration curve.\n",
      "wandb: Logged roc curve.\n",
      "wandb: Logged precision-recall curve.\n"
     ]
    },
    {
     "data": {
      "application/vnd.jupyter.widget-view+json": {
       "model_id": "474dd96404364030a66076da8579338b",
       "version_major": 2,
       "version_minor": 0
      },
      "text/plain": [
       "VBox(children=(Label(value='0.886 MB of 0.886 MB uploaded\\r'), FloatProgress(value=1.0, max=1.0)))"
      ]
     },
     "metadata": {},
     "output_type": "display_data"
    },
    {
     "data": {
      "text/html": [
       "<style>\n",
       "    table.wandb td:nth-child(1) { padding: 0 10px; text-align: left ; width: auto;} td:nth-child(2) {text-align: left ; width: 100%}\n",
       "    .wandb-row { display: flex; flex-direction: row; flex-wrap: wrap; justify-content: flex-start; width: 100% }\n",
       "    .wandb-col { display: flex; flex-direction: column; flex-basis: 100%; flex: 1; padding: 10px; }\n",
       "    </style>\n",
       "<div class=\"wandb-row\"><div class=\"wandb-col\"><h3>Run history:</h3><br/><table class=\"wandb\"><tr><td>f1_score</td><td>▁</td></tr><tr><td>f1_score_train</td><td>▁</td></tr><tr><td>f1_score_valid</td><td>▁</td></tr></table><br/></div><div class=\"wandb-col\"><h3>Run summary:</h3><br/><table class=\"wandb\"><tr><td>f1_score</td><td>0.72962</td></tr><tr><td>f1_score_train</td><td>0.74627</td></tr><tr><td>f1_score_valid</td><td>0.6493</td></tr></table><br/></div></div>"
      ],
      "text/plain": [
       "<IPython.core.display.HTML object>"
      ]
     },
     "metadata": {},
     "output_type": "display_data"
    },
    {
     "data": {
      "text/html": [
       " View run <strong style=\"color:#cdcd00\">expert-sweep-42</strong> at: <a href='https://wandb.ai/harshmp/truck-delay-classification/runs/wjxjwc6h' target=\"_blank\">https://wandb.ai/harshmp/truck-delay-classification/runs/wjxjwc6h</a><br/>Synced 5 W&B file(s), 7 media file(s), 8 artifact file(s) and 1 other file(s)"
      ],
      "text/plain": [
       "<IPython.core.display.HTML object>"
      ]
     },
     "metadata": {},
     "output_type": "display_data"
    },
    {
     "data": {
      "text/html": [
       "Find logs at: <code>.\\wandb\\run-20240925_162141-wjxjwc6h\\logs</code>"
      ],
      "text/plain": [
       "<IPython.core.display.HTML object>"
      ]
     },
     "metadata": {},
     "output_type": "display_data"
    },
    {
     "name": "stderr",
     "output_type": "stream",
     "text": [
      "wandb: Agent Starting Run: sw0hmc0p with config:\n",
      "wandb: \tmax_depth: 10\n",
      "wandb: \tmin_samples_split: 8\n",
      "wandb: \tn_estimators: 16\n",
      "Failed to detect the name of this notebook, you can set it manually with the WANDB_NOTEBOOK_NAME environment variable to enable code saving.\n",
      "wandb: WARNING Ignored wandb.init() arg project when running a sweep.\n"
     ]
    },
    {
     "data": {
      "text/html": [
       "wandb version 0.18.1 is available!  To upgrade, please run:\n",
       " $ pip install wandb --upgrade"
      ],
      "text/plain": [
       "<IPython.core.display.HTML object>"
      ]
     },
     "metadata": {},
     "output_type": "display_data"
    },
    {
     "data": {
      "text/html": [
       "Tracking run with wandb version 0.16.1"
      ],
      "text/plain": [
       "<IPython.core.display.HTML object>"
      ]
     },
     "metadata": {},
     "output_type": "display_data"
    },
    {
     "data": {
      "text/html": [
       "Run data is saved locally in <code>e:\\Artificial Intelligence\\Projects\\Predictive-Truck-Delay-Management-in-Logistics\\wandb\\run-20240925_162202-sw0hmc0p</code>"
      ],
      "text/plain": [
       "<IPython.core.display.HTML object>"
      ]
     },
     "metadata": {},
     "output_type": "display_data"
    },
    {
     "data": {
      "text/html": [
       "Syncing run <strong><a href='https://wandb.ai/harshmp/truck-delay-classification/runs/sw0hmc0p' target=\"_blank\">lunar-sweep-43</a></strong> to <a href='https://wandb.ai/harshmp/truck-delay-classification' target=\"_blank\">Weights & Biases</a> (<a href='https://wandb.me/run' target=\"_blank\">docs</a>)<br/>Sweep page: <a href='https://wandb.ai/harshmp/truck-delay-classification/sweeps/ilvq0mj4' target=\"_blank\">https://wandb.ai/harshmp/truck-delay-classification/sweeps/ilvq0mj4</a>"
      ],
      "text/plain": [
       "<IPython.core.display.HTML object>"
      ]
     },
     "metadata": {},
     "output_type": "display_data"
    },
    {
     "data": {
      "text/html": [
       " View project at <a href='https://wandb.ai/harshmp/truck-delay-classification' target=\"_blank\">https://wandb.ai/harshmp/truck-delay-classification</a>"
      ],
      "text/plain": [
       "<IPython.core.display.HTML object>"
      ]
     },
     "metadata": {},
     "output_type": "display_data"
    },
    {
     "data": {
      "text/html": [
       " View sweep at <a href='https://wandb.ai/harshmp/truck-delay-classification/sweeps/ilvq0mj4' target=\"_blank\">https://wandb.ai/harshmp/truck-delay-classification/sweeps/ilvq0mj4</a>"
      ],
      "text/plain": [
       "<IPython.core.display.HTML object>"
      ]
     },
     "metadata": {},
     "output_type": "display_data"
    },
    {
     "data": {
      "text/html": [
       " View run at <a href='https://wandb.ai/harshmp/truck-delay-classification/runs/sw0hmc0p' target=\"_blank\">https://wandb.ai/harshmp/truck-delay-classification/runs/sw0hmc0p</a>"
      ],
      "text/plain": [
       "<IPython.core.display.HTML object>"
      ]
     },
     "metadata": {},
     "output_type": "display_data"
    },
    {
     "name": "stdout",
     "output_type": "stream",
     "text": [
      "F1_score Train: 0.7451\n",
      "F1_score Valid: 0.6418\n",
      "F1_score Test: 0.7295\n"
     ]
    },
    {
     "name": "stderr",
     "output_type": "stream",
     "text": [
      "wandb: \n",
      "wandb: Plotting RandomForestClassifier.\n",
      "wandb: Logged feature importances.\n",
      "wandb: Logged confusion matrix.\n",
      "wandb: Logged summary metrics.\n",
      "wandb: Logged class proportions.\n",
      "wandb: Logged calibration curve.\n",
      "wandb: Logged roc curve.\n",
      "wandb: Logged precision-recall curve.\n"
     ]
    },
    {
     "data": {
      "application/vnd.jupyter.widget-view+json": {
       "model_id": "24bb1bca7722423194cc7d8331cd2580",
       "version_major": 2,
       "version_minor": 0
      },
      "text/plain": [
       "VBox(children=(Label(value='1.149 MB of 1.149 MB uploaded\\r'), FloatProgress(value=1.0, max=1.0)))"
      ]
     },
     "metadata": {},
     "output_type": "display_data"
    },
    {
     "data": {
      "text/html": [
       "<style>\n",
       "    table.wandb td:nth-child(1) { padding: 0 10px; text-align: left ; width: auto;} td:nth-child(2) {text-align: left ; width: 100%}\n",
       "    .wandb-row { display: flex; flex-direction: row; flex-wrap: wrap; justify-content: flex-start; width: 100% }\n",
       "    .wandb-col { display: flex; flex-direction: column; flex-basis: 100%; flex: 1; padding: 10px; }\n",
       "    </style>\n",
       "<div class=\"wandb-row\"><div class=\"wandb-col\"><h3>Run history:</h3><br/><table class=\"wandb\"><tr><td>f1_score</td><td>▁</td></tr><tr><td>f1_score_train</td><td>▁</td></tr><tr><td>f1_score_valid</td><td>▁</td></tr></table><br/></div><div class=\"wandb-col\"><h3>Run summary:</h3><br/><table class=\"wandb\"><tr><td>f1_score</td><td>0.72953</td></tr><tr><td>f1_score_train</td><td>0.74511</td></tr><tr><td>f1_score_valid</td><td>0.64184</td></tr></table><br/></div></div>"
      ],
      "text/plain": [
       "<IPython.core.display.HTML object>"
      ]
     },
     "metadata": {},
     "output_type": "display_data"
    },
    {
     "data": {
      "text/html": [
       " View run <strong style=\"color:#cdcd00\">lunar-sweep-43</strong> at: <a href='https://wandb.ai/harshmp/truck-delay-classification/runs/sw0hmc0p' target=\"_blank\">https://wandb.ai/harshmp/truck-delay-classification/runs/sw0hmc0p</a><br/>Synced 5 W&B file(s), 7 media file(s), 8 artifact file(s) and 1 other file(s)"
      ],
      "text/plain": [
       "<IPython.core.display.HTML object>"
      ]
     },
     "metadata": {},
     "output_type": "display_data"
    },
    {
     "data": {
      "text/html": [
       "Find logs at: <code>.\\wandb\\run-20240925_162202-sw0hmc0p\\logs</code>"
      ],
      "text/plain": [
       "<IPython.core.display.HTML object>"
      ]
     },
     "metadata": {},
     "output_type": "display_data"
    },
    {
     "name": "stderr",
     "output_type": "stream",
     "text": [
      "wandb: Agent Starting Run: 9gdhdzt1 with config:\n",
      "wandb: \tmax_depth: 10\n",
      "wandb: \tmin_samples_split: 8\n",
      "wandb: \tn_estimators: 20\n",
      "Failed to detect the name of this notebook, you can set it manually with the WANDB_NOTEBOOK_NAME environment variable to enable code saving.\n",
      "wandb: WARNING Ignored wandb.init() arg project when running a sweep.\n"
     ]
    },
    {
     "data": {
      "text/html": [
       "wandb version 0.18.1 is available!  To upgrade, please run:\n",
       " $ pip install wandb --upgrade"
      ],
      "text/plain": [
       "<IPython.core.display.HTML object>"
      ]
     },
     "metadata": {},
     "output_type": "display_data"
    },
    {
     "data": {
      "text/html": [
       "Tracking run with wandb version 0.16.1"
      ],
      "text/plain": [
       "<IPython.core.display.HTML object>"
      ]
     },
     "metadata": {},
     "output_type": "display_data"
    },
    {
     "data": {
      "text/html": [
       "Run data is saved locally in <code>e:\\Artificial Intelligence\\Projects\\Predictive-Truck-Delay-Management-in-Logistics\\wandb\\run-20240925_162222-9gdhdzt1</code>"
      ],
      "text/plain": [
       "<IPython.core.display.HTML object>"
      ]
     },
     "metadata": {},
     "output_type": "display_data"
    },
    {
     "data": {
      "text/html": [
       "Syncing run <strong><a href='https://wandb.ai/harshmp/truck-delay-classification/runs/9gdhdzt1' target=\"_blank\">morning-sweep-44</a></strong> to <a href='https://wandb.ai/harshmp/truck-delay-classification' target=\"_blank\">Weights & Biases</a> (<a href='https://wandb.me/run' target=\"_blank\">docs</a>)<br/>Sweep page: <a href='https://wandb.ai/harshmp/truck-delay-classification/sweeps/ilvq0mj4' target=\"_blank\">https://wandb.ai/harshmp/truck-delay-classification/sweeps/ilvq0mj4</a>"
      ],
      "text/plain": [
       "<IPython.core.display.HTML object>"
      ]
     },
     "metadata": {},
     "output_type": "display_data"
    },
    {
     "data": {
      "text/html": [
       " View project at <a href='https://wandb.ai/harshmp/truck-delay-classification' target=\"_blank\">https://wandb.ai/harshmp/truck-delay-classification</a>"
      ],
      "text/plain": [
       "<IPython.core.display.HTML object>"
      ]
     },
     "metadata": {},
     "output_type": "display_data"
    },
    {
     "data": {
      "text/html": [
       " View sweep at <a href='https://wandb.ai/harshmp/truck-delay-classification/sweeps/ilvq0mj4' target=\"_blank\">https://wandb.ai/harshmp/truck-delay-classification/sweeps/ilvq0mj4</a>"
      ],
      "text/plain": [
       "<IPython.core.display.HTML object>"
      ]
     },
     "metadata": {},
     "output_type": "display_data"
    },
    {
     "data": {
      "text/html": [
       " View run at <a href='https://wandb.ai/harshmp/truck-delay-classification/runs/9gdhdzt1' target=\"_blank\">https://wandb.ai/harshmp/truck-delay-classification/runs/9gdhdzt1</a>"
      ],
      "text/plain": [
       "<IPython.core.display.HTML object>"
      ]
     },
     "metadata": {},
     "output_type": "display_data"
    },
    {
     "name": "stdout",
     "output_type": "stream",
     "text": [
      "F1_score Train: 0.7445\n",
      "F1_score Valid: 0.6576\n",
      "F1_score Test: 0.7414\n"
     ]
    },
    {
     "name": "stderr",
     "output_type": "stream",
     "text": [
      "wandb: \n",
      "wandb: Plotting RandomForestClassifier.\n",
      "wandb: Logged feature importances.\n",
      "wandb: Logged confusion matrix.\n",
      "wandb: Logged summary metrics.\n",
      "wandb: Logged class proportions.\n",
      "wandb: Logged calibration curve.\n",
      "wandb: Logged roc curve.\n",
      "wandb: Logged precision-recall curve.\n"
     ]
    },
    {
     "data": {
      "application/vnd.jupyter.widget-view+json": {
       "model_id": "dd0f00c0217847088a5496af1888df71",
       "version_major": 2,
       "version_minor": 0
      },
      "text/plain": [
       "VBox(children=(Label(value='1.421 MB of 1.421 MB uploaded\\r'), FloatProgress(value=1.0, max=1.0)))"
      ]
     },
     "metadata": {},
     "output_type": "display_data"
    },
    {
     "data": {
      "text/html": [
       "<style>\n",
       "    table.wandb td:nth-child(1) { padding: 0 10px; text-align: left ; width: auto;} td:nth-child(2) {text-align: left ; width: 100%}\n",
       "    .wandb-row { display: flex; flex-direction: row; flex-wrap: wrap; justify-content: flex-start; width: 100% }\n",
       "    .wandb-col { display: flex; flex-direction: column; flex-basis: 100%; flex: 1; padding: 10px; }\n",
       "    </style>\n",
       "<div class=\"wandb-row\"><div class=\"wandb-col\"><h3>Run history:</h3><br/><table class=\"wandb\"><tr><td>f1_score</td><td>▁</td></tr><tr><td>f1_score_train</td><td>▁</td></tr><tr><td>f1_score_valid</td><td>▁</td></tr></table><br/></div><div class=\"wandb-col\"><h3>Run summary:</h3><br/><table class=\"wandb\"><tr><td>f1_score</td><td>0.7414</td></tr><tr><td>f1_score_train</td><td>0.7445</td></tr><tr><td>f1_score_valid</td><td>0.65763</td></tr></table><br/></div></div>"
      ],
      "text/plain": [
       "<IPython.core.display.HTML object>"
      ]
     },
     "metadata": {},
     "output_type": "display_data"
    },
    {
     "data": {
      "text/html": [
       " View run <strong style=\"color:#cdcd00\">morning-sweep-44</strong> at: <a href='https://wandb.ai/harshmp/truck-delay-classification/runs/9gdhdzt1' target=\"_blank\">https://wandb.ai/harshmp/truck-delay-classification/runs/9gdhdzt1</a><br/>Synced 5 W&B file(s), 7 media file(s), 8 artifact file(s) and 1 other file(s)"
      ],
      "text/plain": [
       "<IPython.core.display.HTML object>"
      ]
     },
     "metadata": {},
     "output_type": "display_data"
    },
    {
     "data": {
      "text/html": [
       "Find logs at: <code>.\\wandb\\run-20240925_162222-9gdhdzt1\\logs</code>"
      ],
      "text/plain": [
       "<IPython.core.display.HTML object>"
      ]
     },
     "metadata": {},
     "output_type": "display_data"
    },
    {
     "name": "stderr",
     "output_type": "stream",
     "text": [
      "wandb: Agent Starting Run: yexyj1m0 with config:\n",
      "wandb: \tmax_depth: 10\n",
      "wandb: \tmin_samples_split: 12\n",
      "wandb: \tn_estimators: 8\n",
      "Failed to detect the name of this notebook, you can set it manually with the WANDB_NOTEBOOK_NAME environment variable to enable code saving.\n",
      "wandb: WARNING Ignored wandb.init() arg project when running a sweep.\n"
     ]
    },
    {
     "data": {
      "text/html": [
       "wandb version 0.18.1 is available!  To upgrade, please run:\n",
       " $ pip install wandb --upgrade"
      ],
      "text/plain": [
       "<IPython.core.display.HTML object>"
      ]
     },
     "metadata": {},
     "output_type": "display_data"
    },
    {
     "data": {
      "text/html": [
       "Tracking run with wandb version 0.16.1"
      ],
      "text/plain": [
       "<IPython.core.display.HTML object>"
      ]
     },
     "metadata": {},
     "output_type": "display_data"
    },
    {
     "data": {
      "text/html": [
       "Run data is saved locally in <code>e:\\Artificial Intelligence\\Projects\\Predictive-Truck-Delay-Management-in-Logistics\\wandb\\run-20240925_162243-yexyj1m0</code>"
      ],
      "text/plain": [
       "<IPython.core.display.HTML object>"
      ]
     },
     "metadata": {},
     "output_type": "display_data"
    },
    {
     "data": {
      "text/html": [
       "Syncing run <strong><a href='https://wandb.ai/harshmp/truck-delay-classification/runs/yexyj1m0' target=\"_blank\">prime-sweep-45</a></strong> to <a href='https://wandb.ai/harshmp/truck-delay-classification' target=\"_blank\">Weights & Biases</a> (<a href='https://wandb.me/run' target=\"_blank\">docs</a>)<br/>Sweep page: <a href='https://wandb.ai/harshmp/truck-delay-classification/sweeps/ilvq0mj4' target=\"_blank\">https://wandb.ai/harshmp/truck-delay-classification/sweeps/ilvq0mj4</a>"
      ],
      "text/plain": [
       "<IPython.core.display.HTML object>"
      ]
     },
     "metadata": {},
     "output_type": "display_data"
    },
    {
     "data": {
      "text/html": [
       " View project at <a href='https://wandb.ai/harshmp/truck-delay-classification' target=\"_blank\">https://wandb.ai/harshmp/truck-delay-classification</a>"
      ],
      "text/plain": [
       "<IPython.core.display.HTML object>"
      ]
     },
     "metadata": {},
     "output_type": "display_data"
    },
    {
     "data": {
      "text/html": [
       " View sweep at <a href='https://wandb.ai/harshmp/truck-delay-classification/sweeps/ilvq0mj4' target=\"_blank\">https://wandb.ai/harshmp/truck-delay-classification/sweeps/ilvq0mj4</a>"
      ],
      "text/plain": [
       "<IPython.core.display.HTML object>"
      ]
     },
     "metadata": {},
     "output_type": "display_data"
    },
    {
     "data": {
      "text/html": [
       " View run at <a href='https://wandb.ai/harshmp/truck-delay-classification/runs/yexyj1m0' target=\"_blank\">https://wandb.ai/harshmp/truck-delay-classification/runs/yexyj1m0</a>"
      ],
      "text/plain": [
       "<IPython.core.display.HTML object>"
      ]
     },
     "metadata": {},
     "output_type": "display_data"
    },
    {
     "name": "stdout",
     "output_type": "stream",
     "text": [
      "F1_score Train: 0.7316\n",
      "F1_score Valid: 0.6001\n",
      "F1_score Test: 0.7234\n"
     ]
    },
    {
     "name": "stderr",
     "output_type": "stream",
     "text": [
      "wandb: \n",
      "wandb: Plotting RandomForestClassifier.\n",
      "wandb: Logged feature importances.\n",
      "wandb: Logged confusion matrix.\n",
      "wandb: Logged summary metrics.\n",
      "wandb: Logged class proportions.\n",
      "wandb: Logged calibration curve.\n",
      "wandb: Logged roc curve.\n",
      "wandb: Logged precision-recall curve.\n"
     ]
    },
    {
     "data": {
      "application/vnd.jupyter.widget-view+json": {
       "model_id": "33f9f0580627452380ffc8e6da418b2b",
       "version_major": 2,
       "version_minor": 0
      },
      "text/plain": [
       "VBox(children=(Label(value='0.556 MB of 0.556 MB uploaded\\r'), FloatProgress(value=1.0, max=1.0)))"
      ]
     },
     "metadata": {},
     "output_type": "display_data"
    },
    {
     "data": {
      "text/html": [
       "<style>\n",
       "    table.wandb td:nth-child(1) { padding: 0 10px; text-align: left ; width: auto;} td:nth-child(2) {text-align: left ; width: 100%}\n",
       "    .wandb-row { display: flex; flex-direction: row; flex-wrap: wrap; justify-content: flex-start; width: 100% }\n",
       "    .wandb-col { display: flex; flex-direction: column; flex-basis: 100%; flex: 1; padding: 10px; }\n",
       "    </style>\n",
       "<div class=\"wandb-row\"><div class=\"wandb-col\"><h3>Run history:</h3><br/><table class=\"wandb\"><tr><td>f1_score</td><td>▁</td></tr><tr><td>f1_score_train</td><td>▁</td></tr><tr><td>f1_score_valid</td><td>▁</td></tr></table><br/></div><div class=\"wandb-col\"><h3>Run summary:</h3><br/><table class=\"wandb\"><tr><td>f1_score</td><td>0.7234</td></tr><tr><td>f1_score_train</td><td>0.73164</td></tr><tr><td>f1_score_valid</td><td>0.60013</td></tr></table><br/></div></div>"
      ],
      "text/plain": [
       "<IPython.core.display.HTML object>"
      ]
     },
     "metadata": {},
     "output_type": "display_data"
    },
    {
     "data": {
      "text/html": [
       " View run <strong style=\"color:#cdcd00\">prime-sweep-45</strong> at: <a href='https://wandb.ai/harshmp/truck-delay-classification/runs/yexyj1m0' target=\"_blank\">https://wandb.ai/harshmp/truck-delay-classification/runs/yexyj1m0</a><br/>Synced 5 W&B file(s), 7 media file(s), 8 artifact file(s) and 1 other file(s)"
      ],
      "text/plain": [
       "<IPython.core.display.HTML object>"
      ]
     },
     "metadata": {},
     "output_type": "display_data"
    },
    {
     "data": {
      "text/html": [
       "Find logs at: <code>.\\wandb\\run-20240925_162243-yexyj1m0\\logs</code>"
      ],
      "text/plain": [
       "<IPython.core.display.HTML object>"
      ]
     },
     "metadata": {},
     "output_type": "display_data"
    },
    {
     "name": "stderr",
     "output_type": "stream",
     "text": [
      "wandb: Agent Starting Run: 9vwdn753 with config:\n",
      "wandb: \tmax_depth: 10\n",
      "wandb: \tmin_samples_split: 12\n",
      "wandb: \tn_estimators: 12\n",
      "Failed to detect the name of this notebook, you can set it manually with the WANDB_NOTEBOOK_NAME environment variable to enable code saving.\n",
      "wandb: WARNING Ignored wandb.init() arg project when running a sweep.\n"
     ]
    },
    {
     "data": {
      "text/html": [
       "wandb version 0.18.1 is available!  To upgrade, please run:\n",
       " $ pip install wandb --upgrade"
      ],
      "text/plain": [
       "<IPython.core.display.HTML object>"
      ]
     },
     "metadata": {},
     "output_type": "display_data"
    },
    {
     "data": {
      "text/html": [
       "Tracking run with wandb version 0.16.1"
      ],
      "text/plain": [
       "<IPython.core.display.HTML object>"
      ]
     },
     "metadata": {},
     "output_type": "display_data"
    },
    {
     "data": {
      "text/html": [
       "Run data is saved locally in <code>e:\\Artificial Intelligence\\Projects\\Predictive-Truck-Delay-Management-in-Logistics\\wandb\\run-20240925_162302-9vwdn753</code>"
      ],
      "text/plain": [
       "<IPython.core.display.HTML object>"
      ]
     },
     "metadata": {},
     "output_type": "display_data"
    },
    {
     "data": {
      "text/html": [
       "Syncing run <strong><a href='https://wandb.ai/harshmp/truck-delay-classification/runs/9vwdn753' target=\"_blank\">sparkling-sweep-46</a></strong> to <a href='https://wandb.ai/harshmp/truck-delay-classification' target=\"_blank\">Weights & Biases</a> (<a href='https://wandb.me/run' target=\"_blank\">docs</a>)<br/>Sweep page: <a href='https://wandb.ai/harshmp/truck-delay-classification/sweeps/ilvq0mj4' target=\"_blank\">https://wandb.ai/harshmp/truck-delay-classification/sweeps/ilvq0mj4</a>"
      ],
      "text/plain": [
       "<IPython.core.display.HTML object>"
      ]
     },
     "metadata": {},
     "output_type": "display_data"
    },
    {
     "data": {
      "text/html": [
       " View project at <a href='https://wandb.ai/harshmp/truck-delay-classification' target=\"_blank\">https://wandb.ai/harshmp/truck-delay-classification</a>"
      ],
      "text/plain": [
       "<IPython.core.display.HTML object>"
      ]
     },
     "metadata": {},
     "output_type": "display_data"
    },
    {
     "data": {
      "text/html": [
       " View sweep at <a href='https://wandb.ai/harshmp/truck-delay-classification/sweeps/ilvq0mj4' target=\"_blank\">https://wandb.ai/harshmp/truck-delay-classification/sweeps/ilvq0mj4</a>"
      ],
      "text/plain": [
       "<IPython.core.display.HTML object>"
      ]
     },
     "metadata": {},
     "output_type": "display_data"
    },
    {
     "data": {
      "text/html": [
       " View run at <a href='https://wandb.ai/harshmp/truck-delay-classification/runs/9vwdn753' target=\"_blank\">https://wandb.ai/harshmp/truck-delay-classification/runs/9vwdn753</a>"
      ],
      "text/plain": [
       "<IPython.core.display.HTML object>"
      ]
     },
     "metadata": {},
     "output_type": "display_data"
    },
    {
     "name": "stdout",
     "output_type": "stream",
     "text": [
      "F1_score Train: 0.73\n",
      "F1_score Valid: 0.6345\n",
      "F1_score Test: 0.7503\n"
     ]
    },
    {
     "name": "stderr",
     "output_type": "stream",
     "text": [
      "wandb: \n",
      "wandb: Plotting RandomForestClassifier.\n",
      "wandb: Logged feature importances.\n",
      "wandb: Logged confusion matrix.\n",
      "wandb: Logged summary metrics.\n",
      "wandb: Logged class proportions.\n",
      "wandb: Logged calibration curve.\n",
      "wandb: Logged roc curve.\n",
      "wandb: Logged precision-recall curve.\n"
     ]
    },
    {
     "data": {
      "application/vnd.jupyter.widget-view+json": {
       "model_id": "567944f6915e4bb38655fd65315dd271",
       "version_major": 2,
       "version_minor": 0
      },
      "text/plain": [
       "VBox(children=(Label(value='0.762 MB of 0.762 MB uploaded\\r'), FloatProgress(value=1.0, max=1.0)))"
      ]
     },
     "metadata": {},
     "output_type": "display_data"
    },
    {
     "data": {
      "text/html": [
       "<style>\n",
       "    table.wandb td:nth-child(1) { padding: 0 10px; text-align: left ; width: auto;} td:nth-child(2) {text-align: left ; width: 100%}\n",
       "    .wandb-row { display: flex; flex-direction: row; flex-wrap: wrap; justify-content: flex-start; width: 100% }\n",
       "    .wandb-col { display: flex; flex-direction: column; flex-basis: 100%; flex: 1; padding: 10px; }\n",
       "    </style>\n",
       "<div class=\"wandb-row\"><div class=\"wandb-col\"><h3>Run history:</h3><br/><table class=\"wandb\"><tr><td>f1_score</td><td>▁</td></tr><tr><td>f1_score_train</td><td>▁</td></tr><tr><td>f1_score_valid</td><td>▁</td></tr></table><br/></div><div class=\"wandb-col\"><h3>Run summary:</h3><br/><table class=\"wandb\"><tr><td>f1_score</td><td>0.75034</td></tr><tr><td>f1_score_train</td><td>0.72995</td></tr><tr><td>f1_score_valid</td><td>0.6345</td></tr></table><br/></div></div>"
      ],
      "text/plain": [
       "<IPython.core.display.HTML object>"
      ]
     },
     "metadata": {},
     "output_type": "display_data"
    },
    {
     "data": {
      "text/html": [
       " View run <strong style=\"color:#cdcd00\">sparkling-sweep-46</strong> at: <a href='https://wandb.ai/harshmp/truck-delay-classification/runs/9vwdn753' target=\"_blank\">https://wandb.ai/harshmp/truck-delay-classification/runs/9vwdn753</a><br/>Synced 5 W&B file(s), 7 media file(s), 8 artifact file(s) and 1 other file(s)"
      ],
      "text/plain": [
       "<IPython.core.display.HTML object>"
      ]
     },
     "metadata": {},
     "output_type": "display_data"
    },
    {
     "data": {
      "text/html": [
       "Find logs at: <code>.\\wandb\\run-20240925_162302-9vwdn753\\logs</code>"
      ],
      "text/plain": [
       "<IPython.core.display.HTML object>"
      ]
     },
     "metadata": {},
     "output_type": "display_data"
    },
    {
     "name": "stderr",
     "output_type": "stream",
     "text": [
      "wandb: Agent Starting Run: 09oyc6p1 with config:\n",
      "wandb: \tmax_depth: 10\n",
      "wandb: \tmin_samples_split: 12\n",
      "wandb: \tn_estimators: 16\n",
      "Failed to detect the name of this notebook, you can set it manually with the WANDB_NOTEBOOK_NAME environment variable to enable code saving.\n",
      "wandb: WARNING Ignored wandb.init() arg project when running a sweep.\n"
     ]
    },
    {
     "data": {
      "text/html": [
       "wandb version 0.18.1 is available!  To upgrade, please run:\n",
       " $ pip install wandb --upgrade"
      ],
      "text/plain": [
       "<IPython.core.display.HTML object>"
      ]
     },
     "metadata": {},
     "output_type": "display_data"
    },
    {
     "data": {
      "text/html": [
       "Tracking run with wandb version 0.16.1"
      ],
      "text/plain": [
       "<IPython.core.display.HTML object>"
      ]
     },
     "metadata": {},
     "output_type": "display_data"
    },
    {
     "data": {
      "text/html": [
       "Run data is saved locally in <code>e:\\Artificial Intelligence\\Projects\\Predictive-Truck-Delay-Management-in-Logistics\\wandb\\run-20240925_162323-09oyc6p1</code>"
      ],
      "text/plain": [
       "<IPython.core.display.HTML object>"
      ]
     },
     "metadata": {},
     "output_type": "display_data"
    },
    {
     "data": {
      "text/html": [
       "Syncing run <strong><a href='https://wandb.ai/harshmp/truck-delay-classification/runs/09oyc6p1' target=\"_blank\">icy-sweep-47</a></strong> to <a href='https://wandb.ai/harshmp/truck-delay-classification' target=\"_blank\">Weights & Biases</a> (<a href='https://wandb.me/run' target=\"_blank\">docs</a>)<br/>Sweep page: <a href='https://wandb.ai/harshmp/truck-delay-classification/sweeps/ilvq0mj4' target=\"_blank\">https://wandb.ai/harshmp/truck-delay-classification/sweeps/ilvq0mj4</a>"
      ],
      "text/plain": [
       "<IPython.core.display.HTML object>"
      ]
     },
     "metadata": {},
     "output_type": "display_data"
    },
    {
     "data": {
      "text/html": [
       " View project at <a href='https://wandb.ai/harshmp/truck-delay-classification' target=\"_blank\">https://wandb.ai/harshmp/truck-delay-classification</a>"
      ],
      "text/plain": [
       "<IPython.core.display.HTML object>"
      ]
     },
     "metadata": {},
     "output_type": "display_data"
    },
    {
     "data": {
      "text/html": [
       " View sweep at <a href='https://wandb.ai/harshmp/truck-delay-classification/sweeps/ilvq0mj4' target=\"_blank\">https://wandb.ai/harshmp/truck-delay-classification/sweeps/ilvq0mj4</a>"
      ],
      "text/plain": [
       "<IPython.core.display.HTML object>"
      ]
     },
     "metadata": {},
     "output_type": "display_data"
    },
    {
     "data": {
      "text/html": [
       " View run at <a href='https://wandb.ai/harshmp/truck-delay-classification/runs/09oyc6p1' target=\"_blank\">https://wandb.ai/harshmp/truck-delay-classification/runs/09oyc6p1</a>"
      ],
      "text/plain": [
       "<IPython.core.display.HTML object>"
      ]
     },
     "metadata": {},
     "output_type": "display_data"
    },
    {
     "name": "stdout",
     "output_type": "stream",
     "text": [
      "F1_score Train: 0.7285\n",
      "F1_score Valid: 0.6388\n",
      "F1_score Test: 0.7483\n"
     ]
    },
    {
     "name": "stderr",
     "output_type": "stream",
     "text": [
      "wandb: \n",
      "wandb: Plotting RandomForestClassifier.\n",
      "wandb: Logged feature importances.\n",
      "wandb: Logged confusion matrix.\n",
      "wandb: Logged summary metrics.\n",
      "wandb: Logged class proportions.\n",
      "wandb: Logged calibration curve.\n",
      "wandb: Logged roc curve.\n",
      "wandb: Logged precision-recall curve.\n"
     ]
    },
    {
     "data": {
      "application/vnd.jupyter.widget-view+json": {
       "model_id": "48c4ec6ea2974cd39267c74a6bfac621",
       "version_major": 2,
       "version_minor": 0
      },
      "text/plain": [
       "VBox(children=(Label(value='0.990 MB of 0.990 MB uploaded\\r'), FloatProgress(value=1.0, max=1.0)))"
      ]
     },
     "metadata": {},
     "output_type": "display_data"
    },
    {
     "data": {
      "text/html": [
       "<style>\n",
       "    table.wandb td:nth-child(1) { padding: 0 10px; text-align: left ; width: auto;} td:nth-child(2) {text-align: left ; width: 100%}\n",
       "    .wandb-row { display: flex; flex-direction: row; flex-wrap: wrap; justify-content: flex-start; width: 100% }\n",
       "    .wandb-col { display: flex; flex-direction: column; flex-basis: 100%; flex: 1; padding: 10px; }\n",
       "    </style>\n",
       "<div class=\"wandb-row\"><div class=\"wandb-col\"><h3>Run history:</h3><br/><table class=\"wandb\"><tr><td>f1_score</td><td>▁</td></tr><tr><td>f1_score_train</td><td>▁</td></tr><tr><td>f1_score_valid</td><td>▁</td></tr></table><br/></div><div class=\"wandb-col\"><h3>Run summary:</h3><br/><table class=\"wandb\"><tr><td>f1_score</td><td>0.74828</td></tr><tr><td>f1_score_train</td><td>0.72852</td></tr><tr><td>f1_score_valid</td><td>0.63876</td></tr></table><br/></div></div>"
      ],
      "text/plain": [
       "<IPython.core.display.HTML object>"
      ]
     },
     "metadata": {},
     "output_type": "display_data"
    },
    {
     "data": {
      "text/html": [
       " View run <strong style=\"color:#cdcd00\">icy-sweep-47</strong> at: <a href='https://wandb.ai/harshmp/truck-delay-classification/runs/09oyc6p1' target=\"_blank\">https://wandb.ai/harshmp/truck-delay-classification/runs/09oyc6p1</a><br/>Synced 5 W&B file(s), 7 media file(s), 8 artifact file(s) and 1 other file(s)"
      ],
      "text/plain": [
       "<IPython.core.display.HTML object>"
      ]
     },
     "metadata": {},
     "output_type": "display_data"
    },
    {
     "data": {
      "text/html": [
       "Find logs at: <code>.\\wandb\\run-20240925_162323-09oyc6p1\\logs</code>"
      ],
      "text/plain": [
       "<IPython.core.display.HTML object>"
      ]
     },
     "metadata": {},
     "output_type": "display_data"
    },
    {
     "name": "stderr",
     "output_type": "stream",
     "text": [
      "wandb: Agent Starting Run: fw7ahb70 with config:\n",
      "wandb: \tmax_depth: 10\n",
      "wandb: \tmin_samples_split: 12\n",
      "wandb: \tn_estimators: 20\n",
      "Failed to detect the name of this notebook, you can set it manually with the WANDB_NOTEBOOK_NAME environment variable to enable code saving.\n",
      "wandb: WARNING Ignored wandb.init() arg project when running a sweep.\n"
     ]
    },
    {
     "data": {
      "text/html": [
       "wandb version 0.18.1 is available!  To upgrade, please run:\n",
       " $ pip install wandb --upgrade"
      ],
      "text/plain": [
       "<IPython.core.display.HTML object>"
      ]
     },
     "metadata": {},
     "output_type": "display_data"
    },
    {
     "data": {
      "text/html": [
       "Tracking run with wandb version 0.16.1"
      ],
      "text/plain": [
       "<IPython.core.display.HTML object>"
      ]
     },
     "metadata": {},
     "output_type": "display_data"
    },
    {
     "data": {
      "text/html": [
       "Run data is saved locally in <code>e:\\Artificial Intelligence\\Projects\\Predictive-Truck-Delay-Management-in-Logistics\\wandb\\run-20240925_162343-fw7ahb70</code>"
      ],
      "text/plain": [
       "<IPython.core.display.HTML object>"
      ]
     },
     "metadata": {},
     "output_type": "display_data"
    },
    {
     "data": {
      "text/html": [
       "Syncing run <strong><a href='https://wandb.ai/harshmp/truck-delay-classification/runs/fw7ahb70' target=\"_blank\">treasured-sweep-48</a></strong> to <a href='https://wandb.ai/harshmp/truck-delay-classification' target=\"_blank\">Weights & Biases</a> (<a href='https://wandb.me/run' target=\"_blank\">docs</a>)<br/>Sweep page: <a href='https://wandb.ai/harshmp/truck-delay-classification/sweeps/ilvq0mj4' target=\"_blank\">https://wandb.ai/harshmp/truck-delay-classification/sweeps/ilvq0mj4</a>"
      ],
      "text/plain": [
       "<IPython.core.display.HTML object>"
      ]
     },
     "metadata": {},
     "output_type": "display_data"
    },
    {
     "data": {
      "text/html": [
       " View project at <a href='https://wandb.ai/harshmp/truck-delay-classification' target=\"_blank\">https://wandb.ai/harshmp/truck-delay-classification</a>"
      ],
      "text/plain": [
       "<IPython.core.display.HTML object>"
      ]
     },
     "metadata": {},
     "output_type": "display_data"
    },
    {
     "data": {
      "text/html": [
       " View sweep at <a href='https://wandb.ai/harshmp/truck-delay-classification/sweeps/ilvq0mj4' target=\"_blank\">https://wandb.ai/harshmp/truck-delay-classification/sweeps/ilvq0mj4</a>"
      ],
      "text/plain": [
       "<IPython.core.display.HTML object>"
      ]
     },
     "metadata": {},
     "output_type": "display_data"
    },
    {
     "data": {
      "text/html": [
       " View run at <a href='https://wandb.ai/harshmp/truck-delay-classification/runs/fw7ahb70' target=\"_blank\">https://wandb.ai/harshmp/truck-delay-classification/runs/fw7ahb70</a>"
      ],
      "text/plain": [
       "<IPython.core.display.HTML object>"
      ]
     },
     "metadata": {},
     "output_type": "display_data"
    },
    {
     "name": "stdout",
     "output_type": "stream",
     "text": [
      "F1_score Train: 0.7289\n",
      "F1_score Valid: 0.6449\n",
      "F1_score Test: 0.7553\n"
     ]
    },
    {
     "name": "stderr",
     "output_type": "stream",
     "text": [
      "wandb: \n",
      "wandb: Plotting RandomForestClassifier.\n",
      "wandb: Logged feature importances.\n",
      "wandb: Logged confusion matrix.\n",
      "wandb: Logged summary metrics.\n",
      "wandb: Logged class proportions.\n",
      "wandb: Logged calibration curve.\n",
      "wandb: Logged roc curve.\n",
      "wandb: Logged precision-recall curve.\n"
     ]
    },
    {
     "data": {
      "application/vnd.jupyter.widget-view+json": {
       "model_id": "54ea2b75c17d42b58d9ed0e6245bc650",
       "version_major": 2,
       "version_minor": 0
      },
      "text/plain": [
       "VBox(children=(Label(value='1.235 MB of 1.235 MB uploaded\\r'), FloatProgress(value=1.0, max=1.0)))"
      ]
     },
     "metadata": {},
     "output_type": "display_data"
    },
    {
     "data": {
      "text/html": [
       "<style>\n",
       "    table.wandb td:nth-child(1) { padding: 0 10px; text-align: left ; width: auto;} td:nth-child(2) {text-align: left ; width: 100%}\n",
       "    .wandb-row { display: flex; flex-direction: row; flex-wrap: wrap; justify-content: flex-start; width: 100% }\n",
       "    .wandb-col { display: flex; flex-direction: column; flex-basis: 100%; flex: 1; padding: 10px; }\n",
       "    </style>\n",
       "<div class=\"wandb-row\"><div class=\"wandb-col\"><h3>Run history:</h3><br/><table class=\"wandb\"><tr><td>f1_score</td><td>▁</td></tr><tr><td>f1_score_train</td><td>▁</td></tr><tr><td>f1_score_valid</td><td>▁</td></tr></table><br/></div><div class=\"wandb-col\"><h3>Run summary:</h3><br/><table class=\"wandb\"><tr><td>f1_score</td><td>0.75531</td></tr><tr><td>f1_score_train</td><td>0.72887</td></tr><tr><td>f1_score_valid</td><td>0.64486</td></tr></table><br/></div></div>"
      ],
      "text/plain": [
       "<IPython.core.display.HTML object>"
      ]
     },
     "metadata": {},
     "output_type": "display_data"
    },
    {
     "data": {
      "text/html": [
       " View run <strong style=\"color:#cdcd00\">treasured-sweep-48</strong> at: <a href='https://wandb.ai/harshmp/truck-delay-classification/runs/fw7ahb70' target=\"_blank\">https://wandb.ai/harshmp/truck-delay-classification/runs/fw7ahb70</a><br/>Synced 5 W&B file(s), 7 media file(s), 8 artifact file(s) and 1 other file(s)"
      ],
      "text/plain": [
       "<IPython.core.display.HTML object>"
      ]
     },
     "metadata": {},
     "output_type": "display_data"
    },
    {
     "data": {
      "text/html": [
       "Find logs at: <code>.\\wandb\\run-20240925_162343-fw7ahb70\\logs</code>"
      ],
      "text/plain": [
       "<IPython.core.display.HTML object>"
      ]
     },
     "metadata": {},
     "output_type": "display_data"
    },
    {
     "name": "stderr",
     "output_type": "stream",
     "text": [
      "wandb: Agent Starting Run: j9gvejn0 with config:\n",
      "wandb: \tmax_depth: 15\n",
      "wandb: \tmin_samples_split: 2\n",
      "wandb: \tn_estimators: 8\n",
      "Failed to detect the name of this notebook, you can set it manually with the WANDB_NOTEBOOK_NAME environment variable to enable code saving.\n",
      "wandb: WARNING Ignored wandb.init() arg project when running a sweep.\n"
     ]
    },
    {
     "data": {
      "text/html": [
       "wandb version 0.18.1 is available!  To upgrade, please run:\n",
       " $ pip install wandb --upgrade"
      ],
      "text/plain": [
       "<IPython.core.display.HTML object>"
      ]
     },
     "metadata": {},
     "output_type": "display_data"
    },
    {
     "data": {
      "text/html": [
       "Tracking run with wandb version 0.16.1"
      ],
      "text/plain": [
       "<IPython.core.display.HTML object>"
      ]
     },
     "metadata": {},
     "output_type": "display_data"
    },
    {
     "data": {
      "text/html": [
       "Run data is saved locally in <code>e:\\Artificial Intelligence\\Projects\\Predictive-Truck-Delay-Management-in-Logistics\\wandb\\run-20240925_162405-j9gvejn0</code>"
      ],
      "text/plain": [
       "<IPython.core.display.HTML object>"
      ]
     },
     "metadata": {},
     "output_type": "display_data"
    },
    {
     "data": {
      "text/html": [
       "Syncing run <strong><a href='https://wandb.ai/harshmp/truck-delay-classification/runs/j9gvejn0' target=\"_blank\">wobbly-sweep-49</a></strong> to <a href='https://wandb.ai/harshmp/truck-delay-classification' target=\"_blank\">Weights & Biases</a> (<a href='https://wandb.me/run' target=\"_blank\">docs</a>)<br/>Sweep page: <a href='https://wandb.ai/harshmp/truck-delay-classification/sweeps/ilvq0mj4' target=\"_blank\">https://wandb.ai/harshmp/truck-delay-classification/sweeps/ilvq0mj4</a>"
      ],
      "text/plain": [
       "<IPython.core.display.HTML object>"
      ]
     },
     "metadata": {},
     "output_type": "display_data"
    },
    {
     "data": {
      "text/html": [
       " View project at <a href='https://wandb.ai/harshmp/truck-delay-classification' target=\"_blank\">https://wandb.ai/harshmp/truck-delay-classification</a>"
      ],
      "text/plain": [
       "<IPython.core.display.HTML object>"
      ]
     },
     "metadata": {},
     "output_type": "display_data"
    },
    {
     "data": {
      "text/html": [
       " View sweep at <a href='https://wandb.ai/harshmp/truck-delay-classification/sweeps/ilvq0mj4' target=\"_blank\">https://wandb.ai/harshmp/truck-delay-classification/sweeps/ilvq0mj4</a>"
      ],
      "text/plain": [
       "<IPython.core.display.HTML object>"
      ]
     },
     "metadata": {},
     "output_type": "display_data"
    },
    {
     "data": {
      "text/html": [
       " View run at <a href='https://wandb.ai/harshmp/truck-delay-classification/runs/j9gvejn0' target=\"_blank\">https://wandb.ai/harshmp/truck-delay-classification/runs/j9gvejn0</a>"
      ],
      "text/plain": [
       "<IPython.core.display.HTML object>"
      ]
     },
     "metadata": {},
     "output_type": "display_data"
    },
    {
     "name": "stdout",
     "output_type": "stream",
     "text": [
      "F1_score Train: 0.901\n",
      "F1_score Valid: 0.544\n",
      "F1_score Test: 0.6029\n"
     ]
    },
    {
     "name": "stderr",
     "output_type": "stream",
     "text": [
      "wandb: \n",
      "wandb: Plotting RandomForestClassifier.\n",
      "wandb: Logged feature importances.\n",
      "wandb: Logged confusion matrix.\n",
      "wandb: Logged summary metrics.\n",
      "wandb: Logged class proportions.\n",
      "wandb: Logged calibration curve.\n",
      "wandb: Logged roc curve.\n",
      "wandb: Logged precision-recall curve.\n"
     ]
    },
    {
     "data": {
      "application/vnd.jupyter.widget-view+json": {
       "model_id": "a821eb8f12204cc8a813e05f87fcc39d",
       "version_major": 2,
       "version_minor": 0
      },
      "text/plain": [
       "VBox(children=(Label(value='1.802 MB of 1.802 MB uploaded\\r'), FloatProgress(value=1.0, max=1.0)))"
      ]
     },
     "metadata": {},
     "output_type": "display_data"
    },
    {
     "data": {
      "text/html": [
       "<style>\n",
       "    table.wandb td:nth-child(1) { padding: 0 10px; text-align: left ; width: auto;} td:nth-child(2) {text-align: left ; width: 100%}\n",
       "    .wandb-row { display: flex; flex-direction: row; flex-wrap: wrap; justify-content: flex-start; width: 100% }\n",
       "    .wandb-col { display: flex; flex-direction: column; flex-basis: 100%; flex: 1; padding: 10px; }\n",
       "    </style>\n",
       "<div class=\"wandb-row\"><div class=\"wandb-col\"><h3>Run history:</h3><br/><table class=\"wandb\"><tr><td>f1_score</td><td>▁</td></tr><tr><td>f1_score_train</td><td>▁</td></tr><tr><td>f1_score_valid</td><td>▁</td></tr></table><br/></div><div class=\"wandb-col\"><h3>Run summary:</h3><br/><table class=\"wandb\"><tr><td>f1_score</td><td>0.60293</td></tr><tr><td>f1_score_train</td><td>0.90103</td></tr><tr><td>f1_score_valid</td><td>0.54401</td></tr></table><br/></div></div>"
      ],
      "text/plain": [
       "<IPython.core.display.HTML object>"
      ]
     },
     "metadata": {},
     "output_type": "display_data"
    },
    {
     "data": {
      "text/html": [
       " View run <strong style=\"color:#cdcd00\">wobbly-sweep-49</strong> at: <a href='https://wandb.ai/harshmp/truck-delay-classification/runs/j9gvejn0' target=\"_blank\">https://wandb.ai/harshmp/truck-delay-classification/runs/j9gvejn0</a><br/>Synced 5 W&B file(s), 7 media file(s), 8 artifact file(s) and 1 other file(s)"
      ],
      "text/plain": [
       "<IPython.core.display.HTML object>"
      ]
     },
     "metadata": {},
     "output_type": "display_data"
    },
    {
     "data": {
      "text/html": [
       "Find logs at: <code>.\\wandb\\run-20240925_162405-j9gvejn0\\logs</code>"
      ],
      "text/plain": [
       "<IPython.core.display.HTML object>"
      ]
     },
     "metadata": {},
     "output_type": "display_data"
    },
    {
     "name": "stderr",
     "output_type": "stream",
     "text": [
      "wandb: Agent Starting Run: 44ji3ccl with config:\n",
      "wandb: \tmax_depth: 15\n",
      "wandb: \tmin_samples_split: 2\n",
      "wandb: \tn_estimators: 12\n",
      "Failed to detect the name of this notebook, you can set it manually with the WANDB_NOTEBOOK_NAME environment variable to enable code saving.\n",
      "wandb: WARNING Ignored wandb.init() arg project when running a sweep.\n"
     ]
    },
    {
     "data": {
      "text/html": [
       "wandb version 0.18.1 is available!  To upgrade, please run:\n",
       " $ pip install wandb --upgrade"
      ],
      "text/plain": [
       "<IPython.core.display.HTML object>"
      ]
     },
     "metadata": {},
     "output_type": "display_data"
    },
    {
     "data": {
      "text/html": [
       "Tracking run with wandb version 0.16.1"
      ],
      "text/plain": [
       "<IPython.core.display.HTML object>"
      ]
     },
     "metadata": {},
     "output_type": "display_data"
    },
    {
     "data": {
      "text/html": [
       "Run data is saved locally in <code>e:\\Artificial Intelligence\\Projects\\Predictive-Truck-Delay-Management-in-Logistics\\wandb\\run-20240925_162425-44ji3ccl</code>"
      ],
      "text/plain": [
       "<IPython.core.display.HTML object>"
      ]
     },
     "metadata": {},
     "output_type": "display_data"
    },
    {
     "data": {
      "text/html": [
       "Syncing run <strong><a href='https://wandb.ai/harshmp/truck-delay-classification/runs/44ji3ccl' target=\"_blank\">swift-sweep-50</a></strong> to <a href='https://wandb.ai/harshmp/truck-delay-classification' target=\"_blank\">Weights & Biases</a> (<a href='https://wandb.me/run' target=\"_blank\">docs</a>)<br/>Sweep page: <a href='https://wandb.ai/harshmp/truck-delay-classification/sweeps/ilvq0mj4' target=\"_blank\">https://wandb.ai/harshmp/truck-delay-classification/sweeps/ilvq0mj4</a>"
      ],
      "text/plain": [
       "<IPython.core.display.HTML object>"
      ]
     },
     "metadata": {},
     "output_type": "display_data"
    },
    {
     "data": {
      "text/html": [
       " View project at <a href='https://wandb.ai/harshmp/truck-delay-classification' target=\"_blank\">https://wandb.ai/harshmp/truck-delay-classification</a>"
      ],
      "text/plain": [
       "<IPython.core.display.HTML object>"
      ]
     },
     "metadata": {},
     "output_type": "display_data"
    },
    {
     "data": {
      "text/html": [
       " View sweep at <a href='https://wandb.ai/harshmp/truck-delay-classification/sweeps/ilvq0mj4' target=\"_blank\">https://wandb.ai/harshmp/truck-delay-classification/sweeps/ilvq0mj4</a>"
      ],
      "text/plain": [
       "<IPython.core.display.HTML object>"
      ]
     },
     "metadata": {},
     "output_type": "display_data"
    },
    {
     "data": {
      "text/html": [
       " View run at <a href='https://wandb.ai/harshmp/truck-delay-classification/runs/44ji3ccl' target=\"_blank\">https://wandb.ai/harshmp/truck-delay-classification/runs/44ji3ccl</a>"
      ],
      "text/plain": [
       "<IPython.core.display.HTML object>"
      ]
     },
     "metadata": {},
     "output_type": "display_data"
    },
    {
     "name": "stdout",
     "output_type": "stream",
     "text": [
      "F1_score Train: 0.9135\n",
      "F1_score Valid: 0.5714\n",
      "F1_score Test: 0.6268\n"
     ]
    },
    {
     "name": "stderr",
     "output_type": "stream",
     "text": [
      "wandb: \n",
      "wandb: Plotting RandomForestClassifier.\n",
      "wandb: Logged feature importances.\n",
      "wandb: Logged confusion matrix.\n",
      "wandb: Logged summary metrics.\n",
      "wandb: Logged class proportions.\n",
      "wandb: Logged calibration curve.\n",
      "wandb: Logged roc curve.\n",
      "wandb: Logged precision-recall curve.\n"
     ]
    },
    {
     "data": {
      "application/vnd.jupyter.widget-view+json": {
       "model_id": "f38a241352dc48349dd084729c503e5e",
       "version_major": 2,
       "version_minor": 0
      },
      "text/plain": [
       "VBox(children=(Label(value='2.679 MB of 2.679 MB uploaded\\r'), FloatProgress(value=1.0, max=1.0)))"
      ]
     },
     "metadata": {},
     "output_type": "display_data"
    },
    {
     "data": {
      "text/html": [
       "<style>\n",
       "    table.wandb td:nth-child(1) { padding: 0 10px; text-align: left ; width: auto;} td:nth-child(2) {text-align: left ; width: 100%}\n",
       "    .wandb-row { display: flex; flex-direction: row; flex-wrap: wrap; justify-content: flex-start; width: 100% }\n",
       "    .wandb-col { display: flex; flex-direction: column; flex-basis: 100%; flex: 1; padding: 10px; }\n",
       "    </style>\n",
       "<div class=\"wandb-row\"><div class=\"wandb-col\"><h3>Run history:</h3><br/><table class=\"wandb\"><tr><td>f1_score</td><td>▁</td></tr><tr><td>f1_score_train</td><td>▁</td></tr><tr><td>f1_score_valid</td><td>▁</td></tr></table><br/></div><div class=\"wandb-col\"><h3>Run summary:</h3><br/><table class=\"wandb\"><tr><td>f1_score</td><td>0.62684</td></tr><tr><td>f1_score_train</td><td>0.91354</td></tr><tr><td>f1_score_valid</td><td>0.57143</td></tr></table><br/></div></div>"
      ],
      "text/plain": [
       "<IPython.core.display.HTML object>"
      ]
     },
     "metadata": {},
     "output_type": "display_data"
    },
    {
     "data": {
      "text/html": [
       " View run <strong style=\"color:#cdcd00\">swift-sweep-50</strong> at: <a href='https://wandb.ai/harshmp/truck-delay-classification/runs/44ji3ccl' target=\"_blank\">https://wandb.ai/harshmp/truck-delay-classification/runs/44ji3ccl</a><br/>Synced 5 W&B file(s), 7 media file(s), 8 artifact file(s) and 1 other file(s)"
      ],
      "text/plain": [
       "<IPython.core.display.HTML object>"
      ]
     },
     "metadata": {},
     "output_type": "display_data"
    },
    {
     "data": {
      "text/html": [
       "Find logs at: <code>.\\wandb\\run-20240925_162425-44ji3ccl\\logs</code>"
      ],
      "text/plain": [
       "<IPython.core.display.HTML object>"
      ]
     },
     "metadata": {},
     "output_type": "display_data"
    },
    {
     "name": "stderr",
     "output_type": "stream",
     "text": [
      "wandb: Agent Starting Run: vnb2e6ka with config:\n",
      "wandb: \tmax_depth: 15\n",
      "wandb: \tmin_samples_split: 2\n",
      "wandb: \tn_estimators: 16\n",
      "Failed to detect the name of this notebook, you can set it manually with the WANDB_NOTEBOOK_NAME environment variable to enable code saving.\n",
      "wandb: WARNING Ignored wandb.init() arg project when running a sweep.\n"
     ]
    },
    {
     "data": {
      "text/html": [
       "wandb version 0.18.1 is available!  To upgrade, please run:\n",
       " $ pip install wandb --upgrade"
      ],
      "text/plain": [
       "<IPython.core.display.HTML object>"
      ]
     },
     "metadata": {},
     "output_type": "display_data"
    },
    {
     "data": {
      "text/html": [
       "Tracking run with wandb version 0.16.1"
      ],
      "text/plain": [
       "<IPython.core.display.HTML object>"
      ]
     },
     "metadata": {},
     "output_type": "display_data"
    },
    {
     "data": {
      "text/html": [
       "Run data is saved locally in <code>e:\\Artificial Intelligence\\Projects\\Predictive-Truck-Delay-Management-in-Logistics\\wandb\\run-20240925_162447-vnb2e6ka</code>"
      ],
      "text/plain": [
       "<IPython.core.display.HTML object>"
      ]
     },
     "metadata": {},
     "output_type": "display_data"
    },
    {
     "data": {
      "text/html": [
       "Syncing run <strong><a href='https://wandb.ai/harshmp/truck-delay-classification/runs/vnb2e6ka' target=\"_blank\">visionary-sweep-51</a></strong> to <a href='https://wandb.ai/harshmp/truck-delay-classification' target=\"_blank\">Weights & Biases</a> (<a href='https://wandb.me/run' target=\"_blank\">docs</a>)<br/>Sweep page: <a href='https://wandb.ai/harshmp/truck-delay-classification/sweeps/ilvq0mj4' target=\"_blank\">https://wandb.ai/harshmp/truck-delay-classification/sweeps/ilvq0mj4</a>"
      ],
      "text/plain": [
       "<IPython.core.display.HTML object>"
      ]
     },
     "metadata": {},
     "output_type": "display_data"
    },
    {
     "data": {
      "text/html": [
       " View project at <a href='https://wandb.ai/harshmp/truck-delay-classification' target=\"_blank\">https://wandb.ai/harshmp/truck-delay-classification</a>"
      ],
      "text/plain": [
       "<IPython.core.display.HTML object>"
      ]
     },
     "metadata": {},
     "output_type": "display_data"
    },
    {
     "data": {
      "text/html": [
       " View sweep at <a href='https://wandb.ai/harshmp/truck-delay-classification/sweeps/ilvq0mj4' target=\"_blank\">https://wandb.ai/harshmp/truck-delay-classification/sweeps/ilvq0mj4</a>"
      ],
      "text/plain": [
       "<IPython.core.display.HTML object>"
      ]
     },
     "metadata": {},
     "output_type": "display_data"
    },
    {
     "data": {
      "text/html": [
       " View run at <a href='https://wandb.ai/harshmp/truck-delay-classification/runs/vnb2e6ka' target=\"_blank\">https://wandb.ai/harshmp/truck-delay-classification/runs/vnb2e6ka</a>"
      ],
      "text/plain": [
       "<IPython.core.display.HTML object>"
      ]
     },
     "metadata": {},
     "output_type": "display_data"
    },
    {
     "name": "stdout",
     "output_type": "stream",
     "text": [
      "F1_score Train: 0.9271\n",
      "F1_score Valid: 0.5903\n",
      "F1_score Test: 0.6373\n"
     ]
    },
    {
     "name": "stderr",
     "output_type": "stream",
     "text": [
      "wandb: \n",
      "wandb: Plotting RandomForestClassifier.\n",
      "wandb: Logged feature importances.\n",
      "wandb: Logged confusion matrix.\n",
      "wandb: Logged summary metrics.\n",
      "wandb: Logged class proportions.\n",
      "wandb: Logged calibration curve.\n",
      "wandb: Logged roc curve.\n",
      "wandb: Logged precision-recall curve.\n"
     ]
    },
    {
     "data": {
      "application/vnd.jupyter.widget-view+json": {
       "model_id": "25c27aebe34f4420b593885fba4f6953",
       "version_major": 2,
       "version_minor": 0
      },
      "text/plain": [
       "VBox(children=(Label(value='3.596 MB of 3.596 MB uploaded\\r'), FloatProgress(value=1.0, max=1.0)))"
      ]
     },
     "metadata": {},
     "output_type": "display_data"
    },
    {
     "data": {
      "text/html": [
       "<style>\n",
       "    table.wandb td:nth-child(1) { padding: 0 10px; text-align: left ; width: auto;} td:nth-child(2) {text-align: left ; width: 100%}\n",
       "    .wandb-row { display: flex; flex-direction: row; flex-wrap: wrap; justify-content: flex-start; width: 100% }\n",
       "    .wandb-col { display: flex; flex-direction: column; flex-basis: 100%; flex: 1; padding: 10px; }\n",
       "    </style>\n",
       "<div class=\"wandb-row\"><div class=\"wandb-col\"><h3>Run history:</h3><br/><table class=\"wandb\"><tr><td>f1_score</td><td>▁</td></tr><tr><td>f1_score_train</td><td>▁</td></tr><tr><td>f1_score_valid</td><td>▁</td></tr></table><br/></div><div class=\"wandb-col\"><h3>Run summary:</h3><br/><table class=\"wandb\"><tr><td>f1_score</td><td>0.63735</td></tr><tr><td>f1_score_train</td><td>0.92711</td></tr><tr><td>f1_score_valid</td><td>0.59031</td></tr></table><br/></div></div>"
      ],
      "text/plain": [
       "<IPython.core.display.HTML object>"
      ]
     },
     "metadata": {},
     "output_type": "display_data"
    },
    {
     "data": {
      "text/html": [
       " View run <strong style=\"color:#cdcd00\">visionary-sweep-51</strong> at: <a href='https://wandb.ai/harshmp/truck-delay-classification/runs/vnb2e6ka' target=\"_blank\">https://wandb.ai/harshmp/truck-delay-classification/runs/vnb2e6ka</a><br/>Synced 5 W&B file(s), 7 media file(s), 8 artifact file(s) and 1 other file(s)"
      ],
      "text/plain": [
       "<IPython.core.display.HTML object>"
      ]
     },
     "metadata": {},
     "output_type": "display_data"
    },
    {
     "data": {
      "text/html": [
       "Find logs at: <code>.\\wandb\\run-20240925_162447-vnb2e6ka\\logs</code>"
      ],
      "text/plain": [
       "<IPython.core.display.HTML object>"
      ]
     },
     "metadata": {},
     "output_type": "display_data"
    },
    {
     "name": "stderr",
     "output_type": "stream",
     "text": [
      "wandb: Agent Starting Run: pxy3f3hm with config:\n",
      "wandb: \tmax_depth: 15\n",
      "wandb: \tmin_samples_split: 2\n",
      "wandb: \tn_estimators: 20\n",
      "Failed to detect the name of this notebook, you can set it manually with the WANDB_NOTEBOOK_NAME environment variable to enable code saving.\n",
      "wandb: WARNING Ignored wandb.init() arg project when running a sweep.\n"
     ]
    },
    {
     "data": {
      "text/html": [
       "wandb version 0.18.1 is available!  To upgrade, please run:\n",
       " $ pip install wandb --upgrade"
      ],
      "text/plain": [
       "<IPython.core.display.HTML object>"
      ]
     },
     "metadata": {},
     "output_type": "display_data"
    },
    {
     "data": {
      "text/html": [
       "Tracking run with wandb version 0.16.1"
      ],
      "text/plain": [
       "<IPython.core.display.HTML object>"
      ]
     },
     "metadata": {},
     "output_type": "display_data"
    },
    {
     "data": {
      "text/html": [
       "Run data is saved locally in <code>e:\\Artificial Intelligence\\Projects\\Predictive-Truck-Delay-Management-in-Logistics\\wandb\\run-20240925_162517-pxy3f3hm</code>"
      ],
      "text/plain": [
       "<IPython.core.display.HTML object>"
      ]
     },
     "metadata": {},
     "output_type": "display_data"
    },
    {
     "data": {
      "text/html": [
       "Syncing run <strong><a href='https://wandb.ai/harshmp/truck-delay-classification/runs/pxy3f3hm' target=\"_blank\">expert-sweep-52</a></strong> to <a href='https://wandb.ai/harshmp/truck-delay-classification' target=\"_blank\">Weights & Biases</a> (<a href='https://wandb.me/run' target=\"_blank\">docs</a>)<br/>Sweep page: <a href='https://wandb.ai/harshmp/truck-delay-classification/sweeps/ilvq0mj4' target=\"_blank\">https://wandb.ai/harshmp/truck-delay-classification/sweeps/ilvq0mj4</a>"
      ],
      "text/plain": [
       "<IPython.core.display.HTML object>"
      ]
     },
     "metadata": {},
     "output_type": "display_data"
    },
    {
     "data": {
      "text/html": [
       " View project at <a href='https://wandb.ai/harshmp/truck-delay-classification' target=\"_blank\">https://wandb.ai/harshmp/truck-delay-classification</a>"
      ],
      "text/plain": [
       "<IPython.core.display.HTML object>"
      ]
     },
     "metadata": {},
     "output_type": "display_data"
    },
    {
     "data": {
      "text/html": [
       " View sweep at <a href='https://wandb.ai/harshmp/truck-delay-classification/sweeps/ilvq0mj4' target=\"_blank\">https://wandb.ai/harshmp/truck-delay-classification/sweeps/ilvq0mj4</a>"
      ],
      "text/plain": [
       "<IPython.core.display.HTML object>"
      ]
     },
     "metadata": {},
     "output_type": "display_data"
    },
    {
     "data": {
      "text/html": [
       " View run at <a href='https://wandb.ai/harshmp/truck-delay-classification/runs/pxy3f3hm' target=\"_blank\">https://wandb.ai/harshmp/truck-delay-classification/runs/pxy3f3hm</a>"
      ],
      "text/plain": [
       "<IPython.core.display.HTML object>"
      ]
     },
     "metadata": {},
     "output_type": "display_data"
    },
    {
     "name": "stdout",
     "output_type": "stream",
     "text": [
      "F1_score Train: 0.9338\n",
      "F1_score Valid: 0.5994\n",
      "F1_score Test: 0.6539\n"
     ]
    },
    {
     "name": "stderr",
     "output_type": "stream",
     "text": [
      "wandb: \n",
      "wandb: Plotting RandomForestClassifier.\n",
      "wandb: Logged feature importances.\n",
      "wandb: Logged confusion matrix.\n",
      "wandb: Logged summary metrics.\n",
      "wandb: Logged class proportions.\n",
      "wandb: Logged calibration curve.\n",
      "wandb: Logged roc curve.\n",
      "wandb: Logged precision-recall curve.\n"
     ]
    },
    {
     "data": {
      "application/vnd.jupyter.widget-view+json": {
       "model_id": "dbdb2a4953b74ec29c7268096ed4ae1d",
       "version_major": 2,
       "version_minor": 0
      },
      "text/plain": [
       "VBox(children=(Label(value='4.601 MB of 4.601 MB uploaded\\r'), FloatProgress(value=1.0, max=1.0)))"
      ]
     },
     "metadata": {},
     "output_type": "display_data"
    },
    {
     "data": {
      "text/html": [
       "<style>\n",
       "    table.wandb td:nth-child(1) { padding: 0 10px; text-align: left ; width: auto;} td:nth-child(2) {text-align: left ; width: 100%}\n",
       "    .wandb-row { display: flex; flex-direction: row; flex-wrap: wrap; justify-content: flex-start; width: 100% }\n",
       "    .wandb-col { display: flex; flex-direction: column; flex-basis: 100%; flex: 1; padding: 10px; }\n",
       "    </style>\n",
       "<div class=\"wandb-row\"><div class=\"wandb-col\"><h3>Run history:</h3><br/><table class=\"wandb\"><tr><td>f1_score</td><td>▁</td></tr><tr><td>f1_score_train</td><td>▁</td></tr><tr><td>f1_score_valid</td><td>▁</td></tr></table><br/></div><div class=\"wandb-col\"><h3>Run summary:</h3><br/><table class=\"wandb\"><tr><td>f1_score</td><td>0.65391</td></tr><tr><td>f1_score_train</td><td>0.93384</td></tr><tr><td>f1_score_valid</td><td>0.59941</td></tr></table><br/></div></div>"
      ],
      "text/plain": [
       "<IPython.core.display.HTML object>"
      ]
     },
     "metadata": {},
     "output_type": "display_data"
    },
    {
     "data": {
      "text/html": [
       " View run <strong style=\"color:#cdcd00\">expert-sweep-52</strong> at: <a href='https://wandb.ai/harshmp/truck-delay-classification/runs/pxy3f3hm' target=\"_blank\">https://wandb.ai/harshmp/truck-delay-classification/runs/pxy3f3hm</a><br/>Synced 5 W&B file(s), 7 media file(s), 8 artifact file(s) and 1 other file(s)"
      ],
      "text/plain": [
       "<IPython.core.display.HTML object>"
      ]
     },
     "metadata": {},
     "output_type": "display_data"
    },
    {
     "data": {
      "text/html": [
       "Find logs at: <code>.\\wandb\\run-20240925_162517-pxy3f3hm\\logs</code>"
      ],
      "text/plain": [
       "<IPython.core.display.HTML object>"
      ]
     },
     "metadata": {},
     "output_type": "display_data"
    },
    {
     "name": "stderr",
     "output_type": "stream",
     "text": [
      "wandb: Agent Starting Run: u4cqxxni with config:\n",
      "wandb: \tmax_depth: 15\n",
      "wandb: \tmin_samples_split: 4\n",
      "wandb: \tn_estimators: 8\n",
      "Failed to detect the name of this notebook, you can set it manually with the WANDB_NOTEBOOK_NAME environment variable to enable code saving.\n",
      "wandb: WARNING Ignored wandb.init() arg project when running a sweep.\n"
     ]
    },
    {
     "data": {
      "application/vnd.jupyter.widget-view+json": {
       "model_id": "92da6ee14ced4ee982d65cd260e37408",
       "version_major": 2,
       "version_minor": 0
      },
      "text/plain": [
       "VBox(children=(Label(value='Waiting for wandb.init()...\\r'), FloatProgress(value=0.011288888888925108, max=1.0…"
      ]
     },
     "metadata": {},
     "output_type": "display_data"
    },
    {
     "data": {
      "text/html": [
       "wandb version 0.18.1 is available!  To upgrade, please run:\n",
       " $ pip install wandb --upgrade"
      ],
      "text/plain": [
       "<IPython.core.display.HTML object>"
      ]
     },
     "metadata": {},
     "output_type": "display_data"
    },
    {
     "data": {
      "text/html": [
       "Tracking run with wandb version 0.16.1"
      ],
      "text/plain": [
       "<IPython.core.display.HTML object>"
      ]
     },
     "metadata": {},
     "output_type": "display_data"
    },
    {
     "data": {
      "text/html": [
       "Run data is saved locally in <code>e:\\Artificial Intelligence\\Projects\\Predictive-Truck-Delay-Management-in-Logistics\\wandb\\run-20240925_162543-u4cqxxni</code>"
      ],
      "text/plain": [
       "<IPython.core.display.HTML object>"
      ]
     },
     "metadata": {},
     "output_type": "display_data"
    },
    {
     "data": {
      "text/html": [
       "Syncing run <strong><a href='https://wandb.ai/harshmp/truck-delay-classification/runs/u4cqxxni' target=\"_blank\">confused-sweep-53</a></strong> to <a href='https://wandb.ai/harshmp/truck-delay-classification' target=\"_blank\">Weights & Biases</a> (<a href='https://wandb.me/run' target=\"_blank\">docs</a>)<br/>Sweep page: <a href='https://wandb.ai/harshmp/truck-delay-classification/sweeps/ilvq0mj4' target=\"_blank\">https://wandb.ai/harshmp/truck-delay-classification/sweeps/ilvq0mj4</a>"
      ],
      "text/plain": [
       "<IPython.core.display.HTML object>"
      ]
     },
     "metadata": {},
     "output_type": "display_data"
    },
    {
     "data": {
      "text/html": [
       " View project at <a href='https://wandb.ai/harshmp/truck-delay-classification' target=\"_blank\">https://wandb.ai/harshmp/truck-delay-classification</a>"
      ],
      "text/plain": [
       "<IPython.core.display.HTML object>"
      ]
     },
     "metadata": {},
     "output_type": "display_data"
    },
    {
     "data": {
      "text/html": [
       " View sweep at <a href='https://wandb.ai/harshmp/truck-delay-classification/sweeps/ilvq0mj4' target=\"_blank\">https://wandb.ai/harshmp/truck-delay-classification/sweeps/ilvq0mj4</a>"
      ],
      "text/plain": [
       "<IPython.core.display.HTML object>"
      ]
     },
     "metadata": {},
     "output_type": "display_data"
    },
    {
     "data": {
      "text/html": [
       " View run at <a href='https://wandb.ai/harshmp/truck-delay-classification/runs/u4cqxxni' target=\"_blank\">https://wandb.ai/harshmp/truck-delay-classification/runs/u4cqxxni</a>"
      ],
      "text/plain": [
       "<IPython.core.display.HTML object>"
      ]
     },
     "metadata": {},
     "output_type": "display_data"
    },
    {
     "name": "stdout",
     "output_type": "stream",
     "text": [
      "F1_score Train: 0.8907\n",
      "F1_score Valid: 0.5247\n",
      "F1_score Test: 0.6577\n"
     ]
    },
    {
     "name": "stderr",
     "output_type": "stream",
     "text": [
      "wandb: \n",
      "wandb: Plotting RandomForestClassifier.\n",
      "wandb: Logged feature importances.\n",
      "wandb: Logged confusion matrix.\n",
      "wandb: Logged summary metrics.\n",
      "wandb: Logged class proportions.\n",
      "wandb: Logged calibration curve.\n",
      "wandb: Logged roc curve.\n",
      "wandb: Logged precision-recall curve.\n"
     ]
    },
    {
     "data": {
      "application/vnd.jupyter.widget-view+json": {
       "model_id": "f2109f8e5d9745b6a4860d0b6d686488",
       "version_major": 2,
       "version_minor": 0
      },
      "text/plain": [
       "VBox(children=(Label(value='1.642 MB of 1.642 MB uploaded\\r'), FloatProgress(value=1.0, max=1.0)))"
      ]
     },
     "metadata": {},
     "output_type": "display_data"
    },
    {
     "data": {
      "text/html": [
       "<style>\n",
       "    table.wandb td:nth-child(1) { padding: 0 10px; text-align: left ; width: auto;} td:nth-child(2) {text-align: left ; width: 100%}\n",
       "    .wandb-row { display: flex; flex-direction: row; flex-wrap: wrap; justify-content: flex-start; width: 100% }\n",
       "    .wandb-col { display: flex; flex-direction: column; flex-basis: 100%; flex: 1; padding: 10px; }\n",
       "    </style>\n",
       "<div class=\"wandb-row\"><div class=\"wandb-col\"><h3>Run history:</h3><br/><table class=\"wandb\"><tr><td>f1_score</td><td>▁</td></tr><tr><td>f1_score_train</td><td>▁</td></tr><tr><td>f1_score_valid</td><td>▁</td></tr></table><br/></div><div class=\"wandb-col\"><h3>Run summary:</h3><br/><table class=\"wandb\"><tr><td>f1_score</td><td>0.65774</td></tr><tr><td>f1_score_train</td><td>0.89068</td></tr><tr><td>f1_score_valid</td><td>0.52466</td></tr></table><br/></div></div>"
      ],
      "text/plain": [
       "<IPython.core.display.HTML object>"
      ]
     },
     "metadata": {},
     "output_type": "display_data"
    },
    {
     "data": {
      "text/html": [
       " View run <strong style=\"color:#cdcd00\">confused-sweep-53</strong> at: <a href='https://wandb.ai/harshmp/truck-delay-classification/runs/u4cqxxni' target=\"_blank\">https://wandb.ai/harshmp/truck-delay-classification/runs/u4cqxxni</a><br/>Synced 5 W&B file(s), 7 media file(s), 8 artifact file(s) and 1 other file(s)"
      ],
      "text/plain": [
       "<IPython.core.display.HTML object>"
      ]
     },
     "metadata": {},
     "output_type": "display_data"
    },
    {
     "data": {
      "text/html": [
       "Find logs at: <code>.\\wandb\\run-20240925_162543-u4cqxxni\\logs</code>"
      ],
      "text/plain": [
       "<IPython.core.display.HTML object>"
      ]
     },
     "metadata": {},
     "output_type": "display_data"
    },
    {
     "name": "stderr",
     "output_type": "stream",
     "text": [
      "wandb: Agent Starting Run: ktj66ht7 with config:\n",
      "wandb: \tmax_depth: 15\n",
      "wandb: \tmin_samples_split: 4\n",
      "wandb: \tn_estimators: 12\n",
      "Failed to detect the name of this notebook, you can set it manually with the WANDB_NOTEBOOK_NAME environment variable to enable code saving.\n",
      "wandb: WARNING Ignored wandb.init() arg project when running a sweep.\n"
     ]
    },
    {
     "data": {
      "text/html": [
       "wandb version 0.18.1 is available!  To upgrade, please run:\n",
       " $ pip install wandb --upgrade"
      ],
      "text/plain": [
       "<IPython.core.display.HTML object>"
      ]
     },
     "metadata": {},
     "output_type": "display_data"
    },
    {
     "data": {
      "text/html": [
       "Tracking run with wandb version 0.16.1"
      ],
      "text/plain": [
       "<IPython.core.display.HTML object>"
      ]
     },
     "metadata": {},
     "output_type": "display_data"
    },
    {
     "data": {
      "text/html": [
       "Run data is saved locally in <code>e:\\Artificial Intelligence\\Projects\\Predictive-Truck-Delay-Management-in-Logistics\\wandb\\run-20240925_162609-ktj66ht7</code>"
      ],
      "text/plain": [
       "<IPython.core.display.HTML object>"
      ]
     },
     "metadata": {},
     "output_type": "display_data"
    },
    {
     "data": {
      "text/html": [
       "Syncing run <strong><a href='https://wandb.ai/harshmp/truck-delay-classification/runs/ktj66ht7' target=\"_blank\">dauntless-sweep-54</a></strong> to <a href='https://wandb.ai/harshmp/truck-delay-classification' target=\"_blank\">Weights & Biases</a> (<a href='https://wandb.me/run' target=\"_blank\">docs</a>)<br/>Sweep page: <a href='https://wandb.ai/harshmp/truck-delay-classification/sweeps/ilvq0mj4' target=\"_blank\">https://wandb.ai/harshmp/truck-delay-classification/sweeps/ilvq0mj4</a>"
      ],
      "text/plain": [
       "<IPython.core.display.HTML object>"
      ]
     },
     "metadata": {},
     "output_type": "display_data"
    },
    {
     "data": {
      "text/html": [
       " View project at <a href='https://wandb.ai/harshmp/truck-delay-classification' target=\"_blank\">https://wandb.ai/harshmp/truck-delay-classification</a>"
      ],
      "text/plain": [
       "<IPython.core.display.HTML object>"
      ]
     },
     "metadata": {},
     "output_type": "display_data"
    },
    {
     "data": {
      "text/html": [
       " View sweep at <a href='https://wandb.ai/harshmp/truck-delay-classification/sweeps/ilvq0mj4' target=\"_blank\">https://wandb.ai/harshmp/truck-delay-classification/sweeps/ilvq0mj4</a>"
      ],
      "text/plain": [
       "<IPython.core.display.HTML object>"
      ]
     },
     "metadata": {},
     "output_type": "display_data"
    },
    {
     "data": {
      "text/html": [
       " View run at <a href='https://wandb.ai/harshmp/truck-delay-classification/runs/ktj66ht7' target=\"_blank\">https://wandb.ai/harshmp/truck-delay-classification/runs/ktj66ht7</a>"
      ],
      "text/plain": [
       "<IPython.core.display.HTML object>"
      ]
     },
     "metadata": {},
     "output_type": "display_data"
    },
    {
     "name": "stdout",
     "output_type": "stream",
     "text": [
      "F1_score Train: 0.9118\n",
      "F1_score Valid: 0.5616\n",
      "F1_score Test: 0.6677\n"
     ]
    },
    {
     "name": "stderr",
     "output_type": "stream",
     "text": [
      "wandb: \n",
      "wandb: Plotting RandomForestClassifier.\n",
      "wandb: Logged feature importances.\n",
      "wandb: Logged confusion matrix.\n",
      "wandb: Logged summary metrics.\n",
      "wandb: Logged class proportions.\n",
      "wandb: Logged calibration curve.\n",
      "wandb: Logged roc curve.\n",
      "wandb: Logged precision-recall curve.\n"
     ]
    },
    {
     "data": {
      "application/vnd.jupyter.widget-view+json": {
       "model_id": "d69fd8ac58754464ae063691d512ec6c",
       "version_major": 2,
       "version_minor": 0
      },
      "text/plain": [
       "VBox(children=(Label(value='2.453 MB of 2.453 MB uploaded\\r'), FloatProgress(value=1.0, max=1.0)))"
      ]
     },
     "metadata": {},
     "output_type": "display_data"
    },
    {
     "data": {
      "text/html": [
       "<style>\n",
       "    table.wandb td:nth-child(1) { padding: 0 10px; text-align: left ; width: auto;} td:nth-child(2) {text-align: left ; width: 100%}\n",
       "    .wandb-row { display: flex; flex-direction: row; flex-wrap: wrap; justify-content: flex-start; width: 100% }\n",
       "    .wandb-col { display: flex; flex-direction: column; flex-basis: 100%; flex: 1; padding: 10px; }\n",
       "    </style>\n",
       "<div class=\"wandb-row\"><div class=\"wandb-col\"><h3>Run history:</h3><br/><table class=\"wandb\"><tr><td>f1_score</td><td>▁</td></tr><tr><td>f1_score_train</td><td>▁</td></tr><tr><td>f1_score_valid</td><td>▁</td></tr></table><br/></div><div class=\"wandb-col\"><h3>Run summary:</h3><br/><table class=\"wandb\"><tr><td>f1_score</td><td>0.66767</td></tr><tr><td>f1_score_train</td><td>0.91182</td></tr><tr><td>f1_score_valid</td><td>0.56161</td></tr></table><br/></div></div>"
      ],
      "text/plain": [
       "<IPython.core.display.HTML object>"
      ]
     },
     "metadata": {},
     "output_type": "display_data"
    },
    {
     "data": {
      "text/html": [
       " View run <strong style=\"color:#cdcd00\">dauntless-sweep-54</strong> at: <a href='https://wandb.ai/harshmp/truck-delay-classification/runs/ktj66ht7' target=\"_blank\">https://wandb.ai/harshmp/truck-delay-classification/runs/ktj66ht7</a><br/>Synced 5 W&B file(s), 7 media file(s), 8 artifact file(s) and 1 other file(s)"
      ],
      "text/plain": [
       "<IPython.core.display.HTML object>"
      ]
     },
     "metadata": {},
     "output_type": "display_data"
    },
    {
     "data": {
      "text/html": [
       "Find logs at: <code>.\\wandb\\run-20240925_162609-ktj66ht7\\logs</code>"
      ],
      "text/plain": [
       "<IPython.core.display.HTML object>"
      ]
     },
     "metadata": {},
     "output_type": "display_data"
    },
    {
     "name": "stderr",
     "output_type": "stream",
     "text": [
      "wandb: Agent Starting Run: pdsgwe43 with config:\n",
      "wandb: \tmax_depth: 15\n",
      "wandb: \tmin_samples_split: 4\n",
      "wandb: \tn_estimators: 16\n",
      "Failed to detect the name of this notebook, you can set it manually with the WANDB_NOTEBOOK_NAME environment variable to enable code saving.\n",
      "wandb: WARNING Ignored wandb.init() arg project when running a sweep.\n"
     ]
    },
    {
     "data": {
      "text/html": [
       "wandb version 0.18.1 is available!  To upgrade, please run:\n",
       " $ pip install wandb --upgrade"
      ],
      "text/plain": [
       "<IPython.core.display.HTML object>"
      ]
     },
     "metadata": {},
     "output_type": "display_data"
    },
    {
     "data": {
      "text/html": [
       "Tracking run with wandb version 0.16.1"
      ],
      "text/plain": [
       "<IPython.core.display.HTML object>"
      ]
     },
     "metadata": {},
     "output_type": "display_data"
    },
    {
     "data": {
      "text/html": [
       "Run data is saved locally in <code>e:\\Artificial Intelligence\\Projects\\Predictive-Truck-Delay-Management-in-Logistics\\wandb\\run-20240925_162634-pdsgwe43</code>"
      ],
      "text/plain": [
       "<IPython.core.display.HTML object>"
      ]
     },
     "metadata": {},
     "output_type": "display_data"
    },
    {
     "data": {
      "text/html": [
       "Syncing run <strong><a href='https://wandb.ai/harshmp/truck-delay-classification/runs/pdsgwe43' target=\"_blank\">rural-sweep-55</a></strong> to <a href='https://wandb.ai/harshmp/truck-delay-classification' target=\"_blank\">Weights & Biases</a> (<a href='https://wandb.me/run' target=\"_blank\">docs</a>)<br/>Sweep page: <a href='https://wandb.ai/harshmp/truck-delay-classification/sweeps/ilvq0mj4' target=\"_blank\">https://wandb.ai/harshmp/truck-delay-classification/sweeps/ilvq0mj4</a>"
      ],
      "text/plain": [
       "<IPython.core.display.HTML object>"
      ]
     },
     "metadata": {},
     "output_type": "display_data"
    },
    {
     "data": {
      "text/html": [
       " View project at <a href='https://wandb.ai/harshmp/truck-delay-classification' target=\"_blank\">https://wandb.ai/harshmp/truck-delay-classification</a>"
      ],
      "text/plain": [
       "<IPython.core.display.HTML object>"
      ]
     },
     "metadata": {},
     "output_type": "display_data"
    },
    {
     "data": {
      "text/html": [
       " View sweep at <a href='https://wandb.ai/harshmp/truck-delay-classification/sweeps/ilvq0mj4' target=\"_blank\">https://wandb.ai/harshmp/truck-delay-classification/sweeps/ilvq0mj4</a>"
      ],
      "text/plain": [
       "<IPython.core.display.HTML object>"
      ]
     },
     "metadata": {},
     "output_type": "display_data"
    },
    {
     "data": {
      "text/html": [
       " View run at <a href='https://wandb.ai/harshmp/truck-delay-classification/runs/pdsgwe43' target=\"_blank\">https://wandb.ai/harshmp/truck-delay-classification/runs/pdsgwe43</a>"
      ],
      "text/plain": [
       "<IPython.core.display.HTML object>"
      ]
     },
     "metadata": {},
     "output_type": "display_data"
    },
    {
     "name": "stdout",
     "output_type": "stream",
     "text": [
      "F1_score Train: 0.9111\n",
      "F1_score Valid: 0.5613\n",
      "F1_score Test: 0.6707\n"
     ]
    },
    {
     "name": "stderr",
     "output_type": "stream",
     "text": [
      "wandb: \n",
      "wandb: Plotting RandomForestClassifier.\n",
      "wandb: Logged feature importances.\n",
      "wandb: Logged confusion matrix.\n",
      "wandb: Logged summary metrics.\n",
      "wandb: Logged class proportions.\n",
      "wandb: Logged calibration curve.\n",
      "wandb: Logged roc curve.\n",
      "wandb: Logged precision-recall curve.\n"
     ]
    },
    {
     "data": {
      "application/vnd.jupyter.widget-view+json": {
       "model_id": "8d2d2c2ecdbc4cac973efff9b1235a82",
       "version_major": 2,
       "version_minor": 0
      },
      "text/plain": [
       "VBox(children=(Label(value='3.173 MB of 3.173 MB uploaded\\r'), FloatProgress(value=1.0, max=1.0)))"
      ]
     },
     "metadata": {},
     "output_type": "display_data"
    },
    {
     "data": {
      "text/html": [
       "<style>\n",
       "    table.wandb td:nth-child(1) { padding: 0 10px; text-align: left ; width: auto;} td:nth-child(2) {text-align: left ; width: 100%}\n",
       "    .wandb-row { display: flex; flex-direction: row; flex-wrap: wrap; justify-content: flex-start; width: 100% }\n",
       "    .wandb-col { display: flex; flex-direction: column; flex-basis: 100%; flex: 1; padding: 10px; }\n",
       "    </style>\n",
       "<div class=\"wandb-row\"><div class=\"wandb-col\"><h3>Run history:</h3><br/><table class=\"wandb\"><tr><td>f1_score</td><td>▁</td></tr><tr><td>f1_score_train</td><td>▁</td></tr><tr><td>f1_score_valid</td><td>▁</td></tr></table><br/></div><div class=\"wandb-col\"><h3>Run summary:</h3><br/><table class=\"wandb\"><tr><td>f1_score</td><td>0.67069</td></tr><tr><td>f1_score_train</td><td>0.91111</td></tr><tr><td>f1_score_valid</td><td>0.56127</td></tr></table><br/></div></div>"
      ],
      "text/plain": [
       "<IPython.core.display.HTML object>"
      ]
     },
     "metadata": {},
     "output_type": "display_data"
    },
    {
     "data": {
      "text/html": [
       " View run <strong style=\"color:#cdcd00\">rural-sweep-55</strong> at: <a href='https://wandb.ai/harshmp/truck-delay-classification/runs/pdsgwe43' target=\"_blank\">https://wandb.ai/harshmp/truck-delay-classification/runs/pdsgwe43</a><br/>Synced 5 W&B file(s), 7 media file(s), 8 artifact file(s) and 1 other file(s)"
      ],
      "text/plain": [
       "<IPython.core.display.HTML object>"
      ]
     },
     "metadata": {},
     "output_type": "display_data"
    },
    {
     "data": {
      "text/html": [
       "Find logs at: <code>.\\wandb\\run-20240925_162634-pdsgwe43\\logs</code>"
      ],
      "text/plain": [
       "<IPython.core.display.HTML object>"
      ]
     },
     "metadata": {},
     "output_type": "display_data"
    },
    {
     "name": "stderr",
     "output_type": "stream",
     "text": [
      "wandb: Sweep Agent: Waiting for job.\n",
      "wandb: Job received.\n",
      "wandb: Agent Starting Run: apa6ked2 with config:\n",
      "wandb: \tmax_depth: 15\n",
      "wandb: \tmin_samples_split: 4\n",
      "wandb: \tn_estimators: 20\n",
      "Failed to detect the name of this notebook, you can set it manually with the WANDB_NOTEBOOK_NAME environment variable to enable code saving.\n",
      "wandb: WARNING Ignored wandb.init() arg project when running a sweep.\n"
     ]
    },
    {
     "data": {
      "text/html": [
       "wandb version 0.18.1 is available!  To upgrade, please run:\n",
       " $ pip install wandb --upgrade"
      ],
      "text/plain": [
       "<IPython.core.display.HTML object>"
      ]
     },
     "metadata": {},
     "output_type": "display_data"
    },
    {
     "data": {
      "text/html": [
       "Tracking run with wandb version 0.16.1"
      ],
      "text/plain": [
       "<IPython.core.display.HTML object>"
      ]
     },
     "metadata": {},
     "output_type": "display_data"
    },
    {
     "data": {
      "text/html": [
       "Run data is saved locally in <code>e:\\Artificial Intelligence\\Projects\\Predictive-Truck-Delay-Management-in-Logistics\\wandb\\run-20240925_162704-apa6ked2</code>"
      ],
      "text/plain": [
       "<IPython.core.display.HTML object>"
      ]
     },
     "metadata": {},
     "output_type": "display_data"
    },
    {
     "data": {
      "text/html": [
       "Syncing run <strong><a href='https://wandb.ai/harshmp/truck-delay-classification/runs/apa6ked2' target=\"_blank\">breezy-sweep-56</a></strong> to <a href='https://wandb.ai/harshmp/truck-delay-classification' target=\"_blank\">Weights & Biases</a> (<a href='https://wandb.me/run' target=\"_blank\">docs</a>)<br/>Sweep page: <a href='https://wandb.ai/harshmp/truck-delay-classification/sweeps/ilvq0mj4' target=\"_blank\">https://wandb.ai/harshmp/truck-delay-classification/sweeps/ilvq0mj4</a>"
      ],
      "text/plain": [
       "<IPython.core.display.HTML object>"
      ]
     },
     "metadata": {},
     "output_type": "display_data"
    },
    {
     "data": {
      "text/html": [
       " View project at <a href='https://wandb.ai/harshmp/truck-delay-classification' target=\"_blank\">https://wandb.ai/harshmp/truck-delay-classification</a>"
      ],
      "text/plain": [
       "<IPython.core.display.HTML object>"
      ]
     },
     "metadata": {},
     "output_type": "display_data"
    },
    {
     "data": {
      "text/html": [
       " View sweep at <a href='https://wandb.ai/harshmp/truck-delay-classification/sweeps/ilvq0mj4' target=\"_blank\">https://wandb.ai/harshmp/truck-delay-classification/sweeps/ilvq0mj4</a>"
      ],
      "text/plain": [
       "<IPython.core.display.HTML object>"
      ]
     },
     "metadata": {},
     "output_type": "display_data"
    },
    {
     "data": {
      "text/html": [
       " View run at <a href='https://wandb.ai/harshmp/truck-delay-classification/runs/apa6ked2' target=\"_blank\">https://wandb.ai/harshmp/truck-delay-classification/runs/apa6ked2</a>"
      ],
      "text/plain": [
       "<IPython.core.display.HTML object>"
      ]
     },
     "metadata": {},
     "output_type": "display_data"
    },
    {
     "name": "stdout",
     "output_type": "stream",
     "text": [
      "F1_score Train: 0.9244\n",
      "F1_score Valid: 0.5708\n",
      "F1_score Test: 0.691\n"
     ]
    },
    {
     "name": "stderr",
     "output_type": "stream",
     "text": [
      "wandb: \n",
      "wandb: Plotting RandomForestClassifier.\n",
      "wandb: Logged feature importances.\n",
      "wandb: Logged confusion matrix.\n",
      "wandb: Logged summary metrics.\n",
      "wandb: Logged class proportions.\n",
      "wandb: Logged calibration curve.\n",
      "wandb: Logged roc curve.\n",
      "wandb: Logged precision-recall curve.\n"
     ]
    },
    {
     "data": {
      "application/vnd.jupyter.widget-view+json": {
       "model_id": "2bb846814f3747f9a6b1379278c85735",
       "version_major": 2,
       "version_minor": 0
      },
      "text/plain": [
       "VBox(children=(Label(value='4.051 MB of 4.051 MB uploaded\\r'), FloatProgress(value=1.0, max=1.0)))"
      ]
     },
     "metadata": {},
     "output_type": "display_data"
    },
    {
     "data": {
      "text/html": [
       "<style>\n",
       "    table.wandb td:nth-child(1) { padding: 0 10px; text-align: left ; width: auto;} td:nth-child(2) {text-align: left ; width: 100%}\n",
       "    .wandb-row { display: flex; flex-direction: row; flex-wrap: wrap; justify-content: flex-start; width: 100% }\n",
       "    .wandb-col { display: flex; flex-direction: column; flex-basis: 100%; flex: 1; padding: 10px; }\n",
       "    </style>\n",
       "<div class=\"wandb-row\"><div class=\"wandb-col\"><h3>Run history:</h3><br/><table class=\"wandb\"><tr><td>f1_score</td><td>▁</td></tr><tr><td>f1_score_train</td><td>▁</td></tr><tr><td>f1_score_valid</td><td>▁</td></tr></table><br/></div><div class=\"wandb-col\"><h3>Run summary:</h3><br/><table class=\"wandb\"><tr><td>f1_score</td><td>0.69104</td></tr><tr><td>f1_score_train</td><td>0.9244</td></tr><tr><td>f1_score_valid</td><td>0.57078</td></tr></table><br/></div></div>"
      ],
      "text/plain": [
       "<IPython.core.display.HTML object>"
      ]
     },
     "metadata": {},
     "output_type": "display_data"
    },
    {
     "data": {
      "text/html": [
       " View run <strong style=\"color:#cdcd00\">breezy-sweep-56</strong> at: <a href='https://wandb.ai/harshmp/truck-delay-classification/runs/apa6ked2' target=\"_blank\">https://wandb.ai/harshmp/truck-delay-classification/runs/apa6ked2</a><br/>Synced 5 W&B file(s), 7 media file(s), 8 artifact file(s) and 1 other file(s)"
      ],
      "text/plain": [
       "<IPython.core.display.HTML object>"
      ]
     },
     "metadata": {},
     "output_type": "display_data"
    },
    {
     "data": {
      "text/html": [
       "Find logs at: <code>.\\wandb\\run-20240925_162704-apa6ked2\\logs</code>"
      ],
      "text/plain": [
       "<IPython.core.display.HTML object>"
      ]
     },
     "metadata": {},
     "output_type": "display_data"
    },
    {
     "name": "stderr",
     "output_type": "stream",
     "text": [
      "wandb: Agent Starting Run: 9k07ewuc with config:\n",
      "wandb: \tmax_depth: 15\n",
      "wandb: \tmin_samples_split: 8\n",
      "wandb: \tn_estimators: 8\n",
      "Failed to detect the name of this notebook, you can set it manually with the WANDB_NOTEBOOK_NAME environment variable to enable code saving.\n",
      "wandb: WARNING Ignored wandb.init() arg project when running a sweep.\n"
     ]
    },
    {
     "data": {
      "text/html": [
       "wandb version 0.18.1 is available!  To upgrade, please run:\n",
       " $ pip install wandb --upgrade"
      ],
      "text/plain": [
       "<IPython.core.display.HTML object>"
      ]
     },
     "metadata": {},
     "output_type": "display_data"
    },
    {
     "data": {
      "text/html": [
       "Tracking run with wandb version 0.16.1"
      ],
      "text/plain": [
       "<IPython.core.display.HTML object>"
      ]
     },
     "metadata": {},
     "output_type": "display_data"
    },
    {
     "data": {
      "text/html": [
       "Run data is saved locally in <code>e:\\Artificial Intelligence\\Projects\\Predictive-Truck-Delay-Management-in-Logistics\\wandb\\run-20240925_162725-9k07ewuc</code>"
      ],
      "text/plain": [
       "<IPython.core.display.HTML object>"
      ]
     },
     "metadata": {},
     "output_type": "display_data"
    },
    {
     "data": {
      "text/html": [
       "Syncing run <strong><a href='https://wandb.ai/harshmp/truck-delay-classification/runs/9k07ewuc' target=\"_blank\">rural-sweep-57</a></strong> to <a href='https://wandb.ai/harshmp/truck-delay-classification' target=\"_blank\">Weights & Biases</a> (<a href='https://wandb.me/run' target=\"_blank\">docs</a>)<br/>Sweep page: <a href='https://wandb.ai/harshmp/truck-delay-classification/sweeps/ilvq0mj4' target=\"_blank\">https://wandb.ai/harshmp/truck-delay-classification/sweeps/ilvq0mj4</a>"
      ],
      "text/plain": [
       "<IPython.core.display.HTML object>"
      ]
     },
     "metadata": {},
     "output_type": "display_data"
    },
    {
     "data": {
      "text/html": [
       " View project at <a href='https://wandb.ai/harshmp/truck-delay-classification' target=\"_blank\">https://wandb.ai/harshmp/truck-delay-classification</a>"
      ],
      "text/plain": [
       "<IPython.core.display.HTML object>"
      ]
     },
     "metadata": {},
     "output_type": "display_data"
    },
    {
     "data": {
      "text/html": [
       " View sweep at <a href='https://wandb.ai/harshmp/truck-delay-classification/sweeps/ilvq0mj4' target=\"_blank\">https://wandb.ai/harshmp/truck-delay-classification/sweeps/ilvq0mj4</a>"
      ],
      "text/plain": [
       "<IPython.core.display.HTML object>"
      ]
     },
     "metadata": {},
     "output_type": "display_data"
    },
    {
     "data": {
      "text/html": [
       " View run at <a href='https://wandb.ai/harshmp/truck-delay-classification/runs/9k07ewuc' target=\"_blank\">https://wandb.ai/harshmp/truck-delay-classification/runs/9k07ewuc</a>"
      ],
      "text/plain": [
       "<IPython.core.display.HTML object>"
      ]
     },
     "metadata": {},
     "output_type": "display_data"
    },
    {
     "name": "stdout",
     "output_type": "stream",
     "text": [
      "F1_score Train: 0.8685\n",
      "F1_score Valid: 0.5873\n",
      "F1_score Test: 0.6967\n"
     ]
    },
    {
     "name": "stderr",
     "output_type": "stream",
     "text": [
      "wandb: \n",
      "wandb: Plotting RandomForestClassifier.\n",
      "wandb: Logged feature importances.\n",
      "wandb: Logged confusion matrix.\n",
      "wandb: Logged summary metrics.\n",
      "wandb: Logged class proportions.\n",
      "wandb: Logged calibration curve.\n",
      "wandb: Logged roc curve.\n",
      "wandb: Logged precision-recall curve.\n"
     ]
    },
    {
     "data": {
      "application/vnd.jupyter.widget-view+json": {
       "model_id": "8b589bdd2a41418fa3df18bc1eb6a3d0",
       "version_major": 2,
       "version_minor": 0
      },
      "text/plain": [
       "VBox(children=(Label(value='1.324 MB of 1.324 MB uploaded\\r'), FloatProgress(value=1.0, max=1.0)))"
      ]
     },
     "metadata": {},
     "output_type": "display_data"
    },
    {
     "data": {
      "text/html": [
       "<style>\n",
       "    table.wandb td:nth-child(1) { padding: 0 10px; text-align: left ; width: auto;} td:nth-child(2) {text-align: left ; width: 100%}\n",
       "    .wandb-row { display: flex; flex-direction: row; flex-wrap: wrap; justify-content: flex-start; width: 100% }\n",
       "    .wandb-col { display: flex; flex-direction: column; flex-basis: 100%; flex: 1; padding: 10px; }\n",
       "    </style>\n",
       "<div class=\"wandb-row\"><div class=\"wandb-col\"><h3>Run history:</h3><br/><table class=\"wandb\"><tr><td>f1_score</td><td>▁</td></tr><tr><td>f1_score_train</td><td>▁</td></tr><tr><td>f1_score_valid</td><td>▁</td></tr></table><br/></div><div class=\"wandb-col\"><h3>Run summary:</h3><br/><table class=\"wandb\"><tr><td>f1_score</td><td>0.69671</td></tr><tr><td>f1_score_train</td><td>0.86847</td></tr><tr><td>f1_score_valid</td><td>0.58726</td></tr></table><br/></div></div>"
      ],
      "text/plain": [
       "<IPython.core.display.HTML object>"
      ]
     },
     "metadata": {},
     "output_type": "display_data"
    },
    {
     "data": {
      "text/html": [
       " View run <strong style=\"color:#cdcd00\">rural-sweep-57</strong> at: <a href='https://wandb.ai/harshmp/truck-delay-classification/runs/9k07ewuc' target=\"_blank\">https://wandb.ai/harshmp/truck-delay-classification/runs/9k07ewuc</a><br/>Synced 5 W&B file(s), 7 media file(s), 8 artifact file(s) and 1 other file(s)"
      ],
      "text/plain": [
       "<IPython.core.display.HTML object>"
      ]
     },
     "metadata": {},
     "output_type": "display_data"
    },
    {
     "data": {
      "text/html": [
       "Find logs at: <code>.\\wandb\\run-20240925_162725-9k07ewuc\\logs</code>"
      ],
      "text/plain": [
       "<IPython.core.display.HTML object>"
      ]
     },
     "metadata": {},
     "output_type": "display_data"
    },
    {
     "name": "stderr",
     "output_type": "stream",
     "text": [
      "wandb: Agent Starting Run: 8chm1hyp with config:\n",
      "wandb: \tmax_depth: 15\n",
      "wandb: \tmin_samples_split: 8\n",
      "wandb: \tn_estimators: 12\n",
      "Failed to detect the name of this notebook, you can set it manually with the WANDB_NOTEBOOK_NAME environment variable to enable code saving.\n",
      "wandb: WARNING Ignored wandb.init() arg project when running a sweep.\n"
     ]
    },
    {
     "data": {
      "text/html": [
       "wandb version 0.18.1 is available!  To upgrade, please run:\n",
       " $ pip install wandb --upgrade"
      ],
      "text/plain": [
       "<IPython.core.display.HTML object>"
      ]
     },
     "metadata": {},
     "output_type": "display_data"
    },
    {
     "data": {
      "text/html": [
       "Tracking run with wandb version 0.16.1"
      ],
      "text/plain": [
       "<IPython.core.display.HTML object>"
      ]
     },
     "metadata": {},
     "output_type": "display_data"
    },
    {
     "data": {
      "text/html": [
       "Run data is saved locally in <code>e:\\Artificial Intelligence\\Projects\\Predictive-Truck-Delay-Management-in-Logistics\\wandb\\run-20240925_162746-8chm1hyp</code>"
      ],
      "text/plain": [
       "<IPython.core.display.HTML object>"
      ]
     },
     "metadata": {},
     "output_type": "display_data"
    },
    {
     "data": {
      "text/html": [
       "Syncing run <strong><a href='https://wandb.ai/harshmp/truck-delay-classification/runs/8chm1hyp' target=\"_blank\">worthy-sweep-58</a></strong> to <a href='https://wandb.ai/harshmp/truck-delay-classification' target=\"_blank\">Weights & Biases</a> (<a href='https://wandb.me/run' target=\"_blank\">docs</a>)<br/>Sweep page: <a href='https://wandb.ai/harshmp/truck-delay-classification/sweeps/ilvq0mj4' target=\"_blank\">https://wandb.ai/harshmp/truck-delay-classification/sweeps/ilvq0mj4</a>"
      ],
      "text/plain": [
       "<IPython.core.display.HTML object>"
      ]
     },
     "metadata": {},
     "output_type": "display_data"
    },
    {
     "data": {
      "text/html": [
       " View project at <a href='https://wandb.ai/harshmp/truck-delay-classification' target=\"_blank\">https://wandb.ai/harshmp/truck-delay-classification</a>"
      ],
      "text/plain": [
       "<IPython.core.display.HTML object>"
      ]
     },
     "metadata": {},
     "output_type": "display_data"
    },
    {
     "data": {
      "text/html": [
       " View sweep at <a href='https://wandb.ai/harshmp/truck-delay-classification/sweeps/ilvq0mj4' target=\"_blank\">https://wandb.ai/harshmp/truck-delay-classification/sweeps/ilvq0mj4</a>"
      ],
      "text/plain": [
       "<IPython.core.display.HTML object>"
      ]
     },
     "metadata": {},
     "output_type": "display_data"
    },
    {
     "data": {
      "text/html": [
       " View run at <a href='https://wandb.ai/harshmp/truck-delay-classification/runs/8chm1hyp' target=\"_blank\">https://wandb.ai/harshmp/truck-delay-classification/runs/8chm1hyp</a>"
      ],
      "text/plain": [
       "<IPython.core.display.HTML object>"
      ]
     },
     "metadata": {},
     "output_type": "display_data"
    },
    {
     "name": "stdout",
     "output_type": "stream",
     "text": [
      "F1_score Train: 0.8753\n",
      "F1_score Valid: 0.6108\n",
      "F1_score Test: 0.7105\n"
     ]
    },
    {
     "name": "stderr",
     "output_type": "stream",
     "text": [
      "wandb: \n",
      "wandb: Plotting RandomForestClassifier.\n",
      "wandb: Logged feature importances.\n",
      "wandb: Logged confusion matrix.\n",
      "wandb: Logged summary metrics.\n",
      "wandb: Logged class proportions.\n",
      "wandb: Logged calibration curve.\n",
      "wandb: Logged roc curve.\n",
      "wandb: Logged precision-recall curve.\n"
     ]
    },
    {
     "data": {
      "application/vnd.jupyter.widget-view+json": {
       "model_id": "9c7b8e07baf8451f93ed606381bea436",
       "version_major": 2,
       "version_minor": 0
      },
      "text/plain": [
       "VBox(children=(Label(value='1.944 MB of 1.944 MB uploaded\\r'), FloatProgress(value=1.0, max=1.0)))"
      ]
     },
     "metadata": {},
     "output_type": "display_data"
    },
    {
     "data": {
      "text/html": [
       "<style>\n",
       "    table.wandb td:nth-child(1) { padding: 0 10px; text-align: left ; width: auto;} td:nth-child(2) {text-align: left ; width: 100%}\n",
       "    .wandb-row { display: flex; flex-direction: row; flex-wrap: wrap; justify-content: flex-start; width: 100% }\n",
       "    .wandb-col { display: flex; flex-direction: column; flex-basis: 100%; flex: 1; padding: 10px; }\n",
       "    </style>\n",
       "<div class=\"wandb-row\"><div class=\"wandb-col\"><h3>Run history:</h3><br/><table class=\"wandb\"><tr><td>f1_score</td><td>▁</td></tr><tr><td>f1_score_train</td><td>▁</td></tr><tr><td>f1_score_valid</td><td>▁</td></tr></table><br/></div><div class=\"wandb-col\"><h3>Run summary:</h3><br/><table class=\"wandb\"><tr><td>f1_score</td><td>0.71051</td></tr><tr><td>f1_score_train</td><td>0.87528</td></tr><tr><td>f1_score_valid</td><td>0.61084</td></tr></table><br/></div></div>"
      ],
      "text/plain": [
       "<IPython.core.display.HTML object>"
      ]
     },
     "metadata": {},
     "output_type": "display_data"
    },
    {
     "data": {
      "text/html": [
       " View run <strong style=\"color:#cdcd00\">worthy-sweep-58</strong> at: <a href='https://wandb.ai/harshmp/truck-delay-classification/runs/8chm1hyp' target=\"_blank\">https://wandb.ai/harshmp/truck-delay-classification/runs/8chm1hyp</a><br/>Synced 5 W&B file(s), 7 media file(s), 8 artifact file(s) and 1 other file(s)"
      ],
      "text/plain": [
       "<IPython.core.display.HTML object>"
      ]
     },
     "metadata": {},
     "output_type": "display_data"
    },
    {
     "data": {
      "text/html": [
       "Find logs at: <code>.\\wandb\\run-20240925_162746-8chm1hyp\\logs</code>"
      ],
      "text/plain": [
       "<IPython.core.display.HTML object>"
      ]
     },
     "metadata": {},
     "output_type": "display_data"
    },
    {
     "name": "stderr",
     "output_type": "stream",
     "text": [
      "wandb: Agent Starting Run: 4hyp70xx with config:\n",
      "wandb: \tmax_depth: 15\n",
      "wandb: \tmin_samples_split: 8\n",
      "wandb: \tn_estimators: 16\n",
      "Failed to detect the name of this notebook, you can set it manually with the WANDB_NOTEBOOK_NAME environment variable to enable code saving.\n",
      "wandb: WARNING Ignored wandb.init() arg project when running a sweep.\n"
     ]
    },
    {
     "data": {
      "text/html": [
       "wandb version 0.18.1 is available!  To upgrade, please run:\n",
       " $ pip install wandb --upgrade"
      ],
      "text/plain": [
       "<IPython.core.display.HTML object>"
      ]
     },
     "metadata": {},
     "output_type": "display_data"
    },
    {
     "data": {
      "text/html": [
       "Tracking run with wandb version 0.16.1"
      ],
      "text/plain": [
       "<IPython.core.display.HTML object>"
      ]
     },
     "metadata": {},
     "output_type": "display_data"
    },
    {
     "data": {
      "text/html": [
       "Run data is saved locally in <code>e:\\Artificial Intelligence\\Projects\\Predictive-Truck-Delay-Management-in-Logistics\\wandb\\run-20240925_162807-4hyp70xx</code>"
      ],
      "text/plain": [
       "<IPython.core.display.HTML object>"
      ]
     },
     "metadata": {},
     "output_type": "display_data"
    },
    {
     "data": {
      "text/html": [
       "Syncing run <strong><a href='https://wandb.ai/harshmp/truck-delay-classification/runs/4hyp70xx' target=\"_blank\">gentle-sweep-59</a></strong> to <a href='https://wandb.ai/harshmp/truck-delay-classification' target=\"_blank\">Weights & Biases</a> (<a href='https://wandb.me/run' target=\"_blank\">docs</a>)<br/>Sweep page: <a href='https://wandb.ai/harshmp/truck-delay-classification/sweeps/ilvq0mj4' target=\"_blank\">https://wandb.ai/harshmp/truck-delay-classification/sweeps/ilvq0mj4</a>"
      ],
      "text/plain": [
       "<IPython.core.display.HTML object>"
      ]
     },
     "metadata": {},
     "output_type": "display_data"
    },
    {
     "data": {
      "text/html": [
       " View project at <a href='https://wandb.ai/harshmp/truck-delay-classification' target=\"_blank\">https://wandb.ai/harshmp/truck-delay-classification</a>"
      ],
      "text/plain": [
       "<IPython.core.display.HTML object>"
      ]
     },
     "metadata": {},
     "output_type": "display_data"
    },
    {
     "data": {
      "text/html": [
       " View sweep at <a href='https://wandb.ai/harshmp/truck-delay-classification/sweeps/ilvq0mj4' target=\"_blank\">https://wandb.ai/harshmp/truck-delay-classification/sweeps/ilvq0mj4</a>"
      ],
      "text/plain": [
       "<IPython.core.display.HTML object>"
      ]
     },
     "metadata": {},
     "output_type": "display_data"
    },
    {
     "data": {
      "text/html": [
       " View run at <a href='https://wandb.ai/harshmp/truck-delay-classification/runs/4hyp70xx' target=\"_blank\">https://wandb.ai/harshmp/truck-delay-classification/runs/4hyp70xx</a>"
      ],
      "text/plain": [
       "<IPython.core.display.HTML object>"
      ]
     },
     "metadata": {},
     "output_type": "display_data"
    },
    {
     "name": "stdout",
     "output_type": "stream",
     "text": [
      "F1_score Train: 0.8804\n",
      "F1_score Valid: 0.6103\n",
      "F1_score Test: 0.7067\n"
     ]
    },
    {
     "name": "stderr",
     "output_type": "stream",
     "text": [
      "wandb: \n",
      "wandb: Plotting RandomForestClassifier.\n",
      "wandb: Logged feature importances.\n",
      "wandb: Logged confusion matrix.\n",
      "wandb: Logged summary metrics.\n",
      "wandb: Logged class proportions.\n",
      "wandb: Logged calibration curve.\n",
      "wandb: Logged roc curve.\n",
      "wandb: Logged precision-recall curve.\n"
     ]
    },
    {
     "data": {
      "application/vnd.jupyter.widget-view+json": {
       "model_id": "e8163bcf910d4c858b72a2859b9a2167",
       "version_major": 2,
       "version_minor": 0
      },
      "text/plain": [
       "VBox(children=(Label(value='2.487 MB of 2.487 MB uploaded\\r'), FloatProgress(value=1.0, max=1.0)))"
      ]
     },
     "metadata": {},
     "output_type": "display_data"
    },
    {
     "data": {
      "text/html": [
       "<style>\n",
       "    table.wandb td:nth-child(1) { padding: 0 10px; text-align: left ; width: auto;} td:nth-child(2) {text-align: left ; width: 100%}\n",
       "    .wandb-row { display: flex; flex-direction: row; flex-wrap: wrap; justify-content: flex-start; width: 100% }\n",
       "    .wandb-col { display: flex; flex-direction: column; flex-basis: 100%; flex: 1; padding: 10px; }\n",
       "    </style>\n",
       "<div class=\"wandb-row\"><div class=\"wandb-col\"><h3>Run history:</h3><br/><table class=\"wandb\"><tr><td>f1_score</td><td>▁</td></tr><tr><td>f1_score_train</td><td>▁</td></tr><tr><td>f1_score_valid</td><td>▁</td></tr></table><br/></div><div class=\"wandb-col\"><h3>Run summary:</h3><br/><table class=\"wandb\"><tr><td>f1_score</td><td>0.70673</td></tr><tr><td>f1_score_train</td><td>0.88044</td></tr><tr><td>f1_score_valid</td><td>0.61032</td></tr></table><br/></div></div>"
      ],
      "text/plain": [
       "<IPython.core.display.HTML object>"
      ]
     },
     "metadata": {},
     "output_type": "display_data"
    },
    {
     "data": {
      "text/html": [
       " View run <strong style=\"color:#cdcd00\">gentle-sweep-59</strong> at: <a href='https://wandb.ai/harshmp/truck-delay-classification/runs/4hyp70xx' target=\"_blank\">https://wandb.ai/harshmp/truck-delay-classification/runs/4hyp70xx</a><br/>Synced 5 W&B file(s), 7 media file(s), 8 artifact file(s) and 1 other file(s)"
      ],
      "text/plain": [
       "<IPython.core.display.HTML object>"
      ]
     },
     "metadata": {},
     "output_type": "display_data"
    },
    {
     "data": {
      "text/html": [
       "Find logs at: <code>.\\wandb\\run-20240925_162807-4hyp70xx\\logs</code>"
      ],
      "text/plain": [
       "<IPython.core.display.HTML object>"
      ]
     },
     "metadata": {},
     "output_type": "display_data"
    },
    {
     "name": "stderr",
     "output_type": "stream",
     "text": [
      "wandb: Agent Starting Run: 0cuf50kv with config:\n",
      "wandb: \tmax_depth: 15\n",
      "wandb: \tmin_samples_split: 8\n",
      "wandb: \tn_estimators: 20\n",
      "Failed to detect the name of this notebook, you can set it manually with the WANDB_NOTEBOOK_NAME environment variable to enable code saving.\n",
      "wandb: WARNING Ignored wandb.init() arg project when running a sweep.\n"
     ]
    },
    {
     "data": {
      "text/html": [
       "wandb version 0.18.1 is available!  To upgrade, please run:\n",
       " $ pip install wandb --upgrade"
      ],
      "text/plain": [
       "<IPython.core.display.HTML object>"
      ]
     },
     "metadata": {},
     "output_type": "display_data"
    },
    {
     "data": {
      "text/html": [
       "Tracking run with wandb version 0.16.1"
      ],
      "text/plain": [
       "<IPython.core.display.HTML object>"
      ]
     },
     "metadata": {},
     "output_type": "display_data"
    },
    {
     "data": {
      "text/html": [
       "Run data is saved locally in <code>e:\\Artificial Intelligence\\Projects\\Predictive-Truck-Delay-Management-in-Logistics\\wandb\\run-20240925_162828-0cuf50kv</code>"
      ],
      "text/plain": [
       "<IPython.core.display.HTML object>"
      ]
     },
     "metadata": {},
     "output_type": "display_data"
    },
    {
     "data": {
      "text/html": [
       "Syncing run <strong><a href='https://wandb.ai/harshmp/truck-delay-classification/runs/0cuf50kv' target=\"_blank\">ethereal-sweep-60</a></strong> to <a href='https://wandb.ai/harshmp/truck-delay-classification' target=\"_blank\">Weights & Biases</a> (<a href='https://wandb.me/run' target=\"_blank\">docs</a>)<br/>Sweep page: <a href='https://wandb.ai/harshmp/truck-delay-classification/sweeps/ilvq0mj4' target=\"_blank\">https://wandb.ai/harshmp/truck-delay-classification/sweeps/ilvq0mj4</a>"
      ],
      "text/plain": [
       "<IPython.core.display.HTML object>"
      ]
     },
     "metadata": {},
     "output_type": "display_data"
    },
    {
     "data": {
      "text/html": [
       " View project at <a href='https://wandb.ai/harshmp/truck-delay-classification' target=\"_blank\">https://wandb.ai/harshmp/truck-delay-classification</a>"
      ],
      "text/plain": [
       "<IPython.core.display.HTML object>"
      ]
     },
     "metadata": {},
     "output_type": "display_data"
    },
    {
     "data": {
      "text/html": [
       " View sweep at <a href='https://wandb.ai/harshmp/truck-delay-classification/sweeps/ilvq0mj4' target=\"_blank\">https://wandb.ai/harshmp/truck-delay-classification/sweeps/ilvq0mj4</a>"
      ],
      "text/plain": [
       "<IPython.core.display.HTML object>"
      ]
     },
     "metadata": {},
     "output_type": "display_data"
    },
    {
     "data": {
      "text/html": [
       " View run at <a href='https://wandb.ai/harshmp/truck-delay-classification/runs/0cuf50kv' target=\"_blank\">https://wandb.ai/harshmp/truck-delay-classification/runs/0cuf50kv</a>"
      ],
      "text/plain": [
       "<IPython.core.display.HTML object>"
      ]
     },
     "metadata": {},
     "output_type": "display_data"
    },
    {
     "name": "stdout",
     "output_type": "stream",
     "text": [
      "F1_score Train: 0.8869\n",
      "F1_score Valid: 0.6113\n",
      "F1_score Test: 0.7185\n"
     ]
    },
    {
     "name": "stderr",
     "output_type": "stream",
     "text": [
      "wandb: \n",
      "wandb: Plotting RandomForestClassifier.\n",
      "wandb: Logged feature importances.\n",
      "wandb: Logged confusion matrix.\n",
      "wandb: Logged summary metrics.\n",
      "wandb: Logged class proportions.\n",
      "wandb: Logged calibration curve.\n",
      "wandb: Logged roc curve.\n",
      "wandb: Logged precision-recall curve.\n"
     ]
    },
    {
     "data": {
      "application/vnd.jupyter.widget-view+json": {
       "model_id": "539ddcf20037468fb0c5e38a2cd7178d",
       "version_major": 2,
       "version_minor": 0
      },
      "text/plain": [
       "VBox(children=(Label(value='3.148 MB of 3.148 MB uploaded\\r'), FloatProgress(value=1.0, max=1.0)))"
      ]
     },
     "metadata": {},
     "output_type": "display_data"
    },
    {
     "data": {
      "text/html": [
       "<style>\n",
       "    table.wandb td:nth-child(1) { padding: 0 10px; text-align: left ; width: auto;} td:nth-child(2) {text-align: left ; width: 100%}\n",
       "    .wandb-row { display: flex; flex-direction: row; flex-wrap: wrap; justify-content: flex-start; width: 100% }\n",
       "    .wandb-col { display: flex; flex-direction: column; flex-basis: 100%; flex: 1; padding: 10px; }\n",
       "    </style>\n",
       "<div class=\"wandb-row\"><div class=\"wandb-col\"><h3>Run history:</h3><br/><table class=\"wandb\"><tr><td>f1_score</td><td>▁</td></tr><tr><td>f1_score_train</td><td>▁</td></tr><tr><td>f1_score_valid</td><td>▁</td></tr></table><br/></div><div class=\"wandb-col\"><h3>Run summary:</h3><br/><table class=\"wandb\"><tr><td>f1_score</td><td>0.7185</td></tr><tr><td>f1_score_train</td><td>0.88695</td></tr><tr><td>f1_score_valid</td><td>0.61131</td></tr></table><br/></div></div>"
      ],
      "text/plain": [
       "<IPython.core.display.HTML object>"
      ]
     },
     "metadata": {},
     "output_type": "display_data"
    },
    {
     "data": {
      "text/html": [
       " View run <strong style=\"color:#cdcd00\">ethereal-sweep-60</strong> at: <a href='https://wandb.ai/harshmp/truck-delay-classification/runs/0cuf50kv' target=\"_blank\">https://wandb.ai/harshmp/truck-delay-classification/runs/0cuf50kv</a><br/>Synced 5 W&B file(s), 7 media file(s), 8 artifact file(s) and 1 other file(s)"
      ],
      "text/plain": [
       "<IPython.core.display.HTML object>"
      ]
     },
     "metadata": {},
     "output_type": "display_data"
    },
    {
     "data": {
      "text/html": [
       "Find logs at: <code>.\\wandb\\run-20240925_162828-0cuf50kv\\logs</code>"
      ],
      "text/plain": [
       "<IPython.core.display.HTML object>"
      ]
     },
     "metadata": {},
     "output_type": "display_data"
    },
    {
     "name": "stderr",
     "output_type": "stream",
     "text": [
      "wandb: Agent Starting Run: fqb0z1ns with config:\n",
      "wandb: \tmax_depth: 15\n",
      "wandb: \tmin_samples_split: 12\n",
      "wandb: \tn_estimators: 8\n",
      "Failed to detect the name of this notebook, you can set it manually with the WANDB_NOTEBOOK_NAME environment variable to enable code saving.\n",
      "wandb: WARNING Ignored wandb.init() arg project when running a sweep.\n"
     ]
    },
    {
     "data": {
      "text/html": [
       "wandb version 0.18.1 is available!  To upgrade, please run:\n",
       " $ pip install wandb --upgrade"
      ],
      "text/plain": [
       "<IPython.core.display.HTML object>"
      ]
     },
     "metadata": {},
     "output_type": "display_data"
    },
    {
     "data": {
      "text/html": [
       "Tracking run with wandb version 0.16.1"
      ],
      "text/plain": [
       "<IPython.core.display.HTML object>"
      ]
     },
     "metadata": {},
     "output_type": "display_data"
    },
    {
     "data": {
      "text/html": [
       "Run data is saved locally in <code>e:\\Artificial Intelligence\\Projects\\Predictive-Truck-Delay-Management-in-Logistics\\wandb\\run-20240925_162852-fqb0z1ns</code>"
      ],
      "text/plain": [
       "<IPython.core.display.HTML object>"
      ]
     },
     "metadata": {},
     "output_type": "display_data"
    },
    {
     "data": {
      "text/html": [
       "Syncing run <strong><a href='https://wandb.ai/harshmp/truck-delay-classification/runs/fqb0z1ns' target=\"_blank\">proud-sweep-61</a></strong> to <a href='https://wandb.ai/harshmp/truck-delay-classification' target=\"_blank\">Weights & Biases</a> (<a href='https://wandb.me/run' target=\"_blank\">docs</a>)<br/>Sweep page: <a href='https://wandb.ai/harshmp/truck-delay-classification/sweeps/ilvq0mj4' target=\"_blank\">https://wandb.ai/harshmp/truck-delay-classification/sweeps/ilvq0mj4</a>"
      ],
      "text/plain": [
       "<IPython.core.display.HTML object>"
      ]
     },
     "metadata": {},
     "output_type": "display_data"
    },
    {
     "data": {
      "text/html": [
       " View project at <a href='https://wandb.ai/harshmp/truck-delay-classification' target=\"_blank\">https://wandb.ai/harshmp/truck-delay-classification</a>"
      ],
      "text/plain": [
       "<IPython.core.display.HTML object>"
      ]
     },
     "metadata": {},
     "output_type": "display_data"
    },
    {
     "data": {
      "text/html": [
       " View sweep at <a href='https://wandb.ai/harshmp/truck-delay-classification/sweeps/ilvq0mj4' target=\"_blank\">https://wandb.ai/harshmp/truck-delay-classification/sweeps/ilvq0mj4</a>"
      ],
      "text/plain": [
       "<IPython.core.display.HTML object>"
      ]
     },
     "metadata": {},
     "output_type": "display_data"
    },
    {
     "data": {
      "text/html": [
       " View run at <a href='https://wandb.ai/harshmp/truck-delay-classification/runs/fqb0z1ns' target=\"_blank\">https://wandb.ai/harshmp/truck-delay-classification/runs/fqb0z1ns</a>"
      ],
      "text/plain": [
       "<IPython.core.display.HTML object>"
      ]
     },
     "metadata": {},
     "output_type": "display_data"
    },
    {
     "name": "stdout",
     "output_type": "stream",
     "text": [
      "F1_score Train: 0.843\n",
      "F1_score Valid: 0.6022\n",
      "F1_score Test: 0.6912\n"
     ]
    },
    {
     "name": "stderr",
     "output_type": "stream",
     "text": [
      "wandb: \n",
      "wandb: Plotting RandomForestClassifier.\n",
      "wandb: Logged feature importances.\n",
      "wandb: Logged confusion matrix.\n",
      "wandb: Logged summary metrics.\n",
      "wandb: Logged class proportions.\n",
      "wandb: Logged calibration curve.\n",
      "wandb: Logged roc curve.\n",
      "wandb: Logged precision-recall curve.\n"
     ]
    },
    {
     "data": {
      "application/vnd.jupyter.widget-view+json": {
       "model_id": "233bef6645fd432181f74e85f63f2837",
       "version_major": 2,
       "version_minor": 0
      },
      "text/plain": [
       "VBox(children=(Label(value='1.119 MB of 1.119 MB uploaded\\r'), FloatProgress(value=1.0, max=1.0)))"
      ]
     },
     "metadata": {},
     "output_type": "display_data"
    },
    {
     "data": {
      "text/html": [
       "<style>\n",
       "    table.wandb td:nth-child(1) { padding: 0 10px; text-align: left ; width: auto;} td:nth-child(2) {text-align: left ; width: 100%}\n",
       "    .wandb-row { display: flex; flex-direction: row; flex-wrap: wrap; justify-content: flex-start; width: 100% }\n",
       "    .wandb-col { display: flex; flex-direction: column; flex-basis: 100%; flex: 1; padding: 10px; }\n",
       "    </style>\n",
       "<div class=\"wandb-row\"><div class=\"wandb-col\"><h3>Run history:</h3><br/><table class=\"wandb\"><tr><td>f1_score</td><td>▁</td></tr><tr><td>f1_score_train</td><td>▁</td></tr><tr><td>f1_score_valid</td><td>▁</td></tr></table><br/></div><div class=\"wandb-col\"><h3>Run summary:</h3><br/><table class=\"wandb\"><tr><td>f1_score</td><td>0.69117</td></tr><tr><td>f1_score_train</td><td>0.843</td></tr><tr><td>f1_score_valid</td><td>0.60224</td></tr></table><br/></div></div>"
      ],
      "text/plain": [
       "<IPython.core.display.HTML object>"
      ]
     },
     "metadata": {},
     "output_type": "display_data"
    },
    {
     "data": {
      "text/html": [
       " View run <strong style=\"color:#cdcd00\">proud-sweep-61</strong> at: <a href='https://wandb.ai/harshmp/truck-delay-classification/runs/fqb0z1ns' target=\"_blank\">https://wandb.ai/harshmp/truck-delay-classification/runs/fqb0z1ns</a><br/>Synced 5 W&B file(s), 7 media file(s), 8 artifact file(s) and 1 other file(s)"
      ],
      "text/plain": [
       "<IPython.core.display.HTML object>"
      ]
     },
     "metadata": {},
     "output_type": "display_data"
    },
    {
     "data": {
      "text/html": [
       "Find logs at: <code>.\\wandb\\run-20240925_162852-fqb0z1ns\\logs</code>"
      ],
      "text/plain": [
       "<IPython.core.display.HTML object>"
      ]
     },
     "metadata": {},
     "output_type": "display_data"
    },
    {
     "name": "stderr",
     "output_type": "stream",
     "text": [
      "wandb: Agent Starting Run: 5sxfucqu with config:\n",
      "wandb: \tmax_depth: 15\n",
      "wandb: \tmin_samples_split: 12\n",
      "wandb: \tn_estimators: 12\n",
      "Failed to detect the name of this notebook, you can set it manually with the WANDB_NOTEBOOK_NAME environment variable to enable code saving.\n",
      "wandb: WARNING Ignored wandb.init() arg project when running a sweep.\n"
     ]
    },
    {
     "data": {
      "text/html": [
       "wandb version 0.18.1 is available!  To upgrade, please run:\n",
       " $ pip install wandb --upgrade"
      ],
      "text/plain": [
       "<IPython.core.display.HTML object>"
      ]
     },
     "metadata": {},
     "output_type": "display_data"
    },
    {
     "data": {
      "text/html": [
       "Tracking run with wandb version 0.16.1"
      ],
      "text/plain": [
       "<IPython.core.display.HTML object>"
      ]
     },
     "metadata": {},
     "output_type": "display_data"
    },
    {
     "data": {
      "text/html": [
       "Run data is saved locally in <code>e:\\Artificial Intelligence\\Projects\\Predictive-Truck-Delay-Management-in-Logistics\\wandb\\run-20240925_162912-5sxfucqu</code>"
      ],
      "text/plain": [
       "<IPython.core.display.HTML object>"
      ]
     },
     "metadata": {},
     "output_type": "display_data"
    },
    {
     "data": {
      "text/html": [
       "Syncing run <strong><a href='https://wandb.ai/harshmp/truck-delay-classification/runs/5sxfucqu' target=\"_blank\">vague-sweep-62</a></strong> to <a href='https://wandb.ai/harshmp/truck-delay-classification' target=\"_blank\">Weights & Biases</a> (<a href='https://wandb.me/run' target=\"_blank\">docs</a>)<br/>Sweep page: <a href='https://wandb.ai/harshmp/truck-delay-classification/sweeps/ilvq0mj4' target=\"_blank\">https://wandb.ai/harshmp/truck-delay-classification/sweeps/ilvq0mj4</a>"
      ],
      "text/plain": [
       "<IPython.core.display.HTML object>"
      ]
     },
     "metadata": {},
     "output_type": "display_data"
    },
    {
     "data": {
      "text/html": [
       " View project at <a href='https://wandb.ai/harshmp/truck-delay-classification' target=\"_blank\">https://wandb.ai/harshmp/truck-delay-classification</a>"
      ],
      "text/plain": [
       "<IPython.core.display.HTML object>"
      ]
     },
     "metadata": {},
     "output_type": "display_data"
    },
    {
     "data": {
      "text/html": [
       " View sweep at <a href='https://wandb.ai/harshmp/truck-delay-classification/sweeps/ilvq0mj4' target=\"_blank\">https://wandb.ai/harshmp/truck-delay-classification/sweeps/ilvq0mj4</a>"
      ],
      "text/plain": [
       "<IPython.core.display.HTML object>"
      ]
     },
     "metadata": {},
     "output_type": "display_data"
    },
    {
     "data": {
      "text/html": [
       " View run at <a href='https://wandb.ai/harshmp/truck-delay-classification/runs/5sxfucqu' target=\"_blank\">https://wandb.ai/harshmp/truck-delay-classification/runs/5sxfucqu</a>"
      ],
      "text/plain": [
       "<IPython.core.display.HTML object>"
      ]
     },
     "metadata": {},
     "output_type": "display_data"
    },
    {
     "name": "stdout",
     "output_type": "stream",
     "text": [
      "F1_score Train: 0.8605\n",
      "F1_score Valid: 0.5975\n",
      "F1_score Test: 0.6993\n"
     ]
    },
    {
     "name": "stderr",
     "output_type": "stream",
     "text": [
      "wandb: \n",
      "wandb: Plotting RandomForestClassifier.\n",
      "wandb: Logged feature importances.\n",
      "wandb: Logged confusion matrix.\n",
      "wandb: Logged summary metrics.\n",
      "wandb: Logged class proportions.\n",
      "wandb: Logged calibration curve.\n",
      "wandb: Logged roc curve.\n",
      "wandb: Logged precision-recall curve.\n"
     ]
    },
    {
     "data": {
      "application/vnd.jupyter.widget-view+json": {
       "model_id": "c34c6ba228bb4754a70b2e85cd303cea",
       "version_major": 2,
       "version_minor": 0
      },
      "text/plain": [
       "VBox(children=(Label(value='1.673 MB of 1.673 MB uploaded\\r'), FloatProgress(value=1.0, max=1.0)))"
      ]
     },
     "metadata": {},
     "output_type": "display_data"
    },
    {
     "data": {
      "text/html": [
       "<style>\n",
       "    table.wandb td:nth-child(1) { padding: 0 10px; text-align: left ; width: auto;} td:nth-child(2) {text-align: left ; width: 100%}\n",
       "    .wandb-row { display: flex; flex-direction: row; flex-wrap: wrap; justify-content: flex-start; width: 100% }\n",
       "    .wandb-col { display: flex; flex-direction: column; flex-basis: 100%; flex: 1; padding: 10px; }\n",
       "    </style>\n",
       "<div class=\"wandb-row\"><div class=\"wandb-col\"><h3>Run history:</h3><br/><table class=\"wandb\"><tr><td>f1_score</td><td>▁</td></tr><tr><td>f1_score_train</td><td>▁</td></tr><tr><td>f1_score_valid</td><td>▁</td></tr></table><br/></div><div class=\"wandb-col\"><h3>Run summary:</h3><br/><table class=\"wandb\"><tr><td>f1_score</td><td>0.69929</td></tr><tr><td>f1_score_train</td><td>0.86048</td></tr><tr><td>f1_score_valid</td><td>0.59753</td></tr></table><br/></div></div>"
      ],
      "text/plain": [
       "<IPython.core.display.HTML object>"
      ]
     },
     "metadata": {},
     "output_type": "display_data"
    },
    {
     "data": {
      "text/html": [
       " View run <strong style=\"color:#cdcd00\">vague-sweep-62</strong> at: <a href='https://wandb.ai/harshmp/truck-delay-classification/runs/5sxfucqu' target=\"_blank\">https://wandb.ai/harshmp/truck-delay-classification/runs/5sxfucqu</a><br/>Synced 5 W&B file(s), 7 media file(s), 8 artifact file(s) and 1 other file(s)"
      ],
      "text/plain": [
       "<IPython.core.display.HTML object>"
      ]
     },
     "metadata": {},
     "output_type": "display_data"
    },
    {
     "data": {
      "text/html": [
       "Find logs at: <code>.\\wandb\\run-20240925_162912-5sxfucqu\\logs</code>"
      ],
      "text/plain": [
       "<IPython.core.display.HTML object>"
      ]
     },
     "metadata": {},
     "output_type": "display_data"
    },
    {
     "name": "stderr",
     "output_type": "stream",
     "text": [
      "wandb: Agent Starting Run: abubb4dm with config:\n",
      "wandb: \tmax_depth: 15\n",
      "wandb: \tmin_samples_split: 12\n",
      "wandb: \tn_estimators: 16\n",
      "Failed to detect the name of this notebook, you can set it manually with the WANDB_NOTEBOOK_NAME environment variable to enable code saving.\n",
      "wandb: WARNING Ignored wandb.init() arg project when running a sweep.\n"
     ]
    },
    {
     "data": {
      "text/html": [
       "wandb version 0.18.1 is available!  To upgrade, please run:\n",
       " $ pip install wandb --upgrade"
      ],
      "text/plain": [
       "<IPython.core.display.HTML object>"
      ]
     },
     "metadata": {},
     "output_type": "display_data"
    },
    {
     "data": {
      "text/html": [
       "Tracking run with wandb version 0.16.1"
      ],
      "text/plain": [
       "<IPython.core.display.HTML object>"
      ]
     },
     "metadata": {},
     "output_type": "display_data"
    },
    {
     "data": {
      "text/html": [
       "Run data is saved locally in <code>e:\\Artificial Intelligence\\Projects\\Predictive-Truck-Delay-Management-in-Logistics\\wandb\\run-20240925_162934-abubb4dm</code>"
      ],
      "text/plain": [
       "<IPython.core.display.HTML object>"
      ]
     },
     "metadata": {},
     "output_type": "display_data"
    },
    {
     "data": {
      "text/html": [
       "Syncing run <strong><a href='https://wandb.ai/harshmp/truck-delay-classification/runs/abubb4dm' target=\"_blank\">colorful-sweep-63</a></strong> to <a href='https://wandb.ai/harshmp/truck-delay-classification' target=\"_blank\">Weights & Biases</a> (<a href='https://wandb.me/run' target=\"_blank\">docs</a>)<br/>Sweep page: <a href='https://wandb.ai/harshmp/truck-delay-classification/sweeps/ilvq0mj4' target=\"_blank\">https://wandb.ai/harshmp/truck-delay-classification/sweeps/ilvq0mj4</a>"
      ],
      "text/plain": [
       "<IPython.core.display.HTML object>"
      ]
     },
     "metadata": {},
     "output_type": "display_data"
    },
    {
     "data": {
      "text/html": [
       " View project at <a href='https://wandb.ai/harshmp/truck-delay-classification' target=\"_blank\">https://wandb.ai/harshmp/truck-delay-classification</a>"
      ],
      "text/plain": [
       "<IPython.core.display.HTML object>"
      ]
     },
     "metadata": {},
     "output_type": "display_data"
    },
    {
     "data": {
      "text/html": [
       " View sweep at <a href='https://wandb.ai/harshmp/truck-delay-classification/sweeps/ilvq0mj4' target=\"_blank\">https://wandb.ai/harshmp/truck-delay-classification/sweeps/ilvq0mj4</a>"
      ],
      "text/plain": [
       "<IPython.core.display.HTML object>"
      ]
     },
     "metadata": {},
     "output_type": "display_data"
    },
    {
     "data": {
      "text/html": [
       " View run at <a href='https://wandb.ai/harshmp/truck-delay-classification/runs/abubb4dm' target=\"_blank\">https://wandb.ai/harshmp/truck-delay-classification/runs/abubb4dm</a>"
      ],
      "text/plain": [
       "<IPython.core.display.HTML object>"
      ]
     },
     "metadata": {},
     "output_type": "display_data"
    },
    {
     "name": "stdout",
     "output_type": "stream",
     "text": [
      "F1_score Train: 0.8669\n",
      "F1_score Valid: 0.601\n",
      "F1_score Test: 0.7165\n"
     ]
    },
    {
     "name": "stderr",
     "output_type": "stream",
     "text": [
      "wandb: \n",
      "wandb: Plotting RandomForestClassifier.\n",
      "wandb: Logged feature importances.\n",
      "wandb: Logged confusion matrix.\n",
      "wandb: Logged summary metrics.\n",
      "wandb: Logged class proportions.\n",
      "wandb: Logged calibration curve.\n",
      "wandb: Logged roc curve.\n",
      "wandb: Logged precision-recall curve.\n"
     ]
    },
    {
     "data": {
      "application/vnd.jupyter.widget-view+json": {
       "model_id": "c8f063cb23ff4bbdb4866e3d61590416",
       "version_major": 2,
       "version_minor": 0
      },
      "text/plain": [
       "VBox(children=(Label(value='2.183 MB of 2.183 MB uploaded\\r'), FloatProgress(value=1.0, max=1.0)))"
      ]
     },
     "metadata": {},
     "output_type": "display_data"
    },
    {
     "data": {
      "text/html": [
       "<style>\n",
       "    table.wandb td:nth-child(1) { padding: 0 10px; text-align: left ; width: auto;} td:nth-child(2) {text-align: left ; width: 100%}\n",
       "    .wandb-row { display: flex; flex-direction: row; flex-wrap: wrap; justify-content: flex-start; width: 100% }\n",
       "    .wandb-col { display: flex; flex-direction: column; flex-basis: 100%; flex: 1; padding: 10px; }\n",
       "    </style>\n",
       "<div class=\"wandb-row\"><div class=\"wandb-col\"><h3>Run history:</h3><br/><table class=\"wandb\"><tr><td>f1_score</td><td>▁</td></tr><tr><td>f1_score_train</td><td>▁</td></tr><tr><td>f1_score_valid</td><td>▁</td></tr></table><br/></div><div class=\"wandb-col\"><h3>Run summary:</h3><br/><table class=\"wandb\"><tr><td>f1_score</td><td>0.71652</td></tr><tr><td>f1_score_train</td><td>0.86694</td></tr><tr><td>f1_score_valid</td><td>0.60098</td></tr></table><br/></div></div>"
      ],
      "text/plain": [
       "<IPython.core.display.HTML object>"
      ]
     },
     "metadata": {},
     "output_type": "display_data"
    },
    {
     "data": {
      "text/html": [
       " View run <strong style=\"color:#cdcd00\">colorful-sweep-63</strong> at: <a href='https://wandb.ai/harshmp/truck-delay-classification/runs/abubb4dm' target=\"_blank\">https://wandb.ai/harshmp/truck-delay-classification/runs/abubb4dm</a><br/>Synced 5 W&B file(s), 7 media file(s), 8 artifact file(s) and 1 other file(s)"
      ],
      "text/plain": [
       "<IPython.core.display.HTML object>"
      ]
     },
     "metadata": {},
     "output_type": "display_data"
    },
    {
     "data": {
      "text/html": [
       "Find logs at: <code>.\\wandb\\run-20240925_162934-abubb4dm\\logs</code>"
      ],
      "text/plain": [
       "<IPython.core.display.HTML object>"
      ]
     },
     "metadata": {},
     "output_type": "display_data"
    },
    {
     "name": "stderr",
     "output_type": "stream",
     "text": [
      "wandb: Agent Starting Run: so63tpol with config:\n",
      "wandb: \tmax_depth: 15\n",
      "wandb: \tmin_samples_split: 12\n",
      "wandb: \tn_estimators: 20\n",
      "Failed to detect the name of this notebook, you can set it manually with the WANDB_NOTEBOOK_NAME environment variable to enable code saving.\n",
      "wandb: WARNING Ignored wandb.init() arg project when running a sweep.\n"
     ]
    },
    {
     "data": {
      "text/html": [
       "wandb version 0.18.1 is available!  To upgrade, please run:\n",
       " $ pip install wandb --upgrade"
      ],
      "text/plain": [
       "<IPython.core.display.HTML object>"
      ]
     },
     "metadata": {},
     "output_type": "display_data"
    },
    {
     "data": {
      "text/html": [
       "Tracking run with wandb version 0.16.1"
      ],
      "text/plain": [
       "<IPython.core.display.HTML object>"
      ]
     },
     "metadata": {},
     "output_type": "display_data"
    },
    {
     "data": {
      "text/html": [
       "Run data is saved locally in <code>e:\\Artificial Intelligence\\Projects\\Predictive-Truck-Delay-Management-in-Logistics\\wandb\\run-20240925_162959-so63tpol</code>"
      ],
      "text/plain": [
       "<IPython.core.display.HTML object>"
      ]
     },
     "metadata": {},
     "output_type": "display_data"
    },
    {
     "data": {
      "text/html": [
       "Syncing run <strong><a href='https://wandb.ai/harshmp/truck-delay-classification/runs/so63tpol' target=\"_blank\">hardy-sweep-64</a></strong> to <a href='https://wandb.ai/harshmp/truck-delay-classification' target=\"_blank\">Weights & Biases</a> (<a href='https://wandb.me/run' target=\"_blank\">docs</a>)<br/>Sweep page: <a href='https://wandb.ai/harshmp/truck-delay-classification/sweeps/ilvq0mj4' target=\"_blank\">https://wandb.ai/harshmp/truck-delay-classification/sweeps/ilvq0mj4</a>"
      ],
      "text/plain": [
       "<IPython.core.display.HTML object>"
      ]
     },
     "metadata": {},
     "output_type": "display_data"
    },
    {
     "data": {
      "text/html": [
       " View project at <a href='https://wandb.ai/harshmp/truck-delay-classification' target=\"_blank\">https://wandb.ai/harshmp/truck-delay-classification</a>"
      ],
      "text/plain": [
       "<IPython.core.display.HTML object>"
      ]
     },
     "metadata": {},
     "output_type": "display_data"
    },
    {
     "data": {
      "text/html": [
       " View sweep at <a href='https://wandb.ai/harshmp/truck-delay-classification/sweeps/ilvq0mj4' target=\"_blank\">https://wandb.ai/harshmp/truck-delay-classification/sweeps/ilvq0mj4</a>"
      ],
      "text/plain": [
       "<IPython.core.display.HTML object>"
      ]
     },
     "metadata": {},
     "output_type": "display_data"
    },
    {
     "data": {
      "text/html": [
       " View run at <a href='https://wandb.ai/harshmp/truck-delay-classification/runs/so63tpol' target=\"_blank\">https://wandb.ai/harshmp/truck-delay-classification/runs/so63tpol</a>"
      ],
      "text/plain": [
       "<IPython.core.display.HTML object>"
      ]
     },
     "metadata": {},
     "output_type": "display_data"
    },
    {
     "name": "stdout",
     "output_type": "stream",
     "text": [
      "F1_score Train: 0.8704\n",
      "F1_score Valid: 0.6106\n",
      "F1_score Test: 0.7262\n"
     ]
    },
    {
     "name": "stderr",
     "output_type": "stream",
     "text": [
      "wandb: \n",
      "wandb: Plotting RandomForestClassifier.\n",
      "wandb: Logged feature importances.\n",
      "wandb: Logged confusion matrix.\n",
      "wandb: Logged summary metrics.\n",
      "wandb: Logged class proportions.\n",
      "wandb: Logged calibration curve.\n",
      "wandb: Logged roc curve.\n",
      "wandb: Logged precision-recall curve.\n"
     ]
    },
    {
     "data": {
      "application/vnd.jupyter.widget-view+json": {
       "model_id": "4c6f890f11594eebb98032d9574bd05e",
       "version_major": 2,
       "version_minor": 0
      },
      "text/plain": [
       "VBox(children=(Label(value='2.763 MB of 2.763 MB uploaded\\r'), FloatProgress(value=1.0, max=1.0)))"
      ]
     },
     "metadata": {},
     "output_type": "display_data"
    },
    {
     "data": {
      "text/html": [
       "<style>\n",
       "    table.wandb td:nth-child(1) { padding: 0 10px; text-align: left ; width: auto;} td:nth-child(2) {text-align: left ; width: 100%}\n",
       "    .wandb-row { display: flex; flex-direction: row; flex-wrap: wrap; justify-content: flex-start; width: 100% }\n",
       "    .wandb-col { display: flex; flex-direction: column; flex-basis: 100%; flex: 1; padding: 10px; }\n",
       "    </style>\n",
       "<div class=\"wandb-row\"><div class=\"wandb-col\"><h3>Run history:</h3><br/><table class=\"wandb\"><tr><td>f1_score</td><td>▁</td></tr><tr><td>f1_score_train</td><td>▁</td></tr><tr><td>f1_score_valid</td><td>▁</td></tr></table><br/></div><div class=\"wandb-col\"><h3>Run summary:</h3><br/><table class=\"wandb\"><tr><td>f1_score</td><td>0.72624</td></tr><tr><td>f1_score_train</td><td>0.87043</td></tr><tr><td>f1_score_valid</td><td>0.61057</td></tr></table><br/></div></div>"
      ],
      "text/plain": [
       "<IPython.core.display.HTML object>"
      ]
     },
     "metadata": {},
     "output_type": "display_data"
    },
    {
     "data": {
      "text/html": [
       " View run <strong style=\"color:#cdcd00\">hardy-sweep-64</strong> at: <a href='https://wandb.ai/harshmp/truck-delay-classification/runs/so63tpol' target=\"_blank\">https://wandb.ai/harshmp/truck-delay-classification/runs/so63tpol</a><br/>Synced 5 W&B file(s), 7 media file(s), 8 artifact file(s) and 1 other file(s)"
      ],
      "text/plain": [
       "<IPython.core.display.HTML object>"
      ]
     },
     "metadata": {},
     "output_type": "display_data"
    },
    {
     "data": {
      "text/html": [
       "Find logs at: <code>.\\wandb\\run-20240925_162959-so63tpol\\logs</code>"
      ],
      "text/plain": [
       "<IPython.core.display.HTML object>"
      ]
     },
     "metadata": {},
     "output_type": "display_data"
    },
    {
     "name": "stderr",
     "output_type": "stream",
     "text": [
      "wandb: Agent Starting Run: 538cmjlf with config:\n",
      "wandb: \tmax_depth: 20\n",
      "wandb: \tmin_samples_split: 2\n",
      "wandb: \tn_estimators: 8\n",
      "Failed to detect the name of this notebook, you can set it manually with the WANDB_NOTEBOOK_NAME environment variable to enable code saving.\n",
      "wandb: WARNING Ignored wandb.init() arg project when running a sweep.\n"
     ]
    },
    {
     "data": {
      "application/vnd.jupyter.widget-view+json": {
       "model_id": "34571175463e4e98a2b273830291b2d1",
       "version_major": 2,
       "version_minor": 0
      },
      "text/plain": [
       "VBox(children=(Label(value='Waiting for wandb.init()...\\r'), FloatProgress(value=0.01127777777777131, max=1.0)…"
      ]
     },
     "metadata": {},
     "output_type": "display_data"
    },
    {
     "data": {
      "text/html": [
       "wandb version 0.18.1 is available!  To upgrade, please run:\n",
       " $ pip install wandb --upgrade"
      ],
      "text/plain": [
       "<IPython.core.display.HTML object>"
      ]
     },
     "metadata": {},
     "output_type": "display_data"
    },
    {
     "data": {
      "text/html": [
       "Tracking run with wandb version 0.16.1"
      ],
      "text/plain": [
       "<IPython.core.display.HTML object>"
      ]
     },
     "metadata": {},
     "output_type": "display_data"
    },
    {
     "data": {
      "text/html": [
       "Run data is saved locally in <code>e:\\Artificial Intelligence\\Projects\\Predictive-Truck-Delay-Management-in-Logistics\\wandb\\run-20240925_163019-538cmjlf</code>"
      ],
      "text/plain": [
       "<IPython.core.display.HTML object>"
      ]
     },
     "metadata": {},
     "output_type": "display_data"
    },
    {
     "data": {
      "text/html": [
       "Syncing run <strong><a href='https://wandb.ai/harshmp/truck-delay-classification/runs/538cmjlf' target=\"_blank\">woven-sweep-65</a></strong> to <a href='https://wandb.ai/harshmp/truck-delay-classification' target=\"_blank\">Weights & Biases</a> (<a href='https://wandb.me/run' target=\"_blank\">docs</a>)<br/>Sweep page: <a href='https://wandb.ai/harshmp/truck-delay-classification/sweeps/ilvq0mj4' target=\"_blank\">https://wandb.ai/harshmp/truck-delay-classification/sweeps/ilvq0mj4</a>"
      ],
      "text/plain": [
       "<IPython.core.display.HTML object>"
      ]
     },
     "metadata": {},
     "output_type": "display_data"
    },
    {
     "data": {
      "text/html": [
       " View project at <a href='https://wandb.ai/harshmp/truck-delay-classification' target=\"_blank\">https://wandb.ai/harshmp/truck-delay-classification</a>"
      ],
      "text/plain": [
       "<IPython.core.display.HTML object>"
      ]
     },
     "metadata": {},
     "output_type": "display_data"
    },
    {
     "data": {
      "text/html": [
       " View sweep at <a href='https://wandb.ai/harshmp/truck-delay-classification/sweeps/ilvq0mj4' target=\"_blank\">https://wandb.ai/harshmp/truck-delay-classification/sweeps/ilvq0mj4</a>"
      ],
      "text/plain": [
       "<IPython.core.display.HTML object>"
      ]
     },
     "metadata": {},
     "output_type": "display_data"
    },
    {
     "data": {
      "text/html": [
       " View run at <a href='https://wandb.ai/harshmp/truck-delay-classification/runs/538cmjlf' target=\"_blank\">https://wandb.ai/harshmp/truck-delay-classification/runs/538cmjlf</a>"
      ],
      "text/plain": [
       "<IPython.core.display.HTML object>"
      ]
     },
     "metadata": {},
     "output_type": "display_data"
    },
    {
     "name": "stdout",
     "output_type": "stream",
     "text": [
      "F1_score Train: 0.952\n",
      "F1_score Valid: 0.4754\n",
      "F1_score Test: 0.5849\n"
     ]
    },
    {
     "name": "stderr",
     "output_type": "stream",
     "text": [
      "wandb: \n",
      "wandb: Plotting RandomForestClassifier.\n",
      "wandb: Logged feature importances.\n",
      "wandb: Logged confusion matrix.\n",
      "wandb: Logged summary metrics.\n",
      "wandb: Logged class proportions.\n",
      "wandb: Logged calibration curve.\n",
      "wandb: Logged roc curve.\n",
      "wandb: Logged precision-recall curve.\n"
     ]
    },
    {
     "data": {
      "application/vnd.jupyter.widget-view+json": {
       "model_id": "bc068f9098da40ed9f497d68f09f6a4e",
       "version_major": 2,
       "version_minor": 0
      },
      "text/plain": [
       "VBox(children=(Label(value='2.567 MB of 2.567 MB uploaded\\r'), FloatProgress(value=1.0, max=1.0)))"
      ]
     },
     "metadata": {},
     "output_type": "display_data"
    },
    {
     "data": {
      "text/html": [
       "<style>\n",
       "    table.wandb td:nth-child(1) { padding: 0 10px; text-align: left ; width: auto;} td:nth-child(2) {text-align: left ; width: 100%}\n",
       "    .wandb-row { display: flex; flex-direction: row; flex-wrap: wrap; justify-content: flex-start; width: 100% }\n",
       "    .wandb-col { display: flex; flex-direction: column; flex-basis: 100%; flex: 1; padding: 10px; }\n",
       "    </style>\n",
       "<div class=\"wandb-row\"><div class=\"wandb-col\"><h3>Run history:</h3><br/><table class=\"wandb\"><tr><td>f1_score</td><td>▁</td></tr><tr><td>f1_score_train</td><td>▁</td></tr><tr><td>f1_score_valid</td><td>▁</td></tr></table><br/></div><div class=\"wandb-col\"><h3>Run summary:</h3><br/><table class=\"wandb\"><tr><td>f1_score</td><td>0.58494</td></tr><tr><td>f1_score_train</td><td>0.95199</td></tr><tr><td>f1_score_valid</td><td>0.47545</td></tr></table><br/></div></div>"
      ],
      "text/plain": [
       "<IPython.core.display.HTML object>"
      ]
     },
     "metadata": {},
     "output_type": "display_data"
    },
    {
     "data": {
      "text/html": [
       " View run <strong style=\"color:#cdcd00\">woven-sweep-65</strong> at: <a href='https://wandb.ai/harshmp/truck-delay-classification/runs/538cmjlf' target=\"_blank\">https://wandb.ai/harshmp/truck-delay-classification/runs/538cmjlf</a><br/>Synced 5 W&B file(s), 7 media file(s), 8 artifact file(s) and 1 other file(s)"
      ],
      "text/plain": [
       "<IPython.core.display.HTML object>"
      ]
     },
     "metadata": {},
     "output_type": "display_data"
    },
    {
     "data": {
      "text/html": [
       "Find logs at: <code>.\\wandb\\run-20240925_163019-538cmjlf\\logs</code>"
      ],
      "text/plain": [
       "<IPython.core.display.HTML object>"
      ]
     },
     "metadata": {},
     "output_type": "display_data"
    },
    {
     "name": "stderr",
     "output_type": "stream",
     "text": [
      "wandb: Agent Starting Run: acrddcmn with config:\n",
      "wandb: \tmax_depth: 20\n",
      "wandb: \tmin_samples_split: 2\n",
      "wandb: \tn_estimators: 12\n",
      "Failed to detect the name of this notebook, you can set it manually with the WANDB_NOTEBOOK_NAME environment variable to enable code saving.\n",
      "wandb: WARNING Ignored wandb.init() arg project when running a sweep.\n"
     ]
    },
    {
     "data": {
      "text/html": [
       "wandb version 0.18.1 is available!  To upgrade, please run:\n",
       " $ pip install wandb --upgrade"
      ],
      "text/plain": [
       "<IPython.core.display.HTML object>"
      ]
     },
     "metadata": {},
     "output_type": "display_data"
    },
    {
     "data": {
      "text/html": [
       "Tracking run with wandb version 0.16.1"
      ],
      "text/plain": [
       "<IPython.core.display.HTML object>"
      ]
     },
     "metadata": {},
     "output_type": "display_data"
    },
    {
     "data": {
      "text/html": [
       "Run data is saved locally in <code>e:\\Artificial Intelligence\\Projects\\Predictive-Truck-Delay-Management-in-Logistics\\wandb\\run-20240925_163040-acrddcmn</code>"
      ],
      "text/plain": [
       "<IPython.core.display.HTML object>"
      ]
     },
     "metadata": {},
     "output_type": "display_data"
    },
    {
     "data": {
      "text/html": [
       "Syncing run <strong><a href='https://wandb.ai/harshmp/truck-delay-classification/runs/acrddcmn' target=\"_blank\">lilac-sweep-66</a></strong> to <a href='https://wandb.ai/harshmp/truck-delay-classification' target=\"_blank\">Weights & Biases</a> (<a href='https://wandb.me/run' target=\"_blank\">docs</a>)<br/>Sweep page: <a href='https://wandb.ai/harshmp/truck-delay-classification/sweeps/ilvq0mj4' target=\"_blank\">https://wandb.ai/harshmp/truck-delay-classification/sweeps/ilvq0mj4</a>"
      ],
      "text/plain": [
       "<IPython.core.display.HTML object>"
      ]
     },
     "metadata": {},
     "output_type": "display_data"
    },
    {
     "data": {
      "text/html": [
       " View project at <a href='https://wandb.ai/harshmp/truck-delay-classification' target=\"_blank\">https://wandb.ai/harshmp/truck-delay-classification</a>"
      ],
      "text/plain": [
       "<IPython.core.display.HTML object>"
      ]
     },
     "metadata": {},
     "output_type": "display_data"
    },
    {
     "data": {
      "text/html": [
       " View sweep at <a href='https://wandb.ai/harshmp/truck-delay-classification/sweeps/ilvq0mj4' target=\"_blank\">https://wandb.ai/harshmp/truck-delay-classification/sweeps/ilvq0mj4</a>"
      ],
      "text/plain": [
       "<IPython.core.display.HTML object>"
      ]
     },
     "metadata": {},
     "output_type": "display_data"
    },
    {
     "data": {
      "text/html": [
       " View run at <a href='https://wandb.ai/harshmp/truck-delay-classification/runs/acrddcmn' target=\"_blank\">https://wandb.ai/harshmp/truck-delay-classification/runs/acrddcmn</a>"
      ],
      "text/plain": [
       "<IPython.core.display.HTML object>"
      ]
     },
     "metadata": {},
     "output_type": "display_data"
    },
    {
     "name": "stdout",
     "output_type": "stream",
     "text": [
      "F1_score Train: 0.9729\n",
      "F1_score Valid: 0.5028\n",
      "F1_score Test: 0.629\n"
     ]
    },
    {
     "name": "stderr",
     "output_type": "stream",
     "text": [
      "wandb: \n",
      "wandb: Plotting RandomForestClassifier.\n",
      "wandb: Logged feature importances.\n",
      "wandb: Logged confusion matrix.\n",
      "wandb: Logged summary metrics.\n",
      "wandb: Logged class proportions.\n",
      "wandb: Logged calibration curve.\n",
      "wandb: Logged roc curve.\n",
      "wandb: Logged precision-recall curve.\n"
     ]
    },
    {
     "data": {
      "application/vnd.jupyter.widget-view+json": {
       "model_id": "28dc4374d5b040f482438c7710354200",
       "version_major": 2,
       "version_minor": 0
      },
      "text/plain": [
       "VBox(children=(Label(value='3.849 MB of 3.849 MB uploaded\\r'), FloatProgress(value=1.0, max=1.0)))"
      ]
     },
     "metadata": {},
     "output_type": "display_data"
    },
    {
     "data": {
      "text/html": [
       "<style>\n",
       "    table.wandb td:nth-child(1) { padding: 0 10px; text-align: left ; width: auto;} td:nth-child(2) {text-align: left ; width: 100%}\n",
       "    .wandb-row { display: flex; flex-direction: row; flex-wrap: wrap; justify-content: flex-start; width: 100% }\n",
       "    .wandb-col { display: flex; flex-direction: column; flex-basis: 100%; flex: 1; padding: 10px; }\n",
       "    </style>\n",
       "<div class=\"wandb-row\"><div class=\"wandb-col\"><h3>Run history:</h3><br/><table class=\"wandb\"><tr><td>f1_score</td><td>▁</td></tr><tr><td>f1_score_train</td><td>▁</td></tr><tr><td>f1_score_valid</td><td>▁</td></tr></table><br/></div><div class=\"wandb-col\"><h3>Run summary:</h3><br/><table class=\"wandb\"><tr><td>f1_score</td><td>0.62902</td></tr><tr><td>f1_score_train</td><td>0.97293</td></tr><tr><td>f1_score_valid</td><td>0.50276</td></tr></table><br/></div></div>"
      ],
      "text/plain": [
       "<IPython.core.display.HTML object>"
      ]
     },
     "metadata": {},
     "output_type": "display_data"
    },
    {
     "data": {
      "text/html": [
       " View run <strong style=\"color:#cdcd00\">lilac-sweep-66</strong> at: <a href='https://wandb.ai/harshmp/truck-delay-classification/runs/acrddcmn' target=\"_blank\">https://wandb.ai/harshmp/truck-delay-classification/runs/acrddcmn</a><br/>Synced 5 W&B file(s), 7 media file(s), 8 artifact file(s) and 1 other file(s)"
      ],
      "text/plain": [
       "<IPython.core.display.HTML object>"
      ]
     },
     "metadata": {},
     "output_type": "display_data"
    },
    {
     "data": {
      "text/html": [
       "Find logs at: <code>.\\wandb\\run-20240925_163040-acrddcmn\\logs</code>"
      ],
      "text/plain": [
       "<IPython.core.display.HTML object>"
      ]
     },
     "metadata": {},
     "output_type": "display_data"
    },
    {
     "name": "stderr",
     "output_type": "stream",
     "text": [
      "wandb: Agent Starting Run: deh5ptwj with config:\n",
      "wandb: \tmax_depth: 20\n",
      "wandb: \tmin_samples_split: 2\n",
      "wandb: \tn_estimators: 16\n",
      "Failed to detect the name of this notebook, you can set it manually with the WANDB_NOTEBOOK_NAME environment variable to enable code saving.\n",
      "wandb: WARNING Ignored wandb.init() arg project when running a sweep.\n"
     ]
    },
    {
     "data": {
      "text/html": [
       "wandb version 0.18.1 is available!  To upgrade, please run:\n",
       " $ pip install wandb --upgrade"
      ],
      "text/plain": [
       "<IPython.core.display.HTML object>"
      ]
     },
     "metadata": {},
     "output_type": "display_data"
    },
    {
     "data": {
      "text/html": [
       "Tracking run with wandb version 0.16.1"
      ],
      "text/plain": [
       "<IPython.core.display.HTML object>"
      ]
     },
     "metadata": {},
     "output_type": "display_data"
    },
    {
     "data": {
      "text/html": [
       "Run data is saved locally in <code>e:\\Artificial Intelligence\\Projects\\Predictive-Truck-Delay-Management-in-Logistics\\wandb\\run-20240925_163100-deh5ptwj</code>"
      ],
      "text/plain": [
       "<IPython.core.display.HTML object>"
      ]
     },
     "metadata": {},
     "output_type": "display_data"
    },
    {
     "data": {
      "text/html": [
       "Syncing run <strong><a href='https://wandb.ai/harshmp/truck-delay-classification/runs/deh5ptwj' target=\"_blank\">generous-sweep-67</a></strong> to <a href='https://wandb.ai/harshmp/truck-delay-classification' target=\"_blank\">Weights & Biases</a> (<a href='https://wandb.me/run' target=\"_blank\">docs</a>)<br/>Sweep page: <a href='https://wandb.ai/harshmp/truck-delay-classification/sweeps/ilvq0mj4' target=\"_blank\">https://wandb.ai/harshmp/truck-delay-classification/sweeps/ilvq0mj4</a>"
      ],
      "text/plain": [
       "<IPython.core.display.HTML object>"
      ]
     },
     "metadata": {},
     "output_type": "display_data"
    },
    {
     "data": {
      "text/html": [
       " View project at <a href='https://wandb.ai/harshmp/truck-delay-classification' target=\"_blank\">https://wandb.ai/harshmp/truck-delay-classification</a>"
      ],
      "text/plain": [
       "<IPython.core.display.HTML object>"
      ]
     },
     "metadata": {},
     "output_type": "display_data"
    },
    {
     "data": {
      "text/html": [
       " View sweep at <a href='https://wandb.ai/harshmp/truck-delay-classification/sweeps/ilvq0mj4' target=\"_blank\">https://wandb.ai/harshmp/truck-delay-classification/sweeps/ilvq0mj4</a>"
      ],
      "text/plain": [
       "<IPython.core.display.HTML object>"
      ]
     },
     "metadata": {},
     "output_type": "display_data"
    },
    {
     "data": {
      "text/html": [
       " View run at <a href='https://wandb.ai/harshmp/truck-delay-classification/runs/deh5ptwj' target=\"_blank\">https://wandb.ai/harshmp/truck-delay-classification/runs/deh5ptwj</a>"
      ],
      "text/plain": [
       "<IPython.core.display.HTML object>"
      ]
     },
     "metadata": {},
     "output_type": "display_data"
    },
    {
     "name": "stdout",
     "output_type": "stream",
     "text": [
      "F1_score Train: 0.981\n",
      "F1_score Valid: 0.5386\n",
      "F1_score Test: 0.6317\n"
     ]
    },
    {
     "name": "stderr",
     "output_type": "stream",
     "text": [
      "wandb: \n",
      "wandb: Plotting RandomForestClassifier.\n",
      "wandb: Logged feature importances.\n",
      "wandb: Logged confusion matrix.\n",
      "wandb: Logged summary metrics.\n",
      "wandb: Logged class proportions.\n",
      "wandb: Logged calibration curve.\n",
      "wandb: Logged roc curve.\n",
      "wandb: Logged precision-recall curve.\n"
     ]
    },
    {
     "data": {
      "application/vnd.jupyter.widget-view+json": {
       "model_id": "1252b61e01af41559126516a2a6c1a11",
       "version_major": 2,
       "version_minor": 0
      },
      "text/plain": [
       "VBox(children=(Label(value='5.123 MB of 5.123 MB uploaded\\r'), FloatProgress(value=1.0, max=1.0)))"
      ]
     },
     "metadata": {},
     "output_type": "display_data"
    },
    {
     "data": {
      "text/html": [
       "<style>\n",
       "    table.wandb td:nth-child(1) { padding: 0 10px; text-align: left ; width: auto;} td:nth-child(2) {text-align: left ; width: 100%}\n",
       "    .wandb-row { display: flex; flex-direction: row; flex-wrap: wrap; justify-content: flex-start; width: 100% }\n",
       "    .wandb-col { display: flex; flex-direction: column; flex-basis: 100%; flex: 1; padding: 10px; }\n",
       "    </style>\n",
       "<div class=\"wandb-row\"><div class=\"wandb-col\"><h3>Run history:</h3><br/><table class=\"wandb\"><tr><td>f1_score</td><td>▁</td></tr><tr><td>f1_score_train</td><td>▁</td></tr><tr><td>f1_score_valid</td><td>▁</td></tr></table><br/></div><div class=\"wandb-col\"><h3>Run summary:</h3><br/><table class=\"wandb\"><tr><td>f1_score</td><td>0.63166</td></tr><tr><td>f1_score_train</td><td>0.98097</td></tr><tr><td>f1_score_valid</td><td>0.53865</td></tr></table><br/></div></div>"
      ],
      "text/plain": [
       "<IPython.core.display.HTML object>"
      ]
     },
     "metadata": {},
     "output_type": "display_data"
    },
    {
     "data": {
      "text/html": [
       " View run <strong style=\"color:#cdcd00\">generous-sweep-67</strong> at: <a href='https://wandb.ai/harshmp/truck-delay-classification/runs/deh5ptwj' target=\"_blank\">https://wandb.ai/harshmp/truck-delay-classification/runs/deh5ptwj</a><br/>Synced 5 W&B file(s), 7 media file(s), 8 artifact file(s) and 1 other file(s)"
      ],
      "text/plain": [
       "<IPython.core.display.HTML object>"
      ]
     },
     "metadata": {},
     "output_type": "display_data"
    },
    {
     "data": {
      "text/html": [
       "Find logs at: <code>.\\wandb\\run-20240925_163100-deh5ptwj\\logs</code>"
      ],
      "text/plain": [
       "<IPython.core.display.HTML object>"
      ]
     },
     "metadata": {},
     "output_type": "display_data"
    },
    {
     "name": "stderr",
     "output_type": "stream",
     "text": [
      "wandb: Agent Starting Run: 73ugicuo with config:\n",
      "wandb: \tmax_depth: 20\n",
      "wandb: \tmin_samples_split: 2\n",
      "wandb: \tn_estimators: 20\n",
      "Failed to detect the name of this notebook, you can set it manually with the WANDB_NOTEBOOK_NAME environment variable to enable code saving.\n",
      "wandb: WARNING Ignored wandb.init() arg project when running a sweep.\n"
     ]
    },
    {
     "data": {
      "text/html": [
       "wandb version 0.18.1 is available!  To upgrade, please run:\n",
       " $ pip install wandb --upgrade"
      ],
      "text/plain": [
       "<IPython.core.display.HTML object>"
      ]
     },
     "metadata": {},
     "output_type": "display_data"
    },
    {
     "data": {
      "text/html": [
       "Tracking run with wandb version 0.16.1"
      ],
      "text/plain": [
       "<IPython.core.display.HTML object>"
      ]
     },
     "metadata": {},
     "output_type": "display_data"
    },
    {
     "data": {
      "text/html": [
       "Run data is saved locally in <code>e:\\Artificial Intelligence\\Projects\\Predictive-Truck-Delay-Management-in-Logistics\\wandb\\run-20240925_163121-73ugicuo</code>"
      ],
      "text/plain": [
       "<IPython.core.display.HTML object>"
      ]
     },
     "metadata": {},
     "output_type": "display_data"
    },
    {
     "data": {
      "text/html": [
       "Syncing run <strong><a href='https://wandb.ai/harshmp/truck-delay-classification/runs/73ugicuo' target=\"_blank\">driven-sweep-68</a></strong> to <a href='https://wandb.ai/harshmp/truck-delay-classification' target=\"_blank\">Weights & Biases</a> (<a href='https://wandb.me/run' target=\"_blank\">docs</a>)<br/>Sweep page: <a href='https://wandb.ai/harshmp/truck-delay-classification/sweeps/ilvq0mj4' target=\"_blank\">https://wandb.ai/harshmp/truck-delay-classification/sweeps/ilvq0mj4</a>"
      ],
      "text/plain": [
       "<IPython.core.display.HTML object>"
      ]
     },
     "metadata": {},
     "output_type": "display_data"
    },
    {
     "data": {
      "text/html": [
       " View project at <a href='https://wandb.ai/harshmp/truck-delay-classification' target=\"_blank\">https://wandb.ai/harshmp/truck-delay-classification</a>"
      ],
      "text/plain": [
       "<IPython.core.display.HTML object>"
      ]
     },
     "metadata": {},
     "output_type": "display_data"
    },
    {
     "data": {
      "text/html": [
       " View sweep at <a href='https://wandb.ai/harshmp/truck-delay-classification/sweeps/ilvq0mj4' target=\"_blank\">https://wandb.ai/harshmp/truck-delay-classification/sweeps/ilvq0mj4</a>"
      ],
      "text/plain": [
       "<IPython.core.display.HTML object>"
      ]
     },
     "metadata": {},
     "output_type": "display_data"
    },
    {
     "data": {
      "text/html": [
       " View run at <a href='https://wandb.ai/harshmp/truck-delay-classification/runs/73ugicuo' target=\"_blank\">https://wandb.ai/harshmp/truck-delay-classification/runs/73ugicuo</a>"
      ],
      "text/plain": [
       "<IPython.core.display.HTML object>"
      ]
     },
     "metadata": {},
     "output_type": "display_data"
    },
    {
     "name": "stdout",
     "output_type": "stream",
     "text": [
      "F1_score Train: 0.9874\n",
      "F1_score Valid: 0.5415\n",
      "F1_score Test: 0.6484\n"
     ]
    },
    {
     "name": "stderr",
     "output_type": "stream",
     "text": [
      "wandb: \n",
      "wandb: Plotting RandomForestClassifier.\n",
      "wandb: Logged feature importances.\n",
      "wandb: Logged confusion matrix.\n",
      "wandb: Logged summary metrics.\n",
      "wandb: Logged class proportions.\n",
      "wandb: Logged calibration curve.\n",
      "wandb: Logged roc curve.\n",
      "wandb: Logged precision-recall curve.\n"
     ]
    },
    {
     "data": {
      "application/vnd.jupyter.widget-view+json": {
       "model_id": "f0384dbe99e2431aa31a833aa0909f99",
       "version_major": 2,
       "version_minor": 0
      },
      "text/plain": [
       "VBox(children=(Label(value='6.459 MB of 6.459 MB uploaded\\r'), FloatProgress(value=1.0, max=1.0)))"
      ]
     },
     "metadata": {},
     "output_type": "display_data"
    },
    {
     "data": {
      "text/html": [
       "<style>\n",
       "    table.wandb td:nth-child(1) { padding: 0 10px; text-align: left ; width: auto;} td:nth-child(2) {text-align: left ; width: 100%}\n",
       "    .wandb-row { display: flex; flex-direction: row; flex-wrap: wrap; justify-content: flex-start; width: 100% }\n",
       "    .wandb-col { display: flex; flex-direction: column; flex-basis: 100%; flex: 1; padding: 10px; }\n",
       "    </style>\n",
       "<div class=\"wandb-row\"><div class=\"wandb-col\"><h3>Run history:</h3><br/><table class=\"wandb\"><tr><td>f1_score</td><td>▁</td></tr><tr><td>f1_score_train</td><td>▁</td></tr><tr><td>f1_score_valid</td><td>▁</td></tr></table><br/></div><div class=\"wandb-col\"><h3>Run summary:</h3><br/><table class=\"wandb\"><tr><td>f1_score</td><td>0.64844</td></tr><tr><td>f1_score_train</td><td>0.98739</td></tr><tr><td>f1_score_valid</td><td>0.54147</td></tr></table><br/></div></div>"
      ],
      "text/plain": [
       "<IPython.core.display.HTML object>"
      ]
     },
     "metadata": {},
     "output_type": "display_data"
    },
    {
     "data": {
      "text/html": [
       " View run <strong style=\"color:#cdcd00\">driven-sweep-68</strong> at: <a href='https://wandb.ai/harshmp/truck-delay-classification/runs/73ugicuo' target=\"_blank\">https://wandb.ai/harshmp/truck-delay-classification/runs/73ugicuo</a><br/>Synced 5 W&B file(s), 7 media file(s), 8 artifact file(s) and 1 other file(s)"
      ],
      "text/plain": [
       "<IPython.core.display.HTML object>"
      ]
     },
     "metadata": {},
     "output_type": "display_data"
    },
    {
     "data": {
      "text/html": [
       "Find logs at: <code>.\\wandb\\run-20240925_163121-73ugicuo\\logs</code>"
      ],
      "text/plain": [
       "<IPython.core.display.HTML object>"
      ]
     },
     "metadata": {},
     "output_type": "display_data"
    },
    {
     "name": "stderr",
     "output_type": "stream",
     "text": [
      "wandb: Agent Starting Run: c5dhb84k with config:\n",
      "wandb: \tmax_depth: 20\n",
      "wandb: \tmin_samples_split: 4\n",
      "wandb: \tn_estimators: 8\n",
      "Failed to detect the name of this notebook, you can set it manually with the WANDB_NOTEBOOK_NAME environment variable to enable code saving.\n",
      "wandb: WARNING Ignored wandb.init() arg project when running a sweep.\n"
     ]
    },
    {
     "data": {
      "text/html": [
       "wandb version 0.18.1 is available!  To upgrade, please run:\n",
       " $ pip install wandb --upgrade"
      ],
      "text/plain": [
       "<IPython.core.display.HTML object>"
      ]
     },
     "metadata": {},
     "output_type": "display_data"
    },
    {
     "data": {
      "text/html": [
       "Tracking run with wandb version 0.16.1"
      ],
      "text/plain": [
       "<IPython.core.display.HTML object>"
      ]
     },
     "metadata": {},
     "output_type": "display_data"
    },
    {
     "data": {
      "text/html": [
       "Run data is saved locally in <code>e:\\Artificial Intelligence\\Projects\\Predictive-Truck-Delay-Management-in-Logistics\\wandb\\run-20240925_163143-c5dhb84k</code>"
      ],
      "text/plain": [
       "<IPython.core.display.HTML object>"
      ]
     },
     "metadata": {},
     "output_type": "display_data"
    },
    {
     "data": {
      "text/html": [
       "Syncing run <strong><a href='https://wandb.ai/harshmp/truck-delay-classification/runs/c5dhb84k' target=\"_blank\">dauntless-sweep-69</a></strong> to <a href='https://wandb.ai/harshmp/truck-delay-classification' target=\"_blank\">Weights & Biases</a> (<a href='https://wandb.me/run' target=\"_blank\">docs</a>)<br/>Sweep page: <a href='https://wandb.ai/harshmp/truck-delay-classification/sweeps/ilvq0mj4' target=\"_blank\">https://wandb.ai/harshmp/truck-delay-classification/sweeps/ilvq0mj4</a>"
      ],
      "text/plain": [
       "<IPython.core.display.HTML object>"
      ]
     },
     "metadata": {},
     "output_type": "display_data"
    },
    {
     "data": {
      "text/html": [
       " View project at <a href='https://wandb.ai/harshmp/truck-delay-classification' target=\"_blank\">https://wandb.ai/harshmp/truck-delay-classification</a>"
      ],
      "text/plain": [
       "<IPython.core.display.HTML object>"
      ]
     },
     "metadata": {},
     "output_type": "display_data"
    },
    {
     "data": {
      "text/html": [
       " View sweep at <a href='https://wandb.ai/harshmp/truck-delay-classification/sweeps/ilvq0mj4' target=\"_blank\">https://wandb.ai/harshmp/truck-delay-classification/sweeps/ilvq0mj4</a>"
      ],
      "text/plain": [
       "<IPython.core.display.HTML object>"
      ]
     },
     "metadata": {},
     "output_type": "display_data"
    },
    {
     "data": {
      "text/html": [
       " View run at <a href='https://wandb.ai/harshmp/truck-delay-classification/runs/c5dhb84k' target=\"_blank\">https://wandb.ai/harshmp/truck-delay-classification/runs/c5dhb84k</a>"
      ],
      "text/plain": [
       "<IPython.core.display.HTML object>"
      ]
     },
     "metadata": {},
     "output_type": "display_data"
    },
    {
     "name": "stdout",
     "output_type": "stream",
     "text": [
      "F1_score Train: 0.9484\n",
      "F1_score Valid: 0.52\n",
      "F1_score Test: 0.6232\n"
     ]
    },
    {
     "name": "stderr",
     "output_type": "stream",
     "text": [
      "wandb: \n",
      "wandb: Plotting RandomForestClassifier.\n",
      "wandb: Logged feature importances.\n",
      "wandb: Logged confusion matrix.\n",
      "wandb: Logged summary metrics.\n",
      "wandb: Logged class proportions.\n",
      "wandb: Logged calibration curve.\n",
      "wandb: Logged roc curve.\n",
      "wandb: Logged precision-recall curve.\n"
     ]
    },
    {
     "data": {
      "application/vnd.jupyter.widget-view+json": {
       "model_id": "716f3231192e40af9b23b7408c571389",
       "version_major": 2,
       "version_minor": 0
      },
      "text/plain": [
       "VBox(children=(Label(value='2.233 MB of 2.233 MB uploaded\\r'), FloatProgress(value=1.0, max=1.0)))"
      ]
     },
     "metadata": {},
     "output_type": "display_data"
    },
    {
     "data": {
      "text/html": [
       "<style>\n",
       "    table.wandb td:nth-child(1) { padding: 0 10px; text-align: left ; width: auto;} td:nth-child(2) {text-align: left ; width: 100%}\n",
       "    .wandb-row { display: flex; flex-direction: row; flex-wrap: wrap; justify-content: flex-start; width: 100% }\n",
       "    .wandb-col { display: flex; flex-direction: column; flex-basis: 100%; flex: 1; padding: 10px; }\n",
       "    </style>\n",
       "<div class=\"wandb-row\"><div class=\"wandb-col\"><h3>Run history:</h3><br/><table class=\"wandb\"><tr><td>f1_score</td><td>▁</td></tr><tr><td>f1_score_train</td><td>▁</td></tr><tr><td>f1_score_valid</td><td>▁</td></tr></table><br/></div><div class=\"wandb-col\"><h3>Run summary:</h3><br/><table class=\"wandb\"><tr><td>f1_score</td><td>0.62315</td></tr><tr><td>f1_score_train</td><td>0.94842</td></tr><tr><td>f1_score_valid</td><td>0.52003</td></tr></table><br/></div></div>"
      ],
      "text/plain": [
       "<IPython.core.display.HTML object>"
      ]
     },
     "metadata": {},
     "output_type": "display_data"
    },
    {
     "data": {
      "text/html": [
       " View run <strong style=\"color:#cdcd00\">dauntless-sweep-69</strong> at: <a href='https://wandb.ai/harshmp/truck-delay-classification/runs/c5dhb84k' target=\"_blank\">https://wandb.ai/harshmp/truck-delay-classification/runs/c5dhb84k</a><br/>Synced 5 W&B file(s), 7 media file(s), 8 artifact file(s) and 1 other file(s)"
      ],
      "text/plain": [
       "<IPython.core.display.HTML object>"
      ]
     },
     "metadata": {},
     "output_type": "display_data"
    },
    {
     "data": {
      "text/html": [
       "Find logs at: <code>.\\wandb\\run-20240925_163143-c5dhb84k\\logs</code>"
      ],
      "text/plain": [
       "<IPython.core.display.HTML object>"
      ]
     },
     "metadata": {},
     "output_type": "display_data"
    },
    {
     "name": "stderr",
     "output_type": "stream",
     "text": [
      "wandb: Agent Starting Run: qf9ihptz with config:\n",
      "wandb: \tmax_depth: 20\n",
      "wandb: \tmin_samples_split: 4\n",
      "wandb: \tn_estimators: 12\n",
      "Failed to detect the name of this notebook, you can set it manually with the WANDB_NOTEBOOK_NAME environment variable to enable code saving.\n",
      "wandb: WARNING Ignored wandb.init() arg project when running a sweep.\n"
     ]
    },
    {
     "data": {
      "text/html": [
       "wandb version 0.18.1 is available!  To upgrade, please run:\n",
       " $ pip install wandb --upgrade"
      ],
      "text/plain": [
       "<IPython.core.display.HTML object>"
      ]
     },
     "metadata": {},
     "output_type": "display_data"
    },
    {
     "data": {
      "text/html": [
       "Tracking run with wandb version 0.16.1"
      ],
      "text/plain": [
       "<IPython.core.display.HTML object>"
      ]
     },
     "metadata": {},
     "output_type": "display_data"
    },
    {
     "data": {
      "text/html": [
       "Run data is saved locally in <code>e:\\Artificial Intelligence\\Projects\\Predictive-Truck-Delay-Management-in-Logistics\\wandb\\run-20240925_163203-qf9ihptz</code>"
      ],
      "text/plain": [
       "<IPython.core.display.HTML object>"
      ]
     },
     "metadata": {},
     "output_type": "display_data"
    },
    {
     "data": {
      "text/html": [
       "Syncing run <strong><a href='https://wandb.ai/harshmp/truck-delay-classification/runs/qf9ihptz' target=\"_blank\">lively-sweep-70</a></strong> to <a href='https://wandb.ai/harshmp/truck-delay-classification' target=\"_blank\">Weights & Biases</a> (<a href='https://wandb.me/run' target=\"_blank\">docs</a>)<br/>Sweep page: <a href='https://wandb.ai/harshmp/truck-delay-classification/sweeps/ilvq0mj4' target=\"_blank\">https://wandb.ai/harshmp/truck-delay-classification/sweeps/ilvq0mj4</a>"
      ],
      "text/plain": [
       "<IPython.core.display.HTML object>"
      ]
     },
     "metadata": {},
     "output_type": "display_data"
    },
    {
     "data": {
      "text/html": [
       " View project at <a href='https://wandb.ai/harshmp/truck-delay-classification' target=\"_blank\">https://wandb.ai/harshmp/truck-delay-classification</a>"
      ],
      "text/plain": [
       "<IPython.core.display.HTML object>"
      ]
     },
     "metadata": {},
     "output_type": "display_data"
    },
    {
     "data": {
      "text/html": [
       " View sweep at <a href='https://wandb.ai/harshmp/truck-delay-classification/sweeps/ilvq0mj4' target=\"_blank\">https://wandb.ai/harshmp/truck-delay-classification/sweeps/ilvq0mj4</a>"
      ],
      "text/plain": [
       "<IPython.core.display.HTML object>"
      ]
     },
     "metadata": {},
     "output_type": "display_data"
    },
    {
     "data": {
      "text/html": [
       " View run at <a href='https://wandb.ai/harshmp/truck-delay-classification/runs/qf9ihptz' target=\"_blank\">https://wandb.ai/harshmp/truck-delay-classification/runs/qf9ihptz</a>"
      ],
      "text/plain": [
       "<IPython.core.display.HTML object>"
      ]
     },
     "metadata": {},
     "output_type": "display_data"
    },
    {
     "name": "stdout",
     "output_type": "stream",
     "text": [
      "F1_score Train: 0.9684\n",
      "F1_score Valid: 0.5449\n",
      "F1_score Test: 0.6458\n"
     ]
    },
    {
     "name": "stderr",
     "output_type": "stream",
     "text": [
      "wandb: \n",
      "wandb: Plotting RandomForestClassifier.\n",
      "wandb: Logged feature importances.\n",
      "wandb: Logged confusion matrix.\n",
      "wandb: Logged summary metrics.\n",
      "wandb: Logged class proportions.\n",
      "wandb: Logged calibration curve.\n",
      "wandb: Logged roc curve.\n",
      "wandb: Logged precision-recall curve.\n"
     ]
    },
    {
     "data": {
      "application/vnd.jupyter.widget-view+json": {
       "model_id": "cfd61052c2ff4c1ea370e6e32e088b28",
       "version_major": 2,
       "version_minor": 0
      },
      "text/plain": [
       "VBox(children=(Label(value='3.354 MB of 3.354 MB uploaded\\r'), FloatProgress(value=1.0, max=1.0)))"
      ]
     },
     "metadata": {},
     "output_type": "display_data"
    },
    {
     "data": {
      "text/html": [
       "<style>\n",
       "    table.wandb td:nth-child(1) { padding: 0 10px; text-align: left ; width: auto;} td:nth-child(2) {text-align: left ; width: 100%}\n",
       "    .wandb-row { display: flex; flex-direction: row; flex-wrap: wrap; justify-content: flex-start; width: 100% }\n",
       "    .wandb-col { display: flex; flex-direction: column; flex-basis: 100%; flex: 1; padding: 10px; }\n",
       "    </style>\n",
       "<div class=\"wandb-row\"><div class=\"wandb-col\"><h3>Run history:</h3><br/><table class=\"wandb\"><tr><td>f1_score</td><td>▁</td></tr><tr><td>f1_score_train</td><td>▁</td></tr><tr><td>f1_score_valid</td><td>▁</td></tr></table><br/></div><div class=\"wandb-col\"><h3>Run summary:</h3><br/><table class=\"wandb\"><tr><td>f1_score</td><td>0.6458</td></tr><tr><td>f1_score_train</td><td>0.96839</td></tr><tr><td>f1_score_valid</td><td>0.5449</td></tr></table><br/></div></div>"
      ],
      "text/plain": [
       "<IPython.core.display.HTML object>"
      ]
     },
     "metadata": {},
     "output_type": "display_data"
    },
    {
     "data": {
      "text/html": [
       " View run <strong style=\"color:#cdcd00\">lively-sweep-70</strong> at: <a href='https://wandb.ai/harshmp/truck-delay-classification/runs/qf9ihptz' target=\"_blank\">https://wandb.ai/harshmp/truck-delay-classification/runs/qf9ihptz</a><br/>Synced 5 W&B file(s), 7 media file(s), 8 artifact file(s) and 1 other file(s)"
      ],
      "text/plain": [
       "<IPython.core.display.HTML object>"
      ]
     },
     "metadata": {},
     "output_type": "display_data"
    },
    {
     "data": {
      "text/html": [
       "Find logs at: <code>.\\wandb\\run-20240925_163203-qf9ihptz\\logs</code>"
      ],
      "text/plain": [
       "<IPython.core.display.HTML object>"
      ]
     },
     "metadata": {},
     "output_type": "display_data"
    },
    {
     "name": "stderr",
     "output_type": "stream",
     "text": [
      "wandb: Agent Starting Run: ld0sjvl3 with config:\n",
      "wandb: \tmax_depth: 20\n",
      "wandb: \tmin_samples_split: 4\n",
      "wandb: \tn_estimators: 16\n",
      "Failed to detect the name of this notebook, you can set it manually with the WANDB_NOTEBOOK_NAME environment variable to enable code saving.\n",
      "wandb: WARNING Ignored wandb.init() arg project when running a sweep.\n"
     ]
    },
    {
     "data": {
      "text/html": [
       "wandb version 0.18.1 is available!  To upgrade, please run:\n",
       " $ pip install wandb --upgrade"
      ],
      "text/plain": [
       "<IPython.core.display.HTML object>"
      ]
     },
     "metadata": {},
     "output_type": "display_data"
    },
    {
     "data": {
      "text/html": [
       "Tracking run with wandb version 0.16.1"
      ],
      "text/plain": [
       "<IPython.core.display.HTML object>"
      ]
     },
     "metadata": {},
     "output_type": "display_data"
    },
    {
     "data": {
      "text/html": [
       "Run data is saved locally in <code>e:\\Artificial Intelligence\\Projects\\Predictive-Truck-Delay-Management-in-Logistics\\wandb\\run-20240925_163228-ld0sjvl3</code>"
      ],
      "text/plain": [
       "<IPython.core.display.HTML object>"
      ]
     },
     "metadata": {},
     "output_type": "display_data"
    },
    {
     "data": {
      "text/html": [
       "Syncing run <strong><a href='https://wandb.ai/harshmp/truck-delay-classification/runs/ld0sjvl3' target=\"_blank\">celestial-sweep-71</a></strong> to <a href='https://wandb.ai/harshmp/truck-delay-classification' target=\"_blank\">Weights & Biases</a> (<a href='https://wandb.me/run' target=\"_blank\">docs</a>)<br/>Sweep page: <a href='https://wandb.ai/harshmp/truck-delay-classification/sweeps/ilvq0mj4' target=\"_blank\">https://wandb.ai/harshmp/truck-delay-classification/sweeps/ilvq0mj4</a>"
      ],
      "text/plain": [
       "<IPython.core.display.HTML object>"
      ]
     },
     "metadata": {},
     "output_type": "display_data"
    },
    {
     "data": {
      "text/html": [
       " View project at <a href='https://wandb.ai/harshmp/truck-delay-classification' target=\"_blank\">https://wandb.ai/harshmp/truck-delay-classification</a>"
      ],
      "text/plain": [
       "<IPython.core.display.HTML object>"
      ]
     },
     "metadata": {},
     "output_type": "display_data"
    },
    {
     "data": {
      "text/html": [
       " View sweep at <a href='https://wandb.ai/harshmp/truck-delay-classification/sweeps/ilvq0mj4' target=\"_blank\">https://wandb.ai/harshmp/truck-delay-classification/sweeps/ilvq0mj4</a>"
      ],
      "text/plain": [
       "<IPython.core.display.HTML object>"
      ]
     },
     "metadata": {},
     "output_type": "display_data"
    },
    {
     "data": {
      "text/html": [
       " View run at <a href='https://wandb.ai/harshmp/truck-delay-classification/runs/ld0sjvl3' target=\"_blank\">https://wandb.ai/harshmp/truck-delay-classification/runs/ld0sjvl3</a>"
      ],
      "text/plain": [
       "<IPython.core.display.HTML object>"
      ]
     },
     "metadata": {},
     "output_type": "display_data"
    },
    {
     "name": "stdout",
     "output_type": "stream",
     "text": [
      "F1_score Train: 0.9738\n",
      "F1_score Valid: 0.5645\n",
      "F1_score Test: 0.6792\n"
     ]
    },
    {
     "name": "stderr",
     "output_type": "stream",
     "text": [
      "wandb: \n",
      "wandb: Plotting RandomForestClassifier.\n",
      "wandb: Logged feature importances.\n",
      "wandb: Logged confusion matrix.\n",
      "wandb: Logged summary metrics.\n",
      "wandb: Logged class proportions.\n",
      "wandb: Logged calibration curve.\n",
      "wandb: Logged roc curve.\n",
      "wandb: Logged precision-recall curve.\n"
     ]
    },
    {
     "data": {
      "application/vnd.jupyter.widget-view+json": {
       "model_id": "f5653d16ffd24beb96ef6330699dee31",
       "version_major": 2,
       "version_minor": 0
      },
      "text/plain": [
       "VBox(children=(Label(value='4.401 MB of 4.401 MB uploaded\\r'), FloatProgress(value=1.0, max=1.0)))"
      ]
     },
     "metadata": {},
     "output_type": "display_data"
    },
    {
     "data": {
      "text/html": [
       "<style>\n",
       "    table.wandb td:nth-child(1) { padding: 0 10px; text-align: left ; width: auto;} td:nth-child(2) {text-align: left ; width: 100%}\n",
       "    .wandb-row { display: flex; flex-direction: row; flex-wrap: wrap; justify-content: flex-start; width: 100% }\n",
       "    .wandb-col { display: flex; flex-direction: column; flex-basis: 100%; flex: 1; padding: 10px; }\n",
       "    </style>\n",
       "<div class=\"wandb-row\"><div class=\"wandb-col\"><h3>Run history:</h3><br/><table class=\"wandb\"><tr><td>f1_score</td><td>▁</td></tr><tr><td>f1_score_train</td><td>▁</td></tr><tr><td>f1_score_valid</td><td>▁</td></tr></table><br/></div><div class=\"wandb-col\"><h3>Run summary:</h3><br/><table class=\"wandb\"><tr><td>f1_score</td><td>0.67922</td></tr><tr><td>f1_score_train</td><td>0.97385</td></tr><tr><td>f1_score_valid</td><td>0.56449</td></tr></table><br/></div></div>"
      ],
      "text/plain": [
       "<IPython.core.display.HTML object>"
      ]
     },
     "metadata": {},
     "output_type": "display_data"
    },
    {
     "data": {
      "text/html": [
       " View run <strong style=\"color:#cdcd00\">celestial-sweep-71</strong> at: <a href='https://wandb.ai/harshmp/truck-delay-classification/runs/ld0sjvl3' target=\"_blank\">https://wandb.ai/harshmp/truck-delay-classification/runs/ld0sjvl3</a><br/>Synced 5 W&B file(s), 7 media file(s), 8 artifact file(s) and 1 other file(s)"
      ],
      "text/plain": [
       "<IPython.core.display.HTML object>"
      ]
     },
     "metadata": {},
     "output_type": "display_data"
    },
    {
     "data": {
      "text/html": [
       "Find logs at: <code>.\\wandb\\run-20240925_163228-ld0sjvl3\\logs</code>"
      ],
      "text/plain": [
       "<IPython.core.display.HTML object>"
      ]
     },
     "metadata": {},
     "output_type": "display_data"
    },
    {
     "name": "stderr",
     "output_type": "stream",
     "text": [
      "wandb: Agent Starting Run: whez1khd with config:\n",
      "wandb: \tmax_depth: 20\n",
      "wandb: \tmin_samples_split: 4\n",
      "wandb: \tn_estimators: 20\n",
      "Failed to detect the name of this notebook, you can set it manually with the WANDB_NOTEBOOK_NAME environment variable to enable code saving.\n",
      "wandb: WARNING Ignored wandb.init() arg project when running a sweep.\n"
     ]
    },
    {
     "data": {
      "text/html": [
       "wandb version 0.18.1 is available!  To upgrade, please run:\n",
       " $ pip install wandb --upgrade"
      ],
      "text/plain": [
       "<IPython.core.display.HTML object>"
      ]
     },
     "metadata": {},
     "output_type": "display_data"
    },
    {
     "data": {
      "text/html": [
       "Tracking run with wandb version 0.16.1"
      ],
      "text/plain": [
       "<IPython.core.display.HTML object>"
      ]
     },
     "metadata": {},
     "output_type": "display_data"
    },
    {
     "data": {
      "text/html": [
       "Run data is saved locally in <code>e:\\Artificial Intelligence\\Projects\\Predictive-Truck-Delay-Management-in-Logistics\\wandb\\run-20240925_163249-whez1khd</code>"
      ],
      "text/plain": [
       "<IPython.core.display.HTML object>"
      ]
     },
     "metadata": {},
     "output_type": "display_data"
    },
    {
     "data": {
      "text/html": [
       "Syncing run <strong><a href='https://wandb.ai/harshmp/truck-delay-classification/runs/whez1khd' target=\"_blank\">cosmic-sweep-72</a></strong> to <a href='https://wandb.ai/harshmp/truck-delay-classification' target=\"_blank\">Weights & Biases</a> (<a href='https://wandb.me/run' target=\"_blank\">docs</a>)<br/>Sweep page: <a href='https://wandb.ai/harshmp/truck-delay-classification/sweeps/ilvq0mj4' target=\"_blank\">https://wandb.ai/harshmp/truck-delay-classification/sweeps/ilvq0mj4</a>"
      ],
      "text/plain": [
       "<IPython.core.display.HTML object>"
      ]
     },
     "metadata": {},
     "output_type": "display_data"
    },
    {
     "data": {
      "text/html": [
       " View project at <a href='https://wandb.ai/harshmp/truck-delay-classification' target=\"_blank\">https://wandb.ai/harshmp/truck-delay-classification</a>"
      ],
      "text/plain": [
       "<IPython.core.display.HTML object>"
      ]
     },
     "metadata": {},
     "output_type": "display_data"
    },
    {
     "data": {
      "text/html": [
       " View sweep at <a href='https://wandb.ai/harshmp/truck-delay-classification/sweeps/ilvq0mj4' target=\"_blank\">https://wandb.ai/harshmp/truck-delay-classification/sweeps/ilvq0mj4</a>"
      ],
      "text/plain": [
       "<IPython.core.display.HTML object>"
      ]
     },
     "metadata": {},
     "output_type": "display_data"
    },
    {
     "data": {
      "text/html": [
       " View run at <a href='https://wandb.ai/harshmp/truck-delay-classification/runs/whez1khd' target=\"_blank\">https://wandb.ai/harshmp/truck-delay-classification/runs/whez1khd</a>"
      ],
      "text/plain": [
       "<IPython.core.display.HTML object>"
      ]
     },
     "metadata": {},
     "output_type": "display_data"
    },
    {
     "name": "stdout",
     "output_type": "stream",
     "text": [
      "F1_score Train: 0.9802\n",
      "F1_score Valid: 0.5814\n",
      "F1_score Test: 0.6955\n"
     ]
    },
    {
     "name": "stderr",
     "output_type": "stream",
     "text": [
      "wandb: \n",
      "wandb: Plotting RandomForestClassifier.\n",
      "wandb: Logged feature importances.\n",
      "wandb: Logged confusion matrix.\n",
      "wandb: Logged summary metrics.\n",
      "wandb: Logged class proportions.\n",
      "wandb: Logged calibration curve.\n",
      "wandb: Logged roc curve.\n",
      "wandb: Logged precision-recall curve.\n"
     ]
    },
    {
     "data": {
      "application/vnd.jupyter.widget-view+json": {
       "model_id": "0bea7df8f2884367bad1fab3d6c39051",
       "version_major": 2,
       "version_minor": 0
      },
      "text/plain": [
       "VBox(children=(Label(value='5.519 MB of 5.519 MB uploaded\\r'), FloatProgress(value=1.0, max=1.0)))"
      ]
     },
     "metadata": {},
     "output_type": "display_data"
    },
    {
     "data": {
      "text/html": [
       "<style>\n",
       "    table.wandb td:nth-child(1) { padding: 0 10px; text-align: left ; width: auto;} td:nth-child(2) {text-align: left ; width: 100%}\n",
       "    .wandb-row { display: flex; flex-direction: row; flex-wrap: wrap; justify-content: flex-start; width: 100% }\n",
       "    .wandb-col { display: flex; flex-direction: column; flex-basis: 100%; flex: 1; padding: 10px; }\n",
       "    </style>\n",
       "<div class=\"wandb-row\"><div class=\"wandb-col\"><h3>Run history:</h3><br/><table class=\"wandb\"><tr><td>f1_score</td><td>▁</td></tr><tr><td>f1_score_train</td><td>▁</td></tr><tr><td>f1_score_valid</td><td>▁</td></tr></table><br/></div><div class=\"wandb-col\"><h3>Run summary:</h3><br/><table class=\"wandb\"><tr><td>f1_score</td><td>0.69546</td></tr><tr><td>f1_score_train</td><td>0.98025</td></tr><tr><td>f1_score_valid</td><td>0.58143</td></tr></table><br/></div></div>"
      ],
      "text/plain": [
       "<IPython.core.display.HTML object>"
      ]
     },
     "metadata": {},
     "output_type": "display_data"
    },
    {
     "data": {
      "text/html": [
       " View run <strong style=\"color:#cdcd00\">cosmic-sweep-72</strong> at: <a href='https://wandb.ai/harshmp/truck-delay-classification/runs/whez1khd' target=\"_blank\">https://wandb.ai/harshmp/truck-delay-classification/runs/whez1khd</a><br/>Synced 5 W&B file(s), 7 media file(s), 8 artifact file(s) and 1 other file(s)"
      ],
      "text/plain": [
       "<IPython.core.display.HTML object>"
      ]
     },
     "metadata": {},
     "output_type": "display_data"
    },
    {
     "data": {
      "text/html": [
       "Find logs at: <code>.\\wandb\\run-20240925_163249-whez1khd\\logs</code>"
      ],
      "text/plain": [
       "<IPython.core.display.HTML object>"
      ]
     },
     "metadata": {},
     "output_type": "display_data"
    },
    {
     "name": "stderr",
     "output_type": "stream",
     "text": [
      "wandb: Agent Starting Run: j60ra40h with config:\n",
      "wandb: \tmax_depth: 20\n",
      "wandb: \tmin_samples_split: 8\n",
      "wandb: \tn_estimators: 8\n",
      "Failed to detect the name of this notebook, you can set it manually with the WANDB_NOTEBOOK_NAME environment variable to enable code saving.\n",
      "wandb: WARNING Ignored wandb.init() arg project when running a sweep.\n"
     ]
    },
    {
     "data": {
      "text/html": [
       "wandb version 0.18.1 is available!  To upgrade, please run:\n",
       " $ pip install wandb --upgrade"
      ],
      "text/plain": [
       "<IPython.core.display.HTML object>"
      ]
     },
     "metadata": {},
     "output_type": "display_data"
    },
    {
     "data": {
      "text/html": [
       "Tracking run with wandb version 0.16.1"
      ],
      "text/plain": [
       "<IPython.core.display.HTML object>"
      ]
     },
     "metadata": {},
     "output_type": "display_data"
    },
    {
     "data": {
      "text/html": [
       "Run data is saved locally in <code>e:\\Artificial Intelligence\\Projects\\Predictive-Truck-Delay-Management-in-Logistics\\wandb\\run-20240925_163314-j60ra40h</code>"
      ],
      "text/plain": [
       "<IPython.core.display.HTML object>"
      ]
     },
     "metadata": {},
     "output_type": "display_data"
    },
    {
     "data": {
      "text/html": [
       "Syncing run <strong><a href='https://wandb.ai/harshmp/truck-delay-classification/runs/j60ra40h' target=\"_blank\">eager-sweep-73</a></strong> to <a href='https://wandb.ai/harshmp/truck-delay-classification' target=\"_blank\">Weights & Biases</a> (<a href='https://wandb.me/run' target=\"_blank\">docs</a>)<br/>Sweep page: <a href='https://wandb.ai/harshmp/truck-delay-classification/sweeps/ilvq0mj4' target=\"_blank\">https://wandb.ai/harshmp/truck-delay-classification/sweeps/ilvq0mj4</a>"
      ],
      "text/plain": [
       "<IPython.core.display.HTML object>"
      ]
     },
     "metadata": {},
     "output_type": "display_data"
    },
    {
     "data": {
      "text/html": [
       " View project at <a href='https://wandb.ai/harshmp/truck-delay-classification' target=\"_blank\">https://wandb.ai/harshmp/truck-delay-classification</a>"
      ],
      "text/plain": [
       "<IPython.core.display.HTML object>"
      ]
     },
     "metadata": {},
     "output_type": "display_data"
    },
    {
     "data": {
      "text/html": [
       " View sweep at <a href='https://wandb.ai/harshmp/truck-delay-classification/sweeps/ilvq0mj4' target=\"_blank\">https://wandb.ai/harshmp/truck-delay-classification/sweeps/ilvq0mj4</a>"
      ],
      "text/plain": [
       "<IPython.core.display.HTML object>"
      ]
     },
     "metadata": {},
     "output_type": "display_data"
    },
    {
     "data": {
      "text/html": [
       " View run at <a href='https://wandb.ai/harshmp/truck-delay-classification/runs/j60ra40h' target=\"_blank\">https://wandb.ai/harshmp/truck-delay-classification/runs/j60ra40h</a>"
      ],
      "text/plain": [
       "<IPython.core.display.HTML object>"
      ]
     },
     "metadata": {},
     "output_type": "display_data"
    },
    {
     "name": "stdout",
     "output_type": "stream",
     "text": [
      "F1_score Train: 0.9174\n",
      "F1_score Valid: 0.5855\n",
      "F1_score Test: 0.659\n"
     ]
    },
    {
     "name": "stderr",
     "output_type": "stream",
     "text": [
      "wandb: \n",
      "wandb: Plotting RandomForestClassifier.\n",
      "wandb: Logged feature importances.\n",
      "wandb: Logged confusion matrix.\n",
      "wandb: Logged summary metrics.\n",
      "wandb: Logged class proportions.\n",
      "wandb: Logged calibration curve.\n",
      "wandb: Logged roc curve.\n",
      "wandb: Logged precision-recall curve.\n"
     ]
    },
    {
     "data": {
      "application/vnd.jupyter.widget-view+json": {
       "model_id": "86508f85186a46cbb6944c9aab9ec894",
       "version_major": 2,
       "version_minor": 0
      },
      "text/plain": [
       "VBox(children=(Label(value='1.758 MB of 1.758 MB uploaded\\r'), FloatProgress(value=1.0, max=1.0)))"
      ]
     },
     "metadata": {},
     "output_type": "display_data"
    },
    {
     "data": {
      "text/html": [
       "<style>\n",
       "    table.wandb td:nth-child(1) { padding: 0 10px; text-align: left ; width: auto;} td:nth-child(2) {text-align: left ; width: 100%}\n",
       "    .wandb-row { display: flex; flex-direction: row; flex-wrap: wrap; justify-content: flex-start; width: 100% }\n",
       "    .wandb-col { display: flex; flex-direction: column; flex-basis: 100%; flex: 1; padding: 10px; }\n",
       "    </style>\n",
       "<div class=\"wandb-row\"><div class=\"wandb-col\"><h3>Run history:</h3><br/><table class=\"wandb\"><tr><td>f1_score</td><td>▁</td></tr><tr><td>f1_score_train</td><td>▁</td></tr><tr><td>f1_score_valid</td><td>▁</td></tr></table><br/></div><div class=\"wandb-col\"><h3>Run summary:</h3><br/><table class=\"wandb\"><tr><td>f1_score</td><td>0.65903</td></tr><tr><td>f1_score_train</td><td>0.91742</td></tr><tr><td>f1_score_valid</td><td>0.58554</td></tr></table><br/></div></div>"
      ],
      "text/plain": [
       "<IPython.core.display.HTML object>"
      ]
     },
     "metadata": {},
     "output_type": "display_data"
    },
    {
     "data": {
      "text/html": [
       " View run <strong style=\"color:#cdcd00\">eager-sweep-73</strong> at: <a href='https://wandb.ai/harshmp/truck-delay-classification/runs/j60ra40h' target=\"_blank\">https://wandb.ai/harshmp/truck-delay-classification/runs/j60ra40h</a><br/>Synced 5 W&B file(s), 7 media file(s), 8 artifact file(s) and 1 other file(s)"
      ],
      "text/plain": [
       "<IPython.core.display.HTML object>"
      ]
     },
     "metadata": {},
     "output_type": "display_data"
    },
    {
     "data": {
      "text/html": [
       "Find logs at: <code>.\\wandb\\run-20240925_163314-j60ra40h\\logs</code>"
      ],
      "text/plain": [
       "<IPython.core.display.HTML object>"
      ]
     },
     "metadata": {},
     "output_type": "display_data"
    },
    {
     "name": "stderr",
     "output_type": "stream",
     "text": [
      "wandb: Agent Starting Run: aix4r6el with config:\n",
      "wandb: \tmax_depth: 20\n",
      "wandb: \tmin_samples_split: 8\n",
      "wandb: \tn_estimators: 12\n",
      "Failed to detect the name of this notebook, you can set it manually with the WANDB_NOTEBOOK_NAME environment variable to enable code saving.\n",
      "wandb: WARNING Ignored wandb.init() arg project when running a sweep.\n"
     ]
    },
    {
     "data": {
      "text/html": [
       "wandb version 0.18.1 is available!  To upgrade, please run:\n",
       " $ pip install wandb --upgrade"
      ],
      "text/plain": [
       "<IPython.core.display.HTML object>"
      ]
     },
     "metadata": {},
     "output_type": "display_data"
    },
    {
     "data": {
      "text/html": [
       "Tracking run with wandb version 0.16.1"
      ],
      "text/plain": [
       "<IPython.core.display.HTML object>"
      ]
     },
     "metadata": {},
     "output_type": "display_data"
    },
    {
     "data": {
      "text/html": [
       "Run data is saved locally in <code>e:\\Artificial Intelligence\\Projects\\Predictive-Truck-Delay-Management-in-Logistics\\wandb\\run-20240925_163334-aix4r6el</code>"
      ],
      "text/plain": [
       "<IPython.core.display.HTML object>"
      ]
     },
     "metadata": {},
     "output_type": "display_data"
    },
    {
     "data": {
      "text/html": [
       "Syncing run <strong><a href='https://wandb.ai/harshmp/truck-delay-classification/runs/aix4r6el' target=\"_blank\">restful-sweep-74</a></strong> to <a href='https://wandb.ai/harshmp/truck-delay-classification' target=\"_blank\">Weights & Biases</a> (<a href='https://wandb.me/run' target=\"_blank\">docs</a>)<br/>Sweep page: <a href='https://wandb.ai/harshmp/truck-delay-classification/sweeps/ilvq0mj4' target=\"_blank\">https://wandb.ai/harshmp/truck-delay-classification/sweeps/ilvq0mj4</a>"
      ],
      "text/plain": [
       "<IPython.core.display.HTML object>"
      ]
     },
     "metadata": {},
     "output_type": "display_data"
    },
    {
     "data": {
      "text/html": [
       " View project at <a href='https://wandb.ai/harshmp/truck-delay-classification' target=\"_blank\">https://wandb.ai/harshmp/truck-delay-classification</a>"
      ],
      "text/plain": [
       "<IPython.core.display.HTML object>"
      ]
     },
     "metadata": {},
     "output_type": "display_data"
    },
    {
     "data": {
      "text/html": [
       " View sweep at <a href='https://wandb.ai/harshmp/truck-delay-classification/sweeps/ilvq0mj4' target=\"_blank\">https://wandb.ai/harshmp/truck-delay-classification/sweeps/ilvq0mj4</a>"
      ],
      "text/plain": [
       "<IPython.core.display.HTML object>"
      ]
     },
     "metadata": {},
     "output_type": "display_data"
    },
    {
     "data": {
      "text/html": [
       " View run at <a href='https://wandb.ai/harshmp/truck-delay-classification/runs/aix4r6el' target=\"_blank\">https://wandb.ai/harshmp/truck-delay-classification/runs/aix4r6el</a>"
      ],
      "text/plain": [
       "<IPython.core.display.HTML object>"
      ]
     },
     "metadata": {},
     "output_type": "display_data"
    },
    {
     "name": "stdout",
     "output_type": "stream",
     "text": [
      "F1_score Train: 0.9348\n",
      "F1_score Valid: 0.6033\n",
      "F1_score Test: 0.6839\n"
     ]
    },
    {
     "name": "stderr",
     "output_type": "stream",
     "text": [
      "wandb: \n",
      "wandb: Plotting RandomForestClassifier.\n",
      "wandb: Logged feature importances.\n",
      "wandb: Logged confusion matrix.\n",
      "wandb: Logged summary metrics.\n",
      "wandb: Logged class proportions.\n",
      "wandb: Logged calibration curve.\n",
      "wandb: Logged roc curve.\n",
      "wandb: Logged precision-recall curve.\n"
     ]
    },
    {
     "data": {
      "application/vnd.jupyter.widget-view+json": {
       "model_id": "b0acb143371e49efb31e0e769e7e0b53",
       "version_major": 2,
       "version_minor": 0
      },
      "text/plain": [
       "VBox(children=(Label(value='2.570 MB of 2.570 MB uploaded\\r'), FloatProgress(value=1.0, max=1.0)))"
      ]
     },
     "metadata": {},
     "output_type": "display_data"
    },
    {
     "data": {
      "text/html": [
       "<style>\n",
       "    table.wandb td:nth-child(1) { padding: 0 10px; text-align: left ; width: auto;} td:nth-child(2) {text-align: left ; width: 100%}\n",
       "    .wandb-row { display: flex; flex-direction: row; flex-wrap: wrap; justify-content: flex-start; width: 100% }\n",
       "    .wandb-col { display: flex; flex-direction: column; flex-basis: 100%; flex: 1; padding: 10px; }\n",
       "    </style>\n",
       "<div class=\"wandb-row\"><div class=\"wandb-col\"><h3>Run history:</h3><br/><table class=\"wandb\"><tr><td>f1_score</td><td>▁</td></tr><tr><td>f1_score_train</td><td>▁</td></tr><tr><td>f1_score_valid</td><td>▁</td></tr></table><br/></div><div class=\"wandb-col\"><h3>Run summary:</h3><br/><table class=\"wandb\"><tr><td>f1_score</td><td>0.68391</td></tr><tr><td>f1_score_train</td><td>0.93479</td></tr><tr><td>f1_score_valid</td><td>0.60326</td></tr></table><br/></div></div>"
      ],
      "text/plain": [
       "<IPython.core.display.HTML object>"
      ]
     },
     "metadata": {},
     "output_type": "display_data"
    },
    {
     "data": {
      "text/html": [
       " View run <strong style=\"color:#cdcd00\">restful-sweep-74</strong> at: <a href='https://wandb.ai/harshmp/truck-delay-classification/runs/aix4r6el' target=\"_blank\">https://wandb.ai/harshmp/truck-delay-classification/runs/aix4r6el</a><br/>Synced 5 W&B file(s), 7 media file(s), 8 artifact file(s) and 1 other file(s)"
      ],
      "text/plain": [
       "<IPython.core.display.HTML object>"
      ]
     },
     "metadata": {},
     "output_type": "display_data"
    },
    {
     "data": {
      "text/html": [
       "Find logs at: <code>.\\wandb\\run-20240925_163334-aix4r6el\\logs</code>"
      ],
      "text/plain": [
       "<IPython.core.display.HTML object>"
      ]
     },
     "metadata": {},
     "output_type": "display_data"
    },
    {
     "name": "stderr",
     "output_type": "stream",
     "text": [
      "wandb: Agent Starting Run: ezc6c04o with config:\n",
      "wandb: \tmax_depth: 20\n",
      "wandb: \tmin_samples_split: 8\n",
      "wandb: \tn_estimators: 16\n",
      "Failed to detect the name of this notebook, you can set it manually with the WANDB_NOTEBOOK_NAME environment variable to enable code saving.\n",
      "wandb: WARNING Ignored wandb.init() arg project when running a sweep.\n"
     ]
    },
    {
     "data": {
      "text/html": [
       "wandb version 0.18.1 is available!  To upgrade, please run:\n",
       " $ pip install wandb --upgrade"
      ],
      "text/plain": [
       "<IPython.core.display.HTML object>"
      ]
     },
     "metadata": {},
     "output_type": "display_data"
    },
    {
     "data": {
      "text/html": [
       "Tracking run with wandb version 0.16.1"
      ],
      "text/plain": [
       "<IPython.core.display.HTML object>"
      ]
     },
     "metadata": {},
     "output_type": "display_data"
    },
    {
     "data": {
      "text/html": [
       "Run data is saved locally in <code>e:\\Artificial Intelligence\\Projects\\Predictive-Truck-Delay-Management-in-Logistics\\wandb\\run-20240925_163356-ezc6c04o</code>"
      ],
      "text/plain": [
       "<IPython.core.display.HTML object>"
      ]
     },
     "metadata": {},
     "output_type": "display_data"
    },
    {
     "data": {
      "text/html": [
       "Syncing run <strong><a href='https://wandb.ai/harshmp/truck-delay-classification/runs/ezc6c04o' target=\"_blank\">trim-sweep-75</a></strong> to <a href='https://wandb.ai/harshmp/truck-delay-classification' target=\"_blank\">Weights & Biases</a> (<a href='https://wandb.me/run' target=\"_blank\">docs</a>)<br/>Sweep page: <a href='https://wandb.ai/harshmp/truck-delay-classification/sweeps/ilvq0mj4' target=\"_blank\">https://wandb.ai/harshmp/truck-delay-classification/sweeps/ilvq0mj4</a>"
      ],
      "text/plain": [
       "<IPython.core.display.HTML object>"
      ]
     },
     "metadata": {},
     "output_type": "display_data"
    },
    {
     "data": {
      "text/html": [
       " View project at <a href='https://wandb.ai/harshmp/truck-delay-classification' target=\"_blank\">https://wandb.ai/harshmp/truck-delay-classification</a>"
      ],
      "text/plain": [
       "<IPython.core.display.HTML object>"
      ]
     },
     "metadata": {},
     "output_type": "display_data"
    },
    {
     "data": {
      "text/html": [
       " View sweep at <a href='https://wandb.ai/harshmp/truck-delay-classification/sweeps/ilvq0mj4' target=\"_blank\">https://wandb.ai/harshmp/truck-delay-classification/sweeps/ilvq0mj4</a>"
      ],
      "text/plain": [
       "<IPython.core.display.HTML object>"
      ]
     },
     "metadata": {},
     "output_type": "display_data"
    },
    {
     "data": {
      "text/html": [
       " View run at <a href='https://wandb.ai/harshmp/truck-delay-classification/runs/ezc6c04o' target=\"_blank\">https://wandb.ai/harshmp/truck-delay-classification/runs/ezc6c04o</a>"
      ],
      "text/plain": [
       "<IPython.core.display.HTML object>"
      ]
     },
     "metadata": {},
     "output_type": "display_data"
    },
    {
     "name": "stdout",
     "output_type": "stream",
     "text": [
      "F1_score Train: 0.9477\n",
      "F1_score Valid: 0.606\n",
      "F1_score Test: 0.6885\n"
     ]
    },
    {
     "name": "stderr",
     "output_type": "stream",
     "text": [
      "wandb: \n",
      "wandb: Plotting RandomForestClassifier.\n",
      "wandb: Logged feature importances.\n",
      "wandb: Logged confusion matrix.\n",
      "wandb: Logged summary metrics.\n",
      "wandb: Logged class proportions.\n",
      "wandb: Logged calibration curve.\n",
      "wandb: Logged roc curve.\n",
      "wandb: Logged precision-recall curve.\n"
     ]
    },
    {
     "data": {
      "application/vnd.jupyter.widget-view+json": {
       "model_id": "2d4c7309a4dc42a38d043c88baf7fbbe",
       "version_major": 2,
       "version_minor": 0
      },
      "text/plain": [
       "VBox(children=(Label(value='3.390 MB of 3.390 MB uploaded\\r'), FloatProgress(value=1.0, max=1.0)))"
      ]
     },
     "metadata": {},
     "output_type": "display_data"
    },
    {
     "data": {
      "text/html": [
       "<style>\n",
       "    table.wandb td:nth-child(1) { padding: 0 10px; text-align: left ; width: auto;} td:nth-child(2) {text-align: left ; width: 100%}\n",
       "    .wandb-row { display: flex; flex-direction: row; flex-wrap: wrap; justify-content: flex-start; width: 100% }\n",
       "    .wandb-col { display: flex; flex-direction: column; flex-basis: 100%; flex: 1; padding: 10px; }\n",
       "    </style>\n",
       "<div class=\"wandb-row\"><div class=\"wandb-col\"><h3>Run history:</h3><br/><table class=\"wandb\"><tr><td>f1_score</td><td>▁</td></tr><tr><td>f1_score_train</td><td>▁</td></tr><tr><td>f1_score_valid</td><td>▁</td></tr></table><br/></div><div class=\"wandb-col\"><h3>Run summary:</h3><br/><table class=\"wandb\"><tr><td>f1_score</td><td>0.6885</td></tr><tr><td>f1_score_train</td><td>0.94772</td></tr><tr><td>f1_score_valid</td><td>0.60597</td></tr></table><br/></div></div>"
      ],
      "text/plain": [
       "<IPython.core.display.HTML object>"
      ]
     },
     "metadata": {},
     "output_type": "display_data"
    },
    {
     "data": {
      "text/html": [
       " View run <strong style=\"color:#cdcd00\">trim-sweep-75</strong> at: <a href='https://wandb.ai/harshmp/truck-delay-classification/runs/ezc6c04o' target=\"_blank\">https://wandb.ai/harshmp/truck-delay-classification/runs/ezc6c04o</a><br/>Synced 5 W&B file(s), 7 media file(s), 8 artifact file(s) and 1 other file(s)"
      ],
      "text/plain": [
       "<IPython.core.display.HTML object>"
      ]
     },
     "metadata": {},
     "output_type": "display_data"
    },
    {
     "data": {
      "text/html": [
       "Find logs at: <code>.\\wandb\\run-20240925_163356-ezc6c04o\\logs</code>"
      ],
      "text/plain": [
       "<IPython.core.display.HTML object>"
      ]
     },
     "metadata": {},
     "output_type": "display_data"
    },
    {
     "name": "stderr",
     "output_type": "stream",
     "text": [
      "wandb: Agent Starting Run: 81seiwws with config:\n",
      "wandb: \tmax_depth: 20\n",
      "wandb: \tmin_samples_split: 8\n",
      "wandb: \tn_estimators: 20\n",
      "Failed to detect the name of this notebook, you can set it manually with the WANDB_NOTEBOOK_NAME environment variable to enable code saving.\n",
      "wandb: WARNING Ignored wandb.init() arg project when running a sweep.\n"
     ]
    },
    {
     "data": {
      "text/html": [
       "wandb version 0.18.1 is available!  To upgrade, please run:\n",
       " $ pip install wandb --upgrade"
      ],
      "text/plain": [
       "<IPython.core.display.HTML object>"
      ]
     },
     "metadata": {},
     "output_type": "display_data"
    },
    {
     "data": {
      "text/html": [
       "Tracking run with wandb version 0.16.1"
      ],
      "text/plain": [
       "<IPython.core.display.HTML object>"
      ]
     },
     "metadata": {},
     "output_type": "display_data"
    },
    {
     "data": {
      "text/html": [
       "Run data is saved locally in <code>e:\\Artificial Intelligence\\Projects\\Predictive-Truck-Delay-Management-in-Logistics\\wandb\\run-20240925_163417-81seiwws</code>"
      ],
      "text/plain": [
       "<IPython.core.display.HTML object>"
      ]
     },
     "metadata": {},
     "output_type": "display_data"
    },
    {
     "data": {
      "text/html": [
       "Syncing run <strong><a href='https://wandb.ai/harshmp/truck-delay-classification/runs/81seiwws' target=\"_blank\">grateful-sweep-76</a></strong> to <a href='https://wandb.ai/harshmp/truck-delay-classification' target=\"_blank\">Weights & Biases</a> (<a href='https://wandb.me/run' target=\"_blank\">docs</a>)<br/>Sweep page: <a href='https://wandb.ai/harshmp/truck-delay-classification/sweeps/ilvq0mj4' target=\"_blank\">https://wandb.ai/harshmp/truck-delay-classification/sweeps/ilvq0mj4</a>"
      ],
      "text/plain": [
       "<IPython.core.display.HTML object>"
      ]
     },
     "metadata": {},
     "output_type": "display_data"
    },
    {
     "data": {
      "text/html": [
       " View project at <a href='https://wandb.ai/harshmp/truck-delay-classification' target=\"_blank\">https://wandb.ai/harshmp/truck-delay-classification</a>"
      ],
      "text/plain": [
       "<IPython.core.display.HTML object>"
      ]
     },
     "metadata": {},
     "output_type": "display_data"
    },
    {
     "data": {
      "text/html": [
       " View sweep at <a href='https://wandb.ai/harshmp/truck-delay-classification/sweeps/ilvq0mj4' target=\"_blank\">https://wandb.ai/harshmp/truck-delay-classification/sweeps/ilvq0mj4</a>"
      ],
      "text/plain": [
       "<IPython.core.display.HTML object>"
      ]
     },
     "metadata": {},
     "output_type": "display_data"
    },
    {
     "data": {
      "text/html": [
       " View run at <a href='https://wandb.ai/harshmp/truck-delay-classification/runs/81seiwws' target=\"_blank\">https://wandb.ai/harshmp/truck-delay-classification/runs/81seiwws</a>"
      ],
      "text/plain": [
       "<IPython.core.display.HTML object>"
      ]
     },
     "metadata": {},
     "output_type": "display_data"
    },
    {
     "name": "stdout",
     "output_type": "stream",
     "text": [
      "F1_score Train: 0.9531\n",
      "F1_score Valid: 0.6083\n",
      "F1_score Test: 0.6897\n"
     ]
    },
    {
     "name": "stderr",
     "output_type": "stream",
     "text": [
      "wandb: \n",
      "wandb: Plotting RandomForestClassifier.\n",
      "wandb: Logged feature importances.\n",
      "wandb: Logged confusion matrix.\n",
      "wandb: Logged summary metrics.\n",
      "wandb: Logged class proportions.\n",
      "wandb: Logged calibration curve.\n",
      "wandb: Logged roc curve.\n",
      "wandb: Logged precision-recall curve.\n"
     ]
    },
    {
     "data": {
      "application/vnd.jupyter.widget-view+json": {
       "model_id": "094330378b914a2b904707b411097a8d",
       "version_major": 2,
       "version_minor": 0
      },
      "text/plain": [
       "VBox(children=(Label(value='4.266 MB of 4.266 MB uploaded\\r'), FloatProgress(value=1.0, max=1.0)))"
      ]
     },
     "metadata": {},
     "output_type": "display_data"
    },
    {
     "data": {
      "text/html": [
       "<style>\n",
       "    table.wandb td:nth-child(1) { padding: 0 10px; text-align: left ; width: auto;} td:nth-child(2) {text-align: left ; width: 100%}\n",
       "    .wandb-row { display: flex; flex-direction: row; flex-wrap: wrap; justify-content: flex-start; width: 100% }\n",
       "    .wandb-col { display: flex; flex-direction: column; flex-basis: 100%; flex: 1; padding: 10px; }\n",
       "    </style>\n",
       "<div class=\"wandb-row\"><div class=\"wandb-col\"><h3>Run history:</h3><br/><table class=\"wandb\"><tr><td>f1_score</td><td>▁</td></tr><tr><td>f1_score_train</td><td>▁</td></tr><tr><td>f1_score_valid</td><td>▁</td></tr></table><br/></div><div class=\"wandb-col\"><h3>Run summary:</h3><br/><table class=\"wandb\"><tr><td>f1_score</td><td>0.68966</td></tr><tr><td>f1_score_train</td><td>0.95306</td></tr><tr><td>f1_score_valid</td><td>0.60826</td></tr></table><br/></div></div>"
      ],
      "text/plain": [
       "<IPython.core.display.HTML object>"
      ]
     },
     "metadata": {},
     "output_type": "display_data"
    },
    {
     "data": {
      "text/html": [
       " View run <strong style=\"color:#cdcd00\">grateful-sweep-76</strong> at: <a href='https://wandb.ai/harshmp/truck-delay-classification/runs/81seiwws' target=\"_blank\">https://wandb.ai/harshmp/truck-delay-classification/runs/81seiwws</a><br/>Synced 5 W&B file(s), 7 media file(s), 8 artifact file(s) and 1 other file(s)"
      ],
      "text/plain": [
       "<IPython.core.display.HTML object>"
      ]
     },
     "metadata": {},
     "output_type": "display_data"
    },
    {
     "data": {
      "text/html": [
       "Find logs at: <code>.\\wandb\\run-20240925_163417-81seiwws\\logs</code>"
      ],
      "text/plain": [
       "<IPython.core.display.HTML object>"
      ]
     },
     "metadata": {},
     "output_type": "display_data"
    },
    {
     "name": "stderr",
     "output_type": "stream",
     "text": [
      "wandb: Agent Starting Run: gxn229qs with config:\n",
      "wandb: \tmax_depth: 20\n",
      "wandb: \tmin_samples_split: 12\n",
      "wandb: \tn_estimators: 8\n",
      "Failed to detect the name of this notebook, you can set it manually with the WANDB_NOTEBOOK_NAME environment variable to enable code saving.\n",
      "wandb: WARNING Ignored wandb.init() arg project when running a sweep.\n"
     ]
    },
    {
     "data": {
      "text/html": [
       "wandb version 0.18.1 is available!  To upgrade, please run:\n",
       " $ pip install wandb --upgrade"
      ],
      "text/plain": [
       "<IPython.core.display.HTML object>"
      ]
     },
     "metadata": {},
     "output_type": "display_data"
    },
    {
     "data": {
      "text/html": [
       "Tracking run with wandb version 0.16.1"
      ],
      "text/plain": [
       "<IPython.core.display.HTML object>"
      ]
     },
     "metadata": {},
     "output_type": "display_data"
    },
    {
     "data": {
      "text/html": [
       "Run data is saved locally in <code>e:\\Artificial Intelligence\\Projects\\Predictive-Truck-Delay-Management-in-Logistics\\wandb\\run-20240925_163436-gxn229qs</code>"
      ],
      "text/plain": [
       "<IPython.core.display.HTML object>"
      ]
     },
     "metadata": {},
     "output_type": "display_data"
    },
    {
     "data": {
      "text/html": [
       "Syncing run <strong><a href='https://wandb.ai/harshmp/truck-delay-classification/runs/gxn229qs' target=\"_blank\">atomic-sweep-77</a></strong> to <a href='https://wandb.ai/harshmp/truck-delay-classification' target=\"_blank\">Weights & Biases</a> (<a href='https://wandb.me/run' target=\"_blank\">docs</a>)<br/>Sweep page: <a href='https://wandb.ai/harshmp/truck-delay-classification/sweeps/ilvq0mj4' target=\"_blank\">https://wandb.ai/harshmp/truck-delay-classification/sweeps/ilvq0mj4</a>"
      ],
      "text/plain": [
       "<IPython.core.display.HTML object>"
      ]
     },
     "metadata": {},
     "output_type": "display_data"
    },
    {
     "data": {
      "text/html": [
       " View project at <a href='https://wandb.ai/harshmp/truck-delay-classification' target=\"_blank\">https://wandb.ai/harshmp/truck-delay-classification</a>"
      ],
      "text/plain": [
       "<IPython.core.display.HTML object>"
      ]
     },
     "metadata": {},
     "output_type": "display_data"
    },
    {
     "data": {
      "text/html": [
       " View sweep at <a href='https://wandb.ai/harshmp/truck-delay-classification/sweeps/ilvq0mj4' target=\"_blank\">https://wandb.ai/harshmp/truck-delay-classification/sweeps/ilvq0mj4</a>"
      ],
      "text/plain": [
       "<IPython.core.display.HTML object>"
      ]
     },
     "metadata": {},
     "output_type": "display_data"
    },
    {
     "data": {
      "text/html": [
       " View run at <a href='https://wandb.ai/harshmp/truck-delay-classification/runs/gxn229qs' target=\"_blank\">https://wandb.ai/harshmp/truck-delay-classification/runs/gxn229qs</a>"
      ],
      "text/plain": [
       "<IPython.core.display.HTML object>"
      ]
     },
     "metadata": {},
     "output_type": "display_data"
    },
    {
     "name": "stdout",
     "output_type": "stream",
     "text": [
      "F1_score Train: 0.8859\n",
      "F1_score Valid: 0.5811\n",
      "F1_score Test: 0.6818\n"
     ]
    },
    {
     "name": "stderr",
     "output_type": "stream",
     "text": [
      "wandb: \n",
      "wandb: Plotting RandomForestClassifier.\n",
      "wandb: Logged feature importances.\n",
      "wandb: Logged confusion matrix.\n",
      "wandb: Logged summary metrics.\n",
      "wandb: Logged class proportions.\n",
      "wandb: Logged calibration curve.\n",
      "wandb: Logged roc curve.\n",
      "wandb: Logged precision-recall curve.\n"
     ]
    },
    {
     "data": {
      "application/vnd.jupyter.widget-view+json": {
       "model_id": "7e8a10f354064191b488bc331f6162c5",
       "version_major": 2,
       "version_minor": 0
      },
      "text/plain": [
       "VBox(children=(Label(value='1.413 MB of 1.413 MB uploaded\\r'), FloatProgress(value=1.0, max=1.0)))"
      ]
     },
     "metadata": {},
     "output_type": "display_data"
    },
    {
     "data": {
      "text/html": [
       "<style>\n",
       "    table.wandb td:nth-child(1) { padding: 0 10px; text-align: left ; width: auto;} td:nth-child(2) {text-align: left ; width: 100%}\n",
       "    .wandb-row { display: flex; flex-direction: row; flex-wrap: wrap; justify-content: flex-start; width: 100% }\n",
       "    .wandb-col { display: flex; flex-direction: column; flex-basis: 100%; flex: 1; padding: 10px; }\n",
       "    </style>\n",
       "<div class=\"wandb-row\"><div class=\"wandb-col\"><h3>Run history:</h3><br/><table class=\"wandb\"><tr><td>f1_score</td><td>▁</td></tr><tr><td>f1_score_train</td><td>▁</td></tr><tr><td>f1_score_valid</td><td>▁</td></tr></table><br/></div><div class=\"wandb-col\"><h3>Run summary:</h3><br/><table class=\"wandb\"><tr><td>f1_score</td><td>0.68175</td></tr><tr><td>f1_score_train</td><td>0.88591</td></tr><tr><td>f1_score_valid</td><td>0.58114</td></tr></table><br/></div></div>"
      ],
      "text/plain": [
       "<IPython.core.display.HTML object>"
      ]
     },
     "metadata": {},
     "output_type": "display_data"
    },
    {
     "data": {
      "text/html": [
       " View run <strong style=\"color:#cdcd00\">atomic-sweep-77</strong> at: <a href='https://wandb.ai/harshmp/truck-delay-classification/runs/gxn229qs' target=\"_blank\">https://wandb.ai/harshmp/truck-delay-classification/runs/gxn229qs</a><br/>Synced 5 W&B file(s), 7 media file(s), 8 artifact file(s) and 1 other file(s)"
      ],
      "text/plain": [
       "<IPython.core.display.HTML object>"
      ]
     },
     "metadata": {},
     "output_type": "display_data"
    },
    {
     "data": {
      "text/html": [
       "Find logs at: <code>.\\wandb\\run-20240925_163436-gxn229qs\\logs</code>"
      ],
      "text/plain": [
       "<IPython.core.display.HTML object>"
      ]
     },
     "metadata": {},
     "output_type": "display_data"
    },
    {
     "name": "stderr",
     "output_type": "stream",
     "text": [
      "wandb: Sweep Agent: Waiting for job.\n",
      "wandb: Job received.\n",
      "wandb: Agent Starting Run: 819qjjhr with config:\n",
      "wandb: \tmax_depth: 20\n",
      "wandb: \tmin_samples_split: 12\n",
      "wandb: \tn_estimators: 12\n",
      "Failed to detect the name of this notebook, you can set it manually with the WANDB_NOTEBOOK_NAME environment variable to enable code saving.\n",
      "wandb: WARNING Ignored wandb.init() arg project when running a sweep.\n"
     ]
    },
    {
     "data": {
      "text/html": [
       "wandb version 0.18.1 is available!  To upgrade, please run:\n",
       " $ pip install wandb --upgrade"
      ],
      "text/plain": [
       "<IPython.core.display.HTML object>"
      ]
     },
     "metadata": {},
     "output_type": "display_data"
    },
    {
     "data": {
      "text/html": [
       "Tracking run with wandb version 0.16.1"
      ],
      "text/plain": [
       "<IPython.core.display.HTML object>"
      ]
     },
     "metadata": {},
     "output_type": "display_data"
    },
    {
     "data": {
      "text/html": [
       "Run data is saved locally in <code>e:\\Artificial Intelligence\\Projects\\Predictive-Truck-Delay-Management-in-Logistics\\wandb\\run-20240925_163507-819qjjhr</code>"
      ],
      "text/plain": [
       "<IPython.core.display.HTML object>"
      ]
     },
     "metadata": {},
     "output_type": "display_data"
    },
    {
     "data": {
      "text/html": [
       "Syncing run <strong><a href='https://wandb.ai/harshmp/truck-delay-classification/runs/819qjjhr' target=\"_blank\">logical-sweep-78</a></strong> to <a href='https://wandb.ai/harshmp/truck-delay-classification' target=\"_blank\">Weights & Biases</a> (<a href='https://wandb.me/run' target=\"_blank\">docs</a>)<br/>Sweep page: <a href='https://wandb.ai/harshmp/truck-delay-classification/sweeps/ilvq0mj4' target=\"_blank\">https://wandb.ai/harshmp/truck-delay-classification/sweeps/ilvq0mj4</a>"
      ],
      "text/plain": [
       "<IPython.core.display.HTML object>"
      ]
     },
     "metadata": {},
     "output_type": "display_data"
    },
    {
     "data": {
      "text/html": [
       " View project at <a href='https://wandb.ai/harshmp/truck-delay-classification' target=\"_blank\">https://wandb.ai/harshmp/truck-delay-classification</a>"
      ],
      "text/plain": [
       "<IPython.core.display.HTML object>"
      ]
     },
     "metadata": {},
     "output_type": "display_data"
    },
    {
     "data": {
      "text/html": [
       " View sweep at <a href='https://wandb.ai/harshmp/truck-delay-classification/sweeps/ilvq0mj4' target=\"_blank\">https://wandb.ai/harshmp/truck-delay-classification/sweeps/ilvq0mj4</a>"
      ],
      "text/plain": [
       "<IPython.core.display.HTML object>"
      ]
     },
     "metadata": {},
     "output_type": "display_data"
    },
    {
     "data": {
      "text/html": [
       " View run at <a href='https://wandb.ai/harshmp/truck-delay-classification/runs/819qjjhr' target=\"_blank\">https://wandb.ai/harshmp/truck-delay-classification/runs/819qjjhr</a>"
      ],
      "text/plain": [
       "<IPython.core.display.HTML object>"
      ]
     },
     "metadata": {},
     "output_type": "display_data"
    },
    {
     "name": "stdout",
     "output_type": "stream",
     "text": [
      "F1_score Train: 0.9029\n",
      "F1_score Valid: 0.5955\n",
      "F1_score Test: 0.707\n"
     ]
    },
    {
     "name": "stderr",
     "output_type": "stream",
     "text": [
      "wandb: \n",
      "wandb: Plotting RandomForestClassifier.\n",
      "wandb: Logged feature importances.\n",
      "wandb: Logged confusion matrix.\n",
      "wandb: Logged summary metrics.\n",
      "wandb: Logged class proportions.\n",
      "wandb: Logged calibration curve.\n",
      "wandb: Logged roc curve.\n",
      "wandb: Logged precision-recall curve.\n"
     ]
    },
    {
     "data": {
      "application/vnd.jupyter.widget-view+json": {
       "model_id": "1e47543067e6416695c7f007a7634ab4",
       "version_major": 2,
       "version_minor": 0
      },
      "text/plain": [
       "VBox(children=(Label(value='2.111 MB of 2.111 MB uploaded\\r'), FloatProgress(value=1.0, max=1.0)))"
      ]
     },
     "metadata": {},
     "output_type": "display_data"
    },
    {
     "data": {
      "text/html": [
       "<style>\n",
       "    table.wandb td:nth-child(1) { padding: 0 10px; text-align: left ; width: auto;} td:nth-child(2) {text-align: left ; width: 100%}\n",
       "    .wandb-row { display: flex; flex-direction: row; flex-wrap: wrap; justify-content: flex-start; width: 100% }\n",
       "    .wandb-col { display: flex; flex-direction: column; flex-basis: 100%; flex: 1; padding: 10px; }\n",
       "    </style>\n",
       "<div class=\"wandb-row\"><div class=\"wandb-col\"><h3>Run history:</h3><br/><table class=\"wandb\"><tr><td>f1_score</td><td>▁</td></tr><tr><td>f1_score_train</td><td>▁</td></tr><tr><td>f1_score_valid</td><td>▁</td></tr></table><br/></div><div class=\"wandb-col\"><h3>Run summary:</h3><br/><table class=\"wandb\"><tr><td>f1_score</td><td>0.70703</td></tr><tr><td>f1_score_train</td><td>0.90293</td></tr><tr><td>f1_score_valid</td><td>0.59547</td></tr></table><br/></div></div>"
      ],
      "text/plain": [
       "<IPython.core.display.HTML object>"
      ]
     },
     "metadata": {},
     "output_type": "display_data"
    },
    {
     "data": {
      "text/html": [
       " View run <strong style=\"color:#cdcd00\">logical-sweep-78</strong> at: <a href='https://wandb.ai/harshmp/truck-delay-classification/runs/819qjjhr' target=\"_blank\">https://wandb.ai/harshmp/truck-delay-classification/runs/819qjjhr</a><br/>Synced 5 W&B file(s), 7 media file(s), 8 artifact file(s) and 1 other file(s)"
      ],
      "text/plain": [
       "<IPython.core.display.HTML object>"
      ]
     },
     "metadata": {},
     "output_type": "display_data"
    },
    {
     "data": {
      "text/html": [
       "Find logs at: <code>.\\wandb\\run-20240925_163507-819qjjhr\\logs</code>"
      ],
      "text/plain": [
       "<IPython.core.display.HTML object>"
      ]
     },
     "metadata": {},
     "output_type": "display_data"
    },
    {
     "name": "stderr",
     "output_type": "stream",
     "text": [
      "wandb: Agent Starting Run: npegtksr with config:\n",
      "wandb: \tmax_depth: 20\n",
      "wandb: \tmin_samples_split: 12\n",
      "wandb: \tn_estimators: 16\n",
      "Failed to detect the name of this notebook, you can set it manually with the WANDB_NOTEBOOK_NAME environment variable to enable code saving.\n",
      "wandb: WARNING Ignored wandb.init() arg project when running a sweep.\n"
     ]
    },
    {
     "data": {
      "text/html": [
       "wandb version 0.18.1 is available!  To upgrade, please run:\n",
       " $ pip install wandb --upgrade"
      ],
      "text/plain": [
       "<IPython.core.display.HTML object>"
      ]
     },
     "metadata": {},
     "output_type": "display_data"
    },
    {
     "data": {
      "text/html": [
       "Tracking run with wandb version 0.16.1"
      ],
      "text/plain": [
       "<IPython.core.display.HTML object>"
      ]
     },
     "metadata": {},
     "output_type": "display_data"
    },
    {
     "data": {
      "text/html": [
       "Run data is saved locally in <code>e:\\Artificial Intelligence\\Projects\\Predictive-Truck-Delay-Management-in-Logistics\\wandb\\run-20240925_163528-npegtksr</code>"
      ],
      "text/plain": [
       "<IPython.core.display.HTML object>"
      ]
     },
     "metadata": {},
     "output_type": "display_data"
    },
    {
     "data": {
      "text/html": [
       "Syncing run <strong><a href='https://wandb.ai/harshmp/truck-delay-classification/runs/npegtksr' target=\"_blank\">hopeful-sweep-79</a></strong> to <a href='https://wandb.ai/harshmp/truck-delay-classification' target=\"_blank\">Weights & Biases</a> (<a href='https://wandb.me/run' target=\"_blank\">docs</a>)<br/>Sweep page: <a href='https://wandb.ai/harshmp/truck-delay-classification/sweeps/ilvq0mj4' target=\"_blank\">https://wandb.ai/harshmp/truck-delay-classification/sweeps/ilvq0mj4</a>"
      ],
      "text/plain": [
       "<IPython.core.display.HTML object>"
      ]
     },
     "metadata": {},
     "output_type": "display_data"
    },
    {
     "data": {
      "text/html": [
       " View project at <a href='https://wandb.ai/harshmp/truck-delay-classification' target=\"_blank\">https://wandb.ai/harshmp/truck-delay-classification</a>"
      ],
      "text/plain": [
       "<IPython.core.display.HTML object>"
      ]
     },
     "metadata": {},
     "output_type": "display_data"
    },
    {
     "data": {
      "text/html": [
       " View sweep at <a href='https://wandb.ai/harshmp/truck-delay-classification/sweeps/ilvq0mj4' target=\"_blank\">https://wandb.ai/harshmp/truck-delay-classification/sweeps/ilvq0mj4</a>"
      ],
      "text/plain": [
       "<IPython.core.display.HTML object>"
      ]
     },
     "metadata": {},
     "output_type": "display_data"
    },
    {
     "data": {
      "text/html": [
       " View run at <a href='https://wandb.ai/harshmp/truck-delay-classification/runs/npegtksr' target=\"_blank\">https://wandb.ai/harshmp/truck-delay-classification/runs/npegtksr</a>"
      ],
      "text/plain": [
       "<IPython.core.display.HTML object>"
      ]
     },
     "metadata": {},
     "output_type": "display_data"
    },
    {
     "name": "stdout",
     "output_type": "stream",
     "text": [
      "F1_score Train: 0.9124\n",
      "F1_score Valid: 0.59\n",
      "F1_score Test: 0.7183\n"
     ]
    },
    {
     "name": "stderr",
     "output_type": "stream",
     "text": [
      "wandb: \n",
      "wandb: Plotting RandomForestClassifier.\n",
      "wandb: Logged feature importances.\n",
      "wandb: Logged confusion matrix.\n",
      "wandb: Logged summary metrics.\n",
      "wandb: Logged class proportions.\n",
      "wandb: Logged calibration curve.\n",
      "wandb: Logged roc curve.\n",
      "wandb: Logged precision-recall curve.\n"
     ]
    },
    {
     "data": {
      "application/vnd.jupyter.widget-view+json": {
       "model_id": "9eb1a708e897426f91572cfd6db6a5af",
       "version_major": 2,
       "version_minor": 0
      },
      "text/plain": [
       "VBox(children=(Label(value='2.750 MB of 2.750 MB uploaded\\r'), FloatProgress(value=1.0, max=1.0)))"
      ]
     },
     "metadata": {},
     "output_type": "display_data"
    },
    {
     "data": {
      "text/html": [
       "<style>\n",
       "    table.wandb td:nth-child(1) { padding: 0 10px; text-align: left ; width: auto;} td:nth-child(2) {text-align: left ; width: 100%}\n",
       "    .wandb-row { display: flex; flex-direction: row; flex-wrap: wrap; justify-content: flex-start; width: 100% }\n",
       "    .wandb-col { display: flex; flex-direction: column; flex-basis: 100%; flex: 1; padding: 10px; }\n",
       "    </style>\n",
       "<div class=\"wandb-row\"><div class=\"wandb-col\"><h3>Run history:</h3><br/><table class=\"wandb\"><tr><td>f1_score</td><td>▁</td></tr><tr><td>f1_score_train</td><td>▁</td></tr><tr><td>f1_score_valid</td><td>▁</td></tr></table><br/></div><div class=\"wandb-col\"><h3>Run summary:</h3><br/><table class=\"wandb\"><tr><td>f1_score</td><td>0.71831</td></tr><tr><td>f1_score_train</td><td>0.91238</td></tr><tr><td>f1_score_valid</td><td>0.59</td></tr></table><br/></div></div>"
      ],
      "text/plain": [
       "<IPython.core.display.HTML object>"
      ]
     },
     "metadata": {},
     "output_type": "display_data"
    },
    {
     "data": {
      "text/html": [
       " View run <strong style=\"color:#cdcd00\">hopeful-sweep-79</strong> at: <a href='https://wandb.ai/harshmp/truck-delay-classification/runs/npegtksr' target=\"_blank\">https://wandb.ai/harshmp/truck-delay-classification/runs/npegtksr</a><br/>Synced 5 W&B file(s), 7 media file(s), 8 artifact file(s) and 1 other file(s)"
      ],
      "text/plain": [
       "<IPython.core.display.HTML object>"
      ]
     },
     "metadata": {},
     "output_type": "display_data"
    },
    {
     "data": {
      "text/html": [
       "Find logs at: <code>.\\wandb\\run-20240925_163528-npegtksr\\logs</code>"
      ],
      "text/plain": [
       "<IPython.core.display.HTML object>"
      ]
     },
     "metadata": {},
     "output_type": "display_data"
    },
    {
     "name": "stderr",
     "output_type": "stream",
     "text": [
      "wandb: Agent Starting Run: kvhndqvc with config:\n",
      "wandb: \tmax_depth: 20\n",
      "wandb: \tmin_samples_split: 12\n",
      "wandb: \tn_estimators: 20\n",
      "Failed to detect the name of this notebook, you can set it manually with the WANDB_NOTEBOOK_NAME environment variable to enable code saving.\n",
      "wandb: WARNING Ignored wandb.init() arg project when running a sweep.\n"
     ]
    },
    {
     "data": {
      "text/html": [
       "wandb version 0.18.1 is available!  To upgrade, please run:\n",
       " $ pip install wandb --upgrade"
      ],
      "text/plain": [
       "<IPython.core.display.HTML object>"
      ]
     },
     "metadata": {},
     "output_type": "display_data"
    },
    {
     "data": {
      "text/html": [
       "Tracking run with wandb version 0.16.1"
      ],
      "text/plain": [
       "<IPython.core.display.HTML object>"
      ]
     },
     "metadata": {},
     "output_type": "display_data"
    },
    {
     "data": {
      "text/html": [
       "Run data is saved locally in <code>e:\\Artificial Intelligence\\Projects\\Predictive-Truck-Delay-Management-in-Logistics\\wandb\\run-20240925_163553-kvhndqvc</code>"
      ],
      "text/plain": [
       "<IPython.core.display.HTML object>"
      ]
     },
     "metadata": {},
     "output_type": "display_data"
    },
    {
     "data": {
      "text/html": [
       "Syncing run <strong><a href='https://wandb.ai/harshmp/truck-delay-classification/runs/kvhndqvc' target=\"_blank\">giddy-sweep-80</a></strong> to <a href='https://wandb.ai/harshmp/truck-delay-classification' target=\"_blank\">Weights & Biases</a> (<a href='https://wandb.me/run' target=\"_blank\">docs</a>)<br/>Sweep page: <a href='https://wandb.ai/harshmp/truck-delay-classification/sweeps/ilvq0mj4' target=\"_blank\">https://wandb.ai/harshmp/truck-delay-classification/sweeps/ilvq0mj4</a>"
      ],
      "text/plain": [
       "<IPython.core.display.HTML object>"
      ]
     },
     "metadata": {},
     "output_type": "display_data"
    },
    {
     "data": {
      "text/html": [
       " View project at <a href='https://wandb.ai/harshmp/truck-delay-classification' target=\"_blank\">https://wandb.ai/harshmp/truck-delay-classification</a>"
      ],
      "text/plain": [
       "<IPython.core.display.HTML object>"
      ]
     },
     "metadata": {},
     "output_type": "display_data"
    },
    {
     "data": {
      "text/html": [
       " View sweep at <a href='https://wandb.ai/harshmp/truck-delay-classification/sweeps/ilvq0mj4' target=\"_blank\">https://wandb.ai/harshmp/truck-delay-classification/sweeps/ilvq0mj4</a>"
      ],
      "text/plain": [
       "<IPython.core.display.HTML object>"
      ]
     },
     "metadata": {},
     "output_type": "display_data"
    },
    {
     "data": {
      "text/html": [
       " View run at <a href='https://wandb.ai/harshmp/truck-delay-classification/runs/kvhndqvc' target=\"_blank\">https://wandb.ai/harshmp/truck-delay-classification/runs/kvhndqvc</a>"
      ],
      "text/plain": [
       "<IPython.core.display.HTML object>"
      ]
     },
     "metadata": {},
     "output_type": "display_data"
    },
    {
     "name": "stdout",
     "output_type": "stream",
     "text": [
      "F1_score Train: 0.9194\n",
      "F1_score Valid: 0.6063\n",
      "F1_score Test: 0.7133\n"
     ]
    },
    {
     "name": "stderr",
     "output_type": "stream",
     "text": [
      "wandb: \n",
      "wandb: Plotting RandomForestClassifier.\n",
      "wandb: Logged feature importances.\n",
      "wandb: Logged confusion matrix.\n",
      "wandb: Logged summary metrics.\n",
      "wandb: Logged class proportions.\n",
      "wandb: Logged calibration curve.\n",
      "wandb: Logged roc curve.\n",
      "wandb: Logged precision-recall curve.\n"
     ]
    },
    {
     "data": {
      "application/vnd.jupyter.widget-view+json": {
       "model_id": "b74d6baed57f4220bcccb94abbbf18da",
       "version_major": 2,
       "version_minor": 0
      },
      "text/plain": [
       "VBox(children=(Label(value='3.461 MB of 3.461 MB uploaded\\r'), FloatProgress(value=1.0, max=1.0)))"
      ]
     },
     "metadata": {},
     "output_type": "display_data"
    },
    {
     "data": {
      "text/html": [
       "<style>\n",
       "    table.wandb td:nth-child(1) { padding: 0 10px; text-align: left ; width: auto;} td:nth-child(2) {text-align: left ; width: 100%}\n",
       "    .wandb-row { display: flex; flex-direction: row; flex-wrap: wrap; justify-content: flex-start; width: 100% }\n",
       "    .wandb-col { display: flex; flex-direction: column; flex-basis: 100%; flex: 1; padding: 10px; }\n",
       "    </style>\n",
       "<div class=\"wandb-row\"><div class=\"wandb-col\"><h3>Run history:</h3><br/><table class=\"wandb\"><tr><td>f1_score</td><td>▁</td></tr><tr><td>f1_score_train</td><td>▁</td></tr><tr><td>f1_score_valid</td><td>▁</td></tr></table><br/></div><div class=\"wandb-col\"><h3>Run summary:</h3><br/><table class=\"wandb\"><tr><td>f1_score</td><td>0.71327</td></tr><tr><td>f1_score_train</td><td>0.91936</td></tr><tr><td>f1_score_valid</td><td>0.60632</td></tr></table><br/></div></div>"
      ],
      "text/plain": [
       "<IPython.core.display.HTML object>"
      ]
     },
     "metadata": {},
     "output_type": "display_data"
    },
    {
     "data": {
      "text/html": [
       " View run <strong style=\"color:#cdcd00\">giddy-sweep-80</strong> at: <a href='https://wandb.ai/harshmp/truck-delay-classification/runs/kvhndqvc' target=\"_blank\">https://wandb.ai/harshmp/truck-delay-classification/runs/kvhndqvc</a><br/>Synced 5 W&B file(s), 7 media file(s), 8 artifact file(s) and 1 other file(s)"
      ],
      "text/plain": [
       "<IPython.core.display.HTML object>"
      ]
     },
     "metadata": {},
     "output_type": "display_data"
    },
    {
     "data": {
      "text/html": [
       "Find logs at: <code>.\\wandb\\run-20240925_163553-kvhndqvc\\logs</code>"
      ],
      "text/plain": [
       "<IPython.core.display.HTML object>"
      ]
     },
     "metadata": {},
     "output_type": "display_data"
    },
    {
     "name": "stderr",
     "output_type": "stream",
     "text": [
      "wandb: Sweep Agent: Waiting for job.\n",
      "wandb: Sweep Agent: Exiting.\n"
     ]
    }
   ],
   "source": [
    "sweep_configs = {\n",
    "    \"method\": \"grid\",\n",
    "    \"metric\": {\n",
    "        \"name\": \"f1_score\",\n",
    "        \"goal\": \"maximize\"\n",
    "    },\n",
    "    \"parameters\": {\n",
    "        \"n_estimators\": {\n",
    "            \"values\": [8, 12, 16,20]\n",
    "        },\n",
    "        \"max_depth\": {\n",
    "            \"values\": [None, 5, 10, 15, 20]\n",
    "        },\n",
    "        \"min_samples_split\": {\n",
    "            \"values\": [2, 4, 8, 12]\n",
    "        }\n",
    "    }\n",
    "}\n",
    "# Then we initialize the sweep and run the sweep agent.\n",
    "\n",
    "sweep_id = wandb.sweep(\n",
    "    sweep=sweep_configs,\n",
    "    project=PROJECT_NAME\n",
    ")\n",
    "\n",
    "\n",
    "\n",
    "wandb.agent(\n",
    "    project=PROJECT_NAME,\n",
    "    sweep_id=sweep_id,\n",
    "    function=train_rf_model\n",
    ")"
   ]
  },
  {
   "cell_type": "code",
   "execution_count": null,
   "metadata": {},
   "outputs": [],
   "source": []
  }
 ],
 "metadata": {
  "kernelspec": {
   "display_name": "truck-delay",
   "language": "python",
   "name": "python3"
  },
  "language_info": {
   "codemirror_mode": {
    "name": "ipython",
    "version": 3
   },
   "file_extension": ".py",
   "mimetype": "text/x-python",
   "name": "python",
   "nbconvert_exporter": "python",
   "pygments_lexer": "ipython3",
   "version": "3.10.2"
  }
 },
 "nbformat": 4,
 "nbformat_minor": 2
}
